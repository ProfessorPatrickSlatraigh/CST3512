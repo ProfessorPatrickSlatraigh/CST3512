{
  "nbformat": 4,
  "nbformat_minor": 0,
  "metadata": {
    "colab": {
      "name": "CST3512_final_exam_pre-reading.ipynb",
      "provenance": [],
      "collapsed_sections": [],
      "authorship_tag": "ABX9TyORLu3gyD91dGJGaPh0kcLL",
      "include_colab_link": true
    },
    "kernelspec": {
      "name": "python3",
      "display_name": "Python 3"
    },
    "language_info": {
      "name": "python"
    }
  },
  "cells": [
    {
      "cell_type": "markdown",
      "metadata": {
        "id": "view-in-github",
        "colab_type": "text"
      },
      "source": [
        "<a href=\"https://colab.research.google.com/github/ProfessorPatrickSlatraigh/CST3512/blob/main/CST3512_final_exam_pre_reading.ipynb\" target=\"_parent\"><img src=\"https://colab.research.google.com/assets/colab-badge.svg\" alt=\"Open In Colab\"/></a>"
      ]
    },
    {
      "cell_type": "markdown",
      "source": [
        "#Billionaires   \n",
        "\n"
      ],
      "metadata": {
        "id": "LQqOBZOVSAEr"
      }
    },
    {
      "cell_type": "markdown",
      "source": [
        "##Pre-reading         \n",
        "\n",
        "<h4><b>CST3512 Spring 2022 Final Exam Exercise</b></h4>    \n",
        "\n",
        "You may familiarize yourself with the two `.csv` files in this notebook as you prepare for the CST3512 Spring 2022 final exam exercise.   "
      ],
      "metadata": {
        "id": "GiCkqXTaySsr"
      }
    },
    {
      "cell_type": "markdown",
      "source": [
        "Read data sources:    \n",
        "\n",
        "* **`forbes_Billionaires_2014.csv`**    \n",
        "* **`forbes_Billionaires_2022.csv`**   \n",
        "\n",
        "*note: the source data files have different formats, including different column names and different scales for the net worth of individuals (millions vs. billions)*"
      ],
      "metadata": {
        "id": "RH9hXrCKyucb"
      }
    },
    {
      "cell_type": "code",
      "source": [
        "!curl https://raw.githubusercontent.com/ProfessorPatrickSlatraigh/data/main/forbes_billionaires_2014.csv -o 'forbes_billionaires_2014.csv'"
      ],
      "metadata": {
        "id": "BuzcSb9oRLIb"
      },
      "execution_count": null,
      "outputs": []
    },
    {
      "cell_type": "code",
      "source": [
        "!curl https://raw.githubusercontent.com/ProfessorPatrickSlatraigh/data/main/forbes_billionaires_2022.csv  -o 'forbes_billionaires_2022.csv'"
      ],
      "metadata": {
        "id": "2gWTxVjKRamj"
      },
      "execution_count": null,
      "outputs": []
    },
    {
      "cell_type": "markdown",
      "source": [
        "\n",
        "\n",
        "---\n",
        "\n"
      ],
      "metadata": {
        "id": "c--nV06UNt86"
      }
    }
  ]
}