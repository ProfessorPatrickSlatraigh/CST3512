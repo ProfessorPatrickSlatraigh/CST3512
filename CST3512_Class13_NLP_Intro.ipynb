{
  "nbformat": 4,
  "nbformat_minor": 0,
  "metadata": {
    "colab": {
      "provenance": [],
      "collapsed_sections": [
        "V6QBwzb44LHG",
        "dRU0xXYS9J4r",
        "-AEd9W1OBuOQ",
        "-VugsKUTQv3O",
        "raRKGOoJUR6x",
        "lnWSZkUUVgIB",
        "Y3r4-Hpqa1L_",
        "3hkfLSzX0Ipv",
        "ENCzwv5A3XR-",
        "3njlslSME02T",
        "H1eMszNiHVP9",
        "YArTAVXkIGHx",
        "K8VfPMewI9us",
        "6ZgBvrcmJ1gk",
        "7vM_HRFWPF9v",
        "imnAY_H7Pr1r",
        "2MWb9EUfQLEL",
        "Z11Xg7YgQr7L",
        "8QkVsuggSwAc",
        "VsvXn5IadVag",
        "-WUo2NDka_O2",
        "Um2M1fdRqlN8",
        "mmervAtcs5fe"
      ],
      "include_colab_link": true
    },
    "kernelspec": {
      "name": "python3",
      "display_name": "Python 3"
    },
    "language_info": {
      "name": "python"
    }
  },
  "cells": [
    {
      "cell_type": "markdown",
      "metadata": {
        "id": "view-in-github",
        "colab_type": "text"
      },
      "source": [
        "<a href=\"https://colab.research.google.com/github/ProfessorPatrickSlatraigh/CST3512/blob/main/CST3512_Class13_NLP_Intro.ipynb\" target=\"_parent\"><img src=\"https://colab.research.google.com/assets/colab-badge.svg\" alt=\"Open In Colab\"/></a>"
      ]
    },
    {
      "cell_type": "markdown",
      "source": [
        "# Introduction to Natural Language Processing    \n",
        "\n",
        "*CST3512 Data and Information Management - II*\n",
        "\n",
        "**Class 13/14**    \n",
        "\n",
        "*Created by Professor Patrick: 02-Mar-2022 | updated: 14-Mar-2023 |\n",
        "\n",
        "The content of this notebook is derived from several sources including:\n",
        "*  **Basic Concepts of Natural Language Processing (NLP) Models and Python Implementation** by Prasun Biswas in [Toward Data Science](https://towardsdatascience.com/basic-concepts-of-natural-language-processing-nlp-models-and-python-implementation-88a589ce1fc0), 01-Jul-2021   \n",
        "*  **What Is the Difference Between Stemming and Lemmatization?** from [StackOverflow](https://stackoverflow.com/questions/1787110/what-is-the-difference-between-lemmatization-vs-stemming)    \n",
        "*  **Beginners Guide to Stemming in Python NLTK** from [MachineLearningKnowldge.ai](https://machinelearningknowledge.ai/beginners-guide-to-stemming-in-python-nltk/)    \n",
        "* **A simple yet effective guide on Natural Language Processing(NLP) using Python** Nov 8, 2020 by Prateek Nima from [Medium](https://medium.com/analytics-vidhya/a-simple-yet-effective-guide-on-natural-language-processing-nlp-using-python-44599488bf20)   \n",
        "\n"
      ],
      "metadata": {
        "id": "OUmE5DGjvJa0"
      }
    },
    {
      "cell_type": "markdown",
      "source": [
        "For a human it’s pretty easy to understand language but machines are not capable to recognize it easily.  Natural Language Processing (NLP) enables computers to interpret and to understand the way humans communicate using language.  But NLP does not interpret language the same way humans understand language."
      ],
      "metadata": {
        "id": "LtMik5YvvYv8"
      }
    },
    {
      "cell_type": "markdown",
      "source": [
        "### NLTK (Natural Language ToolKit)    "
      ],
      "metadata": {
        "id": "AbCicMDjeshS"
      }
    },
    {
      "cell_type": "markdown",
      "source": [
        "The Natural Language Toolkit (NLTK) is a platform used for building Python programs that work with human language data for applying in statistical natural language processing (NLP). It contains text processing libraries for tokenization, parsing, classification, stemming, tagging and semantic reasoning. This notebook steps through the basics of NLP using the NLTK in Python."
      ],
      "metadata": {
        "id": "EX7Agag9w7Az"
      }
    },
    {
      "cell_type": "markdown",
      "source": [
        "### Initial Housekeeping (NLTK)    \n",
        "\n",
        "First, import requisite libraries and access desired data sources    \n"
      ],
      "metadata": {
        "id": "TZptTrUb118i"
      }
    },
    {
      "cell_type": "code",
      "source": [
        "# Setup wordcloud and nltk\n",
        "!pip install -q wordcloud\n",
        "import wordcloud\n",
        "import nltk"
      ],
      "metadata": {
        "id": "UIrY026I2Bgs"
      },
      "execution_count": 1,
      "outputs": []
    },
    {
      "cell_type": "code",
      "source": [
        "# Download and import book sources from nltk\n",
        "nltk.download('book') \n",
        "from nltk.book import *"
      ],
      "metadata": {
        "id": "27ggUk4D2Sbc"
      },
      "execution_count": null,
      "outputs": []
    },
    {
      "cell_type": "code",
      "source": [
        "# Get stopwords for English language from NLTK\n",
        "stopwords = nltk.corpus.stopwords.words('english')"
      ],
      "metadata": {
        "id": "3bB7WyYKTQ7X"
      },
      "execution_count": 3,
      "outputs": []
    },
    {
      "cell_type": "code",
      "source": [
        "# Get WordTokenize to tokenize word concepts \n",
        "from nltk.tokenize import word_tokenize"
      ],
      "metadata": {
        "id": "7lVKq3sevg4a"
      },
      "execution_count": 4,
      "outputs": []
    },
    {
      "cell_type": "code",
      "source": [
        "# Get Lemmatizer and Stemmer (Porter, Snowball, Lancaster, Regexp) from NLTK\n",
        "# The Snowball Stemmer may be preferred as it is more modern\n",
        "\n",
        "# Get PorterStemmer from NLTK\n",
        "porter_stemmer = nltk.stem.PorterStemmer()\n",
        "\n",
        "# Get SnowballStemmer from NLTK\n",
        "# SnowballStemmer needs a language parameter set\n",
        "snowball_stemmer = nltk.stem.SnowballStemmer(language='english')\n",
        "\n",
        "# Get LancasterStemmer from NLTK\n",
        "lancaster_stemmer = nltk.stem.LancasterStemmer()\n",
        "\n",
        "# Get the RegexpStemmer from NLTK\n",
        "from nltk.stem import RegexpStemmer\n",
        "# Instances of RegexpStemmer require a regex as a positional argument\n",
        "# RegexpStemmer calls may also provide a kwarg for min(imum) length\n",
        "regexp_stemmer = nltk.stem.RegexpStemmer('ing$|s$|e$|able$', min=4)\n",
        "\n",
        "# Get Lemmatizer from NLTK\n",
        "lemmatizer = nltk.stem.WordNetLemmatizer()"
      ],
      "metadata": {
        "id": "GG3E04-c2h2P"
      },
      "execution_count": 5,
      "outputs": []
    },
    {
      "cell_type": "code",
      "source": [
        "# Download for current Lemmatization reference\n",
        "nltk.download('omw-1.4')"
      ],
      "metadata": {
        "id": "aKsjeO9tMNCG"
      },
      "execution_count": null,
      "outputs": []
    },
    {
      "cell_type": "code",
      "source": [
        "# Get tokeniation (tagging) capability for parts of speech using spacy library\n",
        "import spacy\n",
        "# Get Tokenizer class from spacy module\n",
        "from spacy.tokenizer import Tokenizer\n",
        "# Instantiate an nlp object with \"en_core_web_sm\" argument\n",
        "nlp = spacy.load(\"en_core_web_sm\")"
      ],
      "metadata": {
        "id": "41nUi-3GTjz-"
      },
      "execution_count": null,
      "outputs": []
    },
    {
      "cell_type": "code",
      "source": [
        "# Import regular expressions for searches and filtering\n",
        "import re"
      ],
      "metadata": {
        "id": "ZoXe9SAs4Qmz"
      },
      "execution_count": 8,
      "outputs": []
    },
    {
      "cell_type": "markdown",
      "source": [
        "\n",
        "\n",
        "---\n",
        "\n"
      ],
      "metadata": {
        "id": "rgqbarR_RTew"
      }
    },
    {
      "cell_type": "markdown",
      "source": [
        "Natural languages are a free form of text which are unstructured in nature. Cleaning and preparing the text data to extract features is very important for an NLP approach to develop any model(s). This notebook covers the basic but important steps and shows how to implement them in Python using NLTK and other packages with the goal of developing an NLP-based classification model."
      ],
      "metadata": {
        "id": "oC21TftYxMMP"
      }
    },
    {
      "cell_type": "markdown",
      "source": [
        "The following phases of the approach will be described:\n",
        "\n",
        "A. NLP Data Wrangling and Tokenization        \n",
        "B. Vectorization/Word Embedding    \n",
        "C. Model Development"
      ],
      "metadata": {
        "id": "tAvsJ4eVxyXI"
      }
    },
    {
      "cell_type": "markdown",
      "source": [
        "## A. NLP Data Wrangling and Tokenization (NLTK)       \n",
        "\n",
        "Data cleaning is a basic but very important step in NLP. This section includes a few steps in an approach for data cleaning.  Depending on the source and nature of the text data being analyzed, new steps may be added and the steps considered may be refined.  As with any data science analysis, a continuos improvement approach is recommended where learnings are applied to every step in the approach and not just to final analysis and presentation.     \n"
      ],
      "metadata": {
        "id": "ghlJwIb_yy7N"
      }
    },
    {
      "cell_type": "markdown",
      "source": [
        "---"
      ],
      "metadata": {
        "id": "7WE3KmEiDmCA"
      }
    },
    {
      "cell_type": "markdown",
      "source": [
        "**Example Line of Text**\n",
        "\n",
        "For this exercise a simple line of text is created through the assignment of a string to the variable `line`.    \n",
        "\n",
        "Choose one of the following assignment statements to prepare the variable `line` with text you will process, or add a new assignment with any text you like assigned to the variable `line`."
      ],
      "metadata": {
        "id": "YQmNweQD4goW"
      }
    },
    {
      "cell_type": "code",
      "source": [
        "# using a moderately complex single line of text\n",
        "line = 'Reaching out for HELP. Please meet me in LONDON at 6 a.m xyz@abc.com #urgent!'"
      ],
      "metadata": {
        "id": "E63DGFOg4nm6"
      },
      "execution_count": 9,
      "outputs": []
    },
    {
      "cell_type": "code",
      "source": [
        "# using the Gettysburg Address\n",
        "line = \"\"\"  Four score and seven years ago our fathers brought forth on this\n",
        "continent a new nation, conceived in liberty and dedicated to the\n",
        "proposition that all men are created equal. Now we are engaged in\n",
        "a great civil war, testing whether that nation or any nation so\n",
        "conceived and so dedicated can long endure. We are met on a great\n",
        "battlefield of that war. We have come to dedicate a portion of\n",
        "that field as a final resting-place for those who here gave their\n",
        "lives that that nation might live. It is altogether fitting and\n",
        "proper that we should do this. But in a larger sense, we cannot\n",
        "dedicate, we cannot consecrate, we cannot hallow this ground.\n",
        "The brave men, living and dead who struggled here have consecrated\n",
        "it far above our poor power to add or detract. The world will\n",
        "little note nor long remember what we say here, but it can never\n",
        "forget what they did here. It is for us the living rather to be\n",
        "dedicated here to the unfinished work which they who fought here\n",
        "have thus far so nobly advanced. It is rather for us to be here\n",
        "dedicated to the great task remaining before us--that from these\n",
        "honored dead we take increased devotion to that cause for which\n",
        "they gave the last full measure of devotion--that we here highly\n",
        "resolve that these dead shall not have died in vain, that this\n",
        "nation under God shall have a new birth of freedom, and that\n",
        "government of the people, by the people, for the people shall\n",
        "not perish from the earth. \"\"\""
      ],
      "metadata": {
        "id": "iUAi9r7R5h29"
      },
      "execution_count": null,
      "outputs": []
    },
    {
      "cell_type": "code",
      "source": [
        "# create your own assignment of text to `line` here   \n",
        "\n",
        "# line = \"\"\" \"\"\"\n"
      ],
      "metadata": {
        "id": "b1trxWVnD5q9"
      },
      "execution_count": null,
      "outputs": []
    },
    {
      "cell_type": "markdown",
      "source": [
        "---"
      ],
      "metadata": {
        "id": "syIgme4UD_5O"
      }
    },
    {
      "cell_type": "markdown",
      "source": [
        "###1. Transform to lower case    \n",
        "\n",
        "Convert all the text to lowercase to maintain uniformity in subsequent analysis.  Of course, all text could just as easily be converted to upper case, but it is generally accepted practice to work with text all in lower case.    \n"
      ],
      "metadata": {
        "id": "5FWWXOSP6KRl"
      }
    },
    {
      "cell_type": "code",
      "source": [
        "# the line variable string before transforming to lower case\n",
        "print(line)"
      ],
      "metadata": {
        "id": "2znZ3RjbSOeB"
      },
      "execution_count": null,
      "outputs": []
    },
    {
      "cell_type": "code",
      "source": [
        "# Display text before transformation to lower case\n",
        "print('The original text:\\t\\t', line)\n",
        "# Transform text to lower case\n",
        "line = line.lower()\n",
        "# Display text after transformation to lower case\n",
        "print('The text after .lower():\\t', line)"
      ],
      "metadata": {
        "id": "E5gn2Z--7DFR"
      },
      "execution_count": null,
      "outputs": []
    },
    {
      "cell_type": "markdown",
      "source": [
        "The code example beloew works with a different example text that the preview `line` variable. A lower case version of the text to be analyzed is generated using the `.lower()` method in the following example.  If the data cleaning steps were to be performed in a logical sequence, transforming to lower case would be done first.  The two may, of course be combined as they are in the code example below.    \n"
      ],
      "metadata": {
        "id": "j-YAuBf-9tf-"
      }
    },
    {
      "cell_type": "markdown",
      "source": [
        "### 2. Tokenization    \n",
        "\n"
      ],
      "metadata": {
        "id": "tAjphGQSMBfP"
      }
    },
    {
      "cell_type": "markdown",
      "source": [
        "Tokenization is the process of breaking text down into words (which are representative of concepts) and can be achieved through several methods.  The particular method applied can be selected and refined based upon the nature of the source of the text and the use case for the analysis.    \n",
        "\n",
        "In other data science work the fundamental task of tokenization has been performed using something as straightforward as the `split()` string method.  Three methods are presented here:    \n",
        "1. **split()**    \n",
        "2. **Regex**    \n",
        "3. **NLTK**    "
      ],
      "metadata": {
        "id": "jBlaLPg2N4Y7"
      }
    },
    {
      "cell_type": "markdown",
      "source": [
        "**Tokenization Using `split()` Method**  \n",
        "\n",
        "The following example assigns the text from the string `line` to a new string `split_tokenized_line` and then applies the `split()` method to the new string."
      ],
      "metadata": {
        "id": "fZs9pJF8Pqfr"
      }
    },
    {
      "cell_type": "code",
      "source": [
        "# Display the text string before tokenization\n",
        "print('Line is: ', line)"
      ],
      "metadata": {
        "id": "qBDcwcvzCrS1"
      },
      "execution_count": null,
      "outputs": []
    },
    {
      "cell_type": "code",
      "source": [
        "# Use the split() method to tokenize a string of text\n",
        "\n",
        "# Tokenize the string into a list using the .split() method\n",
        "split_tokenized_line = line.split(' ')\n",
        "# Display the list of tokenized words from the .split() method\n",
        "print('List of tokens based on .split():', split_tokenized_line)"
      ],
      "metadata": {
        "id": "XyRcrEIoN4uB"
      },
      "execution_count": null,
      "outputs": []
    },
    {
      "cell_type": "markdown",
      "source": [
        "Notice in the example above that the `split()` method is simply parsing the string into a list of distrinct strings based on occurrences of the delimiter character, which by default is a space (' ').  The `split()` [method may be given a different character as a delimiter](https://www.w3schools.com/python/ref_string_split.asp).  Regardless of the delimiter character used, parsing based on a single character results in a list of strings which may contain punctuation and other noise. "
      ],
      "metadata": {
        "id": "hqfzKM8nRPd3"
      }
    },
    {
      "cell_type": "markdown",
      "source": [
        "**Tokenization Using Regular Expression (Regex)**        \n",
        "\n",
        "A bit more sophistication may be achievable by employing the use of regular expressions (regex) to perform tokenization of text into a list of word strings as the following code demonstrates.    \n"
      ],
      "metadata": {
        "id": "UBA2Oso2R5Iy"
      }
    },
    {
      "cell_type": "code",
      "source": [
        "# Display the text string before tokenization\n",
        "print('Line is: ', line)"
      ],
      "metadata": {
        "id": "Lp_UuRxSDJrt"
      },
      "execution_count": null,
      "outputs": []
    },
    {
      "cell_type": "code",
      "source": [
        "# Using regular expressions to tokenize a string of text\n",
        "\n",
        "# Tokenize the string into a list using the Regexp method\n",
        "regex_tokenized_line = re.findall(r\"[\\w]+\", line)\n",
        "# Display the list of tokenized words from the Regex method\n",
        "print('List of tokens based on re.find():', regex_tokenized_line)"
      ],
      "metadata": {
        "id": "UJW6dJn0Sdgx"
      },
      "execution_count": null,
      "outputs": []
    },
    {
      "cell_type": "markdown",
      "source": [
        "The tokenized example above results in a list which more accurately repersents the words in the line of text though some content such as the time of day and email address have been fragmented into pieces which have lost the original meaning. "
      ],
      "metadata": {
        "id": "sjHZBL_NTQ0t"
      }
    },
    {
      "cell_type": "markdown",
      "source": [
        "**Tokenization Using NLTK**      \n",
        "\n",
        "Because of the complexities of working with natural language it can be seen that a simple method of tokenization using the `split()` method is not adequate, nor is a somewhat more advanced method of using regular expressions.    \n",
        "\n",
        "Fortunately, the NLTK toolkit provides some more sophisticated means of tokenizaion of natural language text as the code in the following examples demonstrate.  There are three methods of tokenization available in NLTK:    \n",
        "1. NLTK Word Tokenizer    \n",
        "2. NLTK Regexp Tokenizer    \n",
        "3. NLTK WhiteSpace Tokenizer    \n"
      ],
      "metadata": {
        "id": "hvWdyBXiTmsW"
      }
    },
    {
      "cell_type": "markdown",
      "source": [
        "**NLTK Word Tokenizer**    \n",
        "\n",
        "The following code provides an example of the tokenization of a string of text using the NLTK Word Tokenizer method. "
      ],
      "metadata": {
        "id": "fTPbk2zTYP2O"
      }
    },
    {
      "cell_type": "code",
      "source": [
        "# Display the text string before tokenization\n",
        "print('Line is: ', line)"
      ],
      "metadata": {
        "id": "PduNFy2MEpxK"
      },
      "execution_count": null,
      "outputs": []
    },
    {
      "cell_type": "code",
      "source": [
        "# Using NLTK `word_tokenize()` to tokenize a string of text\n",
        "# This method requires the following import\n",
        "# from nltk import word_tokenize\n",
        "\n",
        "# Tokenize the string into a list using the word_tokenize() method\n",
        "nltkword_tokenized_line = word_tokenize(line)\n",
        "# Display the list of tokenized words from the Regex method\n",
        "print('The word_tokenize result is: ', nltkword_tokenized_line)"
      ],
      "metadata": {
        "id": "slVgIdRiVBar"
      },
      "execution_count": null,
      "outputs": []
    },
    {
      "cell_type": "markdown",
      "source": [
        "**NLTK Regexp Tokenizer**    \n",
        "\n",
        "The following code provides an example of the tokenization of a string of text using the NLTK Regexp Tokenizer method. "
      ],
      "metadata": {
        "id": "fkeWSjizYlxP"
      }
    },
    {
      "cell_type": "code",
      "source": [
        "# Display the text string before tokenization\n",
        "print('Line is: ', line)"
      ],
      "metadata": {
        "id": "Yn8gHgB9GQFU"
      },
      "execution_count": null,
      "outputs": []
    },
    {
      "cell_type": "code",
      "source": [
        "# Using NLTK RegexpTokenizer to tokenize a string of text\n",
        "\n",
        "# Tokenize the string into a list using the RegexpTokenizer method\n",
        "reg_tokenizer = nltk.tokenize.RegexpTokenizer(r\"[A-Za-z]+\")\n",
        "nltkregexp_tokenized_line = reg_tokenizer.tokenize(line)\n",
        "# Display the list of tokenized words from the Regex method\n",
        "print('The NLTK Regexp_tokenize result is: ', nltkregexp_tokenized_line)"
      ],
      "metadata": {
        "id": "ywmQJScVY1Tj"
      },
      "execution_count": null,
      "outputs": []
    },
    {
      "cell_type": "markdown",
      "source": [
        "**NLTK WhiteSpace Tokenizer**    \n",
        "\n",
        "The following code provides an example of the tokenization of a string of text using the NLTK WhiteSpace Tokenizer method. "
      ],
      "metadata": {
        "id": "xu1YDhVIZn8N"
      }
    },
    {
      "cell_type": "code",
      "source": [
        "# Display the text string before tokenization\n",
        "print('Line is: ', line)"
      ],
      "metadata": {
        "id": "MxV0ldZCGSDt"
      },
      "execution_count": null,
      "outputs": []
    },
    {
      "cell_type": "code",
      "source": [
        "# Using NLTK WhiteSpaceTokenizer to tokenize a string of text\n",
        "\n",
        "# Tokenize the string into a list using the WhiteSpace Tokenizer method\n",
        "# Using NLTK RegexpTokenizer to tokenize a string of text\n",
        "space_tokenizer = nltk.tokenize.WhitespaceTokenizer()\n",
        "nltkwspace_tokenized_line = space_tokenizer.tokenize(line)\n",
        "# Display the list of tokenized words from the Regex method\n",
        "print('The NLTK WhitespaceTokenizer result is: ', nltkwspace_tokenized_line)"
      ],
      "metadata": {
        "id": "V-HdvWjuZtwz"
      },
      "execution_count": null,
      "outputs": []
    },
    {
      "cell_type": "markdown",
      "source": [
        "**Comparing the  `split`, `regex`, `nltk` methods of tokenization**"
      ],
      "metadata": {
        "id": "fycqeRtgVnbJ"
      }
    },
    {
      "cell_type": "code",
      "source": [
        "print('Original line of text:')\n",
        "print(line, '\\n')\n",
        "print('Text tokenized with split():')\n",
        "print(split_tokenized_line, '\\n')\n",
        "print('Text tokenized with Regex:')\n",
        "print(regex_tokenized_line, '\\n')\n",
        "print('Text tokenized with NLTK Word:')\n",
        "print(nltkword_tokenized_line, '\\n')\n",
        "print('Text tokenized with NLTK Regexp:')\n",
        "print(nltkregexp_tokenized_line, '\\n')\n",
        "print('Text tokenized with NLTK WhiteSpace:')\n",
        "print(nltkwspace_tokenized_line, '\\n')"
      ],
      "metadata": {
        "id": "qmkIH9RIVtTY"
      },
      "execution_count": null,
      "outputs": []
    },
    {
      "cell_type": "markdown",
      "source": [
        "\n",
        "\n",
        "---\n",
        "\n"
      ],
      "metadata": {
        "id": "B170AsyOgdQE"
      }
    },
    {
      "cell_type": "markdown",
      "source": [
        "### Tokenizaton with `Tensorflow`    \n",
        "    \n",
        "This section works with the **Google - NLP Zero to Hero** series of videos and exercises.    \n",
        "\n",
        "  - [Part 1 Introduction Video](https://youtu.be/fNxaJsNG3-s)    \n",
        "  - [The Google - NLP Zero to Hero playlist (on YouTube)](https://goo.gle/nlp-z2h)    \n",
        "  - [Colab notebook for Part 1 Introduction Video](https://goo.gle/2uO6Gee) \n",
        "\n",
        "\n"
      ],
      "metadata": {
        "id": "LCDYd9offMod"
      }
    },
    {
      "cell_type": "markdown",
      "source": [
        "<c><font color='green'>**This is a good time to watch the [Google - NLP Hero to Zero: Part 1 Introduction Video](https://youtu.be/fNxaJsNG3-s) if you have not already seen it.**</font></c>     \n"
      ],
      "metadata": {
        "id": "jlFQ7UU9gyCS"
      }
    },
    {
      "cell_type": "markdown",
      "source": [
        "Here is the code from the Colab notebook mentioned in the **Google - NLP Zero to Hero: Part 1 Introduction** video:     "
      ],
      "metadata": {
        "id": "rGSy0mqIfRZ5"
      }
    },
    {
      "cell_type": "code",
      "source": [
        "from tensorflow.keras.preprocessing.text import Tokenizer\n",
        "\n",
        "sentences = [\n",
        "    'i love my Dog',\n",
        "    'I, love my cat',\n",
        "    'You love my dog!'\n",
        "]\n",
        "\n",
        "tokenizer = Tokenizer(num_words = 100)\n",
        "tokenizer.fit_on_texts(sentences)\n",
        "word_index = tokenizer.word_index\n",
        "print(word_index)"
      ],
      "metadata": {
        "id": "7YVRFuR_gX4J"
      },
      "execution_count": null,
      "outputs": []
    },
    {
      "cell_type": "markdown",
      "source": [
        "\n",
        "\n",
        "---\n",
        "\n"
      ],
      "metadata": {
        "id": "wThRljTegb75"
      }
    },
    {
      "cell_type": "markdown",
      "source": [
        "###3. Remove stopwords    \n",
        "\n",
        "There are words which are very commonly used but have little meaning when humans use language, those words do not add much value. Depending on the source of data and analysis to be performed, there may be words which are not required for the natural language processing approach. It is best to delete these words from the data.  The set of words to be deleted because they add little value is referred to as **stopwords** in NLP.    \n",
        "\n",
        "**Stop Words** -  a commonly used word (such as “the”, “a”, “an”, “in”) that a search engine has been programmed to ignore, both when indexing entries for searching and when retrieving them as the result of a search query.    \n",
        " \n",
        "We would not want these words to take up space in our database, or taking up valuable processing time. For this, we can remove them easily, by storing a list of words that you consider to stop words.     \n",
        "\n",
        "NLTK(Natural Language Toolkit) in Python has a list of stopwords stored in 16 different languages. Find them in the nltk_data directory: home/pratima/nltk_data/corpora/stopwords is the directory address.(Do not forget to change your home directory name)    \n",
        "\n",
        "\n",
        "This example focuses on English-language stopwords but, of course, every language and use case may have its own set of stopwords.\n"
      ],
      "metadata": {
        "id": "V6QBwzb44LHG"
      }
    },
    {
      "cell_type": "markdown",
      "source": [
        "**Using NLTK to Remove Stopwords**\n",
        "\n"
      ],
      "metadata": {
        "id": "HTG0hROCuwih"
      }
    },
    {
      "cell_type": "code",
      "source": [
        "# from nltk.corpus import stopwords             # already done\n",
        "# from nltk.tokenize import word_tokenize       # already done\n",
        " \n",
        "example_sentence = \"\"\"This is a sample sentence,\n",
        "                  showing off the stop words filtration.\"\"\"\n",
        " \n",
        "# stop_words = set(stopwords.words('english'))  # deprecate for stopwords\n",
        " \n",
        "word_tokens = word_tokenize(example_sentence)\n",
        " \n",
        "filtered_sentence = [w for w in word_tokens if not w.lower() in stopwords]\n",
        " \n",
        "filtered_sentence = []\n",
        " \n",
        "for w in word_tokens:\n",
        "    if w not in stopwords:\n",
        "        filtered_sentence.append(w)\n",
        " \n",
        "print(word_tokens)\n",
        "print(filtered_sentence)"
      ],
      "metadata": {
        "id": "E5PO5nLGvWcP"
      },
      "execution_count": null,
      "outputs": []
    },
    {
      "cell_type": "markdown",
      "source": [
        "*The following code extends the list of stopwords to use.*"
      ],
      "metadata": {
        "id": "pBbRzYL4xmiv"
      }
    },
    {
      "cell_type": "markdown",
      "source": [
        "Applying the extended list of stopwords to the list."
      ],
      "metadata": {
        "id": "pDK0EcW9xvfJ"
      }
    },
    {
      "cell_type": "code",
      "source": [
        "# Additional stopwords\n",
        "extra_list = ['let', 'may', 'might', 'must', 'need', 'apologies', 'meet']\n",
        "# Extending the list of stopwords\n",
        "stopwords.extend(extra_list)\n",
        "# Display the extended list of stopwords\n",
        "print('Stopwords to use:', stopwords)"
      ],
      "metadata": {
        "id": "r0gayW-v29pa"
      },
      "execution_count": null,
      "outputs": []
    },
    {
      "cell_type": "markdown",
      "source": [
        "**Lemmatization and Stemming**\n",
        "\n",
        "Stemming just removes or stems the last few characters of a word, often leading to incorrect meanings and spelling. Lemmatization considers the context and converts the word to its meaningful base form, which is called Lemma.\n",
        "\n",
        "Stemming is the process of reducing the word to its word stem that affixes to suffixes and prefixes or to roots of words known as a lemma. In simple words stemming is reducing a word to its base word or stem in such a way that the words of similar kind lie under a common stem. For example – The words care, cared and caring lie under the same stem ‘care’. Stemming is important in NLP as an alternative to Lemmatizing.\n",
        "\n",
        "\n",
        "Sometimes, the same word can have multiple different Lemmas. We should identify the Part of Speech (POS) tag for the word in that specific context. Here are the examples to illustrate all the differences and use cases:\n",
        "\n",
        "1. If you lemmatize the word 'Caring', it would return 'Care'. If you stem, it would return 'Car' and this is erroneous.\n",
        "2. If you lemmatize the word 'Stripes' in verb context, it would return 'Strip'. If you lemmatize it in noun context, it would return 'Stripe'. If you just stem it, it would just return 'Strip'.\n",
        "3. You would get same results whether you lemmatize or stem words such as walking, running, swimming... to walk, run, swim etc.\n",
        "4. Lemmatization is computationally expensive since it involves look-up tables and what not.     \n",
        "\n",
        "If you have a large dataset and performance is an issue, go with Stemming. Remember you can also add your own rules to Stemming. If accuracy is paramount and dataset isn't humongous, go with Lemmatization.\n",
        "\n",
        "*source: StackOverflow, [What Is the Difference Betweem Stemming and Lemmatization?](https://stackoverflow.com/questions/1787110/what-is-the-difference-between-lemmatization-vs-stemming)*\n"
      ],
      "metadata": {
        "id": "rLs1PwBs8auT"
      }
    },
    {
      "cell_type": "markdown",
      "source": [
        "**Glossary**    \n",
        "\n",
        "* **whitespace tokenizer** - a tokenizer that splits on and discards only whitespace characters returning individual words or terms as tokens.    \n",
        "\n",
        "* **Porter Stemming** - The Porter stemming algorithm (or 'Porter stemmer') is a process for removing the most common morphological and inflexional endings from words in English. Its main use is as part of a term normalisation process that is usually done when setting up Information Retrieval systems.    \n",
        "\n",
        "* **Snowball Stemmer** - This algorithm is also known as the Porter2 stemming algorithm. It is almost universally accepted as better than the Porter stemmer, even being acknowledged as such by the individual who created the Porter stemmer.    \n",
        "\n",
        "* **Lancaster Stemmer** - is simple but it tends to produce results with over stemming. Over-stemming causes the stems to be not linguistic, or they may have no meaning.    \n",
        "\n",
        "* **Regexp Stemmer** - uses regular expressions (regex) to identify morphological affixes. Any substrings that match the regular expressions will be removed.\n"
      ],
      "metadata": {
        "id": "qZxRAqc-AIX9"
      }
    },
    {
      "cell_type": "markdown",
      "source": [
        "###4. Lemmatization    \n",
        "\n",
        "Lemmatization helps to reduce the words into a single form taking the context of the use of the word into consideration.  The resultant term from Lemmatization is called a lemma. The following example defines a function to use a Lemmatization method from NLTK.  Other methods may prove more effective depending on the data source and use case."
      ],
      "metadata": {
        "id": "dRU0xXYS9J4r"
      }
    },
    {
      "cell_type": "code",
      "source": [
        "# Define a function to Lemmatize text and to tokenize based on whitespace\n",
        "# if it has not been downloade before, execute the following download\n",
        "# nltk.download('omw-1.4')\n",
        "\n",
        "def lemmatize_text(text):\n",
        "    w_tokenizer = nltk.tokenize.WhitespaceTokenizer()\n",
        "    lemmatizer = nltk.stem.WordNetLemmatizer()\n",
        "    return [lemmatizer.lemmatize(w) for w in w_tokenizer.tokenize(text)]\n",
        "\n",
        "# Display the line without tokenization and Lemmatization\n",
        "print('The line without tokenization and Lemmatization: \\n', line)\n",
        "# Invoke the function defined above and display result\n",
        "lemma_line = lemmatize_text(line) \n",
        "print('The line after tokenization and Lemmatization: \\n', lemma_line)\n"
      ],
      "metadata": {
        "id": "e1jEgSBV_UTJ"
      },
      "execution_count": null,
      "outputs": []
    },
    {
      "cell_type": "markdown",
      "source": [
        "###5. Stemming    \n",
        "\n",
        "Stemming is a faster, more efficient way to attempto to reduce words into their root form. As mentioned earlier, there is a trade-off of accuracy in return for the efficiency of stemming vs. Lemmatization.  The following example defines a function to perform whitespace tokenization and stemming of a line of text then invokes that function.  In this example the NLTK Porter method of stemming is used.  Depending on the nature of the source text and the use case(s) for the analysis, different methods may be considered for stemming. "
      ],
      "metadata": {
        "id": "-AEd9W1OBuOQ"
      }
    },
    {
      "cell_type": "markdown",
      "source": [
        "**Porter Stemming**"
      ],
      "metadata": {
        "id": "yUM61ARbHeOn"
      }
    },
    {
      "cell_type": "code",
      "source": [
        "# Define function for Porter stemming of text tokenized for whitespaces\n",
        "def stem_porter(text):\n",
        "    w_tokenizer = nltk.tokenize.WhitespaceTokenizer()\n",
        "    ps = nltk.PorterStemmer()\n",
        "    return [ps.stem(w) for w in w_tokenizer.tokenize(text)]\n",
        "# Display the original line\n",
        "print('The line without Porter Stemming: \\n', line)\n",
        "# Invoke the method defined for Porter stemming and display the result\n",
        "porter_stem_line = stem_porter(line)\n",
        "print('The line after Porter Stemming: \\n', porter_stem_line)"
      ],
      "metadata": {
        "id": "uq0X8IGJBvrM"
      },
      "execution_count": null,
      "outputs": []
    },
    {
      "cell_type": "markdown",
      "source": [
        "**Snowball Stemming**    \n",
        "\n",
        "A few common rules of Snowball stemming are:    \n",
        "* ILY  -----> ILI    \n",
        "* LY   -----> `Nill`    \n",
        "* SS   -----> SS    \n",
        "* S    -----> `Nill`    \n",
        "* ED   -----> E, `Nill`    \n",
        "\n",
        "**Nill** means the suffix is replaced with nothing and is just removed.    \n",
        "\n",
        "There may be cases where these rules vary depending on the words. As in the case of the suffix ‘ed’ if the words are ‘cared’ and ‘bumped’ they will be stemmed as ‘care‘ and ‘bump‘. Hence, here in cared the suffix is considered as ‘d’ only and not ‘ed’. \n",
        "\n",
        "The word ‘stemmed‘ is replaced with the word ‘stem‘ and not ‘stemmed‘. Therefore, the suffix depends on the word.\n",
        "\n",
        "Here are a few examples:-\n",
        "```\n",
        "WORD           STEM\n",
        "cared          care\n",
        "university     univers\n",
        "fairly         fair\n",
        "easily         easili\n",
        "singing        sing\n",
        "sings          sing\n",
        "sung           sung\n",
        "singer         singer\n",
        "sportingly     sport\n",
        "```"
      ],
      "metadata": {
        "id": "_15H2iHrBDP0"
      }
    },
    {
      "cell_type": "code",
      "source": [
        "# Define function for Snowball stemming of text tokenized for whitespaces\n",
        "def stem_snowball(text):\n",
        "    w_tokenizer = nltk.tokenize.WhitespaceTokenizer()\n",
        "    # Bear in mind that the Snowball stemmer needs language defined\n",
        "    ps = nltk.SnowballStemmer(language='english')\n",
        "    return [ps.stem(w) for w in w_tokenizer.tokenize(text)]\n",
        "# Display the original line\n",
        "print('The line without Snowball Stemming: \\n', line)\n",
        "# Invoke the method defined for Snowball stemming and display the result\n",
        "snowball_stem_line = stem_snowball(line)\n",
        "print('The line after Snowball Stemming: \\n', snowball_stem_line)"
      ],
      "metadata": {
        "id": "pXGICkO4IiZp"
      },
      "execution_count": null,
      "outputs": []
    },
    {
      "cell_type": "markdown",
      "source": [
        "**Lancaster Stemmer**    \n",
        "\n",
        "There is a third method of stemming available, Lancaster Stemming. \n",
        "\n",
        "Lancaster Stemmer is simple but it tends to produce results with over stemming. Over-stemming causes the stems to be not linguistic, or they may have no meaning.\n",
        "\n",
        "In NLTK, there is a module LancasterStemmer() that supports the Lancaster stemming algorithm.  The following code shows an example of the application of Lancaster Stemming along with whitespace tokenization.    \n"
      ],
      "metadata": {
        "id": "jfAgw67fJxy9"
      }
    },
    {
      "cell_type": "code",
      "source": [
        "# Define function for Lancaster stemming of text tokenized for whitespaces\n",
        "def stem_lancaster(text):\n",
        "    w_tokenizer = nltk.tokenize.WhitespaceTokenizer()\n",
        "    # Bear in mind that the Lancaster stemmer needs language defined\n",
        "    ps = nltk.LancasterStemmer()\n",
        "    return [ps.stem(w) for w in w_tokenizer.tokenize(text)]\n",
        "# Display the original line\n",
        "print('The line without Lancaster Stemming: \\n', line)\n",
        "# Invoke the method defined for Lancaster stemming and display the result\n",
        "lancaster_stem_line = stem_lancaster(line)\n",
        "print('The line after Lancaster Stemming: \\n', lancaster_stem_line)"
      ],
      "metadata": {
        "id": "mUPFNR_AKki6"
      },
      "execution_count": null,
      "outputs": []
    },
    {
      "cell_type": "markdown",
      "source": [
        "**RegexpStemmer**\n",
        "\n",
        "Regex stemmer uses regular expressions to identify morphological affixes. Any substrings that match the regular expressions will be removed.\n",
        "\n",
        "In NLTK, there is a module `RegexpStemmer()` that supports the Regex stemming algorithm."
      ],
      "metadata": {
        "id": "7NJQFwOYMHaG"
      }
    },
    {
      "cell_type": "code",
      "source": [
        "# Define function for Regexp stemming of text tokenized for whitespaces\n",
        "def stem_regexp(text):\n",
        "    w_tokenizer = nltk.tokenize.WhitespaceTokenizer()\n",
        "    # Bear in mind that the Regexp stemmer needs a regex defined\n",
        "    ps = nltk.RegexpStemmer('ing$|s$|e$|able$', min=4)\n",
        "    return [ps.stem(w) for w in w_tokenizer.tokenize(text)]\n",
        "# Display the original line\n",
        "print('The line without Regexp Stemming: \\n', line)\n",
        "# Invoke the method defined for Regexp stemming and display the result\n",
        "regexp_stem_line = stem_regexp(line)\n",
        "print('The line after Regexp Stemming: \\n', regexp_stem_line)"
      ],
      "metadata": {
        "id": "Z1gGR-iVNVoA"
      },
      "execution_count": null,
      "outputs": []
    },
    {
      "cell_type": "markdown",
      "source": [
        "*Display of the result of Lemmatization vs. the four methods of stemming compared with the original text follow.  The following code requires the execution of each of the five snippets above to create the variables to print.*"
      ],
      "metadata": {
        "id": "Ip8pUTTwNv_0"
      }
    },
    {
      "cell_type": "code",
      "source": [
        "print(\"Lemmatization:\")\n",
        "print(lemma_line, \"\\n\")\n",
        "print(\"Porter Stemming:\")\n",
        "print(porter_stem_line, \"\\n\")\n",
        "print(\"Snowball Stemming:\")\n",
        "print(snowball_stem_line, \"\\n\")\n",
        "print(\"Lancaster Stemming:\")\n",
        "print(lancaster_stem_line, \"\\n\")\n",
        "print(\"Regexp Stemming with `'ing$|s$|e$|able$', min=4'`:\")\n",
        "print(regexp_stem_line, \"\\n\")"
      ],
      "metadata": {
        "id": "yT7oueLROFbU"
      },
      "execution_count": null,
      "outputs": []
    },
    {
      "cell_type": "markdown",
      "source": [
        "**More Comparative Examples of Stemming**    "
      ],
      "metadata": {
        "id": "1bDMPq05PsGn"
      }
    },
    {
      "cell_type": "code",
      "source": [
        "# STEMMING EXAMPLE 1\n",
        "# from nltk.stem import PorterStemmer, SnowballStemmer, LancasterStemmer, RegexpStemmer\n",
        "\n",
        "porter = PorterStemmer()\n",
        "lancaster = LancasterStemmer()\n",
        "snowball = SnowballStemmer(language='english')\n",
        "regexp = RegexpStemmer('ing$|s$|e$|able$', min=4)\n",
        "\n",
        "word_list = [\"friend\", \"friendship\", \"friends\", \"friendships\"]\n",
        "\n",
        "# word_list = ['aria', 'arial', 'arid', 'iris']\n",
        "\n",
        "print(\"{0:20}{1:20}{2:20}{3:30}{4:40}\".format(\"Word\",\"Porter Stemmer\",\"Snowball Stemmer\",\"Lancaster Stemmer\",'Regexp Stemmer'))\n",
        "for word in word_list:\n",
        "    print(\"{0:20}{1:20}{2:20}{3:30}{4:40}\".format(word,porter.stem(word),snowball.stem(word),lancaster.stem(word),regexp.stem(word)))"
      ],
      "metadata": {
        "id": "oDvh_Z5wPxe-"
      },
      "execution_count": null,
      "outputs": []
    },
    {
      "cell_type": "code",
      "source": [
        "# STEMMING EXAMPLE 2\n",
        "# from nltk.stem import PorterStemmer, SnowballStemmer, LancasterStemmer, RegexpStemmer\n",
        "\n",
        "porter = PorterStemmer()\n",
        "lancaster = LancasterStemmer()\n",
        "snowball = SnowballStemmer(language='english')\n",
        "regexp = RegexpStemmer('ing$|s$|e$|able$', min=4)\n",
        "\n",
        "word_list = ['run','runs','running','ran', 'runner', 'easily','fairly', 'sportingly']\n",
        "\n",
        "print(\"{0:20}{1:20}{2:20}{3:30}{4:40}\".format(\"Word\",\"Porter Stemmer\",\"Snowball Stemmer\",\"Lancaster Stemmer\",'Regexp Stemmer'))\n",
        "for word in word_list:\n",
        "    print(\"{0:20}{1:20}{2:20}{3:30}{4:40}\".format(word,porter.stem(word),snowball.stem(word),lancaster.stem(word),regexp.stem(word)))"
      ],
      "metadata": {
        "id": "W-e38bAzP7Mw"
      },
      "execution_count": null,
      "outputs": []
    },
    {
      "cell_type": "markdown",
      "source": [
        "**Difference Between Porter Stemmer and Snowball Stemmer**\n",
        "\n",
        "Snowball Stemmer is more aggressive than Porter Stemmer.\n",
        "Some issues in Porter Stemmer were fixed in Snowball Stemmer.\n",
        "There is only a little difference in the working of these two.\n",
        "Words like ‘fairly‘ and ‘sportingly‘ were stemmed to ‘fair’ and ‘sport’ in the snowball stemmer but when you use the porter stemmer they are stemmed to ‘fairli‘ and ‘sportingli‘.    \n",
        "\n",
        "The difference between the two algorithms can be clearly seen in the way the word ‘Sportingly’ in stemmed by both. Clearly Snowball Stemmer stems it to a more accurate stem.\n",
        "\n",
        "**Drawbacks of Stemming**    \n",
        "\n",
        "Issues of over stemming and under stemming may lead to not so meaningful or inappropriate stems.    \n",
        "\n",
        "Stemming does not consider how the word is being used. For example – the word ‘saw‘ will be stemmed to ‘saw‘ itself but it won’t be considered whether the word is being used as a noun or a verb in the context. For this reason, Lemmatization is used as it keeps this fact in consideration and will return either ‘see’ or ‘saw’ depending on whether the word ‘saw’ was used as a verb or a noun."
      ],
      "metadata": {
        "id": "X_nbuYzzQcqi"
      }
    },
    {
      "cell_type": "markdown",
      "source": [
        "###6. Removal of Patterns with Regular Expressions   \n",
        "\n",
        "Regular expressions (regex) help to identify and to get rid of different patterns which are not required in the text.\n"
      ],
      "metadata": {
        "id": "-VugsKUTQv3O"
      }
    },
    {
      "cell_type": "code",
      "source": [
        "# line = line.lower()\n",
        "print(\"Line:\", line)\n",
        "print(\"...cleaning...\\n\")\n",
        "\n",
        "clean0 = line\n",
        "clean1 = re.sub('\\S*@\\S*\\s?',\" \",clean0)            # email removal\n",
        "clean2 = re.sub('\\s+',\" \",clean1)                   # new line character removal\n",
        "clean3 = re.sub(\"\\’\",\" \",clean2)                    # single quote removal\n",
        "clean4 = re.sub('_',\" \",clean3)                     # underscore removal\n",
        "clean5 = re.sub('http\\S*\\s?',\" \",clean4)            # link removal\n",
        "\n",
        "clean = ' '.join([i for i in clean5.split() if i.find('#') < 0]) #remove hashtag\n",
        "print(\"Clean line:\", clean)"
      ],
      "metadata": {
        "id": "4L8SUll2RAjw"
      },
      "execution_count": null,
      "outputs": []
    },
    {
      "cell_type": "markdown",
      "source": [
        "### 7. Parts-of-Speech (POS) tagging\n",
        "\n",
        "Parts-of-speech tagging helps to identify the parts of speech. Based on the use case one can keep or remove some of them.  Parts-of-speech may be localized by dialect and other cultural factors (profession, age, etc.)\n",
        "\n",
        "The following code is an example of parts-of-speech tagging using the `spacy` library.\n"
      ],
      "metadata": {
        "id": "raRKGOoJUR6x"
      }
    },
    {
      "cell_type": "code",
      "source": [
        "tokens_spacy = nlp(line)\n",
        "for token in tokens_spacy:\n",
        "    print(token.text, ': ', token.pos_, ': ', token.is_stop)"
      ],
      "metadata": {
        "id": "b409l28CU0UK"
      },
      "execution_count": null,
      "outputs": []
    },
    {
      "cell_type": "markdown",
      "source": [
        "###8. Named-Entity-Recognition (NER)    \n",
        "\n",
        "Named-entity-recognition helps to identify and categorize the different groups which includes names, places, currency etc.\n",
        "\n",
        "The following code is an example of the use of named-entity-recognition using the `spacy` module. \n",
        "\n",
        "*The following code requires execution of the prior snippet of code to create the variable `tokens_spacy`.*"
      ],
      "metadata": {
        "id": "lnWSZkUUVgIB"
      }
    },
    {
      "cell_type": "code",
      "source": [
        "for ent in tokens_spacy.ents:\n",
        "    print(ent.text, ': ', ent.label_)"
      ],
      "metadata": {
        "id": "v5PZWuV-Vhkn"
      },
      "execution_count": null,
      "outputs": []
    },
    {
      "cell_type": "markdown",
      "source": [
        "##B. Vectorization/Word-Embedding    \n",
        "\n",
        "*More to come on this subject*    \n",
        "\n"
      ],
      "metadata": {
        "id": "Y3r4-Hpqa1L_"
      }
    },
    {
      "cell_type": "markdown",
      "source": [
        "NLP can be used for various purposes ors use cases including but not limited to:    \n",
        "  - **Text Classification**  - \n",
        "Text classification is a process which helps to classify the text based on its content by analyzing and assigning tags to the elements (words or lemma) of text.\n",
        "\n",
        "  - **Sentiment Analysis** - \n",
        "*Sentiment* is a synonym for emotion. Using sentiment analysis we can identify the nature of the opinion (favorable/unfavorable) of a text author.  Sentiment analysis can be performed across sources ranging from blogs, online reviews, social media posts, emails, transcripts of meetings, etc.  -- *pretty much any source*.\n",
        "\n",
        "  - **Topic Modelling** - \n",
        "Topic modelling helps  to discover topics that occur in a document or a collection of documents.\n",
        "\n",
        "  - **Parts of Speech (POS) tagging** - \n",
        "POS tagging is the process of marking up a word in a text to a particular part of speech. POS is one of the essential building blocks for lemmatizers which we looked at in the last section of this notebook.   \n",
        "\n",
        "\n",
        "There are more areas where NLP can be used.    \n",
        "\n",
        "This section of this notebook focuses on Text Classification (with word vectorization).  "
      ],
      "metadata": {
        "id": "HC6U-lRIqbKV"
      }
    },
    {
      "cell_type": "markdown",
      "source": [
        "As any with data science analysis the first step is data wrangling, to clean and transform the data which can then be recognized by computer algorithms and their component methods.\n",
        "\n",
        "The most important library while working with NLP is the Natural Language Toolkit `NLTK` library. It consists of inbuilt functions such as tokenization, lemmatization, stemming etc. which are integral tools for cleaning and transforming the text data before we use NLP techniques.\n",
        "\n",
        "This section of the notebook will repeat some of the housekeeping done early and add a few extra steps of housekeeping.\n"
      ],
      "metadata": {
        "id": "DxOHQVHBzqhc"
      }
    },
    {
      "cell_type": "markdown",
      "source": [
        "---"
      ],
      "metadata": {
        "id": "vdtZgCbq3Hz7"
      }
    },
    {
      "cell_type": "markdown",
      "source": [
        "### Housekeeping (again with a little more)    \n",
        "Import the requesite NLTK components for natural language processing.    \n",
        "\n",
        "Import SKLEARN components for model building.    \n"
      ],
      "metadata": {
        "id": "3hkfLSzX0Ipv"
      }
    },
    {
      "cell_type": "code",
      "source": [
        "# import regular expressions\n",
        "import re\n",
        "# import the os / operating system library\n",
        "import os\n",
        "# impot pandas \n",
        "import pandas as pd\n",
        "# import metrics from sklearn\n",
        "from sklearn import metrics\n",
        "# import word_tokenize tokenizer from nltk\n",
        "from nltk.tokenize import word_tokenize\n",
        "# import stopwordd\n",
        "from nltk.corpus import stopwords\n",
        "# import nltk \n",
        "import nltk \n",
        "# import PorterStemmer from NLTK for stemmitizatoin\n",
        "from nltk.stem import PorterStemmer\n",
        "# import sklearn for machine learning CountVectorizer\n",
        "from sklearn.feature_extraction.text import CountVectorizer\n",
        "# import train_test_split from sklearn for model development\n",
        "from sklearn.model_selection import train_test_split as ttsplit\n",
        "# import accuracy_score from sklearn\n",
        "from sklearn.metrics import accuracy_score\n",
        "# import MultinomialNB from sklearn for naive bayesian function\n",
        "from sklearn.naive_bayes import MultinomialNB"
      ],
      "metadata": {
        "id": "BliIaxOk0SB-"
      },
      "execution_count": null,
      "outputs": []
    },
    {
      "cell_type": "markdown",
      "source": [
        "Creat some useful assignments"
      ],
      "metadata": {
        "id": "R-4iQmGN2lJb"
      }
    },
    {
      "cell_type": "code",
      "source": [
        "# assign some useful aliases to imported objects\n",
        "# assign sklearn CountVectorizer to the variable `vector`\n",
        "vector = CountVectorizer()\n",
        "# assign nltk PorterStemmer to the variable `stemming`\n",
        "stemming = PorterStemmer()"
      ],
      "metadata": {
        "id": "4zuOHKWs2Npq"
      },
      "execution_count": null,
      "outputs": []
    },
    {
      "cell_type": "markdown",
      "source": [
        "Download some reference data"
      ],
      "metadata": {
        "id": "HkGJQedO2pCB"
      }
    },
    {
      "cell_type": "code",
      "source": [
        "# download some reference data\n",
        "# download stopwords from nltk\n",
        "nltk.download('stopwords')\n",
        "# download punkt from nltk\n",
        "nltk.download('punkt')\n",
        "# download wordnet from nltk\n",
        "nltk.download('wordnet')"
      ],
      "metadata": {
        "id": "QSmHO3dH2DaN"
      },
      "execution_count": null,
      "outputs": []
    },
    {
      "cell_type": "markdown",
      "source": [
        "Build a list of English language stopwords"
      ],
      "metadata": {
        "id": "8dCWU86i2uOM"
      }
    },
    {
      "cell_type": "code",
      "source": [
        "# assign english language stopwords to the variable stopwords_list\n",
        "stopwords_list = stopwords.words('english')"
      ],
      "metadata": {
        "id": "3iMlEDjb2A4O"
      },
      "execution_count": null,
      "outputs": []
    },
    {
      "cell_type": "markdown",
      "source": [
        "---"
      ],
      "metadata": {
        "id": "U7ZTz6c_Ex7H"
      }
    },
    {
      "cell_type": "markdown",
      "source": [
        "### 0. Read the text file (delimited) into a DataFrame.    \n",
        "\n",
        "The code in this section of the notebook works with a text file with file name `dataset.csv` and located in the current working directory.      \n",
        "\n",
        "Change the qualified file name argument in the following cell if you intend to read a diffent source file for text. \n"
      ],
      "metadata": {
        "id": "ENCzwv5A3XR-"
      }
    },
    {
      "cell_type": "code",
      "source": [
        "# read the text dataset delimited by commas into a DataFrame\n",
        "train_data = pd.read_csv(\"dataset.csv\",delimiter=',', header=0)"
      ],
      "metadata": {
        "id": "U3ALd6bS3ybn"
      },
      "execution_count": null,
      "outputs": []
    },
    {
      "cell_type": "code",
      "source": [
        "# Exploring the Dataframe \n",
        "\n",
        "# train_data.describe\n",
        "# train_data.columns\n",
        "train_data.head(10)"
      ],
      "metadata": {
        "colab": {
          "base_uri": "https://localhost:8080/",
          "height": 81
        },
        "id": "PPbsV7iYUyfg",
        "outputId": "ca507103-42e0-4113-921a-fe8e0a3eed66"
      },
      "execution_count": null,
      "outputs": [
        {
          "output_type": "execute_result",
          "data": {
            "text/plain": [
              "                                                text\n",
              "0  It is not our abilities that show what we trul..."
            ],
            "text/html": [
              "\n",
              "  <div id=\"df-dc0ec640-b8d1-4144-a26f-083c75f3e6d4\">\n",
              "    <div class=\"colab-df-container\">\n",
              "      <div>\n",
              "<style scoped>\n",
              "    .dataframe tbody tr th:only-of-type {\n",
              "        vertical-align: middle;\n",
              "    }\n",
              "\n",
              "    .dataframe tbody tr th {\n",
              "        vertical-align: top;\n",
              "    }\n",
              "\n",
              "    .dataframe thead th {\n",
              "        text-align: right;\n",
              "    }\n",
              "</style>\n",
              "<table border=\"1\" class=\"dataframe\">\n",
              "  <thead>\n",
              "    <tr style=\"text-align: right;\">\n",
              "      <th></th>\n",
              "      <th>text</th>\n",
              "    </tr>\n",
              "  </thead>\n",
              "  <tbody>\n",
              "    <tr>\n",
              "      <th>0</th>\n",
              "      <td>It is not our abilities that show what we trul...</td>\n",
              "    </tr>\n",
              "  </tbody>\n",
              "</table>\n",
              "</div>\n",
              "      <button class=\"colab-df-convert\" onclick=\"convertToInteractive('df-dc0ec640-b8d1-4144-a26f-083c75f3e6d4')\"\n",
              "              title=\"Convert this dataframe to an interactive table.\"\n",
              "              style=\"display:none;\">\n",
              "        \n",
              "  <svg xmlns=\"http://www.w3.org/2000/svg\" height=\"24px\"viewBox=\"0 0 24 24\"\n",
              "       width=\"24px\">\n",
              "    <path d=\"M0 0h24v24H0V0z\" fill=\"none\"/>\n",
              "    <path d=\"M18.56 5.44l.94 2.06.94-2.06 2.06-.94-2.06-.94-.94-2.06-.94 2.06-2.06.94zm-11 1L8.5 8.5l.94-2.06 2.06-.94-2.06-.94L8.5 2.5l-.94 2.06-2.06.94zm10 10l.94 2.06.94-2.06 2.06-.94-2.06-.94-.94-2.06-.94 2.06-2.06.94z\"/><path d=\"M17.41 7.96l-1.37-1.37c-.4-.4-.92-.59-1.43-.59-.52 0-1.04.2-1.43.59L10.3 9.45l-7.72 7.72c-.78.78-.78 2.05 0 2.83L4 21.41c.39.39.9.59 1.41.59.51 0 1.02-.2 1.41-.59l7.78-7.78 2.81-2.81c.8-.78.8-2.07 0-2.86zM5.41 20L4 18.59l7.72-7.72 1.47 1.35L5.41 20z\"/>\n",
              "  </svg>\n",
              "      </button>\n",
              "      \n",
              "  <style>\n",
              "    .colab-df-container {\n",
              "      display:flex;\n",
              "      flex-wrap:wrap;\n",
              "      gap: 12px;\n",
              "    }\n",
              "\n",
              "    .colab-df-convert {\n",
              "      background-color: #E8F0FE;\n",
              "      border: none;\n",
              "      border-radius: 50%;\n",
              "      cursor: pointer;\n",
              "      display: none;\n",
              "      fill: #1967D2;\n",
              "      height: 32px;\n",
              "      padding: 0 0 0 0;\n",
              "      width: 32px;\n",
              "    }\n",
              "\n",
              "    .colab-df-convert:hover {\n",
              "      background-color: #E2EBFA;\n",
              "      box-shadow: 0px 1px 2px rgba(60, 64, 67, 0.3), 0px 1px 3px 1px rgba(60, 64, 67, 0.15);\n",
              "      fill: #174EA6;\n",
              "    }\n",
              "\n",
              "    [theme=dark] .colab-df-convert {\n",
              "      background-color: #3B4455;\n",
              "      fill: #D2E3FC;\n",
              "    }\n",
              "\n",
              "    [theme=dark] .colab-df-convert:hover {\n",
              "      background-color: #434B5C;\n",
              "      box-shadow: 0px 1px 3px 1px rgba(0, 0, 0, 0.15);\n",
              "      filter: drop-shadow(0px 1px 2px rgba(0, 0, 0, 0.3));\n",
              "      fill: #FFFFFF;\n",
              "    }\n",
              "  </style>\n",
              "\n",
              "      <script>\n",
              "        const buttonEl =\n",
              "          document.querySelector('#df-dc0ec640-b8d1-4144-a26f-083c75f3e6d4 button.colab-df-convert');\n",
              "        buttonEl.style.display =\n",
              "          google.colab.kernel.accessAllowed ? 'block' : 'none';\n",
              "\n",
              "        async function convertToInteractive(key) {\n",
              "          const element = document.querySelector('#df-dc0ec640-b8d1-4144-a26f-083c75f3e6d4');\n",
              "          const dataTable =\n",
              "            await google.colab.kernel.invokeFunction('convertToInteractive',\n",
              "                                                     [key], {});\n",
              "          if (!dataTable) return;\n",
              "\n",
              "          const docLinkHtml = 'Like what you see? Visit the ' +\n",
              "            '<a target=\"_blank\" href=https://colab.research.google.com/notebooks/data_table.ipynb>data table notebook</a>'\n",
              "            + ' to learn more about interactive tables.';\n",
              "          element.innerHTML = '';\n",
              "          dataTable['output_type'] = 'display_data';\n",
              "          await google.colab.output.renderOutput(dataTable, element);\n",
              "          const docLink = document.createElement('div');\n",
              "          docLink.innerHTML = docLinkHtml;\n",
              "          element.appendChild(docLink);\n",
              "        }\n",
              "      </script>\n",
              "    </div>\n",
              "  </div>\n",
              "  "
            ]
          },
          "metadata": {},
          "execution_count": 13
        }
      ]
    },
    {
      "cell_type": "markdown",
      "source": [
        "---"
      ],
      "metadata": {
        "id": "LwmwYiyKEz4M"
      }
    },
    {
      "cell_type": "markdown",
      "source": [
        "\n",
        "This section of the notebook will also add one preliminary data wrangling step which was not covered earlier in this notebook: **removal of rows with null values**.  There is no need to complicate the algorithm with null values for empty rows of text.   "
      ],
      "metadata": {
        "id": "MALpSpZl0HTm"
      }
    },
    {
      "cell_type": "markdown",
      "source": [
        "### 1. Removal of Rows with `Null` values    \n",
        "\n",
        "Although, the first working exercise considers a single sentence , when you are working with a real-world dataset you are dealing with millions of records at the same time.    \n",
        "\n",
        "The first step is to check whether the current sentence is `null` or not. If it is `null`, then discard it and iterate through the next row. This is an essential step since it is quite common to deal with `null` values in a dataset or even when you are extracting data from any website.    \n",
        "\n",
        "Try running this step after inserting some blank rows in `dataset.csv` to see removal of rows with `Null` values removed.    \n",
        "\n",
        "\n"
      ],
      "metadata": {
        "id": "3njlslSME02T"
      }
    },
    {
      "cell_type": "code",
      "source": [],
      "metadata": {
        "id": "THsbXvlwHTTm"
      },
      "execution_count": null,
      "outputs": []
    },
    {
      "cell_type": "markdown",
      "source": [
        "---"
      ],
      "metadata": {
        "id": "CAqblcsXHTyE"
      }
    },
    {
      "cell_type": "markdown",
      "source": [
        "### 2. Tokenization of Data    \n",
        "\n",
        "Tokenization helps the computer to divide a sentence into words.  What the human brain analyzises, reading sentences word by word, has a computing parallel where the machine breaks content down into `tokens` instead of words.  Tokenization helps the model to deal with the concepts (tokens/words) one by one."
      ],
      "metadata": {
        "id": "H1eMszNiHVP9"
      }
    },
    {
      "cell_type": "markdown",
      "source": [
        "---"
      ],
      "metadata": {
        "id": "7U-ftoVuIEOW"
      }
    },
    {
      "cell_type": "markdown",
      "source": [
        "### 3. Removal of stopwords    \n",
        "\n",
        "`Stopwords` are the most common words present in many sentences but which do not add value in the meaning of the content.  `Stopwords` are not necessary for analyzing the data. `Stopwords` include words such as ‘a’, ‘the’, ‘an’, ‘this’ and many others which need to be removed before any further processing.    \n",
        "\n",
        "As mentioned earlier, some fields or domains of content may have their own incremental equivalents of `Stopword`.  When that is the case, extending the list of `Stopwords` is as easy as appending to that list.    "
      ],
      "metadata": {
        "id": "YArTAVXkIGHx"
      }
    },
    {
      "cell_type": "code",
      "source": [],
      "metadata": {
        "id": "-h_F993dIDy7"
      },
      "execution_count": null,
      "outputs": []
    },
    {
      "cell_type": "markdown",
      "source": [
        "---"
      ],
      "metadata": {
        "id": "QsVXPqUN2yYk"
      }
    },
    {
      "cell_type": "markdown",
      "source": [
        "### 4. Removal of Non-Alphabetic Characters     \n",
        "**(Punctuation, Whitespace, and Numbers)**     \n",
        "\n",
        "In addition to removal of punctuation, for Vectorization/Word-embedding numbers are nor processed by the algorithm.  \n",
        "\n",
        "Non-alphabetic text cannot be processed by the machine learning algorithms and have no impact by its presence in the data.  They are removed.   "
      ],
      "metadata": {
        "id": "K8VfPMewI9us"
      }
    },
    {
      "cell_type": "code",
      "source": [],
      "metadata": {
        "id": "IZomtze5Jy2g"
      },
      "execution_count": null,
      "outputs": []
    },
    {
      "cell_type": "markdown",
      "source": [
        "---"
      ],
      "metadata": {
        "id": "mZ1XCVvsJ0ol"
      }
    },
    {
      "cell_type": "markdown",
      "source": [
        "### 5. Stemming/Lemmatization of Tokenized Words    \n",
        "\n",
        "**Stemming** is a process of retrieving the root word from the given word. For example, a word like `dance`, `dancer` are different forms of the word `dance`. Without transforming these type of words to their root word the algorithm would end up making vectors for each word which is a variation of a concept which would exponentially increase the work required by the algorithms. The `nltk.stem` package provides us with stemmer which can be used to convert words into their root word.\n",
        "\n",
        "**Lemmatization** can provide more effective results than **Stemming** though at an increased cost in computing power.   \n",
        "\n",
        "Performance and accuracy objectives will determine whether to use **Stemming** or **Lemmatization** and which form of either of those is best to use in a particular circumstance.   \n"
      ],
      "metadata": {
        "id": "6ZgBvrcmJ1gk"
      }
    },
    {
      "cell_type": "code",
      "source": [],
      "metadata": {
        "id": "2yQ3XvibLjwI"
      },
      "execution_count": null,
      "outputs": []
    },
    {
      "cell_type": "markdown",
      "source": [
        "---"
      ],
      "metadata": {
        "id": "yxrPIDZRLkaz"
      }
    },
    {
      "cell_type": "markdown",
      "source": [
        "### 6. Combining the Words to form a Sentence    \n",
        "\n",
        "Once the data wrangling has transformed the content to tokenized words (and their `stems` or `lemma`) those tokens will need to be combined into sentences before they are converted into a vectorized format.\n",
        "\n",
        "The first exercise in this notebook uses the following line of dialogue from the movie **Harry Potter and the Chamber of Secrets**:\n",
        "\n",
        "`“It is not our abilities that show what we truly are…it is our choices.”`\n",
        "\n",
        "This steps transforms the concepts (tokens/stems/lemma) to an appropriate form before feeding it to the machine learning algorithm.      \n"
      ],
      "metadata": {
        "id": "7vM_HRFWPF9v"
      }
    },
    {
      "cell_type": "markdown",
      "source": [
        "*The following exhibit depicts the processing of the content in the first exercise.*\n"
      ],
      "metadata": {
        "id": "5daDLnT2PVaW"
      }
    },
    {
      "cell_type": "markdown",
      "source": [
        "![Vectorization_Step6_PateekNima.png](data:image/png;base64,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)"
      ],
      "metadata": {
        "id": "QQjz7qQUPep5"
      }
    },
    {
      "cell_type": "code",
      "source": [],
      "metadata": {
        "id": "z6eOOZWcPOJ4"
      },
      "execution_count": null,
      "outputs": []
    },
    {
      "cell_type": "markdown",
      "source": [
        "**Working Code to Process Steps 1 - 6**"
      ],
      "metadata": {
        "id": "ezV0VeWoT6RT"
      }
    },
    {
      "cell_type": "code",
      "source": [
        "#Initializing variables\n",
        "processed_data = []\n",
        "arr = []\n",
        "a = 0\n",
        "\n",
        "for sentence in train_data['text']:\n",
        "    if type(sentence) != str:\n",
        "        #Drop the row if it is null\n",
        "        train_data = train_data.drop([a],axis=0)\n",
        "        arr.append(a)\n",
        "        continue\n",
        "\n",
        "    temp_sentence = \"\"\n",
        "    #tokenizing the sentence\n",
        "    tokenized_words = word_tokenize(sentence)\n",
        "    #Iterating through each tokenized word\n",
        "\n",
        "    for word in tokenized_words:\n",
        "        if word not in stopwords_list and word.isalpha():\n",
        "            #stemming the word and appending\n",
        "            temp_sentence = temp_sentence + \" \" + (stemming.stem(word))\n",
        "\n",
        "    processed_data.append(temp_sentence)\n",
        "\n",
        "    a = a + 1\n"
      ],
      "metadata": {
        "id": "9Ym58jgIUGVe"
      },
      "execution_count": null,
      "outputs": []
    },
    {
      "cell_type": "code",
      "source": [
        "print('The processed data: \\n', processed_data)"
      ],
      "metadata": {
        "id": "gjYaIdpAYIQ8"
      },
      "execution_count": null,
      "outputs": []
    },
    {
      "cell_type": "markdown",
      "source": [
        "---"
      ],
      "metadata": {
        "id": "-VsP_mjETEiK"
      }
    },
    {
      "cell_type": "markdown",
      "source": [
        "### 7. Text Vectorization    \n",
        "\n",
        "Text Vectorization helps in converting textual data into a series of numeric factors for processing it further. There are various techniques through which we can achieve this. Some text vectorization technniques are summarized in the following descriptions."
      ],
      "metadata": {
        "id": "imnAY_H7Pr1r"
      }
    },
    {
      "cell_type": "markdown",
      "source": [
        "#### 7.1 Count Vectorizer     \n",
        "\n",
        "Count vectorizer helps us to convert the text into vector format by seeing if it is present in the list of **Bag Of Words** (`BOW`). A **bag-of-words** is a representation of text that describes the occurrence of words within a document based on the limiting factor which can be:    \n",
        "\n",
        " -  **Unigram** (single word)    \n",
        " -  **Bi-gram** (Two words)    \n",
        " -  **N-gram** (N-words)     \n"
      ],
      "metadata": {
        "id": "2MWb9EUfQLEL"
      }
    },
    {
      "cell_type": "code",
      "source": [
        "#converting the data into vectorized format\n",
        "vect = CountVectorizer(stop_words=\"english\", max_features=10000).fit(processed_data)\n",
        "train_vectorized = vect.transform(processed_data)"
      ],
      "metadata": {
        "id": "D4HD_Z_XYc5w"
      },
      "execution_count": null,
      "outputs": []
    },
    {
      "cell_type": "markdown",
      "source": [
        "---"
      ],
      "metadata": {
        "id": "3fYN78VQYdbe"
      }
    },
    {
      "cell_type": "markdown",
      "source": [
        "#### 7.2 Term Frequency-Inverse Document Frequency(TF-IDF)    \n",
        "\n",
        "**Term Frequency** (TF) is defined as how frequently the word appears in the document or corpus. As each sentence may not be the same length, there may be instances where a word might appear more in a long sentence vs. shorter sentences.       \n",
        "\n",
        "**Inverse Document Frequency** (IDF) is a concept which is used to find the most prevalent of the words.      \n",
        "\n",
        "**TF-IDF** helps to reduce values of common words that are used in different documents."
      ],
      "metadata": {
        "id": "Z11Xg7YgQr7L"
      }
    },
    {
      "cell_type": "code",
      "source": [],
      "metadata": {
        "id": "w26zs3m6RcFl"
      },
      "execution_count": null,
      "outputs": []
    },
    {
      "cell_type": "markdown",
      "source": [
        "### 7.3 Word2vec     \n",
        "\n",
        "**Word2vec** uses a neural network to determine the associations between words, which is done using **Google** pre-trained datasets.\n",
        "\n"
      ],
      "metadata": {
        "id": "8QkVsuggSwAc"
      }
    },
    {
      "cell_type": "markdown",
      "source": [
        "---"
      ],
      "metadata": {
        "id": "8fdklrYMzxrD"
      }
    },
    {
      "cell_type": "code",
      "source": [],
      "metadata": {
        "id": "SU_3xs1qTBbd"
      },
      "execution_count": null,
      "outputs": []
    },
    {
      "cell_type": "markdown",
      "source": [
        "---"
      ],
      "metadata": {
        "id": "h-ygOz4hztpy"
      }
    },
    {
      "cell_type": "markdown",
      "source": [
        "## 8. Processing NLP Data in Machine Learning    \n",
        "\n",
        "The algorithm and the component steps in the following code is the subjec of future data science lessons but are used here to provide an example of the use of NLP data in machine mearning.    \n"
      ],
      "metadata": {
        "id": "VsvXn5IadVag"
      }
    },
    {
      "cell_type": "code",
      "source": [
        "# type(train_vectorized)\n",
        "# dir(ttsplit)\n",
        "train_data.head(10)"
      ],
      "metadata": {
        "id": "LjHS-_fJeL_K"
      },
      "execution_count": null,
      "outputs": []
    },
    {
      "cell_type": "code",
      "source": [
        "#splitting the data for training and testing\n",
        "x_train, x_test, y_train,y_test = ttsplit(train_vectorized,train_data['text'],test_size=0.25)\n",
        "\n",
        "#Initialising Multinomial Naive Bayes\n",
        "naive_bayes = MultinomialNB()\n",
        "#training the data\n",
        "naive_bayes.fit(x_train,y_train)\n",
        "\n",
        "#using the test data for predicting the results\n",
        "prediction = naive_bayes.predict(x_test)\n",
        "\n",
        "#printing the overall metrics\n",
        "print(metrics.classification_report(y_test, prediction))"
      ],
      "metadata": {
        "id": "HPa8dBN_d6yk"
      },
      "execution_count": null,
      "outputs": []
    },
    {
      "cell_type": "markdown",
      "source": [
        "##C. NLP Model Development    \n",
        "\n",
        "*More to come on this subject*    \n",
        "\n"
      ],
      "metadata": {
        "id": "-WUo2NDka_O2"
      }
    },
    {
      "cell_type": "code",
      "source": [],
      "metadata": {
        "id": "tsj8i_RybXme"
      },
      "execution_count": null,
      "outputs": []
    },
    {
      "cell_type": "markdown",
      "source": [
        "\n",
        "\n",
        "---\n",
        "\n"
      ],
      "metadata": {
        "id": "TbwdBQDhV3bc"
      }
    },
    {
      "cell_type": "markdown",
      "source": [
        "# NLTK Chapter 1 "
      ],
      "metadata": {
        "id": "X2KvxLuwbU9J"
      }
    },
    {
      "cell_type": "markdown",
      "source": [
        "\n",
        "\n",
        "---\n",
        "\n"
      ],
      "metadata": {
        "id": "OE5PCBn9vXCz"
      }
    },
    {
      "cell_type": "markdown",
      "metadata": {
        "id": "oqcb9--fNVE0"
      },
      "source": [
        "## Let us see how we can use LISTs in NLP\n",
        "\n",
        "[NLTK Chapter 1](https://www.nltk.org/book/ch01.html)"
      ]
    },
    {
      "cell_type": "markdown",
      "source": [
        "\n",
        "\n",
        "---\n",
        "\n",
        "\n"
      ],
      "metadata": {
        "id": "xC__i75Hp8jr"
      }
    },
    {
      "cell_type": "markdown",
      "source": [
        "### Housekeeping - For Plots   \n",
        "\n",
        "Import `matplotlib` and `numpy` for some of the **NLTK Chapter 1** exercises which produce plots.    \n"
      ],
      "metadata": {
        "id": "drUMN3PjowYg"
      }
    },
    {
      "cell_type": "code",
      "source": [
        "import matplotlib.pyplot as plt "
      ],
      "metadata": {
        "id": "-ZkXqZaIpA-Q"
      },
      "execution_count": null,
      "outputs": []
    },
    {
      "cell_type": "code",
      "source": [
        "import numpy as np  "
      ],
      "metadata": {
        "id": "ZkL0kTSFo-dK"
      },
      "execution_count": null,
      "outputs": []
    },
    {
      "cell_type": "markdown",
      "source": [
        "### Housekeeping - NLP\n",
        "\n",
        "*The following setup and imports are already done at the top of this notebook.*    \n"
      ],
      "metadata": {
        "id": "8tQgEsdQbbFa"
      }
    },
    {
      "cell_type": "code",
      "metadata": {
        "id": "dElVkFGzHQiU"
      },
      "source": [
        "# Setup wordcloud and nltk\n",
        "!pip install -q wordcloud\n",
        "import wordcloud\n",
        "import nltk"
      ],
      "execution_count": null,
      "outputs": []
    },
    {
      "cell_type": "code",
      "metadata": {
        "id": "UdqCrNTNKbUK"
      },
      "source": [
        "nltk.download('book') \n"
      ],
      "execution_count": null,
      "outputs": []
    },
    {
      "cell_type": "code",
      "metadata": {
        "id": "_qKxEu4KOQzt"
      },
      "source": [
        "from nltk.book import *"
      ],
      "execution_count": null,
      "outputs": []
    },
    {
      "cell_type": "code",
      "metadata": {
        "id": "PMS1oJzJKbIf"
      },
      "source": [
        "# Get stopwords, stemmer and lemmatizer\n",
        "stopwords = nltk.corpus.stopwords.words('english')\n",
        "stemmer = nltk.stem.PorterStemmer()\n",
        "lemmatizer = nltk.stem.WordNetLemmatizer()\n"
      ],
      "execution_count": null,
      "outputs": []
    },
    {
      "cell_type": "markdown",
      "source": [
        "---\n",
        "\n"
      ],
      "metadata": {
        "id": "5Ld9BaJNbjzA"
      }
    },
    {
      "cell_type": "markdown",
      "source": [
        "## 1.2   Getting Started with NLTK\n"
      ],
      "metadata": {
        "id": "JGuK9P38qRjD"
      }
    },
    {
      "cell_type": "code",
      "metadata": {
        "id": "xkUsB2KDKbOa",
        "colab": {
          "base_uri": "https://localhost:8080/"
        },
        "outputId": "af640981-3356-44db-99eb-0fbab8148db0"
      },
      "source": [
        "type(stopwords)"
      ],
      "execution_count": null,
      "outputs": [
        {
          "output_type": "execute_result",
          "data": {
            "text/plain": [
              "list"
            ]
          },
          "metadata": {},
          "execution_count": 64
        }
      ]
    },
    {
      "cell_type": "code",
      "metadata": {
        "id": "cDxgXFxLKbRM",
        "colab": {
          "base_uri": "https://localhost:8080/"
        },
        "outputId": "c82be60b-194c-4c8a-b194-373fe78e1ced"
      },
      "source": [
        "len(stopwords)"
      ],
      "execution_count": null,
      "outputs": [
        {
          "output_type": "execute_result",
          "data": {
            "text/plain": [
              "179"
            ]
          },
          "metadata": {},
          "execution_count": 65
        }
      ]
    },
    {
      "cell_type": "code",
      "metadata": {
        "id": "jCtu_5qsxZYn",
        "colab": {
          "base_uri": "https://localhost:8080/"
        },
        "outputId": "be41b590-5711-4ec1-ec10-9341ff47ac8b"
      },
      "source": [
        "stopwords"
      ],
      "execution_count": null,
      "outputs": [
        {
          "output_type": "execute_result",
          "data": {
            "text/plain": [
              "['i',\n",
              " 'me',\n",
              " 'my',\n",
              " 'myself',\n",
              " 'we',\n",
              " 'our',\n",
              " 'ours',\n",
              " 'ourselves',\n",
              " 'you',\n",
              " \"you're\",\n",
              " \"you've\",\n",
              " \"you'll\",\n",
              " \"you'd\",\n",
              " 'your',\n",
              " 'yours',\n",
              " 'yourself',\n",
              " 'yourselves',\n",
              " 'he',\n",
              " 'him',\n",
              " 'his',\n",
              " 'himself',\n",
              " 'she',\n",
              " \"she's\",\n",
              " 'her',\n",
              " 'hers',\n",
              " 'herself',\n",
              " 'it',\n",
              " \"it's\",\n",
              " 'its',\n",
              " 'itself',\n",
              " 'they',\n",
              " 'them',\n",
              " 'their',\n",
              " 'theirs',\n",
              " 'themselves',\n",
              " 'what',\n",
              " 'which',\n",
              " 'who',\n",
              " 'whom',\n",
              " 'this',\n",
              " 'that',\n",
              " \"that'll\",\n",
              " 'these',\n",
              " 'those',\n",
              " 'am',\n",
              " 'is',\n",
              " 'are',\n",
              " 'was',\n",
              " 'were',\n",
              " 'be',\n",
              " 'been',\n",
              " 'being',\n",
              " 'have',\n",
              " 'has',\n",
              " 'had',\n",
              " 'having',\n",
              " 'do',\n",
              " 'does',\n",
              " 'did',\n",
              " 'doing',\n",
              " 'a',\n",
              " 'an',\n",
              " 'the',\n",
              " 'and',\n",
              " 'but',\n",
              " 'if',\n",
              " 'or',\n",
              " 'because',\n",
              " 'as',\n",
              " 'until',\n",
              " 'while',\n",
              " 'of',\n",
              " 'at',\n",
              " 'by',\n",
              " 'for',\n",
              " 'with',\n",
              " 'about',\n",
              " 'against',\n",
              " 'between',\n",
              " 'into',\n",
              " 'through',\n",
              " 'during',\n",
              " 'before',\n",
              " 'after',\n",
              " 'above',\n",
              " 'below',\n",
              " 'to',\n",
              " 'from',\n",
              " 'up',\n",
              " 'down',\n",
              " 'in',\n",
              " 'out',\n",
              " 'on',\n",
              " 'off',\n",
              " 'over',\n",
              " 'under',\n",
              " 'again',\n",
              " 'further',\n",
              " 'then',\n",
              " 'once',\n",
              " 'here',\n",
              " 'there',\n",
              " 'when',\n",
              " 'where',\n",
              " 'why',\n",
              " 'how',\n",
              " 'all',\n",
              " 'any',\n",
              " 'both',\n",
              " 'each',\n",
              " 'few',\n",
              " 'more',\n",
              " 'most',\n",
              " 'other',\n",
              " 'some',\n",
              " 'such',\n",
              " 'no',\n",
              " 'nor',\n",
              " 'not',\n",
              " 'only',\n",
              " 'own',\n",
              " 'same',\n",
              " 'so',\n",
              " 'than',\n",
              " 'too',\n",
              " 'very',\n",
              " 's',\n",
              " 't',\n",
              " 'can',\n",
              " 'will',\n",
              " 'just',\n",
              " 'don',\n",
              " \"don't\",\n",
              " 'should',\n",
              " \"should've\",\n",
              " 'now',\n",
              " 'd',\n",
              " 'll',\n",
              " 'm',\n",
              " 'o',\n",
              " 're',\n",
              " 've',\n",
              " 'y',\n",
              " 'ain',\n",
              " 'aren',\n",
              " \"aren't\",\n",
              " 'couldn',\n",
              " \"couldn't\",\n",
              " 'didn',\n",
              " \"didn't\",\n",
              " 'doesn',\n",
              " \"doesn't\",\n",
              " 'hadn',\n",
              " \"hadn't\",\n",
              " 'hasn',\n",
              " \"hasn't\",\n",
              " 'haven',\n",
              " \"haven't\",\n",
              " 'isn',\n",
              " \"isn't\",\n",
              " 'ma',\n",
              " 'mightn',\n",
              " \"mightn't\",\n",
              " 'mustn',\n",
              " \"mustn't\",\n",
              " 'needn',\n",
              " \"needn't\",\n",
              " 'shan',\n",
              " \"shan't\",\n",
              " 'shouldn',\n",
              " \"shouldn't\",\n",
              " 'wasn',\n",
              " \"wasn't\",\n",
              " 'weren',\n",
              " \"weren't\",\n",
              " 'won',\n",
              " \"won't\",\n",
              " 'wouldn',\n",
              " \"wouldn't\"]"
            ]
          },
          "metadata": {},
          "execution_count": 66
        }
      ]
    },
    {
      "cell_type": "code",
      "metadata": {
        "id": "vMOnL3KuKsRu"
      },
      "source": [
        "stopwords[0]"
      ],
      "execution_count": null,
      "outputs": []
    },
    {
      "cell_type": "code",
      "metadata": {
        "id": "iCgbcs7pKbWP",
        "colab": {
          "base_uri": "https://localhost:8080/"
        },
        "outputId": "d4f265f8-bcb7-43b6-9149-ab4a92ff0949"
      },
      "source": [
        "sent1 = ['Call', 'me', 'Ishmael', '.']\n",
        "sent1"
      ],
      "execution_count": null,
      "outputs": [
        {
          "output_type": "execute_result",
          "data": {
            "text/plain": [
              "['Call', 'me', 'Ishmael', '.']"
            ]
          },
          "metadata": {},
          "execution_count": 67
        }
      ]
    },
    {
      "cell_type": "markdown",
      "source": [
        "---"
      ],
      "metadata": {
        "id": "oQVLKTftqGkC"
      }
    },
    {
      "cell_type": "markdown",
      "source": [
        "Any time we want to find out about these texts, we just have to enter their names at the Python prompt:"
      ],
      "metadata": {
        "id": "2cCJ5q5_qJiL"
      }
    },
    {
      "cell_type": "code",
      "metadata": {
        "id": "sTXI-1OdxxnH",
        "colab": {
          "base_uri": "https://localhost:8080/"
        },
        "outputId": "45a9b1e5-cdc5-4eb3-ae77-15ba33fe62a1"
      },
      "source": [
        "text1[100:110]"
      ],
      "execution_count": null,
      "outputs": [
        {
          "output_type": "execute_result",
          "data": {
            "text/plain": [
              "['and', 'to', 'teach', 'them', 'by', 'what', 'name', 'a', 'whale', '-']"
            ]
          },
          "metadata": {},
          "execution_count": 68
        }
      ]
    },
    {
      "cell_type": "code",
      "source": [
        "text1[0:50]"
      ],
      "metadata": {
        "id": "64FL5BPzkNxH",
        "colab": {
          "base_uri": "https://localhost:8080/"
        },
        "outputId": "565f932e-b389-447a-8475-749c2f2e306c"
      },
      "execution_count": null,
      "outputs": [
        {
          "output_type": "execute_result",
          "data": {
            "text/plain": [
              "['[',\n",
              " 'Moby',\n",
              " 'Dick',\n",
              " 'by',\n",
              " 'Herman',\n",
              " 'Melville',\n",
              " '1851',\n",
              " ']',\n",
              " 'ETYMOLOGY',\n",
              " '.',\n",
              " '(',\n",
              " 'Supplied',\n",
              " 'by',\n",
              " 'a',\n",
              " 'Late',\n",
              " 'Consumptive',\n",
              " 'Usher',\n",
              " 'to',\n",
              " 'a',\n",
              " 'Grammar',\n",
              " 'School',\n",
              " ')',\n",
              " 'The',\n",
              " 'pale',\n",
              " 'Usher',\n",
              " '--',\n",
              " 'threadbare',\n",
              " 'in',\n",
              " 'coat',\n",
              " ',',\n",
              " 'heart',\n",
              " ',',\n",
              " 'body',\n",
              " ',',\n",
              " 'and',\n",
              " 'brain',\n",
              " ';',\n",
              " 'I',\n",
              " 'see',\n",
              " 'him',\n",
              " 'now',\n",
              " '.',\n",
              " 'He',\n",
              " 'was',\n",
              " 'ever',\n",
              " 'dusting',\n",
              " 'his',\n",
              " 'old',\n",
              " 'lexicons',\n",
              " 'and']"
            ]
          },
          "metadata": {},
          "execution_count": 69
        }
      ]
    },
    {
      "cell_type": "code",
      "metadata": {
        "id": "8-gJFqwZKbcx",
        "colab": {
          "base_uri": "https://localhost:8080/"
        },
        "outputId": "039b9f13-a173-4861-df26-d546ba760caf"
      },
      "source": [
        "len(sent1)"
      ],
      "execution_count": null,
      "outputs": [
        {
          "output_type": "execute_result",
          "data": {
            "text/plain": [
              "4"
            ]
          },
          "metadata": {},
          "execution_count": 70
        }
      ]
    },
    {
      "cell_type": "code",
      "metadata": {
        "id": "T4IxtzszOQmu"
      },
      "source": [
        "sent2 = ['The', 'family', 'of', 'Dashwood', 'had', 'long', 'been', 'settled', 'in', 'Sussex', '.']\n",
        "sent3 = ['In', 'the', 'beginning', 'God', 'created', 'the', 'heaven', 'and', 'the', 'earth', '.']"
      ],
      "execution_count": null,
      "outputs": []
    },
    {
      "cell_type": "code",
      "metadata": {
        "id": "aRpOEOLyOQrE",
        "colab": {
          "base_uri": "https://localhost:8080/"
        },
        "outputId": "295e5da1-1003-46a4-b46d-127de153b0a4"
      },
      "source": [
        "sent2+sent3"
      ],
      "execution_count": null,
      "outputs": [
        {
          "output_type": "execute_result",
          "data": {
            "text/plain": [
              "['The',\n",
              " 'family',\n",
              " 'of',\n",
              " 'Dashwood',\n",
              " 'had',\n",
              " 'long',\n",
              " 'been',\n",
              " 'settled',\n",
              " 'in',\n",
              " 'Sussex',\n",
              " '.',\n",
              " 'In',\n",
              " 'the',\n",
              " 'beginning',\n",
              " 'God',\n",
              " 'created',\n",
              " 'the',\n",
              " 'heaven',\n",
              " 'and',\n",
              " 'the',\n",
              " 'earth',\n",
              " '.']"
            ]
          },
          "metadata": {},
          "execution_count": 72
        }
      ]
    },
    {
      "cell_type": "code",
      "metadata": {
        "id": "3ZB_FSxhOQt6",
        "colab": {
          "base_uri": "https://localhost:8080/"
        },
        "outputId": "15fa1331-e5be-4a8e-9030-6490de78b14c"
      },
      "source": [
        "sent1.append(\"Some\")\n",
        "sent1"
      ],
      "execution_count": null,
      "outputs": [
        {
          "output_type": "execute_result",
          "data": {
            "text/plain": [
              "['Call', 'me', 'Ishmael', '.', 'Some']"
            ]
          },
          "metadata": {},
          "execution_count": 73
        }
      ]
    },
    {
      "cell_type": "code",
      "metadata": {
        "id": "i_Bj67QHOQx3"
      },
      "source": [
        "len(text1)"
      ],
      "execution_count": null,
      "outputs": []
    },
    {
      "cell_type": "code",
      "metadata": {
        "id": "vrr1IqO-xFkM"
      },
      "source": [
        "len(text2)"
      ],
      "execution_count": null,
      "outputs": []
    },
    {
      "cell_type": "code",
      "metadata": {
        "id": "-e_FK-bjPYkW",
        "colab": {
          "base_uri": "https://localhost:8080/"
        },
        "outputId": "e6ba91af-8f17-4b58-99ff-e2175a55801d"
      },
      "source": [
        "text1[100:110]"
      ],
      "execution_count": null,
      "outputs": [
        {
          "output_type": "execute_result",
          "data": {
            "text/plain": [
              "['and', 'to', 'teach', 'them', 'by', 'what', 'name', 'a', 'whale', '-']"
            ]
          },
          "metadata": {},
          "execution_count": 74
        }
      ]
    },
    {
      "cell_type": "markdown",
      "source": [
        "---"
      ],
      "metadata": {
        "id": "CY4kzz0vqkaD"
      }
    },
    {
      "cell_type": "markdown",
      "source": [
        "##1.3   Searching Text\n"
      ],
      "metadata": {
        "id": "Um2M1fdRqlN8"
      }
    },
    {
      "cell_type": "markdown",
      "source": [
        "There are many ways to examine the context of a text apart from simply reading it. A concordance view shows us every occurrence of a given word, together with some context. Here we look up the word `monstrous` in *Moby Dick* by entering text1 followed by a period, then the term `concordance`, and then placing \"monstrous\" in parentheses:"
      ],
      "metadata": {
        "id": "WkQAv554qqRT"
      }
    },
    {
      "cell_type": "markdown",
      "metadata": {
        "id": "8Zl_kxLI1ln0"
      },
      "source": [
        "**[notes: NLTK concordance](http://www.nltk.org/api/nltk.html?highlight=concordance)**"
      ]
    },
    {
      "cell_type": "code",
      "source": [
        "print(text1)\n",
        "text1.concordance(\"monster\")"
      ],
      "metadata": {
        "id": "GccaIaPQovuN",
        "colab": {
          "base_uri": "https://localhost:8080/"
        },
        "outputId": "45f92eed-89ee-4f4e-93f4-bda12e545561"
      },
      "execution_count": null,
      "outputs": [
        {
          "output_type": "stream",
          "name": "stdout",
          "text": [
            "<Text: Moby Dick by Herman Melville 1851>\n",
            "Displaying 25 of 49 matches:\n",
            "des cometh within the chaos of this monster ' s mouth , be it beast , boat , or\n",
            "nter into the dreadful gulf of this monster ' s ( whale ' s ) mouth , are immed\n",
            "time with a lance ; but the furious monster at length rushed on the boat ; hims\n",
            " . Such a portentous and mysterious monster roused all my curiosity . Then the \n",
            "and flank with the most exasperated monster . Long usage had , for this Stubb ,\n",
            "ACK ).-- Under this head I reckon a monster which , by the various names of Fin\n",
            "arned the history of that murderous monster against whom I and all the others h\n",
            "ocity , cunning , and malice in the monster attacked ; therefore it was , that \n",
            "iathan is restricted to the ignoble monster primitively pursued in the North ; \n",
            " and incontestable character of the monster to strike the imagination with unwo\n",
            "mberment . Then , in darting at the monster , knife in hand , he had but given \n",
            "e rock ; instead of this we saw the monster sailing off with the utmost gravity\n",
            "e at Constantinople , a great sea - monster was captured in the neighboring Pro\n",
            " Of what precise species this sea - monster was , is not mentioned . But as he \n",
            "man reasoning , Procopius ' s sea - monster , that for half a century stove the\n",
            "hale ,\" as he called the fictitious monster which he declared to be incessantly\n",
            "d his intention to hunt that mortal monster in person . But such a supposition \n",
            "ng us on and on , in order that the monster might turn round upon us , and rend\n",
            "d famous , and most deadly immortal monster , Don ;-- but that would be too lon\n",
            "oluntarily lifted his voice for the monster , though for some little time past \n",
            "s rescuing Andromeda from the sea - monster or whale . Where did Guido get the \n",
            " huge corpulence of that Hogarthian monster undulates on the surface , scarcely\n",
            "nd is drawn just balancing upon the monster ' s spine ; and standing in that pr\n",
            " of cutting - in ) hove over to the monster as if to a quay ; and a boat , hurr\n",
            "eet in length . They fancy that the monster to which these arms belonged ordina\n"
          ]
        }
      ]
    },
    {
      "cell_type": "code",
      "source": [
        "print(text1)\n",
        "text1.concordance(\"son\")"
      ],
      "metadata": {
        "id": "VCkeg3Xvm8M_",
        "colab": {
          "base_uri": "https://localhost:8080/"
        },
        "outputId": "ac14b14e-cd55-45b6-9105-970ee50cbbdd"
      },
      "execution_count": null,
      "outputs": [
        {
          "output_type": "stream",
          "name": "stdout",
          "text": [
            "<Text: Moby Dick by Herman Melville 1851>\n",
            "Displaying 20 of 20 matches:\n",
            "l sinners among men , the sin of this son of Amittai was in his wilful disobedi\n",
            "r his naked wrists ; Queequeg was the son of a King , and Queequeg budged not .\n",
            " cabin , ye canting , drab - coloured son of a wooden gun -- a straight wake wi\n",
            " He must show that he ' s converted . Son of darkness ,\" he added , turning to \n",
            " and all of us , and every mother ' s son and soul of us belong ; the great and\n",
            "arnestly into his eyes , and said , \" Son of darkness , I must do my duty by th\n",
            "the sea ; the unerring harpoon of the son fitly replacing the infallible arrow \n",
            "f - believed this wild Indian to be a son of the Prince of the Powers of the Ai\n",
            "or little Flask , he was the youngest son , and little boy of this weary family\n",
            "narrative ; I have conversed with his son ; and all this within a few miles of \n",
            " from his girdle ; \" every mother ' s son of ye draw his knife , and pull with \n",
            "elkilt Charlemagne , had he been born son to Charlemagne ' s father . But Radne\n",
            " festooning their limbs . Nor can any son of mortal woman , for the first time \n",
            " fraternity . The gallant Perseus , a son of Jupiter , was the first whaleman ;\n",
            " may reveal of the divine love in the Son , the soft , curled , hermaphroditica\n",
            "or worshipping which , King Asa , her son , did depose her , and destroyed the \n",
            " and you SHALL do this thing .\" \" His son !\" cried Stubb , \" oh , it ' s his so\n",
            "on !\" cried Stubb , \" oh , it ' s his son he ' s lost ! I take back the coat an\n",
            " chase , there had been still another son ; as that for a time , the wretched f\n",
            ", that Nantucket captains will send a son of such tender age away from them , f\n"
          ]
        }
      ]
    },
    {
      "cell_type": "code",
      "source": [
        "print(text1)\n",
        "text1.concordance(\"king\")"
      ],
      "metadata": {
        "id": "2fQqXkYqolyH",
        "colab": {
          "base_uri": "https://localhost:8080/"
        },
        "outputId": "0e1e0aeb-4545-4073-af5d-b9d906ee8cde"
      },
      "execution_count": null,
      "outputs": [
        {
          "output_type": "stream",
          "name": "stdout",
          "text": [
            "<Text: Moby Dick by Herman Melville 1851>\n",
            "Displaying 25 of 64 matches:\n",
            "th , of which he brought some to the king . ... The best whales were catched i\n",
            "RRATIVE TAKEN DOWN FROM HIS MOUTH BY KING ALFRED , A . D . 890 . \" And whereas\n",
            "armacetti for an inward bruise .\" -- KING HENRY . \" Very like a whale .\" -- HA\n",
            "SOMEWHERE .) \" A tenth branch of the king ' s ordinary revenue , said to be gr\n",
            " the coast , are the property of the king .\" -- BLACKSTONE . \" Soon to the spo\n",
            " Io ! sing . To the finny people ' s king . Not a mightier whale than this In \n",
            "n might , where might is right , And King of the boundless sea .\" -- WHALE SON\n",
            "wo . His father was a High Chief , a King ; his uncle a High Priest ; and on t\n",
            ", spurned his suit ; and not all the King his father ' s influence could preva\n",
            "d wrists ; Queequeg was the son of a King , and Queequeg budged not . Struck b\n",
            " the High Priest and his majesty the King , Queequeg ' s father . Grace being \n",
            " plain precedence over a mere island King , especially in the King ' s own hou\n",
            "mere island King , especially in the King ' s own house -- the Captain coolly \n",
            " , not unworthy a Scandinavian sea - king , or a poetical Pagan Roman . And wh\n",
            "f old , thou knowest , was a crowned king !\" \" And a very vile one . When that\n",
            "d a very vile one . When that wicked king was slain , the dogs , did they not \n",
            " great feast given by his father the king , on the gaining of a great battle w\n",
            "settees and sofas of all sorts , the king , chiefs , and great people generall\n",
            "ws ? Certain I am , however , that a king ' s head is solemnly oiled at his co\n",
            "ight and last long . They called him King - Post on board of the Pequod ; beca\n",
            "ed ? For a Khan of the plank , and a king of the sea , and a great lord of Lev\n",
            "osted Flask . \" Such a queer dream , King - Post , I never had . You know the \n",
            "dent , hilarious little Flask enters King Ahab ' s presence , in the character\n",
            "haps not . To have been Belshazzar , King of Babylon ; and to have been Belsha\n",
            "e , the great gods mock that captive king ; so like a Caryatid , he patient si\n"
          ]
        }
      ]
    },
    {
      "cell_type": "code",
      "source": [
        "print(text1)\n",
        "text1.concordance(\"ship\")"
      ],
      "metadata": {
        "id": "jDz_aj4aooJ4",
        "colab": {
          "base_uri": "https://localhost:8080/"
        },
        "outputId": "3026b0b4-6210-4250-db3d-9572f180c209"
      },
      "execution_count": null,
      "outputs": [
        {
          "output_type": "stream",
          "name": "stdout",
          "text": [
            "<Text: Moby Dick by Herman Melville 1851>\n",
            "Displaying 25 of 518 matches:\n",
            "hale is floating at the stern of the ship , they cut off his head , and tow it\n",
            "ution for fear they should run their ship upon them .\" -- SCHOUTEN ' S SIXTH C\n",
            " from the Elbe , wind N . E . in the ship called The Jonas - in - the - Whale \n",
            "RATIVE OF THE SHIPWRECK OF THE WHALE SHIP ESSEX OF NANTUCKET , WHICH WAS ATTAC\n",
            "HALING CRUIZE . 1846 . \" The Whale - ship Globe , on board of which vessel occ\n",
            "OCK . ANOTHER VERSION OF THE WHALE - SHIP GLOBE NARRATIVE . \" The voyages of t\n",
            "\" It is impossible to meet a whale - ship on the ocean without being struck by\n",
            "e whales , that the whites saw their ship in bloody possession of the savages \n",
            "E TAKING AND RETAKING OF THE WHALE - SHIP HOBOMACK . \" It is generally well kn\n",
            "on his sword ; I quietly take to the ship . There is nothing surprising in thi\n",
            " , when first told that you and your ship were now out of sight of land ? Why \n",
            " , a cook being a sort of officer on ship - board -- yet , somehow , I never f\n",
            "eat hurricane ; the half - foundered ship weltering there with its three disma\n",
            "s legs . He was trying his hand at a ship under full sail , but he didn ' t ma\n",
            " a three years ' voyage , and a full ship . Hurrah , boys ; now we ' ll have t\n",
            "fore the idol ; then laying a bit of ship biscuit on top and applying the flam\n",
            " blacksmiths , and harpooneers , and ship keepers ; a brown and brawny company\n",
            "ming one of the boats ' crews OF THE SHIP ELIZA Who were towed out of sight by\n",
            "dder , like those used in mounting a ship from a boat at sea . The wife of a w\n",
            "ped me that however convenient for a ship , these joints in the present instan\n",
            "arge painting representing a gallant ship beating against a terrible storm off\n",
            "a distinct spot of radiance upon the ship ' s tossed deck , something like tha\n",
            "ank where Nelson fell . \" Ah , noble ship ,\" the angel seemed to say , \" beat \n",
            "y , \" beat on , beat on , thou noble ship , and bear a hardy helm ; for lo ! t\n",
            "elled front was in the likeness of a ship ' s bluff bows , and the Holy Bible \n"
          ]
        }
      ]
    },
    {
      "cell_type": "code",
      "source": [
        "print(text1)\n",
        "text1.concordance(\"knife\")"
      ],
      "metadata": {
        "id": "EkK0nk8Sop92",
        "colab": {
          "base_uri": "https://localhost:8080/"
        },
        "outputId": "bf61f3fa-cb9d-4cba-d2d3-daf73cfd67cf"
      },
      "execution_count": null,
      "outputs": [
        {
          "output_type": "stream",
          "name": "stdout",
          "text": [
            "<Text: Moby Dick by Herman Melville 1851>\n",
            "Displaying 25 of 31 matches:\n",
            " further adorning it with his jack - knife , stooping over and diligently worki\n",
            "ed with a sailor - belt and sheath - knife . Here comes another with a sou '- w\n",
            "rd into its face , and with a jack - knife gently whittling away at its nose , \n",
            "trying to mend a pen with his jack - knife , old Bildad , to my no small surpri\n",
            " mend that pen , will ye . My jack - knife here needs the grindstone . That ' s\n",
            "es all fastened upon the old man ' s knife , as he carved the chief dish before\n",
            "her . No ! And when reaching out his knife and fork , between which the slice o\n",
            " little started if , perchance , the knife grazed against the plate ; and chewe\n",
            "y wooden trencher , while Tashtego , knife in hand , began laying out the circl\n",
            "him ; tows me with a cable I have no knife to cut . Horrible old man ! Who ' s \n",
            "er ! SPANISH SAILOR ( MEETING HIM ). Knife thee heartily ! big frame , small sp\n",
            " Fair play ! Snatch the Spaniard ' s knife ! A ring , a ring ! OLD MANX SAILOR \n",
            "s ; one captain , seizing the line - knife from his broken prow , had dashed at\n",
            ". Then , in darting at the monster , knife in hand , he had but given loose to \n",
            "out ! Here !\" whipping out the sharp knife from his girdle ; \" every mother ' s\n",
            " every mother ' s son of ye draw his knife , and pull with the blade between hi\n",
            "s it would tip for an instant on the knife - like edge of the sharper waves , t\n",
            "ng of the boat , quickly brought his knife to the line . He cut it ; and the wh\n",
            "k ' s tooth , of his one poor jack - knife , he will carve you a bit of bone sc\n",
            "ult to injury , is it ? Look at your knife - handle , there , my civilized and \n",
            " cutting - spade pole , and with his knife slightly split the end , to insert t\n",
            "it in an instant , seized the boat - knife , and impaling the letter on it , se\n",
            " of ye for a prayer book and a pen - knife , and cut the big chains .\" \" Knife \n",
            " knife , and cut the big chains .\" \" Knife ? Aye , aye ,\" cried Queequeg , and \n",
            "or a poltroon . Snatching the boat - knife from its sheath , he suspended its s\n"
          ]
        }
      ]
    },
    {
      "cell_type": "code",
      "source": [
        "text4"
      ],
      "metadata": {
        "id": "awnAG-PAMgrL",
        "colab": {
          "base_uri": "https://localhost:8080/"
        },
        "outputId": "dc94fc6a-875e-42f9-c57d-089724f0b9be"
      },
      "execution_count": null,
      "outputs": [
        {
          "output_type": "execute_result",
          "data": {
            "text/plain": [
              "<Text: Inaugural Address Corpus>"
            ]
          },
          "metadata": {},
          "execution_count": 80
        }
      ]
    },
    {
      "cell_type": "code",
      "metadata": {
        "id": "lOgSt9w9Ps3-",
        "colab": {
          "base_uri": "https://localhost:8080/"
        },
        "outputId": "1a23c1be-fddd-42c6-bd4f-b7d2fbf63e44"
      },
      "source": [
        "text4.concordance(\"nation\")"
      ],
      "execution_count": null,
      "outputs": [
        {
          "output_type": "stream",
          "name": "stdout",
          "text": [
            "Displaying 25 of 330 matches:\n",
            " to the character of an independent nation seems to have been distinguished by\n",
            "f Heaven can never be expected on a nation that disregards the eternal rules o\n",
            "first , the representatives of this nation , then consisting of little more th\n",
            ", situation , and relations of this nation and country than any which had ever\n",
            ", prosperity , and happiness of the nation I have acquired an habitual attachm\n",
            "an be no spectacle presented by any nation more pleasing , more noble , majest\n",
            "party for its own ends , not of the nation for the national good . If that sol\n",
            "tures and the people throughout the nation . On this subject it might become m\n",
            "if a personal esteem for the French nation , formed in a residence of seven ye\n",
            "f our fellow - citizens by whatever nation , and if success can not be obtaine\n",
            "y , continue His blessing upon this nation and its Government and give it all \n",
            "powers so justly inspire . A rising nation , spread over a wide and fruitful l\n",
            "ing now decided by the voice of the nation , announced according to the rules \n",
            "ars witness to the fact that a just nation is trusted on its word when recours\n",
            "e union of opinion which gives to a nation the blessing of harmony and the ben\n",
            "uil suffrage of a free and virtuous nation , would under any circumstances hav\n",
            "d spirit and united councils of the nation will be safeguards to its honor and\n",
            "iction that the war with a powerful nation , which forms so prominent a featur\n",
            "out breaking down the spirit of the nation , destroying all confidence in itse\n",
            "ed on the military resources of the nation . These resources are amply suffici\n",
            "the war to an honorable issue . Our nation is in number more than half that of\n",
            "ndividually have been happy and the nation prosperous . Under this Constitutio\n",
            "rights , and is able to protect the nation against injustice from foreign powe\n",
            " great agricultural interest of the nation prospers under its protection . Loc\n",
            "ak our Union , and demolish us as a nation . Our distance from Europe and the \n"
          ]
        }
      ]
    },
    {
      "cell_type": "markdown",
      "source": [
        "The first time you use a concordance on a particular text, it takes a few extra seconds to build an index so that subsequent searches are fast."
      ],
      "metadata": {
        "id": "56yyRd_FrRZE"
      }
    },
    {
      "cell_type": "markdown",
      "source": [
        "**Note**\n",
        "\n",
        "**Your Turn:** Try searching for other words; to save re-typing, you might be able to use up-arrow, Ctrl-up-arrow or Alt-p to access the previous command and modify the word being searched. You can also try searches on some of the other texts we have included. For example, search Sense and Sensibility for the word affection, using text2.concordance(\"affection\"). Search the book of Genesis to find out how long some people lived, using text3.concordance(\"lived\"). You could look at text4, the Inaugural Address Corpus, to see examples of English going back to 1789, and search for words like nation, terror, god to see how these words have been used differently over time. We've also included text5, the NPS Chat Corpus: search this for unconventional words like im, ur, lol. (Note that this corpus is uncensored!)"
      ],
      "metadata": {
        "id": "_6VXZNr7rUOj"
      }
    },
    {
      "cell_type": "code",
      "source": [],
      "metadata": {
        "id": "TcQfPcS_rbsM"
      },
      "execution_count": null,
      "outputs": []
    },
    {
      "cell_type": "markdown",
      "source": [
        "Once you've spent a little while examining these texts, we hope you have a new sense of the richness and diversity of language. In the next chapter you will learn how to access a broader range of text, including text in languages other than English."
      ],
      "metadata": {
        "id": "pGJEziVhrgac"
      }
    },
    {
      "cell_type": "markdown",
      "source": [
        "---"
      ],
      "metadata": {
        "id": "LWTIS3HxrrAG"
      }
    },
    {
      "cell_type": "markdown",
      "source": [
        "Using `.similar()`"
      ],
      "metadata": {
        "id": "WIwkGzsVn9eU"
      }
    },
    {
      "cell_type": "markdown",
      "source": [
        "A concordance permits us to see words in context. For example, we saw that monstrous occurred in contexts such as the ___ pictures and a ___ size . What other words appear in a similar range of contexts? We can find out by appending the term similar to the name of the text in question, then inserting the relevant word in parentheses:"
      ],
      "metadata": {
        "id": "XCeJy2TwroDs"
      }
    },
    {
      "cell_type": "code",
      "source": [
        "len(text1)"
      ],
      "metadata": {
        "id": "oo92GzTQp6KV"
      },
      "execution_count": null,
      "outputs": []
    },
    {
      "cell_type": "code",
      "source": [
        "text1.similar(\"monster\")"
      ],
      "metadata": {
        "id": "Dkg8Fut_n_gB",
        "colab": {
          "base_uri": "https://localhost:8080/"
        },
        "outputId": "5ad40b8f-fe1a-4279-f9f8-af8e94445ed2"
      },
      "execution_count": null,
      "outputs": [
        {
          "output_type": "stream",
          "name": "stdout",
          "text": [
            "whale ship world sea whales boat pequod other sun leviathan thing king\n",
            "water head captain air crew cabin body more\n"
          ]
        }
      ]
    },
    {
      "cell_type": "code",
      "source": [
        "text1.similar(\"king\")"
      ],
      "metadata": {
        "id": "ZmlZNkVEoFjd",
        "colab": {
          "base_uri": "https://localhost:8080/"
        },
        "outputId": "5f59971b-1ef3-4072-8287-44ceaf9868c5"
      },
      "execution_count": null,
      "outputs": [
        {
          "output_type": "stream",
          "name": "stdout",
          "text": [
            "whale ship sea boat man line pequod water head captain time crew rope\n",
            "harpooneer cry world lord day monster land\n"
          ]
        }
      ]
    },
    {
      "cell_type": "code",
      "source": [
        "text1.similar(\"knife\")"
      ],
      "metadata": {
        "id": "Yi0qqLtooNxE",
        "colab": {
          "base_uri": "https://localhost:8080/"
        },
        "outputId": "34a3dba6-94ab-4bfd-b4ae-a9ad02501766"
      },
      "execution_count": null,
      "outputs": [
        {
          "output_type": "stream",
          "name": "stdout",
          "text": [
            "head and side way ship time face hand whale more boat men place duty\n",
            "leg officers marines trumpet heart body\n"
          ]
        }
      ]
    },
    {
      "cell_type": "code",
      "source": [
        "text1.similar(\"son\")"
      ],
      "metadata": {
        "id": "a8z0RhYaoPBs",
        "colab": {
          "base_uri": "https://localhost:8080/"
        },
        "outputId": "a9cebbc5-58a6-4dce-ad3d-d7dc971558b8"
      },
      "execution_count": null,
      "outputs": [
        {
          "output_type": "stream",
          "name": "stdout",
          "text": [
            "side head part heart body hand boat sort matter time sense wife cabin\n",
            "whale book eye god lord sea mouth\n"
          ]
        }
      ]
    },
    {
      "cell_type": "code",
      "source": [
        "text1.similar(\"ship\")"
      ],
      "metadata": {
        "id": "RqVlSeM7oR6Y",
        "colab": {
          "base_uri": "https://localhost:8080/"
        },
        "outputId": "7c0eac2c-392d-4d5f-8918-46fbbc0dc4fb"
      },
      "execution_count": null,
      "outputs": [
        {
          "output_type": "stream",
          "name": "stdout",
          "text": [
            "whale boat sea world captain way head time other man crew pequod line\n",
            "deck body fishery air side water voyage\n"
          ]
        }
      ]
    },
    {
      "cell_type": "markdown",
      "source": [
        "---"
      ],
      "metadata": {
        "id": "DCMlA8U3m7ap"
      }
    },
    {
      "cell_type": "markdown",
      "source": [
        "Observe that we get different results for different texts. Austen uses this word quite differently from Melville; for her, monstrous has positive connotations, and sometimes functions as an intensifier like the word very.\n",
        "\n",
        "The term common_contexts allows us to examine just the contexts that are shared by two or more words, such as monstrous and very. We have to enclose these words by square brackets as well as parentheses, and separate them with a comma:"
      ],
      "metadata": {
        "id": "vaJ5Ybd1r4FE"
      }
    },
    {
      "cell_type": "code",
      "source": [
        "text2.common_contexts([\"monstrous\", \"very\"])"
      ],
      "metadata": {
        "id": "7dQjDbOKr72-",
        "colab": {
          "base_uri": "https://localhost:8080/"
        },
        "outputId": "418d6c6f-7a38-4f68-930d-c38d0f42add8"
      },
      "execution_count": null,
      "outputs": [
        {
          "output_type": "stream",
          "name": "stdout",
          "text": [
            "am_glad a_pretty a_lucky is_pretty be_glad\n"
          ]
        }
      ]
    },
    {
      "cell_type": "markdown",
      "source": [
        "**Note**\n",
        "\n",
        "**Your Turn:** Pick another pair of words and compare their usage in two different texts, using the similar() and common_contexts() functions."
      ],
      "metadata": {
        "id": "7k_WhkpvsB8l"
      }
    },
    {
      "cell_type": "code",
      "source": [],
      "metadata": {
        "id": "8TdFzjfSsF49"
      },
      "execution_count": null,
      "outputs": []
    },
    {
      "cell_type": "markdown",
      "source": [
        "---"
      ],
      "metadata": {
        "id": "u61TrJ77r2-0"
      }
    },
    {
      "cell_type": "markdown",
      "source": [
        "It is one thing to automatically detect that a particular word occurs in a text, and to display some words that appear in the same context. However, we can also determine the location of a word in the text: how many words from the beginning it appears. This positional information can be displayed using a dispersion plot. Each stripe represents an instance of a word, and each row represents the entire text. In 1.2 we see some striking patterns of word usage over the last 220 years (in an artificial text constructed by joining the texts of the Inaugural Address Corpus end-to-end). You can produce this plot as shown below. You might like to try more words (e.g., liberty, constitution), and different texts. Can you predict the dispersion of a word before you view it? As before, take care to get the quotes, commas, brackets and parentheses exactly right."
      ],
      "metadata": {
        "id": "W4UOYnnDsJp1"
      }
    },
    {
      "cell_type": "code",
      "metadata": {
        "id": "4PqlJAKK0JKc"
      },
      "source": [
        "print(text4)\n",
        "len(text4)"
      ],
      "execution_count": null,
      "outputs": []
    },
    {
      "cell_type": "code",
      "metadata": {
        "id": "uc05kKoa1UOe"
      },
      "source": [
        "print(text2)\n",
        "len(text2)"
      ],
      "execution_count": null,
      "outputs": []
    },
    {
      "cell_type": "markdown",
      "source": [
        "**Note**\n",
        "\n",
        "**Important:** You need to have Python's NumPy and Matplotlib packages installed in order to produce the graphical plots used in this book. Please see http://nltk.org/ for installation instructions."
      ],
      "metadata": {
        "id": "y25nnRlvsTpV"
      }
    },
    {
      "cell_type": "code",
      "metadata": {
        "id": "Jx2fI346fnPD",
        "colab": {
          "base_uri": "https://localhost:8080/",
          "height": 295
        },
        "outputId": "30b2c579-8d32-4f69-8920-18a4f4fa8905"
      },
      "source": [
        "text2.dispersion_plot([\"Elinor\", \"Marianne\", \"Edward\", \"Willoughby\", \"Brandon\"])"
      ],
      "execution_count": null,
      "outputs": [
        {
          "output_type": "display_data",
          "data": {
            "text/plain": [
              "<Figure size 432x288 with 1 Axes>"
            ],
            "image/png": "[encoded data removed]"
          },
          "metadata": {
            "needs_background": "light"
          }
        }
      ]
    },
    {
      "cell_type": "code",
      "metadata": {
        "id": "ziYklSVdf_dD"
      },
      "source": [
        "len(set(text4))"
      ],
      "execution_count": null,
      "outputs": []
    },
    {
      "cell_type": "code",
      "metadata": {
        "id": "g2Z8Gg-iiajT",
        "colab": {
          "base_uri": "https://localhost:8080/",
          "height": 295
        },
        "outputId": "53b46fac-6f75-4375-b167-7c3b28acc658"
      },
      "source": [
        "text4.dispersion_plot([\"citizens\", \"democracy\", \"freedom\", \"duties\", \"liberty\", \"is\"])"
      ],
      "execution_count": null,
      "outputs": [
        {
          "output_type": "display_data",
          "data": {
            "text/plain": [
              "<Figure size 432x288 with 1 Axes>"
            ],
            "image/png": "[encoded data removed]"
          },
          "metadata": {
            "needs_background": "light"
          }
        }
      ]
    },
    {
      "cell_type": "code",
      "metadata": {
        "id": "05eHJd7-icgR",
        "colab": {
          "base_uri": "https://localhost:8080/",
          "height": 295
        },
        "outputId": "4196961a-3409-4f5a-d11f-57136b258495"
      },
      "source": [
        "text2.dispersion_plot([\"citizens\", \"democracy\", \"freedom\", \"duties\", \"is\"])"
      ],
      "execution_count": null,
      "outputs": [
        {
          "output_type": "display_data",
          "data": {
            "text/plain": [
              "<Figure size 432x288 with 1 Axes>"
            ],
            "image/png": "[encoded data removed]"
          },
          "metadata": {
            "needs_background": "light"
          }
        }
      ]
    },
    {
      "cell_type": "code",
      "metadata": {
        "id": "mXY-SyXdiiMC",
        "colab": {
          "base_uri": "https://localhost:8080/",
          "height": 295
        },
        "outputId": "0cadfd89-fcc7-41f2-d309-48d951519f2c"
      },
      "source": [
        "text2.dispersion_plot([\"society\", \"husband\", \"feeling\", \"marriage\", \"independent\", \"Dashwood\"])"
      ],
      "execution_count": null,
      "outputs": [
        {
          "output_type": "display_data",
          "data": {
            "text/plain": [
              "<Figure size 432x288 with 1 Axes>"
            ],
            "image/png": "[encoded data removed]"
          },
          "metadata": {
            "needs_background": "light"
          }
        }
      ]
    },
    {
      "cell_type": "markdown",
      "source": [
        "**Note**\n",
        "\n",
        "*You can also plot the frequency of word usage through time using `https://books.google.com/ngrams`*"
      ],
      "metadata": {
        "id": "neq8ZtZbsdxe"
      }
    },
    {
      "cell_type": "markdown",
      "source": [
        "Now, just for fun, let's try generating some random text in the various styles we have just seen. To do this, we type the name of the text followed by the term generate. (We need to include the parentheses, but there's nothing that goes between them.)"
      ],
      "metadata": {
        "id": "0E_1o-pGssTN"
      }
    },
    {
      "cell_type": "code",
      "source": [
        "text3.generate()"
      ],
      "metadata": {
        "id": "LhFFcb3Zsve1",
        "colab": {
          "base_uri": "https://localhost:8080/",
          "height": 226
        },
        "outputId": "c42e0384-d02e-433b-83fe-1bfffbe517e0"
      },
      "execution_count": null,
      "outputs": [
        {
          "output_type": "stream",
          "name": "stderr",
          "text": [
            "Building ngram index...\n"
          ]
        },
        {
          "output_type": "stream",
          "name": "stdout",
          "text": [
            "lamb for a burnt offering in the city . , duke Elah , duke Shobal ,\n",
            "and Akan . and looked upon my affliction . Because the LORD God\n",
            "amongst the trees of the mighty God of Abraham his father , that they\n",
            "found a plain man , and the wo The blessings of my hand to do justice\n",
            "and judgment ; that the LORD that spake unto me , and put him into the\n",
            "ark , and for your little ones . they heard that they have brought it\n",
            "unto Hagar , Sarai ' s brother will I slay\n"
          ]
        },
        {
          "output_type": "execute_result",
          "data": {
            "text/plain": [
              "\"lamb for a burnt offering in the city . , duke Elah , duke Shobal ,\\nand Akan . and looked upon my affliction . Because the LORD God\\namongst the trees of the mighty God of Abraham his father , that they\\nfound a plain man , and the wo The blessings of my hand to do justice\\nand judgment ; that the LORD that spake unto me , and put him into the\\nark , and for your little ones . they heard that they have brought it\\nunto Hagar , Sarai ' s brother will I slay\""
            ],
            "application/vnd.google.colaboratory.intrinsic+json": {
              "type": "string"
            }
          },
          "metadata": {},
          "execution_count": 92
        }
      ]
    },
    {
      "cell_type": "markdown",
      "source": [
        "**Note**\n",
        "\n",
        "**The generate() method is not available in NLTK 3.0 but will be reinstated in a subsequent version.**"
      ],
      "metadata": {
        "id": "owaMfha4s1EO"
      }
    },
    {
      "cell_type": "markdown",
      "source": [
        "---"
      ],
      "metadata": {
        "id": "G0GY_I3as4sG"
      }
    },
    {
      "cell_type": "markdown",
      "source": [
        "## 1.4   Counting Vocabulary    "
      ],
      "metadata": {
        "id": "mmervAtcs5fe"
      }
    },
    {
      "cell_type": "markdown",
      "source": [
        "The most obvious fact about texts that emerges from the preceding examples is that they differ in the vocabulary they use. In this section we will see how to use the computer to count the words in a text in a variety of useful ways. As before, you will jump right in and experiment with the Python interpreter, even though you may not have studied Python systematically yet. Test your understanding by modifying the examples, and trying the exercises at the end of the chapter.\n",
        "\n",
        "Let's begin by finding out the length of a text from start to finish, in terms of the words and punctuation symbols that appear. We use the term len to get the length of something, which we'll apply here to the book of Genesis:"
      ],
      "metadata": {
        "id": "gLyQF7VWtBQn"
      }
    },
    {
      "cell_type": "code",
      "source": [
        "len(text3)"
      ],
      "metadata": {
        "id": "qpeQNN7KtIKu"
      },
      "execution_count": null,
      "outputs": []
    },
    {
      "cell_type": "markdown",
      "source": [
        "So Genesis has 44,764 words and punctuation symbols, or \"tokens.\" A token is the technical name for a sequence of characters — such as hairy, his, or :) — that we want to treat as a group. When we count the number of tokens in a text, say, the phrase to be or not to be, we are counting occurrences of these sequences. Thus, in our example phrase there are two occurrences of to, two of be, and one each of or and not. But there are only four distinct vocabulary items in this phrase. How many distinct words does the book of Genesis contain? To work this out in Python, we have to pose the question slightly differently. The vocabulary of a text is just the set of tokens that it uses, since in a set, all duplicates are collapsed together. In Python we can obtain the vocabulary items of text3 with the command: set(text3). When you do this, many screens of words will fly past. Now try the following:"
      ],
      "metadata": {
        "id": "0XeFTTKbtLOW"
      }
    },
    {
      "cell_type": "code",
      "source": [
        "sorted(set(text3))"
      ],
      "metadata": {
        "id": "h6UVn5qgtQ2u"
      },
      "execution_count": null,
      "outputs": []
    },
    {
      "cell_type": "code",
      "metadata": {
        "id": "SN-VR57AjGp-"
      },
      "source": [
        "len(set(text3))"
      ],
      "execution_count": null,
      "outputs": []
    },
    {
      "cell_type": "markdown",
      "source": [
        "By wrapping sorted() around the Python expression set(text3) [1], we obtain a sorted list of vocabulary items, beginning with various punctuation symbols and continuing with words starting with A. All capitalized words precede lowercase words. We discover the size of the vocabulary indirectly, by asking for the number of items in the set, and again we can use len to obtain this number [2]. Although it has 44,764 tokens, this book has only 2,789 distinct words, or \"word types.\" A word type is the form or spelling of the word independently of its specific occurrences in a text — that is, the word considered as a unique item of vocabulary. Our count of 2,789 items will include punctuation symbols, so we will generally call these unique items types instead of word types.\n",
        "\n",
        "Now, let's calculate a measure of the lexical richness of the text. The next example shows us that the number of distinct words is just 6% of the total number of words, or equivalently that each word is used 16 times on average (remember if you're using Python 2, to start with from __future__ import division)."
      ],
      "metadata": {
        "id": "QKFFrkC1tarm"
      }
    },
    {
      "cell_type": "code",
      "metadata": {
        "id": "Wi4KTZHYjDyH"
      },
      "source": [
        "len(set(text3)) / len(text3)\n"
      ],
      "execution_count": null,
      "outputs": []
    },
    {
      "cell_type": "markdown",
      "source": [
        "Next, let's focus on particular words. We can count how often a word occurs in a text, and compute what percentage of the text is taken up by a specific word:"
      ],
      "metadata": {
        "id": "VRaevxbFtjLG"
      }
    },
    {
      "cell_type": "code",
      "source": [
        "text3.count(\"smote\")"
      ],
      "metadata": {
        "id": "OelpqmD3tlgQ"
      },
      "execution_count": null,
      "outputs": []
    },
    {
      "cell_type": "code",
      "source": [
        "100 * text4.count('a') / len(text4)"
      ],
      "metadata": {
        "id": "BnWGxHtOtrKG"
      },
      "execution_count": null,
      "outputs": []
    },
    {
      "cell_type": "markdown",
      "source": [
        "**Note**\n",
        "\n",
        "**Your Turn:** How many times does the word lol appear in text5? How much is this as a percentage of the total number of words in this text?"
      ],
      "metadata": {
        "id": "tdzHz0vutuh3"
      }
    },
    {
      "cell_type": "markdown",
      "source": [
        "You may want to repeat such calculations on several texts, but it is tedious to keep retyping the formula. Instead, you can come up with your own name for a task, like \"lexical_diversity\" or \"percentage\", and associate it with a block of code. Now you only have to type a short name instead of one or more complete lines of Python code, and you can re-use it as often as you like. The block of code that does a task for us is called a function, and we define a short name for our function with the keyword def. The next example shows how to define two new functions, lexical_diversity() and percentage():"
      ],
      "metadata": {
        "id": "KSbYdz7ft5V4"
      }
    },
    {
      "cell_type": "code",
      "source": [
        "def lexical_diversity(text): #1#\n",
        "    \"\"\" function to calculate diversity of vocabulary \"\"\"\n",
        "    return len(set(text)) / len(text) #2#"
      ],
      "metadata": {
        "id": "xH6UWgyZtyZn"
      },
      "execution_count": null,
      "outputs": []
    },
    {
      "cell_type": "code",
      "source": [
        "def percentage(count, total): #3#\n",
        "    \"\"\" function to calculate a percentage of total \"\"\"\n",
        "    return 100 * count / total"
      ],
      "metadata": {
        "id": "XASSa7tauCow"
      },
      "execution_count": null,
      "outputs": []
    },
    {
      "cell_type": "markdown",
      "source": [
        "In the definition of lexical_diversity() [1], we specify a parameter named text. This parameter is a \"placeholder\" for the actual text whose lexical diversity we want to compute, and reoccurs in the block of code that will run when the function is used [2]. Similarly, percentage() is defined to take two parameters, named count and total [3].\n",
        "\n",
        "Once Python knows that lexical_diversity() and percentage() are the names for specific blocks of code, we can go ahead and use these functions:"
      ],
      "metadata": {
        "id": "ESikbHQ7uegY"
      }
    },
    {
      "cell_type": "code",
      "source": [
        "lexical_diversity(text3)"
      ],
      "metadata": {
        "id": "CPPRR5c_uqti"
      },
      "execution_count": null,
      "outputs": []
    },
    {
      "cell_type": "code",
      "source": [
        "lexical_diversity(text5)"
      ],
      "metadata": {
        "id": "HnUwywLHuyZ4"
      },
      "execution_count": null,
      "outputs": []
    },
    {
      "cell_type": "code",
      "source": [
        "print(percentage(4, 5))\n",
        "print(percentage(text4.count('a'), len(text4)))"
      ],
      "metadata": {
        "id": "Oevbe7KDu1WW"
      },
      "execution_count": null,
      "outputs": []
    },
    {
      "cell_type": "markdown",
      "source": [
        "To recap, we use or call a function such as lexical_diversity() by typing its name, followed by an open parenthesis, the name of the text, and then a close parenthesis. These parentheses will show up often; their role is to separate the name of a task — such as lexical_diversity() — from the data that the task is to be performed on — such as text3. The data value that we place in the parentheses when we call a function is an argument to the function.\n",
        "\n",
        "You have already encountered several functions in this chapter, such as len(), set(), and sorted(). By convention, we will always add an empty pair of parentheses after a function name, as in len(), just to make clear that what we are talking about is a function rather than some other kind of Python expression. Functions are an important concept in programming, and we only mention them at the outset to give newcomers a sense of the power and creativity of programming. Don't worry if you find it a bit confusing right now.\n",
        "\n",
        "Later we'll see how to use functions when tabulating data, as in 1.1. Each row of the table will involve the same computation but with different data, and we'll do this repetitive work using a function.\n"
      ],
      "metadata": {
        "id": "ldEKGsGAtohv"
      }
    },
    {
      "cell_type": "markdown",
      "source": [
        "\n",
        "![NLTK_table-1-1.png](data:image/png;base64,iVBORw0KGgoAAAANSUhEUgAAA3IAAAFaCAIAAADU1fjEAAAAAXNSR0IArs4c6QAAAARnQU1BAACxjwv8YQUAAAAJcEhZcwAADsMAAA7DAcdvqGQAAKd8SURBVHhe7P0PaBNZ+/gNTxe/LxG8oYI3TN6fC8ZvfdkUhabcC025faAjvaEpLpjifjHBhZrugqa77G6q4Ca6v60ThZoouI0L3onCSuL7KImwPomwPh3h55L44JIILs2+6C8jKN8MKCSgkIBC33POnCQz+de0pm3sXh+0mXNm5sycM+ecuc4513VN19dff33+/HkGAAAAAAAAAN6BD+gvAAAAAAAAALwDIFYCAAAAAAAAbQDESgAAAAAAAKANgFgJAAAAAAAAtAEQKwEAAAAAAIA2AGIlAAAAAAAA0AZArAQAAAAAAADaAIiVAAAAAAAAQBsAsRIAAAAAAABoAyBWAgAAAAAAAG0AxEoAAAAAAACgDYBYCQAAAAAAALQBECsBAAAAAACANgBiJQAAAAAAANAGQKwEAAAAAAAA2gCIlQAAAAAAAEAbALESAAAAAAAAaAMgVgIAAAAAAABtAMRKAAAAAAAAoA2AWAkAAAAAAAC0ARArAQAAAAAAgDYAYiUAAAAAAADQBpYhVkqRz7pa4mSCntGMYv5pKnbNN3VoT692MpansVUU82Lqdsh3bGLPLu3krQYHtUwxnxcfCuii3pOTY/8a3K51t3KjzFt8XupuLPSj13VkbI9xu/ZUS+cBAAAAAAD8Jfj6668Xlkbcic9juW/8cTFXeBPnWZIQipqOL7wpZFNB+wAOWq5n6RmNSZ4unYwYD+dotJoETw/AmIPPaPTyyIbM7E69jqaGwbe9ONngfla/U3Uen6D7AAAAAAAAgKXPVj6Mxxij89f03DmbcVu35o94WKJ7rAMGZoOG7bPM3giaGUP/DoXI2ADD8WwhZpe3zcOD3fJWFQPOhVyUHrR/jNsqby0T9kA4+2g+U06QYW3/NNDNZrBISp5/lMn9UjnP2Ec3AQAAAAAAgCWLldLjpPZSkB+mEqD4IJaStxg797GGbm41ju0zDbYkdRXjd31kwzy2u7EY+jqfJb+mEePismordG8uibBWzli67RaonHeQG1zCeQAAAAAAAOucJYuV4vN+/vPyWrCUuCPQzcMmxWTjRubjfuWCcWNSiavkd8RkbDwNKd0LR/AvZ97dWqqLgudcCYe5/qVIh6kH9Dz77iWdBwAAAAAAsM5Zslhp/MZRWTPOJ+M36KZ5d79iCZu1HDezaP8foalPerVd2j1nEuKtSdmSp/98aX4TcV+YJWvopv39xWtTozu6unaMTl1LF8nOEpJwk0iVwxauh0QoyD+MeI+MDaITu7S9Fl/qNY1vTupuUL4J+0iDlff6pISf6Xmm3Us5DwAAAAAAYL2zDEvwCsUHgryAzTCc6ePq1WnxxkT/Lmuw2xV/k/VsCLpuhEk0O2asyKWphKyZadSlPZzFG3vCME9iXovN95DslnkuhInwahhRz4DmU75Pt+vP5Uynw4FvOSR9pq9Nem6XND2bISZvy9KhedCwFOnwSTIm39j+QaUQXUKKHNretWOqkT07AAAAAADAOuadxMrU/SDdqplHLN53Wz8NiKwjeNGi28AYjN2hq7LAZ1VYupTFO0b7iS+7kItPG0ko4SnFI0or4AbrkMK25mlk4uP+yXumwDmbvpspFnNy9GZNC0vTT4TIHbKxRAMg8V5EXvI37+MaqnhuaeUOAAAAAAAA1hvvIlam4hE6NVg9j/gyNrXPlWAY07Sd24QjioXSsrZSl/GJECLinWHG5/xnN8N0G4dHyQ5GelteBi+tgLNjFRug1wn3gbHAE8Z02mHagsKltWnWaS7ZEjVBehCTFSSXaAAkJW7T82qnZgms+XJmIcFzsDwOAAAAAMBfj3cQKx8KQbpUrVrXRjJk4ieXDwucNts+Km2m/6CWPUoVTCTekViDdbixi5/SCjh7hJNnMnH65+2u+2jDbifpp39yTeE7MfI3XdziU4X5+B0ipy7VAOhlXJAVSYfNtSqeAAAAAAAAf3GWL1ZWXAuxkxzxf055GQucJHuOWshUIqK82K1UwSyJd31WrjQNmX8h+xFiOJYeVloBV3iXfBLkafqmwbfp2JlR7kiM6bH5H8WcAy2sP+fjwhWy0WfqX4p0mE8IAbJRPTULAAAAAAAAvINYqXAtdFA1V5m/F5PFr4oLnocRn6zLqJTkSuIdax4snV5MJmSzHoPpY1lyK88sVrxLindD1MfP2VH90GTgGecVMrnHftvOltaey2ZGhs+4xnOktRST9+h5KhVPAAAAAAAAgLBcsVLhWkjtwRGJhrJUyRn0spyXj1yYkucqFRJkWbxjJ4fLi9tI0CTKmiN2szx/+VKIyTOLFY3MfDpFxVn7L7nso7nwRYdlSNeyNmMxfsdLNqoW7hejGI+dJRtKFU8AAAAAAACgxDLFSoVrIRtnVAp1eempvNG9kQiCxTs+D10sJ193pJTEO8UnEMWrXjeWKo38tJXOVZYnPiveJYv5l3RLsxyT65L39aqF+0V5mJCN3hUqngAAAAAAAECF5YmVSCgsuxYyGqgCZRX53Gum+Gdg6r6GozGWwV0a8YY3hmVHKt6x46VPID4NTX0RQxGWUND5DzkqL9ySpUrZu2Q+cdYVkzTdpct5/x1Iyx4iX0vpu4GpT6diJYmzEcW7Udn7OjtePVcp3iLO2LV7pm6JNKpCUfiFntfaB8QBAAAAAAD+cixdrHxbFG/zrrNEykI8SqdfKr+Jw+qpwCZM6rs2jkvWfdo0NRgXY9OTkQ/tJhZ/O1F2gz66qxeJkPk/AhPD1gijs10WAgdK9jDFZFxeAWeY7IPA1CdT2f28ie0eHLFTc54bk72byXd7/qblTommi56ShVB9ik9j/HdkPhSRz+dVX/JJRb4lztglwftJKEEjCXJ+z5TOe6k+j1D83btHq91zNlW7CwAAAAAA4K/C119/vdAy2ZCZnlbFiTg9AvEqzg8hwU9nOhqcf7Ww8CLq2ImCrP4AH04X6DG5zFzIY9/PGWULnh6j+fDsXJbuLJGNHjVhGZPVW6bD8zkau7BQmA85TDhNhM643z4by1R21iN73UIOruFguHzNzC8OE7oZlnP8kqFRC9nwQXpgFZbrqnstPPBwLMvNJEvZAwAAAAAA+MvRhcTK8+fPU3EJAAAAAAAAAJbFsh0MAQAAAAAAAEAFECsBAAAAAACANgBiJQAAAAAAANAGurRa7X//93/TEAAAAAAAAAAsiw/+67/+i24CAAAAAAAAwHKBRXAAAAAAAACgDYBYCQAAAAAAALQBECsBAAAAAACANgBiJQAAAAAAANAGPmCyv9NNAAAAAAAAAFguH8z9r/9NNwEAAAAAAABguXzwkvlPugkAAAAAAAAAy+WD/+O//kE3AQAAAAAAAGC5wFd2AAAAAAAAgDYAX9kBAAAAAAAA2gA4GAIAAAAAAADaAIiVAAAAAAAAQBsAsRIAAAAAAABoAyBWAgAAAAAAAG0AxEoAAAAAAACgDYBYCQAAAAAAALQBECsBAAAAAACANgBiJQAAAAAAANAGQKwEAAAAAAAA2gCIlQAAAAAAAEAbALESAAAAAAAAaAMgVgIAAAAAAABtAMRKAAAAAAAAoA2AWAkAAAAAAAC0ARArAQAAAAAAgDYAYiUAAAAAAADQBkCsBAAAAAAAANoAiJUAAAAAAABAGwCxEgAAAAAAAGgD74NY+TI2uaNLy3lTRRrRHl6mYz9Oju4YCz2nEe0l9eMebdf2iZsSDa85K1SMyyafjpyaGNzR1dWl7f1kKvRHnsavPp1WMn8RVrrYaQN3J2gYAAAAWHFaFysTbiQA1DB2rWPEpqUg3vZ6T0/ZvvLFntCYuiRO0WzWst24Z8+hKe+VWPolPRhYAk8jEx+7cgf98ccLmZ+53C2vdZc1UH4W9+vUtZqaJoU+pbtk3PfpjvWEdD/kPTK2Z5dWziOqdRPHArE/80VGDF0BeakRxdQ1t/u7yUUb+DtRr5aiIdKeQ+7Q/feyV6xHUVUDtb2jR7yRh2gEWEycmoqsm1wCANBGvv7664XWeTHn7COnsRZ/Klegse8pcR7nxBx8RsP1eZONHjWQPDuj5Ry/KeTEuP+oSYfjWe6bcOYN3fP+8djvT9DN1SIXHmeYw9EcDRaSF8w61hJWPohXmehxIyl2htk/m3xRr669Kcxft6Nnww45o8/e88pYy4u4Z78OVS7bheh8tpS7Qm4+NmsbYkmxBLM0FsBkLvvjdFMm7sTFxKsj2wuqupz8LDJy+EXSfxA/HeN0/H2vkVnBY+5Bjcs2G5vPvpLjCtmE3z6Ac8z0eZJyHAAAgIIlipWoq54mfcrB8Pv/Skt6sIi8mFiJutJfHSTPdd5PuUd+C3nFswfpe+W9Izlj4FdZrMyGLajIphd93csPiGGOzjV8Qz8LmtETFGlo/SAGcb1iLfWz9iYTRLLLvve1yq0MqLZUtVB53LiiYuVCNmRG1+AuKR7Fq6gdX9fgSdGI95BM9Es0qGO50/HS2E/BY78J5e/EipYrAADvK8vVrdyhJdLUe41Wu4NuNUfzt810q4bunbbATR51wNJVq/V8isa+RzwN8cdW/bafpkN0qzkG6zH8zmauCvEG6nf5B0L8uN28jQbXCa8T7gPWkGRw3ghY6mZtg85yMeIURViELCNe5ace0u1VpDifiqCKavqYrFvIbOof3I9+UvH0e/p8xNBng6M/JozTkehxYzeNVNAzat3PWHYpsgwAAFACLMHfFc2Agz+OZezEt77I+6VnmcfiC3ordizsPrsTFa3k9tW3fBLD/05OfcppaHB9UEyct7vuM8y4a+qfjXO2yWj76v0f2bWJ/G9u62drUZGLceEqw/RZOXlanVJg3tKt95Bi6ozVelVi9geDJ4wN6h+r28VxBqh+AADUYcXFSumub/KTXqzvjdW9fQkqeFXbWxCDDIVV0KehshxRfJ4InbL2amssOt9Kwo+To0SXXLtrdPLHhNqWOJ++6Z4wbifJaXs/mfT9tkK2xhru0ymifRkI3BJJDLq3fPq2b9K0vWRoUm3wVLYvka6N0aguhU16xUq6a7txwn0zXZmtK6WMU3iZ8H66HWWO2pu/ToeOjZKy3j746aTr7OSUwsylqhiLD31jHw9i8YVhXEZ8IXRT/1flZginykWuuP9KZD0kwXdEvgd052NTV1LKQqeZNbpw4OQg3m5u9aXhxr7FRRuZCdaZU30Y8TF2c/mNrrh0147BiVOR9Gu6B6OwC87/5h3bgerMRIQUeCsVDCU4diyQKg8bnocqJVWuqwobDpX9EHpMhwZxRcT2HFPe76xe5d4qXsYCJ3FeHQdMdSaKFOjGbSXl0xJNqg2xvXBbeq2ktKW7XivOl7bX4ku1VkqYZukvMZt1i11Zt9HFrk2N4mttHz0WK7WrWoqpn8b6d7tIIi5apWqraD4VODKK7g11FO47Nf3AIj1JYx4mAhLDmgdl5WvK80T4JvoxmT5+DwWvhz77d6j0DJ7vLE1nI429PXQLAABAxTJ1KxdXjEMU4qc57stwBmvGFbIxJ34LVtTFSjGoi7owL0ctvAjb0BGXkjlqAZOLX+Kd4/JRah2pF3POgfKRueQ5rO2jGy9rfBbi0+gs8+wjohr0Yo7HauZGtbZTNojXqhbXrVxIEB2tZkpasnFAyQzlUZg/5zCRd4o5VL6jbMkGxV62VaEITmaArygxiWHbTpMnId+5ygKg8CjsmbZxJGX+16Tnc4djP+n8saprNnyQNU7PkQIp5FJY6bN09YbFKD9NhW5lIfOzrCzK2H+pusuMfx++japYJYUEz7FGZ4wYmLzJJS8R/cC9niTV9y8hl2dLVUiuEgjWKVQpWBbmjrO2SOl2iDKi4Wg0S7Iv54KlVkGF+YiH/5wW29wDj+0bh5m8FC3X/38NK9irOD/EGo9HZWsZuTwZ1uRJVW4jc5ms0StNZwoZP65UiiItJHlUUX8mjeBNIUPqfBNlVllXr6VqWUXjarPwbM5zmmbZHJqPnzYZDzg8M07Z9Ic9LquuNiklkr8m6SOWls06FbLwIMiX6/a9THjcaDrs9MzQezBdbq5HWleNshQphu3jfDA2F73sIOmb/I/pERj8oDl7hPZSciNtUVU6eQ7Lk45faRkQiNqrqmRymVQ0eMFhG7YEyXUL6aBjiNWdUNj0FLJzlx22AdKWe4y2mUorK4jJaMhj36uvbo+v4s7pis7x/EWOZTk+QSIKuWw6Hr7scYxzjhg9Kyt4SPo62/UmOSO2dIjxsPpii1N4Nuc/ajOSh6UbsHnuKRJoXgJvCuRunfb9plnUP+fmg0dNelSELOcIzVeK6E0mOm3Ro0zOJCuRuAdDhyofaGE+5DDtRJE688xc9k0hPuMH0yIAWE1WUKws/OpgR/zKPgz1fejU0msMkwkRIQYJVUTyyFwyVbrjMtgsA6F8Z2T8IwyrtOQQ5WNKavKyUYjifZ/5Ge9Xada3U6zMBPeRQ4Yr+ZULqiJWIl7NOXBubeEXNEImc9lUEY9w1ljVi4paAFS6zvgJHDbunyWFlssk5uZRgrgEVHnJRWyqq9cpxlqxElGYO4rvUnUuojDnZKvvXMWLqB0JdjPKPrwQP4Hfu6onhViSWEnER3y8ui5hcZN1ltNNnsbHKDIiC/oOxYXlGKP5AqlguUxcmKeFXqdkctHDbJWta+Gek2TGMVeWkh/7cYVWW2RXF+k9dFlVmTe3kaLtq1llq8vi1UZuAoYhh18eayGoyN5KKS2W/hKzialbIWnd9kTLZZry4GJXtKx6NBErOcf1inSSuYSfmPnncmK4tptU3cL87DA6pHYYU4tsUlYaJSLhKRF07mXV8hDqZFiW1F+5OpGhFwmWPCHk7vFoCGr8MpgkjUu2ApRHRKUxBkHViArJ00ZlxSukZrH8jdsUypFOj+UqhNwh5OZm+CB66G/m8MNt4kCAPhFG0R21Qg4NVFAO7CE6yJ/H40m2JAcvUgKlCo+KnI8+8vNIFkT5lI3SGFSFSKZfxT2HPeFfPPj2VPdPHoGibuR+wZ2Q4xd8SOExsXsrlTMAAKvDyomVWPJTi3HyuwehfI3hOTYUZTgRz6Lupv4kQbWjkIKANe6c92iQkJwdYpkee1SWe/DcCaP7RtGh1BFl2ihWykmpjpHf4lXCGXrXokj11EvSM1ARj0jWlOWDoDJruTDlR2CPqQ6S376K9yVKa86vunp1MSKqZSAZ2dJTLVQhIVU5HqiFZK3G+lVOqmp+aGliJc4amddSJY5kceO5yg1mr1tYlpt9RIP1Hq4sZNijVVOnmJqSIYVpUKRPwFUaUXl88mu4qViJ3nMoJec9Rck18+hUpyKpoFVRCT6ylWojyyiqGkKPWbyUFk1/idmUaVgh1U27zmE1NBEr1ZFyF1Sue7h+cqrKiU4jom0z/wMy8qBChd5yIU7my9WQQS+uTmLQcTqewwMwI/8AJ5+5btMppzYJ5AYqd5UTyHhGKVjLLUItaqPnW5nRlIV+PBLLxS/I489SdW0sZpGHiFiSa4VMeBzngMp/FPLIlLfXuAQwOXK3w2ZnSJEh8qTY01gQjV+exSsepFWyyn6jpp2S+lOpz2gUUdOKAQBYWVZMtzKfTt1mhC9k1cYSu91knyhVTFtY87kAGmCmTg1qv2H4i/UVejbSX0r6fkBizL0qI1mDXcguPJ41bSEhjcGZWMicI9ppsrrYQaLPt1KUlPT36eRxOGLjBrqhxLDPjsSs2IVIWVOweDccNo+VrU7SD2MS492zkRYYYbsVq2oxgqTSQdRuVuvTfzQ41sdEPhvc820oJRevhrMdKN8OpqoYG9JjdRxnmYdTvptlHbNFjWNSQgjlSaeVy79MD2fGcz+x2IPGCpSL0mebwmtzKU9IoMp8xUTognbqIH7byrBItsvO2XeiTVmJkHPckPdUod28iW4pqSqZ1F2syqljtTRM0XH7sCARu51oPTPdhkEzk3Lv7h07K0jy3ffYbLLnvzpoumkBZnN19fsGnOgtSxff0fsTC7h4ubn1asNsUOZ1I1OvltaW0qLpLzGblEYVsqrttFpvW0GVfdxLxRhhgmiLlhk8RfY9lZprWEoPYoJijFHIJoPfaIWvBger1FVRjXycjDDs2MfdkRsa+3Fj9xbTbDbu/IeGeRqa+jQgDvC+o2rjmP9A/4VyJ9k9NDqG2vGdsuG/GLpeHEUt4o7y0UrCvX7rcEkd90k6jiTTff3SGV7cazeSp5l/IERQndnd30hnV3yCTkL061p2rSBenRq7IhpP+xwDqhzgUlbcXsMSIOTvxXyoCbPWyQN1u3+Ncdxu2CS3Stb2z3KrLwrXPSnGYB1S9ANbUf8aCd6muri6XdxgT900AQBYKVZMrHydz6IurGohlRK2bKVHYbaYPDfIcLxVpHRK/aZsRJ6YsAzxqa224KXaaZ42Is2TVyzTUy2JVNMzZkPvg4ee8F353ZuPXU3Z9lVyX3yN5JkGEzMnZF20BmiMzpthxxAjnLf2/3376LHAEmSfajTcIR51z4HpABV/q4xjapHEZH33LrpeIltEnjQ2ulicbtNBYhF+1hskH03J3w7MjljoEEIBsUTpt/2cM85EvXTabxlIYqos9qvQ6ckjuCEuITNbLYEHs+YeMXJsj1bXaz0bE5tJK93aHXJliKefkt86aHRDY0SuNI8N0Vfm8qtNayye/tKy2SkUX+Neqv56xXWin9MQSbiJhDTOvJs+Ag1rsJyLBo+y4o1J0xHlB2iK8TtehhnrTkc042aFjJOPzTiQsOWYdhhUIlmx8IpuldDpdqO/aZHYTkk3fLlPnRxOKFco2Uzlb/HxEXtZOCUSmEH/KCDs5ks+qvLCrQCuM7sbZos8ZTSK06hupwkvY95jOAf8l9U5yNEtmUYlIFNM3kNSpYk/aVbemZjGdldcT7lDTQk/Y6mSK2fyZSx0RkLC6qCiX9Ltd/EDTOyLQes10kYHnLN7m1u+AQDQZlbWEjz+FPXai5N9JuZZlrnvss8kSv3kosTlTrYR+TuuPXouusMTfxR07jN0t3PGo4aH8Rj5tRn7F+uRZQlJcl+N4dfuk3CAsY0RPXcF89nlSYTbzB4hnYl50Ns9dnZi0LDHfb/l4qyix+o4Wp6wxLMC/Z+P1bwPFLwt0ivVulbBUy+MYVOrr6q6aIZsPF6AjvluojdfvanT1+nAoe3a73LWO/PRi3Zu6zs9b5qZtwXyo0Ce62r9vUvo/oc9nM7GLzs4Bo9ztn88EWkoMjIGI56ZQi/R2IPGsmt5Mk81q7fcatMqi6S/pGx2EvHl+P/MJ+M3UE0w9asar6Z/9xj6ka6G45U0U4mrDDMk5rfaVAOh57HAT0gqmhwbrqpN5HjGoq9MGbK6j8gvalyvhYBktfcxmk1o+FFa9nkembrJuSryk5i8jZpJKt5tdZR9VOXjwhWG2T/GKYf0akia6O5b7TSkOwEfysGRMa5qBeBhIoj+HtSXeowGJSBTjMfOohuzjqpKUhRuCqhDHZM/KIV4KAQfomuNlpp9MXE1kERFc4RTDZs2GZ3XghZWClmsy+/9AAB4B9ovVhbvRrDEtAG/eqXrAhn/qijeDanG8vfdE7dH59IRNMpMnTJP3Vp0loPV7UJ/pfC92rRToRvkZfzQa/qXe/5gMPC5fuXHqkUh5MG3wjotI4tfTTM0NoWG11c8gYdM6mbAcFDlR0azAXWjoVgdDydi6Gptfmvp1o040Nt97rSJlQTXvikivS4DDfdFacJSioWu2BbJ2ladHv9Eko/rd+XcTrJ/+ejGPsfmJaljvsjt2qnTfOwYN3FF77+KrR/eGfoWjzwS62dm2LDkzGxgjeOeufR88Esj8yQwdsCXpjtqGLAQAZoRLoZaH2O9c7VZhFbTbz2bHcIG3EuF79YWUVG42uyT18UHgg+NASxc1TKLho44isXy+OphPIwS2mK1VbWg5yL2tHnQWJVC/lZwFh0/PkbtWmTw2CwiSsXEv9Omz/EZWhbJbHkyWymGTsZM04qpvueJ2B1Uix2eY5W1dXmh2bxPlWoV+p1EWVTKZlvrNMQnOAfWgeocxH7GObCVr9WoBGSIDFp9Yw8jvtuMYboihqbu4BXwyWEqQxbvB+c36LN1ro5G1xbyiYqE67C39RYEAEC7aLtYmY/9XsTKO6yBG0a9wxR/pWrSRYzcLlQ86b5O8KeJSmW30fEj6gsk3xf2ip+8Buj7sIZ36pwnpJ4OEa8GsjvwCFl8EEswzKCht9yrrhzF+17XWdRrspYLk010DxUYzF8hgS3huTQZiIyNDanO0f/Div4Gpj2Cumcv/hYQ2abCzPNYpLwMvYHljkdjMwZUnKk/adySKU1Y2vd5kt9WtD8bYOCIvXbwbtUHcfI51PezTtPud30U3SMWvBDOBOyHaqZOi0nhJ/QIBtvlS88wRC5V83Wf/AuSmZHBRTOTLM+A3Y9UnOR36y0XYtiHy30h1bCS66zT+LtNzEOX46dWJcLlV5vWWDz9JWezI0C9FJKkUsf4QNXE6tNIrNjE37e8qsuO7a6SaYrxu3iejhngDKVJQVkj0HlYtcJb4W8bVXWpmPKd9kmM0fOVWSmC6Xqw1kPubiD+sY2uN2OBWJBeFhOnpsQvZs2KOUhZh9J02q6YRMzHb2OpsskKOEKz20TqvS9wu1R7a3mdCJW98xI2/02dg999PGqMAx77PpqD5iWQSiCZk1P7+BRD5zwpJBZ/U1nVx6rbfVMmWVv3dSqWG9RlgxLjKHcsqTPWst9fzYDTh3q/h7PCHzQGAIBVA4mVavXyFnlDf6so3uED3UbSQ+jGvrSjjcihwdEzsbT8ynmZCn01Ed9dlgnE0BGP7pxT1ijX/MMZvGRipJD9u5Cq36rW1GG6h618HxpVh6wHJkMPyYvubT51bXIiYbIpJrHE5+Ul+Hw6laSbKJCXhYVs9jH5XZTaxdAS+d+9Y/uwK2bjdCSwX9VtFl6r38AKdAcceCH8J5/4hbnqvaQZtnpQ1/nQvWdkMnBfXo4qSnfdYyc3m9SLZdkXVennw+dU5abdioqZY8urTjXFWIYm9VpSGyloOMsUkm8S9zfbFdqfDaDqmNIZqv5IeSlEfmJM0zalVFp8RW6kQRVqiIazTaMrMBLTaOpUzJYlGymZLD/c0vMm1DOFqSkZuuYuub1XlSWaF276mBHeVh4JbOrGml/3kvOlNpT/3ef5mWxV6kza85Ny0qRbi2u/rvJcasANgRgIJ74dm5BVxBaj9WrTGtWl1EL6S85mkwq5XOhtF58rK3JFAbEOPWOOw7iXmjCOum+n82SKMf8wNHkozu0r9VK1yB/XYaxG1ZQ5k7/Du87gEaZj2laS5cl6NDs5qh49YraweG5Q1QqKibN2133WEgo61CnLBHN6e2lRm/2wF/2NfjfqYqbU5jL5+J0Aw9hsexX3n4/HfpJXwNOpJpKWhpu6RDrtbx1VI3bKS8F7PmcspcySHBSUei+vE94vXQnWErzmKHUZjUsAQzQm1boE4lWX46qOv8lXxGJ5BZy6nRcj/84OjuQTVyTmMNevEVN/oKctiWlhXrFUQno/AADWgq8nTFRFvRVezDnl/q6Pr3Yv+SqbDNmNKm8dsk9yFbovS+4t3hDPw8Oz80p/HI9myTIMg91Ql+Kpfw3GNJumMYiK87MyA/ZoWfWeuqTRmWfCc5FZ216b/yLxndFncRy2yy55F0Q/sXtgHdV+v9W8yYbxiwfhjObKeS7kxLj/qAl3XVVue2XeULfY7NH67jyIO54GbiCJZ28VLIcdBcsU5mfJIin22Ky8KvEeQrzfkVjiAb5S2g2KkboUGXAGhTD/jcpfCYG4b2zZN7LsLQU9COwkD0GcZuvGw6pkqUc69Cycc028YNaF+FlUu8aUIfeJymTI4Y9Fg9MW0wm/h7i/MR122IjX6MKjWSyTMiWX3Qrqlgz2/o1fdUZ7iDhulL2799jCKt8rpevutDhmPI4DRtul+ShxkcP0mO3HPTiD2CUQazo9lyFOXogvPZa7sLjTkxy2gMEp6fZ7oulsQW4O2Hf0XPA4WervsVWcOyKaVxt0q8QdKbPfnym3uBdR4khVtijHNCmlRdJfejbrFPsbWrcNJ+bKVa50Swan0KQaogeBDzIeD85FeAfJTt0T5y+SOFT3ynGv4uRbCUp09pIX8Tq8yc3J3drhcrsgvcE3coeksym95JBWqfKJU4FUHtbiT5FkXiSx5gDqTCI1rVB2DqV0mIogrqbquG0vzDnQjqo2S5z1mH+eT14sORtqTCaCunH8cB2X45lSj1d4MY8dtk9Xig1DXNWyB/3U42YqaB/AbVDVRpqVQMlJ04Az+oxcqEC0d1iT54HqOtnr2A0x9o2FSulCFGeZnMhdms+E+DDu9pM8Kv1yOi/inpFWfdoDANBemAnTLrq5CLITuMVQOztE/cR8hJe/HsHuNNkvJ8u9heygDlN2+ye7VavAxytu/Eoou6fsnGfcSJLWm44GS76tKZmIw4TeyvIu1JOSlwd6/c+Sr6So/Axj6lu5Vm6yBnYnx407/JGk/BUWFdXOBeuZmj72m5u4gXwRnz1MPjXB6IzjfLTcTde4Lay4nHwWdhywmYdJgZDSRsJuqUiaFGMmil+HrP7AbOXZVCjMHde14Be6Qu5RmJcfCkpzr302llGmWlPsiAZ2uPVB92Ou8jJIySVnD+ACK3/hg3ja15mO4pdQzXMsP+6mFSw3H56mHw7BtRe9z2qL6FX1dePTqDD5YKIk8SU85nEbN0QepnyYUNc9Ql0K2UTQc9jMyd9fwbD6Ic521B9O1al3DatNdcvC1aa6TPYHbzUspRKN0kcsLZv1ir1Oq2n6dKoQo44hXJEtF3BFrs1dtl4hUF6VHzSutH61TKNE/qxOHVg9N2xzXI7iDxMokCu8+jM8SnLxmfKXacz1KxghG7JUf2XnWdBS+/0qRALLV1UuOHIxhw63BdITtsKLZHjGbi7VOtTXoSoXfVzv5pAAR9u7zri/ur0jmpcA2YurtFxv8IWmw1U9OSY1izvzHkWf9mgWdVtoxBWXCzwb9scK6I2A6ie+mR6jbTpaGT4BALCKdP1Tq7333/+N2zQAVJGPTQ6lbanyehYAAEC7kEKfaq03HHMFT2ta6QAAvAd88L+Z/6SbAKAmfzcSr7F1BQAAaAOykyasH0kjAABYB3zA/Of/oJsAgJBSwt0ENrGSIq5jGn4cpEoAANqP7KTJPjJY1/4OAID3lA/+838s8l0Y4K9EyjvSv4cb7P17V5fWnpt21HFfDAAA8I68TAX+7WUYs2EXSJUAsK744COQKoEKeu4L/HU1YoCSDtb/RC8AAMDyEa+Odf29fxJ/tT8yoevq+legJTdaAAC8D3R9/fXX58+fpyEAAAAAAAAAWBYr+01wAAAAAAAA4C8CiJUAAAAAAABAGwCxEgAAAAAAAGgDIFYCAAAAAAAAbQDESgAAAAAAAKANgFgJAAAAAAAAtAEQKwEAAAAAAIA2AGIlAAAAAAAA0AZArAQAAAAAAADaAIiVAAAAAAAAQBsAsRIAAAAAAABoAyBWAgAAAAAAAG3gg9d0AwAAAAAAAACWzwf/DXIlAAAAAAAA8M58kPozSzcBAAAAAAAAYLl88J//e55uAgAAAAAAAMBy+eAjA90CAAAAAAAAgGXzwab/94d0EwAAAAAAAACWywfMpv8P3QQAAAAAAACA5QJ+KwEAAAAAAIA2AGIlAAAAAAAA0AZArAQAAAAAAADaAIiVAAAAAAAAQBsAsRIAAAAAAABoAyBWAgAAAAAAAG2g6+uvvz5//jwNNeWHH36gWwAAAAAAAMA78P3339OtdcTSxMp1WQQAAAAAAACrhjxPty5lKlgEBwAAAAAAANoAiJUAAAAAAABAGwCxEgAAAAAAAGgDIFYCAAAAAAAAbQDEyveIvHg74DoytmeXtktG27vn00nvNSH9ssi8FQOfuhP0SABYhMQpWolawX2fntUYKfQpPRjzaUii8euI+26au1Y4BW1xZZGujdGirmYs9Jwes2IUUz+Obe/q2v6pL/WaRrUFdatcSn9eVTmVDfBpbIrTdmn3TN0SaUynsFLFCKwtIFa+H+R/847t2LzdNOFOaS3/jucKCxgx7v/WkP23tffvG7v+Y/vEDXowALQCu5efE2lVWngWNNNohtkfzMqRhdx8xMmxNLoprOV6LvolDaxbWBMvZEpFlg3up9EMYw4+kyMLuXTYOdRSkQHvAnsgjEo787OlUtasPYwrbtiylUasFFLM81UEyWjijUnP7XYOoIwnFuYvcDSwJAacqEKGx2lISeqazXtXYiTB+0UoReM6g6bFWLwz1cJoFuhEQKx8DxCvWvW7pyJPUN/Bx+/M2gZ03RqyQ9OtG7B5hPTccSMJA0DLbHJGQk5uG61K9dF06/fx4Ut2GlyE7s1/p1vrFI3zBhIZS62vPpruj8z89YB9Aw0DK4lGNzQ6SLcZZvfg4Psvz2/e0k23lgyr1dGt956nIdtnXroNvG+AWNnpSDesg5/JKxpGz09O4yYSq6KbOx0MHoQJEmAJGL/h69WlOnTvnXUO0O2/NAMO/p/NJMoKW0yzMNJbx7CmqQtmJMLpxoP83k7veA0HAo4hlmE5Z8huoHGdQaNizCfcB6zrUY3mrwKIlZ3Nyxj/Val9jdjMffJWLTrLaW9lERMAAABYKTSGL8OZhYXMZYuutYHGWrLN5BGyC9k5fmjZ86ArRJ1iLP4ZmPh40AXL3+8zIFZ2NOItn680aOP2cc2WOLaa7cfpZoW3kvDj5Cgx8dlunPD+lqfxdQws8ulrU6M7UGD76LFQWqFArVaNl9Xhxdix0e1d2t4vIuUhZf6PiPvQ4HZ0iLa3KgVgfVB5xF3bBz+d9N1tYT5BbUkwdk1xSjsqJ6L4Z2jqk16UipabCv1ZzN+cWHOVrDrWJLIFj7I0UMzzkKppXUunfpwYxNns0u6yum/XMbBo2sqKuJRweWr3fIt25SOHwIavHg0rXqLKJmvsWkJVFeXer/qpqVpB8WnMe2gPro448bGpa+ly6pi3UuKad/JTekDXjsGJU5F36CqL6ZvuCSOqDtpeizfxksYqqWMDVGt5Rs3LFNlXWvxIgu/IKLnh7YOHlFepZ6X3NDZlwm+GiZs0gYbNs14xSjcnevUTgSfkAIZxGcm+T0P/V419IT1e0dCqHgSwlnz99deyqvmi/M//+T/pFrBKZPzD9DEhHL9SS4FWeZX0kJUF82U0IMzNnTAwDGsJoW0ZhYHF/tngtGrNjj0+p7xYIVbWrjMHn+Wih8sLFpz/MT4g84sdn9/nnMstLIh+PG86wMdfkZOB94K6JjsKMiFiGyE/4jcZWenCOB1X1pP4NDkdoUih8JjUB9biT6EzS7Srcr6I2lEy+/2ZN+ik+eCX+Eg+QXeuMHVNdmRy85cqpiTchXkajcjNOftwudGyyEXLTcswYHbGcLGVzFCUBYJp3spyv+CSIOW5kHsUtGO9BT4u71vHLFZvq2le8QrZqEJ7wSnIkXNORme7nCyZaqmemjlUuWbuV2flAT3g5RXnShsRw7YeFGEPv8Ch7HX8vBDs0GyS7JfJhsoZav74CnG5XbCWoIiuHef3ezwnyHkIRVEobIBogtlfHJXV8ONzJI7wZn52mGEPBjOlnBZSHhMpLT++BK669HKUgqKdBrNyY5QZ9uMybd486xaj4oFWjnyjei72XxQ9CW4IrOVnVUt5L0AC1XqVqUCs7GAUrQ6xxJdlYe6o3MQd9CWc8pCuxCZ3aoiKEID6vuPR7JuFzCUTDZfPkknwNJoxey7MBsVC5me57ROx8rFfPo27JLdtJHfioGFG2VsCnU3z13PpERvOlZ7pPSeJYJVdfF2xcuFF2KZ6FSHaVjkzl8gr88toKSLpGegEsRKh2Ksqzzjf45irjLji5aalEJeTHqruYpKHbZhFWhkdgtpjpTRSHiOIldUsXvHkKkQZwbJR9rrNppbvlU9NIQ+F5dEAfUCFOQc5oCzMJU/Ll2a5i2SYoejelTW2RbGykKBiKztdOormhaAoinoJlsuB5rEEqniKKvdqziEfdZSWVvIcucJ4uNzmFU3eM3sByaMZWu2JWLlY86xbjPXESkQhzpd0wAzK0Sw6XpWF94Z1LFbCIngH8zqfpVsIs25JXjOeBL1nyaLA/v5eWW1li2wmGAjUei9jHfx3JnYDo9tVtqoUpXpLKgwTCRYHLds0uv0uzxCrG7eP9hSFy64Y2cftklfpuzdr8U/qXFgokgjg/abyiHUsebSIrb2k95d8P4abesMrJi54Cud4yzYaxrSvckqSgH9+HOW+iohv0ZbBflqWd9cc1vJd6TV/wxN8KG8xxbvR6BdWrp6x1OAuWhgMozfQZYqY75bsE2bRViZJd3DQZ+Imb5Iy7LPztVoxf3FaqngGx0+lB3fb5ft3wHXbxB+Qy7wZiSt2eeXYqCcHawatF806htV/LocZ/YjL3IPqxWYduxmH6QPEZF+olspbIC/87JJrBvdR6d76zHbF6lZTNJxlqpRHX6RSOcO+EYcVT6lixBteL8mR2UBLS8uSa10JhEvr1BVuBIu7LTqNznzMw7E62+FRdGg7m6fGaD9pkzdTJwOxUg8g3glu/nysVARARwBi5ftCXCQtvEWkBzH5JVRL7IFa3Qexu7+3NaNgBNenxz8ag0PIZi6bWSaVONPgzqRY6k+6CbzPpBNX6CPu15UmOcoOdO7EEk/pZg154Ttr0BAMqt/Kbayc+p30TZP4cWy7fsz3e14zxHeK3Tp6zY/IWylPSB5h5WNXU7Z9lUmlBmg2/o1upVJyu1+0len11Gdhwmfejv1L5zXcabImC5RoteL12Xiq5yN5v4hxJ1Evtygp4SJ9QBtp09AYDoczC9n5S/R0TZ89/HgBRfj3kQhJLEuy2ddLHX+nUz/Rrd4Py3en691NtxZHWTmvlytnzP4pVxrbSInbDUsrVdNM0ZvB8BH+0fzDMZfNyHlsb/PsHrE4aV4DAXnsxKQilwyWkU4zRfqrA2JlB7NV31/uMRiJwaM9BY2++UFUp8UnEXrYDausHd71oZVGvcy/wxwip68yfXwuJulWScO6q2vwpByRKr7DlYBO4Xk62UCkIUTqDngK+ZT3E/2eM1mttjwpQ2lj5ezeZ58t+x5/Epn8WD96PtUxlU5nPUrfg9JZb/AJusNwgLGNlWaDmqDrKa0EPhLxksXirazb/NVs2XG9eGOyXz/qfQjNT0XLFa/b9MVUSSKPxx+1MJWoaCO5V4sVuyT4vrC6HmkqvftSUdSH5aIb+5zKfNKZEJ78Q5VTsiucjYhi6fsaEQstLa2FllYdOXi4+s2AaHPz1HC201QTJnYygGTh4t1w2DxWFoSBDgHEyk5Gbxyv9DzJx+r1QfxZhYJK+Zox8kKucF3x2QnEvmC13knVAUuje2PjNuy8R69QBvwd/kV5HJwc6Z+6hd60Cdc+l9DI1rUNldNg/0Xwj5dnQ6XYtybbNXVLWTs0Q2NT9D0d891Mpe+GdPu4d5xaadjK+uzRu35iFEKQYlMjtlDDieS/FGLgu4rPCsyiFa/PzlPtQ8l3OrCkj9Oknip0l6p4Kwlnx7ZrXflDAX5Yu5HGrg2qyb9bong3pG2wmmyuMYgJH6hppt0b62Wnzc1Tt9dWkoXdodti/HZsbHjRuX9gtQGxspPRcJ+WB81MJFG78KBh946VDRkYZpQbol8AYdmS9d/NeJ31ijayRVa3wcQedNa3wYD2sFVH9B4aYS4vjFf4u8lzK87L4o7ktR4JKd8kba6cm/S2y8n5ELGSxkihbzvnI3UG81e0gabO2W2XjebhlqTK7NM43dqlw5O9rbUyzUc2/wNqb4uRQo5r0CQZ5okQ2ahFlXQpFa9YLI+F7k/5bi5WTRUPSLgp1JebXifc/zLsORYRv3Q5Bt5thk1xuULVKlbraLixb6lMFrvhcl02qleTWbakqVnv1dMy7W2eW0yW4yVZeMbq+kM5vQp0CiBWdjZ9dm/Zu8pPgRj2GVlN3SGvbld5QcynNoMQQ1cS7Vwb0/T2lyxeUz+HE4p5qeKdQKTeDQPvGwau1JVXFvheZmmt6hvUK81xZLo3b95idF4LylNA0lWHSzFF0cbKmTg1EcHK+936A7NC2k9nnCSmnTX83dDttVOvK1Ki2PKCXbFAJ9cMBiK0L97KEu5DEfzu79ZbLghl90bS284piTUjddNXZHF5tF7xxGv2gCE2V5Zgpn2L1EtN/2D5e9y3faH7iqNf5/NY8isKp80u4urVbOx/12VbRX1IP1PNwy4Jwz47HfTcDqWrK6eud3eptNCrRznt/SQUUGawMSvQPBVTLfcTvWCs05GAWNnhaIwnUO8mt6OI4zvVrE8zBkxTpQXoyGdW120Jt+SiFDvp0wwb37VTU8GaDpa8lT10m48EUsRGL/8w4HrYb1qS9TrQoVS68vICX/FFlkw5sJbvrA1XobZZAjd5cqIUsljd5VdR+yony4qen+gbX/ORjZ8m01EjRIjoELaYbHROyGBtumCXz+foFiPOU4/uJvte+ZRFWxnLPvf4aAlr9J/zPJlqMm3toJJYE4r33fZjqe5NZPTdWsUrPvRO3Rn1fG7gDvFU6nrociyiFNht+oJ6/EGtxHVwMvAHmeCTYq5PPUl8ZsXoKn4bT2eKV2dn5TDibYFutAprOkBXgyP3kqWpxGLuBd1CCbaUYs+YjUrDJnuNJZlxb3mtLGI94Io9J6X1POa6qBltbbZ1Oc1zg6actPhMKj4NTf07TcMyfbYpes92c8d9NwgggN/K94JMxCEPtNkhhz+RKbwhsW8K2bSf9i4My32OP4RVppDgy2PzEjrb9fIhCo/Tw7PzJMHcLxXfzPwDchRB4Q7d4BQUrmgpmXBFe4bCDoE79PeIQuZy2Vscenj28LOKYzgZ6g59gMeOvMvu0I9jx88l6tSosntFDMvxpcrTrspJfPKx3IloFt0vvSsjn6i++ZWAunmnsPbr+BbqI7ucrO9dr+K6zzBgdkSwI+qc4CRveJabSSrSbN7KiJtMlnPGyG2IZJ54/X+SoFByHU9gHVFl51TIzUeccjUre0BcrOIVsgJvYhl7RE6oMHeUHoTqleysHqNwOanwdV+In65JG9V5Whszfmp5TUBP6tdoyTspouKSXeG93K7KTjW0DZYqfG7+epgvtxoM9aXaPEHarBSuKBXUy1GPLVzXHbrsBF7NIs2zfjFmwzRfBNYSrvYIu1AQsFJo1Tc73jvWsd9KECvfH95kkxG/Y5wzVixJdcZhznZ0NhhL1n+nZedmD5v0uJGy+r2O4KNyu1d6cpbhgxWvuRS5L1Z40y1RdsBbAfXgvG2AvPZ6jLaZuSyVKoBOp87zpVS7+M7dm7XvN5JnzOqHbJ5Y+WMciDo1CtWS2sQrfo/bUzk94RcLWWHWPoLvSzdin71X7/3YXpQuuNUov7miIBceZ2xUUqlC6RE6k7vnkRuRbsDGx2ql0CatLBucCefeZOcu2E24f9CZDs/GKy6+1yGN620tBk+KnoVpWPEqzwJhDsVr6iF5vrVPX9Ef4qq4l6aNHsGcojoUHgdtO9Ee/Gjk+ELCgx8Wq7dcoOMH5VcACLVu9hWgxz1jI68DnXF8NplbiJ/Wc/vtzsvhuVQmR0YUiydYmHOyrFNoKKGpcnQ0OF+pxbXtVO3AHD+jxs2zSTG+Ss4ewFfUDdj96bo3lvT0qZ/pe8g6Fiu7kFh5/vx5+lyb8sMPP3z//fc0AAAAALSEGPiXV3t91lRnyS7h7hp0kS0kstQxsAUAoIqiMGVMWVNKLyjvH0igQn/XpUwFupUAAABtRrwxsb1r+8RNok73RIj8w/yujoUA4K9LMXFmj1a7x/s70e+8F0t/ZX6vZcr1DYiVAAAA7SUV+iogMmLgmoDkSvFuynwIfDYDwHKRYrPfCZIkTN1OIakyfpdx7CeqIEBHAmIlAABAe+lm5bmUt0whHwuI5vJ3lqvJ58q+s/Mvy5bgAAAo6O6mznHfMMU/AxGdve5X9YEOAcRKAACA9qKznvNj+4ybrsnTeet3DaYqn4fGNo/6aIARvurt6upyU9dCAACU0HBTP/PYvOnfNtutfv5zmKrsaECsBAAAaDP4gzePsgsLmeiMRd9oZmWrJUxNJyvA904BoJbuYWf08cJCdj541Ahayh0OiJUAAAAAAABAGwCxEgAAAAAAAGgDIFYCAAAAAAAAbQDESgAAAAAAAKANrIVY+Tafvu2bNG0fu0Y/vd+I1I97tGWXwjJ1z205wZWiKCWuucd2jIWe04g6lG6yDZae6HJXpkabX45h8n/GvJZe7akEDTfiZWxyR5eW86awo1kAAAAAAIBlsupi5R8R94/81KFJ322RxrTOk5i39ty6kauIdMfr/s5mtrgiT2hMLcXfQ+4zU5PtuEnxlhtf7pA31vhyzOtE4JR7anx06lp6jQRt4D0gjxrjoT292i7EduPY5I+JPN2jIJ8OHRstHTPhvpmucwxqBXe9E8bt+CBt7+ixUPo1jW+MFPlM2/VpqG79LN539+O0KvSfTdF9HUJREn6c2PNZ/fuXyT+MuD9tMozMp2+6aaHtGJw4K0hv6Q4lLResFPoUH6VgIvKS7lsZ8ulrU6O7UM3Q9lrckT+XNCotSnd9E5y1+cCYUky5jV1dDYbH0rUxmt0SEzfr1lAAAFaLr7/+mnq2WIw2fhY9fgJfGn+2f+nI386vOrdu5CqS8Q/j61d/xV+NnOuqj/Evi5YuV/jVga9X/n4/ACgoJHgjY7SHkrk3JPgs6hxi2YPBDNlLEcO2HoZh9dwwZyw59NaNh1XHoOoYsuh2WhwzHs9Ri172WjzgSdKd9clet+AD9wfrtdiMf4QkUsEWfkH3rT054jNIzmb9+1/IJvyOEepar0F7z4THdexefo6cn0v5UXGwQ3z8FdlZovWCLQhOeX8Zw0zzJ/CO4PtnBpxRcv/ZmBPVJT5RILuak8vEPJad8s0u0oMRCsnTRnxs3X6sMFed7b5FKh4AdAhIoGqjTNVRrJFY+Q5SYPIc/n5F1bl1I1eRbHA/vv4iYiXJdTvEypYut5Dg8fVArARqIe/jaskjPcshCS6So8GFXPSwznJpvhzOROzkDa9uaKlZh+KYhRdRRx8+xv5LJa4aMWjpYbE8UE8sQ8Mh43S8FQllbSiQW0vwje4fQQ6RG2n99p752VwlKxfuOVEXxh6OVkptCQWLBPFWRLS2kblkQoKrJ0WDuD4dR3KxJdyCmFjAw5g4Kb7F7xkNfjhSU+r2Y+g21q7PB4B3Yh2Lle+fyY6WreNhv24kAAD1+TMVkxjdVi0NynzUj8TKwB9pGnwei30YDnyuLzsf1u2b9Z3DgmXkhlBW5pCYQZfiGGaLyX4EJcOE/2ik7yGGTgb6z3kHabCKlO9M0XXY2Llf0NaQW9uqa3D/GHIIq9slh2ooCoFjEeawmdtCIxCaf9rsw4z0kyvwkMa0XrD5W97QsMuylQZXnJcx78kYM2w3EzGXoOE+mWSlkP2isNhauEazAf3V6XbLwaa8Tni/yzouTtJgFeg2rnGuA1XTlQAArDFgCQ4Afz02dW9G0uFNQaUa+FxMMoy5h47QimmG+9xQJd4Z9tqwaHNTLJ/I9hmqPnqxcROOGNtZf6QnXp0K7vY75E9m15C/FfDc9U3uHZs8G0o8X6dGZL8LblR82s3qctP1j6BCSXluUy3Slgs2FTjtE2asew5NBW6n8/UUNNuLdCfgQ/e/u1d1H31GK9p1JhZv20MrJmYcueMek3rsUyZ1lffd9Vi5iakrsfTKapECALAEVkysfF3W9N8++Omk6+zkVGMz7Sq1a6rkvhL23ZLgO0LtD7Ca/KmISgX+ZTr24+ToDjdWDieWClhVfsfo1K3aeZeiQt1+dPJKPLe03jyfuoIuRNTwTwm1GubElmKQKupzE97bYsO+WhKwuTc6bhc20GmgrE6U69Hl0LM45FWLEkzxeSJ0ytqrJblWkk9HTk0M4rOorYbqHl4mvPIdanvR+8z7ndUL3zJ+j+jpNw0wzA2H7XyqVGeKiSuzkQHetY9O/2iGLWbFdBpFsxGLNgf1TVYHss9FZoC3DVcJRYSnoalbY7ONPulbTPhOYolFvB/xHbMOfqjb821EXHk5aZWRnpXmg9XoevAEqJRqaGZXt2Cla/wUanpSWrjinTD1btaP+X5fUZuVfPJeBP2Uhx8UjU6PFb6DiT/k8LtS/I3nGS8/3GDa+nmI/xb1WFL6bsB7aLT379vHfizXZAAA1pIVEiulyBFu9m+OOFadmY99ZxDP+ZqYQLMHwnPH0avO7BEyhTfkq7jvYjDeiKchq2FPYJNdwHdVyJzURU+OccdipDMqpq653d9N2r7yYQvrp5GJkam4hrMfNeuexLyfTAZUZtfFxCmu95ho/AmrphXu2ruv2idv0n2L81aMHJmKaUyOC36HPhc7ucd6RZVH8cZE/3CY/SqGDSMKKc/A/JRpO/dVrE5B4BxNhF9qe3ey0h/YnZDpVKJGAM0lTpm406mizqhjxMSVqT0Ga+ipvCuf+LebP+mwngxVv8pQCeyeEoc98ccLCy+Szh1Rl7mXKydeTLn3mpNDwXl0h8+S/v2a8JlQ2yYpgNXAYD/PGxkp9m1//6EAGlyJV222R9bkHWf1/GQVxQJqL6YhQ8Olx6cB/pw+eK1uOmLgSHhsxtJQJNUYnamFQi47nwjPfs6xaMx0fmzwX+7E4nbl7yGPs1VtrvvvZF7ucTZLgtU0KFjUeaIiy4nJaIg39zDMk8jkx/0TN9rXbVYjpkhfp9tSPZdKBhxS8nEjqXgpvBZcRxnXsca6EPhz6ijbmWQsyO9HFUqMfIVqcmTlsg0AQKusiMmOGDSr1bFzEZtSt7rKZCd3jzft9yTVVpCIupY92ZC5xcgqkqfxq1ChQR934uQdcxXrADnGaJ6JZol5LCI5g5fruEsV41dixGpUqKsvLDz2m/CJLZnscN+E58s5fezHS4r7FOa3KY9RZTaByMi6/6bKPcjWAKz+c39JpT83f4mY1jKGij2mbLLTY+JjpWLJRrHIjlCaGjxDDwvBK1TiM/4R1vGrwmriVdSOjzH5kZSJuIfKSXk8LqV2mCIBqwpqd0h2w7Cs+Vyy1hKklsxlE8M65mqaKuZVZu6CDSVoPB7O1EsreY6zhEp1WK51DUxeZHKPsH00vrujijbaIbRw/w1N9GRzH1XPg5E7sTppLlawFd5ko8dlq6pSU20/cdKt1OaLmigZzrViit3c6DAXPcxV92NNTQ+JKTpG0UkCQEcDJjtLJJ8VmUj4bmXo2D1iIYJXHcSbk7brhtnrDsMmGlOG3Ub62Tah7eFYluuuXEXXi7s2UVLo5WzEf7ipoyYW65VjDEZ844JUGoIXhdmvQtL+SWtFXR2Jbpx1H91cFO5Ts758Dz29uDesaKrlIxemEozdPKScCdCZD2M3GrGTAbU+/KDrpK2k0t+t/zwQPIqOSrkiau2mz1zOEVl2QAVq4q8SCfhGIFqef92q09MtSvFuwHXbatqtmCnYpB/EGYyFyDPN5/IME47+VrmOYZ+9dA3gvaH7n87wZQd++pIUmZny3Fl0FTEVuZC0XJjiapoq8zw09rfte74KCBKTODO2/eOJCJ0RL/HQO5Wy8QeaLJ5X073TFkxg6U066w028dL63tFntOHW4vVeVU2uFV6T8t/SrZqiW7RglWxgTaeF+Ak0Eo65Li9qPbMsiAJuE1Kv3/Wy+Vsur5Z3DDScqayFHeEFYkpf00kCALDarIxY+dHgWB8T+Wxwz7ehlCy0aThbrcne21zq/OjYA3Pwgqnu22ZjSbZrC+z+YDY7Z9+JNovS/ZDbwjluyHuqILJlmQ2qYPFeDKvb79KpM7ORWe6tqlLPx4Ur6KdamV9j5KzoR3InSlai9dBwn9jw70Ox/iKaDJWAhbRCXVOdYSb9MCYx3j0bsVZlie1WsvIli9fdhkEzk3Lv7h07K0hyMj02mzwPCrw/iNcmrPdM8dy8f1zHSIL7X4ssnopXec8uL7+/3ggCL0ouFF7MU5+OTwJjB7wVD+bFlPvbpP104+XvRmyzeLAvm5iQasfSaoeg4Vw3eTSejH2xZ+LHhJjPS38KoVPW0ZMC2skZFNbfiOYFWweN8ZjHwTLSlUR9Fc53pGYUWgX1B7Rsnkfs57Weo0t2BaD5p8uDxtVSoF3KnQAALI+VESs1RufNsGOIEc5b+/++ffRYIFHvpZC9Mmn6Npa6EhFW0Y5Puuu17uq3/ZwzzkS9ZNVmSaT/wF1/tbp6u3iSCtMtNRpdP5kNTVYMcOuxrRfP7t4pz6zWRacjRrjiy4ZTU8XX6LWlWuOucIKsNW21BB7MmnvEyLE9Wl2v9WxMXHSeC+gwxGvWwRmd6yTX3a23XU7GT3MsIwY+tbp/bzDb8zQ0dbE/crGZaKjZojcdDc4n/Lge3vfEfpeji4mzU9lvfOZlecDRDVtRasX1ZbijGXDGHgUdezXRrwa3f2xy3ZB0B3A2GcZkGapTwA0KtgGbuLHPUU/HrMy0nWZjU7mxe1PVKHVJiKHvfP3nFlPwrY88rpaYdWfjBQDvFytmCb7N7BHSmZgHCR+xsxODhj3u+9W9nPbz2ci0kZF8tm9Dq6Fq/TodOLRd+13Oemc+etHObV1O90dELib+tNmE4PJ5izpFRIEElNDZUO2mFrrbPtmx3iIsltR8tUGBmu5/2MPpbPyyg2OIyXzztTmg03gZcVtCvUcspUmhbuPxKG6MTMI1E6nz5F8n3IeiY9ecxtrl71q2We3Hkeghic/IaEOKzZ4UfJ9sphPfMh9asTnxDSvxytD06/bbdP10a13RvdPi+WUeq1E+jvtPWPSPIm6JYY86rKWvGdWhqmAbo9MTGXVF0BKLb2b+WVU1EUW8+MP273iH2crfQ46rwpSB1JAyRhfedXKQBGocViiRx9UAAKwpKyZWYrp1Iw4kfMydNrGS4No3JRtdK9hsPBEMHmSlq1ZrHRPm9pKPHeMmruj9V3nTO/R7mk14rk96ll2R6TlWR7rFxHx9TbLq9bFqiJUuM2xoukpVLLxCf5slpdmACigUq/OBaDF0VbH+toE1jnvm0vPBL41kbc63IotuwAqQTwgBhjGq3ARpUGPEX028IVaP8d6Koa8CustByzYasRiawSErrs0fynVMox3muKp/Q+RjhOSzkNywrrupDkmBMQzSbxeuU14nPNMBhrX4vuKajvaqCrYhhbcMc7h5P7BsWMMQVs9OP1cPrfM5HGZtRqxltGy6e5WVRP43QGppj5EE1YqnVeB5SrvhIzkAAMDasDJi5fNYpKwFuIHljkdjMwZG8qX+pHEKdJaLEX6ASZw0266t5JRlMSn8hIbXg71NJgNaQL8Tm24zP63Mwv02owl/DVmI3Ksqimz2McOMWLimN59/lBAY1jky2PTNlE7dWSQp/T+wJmdg2lPlUbP4W0BkyavqfiRSzn633nIhFh5HkUKqyZwT0HkQ0yslOmJBVoUY+mJS/GK2ZZkSUywWKxIGa/L8OjdX9e9nF3bSuNsVxEFPk5Fe8b4gHHSpLOTWG2LoiNn90MjfDCyqJ6Aq2IZIiVtZ/hC3iOy5XHR7bTaGSd1OqjqpP7ECj+HbseZy8SL8w15dT9C/80Rl/DMvCdqJCk99pEQ4e9q2UtkGAKA1Vmi2Mh8+p1rX1m5FI06OrfWujNhkdP7kMTJSyGKtWiinppFqslId6bNuZD3EbFkekpJJJKvJ5PMtzpVqhq0ebJsSsCsX7t/myAtakXhjcq+aXEpn/caB3rCx73yC0lffQyH4kHV8Y63WulJpEYnhfwfYg77JIXW//ob+yhTvBD3oBTatSKpYyNEtCs3jQ/eekcnAfdkmpyjddY+d3Gyi3onTnp+Us8vdWpycrv7zBTqPbiOH3tW+m1UDB3E+wbDHjYo3txj6bEL8IuysMsvNpwPnS2sPb4s1io9i7GrYcmFyyRKGlBLuq9V08ef75ienzet2rhJr5uyxXtU5f41VF3JLBZsX0XBOvRwtXnMEdnkd/1hq6bfMFrP9nJG5ExEqiypFITIrsXZ+XFF3ngruI5O+3+r04e9O/klCeKjO9tOQ49/93i+XpZYJAEAbWRG/lcSpm/HLYPIF8T32Yo4fYHRfRqnPtcL8LJ6TYwwn5spe2LA7dARr8iRKcW8yfmJSwx4tnYhQRpZcS9aPrCYXPUyW3YYc/lg0OG0xnfB7iB2M6bDDNk1cyKVniRckg1MoX7Awf5HE9TnL91pI0ckVdsg2G5mbi8zaDtgsRN+I3evgT0fre06rl+u6VyTGEygpfo74rys8izoHWO50XOHkLhf9BstxKC/BFDkxh1eideP+ikdMxKNZ4pVQZ56Zy5KTswJv6uGcv1auj8gJ2DEHKobZNI3BiEHZZWAFlpstu+rEnuRY0+m5DLlc4TE6mOUutOKvDugUMtdtOvRQT0Tlh7jwKoNdHg7w8XIVepMJHmRL69SKf3j9mnUKcn2cn8WjLFTHovMvSMSLZPBLk/lCUlFd61HH72MOz3njmu8MJjK5XHZe8DsOOMIi3d1JFLLXZY9aZv/jBhl9EfeU23u9TqmQnZ8jDsxRK66Xx9YK9oGHjA+NtgvR+Sx2ih6esVhac0H6bpC6MeKJ43uTneYaK54mCbLbTobla/uFwrMwLb7LmUXqCaKO38qkhyy2GMdno2mU7Uwy4rEc8KxCtgGgXaxjv5UrJFaGHQds5mGjPCXG7jQ5QtRvN3X5WwF7xK2J5ONyV1KBOM6ljrsrYJe8dSPrkkvOHsAqWroBm+cevp1MCPWGOtNRLAjSTrAMeuE1STk75xknuWP1lunw/KtscL/OdHh27lmDTrJOdqj34AqKfjMrzNr3ytpkOuM4H0zUcbqcTQT5cY5qqA3Z+EjJM7qSXCZ6wW4uKSeZ0R2qUmp2D+i9OHvYRNLH9xBVvvkSHvO4jarHyeUp1LlDoMPJPQrzcjXGD9FsvzBX/goAqhthJDc0os9TkhUKmesO0056pG6As00H463UhTpiJRrMRB202stVOtl4lLh2VLdlRJXbhJpmhRq88ksNct6RvD7u8AvyiK+WFgu2kLxgM8oKLXIDb9QFtZ032bkZ+dKof/CoOxYMGq9iR8EzVQMM6k1dScMeW6aOWInG9rM2uVtDV99vn21YjADQoaxjsbILiZXnz58n7XMRfvjhh++//54GAAAAAAAAgKWDBCr0d13KVCtqCQ4AAAAAAAD8VQCxEgAAAAAAAGgDIFYCAAAAAAAAbQDESgAAAAAAAKANgFgJAAAAAAAAtAEQKwEAAAAAAIA2AGIlAAAAAAAA0AZArAQAAAAAAADaAIiVAAAAAAAAQBtYIbGyKN0PuS291msSjQAAAAAAAADWNSsgVj4XvGdc9oNW17V0kUYBANBxSHe9E8btXQht7+gRn9BkDFiUhB8n9nwWamGYiIeU3iNjgztQumOh5zSWkE/fdNMr7hicOCtIb+mOKor33f34oAr9Z1N0X0cghT6lN1ZiIvKS7iuRT1+bGt2lxYVrcUf+bNwXNivbovAdSqEuWvfv9KA1ouUMqiifRerAqUg6T3eokATvoUFaNT+ZCjVLvCjd9U1wVnVNAwBg7fj666/p58EXY0mfRc/8bEaJm0NZGgYAoIMoxE9zLMPoBjhuSI82MCzHJwp0f5lcJjpjoUfsDzZvz4V00DHEonRsF8JJMVd4Q+MJmfC4jt3Lz5Ekcim/BR04xMdfkZ0qMv4RcrkKtvALuq8TKAhOWmIlDDNJuo+CM8sMOKMks9mY08gYl1O2L8I2srMOrHOuJr1VpLUMVkPOYlj9EMcNoA1Cjy0s0t0UMWjp0VuOejwzDstOuXSMnhTdqSCXiXlKB5iDz2gsALwXIIFqSTLVe8RKiZXZEIiVANCppDzGkkyAySU9e8nruY+PV8kGBRJO8Hh3U7Ey9yuSLRjduH8+R2OUkHGmSjos3HMakIhxOFp1eOFXh3G6+i46CST1LiLEZC6ZkKipkIQKc8eREG0JV521WNlmLptNp+cy1ZI3To09vpZSZasZVJP7xa47qKgeYtg+gCudOu/J2W+UVSgXPYqqCcPU1BNcfHjcEifFB2Il8J6xjsVKMNkBgL8cidvpqRu8SZ7oQXQbHJcDdhR86IpWLa1qNPjvVt0gCTWieN9t+pdbPBicu2zTd9PICkUhcCzCHDZzW2gEQvNPm32YkX5yBR7SGELKd6boOmwkV+1E8re8oWGXZSsN1uFlzHsyxgzbzX00AuWV+2SSlUL2i4JqNXeRsk0Jb13R45xuEw1TinHhCmMbHlyzImo9gyqk2B1t+JKiemwzz/7kQUMR5kZYeCpHMcxzZvA7ZRXqNn1h59DvzZQoR1TQaDagvzrdbjkIAEBHAGIlAPzVEMWtdnOVYLSFMx/Ev+lnSzezex6x7XMlBvjIRUtpaVPN74IbpardrBY4df0jBiQ8eW5X9CbztwKeu77JvWOTZ0OJ5y2q660mqcBpnzBj3XNoKnA7na+nGyrdCfhQZnf3qoqiz2hFu87E4kvIk8H2OZmoU1NMCAHGxq2d4L3MDBbnmSG7oequ+8y2YfQTEcuVbqvBoBh7YDQbcbXZZ6hftQAA6DBWQ6wUb7utWEd7++CRQPq1HJdwY3VsGXdCjnseGqMxXWMVE3JqVK49hY/K/+abNGFN7u2mqQgd4OYTP06OYvuA7aPHQqX0FUiC78hoL9ER324cm7qSUuuIK4zWX6dD3+7RonTOpzrwhQYAbUJnOVgrr2g2/g39Zft3lOcwW6QoXLCHJMZ2zG6smlcrIT1L0y01uh48Tyel0rS1FxO+k1hiEe9HfMesgx/q9nwbERuY9awJ0jV+6j76SQtXvBOm3s36Md/vVSYn+eS9CPox96ilII1Oj+WnYOIPObxsivE7AWacW7u5yuVmUMNZ9tXOY28kMqNFv00O1uNlVmSM/CGu9mQAADqQlRYrc4mzE94netsFn2c/k/hpgjstr5IYnQsLOQErV1XYagm/yc2dUMS9TATO8K5vsFE5ftlcm7Df3Ww6Ouv/0ije9o7tcyfyYugLa5DhHBeCzr2F2Fmr9XxCKREW77v3GFzZvYFkdmHhTS58SBM81K//xJuSpc/nicCPZaN1MXLSm8TxYmwmVv81CADrlmLhFZIqbcadNNwqT4Les6h1Osy70qFTE8QAnFjv/lFj4vs4Wx4synT/XYt/HmezJMhojM7UQiGXnU+EZz/nWDQiPD82+C93onasuEawB8Lo/nJiMhrizT0o75HJj/snbiiXZ8XUTfyj21IlBcnyk5R8XFUGS2TNV8DbnMFCAVWTEc7QaCzzVgyc9uhDQec/1i7HAAAsiRU12THs98yVlfQLcw58QWechssxfCWmnq2PHMMMOWUbUoJsK8rqP/fPl/XZX0Xt+DhF+i+idrbKSLMQJ2Ire7Si8C4brRuGHLJBYjY1Fxc72GAAAFaCwpyTZUyXMjRYxbMgbiR1zUouYc03psfkuBzP4nZTyAqy1qbCNFi2SmEcVWYmtGk3sATKPcLW4ghla+0g3mSjx7FmIMOY/I9pHLYgIVF8goZLZIP7cbzhXJXNeLOyrQUboa+xDfjSM9iEx34Twzp+rZefN4WMMGsbYpkBZ/hxPSswinxdMNkB3jPAZGeZ6PZZK0r6Gl3/PvSTFssOxjQbN9OtZmg2kSmNoVHsEIWi68X9uWQ9ZNOX19026QfV6aeuuHySwTqsnBLVGD+zm9CZZ73BJzRqI9b7Zjbvt5nJQgzbxxm3wcgY+GuRvx1yb+P5g0tVYMunUwL6MZ+c9YwbWdxuNOyQM3AOSUoJ1z6eWnD0GW248Xq9V1V2F4XXZEZzS3fd9ta90xZMYJFL2Vo7iA2s6bRAhqkx1+WSqcpzMSlvNCD1+l30a9Z8BbzNGUzd9CUP+qaGa/MjhSwbt3OTgbsSc989tqNqShgAgM5lNU12NjJEgFsqdKVscarSTwmhFBJAtVUK4D2cGesAxWIPVIs13d2tiLgAsB55nfBMz/PnHdUWFYtTzMtuwDdsJD8Udp8dL0RIbkG2K9dwrps8GgnGvtgz8WNCzOelP4XQKevoSSyScoY6tuOUbRYP9mUTE1Lvtna8UmiMxzwOlpGuJKjazFadXt5oAMdWBsdLZu1XwNuawach/pzeO22udwJrub6wUMjNU8+UYuBTq1flMQAAgA5l/VqCS2Kyfjek6yXO0iJPYPgLAIhiYsYhHgs6B5YhrmSzj/FPv04tG2j6ucP4t2xXrhlwxh4FHXs10a8Gt39sct2QdAesZAncZBlqNkWqG8aHFTvJcEfFJm7sc9TbMKU5Os3GpmJV9yaV/L0k1twGnNCuDIqhY7P9NwOWJsY6mm79iCOYivvxMndC6TEAAICOZf2KlW+LtKOvfSH9B/5j2LS2vTMAdATiNZvrP7yBA8vz36LV7sA/89Vuibo316wxdO+0eH6ZxxqEj+P+Exb9o4hbYtijDmsPPaA+23T9dKtD0emJeEzREoPo2gIRxRvo7zIM7SukflvrFXBMWzJYTJyaiO5rbSSzQWc9jD9rJD0Wa6zAAADoONavWEkXayLJx/V1fbidzRdzAGD9k//NPfVkMnpi2TNgrJ4Y8aafU2PuKvQfNhAy8LJ7gGEtvq+4RS9dYAyDpQ9MdiAFNHA9bCj1JqxhyIR+qgskn8PhZRjaV0gIF9d6BRzThgyKVycDPf5gyyMZjZGzorR36BoqSwAA0DF0qFjZjhVqA3ccv4qCd6sc9JL+j3Wadq91/wwAa0rxvtt6We9ZvkyJMYxMGRgmdTupbrG0lXH/oGE1YuiI2f3QyN8MVHtlr6F4XxAOuqyVD7p0GlLiVlbpVVG312arLZA/U2FUVt+OLS5EN+K+MLv2K+CYd8ygeG1i8rltdkmz48ViEUmsAzARAADvASsrVuZfF+hWfTQa/LaIz5fNPJ9GPP+O4403JEjIv1APixXgeYKGaLhDPDb6PqM2I30pRH5iTNO2qu5PlBpeBQDWH0imHL2om71srnq9S7fd6q8pLkafjT/MMndcvjuK4dvzWOAnxjxT3cowr9OBQ3usV3XOX2PVa6BSSrivXuh8nfB+Nz9Z36pj9cmL96tth8RrjsAur0PpVXGL2X7OyNyJCJVupyhEZiXWzo8rvVIsjcSd2Q5YASe0mMGngvvIpO831fMUr1knntjCx6uk43z6396YbPuF0qpxUyreCoQP+iaHOiHzAAAsxor4rXyTix4lL4L9/swbGreQizpInPlyxTdeEnVPiB6T/YTHedhkOj6XJF4kGZazHXUGHxXQadRBujKpwvws9lvJGE7MVRyaiX75TPt1hX/L6zb81hywBx+RA18k/QdZ3Xi4cgflWx3gKy42AWBdk7uH7bJ1Axw3rPpn7GGYEX+N78pC9jr+YDhqu/7H9VwMvorzA6jlWfwp0sqyUecQa/wyWpVOITs/R7yIsyUfsWpy4XF8DXavM5jI5HLZecHvOFD3yDXigYeI4Ebbheh8FjtFD89YLOeS9XwqZoIHWWbEE8ddSm7+koVVevFUsVjZUuI8yzqFJgesMotnMD6Nc8WwfNmPZeZndBirH6qudXoUe5z64py/gN8Iuv2eaJqU65tcMmQ37Z9Nlv0Tqyk8C9Piu5zpnNIBgEVZx34rV0CslL37KuATpS6mTMX3byZ61IQ6a3anyRGaR/1CNmTWjdhnYxncqdQkZQ5lqQvlCtgRbuP0F3KPwvy4kbwPWP3eUsoy9dKnuwBgnVJ4gGXKRtgiajEpIXu/VqL6fgHl1Xx42oalUiyt2vjIvCoVuaGxem7c4ReI0/S6iFHHXlmJEgkfKJFkrjyS7AgKyQs0j0yP0Xx4du5ZY0nmTXZuRj5YZxz3KD7loKDFskUksFTZWU7hF8tgTnByLMvNJOW7zl6XfdvXxeBJkYNQET8Ol+oALmRunA8mGvXJ1DG7khon7QDQoaxjsbILiZXnz5+njbIpP/zww/fff08DAAAAAAAAwNJBAhX6uy5lqvVrCQ4AAAAAAACsIiBWAgAAAAAAAG0AxEoAAAAAAACgDYBYCQAAAAAAALQBECsBAAAAAACANgBiJQAAAAAAANAGQKwEAAAAAAAA2gCIlQAAAAAAAEAbALESAAAAAAAAaAMrL1bm05FTE4M7urq6tL2fTIX+yOdvT27v0u45myrSI5ZPG5NaQ1I/7tF2bZ+4KdEwAAAAAADAe8gKi5VPIxMfu3IH/fHHC5mfudwtr3WX9ep/050AAKw5+YcR96fb3fdpsClS5DNt16eh5gOg4u/uwa6u6gSfBEbR0LIun0XUCebT16ZGd2nxQNTijvzZYWPGfDp0bLQX3V1X13bjhPe3PI1XI931Thi344O0vaNHfELdIltGUsdC6dc0fq1Z3mMqn9XVtWNw4lQkXTfTkuA9NEjz/Mmk726D4lMmdTZRv/gAAFhlvv76a/p58MVY+mfRc+FxhjkczdFgIXnBrGMt4Wc0vFQyl/1xugkAwLuSTfgdIzq5H+ATNLIJ2esWFh26P5ilEfUoJPmBOgkmZww4th6myxl6ECYTHtcxA84ouUY25jQyRj5RILs6gFdxfkBnOuz0zDjttOhY+y+lHo5SiJ/mUEHpBjhuSI9LDB/FVeeipaQWMiGLbqfFMePxHLXQtAY8SbpzDVneYyJnMax+iOMGaMVjemxhke6WKSR4XHw9Rm6YqxTf6bg69UJ82qgbsTtnPM7DJlp8lXcNAHQ6SKBaukz1frCSYmU2bEFtfbpdomDS08eDWAkA7aKAX9TZ4H78Sl5crBSDlh4Wv+WbiZXoZc+Rg9QJFuacQ/ZgKlctdzz2mxiT/zENITKXTAxj8KRoEJ95nGXeYSzaVnLR41SQIhTmL5pxVvvUcl7KYyzJW5hc0rOXlAjqvir5bzGpWcel+Yqo9CLq6MNH1Uqfq8zyHlPuF7vuoL+SHzFsJyMQdY1KegaMzpii+M6ZSPEZlGJr7hen4piFQnqWFJ/ylgCgo1nHYuVKLoI/TYfoVhsQr/JTD+k2AADvjkaD/rC6XXKoOWLoZKD/nHeQButTvO91ZR2+IzRYJn9X7A/NWvq68QUViPcisREz10ODzMuY92SMGbabifBE0HCfTLJSyH5RWPu18KKo/YyXZRyCRj9ud6Dfh0lRsUibuJ2euqE4rNvguBywo+BDV/R3GtdiUhIz6Ppc301DDLPFZD/Cod/wH6IcsTYs8zFJsTva8CVbJT/bzLM/eYxo40ZYeCpHMcz9WPrbCD+iKL5vgoHDKJhyxVI0DhXfh1bFMYzmI5v9KPpNJR/XXS4HAGD1eD8swfO/ua2fRWgAAIDVRbw6FdztdzRcxya8TvDf5JwzJi0NV+gesZkrMkAZUbgRM+3nSquhjHQn4ENSwe7ecgymz2hFu87E4msuV2oMho/oJkWzcTP629evq+ROFLfazVtpgLKFMx/Ev+lnJaGnpaQYts9QkSkJGzfhiLGdqhJaZZb5mIrzzJDdUDWw6DPbhtFPpCxMi6LOvr+qrnRz+1DaDPNn+SiNoU9PNymajX9Dfw39O+rUMwAAVpMVESula2NYjdrowoGTg3i7q2vsmtwnFKX7IbelV3sqQYIV8n9E3FRNe/vgobIOeDH101j/bhc52kXToue2kpS2l5vw3hZVfd3bfPq2b9IkmykQvW9sqL599FhMPQlQTJzZo9Xucd1dRBc8/xvVqdfu2jNxzOv6zFt1Qw2yRijdTKl8Kkh3fZOfEIV+ovWfeEnjMS/TsR8nR3e48YWI4j9OfMfo1K3aaYx8+qabqvzLOvJVKv9vJQElRTTftbtGJ38EzXdAzdPQ1K2x2c+bizLFxAzPnOW5TTS8OE+EyG2TeXc52XzyHh46mnvUF9Lo9FjyCCb+kMOdxMusyLCW76wKeVtnOVgrfctCD9tM6KmTVB2yz0VmgLcNV0mbq8lyH5OGs+yrve2NG3GcRb9NDjK6A5Y6xfc3LHKzhpKmZR3yuPgOuqyVCVQAANYIrVZL18MXY8l6AAkeX0CpW/ki7j/ttMn6NCqdy8L8JQs74Iw+I9oz2TBeM2I5z4OyMk2cpKXQrWyY1ELmuk3HWvwposJTyEaP42UW45dR2S6g8CDIT9uwSjhK7l4mPG4kWvMOM1mJU1sPJHm5G2uqHlp4wBtZS/AxudVXGXI5pQ5o06w9CvPnHPJamDmk0C8iWv/cl+EMPqpANOLRWZYg1m0vJEM8/znNQVwM2wZM9hMez1Ez6eZVmmoLr+b9B1nj8WhWvvh1cvEhT5IEMa/i/BBnj9DryGXFHgwqSwFY38SnSU1qqFuZ8Y+YScVbWHgWxBps9XQrC786jCeo6uBiCVIyl03MiF9R02hzc/xarp0yVPtT3UA6gdzcCYNxusqUpC6FuaOoXTnnGh7aWlKi30w7gTWkvY8p40fCqKoa1AHVLlx8QuPiE5yGAT7+igYBoPNZx7qVK2myUytWErIhol2tiEe9BquWh+In8CEKK/IasZJQmxTWl2cYW0Sp0p6R+zvTpUrfJadv3O+paM2nPHiUPKzq4HL3Zu2H+bmm/ThOSpVHlWlRC1mjr2Fld4zPUne18xexThV7vPxiijvxSUbzTDT7hkbJxrZcJZvoZcaqu2z5rLLKPz5AWSzoOrN4yqFZDw6sM5pLgclznCVUqiGNxMoXUftQ5aXemliJpNWqUZzcxmtPpPKK4VwHGEBTCrlUmN+vYz6yzN5rQYoqzDlRL6BqaGVaS+pVZu4CHgwbj4czyr5tDWjrY8I2W2yNhFoFsQdqIHoWXiTD02hErbdciJd7QgDofNaxWLkGupXsh1VqMWLwvFfaZ61o7jOM3mjXMSyn1zZf7KlJKh+5MJVg7OYh5Xk682HUqzOxk4GKPvl/4D/cV3SmENM3aEJ/70jKpejuf9pnLzq50gJNPfK5lwwTiSYqK8sG85Fyoi1ljd1GhOMK+KzefRWdM4R+F55HVKoubcR/uKmjJnYDCaMLG3EOhHIOngS9ZyXzAWU6+sEvycU/JBfHB/Sah1TX6ccTwJL79tprsgFrz0PvVMrGH1Avd1aTj530ak87jK0vfyOqV8AZ5rmYpFv1Sb3ulCqZOLVxs2HMdUNk/gxN7jbsOZNofmf52yH3Np4/WKcYW0rqeWjsb9v3fBUQJCZxZmz7xxORsoHL6tPWx5S66Use9E0NV2lcqnkZC53R8dPWOsV3373x7/1jJyMikw59NWj4l1vRDwMAsDashcnOBiIRlZFSwm0kE+mUvUb3yGxmITv3ZXNFo5qk8nHhCvrRblZLoxojh1W+JXdCbUu+sSSQyajTapHu/t1m5qF70DDmvSvJHarucxuWARGtZa3qNph8OnWbEb4g2pBldrvJPlFSalhW3bK6NNDFYwzTv0N1cdMFfHE70UBC14kxwgTWK60weIoc+FQCDcu/OsWU+9uk/bSlzutcgXTD7v3Q4xhoKhnUUG0DjtiqqxojVkEdF3UAxhMLC28KGer1UxK+M0/datxcXic80/P8eUe1tQqhpaS2WsJ4Wm4+OkNcVz4JjB3wlo2iV5s2PqanIf6c3jtdz5qrQjFxgZ+f9jr+Ua/4BpwLqGTEuP8odl0p3XWZj8Wg4wKAtaUDLMHb6IfoSSpMt9RodP378K/Ke0ebYA8EsJv3J5EpTqvbZfXeFiv92vKy9jqfbaiiFLZUGZk2RvxzkYsXX+PrBOu6mpMdXwN/XYqJs1PZb3zVRs1VPA05fur3HK8rMjWh2gacoNnYtM51b1rWuG+F2KDRDdg8seTcCTQ+lHw36n9Gh1gyOcRjQWcTsbu1pDRb9KajwfmEHy9t3PfEyr6KVpt2PSYxdGy2/2bA0mwtiCn+xjueTgVPGJtUMM02o20mmhScuPh+CjZ6EgAArA4d42DoUTskvrcMSaRAAko2MmRGULtpia+/lug2fBnOZOP+bzjmj9CUaXv/oYjKHntZWYs/RTJfG1hMko6vgKQNvP9IsdmTgu+TzXQSW+ZDK7YBvmEl38sbCz1nUtccobtT/WRnmcGTOAGXkQRqvDRgnidiVSvgGC0xJWbmy154KKJ4A/1taka9ZnRzn9mx6klCrNtcxWs21394A4toEcgskhRlm9V+HJWDJD5bq1m5tjymYuLURHRfU2kb8TRkO7nRe3GR+XKZ7iGbfQT9JsTncgQAAGtDB4iVW3V4/H1DiKuWdzH5myHhLd1uCZYkxSTmn5BgNZxB4Vq4zbBG27m59KOgfYARr4xZf0zjyOVlbQN2Uy1dF2rXuYp3Q1WfT26CrgdfPHInXvP+yUeuCfh3A75O+G6d6whXW78OsC7RaIc5ruqf/ClCVk+Cum40VNvUqzqA/DOSpW386UIUrPaAjpHuhSNVK+AY1jCExar0c7VYlc/hMGsz7pTDHUYPZ0ZillFX660z/5t76slktOlMm4rGSSnQDA5ZcU8nq0evAW14TOLVyUCPP9hc2s4n3MfEyV+cLevs6rh9HC6+ltdzAABYCTpBrNQPYlW/gOcntbr664Qn0d1fpXfYnG1GEx6wCpF7Ve4bs9nHDDNiqXmTtYHEzUhZbuveaZm9FbahyHspLJYtL2usgUNvl4dT/JWqXIiR2wVDy1M2rH4Q629e8fjuqy5e/M0T39SPNtB1UDecOsYHqiwAnkZixdavA6xHWJPn17m5qn8/u/BXdna7gjjoMbGM4Uv1AeSf9zOcgO08CdZRj5aEm5GaFXCMbq8NtZ3U7aSq3v+JNVsM345xrUpnq0w+/4IxDVW3l+J9t/Wy3tO6TImpn1QVxWJxbYXsd3xM4rWJyee22eYy5euE2xLQz7QuU2Lyr3PMCAc9FwCsLSsoVhZf5fDPGxJQQOMrGKzH8Lxa4qR57Iwgm70Unwtui2uzxaQekmdzRIIrPqcGJTVJ6azfOFCvEvvOJyhNAh8KwYes45t6toRNyf/mmzrmrXxYrC5/qOW2LVp8lW0sufOWslZ4XTWfqBv7EjuYjBwaHD0TS8sznS9Toa8m4rvHlpCFPusUdvmRcO0bc1NzoqJ01z12crN1L7l4z5gDfxUtMmEcdd9O58nsaf5haPJQnNu31KICgNZ4LoRv1K6AE7aY7eeMzJ2IUFltKAqRWYm18+O14ukaUKwxcy7+Fg5q+CpjeSRTjl7UzV6WXclWkG67AyWrwZaSelssVq9piLGrYcuFybUUslt8TE8F95FJ32+qzk28Zp14Ygsfr5K28+l/e2PlJR0kU34yq7voN1epXUox95XS0goWrtW8ToR/1tQ3GAcAYDVZKb+VbzLBg2TY2Oece0HjCNjxL44fmZ2vuBnLhMeregPWdKHitBudFT2MY43Hg3MR3kHd3dVNCjsSRxdm9/JzxOil8CzqHGC50wpXw2/mZ/GkJmM4MVf2AVd4NIuXdhiDUyjHteQOHXvpY028kCngeyhkfrawLDebknciFsvam4yf+Htjj1Y8WeJcTFNr8jK6LxUHpGvvtjB/kcShAi/HiWFb1QQta5pNKcr1VZyXXcpX0NljihsB1jcv4p5yW1jU7V9jd+hKmvutxL5mm7m/Jv3GiCeOO40c/pQAY+QTzf0arhK5mPw1AYc/IX9eoJAVePOII6r2a5u7x6OmS3UAqnQDShlvLan5Wdw2deaZ6Lzchb5IBr80mVUd41qx+GOSqwHD8mU/lrhvZFj9UHXJ6FFs2SNvjvRIPcaqY7gB1IuWHADnovJHJRyX47T4ns3x+02OXxpXKwDoMNax38oV+coO9VKuglgcy68lBYp3T24+5DDtxHIctosUat5cYtQxhDsly4UklnqaJbWQFWbte+UvfemM43wwoUhNdtJeAd0YdeRbgcqRREJlueZvtfiM2TbOceTOyeU8sjiroHHW6twM3YPFxAhvw50pw+402S+TXBNof10GveablEZuPnjURMqi7r3hL/GEp21EH47V77X7H4BM+Rehpto39D9Qog1iJb6o2gt6DW+yczNyhWxQY9cKJIKPG+kYkdVz++2zsWrf5PibW/IB9ah8pqGFpFBimeu030AgOdU2HYx3Tmks9phyghP3njNUCM42cy5h8Mjj8EKyZpSrYDxcKqJcnF4ageRUs/1CdK29xAPA0ljHYmXX119/ff78ebmBNueHH374/vvvaQAAAAAAAABYOkigQn/XpUzVMQ6GAAAAAAAAgPcZECsBAAAAAACANgBiJQAAAAAAANAGQKwEAAAAAAAA2gCIlQAAAAAAAEAbALESAAAAAAAAaAMgVgIAAAAAAABtAMRKAAAAAAAAoA2AWAkAAAAAAAC0ARArAQAAAAAAgDYAYiUA/KXJP4y4P93uvk+DdZAE76HB7V1dXTtGJ39M5GlsFfn0tanRXdquLm2vxR35s0ijq5FCn6KElExEXtJ9ZYr33f10L6X/bIruq4MU+Uzb9WlIosFVoSgJP07s+aylixZ/dw92ddUp4Xw6dGy0F5VZV9d244T3twZFKwm+I/Jh2t5PpkJ/NDiswuoUSItPvC5F6a5vgrOGntNwM4opt7Gr61SCBiuUbwDVzMGJs41qJgAAqwqIle8x4pVAbV8LAC0i3Q9MmbZvNoy5bog0qgYk4e0xWJPGQHJhYeGBx/DArP8sVHO0GDnU33tBY7+TXVjICgcLHj3nvl9HzijenXXcoNsyhhm7eQvdLiEGp11qKdLmGjfQzRqkGw771VUUKfNi7Ky1V6fd81VAaEWUKqa8X7rqtNPXCffIaPC1wfat0z6iE9Gz2K2fvFUtGpHyd6V3e+KoaAspz864dVf/ROPnhViVAmn1ideQF297rbt0Wm4ycLe14jtvd9UZ8xQTp0yjV4uGz6ach026J4nAsUH9kRhIlgCw9nz99dfofdEK//N//k+6BXQESU8fH6fbALBkCgX0Jxvcj/sBPiHHqXk152AZZjyco+GFhcd+E8MYTyfxqSUyl1CcwZOiQZTw3HGWYS3hZzRcIuMfMQerI6sp/OowTseV6TdDDFp6WHSPzP4gEnBWA1JqCwm+tYsW4tMcub+qEs5FjzujlZML8xfN+KA+Dxbfy7yKO/uQ5K2My5DnZVSUtppVKZCWn3gthcIb9DdOiq+FypDgafFNq7q63C9OZ0xRfOlZUnzKWwKAjgYJVOtVpoLZyvcV8So/9ZBuA8Ay0GjQH1a3Sw7VIfVvl1diHAdM3TSCYXpGrfuZxHeu4BMawbyMeU/GmGG7uY9GoIS5TyZZKWS/qJrOy9/yhoZdlq002ICU70zRddiIb21xxNDJQP857yANrgqk1JitulYuWrzvdWUdviM0WKEoaj/jTUReImj043YH+n2YFBXzjOIN3v3QYB1WztTqzJ+jAxNTFyL1ZuZWpUBafuL10Gg2oL863W452JTXCe93WcfFSRqsUBQ/tPIjiuL7yGY/in5TycerOG8NAEA9QKx8L8n/5rZ+FqEBAFgRErGZBMOY+/VKGY81DnMMEwvdpeuw0p2AD73Kd/fq5LBMn9GKdp2JxStSRipw2ifMWPccmgrcTuff0tgq8rcCnru+yb1jk2dDieeLiCji1angbr+j4fL4WvM6wX+Tc86YtDSsQGMwfEQ3KZqNm9Hfvn5dRVgSE7diSALTqpUENB9zdvRzJSzUSFCrUyAtP/F3pJiYceSOe+oXX5+eblI0G/+G/hr6d1SKDwCANWFlxMq3+fRt36SJ2AG8FWOnrFjfXNs7eiyUfk0PwbxMx36cHN3hRu+u/G/esR1d2l0TkbIS91tJQHuJRrZ2V42twOuytvv2wU8nXWcnp64petmXCWpkoO1FrzHvd1avQjtHvDGxvWv72JU0DddFmQWU2qfbUVITN0uXaHJvLeZdpqKM37XdODZ1JaWegShK90NuS68VZQ3l99s92q7to+f/n//np7H+3bK2lmsQn1rRZ8//EXHLGa9baATlMWrwg6A0L3zgr8DDeBjX936den5Ruw2LLcK9FGkM+eQ9PLwx96hkDEaj0w+jn2DiDznMSNf4KdQipLRwxTth6t2sH/P9XlOnignfSSyxiPcjvmPWwQ91e76NiA0EUOZpaOrW2Ozn6ut2EEgq4pmzPLeJhhfhZVZkWMt3VoVMKIk36ZaKbq0OTxOG0k/lcIlVKpBWn/g7UvyN5xkvP9zatDWTx8V30GWtTKACALA2tF+sLP4R8Z6Zmjw06bstIrkqdGhwMiZpt+nQGyV21sodkfX9i+mbXvd3k7avfLEnTOF371Qki2KlPwLhBHlbvU64/2WNbHWEH2UXCtnA3pzvq0GFrYAUOcLN/s0Rx6o587HvDOI5X0WJvZhy7zUnh4LzaOezpH+/JnwmpBhCS6lbAZERI7fl92IdVFl4lfJ+FyY3lw7cjONTGt9ba3mnyMr42b2BZHZh4U0ufEgTPNSv/8SbkqXP54nAjy77QavrWrqI7vakN4njxdjM//3/OhzOLMR5fFBJt/KEEQVQgqZdY8mPiXXFm1zwU3xjpvMq4wfp5kT/Lvu8bIFRyEaP4xMZ1jmHFcacJLBo4QN/CaTHSVx1hmXVtgqav+FpNeZqmtQHMUVEH92Wyjo5YeNGHCGVFyXZA+GFQi4nJqMh3tzDME8ikx/XmJ5ojM4UOio7nwjPfs6xaNR1fmzwX+5E7XiMEQNHwmMzls4VKu+4HIzL9c9WpSLhAj8/HQnsr51siyuXxQla7Q78k32hlMtXrUBafeLvxGvBdZRxHWtRF4LJ3/XwaT5y0QxzlQCw9qyQyU78BE7ctM/heUDV/XO/UqnFHCqrWsedOMJovkA09HOZuDBPji7MHWVNlzJ4kzI/i4fCrFMg+vJi0KxW985FbJVk76FUVbYsyRmDUl++kA7zh+3+1CJWAXIWjPtn469QKJdJzM2/QBuL3VuLeX8RtbNVyviF+Ak8VcEeJTIeIfMz1kQ3DDnCIg5mU3NxUd6pFisx2fBBfIVKseBSQmKBv3KvhTkn6ndrYxjGeY9GtJJBYD0Rn8YVoNZkJxsiVhC1lh8JUvUYexTXbrke1p5OLYEM51QmKJQ3pfEMY/I/pnG15B75LaRyKluETPIcZwmVqugzUs9XzWRHpvlFUese4km/gWlUwoRCLhXm9+uYjyyz96oSo2XIqRojok6Zr2KBLOuJVyMf3MhkJxc9zPGJ0jOX65vaZKdM4UUyPG3WMXrLhXgWGwMBwPsBmOwsnf/Af3Sf845/0EFt97DLO43FpsiVaHmOYiP+028bJ6PSbp1xSI+PfhL0nu01DykH3vr+AfRXct8mqjt4xSMSLml3IbpHLCa6yeRzaBAfjv5WmaA07EMiXAXNR2bnxVlb32IjYZKF/nGbES9jdesGOP2WFu4N0ULeU1dcPqlKGV9j/MyOciGd9ZbtITZi9XZm836beRveYPs447ZGt92t0xuZHl13edFtm64f/b0jVWYPHibcKNC9kRQ7QTPIYWGUST8rHdVKBoG/AOKT5sq72fxrhnkuJmmwPqnX9arMBtZ0WiCDqJjrckMjj+6dtmACS0jKFoF56J1K2fgDHTtTmY+d9GpPO0i/sQiJUxupg6c/Q5O7DXvOJBSlwRpHcK8mnPQJyvnaYiGHfwyy7RBmNQtkeU98KeRvubxa3jHQwkzlfffGv/ePnYyITDr01aCh/sQ2AACrysqa7Gg3K7sGjXEv0Ry6kxZVPY92s7r/zadTMUaY2CEr/FEGT5F9TyW88PPR4FgfE/lscM+3oZTsS1nD2Q5Q0bHbMGhmUu7dvWNnBUm+UI/NhgWj5aDOQgv3VqJp3lNCKFWrjM/0cGY8LxiLPVAtJHV3k2XHRdAYjscXHnuw1S7V77S66K4SGxileE2QVd0rS1qtZxBY37DbyGxlQ3Qsqr1bdVWmE1VQ7zB10BiPeRwsI11JNNNx3mbxYF82MaGssVJMub9N2k937vK3dMPu/dDTklTEMMYTCwtvCpmE3zGCMiQJ35mnFK4rdeOzwYOojLzWT1yRP6V8Xkzd9E2aJ7x4J0eNfla5QJb/xFvjecR+Xus52try94BzYWGhIMb9R024+O66zMfAdSUArDGrawm+TU88X4hSzXc1lBRfZxuuj1wny2Iao/Nm2DHECOet/X/fPnosICtkUrZaAg9mzT1i5Ngera7XejYmtq+nWfzeGqHMuyQm6/sG0vUS8TfyRK1ztgTIlycMg/zvWtvPfnm5qsJObrKPYW4I8Ur544lfhnWadtNufPkZBNYXGyuzYXXZvBHv12xsWie6N1VmxqvZxI19jtoC03x2SzdsReJtkRruFBNnp7Lf+MyLeClaO56GHD/1e44bWpKKZDZodAM2Tyw5h6dvJd8NpYW3znI5NTdj0z1zj+kNg5954xqTbR+W69jjpkF8jdUvkHd44osjhr7z9Z9zLqX4GM02o20mmhScuPh+CtYayAMAsJqsrljZvZk4i9BWFmobUquormab2SOkMzEPEh9jZycGDXuU33jo/oc9nM7GLzs4BhuMb/94IlJlNflOLHZvdVHm/W2R3mutlStZQDdsWkq3Wual4OL03G2959588ITZsKWmf9cYHVc8JjZg/zaQxqJ2Ubrt8VxhLRcmOdUFl5VBYH3B6nqx/HBPxPZqCtCYCP8c1JPpMS2x/2Xmy0oUFFHEX9Nhmzt80embT4gSZF0OGSk2e1LwfbKZzqLLfGjFq/U3rMShwlhL3wNcMVLXHKG7U1Vfnhw8iXe5jCRQ5yOEMt0c0YFhEuoC38ByR/1xrIGanf9l1j6SFy7GGMbEHyJNdg0K5J2e+CL8HnJcFaYMJBdljGTR5aTs9ELhrUJN95DNPoJ+E+KaVgAAAFZXrJS1gvp0Wrri2oANqMOUwndrvwJcFK5GFJ1Zt27EgcTHudMmVhJc+6ZU6x8bWOO4Zy49H/zSyDwJjB3wNfUn1DKt3lsNyrzThaRI8nH9mRpuZ/OFprqkvHv3uNPW4EUbUVCtj6bP7vnOMrhBGNOjPlrH/ZS33ksHlfany84gsM7YabSheiFls+rJ/qyEp9JNQwZSaVjDEJaF0s/Vwmc+h8OszbhTDtengIZVhw2L1vUCYxjUy1VUox3muKp/Q2QfqydBXTdRR14zNvWq7o38M/bgPboBEuxWDeBUyDowRl0dR40l5I8gGE/zVpLmWhTIOz3xxejuVWZE/jdAxi89RhJsUnw6bh+Hi69jZ7IB4C/CSlmCE+NHhX0xIeUxMErz51pzZsJjP+oeGMbsJ+bPFcSgQzaKfBYNqz/SlZzBiovUODERDmOT7TK58DhOrYHVYUPq228uem8t5Z186wx1wserTFxz0cMoVnb3g5GtcRW282Vqik6+MZX5Z53izYQsRpX5eQ0tZBBYTzSxU5ableNXZSWVbXhtlSb2ImxDEUr3AgjybUO1o4NaUFJG/kGVkXc1hQRvPBhuZtTcgZbgappagitJevoY0+WGrQwXBeoeDgYXaYcrXSDLf+JlmluCq2lqCa4kec7AjKjvCgA6FbAEXyaJR8opwmLiVjDFWlwH8LtKQRabbivpGXMcRn1UZMI46i59kCP/MDR5KM7tkxXT8+FzKjeK2q0onsM2BJi05yelQWW3Fp9ELAwIxT8j7mNToYfNdbooaudwrdwbpWneNdwhHg35pTNqE9eXQuQnxjRtUy9JM6KknhioQIuu+LxkTPM4Wz40/0eyYrOZz+Pc5mPeb0PFF+nU03yFqmJoOYPAuscwzttZJnhH4QHgSTR4gzGes5vL1mZbzPZzRuZORKjU5KIQmZVYOz9ebul58X7F6kZGvOYI7PI6/qGo61JKuK9WhMaf75ufnF6H/giLNRbTxd/CQQ3fyKA7f8c1us8lHvQLF9faXKmlJ84wTwX3kUnfb1Wde5solvSIyrxOhH/W8NNW6KQAYI1Z0dlKhjE6Y1kyHZGbD9mNjNH+S2UwWXg0i1dTGNbyc6Z6yuJVnK+23dbZY9QNpDwcN34ZTL4g572YQwfrviR+9BB4dMuaTs9liN+4wuOghWW5C+VhtOzfcbHRfGF+FmvqkLmBqptrfm+t5R2RuW7DPeCAPfiInPsi6T/I6sbDlYPe5KJHyft0gJ9Tzb8iyLwmusbx4FyEd+AZjqSH3JVuvycshGc/N9kuz+KPvDEGyzd2+88k1Rx2llkPnelocL7kZm/RDALrhxdxD6nnhhNzuXpu/8gMmcF+nTSCbNQ5UHe2LIMNlkc8cVxLc/OXLCxjrPgdRDzwkJe90XYhOp/FTtHDMxbLuaS6SsmrCgy71xlMZHK57LzgdxygHlubsQazlYXsdbklmf2Pq3qHOtTOVuZi+HR2yOFPyF1EISvw5hFHtDazhVwmJTuH15kvVJVYA1ajQBZ74uVukOVrJzALz8K0+C7X9Py11M5Wyv0Yyzkux2nxPZvj95sc6g4WADqZdTxbucKL4NfjnnEjeaPojON8WJafCCXZq0zNUvir+fC0jaglsfq9dn/JtTjmWdhxwGYellNm2J0mR0j2o05IeMzjNqpghC48YPMIqg6WyHM62/XGfRB1+FyhegGryb21kPcyuUdhnh6D05mNZSoHye8GBdVL4WLUMcSi8yzll40YJm5KUFKOYBp1t4X4tFE+oNJ3P/bbxp3Ow+ay6hItJnSackW+aQaBdQH1X62knroFqqVBx15cTaobmpI32bkZucKg2u6Zq06mkLwg78VKcubDs3PP6okTqEqTC+FaN2TjI8m6km41qyxW1nQOdfouNbViJZbmacPHeeX2q9t+CflE3YDZPhNOVg8sG7M6BbLIE1/ICU4OjednFJ0PhnpTV7KIekCdRfBcnF4agaqK2X4hWqf4AKCDWcdiZRcSK8+fPy830Ob88MMP33//PQ0sRuIUtn9E/YWzet5r/dO5eX+dcB8STD/X8d+Rf+iznd7sAxdCAAAAALDCIIEK/W1dpnqPWF1LcGAtyceOmZN7LXV9wnV/pNdtaWJlCQAAAAAAsAggVv5leB4L/CTF7yTEWmeZTF44Hes/hj/QAwAAAAAAsDxWRqwsppPEa61wL7EydoAdTMfmfavROq6Trlq3f9g7esTlvRIR7grC7ZDv5OSo0ZY28xby2XEAAAAAAIDl0X6xUro21rWxd/I23haODW7u6nLfJzv+AnR23nXmy5ms4HeMaHN33FOHxvZwE67zQl5vDdwL2/tgARwAAAAAgHei/WIleyBMzYFK/HWsdjo/7+yQzXN5jnwLDpGJ/+p3HjCya/thEgAAAAAA1gWgWwkAAAAAAAC0ARArAQAAAAAAgDYAYiUAAAAAAADQBkCsBAAAAAAAANrAyouV+XTk1MTgjq6uLm3vJ1OhP/L525Pbu7R7zqaK9Ijl08akAAAAAAAAgHdhhcXKp5GJj125g/7444XMz1zulte6y3r1v+lOAADWiKLwnRYN9eqhdf9OD6JIgvfQ4Ha0Z8fo5I+NvLHm09emRnehNLW9Fnfkz3oDvXw6dGy0l1x2u3HCfTNdNynprnfCiK+GUho94hMkGt8pvJWEHyfHSne451CDzCoo/u4ebOhrTAp9ilNSMBF5SffJdGqBtPDEG1KU7vomOGvoOQ1XU65yKPFPJn13m+R5saQAAFhlvv76a9nZzKIs/bPoufA4wxyO5miwkLxg1rGW8DMaXiqZy/443QQA4B14EbbRDqAG1jlXoEchCgmeY1nLpXncinPz/oMsezCYkfdVyITHdcyAM5rFgWzMaWSMfEKRCkIM23pQ4npumDOiDYJuPKxOqhA/zbEofoDjhvT08/QsV53UWpIJohLYy889I7f0Jpe8bNPVZlZJIckTL2N8gkYoKQjOqq/wG2aSdB+mYwukhSden1wm5rHslLNiDtZ7F5AqxzA9RlRVKnk+Ha9JffGkAKBjQQLV0mWq94OVFCuzYQtq79PtEgWTnj4exEoAeHcyl82m03OZVzRYojB3nGWPK6TKV3MO9NYeD5dGhgsLj/0mhjGeTirf8ZlLKM7gSdGgnA6jGkDmood1VDYlZCJ2oywOhIhgIpPyGEuSCiaX9OwlQgNq+GsuRxEyl1FObeEXNEgoRL9Ed+hRCoMKCvFpJJbjTNQTKzP+kabyUKcWSAtPvBGFwhv0N87jfNTNe9IzYHTGFHk+ZyJ5NtSIrYsmBQCdyzoWK1dyEfxpOkS32oB4lZ96SLcBAHgHUsJbV/Q4p9tEw5RiXLjC2IYHyx9cSv3b5ZUYxwHFx+J7Rq37mcR3ruATGsG8jHlPxphhu7mPRjCMhvtkkpVC9osCXRl9Hot9GA58ri+no9s36zuHBcvIDUGUoxgmcTs9dYOXhQhMt8FxOWBHwYeuaNW6/NqQTz+IoXvXbqFhgqbfaGYextP1FmGL972urMN3hAaryN/yhoZdlq00WEuHFkgrT7whGg3++IJOt1sO1nA/lv42wo8o8vxNMHAYBVOuWIrGURZLCgCAteD9sATP/+a2fhahAQAA3gmD7XMD3VRQTAgBxsYZy1JlIjaTYBhzv175YU/WOMwxTCx0l0qD0p2AT2KY3b06OSzTZ7SiXWdicSJlFNMM97lBmQrCsNeGEmJuiiW9OVHcajdXyVhbOPNB/Jt+1gkahRoNFsTDwn2V7CQ+iTNsv65WOnyd4L/JOWdMWhquIhU47RNmrHsOTQVup/NvaayCDi2QVp74shFFnX1/WaaU6eb2obQZ5s9yVQEAoHNZEbESfxobYXThwMlBvN3VNXZN7hOK0v2Q29KrPYXeWCryf0TcVE17+2BFEb6Y+mmsf7eLHO2iadFzW0lK28tNeG+Lqr7ubT592zdp2k6U6IniOTZU3z56LFaeOCEUE2f2aLV7XHcbWCnIvEzHfpwc3eFGN5H/zTu2o0u7ayJSnrogCv5Esb2ra8fg2LFASq2PX3yeCJ2y9mrx6czLhO/IKL7tHaNTN+m95H/Dt4rvzzQVqtKLVyauKjQZWj5WUvLSXa+V6tf7Uq/lAxRIAro0MacgOvK/VWe5wdMB1g3F+J0AM85V5iofxsO44lQLTNptWCQV7qVIe84n7+HxnrlHJWMwGp1+GP0EE3+Q0LDFrJrhI2g24snLg/rSmTrLwVphV7Pxb+gv27+jStRYEzT9u+0sk3J9MxV5SqOYp6HZi4zlgk1e01dQTMzwzFmeq5oSLiFd46dQ/yOlhSveCVPvZv2Y7/eqRteZBdLSE182ugOWOnn+22b0lzWUNC0BAOhkVlC3MsHjCyh1K1/E/aedNvkz2Sqdy8L8JQs74IzKivDZMF7oYTnPg7IyTZykpdCtbJjUQua6Tcda/Cmix1XIRo/jDt/4ZVQ2Dig8CPLTNqwSjpK7lwmPG02HnZ4Zh5mYEZguK00IkkRrp4l6aGE+4uE/p4nNPfDYvqHpWK4T3aBXcX6INR6PZkk+cim/BefL5EnJ+crFL/HOcfl9xMfFoO0AH4zNRS/LamcGPpHL/GwzHZ4NC9HgcbIUptKpwtYDTJ9DVr0qPA6SxO1RWfHr2ZznNL0Zc2g+ftpkPODwzDhtQzgZlf4cuo9fncZyieWSnhF0iM4WKas34SLV7/XESco0F61q6APvCYU5J8s6hcozzV7HqtHMsL/aQEdu17Qx0jbi+LWqMmSD+3G8SnWyisd+rrrF1VKYO4rqq8qKaE0hjQ7Bcs5fc6gF80Oc45c6WSj86jCeoI01Po3PqKNbWcjlxGQ0xMvtFDe6681LA7HmBfIOT7yCfHCrCpGoMHGeFZVTwdKSAoAOYR3rVq6uWEnIhsxV8ajXYBmT/zENIuIn8CEKK/IasZJQmxRWcmcYW6RiY4DfBKS/M12qdNly+sb9noo6fMqDR8nql2ju3qz9MD8n0mAD4k6SmPkCeYvkMnFBNk3IRQ8jsU+ly1+458RXYR1zZWuJZ0GSB/SWUohxWCOeYXfa/OlyT0osAxjGeY+GFx6Q7l2RdzlTyu4+8zNO2zDk8D8qFQg1AXZUXkvYCIOtPaty5+gA5Q2jW4nZ8QEjNQIH8N6CTZLVwgptXPuD1WICFSvtpHHKDbNWZqJChuFcA1MWVM0u43qnrFd1wMKuquWuPW8ywXF5oo5l++z1jVReRO1DfLyUtYZiZZk3dPSLeillN1iHtS+Q5T9xBUuSBYk9UMPeBsRK4L1kHYuVa6BbyX6op1sUMXjeK+2zciW3Iwi90a5jWE6vrdgK1KMmqXzkwlSCsZuHlOfpzIexF4/YyUBFn/w/8B/uK0dFHb5vEItydySl+k73P+2zF53cNhpsxEb8p982TrTSunXGIWKa8DDg+kkyfMYp13Q0/7TZRxhG8npvlNbbN3UT1StudLh8K4xu1yD6K31qs31UXpLU6D/Gr/mKThWr51iW21LJqU6PDxBfVpbSNmKVdkY3brftLB22xcDtQz+iRNfii8JlV4yxjQ1XNN90uziOZXS75dVJcsBB06BiLU+jH8RXuh0SynYbwPtNzQo4qiJPmmszZ/OvGea5mKTB+qReN1KWSEUuJC0XphqtEcvkb4fc23j+oHq9dW3ZoLNcjM7uRVuS9NA3dTKQrlYpycdOerWnHcamWVOxgTWdFuInUFcRc11uZvWy9gWy/Ce+XF7GQmd0/LS1kyoBAAANWQuTnQ1EDCsjpYTbaJCrU/Ya3SOzmYXs3Je1ajZqqpLKY1NWhtFuVkujGiOHVb4ld0JtSy5LXWXUaS0V7Wb1WyR1N5hCIhpbpa+v4/ZhQ4XY7QQVD7s3N9Dor6bqbpmt5mA2O3cYC9aygib3bQM5QFVKGxlVOunEFYnZX6V9b5/LLmQuyPa/6dRtiTm7ZyPWqiyhs5IrCSXZFHjPqbEBR7DbyGxlQ3TsFlQJdVUDuyqoc50axKu8Z5eXrzbOUPM64Zme5887qo191pZ8wm32amZyuV+daPQlXpngPnEnFJKldMPu/dDjGFjqTWuMxzwOlpGuJNI0poZOKJDlPvHlUkxc4OenvY5/dFQlAACgIR1gCd5GP0RPUmG6pUaj68dTdExy9UwJJTFV5Q6DotOT1a4boto8aLlIgtfS2/9FMPdPb3SmuRxQj+fp5CJFUiwiWbyBdqlT1m0F3nNqbMAxGzXNX+SbN+L9mo1NpYjuTfUGa09DUxf7IxctTeefiokZh3gs6FyyfLaSvE64RwaTB3nbR93dw/xcImjrYaS7LvORCG1GT0OOn/o9x5cl+G3ixj5HLZppMN3XIQWyrCe+XIq/8Y6nU8ET6qoJAEAH0zEOhh61Q+J7i/pkRIEElNApOu2m1eudivLL4W3Nzchzh32LvLRboJi+MrFd68odFOZjs/Yhtno6s3XuLSbjPs6umjwOrD6p36pXwBGsrhfLD/fErBwuIcmroNSCW0vsf5n5an83ongD/a1nsIwks0PRsWvO5mvE4jWb6z+8gQOdtfKZ+snuuu+w7ytlapvFfwebyklX7QHybcbUNUfo7lQ/ndWnDJ7Eu1xGEqhxW6FE1mOpS8cUyNKf+LJ5GrKd3OhdZPgBAEBn0QFi5VYd7kpvCPGaFdX8zZBQx51bY1iSFJOYr6/zxxkq/phXGlb3Ef6JPFL7NiozbGi+lrQo+VtT3KGA/lJQ4Tp46WzV9aO/Ujhe62r+YSiCi1HDoOSvxmqfDvMkFOoIJ9XAO5IQLlavgGN2Gm3o0UvZrNrvTVbCYxDTkIFUO9YwhHWS08/Vwmc+h8OszbhTDpd4K4a+CuguBy1N9ZXzv7mnnkxGO26OKiWEUsy+fp3ytrZZAj/jtWu6ErKplxvmqv7JH6vEH2BEwe5meSqg7u5wnZ6hkwpkiU982eQT7mPi5C+LDD8AAOg0OkGs1A/irzUEPD8lVBLY64Qn0d2/pBm4bUYTdo4jRO5Vzb5ls48ZZsSitApaaQxD5Gu/V4Uq/8D5F6j7ZZ0jNW/xpVFM3sM+iQd3veNIXm84jP6mPOdC6iITQ5eyOlxceiN2vxzgLwhq6aKY+Flk2/UKAdaQ+8JszQo4RsONfWtgGJ/wQFmDpXQixTA2215a8XR7bTZUgW4nVfXnT6yOYvh2jFOlKoa+mBS/mG0uUxbvu62X9Z6OXfcUq8RsRqPvxxZ2BMOXc3O/Vv/zfoZ32c6TYDN9cSlxK8sf4qrGvp1WIEt54svldcJtCehnQKYEgPePFRQri69y+OcNCSig8RUM1mN4kjFx0jx2RpDIK6z4XHBbXJstiq/GYbI50qMXn0tyz16TlM76Df6Icew7n6A0z3woBB+yjm+WbEuY/803dcwrlF0fN4PeWxnNkI3HRt9u71Vl95sXbvqYEd42VOp95VF+XWqKrpbKO+6tlEyVL5THVrot0c19xqMXnXTVav0qRF21v0yFvpqIj9jIC1DDWbDPptSpPaavAonn8uORhDNjrs2m9rxCgDUlcWe2dgVcxjDO21kmeEcxMnoSDd5gjOfsFffmW8z2c0bmTkThFqAoRGYl1s6PK0UoMfTZhPhFuFo1MJ8OnI+Vmw4SoUYv6mYvm6uaqnTbHVj7b7caOIuBeRgU1HdSTCfjjMn0MZm9bZW8eF+QHcqXEa85AruqbVM6sUBafOJPBfeROh9WWBwkU34yq7voN1cNP6SY+0p9hXUAADqIlfJb+abkN7jPOSc76Kbk5rAfDYYZmZ1/Q6MWFjJh6gquDGu6kFQ40ctF8aQaYzwenIvwDupCuW5Shfhp7J+c3cvPEYd7hWdR5wDLnVb4EX8zP4snNRnDibmyf8vCo1m8tMMYnEI5blF36JjSiazl54zihgli2IYn/Iz2EPFk+SaXvGRhe2xhhSPMnEA8WTJmfyWyMH+RJImKrnwvbzJ+4haOPRzOkszmfsE+4xmWc1yORkO8Za/TL5vsjNgd4zxxB5iLHiUZ2O/PlMvnRRTL3eh6FTfUtMSUGL+sOPREZELEA7oCdmi2Ffd0QMcT59Ve0KsoJHgjY7BfJ3U7i5oSwx4M1ngQJI19RHaYn8OfNqjyli/3BqxeuTSM/w3pUWz56rl76FqlxWLFP7yI3CFOUskHDpgemz+VIzddIF8HYC2hZndXx2/lAw/p74y2C9H5LHaKHp6xWM4ly81dpoMLZLEnXso1w/K1HUXhGfngBemFVOcgcnF+gGF6jFVZ5gZQgdVx6tksKQDoYNax30pGq9XSzcVovQioI2UVxF0tdf1dQdHV5uZDDtNO3EPoBmweodoH84IYdaAOndVbLpDOt1lSC1lh1r5X/tKXzjjOBxOK1Kgz5zLoxqgj3wpUjiTyFss1+ZwM7TorVDtsR9kKT9tk5Sp2p8l+IZqpvDpqrrs/mK3JF/5qRZ17RqfnkhcsOJM9RttMHKcqYusB3YgjiiTUeuVTfbcKT9dZwWPDHTe+SYcsBKvBnuHlIkWXm45W5FTgvSaBpcrmn2zJPQo6yKNvVDcwb7JzM3I9Ry3OI4/oSmTD8gizLiWv+4UHWIRqhPoDB2sKyukFu9xTYUF5nA+XvzXQgHru0AvJC7RbQA3KfHh2Tv7AmIJOL5BmTxyDBsy495xRzg4gqDd1JZWSKSSxTNmI8bA6z02TAoDOZh2LlV1ff/31+fPnaaNsyg8//PD999/TAAAAAAAAALB0kECF/q5LmapjHAwBAAAAAAAA7zMgVgIAAAAAAABtAMRKAAAAAAAAoA2AWAkAAAAAAAC0gQ+YLHwpBQAAAAAAAHhXPpj7X/+bbgIAAAAAAADAcvngJfOfdBMAAAAAAAAAlssH/8d//YNuAgAAAAAAAMBy+eB//Z//J90EAAAAAAAAgOXywX/913/RzU6hKN0PuS292lMJGkHI357c3qXdczZVpBGtk/Jx2q4dE5HnNAwAAAAAAAC0nQ5zMPQ6FTrDu76xuq6lJRoFAMCKIN31Thi3dyG0vaPHQunXNF5NPn3TTQ/bMThxVpDe0h1K2pgUIwm+I6O9WpLWJ1OhP/I0vgN5mY5dmZrgyM2qh8GLF8iTwCjeXY/PIsrer7WyXX3y6WtTo7tQ1rW9FnfkzyWN94vSXd8EZw21MNQvPk+Ezk6OkRIYu6YsmPINkOp0KpLu4JoCAH8hvv76a/p58MVYtc+iZ0NmfGfTcRoGAKDdZEIW3U6LY8bjOWrRs6QvGPAk6c4ymfC4jt3Lz2VxIJfyW1iGHeLjr8jOEm1MqpDgOdZoD83ncCAbPW5kGJ3tekbe20nk4jNmHbq5/XxQmM/mCjSa0EqBJGcMZEcdTJcr+W2tbFcf/DSZAWeUPM1szGlkjHxCVQgNyGViHstOOSfm4DMaW59X88FvOFRNuM9nw6lMTlVVyA0wrH6I4wbQBqHHFhbpbgDocJBAtWoy1SrTiWJl7hc77iNArASAFSI167hERDeZF1FHH25z9l8qcYjMz2iAZwu/oEFE4Z4TSUPs4WjluDYm9Sru7GMMM0qpKRPcjxIzelI03BG8mvcfxNKOM0akqipaKZDCnHPIHkyppVHEY7+JMfkf01CLZbv6ZC6ZGMageCiFueOoQCzh5mIiplB4g/7GeSxYNhUrX8w5B7Ck6H9UJ7PoHaE76K8UjRi2o4MR+4P1HgkAdBwgVmJWrwgSPO4gQKwEgJUhm0pWvaszlzjU5tjTCpEOiT7o3a8U+zAZ/zA6sCJStDGpzOUqYQVT+NWBDmLGw1VXWTsyQSRTNp6ca6VAcjF/uJ74g0tgxF+eq2ypbFefF1E7KoDhyn1iElhQZI/PtTJjiXJGRguNxcpXcR6JiawlWH/2MRv8kk9WXSnlMeKKYm5wCgB0FutYrISPNwLAXw62z9BNNykbN+GIsZ2l9UTE74JbYhjtZvWRuv4RA8OkPLdTcrh9SYmJWzEUqd1CQiU0H3N48eJKWOgIbeti6ozVepWxhILOAQ2NU9NKgXSP2MxICqtGFG7ETPu58nEtle2qI90J+NCz2N2ruok+oxXtOhOLL92msgYpcsTsum/kbwYs22iUiuI8M2Q3VBV/n9mGRykRsSPqCQD8dVkhsZJac1uvSczrdOjbPdqu7aPnK0bc+T8i7kODRAt9++ChVtS965uHIxRJVeGmh75Mx36cHN0xVq0e/lYSUHxJ43vsWCD1ku6Rwarip6y9n4VwNyUJXnT1ri7tLqvvYRs6TgDoKLLPRWaAtw1XxBjpWZpuqdH1DKK/UqqhUd1yk5LEm/inmm6tDq/8htJP5fCa8iTo+i7B9E1NHViCYFdbIPV5IkRum8y7m6XcalIrSD55L4J+zD3q+9To9FiqCyb+kMPLp3jHY78qMeNT9gaCO6PhLPtqS2DjRhxn0deVRAEAWC1WQKx8ngj86LIfxNbcRUaMnPQmsemiGJuJye8W8cbE4HciNxPPLCzkUk7dbdeYnnPfbyyrvUwEGpiHSzcn+nfZ540BvCZEFfzRGN9JVmKcKJC+6faenrJ95Ys9ISeUeZ1w/8vgypoCD/BaVO6GTXMVJTXqpSKjJJx3u761Wk+GUB5y992j+wJZg832Ocf8EZoc4QUQLIH1xNMAf04fvOasngFCPM5WNbruv2vxz+NslgSredek4jWzTVrtDvyTfbHmhr5F4bIrxjDcF4Pdt32TnxAD8CYm7TJNCkSNeC8SGzFzPTRYh5aTWknEFJH+dVuqBDtZqpOSj6uf3xIRg+e9KAnHPkP6GvUboN01OnVtUTvvQgEdMcIZ6kwDAwCwiqyQbiXR0GcMQw7ZNC+bmouLRBfmsd/EOuYUNn2FGDHQUWgU1dWtrGMeLitsKVV85BiGcd6jEYQ4SU6px5OLHmaZPpVBpWxAwCjvTQziS/Zxjstl1fBceByn5fi1NQ0iAOhwXmXmLtg4ljEeD2eq9PiIthyq7FXqcrQl1tpGvGtSsr4dw11S6eyV2i/DJ2h4zSjMETVPRn/AE02THL5IBr/EQ1n2YLDqpjFNCqQOGf+IygZcxdKSWlEaPQ76+AznWtH7bKxb+diPtUcZnemoP/4MV5fCszl+L64+xul4s24XWzux0DMD7wugW7lkNm7Afzfvt5nJkgTbxxm3oSE2Ge4fNA1uwpEyGv0gfrfcDglVE4pq2A/1dKvMwwRW2OreuJGGUVqD3EH8m36mHDGzun10i/Iw4PpJMnzGYTmyhOafNvsIGmx7vTdEGkWywOhs9nF9aWDebRjCNyu+BA9pwPvP89DY37bv+SogSEzizNj2jyciyoXmPqMNv8293qulFkEovCaVf0u3asqsDUmxxhET+hFO+gSla8ZiIYd/DJq1nKIj/JkS8I8zEHKYPiJdwhaDZcbL9zHSVevkFVXWFimQWpqsgC81qRXluZikW/VJvX6npZx8mhTyPn52xmbcih+5ZivnvOhF3W7ipJm/2zDx1E1f8qBvanjNawkA/NVZWZOd7u7NdIuSTt2WmLN7NmJ9xhI6K1bVYQRJrdpYzYaK9EjZwJApECWajX/DP+oFmo1UQCyRuhtMoWNYsgBXQcftw+Pk2O2EahVnAzq/giwuA8B6YKslvLBQeDEfnSE+EZ8Exg54qSUOQsO5bvJG1CK+2DPxY0LM56U/hdAp6+hJ/N7nDOWxFqEdSenGZ7GRteS1fuKK/Cnl8yKSFSbNE168kzN8RA5aQ4pFkiN1R6QxWo6QfuNWQiVXNi+QGpqtgC8xqZVlq65mfK+CY2t65aVQfE0UItS9LrPVbD+KfiT33Qb5fhriz+m90/XsoAAAWF1W2RK8WHzY0HMQ9lK2JHZyk30Mc0OIV+TRfBZ17azTtLvJmFUSU/X7Jp2eqGbeENXTDgCwntFs0ZuOBucTfjwPf98T+12OxmgGnLFHQcdeTfSrwe0fm1w3JN0BK1m3NlmG6syrvXNSOsvl1NyMTffMPaY3DH7mjWtMtn1YjGGPmwbXeh4q/4JIPPt1VTnXfWzC6x4365ggNykQNdU24LW0nNRKo9nYVHbr3lQz/l8KWYn0vrt06oto+ncTXak/69p5i6Fjs/2NzMYBAFhdVlmsJNRo7i8TjdFxxWNiA/ZvA0Sduyjd9niusJYLk1zTN1BRXkh5WyA/CuQJ0b61X20DgNVmm9V+HL3KJfGZSsGje6fF88s81n18HPefsOgfRdwSwx51WJtYlrxLUhtY7qg/jv2BZ+d/mbWP5IWLMSR68oeat+nVgBoY3ROrbZW2aJuIg5gGBVLheSK2mA04ZdGkVhwtsfhm5lWKRghRvIH+sv071ALhEtGypBAaWXfVoZg4NRHd19DfEwAAqwwSK1fzE7MavG59NaaYXyzxJBRa+vhb02f3fGcZ3CCM6fFqOvdT3novHdzfvF9jdWQ1LfJIrK+nM2xovsoDAOsRzeCQFbeOD1WL2ypeJzzTAYa1+L5qLuS1LSnxKj/1kDGe5ptJsavGNr0F/ZWy2boS3b6qCTYlixSIdC8caW4DXqGFsl1ZWMMQVoFNP1dL1/kcDrM24045vEzYHf24GB/VyO4yH1UXsnh1MtDjDy7F3xMAACvKB8zr/6abq4HeiE1qAvwFQd0zFxM/i+zS+yPxms1WnApfDpI5EDK98c/Fe1vDELEXvypUee4li1ysc2TNV9sAYA0oFotNxQIxdMTsfoidVJu30qhGtCWp4n239bMIezAYPL6mHnXKsNwYdgThEx6oO46XWPXGtNfYRLRpWiCScDPSfAVcyWJlu+Lo9tpsDJO6nVQpC/2ZCqOu9duxd51V/odpqo9hHsaSagtO2jkPKc0sUf8/MfncNgsyJQB0Eh+8/u9ndHMFEKWqMaeGs+BPbKVO7TF9FUg8J71zURLOjLk2m8r9EdVhUlN8RexBleRj3m9DxRfp1NN8hTozkMSfmQLNkI3HRt9utV1qXrjpY0Z42xBIlcB6522xWO1qUYxdDTdUIHmdDhzaY72qc/4aq15tbGNSCvJ3XKP7XOJBv3DR0jFSQ7f5K9x9ec8HFR1HMXErmOpzuvaXbnOpBfJcCN9osAK+1KRWhy1m+zkjcyei8N1RFCKzEmvnxxVi31PBfWTS99tSF+sNtmk7ywiuS0rvwFLsqo/Z71V2zuI168QTW/i4UV0S+fS/vbHm1p8AAKwo/9RqF1pjCT6W3uSiR8lixQA/94LGlcmELFULGezQrMLXWW7uBOmbRmbnKz7IFJFvaNRCjnyatg46rNtecT9JlNwZ1hFTOHwTwza85GS0h4hPyje55CUL22OTvWzK5GIOkrzZX44s52u/P1O+DQB4z5ifxeZxOvNMdF5untj/osl8ofozy4hCdn4uxJt7UCOlPmjVtDEpQiGXSYVnP+dYlOaF6i9idwJy92U8Hs3iHObmL9t0rMmTKmd3CQUig513Kr32VlhyUqsI+TD6iCeObyw3jzrPmo+kx6fRzaN+l6/1Y1l4Fpa7bvPlTL28FOLTSHpnLZeSOdTNvslGT3DsgD2qqDOZn9EVWf0Qxw2r/ulRbKvfJQeAtWQd+61ktNp/0s3FaLUInhEv4grMoWrHybl7s/a92FcG02O0TUcVIhr1tVsGn1uTYMUT72O/bdzpPGxWdisycudCu7YySh/OufnwtM1I9JnYnSb7hajCzzB17VthOk6dtFeo58sXAN4DCpnrDtNO2lR0A5xtOhivbqOlhszquXGHXyBCVB3amBRtrboBs30mnJQFqY6k0n2xetPh2TlVflsrkAq4q2ngBX2pSa0ub7JzM3L/qTOOe9SFgMkJTo5luZkqIbi6h0fUc3RfmI/wtgEyg4vfEeHyFykQ2evVExMKDJ4UPQwAOpl1LFZ2af/5X/997/9Lm2RTfvjhh++//54GOoHXCfchwfRznU+Z5R/6bKc3+5r1PgAAAAAAAGsAEqjQ386SqdrEB//5Pxo5buhw8rFj5uReS11l/u6P9Lqqr4AAAAAAAAAAK8kHH72nUuXzWOAnKX4nIVartCPywulY/zHTWnngAAAAAAAA+AvygeLr3O8VW43WcZ101br9w97RIy7vlYhwVxBuh3wnJ0eNtrSZhy8uAAAAAAAArCZr8ZWd9qAzX85kBb9jRJu74546NLaHm3CdF/J6a+Be2N4HC+AAAAAAAACryvsrVmLYIZvn8hz51BsiE//V7zxgZDfQvQAAAAAAAP//9u4YBWEgCMPourUXkJRpPF5ukqPZ2lgJVpY5gILTKjg7WMh7Tf7c4GNhWX5mtyzLuq7x99Hr4hIAAIP+8yZ4fAEAYMAXp5UAAPCO00oAAArISgAACshKAAAKyEoAAArISgAACshKAAAKyEoAAArISgAACjyzcosJAABZvW23mAAAkNW32zUmAABk9fPpHhMAALL6pc0xAQAgq7d5igkAAFl9ng4xAQAgqx9VJQAAw/o+BgAA5HllBwCAArISAIACshIAgAKyEgCAArISAIBhrT0AdkF6NMfzxLYAAAAASUVORK5CYII=)"
      ],
      "metadata": {
        "id": "HAufHLKFssG-"
      }
    },
    {
      "cell_type": "markdown",
      "source": [
        "**Note**\n",
        "\n",
        "**Your Turn:** Can you create the values in the Table 1.1 columns for each genre?"
      ],
      "metadata": {
        "id": "--Tb0W7Zsr4F"
      }
    },
    {
      "cell_type": "markdown",
      "source": [
        "**Here are some additional practice exercises.**"
      ],
      "metadata": {
        "id": "xLeT75ADwW1i"
      }
    },
    {
      "cell_type": "markdown",
      "source": [
        "---"
      ],
      "metadata": {
        "id": "rqqLwoeswh1i"
      }
    },
    {
      "cell_type": "code",
      "metadata": {
        "id": "H364Zrc61uQA"
      },
      "source": [
        "len(text2)"
      ],
      "execution_count": null,
      "outputs": []
    },
    {
      "cell_type": "code",
      "metadata": {
        "id": "sil_VPA71yAm"
      },
      "source": [
        "len(set(text2))"
      ],
      "execution_count": null,
      "outputs": []
    },
    {
      "cell_type": "code",
      "metadata": {
        "id": "ANRzeLmb13Ec"
      },
      "source": [
        "len(set(text2))/len(text2)"
      ],
      "execution_count": null,
      "outputs": []
    },
    {
      "cell_type": "code",
      "metadata": {
        "id": "pJ1zOz0cjjXi"
      },
      "source": [
        "len(set(text3)-set(stopwords))"
      ],
      "execution_count": null,
      "outputs": []
    },
    {
      "cell_type": "code",
      "metadata": {
        "id": "W_T3BbrymeKz"
      },
      "source": [
        "fdist1 = FreqDist(text1)"
      ],
      "execution_count": null,
      "outputs": []
    },
    {
      "cell_type": "code",
      "metadata": {
        "id": "_O_oqEJh28Dv"
      },
      "source": [
        "fdist1.most_common(50) "
      ],
      "execution_count": null,
      "outputs": []
    },
    {
      "cell_type": "code",
      "metadata": {
        "id": "o2Qcf8OT3DE0"
      },
      "source": [
        "fdist2 = FreqDist(text2)"
      ],
      "execution_count": null,
      "outputs": []
    },
    {
      "cell_type": "code",
      "metadata": {
        "id": "lXYYuUHg3tJc"
      },
      "source": [
        "len(fdist2)"
      ],
      "execution_count": null,
      "outputs": []
    },
    {
      "cell_type": "code",
      "metadata": {
        "id": "Zf0rqLgN3F4H"
      },
      "source": [
        "fdist2.most_common(50) "
      ],
      "execution_count": null,
      "outputs": []
    },
    {
      "cell_type": "markdown",
      "metadata": {
        "id": "-yzQUowg3PuL"
      },
      "source": [
        "Find 50 most frequent words for Sense and Sensibility that are not stopwords"
      ]
    },
    {
      "cell_type": "code",
      "metadata": {
        "id": "zWwLAiyB3Wze"
      },
      "source": [
        "fdist2[',']"
      ],
      "execution_count": null,
      "outputs": []
    },
    {
      "cell_type": "code",
      "metadata": {
        "id": "49eASpO76cSW"
      },
      "source": [
        "counter = 0\n",
        "for item in fdist2.most_common():\n",
        "  if item[0] not in stopwords:\n",
        "    print(item)\n",
        "    counter += 1\n",
        "    if (counter == 49):\n",
        "      break"
      ],
      "execution_count": null,
      "outputs": []
    },
    {
      "cell_type": "code",
      "metadata": {
        "id": "UvSK7Yr77NRM"
      },
      "source": [
        "170/len(text2)"
      ],
      "execution_count": null,
      "outputs": []
    },
    {
      "cell_type": "markdown",
      "source": [
        "---"
      ],
      "metadata": {
        "id": "EnZk49GLnyTZ"
      }
    }
  ]
}