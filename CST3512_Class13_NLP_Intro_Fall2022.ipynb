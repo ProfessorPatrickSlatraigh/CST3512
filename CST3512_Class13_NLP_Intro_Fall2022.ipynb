{
  "nbformat": 4,
  "nbformat_minor": 0,
  "metadata": {
    "colab": {
      "provenance": [],
      "collapsed_sections": [
        "ghlJwIb_yy7N"
      ],
      "include_colab_link": true
    },
    "kernelspec": {
      "name": "python3",
      "display_name": "Python 3"
    },
    "language_info": {
      "name": "python"
    }
  },
  "cells": [
    {
      "cell_type": "markdown",
      "metadata": {
        "id": "view-in-github",
        "colab_type": "text"
      },
      "source": [
        "<a href=\"https://colab.research.google.com/github/ProfessorPatrickSlatraigh/CST3512/blob/main/CST3512_Class13_NLP_Intro_Fall2022.ipynb\" target=\"_parent\"><img src=\"https://colab.research.google.com/assets/colab-badge.svg\" alt=\"Open In Colab\"/></a>"
      ]
    },
    {
      "cell_type": "markdown",
      "source": [
        "# Introduction to Natural Language Process    \n",
        "\n",
        "*CST3512 Data and Information Management - II*\n",
        "\n",
        "**Class 13, Fall 2022** \n",
        "\n",
        "The content of this notebook is derived from several sources including:\n",
        "*  **Basic Concepts of Natural Language Processing (NLP) Models and Python Implementation** by Prasun Biswas in [Toward Data Science](https://towardsdatascience.com/basic-concepts-of-natural-language-processing-nlp-models-and-python-implementation-88a589ce1fc0), 01-Jul-2021   \n",
        "*  **What Is the Difference Between Stemming and Lemmatization?** from [StackOverflow](https://stackoverflow.com/questions/1787110/what-is-the-difference-between-lemmatization-vs-stemming)    \n",
        "*  **Beginners Guide to Stemming in Python NLTK** from [MachineLearningKnowldge.ai](https://machinelearningknowledge.ai/beginners-guide-to-stemming-in-python-nltk/)    \n",
        "* **A simple yet effective guide on Natural Language Processing(NLP) using Python** Nov 8, 2020 by Prateek Nima from [Medium](https://medium.com/analytics-vidhya/a-simple-yet-effective-guide-on-natural-language-processing-nlp-using-python-44599488bf20)   \n",
        " \n"
      ],
      "metadata": {
        "id": "OUmE5DGjvJa0"
      }
    },
    {
      "cell_type": "markdown",
      "source": [
        "For a human it’s pretty easy to understand language but machines are not capable to recognize it easily.  Natural Language Processing (NLP) enables computers to interpret and to understand the way humans communicate using language.  But NLP does not interpret language the same way humans understand language."
      ],
      "metadata": {
        "id": "LtMik5YvvYv8"
      }
    },
    {
      "cell_type": "markdown",
      "source": [
        "The Natural Language Toolkit (NLTK) is a platform used for building Python programs that work with human language data for applying in statistical natural language processing (NLP). It contains text processing libraries for tokenization, parsing, classification, stemming, tagging and semantic reasoning. This notebook steps through the basics of NLP using the NLTK in Python."
      ],
      "metadata": {
        "id": "EX7Agag9w7Az"
      }
    },
    {
      "cell_type": "markdown",
      "source": [
        "### Initial Housekeeping    \n",
        "\n",
        "First, import requisite libraries and access desired data sources    \n"
      ],
      "metadata": {
        "id": "TZptTrUb118i"
      }
    },
    {
      "cell_type": "code",
      "source": [
        "# Setup wordcloud and nltk\n",
        "!pip install -q wordcloud\n",
        "import wordcloud\n",
        "import nltk"
      ],
      "metadata": {
        "id": "UIrY026I2Bgs"
      },
      "execution_count": null,
      "outputs": []
    },
    {
      "cell_type": "code",
      "source": [
        "# Download and import book sources from nltk\n",
        "nltk.download('book') \n",
        "from nltk.book import *"
      ],
      "metadata": {
        "id": "27ggUk4D2Sbc"
      },
      "execution_count": null,
      "outputs": []
    },
    {
      "cell_type": "code",
      "source": [
        "# Get stopwords for English language from NLTK\n",
        "stopwords = nltk.corpus.stopwords.words('english')"
      ],
      "metadata": {
        "id": "3bB7WyYKTQ7X"
      },
      "execution_count": null,
      "outputs": []
    },
    {
      "cell_type": "code",
      "source": [
        "# Get WordTokenize to split text into word tokens \n",
        "from nltk.tokenize import word_tokenize\n"
      ],
      "metadata": {
        "id": "7lVKq3sevg4a"
      },
      "execution_count": null,
      "outputs": []
    },
    {
      "cell_type": "code",
      "source": [
        "# Get Lemmatizer and stemmere (Porter, Snowball, Lancaster, Regexp) from NLTK\n",
        "# The Snowball Stemmer may be preferred as it is more modern\n",
        "\n",
        "# Get PorterStemmer from NLTK\n",
        "porter_stemmer = nltk.stem.PorterStemmer()\n",
        "\n",
        "# Get SnowballStemmer from NLTK\n",
        "# SnowballStemmer needs a language parameter set\n",
        "snowball_stemmer = nltk.stem.SnowballStemmer(language='english')\n",
        "\n",
        "# Get LancasterStemmer from NLTK\n",
        "lancaster_stemmer = nltk.stem.LancasterStemmer()\n",
        "\n",
        "# Get the RegexpStemmer from NLTK\n",
        "from nltk.stem import RegexpStemmer\n",
        "# Instances of RegexpStemmer require a regex as a positional argument\n",
        "# RegexpStemmer calls may also provide a kwarg for min(imum) length\n",
        "regexp_stemmer = nltk.stem.RegexpStemmer('ing$|s$|e$|able$', min=4)\n",
        "\n",
        "# Get Lemmatizer from NLTK\n",
        "lemmatizer = nltk.stem.WordNetLemmatizer()"
      ],
      "metadata": {
        "id": "GG3E04-c2h2P"
      },
      "execution_count": null,
      "outputs": []
    },
    {
      "cell_type": "code",
      "source": [
        "# Download for current Lemmatization reference\n",
        "nltk.download('omw-1.4')"
      ],
      "metadata": {
        "id": "aKsjeO9tMNCG"
      },
      "execution_count": null,
      "outputs": []
    },
    {
      "cell_type": "code",
      "source": [
        "# Get tagging capability for parts of speech using spacy library\n",
        "import spacy\n",
        "# Get Tokenizer class from spacy module\n",
        "from spacy.tokenizer import Tokenizer\n",
        "# Instantiate an nlp object with \"en_core_web_sm\" argument\n",
        "nlp = spacy.load(\"en_core_web_sm\")"
      ],
      "metadata": {
        "id": "41nUi-3GTjz-"
      },
      "execution_count": null,
      "outputs": []
    },
    {
      "cell_type": "code",
      "source": [
        "# Import regular expressions for searches and filtering\n",
        "import re"
      ],
      "metadata": {
        "id": "ZoXe9SAs4Qmz"
      },
      "execution_count": null,
      "outputs": []
    },
    {
      "cell_type": "markdown",
      "source": [
        "Natural languages are a free form of text which are unstructured in nature. Cleaning and preparing the text data to extract features is very important for an NLP approach to develop any model(s). This notebook covers the basic but important steps and shows how to implement them in Python using NLTK and other packages with the goal of developing an NLP-based classification model."
      ],
      "metadata": {
        "id": "oC21TftYxMMP"
      }
    },
    {
      "cell_type": "markdown",
      "source": [
        "The following phases of the approach will be described:\n",
        "\n",
        "A. NLP Data Wrangling and Tokenization        \n",
        "B. Vectorization/Word Embedding    \n",
        "C. Model Development"
      ],
      "metadata": {
        "id": "tAvsJ4eVxyXI"
      }
    },
    {
      "cell_type": "markdown",
      "source": [
        "## A. NLP Data Wrangling and Tokenization       \n",
        "\n",
        "Data cleaning is a basic but very important step in NLP. This section includes a few steps in an approach for data cleaning.  Depending on the source and nature of the text data being analyzed, new steps may be added and the steps considered may be refined.  As with any data science analysis, a continuos improvement approach is recommended where learnings are applied to every step in the approach and not just to final analysis and presentation.     \n"
      ],
      "metadata": {
        "id": "ghlJwIb_yy7N"
      }
    },
    {
      "cell_type": "markdown",
      "source": [
        "---"
      ],
      "metadata": {
        "id": "7WE3KmEiDmCA"
      }
    },
    {
      "cell_type": "markdown",
      "source": [
        "**Example Line of Text**\n",
        "\n",
        "For this exercise a simple line of text is created through the assignment of a string to the variable `line`.    \n",
        "\n",
        "Choose one of the following assignment statements to prepare the variable `line` with text you will process, or add a new assignment with any text you like assigned to the variable `line`."
      ],
      "metadata": {
        "id": "YQmNweQD4goW"
      }
    },
    {
      "cell_type": "code",
      "source": [
        "# using a moderately complex single line of text\n",
        "line = 'Reaching out for HELP. Please meet me in LONDON at 6 a.m xyz@abc.com #urgent!'"
      ],
      "metadata": {
        "id": "E63DGFOg4nm6"
      },
      "execution_count": null,
      "outputs": []
    },
    {
      "cell_type": "code",
      "source": [
        "# using the Gettysburg Address\n",
        "line = \"\"\"  Four score and seven years ago our fathers brought forth on this\n",
        "continent a new nation, conceived in liberty and dedicated to the\n",
        "proposition that all men are created equal. Now we are engaged in\n",
        "a great civil war, testing whether that nation or any nation so\n",
        "conceived and so dedicated can long endure. We are met on a great\n",
        "battlefield of that war. We have come to dedicate a portion of\n",
        "that field as a final resting-place for those who here gave their\n",
        "lives that that nation might live. It is altogether fitting and\n",
        "proper that we should do this. But in a larger sense, we cannot\n",
        "dedicate, we cannot consecrate, we cannot hallow this ground.\n",
        "The brave men, living and dead who struggled here have consecrated\n",
        "it far above our poor power to add or detract. The world will\n",
        "little note nor long remember what we say here, but it can never\n",
        "forget what they did here. It is for us the living rather to be\n",
        "dedicated here to the unfinished work which they who fought here\n",
        "have thus far so nobly advanced. It is rather for us to be here\n",
        "dedicated to the great task remaining before us--that from these\n",
        "honored dead we take increased devotion to that cause for which\n",
        "they gave the last full measure of devotion--that we here highly\n",
        "resolve that these dead shall not have died in vain, that this\n",
        "nation under God shall have a new birth of freedom, and that\n",
        "government of the people, by the people, for the people shall\n",
        "not perish from the earth. \"\"\""
      ],
      "metadata": {
        "id": "iUAi9r7R5h29"
      },
      "execution_count": null,
      "outputs": []
    },
    {
      "cell_type": "code",
      "source": [
        "# create your own assignment of text to `line` here   \n",
        "\n",
        "# line = ''  \n"
      ],
      "metadata": {
        "id": "b1trxWVnD5q9"
      },
      "execution_count": null,
      "outputs": []
    },
    {
      "cell_type": "markdown",
      "source": [
        "---"
      ],
      "metadata": {
        "id": "syIgme4UD_5O"
      }
    },
    {
      "cell_type": "markdown",
      "source": [
        "###1. Transform to lower case    \n",
        "\n",
        "Convert all the text to lowercase to maintain uniformity in subsequent analysis.  Of course, all text could just as easily be converted to upper case, but it is generally accepted practice to work with text all in lower case.    \n"
      ],
      "metadata": {
        "id": "5FWWXOSP6KRl"
      }
    },
    {
      "cell_type": "code",
      "source": [
        "# Display text before transformation to lower case\n",
        "print('The original text:\\t\\t', line)\n",
        "# Transform text to lower case\n",
        "line = line.lower()\n",
        "# Display text after transformation to lower case\n",
        "print('The text after .lower():\\t', line)"
      ],
      "metadata": {
        "id": "E5gn2Z--7DFR"
      },
      "execution_count": null,
      "outputs": []
    },
    {
      "cell_type": "markdown",
      "source": [
        "The code example beloew works with a different example text that the preview `line` variable. A lower case version of the text to be analyzed is generated using the `.lower()` method in the following example.  If the data cleaning steps were to be performed in a logical sequence, transforming to lower case would be done first.  The two may, of course be combined as they are in the code example below.    \n"
      ],
      "metadata": {
        "id": "j-YAuBf-9tf-"
      }
    },
    {
      "cell_type": "markdown",
      "source": [
        "### 2. Tokenization    \n",
        "\n"
      ],
      "metadata": {
        "id": "tAjphGQSMBfP"
      }
    },
    {
      "cell_type": "markdown",
      "source": [
        "Tokenization is the process of breaking text down into words (which are representative of concepts) and can be achieved through several methods.  The particular method applied can be selected and refined based upon the nature of the source of the text and the use case for the analysis.    \n",
        "\n",
        "In other data science work the fundamental task of tokenization has been performed using something as straightforward as the `split()` string method.  Three methods are presented here:    \n",
        "1. **split()**    \n",
        "2. **Regex**    \n",
        "3. **NLTK**    "
      ],
      "metadata": {
        "id": "jBlaLPg2N4Y7"
      }
    },
    {
      "cell_type": "markdown",
      "source": [
        "**Tokenization Using `split()` Method**  \n",
        "\n",
        "The following example assigns the text from the string `line` to a new string `split_tokenized_line` and then applies the `split()` method to the new string."
      ],
      "metadata": {
        "id": "fZs9pJF8Pqfr"
      }
    },
    {
      "cell_type": "code",
      "source": [
        "# Display the text string before tokenization\n",
        "print('Line is: ', line)"
      ],
      "metadata": {
        "id": "qBDcwcvzCrS1"
      },
      "execution_count": null,
      "outputs": []
    },
    {
      "cell_type": "code",
      "source": [
        "# Use the split() method to tokenize a string of text\n",
        "\n",
        "# Tokenize the string into a list using the .split() method\n",
        "split_tokenized_line = line.split(' ')\n",
        "# Display the list of tokenized words from the .split() method\n",
        "print('List of tokens based on .split():', split_tokenized_line)\n"
      ],
      "metadata": {
        "id": "XyRcrEIoN4uB"
      },
      "execution_count": null,
      "outputs": []
    },
    {
      "cell_type": "markdown",
      "source": [
        "Notice in the example above that the `split()` method is simply parsing the string into a list of distrinct strings based on occurrences of the delimiter character, which by default is a space (' ').  The `split()` [method may be given a different character as a delimiter](https://www.w3schools.com/python/ref_string_split.asp).  Regardless of the delimiter character used, parsing based on a single character results in a list of strings which may contain punctuation and other noise. "
      ],
      "metadata": {
        "id": "hqfzKM8nRPd3"
      }
    },
    {
      "cell_type": "markdown",
      "source": [
        "**Tokenization Using Regular Expression (Regex)**        \n",
        "\n",
        "A bit more sophistication may be achievable by employing the use of regular expressions (regex) to perform tokenization of text into a list of word strings as the following code demonstrates.    \n"
      ],
      "metadata": {
        "id": "UBA2Oso2R5Iy"
      }
    },
    {
      "cell_type": "code",
      "source": [
        "# Display the text string before tokenization\n",
        "print('Line is: ', line)"
      ],
      "metadata": {
        "id": "Lp_UuRxSDJrt"
      },
      "execution_count": null,
      "outputs": []
    },
    {
      "cell_type": "code",
      "source": [
        "# Using regular expressions to tokenize a string of text\n",
        "\n",
        "# Tokenize the string into a list using the Regexp method\n",
        "regex_tokenized_line = re.findall(r\"[\\w]+\", line)\n",
        "# Display the list of tokenized words from the Regex method\n",
        "print('List of tokens based on re.find():', regex_tokenized_line)\n"
      ],
      "metadata": {
        "id": "UJW6dJn0Sdgx"
      },
      "execution_count": null,
      "outputs": []
    },
    {
      "cell_type": "markdown",
      "source": [
        "The tokenized example above results in a list which more accurately repersents the words in the line of text though some content such as the time of day and email address have been fragmented into pieces which have lost the original meaning. "
      ],
      "metadata": {
        "id": "sjHZBL_NTQ0t"
      }
    },
    {
      "cell_type": "markdown",
      "source": [
        "**Tokenization Using NLTK**      \n",
        "\n",
        "Because of the complexities of working with natural language it can be seen that a simple method of tokenization using the `split()` method is not adequate, nor is a somewhat more advanced method of using regular expressions.    \n",
        "\n",
        "Fortunately, the NLTK toolkit provides some more sophisticated means of tokenizaion of natural language text as the code in the following examples demonstrate.  There are three methods of tokenization available in NLTK:    \n",
        "1. NLTK Word Tokenizer    \n",
        "2. NLTK Regexp Tokenizer    \n",
        "3. NLTK WhiteSpace Tokenizer    \n"
      ],
      "metadata": {
        "id": "hvWdyBXiTmsW"
      }
    },
    {
      "cell_type": "markdown",
      "source": [
        "**NLTK Word Tokenizer**    \n",
        "\n",
        "The following code provides an example of the tokenization of a string of text using the NLTK Word Tokenizer method. "
      ],
      "metadata": {
        "id": "fTPbk2zTYP2O"
      }
    },
    {
      "cell_type": "code",
      "source": [
        "# Display the text string before tokenization\n",
        "print('Line is: ', line)"
      ],
      "metadata": {
        "id": "PduNFy2MEpxK"
      },
      "execution_count": null,
      "outputs": []
    },
    {
      "cell_type": "code",
      "source": [
        "# Using NLTK `word_tokenize()` to tokenize a string of text\n",
        "# This method requires the following import\n",
        "# from nltk import word_tokenize\n",
        "\n",
        "# Tokenize the string into a list using the word_tokenize() method\n",
        "nltkword_tokenized_line = word_tokenize(line)\n",
        "# Display the list of tokenized words from the Regex method\n",
        "print('The word_tokenize result is: ', nltkword_tokenized_line)"
      ],
      "metadata": {
        "id": "slVgIdRiVBar"
      },
      "execution_count": null,
      "outputs": []
    },
    {
      "cell_type": "markdown",
      "source": [
        "**NLTK Regexp Tokenizer**    \n",
        "\n",
        "The following code provides an example of the tokenization of a string of text using the NLTK Regexp Tokenizer method. "
      ],
      "metadata": {
        "id": "fkeWSjizYlxP"
      }
    },
    {
      "cell_type": "code",
      "source": [
        "# Display the text string before tokenization\n",
        "print('Line is: ', line)"
      ],
      "metadata": {
        "id": "Yn8gHgB9GQFU"
      },
      "execution_count": null,
      "outputs": []
    },
    {
      "cell_type": "code",
      "source": [
        "# Using NLTK RegexpTokenizer to tokenize a string of text\n",
        "\n",
        "# Tokenize the string into a list using the RegexpTokenizer method\n",
        "reg_tokenizer = nltk.tokenize.RegexpTokenizer(r\"[A-Za-z]+\")\n",
        "nltkregexp_tokenized_line = reg_tokenizer.tokenize(line)\n",
        "# Display the list of tokenized words from the Regex method\n",
        "print('The NLTK Regexp_tokenize result is: ', nltkregexp_tokenized_line)"
      ],
      "metadata": {
        "id": "ywmQJScVY1Tj"
      },
      "execution_count": null,
      "outputs": []
    },
    {
      "cell_type": "markdown",
      "source": [
        "**NLTK WhiteSpace Tokenizer**    \n",
        "\n",
        "The following code provides an example of the tokenization of a string of text using the NLTK WhiteSpace Tokenizer method. "
      ],
      "metadata": {
        "id": "xu1YDhVIZn8N"
      }
    },
    {
      "cell_type": "code",
      "source": [
        "# Display the text string before tokenization\n",
        "print('Line is: ', line)"
      ],
      "metadata": {
        "id": "MxV0ldZCGSDt"
      },
      "execution_count": null,
      "outputs": []
    },
    {
      "cell_type": "code",
      "source": [
        "# Using NLTK WhiteSpaceTokenizer to tokenize a string of text\n",
        "\n",
        "# Tokenize the string into a list using the WhiteSpace Tokenizer method\n",
        "# Using NLTK RegexpTokenizer to tokenize a string of text\n",
        "space_tokenizer = nltk.tokenize.WhitespaceTokenizer()\n",
        "nltkwspace_tokenized_line = space_tokenizer.tokenize(line)\n",
        "# Display the list of tokenized words from the Regex method\n",
        "print('The NLTK WhitespaceTokenizer result is: ', nltkwspace_tokenized_line)"
      ],
      "metadata": {
        "id": "V-HdvWjuZtwz"
      },
      "execution_count": null,
      "outputs": []
    },
    {
      "cell_type": "markdown",
      "source": [
        "**Comparing the  methods of tokenization**"
      ],
      "metadata": {
        "id": "fycqeRtgVnbJ"
      }
    },
    {
      "cell_type": "code",
      "source": [
        "print('Original line of text:')\n",
        "print(line, '\\n')\n",
        "print('Text tokenized with split():')\n",
        "print(split_tokenized_line, '\\n')\n",
        "print('Text tokenized with Regex:')\n",
        "print(regex_tokenized_line, '\\n')\n",
        "print('Text tokenized with NLTK Word:')\n",
        "print(nltkword_tokenized_line, '\\n')\n",
        "print('Text tokenized with NLTK Regexp:')\n",
        "print(nltkregexp_tokenized_line, '\\n')\n",
        "print('Text tokenized with NLTK WhiteSpace:')\n",
        "print(nltkwspace_tokenized_line, '\\n')"
      ],
      "metadata": {
        "id": "qmkIH9RIVtTY"
      },
      "execution_count": null,
      "outputs": []
    },
    {
      "cell_type": "markdown",
      "source": [
        "###3. Remove stopwords    \n",
        "\n",
        "There are words which are very commonly used but have little meaning when humans use language, those words do not add much value. Depending on the source of data and analysis to be performed, there may be words which are not required for the natural language processing approach. It is best to delete these words from the data.  The set of words to be deleted because they add little value is referred to as **stopwords** in NLP.    \n",
        "\n",
        "**Stop Words** -  a commonly used word (such as “the”, “a”, “an”, “in”) that a search engine has been programmed to ignore, both when indexing entries for searching and when retrieving them as the result of a search query.    \n",
        " \n",
        "We would not want these words to take up space in our database, or taking up valuable processing time. For this, we can remove them easily, by storing a list of words that you consider to stop words.     \n",
        "\n",
        "NLTK(Natural Language Toolkit) in Python has a list of stopwords stored in 16 different languages. Find them in the nltk_data directory: home/pratima/nltk_data/corpora/stopwords is the directory address.(Do not forget to change your home directory name)    \n",
        "\n",
        "\n",
        "This example focuses on English-language stopwords but, of course, every language and use case may have its own set of stopwords.\n"
      ],
      "metadata": {
        "id": "V6QBwzb44LHG"
      }
    },
    {
      "cell_type": "markdown",
      "source": [
        "**Using NLTK to Remove Stopwords**\n",
        "\n"
      ],
      "metadata": {
        "id": "HTG0hROCuwih"
      }
    },
    {
      "cell_type": "code",
      "source": [
        "# from nltk.corpus import stopwords             # already done\n",
        "# from nltk.tokenize import word_tokenize       # already done\n",
        " \n",
        "example_sentence = \"\"\"This is a sample sentence,\n",
        "                  showing off the stop words filtration.\"\"\"\n",
        " \n",
        "# stop_words = set(stopwords.words('english'))  # deprecate for stopwords\n",
        " \n",
        "word_tokens = word_tokenize(example_sentence)\n",
        " \n",
        "filtered_sentence = [w for w in word_tokens if not w.lower() in stopwords]\n",
        " \n",
        "filtered_sentence = []\n",
        " \n",
        "for w in word_tokens:\n",
        "    if w not in stopwords:\n",
        "        filtered_sentence.append(w)\n",
        " \n",
        "print(word_tokens)\n",
        "print(filtered_sentence)"
      ],
      "metadata": {
        "id": "E5PO5nLGvWcP"
      },
      "execution_count": null,
      "outputs": []
    },
    {
      "cell_type": "markdown",
      "source": [
        "*The following code extends the list of stopwords to use.*"
      ],
      "metadata": {
        "id": "pBbRzYL4xmiv"
      }
    },
    {
      "cell_type": "markdown",
      "source": [
        "Applying the extended list of stopwords to the list."
      ],
      "metadata": {
        "id": "pDK0EcW9xvfJ"
      }
    },
    {
      "cell_type": "code",
      "source": [
        "# Additional stopwords\n",
        "extra_list = ['let', 'may', 'might', 'must', 'need', 'apologies', 'meet']\n",
        "# Extending the list of stopwords\n",
        "stopwords.extend(extra_list)\n",
        "# Display the extended list of stopwords\n",
        "print('Stopwords to use:', stopwords)"
      ],
      "metadata": {
        "id": "r0gayW-v29pa"
      },
      "execution_count": null,
      "outputs": []
    },
    {
      "cell_type": "markdown",
      "source": [
        "**Lemmatization and Stemming**\n",
        "\n",
        "Stemming just removes or stems the last few characters of a word, often leading to incorrect meanings and spelling. Lemmatization considers the context and converts the word to its meaningful base form, which is called Lemma.\n",
        "\n",
        "Stemming is the process of reducing the word to its word stem that affixes to suffixes and prefixes or to roots of words known as a lemma. In simple words stemming is reducing a word to its base word or stem in such a way that the words of similar kind lie under a common stem. For example – The words care, cared and caring lie under the same stem ‘care’. Stemming is important in NLP as an alternative to Lemmatizing.\n",
        "\n",
        "\n",
        "Sometimes, the same word can have multiple different Lemmas. We should identify the Part of Speech (POS) tag for the word in that specific context. Here are the examples to illustrate all the differences and use cases:\n",
        "\n",
        "1. If you lemmatize the word 'Caring', it would return 'Care'. If you stem, it would return 'Car' and this is erroneous.\n",
        "2. If you lemmatize the word 'Stripes' in verb context, it would return 'Strip'. If you lemmatize it in noun context, it would return 'Stripe'. If you just stem it, it would just return 'Strip'.\n",
        "3. You would get same results whether you lemmatize or stem words such as walking, running, swimming... to walk, run, swim etc.\n",
        "4. Lemmatization is computationally expensive since it involves look-up tables and what not.     \n",
        "\n",
        "If you have a large dataset and performance is an issue, go with Stemming. Remember you can also add your own rules to Stemming. If accuracy is paramount and dataset isn't humongous, go with Lemmatization.\n",
        "\n",
        "*source: StackOverflow, [What Is the Difference Betweem Stemming and Lemmatization?](https://stackoverflow.com/questions/1787110/what-is-the-difference-between-lemmatization-vs-stemming)*\n"
      ],
      "metadata": {
        "id": "rLs1PwBs8auT"
      }
    },
    {
      "cell_type": "markdown",
      "source": [
        "**Glossary**    \n",
        "\n",
        "* **whitespace tokenizer** - a tokenizer that splits on and discards only whitespace characters returning individual words or terms as tokens.    \n",
        "\n",
        "* **Porter Stemming** - The Porter stemming algorithm (or 'Porter stemmer') is a process for removing the most common morphological and inflexional endings from words in English. Its main use is as part of a term normalisation process that is usually done when setting up Information Retrieval systems.    \n",
        "\n",
        "* **Snowball Stemmer** - This algorithm is also known as the Porter2 stemming algorithm. It is almost universally accepted as better than the Porter stemmer, even being acknowledged as such by the individual who created the Porter stemmer.    \n",
        "\n",
        "* **Lancaster Stemmer** - is simple but it tends to produce results with over stemming. Over-stemming causes the stems to be not linguistic, or they may have no meaning.    \n",
        "\n",
        "* **Regexp Stemmer** - uses regular expressions (regex) to identify morphological affixes. Any substrings that match the regular expressions will be removed.\n"
      ],
      "metadata": {
        "id": "qZxRAqc-AIX9"
      }
    },
    {
      "cell_type": "markdown",
      "source": [
        "###4. Lemmatization    \n",
        "\n",
        "Lemmatization helps to reduce the words into a single form taking the context of the use of the word into consideration.  The resultant term from Lemmatization is called a lemma. The following example defines a function to use a Lemmatization method from NLTK.  Other methods may prove more effective depending on the data source and use case."
      ],
      "metadata": {
        "id": "dRU0xXYS9J4r"
      }
    },
    {
      "cell_type": "code",
      "source": [
        "# Define a function to Lemmatize text and to tokenize based on whitespace\n",
        "# if it has not been downloade before, execute the following download\n",
        "# nltk.download('omw-1.4')\n",
        "\n",
        "def lemmatize_text(text):\n",
        "    w_tokenizer = nltk.tokenize.WhitespaceTokenizer()\n",
        "    lemmatizer = nltk.stem.WordNetLemmatizer()\n",
        "    return [lemmatizer.lemmatize(w) for w in w_tokenizer.tokenize(text)]\n",
        "\n",
        "# Display the line without tokenization and Lemmatization\n",
        "print('The line without tokenization and Lemmatization: \\n', line)\n",
        "# Invoke the function defined above and display result\n",
        "lemma_line = lemmatize_text(line) \n",
        "print('The line after tokenization and Lemmatization: \\n', lemma_line)\n"
      ],
      "metadata": {
        "id": "e1jEgSBV_UTJ"
      },
      "execution_count": null,
      "outputs": []
    },
    {
      "cell_type": "markdown",
      "source": [
        "###5. Stemming    \n",
        "\n",
        "Stemming is a faster, more efficient way to attempto to reduce words into their root form. As mentioned earlier, there is a trade-off of accuracy in return for the efficiency of stemming vs. Lemmatization.  The following example defines a function to perform whitespace tokenization and stemming of a line of text then invokes that function.  In this example the NLTK Porter method of stemming is used.  Depending on the nature of the source text and the use case(s) for the analysis, different methods may be considered for stemming. "
      ],
      "metadata": {
        "id": "-AEd9W1OBuOQ"
      }
    },
    {
      "cell_type": "markdown",
      "source": [
        "**Porter Stemming**"
      ],
      "metadata": {
        "id": "yUM61ARbHeOn"
      }
    },
    {
      "cell_type": "code",
      "source": [
        "# Define function for Porter stemming of text tokenized for whitespaces\n",
        "def stem_porter(text):\n",
        "    w_tokenizer = nltk.tokenize.WhitespaceTokenizer()\n",
        "    ps = nltk.PorterStemmer()\n",
        "    return [ps.stem(w) for w in w_tokenizer.tokenize(text)]\n",
        "# Display the original line\n",
        "print('The line without Porter Stemming: \\n', line)\n",
        "# Invoke the method defined for Porter stemming and display the result\n",
        "porter_stem_line = stem_porter(line)\n",
        "print('The line after Porter Stemming: \\n', porter_stem_line)"
      ],
      "metadata": {
        "id": "uq0X8IGJBvrM"
      },
      "execution_count": null,
      "outputs": []
    },
    {
      "cell_type": "markdown",
      "source": [
        "**Snowball Stemming**    \n",
        "\n",
        "A few common rules of Snowball stemming are:    \n",
        "* ILY  -----> ILI    \n",
        "* LY   -----> `Nill`    \n",
        "* SS   -----> SS    \n",
        "* S    -----> `Nill`    \n",
        "* ED   -----> E, `Nill`    \n",
        "\n",
        "**Nill** means the suffix is replaced with nothing and is just removed.    \n",
        "\n",
        "There may be cases where these rules vary depending on the words. As in the case of the suffix ‘ed’ if the words are ‘cared’ and ‘bumped’ they will be stemmed as ‘care‘ and ‘bump‘. Hence, here in cared the suffix is considered as ‘d’ only and not ‘ed’. \n",
        "\n",
        "The word ‘stemmed‘ is replaced with the word ‘stem‘ and not ‘stemmed‘. Therefore, the suffix depends on the word.\n",
        "\n",
        "Here are a few examples:-\n",
        "```\n",
        "WORD           STEM\n",
        "cared          care\n",
        "university     univers\n",
        "fairly         fair\n",
        "easily         easili\n",
        "singing        sing\n",
        "sings          sing\n",
        "sung           sung\n",
        "singer         singer\n",
        "sportingly     sport\n",
        "```"
      ],
      "metadata": {
        "id": "_15H2iHrBDP0"
      }
    },
    {
      "cell_type": "code",
      "source": [
        "# Define function for Snowball stemming of text tokenized for whitespaces\n",
        "def stem_snowball(text):\n",
        "    w_tokenizer = nltk.tokenize.WhitespaceTokenizer()\n",
        "    # Bear in mind that the Snowball stemmer needs language defined\n",
        "    ps = nltk.SnowballStemmer(language='english')\n",
        "    return [ps.stem(w) for w in w_tokenizer.tokenize(text)]\n",
        "# Display the original line\n",
        "print('The line without Snowball Stemming: \\n', line)\n",
        "# Invoke the method defined for Snowball stemming and display the result\n",
        "snowball_stem_line = stem_snowball(line)\n",
        "print('The line after Snowball Stemming: \\n', snowball_stem_line)"
      ],
      "metadata": {
        "id": "pXGICkO4IiZp"
      },
      "execution_count": null,
      "outputs": []
    },
    {
      "cell_type": "markdown",
      "source": [
        "**Lancaster Stemmer**    \n",
        "\n",
        "There is a third method of stemming available, Lancaster Stemming. \n",
        "\n",
        "Lancaster Stemmer is simple but it tends to produce results with over stemming. Over-stemming causes the stems to be not linguistic, or they may have no meaning.\n",
        "\n",
        "In NLTK, there is a module LancasterStemmer() that supports the Lancaster stemming algorithm.  The following code shows an example of the application of Lancaster Stemming along with whitespace tokenization.    \n"
      ],
      "metadata": {
        "id": "jfAgw67fJxy9"
      }
    },
    {
      "cell_type": "code",
      "source": [
        "# Define function for Lancaster stemming of text tokenized for whitespaces\n",
        "def stem_lancaster(text):\n",
        "    w_tokenizer = nltk.tokenize.WhitespaceTokenizer()\n",
        "    # Bear in mind that the Lancaster stemmer needs language defined\n",
        "    ps = nltk.LancasterStemmer()\n",
        "    return [ps.stem(w) for w in w_tokenizer.tokenize(text)]\n",
        "# Display the original line\n",
        "print('The line without Lancaster Stemming: \\n', line)\n",
        "# Invoke the method defined for Lancaster stemming and display the result\n",
        "lancaster_stem_line = stem_lancaster(line)\n",
        "print('The line after Lancaster Stemming: \\n', lancaster_stem_line)"
      ],
      "metadata": {
        "id": "mUPFNR_AKki6"
      },
      "execution_count": null,
      "outputs": []
    },
    {
      "cell_type": "markdown",
      "source": [
        "**RegexpStemmer**\n",
        "\n",
        "Regex stemmer uses regular expressions to identify morphological affixes. Any substrings that match the regular expressions will be removed.\n",
        "\n",
        "In NLTK, there is a module `RegexpStemmer()` that supports the Regex stemming algorithm."
      ],
      "metadata": {
        "id": "7NJQFwOYMHaG"
      }
    },
    {
      "cell_type": "code",
      "source": [
        "# Define function for Regexp stemming of text tokenized for whitespaces\n",
        "def stem_regexp(text):\n",
        "    w_tokenizer = nltk.tokenize.WhitespaceTokenizer()\n",
        "    # Bear in mind that the Regexp stemmer needs a regex defined\n",
        "    ps = nltk.RegexpStemmer('ing$|s$|e$|able$', min=4)\n",
        "    return [ps.stem(w) for w in w_tokenizer.tokenize(text)]\n",
        "# Display the original line\n",
        "print('The line without Regexp Stemming: \\n', line)\n",
        "# Invoke the method defined for Regexp stemming and display the result\n",
        "regexp_stem_line = stem_regexp(line)\n",
        "print('The line after Regexp Stemming: \\n', regexp_stem_line)"
      ],
      "metadata": {
        "id": "Z1gGR-iVNVoA"
      },
      "execution_count": null,
      "outputs": []
    },
    {
      "cell_type": "markdown",
      "source": [
        "*Display of the result of Lemmatization vs. the four methods of stemming compared with the original text follow.  The following code requires the execution of each of the five snippets above to create the variables to print.*"
      ],
      "metadata": {
        "id": "Ip8pUTTwNv_0"
      }
    },
    {
      "cell_type": "code",
      "source": [
        "print(\"Lemmatization:\")\n",
        "print(lemma_line, \"\\n\")\n",
        "print(\"Porter Stemming:\")\n",
        "print(porter_stem_line, \"\\n\")\n",
        "print(\"Snowball Stemming:\")\n",
        "print(snowball_stem_line, \"\\n\")\n",
        "print(\"Lancaster Stemming:\")\n",
        "print(lancaster_stem_line, \"\\n\")\n",
        "print(\"Regexp Stemming with `'ing$|s$|e$|able$', min=4'`:\")\n",
        "print(regexp_stem_line, \"\\n\")\n"
      ],
      "metadata": {
        "id": "yT7oueLROFbU"
      },
      "execution_count": null,
      "outputs": []
    },
    {
      "cell_type": "markdown",
      "source": [
        "**More Comparative Examples of Stemming**    "
      ],
      "metadata": {
        "id": "1bDMPq05PsGn"
      }
    },
    {
      "cell_type": "code",
      "source": [
        "# STEMMING EXAMPLE 1\n",
        "# from nltk.stem import PorterStemmer, SnowballStemmer, LancasterStemmer, RegexpStemmer\n",
        "\n",
        "porter = PorterStemmer()\n",
        "lancaster = LancasterStemmer()\n",
        "snowball = SnowballStemmer(language='english')\n",
        "regexp = RegexpStemmer('ing$|s$|e$|able$', min=4)\n",
        "\n",
        "word_list = [\"friend\", \"friendship\", \"friends\", \"friendships\"]\n",
        "\n",
        "# word_list = ['aria', 'arial', 'arid', 'iris']\n",
        "\n",
        "print(\"{0:20}{1:20}{2:20}{3:30}{4:40}\".format(\"Word\",\"Porter Stemmer\",\"Snowball Stemmer\",\"Lancaster Stemmer\",'Regexp Stemmer'))\n",
        "for word in word_list:\n",
        "    print(\"{0:20}{1:20}{2:20}{3:30}{4:40}\".format(word,porter.stem(word),snowball.stem(word),lancaster.stem(word),regexp.stem(word)))"
      ],
      "metadata": {
        "id": "oDvh_Z5wPxe-"
      },
      "execution_count": null,
      "outputs": []
    },
    {
      "cell_type": "code",
      "source": [
        "# STEMMING EXAMPLE 2\n",
        "# from nltk.stem import PorterStemmer, SnowballStemmer, LancasterStemmer, RegexpStemmer\n",
        "\n",
        "porter = PorterStemmer()\n",
        "lancaster = LancasterStemmer()\n",
        "snowball = SnowballStemmer(language='english')\n",
        "regexp = RegexpStemmer('ing$|s$|e$|able$', min=4)\n",
        "\n",
        "word_list = ['run','runs','running','ran', 'runner', 'easily','fairly', 'sportingly']\n",
        "\n",
        "print(\"{0:20}{1:20}{2:20}{3:30}{4:40}\".format(\"Word\",\"Porter Stemmer\",\"Snowball Stemmer\",\"Lancaster Stemmer\",'Regexp Stemmer'))\n",
        "for word in word_list:\n",
        "    print(\"{0:20}{1:20}{2:20}{3:30}{4:40}\".format(word,porter.stem(word),snowball.stem(word),lancaster.stem(word),regexp.stem(word)))"
      ],
      "metadata": {
        "id": "W-e38bAzP7Mw"
      },
      "execution_count": null,
      "outputs": []
    },
    {
      "cell_type": "markdown",
      "source": [
        "**Difference Between Porter Stemmer and Snowball Stemmer**\n",
        "\n",
        "Snowball Stemmer is more aggressive than Porter Stemmer.\n",
        "Some issues in Porter Stemmer were fixed in Snowball Stemmer.\n",
        "There is only a little difference in the working of these two.\n",
        "Words like ‘fairly‘ and ‘sportingly‘ were stemmed to ‘fair’ and ‘sport’ in the snowball stemmer but when you use the porter stemmer they are stemmed to ‘fairli‘ and ‘sportingli‘.    \n",
        "\n",
        "The difference between the two algorithms can be clearly seen in the way the word ‘Sportingly’ in stemmed by both. Clearly Snowball Stemmer stems it to a more accurate stem.\n",
        "\n",
        "**Drawbacks of Stemming**    \n",
        "\n",
        "Issues of over stemming and under stemming may lead to not so meaningful or inappropriate stems.    \n",
        "\n",
        "Stemming does not consider how the word is being used. For example – the word ‘saw‘ will be stemmed to ‘saw‘ itself but it won’t be considered whether the word is being used as a noun or a verb in the context. For this reason, Lemmatization is used as it keeps this fact in consideration and will return either ‘see’ or ‘saw’ depending on whether the word ‘saw’ was used as a verb or a noun."
      ],
      "metadata": {
        "id": "X_nbuYzzQcqi"
      }
    },
    {
      "cell_type": "markdown",
      "source": [
        "###6. Removal of Patterns with Regular Expressions   \n",
        "\n",
        "Regular expressions (regex) help to identify and to get rid of different patterns which are not required in the text.\n"
      ],
      "metadata": {
        "id": "-VugsKUTQv3O"
      }
    },
    {
      "cell_type": "code",
      "source": [
        "# line = line.lower()\n",
        "print(\"Line:\", line)\n",
        "print(\"...cleaning...\\n\")\n",
        "\n",
        "clean0 = line\n",
        "clean1 = re.sub('\\S*@\\S*\\s?',\" \",clean0)            # email removal\n",
        "clean2 = re.sub('\\s+',\" \",clean1)                   # new line character removal\n",
        "clean3 = re.sub(\"\\’\",\" \",clean2)                    # single quote removal\n",
        "clean4 = re.sub('_',\" \",clean3)                     # underscore removal\n",
        "clean5 = re.sub('http\\S*\\s?',\" \",clean4)            # link removal\n",
        "\n",
        "clean = ' '.join([i for i in clean5.split() if i.find('#') < 0]) #remove hashtag\n",
        "print(\"Clean line:\", clean)"
      ],
      "metadata": {
        "id": "4L8SUll2RAjw"
      },
      "execution_count": null,
      "outputs": []
    },
    {
      "cell_type": "markdown",
      "source": [
        "### 7. Parts-of-Speech (POS) tagging\n",
        "\n",
        "Parts-of-speech tagging helps to identify the parts of speech. Based on the use case one can keep or remove some of them.  Parts-of-speech may be localized by dialect and other cultural factors (profession, age, etc.)\n",
        "\n",
        "The following code is an example of parts-of-speech tagging using the `spacy` library.\n"
      ],
      "metadata": {
        "id": "raRKGOoJUR6x"
      }
    },
    {
      "cell_type": "code",
      "source": [
        "tokens_spacy = nlp(line)\n",
        "for token in tokens_spacy:\n",
        "    print(token.text, ': ', token.pos_, ': ', token.is_stop)"
      ],
      "metadata": {
        "id": "b409l28CU0UK"
      },
      "execution_count": null,
      "outputs": []
    },
    {
      "cell_type": "markdown",
      "source": [
        "###8. Named-Entity-Recognition (NER)    \n",
        "\n",
        "Named-entity-recognition helps to identify and categorize the different groups which includes names, places, currency etc.\n",
        "\n",
        "The following code is an example of the use of named-entity-recognition using the `spacy` module. \n",
        "\n",
        "*The following code requires execution of the prior snippet of code to create the variable `tokens_spacy`.*"
      ],
      "metadata": {
        "id": "lnWSZkUUVgIB"
      }
    },
    {
      "cell_type": "code",
      "source": [
        "for ent in tokens_spacy.ents:\n",
        "    print(ent.text, ': ', ent.label_)"
      ],
      "metadata": {
        "id": "v5PZWuV-Vhkn"
      },
      "execution_count": null,
      "outputs": []
    },
    {
      "cell_type": "markdown",
      "source": [
        "##B. Vectorization/Word-Embedding    \n",
        "\n",
        "*More to come on this subject*    \n",
        "\n"
      ],
      "metadata": {
        "id": "Y3r4-Hpqa1L_"
      }
    },
    {
      "cell_type": "markdown",
      "source": [
        "NLP can be used for various purposes ors use cases including but not limited to:    \n",
        "  - **Text Classification**  - \n",
        "Text classification is a process which helps to classify the text based on its content by analyzing and assigning tags to the elements (words or lemma) of text.\n",
        "\n",
        "  - **Sentiment Analysis** - \n",
        "*Sentiment* is a synonym for emotion. Using sentiment analysis we can identify the nature of the opinion (favorable/unfavorable) of a text author.  Sentiment analysis can be performed across sources ranging from blogs, online reviews, social media posts, emails, transcripts of meetings, etc.  -- *pretty much any source*.\n",
        "\n",
        "  - **Topic Modelling** - \n",
        "Topic modelling helps  to discover topics that occur in a document or a collection of documents.\n",
        "\n",
        "  - **Parts of Speech (POS) tagging** - \n",
        "POS tagging is the process of marking up a word in a text to a particular part of speech. POS is one of the essential building blocks for lemmatizers which we looked at in the last section of this notebook.   \n",
        "\n",
        "\n",
        "There are more areas where NLP can be used.    \n",
        "\n",
        "This section of this notebook focuses on Text Classification (with word vectorization).  "
      ],
      "metadata": {
        "id": "HC6U-lRIqbKV"
      }
    },
    {
      "cell_type": "markdown",
      "source": [
        "As any with data science analysis the first step is data wrangling, to clean and transform the data which can then be recognized by computer algorithms and their component methods.\n",
        "\n",
        "The most important library while working with NLP is the Natural Language Toolkit `NLTK` library. It consists of inbuilt functions such as tokenization, lemmatization, stemming etc. which are integral tools for cleaning and transforming the text data before we use NLP techniques.\n",
        "\n",
        "This section of the notebook will repeat some of the housekeeping done early and add a few extra steps of housekeeping.\n"
      ],
      "metadata": {
        "id": "DxOHQVHBzqhc"
      }
    },
    {
      "cell_type": "markdown",
      "source": [
        "---"
      ],
      "metadata": {
        "id": "vdtZgCbq3Hz7"
      }
    },
    {
      "cell_type": "markdown",
      "source": [
        "### Housekeeping (again with a little more)    \n",
        "Import the requesite NLTK components for natural language processing.    \n",
        "\n",
        "Import SKLEARN components for model building.    \n"
      ],
      "metadata": {
        "id": "3hkfLSzX0Ipv"
      }
    },
    {
      "cell_type": "code",
      "source": [
        "# import regular expressions\n",
        "import re\n",
        "# import the os / operating system library\n",
        "import os\n",
        "# impot pandas \n",
        "import pandas as pd\n",
        "# import metrics from sklearn\n",
        "from sklearn import metrics\n",
        "# import word_tokenize tokenizer from nltk\n",
        "from nltk.tokenize import word_tokenize\n",
        "# import stopwordd\n",
        "from nltk.corpus import stopwords\n",
        "# import nltk \n",
        "import nltk \n",
        "# import PorterStemmer from NLTK for stemmitizatoin\n",
        "from nltk.stem import PorterStemmer\n",
        "# import sklearn for machine learning CountVectorizer\n",
        "from sklearn.feature_extraction.text import CountVectorizer\n",
        "# import train_test_split from sklearn for model development\n",
        "from sklearn.model_selection import train_test_split as ttsplit\n",
        "# import accuracy_score from sklearn\n",
        "from sklearn.metrics import accuracy_score\n",
        "# import MultinomialNB from sklearn for naive bayesian function\n",
        "from sklearn.naive_bayes import MultinomialNB"
      ],
      "metadata": {
        "id": "BliIaxOk0SB-"
      },
      "execution_count": null,
      "outputs": []
    },
    {
      "cell_type": "markdown",
      "source": [
        "Creat some useful assignments"
      ],
      "metadata": {
        "id": "R-4iQmGN2lJb"
      }
    },
    {
      "cell_type": "code",
      "source": [
        "# assign some useful aliases to imported objects\n",
        "# assign sklearn CountVectorizer to the variable `vector`\n",
        "vector = CountVectorizer()\n",
        "# assign nltk PorterStemmer to the variable `stemming`\n",
        "stemming = PorterStemmer()"
      ],
      "metadata": {
        "id": "4zuOHKWs2Npq"
      },
      "execution_count": null,
      "outputs": []
    },
    {
      "cell_type": "markdown",
      "source": [
        "Download some reference data"
      ],
      "metadata": {
        "id": "HkGJQedO2pCB"
      }
    },
    {
      "cell_type": "code",
      "source": [
        "# download some reference data\n",
        "# download stopwords from nltk\n",
        "nltk.download('stopwords')\n",
        "# download punkt from nltk\n",
        "nltk.download('punkt')\n",
        "# download wordnet from nltk\n",
        "nltk.download('wordnet')"
      ],
      "metadata": {
        "id": "QSmHO3dH2DaN"
      },
      "execution_count": null,
      "outputs": []
    },
    {
      "cell_type": "markdown",
      "source": [
        "Build a list of English language stopwords"
      ],
      "metadata": {
        "id": "8dCWU86i2uOM"
      }
    },
    {
      "cell_type": "code",
      "source": [
        "# assign english language stopwords to the variable stopwords_list\n",
        "stopwords_list = stopwords.words('english')"
      ],
      "metadata": {
        "id": "3iMlEDjb2A4O"
      },
      "execution_count": null,
      "outputs": []
    },
    {
      "cell_type": "markdown",
      "source": [
        "### 0. Read the text file (delimited) into a DataFrame.    \n",
        "\n",
        "The code in this section of the notebook works with a text file with file name `dataset.csv` and located in the current working directory.      \n",
        "\n",
        "Change the qualified file name argument in the following cell if you intend to read a diffent source file for text. \n"
      ],
      "metadata": {
        "id": "ENCzwv5A3XR-"
      }
    },
    {
      "cell_type": "code",
      "source": [
        "# read the text dataset delimited by commas into a DataFrame\n",
        "train_data = pd.read_csv(\"dataset.csv\",delimiter=',')"
      ],
      "metadata": {
        "id": "U3ALd6bS3ybn"
      },
      "execution_count": null,
      "outputs": []
    },
    {
      "cell_type": "markdown",
      "source": [
        "---"
      ],
      "metadata": {
        "id": "QsVXPqUN2yYk"
      }
    },
    {
      "cell_type": "markdown",
      "source": [
        "\n",
        "This section of the notebook will also add one preliminary data wrangling step which was not covered earlier in this notebook: **removal of rows with null values**.  There is no need to complicate the algorithm with null values for empty rows of text.   "
      ],
      "metadata": {
        "id": "MALpSpZl0HTm"
      }
    },
    {
      "cell_type": "markdown",
      "source": [
        "---"
      ],
      "metadata": {
        "id": "8fdklrYMzxrD"
      }
    },
    {
      "cell_type": "markdown",
      "source": [
        "---"
      ],
      "metadata": {
        "id": "h-ygOz4hztpy"
      }
    },
    {
      "cell_type": "markdown",
      "source": [
        "##C. NLP Model Development    \n",
        "\n",
        "*More to come on this subject*    \n",
        "\n"
      ],
      "metadata": {
        "id": "-WUo2NDka_O2"
      }
    },
    {
      "cell_type": "code",
      "source": [],
      "metadata": {
        "id": "tsj8i_RybXme"
      },
      "execution_count": null,
      "outputs": []
    },
    {
      "cell_type": "markdown",
      "source": [
        "\n",
        "\n",
        "---\n",
        "\n"
      ],
      "metadata": {
        "id": "TbwdBQDhV3bc"
      }
    },
    {
      "cell_type": "markdown",
      "source": [
        "# NLTK Chapter 1 "
      ],
      "metadata": {
        "id": "X2KvxLuwbU9J"
      }
    },
    {
      "cell_type": "markdown",
      "source": [
        "\n",
        "\n",
        "---\n",
        "\n"
      ],
      "metadata": {
        "id": "OE5PCBn9vXCz"
      }
    },
    {
      "cell_type": "markdown",
      "metadata": {
        "id": "oqcb9--fNVE0"
      },
      "source": [
        "## Let us see how we can use LISTs in NLP\n",
        "\n",
        "[NLTK Chapter 1](https://www.nltk.org/book/ch01.html)"
      ]
    },
    {
      "cell_type": "markdown",
      "source": [
        "\n",
        "\n",
        "---\n",
        "\n",
        "\n"
      ],
      "metadata": {
        "id": "xC__i75Hp8jr"
      }
    },
    {
      "cell_type": "markdown",
      "source": [
        "### Housekeeping - For Plots   \n",
        "\n",
        "Import `matplotlib` and `numpy` for some of the **NLTK Chapter 1** exercises which produce plots.    \n"
      ],
      "metadata": {
        "id": "drUMN3PjowYg"
      }
    },
    {
      "cell_type": "code",
      "source": [
        "import matplotlib.pyplot as plt "
      ],
      "metadata": {
        "id": "-ZkXqZaIpA-Q"
      },
      "execution_count": null,
      "outputs": []
    },
    {
      "cell_type": "code",
      "source": [
        "import numpy as np  "
      ],
      "metadata": {
        "id": "ZkL0kTSFo-dK"
      },
      "execution_count": null,
      "outputs": []
    },
    {
      "cell_type": "markdown",
      "source": [
        "### Housekeeping - NLP\n",
        "\n",
        "*The following setup and imports are already done at the top of this notebook.*    \n"
      ],
      "metadata": {
        "id": "8tQgEsdQbbFa"
      }
    },
    {
      "cell_type": "code",
      "metadata": {
        "id": "dElVkFGzHQiU"
      },
      "source": [
        "# Setup wordcloud and nltk\n",
        "!pip install -q wordcloud\n",
        "import wordcloud\n",
        "import nltk"
      ],
      "execution_count": null,
      "outputs": []
    },
    {
      "cell_type": "code",
      "metadata": {
        "id": "UdqCrNTNKbUK"
      },
      "source": [
        "nltk.download('book') \n"
      ],
      "execution_count": null,
      "outputs": []
    },
    {
      "cell_type": "code",
      "metadata": {
        "id": "_qKxEu4KOQzt"
      },
      "source": [
        "from nltk.book import *"
      ],
      "execution_count": null,
      "outputs": []
    },
    {
      "cell_type": "code",
      "metadata": {
        "id": "PMS1oJzJKbIf"
      },
      "source": [
        "# Get stopwords, stemmer and lemmatizer\n",
        "stopwords = nltk.corpus.stopwords.words('english')\n",
        "stemmer = nltk.stem.PorterStemmer()\n",
        "lemmatizer = nltk.stem.WordNetLemmatizer()\n"
      ],
      "execution_count": null,
      "outputs": []
    },
    {
      "cell_type": "markdown",
      "source": [
        "---\n",
        "\n"
      ],
      "metadata": {
        "id": "5Ld9BaJNbjzA"
      }
    },
    {
      "cell_type": "markdown",
      "source": [
        "## 1.2   Getting Started with NLTK\n"
      ],
      "metadata": {
        "id": "JGuK9P38qRjD"
      }
    },
    {
      "cell_type": "code",
      "metadata": {
        "id": "xkUsB2KDKbOa",
        "colab": {
          "base_uri": "https://localhost:8080/"
        },
        "outputId": "af640981-3356-44db-99eb-0fbab8148db0"
      },
      "source": [
        "type(stopwords)"
      ],
      "execution_count": null,
      "outputs": [
        {
          "output_type": "execute_result",
          "data": {
            "text/plain": [
              "list"
            ]
          },
          "metadata": {},
          "execution_count": 64
        }
      ]
    },
    {
      "cell_type": "code",
      "metadata": {
        "id": "cDxgXFxLKbRM",
        "colab": {
          "base_uri": "https://localhost:8080/"
        },
        "outputId": "c82be60b-194c-4c8a-b194-373fe78e1ced"
      },
      "source": [
        "len(stopwords)"
      ],
      "execution_count": null,
      "outputs": [
        {
          "output_type": "execute_result",
          "data": {
            "text/plain": [
              "179"
            ]
          },
          "metadata": {},
          "execution_count": 65
        }
      ]
    },
    {
      "cell_type": "code",
      "metadata": {
        "id": "jCtu_5qsxZYn",
        "colab": {
          "base_uri": "https://localhost:8080/"
        },
        "outputId": "be41b590-5711-4ec1-ec10-9341ff47ac8b"
      },
      "source": [
        "stopwords"
      ],
      "execution_count": null,
      "outputs": [
        {
          "output_type": "execute_result",
          "data": {
            "text/plain": [
              "['i',\n",
              " 'me',\n",
              " 'my',\n",
              " 'myself',\n",
              " 'we',\n",
              " 'our',\n",
              " 'ours',\n",
              " 'ourselves',\n",
              " 'you',\n",
              " \"you're\",\n",
              " \"you've\",\n",
              " \"you'll\",\n",
              " \"you'd\",\n",
              " 'your',\n",
              " 'yours',\n",
              " 'yourself',\n",
              " 'yourselves',\n",
              " 'he',\n",
              " 'him',\n",
              " 'his',\n",
              " 'himself',\n",
              " 'she',\n",
              " \"she's\",\n",
              " 'her',\n",
              " 'hers',\n",
              " 'herself',\n",
              " 'it',\n",
              " \"it's\",\n",
              " 'its',\n",
              " 'itself',\n",
              " 'they',\n",
              " 'them',\n",
              " 'their',\n",
              " 'theirs',\n",
              " 'themselves',\n",
              " 'what',\n",
              " 'which',\n",
              " 'who',\n",
              " 'whom',\n",
              " 'this',\n",
              " 'that',\n",
              " \"that'll\",\n",
              " 'these',\n",
              " 'those',\n",
              " 'am',\n",
              " 'is',\n",
              " 'are',\n",
              " 'was',\n",
              " 'were',\n",
              " 'be',\n",
              " 'been',\n",
              " 'being',\n",
              " 'have',\n",
              " 'has',\n",
              " 'had',\n",
              " 'having',\n",
              " 'do',\n",
              " 'does',\n",
              " 'did',\n",
              " 'doing',\n",
              " 'a',\n",
              " 'an',\n",
              " 'the',\n",
              " 'and',\n",
              " 'but',\n",
              " 'if',\n",
              " 'or',\n",
              " 'because',\n",
              " 'as',\n",
              " 'until',\n",
              " 'while',\n",
              " 'of',\n",
              " 'at',\n",
              " 'by',\n",
              " 'for',\n",
              " 'with',\n",
              " 'about',\n",
              " 'against',\n",
              " 'between',\n",
              " 'into',\n",
              " 'through',\n",
              " 'during',\n",
              " 'before',\n",
              " 'after',\n",
              " 'above',\n",
              " 'below',\n",
              " 'to',\n",
              " 'from',\n",
              " 'up',\n",
              " 'down',\n",
              " 'in',\n",
              " 'out',\n",
              " 'on',\n",
              " 'off',\n",
              " 'over',\n",
              " 'under',\n",
              " 'again',\n",
              " 'further',\n",
              " 'then',\n",
              " 'once',\n",
              " 'here',\n",
              " 'there',\n",
              " 'when',\n",
              " 'where',\n",
              " 'why',\n",
              " 'how',\n",
              " 'all',\n",
              " 'any',\n",
              " 'both',\n",
              " 'each',\n",
              " 'few',\n",
              " 'more',\n",
              " 'most',\n",
              " 'other',\n",
              " 'some',\n",
              " 'such',\n",
              " 'no',\n",
              " 'nor',\n",
              " 'not',\n",
              " 'only',\n",
              " 'own',\n",
              " 'same',\n",
              " 'so',\n",
              " 'than',\n",
              " 'too',\n",
              " 'very',\n",
              " 's',\n",
              " 't',\n",
              " 'can',\n",
              " 'will',\n",
              " 'just',\n",
              " 'don',\n",
              " \"don't\",\n",
              " 'should',\n",
              " \"should've\",\n",
              " 'now',\n",
              " 'd',\n",
              " 'll',\n",
              " 'm',\n",
              " 'o',\n",
              " 're',\n",
              " 've',\n",
              " 'y',\n",
              " 'ain',\n",
              " 'aren',\n",
              " \"aren't\",\n",
              " 'couldn',\n",
              " \"couldn't\",\n",
              " 'didn',\n",
              " \"didn't\",\n",
              " 'doesn',\n",
              " \"doesn't\",\n",
              " 'hadn',\n",
              " \"hadn't\",\n",
              " 'hasn',\n",
              " \"hasn't\",\n",
              " 'haven',\n",
              " \"haven't\",\n",
              " 'isn',\n",
              " \"isn't\",\n",
              " 'ma',\n",
              " 'mightn',\n",
              " \"mightn't\",\n",
              " 'mustn',\n",
              " \"mustn't\",\n",
              " 'needn',\n",
              " \"needn't\",\n",
              " 'shan',\n",
              " \"shan't\",\n",
              " 'shouldn',\n",
              " \"shouldn't\",\n",
              " 'wasn',\n",
              " \"wasn't\",\n",
              " 'weren',\n",
              " \"weren't\",\n",
              " 'won',\n",
              " \"won't\",\n",
              " 'wouldn',\n",
              " \"wouldn't\"]"
            ]
          },
          "metadata": {},
          "execution_count": 66
        }
      ]
    },
    {
      "cell_type": "code",
      "metadata": {
        "id": "vMOnL3KuKsRu"
      },
      "source": [
        "stopwords[0]"
      ],
      "execution_count": null,
      "outputs": []
    },
    {
      "cell_type": "code",
      "metadata": {
        "id": "iCgbcs7pKbWP",
        "colab": {
          "base_uri": "https://localhost:8080/"
        },
        "outputId": "d4f265f8-bcb7-43b6-9149-ab4a92ff0949"
      },
      "source": [
        "sent1 = ['Call', 'me', 'Ishmael', '.']\n",
        "sent1"
      ],
      "execution_count": null,
      "outputs": [
        {
          "output_type": "execute_result",
          "data": {
            "text/plain": [
              "['Call', 'me', 'Ishmael', '.']"
            ]
          },
          "metadata": {},
          "execution_count": 67
        }
      ]
    },
    {
      "cell_type": "markdown",
      "source": [
        "---"
      ],
      "metadata": {
        "id": "oQVLKTftqGkC"
      }
    },
    {
      "cell_type": "markdown",
      "source": [
        "Any time we want to find out about these texts, we just have to enter their names at the Python prompt:"
      ],
      "metadata": {
        "id": "2cCJ5q5_qJiL"
      }
    },
    {
      "cell_type": "code",
      "metadata": {
        "id": "sTXI-1OdxxnH",
        "colab": {
          "base_uri": "https://localhost:8080/"
        },
        "outputId": "45a9b1e5-cdc5-4eb3-ae77-15ba33fe62a1"
      },
      "source": [
        "text1[100:110]"
      ],
      "execution_count": null,
      "outputs": [
        {
          "output_type": "execute_result",
          "data": {
            "text/plain": [
              "['and', 'to', 'teach', 'them', 'by', 'what', 'name', 'a', 'whale', '-']"
            ]
          },
          "metadata": {},
          "execution_count": 68
        }
      ]
    },
    {
      "cell_type": "code",
      "source": [
        "text1[0:50]"
      ],
      "metadata": {
        "id": "64FL5BPzkNxH",
        "colab": {
          "base_uri": "https://localhost:8080/"
        },
        "outputId": "565f932e-b389-447a-8475-749c2f2e306c"
      },
      "execution_count": null,
      "outputs": [
        {
          "output_type": "execute_result",
          "data": {
            "text/plain": [
              "['[',\n",
              " 'Moby',\n",
              " 'Dick',\n",
              " 'by',\n",
              " 'Herman',\n",
              " 'Melville',\n",
              " '1851',\n",
              " ']',\n",
              " 'ETYMOLOGY',\n",
              " '.',\n",
              " '(',\n",
              " 'Supplied',\n",
              " 'by',\n",
              " 'a',\n",
              " 'Late',\n",
              " 'Consumptive',\n",
              " 'Usher',\n",
              " 'to',\n",
              " 'a',\n",
              " 'Grammar',\n",
              " 'School',\n",
              " ')',\n",
              " 'The',\n",
              " 'pale',\n",
              " 'Usher',\n",
              " '--',\n",
              " 'threadbare',\n",
              " 'in',\n",
              " 'coat',\n",
              " ',',\n",
              " 'heart',\n",
              " ',',\n",
              " 'body',\n",
              " ',',\n",
              " 'and',\n",
              " 'brain',\n",
              " ';',\n",
              " 'I',\n",
              " 'see',\n",
              " 'him',\n",
              " 'now',\n",
              " '.',\n",
              " 'He',\n",
              " 'was',\n",
              " 'ever',\n",
              " 'dusting',\n",
              " 'his',\n",
              " 'old',\n",
              " 'lexicons',\n",
              " 'and']"
            ]
          },
          "metadata": {},
          "execution_count": 69
        }
      ]
    },
    {
      "cell_type": "code",
      "metadata": {
        "id": "8-gJFqwZKbcx",
        "colab": {
          "base_uri": "https://localhost:8080/"
        },
        "outputId": "039b9f13-a173-4861-df26-d546ba760caf"
      },
      "source": [
        "len(sent1)"
      ],
      "execution_count": null,
      "outputs": [
        {
          "output_type": "execute_result",
          "data": {
            "text/plain": [
              "4"
            ]
          },
          "metadata": {},
          "execution_count": 70
        }
      ]
    },
    {
      "cell_type": "code",
      "metadata": {
        "id": "T4IxtzszOQmu"
      },
      "source": [
        "sent2 = ['The', 'family', 'of', 'Dashwood', 'had', 'long', 'been', 'settled', 'in', 'Sussex', '.']\n",
        "sent3 = ['In', 'the', 'beginning', 'God', 'created', 'the', 'heaven', 'and', 'the', 'earth', '.']"
      ],
      "execution_count": null,
      "outputs": []
    },
    {
      "cell_type": "code",
      "metadata": {
        "id": "aRpOEOLyOQrE",
        "colab": {
          "base_uri": "https://localhost:8080/"
        },
        "outputId": "295e5da1-1003-46a4-b46d-127de153b0a4"
      },
      "source": [
        "sent2+sent3"
      ],
      "execution_count": null,
      "outputs": [
        {
          "output_type": "execute_result",
          "data": {
            "text/plain": [
              "['The',\n",
              " 'family',\n",
              " 'of',\n",
              " 'Dashwood',\n",
              " 'had',\n",
              " 'long',\n",
              " 'been',\n",
              " 'settled',\n",
              " 'in',\n",
              " 'Sussex',\n",
              " '.',\n",
              " 'In',\n",
              " 'the',\n",
              " 'beginning',\n",
              " 'God',\n",
              " 'created',\n",
              " 'the',\n",
              " 'heaven',\n",
              " 'and',\n",
              " 'the',\n",
              " 'earth',\n",
              " '.']"
            ]
          },
          "metadata": {},
          "execution_count": 72
        }
      ]
    },
    {
      "cell_type": "code",
      "metadata": {
        "id": "3ZB_FSxhOQt6",
        "colab": {
          "base_uri": "https://localhost:8080/"
        },
        "outputId": "15fa1331-e5be-4a8e-9030-6490de78b14c"
      },
      "source": [
        "sent1.append(\"Some\")\n",
        "sent1"
      ],
      "execution_count": null,
      "outputs": [
        {
          "output_type": "execute_result",
          "data": {
            "text/plain": [
              "['Call', 'me', 'Ishmael', '.', 'Some']"
            ]
          },
          "metadata": {},
          "execution_count": 73
        }
      ]
    },
    {
      "cell_type": "code",
      "metadata": {
        "id": "i_Bj67QHOQx3"
      },
      "source": [
        "len(text1)"
      ],
      "execution_count": null,
      "outputs": []
    },
    {
      "cell_type": "code",
      "metadata": {
        "id": "vrr1IqO-xFkM"
      },
      "source": [
        "len(text2)"
      ],
      "execution_count": null,
      "outputs": []
    },
    {
      "cell_type": "code",
      "metadata": {
        "id": "-e_FK-bjPYkW",
        "colab": {
          "base_uri": "https://localhost:8080/"
        },
        "outputId": "e6ba91af-8f17-4b58-99ff-e2175a55801d"
      },
      "source": [
        "text1[100:110]"
      ],
      "execution_count": null,
      "outputs": [
        {
          "output_type": "execute_result",
          "data": {
            "text/plain": [
              "['and', 'to', 'teach', 'them', 'by', 'what', 'name', 'a', 'whale', '-']"
            ]
          },
          "metadata": {},
          "execution_count": 74
        }
      ]
    },
    {
      "cell_type": "markdown",
      "source": [
        "---"
      ],
      "metadata": {
        "id": "CY4kzz0vqkaD"
      }
    },
    {
      "cell_type": "markdown",
      "source": [
        "##1.3   Searching Text\n"
      ],
      "metadata": {
        "id": "Um2M1fdRqlN8"
      }
    },
    {
      "cell_type": "markdown",
      "source": [
        "There are many ways to examine the context of a text apart from simply reading it. A concordance view shows us every occurrence of a given word, together with some context. Here we look up the word `monstrous` in *Moby Dick* by entering text1 followed by a period, then the term `concordance`, and then placing \"monstrous\" in parentheses:"
      ],
      "metadata": {
        "id": "WkQAv554qqRT"
      }
    },
    {
      "cell_type": "markdown",
      "metadata": {
        "id": "8Zl_kxLI1ln0"
      },
      "source": [
        "**[notes: NLTK concordance](http://www.nltk.org/api/nltk.html?highlight=concordance)**"
      ]
    },
    {
      "cell_type": "code",
      "source": [
        "print(text1)\n",
        "text1.concordance(\"monster\")"
      ],
      "metadata": {
        "id": "GccaIaPQovuN",
        "colab": {
          "base_uri": "https://localhost:8080/"
        },
        "outputId": "45f92eed-89ee-4f4e-93f4-bda12e545561"
      },
      "execution_count": null,
      "outputs": [
        {
          "output_type": "stream",
          "name": "stdout",
          "text": [
            "<Text: Moby Dick by Herman Melville 1851>\n",
            "Displaying 25 of 49 matches:\n",
            "des cometh within the chaos of this monster ' s mouth , be it beast , boat , or\n",
            "nter into the dreadful gulf of this monster ' s ( whale ' s ) mouth , are immed\n",
            "time with a lance ; but the furious monster at length rushed on the boat ; hims\n",
            " . Such a portentous and mysterious monster roused all my curiosity . Then the \n",
            "and flank with the most exasperated monster . Long usage had , for this Stubb ,\n",
            "ACK ).-- Under this head I reckon a monster which , by the various names of Fin\n",
            "arned the history of that murderous monster against whom I and all the others h\n",
            "ocity , cunning , and malice in the monster attacked ; therefore it was , that \n",
            "iathan is restricted to the ignoble monster primitively pursued in the North ; \n",
            " and incontestable character of the monster to strike the imagination with unwo\n",
            "mberment . Then , in darting at the monster , knife in hand , he had but given \n",
            "e rock ; instead of this we saw the monster sailing off with the utmost gravity\n",
            "e at Constantinople , a great sea - monster was captured in the neighboring Pro\n",
            " Of what precise species this sea - monster was , is not mentioned . But as he \n",
            "man reasoning , Procopius ' s sea - monster , that for half a century stove the\n",
            "hale ,\" as he called the fictitious monster which he declared to be incessantly\n",
            "d his intention to hunt that mortal monster in person . But such a supposition \n",
            "ng us on and on , in order that the monster might turn round upon us , and rend\n",
            "d famous , and most deadly immortal monster , Don ;-- but that would be too lon\n",
            "oluntarily lifted his voice for the monster , though for some little time past \n",
            "s rescuing Andromeda from the sea - monster or whale . Where did Guido get the \n",
            " huge corpulence of that Hogarthian monster undulates on the surface , scarcely\n",
            "nd is drawn just balancing upon the monster ' s spine ; and standing in that pr\n",
            " of cutting - in ) hove over to the monster as if to a quay ; and a boat , hurr\n",
            "eet in length . They fancy that the monster to which these arms belonged ordina\n"
          ]
        }
      ]
    },
    {
      "cell_type": "code",
      "source": [
        "print(text1)\n",
        "text1.concordance(\"son\")"
      ],
      "metadata": {
        "id": "VCkeg3Xvm8M_",
        "colab": {
          "base_uri": "https://localhost:8080/"
        },
        "outputId": "ac14b14e-cd55-45b6-9105-970ee50cbbdd"
      },
      "execution_count": null,
      "outputs": [
        {
          "output_type": "stream",
          "name": "stdout",
          "text": [
            "<Text: Moby Dick by Herman Melville 1851>\n",
            "Displaying 20 of 20 matches:\n",
            "l sinners among men , the sin of this son of Amittai was in his wilful disobedi\n",
            "r his naked wrists ; Queequeg was the son of a King , and Queequeg budged not .\n",
            " cabin , ye canting , drab - coloured son of a wooden gun -- a straight wake wi\n",
            " He must show that he ' s converted . Son of darkness ,\" he added , turning to \n",
            " and all of us , and every mother ' s son and soul of us belong ; the great and\n",
            "arnestly into his eyes , and said , \" Son of darkness , I must do my duty by th\n",
            "the sea ; the unerring harpoon of the son fitly replacing the infallible arrow \n",
            "f - believed this wild Indian to be a son of the Prince of the Powers of the Ai\n",
            "or little Flask , he was the youngest son , and little boy of this weary family\n",
            "narrative ; I have conversed with his son ; and all this within a few miles of \n",
            " from his girdle ; \" every mother ' s son of ye draw his knife , and pull with \n",
            "elkilt Charlemagne , had he been born son to Charlemagne ' s father . But Radne\n",
            " festooning their limbs . Nor can any son of mortal woman , for the first time \n",
            " fraternity . The gallant Perseus , a son of Jupiter , was the first whaleman ;\n",
            " may reveal of the divine love in the Son , the soft , curled , hermaphroditica\n",
            "or worshipping which , King Asa , her son , did depose her , and destroyed the \n",
            " and you SHALL do this thing .\" \" His son !\" cried Stubb , \" oh , it ' s his so\n",
            "on !\" cried Stubb , \" oh , it ' s his son he ' s lost ! I take back the coat an\n",
            " chase , there had been still another son ; as that for a time , the wretched f\n",
            ", that Nantucket captains will send a son of such tender age away from them , f\n"
          ]
        }
      ]
    },
    {
      "cell_type": "code",
      "source": [
        "print(text1)\n",
        "text1.concordance(\"king\")"
      ],
      "metadata": {
        "id": "2fQqXkYqolyH",
        "colab": {
          "base_uri": "https://localhost:8080/"
        },
        "outputId": "0e1e0aeb-4545-4073-af5d-b9d906ee8cde"
      },
      "execution_count": null,
      "outputs": [
        {
          "output_type": "stream",
          "name": "stdout",
          "text": [
            "<Text: Moby Dick by Herman Melville 1851>\n",
            "Displaying 25 of 64 matches:\n",
            "th , of which he brought some to the king . ... The best whales were catched i\n",
            "RRATIVE TAKEN DOWN FROM HIS MOUTH BY KING ALFRED , A . D . 890 . \" And whereas\n",
            "armacetti for an inward bruise .\" -- KING HENRY . \" Very like a whale .\" -- HA\n",
            "SOMEWHERE .) \" A tenth branch of the king ' s ordinary revenue , said to be gr\n",
            " the coast , are the property of the king .\" -- BLACKSTONE . \" Soon to the spo\n",
            " Io ! sing . To the finny people ' s king . Not a mightier whale than this In \n",
            "n might , where might is right , And King of the boundless sea .\" -- WHALE SON\n",
            "wo . His father was a High Chief , a King ; his uncle a High Priest ; and on t\n",
            ", spurned his suit ; and not all the King his father ' s influence could preva\n",
            "d wrists ; Queequeg was the son of a King , and Queequeg budged not . Struck b\n",
            " the High Priest and his majesty the King , Queequeg ' s father . Grace being \n",
            " plain precedence over a mere island King , especially in the King ' s own hou\n",
            "mere island King , especially in the King ' s own house -- the Captain coolly \n",
            " , not unworthy a Scandinavian sea - king , or a poetical Pagan Roman . And wh\n",
            "f old , thou knowest , was a crowned king !\" \" And a very vile one . When that\n",
            "d a very vile one . When that wicked king was slain , the dogs , did they not \n",
            " great feast given by his father the king , on the gaining of a great battle w\n",
            "settees and sofas of all sorts , the king , chiefs , and great people generall\n",
            "ws ? Certain I am , however , that a king ' s head is solemnly oiled at his co\n",
            "ight and last long . They called him King - Post on board of the Pequod ; beca\n",
            "ed ? For a Khan of the plank , and a king of the sea , and a great lord of Lev\n",
            "osted Flask . \" Such a queer dream , King - Post , I never had . You know the \n",
            "dent , hilarious little Flask enters King Ahab ' s presence , in the character\n",
            "haps not . To have been Belshazzar , King of Babylon ; and to have been Belsha\n",
            "e , the great gods mock that captive king ; so like a Caryatid , he patient si\n"
          ]
        }
      ]
    },
    {
      "cell_type": "code",
      "source": [
        "print(text1)\n",
        "text1.concordance(\"ship\")"
      ],
      "metadata": {
        "id": "jDz_aj4aooJ4",
        "colab": {
          "base_uri": "https://localhost:8080/"
        },
        "outputId": "3026b0b4-6210-4250-db3d-9572f180c209"
      },
      "execution_count": null,
      "outputs": [
        {
          "output_type": "stream",
          "name": "stdout",
          "text": [
            "<Text: Moby Dick by Herman Melville 1851>\n",
            "Displaying 25 of 518 matches:\n",
            "hale is floating at the stern of the ship , they cut off his head , and tow it\n",
            "ution for fear they should run their ship upon them .\" -- SCHOUTEN ' S SIXTH C\n",
            " from the Elbe , wind N . E . in the ship called The Jonas - in - the - Whale \n",
            "RATIVE OF THE SHIPWRECK OF THE WHALE SHIP ESSEX OF NANTUCKET , WHICH WAS ATTAC\n",
            "HALING CRUIZE . 1846 . \" The Whale - ship Globe , on board of which vessel occ\n",
            "OCK . ANOTHER VERSION OF THE WHALE - SHIP GLOBE NARRATIVE . \" The voyages of t\n",
            "\" It is impossible to meet a whale - ship on the ocean without being struck by\n",
            "e whales , that the whites saw their ship in bloody possession of the savages \n",
            "E TAKING AND RETAKING OF THE WHALE - SHIP HOBOMACK . \" It is generally well kn\n",
            "on his sword ; I quietly take to the ship . There is nothing surprising in thi\n",
            " , when first told that you and your ship were now out of sight of land ? Why \n",
            " , a cook being a sort of officer on ship - board -- yet , somehow , I never f\n",
            "eat hurricane ; the half - foundered ship weltering there with its three disma\n",
            "s legs . He was trying his hand at a ship under full sail , but he didn ' t ma\n",
            " a three years ' voyage , and a full ship . Hurrah , boys ; now we ' ll have t\n",
            "fore the idol ; then laying a bit of ship biscuit on top and applying the flam\n",
            " blacksmiths , and harpooneers , and ship keepers ; a brown and brawny company\n",
            "ming one of the boats ' crews OF THE SHIP ELIZA Who were towed out of sight by\n",
            "dder , like those used in mounting a ship from a boat at sea . The wife of a w\n",
            "ped me that however convenient for a ship , these joints in the present instan\n",
            "arge painting representing a gallant ship beating against a terrible storm off\n",
            "a distinct spot of radiance upon the ship ' s tossed deck , something like tha\n",
            "ank where Nelson fell . \" Ah , noble ship ,\" the angel seemed to say , \" beat \n",
            "y , \" beat on , beat on , thou noble ship , and bear a hardy helm ; for lo ! t\n",
            "elled front was in the likeness of a ship ' s bluff bows , and the Holy Bible \n"
          ]
        }
      ]
    },
    {
      "cell_type": "code",
      "source": [
        "print(text1)\n",
        "text1.concordance(\"knife\")"
      ],
      "metadata": {
        "id": "EkK0nk8Sop92",
        "colab": {
          "base_uri": "https://localhost:8080/"
        },
        "outputId": "bf61f3fa-cb9d-4cba-d2d3-daf73cfd67cf"
      },
      "execution_count": null,
      "outputs": [
        {
          "output_type": "stream",
          "name": "stdout",
          "text": [
            "<Text: Moby Dick by Herman Melville 1851>\n",
            "Displaying 25 of 31 matches:\n",
            " further adorning it with his jack - knife , stooping over and diligently worki\n",
            "ed with a sailor - belt and sheath - knife . Here comes another with a sou '- w\n",
            "rd into its face , and with a jack - knife gently whittling away at its nose , \n",
            "trying to mend a pen with his jack - knife , old Bildad , to my no small surpri\n",
            " mend that pen , will ye . My jack - knife here needs the grindstone . That ' s\n",
            "es all fastened upon the old man ' s knife , as he carved the chief dish before\n",
            "her . No ! And when reaching out his knife and fork , between which the slice o\n",
            " little started if , perchance , the knife grazed against the plate ; and chewe\n",
            "y wooden trencher , while Tashtego , knife in hand , began laying out the circl\n",
            "him ; tows me with a cable I have no knife to cut . Horrible old man ! Who ' s \n",
            "er ! SPANISH SAILOR ( MEETING HIM ). Knife thee heartily ! big frame , small sp\n",
            " Fair play ! Snatch the Spaniard ' s knife ! A ring , a ring ! OLD MANX SAILOR \n",
            "s ; one captain , seizing the line - knife from his broken prow , had dashed at\n",
            ". Then , in darting at the monster , knife in hand , he had but given loose to \n",
            "out ! Here !\" whipping out the sharp knife from his girdle ; \" every mother ' s\n",
            " every mother ' s son of ye draw his knife , and pull with the blade between hi\n",
            "s it would tip for an instant on the knife - like edge of the sharper waves , t\n",
            "ng of the boat , quickly brought his knife to the line . He cut it ; and the wh\n",
            "k ' s tooth , of his one poor jack - knife , he will carve you a bit of bone sc\n",
            "ult to injury , is it ? Look at your knife - handle , there , my civilized and \n",
            " cutting - spade pole , and with his knife slightly split the end , to insert t\n",
            "it in an instant , seized the boat - knife , and impaling the letter on it , se\n",
            " of ye for a prayer book and a pen - knife , and cut the big chains .\" \" Knife \n",
            " knife , and cut the big chains .\" \" Knife ? Aye , aye ,\" cried Queequeg , and \n",
            "or a poltroon . Snatching the boat - knife from its sheath , he suspended its s\n"
          ]
        }
      ]
    },
    {
      "cell_type": "code",
      "source": [
        "text4"
      ],
      "metadata": {
        "id": "awnAG-PAMgrL",
        "colab": {
          "base_uri": "https://localhost:8080/"
        },
        "outputId": "dc94fc6a-875e-42f9-c57d-089724f0b9be"
      },
      "execution_count": null,
      "outputs": [
        {
          "output_type": "execute_result",
          "data": {
            "text/plain": [
              "<Text: Inaugural Address Corpus>"
            ]
          },
          "metadata": {},
          "execution_count": 80
        }
      ]
    },
    {
      "cell_type": "code",
      "metadata": {
        "id": "lOgSt9w9Ps3-",
        "colab": {
          "base_uri": "https://localhost:8080/"
        },
        "outputId": "1a23c1be-fddd-42c6-bd4f-b7d2fbf63e44"
      },
      "source": [
        "text4.concordance(\"nation\")"
      ],
      "execution_count": null,
      "outputs": [
        {
          "output_type": "stream",
          "name": "stdout",
          "text": [
            "Displaying 25 of 330 matches:\n",
            " to the character of an independent nation seems to have been distinguished by\n",
            "f Heaven can never be expected on a nation that disregards the eternal rules o\n",
            "first , the representatives of this nation , then consisting of little more th\n",
            ", situation , and relations of this nation and country than any which had ever\n",
            ", prosperity , and happiness of the nation I have acquired an habitual attachm\n",
            "an be no spectacle presented by any nation more pleasing , more noble , majest\n",
            "party for its own ends , not of the nation for the national good . If that sol\n",
            "tures and the people throughout the nation . On this subject it might become m\n",
            "if a personal esteem for the French nation , formed in a residence of seven ye\n",
            "f our fellow - citizens by whatever nation , and if success can not be obtaine\n",
            "y , continue His blessing upon this nation and its Government and give it all \n",
            "powers so justly inspire . A rising nation , spread over a wide and fruitful l\n",
            "ing now decided by the voice of the nation , announced according to the rules \n",
            "ars witness to the fact that a just nation is trusted on its word when recours\n",
            "e union of opinion which gives to a nation the blessing of harmony and the ben\n",
            "uil suffrage of a free and virtuous nation , would under any circumstances hav\n",
            "d spirit and united councils of the nation will be safeguards to its honor and\n",
            "iction that the war with a powerful nation , which forms so prominent a featur\n",
            "out breaking down the spirit of the nation , destroying all confidence in itse\n",
            "ed on the military resources of the nation . These resources are amply suffici\n",
            "the war to an honorable issue . Our nation is in number more than half that of\n",
            "ndividually have been happy and the nation prosperous . Under this Constitutio\n",
            "rights , and is able to protect the nation against injustice from foreign powe\n",
            " great agricultural interest of the nation prospers under its protection . Loc\n",
            "ak our Union , and demolish us as a nation . Our distance from Europe and the \n"
          ]
        }
      ]
    },
    {
      "cell_type": "markdown",
      "source": [
        "The first time you use a concordance on a particular text, it takes a few extra seconds to build an index so that subsequent searches are fast."
      ],
      "metadata": {
        "id": "56yyRd_FrRZE"
      }
    },
    {
      "cell_type": "markdown",
      "source": [
        "**Note**\n",
        "\n",
        "**Your Turn:** Try searching for other words; to save re-typing, you might be able to use up-arrow, Ctrl-up-arrow or Alt-p to access the previous command and modify the word being searched. You can also try searches on some of the other texts we have included. For example, search Sense and Sensibility for the word affection, using text2.concordance(\"affection\"). Search the book of Genesis to find out how long some people lived, using text3.concordance(\"lived\"). You could look at text4, the Inaugural Address Corpus, to see examples of English going back to 1789, and search for words like nation, terror, god to see how these words have been used differently over time. We've also included text5, the NPS Chat Corpus: search this for unconventional words like im, ur, lol. (Note that this corpus is uncensored!)"
      ],
      "metadata": {
        "id": "_6VXZNr7rUOj"
      }
    },
    {
      "cell_type": "code",
      "source": [],
      "metadata": {
        "id": "TcQfPcS_rbsM"
      },
      "execution_count": null,
      "outputs": []
    },
    {
      "cell_type": "markdown",
      "source": [
        "Once you've spent a little while examining these texts, we hope you have a new sense of the richness and diversity of language. In the next chapter you will learn how to access a broader range of text, including text in languages other than English."
      ],
      "metadata": {
        "id": "pGJEziVhrgac"
      }
    },
    {
      "cell_type": "markdown",
      "source": [
        "---"
      ],
      "metadata": {
        "id": "LWTIS3HxrrAG"
      }
    },
    {
      "cell_type": "markdown",
      "source": [
        "Using `.similar()`"
      ],
      "metadata": {
        "id": "WIwkGzsVn9eU"
      }
    },
    {
      "cell_type": "markdown",
      "source": [
        "A concordance permits us to see words in context. For example, we saw that monstrous occurred in contexts such as the ___ pictures and a ___ size . What other words appear in a similar range of contexts? We can find out by appending the term similar to the name of the text in question, then inserting the relevant word in parentheses:"
      ],
      "metadata": {
        "id": "XCeJy2TwroDs"
      }
    },
    {
      "cell_type": "code",
      "source": [
        "len(text1)"
      ],
      "metadata": {
        "id": "oo92GzTQp6KV"
      },
      "execution_count": null,
      "outputs": []
    },
    {
      "cell_type": "code",
      "source": [
        "text1.similar(\"monster\")"
      ],
      "metadata": {
        "id": "Dkg8Fut_n_gB",
        "colab": {
          "base_uri": "https://localhost:8080/"
        },
        "outputId": "5ad40b8f-fe1a-4279-f9f8-af8e94445ed2"
      },
      "execution_count": null,
      "outputs": [
        {
          "output_type": "stream",
          "name": "stdout",
          "text": [
            "whale ship world sea whales boat pequod other sun leviathan thing king\n",
            "water head captain air crew cabin body more\n"
          ]
        }
      ]
    },
    {
      "cell_type": "code",
      "source": [
        "text1.similar(\"king\")"
      ],
      "metadata": {
        "id": "ZmlZNkVEoFjd",
        "colab": {
          "base_uri": "https://localhost:8080/"
        },
        "outputId": "5f59971b-1ef3-4072-8287-44ceaf9868c5"
      },
      "execution_count": null,
      "outputs": [
        {
          "output_type": "stream",
          "name": "stdout",
          "text": [
            "whale ship sea boat man line pequod water head captain time crew rope\n",
            "harpooneer cry world lord day monster land\n"
          ]
        }
      ]
    },
    {
      "cell_type": "code",
      "source": [
        "text1.similar(\"knife\")"
      ],
      "metadata": {
        "id": "Yi0qqLtooNxE",
        "colab": {
          "base_uri": "https://localhost:8080/"
        },
        "outputId": "34a3dba6-94ab-4bfd-b4ae-a9ad02501766"
      },
      "execution_count": null,
      "outputs": [
        {
          "output_type": "stream",
          "name": "stdout",
          "text": [
            "head and side way ship time face hand whale more boat men place duty\n",
            "leg officers marines trumpet heart body\n"
          ]
        }
      ]
    },
    {
      "cell_type": "code",
      "source": [
        "text1.similar(\"son\")"
      ],
      "metadata": {
        "id": "a8z0RhYaoPBs",
        "colab": {
          "base_uri": "https://localhost:8080/"
        },
        "outputId": "a9cebbc5-58a6-4dce-ad3d-d7dc971558b8"
      },
      "execution_count": null,
      "outputs": [
        {
          "output_type": "stream",
          "name": "stdout",
          "text": [
            "side head part heart body hand boat sort matter time sense wife cabin\n",
            "whale book eye god lord sea mouth\n"
          ]
        }
      ]
    },
    {
      "cell_type": "code",
      "source": [
        "text1.similar(\"ship\")"
      ],
      "metadata": {
        "id": "RqVlSeM7oR6Y",
        "colab": {
          "base_uri": "https://localhost:8080/"
        },
        "outputId": "7c0eac2c-392d-4d5f-8918-46fbbc0dc4fb"
      },
      "execution_count": null,
      "outputs": [
        {
          "output_type": "stream",
          "name": "stdout",
          "text": [
            "whale boat sea world captain way head time other man crew pequod line\n",
            "deck body fishery air side water voyage\n"
          ]
        }
      ]
    },
    {
      "cell_type": "markdown",
      "source": [
        "---"
      ],
      "metadata": {
        "id": "DCMlA8U3m7ap"
      }
    },
    {
      "cell_type": "markdown",
      "source": [
        "Observe that we get different results for different texts. Austen uses this word quite differently from Melville; for her, monstrous has positive connotations, and sometimes functions as an intensifier like the word very.\n",
        "\n",
        "The term common_contexts allows us to examine just the contexts that are shared by two or more words, such as monstrous and very. We have to enclose these words by square brackets as well as parentheses, and separate them with a comma:"
      ],
      "metadata": {
        "id": "vaJ5Ybd1r4FE"
      }
    },
    {
      "cell_type": "code",
      "source": [
        "text2.common_contexts([\"monstrous\", \"very\"])"
      ],
      "metadata": {
        "id": "7dQjDbOKr72-",
        "colab": {
          "base_uri": "https://localhost:8080/"
        },
        "outputId": "418d6c6f-7a38-4f68-930d-c38d0f42add8"
      },
      "execution_count": null,
      "outputs": [
        {
          "output_type": "stream",
          "name": "stdout",
          "text": [
            "am_glad a_pretty a_lucky is_pretty be_glad\n"
          ]
        }
      ]
    },
    {
      "cell_type": "markdown",
      "source": [
        "**Note**\n",
        "\n",
        "**Your Turn:** Pick another pair of words and compare their usage in two different texts, using the similar() and common_contexts() functions."
      ],
      "metadata": {
        "id": "7k_WhkpvsB8l"
      }
    },
    {
      "cell_type": "code",
      "source": [],
      "metadata": {
        "id": "8TdFzjfSsF49"
      },
      "execution_count": null,
      "outputs": []
    },
    {
      "cell_type": "markdown",
      "source": [
        "---"
      ],
      "metadata": {
        "id": "u61TrJ77r2-0"
      }
    },
    {
      "cell_type": "markdown",
      "source": [
        "It is one thing to automatically detect that a particular word occurs in a text, and to display some words that appear in the same context. However, we can also determine the location of a word in the text: how many words from the beginning it appears. This positional information can be displayed using a dispersion plot. Each stripe represents an instance of a word, and each row represents the entire text. In 1.2 we see some striking patterns of word usage over the last 220 years (in an artificial text constructed by joining the texts of the Inaugural Address Corpus end-to-end). You can produce this plot as shown below. You might like to try more words (e.g., liberty, constitution), and different texts. Can you predict the dispersion of a word before you view it? As before, take care to get the quotes, commas, brackets and parentheses exactly right."
      ],
      "metadata": {
        "id": "W4UOYnnDsJp1"
      }
    },
    {
      "cell_type": "code",
      "metadata": {
        "id": "4PqlJAKK0JKc"
      },
      "source": [
        "print(text4)\n",
        "len(text4)"
      ],
      "execution_count": null,
      "outputs": []
    },
    {
      "cell_type": "code",
      "metadata": {
        "id": "uc05kKoa1UOe"
      },
      "source": [
        "print(text2)\n",
        "len(text2)"
      ],
      "execution_count": null,
      "outputs": []
    },
    {
      "cell_type": "markdown",
      "source": [
        "**Note**\n",
        "\n",
        "**Important:** You need to have Python's NumPy and Matplotlib packages installed in order to produce the graphical plots used in this book. Please see http://nltk.org/ for installation instructions."
      ],
      "metadata": {
        "id": "y25nnRlvsTpV"
      }
    },
    {
      "cell_type": "code",
      "metadata": {
        "id": "Jx2fI346fnPD",
        "colab": {
          "base_uri": "https://localhost:8080/",
          "height": 295
        },
        "outputId": "30b2c579-8d32-4f69-8920-18a4f4fa8905"
      },
      "source": [
        "text2.dispersion_plot([\"Elinor\", \"Marianne\", \"Edward\", \"Willoughby\", \"Brandon\"])"
      ],
      "execution_count": null,
      "outputs": [
        {
          "output_type": "display_data",
          "data": {
            "text/plain": [
              "<Figure size 432x288 with 1 Axes>"
            ],
            "image/png": "[encoded data removed]"
          },
          "metadata": {
            "needs_background": "light"
          }
        }
      ]
    },
    {
      "cell_type": "code",
      "metadata": {
        "id": "ziYklSVdf_dD"
      },
      "source": [
        "len(set(text4))"
      ],
      "execution_count": null,
      "outputs": []
    },
    {
      "cell_type": "code",
      "metadata": {
        "id": "g2Z8Gg-iiajT",
        "colab": {
          "base_uri": "https://localhost:8080/",
          "height": 295
        },
        "outputId": "53b46fac-6f75-4375-b167-7c3b28acc658"
      },
      "source": [
        "text4.dispersion_plot([\"citizens\", \"democracy\", \"freedom\", \"duties\", \"liberty\", \"is\"])"
      ],
      "execution_count": null,
      "outputs": [
        {
          "output_type": "display_data",
          "data": {
            "text/plain": [
              "<Figure size 432x288 with 1 Axes>"
            ],
            "image/png": "[encoded data removed]"
          },
          "metadata": {
            "needs_background": "light"
          }
        }
      ]
    },
    {
      "cell_type": "code",
      "metadata": {
        "id": "05eHJd7-icgR",
        "colab": {
          "base_uri": "https://localhost:8080/",
          "height": 295
        },
        "outputId": "4196961a-3409-4f5a-d11f-57136b258495"
      },
      "source": [
        "text2.dispersion_plot([\"citizens\", \"democracy\", \"freedom\", \"duties\", \"is\"])"
      ],
      "execution_count": null,
      "outputs": [
        {
          "output_type": "display_data",
          "data": {
            "text/plain": [
              "<Figure size 432x288 with 1 Axes>"
            ],
            "image/png": "[encoded data removed]"
          },
          "metadata": {
            "needs_background": "light"
          }
        }
      ]
    },
    {
      "cell_type": "code",
      "metadata": {
        "id": "mXY-SyXdiiMC",
        "colab": {
          "base_uri": "https://localhost:8080/",
          "height": 295
        },
        "outputId": "0cadfd89-fcc7-41f2-d309-48d951519f2c"
      },
      "source": [
        "text2.dispersion_plot([\"society\", \"husband\", \"feeling\", \"marriage\", \"independent\", \"Dashwood\"])"
      ],
      "execution_count": null,
      "outputs": [
        {
          "output_type": "display_data",
          "data": {
            "text/plain": [
              "<Figure size 432x288 with 1 Axes>"
            ],
            "image/png": "[encoded data removed]"
          },
          "metadata": {
            "needs_background": "light"
          }
        }
      ]
    },
    {
      "cell_type": "markdown",
      "source": [
        "**Note**\n",
        "\n",
        "*You can also plot the frequency of word usage through time using `https://books.google.com/ngrams`*"
      ],
      "metadata": {
        "id": "neq8ZtZbsdxe"
      }
    },
    {
      "cell_type": "markdown",
      "source": [
        "Now, just for fun, let's try generating some random text in the various styles we have just seen. To do this, we type the name of the text followed by the term generate. (We need to include the parentheses, but there's nothing that goes between them.)"
      ],
      "metadata": {
        "id": "0E_1o-pGssTN"
      }
    },
    {
      "cell_type": "code",
      "source": [
        "text3.generate()"
      ],
      "metadata": {
        "id": "LhFFcb3Zsve1",
        "colab": {
          "base_uri": "https://localhost:8080/",
          "height": 226
        },
        "outputId": "c42e0384-d02e-433b-83fe-1bfffbe517e0"
      },
      "execution_count": null,
      "outputs": [
        {
          "output_type": "stream",
          "name": "stderr",
          "text": [
            "Building ngram index...\n"
          ]
        },
        {
          "output_type": "stream",
          "name": "stdout",
          "text": [
            "lamb for a burnt offering in the city . , duke Elah , duke Shobal ,\n",
            "and Akan . and looked upon my affliction . Because the LORD God\n",
            "amongst the trees of the mighty God of Abraham his father , that they\n",
            "found a plain man , and the wo The blessings of my hand to do justice\n",
            "and judgment ; that the LORD that spake unto me , and put him into the\n",
            "ark , and for your little ones . they heard that they have brought it\n",
            "unto Hagar , Sarai ' s brother will I slay\n"
          ]
        },
        {
          "output_type": "execute_result",
          "data": {
            "text/plain": [
              "\"lamb for a burnt offering in the city . , duke Elah , duke Shobal ,\\nand Akan . and looked upon my affliction . Because the LORD God\\namongst the trees of the mighty God of Abraham his father , that they\\nfound a plain man , and the wo The blessings of my hand to do justice\\nand judgment ; that the LORD that spake unto me , and put him into the\\nark , and for your little ones . they heard that they have brought it\\nunto Hagar , Sarai ' s brother will I slay\""
            ],
            "application/vnd.google.colaboratory.intrinsic+json": {
              "type": "string"
            }
          },
          "metadata": {},
          "execution_count": 92
        }
      ]
    },
    {
      "cell_type": "markdown",
      "source": [
        "**Note**\n",
        "\n",
        "**The generate() method is not available in NLTK 3.0 but will be reinstated in a subsequent version.**"
      ],
      "metadata": {
        "id": "owaMfha4s1EO"
      }
    },
    {
      "cell_type": "markdown",
      "source": [
        "---"
      ],
      "metadata": {
        "id": "G0GY_I3as4sG"
      }
    },
    {
      "cell_type": "markdown",
      "source": [
        "## 1.4   Counting Vocabulary    "
      ],
      "metadata": {
        "id": "mmervAtcs5fe"
      }
    },
    {
      "cell_type": "markdown",
      "source": [
        "The most obvious fact about texts that emerges from the preceding examples is that they differ in the vocabulary they use. In this section we will see how to use the computer to count the words in a text in a variety of useful ways. As before, you will jump right in and experiment with the Python interpreter, even though you may not have studied Python systematically yet. Test your understanding by modifying the examples, and trying the exercises at the end of the chapter.\n",
        "\n",
        "Let's begin by finding out the length of a text from start to finish, in terms of the words and punctuation symbols that appear. We use the term len to get the length of something, which we'll apply here to the book of Genesis:"
      ],
      "metadata": {
        "id": "gLyQF7VWtBQn"
      }
    },
    {
      "cell_type": "code",
      "source": [
        "len(text3)"
      ],
      "metadata": {
        "id": "qpeQNN7KtIKu"
      },
      "execution_count": null,
      "outputs": []
    },
    {
      "cell_type": "markdown",
      "source": [
        "So Genesis has 44,764 words and punctuation symbols, or \"tokens.\" A token is the technical name for a sequence of characters — such as hairy, his, or :) — that we want to treat as a group. When we count the number of tokens in a text, say, the phrase to be or not to be, we are counting occurrences of these sequences. Thus, in our example phrase there are two occurrences of to, two of be, and one each of or and not. But there are only four distinct vocabulary items in this phrase. How many distinct words does the book of Genesis contain? To work this out in Python, we have to pose the question slightly differently. The vocabulary of a text is just the set of tokens that it uses, since in a set, all duplicates are collapsed together. In Python we can obtain the vocabulary items of text3 with the command: set(text3). When you do this, many screens of words will fly past. Now try the following:"
      ],
      "metadata": {
        "id": "0XeFTTKbtLOW"
      }
    },
    {
      "cell_type": "code",
      "source": [
        "sorted(set(text3))"
      ],
      "metadata": {
        "id": "h6UVn5qgtQ2u"
      },
      "execution_count": null,
      "outputs": []
    },
    {
      "cell_type": "code",
      "metadata": {
        "id": "SN-VR57AjGp-"
      },
      "source": [
        "len(set(text3))"
      ],
      "execution_count": null,
      "outputs": []
    },
    {
      "cell_type": "markdown",
      "source": [
        "By wrapping sorted() around the Python expression set(text3) [1], we obtain a sorted list of vocabulary items, beginning with various punctuation symbols and continuing with words starting with A. All capitalized words precede lowercase words. We discover the size of the vocabulary indirectly, by asking for the number of items in the set, and again we can use len to obtain this number [2]. Although it has 44,764 tokens, this book has only 2,789 distinct words, or \"word types.\" A word type is the form or spelling of the word independently of its specific occurrences in a text — that is, the word considered as a unique item of vocabulary. Our count of 2,789 items will include punctuation symbols, so we will generally call these unique items types instead of word types.\n",
        "\n",
        "Now, let's calculate a measure of the lexical richness of the text. The next example shows us that the number of distinct words is just 6% of the total number of words, or equivalently that each word is used 16 times on average (remember if you're using Python 2, to start with from __future__ import division)."
      ],
      "metadata": {
        "id": "QKFFrkC1tarm"
      }
    },
    {
      "cell_type": "code",
      "metadata": {
        "id": "Wi4KTZHYjDyH"
      },
      "source": [
        "len(set(text3)) / len(text3)\n"
      ],
      "execution_count": null,
      "outputs": []
    },
    {
      "cell_type": "markdown",
      "source": [
        "Next, let's focus on particular words. We can count how often a word occurs in a text, and compute what percentage of the text is taken up by a specific word:"
      ],
      "metadata": {
        "id": "VRaevxbFtjLG"
      }
    },
    {
      "cell_type": "code",
      "source": [
        "text3.count(\"smote\")"
      ],
      "metadata": {
        "id": "OelpqmD3tlgQ"
      },
      "execution_count": null,
      "outputs": []
    },
    {
      "cell_type": "code",
      "source": [
        "100 * text4.count('a') / len(text4)"
      ],
      "metadata": {
        "id": "BnWGxHtOtrKG"
      },
      "execution_count": null,
      "outputs": []
    },
    {
      "cell_type": "markdown",
      "source": [
        "**Note**\n",
        "\n",
        "**Your Turn:** How many times does the word lol appear in text5? How much is this as a percentage of the total number of words in this text?"
      ],
      "metadata": {
        "id": "tdzHz0vutuh3"
      }
    },
    {
      "cell_type": "markdown",
      "source": [
        "You may want to repeat such calculations on several texts, but it is tedious to keep retyping the formula. Instead, you can come up with your own name for a task, like \"lexical_diversity\" or \"percentage\", and associate it with a block of code. Now you only have to type a short name instead of one or more complete lines of Python code, and you can re-use it as often as you like. The block of code that does a task for us is called a function, and we define a short name for our function with the keyword def. The next example shows how to define two new functions, lexical_diversity() and percentage():"
      ],
      "metadata": {
        "id": "KSbYdz7ft5V4"
      }
    },
    {
      "cell_type": "code",
      "source": [
        "def lexical_diversity(text): #1#\n",
        "    \"\"\" function to calculate diversity of vocabulary \"\"\"\n",
        "    return len(set(text)) / len(text) #2#"
      ],
      "metadata": {
        "id": "xH6UWgyZtyZn"
      },
      "execution_count": null,
      "outputs": []
    },
    {
      "cell_type": "code",
      "source": [
        "def percentage(count, total): #3#\n",
        "    \"\"\" function to calculate a percentage of total \"\"\"\n",
        "    return 100 * count / total"
      ],
      "metadata": {
        "id": "XASSa7tauCow"
      },
      "execution_count": null,
      "outputs": []
    },
    {
      "cell_type": "markdown",
      "source": [
        "In the definition of lexical_diversity() [1], we specify a parameter named text. This parameter is a \"placeholder\" for the actual text whose lexical diversity we want to compute, and reoccurs in the block of code that will run when the function is used [2]. Similarly, percentage() is defined to take two parameters, named count and total [3].\n",
        "\n",
        "Once Python knows that lexical_diversity() and percentage() are the names for specific blocks of code, we can go ahead and use these functions:"
      ],
      "metadata": {
        "id": "ESikbHQ7uegY"
      }
    },
    {
      "cell_type": "code",
      "source": [
        "lexical_diversity(text3)"
      ],
      "metadata": {
        "id": "CPPRR5c_uqti"
      },
      "execution_count": null,
      "outputs": []
    },
    {
      "cell_type": "code",
      "source": [
        "lexical_diversity(text5)"
      ],
      "metadata": {
        "id": "HnUwywLHuyZ4"
      },
      "execution_count": null,
      "outputs": []
    },
    {
      "cell_type": "code",
      "source": [
        "print(percentage(4, 5))\n",
        "print(percentage(text4.count('a'), len(text4)))"
      ],
      "metadata": {
        "id": "Oevbe7KDu1WW"
      },
      "execution_count": null,
      "outputs": []
    },
    {
      "cell_type": "markdown",
      "source": [
        "To recap, we use or call a function such as lexical_diversity() by typing its name, followed by an open parenthesis, the name of the text, and then a close parenthesis. These parentheses will show up often; their role is to separate the name of a task — such as lexical_diversity() — from the data that the task is to be performed on — such as text3. The data value that we place in the parentheses when we call a function is an argument to the function.\n",
        "\n",
        "You have already encountered several functions in this chapter, such as len(), set(), and sorted(). By convention, we will always add an empty pair of parentheses after a function name, as in len(), just to make clear that what we are talking about is a function rather than some other kind of Python expression. Functions are an important concept in programming, and we only mention them at the outset to give newcomers a sense of the power and creativity of programming. Don't worry if you find it a bit confusing right now.\n",
        "\n",
        "Later we'll see how to use functions when tabulating data, as in 1.1. Each row of the table will involve the same computation but with different data, and we'll do this repetitive work using a function.\n"
      ],
      "metadata": {
        "id": "ldEKGsGAtohv"
      }
    },
    {
      "cell_type": "markdown",
      "source": [
        "\n",
        "![NLTK_table-1-1.png](data:image/png;base64,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)"
      ],
      "metadata": {
        "id": "HAufHLKFssG-"
      }
    },
    {
      "cell_type": "markdown",
      "source": [
        "**Note**\n",
        "\n",
        "**Your Turn:** Can you create the values in the Table 1.1 columns for each genre?"
      ],
      "metadata": {
        "id": "--Tb0W7Zsr4F"
      }
    },
    {
      "cell_type": "markdown",
      "source": [
        "**Here are some additional practice exercises.**"
      ],
      "metadata": {
        "id": "xLeT75ADwW1i"
      }
    },
    {
      "cell_type": "markdown",
      "source": [
        "---"
      ],
      "metadata": {
        "id": "rqqLwoeswh1i"
      }
    },
    {
      "cell_type": "code",
      "metadata": {
        "id": "H364Zrc61uQA"
      },
      "source": [
        "len(text2)"
      ],
      "execution_count": null,
      "outputs": []
    },
    {
      "cell_type": "code",
      "metadata": {
        "id": "sil_VPA71yAm"
      },
      "source": [
        "len(set(text2))"
      ],
      "execution_count": null,
      "outputs": []
    },
    {
      "cell_type": "code",
      "metadata": {
        "id": "ANRzeLmb13Ec"
      },
      "source": [
        "len(set(text2))/len(text2)"
      ],
      "execution_count": null,
      "outputs": []
    },
    {
      "cell_type": "code",
      "metadata": {
        "id": "pJ1zOz0cjjXi"
      },
      "source": [
        "len(set(text3)-set(stopwords))"
      ],
      "execution_count": null,
      "outputs": []
    },
    {
      "cell_type": "code",
      "metadata": {
        "id": "W_T3BbrymeKz"
      },
      "source": [
        "fdist1 = FreqDist(text1)"
      ],
      "execution_count": null,
      "outputs": []
    },
    {
      "cell_type": "code",
      "metadata": {
        "id": "_O_oqEJh28Dv"
      },
      "source": [
        "fdist1.most_common(50) "
      ],
      "execution_count": null,
      "outputs": []
    },
    {
      "cell_type": "code",
      "metadata": {
        "id": "o2Qcf8OT3DE0"
      },
      "source": [
        "fdist2 = FreqDist(text2)"
      ],
      "execution_count": null,
      "outputs": []
    },
    {
      "cell_type": "code",
      "metadata": {
        "id": "lXYYuUHg3tJc"
      },
      "source": [
        "len(fdist2)"
      ],
      "execution_count": null,
      "outputs": []
    },
    {
      "cell_type": "code",
      "metadata": {
        "id": "Zf0rqLgN3F4H"
      },
      "source": [
        "fdist2.most_common(50) "
      ],
      "execution_count": null,
      "outputs": []
    },
    {
      "cell_type": "markdown",
      "metadata": {
        "id": "-yzQUowg3PuL"
      },
      "source": [
        "Find 50 most frequent words for Sense and Sensibility that are not stopwords"
      ]
    },
    {
      "cell_type": "code",
      "metadata": {
        "id": "zWwLAiyB3Wze"
      },
      "source": [
        "fdist2[',']"
      ],
      "execution_count": null,
      "outputs": []
    },
    {
      "cell_type": "code",
      "metadata": {
        "id": "49eASpO76cSW"
      },
      "source": [
        "counter = 0\n",
        "for item in fdist2.most_common():\n",
        "  if item[0] not in stopwords:\n",
        "    print(item)\n",
        "    counter += 1\n",
        "    if (counter == 49):\n",
        "      break"
      ],
      "execution_count": null,
      "outputs": []
    },
    {
      "cell_type": "code",
      "metadata": {
        "id": "UvSK7Yr77NRM"
      },
      "source": [
        "170/len(text2)"
      ],
      "execution_count": null,
      "outputs": []
    },
    {
      "cell_type": "markdown",
      "source": [
        "---"
      ],
      "metadata": {
        "id": "EnZk49GLnyTZ"
      }
    }
  ]
}