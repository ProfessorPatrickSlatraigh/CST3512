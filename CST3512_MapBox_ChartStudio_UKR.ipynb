{
  "cells": [
    {
      "cell_type": "markdown",
      "metadata": {
        "id": "view-in-github",
        "colab_type": "text"
      },
      "source": [
        "<a href=\"https://colab.research.google.com/github/ProfessorPatrickSlatraigh/CST3512/blob/main/CST3512_MapBox_ChartStudio_UKR.ipynb\" target=\"_parent\"><img src=\"https://colab.research.google.com/assets/colab-badge.svg\" alt=\"Open In Colab\"/></a>"
      ]
    },
    {
      "cell_type": "markdown",
      "source": [
        "#CST3512 - MapBox, ChartStudio, Ukraine Monitor\n",
        "**Map Examples**\n",
        "\n",
        "This notebook demonstrates exercises to produce a map from geo location (longitude and latitude) data using Mapbox and plotly.  That output is then used by **Kaleido** and **plotly Chart-Studio** to be saved as a static image in a variety of formats.    \n",
        "\n",
        "In addition to plotting geocade data, this exercise will demonstrate the creation of free accounts and initiation of API keys for the following services:\n",
        "* Mapbox\n",
        "* plotly Chart-Studio\n"
      ],
      "metadata": {
        "id": "545Vt7Nf_xIp"
      }
    },
    {
      "cell_type": "markdown",
      "source": [
        "# MapHub, Crowd-sourced Russian-Ukraine Monitor    \n",
        "\n",
        "*by Cen4infoRes*    \n",
        "\n",
        "Before working with **Mapbox**, **plotly** and related libraries, consider this crowdsourced example of dynamic map data.  The following link to an interactive map presented using **MapHub** includes data derived from several different social media sources.\n",
        "\n",
        "[Russian-Ukraine Monitor Map](https://maphub.net/Cen4infoRes/russian-ukraine-monitor)     \n",
        "\n",
        "\n",
        "The Russia-Ukraine Monitor Map is a crowdsourced effort to map, document and verify information in order to provide reliable information for policymakers and journalists of the on-the-ground and online situation in and around Ukraine.\n",
        "\n",
        "This map is created by the [Centre For Information Resilience](https://twitter.com/Cen4infoRes) as part of a wider effort to tackle disinformation and promote transparent and verified information.\n",
        "\n",
        "\n"
      ],
      "metadata": {
        "id": "5QqkvqtgMsWY"
      }
    },
    {
      "cell_type": "markdown",
      "source": [
        "\n",
        "\n",
        "---\n",
        "\n"
      ],
      "metadata": {
        "id": "_LwI6GKbNY8h"
      }
    },
    {
      "cell_type": "markdown",
      "metadata": {
        "id": "O2iJGaDlf4so"
      },
      "source": [
        "#Maps in Python with Mapbox, Plotly, Kaleido, and Chart Studio\n",
        "\n",
        "from: **Working with maps in python using Mapbox and Plotly**\n",
        " by: Rahul Bhadani in [Medium](https://medium.com/technology-hits/working-with-maps-in-python-with-mapbox-and-plotly-6f454522ccdd) on 20-Nov-2020.    \n",
        "\n",
        "Connect with [Rahul Bhadani on LinkedIn](https://www.linkedin.com/in/rahulbhadani/). \n",
        "\n",
        "\n",
        " *The [gps.csv](https://raw.githubusercontent.com/rahulbhadani/medium.com/master/data/gps.csv) data file from the original article is accessed by this notebook.*"
      ]
    },
    {
      "cell_type": "markdown",
      "metadata": {
        "id": "a92kbtIof4ss"
      },
      "source": [
        "There are plenty of mapping services available dominated by Google Map, Here map, OpenStreetMaps, and a few lesser-known as such Mapbox. They vary in features, services, and applicable use cases. For mapping applications that require precision and finer control, Google Map is the choice, but it is not convenient and free for all purposes. Some use-cases of Google MAP API are free but may still require credit card information for billing purposes in order to prevent any misuse.     \n",
        "\n",
        "A research group started gathering GPS data from consumer cars and was looking to overlay the GPS data on maps for further downstream analysis of GPS data. In the quest for a suitable python API, uses of plotly that employed various types of maps, with or without the need for an API key were considered. plotly provides support of Mapbox, a convenient tool.    \n",
        " \n",
        "Mapbox provides two sets of API token that can be used for querying mapping service: public and private. plotly uses a public API key to query mapping service from Mapbox. However, plotly doesn't necessarily need an API token from Mapbox as it has a support mapping without an API token as well, but that does not allow for the use of Mapbox mapping tiles. Also, API-token-free mapping calls in plotly have poor map rendering. However, API token generation in Mapbox is so easy that there is no reason not to use it. Here is an example."
      ]
    },
    {
      "cell_type": "markdown",
      "source": [
        "\n",
        "\n",
        "---\n",
        "\n",
        "Contents:\n",
        "1. Preparation: API Token Generation\n",
        "2. Housekeeping: Library Imports\n",
        "3. Data File Specification\n",
        "4. Downloading Plotly Charts as Images in Colab\n",
        "5. Mapbox and Plotly Figure Generation\n",
        "6. Kaleido Writing Figure to Files\n",
        "7. Publishing on Chart Studio\n"
      ],
      "metadata": {
        "id": "Ax7xqtf4wL5r"
      }
    },
    {
      "cell_type": "markdown",
      "source": [
        "##Preparation    "
      ],
      "metadata": {
        "id": "Ui8Hi0iysmdq"
      }
    },
    {
      "cell_type": "markdown",
      "metadata": {
        "id": "mgprzJ4nf4su"
      },
      "source": [
        "### API Token generation\n",
        "To generate a Mapbox API token, go to **mapbox.com**, and signup for an account. Fom a mapbox account, generate a token at https://account.mapbox.com/. Press `+create a token` button and it will generate two tokens: **public** and **secret**. Note down the **public** token that you will need for use in plotly."
      ]
    },
    {
      "cell_type": "markdown",
      "metadata": {
        "id": "wz8qefhDf4su"
      },
      "source": [
        "A map style is needed.  Map styles can be created at https://studio.mapbox.com/. There is an existing map style to use in this exercise --  access URL is `mapbox://styles/strym/ckhe4yk7d04hi19kcu9878xyv`"
      ]
    },
    {
      "cell_type": "markdown",
      "source": [
        "##Housekeeping   "
      ],
      "metadata": {
        "id": "sipqZ064sp_H"
      }
    },
    {
      "cell_type": "markdown",
      "source": [
        "### Library Imports"
      ],
      "metadata": {
        "id": "PPUL7KBawfwQ"
      }
    },
    {
      "cell_type": "markdown",
      "source": [
        "Install libraries:\n",
        "* pandas - for dataframes and analysis\n",
        "* numpy - for calculations\n",
        "* plotly - for graphs and plots\n",
        "* chart_studio - for plotly chart studio publishing\n",
        "* kaleido - to print figures (graphs and plots)"
      ],
      "metadata": {
        "id": "AzWC57AinBJV"
      }
    },
    {
      "cell_type": "code",
      "source": [
        "# import pandas for analysis and dataframes\n",
        "import pandas as pd"
      ],
      "metadata": {
        "id": "cXlCiURGnQU2"
      },
      "execution_count": null,
      "outputs": []
    },
    {
      "cell_type": "code",
      "source": [
        "# import numpy for calculations\n",
        "import numpy as np"
      ],
      "metadata": {
        "id": "wPdnQfEmy8NT"
      },
      "execution_count": null,
      "outputs": []
    },
    {
      "cell_type": "code",
      "execution_count": null,
      "metadata": {
        "id": "o7v9Tmsif4sv"
      },
      "outputs": [],
      "source": [
        "# install the latest version of plotly \n",
        "!pip install plotly>=4.0.0 \n",
        "# import requisite plotly methods for charts/plots\n",
        "import plotly.express as px\n",
        "import plotly.io as pio\n",
        "import plotly.offline as pyo\n",
        "import plotly.graph_objects as go\n",
        "\n",
        "# Use the following to set notebook mode to work in offline mode\n",
        "# This is an idempotent method which can and should be called from any\n",
        "# offline methods that require plotly. js to be loaded into the notebook dom.\n",
        "# pyo.init_notebook_mode()  # uncomment statement for offline mode"
      ]
    },
    {
      "cell_type": "code",
      "source": [
        "# install chart_studio to the Colab session\n",
        "! pip install chart_studio\n",
        "# import chart_studio\n",
        "import chart_studio"
      ],
      "metadata": {
        "id": "4jv2XLV34KPY"
      },
      "execution_count": null,
      "outputs": []
    },
    {
      "cell_type": "code",
      "source": [
        "# import kaleido to write figure images to files\n",
        "!pip install -U kaleido"
      ],
      "metadata": {
        "id": "C9QHtb--m68g"
      },
      "execution_count": null,
      "outputs": []
    },
    {
      "cell_type": "code",
      "source": [
        "# Use the following to set notebook mode to work in offline\n",
        "# pyo.init_notebook_mode()\n",
        "# or not...\n",
        "# pyo.init_notebook_mode(connected=False) "
      ],
      "metadata": {
        "id": "dTUJOdWRnVE2"
      },
      "execution_count": null,
      "outputs": []
    },
    {
      "cell_type": "markdown",
      "source": [
        "\n",
        "\n",
        "---\n",
        "\n"
      ],
      "metadata": {
        "id": "aPiUXK8ywZdi"
      }
    },
    {
      "cell_type": "markdown",
      "metadata": {
        "id": "DA0dpXsGf4sw"
      },
      "source": [
        "## Data File Specification"
      ]
    },
    {
      "cell_type": "markdown",
      "source": [
        "The following snippet takes a copy of the data file and attaches it to Colab's /content/ folder with the system `curl` command.    \n",
        "\n",
        "Then the file is opened with Pandas `pd.csv_read()` to the gps_df dataframe."
      ],
      "metadata": {
        "id": "DL348BrUiV17"
      }
    },
    {
      "cell_type": "code",
      "execution_count": null,
      "metadata": {
        "id": "66kvzjy-f4sx"
      },
      "outputs": [],
      "source": [
        "! curl 'https://raw.githubusercontent.com/rahulbhadani/medium.com/master/data/gps.csv' -o gps.csv\n",
        "gps_data = \"gps.csv\"\n",
        "gps_df = pd.read_csv(gps_data)"
      ]
    },
    {
      "cell_type": "code",
      "execution_count": null,
      "metadata": {
        "id": "QRC4_MkFf4sy"
      },
      "outputs": [],
      "source": [
        "gps_df"
      ]
    },
    {
      "cell_type": "markdown",
      "source": [
        "\n",
        "\n",
        "---\n",
        "\n"
      ],
      "metadata": {
        "id": "vzkyU_eF5OJ1"
      }
    },
    {
      "cell_type": "markdown",
      "source": [
        "## Downloading Plotly Charts as Images in Colab\n",
        "\n",
        "*from: [PaulDeSalvo.com](https://www.pauldesalvo.com/how-to-download-plotly-express-charts-as-images-in-google-colab/)*\n",
        "\n",
        "Before working with Mapbox and plotly, the following simple examples will be used to demonstrate downloading plotly charts as images in Google Colab."
      ],
      "metadata": {
        "id": "685NiPr_5PWv"
      }
    },
    {
      "cell_type": "markdown",
      "source": [
        "### Interactive vs. Static Export\n",
        "\n",
        "Plotly figures are interactive when viewed in a web browser: users can hover over data points, pan and zoom axes, and show and hide traces by clicking or double-clicking on the legend. Figures may be exported either to static image file formats like PNG, JPEG, SVG or PDF or exported to HTML files which can be opened in a browser and remain interactive. "
      ],
      "metadata": {
        "id": "TD-XdgJLDjVt"
      }
    },
    {
      "cell_type": "markdown",
      "source": [
        "Additional Resource:   \n",
        "\n",
        "[TutorialsPoint training on plotly](https://www.tutorialspoint.com/plotly/plotly_online_and_offline_plotting.htm)\n"
      ],
      "metadata": {
        "id": "1zbSGi3DCv55"
      }
    },
    {
      "cell_type": "markdown",
      "source": [
        "**Interactive Export**\n",
        "\n",
        "The `write_html()` plotly figure method is used to export an interactive image. \n",
        "\n",
        "The following snippet, which is commented-out, demonstrates the form of the function -- we will use this later with the gps.csv map data. \n"
      ],
      "metadata": {
        "id": "SXUW2UBZEgSH"
      }
    },
    {
      "cell_type": "code",
      "source": [
        "# fig.write_html('image.html')  # a practice exercise will use this later"
      ],
      "metadata": {
        "id": "L778eXfIGPCE"
      },
      "execution_count": null,
      "outputs": []
    },
    {
      "cell_type": "markdown",
      "source": [
        "\n",
        "\n",
        "---\n",
        "\n"
      ],
      "metadata": {
        "id": "csUUDpgHEZyL"
      }
    },
    {
      "cell_type": "markdown",
      "source": [
        "**Static Export**\n",
        "\n",
        "Uncomment and use `%%capture` as a magic command to hide the output instream in a Colab notebook.  The output image is created and stored to the object assigned but `%%capture` prevents Colab from displaying that same image."
      ],
      "metadata": {
        "id": "5ahwCSNe5c8o"
      }
    },
    {
      "cell_type": "code",
      "source": [
        "# Setup the required libraries and commands\n",
        "# %%capture   # uncomment this statement to hide Colab image display\n",
        "# !pip install kaleido  # already run at the start of this notebook \n",
        "# !pip install plotly>=4.0.0  # already run at the strt of this notebook\n",
        "!wget https://github.com/plotly/orca/releases/download/v1.2.1/orca-1.2.1-x86_64.AppImage -O /usr/local/bin/orca\n",
        "!chmod +x /usr/local/bin/orca\n",
        "!apt-get install xvfb libgtk2.0-0 libgconf-2-4\n",
        "# import the graph_objects() method from plotly as go\n",
        "import plotly.graph_objects as go"
      ],
      "metadata": {
        "id": "30dyWYmp565b"
      },
      "execution_count": null,
      "outputs": []
    },
    {
      "cell_type": "markdown",
      "source": [
        "Once the snippet of code above is run, then a static chart of variable **fig** can be saved by using this code: `fig.write_image(\"image.png\")`.    \n",
        "\n",
        "***Here is an example of saving a Static Image:***"
      ],
      "metadata": {
        "id": "21U4m5uE61NE"
      }
    },
    {
      "cell_type": "code",
      "source": [
        "x = np.arange(10)\n",
        "fig = go.Figure(data=go.Scatter(x=x, y=x**2))"
      ],
      "metadata": {
        "id": "8j0VTguj6us1"
      },
      "execution_count": null,
      "outputs": []
    },
    {
      "cell_type": "code",
      "source": [
        "fig.show()"
      ],
      "metadata": {
        "id": "daSlGrpK7goS"
      },
      "execution_count": null,
      "outputs": []
    },
    {
      "cell_type": "code",
      "source": [
        "fig.write_image(\"image.png\")"
      ],
      "metadata": {
        "id": "nOP6QKD-7jH8"
      },
      "execution_count": null,
      "outputs": []
    },
    {
      "cell_type": "markdown",
      "source": [
        "\n",
        "\n",
        "---\n",
        "\n"
      ],
      "metadata": {
        "id": "6oux7uyQHN2z"
      }
    },
    {
      "cell_type": "markdown",
      "source": [
        "The following examples create and work with a simple scatter plot with 100 random points of varying color and size.  A random number generator is used to create the underlying data for the objects on the scatter plot.    \n",
        "\n",
        "These examples are derived from the plotly [Graphic Libraries documentation online](https://plotly.com/python/static-image-export/). \n"
      ],
      "metadata": {
        "id": "WPfjFMAIG_rj"
      }
    },
    {
      "cell_type": "code",
      "source": [
        "# initiate a random number generator\n",
        "np.random.seed(1)\n",
        "\n",
        "# Establish an array of 100 x,y coordinate point with random color and size\n",
        "N = 100\n",
        "x = np.random.rand(N)\n",
        "y = np.random.rand(N)\n",
        "colors = np.random.rand(N)\n",
        "sz = np.random.rand(N) * 30\n",
        "\n",
        "# Draw an image of the data created\n",
        "fig = go.Figure()\n",
        "fig.add_trace(go.Scatter(\n",
        "    x=x,\n",
        "    y=y,\n",
        "    mode=\"markers\",\n",
        "    marker=go.scatter.Marker(\n",
        "        size=sz,\n",
        "        color=colors,\n",
        "        opacity=0.6,\n",
        "        colorscale=\"Viridis\"\n",
        "    )\n",
        "))\n"
      ],
      "metadata": {
        "id": "Aw2EazQOHREd"
      },
      "execution_count": null,
      "outputs": []
    },
    {
      "cell_type": "code",
      "source": [
        "# Use show() to display the figure if it was supressed\n",
        "fig.show()"
      ],
      "metadata": {
        "id": "YE2y0FsFH4KW"
      },
      "execution_count": null,
      "outputs": []
    },
    {
      "cell_type": "markdown",
      "source": [
        "***Writing Raster Graphic Formats***"
      ],
      "metadata": {
        "id": "eUljnu1eJhNV"
      }
    },
    {
      "cell_type": "markdown",
      "source": [
        "Write the figure as a raster graphic in **PNG** file format "
      ],
      "metadata": {
        "id": "FR6hkruZIFZ_"
      }
    },
    {
      "cell_type": "code",
      "source": [
        "fig.write_image(\"fig1.png\")  # note: the string may include a qualified name"
      ],
      "metadata": {
        "id": "0_U8FpkmIIe_"
      },
      "execution_count": null,
      "outputs": []
    },
    {
      "cell_type": "markdown",
      "source": [
        "Write the figure as a raster graphic in **JPEG** file format "
      ],
      "metadata": {
        "id": "v0O4smLJIbVd"
      }
    },
    {
      "cell_type": "code",
      "source": [
        "fig.write_image(\"fig1.jpg\")  # note: the string may include a qualified name"
      ],
      "metadata": {
        "id": "KBHts24uIeyX"
      },
      "execution_count": null,
      "outputs": []
    },
    {
      "cell_type": "markdown",
      "source": [
        "Write the figure as a raster graphic in **WebP** file format "
      ],
      "metadata": {
        "id": "QbFO03G7InxP"
      }
    },
    {
      "cell_type": "code",
      "source": [
        "fig.write_image(\"fig1.webp\")  # note: the string may include a qualified name"
      ],
      "metadata": {
        "id": "3WkO-Hq3ItIb"
      },
      "execution_count": null,
      "outputs": []
    },
    {
      "cell_type": "markdown",
      "source": [
        "***Writing Vector Image Formats***"
      ],
      "metadata": {
        "id": "riuyr0DEJl0f"
      }
    },
    {
      "cell_type": "markdown",
      "source": [
        "Write the figure as a vector image in **SVG** file format "
      ],
      "metadata": {
        "id": "PF_W4NSQJqQK"
      }
    },
    {
      "cell_type": "code",
      "source": [
        "fig.write_image(\"fig1.svg\")  # note: the string may include a qualified name"
      ],
      "metadata": {
        "id": "AmO3J5zwKBbi"
      },
      "execution_count": null,
      "outputs": []
    },
    {
      "cell_type": "markdown",
      "source": [
        "Write the figure as a vector image in **PDF** file format "
      ],
      "metadata": {
        "id": "_jmHgHEbJ1Le"
      }
    },
    {
      "cell_type": "code",
      "source": [
        "fig.write_image(\"fig1.pdf\")  # note: the string may include a qualified name"
      ],
      "metadata": {
        "id": "Arhwok_AJ4Iy"
      },
      "execution_count": null,
      "outputs": []
    },
    {
      "cell_type": "markdown",
      "source": [
        "\n",
        "\n",
        "---\n",
        "\n"
      ],
      "metadata": {
        "id": "UkVQ3LrmxPjI"
      }
    },
    {
      "cell_type": "markdown",
      "source": [
        "## Mapbox and Plotly Figure Generation"
      ],
      "metadata": {
        "id": "UJiDKfr9wxwR"
      }
    },
    {
      "cell_type": "markdown",
      "source": [
        "Professor Patrick's public API token for Mapbox (don't go nuts with it, please!)    \n",
        "\n",
        "`pk.eyJ1IjoicHJvZmVzc29ycGF0cmljayIsImEiOiJja3psbGY5eDcxZ3o5Mm9wYWNteXZmZ3A0In0.bwEt4H0OJv4PRHuZrlOQJg`"
      ],
      "metadata": {
        "id": "hhECpONTUB9S"
      }
    },
    {
      "cell_type": "code",
      "execution_count": null,
      "metadata": {
        "id": "o9R6a5jUf4sz"
      },
      "outputs": [],
      "source": [
        "# api_token = input(\"Enter public token for Mapbox: \")\n",
        "api_token = 'pk.eyJ1IjoicHJvZmVzc29ycGF0cmljayIsImEiOiJja3psbGY5eDcxZ3o5Mm9wYWNteXZmZ3A0In0.bwEt4H0OJv4PRHuZrlOQJg'"
      ]
    },
    {
      "cell_type": "markdown",
      "source": [
        "\n",
        "\n",
        "---\n",
        "\n"
      ],
      "metadata": {
        "id": "8SClht8vIkmB"
      }
    },
    {
      "cell_type": "code",
      "execution_count": null,
      "metadata": {
        "id": "x9wy6Nsdf4sz"
      },
      "outputs": [],
      "source": [
        "fig = px.scatter_mapbox(gps_df, lat=\"Lat\", lon=\"Long\", color='Time',\n",
        "                  color_continuous_scale=[\"black\", \"purple\", \"red\" ], size_max=30, zoom=12.5,\n",
        "                  height = 600, width = 1000, #center = dict(lat = g.center)\n",
        "                        title='Drive Route with Mapbox',\n",
        "                       #mapbox_style=\"open-street-map\"\n",
        "                       )\n",
        "\n",
        "\n",
        "fig.update_layout(font_size=16,  title={'xanchor': 'center','yanchor': 'top', 'y':0.9, 'x':0.5,}, \n",
        "        title_font_size = 24, mapbox_accesstoken=api_token, mapbox_style = \"mapbox://styles/strym/ckhd00st61aum19noz9h8y8kw\")\n",
        "fig.update_traces(marker=dict(size=6))"
      ]
    },
    {
      "cell_type": "markdown",
      "source": [
        "\n",
        "\n",
        "---\n",
        "\n"
      ],
      "metadata": {
        "id": "uxg5U0TZP61g"
      }
    },
    {
      "cell_type": "markdown",
      "source": [
        "## Mapbox Web Services    \n",
        "\n",
        "The Mapbox web services APIs allow you to programmatically access Mapbox tools and services. You can use these APIs to retrieve information about your account, upload and change resources, use core Mapbox tools, and more.\n",
        "\n",
        "Mapbox APIs are divided into four distinct services: **Maps, Navigation, Search, and Accounts**. Each of these services has its own overview page in the documentation. Overview pages are divided into the individual APIs that make up the service. The documentation for each API is structured by endpoints. An endpoint is a specific method within an API that performs one action and is located at a specific URL.    \n",
        "\n",
        "\n",
        "1. [Maps service](https://docs.mapbox.com/api/maps/)\n",
        "2. [Search service](https://docs.mapbox.com/api/search/)\n",
        "3. [Navigation service](https://docs.mapbox.com/api/navigation/)\n",
        "4. [Accounts service](https://docs.mapbox.com/api/accounts/) "
      ],
      "metadata": {
        "id": "q5q50UWyP8Yv"
      }
    },
    {
      "cell_type": "markdown",
      "source": [
        "### Geocoding Mapbox API\n",
        "\n",
        "One of the Mapbox search API endpoints is the Geocoding API which can be consider as an alternative to using a Google API service for looking up the longitude and latitude of a location.  Mapbox also provides functionality to lookup a longitude:latitude pair and return the nearby location and for snapping to a location. "
      ],
      "metadata": {
        "id": "uBRzwONERS2E"
      }
    },
    {
      "cell_type": "markdown",
      "source": [
        "```\n",
        "# Endpoint for Mapbox geolocation API - replace {search_text} with a string \n",
        "https://api.mapbox.com/geocoding/v5/mapbox.places/{search_text}.json\n",
        "```"
      ],
      "metadata": {
        "id": "VdOIuqjCv8Hd"
      }
    },
    {
      "cell_type": "markdown",
      "source": [
        "Optional parameters for the Mapbox search geocode API include the following:\n",
        "\n",
        "* proximity\n",
        "* language\n",
        "* country\n",
        "* types - to specify tags of location types (place, postcode, etc.)\n",
        "* limit - to restrict the number of items returned  "
      ],
      "metadata": {
        "id": "Rggb623ESKPS"
      }
    },
    {
      "cell_type": "markdown",
      "source": [
        "\n",
        "\n",
        "---\n",
        "\n"
      ],
      "metadata": {
        "id": "2swmv6oWBKmT"
      }
    },
    {
      "cell_type": "code",
      "source": [
        "# to display the current plotly figure object\n",
        "\n",
        "fig.show()"
      ],
      "metadata": {
        "id": "Ou84tF-fmoY2"
      },
      "execution_count": null,
      "outputs": []
    },
    {
      "cell_type": "markdown",
      "source": [
        "\n",
        "\n",
        "---\n",
        "\n"
      ],
      "metadata": {
        "id": "0raxoJUFt3dZ"
      }
    },
    {
      "cell_type": "markdown",
      "source": [
        "## Kaleido Writing Figure to Files"
      ],
      "metadata": {
        "id": "iPFb89yBxBHm"
      }
    },
    {
      "cell_type": "markdown",
      "source": [
        "[Kaleido](https://medium.com/plotly/introducing-kaleido-b03c4b7b1d81) is a cross-platform library for generating static images (e.g. png, svg, pdf, etc.) ... **js** images from Python for use by `plotly.py`, but it is designed to be relatively straight-forward to extend to other web-based visualization libraries, and other programming languages.    \n",
        "\n",
        "The goal of the Kaleido project is to make static image export of web-based visualization libraries as universally available and reliable as it is in **matplotlib** and **ggplot2**.    \n"
      ],
      "metadata": {
        "id": "Y_5ZZYuJ8-mB"
      }
    },
    {
      "cell_type": "code",
      "source": [
        "# to display the plotly figure-object's methods and attributes\n",
        "dir(fig)  "
      ],
      "metadata": {
        "id": "p-18AO8pslDn"
      },
      "execution_count": null,
      "outputs": []
    },
    {
      "cell_type": "code",
      "execution_count": null,
      "metadata": {
        "id": "KaM-n-AVf4s0"
      },
      "outputs": [],
      "source": [
        "fig.write_image('gps.png')  # This particular write_...() seems finicky"
      ]
    },
    {
      "cell_type": "code",
      "source": [
        "fig.write_html('gps.html')"
      ],
      "metadata": {
        "id": "cgHvrHAbAi5W"
      },
      "execution_count": null,
      "outputs": []
    },
    {
      "cell_type": "markdown",
      "source": [
        "**Plotly Image Export Settings (Kaleido)**\n",
        "\n",
        "Various image export settings can be configured using the `plotly.io.kaleido`.scope object. For example, the `default_format` property can be used to specify that the default export format should be **svg** instead of **png**."
      ],
      "metadata": {
        "id": "i0Rgdh8VFH5J"
      }
    },
    {
      "cell_type": "code",
      "source": [
        "import plotly.io as pio\n",
        "pio.kaleido.scope.default_format = \"svg\""
      ],
      "metadata": {
        "id": "vkbJ3HIRFQHh"
      },
      "execution_count": null,
      "outputs": []
    },
    {
      "cell_type": "markdown",
      "source": [
        "Here is a complete listing of the available **Kaleido** image export settings:\n",
        "\n",
        "* `default_width`: The default pixel width to use on image export.\n",
        "* `default_height`: The default pixel height to use on image export.\n",
        "* `default_scale`: The default image scale factor applied on image export.\n",
        "* `default_format`: The default image format used on export. One of \"png\", \"jpeg\", \"webp\", \"svg\", \"pdf\", or \"eps\".\n",
        "* `mathjax`: Location of the MathJax bundle needed to render LaTeX characters. Defaults to a CDN location. If fully offline export is required, set this to a local MathJax bundle.\n",
        "* `topojson`: Location of the topojson files needed to render choropleth traces. Defaults to a CDN location. If fully offline export is required, set this to a local directory containing the Plotly.js topojson files.\n",
        "* `mapbox_access_token`: The default Mapbox access token."
      ],
      "metadata": {
        "id": "FdTD4JAkFVVq"
      }
    },
    {
      "cell_type": "markdown",
      "source": [
        "\n",
        "\n",
        "---\n",
        "\n"
      ],
      "metadata": {
        "id": "5SvUIKPitsm4"
      }
    },
    {
      "cell_type": "markdown",
      "metadata": {
        "id": "AfB0CPDCf4s1"
      },
      "source": [
        "## Publishing on Chart Studio"
      ]
    },
    {
      "cell_type": "markdown",
      "source": [
        "from: [Getting Started with Chart Studio in plotly](https://plotly.com/python/getting-started-with-chart-studio/)    \n",
        "\n",
        "Installation and Initialization Steps for Using Chart Studio in Python."
      ],
      "metadata": {
        "id": "7YkJeWdE06wu"
      }
    },
    {
      "cell_type": "markdown",
      "source": [
        "### Installing Chart Studio    \n",
        "\n",
        "*(this step was completed at the start of this notebook -- repeating here for instructional purposes)*"
      ],
      "metadata": {
        "id": "Uf9vusCt1KRg"
      }
    },
    {
      "cell_type": "markdown",
      "source": [
        "To install Chart Studio's python package, use the package manager pip inside your terminal.    \n",
        "\n",
        "If you don't have pip installed on your machine, [click here](https://pip.pypa.io/en/latest/installing.html) for pip's installation instructions.\n",
        "\n",
        "`$ pip install chart_studio`\n",
        "or\n",
        "`$ sudo pip install chart_studio`\n",
        "\n",
        "Plotly's Python package is installed alongside the Chart Studio package and it is updated frequently! To upgrade, run:\n",
        "\n",
        "`$ pip install plotly --upgrade`"
      ],
      "metadata": {
        "id": "rv_G0vUF1ceQ"
      }
    },
    {
      "cell_type": "markdown",
      "source": [
        "### Initialization for Online Plotting    \n",
        "\n",
        "\n",
        "Chart Studio provides a web-service for hosting graphs. [Create a free account](https://plotly.com/api_signup) to get started. Graphs are saved inside a usre's online Chart Studio account.  Each user controls the privacy of their account. Public hosting is free, for private hosting, [see the paid plans](https://plotly.com/products/cloud/).\n",
        "\n",
        "After installing the Chart Studio package, user credentials must be set in Python:\n",
        "\n",
        "```\n",
        "1. import chart_studio\n",
        "2. chart_studio.tools.set_credentials_file(username='DemoAccount', api_key='lr1c37zw')\n",
        "```\n",
        "\n",
        "Replace 'DemoAccount' and 'lr1c37zw81' with the Plotly username and API key.    \n",
        "\n",
        "[Find user account API keys here](https://plotly.com/settings/api).\n",
        "\n",
        "The initialization step places a special `.plotly/.credentials` file in the user's home directory. The `~/.plotly/.credentials` file should look something like this:    \n",
        "\n",
        "```\n",
        "{\n",
        "\"username\": \"DemoAccount\",\n",
        "\"stream_ids\": [\"ylosqsyet5\", \"h2ct8btk1s\", \"oxz4fm883b\"],\n",
        "\"api_key\": \"lr1c37zw81\"\n",
        "}\n",
        "```\n",
        "\n"
      ],
      "metadata": {
        "id": "hYCnguc-12Pl"
      }
    },
    {
      "cell_type": "markdown",
      "source": [
        "Alternatively, the next snippet shows how to take user input of the user name and api token to publish to that Plotly Chart Studio account online.     \n",
        "\n",
        "Professor Patrick's credentials on plotly Chart Studio:\n",
        "\n",
        "**User** - `professorpatrick` \n",
        "\n",
        "**Chart Studio API token** - `oBPoJkrGEAXCd4pqSAMO`"
      ],
      "metadata": {
        "id": "GbYykiCj3rut"
      }
    },
    {
      "cell_type": "code",
      "execution_count": null,
      "metadata": {
        "id": "jvLCWuEAf4s1",
        "colab": {
          "base_uri": "https://localhost:8080/"
        },
        "outputId": "f55b6880-fad7-4211-e156-880384a5f350"
      },
      "outputs": [
        {
          "name": "stdout",
          "output_type": "stream",
          "text": [
            "Enter Chart Studio API Token: oBPoJkrGEAXCd4pqSAMO\n",
            "Enter username: professorpatrick\n"
          ]
        }
      ],
      "source": [
        "# Preparing requisite Chart Studio details\n",
        "import chart_studio.plotly as py\n",
        "# import chart_studio  # already imported at the start of this notebook\n",
        "plotly_api_ket = input(\"Enter Chart Studio API Token: \")\n",
        "user_name = input(\"Enter username: \")"
      ]
    },
    {
      "cell_type": "code",
      "execution_count": null,
      "metadata": {
        "id": "ZuDxxlBzf4s1",
        "colab": {
          "base_uri": "https://localhost:8080/",
          "height": 35
        },
        "outputId": "2f9a9014-a233-4d14-d96a-bab1518b8919"
      },
      "outputs": [
        {
          "output_type": "execute_result",
          "data": {
            "text/plain": [
              "'https://plotly.com/~professorpatrick/1/'"
            ],
            "application/vnd.google.colaboratory.intrinsic+json": {
              "type": "string"
            }
          },
          "metadata": {},
          "execution_count": 13
        }
      ],
      "source": [
        "# Setting credential and publishing to Chart Studio\n",
        "chart_studio.tools.set_credentials_file(username=user_name, api_key=plotly_api_ket)\n",
        "py.plot(fig, filename = 'mapbox_express', auto_open=True)"
      ]
    },
    {
      "cell_type": "code",
      "source": [
        "fig.show()"
      ],
      "metadata": {
        "id": "d8nBFApOwhEP"
      },
      "execution_count": null,
      "outputs": []
    },
    {
      "cell_type": "markdown",
      "source": [
        "An example output from MapBox to plotly Chart Studio can be found at:    \n",
        "\n",
        "`https://plotly.com/~professorpatrick/1/`"
      ],
      "metadata": {
        "id": "VqMCtFa2UxNg"
      }
    },
    {
      "cell_type": "markdown",
      "source": [
        "\n",
        "\n",
        "---\n",
        "\n"
      ],
      "metadata": {
        "id": "ZUQeGF0BxeOY"
      }
    }
  ],
  "metadata": {
    "kernelspec": {
      "display_name": "Python 3",
      "name": "python3"
    },
    "language_info": {
      "name": "python"
    },
    "colab": {
      "provenance": [],
      "collapsed_sections": [
        "Uf9vusCt1KRg"
      ],
      "include_colab_link": true
    }
  },
  "nbformat": 4,
  "nbformat_minor": 0
}