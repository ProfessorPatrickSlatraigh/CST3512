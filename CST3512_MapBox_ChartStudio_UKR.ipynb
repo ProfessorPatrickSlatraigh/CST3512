{
  "cells": [
    {
      "cell_type": "markdown",
      "metadata": {
        "id": "view-in-github",
        "colab_type": "text"
      },
      "source": [
        "<a href=\"https://colab.research.google.com/github/ProfessorPatrickSlatraigh/CST3512/blob/main/CST3512_MapBox_ChartStudio_UKR.ipynb\" target=\"_parent\"><img src=\"https://colab.research.google.com/assets/colab-badge.svg\" alt=\"Open In Colab\"/></a>"
      ]
    },
    {
      "cell_type": "markdown",
      "source": [
        "#CST3512 - MapBox, ChartStudio, Ukraine Monitor\n",
        "**Map Examples**\n",
        "\n",
        "This notebook demonstrates exercises to produce a map from geo location (longitude and latitude) data using Mapbox and plotly.  That output is then used by **Kaleido** and **plotly Chart-Studio** to be saved as a static image in a variety of formats.    \n",
        "\n",
        "In addition to plotting geocade data, this exercise will demonstrate the creation of free accounts and initiation of API keys for the following services:\n",
        "* Mapbox\n",
        "* plotly Chart-Studio\n"
      ],
      "metadata": {
        "id": "545Vt7Nf_xIp"
      }
    },
    {
      "cell_type": "markdown",
      "source": [
        "# MapHub, Crowd-sourced Russian-Ukraine Monitor    \n",
        "\n",
        "*by Cen4infoRes*    \n",
        "\n",
        "Before working with **Mapbox**, **plotly** and related libraries, consider this crowdsourced example of dynamic map data.  The following link to an interactive map presented using **MapHub** includes data derived from several different social media sources.\n",
        "\n",
        "[Russian-Ukraine Monitor Map](https://maphub.net/Cen4infoRes/russian-ukraine-monitor)     \n",
        "\n",
        "\n",
        "The Russia-Ukraine Monitor Map is a crowdsourced effort to map, document and verify information in order to provide reliable information for policymakers and journalists of the on-the-ground and online situation in and around Ukraine.\n",
        "\n",
        "This map is created by the [Centre For Information Resilience](https://twitter.com/Cen4infoRes) as part of a wider effort to tackle disinformation and promote transparent and verified information.\n",
        "\n",
        "\n"
      ],
      "metadata": {
        "id": "5QqkvqtgMsWY"
      }
    },
    {
      "cell_type": "markdown",
      "source": [
        "\n",
        "\n",
        "---\n",
        "\n"
      ],
      "metadata": {
        "id": "_LwI6GKbNY8h"
      }
    },
    {
      "cell_type": "markdown",
      "metadata": {
        "id": "O2iJGaDlf4so"
      },
      "source": [
        "#Maps in Python with Mapbox, Plotly, Kaleido, and Chart Studio\n",
        "\n",
        "from: **Working with maps in python using Mapbox and Plotly**\n",
        " by: Rahul Bhadani in [Medium](https://medium.com/technology-hits/working-with-maps-in-python-with-mapbox-and-plotly-6f454522ccdd) on 20-Nov-2020.    \n",
        "\n",
        "Connect with [Rahul Bhadani on LinkedIn](https://www.linkedin.com/in/rahulbhadani/). \n",
        "\n",
        "\n",
        " *The [gps.csv](https://raw.githubusercontent.com/rahulbhadani/medium.com/master/data/gps.csv) data file from the original article is accessed by this notebook.*"
      ]
    },
    {
      "cell_type": "markdown",
      "metadata": {
        "id": "a92kbtIof4ss"
      },
      "source": [
        "There are plenty of mapping services available dominated by Google Map, Here map, OpenStreetMaps, and a few lesser-known as such Mapbox. They vary in features, services, and applicable use cases. For mapping applications that require precision and finer control, Google Map is the choice, but it is not convenient and free for all purposes. Some use-cases of Google MAP API are free but may still require credit card information for billing purposes in order to prevent any misuse.     \n",
        "\n",
        "A research group started gathering GPS data from consumer cars and was looking to overlay the GPS data on maps for further downstream analysis of GPS data. In the quest for a suitable python API, uses of plotly that employed various types of maps, with or without the need for an API key were considered. plotly provides support of Mapbox, a convenient tool.    \n",
        " \n",
        "Mapbox provides two sets of API token that can be used for querying mapping service: public and private. plotly uses a public API key to query mapping service from Mapbox. However, plotly doesn't necessarily need an API token from Mapbox as it has a support mapping without an API token as well, but that does not allow for the use of Mapbox mapping tiles. Also, API-token-free mapping calls in plotly have poor map rendering. However, API token generation in Mapbox is so easy that there is no reason not to use it. Here is an example."
      ]
    },
    {
      "cell_type": "markdown",
      "source": [
        "\n",
        "\n",
        "---\n",
        "\n",
        "Contents:\n",
        "1. Preparation: API Token Generation\n",
        "2. Housekeeping: Library Imports\n",
        "3. Data File Specification\n",
        "4. Downloading Plotly Charts as Images in Colab\n",
        "5. Mapbox and Plotly Figure Generation\n",
        "6. Kaleido Writing Figure to Files\n",
        "7. Publishing on Chart Studio\n"
      ],
      "metadata": {
        "id": "Ax7xqtf4wL5r"
      }
    },
    {
      "cell_type": "markdown",
      "source": [
        "##Preparation    "
      ],
      "metadata": {
        "id": "Ui8Hi0iysmdq"
      }
    },
    {
      "cell_type": "markdown",
      "metadata": {
        "id": "mgprzJ4nf4su"
      },
      "source": [
        "### API Token generation\n",
        "To generate a Mapbox API token, go to **mapbox.com**, and signup for an account. Fom a mapbox account, generate a token at https://account.mapbox.com/. Press `+create a token` button and it will generate two tokens: **public** and **secret**. Note down the **public** token that you will need for use in plotly."
      ]
    },
    {
      "cell_type": "markdown",
      "metadata": {
        "id": "wz8qefhDf4su"
      },
      "source": [
        "A map style is needed.  Map styles can be created at https://studio.mapbox.com/. There is an existing map style to use in this exercise --  access URL is `mapbox://styles/strym/ckhe4yk7d04hi19kcu9878xyv`"
      ]
    },
    {
      "cell_type": "markdown",
      "source": [
        "##Housekeeping   "
      ],
      "metadata": {
        "id": "sipqZ064sp_H"
      }
    },
    {
      "cell_type": "markdown",
      "source": [
        "### Library Imports"
      ],
      "metadata": {
        "id": "PPUL7KBawfwQ"
      }
    },
    {
      "cell_type": "markdown",
      "source": [
        "Install libraries:\n",
        "* pandas - for dataframes and analysis\n",
        "* numpy - for calculations\n",
        "* plotly - for graphs and plots\n",
        "* chart_studio - for plotly chart studio publishing\n",
        "* kaleido - to print figures (graphs and plots)"
      ],
      "metadata": {
        "id": "AzWC57AinBJV"
      }
    },
    {
      "cell_type": "code",
      "source": [
        "# import pandas for analysis and dataframes\n",
        "import pandas as pd"
      ],
      "metadata": {
        "id": "cXlCiURGnQU2"
      },
      "execution_count": 1,
      "outputs": []
    },
    {
      "cell_type": "code",
      "source": [
        "# import numpy for calculations\n",
        "import numpy as np"
      ],
      "metadata": {
        "id": "wPdnQfEmy8NT"
      },
      "execution_count": 2,
      "outputs": []
    },
    {
      "cell_type": "code",
      "execution_count": 3,
      "metadata": {
        "id": "o7v9Tmsif4sv"
      },
      "outputs": [],
      "source": [
        "# install the latest version of plotly \n",
        "!pip install plotly>=4.0.0 \n",
        "# import requisite plotly methods for charts/plots\n",
        "import plotly.express as px\n",
        "import plotly.io as pio\n",
        "import plotly.offline as pyo\n",
        "import plotly.graph_objects as go\n",
        "\n",
        "# Use the following to set notebook mode to work in offline mode\n",
        "# This is an idempotent method which can and should be called from any\n",
        "# offline methods that require plotly. js to be loaded into the notebook dom.\n",
        "# pyo.init_notebook_mode()  # uncomment statement for offline mode"
      ]
    },
    {
      "cell_type": "code",
      "source": [
        "# install chart_studio to the Colab session\n",
        "! pip install chart_studio\n",
        "# import chart_studio\n",
        "import chart_studio"
      ],
      "metadata": {
        "id": "4jv2XLV34KPY",
        "colab": {
          "base_uri": "https://localhost:8080/"
        },
        "outputId": "6f32e82e-eacb-487a-afbd-1b02e1c3e531"
      },
      "execution_count": 4,
      "outputs": [
        {
          "output_type": "stream",
          "name": "stdout",
          "text": [
            "Looking in indexes: https://pypi.org/simple, https://us-python.pkg.dev/colab-wheels/public/simple/\n",
            "Collecting chart_studio\n",
            "  Downloading chart_studio-1.1.0-py3-none-any.whl (64 kB)\n",
            "\u001b[K     |████████████████████████████████| 64 kB 1.6 MB/s \n",
            "\u001b[?25hRequirement already satisfied: six in /usr/local/lib/python3.7/dist-packages (from chart_studio) (1.15.0)\n",
            "Requirement already satisfied: requests in /usr/local/lib/python3.7/dist-packages (from chart_studio) (2.23.0)\n",
            "Requirement already satisfied: plotly in /usr/local/lib/python3.7/dist-packages (from chart_studio) (5.5.0)\n",
            "Collecting retrying>=1.3.3\n",
            "  Downloading retrying-1.3.4-py3-none-any.whl (11 kB)\n",
            "Requirement already satisfied: tenacity>=6.2.0 in /usr/local/lib/python3.7/dist-packages (from plotly->chart_studio) (8.1.0)\n",
            "Requirement already satisfied: urllib3!=1.25.0,!=1.25.1,<1.26,>=1.21.1 in /usr/local/lib/python3.7/dist-packages (from requests->chart_studio) (1.24.3)\n",
            "Requirement already satisfied: certifi>=2017.4.17 in /usr/local/lib/python3.7/dist-packages (from requests->chart_studio) (2022.9.24)\n",
            "Requirement already satisfied: chardet<4,>=3.0.2 in /usr/local/lib/python3.7/dist-packages (from requests->chart_studio) (3.0.4)\n",
            "Requirement already satisfied: idna<3,>=2.5 in /usr/local/lib/python3.7/dist-packages (from requests->chart_studio) (2.10)\n",
            "Installing collected packages: retrying, chart-studio\n",
            "Successfully installed chart-studio-1.1.0 retrying-1.3.4\n"
          ]
        }
      ]
    },
    {
      "cell_type": "code",
      "source": [
        "# import kaleido to write figure images to files\n",
        "!pip install -U kaleido"
      ],
      "metadata": {
        "id": "C9QHtb--m68g",
        "colab": {
          "base_uri": "https://localhost:8080/"
        },
        "outputId": "fe7c2567-a9d6-4f7e-9d20-75698a15b89e"
      },
      "execution_count": 5,
      "outputs": [
        {
          "output_type": "stream",
          "name": "stdout",
          "text": [
            "Looking in indexes: https://pypi.org/simple, https://us-python.pkg.dev/colab-wheels/public/simple/\n",
            "Collecting kaleido\n",
            "  Downloading kaleido-0.2.1-py2.py3-none-manylinux1_x86_64.whl (79.9 MB)\n",
            "\u001b[K     |████████████████████████████████| 79.9 MB 130 kB/s \n",
            "\u001b[?25hInstalling collected packages: kaleido\n",
            "Successfully installed kaleido-0.2.1\n"
          ]
        }
      ]
    },
    {
      "cell_type": "code",
      "source": [
        "# Use the following to set notebook mode to work in offline\n",
        "# pyo.init_notebook_mode()\n",
        "# or not...\n",
        "# pyo.init_notebook_mode(connected=False) "
      ],
      "metadata": {
        "id": "dTUJOdWRnVE2"
      },
      "execution_count": null,
      "outputs": []
    },
    {
      "cell_type": "markdown",
      "source": [
        "\n",
        "\n",
        "---\n",
        "\n"
      ],
      "metadata": {
        "id": "aPiUXK8ywZdi"
      }
    },
    {
      "cell_type": "markdown",
      "metadata": {
        "id": "DA0dpXsGf4sw"
      },
      "source": [
        "## Data File Specification"
      ]
    },
    {
      "cell_type": "markdown",
      "source": [
        "The following snippet takes a copy of the data file and attaches it to Colab's /content/ folder with the system `curl` command.    \n",
        "\n",
        "Then the file is opened with Pandas `pd.csv_read()` to the gps_df dataframe."
      ],
      "metadata": {
        "id": "DL348BrUiV17"
      }
    },
    {
      "cell_type": "code",
      "execution_count": 6,
      "metadata": {
        "id": "66kvzjy-f4sx",
        "colab": {
          "base_uri": "https://localhost:8080/"
        },
        "outputId": "feaad43a-b7c4-4792-ea03-697447e163c6"
      },
      "outputs": [
        {
          "output_type": "stream",
          "name": "stdout",
          "text": [
            "  % Total    % Received % Xferd  Average Speed   Time    Time     Time  Current\n",
            "                                 Dload  Upload   Total   Spent    Left  Speed\n",
            "100 40569  100 40569    0     0   157k      0 --:--:-- --:--:-- --:--:--  157k\n"
          ]
        }
      ],
      "source": [
        "! curl 'https://raw.githubusercontent.com/rahulbhadani/medium.com/master/data/gps.csv' -o gps.csv\n",
        "gps_data = \"gps.csv\"\n",
        "gps_df = pd.read_csv(gps_data)"
      ]
    },
    {
      "cell_type": "code",
      "execution_count": 7,
      "metadata": {
        "id": "QRC4_MkFf4sy",
        "colab": {
          "base_uri": "https://localhost:8080/",
          "height": 424
        },
        "outputId": "313c66e5-ba84-4ebf-e24b-694cd87861bd"
      },
      "outputs": [
        {
          "output_type": "execute_result",
          "data": {
            "text/plain": [
              "           Time Status       Long        Lat    Alt\n",
              "0    1593297862      A -82.423340  36.372966  485.2\n",
              "1    1593297862      A -82.423318  36.372949  485.3\n",
              "2    1593297863      A -82.423296  36.372931  485.3\n",
              "3    1593297863      A -82.423274  36.372914  485.3\n",
              "4    1593297863      A -82.423252  36.372898  485.4\n",
              "..          ...    ...        ...        ...    ...\n",
              "949  1593297976      A -82.399087  36.356296  478.8\n",
              "950  1593297976      A -82.399070  36.356281  478.6\n",
              "951  1593297977      A -82.399054  36.356265  478.5\n",
              "952  1593297977      A -82.399037  36.356250  478.4\n",
              "953  1593297977      A -82.399021  36.356235  478.3\n",
              "\n",
              "[954 rows x 5 columns]"
            ],
            "text/html": [
              "\n",
              "  <div id=\"df-488b50af-7df6-469d-8a61-943175e99038\">\n",
              "    <div class=\"colab-df-container\">\n",
              "      <div>\n",
              "<style scoped>\n",
              "    .dataframe tbody tr th:only-of-type {\n",
              "        vertical-align: middle;\n",
              "    }\n",
              "\n",
              "    .dataframe tbody tr th {\n",
              "        vertical-align: top;\n",
              "    }\n",
              "\n",
              "    .dataframe thead th {\n",
              "        text-align: right;\n",
              "    }\n",
              "</style>\n",
              "<table border=\"1\" class=\"dataframe\">\n",
              "  <thead>\n",
              "    <tr style=\"text-align: right;\">\n",
              "      <th></th>\n",
              "      <th>Time</th>\n",
              "      <th>Status</th>\n",
              "      <th>Long</th>\n",
              "      <th>Lat</th>\n",
              "      <th>Alt</th>\n",
              "    </tr>\n",
              "  </thead>\n",
              "  <tbody>\n",
              "    <tr>\n",
              "      <th>0</th>\n",
              "      <td>1593297862</td>\n",
              "      <td>A</td>\n",
              "      <td>-82.423340</td>\n",
              "      <td>36.372966</td>\n",
              "      <td>485.2</td>\n",
              "    </tr>\n",
              "    <tr>\n",
              "      <th>1</th>\n",
              "      <td>1593297862</td>\n",
              "      <td>A</td>\n",
              "      <td>-82.423318</td>\n",
              "      <td>36.372949</td>\n",
              "      <td>485.3</td>\n",
              "    </tr>\n",
              "    <tr>\n",
              "      <th>2</th>\n",
              "      <td>1593297863</td>\n",
              "      <td>A</td>\n",
              "      <td>-82.423296</td>\n",
              "      <td>36.372931</td>\n",
              "      <td>485.3</td>\n",
              "    </tr>\n",
              "    <tr>\n",
              "      <th>3</th>\n",
              "      <td>1593297863</td>\n",
              "      <td>A</td>\n",
              "      <td>-82.423274</td>\n",
              "      <td>36.372914</td>\n",
              "      <td>485.3</td>\n",
              "    </tr>\n",
              "    <tr>\n",
              "      <th>4</th>\n",
              "      <td>1593297863</td>\n",
              "      <td>A</td>\n",
              "      <td>-82.423252</td>\n",
              "      <td>36.372898</td>\n",
              "      <td>485.4</td>\n",
              "    </tr>\n",
              "    <tr>\n",
              "      <th>...</th>\n",
              "      <td>...</td>\n",
              "      <td>...</td>\n",
              "      <td>...</td>\n",
              "      <td>...</td>\n",
              "      <td>...</td>\n",
              "    </tr>\n",
              "    <tr>\n",
              "      <th>949</th>\n",
              "      <td>1593297976</td>\n",
              "      <td>A</td>\n",
              "      <td>-82.399087</td>\n",
              "      <td>36.356296</td>\n",
              "      <td>478.8</td>\n",
              "    </tr>\n",
              "    <tr>\n",
              "      <th>950</th>\n",
              "      <td>1593297976</td>\n",
              "      <td>A</td>\n",
              "      <td>-82.399070</td>\n",
              "      <td>36.356281</td>\n",
              "      <td>478.6</td>\n",
              "    </tr>\n",
              "    <tr>\n",
              "      <th>951</th>\n",
              "      <td>1593297977</td>\n",
              "      <td>A</td>\n",
              "      <td>-82.399054</td>\n",
              "      <td>36.356265</td>\n",
              "      <td>478.5</td>\n",
              "    </tr>\n",
              "    <tr>\n",
              "      <th>952</th>\n",
              "      <td>1593297977</td>\n",
              "      <td>A</td>\n",
              "      <td>-82.399037</td>\n",
              "      <td>36.356250</td>\n",
              "      <td>478.4</td>\n",
              "    </tr>\n",
              "    <tr>\n",
              "      <th>953</th>\n",
              "      <td>1593297977</td>\n",
              "      <td>A</td>\n",
              "      <td>-82.399021</td>\n",
              "      <td>36.356235</td>\n",
              "      <td>478.3</td>\n",
              "    </tr>\n",
              "  </tbody>\n",
              "</table>\n",
              "<p>954 rows × 5 columns</p>\n",
              "</div>\n",
              "      <button class=\"colab-df-convert\" onclick=\"convertToInteractive('df-488b50af-7df6-469d-8a61-943175e99038')\"\n",
              "              title=\"Convert this dataframe to an interactive table.\"\n",
              "              style=\"display:none;\">\n",
              "        \n",
              "  <svg xmlns=\"http://www.w3.org/2000/svg\" height=\"24px\"viewBox=\"0 0 24 24\"\n",
              "       width=\"24px\">\n",
              "    <path d=\"M0 0h24v24H0V0z\" fill=\"none\"/>\n",
              "    <path d=\"M18.56 5.44l.94 2.06.94-2.06 2.06-.94-2.06-.94-.94-2.06-.94 2.06-2.06.94zm-11 1L8.5 8.5l.94-2.06 2.06-.94-2.06-.94L8.5 2.5l-.94 2.06-2.06.94zm10 10l.94 2.06.94-2.06 2.06-.94-2.06-.94-.94-2.06-.94 2.06-2.06.94z\"/><path d=\"M17.41 7.96l-1.37-1.37c-.4-.4-.92-.59-1.43-.59-.52 0-1.04.2-1.43.59L10.3 9.45l-7.72 7.72c-.78.78-.78 2.05 0 2.83L4 21.41c.39.39.9.59 1.41.59.51 0 1.02-.2 1.41-.59l7.78-7.78 2.81-2.81c.8-.78.8-2.07 0-2.86zM5.41 20L4 18.59l7.72-7.72 1.47 1.35L5.41 20z\"/>\n",
              "  </svg>\n",
              "      </button>\n",
              "      \n",
              "  <style>\n",
              "    .colab-df-container {\n",
              "      display:flex;\n",
              "      flex-wrap:wrap;\n",
              "      gap: 12px;\n",
              "    }\n",
              "\n",
              "    .colab-df-convert {\n",
              "      background-color: #E8F0FE;\n",
              "      border: none;\n",
              "      border-radius: 50%;\n",
              "      cursor: pointer;\n",
              "      display: none;\n",
              "      fill: #1967D2;\n",
              "      height: 32px;\n",
              "      padding: 0 0 0 0;\n",
              "      width: 32px;\n",
              "    }\n",
              "\n",
              "    .colab-df-convert:hover {\n",
              "      background-color: #E2EBFA;\n",
              "      box-shadow: 0px 1px 2px rgba(60, 64, 67, 0.3), 0px 1px 3px 1px rgba(60, 64, 67, 0.15);\n",
              "      fill: #174EA6;\n",
              "    }\n",
              "\n",
              "    [theme=dark] .colab-df-convert {\n",
              "      background-color: #3B4455;\n",
              "      fill: #D2E3FC;\n",
              "    }\n",
              "\n",
              "    [theme=dark] .colab-df-convert:hover {\n",
              "      background-color: #434B5C;\n",
              "      box-shadow: 0px 1px 3px 1px rgba(0, 0, 0, 0.15);\n",
              "      filter: drop-shadow(0px 1px 2px rgba(0, 0, 0, 0.3));\n",
              "      fill: #FFFFFF;\n",
              "    }\n",
              "  </style>\n",
              "\n",
              "      <script>\n",
              "        const buttonEl =\n",
              "          document.querySelector('#df-488b50af-7df6-469d-8a61-943175e99038 button.colab-df-convert');\n",
              "        buttonEl.style.display =\n",
              "          google.colab.kernel.accessAllowed ? 'block' : 'none';\n",
              "\n",
              "        async function convertToInteractive(key) {\n",
              "          const element = document.querySelector('#df-488b50af-7df6-469d-8a61-943175e99038');\n",
              "          const dataTable =\n",
              "            await google.colab.kernel.invokeFunction('convertToInteractive',\n",
              "                                                     [key], {});\n",
              "          if (!dataTable) return;\n",
              "\n",
              "          const docLinkHtml = 'Like what you see? Visit the ' +\n",
              "            '<a target=\"_blank\" href=https://colab.research.google.com/notebooks/data_table.ipynb>data table notebook</a>'\n",
              "            + ' to learn more about interactive tables.';\n",
              "          element.innerHTML = '';\n",
              "          dataTable['output_type'] = 'display_data';\n",
              "          await google.colab.output.renderOutput(dataTable, element);\n",
              "          const docLink = document.createElement('div');\n",
              "          docLink.innerHTML = docLinkHtml;\n",
              "          element.appendChild(docLink);\n",
              "        }\n",
              "      </script>\n",
              "    </div>\n",
              "  </div>\n",
              "  "
            ]
          },
          "metadata": {},
          "execution_count": 7
        }
      ],
      "source": [
        "gps_df"
      ]
    },
    {
      "cell_type": "markdown",
      "source": [
        "\n",
        "\n",
        "---\n",
        "\n"
      ],
      "metadata": {
        "id": "vzkyU_eF5OJ1"
      }
    },
    {
      "cell_type": "markdown",
      "source": [
        "## Downloading Plotly Charts as Images in Colab\n",
        "\n",
        "*from: [PaulDeSalvo.com](https://www.pauldesalvo.com/how-to-download-plotly-express-charts-as-images-in-google-colab/)*\n",
        "\n",
        "Before working with Mapbox and plotly, the following simple examples will be used to demonstrate downloading plotly charts as images in Google Colab."
      ],
      "metadata": {
        "id": "685NiPr_5PWv"
      }
    },
    {
      "cell_type": "markdown",
      "source": [
        "### Interactive vs. Static Export\n",
        "\n",
        "Plotly figures are interactive when viewed in a web browser: users can hover over data points, pan and zoom axes, and show and hide traces by clicking or double-clicking on the legend. Figures may be exported either to static image file formats like PNG, JPEG, SVG or PDF or exported to HTML files which can be opened in a browser and remain interactive. "
      ],
      "metadata": {
        "id": "TD-XdgJLDjVt"
      }
    },
    {
      "cell_type": "markdown",
      "source": [
        "Additional Resource:   \n",
        "\n",
        "[TutorialsPoint training on plotly](https://www.tutorialspoint.com/plotly/plotly_online_and_offline_plotting.htm)\n"
      ],
      "metadata": {
        "id": "1zbSGi3DCv55"
      }
    },
    {
      "cell_type": "markdown",
      "source": [
        "**Interactive Export**\n",
        "\n",
        "The `write_html()` plotly figure method is used to export an interactive image. \n",
        "\n",
        "The following snippet, which is commented-out, demonstrates the form of the function -- we will use this later with the gps.csv map data. \n"
      ],
      "metadata": {
        "id": "SXUW2UBZEgSH"
      }
    },
    {
      "cell_type": "code",
      "source": [
        "# fig.write_html('image.html')  # a practice exercise will use this later"
      ],
      "metadata": {
        "id": "L778eXfIGPCE"
      },
      "execution_count": null,
      "outputs": []
    },
    {
      "cell_type": "markdown",
      "source": [
        "\n",
        "\n",
        "---\n",
        "\n"
      ],
      "metadata": {
        "id": "csUUDpgHEZyL"
      }
    },
    {
      "cell_type": "markdown",
      "source": [
        "**Static Export**\n",
        "\n",
        "Uncomment and use `%%capture` as a magic command to hide the output instream in a Colab notebook.  The output image is created and stored to the object assigned but `%%capture` prevents Colab from displaying that same image."
      ],
      "metadata": {
        "id": "5ahwCSNe5c8o"
      }
    },
    {
      "cell_type": "code",
      "source": [
        "# Setup the required libraries and commands\n",
        "# %%capture   # uncomment this statement to hide Colab image display\n",
        "# !pip install kaleido  # already run at the start of this notebook \n",
        "# !pip install plotly>=4.0.0  # already run at the strt of this notebook\n",
        "!wget https://github.com/plotly/orca/releases/download/v1.2.1/orca-1.2.1-x86_64.AppImage -O /usr/local/bin/orca\n",
        "!chmod +x /usr/local/bin/orca\n",
        "!apt-get install xvfb libgtk2.0-0 libgconf-2-4\n",
        "# import the graph_objects() method from plotly as go\n",
        "import plotly.graph_objects as go"
      ],
      "metadata": {
        "id": "30dyWYmp565b"
      },
      "execution_count": null,
      "outputs": []
    },
    {
      "cell_type": "markdown",
      "source": [
        "Once the snippet of code above is run, then a static chart of variable **fig** can be saved by using this code: `fig.write_image(\"image.png\")`.    \n",
        "\n",
        "***Here is an example of saving a Static Image:***"
      ],
      "metadata": {
        "id": "21U4m5uE61NE"
      }
    },
    {
      "cell_type": "code",
      "source": [
        "x = np.arange(10)\n",
        "fig = go.Figure(data=go.Scatter(x=x, y=x**2))"
      ],
      "metadata": {
        "id": "8j0VTguj6us1"
      },
      "execution_count": null,
      "outputs": []
    },
    {
      "cell_type": "code",
      "source": [
        "fig.show()"
      ],
      "metadata": {
        "id": "daSlGrpK7goS"
      },
      "execution_count": null,
      "outputs": []
    },
    {
      "cell_type": "code",
      "source": [
        "fig.write_image(\"image.png\")"
      ],
      "metadata": {
        "id": "nOP6QKD-7jH8"
      },
      "execution_count": null,
      "outputs": []
    },
    {
      "cell_type": "markdown",
      "source": [
        "\n",
        "\n",
        "---\n",
        "\n"
      ],
      "metadata": {
        "id": "6oux7uyQHN2z"
      }
    },
    {
      "cell_type": "markdown",
      "source": [
        "The following examples create and work with a simple scatter plot with 100 random points of varying color and size.  A random number generator is used to create the underlying data for the objects on the scatter plot.    \n",
        "\n",
        "These examples are derived from the plotly [Graphic Libraries documentation online](https://plotly.com/python/static-image-export/). \n"
      ],
      "metadata": {
        "id": "WPfjFMAIG_rj"
      }
    },
    {
      "cell_type": "code",
      "source": [
        "# initiate a random number generator\n",
        "np.random.seed(1)\n",
        "\n",
        "# Establish an array of 100 x,y coordinate point with random color and size\n",
        "N = 100\n",
        "x = np.random.rand(N)\n",
        "y = np.random.rand(N)\n",
        "colors = np.random.rand(N)\n",
        "sz = np.random.rand(N) * 30\n",
        "\n",
        "# Draw an image of the data created\n",
        "fig = go.Figure()\n",
        "fig.add_trace(go.Scatter(\n",
        "    x=x,\n",
        "    y=y,\n",
        "    mode=\"markers\",\n",
        "    marker=go.scatter.Marker(\n",
        "        size=sz,\n",
        "        color=colors,\n",
        "        opacity=0.6,\n",
        "        colorscale=\"Viridis\"\n",
        "    )\n",
        "))\n"
      ],
      "metadata": {
        "id": "Aw2EazQOHREd",
        "colab": {
          "base_uri": "https://localhost:8080/",
          "height": 542
        },
        "outputId": "a82cc492-0e01-4cee-fd06-33852450d30b"
      },
      "execution_count": 8,
      "outputs": [
        {
          "output_type": "display_data",
          "data": {
            "text/html": [
              "<html>\n",
              "<head><meta charset=\"utf-8\" /></head>\n",
              "<body>\n",
              "    <div>            <script src=\"https://cdnjs.cloudflare.com/ajax/libs/mathjax/2.7.5/MathJax.js?config=TeX-AMS-MML_SVG\"></script><script type=\"text/javascript\">if (window.MathJax) {MathJax.Hub.Config({SVG: {font: \"STIX-Web\"}});}</script>                <script type=\"text/javascript\">window.PlotlyConfig = {MathJaxConfig: 'local'};</script>\n",
              "        <script src=\"https://cdn.plot.ly/plotly-2.8.3.min.js\"></script>                <div id=\"c4d233c9-078d-428a-aa78-36e8f6d78728\" class=\"plotly-graph-div\" style=\"height:525px; width:100%;\"></div>            <script type=\"text/javascript\">                                    window.PLOTLYENV=window.PLOTLYENV || {};                                    if (document.getElementById(\"c4d233c9-078d-428a-aa78-36e8f6d78728\")) {                    Plotly.newPlot(                        \"c4d233c9-078d-428a-aa78-36e8f6d78728\",                        [{\"marker\":{\"color\":[0.9501761192470797,0.5566531881951564,0.9156063497662745,0.6415662089463375,0.39000771414124624,0.48599066709690975,0.6043104829199732,0.5495479215085626,0.9261814267064536,0.9187334356336061,0.3948756129235549,0.9632625284407118,0.17395566668046436,0.12632951943963733,0.13507915804673132,0.5056621656768967,0.021524805274197978,0.947970211217681,0.8271154711707325,0.015018980742122379,0.17619625557505525,0.332063574366837,0.1309968448109169,0.8094906921265821,0.34473665268329345,0.9401074823333672,0.58201417994708,0.8788319844118441,0.8447344453922219,0.9053923187086492,0.45988026581680697,0.5463468160203733,0.7986035911520394,0.28571885173414757,0.4902535226199277,0.5991103076458784,0.015533275550835723,0.5934814081966372,0.4336763489894583,0.8073605288848414,0.31524480309537295,0.8928887085251513,0.5778572152845355,0.18401020162746506,0.7879292338255043,0.6120311770449339,0.053909272073752956,0.4201936800011322,0.6790688365654296,0.9186017779775258,0.00040202489135743313,0.9767591490310596,0.37658031474577447,0.9737835383583225,0.604716100974053,0.828845807980693,0.5747115047081023,0.6280761983073504,0.28557628169569393,0.586833340656083,0.7500217637026599,0.8583138364290424,0.7550821884676802,0.698057248447303,0.8644794300545998,0.32268099683674645,0.6707887907875872,0.45087393641334916,0.3821027520315172,0.4108113499221856,0.4014795834695406,0.3173839459582769,0.6219193679203014,0.43024727082126435,0.9738020779272523,0.6778008914343111,0.19856988842711087,0.4267010093480328,0.343346239774423,0.7976388039585666,0.8799982885634318,0.903841955826372,0.6627198123752622,0.2702082620297578,0.25236670150458973,0.8548979426974024,0.5277146463087466,0.8021610840045981,0.5724885171916063,0.7331425252875111,0.5190116274640558,0.770883910501888,0.5688579907047155,0.4657098785919809,0.3426889079532818,0.06820934841670412,0.37792417932809985,0.07962607769825236,0.982817113730445,0.18161285133076377],\"colorscale\":[[0.0,\"#440154\"],[0.1111111111111111,\"#482878\"],[0.2222222222222222,\"#3e4989\"],[0.3333333333333333,\"#31688e\"],[0.4444444444444444,\"#26828e\"],[0.5555555555555556,\"#1f9e89\"],[0.6666666666666666,\"#35b779\"],[0.7777777777777778,\"#6ece58\"],[0.8888888888888888,\"#b5de2b\"],[1.0,\"#fde725\"]],\"opacity\":0.6,\"size\":[24.355760931616192,26.248849348676945,20.652397571578298,17.08483238236127,4.829143104468264,14.006400682899189,10.35516153465645,6.7511987344225375,17.775356062973902,9.368095131057508,27.48916660405052,27.28906574854671,7.713548813465886,3.3267390223208757,5.788881960573385,14.987525120366582,21.85757003923789,6.245833152263744,7.441006751316922,25.55015624809101,12.47546154802582,18.500552014657085,7.009984177177502,3.059017782773923,15.475710509055894,14.31422961149347,4.580149322794897,18.654186952212466,16.320303564418143,19.62412040912233,4.336366203739795,22.545834514057315,6.66147419399768,15.58055473098099,23.558880846648567,0.6699128397541854,9.730873791785594,26.18767129200333,25.341288228062087,16.15321777783631,25.99824822499539,28.494179740608796,24.79220992888024,25.62346331509616,2.9623020546104506,19.53912997022973,21.105509644579588,18.30722437939889,23.988457852080842,1.0371365961490275,23.1071620366494,21.95185802218581,7.7909517989505925,7.712078964664401,18.969099522903832,10.358923847732447,23.897660340218625,13.384386960103718,23.482482443525157,29.71415350871522,9.007450186017001,4.290174847742981,27.039253090478216,16.2467813666212,29.242211125652467,19.098132000056918,29.81739073831437,16.38212412428855,15.792778017165638,4.062837092165097,10.671155129516434,0.7865570188911986,4.811855385589473,22.36911578122488,0.9119906978636649,10.99629291731233,25.870387585141323,20.780331525220628,20.728264261985057,5.659104028659327,13.2571284224527,17.447322220328736,29.692551229911157,6.1171867569936555,7.431987052870646,7.865192513187358,22.505172398939784,13.709259823070784,1.7078831523328497,15.255487218307188,6.358804939310279,23.958127342806307,8.919941445218168,0.8281803586351089,17.80297348393863,25.315212867935664,11.430483721866425,22.495749321784302,15.334244348913845,16.22855414886566]},\"mode\":\"markers\",\"x\":[0.417022004702574,0.7203244934421581,0.00011437481734488664,0.30233257263183977,0.14675589081711304,0.0923385947687978,0.1862602113776709,0.34556072704304774,0.39676747423066994,0.538816734003357,0.4191945144032948,0.6852195003967595,0.20445224973151743,0.8781174363909454,0.027387593197926163,0.6704675101784022,0.41730480236712697,0.5586898284457517,0.14038693859523377,0.1981014890848788,0.8007445686755367,0.9682615757193975,0.31342417815924284,0.6923226156693141,0.8763891522960383,0.8946066635038473,0.08504421136977791,0.03905478323288236,0.1698304195645689,0.8781425034294131,0.0983468338330501,0.42110762500505217,0.9578895301505019,0.5331652849730171,0.6918771139504734,0.31551563100606295,0.6865009276815837,0.8346256718973729,0.018288277344191806,0.7501443149449675,0.9888610889064947,0.7481656543798394,0.2804439920644052,0.7892793284514885,0.10322600657764203,0.44789352617590517,0.9085955030930956,0.2936141483736795,0.28777533858634874,0.13002857211827767,0.019366957870297075,0.678835532939891,0.21162811600005904,0.2655466593722262,0.4915731592803383,0.053362545117080384,0.5741176054920131,0.14672857490581015,0.5893055369032842,0.6997583600209312,0.10233442882782584,0.4140559878195683,0.6944001577277451,0.41417926952690265,0.04995345894608716,0.5358964059155116,0.6637946452197888,0.5148891120583086,0.9445947559908133,0.5865550405019929,0.9034019152878835,0.13747470414623753,0.13927634725075855,0.8073912887095238,0.3976768369855336,0.16535419711693278,0.9275085803960339,0.34776585974550656,0.7508121031361555,0.7259979853504515,0.8833060912058098,0.6236722070556089,0.7509424340273372,0.34889834197784253,0.2699278917650261,0.8958862181960668,0.4280911898712949,0.9648400471483856,0.6634414978184481,0.6216957202091218,0.11474597295337519,0.9494892587070712,0.4499121334799405,0.5783896143871318,0.40813680276128117,0.2370269802430277,0.9033795205622538,0.5736794866722859,0.00287032703115897,0.6171449136207239],\"y\":[0.32664490177209615,0.5270581022576093,0.8859420993107745,0.35726976000249977,0.9085351509197992,0.6233601157918027,0.015821242846556283,0.9294372337437613,0.690896917516924,0.9973228504514805,0.17234050834532855,0.13713574962887776,0.9325954630371636,0.6968181614899002,0.06600017272206249,0.7554630526024664,0.7538761884612464,0.9230245355464833,0.7115247586284718,0.1242709619721647,0.01988013383979559,0.026210986877719278,0.028306488020794607,0.2462110676030459,0.860027948682888,0.5388310643416528,0.5528219786857659,0.8420308923596057,0.12417331511991114,0.2791836790111395,0.5857592714582879,0.9695957483196745,0.56103021925571,0.01864728937294302,0.8006326726806163,0.23297427384102043,0.8071051956187791,0.38786064406417176,0.8635418545594287,0.7471216427371846,0.5562402339904189,0.13645522566068502,0.05991768951221166,0.12134345574073735,0.044551878544761725,0.1074941291060929,0.2257093386078547,0.7129889803826767,0.5597169820541424,0.012555980159115854,0.07197427968948678,0.967276330000272,0.5681004619199421,0.20329323466099047,0.2523257445703234,0.7438258540750929,0.1954294811093188,0.5813589272732578,0.9700199890883123,0.8468288014900353,0.23984775914758616,0.49376971426872995,0.6199557183813798,0.8289808995501787,0.15679139464608427,0.018576202177409518,0.07002214371922233,0.4863451109370318,0.6063294616533303,0.5688514370864813,0.31736240932216075,0.9886161544124489,0.5797452192457969,0.3801411726235504,0.5509482191178968,0.7453344309065021,0.6692328934531846,0.2649195576628094,0.06633483442844157,0.3700841979141063,0.6297175070215645,0.2101740099148396,0.7527555537388139,0.06653648135411494,0.26031509857854096,0.8047545637433454,0.19343428262332774,0.6394608808799401,0.5246703091237337,0.9248079703993507,0.263296770487111,0.06596109068402378,0.7350659632886695,0.7721780295432468,0.907815852503524,0.9319720691968373,0.013951572975597015,0.2343620861214205,0.6167783570016576,0.9490163206876164],\"type\":\"scatter\"}],                        {\"template\":{\"data\":{\"bar\":[{\"error_x\":{\"color\":\"#2a3f5f\"},\"error_y\":{\"color\":\"#2a3f5f\"},\"marker\":{\"line\":{\"color\":\"#E5ECF6\",\"width\":0.5},\"pattern\":{\"fillmode\":\"overlay\",\"size\":10,\"solidity\":0.2}},\"type\":\"bar\"}],\"barpolar\":[{\"marker\":{\"line\":{\"color\":\"#E5ECF6\",\"width\":0.5},\"pattern\":{\"fillmode\":\"overlay\",\"size\":10,\"solidity\":0.2}},\"type\":\"barpolar\"}],\"carpet\":[{\"aaxis\":{\"endlinecolor\":\"#2a3f5f\",\"gridcolor\":\"white\",\"linecolor\":\"white\",\"minorgridcolor\":\"white\",\"startlinecolor\":\"#2a3f5f\"},\"baxis\":{\"endlinecolor\":\"#2a3f5f\",\"gridcolor\":\"white\",\"linecolor\":\"white\",\"minorgridcolor\":\"white\",\"startlinecolor\":\"#2a3f5f\"},\"type\":\"carpet\"}],\"choropleth\":[{\"colorbar\":{\"outlinewidth\":0,\"ticks\":\"\"},\"type\":\"choropleth\"}],\"contour\":[{\"colorbar\":{\"outlinewidth\":0,\"ticks\":\"\"},\"colorscale\":[[0.0,\"#0d0887\"],[0.1111111111111111,\"#46039f\"],[0.2222222222222222,\"#7201a8\"],[0.3333333333333333,\"#9c179e\"],[0.4444444444444444,\"#bd3786\"],[0.5555555555555556,\"#d8576b\"],[0.6666666666666666,\"#ed7953\"],[0.7777777777777778,\"#fb9f3a\"],[0.8888888888888888,\"#fdca26\"],[1.0,\"#f0f921\"]],\"type\":\"contour\"}],\"contourcarpet\":[{\"colorbar\":{\"outlinewidth\":0,\"ticks\":\"\"},\"type\":\"contourcarpet\"}],\"heatmap\":[{\"colorbar\":{\"outlinewidth\":0,\"ticks\":\"\"},\"colorscale\":[[0.0,\"#0d0887\"],[0.1111111111111111,\"#46039f\"],[0.2222222222222222,\"#7201a8\"],[0.3333333333333333,\"#9c179e\"],[0.4444444444444444,\"#bd3786\"],[0.5555555555555556,\"#d8576b\"],[0.6666666666666666,\"#ed7953\"],[0.7777777777777778,\"#fb9f3a\"],[0.8888888888888888,\"#fdca26\"],[1.0,\"#f0f921\"]],\"type\":\"heatmap\"}],\"heatmapgl\":[{\"colorbar\":{\"outlinewidth\":0,\"ticks\":\"\"},\"colorscale\":[[0.0,\"#0d0887\"],[0.1111111111111111,\"#46039f\"],[0.2222222222222222,\"#7201a8\"],[0.3333333333333333,\"#9c179e\"],[0.4444444444444444,\"#bd3786\"],[0.5555555555555556,\"#d8576b\"],[0.6666666666666666,\"#ed7953\"],[0.7777777777777778,\"#fb9f3a\"],[0.8888888888888888,\"#fdca26\"],[1.0,\"#f0f921\"]],\"type\":\"heatmapgl\"}],\"histogram\":[{\"marker\":{\"pattern\":{\"fillmode\":\"overlay\",\"size\":10,\"solidity\":0.2}},\"type\":\"histogram\"}],\"histogram2d\":[{\"colorbar\":{\"outlinewidth\":0,\"ticks\":\"\"},\"colorscale\":[[0.0,\"#0d0887\"],[0.1111111111111111,\"#46039f\"],[0.2222222222222222,\"#7201a8\"],[0.3333333333333333,\"#9c179e\"],[0.4444444444444444,\"#bd3786\"],[0.5555555555555556,\"#d8576b\"],[0.6666666666666666,\"#ed7953\"],[0.7777777777777778,\"#fb9f3a\"],[0.8888888888888888,\"#fdca26\"],[1.0,\"#f0f921\"]],\"type\":\"histogram2d\"}],\"histogram2dcontour\":[{\"colorbar\":{\"outlinewidth\":0,\"ticks\":\"\"},\"colorscale\":[[0.0,\"#0d0887\"],[0.1111111111111111,\"#46039f\"],[0.2222222222222222,\"#7201a8\"],[0.3333333333333333,\"#9c179e\"],[0.4444444444444444,\"#bd3786\"],[0.5555555555555556,\"#d8576b\"],[0.6666666666666666,\"#ed7953\"],[0.7777777777777778,\"#fb9f3a\"],[0.8888888888888888,\"#fdca26\"],[1.0,\"#f0f921\"]],\"type\":\"histogram2dcontour\"}],\"mesh3d\":[{\"colorbar\":{\"outlinewidth\":0,\"ticks\":\"\"},\"type\":\"mesh3d\"}],\"parcoords\":[{\"line\":{\"colorbar\":{\"outlinewidth\":0,\"ticks\":\"\"}},\"type\":\"parcoords\"}],\"pie\":[{\"automargin\":true,\"type\":\"pie\"}],\"scatter\":[{\"marker\":{\"colorbar\":{\"outlinewidth\":0,\"ticks\":\"\"}},\"type\":\"scatter\"}],\"scatter3d\":[{\"line\":{\"colorbar\":{\"outlinewidth\":0,\"ticks\":\"\"}},\"marker\":{\"colorbar\":{\"outlinewidth\":0,\"ticks\":\"\"}},\"type\":\"scatter3d\"}],\"scattercarpet\":[{\"marker\":{\"colorbar\":{\"outlinewidth\":0,\"ticks\":\"\"}},\"type\":\"scattercarpet\"}],\"scattergeo\":[{\"marker\":{\"colorbar\":{\"outlinewidth\":0,\"ticks\":\"\"}},\"type\":\"scattergeo\"}],\"scattergl\":[{\"marker\":{\"colorbar\":{\"outlinewidth\":0,\"ticks\":\"\"}},\"type\":\"scattergl\"}],\"scattermapbox\":[{\"marker\":{\"colorbar\":{\"outlinewidth\":0,\"ticks\":\"\"}},\"type\":\"scattermapbox\"}],\"scatterpolar\":[{\"marker\":{\"colorbar\":{\"outlinewidth\":0,\"ticks\":\"\"}},\"type\":\"scatterpolar\"}],\"scatterpolargl\":[{\"marker\":{\"colorbar\":{\"outlinewidth\":0,\"ticks\":\"\"}},\"type\":\"scatterpolargl\"}],\"scatterternary\":[{\"marker\":{\"colorbar\":{\"outlinewidth\":0,\"ticks\":\"\"}},\"type\":\"scatterternary\"}],\"surface\":[{\"colorbar\":{\"outlinewidth\":0,\"ticks\":\"\"},\"colorscale\":[[0.0,\"#0d0887\"],[0.1111111111111111,\"#46039f\"],[0.2222222222222222,\"#7201a8\"],[0.3333333333333333,\"#9c179e\"],[0.4444444444444444,\"#bd3786\"],[0.5555555555555556,\"#d8576b\"],[0.6666666666666666,\"#ed7953\"],[0.7777777777777778,\"#fb9f3a\"],[0.8888888888888888,\"#fdca26\"],[1.0,\"#f0f921\"]],\"type\":\"surface\"}],\"table\":[{\"cells\":{\"fill\":{\"color\":\"#EBF0F8\"},\"line\":{\"color\":\"white\"}},\"header\":{\"fill\":{\"color\":\"#C8D4E3\"},\"line\":{\"color\":\"white\"}},\"type\":\"table\"}]},\"layout\":{\"annotationdefaults\":{\"arrowcolor\":\"#2a3f5f\",\"arrowhead\":0,\"arrowwidth\":1},\"autotypenumbers\":\"strict\",\"coloraxis\":{\"colorbar\":{\"outlinewidth\":0,\"ticks\":\"\"}},\"colorscale\":{\"diverging\":[[0,\"#8e0152\"],[0.1,\"#c51b7d\"],[0.2,\"#de77ae\"],[0.3,\"#f1b6da\"],[0.4,\"#fde0ef\"],[0.5,\"#f7f7f7\"],[0.6,\"#e6f5d0\"],[0.7,\"#b8e186\"],[0.8,\"#7fbc41\"],[0.9,\"#4d9221\"],[1,\"#276419\"]],\"sequential\":[[0.0,\"#0d0887\"],[0.1111111111111111,\"#46039f\"],[0.2222222222222222,\"#7201a8\"],[0.3333333333333333,\"#9c179e\"],[0.4444444444444444,\"#bd3786\"],[0.5555555555555556,\"#d8576b\"],[0.6666666666666666,\"#ed7953\"],[0.7777777777777778,\"#fb9f3a\"],[0.8888888888888888,\"#fdca26\"],[1.0,\"#f0f921\"]],\"sequentialminus\":[[0.0,\"#0d0887\"],[0.1111111111111111,\"#46039f\"],[0.2222222222222222,\"#7201a8\"],[0.3333333333333333,\"#9c179e\"],[0.4444444444444444,\"#bd3786\"],[0.5555555555555556,\"#d8576b\"],[0.6666666666666666,\"#ed7953\"],[0.7777777777777778,\"#fb9f3a\"],[0.8888888888888888,\"#fdca26\"],[1.0,\"#f0f921\"]]},\"colorway\":[\"#636efa\",\"#EF553B\",\"#00cc96\",\"#ab63fa\",\"#FFA15A\",\"#19d3f3\",\"#FF6692\",\"#B6E880\",\"#FF97FF\",\"#FECB52\"],\"font\":{\"color\":\"#2a3f5f\"},\"geo\":{\"bgcolor\":\"white\",\"lakecolor\":\"white\",\"landcolor\":\"#E5ECF6\",\"showlakes\":true,\"showland\":true,\"subunitcolor\":\"white\"},\"hoverlabel\":{\"align\":\"left\"},\"hovermode\":\"closest\",\"mapbox\":{\"style\":\"light\"},\"paper_bgcolor\":\"white\",\"plot_bgcolor\":\"#E5ECF6\",\"polar\":{\"angularaxis\":{\"gridcolor\":\"white\",\"linecolor\":\"white\",\"ticks\":\"\"},\"bgcolor\":\"#E5ECF6\",\"radialaxis\":{\"gridcolor\":\"white\",\"linecolor\":\"white\",\"ticks\":\"\"}},\"scene\":{\"xaxis\":{\"backgroundcolor\":\"#E5ECF6\",\"gridcolor\":\"white\",\"gridwidth\":2,\"linecolor\":\"white\",\"showbackground\":true,\"ticks\":\"\",\"zerolinecolor\":\"white\"},\"yaxis\":{\"backgroundcolor\":\"#E5ECF6\",\"gridcolor\":\"white\",\"gridwidth\":2,\"linecolor\":\"white\",\"showbackground\":true,\"ticks\":\"\",\"zerolinecolor\":\"white\"},\"zaxis\":{\"backgroundcolor\":\"#E5ECF6\",\"gridcolor\":\"white\",\"gridwidth\":2,\"linecolor\":\"white\",\"showbackground\":true,\"ticks\":\"\",\"zerolinecolor\":\"white\"}},\"shapedefaults\":{\"line\":{\"color\":\"#2a3f5f\"}},\"ternary\":{\"aaxis\":{\"gridcolor\":\"white\",\"linecolor\":\"white\",\"ticks\":\"\"},\"baxis\":{\"gridcolor\":\"white\",\"linecolor\":\"white\",\"ticks\":\"\"},\"bgcolor\":\"#E5ECF6\",\"caxis\":{\"gridcolor\":\"white\",\"linecolor\":\"white\",\"ticks\":\"\"}},\"title\":{\"x\":0.05},\"xaxis\":{\"automargin\":true,\"gridcolor\":\"white\",\"linecolor\":\"white\",\"ticks\":\"\",\"title\":{\"standoff\":15},\"zerolinecolor\":\"white\",\"zerolinewidth\":2},\"yaxis\":{\"automargin\":true,\"gridcolor\":\"white\",\"linecolor\":\"white\",\"ticks\":\"\",\"title\":{\"standoff\":15},\"zerolinecolor\":\"white\",\"zerolinewidth\":2}}}},                        {\"responsive\": true}                    ).then(function(){\n",
              "                            \n",
              "var gd = document.getElementById('c4d233c9-078d-428a-aa78-36e8f6d78728');\n",
              "var x = new MutationObserver(function (mutations, observer) {{\n",
              "        var display = window.getComputedStyle(gd).display;\n",
              "        if (!display || display === 'none') {{\n",
              "            console.log([gd, 'removed!']);\n",
              "            Plotly.purge(gd);\n",
              "            observer.disconnect();\n",
              "        }}\n",
              "}});\n",
              "\n",
              "// Listen for the removal of the full notebook cells\n",
              "var notebookContainer = gd.closest('#notebook-container');\n",
              "if (notebookContainer) {{\n",
              "    x.observe(notebookContainer, {childList: true});\n",
              "}}\n",
              "\n",
              "// Listen for the clearing of the current output cell\n",
              "var outputEl = gd.closest('.output');\n",
              "if (outputEl) {{\n",
              "    x.observe(outputEl, {childList: true});\n",
              "}}\n",
              "\n",
              "                        })                };                            </script>        </div>\n",
              "</body>\n",
              "</html>"
            ]
          },
          "metadata": {}
        }
      ]
    },
    {
      "cell_type": "code",
      "source": [
        "# Use show() to display the figure if it was supressed\n",
        "fig.show()"
      ],
      "metadata": {
        "id": "YE2y0FsFH4KW"
      },
      "execution_count": null,
      "outputs": []
    },
    {
      "cell_type": "markdown",
      "source": [
        "***Writing Raster Graphic Formats***"
      ],
      "metadata": {
        "id": "eUljnu1eJhNV"
      }
    },
    {
      "cell_type": "markdown",
      "source": [
        "Write the figure as a raster graphic in **PNG** file format "
      ],
      "metadata": {
        "id": "FR6hkruZIFZ_"
      }
    },
    {
      "cell_type": "code",
      "source": [
        "fig.write_image(\"fig1.png\")  # note: the string may include a qualified name"
      ],
      "metadata": {
        "id": "0_U8FpkmIIe_"
      },
      "execution_count": null,
      "outputs": []
    },
    {
      "cell_type": "markdown",
      "source": [
        "Write the figure as a raster graphic in **JPEG** file format "
      ],
      "metadata": {
        "id": "v0O4smLJIbVd"
      }
    },
    {
      "cell_type": "code",
      "source": [
        "fig.write_image(\"fig1.jpg\")  # note: the string may include a qualified name"
      ],
      "metadata": {
        "id": "KBHts24uIeyX"
      },
      "execution_count": null,
      "outputs": []
    },
    {
      "cell_type": "markdown",
      "source": [
        "Write the figure as a raster graphic in **WebP** file format "
      ],
      "metadata": {
        "id": "QbFO03G7InxP"
      }
    },
    {
      "cell_type": "code",
      "source": [
        "fig.write_image(\"fig1.webp\")  # note: the string may include a qualified name"
      ],
      "metadata": {
        "id": "3WkO-Hq3ItIb"
      },
      "execution_count": null,
      "outputs": []
    },
    {
      "cell_type": "markdown",
      "source": [
        "***Writing Vector Image Formats***"
      ],
      "metadata": {
        "id": "riuyr0DEJl0f"
      }
    },
    {
      "cell_type": "markdown",
      "source": [
        "Write the figure as a vector image in **SVG** file format "
      ],
      "metadata": {
        "id": "PF_W4NSQJqQK"
      }
    },
    {
      "cell_type": "code",
      "source": [
        "fig.write_image(\"fig1.svg\")  # note: the string may include a qualified name"
      ],
      "metadata": {
        "id": "AmO3J5zwKBbi"
      },
      "execution_count": null,
      "outputs": []
    },
    {
      "cell_type": "markdown",
      "source": [
        "Write the figure as a vector image in **PDF** file format "
      ],
      "metadata": {
        "id": "_jmHgHEbJ1Le"
      }
    },
    {
      "cell_type": "code",
      "source": [
        "fig.write_image(\"fig1.pdf\")  # note: the string may include a qualified name"
      ],
      "metadata": {
        "id": "Arhwok_AJ4Iy"
      },
      "execution_count": null,
      "outputs": []
    },
    {
      "cell_type": "markdown",
      "source": [
        "\n",
        "\n",
        "---\n",
        "\n"
      ],
      "metadata": {
        "id": "UkVQ3LrmxPjI"
      }
    },
    {
      "cell_type": "markdown",
      "source": [
        "## Mapbox and Plotly Figure Generation"
      ],
      "metadata": {
        "id": "UJiDKfr9wxwR"
      }
    },
    {
      "cell_type": "markdown",
      "source": [
        "Professor Patrick's public API token for Mapbox (don't go nuts with it, please!)    \n",
        "\n",
        "`pk.eyJ1IjoicHJvZmVzc29ycGF0cmljayIsImEiOiJja3psbGY5eDcxZ3o5Mm9wYWNteXZmZ3A0In0.bwEt4H0OJv4PRHuZrlOQJg`"
      ],
      "metadata": {
        "id": "hhECpONTUB9S"
      }
    },
    {
      "cell_type": "code",
      "execution_count": 9,
      "metadata": {
        "id": "o9R6a5jUf4sz"
      },
      "outputs": [],
      "source": [
        "# api_token = input(\"Enter public token for Mapbox: \")\n",
        "api_token = 'pk.eyJ1IjoicHJvZmVzc29ycGF0cmljayIsImEiOiJja3psbGY5eDcxZ3o5Mm9wYWNteXZmZ3A0In0.bwEt4H0OJv4PRHuZrlOQJg'"
      ]
    },
    {
      "cell_type": "markdown",
      "source": [
        "\n",
        "\n",
        "---\n",
        "\n"
      ],
      "metadata": {
        "id": "8SClht8vIkmB"
      }
    },
    {
      "cell_type": "code",
      "execution_count": 10,
      "metadata": {
        "id": "x9wy6Nsdf4sz",
        "colab": {
          "base_uri": "https://localhost:8080/",
          "height": 617
        },
        "outputId": "30241b85-1c66-451c-b643-63f2197bfe53"
      },
      "outputs": [
        {
          "output_type": "display_data",
          "data": {
            "text/html": [
              "<html>\n",
              "<head><meta charset=\"utf-8\" /></head>\n",
              "<body>\n",
              "    <div>            <script src=\"https://cdnjs.cloudflare.com/ajax/libs/mathjax/2.7.5/MathJax.js?config=TeX-AMS-MML_SVG\"></script><script type=\"text/javascript\">if (window.MathJax) {MathJax.Hub.Config({SVG: {font: \"STIX-Web\"}});}</script>                <script type=\"text/javascript\">window.PlotlyConfig = {MathJaxConfig: 'local'};</script>\n",
              "        <script src=\"https://cdn.plot.ly/plotly-2.8.3.min.js\"></script>                <div id=\"3321c492-f702-44e0-a9e5-7ac91538d334\" class=\"plotly-graph-div\" style=\"height:600px; width:1000px;\"></div>            <script type=\"text/javascript\">                                    window.PLOTLYENV=window.PLOTLYENV || {};                                    if (document.getElementById(\"3321c492-f702-44e0-a9e5-7ac91538d334\")) {                    Plotly.newPlot(                        \"3321c492-f702-44e0-a9e5-7ac91538d334\",                        [{\"hovertemplate\":\"Lat=%{lat}<br>Long=%{lon}<br>Time=%{marker.color}<extra></extra>\",\"lat\":[36.372966,36.3729487,36.3729313,36.3729142,36.3728975,36.3728802,36.3728633,36.3728467,36.3728298,36.372813,36.3727963,36.3727795,36.3727627,36.372746,36.3727292,36.372713,36.3726965,36.3726802,36.3726638,36.3726473,36.372631,36.3726148,36.3725988,36.372583,36.3725667,36.3725508,36.3725352,36.372519,36.3725037,36.3724883,36.3700135,36.370002,36.3699907,36.3699792,36.3699677,36.3699562,36.3699447,36.3699332,36.3699215,36.36991,36.3698983,36.3698867,36.369875,36.3698633,36.3698513,36.3698393,36.3698275,36.3698153,36.3698033,36.369791,36.3697785,36.369766,36.3697533,36.3697405,36.3697275,36.3697145,36.3697013,36.3696882,36.3696748,36.3696612,36.3696477,36.3696342,36.3696203,36.3696065,36.3695925,36.3695785,36.3695642,36.3695498,36.3695353,36.3695208,36.3695062,36.3694915,36.3694765,36.3694615,36.3694465,36.3694315,36.3694163,36.3694012,36.3693858,36.3693705,36.3693552,36.3693397,36.369324,36.3693083,36.3692927,36.3692768,36.369261,36.369245,36.369229,36.3692132,36.3691972,36.369181,36.3691648,36.3691487,36.3691325,36.369116,36.3690997,36.3690833,36.3690668,36.3690503,36.3690338,36.3690173,36.3690008,36.368984,36.3689677,36.3689508,36.3689345,36.3689175,36.3689013,36.3688847,36.3688682,36.3688513,36.3688348,36.3688182,36.3688015,36.3687845,36.368768,36.3687512,36.3687345,36.3687178,36.3687008,36.3686842,36.3686675,36.3686505,36.368634,36.3686172,36.3686005,36.3685838,36.3685668,36.3685502,36.3685332,36.3685163,36.3684995,36.3684823,36.3684657,36.3684487,36.3684317,36.3684147,36.3683977,36.3683807,36.3683635,36.3683465,36.3683293,36.368312,36.3682948,36.3682775,36.3682602,36.3682428,36.3682253,36.3682078,36.3681902,36.3681727,36.368155,36.3681373,36.3681195,36.3681018,36.3680838,36.368066,36.3680482,36.3680302,36.3680123,36.3679943,36.3679763,36.3679583,36.3679402,36.3679222,36.367904,36.3678858,36.3678677,36.3678495,36.3678313,36.3678132,36.3677948,36.3677767,36.3677585,36.36774,36.3677218,36.367704,36.367686,36.367668,36.3676502,36.3676313,36.3676128,36.3675947,36.3675763,36.367558,36.3675398,36.3675215,36.367503,36.3674848,36.3674665,36.3674482,36.3674298,36.3674112,36.3673927,36.3673743,36.3673557,36.3673372,36.3673185,36.3673,36.3672812,36.3672625,36.3672438,36.367225,36.3672062,36.3671873,36.3671685,36.3671495,36.3671307,36.3671118,36.3670927,36.3670737,36.3670545,36.3670353,36.3670162,36.3669968,36.3669777,36.3669582,36.3669388,36.3669193,36.3668998,36.3668803,36.366861,36.3668415,36.3668217,36.3668022,36.3667825,36.3667627,36.366743,36.3667233,36.3667035,36.3666835,36.3666638,36.366644,36.3666242,36.3666043,36.3665845,36.3665643,36.3665443,36.3665242,36.3665038,36.3664837,36.3664637,36.3664435,36.3664233,36.366403,36.3663828,36.3663625,36.366343,36.3663228,36.366303,36.3662828,36.366263,36.3662427,36.3662222,36.3662018,36.3661813,36.3661607,36.3661403,36.3661197,36.3660993,36.366079,36.3660587,36.3660382,36.3660178,36.3659975,36.3659773,36.3659573,36.3659373,36.3659173,36.3658973,36.3658773,36.3658575,36.3658375,36.3658175,36.3657973,36.3657778,36.365758,36.3657383,36.3657185,36.3656988,36.3656792,36.3656595,36.3656397,36.3656198,36.3656002,36.3655803,36.3655607,36.3655408,36.3655212,36.3655017,36.3654818,36.3654622,36.3654425,36.3654228,36.3654033,36.3653837,36.365364,36.3653443,36.3653248,36.3653052,36.3652855,36.3652658,36.3652463,36.3652268,36.3652072,36.3651877,36.3651682,36.3651487,36.365129,36.3651095,36.36509,36.3650705,36.365051,36.3650315,36.365012,36.3649927,36.3649732,36.3649538,36.3649343,36.364915,36.3648957,36.3648762,36.364857,36.3648377,36.3648183,36.3647992,36.36478,36.3647607,36.3647417,36.3647223,36.3647033,36.3646842,36.3646652,36.364646,36.3646272,36.3646082,36.3645893,36.3645705,36.3645518,36.3645332,36.3645145,36.364496,36.3644775,36.364459,36.3644407,36.3644223,36.364404,36.3643858,36.3643677,36.3643497,36.3643317,36.3643138,36.3642958,36.3642782,36.3642605,36.3642427,36.364225,36.3642075,36.36419,36.3641727,36.3641552,36.3641378,36.3641207,36.3641033,36.3640862,36.364069,36.364052,36.3640348,36.364018,36.364001,36.363984,36.3639672,36.3639505,36.3639337,36.363917,36.3639005,36.363884,36.3638673,36.363851,36.3638345,36.3638182,36.363802,36.3637858,36.3637697,36.3637537,36.3637375,36.3637215,36.363706,36.3636903,36.3636745,36.3636588,36.3636432,36.3636275,36.363612,36.3635963,36.3635808,36.3635657,36.3635502,36.363535,36.3635197,36.3635045,36.3634893,36.3634742,36.363459,36.3634445,36.3634297,36.363415,36.3634002,36.3633853,36.3633707,36.3633558,36.3633413,36.3633268,36.3633123,36.3632982,36.3632838,36.3632695,36.3632548,36.36324,36.3632258,36.3632115,36.3631972,36.3631832,36.3631692,36.3631548,36.363141,36.363127,36.3631128,36.363099,36.3630852,36.3630712,36.3630575,36.3630435,36.3630297,36.3630157,36.3630015,36.3629877,36.3629738,36.36296,36.362946,36.3629322,36.3629182,36.3629043,36.3628905,36.3628767,36.362863,36.3628497,36.3628358,36.3628223,36.3628087,36.3627947,36.3627805,36.3627667,36.3627527,36.362739,36.3627252,36.3627115,36.3626977,36.3626842,36.3626707,36.362657,36.3626437,36.3626302,36.3626165,36.3626027,36.362589,36.3625753,36.3625618,36.3625482,36.3625345,36.362521,36.3625073,36.3624937,36.36248,36.3624665,36.3624532,36.3624402,36.3624272,36.3624138,36.362401,36.3623877,36.3623742,36.3623608,36.3623475,36.3623343,36.3623212,36.3623078,36.3622947,36.3622815,36.3622687,36.362256,36.3622435,36.3622307,36.3622183,36.362206,36.3621935,36.3621807,36.3621682,36.3621562,36.3621435,36.362131,36.3621183,36.3621058,36.3620935,36.3620812,36.3620687,36.3620562,36.362044,36.3620317,36.3620193,36.3620067,36.361994,36.3619818,36.3619697,36.3619573,36.361945,36.3619327,36.3619202,36.361908,36.3618953,36.3618827,36.3618705,36.361858,36.3618457,36.3618332,36.3618207,36.3618083,36.3617957,36.3617832,36.3617707,36.3617578,36.3617453,36.361733,36.36172,36.3617073,36.3616945,36.3616813,36.3616685,36.361656,36.3616432,36.3616303,36.3616173,36.3616043,36.3615913,36.3615783,36.3615652,36.3615522,36.361539,36.3615258,36.3615123,36.3614993,36.3614865,36.3614735,36.3614605,36.3614473,36.3614343,36.3614213,36.3614085,36.3613957,36.3613827,36.3613702,36.3613573,36.3613445,36.361332,36.3613192,36.3613065,36.3612937,36.3612817,36.3612687,36.3612562,36.3612437,36.3612308,36.3612183,36.3612057,36.361193,36.3611803,36.3611677,36.3611552,36.3611428,36.3611303,36.3611178,36.3611058,36.3610935,36.3610808,36.3610685,36.3610558,36.3610433,36.3610312,36.3610187,36.3610065,36.3609942,36.3609818,36.3609697,36.3609577,36.3609455,36.3609333,36.3609215,36.3609097,36.3608972,36.3608848,36.3608727,36.3608607,36.3608485,36.3608363,36.3608243,36.3608122,36.3607998,36.3607882,36.3607758,36.3607642,36.360752,36.36074,36.360728,36.3607162,36.3607042,36.360692,36.3606802,36.360668,36.360656,36.3606438,36.3606317,36.3606197,36.3606078,36.3605958,36.3605842,36.360572,36.3605602,36.360548,36.3605357,36.3605238,36.360512,36.3604998,36.3604877,36.3604758,36.360464,36.360452,36.3604398,36.360428,36.3604158,36.3604038,36.360392,36.3603798,36.3603677,36.3603557,36.3603437,36.3603313,36.3603195,36.3603077,36.3602955,36.3602833,36.3602715,36.3602592,36.3602473,36.3602355,36.360224,36.3602123,36.3602,36.3601877,36.3601757,36.3601633,36.360151,36.3601385,36.3601265,36.3601138,36.3601015,36.3600892,36.360077,36.3600643,36.3600518,36.3600392,36.3600265,36.360014,36.3600013,36.3599887,36.3599758,36.359963,36.3599502,36.3599375,36.3599245,36.3599117,36.3598987,36.3598858,36.3598727,36.35986,36.359847,36.3598338,36.359821,36.3598077,36.3597945,36.3597813,36.3597682,36.3597552,36.359742,36.3597287,36.3597155,36.3597027,36.3596895,36.3596765,36.3596635,36.3596503,36.3596373,36.3596243,36.3596112,36.359598,36.3595848,36.3595718,36.3595588,36.3595457,36.3595327,36.3595197,36.3595068,36.3594938,36.3594807,36.3594677,36.3594545,36.3594413,36.3594285,36.3594157,36.3594028,36.35939,36.3593772,36.3593642,36.3593512,36.3593382,36.3593252,36.3593122,36.3592992,36.3592862,36.3592735,36.3592602,36.3592473,36.3592342,36.3592212,36.3592082,36.3591948,36.3591815,36.3591683,36.3591552,36.3591422,36.359129,36.3591162,36.3591028,36.3590895,36.3590763,36.3590632,36.3590503,36.3590375,36.3590248,36.359012,36.3589977,36.3589848,36.3589722,36.358959,36.3589458,36.3589333,36.3589208,36.3589073,36.3588943,36.3588807,36.3588675,36.3588542,36.3588408,36.3588277,36.3588143,36.3588012,36.3587878,36.3587747,36.3587613,36.358748,36.3587348,36.3587217,36.3587083,36.3586952,36.3586813,36.3586683,36.358655,36.3586417,36.3586287,36.3586153,36.358602,36.3585888,36.3585755,36.3585622,36.358549,36.3585355,36.3585222,36.3585087,36.3584953,36.3584822,36.3584687,36.3584553,36.3584418,36.3584285,36.358415,36.3584013,36.3583878,36.3583745,36.3583612,36.3583477,36.358334,36.3583203,36.3583067,36.358293,36.3582793,36.3582657,36.358252,36.3582382,36.3582247,36.358211,36.3581973,36.3581837,36.35817,36.3581565,36.358143,36.3581293,36.3581157,36.358102,36.3580883,36.3580747,36.358061,36.3580473,36.3580337,36.35802,36.3580065,36.3579928,36.3579793,36.3579658,36.3579523,36.357939,36.3579255,36.3579122,36.357899,36.3578857,36.3578727,36.3578595,36.3578465,36.3578335,36.3578207,36.3578078,36.357795,36.3577823,36.3577697,36.357757,36.3577445,36.3577318,36.3577193,36.3577068,36.3576943,36.3576818,36.3576695,36.357657,36.3576445,36.3576322,36.3576197,36.3576072,36.3575948,36.3575822,36.3575698,36.3575573,36.3575448,36.3575322,36.3575197,36.357507,36.3574942,36.3574815,36.3574688,36.357456,36.3574432,36.3574303,36.3574173,36.3574043,36.3573913,36.3573785,36.3573653,36.3573522,36.3573392,36.357326,36.3573127,36.3572995,36.3572862,36.3572728,36.3572597,36.3572463,36.3572328,36.3572197,36.3572062,36.3571923,36.3571788,36.3571652,36.3571517,36.3571382,36.3571243,36.3571108,36.3570972,36.3570833,36.3570697,36.3570558,36.3570418,36.357028,36.3570142,36.3570002,36.3569863,36.3569722,36.3569583,36.3569442,36.3569303,36.3569162,36.356902,36.3568878,36.3568737,36.3568595,36.3568453,36.3568312,36.356817,36.3568027,36.3567883,36.3567742,36.3567598,36.3567453,36.3567312,36.3567167,36.3567022,36.3566878,36.3566733,36.3566588,36.3566442,36.3566297,36.3566148,36.3566002,36.3565855,36.3565707,36.3565558,36.3565408,36.3565258,36.3565108,36.3564958,36.3564807,36.3564655,36.3564502,36.356435,36.3564197,36.3564042,36.3563888,36.3563733,36.3563578,36.3563425,36.356327,36.3563117,36.3562962,36.3562808,36.3562655,36.3562503,36.3562352],\"legendgroup\":\"\",\"lon\":[-82.4233398,-82.4233182,-82.4232962,-82.4232743,-82.4232523,-82.4232302,-82.423208,-82.423186,-82.4231637,-82.4231413,-82.4231188,-82.4230963,-82.4230738,-82.423051,-82.4230282,-82.4230055,-82.4229825,-82.4229597,-82.4229365,-82.4229133,-82.4228902,-82.4228667,-82.4228433,-82.4228198,-82.422796,-82.4227725,-82.4227488,-82.4227248,-82.4227012,-82.4226772,-82.4174403,-82.417412,-82.4173835,-82.4173553,-82.417327,-82.4172987,-82.4172703,-82.4172418,-82.4172135,-82.417185,-82.4171567,-82.4171282,-82.4170998,-82.4170712,-82.4170427,-82.4170142,-82.4169857,-82.4169572,-82.4169287,-82.4169003,-82.4168718,-82.4168437,-82.4168153,-82.4167872,-82.4167592,-82.416731,-82.4167032,-82.4166752,-82.4166473,-82.4166197,-82.416592,-82.4165645,-82.416537,-82.4165097,-82.4164823,-82.4164552,-82.416428,-82.416401,-82.4163742,-82.4163475,-82.4163207,-82.416294,-82.4162672,-82.4162407,-82.4162142,-82.4161878,-82.4161613,-82.416135,-82.4161088,-82.4160827,-82.4160567,-82.4160305,-82.4160043,-82.4159785,-82.4159527,-82.4159267,-82.4159008,-82.415875,-82.4158492,-82.4158235,-82.4157978,-82.4157722,-82.4157465,-82.4157208,-82.4156953,-82.4156698,-82.4156443,-82.4156188,-82.4155933,-82.4155678,-82.4155423,-82.415517,-82.4154918,-82.4154667,-82.4154415,-82.4154163,-82.4153912,-82.4153662,-82.4153412,-82.4153162,-82.4152913,-82.4152665,-82.4152418,-82.415217,-82.4151923,-82.4151677,-82.415143,-82.4151187,-82.4150942,-82.4150698,-82.4150455,-82.4150213,-82.4149972,-82.414973,-82.4149488,-82.4149248,-82.414901,-82.414877,-82.4148532,-82.4148295,-82.4148057,-82.4147822,-82.4147587,-82.4147353,-82.4147118,-82.4146885,-82.4146653,-82.4146422,-82.414619,-82.4145958,-82.4145728,-82.4145498,-82.414527,-82.414504,-82.4144813,-82.4144587,-82.414436,-82.4144135,-82.414391,-82.4143683,-82.414346,-82.4143237,-82.4143012,-82.414279,-82.4142567,-82.4142347,-82.4142125,-82.4141905,-82.4141685,-82.4141465,-82.4141248,-82.414103,-82.4140813,-82.4140598,-82.4140383,-82.4140168,-82.4139955,-82.4139742,-82.413953,-82.413932,-82.4139112,-82.4138905,-82.4138697,-82.413849,-82.4138285,-82.4138083,-82.4137878,-82.4137677,-82.4137475,-82.4137273,-82.4137068,-82.413687,-82.4136675,-82.413648,-82.4136282,-82.4136087,-82.4135893,-82.41357,-82.4135508,-82.4135315,-82.4135125,-82.4134933,-82.4134742,-82.4134552,-82.413436,-82.413417,-82.4133982,-82.4133792,-82.4133605,-82.4133418,-82.4133232,-82.4133047,-82.413286,-82.4132675,-82.4132493,-82.4132308,-82.4132125,-82.4131942,-82.4131762,-82.413158,-82.4131398,-82.4131218,-82.4131038,-82.413086,-82.4130682,-82.4130503,-82.4130327,-82.413015,-82.4129975,-82.4129798,-82.4129623,-82.412945,-82.4129275,-82.4129102,-82.4128928,-82.4128757,-82.4128585,-82.4128413,-82.4128242,-82.412807,-82.4127902,-82.4127733,-82.4127563,-82.4127395,-82.4127228,-82.412706,-82.4126893,-82.4126727,-82.412656,-82.4126397,-82.4126233,-82.412607,-82.4125907,-82.4125742,-82.4125582,-82.412542,-82.4125258,-82.4125097,-82.4124937,-82.4124777,-82.4124615,-82.4124453,-82.4124292,-82.4124133,-82.4123972,-82.4123815,-82.4123653,-82.4123497,-82.412334,-82.4123182,-82.4123023,-82.4122867,-82.412271,-82.4122555,-82.41224,-82.4122245,-82.4122092,-82.4121937,-82.4121782,-82.4121628,-82.4121477,-82.4121323,-82.4121172,-82.4121023,-82.4120873,-82.4120727,-82.4120573,-82.4120425,-82.4120275,-82.4120123,-82.4119973,-82.4119822,-82.4119672,-82.4119522,-82.411937,-82.4119217,-82.4119065,-82.4118913,-82.4118762,-82.411861,-82.4118458,-82.4118307,-82.4118153,-82.4118002,-82.4117848,-82.4117695,-82.4117542,-82.4117388,-82.4117235,-82.4117082,-82.4116927,-82.4116773,-82.411662,-82.4116467,-82.4116315,-82.4116162,-82.4116007,-82.4115853,-82.41157,-82.4115545,-82.4115388,-82.4115233,-82.4115078,-82.4114922,-82.4114767,-82.411461,-82.4114452,-82.4114295,-82.4114138,-82.411398,-82.4113822,-82.411366,-82.4113502,-82.411334,-82.4113178,-82.4113017,-82.4112855,-82.4112692,-82.4112527,-82.4112363,-82.4112197,-82.4112032,-82.4111865,-82.4111697,-82.411153,-82.4111362,-82.4111192,-82.4111023,-82.4110852,-82.411068,-82.4110508,-82.4110337,-82.4110163,-82.4109988,-82.4109815,-82.410964,-82.4109467,-82.410929,-82.4109115,-82.4108938,-82.410876,-82.4108582,-82.4108403,-82.4108225,-82.4108045,-82.4107865,-82.4107683,-82.4107502,-82.410732,-82.4107137,-82.4106953,-82.410677,-82.4106587,-82.4106398,-82.4106213,-82.4106028,-82.410584,-82.4105655,-82.4105468,-82.4105282,-82.4105093,-82.4104907,-82.4104718,-82.410453,-82.4104342,-82.4104153,-82.4103963,-82.4103775,-82.4103585,-82.4103397,-82.4103207,-82.4103017,-82.4102825,-82.4102633,-82.410244,-82.4102248,-82.4102055,-82.4101862,-82.4101668,-82.4101475,-82.4101282,-82.4101087,-82.4100893,-82.4100698,-82.4100503,-82.4100308,-82.4100113,-82.4099917,-82.409972,-82.4099522,-82.4099323,-82.4099127,-82.4098927,-82.4098727,-82.4098527,-82.4098327,-82.4098125,-82.4097923,-82.4097722,-82.4097515,-82.4097313,-82.4097108,-82.4096905,-82.4096698,-82.4096492,-82.4096287,-82.4096078,-82.4095872,-82.4095663,-82.4095455,-82.4095245,-82.4095035,-82.4094827,-82.4094617,-82.4094407,-82.4094195,-82.4093985,-82.4093772,-82.4093558,-82.4093347,-82.4093133,-82.409292,-82.4092707,-82.4092492,-82.4092277,-82.4092062,-82.4091845,-82.4091628,-82.4091412,-82.4091195,-82.4090978,-82.4090762,-82.4090543,-82.4090327,-82.409011,-82.4089895,-82.4089677,-82.4089462,-82.4089245,-82.408903,-82.4088813,-82.4088598,-82.4088383,-82.4088168,-82.4087953,-82.408774,-82.4087525,-82.4087312,-82.4087098,-82.4086885,-82.408667,-82.4086457,-82.4086243,-82.408603,-82.4085818,-82.4085603,-82.4085392,-82.4085178,-82.4084967,-82.4084753,-82.4084543,-82.4084328,-82.4084122,-82.4083913,-82.4083703,-82.4083493,-82.4083285,-82.4083073,-82.4082865,-82.4082655,-82.4082448,-82.4082242,-82.4082037,-82.4081832,-82.4081625,-82.408142,-82.4081218,-82.4081015,-82.4080815,-82.4080613,-82.4080415,-82.4080218,-82.4080025,-82.4079828,-82.4079635,-82.407944,-82.4079243,-82.407905,-82.4078857,-82.4078663,-82.4078467,-82.4078273,-82.4078078,-82.4077882,-82.4077687,-82.407749,-82.4077293,-82.4077098,-82.4076902,-82.4076707,-82.407651,-82.4076313,-82.4076118,-82.407592,-82.4075723,-82.4075523,-82.4075325,-82.4075132,-82.4074932,-82.4074735,-82.4074538,-82.407434,-82.4074145,-82.4073945,-82.4073747,-82.4073548,-82.407335,-82.4073152,-82.4072952,-82.4072753,-82.4072555,-82.4072357,-82.4072157,-82.4071957,-82.407176,-82.407156,-82.4071362,-82.4071162,-82.4070963,-82.4070762,-82.4070562,-82.407036,-82.4070162,-82.4069958,-82.4069757,-82.4069555,-82.4069353,-82.4069152,-82.4068948,-82.4068745,-82.4068543,-82.4068342,-82.4068135,-82.4067932,-82.4067727,-82.4067525,-82.4067323,-82.4067123,-82.406692,-82.4066718,-82.4066517,-82.4066317,-82.4066118,-82.4065918,-82.406572,-82.406552,-82.4065322,-82.4065123,-82.4064925,-82.4064727,-82.4064528,-82.4064332,-82.4064137,-82.4063937,-82.4063742,-82.4063543,-82.4063348,-82.4063152,-82.4062955,-82.4062762,-82.4062563,-82.4062368,-82.4062175,-82.4061982,-82.4061787,-82.4061593,-82.4061398,-82.4061205,-82.4061008,-82.4060817,-82.4060622,-82.406043,-82.4060237,-82.4060045,-82.4059852,-82.405966,-82.405947,-82.405928,-82.4059088,-82.4058897,-82.4058708,-82.4058517,-82.4058327,-82.4058135,-82.4057945,-82.4057755,-82.4057563,-82.4057373,-82.4057185,-82.4056997,-82.405681,-82.4056622,-82.4056435,-82.4056245,-82.405606,-82.4055873,-82.4055685,-82.4055502,-82.4055313,-82.4055127,-82.4054942,-82.4054755,-82.4054568,-82.4054383,-82.4054198,-82.4054012,-82.4053825,-82.4053638,-82.405345,-82.4053262,-82.4053075,-82.405289,-82.4052703,-82.4052517,-82.405233,-82.4052145,-82.4051958,-82.4051772,-82.4051587,-82.4051402,-82.4051215,-82.405103,-82.4050842,-82.4050657,-82.4050468,-82.4050282,-82.4050093,-82.4049907,-82.4049717,-82.404953,-82.4049342,-82.4049152,-82.4048963,-82.4048777,-82.4048588,-82.40484,-82.4048213,-82.4048023,-82.4047833,-82.4047643,-82.4047457,-82.4047267,-82.4047078,-82.4046887,-82.40467,-82.404651,-82.4046318,-82.4046128,-82.4045938,-82.4045748,-82.4045558,-82.4045368,-82.4045178,-82.4044988,-82.4044798,-82.404461,-82.404442,-82.4044232,-82.4044043,-82.4043853,-82.4043663,-82.4043473,-82.4043285,-82.4043095,-82.4042905,-82.4042715,-82.4042525,-82.4042335,-82.4042143,-82.4041953,-82.4041762,-82.404157,-82.4041377,-82.4041185,-82.4040992,-82.4040798,-82.4040607,-82.4040413,-82.404022,-82.4040028,-82.4039837,-82.4039645,-82.4039453,-82.403926,-82.403907,-82.4038875,-82.4038682,-82.403849,-82.4038293,-82.40381,-82.4037907,-82.4037708,-82.4037513,-82.4037317,-82.403712,-82.403692,-82.4036723,-82.4036525,-82.4036327,-82.4036128,-82.4035928,-82.403573,-82.403553,-82.403533,-82.403513,-82.4034928,-82.4034728,-82.4034525,-82.4034322,-82.4034118,-82.4033915,-82.4033712,-82.403351,-82.4033307,-82.4033102,-82.4032898,-82.4032697,-82.4032493,-82.403229,-82.4032085,-82.4031882,-82.4031678,-82.4031472,-82.4031268,-82.4031065,-82.4030865,-82.4030663,-82.4030458,-82.4030253,-82.4030045,-82.4029835,-82.4029627,-82.4029425,-82.4029218,-82.402901,-82.4028802,-82.4028595,-82.4028385,-82.4028178,-82.4027968,-82.402776,-82.402755,-82.402734,-82.4027133,-82.4026922,-82.4026712,-82.4026503,-82.4026295,-82.4026085,-82.4025875,-82.4025665,-82.4025455,-82.4025245,-82.4025033,-82.4024823,-82.4024613,-82.4024403,-82.4024195,-82.4023983,-82.4023772,-82.4023562,-82.4023353,-82.4023143,-82.4022932,-82.4022722,-82.4022513,-82.4022303,-82.4022092,-82.4021882,-82.4021672,-82.402146,-82.402125,-82.402104,-82.4020828,-82.4020617,-82.4020408,-82.4020197,-82.4019985,-82.4019772,-82.401956,-82.4019347,-82.4019135,-82.4018927,-82.4018715,-82.4018505,-82.4018295,-82.4018085,-82.4017875,-82.4017665,-82.4017455,-82.4017243,-82.4017033,-82.4016822,-82.401661,-82.40164,-82.4016188,-82.4015975,-82.4015765,-82.4015552,-82.401534,-82.4015128,-82.4014915,-82.4014705,-82.4014493,-82.4014283,-82.4014073,-82.4013863,-82.4013653,-82.4013445,-82.4013237,-82.4013028,-82.4012822,-82.4012615,-82.401241,-82.4012205,-82.4012002,-82.40118,-82.4011598,-82.4011397,-82.4011197,-82.4010997,-82.40108,-82.4010602,-82.4010405,-82.401021,-82.4010015,-82.4009822,-82.4009628,-82.4009435,-82.4009242,-82.4009048,-82.4008855,-82.4008662,-82.400847,-82.4008275,-82.4008083,-82.4007892,-82.4007697,-82.4007503,-82.4007312,-82.4007118,-82.4006927,-82.4006735,-82.4006542,-82.4006352,-82.400616,-82.400597,-82.4005778,-82.4005587,-82.4005397,-82.4005208,-82.4005017,-82.4004828,-82.400464,-82.4004452,-82.4004263,-82.4004075,-82.4003887,-82.4003698,-82.4003512,-82.4003323,-82.4003135,-82.4002948,-82.4002762,-82.4002573,-82.400239,-82.4002203,-82.4002017,-82.400183,-82.4001643,-82.4001458,-82.4001273,-82.4001087,-82.4000903,-82.4000718,-82.4000533,-82.400035,-82.4000167,-82.3999982,-82.3999798,-82.3999617,-82.3999433,-82.399925,-82.3999067,-82.3998885,-82.3998702,-82.3998518,-82.3998337,-82.3998153,-82.3997972,-82.3997788,-82.3997607,-82.3997425,-82.3997243,-82.3997063,-82.3996882,-82.3996702,-82.399652,-82.399634,-82.3996158,-82.3995978,-82.3995797,-82.3995617,-82.3995437,-82.3995258,-82.3995078,-82.39949,-82.3994722,-82.3994543,-82.3994365,-82.3994187,-82.3994008,-82.399383,-82.3993652,-82.3993473,-82.3993297,-82.399312,-82.3992943,-82.3992768,-82.3992592,-82.3992415,-82.399224,-82.3992065,-82.3991893,-82.399172,-82.3991547,-82.3991378,-82.3991207,-82.399104,-82.399087,-82.3990705,-82.3990538,-82.3990372,-82.3990208],\"marker\":{\"color\":[1593297862,1593297862,1593297863,1593297863,1593297863,1593297863,1593297863,1593297863,1593297863,1593297863,1593297863,1593297863,1593297864,1593297864,1593297864,1593297864,1593297864,1593297864,1593297864,1593297864,1593297864,1593297864,1593297865,1593297865,1593297865,1593297865,1593297865,1593297865,1593297865,1593297865,1593297884,1593297885,1593297885,1593297885,1593297885,1593297885,1593297885,1593297885,1593297885,1593297885,1593297885,1593297886,1593297886,1593297886,1593297886,1593297886,1593297886,1593297886,1593297886,1593297886,1593297886,1593297887,1593297887,1593297887,1593297887,1593297887,1593297887,1593297887,1593297887,1593297887,1593297887,1593297888,1593297888,1593297888,1593297888,1593297888,1593297888,1593297888,1593297888,1593297888,1593297888,1593297889,1593297889,1593297889,1593297889,1593297889,1593297889,1593297889,1593297889,1593297889,1593297889,1593297890,1593297890,1593297890,1593297890,1593297890,1593297890,1593297890,1593297890,1593297890,1593297890,1593297891,1593297891,1593297891,1593297891,1593297891,1593297891,1593297891,1593297891,1593297891,1593297891,1593297892,1593297892,1593297892,1593297892,1593297892,1593297892,1593297892,1593297892,1593297892,1593297892,1593297893,1593297893,1593297893,1593297893,1593297893,1593297893,1593297893,1593297893,1593297893,1593297893,1593297894,1593297894,1593297894,1593297894,1593297894,1593297894,1593297894,1593297894,1593297894,1593297894,1593297895,1593297895,1593297895,1593297895,1593297895,1593297895,1593297895,1593297895,1593297895,1593297895,1593297896,1593297896,1593297896,1593297896,1593297896,1593297896,1593297896,1593297896,1593297896,1593297896,1593297897,1593297897,1593297897,1593297897,1593297897,1593297897,1593297897,1593297897,1593297897,1593297897,1593297898,1593297898,1593297898,1593297898,1593297898,1593297898,1593297898,1593297898,1593297898,1593297898,1593297899,1593297899,1593297899,1593297899,1593297899,1593297899,1593297899,1593297899,1593297899,1593297899,1593297900,1593297900,1593297900,1593297900,1593297900,1593297900,1593297900,1593297900,1593297900,1593297900,1593297901,1593297901,1593297901,1593297901,1593297901,1593297901,1593297901,1593297901,1593297901,1593297901,1593297902,1593297902,1593297902,1593297902,1593297902,1593297902,1593297902,1593297902,1593297902,1593297902,1593297903,1593297903,1593297903,1593297903,1593297903,1593297903,1593297903,1593297903,1593297903,1593297903,1593297904,1593297904,1593297904,1593297904,1593297904,1593297904,1593297904,1593297904,1593297904,1593297904,1593297905,1593297905,1593297905,1593297905,1593297905,1593297905,1593297905,1593297905,1593297905,1593297905,1593297906,1593297906,1593297906,1593297906,1593297906,1593297906,1593297906,1593297906,1593297906,1593297906,1593297907,1593297907,1593297907,1593297907,1593297907,1593297907,1593297907,1593297907,1593297907,1593297907,1593297908,1593297908,1593297908,1593297908,1593297908,1593297908,1593297908,1593297908,1593297908,1593297908,1593297909,1593297909,1593297909,1593297909,1593297909,1593297909,1593297909,1593297909,1593297909,1593297909,1593297910,1593297910,1593297910,1593297910,1593297910,1593297910,1593297910,1593297910,1593297910,1593297910,1593297911,1593297911,1593297911,1593297911,1593297911,1593297911,1593297911,1593297911,1593297911,1593297911,1593297912,1593297912,1593297912,1593297912,1593297912,1593297912,1593297912,1593297912,1593297912,1593297912,1593297913,1593297913,1593297913,1593297913,1593297913,1593297913,1593297913,1593297913,1593297913,1593297913,1593297914,1593297914,1593297914,1593297914,1593297914,1593297914,1593297914,1593297914,1593297914,1593297914,1593297915,1593297915,1593297915,1593297915,1593297915,1593297915,1593297915,1593297915,1593297915,1593297915,1593297916,1593297916,1593297916,1593297916,1593297916,1593297916,1593297916,1593297916,1593297916,1593297916,1593297917,1593297917,1593297917,1593297917,1593297917,1593297917,1593297917,1593297917,1593297917,1593297917,1593297918,1593297918,1593297918,1593297918,1593297918,1593297918,1593297918,1593297918,1593297918,1593297918,1593297919,1593297919,1593297919,1593297919,1593297919,1593297919,1593297919,1593297919,1593297919,1593297919,1593297920,1593297920,1593297920,1593297920,1593297920,1593297920,1593297920,1593297920,1593297920,1593297920,1593297921,1593297921,1593297921,1593297921,1593297921,1593297921,1593297921,1593297921,1593297921,1593297921,1593297922,1593297922,1593297922,1593297922,1593297922,1593297922,1593297922,1593297922,1593297922,1593297922,1593297923,1593297923,1593297923,1593297923,1593297923,1593297923,1593297923,1593297923,1593297923,1593297923,1593297924,1593297924,1593297924,1593297924,1593297924,1593297924,1593297924,1593297924,1593297924,1593297924,1593297925,1593297925,1593297925,1593297925,1593297925,1593297925,1593297925,1593297925,1593297925,1593297925,1593297926,1593297926,1593297926,1593297926,1593297926,1593297926,1593297926,1593297926,1593297926,1593297926,1593297927,1593297927,1593297927,1593297927,1593297927,1593297927,1593297927,1593297927,1593297927,1593297927,1593297928,1593297928,1593297928,1593297928,1593297928,1593297928,1593297928,1593297928,1593297928,1593297928,1593297929,1593297929,1593297929,1593297929,1593297929,1593297929,1593297929,1593297929,1593297929,1593297929,1593297930,1593297930,1593297930,1593297930,1593297930,1593297930,1593297930,1593297930,1593297930,1593297930,1593297931,1593297931,1593297931,1593297931,1593297931,1593297931,1593297931,1593297931,1593297931,1593297931,1593297932,1593297932,1593297932,1593297932,1593297932,1593297932,1593297932,1593297932,1593297932,1593297932,1593297933,1593297933,1593297933,1593297933,1593297933,1593297933,1593297933,1593297933,1593297933,1593297933,1593297934,1593297934,1593297934,1593297934,1593297934,1593297934,1593297934,1593297934,1593297934,1593297934,1593297935,1593297935,1593297935,1593297935,1593297935,1593297935,1593297935,1593297935,1593297935,1593297935,1593297936,1593297936,1593297936,1593297936,1593297936,1593297936,1593297936,1593297936,1593297936,1593297936,1593297937,1593297937,1593297937,1593297937,1593297937,1593297937,1593297937,1593297937,1593297937,1593297937,1593297938,1593297938,1593297938,1593297938,1593297938,1593297938,1593297938,1593297938,1593297938,1593297938,1593297939,1593297939,1593297939,1593297939,1593297939,1593297939,1593297939,1593297939,1593297939,1593297939,1593297940,1593297940,1593297940,1593297940,1593297940,1593297940,1593297940,1593297940,1593297940,1593297940,1593297941,1593297941,1593297941,1593297941,1593297941,1593297941,1593297941,1593297941,1593297941,1593297941,1593297942,1593297942,1593297942,1593297942,1593297942,1593297942,1593297942,1593297942,1593297942,1593297942,1593297943,1593297943,1593297943,1593297943,1593297943,1593297943,1593297943,1593297943,1593297943,1593297943,1593297944,1593297944,1593297944,1593297944,1593297944,1593297944,1593297944,1593297944,1593297944,1593297944,1593297945,1593297945,1593297945,1593297945,1593297945,1593297945,1593297945,1593297945,1593297945,1593297945,1593297946,1593297946,1593297946,1593297946,1593297946,1593297946,1593297946,1593297946,1593297946,1593297946,1593297947,1593297947,1593297947,1593297947,1593297947,1593297947,1593297947,1593297947,1593297947,1593297947,1593297948,1593297948,1593297948,1593297948,1593297948,1593297948,1593297948,1593297948,1593297948,1593297948,1593297949,1593297949,1593297949,1593297949,1593297949,1593297949,1593297949,1593297949,1593297949,1593297949,1593297950,1593297950,1593297950,1593297950,1593297950,1593297950,1593297950,1593297950,1593297950,1593297950,1593297951,1593297951,1593297951,1593297951,1593297951,1593297951,1593297951,1593297951,1593297951,1593297951,1593297952,1593297952,1593297952,1593297952,1593297952,1593297952,1593297952,1593297952,1593297952,1593297952,1593297953,1593297953,1593297953,1593297953,1593297953,1593297953,1593297953,1593297953,1593297953,1593297953,1593297954,1593297954,1593297954,1593297954,1593297954,1593297954,1593297954,1593297954,1593297954,1593297954,1593297955,1593297955,1593297955,1593297955,1593297955,1593297955,1593297955,1593297955,1593297955,1593297955,1593297956,1593297956,1593297956,1593297956,1593297956,1593297956,1593297956,1593297956,1593297956,1593297956,1593297957,1593297957,1593297957,1593297957,1593297957,1593297957,1593297957,1593297957,1593297957,1593297957,1593297958,1593297958,1593297958,1593297958,1593297958,1593297958,1593297958,1593297958,1593297958,1593297958,1593297959,1593297959,1593297959,1593297959,1593297959,1593297959,1593297959,1593297959,1593297959,1593297959,1593297960,1593297960,1593297960,1593297960,1593297960,1593297960,1593297960,1593297960,1593297960,1593297960,1593297961,1593297961,1593297961,1593297961,1593297961,1593297961,1593297961,1593297961,1593297961,1593297961,1593297962,1593297962,1593297962,1593297962,1593297962,1593297962,1593297962,1593297962,1593297962,1593297962,1593297963,1593297963,1593297963,1593297963,1593297963,1593297963,1593297963,1593297963,1593297963,1593297963,1593297964,1593297964,1593297964,1593297964,1593297964,1593297964,1593297964,1593297964,1593297964,1593297964,1593297965,1593297965,1593297965,1593297965,1593297965,1593297965,1593297965,1593297965,1593297965,1593297965,1593297966,1593297966,1593297966,1593297966,1593297966,1593297966,1593297966,1593297966,1593297966,1593297966,1593297967,1593297967,1593297967,1593297967,1593297967,1593297967,1593297967,1593297967,1593297967,1593297967,1593297968,1593297968,1593297968,1593297968,1593297968,1593297968,1593297968,1593297968,1593297968,1593297968,1593297969,1593297969,1593297969,1593297969,1593297969,1593297969,1593297969,1593297969,1593297969,1593297969,1593297970,1593297970,1593297970,1593297970,1593297970,1593297970,1593297970,1593297970,1593297970,1593297970,1593297971,1593297971,1593297971,1593297971,1593297971,1593297971,1593297971,1593297971,1593297971,1593297971,1593297972,1593297972,1593297972,1593297972,1593297972,1593297972,1593297972,1593297972,1593297972,1593297972,1593297973,1593297973,1593297973,1593297973,1593297973,1593297973,1593297973,1593297973,1593297973,1593297973,1593297974,1593297974,1593297974,1593297974,1593297974,1593297974,1593297974,1593297974,1593297974,1593297974,1593297975,1593297975,1593297975,1593297975,1593297975,1593297975,1593297975,1593297975,1593297975,1593297975,1593297976,1593297976,1593297976,1593297976,1593297976,1593297976,1593297976,1593297976,1593297976,1593297976,1593297977,1593297977,1593297977],\"coloraxis\":\"coloraxis\",\"size\":6},\"mode\":\"markers\",\"name\":\"\",\"showlegend\":false,\"subplot\":\"mapbox\",\"type\":\"scattermapbox\"}],                        {\"template\":{\"data\":{\"bar\":[{\"error_x\":{\"color\":\"#2a3f5f\"},\"error_y\":{\"color\":\"#2a3f5f\"},\"marker\":{\"line\":{\"color\":\"#E5ECF6\",\"width\":0.5},\"pattern\":{\"fillmode\":\"overlay\",\"size\":10,\"solidity\":0.2}},\"type\":\"bar\"}],\"barpolar\":[{\"marker\":{\"line\":{\"color\":\"#E5ECF6\",\"width\":0.5},\"pattern\":{\"fillmode\":\"overlay\",\"size\":10,\"solidity\":0.2}},\"type\":\"barpolar\"}],\"carpet\":[{\"aaxis\":{\"endlinecolor\":\"#2a3f5f\",\"gridcolor\":\"white\",\"linecolor\":\"white\",\"minorgridcolor\":\"white\",\"startlinecolor\":\"#2a3f5f\"},\"baxis\":{\"endlinecolor\":\"#2a3f5f\",\"gridcolor\":\"white\",\"linecolor\":\"white\",\"minorgridcolor\":\"white\",\"startlinecolor\":\"#2a3f5f\"},\"type\":\"carpet\"}],\"choropleth\":[{\"colorbar\":{\"outlinewidth\":0,\"ticks\":\"\"},\"type\":\"choropleth\"}],\"contour\":[{\"colorbar\":{\"outlinewidth\":0,\"ticks\":\"\"},\"colorscale\":[[0.0,\"#0d0887\"],[0.1111111111111111,\"#46039f\"],[0.2222222222222222,\"#7201a8\"],[0.3333333333333333,\"#9c179e\"],[0.4444444444444444,\"#bd3786\"],[0.5555555555555556,\"#d8576b\"],[0.6666666666666666,\"#ed7953\"],[0.7777777777777778,\"#fb9f3a\"],[0.8888888888888888,\"#fdca26\"],[1.0,\"#f0f921\"]],\"type\":\"contour\"}],\"contourcarpet\":[{\"colorbar\":{\"outlinewidth\":0,\"ticks\":\"\"},\"type\":\"contourcarpet\"}],\"heatmap\":[{\"colorbar\":{\"outlinewidth\":0,\"ticks\":\"\"},\"colorscale\":[[0.0,\"#0d0887\"],[0.1111111111111111,\"#46039f\"],[0.2222222222222222,\"#7201a8\"],[0.3333333333333333,\"#9c179e\"],[0.4444444444444444,\"#bd3786\"],[0.5555555555555556,\"#d8576b\"],[0.6666666666666666,\"#ed7953\"],[0.7777777777777778,\"#fb9f3a\"],[0.8888888888888888,\"#fdca26\"],[1.0,\"#f0f921\"]],\"type\":\"heatmap\"}],\"heatmapgl\":[{\"colorbar\":{\"outlinewidth\":0,\"ticks\":\"\"},\"colorscale\":[[0.0,\"#0d0887\"],[0.1111111111111111,\"#46039f\"],[0.2222222222222222,\"#7201a8\"],[0.3333333333333333,\"#9c179e\"],[0.4444444444444444,\"#bd3786\"],[0.5555555555555556,\"#d8576b\"],[0.6666666666666666,\"#ed7953\"],[0.7777777777777778,\"#fb9f3a\"],[0.8888888888888888,\"#fdca26\"],[1.0,\"#f0f921\"]],\"type\":\"heatmapgl\"}],\"histogram\":[{\"marker\":{\"pattern\":{\"fillmode\":\"overlay\",\"size\":10,\"solidity\":0.2}},\"type\":\"histogram\"}],\"histogram2d\":[{\"colorbar\":{\"outlinewidth\":0,\"ticks\":\"\"},\"colorscale\":[[0.0,\"#0d0887\"],[0.1111111111111111,\"#46039f\"],[0.2222222222222222,\"#7201a8\"],[0.3333333333333333,\"#9c179e\"],[0.4444444444444444,\"#bd3786\"],[0.5555555555555556,\"#d8576b\"],[0.6666666666666666,\"#ed7953\"],[0.7777777777777778,\"#fb9f3a\"],[0.8888888888888888,\"#fdca26\"],[1.0,\"#f0f921\"]],\"type\":\"histogram2d\"}],\"histogram2dcontour\":[{\"colorbar\":{\"outlinewidth\":0,\"ticks\":\"\"},\"colorscale\":[[0.0,\"#0d0887\"],[0.1111111111111111,\"#46039f\"],[0.2222222222222222,\"#7201a8\"],[0.3333333333333333,\"#9c179e\"],[0.4444444444444444,\"#bd3786\"],[0.5555555555555556,\"#d8576b\"],[0.6666666666666666,\"#ed7953\"],[0.7777777777777778,\"#fb9f3a\"],[0.8888888888888888,\"#fdca26\"],[1.0,\"#f0f921\"]],\"type\":\"histogram2dcontour\"}],\"mesh3d\":[{\"colorbar\":{\"outlinewidth\":0,\"ticks\":\"\"},\"type\":\"mesh3d\"}],\"parcoords\":[{\"line\":{\"colorbar\":{\"outlinewidth\":0,\"ticks\":\"\"}},\"type\":\"parcoords\"}],\"pie\":[{\"automargin\":true,\"type\":\"pie\"}],\"scatter\":[{\"marker\":{\"colorbar\":{\"outlinewidth\":0,\"ticks\":\"\"}},\"type\":\"scatter\"}],\"scatter3d\":[{\"line\":{\"colorbar\":{\"outlinewidth\":0,\"ticks\":\"\"}},\"marker\":{\"colorbar\":{\"outlinewidth\":0,\"ticks\":\"\"}},\"type\":\"scatter3d\"}],\"scattercarpet\":[{\"marker\":{\"colorbar\":{\"outlinewidth\":0,\"ticks\":\"\"}},\"type\":\"scattercarpet\"}],\"scattergeo\":[{\"marker\":{\"colorbar\":{\"outlinewidth\":0,\"ticks\":\"\"}},\"type\":\"scattergeo\"}],\"scattergl\":[{\"marker\":{\"colorbar\":{\"outlinewidth\":0,\"ticks\":\"\"}},\"type\":\"scattergl\"}],\"scattermapbox\":[{\"marker\":{\"colorbar\":{\"outlinewidth\":0,\"ticks\":\"\"}},\"type\":\"scattermapbox\"}],\"scatterpolar\":[{\"marker\":{\"colorbar\":{\"outlinewidth\":0,\"ticks\":\"\"}},\"type\":\"scatterpolar\"}],\"scatterpolargl\":[{\"marker\":{\"colorbar\":{\"outlinewidth\":0,\"ticks\":\"\"}},\"type\":\"scatterpolargl\"}],\"scatterternary\":[{\"marker\":{\"colorbar\":{\"outlinewidth\":0,\"ticks\":\"\"}},\"type\":\"scatterternary\"}],\"surface\":[{\"colorbar\":{\"outlinewidth\":0,\"ticks\":\"\"},\"colorscale\":[[0.0,\"#0d0887\"],[0.1111111111111111,\"#46039f\"],[0.2222222222222222,\"#7201a8\"],[0.3333333333333333,\"#9c179e\"],[0.4444444444444444,\"#bd3786\"],[0.5555555555555556,\"#d8576b\"],[0.6666666666666666,\"#ed7953\"],[0.7777777777777778,\"#fb9f3a\"],[0.8888888888888888,\"#fdca26\"],[1.0,\"#f0f921\"]],\"type\":\"surface\"}],\"table\":[{\"cells\":{\"fill\":{\"color\":\"#EBF0F8\"},\"line\":{\"color\":\"white\"}},\"header\":{\"fill\":{\"color\":\"#C8D4E3\"},\"line\":{\"color\":\"white\"}},\"type\":\"table\"}]},\"layout\":{\"annotationdefaults\":{\"arrowcolor\":\"#2a3f5f\",\"arrowhead\":0,\"arrowwidth\":1},\"autotypenumbers\":\"strict\",\"coloraxis\":{\"colorbar\":{\"outlinewidth\":0,\"ticks\":\"\"}},\"colorscale\":{\"diverging\":[[0,\"#8e0152\"],[0.1,\"#c51b7d\"],[0.2,\"#de77ae\"],[0.3,\"#f1b6da\"],[0.4,\"#fde0ef\"],[0.5,\"#f7f7f7\"],[0.6,\"#e6f5d0\"],[0.7,\"#b8e186\"],[0.8,\"#7fbc41\"],[0.9,\"#4d9221\"],[1,\"#276419\"]],\"sequential\":[[0.0,\"#0d0887\"],[0.1111111111111111,\"#46039f\"],[0.2222222222222222,\"#7201a8\"],[0.3333333333333333,\"#9c179e\"],[0.4444444444444444,\"#bd3786\"],[0.5555555555555556,\"#d8576b\"],[0.6666666666666666,\"#ed7953\"],[0.7777777777777778,\"#fb9f3a\"],[0.8888888888888888,\"#fdca26\"],[1.0,\"#f0f921\"]],\"sequentialminus\":[[0.0,\"#0d0887\"],[0.1111111111111111,\"#46039f\"],[0.2222222222222222,\"#7201a8\"],[0.3333333333333333,\"#9c179e\"],[0.4444444444444444,\"#bd3786\"],[0.5555555555555556,\"#d8576b\"],[0.6666666666666666,\"#ed7953\"],[0.7777777777777778,\"#fb9f3a\"],[0.8888888888888888,\"#fdca26\"],[1.0,\"#f0f921\"]]},\"colorway\":[\"#636efa\",\"#EF553B\",\"#00cc96\",\"#ab63fa\",\"#FFA15A\",\"#19d3f3\",\"#FF6692\",\"#B6E880\",\"#FF97FF\",\"#FECB52\"],\"font\":{\"color\":\"#2a3f5f\"},\"geo\":{\"bgcolor\":\"white\",\"lakecolor\":\"white\",\"landcolor\":\"#E5ECF6\",\"showlakes\":true,\"showland\":true,\"subunitcolor\":\"white\"},\"hoverlabel\":{\"align\":\"left\"},\"hovermode\":\"closest\",\"mapbox\":{\"style\":\"light\"},\"paper_bgcolor\":\"white\",\"plot_bgcolor\":\"#E5ECF6\",\"polar\":{\"angularaxis\":{\"gridcolor\":\"white\",\"linecolor\":\"white\",\"ticks\":\"\"},\"bgcolor\":\"#E5ECF6\",\"radialaxis\":{\"gridcolor\":\"white\",\"linecolor\":\"white\",\"ticks\":\"\"}},\"scene\":{\"xaxis\":{\"backgroundcolor\":\"#E5ECF6\",\"gridcolor\":\"white\",\"gridwidth\":2,\"linecolor\":\"white\",\"showbackground\":true,\"ticks\":\"\",\"zerolinecolor\":\"white\"},\"yaxis\":{\"backgroundcolor\":\"#E5ECF6\",\"gridcolor\":\"white\",\"gridwidth\":2,\"linecolor\":\"white\",\"showbackground\":true,\"ticks\":\"\",\"zerolinecolor\":\"white\"},\"zaxis\":{\"backgroundcolor\":\"#E5ECF6\",\"gridcolor\":\"white\",\"gridwidth\":2,\"linecolor\":\"white\",\"showbackground\":true,\"ticks\":\"\",\"zerolinecolor\":\"white\"}},\"shapedefaults\":{\"line\":{\"color\":\"#2a3f5f\"}},\"ternary\":{\"aaxis\":{\"gridcolor\":\"white\",\"linecolor\":\"white\",\"ticks\":\"\"},\"baxis\":{\"gridcolor\":\"white\",\"linecolor\":\"white\",\"ticks\":\"\"},\"bgcolor\":\"#E5ECF6\",\"caxis\":{\"gridcolor\":\"white\",\"linecolor\":\"white\",\"ticks\":\"\"}},\"title\":{\"x\":0.05},\"xaxis\":{\"automargin\":true,\"gridcolor\":\"white\",\"linecolor\":\"white\",\"ticks\":\"\",\"title\":{\"standoff\":15},\"zerolinecolor\":\"white\",\"zerolinewidth\":2},\"yaxis\":{\"automargin\":true,\"gridcolor\":\"white\",\"linecolor\":\"white\",\"ticks\":\"\",\"title\":{\"standoff\":15},\"zerolinecolor\":\"white\",\"zerolinewidth\":2}}},\"mapbox\":{\"domain\":{\"x\":[0.0,1.0],\"y\":[0.0,1.0]},\"center\":{\"lat\":36.36302696865829,\"lon\":-82.40843955251573},\"zoom\":12.5,\"accesstoken\":\"pk.eyJ1IjoicHJvZmVzc29ycGF0cmljayIsImEiOiJja3psbGY5eDcxZ3o5Mm9wYWNteXZmZ3A0In0.bwEt4H0OJv4PRHuZrlOQJg\",\"style\":\"mapbox://styles/strym/ckhd00st61aum19noz9h8y8kw\"},\"coloraxis\":{\"colorbar\":{\"title\":{\"text\":\"Time\"}},\"colorscale\":[[0.0,\"black\"],[0.5,\"purple\"],[1.0,\"red\"]]},\"legend\":{\"tracegroupgap\":0},\"title\":{\"text\":\"Drive Route with Mapbox\",\"font\":{\"size\":24},\"xanchor\":\"center\",\"yanchor\":\"top\",\"y\":0.9,\"x\":0.5},\"height\":600,\"width\":1000,\"font\":{\"size\":16}},                        {\"responsive\": true}                    ).then(function(){\n",
              "                            \n",
              "var gd = document.getElementById('3321c492-f702-44e0-a9e5-7ac91538d334');\n",
              "var x = new MutationObserver(function (mutations, observer) {{\n",
              "        var display = window.getComputedStyle(gd).display;\n",
              "        if (!display || display === 'none') {{\n",
              "            console.log([gd, 'removed!']);\n",
              "            Plotly.purge(gd);\n",
              "            observer.disconnect();\n",
              "        }}\n",
              "}});\n",
              "\n",
              "// Listen for the removal of the full notebook cells\n",
              "var notebookContainer = gd.closest('#notebook-container');\n",
              "if (notebookContainer) {{\n",
              "    x.observe(notebookContainer, {childList: true});\n",
              "}}\n",
              "\n",
              "// Listen for the clearing of the current output cell\n",
              "var outputEl = gd.closest('.output');\n",
              "if (outputEl) {{\n",
              "    x.observe(outputEl, {childList: true});\n",
              "}}\n",
              "\n",
              "                        })                };                            </script>        </div>\n",
              "</body>\n",
              "</html>"
            ]
          },
          "metadata": {}
        }
      ],
      "source": [
        "fig = px.scatter_mapbox(gps_df, lat=\"Lat\", lon=\"Long\", color='Time',\n",
        "                  color_continuous_scale=[\"black\", \"purple\", \"red\" ], size_max=30, zoom=12.5,\n",
        "                  height = 600, width = 1000, #center = dict(lat = g.center)\n",
        "                        title='Drive Route with Mapbox',\n",
        "                       #mapbox_style=\"open-street-map\"\n",
        "                       )\n",
        "\n",
        "\n",
        "fig.update_layout(font_size=16,  title={'xanchor': 'center','yanchor': 'top', 'y':0.9, 'x':0.5,}, \n",
        "        title_font_size = 24, mapbox_accesstoken=api_token, mapbox_style = \"mapbox://styles/strym/ckhd00st61aum19noz9h8y8kw\")\n",
        "fig.update_traces(marker=dict(size=6))"
      ]
    },
    {
      "cell_type": "markdown",
      "source": [
        "\n",
        "\n",
        "---\n",
        "\n"
      ],
      "metadata": {
        "id": "uxg5U0TZP61g"
      }
    },
    {
      "cell_type": "markdown",
      "source": [
        "## Mapbox Web Services    \n",
        "\n",
        "The Mapbox web services APIs allow you to programmatically access Mapbox tools and services. You can use these APIs to retrieve information about your account, upload and change resources, use core Mapbox tools, and more.\n",
        "\n",
        "Mapbox APIs are divided into four distinct services: **Maps, Navigation, Search, and Accounts**. Each of these services has its own overview page in the documentation. Overview pages are divided into the individual APIs that make up the service. The documentation for each API is structured by endpoints. An endpoint is a specific method within an API that performs one action and is located at a specific URL.    \n",
        "\n",
        "\n",
        "1. [Maps service](https://docs.mapbox.com/api/maps/)\n",
        "2. [Search service](https://docs.mapbox.com/api/search/)\n",
        "3. [Navigation service](https://docs.mapbox.com/api/navigation/)\n",
        "4. [Accounts service](https://docs.mapbox.com/api/accounts/) "
      ],
      "metadata": {
        "id": "q5q50UWyP8Yv"
      }
    },
    {
      "cell_type": "markdown",
      "source": [
        "### Geocoding Mapbox API\n",
        "\n",
        "One of the Mapbox search API endpoints is the Geocoding API which can be consider as an alternative to using a Google API service for looking up the longitude and latitude of a location.  Mapbox also provides functionality to lookup a longitude:latitude pair and return the nearby location and for snapping to a location. "
      ],
      "metadata": {
        "id": "uBRzwONERS2E"
      }
    },
    {
      "cell_type": "markdown",
      "source": [
        "```\n",
        "# Endpoint for Mapbox geolocation API - replace {search_text} with a string \n",
        "https://api.mapbox.com/geocoding/v5/mapbox.places/{search_text}.json\n",
        "```"
      ],
      "metadata": {
        "id": "VdOIuqjCv8Hd"
      }
    },
    {
      "cell_type": "markdown",
      "source": [
        "Optional parameters for the Mapbox search geocode API include the following:\n",
        "\n",
        "* proximity\n",
        "* language\n",
        "* country\n",
        "* types - to specify tags of location types (place, postcode, etc.)\n",
        "* limit - to restrict the number of items returned  "
      ],
      "metadata": {
        "id": "Rggb623ESKPS"
      }
    },
    {
      "cell_type": "markdown",
      "source": [
        "\n",
        "\n",
        "---\n",
        "\n"
      ],
      "metadata": {
        "id": "2swmv6oWBKmT"
      }
    },
    {
      "cell_type": "code",
      "source": [
        "# to display the current plotly figure object\n",
        "\n",
        "fig.show()"
      ],
      "metadata": {
        "id": "Ou84tF-fmoY2"
      },
      "execution_count": null,
      "outputs": []
    },
    {
      "cell_type": "markdown",
      "source": [
        "\n",
        "\n",
        "---\n",
        "\n"
      ],
      "metadata": {
        "id": "0raxoJUFt3dZ"
      }
    },
    {
      "cell_type": "markdown",
      "source": [
        "## Kaleido Writing Figure to Files"
      ],
      "metadata": {
        "id": "iPFb89yBxBHm"
      }
    },
    {
      "cell_type": "markdown",
      "source": [
        "[Kaleido](https://medium.com/plotly/introducing-kaleido-b03c4b7b1d81) is a cross-platform library for generating static images (e.g. png, svg, pdf, etc.) ... **js** images from Python for use by `plotly.py`, but it is designed to be relatively straight-forward to extend to other web-based visualization libraries, and other programming languages.    \n",
        "\n",
        "The goal of the Kaleido project is to make static image export of web-based visualization libraries as universally available and reliable as it is in **matplotlib** and **ggplot2**.    \n"
      ],
      "metadata": {
        "id": "Y_5ZZYuJ8-mB"
      }
    },
    {
      "cell_type": "code",
      "source": [
        "# to display the plotly figure-object's methods and attributes\n",
        "dir(fig)  "
      ],
      "metadata": {
        "id": "p-18AO8pslDn"
      },
      "execution_count": null,
      "outputs": []
    },
    {
      "cell_type": "code",
      "execution_count": null,
      "metadata": {
        "id": "KaM-n-AVf4s0"
      },
      "outputs": [],
      "source": [
        "fig.write_image('gps.png')  # This particular write_...() seems finicky"
      ]
    },
    {
      "cell_type": "code",
      "source": [
        "fig.write_html('gps.html')"
      ],
      "metadata": {
        "id": "cgHvrHAbAi5W"
      },
      "execution_count": null,
      "outputs": []
    },
    {
      "cell_type": "markdown",
      "source": [
        "**Plotly Image Export Settings (Kaleido)**\n",
        "\n",
        "Various image export settings can be configured using the `plotly.io.kaleido`.scope object. For example, the `default_format` property can be used to specify that the default export format should be **svg** instead of **png**."
      ],
      "metadata": {
        "id": "i0Rgdh8VFH5J"
      }
    },
    {
      "cell_type": "code",
      "source": [
        "import plotly.io as pio\n",
        "pio.kaleido.scope.default_format = \"svg\""
      ],
      "metadata": {
        "id": "vkbJ3HIRFQHh"
      },
      "execution_count": 11,
      "outputs": []
    },
    {
      "cell_type": "markdown",
      "source": [
        "Here is a complete listing of the available **Kaleido** image export settings:\n",
        "\n",
        "* `default_width`: The default pixel width to use on image export.\n",
        "* `default_height`: The default pixel height to use on image export.\n",
        "* `default_scale`: The default image scale factor applied on image export.\n",
        "* `default_format`: The default image format used on export. One of \"png\", \"jpeg\", \"webp\", \"svg\", \"pdf\", or \"eps\".\n",
        "* `mathjax`: Location of the MathJax bundle needed to render LaTeX characters. Defaults to a CDN location. If fully offline export is required, set this to a local MathJax bundle.\n",
        "* `topojson`: Location of the topojson files needed to render choropleth traces. Defaults to a CDN location. If fully offline export is required, set this to a local directory containing the Plotly.js topojson files.\n",
        "* `mapbox_access_token`: The default Mapbox access token."
      ],
      "metadata": {
        "id": "FdTD4JAkFVVq"
      }
    },
    {
      "cell_type": "markdown",
      "source": [
        "\n",
        "\n",
        "---\n",
        "\n"
      ],
      "metadata": {
        "id": "5SvUIKPitsm4"
      }
    },
    {
      "cell_type": "markdown",
      "metadata": {
        "id": "AfB0CPDCf4s1"
      },
      "source": [
        "## Publishing on Chart Studio"
      ]
    },
    {
      "cell_type": "markdown",
      "source": [
        "from: [Getting Started with Chart Studio in plotly](https://plotly.com/python/getting-started-with-chart-studio/)    \n",
        "\n",
        "Installation and Initialization Steps for Using Chart Studio in Python."
      ],
      "metadata": {
        "id": "7YkJeWdE06wu"
      }
    },
    {
      "cell_type": "markdown",
      "source": [
        "### Installing Chart Studio    \n",
        "\n",
        "*(this step was completed at the start of this notebook -- repeating here for instructional purposes)*"
      ],
      "metadata": {
        "id": "Uf9vusCt1KRg"
      }
    },
    {
      "cell_type": "markdown",
      "source": [
        "To install Chart Studio's python package, use the package manager pip inside your terminal.    \n",
        "\n",
        "If you don't have pip installed on your machine, [click here](https://pip.pypa.io/en/latest/installing.html) for pip's installation instructions.\n",
        "\n",
        "`$ pip install chart_studio`\n",
        "or\n",
        "`$ sudo pip install chart_studio`\n",
        "\n",
        "Plotly's Python package is installed alongside the Chart Studio package and it is updated frequently! To upgrade, run:\n",
        "\n",
        "`$ pip install plotly --upgrade`"
      ],
      "metadata": {
        "id": "rv_G0vUF1ceQ"
      }
    },
    {
      "cell_type": "markdown",
      "source": [
        "### Initialization for Online Plotting    \n",
        "\n",
        "\n",
        "Chart Studio provides a web-service for hosting graphs. [Create a free account](https://plotly.com/api_signup) to get started. Graphs are saved inside a usre's online Chart Studio account.  Each user controls the privacy of their account. Public hosting is free, for private hosting, [see the paid plans](https://plotly.com/products/cloud/).\n",
        "\n",
        "After installing the Chart Studio package, user credentials must be set in Python:\n",
        "\n",
        "```\n",
        "1. import chart_studio\n",
        "2. chart_studio.tools.set_credentials_file(username='DemoAccount', api_key='lr1c37zw')\n",
        "```\n",
        "\n",
        "Replace 'DemoAccount' and 'lr1c37zw81' with the Plotly username and API key.    \n",
        "\n",
        "[Find user account API keys here](https://plotly.com/settings/api).\n",
        "\n",
        "The initialization step places a special `.plotly/.credentials` file in the user's home directory. The `~/.plotly/.credentials` file should look something like this:    \n",
        "\n",
        "```\n",
        "{\n",
        "\"username\": \"DemoAccount\",\n",
        "\"stream_ids\": [\"ylosqsyet5\", \"h2ct8btk1s\", \"oxz4fm883b\"],\n",
        "\"api_key\": \"lr1c37zw81\"\n",
        "}\n",
        "```\n",
        "\n"
      ],
      "metadata": {
        "id": "hYCnguc-12Pl"
      }
    },
    {
      "cell_type": "markdown",
      "source": [
        "Alternatively, the next snippet shows how to take user input of the user name and api token to publish to that Plotly Chart Studio account online.     \n",
        "\n",
        "Professor Patrick's credentials on plotly Chart Studio:\n",
        "\n",
        "**User** - `professorpatrick` \n",
        "\n",
        "**Chart Studio API token** - `oBPoJkrGEAXCd4pqSAMO`"
      ],
      "metadata": {
        "id": "GbYykiCj3rut"
      }
    },
    {
      "cell_type": "code",
      "execution_count": 12,
      "metadata": {
        "id": "jvLCWuEAf4s1",
        "colab": {
          "base_uri": "https://localhost:8080/"
        },
        "outputId": "f55b6880-fad7-4211-e156-880384a5f350"
      },
      "outputs": [
        {
          "name": "stdout",
          "output_type": "stream",
          "text": [
            "Enter Chart Studio API Token: oBPoJkrGEAXCd4pqSAMO\n",
            "Enter username: professorpatrick\n"
          ]
        }
      ],
      "source": [
        "# Preparing requisite Chart Studio details\n",
        "import chart_studio.plotly as py\n",
        "# import chart_studio  # already imported at the start of this notebook\n",
        "plotly_api_ket = input(\"Enter Chart Studio API Token: \")\n",
        "user_name = input(\"Enter username: \")"
      ]
    },
    {
      "cell_type": "code",
      "execution_count": 13,
      "metadata": {
        "id": "ZuDxxlBzf4s1",
        "colab": {
          "base_uri": "https://localhost:8080/",
          "height": 35
        },
        "outputId": "2f9a9014-a233-4d14-d96a-bab1518b8919"
      },
      "outputs": [
        {
          "output_type": "execute_result",
          "data": {
            "text/plain": [
              "'https://plotly.com/~professorpatrick/1/'"
            ],
            "application/vnd.google.colaboratory.intrinsic+json": {
              "type": "string"
            }
          },
          "metadata": {},
          "execution_count": 13
        }
      ],
      "source": [
        "# Setting credential and publishing to Chart Studio\n",
        "chart_studio.tools.set_credentials_file(username=user_name, api_key=plotly_api_ket)\n",
        "py.plot(fig, filename = 'mapbox_express', auto_open=True)"
      ]
    },
    {
      "cell_type": "code",
      "source": [
        "fig.show()"
      ],
      "metadata": {
        "id": "d8nBFApOwhEP"
      },
      "execution_count": null,
      "outputs": []
    },
    {
      "cell_type": "markdown",
      "source": [
        "An example output from MapBox to plotly Chart Studio can be found at:    \n",
        "\n",
        "`https://plotly.com/~professorpatrick/1/`"
      ],
      "metadata": {
        "id": "VqMCtFa2UxNg"
      }
    },
    {
      "cell_type": "markdown",
      "source": [
        "\n",
        "\n",
        "---\n",
        "\n"
      ],
      "metadata": {
        "id": "ZUQeGF0BxeOY"
      }
    }
  ],
  "metadata": {
    "kernelspec": {
      "display_name": "Python 3",
      "name": "python3"
    },
    "language_info": {
      "name": "python"
    },
    "colab": {
      "provenance": [],
      "include_colab_link": true
    }
  },
  "nbformat": 4,
  "nbformat_minor": 0
}