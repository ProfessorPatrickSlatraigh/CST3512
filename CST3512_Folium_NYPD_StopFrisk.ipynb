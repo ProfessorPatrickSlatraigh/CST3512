{
  "nbformat": 4,
  "nbformat_minor": 0,
  "metadata": {
    "colab": {
      "provenance": [],
      "authorship_tag": "ABX9TyOZbtBnZCP5Y6mMNpSOVoqx",
      "include_colab_link": true
    },
    "kernelspec": {
      "name": "python3",
      "display_name": "Python 3"
    },
    "language_info": {
      "name": "python"
    }
  },
  "cells": [
    {
      "cell_type": "markdown",
      "metadata": {
        "id": "view-in-github",
        "colab_type": "text"
      },
      "source": [
        "<a href=\"https://colab.research.google.com/github/ProfessorPatrickSlatraigh/CST3512/blob/main/CST3512_Folium_NYPD_StopFrisk.ipynb\" target=\"_parent\"><img src=\"https://colab.research.google.com/assets/colab-badge.svg\" alt=\"Open In Colab\"/></a>"
      ]
    },
    {
      "cell_type": "markdown",
      "source": [
        "#Folium Choropleth Map of NYPD StopFrisk 2020 Data by ZIP Code    \n",
        "\n",
        "**originally by Louis Casanave**     \n",
        "*Louis is a Data Scientist from Brooklyn, NY*     \n",
        "\n",
        "['Using Folium on Police Data: Say YES to the MESS with Choropleths' on Medium](https://towardsdatascience.com/using-folium-on-police-data-3207e505c649) -- *Louis's original article uses 2020 data*.  \n",
        "    "
      ],
      "metadata": {
        "id": "qNYxxrWsPGYv"
      }
    },
    {
      "cell_type": "markdown",
      "source": [
        "##Housekeeping    "
      ],
      "metadata": {
        "id": "Jt2j-1_rX5m2"
      }
    },
    {
      "cell_type": "markdown",
      "source": [
        "###Import the usual suspects    "
      ],
      "metadata": {
        "id": "kMLf-xqVX77A"
      }
    },
    {
      "cell_type": "code",
      "source": [
        "import pandas as pd\n",
        "import folium"
      ],
      "metadata": {
        "id": "0yUjMccmOdMj"
      },
      "execution_count": 2,
      "outputs": []
    },
    {
      "cell_type": "markdown",
      "source": [
        "###Load data files to current working directory    "
      ],
      "metadata": {
        "id": "jTcyz3-IX_ew"
      }
    },
    {
      "cell_type": "code",
      "source": [
        "# load geojson file of NYC map areas from Louis Casanove Github raw file\n",
        "!curl https://raw.githubusercontent.com/ProfessorPatrickSlatraigh/geo/main/nyc-zip-code-tabulation-areas-polygons.geojson -o \"nyc-zip-code-tabulation-areas-polygons.geojson\""
      ],
      "metadata": {
        "id": "MQu5G6zCTm7U"
      },
      "execution_count": null,
      "outputs": []
    },
    {
      "cell_type": "code",
      "source": [
        "# the following `curl` statement may be used to pull a local copy of the 2021 data file\n",
        "!curl https://raw.githubusercontent.com/ProfessorPatrickSlatraigh/data/main/nypd_StopFrisk_2020.csv -o \"nypd_StopFrisk_2020.csv\""
      ],
      "metadata": {
        "id": "zIBHZIMkQDQu"
      },
      "execution_count": null,
      "outputs": []
    },
    {
      "cell_type": "markdown",
      "source": [
        "##Data Wrangling   "
      ],
      "metadata": {
        "id": "ViQYb3MyYE7I"
      }
    },
    {
      "cell_type": "markdown",
      "source": [
        "###Create a `sf_df` DataFrame for the source stop and frisk data    "
      ],
      "metadata": {
        "id": "FkLYO90rYIfm"
      }
    },
    {
      "cell_type": "code",
      "source": [
        "sf_df = pd.read_csv('/content/nypd_StopFrisk_2020.csv')"
      ],
      "metadata": {
        "id": "L311LvHzPGvD"
      },
      "execution_count": 5,
      "outputs": []
    },
    {
      "cell_type": "markdown",
      "source": [
        "####Inspect the initial data    "
      ],
      "metadata": {
        "id": "bb59pBwZYREa"
      }
    },
    {
      "cell_type": "code",
      "source": [
        "# saving the shape so we can use it later \n",
        "sf_shape = sf_df.shape\n",
        "sf_shape"
      ],
      "metadata": {
        "id": "MqfjjmfqPxK_"
      },
      "execution_count": null,
      "outputs": []
    },
    {
      "cell_type": "code",
      "source": [
        "# taking a look at what columns we have in the data\n",
        "sf_cols = sf_df.columns\n",
        "sf_cols"
      ],
      "metadata": {
        "id": "STQ7774_Q7MS"
      },
      "execution_count": null,
      "outputs": []
    },
    {
      "cell_type": "markdown",
      "source": [
        "###Keep only the necessary data in a new `zip_code_frequency_df` DataFrame"
      ],
      "metadata": {
        "id": "K7fYstiKYVTT"
      }
    },
    {
      "cell_type": "code",
      "source": [
        "zipcode_frequency_df = sf_df.drop(columns = ['STOP_FRISK_DATE', 'STOP_FRISK_TIME', 'YEAR2', 'MONTH2',\n",
        "       'DAY2', 'STOP_WAS_INITIATED', 'RECORD_STATUS_CODE',\n",
        "       'ISSUING_OFFICER_RANK', 'ISSUING_OFFICER_COMMAND_CODE',\n",
        "       'SUPERVISING_OFFICER_RANK', 'SUPERVISING_OFFICER_COMMAND_CODE',\n",
        "       'LOCATION_IN_OUT_CODE', 'JURISDICTION_CODE', 'JURISDICTION_DESCRIPTION',\n",
        "       'OBSERVED_DURATION_MINUTES', 'SUSPECTED_CRIME_DESCRIPTION',\n",
        "       'STOP_DURATION_MINUTES', 'OFFICER_EXPLAINED_STOP_FLAG',\n",
        "       'OFFICER_NOT_EXPLAINED_STOP_DESCRIPTION', 'OTHER_PERSON_STOPPED_FLAG',\n",
        "       'SUSPECT_ARRESTED_FLAG', 'SUSPECT_ARREST_OFFENSE',\n",
        "       'SUMMONS_ISSUED_FLAG', 'SUMMONS_OFFENSE_DESCRIPTION',\n",
        "       'OFFICER_IN_UNIFORM_FLAG', 'ID_CARD_IDENTIFIES_OFFICER_FLAG',\n",
        "       'SHIELD_IDENTIFIES_OFFICER_FLAG', 'VERBAL_IDENTIFIES_OFFICER_FLAG',\n",
        "       'FRISKED_FLAG', 'SEARCHED_FLAG', 'ASK_FOR_CONSENT_FLG',\n",
        "       'CONSENT_GIVEN_FLG', 'OTHER_CONTRABAND_FLAG', 'FIREARM_FLAG',\n",
        "       'KNIFE_CUTTER_FLAG', 'OTHER_WEAPON_FLAG', 'WEAPON_FOUND_FLAG',\n",
        "       'PHYSICAL_FORCE_CEW_FLAG', 'PHYSICAL_FORCE_DRAW_POINT_FIREARM_FLAG',\n",
        "       'PHYSICAL_FORCE_HANDCUFF_SUSPECT_FLAG',\n",
        "       'PHYSICAL_FORCE_OC_SPRAY_USED_FLAG', 'PHYSICAL_FORCE_OTHER_FLAG',\n",
        "       'PHYSICAL_FORCE_RESTRAINT_USED_FLAG',\n",
        "       'PHYSICAL_FORCE_VERBAL_INSTRUCTION_FLAG',\n",
        "       'PHYSICAL_FORCE_WEAPON_IMPACT_FLAG',\n",
        "       'BACKROUND_CIRCUMSTANCES_VIOLENT_CRIME_FLAG',\n",
        "       'BACKROUND_CIRCUMSTANCES_SUSPECT_KNOWN_TO_CARRY_WEAPON_FLAG',\n",
        "       'SUSPECTS_ACTIONS_CASING_FLAG',\n",
        "       'SUSPECTS_ACTIONS_CONCEALED_POSSESSION_WEAPON_FLAG',\n",
        "       'SUSPECTS_ACTIONS_DECRIPTION_FLAG',\n",
        "       'SUSPECTS_ACTIONS_DRUG_TRANSACTIONS_FLAG',\n",
        "       'SUSPECTS_ACTIONS_IDENTIFY_CRIME_PATTERN_FLAG',\n",
        "       'SUSPECTS_ACTIONS_LOOKOUT_FLAG', 'SUSPECTS_ACTIONS_OTHER_FLAG',\n",
        "       'SUSPECTS_ACTIONS_PROXIMITY_TO_SCENE_FLAG',\n",
        "       'SEARCH_BASIS_ADMISSION_FLAG', 'SEARCH_BASIS_CONSENT_FLAG',\n",
        "       'SEARCH_BASIS_HARD_OBJECT_FLAG',\n",
        "       'SEARCH_BASIS_INCIDENTAL_TO_ARREST_FLAG', 'SEARCH_BASIS_OTHER_FLAG',\n",
        "       'SEARCH_BASIS_OUTLINE_FLAG', 'DEMEANOR_CODE',\n",
        "       'DEMEANOR_OF_PERSON_STOPPED', 'SUSPECT_REPORTED_AGE', 'SUSPECT_SEX',\n",
        "       'SUSPECT_RACE_DESCRIPTION', 'SUSPECT_HEIGHT', 'SUSPECT_WEIGHT',\n",
        "       'SUSPECT_BODY_BUILD_TYPE', 'SUSPECT_EYE_COLOR', 'SUSPECT_HAIR_COLOR',\n",
        "       'SUSPECT_OTHER_DESCRIPTION', 'STOP_LOCATION_PRECINCT',\n",
        "       'STOP_LOCATION_SECTOR_CODE', 'STOP_LOCATION_APARTMENT',\n",
        "        'STOP_LOCATION_X', 'STOP_LOCATION_Y',\n",
        "       'STOP_LOCATION_FULL_ADDRESS', 'STOP_LOCATION_STREET_NAME',\n",
        "       'STOP_LOCATION_PATROL_BORO_NAME', 'STOP_LOCATION_BORO_NAME']) \n"
      ],
      "metadata": {
        "id": "XJQxs84VRBcy"
      },
      "execution_count": 8,
      "outputs": []
    },
    {
      "cell_type": "markdown",
      "source": [
        "###Find and Transform Missing Data    "
      ],
      "metadata": {
        "id": "2efDK_XFYpmP"
      }
    },
    {
      "cell_type": "code",
      "source": [
        "# looking for null values\n",
        "zipcode_frequency_df.info()"
      ],
      "metadata": {
        "id": "zv3zznizRJ8j"
      },
      "execution_count": null,
      "outputs": []
    },
    {
      "cell_type": "code",
      "source": [
        "# found the null values as \"(null)\" in dataframe\n",
        "zipcode_frequency_df['STOP_LOCATION_ZIP_CODE'].describe()"
      ],
      "metadata": {
        "id": "kuqXUsTsRax6"
      },
      "execution_count": null,
      "outputs": []
    },
    {
      "cell_type": "code",
      "source": [
        "# displaying the percent of zipcode data missing, rounded to the 0.00% \n",
        "percent_missing = zipcode_frequency_df['STOP_LOCATION_ZIP_CODE'].describe()[3]/sf_shape[0]\n",
        "print(f' This data has {percent_missing:.2f} percent of its zipcode data missing.')"
      ],
      "metadata": {
        "id": "SI0C2ragRfQx"
      },
      "execution_count": null,
      "outputs": []
    },
    {
      "cell_type": "markdown",
      "source": [
        "###Data Aggregation   "
      ],
      "metadata": {
        "id": "gecl1KQRYwg4"
      }
    },
    {
      "cell_type": "code",
      "source": [
        "# this will change all stop ids to 1 for aggregation\n",
        "zipcode_frequency_df['STOP_ID'] = 1\n",
        "\n",
        "# this will aggregate our data\n",
        "zipcode_frequency_df = zipcode_frequency_df.groupby(\"STOP_LOCATION_ZIP_CODE\").count()\n",
        "\n",
        "# now we can see the dataframe as it is now\n",
        "zipcode_frequency_df.head()"
      ],
      "metadata": {
        "id": "HPMxmN12Rjb-"
      },
      "execution_count": null,
      "outputs": []
    },
    {
      "cell_type": "markdown",
      "source": [
        "###Additional Data Transformations     \n",
        " - rename columns\n",
        " - transformation values to strings for mapping \n",
        " - delete null values    "
      ],
      "metadata": {
        "id": "kAFt4kiYYzWB"
      }
    },
    {
      "cell_type": "code",
      "source": [
        "# this will rename our column for clarity and sanity \n",
        "zipcode_frequency_df = zipcode_frequency_df.rename(columns = {'STOP_ID' : 'FREQUENCY'})\n",
        "\n",
        "# making the zipcode information into a string so the map doesn't break\n",
        "zipcode_frequency_df.index = zipcode_frequency_df.index.astype(str)\n",
        "\n",
        "# this will get rid of those null values that we decided to delete and keep track of\n",
        "zipcode_frequency_df = zipcode_frequency_df.loc[zipcode_frequency_df.index != '(null)']"
      ],
      "metadata": {
        "id": "6MHVSEF_Ro8T"
      },
      "execution_count": 13,
      "outputs": []
    },
    {
      "cell_type": "markdown",
      "source": [
        "##Review Data Before Generating a Map    "
      ],
      "metadata": {
        "id": "-YlOSnzOZCtt"
      }
    },
    {
      "cell_type": "code",
      "source": [
        "print(zipcode_frequency_df.head())\n",
        "print(zipcode_frequency_df.tail())"
      ],
      "metadata": {
        "id": "KFLGtSs98rLR"
      },
      "execution_count": null,
      "outputs": []
    },
    {
      "cell_type": "markdown",
      "source": [
        "##Generate a Choropleth Map    \n",
        "\n",
        "*note: there are several changes required since the original article and code.*    "
      ],
      "metadata": {
        "id": "A4LOAvB_ZGmT"
      }
    },
    {
      "cell_type": "code",
      "source": [
        "# making the base map of nyc\n",
        "## the following original statement blows up on kwarg `default_zoom_start`     ##\n",
        "# map = folium.Map(location=[40.693943, -73.985880], default_zoom_start=15)\n",
        "## replaced the Map object creator above with the line below as of Nov-2022    ##\n",
        "map = folium.Map(location=[40.695000, -74.000000], zoom_start=10, min_zoom=10, control_scale=True)\n",
        "\n",
        "# making the base map of nyc\n",
        "\n",
        "# taking the geojson zipcode file, assigning data to my dataframe, \n",
        "# feeding index and instances into columns, key_on zipcode within properties \n",
        "# within feature, setting the color and legend name\n",
        "\n",
        "## the following .choropleth() method is has bee deprecated in Folium          ##\n",
        "## the following code is in Luis's original example, but is replaced w/GeoJson ##  \n",
        "# map.choropleth(geo_data=\"nyc-zip-code-tabulation-areas-polygons.geojson\",\n",
        "#                data=zipcode_frequency_df,\n",
        "#                columns=[zipcode_frequency_df.index, 'FREQUENCY'],\n",
        "#                key_on='feature.properties.postalCode', \n",
        "#                fill_color='YlOrBr', fill_opacity=0.7, line_opacity=0.2,\n",
        "#                legend_name='Frequency')\n",
        "## the deprecated code block is above -- following code is current at Nov-2022 ##\n",
        "\n",
        "# use `.Choropleth()` instead of `.choropleth()`\n",
        "\n",
        "zip_geos = folium.Choropleth(\n",
        "    geo_data=\"nyc-zip-code-tabulation-areas-polygons.geojson\",  # shape of ZIPs\n",
        "    name='choropleth',   \n",
        "    data=zipcode_frequency_df, \n",
        "    columns=[zipcode_frequency_df.index, 'FREQUENCY'],    # by ZIP using FREQUENCY\n",
        "    key_on='feature.properties.postalCode', # feature.properties.postalCode is ZIP\n",
        "    fill_color='YlOrBr',\n",
        "    fill_opacity=0.7,\n",
        "    line_opacity=0.2,\n",
        "    nan_fill_color = \"White\",  # fill in ZIPs with missing data using White  \n",
        "    legend_name='Stop Rate').add_to(map)\n",
        "\n",
        "# folium.GeoJsonTooltip(fields=[\"postalCode\"]).add_to(zip_geos)\n",
        "\n",
        "folium.LayerControl().add_to(map)    # adding layer control  \n",
        "\n",
        "# Display ZIP Label\n",
        "zip_geos.geojson.add_child(\n",
        "    folium.features.GeoJsonTooltip(['postalCode'], labels=False))  # tooltip ZIP\n",
        "\n",
        "map"
      ],
      "metadata": {
        "id": "LTjCaUeCRra1"
      },
      "execution_count": null,
      "outputs": []
    },
    {
      "cell_type": "markdown",
      "source": [
        "\n",
        "\n",
        "---\n",
        "\n"
      ],
      "metadata": {
        "id": "Z5mnEaIghAxX"
      }
    },
    {
      "cell_type": "markdown",
      "source": [
        "Want to practice additional Folium choropleth map skills?    \n",
        "Read ['How to step up your Folium Choropleth Map skills' in TowardDatascience.com](https://towardsdatascience.com/how-to-step-up-your-folium-choropleth-map-skills-17cf6de7c6fe)"
      ],
      "metadata": {
        "id": "bYxrnFyCWkd6"
      }
    },
    {
      "cell_type": "markdown",
      "source": [
        "---"
      ],
      "metadata": {
        "id": "6RvaRSdwW2sy"
      }
    }
  ]
}