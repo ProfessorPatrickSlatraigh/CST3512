{
  "nbformat": 4,
  "nbformat_minor": 0,
  "metadata": {
    "colab": {
      "provenance": [],
      "authorship_tag": "ABX9TyPi5QjOQ/tNtHwFG+P/XWll",
      "include_colab_link": true
    },
    "kernelspec": {
      "name": "python3",
      "display_name": "Python 3"
    },
    "language_info": {
      "name": "python"
    }
  },
  "cells": [
    {
      "cell_type": "markdown",
      "metadata": {
        "id": "view-in-github",
        "colab_type": "text"
      },
      "source": [
        "<a href=\"https://colab.research.google.com/github/ProfessorPatrickSlatraigh/CST3512/blob/main/CST3512_CLXX_Mapping_co2_emmissions.ipynb\" target=\"_parent\"><img src=\"https://colab.research.google.com/assets/colab-badge.svg\" alt=\"Open In Colab\"/></a>"
      ]
    },
    {
      "cell_type": "markdown",
      "source": [
        "#CST3512 Class  \n",
        "**Mapping co2 Data from OWID**     \n",
        "\n",
        "Read a `.csv` file `annual-co2-emissions-per-country.csv` from the current working directory and map emissions data by country.\n",
        "\n",
        " - Read the data into a dataframe  \n",
        "\n",
        " - Ask the user which range of years to map (default to all years)    \n",
        "\n",
        " - Present a Choropleth map of the type of CO2 emission by country (ISO code) for the seleced range of years\n",
        "\n",
        "\n",
        "*this notebook reads a .csv file which distilled data from the OWID file available [online](https://github.com/owid/co2-data).*\n",
        "\n",
        "*the source file read: [annual-co2-emissions-per-country.csv](https://drive.google.com/file/d/1BzgiANIXNqRHnU85vzB3gHTGBesHuz4F/view?usp=sharing)*    \n"
      ],
      "metadata": {
        "id": "y1ktsy_921e1"
      }
    },
    {
      "cell_type": "markdown",
      "source": [
        "---"
      ],
      "metadata": {
        "id": "V3tr0tBY5xrn"
      }
    },
    {
      "cell_type": "markdown",
      "source": [
        "## Houskeeping / Imports"
      ],
      "metadata": {
        "id": "o5utEKMg51dO"
      }
    },
    {
      "cell_type": "markdown",
      "source": [
        "Import the usual suspects. "
      ],
      "metadata": {
        "id": "HSNkoBkWTyM9"
      }
    },
    {
      "cell_type": "code",
      "source": [
        "#import Pandas \n",
        "import pandas as pd\n",
        "\n",
        "#import Numpy\n",
        "import numpy as np "
      ],
      "metadata": {
        "id": "OrNkhd3LBtwJ"
      },
      "execution_count": 78,
      "outputs": []
    },
    {
      "cell_type": "markdown",
      "source": [
        "Install and import `geojson` for map data files."
      ],
      "metadata": {
        "id": "ICMvn-chTrwP"
      }
    },
    {
      "cell_type": "code",
      "source": [
        "# install geojson\n",
        "!pip install geojson"
      ],
      "metadata": {
        "id": "c4eDNQlKHknc"
      },
      "execution_count": null,
      "outputs": []
    },
    {
      "cell_type": "code",
      "source": [
        "# import geojson\n",
        "import geojson "
      ],
      "metadata": {
        "id": "jpy7uanuHaYk"
      },
      "execution_count": 80,
      "outputs": []
    },
    {
      "cell_type": "markdown",
      "source": [
        "Install and import `geopandas`    "
      ],
      "metadata": {
        "id": "7cm-U4YPUB2z"
      }
    },
    {
      "cell_type": "code",
      "source": [
        "# install geopandas\n",
        "!pip install geopandas"
      ],
      "metadata": {
        "id": "o-IOS73O3V6q"
      },
      "execution_count": null,
      "outputs": []
    },
    {
      "cell_type": "code",
      "source": [
        "# import geopandas and folium \n",
        "import geopandas as gpd "
      ],
      "metadata": {
        "id": "xDXu-Es43Iiq"
      },
      "execution_count": 82,
      "outputs": []
    },
    {
      "cell_type": "markdown",
      "source": [
        "Import `folium` and desired `folium` objects    "
      ],
      "metadata": {
        "id": "BmTykD8iUNBD"
      }
    },
    {
      "cell_type": "code",
      "source": [
        "import folium\n",
        "from folium import plugins\n",
        "from folium.features import GeoJsonTooltip"
      ],
      "metadata": {
        "id": "BRCQiPddURff"
      },
      "execution_count": 83,
      "outputs": []
    },
    {
      "cell_type": "markdown",
      "source": [
        "Import `matplotlib`    "
      ],
      "metadata": {
        "id": "XbQ-fT6DBiYo"
      }
    },
    {
      "cell_type": "code",
      "source": [
        "import matplotlib"
      ],
      "metadata": {
        "id": "4MR7ZdUyBlvv"
      },
      "execution_count": 84,
      "outputs": []
    },
    {
      "cell_type": "markdown",
      "source": [
        "Intall and import a utility function for producing Jenks Natural Breaks     "
      ],
      "metadata": {
        "id": "KlpVyFQaBtwc"
      }
    },
    {
      "cell_type": "code",
      "source": [
        "!pip install jenkspy"
      ],
      "metadata": {
        "id": "gbkDy0zrB8vO"
      },
      "execution_count": null,
      "outputs": []
    },
    {
      "cell_type": "code",
      "source": [
        "import jenkspy"
      ],
      "metadata": {
        "id": "-1J8SZzeBxgj"
      },
      "execution_count": 86,
      "outputs": []
    },
    {
      "cell_type": "markdown",
      "source": [
        "Optional: Import **requests**, if desired    "
      ],
      "metadata": {
        "id": "SYFNl4HBhyBF"
      }
    },
    {
      "cell_type": "code",
      "source": [
        "import requests"
      ],
      "metadata": {
        "id": "0bjUOEneh2Te"
      },
      "execution_count": 88,
      "outputs": []
    },
    {
      "cell_type": "markdown",
      "source": [
        "Optional: Import **JSON** library, if desired    "
      ],
      "metadata": {
        "id": "VytfI-h6f4AS"
      }
    },
    {
      "cell_type": "code",
      "source": [
        "import json"
      ],
      "metadata": {
        "id": "auhihkH_f_Cc"
      },
      "execution_count": 87,
      "outputs": []
    },
    {
      "cell_type": "markdown",
      "source": [
        "---"
      ],
      "metadata": {
        "id": "BDR_erRQ2fs7"
      }
    },
    {
      "cell_type": "markdown",
      "source": [
        "## Define Functions "
      ],
      "metadata": {
        "id": "AlH30QMV54sm"
      }
    },
    {
      "cell_type": "markdown",
      "source": [
        "This is a PLACEHOLDER"
      ],
      "metadata": {
        "id": "KCmDOEAEDzsA"
      }
    },
    {
      "cell_type": "code",
      "source": [
        "###PLACEHOLDER###"
      ],
      "metadata": {
        "id": "sOKYgq8_47NW"
      },
      "execution_count": null,
      "outputs": []
    },
    {
      "cell_type": "markdown",
      "source": [
        "---"
      ],
      "metadata": {
        "id": "Q6sKKKwd37Ts"
      }
    },
    {
      "cell_type": "markdown",
      "source": [
        "## Source Data \n",
        "\n",
        "**This notebook reads data files directly from web resources (URLs).**     \n",
        "\n",
        "*the source CO2 emissions file read: [annual-co2-emissions-per-country.csv](https://drive.google.com/file/d/1BzgiANIXNqRHnU85vzB3gHTGBesHuz4F/view?usp=sharing)*     \n"
      ],
      "metadata": {
        "id": "Hu91X0GjMCM3"
      }
    },
    {
      "cell_type": "markdown",
      "source": [
        "###Source Information Dataset "
      ],
      "metadata": {
        "id": "uTSBMmAOOttw"
      }
    },
    {
      "cell_type": "code",
      "source": [
        "# the following code reads the `annual-co2-emissions-per-country.csv` file into an `emits_df` dataframe\n",
        "url='https://drive.google.com/file/d/1BzgiANIXNqRHnU85vzB3gHTGBesHuz4F/view?usp=sharing'\n",
        "file_id=url.split('/')[-2]\n",
        "dwn_url='https://drive.google.com/uc?id=' + file_id\n",
        "emits_df = pd.read_csv(dwn_url)\n",
        "print(emits_df.head())"
      ],
      "metadata": {
        "id": "AR6hyPN5AlcE"
      },
      "execution_count": null,
      "outputs": []
    },
    {
      "cell_type": "markdown",
      "source": [
        "###Source Geo Dataset   "
      ],
      "metadata": {
        "id": "k9tCYDscOyzk"
      }
    },
    {
      "cell_type": "markdown",
      "source": [
        "Option 1: read the `geojson` directly from a **URL**    "
      ],
      "metadata": {
        "id": "4FPnfE8vjjtM"
      }
    },
    {
      "cell_type": "code",
      "source": [
        "# the following may be throttled by the server \n",
        "country_url  = \"https://raw.githubusercontent.com/nvkelso/natural-earth-vector/master/geojson/ne_50m_admin_0_countries.geojson\" \n",
        "country_json = json.loads(requests.get(country_url).text)"
      ],
      "metadata": {
        "id": "ckAAqnprO6mi"
      },
      "execution_count": 90,
      "outputs": []
    },
    {
      "cell_type": "markdown",
      "source": [
        "Option 2: make of copy of the **URL** file in the current working directory, then read that file"
      ],
      "metadata": {
        "id": "xFZIyVFQjpZF"
      }
    },
    {
      "cell_type": "code",
      "source": [
        "!curl \"https://raw.githubusercontent.com/nvkelso/natural-earth-vector/master/geojson/ne_50m_admin_0_countries.geojson\" -o world_50m_countries.geojson"
      ],
      "metadata": {
        "id": "y3HvTsDKhFBa"
      },
      "execution_count": null,
      "outputs": []
    },
    {
      "cell_type": "code",
      "source": [
        "country_geo_data = \"https://raw.githubusercontent.com/nvkelso/natural-earth-vector/master/geojson/ne_50m_admin_0_countries.geojson\""
      ],
      "metadata": {
        "id": "JdlqgNHc3N26"
      },
      "execution_count": 92,
      "outputs": []
    },
    {
      "cell_type": "markdown",
      "source": [
        "The **natural Earth Vector**  `geojson` file (`ne_50m_admin_0_countries.geojson`) includes the following features: \n",
        "\n",
        "   - **properties** - contains a list of **features** which are properties of the map shape (a country) such as the short, long, and formal versions of the country's name and other country-level properties, including:      \n",
        "\n",
        "       - **`ISO_A3`** - as a three-alpha string with the ISO Code for the country    \n",
        "       - **`NAME`** - as an alpha string with the short name for the country    \n",
        "\n",
        "\n",
        "\n",
        "\n",
        "*To specify the <b>ISO Code</b> property of countries in this `geojson` dataset, use the following notation:*    \n",
        "```\n",
        "feature.properties.ISO_A3    \n",
        "```    \n",
        "\n",
        "*To specify the <b>Short Name</b> property of countries in this `geojson` dataset, use the following notation:*    \n",
        "```\n",
        "feature.properties.NAME    \n",
        "```    \n",
        "\n"
      ],
      "metadata": {
        "id": "_3H-T2zrv3c5"
      }
    },
    {
      "cell_type": "code",
      "source": [
        "with open('/content/world_50m_countries.geojson') as j:\n",
        "    country_geo_json = json.load(j)"
      ],
      "metadata": {
        "id": "cXUciU-ULXVA"
      },
      "execution_count": 110,
      "outputs": []
    },
    {
      "cell_type": "markdown",
      "source": [
        "## Wrangling and Transformation    "
      ],
      "metadata": {
        "id": "B7XLNz-v5_w3"
      }
    },
    {
      "cell_type": "markdown",
      "source": [
        "Rename the **ISO Code** column name from `Code` to `ISO_A3` in the CO2 emissions dataframe `emits_df`      "
      ],
      "metadata": {
        "id": "PnBQ6AuDzmRF"
      }
    },
    {
      "cell_type": "code",
      "source": [
        "emits_df.rename(columns = {'Code':'ISO_A3'}, inplace = True)"
      ],
      "metadata": {
        "id": "2YMQa4n_ztwy"
      },
      "execution_count": 93,
      "outputs": []
    },
    {
      "cell_type": "markdown",
      "source": [
        "Rename the **CO2 emissions** column name from `Annual CO2 emissions` to `co2_emissions` in the CO2 emissions dataframe `emits_df`      "
      ],
      "metadata": {
        "id": "nGWYrRIg2tSw"
      }
    },
    {
      "cell_type": "code",
      "source": [
        "emits_df.rename(columns = {'Annual CO2 emissions':'co2_emissions'}, inplace = True)"
      ],
      "metadata": {
        "id": "-98sBgDd27C8"
      },
      "execution_count": 94,
      "outputs": []
    },
    {
      "cell_type": "markdown",
      "source": [
        "---"
      ],
      "metadata": {
        "id": "dGhLJxmf6Df3"
      }
    },
    {
      "cell_type": "markdown",
      "source": [
        "###Create Base Map for World"
      ],
      "metadata": {
        "id": "8uR411LnfxwG"
      }
    },
    {
      "cell_type": "markdown",
      "source": [
        "Create a base `world_map` with the NYC United Nations Building at the center"
      ],
      "metadata": {
        "id": "2axa-V8ygIa_"
      }
    },
    {
      "cell_type": "markdown",
      "source": [
        "Creating a base map with the default **Folium** map    "
      ],
      "metadata": {
        "id": "-7g-kq7GAE9Z"
      }
    },
    {
      "cell_type": "code",
      "source": [
        "# initialize a base layer map and store it in a `world_map` object\n",
        "# ... using the `cartodbpositron` tile set for a light background to the map\n",
        "world_map = folium.Map(location = [40.742997028, -73.96749613], tiles='cartodbpositron', zoom_start = 15)    "
      ],
      "metadata": {
        "id": "31rq6bnMf1se"
      },
      "execution_count": 125,
      "outputs": []
    },
    {
      "cell_type": "code",
      "source": [
        "# Optional - view the `world_map` base map\n",
        "world_map"
      ],
      "metadata": {
        "id": "TQqKIjb1grqL"
      },
      "execution_count": null,
      "outputs": []
    },
    {
      "cell_type": "markdown",
      "source": [
        "Add the country `geojson` data with **ISO Codes** to `world_map`    "
      ],
      "metadata": {
        "id": "yFbDRHItmFoL"
      }
    },
    {
      "cell_type": "code",
      "source": [
        "world_map.add_child(folium.GeoJson(\"/content/world_50m_countries.geojson\", name=\"geojson\").add_to(world_map))\n",
        "\n",
        "# folium.LayerControl().add_to(world_map) "
      ],
      "metadata": {
        "id": "ciwBiinlmKbf"
      },
      "execution_count": null,
      "outputs": []
    },
    {
      "cell_type": "code",
      "source": [
        "world_map"
      ],
      "metadata": {
        "id": "au9jL0eqokOI"
      },
      "execution_count": null,
      "outputs": []
    },
    {
      "cell_type": "markdown",
      "source": [
        "---"
      ],
      "metadata": {
        "id": "sDFJD0P-fxtd"
      }
    },
    {
      "cell_type": "markdown",
      "source": [
        "##Add CO2 Emissions Choropleth To The Map"
      ],
      "metadata": {
        "id": "svfUtcG16GTH"
      }
    },
    {
      "cell_type": "markdown",
      "source": [
        "Option A: Creating Choropleth object and adding it to the map with `LayerControl`    "
      ],
      "metadata": {
        "id": "OLcJ1hJrQtwq"
      }
    },
    {
      "cell_type": "code",
      "source": [
        "folium.Choropleth(\n",
        "    # geographical locations\n",
        "    geo_data = country_geo_data,                     \n",
        "    name = \"CO2_emissions\",\n",
        "    \n",
        "    # the data set we are using\n",
        "    data = emits_df,                        \n",
        "    columns = [\"ISO_A3\", \"co2_emissions\"],   \n",
        "    # YlGn refers to yellow and green\n",
        "    fill_color = \"YlGn\",                      \n",
        "    fill_opacity = 0.7,\n",
        "    line_opacity = .1,\n",
        "    key_on = \"feature.properties.ISO_A3\",\n",
        "    legend_name=\"CO2 Emissions\",\n",
        "    bins = 5\n",
        ").add_to(world_map)   \n",
        "\n",
        "folium.LayerControl().add_to(world_map) "
      ],
      "metadata": {
        "id": "9M2nh65R2WKc"
      },
      "execution_count": null,
      "outputs": []
    },
    {
      "cell_type": "markdown",
      "source": [
        "Option B: Creating Choropleth object and adding it as a **child** to the map with `add_child()`  "
      ],
      "metadata": {
        "id": "yknlc-ZWQ6pN"
      }
    },
    {
      "cell_type": "code",
      "source": [
        "world_map.add_child(folium.Choropleth(\n",
        "    # geographical locations\n",
        "    geo_data = country_geo_data,                     \n",
        "    name = \"CO2_emissions\",\n",
        "    \n",
        "    # the data set we are using\n",
        "    data = emits_df,                        \n",
        "    columns = [\"ISO_A3\", \"co2_emissions\"],  \n",
        "\n",
        "    # YlGn refers to yellow and green\n",
        "    fill_color = \"YlGn\",                      \n",
        "    fill_opacity = 0.7,\n",
        "    line_opacity = .1,\n",
        "\n",
        "    # default color for missing data\n",
        "    nan_fill_color=\"white\",\n",
        "    nan_fill_opacity= 0.5,\n",
        "\n",
        "    # key mapping field (maps to columns[0])\n",
        "    key_on = \"feature.properties.ISO_A3\",\n",
        "\n",
        "    # reference attributes for information mapped\n",
        "    bins=5,\n",
        "    legend_name=\"CO2 Emissions\",\n",
        "   ))"
      ],
      "metadata": {
        "id": "pepCPLKkRHLl"
      },
      "execution_count": null,
      "outputs": []
    },
    {
      "cell_type": "code",
      "source": [
        "world_map"
      ],
      "metadata": {
        "id": "hv2JikBC_w3M"
      },
      "execution_count": null,
      "outputs": []
    },
    {
      "cell_type": "markdown",
      "source": [
        "---"
      ],
      "metadata": {
        "id": "sDD6k8-KLyGi"
      }
    },
    {
      "cell_type": "markdown",
      "source": [
        "## Write Results to .HTML File(s)       "
      ],
      "metadata": {
        "id": "rVC6RP699ync"
      }
    },
    {
      "cell_type": "code",
      "source": [
        "# write the world_map HTML to `world_co2_map.html`\n",
        "world_map.save('world_co2_map.html')"
      ],
      "metadata": {
        "id": "Stpsvx1NUtYw"
      },
      "execution_count": 127,
      "outputs": []
    },
    {
      "cell_type": "markdown",
      "source": [
        "---"
      ],
      "metadata": {
        "id": "BuJuFSd4CgRh"
      }
    },
    {
      "cell_type": "markdown",
      "source": [
        "#  "
      ],
      "metadata": {
        "id": "hOF1jSonChE5"
      }
    },
    {
      "cell_type": "markdown",
      "source": [
        "#Additional Resources    \n",
        "\n",
        "  - [Mapping in Python: Folium by Robsky Huntley on VIA Learning Lab](https://vialab.mit.edu/tutorials/module/mapping-in-python-folium/) for an exercise which maps tree density in Cambridge, MA and the surrouding area.     \n",
        "\n",
        "  - [Stamen Toner ,Stamen Terrain and Mapbox Bright Maps in Python-Folium](https://www.geeksforgeeks.org/stamen-toner-stamen-terrain-and-mapbox-bright-maps-in-python-folium/) examples of using different built-in map tiles in **Folium** from Geeks for Geeks \n",
        "\n",
        "  - ['Folium Map Tiles' by DeParkes](https://deparkes.co.uk/2016/06/10/folium-map-tiles/) more examples of map tiles available in **Folium**   \n",
        "\n",
        "  - ['Create and Visualize Choropleth Maps with Folium' by Analytics Vidhya on Medium](https://medium.com/analytics-vidhya/create-and-visualize-choropleth-map-with-folium-269d3fd12fa0) for examples of different approaches to color coding map elements as well as more formatting and style options    "
      ],
      "metadata": {
        "id": "hT1d65QeCFfm"
      }
    },
    {
      "cell_type": "markdown",
      "source": [
        "\n",
        "\n",
        "---\n",
        "\n"
      ],
      "metadata": {
        "id": "AxBWFKhA4w2-"
      }
    }
  ]
}