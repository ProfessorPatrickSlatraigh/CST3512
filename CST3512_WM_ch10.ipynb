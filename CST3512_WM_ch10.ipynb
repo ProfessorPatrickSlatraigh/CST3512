{
  "cells": [
    {
      "cell_type": "markdown",
      "metadata": {
        "id": "view-in-github",
        "colab_type": "text"
      },
      "source": [
        "<a href=\"https://colab.research.google.com/github/ProfessorPatrickSlatraigh/CST3512/blob/main/CST3512_WM_ch10.ipynb\" target=\"_parent\"><img src=\"https://colab.research.google.com/assets/colab-badge.svg\" alt=\"Open In Colab\"/></a>"
      ]
    },
    {
      "cell_type": "markdown",
      "metadata": {
        "deletable": true,
        "editable": true,
        "id": "BNHfOvr2-pRs"
      },
      "source": [
        "# Data Aggregation and Group Operations    \n",
        "\n",
        "*from Wes McKinney's Python for Data Analysis, 2nd Edition*   \n"
      ]
    },
    {
      "cell_type": "markdown",
      "source": [
        "##Housekeeping   "
      ],
      "metadata": {
        "id": "cYD3QNzT-5--"
      }
    },
    {
      "cell_type": "code",
      "execution_count": 2,
      "metadata": {
        "deletable": true,
        "editable": true,
        "id": "X3w5pXP--pRw"
      },
      "outputs": [],
      "source": [
        "import numpy as np\n",
        "import pandas as pd\n",
        "PREVIOUS_MAX_ROWS = pd.options.display.max_rows\n",
        "pd.options.display.max_rows = 20\n",
        "np.random.seed(12345)\n",
        "import matplotlib.pyplot as plt\n",
        "plt.rc('figure', figsize=(10, 6))\n",
        "np.set_printoptions(precision=4, suppress=True)"
      ]
    },
    {
      "cell_type": "markdown",
      "metadata": {
        "deletable": true,
        "editable": true,
        "id": "8L6V4yh9-pRx"
      },
      "source": [
        "## GroupBy Mechanics"
      ]
    },
    {
      "cell_type": "code",
      "execution_count": null,
      "metadata": {
        "deletable": true,
        "editable": true,
        "id": "D4Rx6BQ4-pRy"
      },
      "outputs": [],
      "source": [
        "df = pd.DataFrame({'key1' : ['a', 'a', 'b', 'b', 'a'],\n",
        "                   'key2' : ['one', 'two', 'one', 'two', 'one'],\n",
        "                   'data1' : np.random.randn(5),\n",
        "                   'data2' : np.random.randn(5)})\n",
        "df"
      ]
    },
    {
      "cell_type": "markdown",
      "source": [
        "###What does `df['data1']` return? "
      ],
      "metadata": {
        "id": "Jglm_JigYjE3"
      }
    },
    {
      "cell_type": "code",
      "source": [
        "print(type(df['data1']))"
      ],
      "metadata": {
        "id": "4Sveot76YpOK"
      },
      "execution_count": null,
      "outputs": []
    },
    {
      "cell_type": "code",
      "source": [
        "print(\"The values in the Series returned by df['data1'] are: \")\n",
        "for series_value in df['data1'] :\n",
        "    print(series_value)"
      ],
      "metadata": {
        "id": "fGskBaL5Yu8W"
      },
      "execution_count": null,
      "outputs": []
    },
    {
      "cell_type": "markdown",
      "source": [
        "Using the Series returned and invoking `.groupby()` on another column from the `df` dataframe.    "
      ],
      "metadata": {
        "id": "xvhy5RzPfxwn"
      }
    },
    {
      "cell_type": "code",
      "execution_count": null,
      "metadata": {
        "deletable": true,
        "editable": true,
        "id": "1oDI0obI-pRy"
      },
      "outputs": [],
      "source": [
        "grouped = df['data1'].groupby(df['key1'])\n",
        "grouped"
      ]
    },
    {
      "cell_type": "markdown",
      "source": [
        "###What is a `groupby` Series?    \n",
        "\n",
        "[from pandas.pydata.org](https://pandas.pydata.org/docs/reference/api/pandas.Series.groupby.html):    \n",
        "\n",
        "A groupby operation involves some combination of splitting the object, applying a function, and combining the results. This can be used to group large amounts of data and compute operations on these groups."
      ],
      "metadata": {
        "id": "f29KFriIX28o"
      }
    },
    {
      "cell_type": "code",
      "source": [
        "print('The length of the variable grouped is: ', len(grouped), '\\n') \n",
        "\n",
        "i = 0\n",
        "for grouped_item in grouped:\n",
        "    print('Row', i, 'value ->', grouped_item, '\\n')\n",
        "    i += 1"
      ],
      "metadata": {
        "id": "jNehacdrW0Wv"
      },
      "execution_count": null,
      "outputs": []
    },
    {
      "cell_type": "markdown",
      "source": [
        "What if we assign the values of the `grouped` groupby Series into a tuple?"
      ],
      "metadata": {
        "id": "ZD-cAi5XZsr0"
      }
    },
    {
      "cell_type": "code",
      "source": [
        "i = 0\n",
        "for grouped_item in grouped:\n",
        "    (key, value) = grouped_item\n",
        "    print('\\n\\nFor row', i)\n",
        "    print('\\t\\tkey is ', key)\n",
        "    print('\\t\\tvalue is |', value, '|')\n",
        "    i += 1"
      ],
      "metadata": {
        "id": "DD4-GZuNZ3vo"
      },
      "execution_count": null,
      "outputs": []
    },
    {
      "cell_type": "code",
      "execution_count": null,
      "metadata": {
        "deletable": true,
        "editable": true,
        "id": "dEU1CSr2-pRy"
      },
      "outputs": [],
      "source": [
        "grouped.mean()"
      ]
    },
    {
      "cell_type": "code",
      "execution_count": null,
      "metadata": {
        "deletable": true,
        "editable": true,
        "id": "ZbUd1h4X-pRz"
      },
      "outputs": [],
      "source": [
        "means = df['data1'].groupby([df['key1'], df['key2']]).mean()\n",
        "means"
      ]
    },
    {
      "cell_type": "markdown",
      "source": [
        "###What does `.unstack()` return?    \n",
        "\n",
        "[from pandas.pydata.org](https://pandas.pydata.org/docs/reference/api/pandas.DataFrame.unstack.html):       \n",
        "Pivot a level of the (necessarily hierarchical) index labels.    \n",
        "\n",
        "Returns a DataFrame having a new level of column labels whose inner-most level consists of the pivoted index labels.    "
      ],
      "metadata": {
        "id": "QdKa99kybq7l"
      }
    },
    {
      "cell_type": "code",
      "execution_count": null,
      "metadata": {
        "deletable": true,
        "editable": true,
        "id": "2z3TFFJi-pRz"
      },
      "outputs": [],
      "source": [
        "means.unstack()"
      ]
    },
    {
      "cell_type": "markdown",
      "source": [
        "**The following code replaces the `key1` and `key2` values with lists of keys (states and years)**    \n",
        "\n",
        "\n",
        "```\n",
        "states   ['Ohio', 'California', 'California', 'Ohio', 'Ohio']\n",
        "years    [2005, 2005, 2006, 2005, 2006]\n",
        "```\n",
        "\n",
        "*instead of*    \n",
        "\n",
        "```\n",
        "'key1' : ['a', 'a', 'b', 'b', 'a'],\n",
        "'key2' : ['one', 'two', 'one', 'two', 'one']\n",
        "```\n",
        "\n",
        "**and generates arrays using `numpy's` `.array()` method**\n"
      ],
      "metadata": {
        "id": "1zMwMt4nchI2"
      }
    },
    {
      "cell_type": "code",
      "execution_count": null,
      "metadata": {
        "deletable": true,
        "editable": true,
        "id": "HWXzPXCN-pRz"
      },
      "outputs": [],
      "source": [
        "states = np.array(['Ohio', 'California', 'California', 'Ohio', 'Ohio'])\n",
        "years = np.array([2005, 2005, 2006, 2005, 2006])\n",
        "df['data1'].groupby([states, years]).mean()\n",
        "\n",
        "s = 0\n",
        "while s < len(states) :\n",
        "    print('Index #', s, 'value in states', states[s])\n",
        "    s += 1\n",
        "\n",
        "print()\n",
        "\n",
        "y = 0\n",
        "while y < len(years) :\n",
        "    print('Index #', y, 'value in years', years[y])\n",
        "    y += 1\n",
        "\n",
        "print()\n",
        "\n",
        "d = 0\n",
        "while d < len(df['data1']) :\n",
        "    print('Index #', d, \"value in df['data1']\", df['data1'][d])\n",
        "    d += 1"
      ]
    },
    {
      "cell_type": "code",
      "source": [
        "df['data1'].groupby([states, years]).mean()"
      ],
      "metadata": {
        "id": "dI9cIzwZdarE"
      },
      "execution_count": null,
      "outputs": []
    },
    {
      "cell_type": "code",
      "execution_count": null,
      "metadata": {
        "deletable": true,
        "editable": true,
        "id": "8r5zHx85-pR0"
      },
      "outputs": [],
      "source": [
        "df.groupby('key1').mean()\n",
        "df.groupby(['key1', 'key2']).mean()"
      ]
    },
    {
      "cell_type": "markdown",
      "source": [
        "###What does `groupby` `.size()` return?    \n",
        "\n",
        "[from pandas.pydata.org](https://pandas.pydata.org/docs/reference/api/pandas.core.groupby.GroupBy.size.html):      \n",
        "\n",
        "Number of rows in each group as a Series if as_index is True or a DataFrame if as_index is False."
      ],
      "metadata": {
        "id": "sZ_WcKV8fJxN"
      }
    },
    {
      "cell_type": "code",
      "execution_count": null,
      "metadata": {
        "deletable": true,
        "editable": true,
        "id": "NauEGPxN-pR0"
      },
      "outputs": [],
      "source": [
        "df.groupby(['key1', 'key2']).size()"
      ]
    },
    {
      "cell_type": "markdown",
      "source": [
        "\n",
        "\n",
        "---\n",
        "\n"
      ],
      "metadata": {
        "id": "G1boKbeP_GGi"
      }
    },
    {
      "cell_type": "markdown",
      "metadata": {
        "deletable": true,
        "editable": true,
        "id": "QlSV87A4-pR0"
      },
      "source": [
        "### Iterating Over Groups"
      ]
    },
    {
      "cell_type": "code",
      "execution_count": null,
      "metadata": {
        "deletable": true,
        "editable": true,
        "id": "J3TQBkBG-pR1"
      },
      "outputs": [],
      "source": [
        "for name, group in df.groupby('key1'):\n",
        "    print(name)\n",
        "    print(group)"
      ]
    },
    {
      "cell_type": "code",
      "execution_count": null,
      "metadata": {
        "deletable": true,
        "editable": true,
        "id": "4VFrsWjS-pR1"
      },
      "outputs": [],
      "source": [
        "for (k1, k2), group in df.groupby(['key1', 'key2']):\n",
        "    print((k1, k2))\n",
        "    print(group)"
      ]
    },
    {
      "cell_type": "code",
      "execution_count": null,
      "metadata": {
        "deletable": true,
        "editable": true,
        "id": "vyQ1qrFf-pR1"
      },
      "outputs": [],
      "source": [
        "pieces = dict(list(df.groupby('key1')))\n",
        "pieces['b']"
      ]
    },
    {
      "cell_type": "code",
      "execution_count": null,
      "metadata": {
        "deletable": true,
        "editable": true,
        "id": "O0uU1h4A-pR2"
      },
      "outputs": [],
      "source": [
        "df.dtypes\n",
        "grouped = df.groupby(df.dtypes, axis=1)"
      ]
    },
    {
      "cell_type": "code",
      "execution_count": null,
      "metadata": {
        "deletable": true,
        "editable": true,
        "id": "dSvp8654-pR2"
      },
      "outputs": [],
      "source": [
        "for dtype, group in grouped:\n",
        "    print(dtype)\n",
        "    print(group)"
      ]
    },
    {
      "cell_type": "markdown",
      "source": [
        "\n",
        "\n",
        "---\n",
        "\n"
      ],
      "metadata": {
        "id": "RoIcADV8_IYk"
      }
    },
    {
      "cell_type": "markdown",
      "metadata": {
        "deletable": true,
        "editable": true,
        "id": "3IAGHtHu-pR2"
      },
      "source": [
        "### Selecting a Column or Subset of Columns"
      ]
    },
    {
      "cell_type": "markdown",
      "metadata": {
        "deletable": true,
        "editable": true,
        "id": "Wr-uOoQv-pR2"
      },
      "source": [
        "df.groupby('key1')['data1']\n",
        "df.groupby('key1')[['data2']]"
      ]
    },
    {
      "cell_type": "markdown",
      "metadata": {
        "deletable": true,
        "editable": true,
        "id": "56iJl6Qi-pR3"
      },
      "source": [
        "df['data1'].groupby(df['key1'])\n",
        "df[['data2']].groupby(df['key1'])"
      ]
    },
    {
      "cell_type": "code",
      "execution_count": null,
      "metadata": {
        "deletable": true,
        "editable": true,
        "id": "6ez0F-5I-pR3"
      },
      "outputs": [],
      "source": [
        "df.groupby(['key1', 'key2'])[['data2']].mean()"
      ]
    },
    {
      "cell_type": "code",
      "execution_count": null,
      "metadata": {
        "deletable": true,
        "editable": true,
        "id": "7UjtaqmB-pR3"
      },
      "outputs": [],
      "source": [
        "s_grouped = df.groupby(['key1', 'key2'])['data2']\n",
        "s_grouped\n",
        "s_grouped.mean()"
      ]
    },
    {
      "cell_type": "markdown",
      "source": [
        "\n",
        "\n",
        "---\n",
        "\n"
      ],
      "metadata": {
        "id": "HeaWCBRZ_MzT"
      }
    },
    {
      "cell_type": "markdown",
      "metadata": {
        "deletable": true,
        "editable": true,
        "id": "MfyDZkmU-pR3"
      },
      "source": [
        "### Grouping with Dicts and Series"
      ]
    },
    {
      "cell_type": "code",
      "execution_count": null,
      "metadata": {
        "deletable": true,
        "editable": true,
        "id": "KPt8KFVG-pR3"
      },
      "outputs": [],
      "source": [
        "people = pd.DataFrame(np.random.randn(5, 5),\n",
        "                      columns=['a', 'b', 'c', 'd', 'e'],\n",
        "                      index=['Joe', 'Steve', 'Wes', 'Jim', 'Travis'])\n",
        "people.iloc[2:3, [1, 2]] = np.nan # Add a few NA values\n",
        "people"
      ]
    },
    {
      "cell_type": "code",
      "execution_count": null,
      "metadata": {
        "deletable": true,
        "editable": true,
        "id": "A6O1aog8-pR4"
      },
      "outputs": [],
      "source": [
        "mapping = {'a': 'red', 'b': 'red', 'c': 'blue',\n",
        "           'd': 'blue', 'e': 'red', 'f' : 'orange'}"
      ]
    },
    {
      "cell_type": "code",
      "execution_count": null,
      "metadata": {
        "deletable": true,
        "editable": true,
        "id": "elCC4IKS-pR4"
      },
      "outputs": [],
      "source": [
        "by_column = people.groupby(mapping, axis=1)\n",
        "by_column.sum()"
      ]
    },
    {
      "cell_type": "code",
      "execution_count": null,
      "metadata": {
        "deletable": true,
        "editable": true,
        "id": "Dzxrvx1m-pR4"
      },
      "outputs": [],
      "source": [
        "map_series = pd.Series(mapping)\n",
        "map_series\n",
        "people.groupby(map_series, axis=1).count()"
      ]
    },
    {
      "cell_type": "markdown",
      "source": [
        "\n",
        "\n",
        "---\n",
        "\n"
      ],
      "metadata": {
        "id": "4xLv8rqW_TWa"
      }
    },
    {
      "cell_type": "markdown",
      "metadata": {
        "deletable": true,
        "editable": true,
        "id": "1SwiOwGX-pR4"
      },
      "source": [
        "### Grouping with Functions"
      ]
    },
    {
      "cell_type": "code",
      "execution_count": null,
      "metadata": {
        "deletable": true,
        "editable": true,
        "id": "60tVmcMu-pR5"
      },
      "outputs": [],
      "source": [
        "people.groupby(len).sum()"
      ]
    },
    {
      "cell_type": "code",
      "execution_count": null,
      "metadata": {
        "deletable": true,
        "editable": true,
        "id": "X7NnzomR-pR5"
      },
      "outputs": [],
      "source": [
        "key_list = ['one', 'one', 'one', 'two', 'two']\n",
        "people.groupby([len, key_list]).min()"
      ]
    },
    {
      "cell_type": "markdown",
      "source": [
        "\n",
        "\n",
        "---\n",
        "\n"
      ],
      "metadata": {
        "id": "TbiJSkDO_Un2"
      }
    },
    {
      "cell_type": "markdown",
      "metadata": {
        "deletable": true,
        "editable": true,
        "id": "CQS2DxP0-pR5"
      },
      "source": [
        "### Grouping by Index Levels"
      ]
    },
    {
      "cell_type": "code",
      "execution_count": null,
      "metadata": {
        "deletable": true,
        "editable": true,
        "id": "jwNIk9_d-pR5"
      },
      "outputs": [],
      "source": [
        "columns = pd.MultiIndex.from_arrays([['US', 'US', 'US', 'JP', 'JP'],\n",
        "                                    [1, 3, 5, 1, 3]],\n",
        "                                    names=['cty', 'tenor'])\n",
        "hier_df = pd.DataFrame(np.random.randn(4, 5), columns=columns)\n",
        "hier_df"
      ]
    },
    {
      "cell_type": "code",
      "execution_count": null,
      "metadata": {
        "deletable": true,
        "editable": true,
        "id": "ZHSCgwLG-pR5"
      },
      "outputs": [],
      "source": [
        "hier_df.groupby(level='cty', axis=1).count()"
      ]
    },
    {
      "cell_type": "markdown",
      "source": [
        "\n",
        "\n",
        "---\n",
        "\n"
      ],
      "metadata": {
        "id": "L3phQog3_YX_"
      }
    },
    {
      "cell_type": "markdown",
      "metadata": {
        "deletable": true,
        "editable": true,
        "id": "0GZQ8VVL-pR5"
      },
      "source": [
        "## Data Aggregation"
      ]
    },
    {
      "cell_type": "code",
      "execution_count": null,
      "metadata": {
        "deletable": true,
        "editable": true,
        "id": "oiCGW8H_-pR6"
      },
      "outputs": [],
      "source": [
        "df\n",
        "grouped = df.groupby('key1')\n",
        "grouped['data1'].quantile(0.9)"
      ]
    },
    {
      "cell_type": "code",
      "execution_count": null,
      "metadata": {
        "deletable": true,
        "editable": true,
        "id": "DnNIvbDH-pR6"
      },
      "outputs": [],
      "source": [
        "def peak_to_peak(arr):\n",
        "    return arr.max() - arr.min()\n",
        "grouped.agg(peak_to_peak)"
      ]
    },
    {
      "cell_type": "code",
      "execution_count": null,
      "metadata": {
        "deletable": true,
        "editable": true,
        "id": "vpuRF2Rt-pR6"
      },
      "outputs": [],
      "source": [
        "grouped.describe()"
      ]
    },
    {
      "cell_type": "markdown",
      "source": [
        "\n",
        "\n",
        "---\n",
        "\n"
      ],
      "metadata": {
        "id": "6ihZuyTa_ZwA"
      }
    },
    {
      "cell_type": "markdown",
      "metadata": {
        "deletable": true,
        "editable": true,
        "id": "hf4yGETu-pR6"
      },
      "source": [
        "### Column-Wise and Multiple Function Application"
      ]
    },
    {
      "cell_type": "code",
      "execution_count": null,
      "metadata": {
        "deletable": true,
        "editable": true,
        "id": "JATn-Yj1-pR6"
      },
      "outputs": [],
      "source": [
        "tips = pd.read_csv('examples/tips.csv')\n",
        "# Add tip percentage of total bill\n",
        "tips['tip_pct'] = tips['tip'] / tips['total_bill']\n",
        "tips[:6]"
      ]
    },
    {
      "cell_type": "code",
      "execution_count": null,
      "metadata": {
        "deletable": true,
        "editable": true,
        "id": "ZBw5vyE2-pR6"
      },
      "outputs": [],
      "source": [
        "grouped = tips.groupby(['day', 'smoker'])"
      ]
    },
    {
      "cell_type": "code",
      "execution_count": null,
      "metadata": {
        "deletable": true,
        "editable": true,
        "id": "BdQkEeIy-pR7"
      },
      "outputs": [],
      "source": [
        "grouped_pct = grouped['tip_pct']\n",
        "grouped_pct.agg('mean')"
      ]
    },
    {
      "cell_type": "code",
      "execution_count": null,
      "metadata": {
        "deletable": true,
        "editable": true,
        "id": "qb3zpOL5-pR7"
      },
      "outputs": [],
      "source": [
        "grouped_pct.agg(['mean', 'std', peak_to_peak])"
      ]
    },
    {
      "cell_type": "code",
      "execution_count": null,
      "metadata": {
        "deletable": true,
        "editable": true,
        "id": "Zk1BiLwW-pR7"
      },
      "outputs": [],
      "source": [
        "grouped_pct.agg([('foo', 'mean'), ('bar', np.std)])"
      ]
    },
    {
      "cell_type": "code",
      "execution_count": null,
      "metadata": {
        "deletable": true,
        "editable": true,
        "id": "CkL9k1gf-pR7"
      },
      "outputs": [],
      "source": [
        "functions = ['count', 'mean', 'max']\n",
        "result = grouped['tip_pct', 'total_bill'].agg(functions)\n",
        "result"
      ]
    },
    {
      "cell_type": "code",
      "execution_count": null,
      "metadata": {
        "deletable": true,
        "editable": true,
        "id": "H2OjGZnO-pR7"
      },
      "outputs": [],
      "source": [
        "result['tip_pct']"
      ]
    },
    {
      "cell_type": "code",
      "execution_count": null,
      "metadata": {
        "deletable": true,
        "editable": true,
        "id": "BmnYQT2W-pR7"
      },
      "outputs": [],
      "source": [
        "ftuples = [('Durchschnitt', 'mean'), ('Abweichung', np.var)]\n",
        "grouped['tip_pct', 'total_bill'].agg(ftuples)"
      ]
    },
    {
      "cell_type": "code",
      "execution_count": null,
      "metadata": {
        "deletable": true,
        "editable": true,
        "id": "ofakQe0C-pR8"
      },
      "outputs": [],
      "source": [
        "grouped.agg({'tip' : np.max, 'size' : 'sum'})\n",
        "grouped.agg({'tip_pct' : ['min', 'max', 'mean', 'std'],\n",
        "             'size' : 'sum'})"
      ]
    },
    {
      "cell_type": "markdown",
      "source": [
        "\n",
        "\n",
        "---\n",
        "\n"
      ],
      "metadata": {
        "id": "aSfwG76-_c47"
      }
    },
    {
      "cell_type": "markdown",
      "metadata": {
        "deletable": true,
        "editable": true,
        "id": "bA_Ztk2Q-pR8"
      },
      "source": [
        "### Returning Aggregated Data Without Row Indexes"
      ]
    },
    {
      "cell_type": "code",
      "execution_count": null,
      "metadata": {
        "deletable": true,
        "editable": true,
        "id": "iFDceLQF-pR8"
      },
      "outputs": [],
      "source": [
        "tips.groupby(['day', 'smoker'], as_index=False).mean()"
      ]
    },
    {
      "cell_type": "markdown",
      "source": [
        "\n",
        "\n",
        "---\n",
        "\n"
      ],
      "metadata": {
        "id": "WbJnAHdp_faP"
      }
    },
    {
      "cell_type": "markdown",
      "metadata": {
        "deletable": true,
        "editable": true,
        "id": "NgSm0A5q-pR8"
      },
      "source": [
        "## Apply: General split-apply-combine"
      ]
    },
    {
      "cell_type": "code",
      "execution_count": null,
      "metadata": {
        "deletable": true,
        "editable": true,
        "id": "Zlka_l71-pR8"
      },
      "outputs": [],
      "source": [
        "def top(df, n=5, column='tip_pct'):\n",
        "    return df.sort_values(by=column)[-n:]\n",
        "top(tips, n=6)"
      ]
    },
    {
      "cell_type": "code",
      "execution_count": null,
      "metadata": {
        "deletable": true,
        "editable": true,
        "id": "-RSS92VQ-pR8"
      },
      "outputs": [],
      "source": [
        "tips.groupby('smoker').apply(top)"
      ]
    },
    {
      "cell_type": "code",
      "execution_count": null,
      "metadata": {
        "deletable": true,
        "editable": true,
        "id": "Jcy8H96v-pR9"
      },
      "outputs": [],
      "source": [
        "tips.groupby(['smoker', 'day']).apply(top, n=1, column='total_bill')"
      ]
    },
    {
      "cell_type": "code",
      "execution_count": null,
      "metadata": {
        "deletable": true,
        "editable": true,
        "id": "5sYLFEyR-pR9"
      },
      "outputs": [],
      "source": [
        "result = tips.groupby('smoker')['tip_pct'].describe()\n",
        "result\n",
        "result.unstack('smoker')"
      ]
    },
    {
      "cell_type": "markdown",
      "metadata": {
        "deletable": true,
        "editable": true,
        "id": "wz2yBW65-pR9"
      },
      "source": [
        "f = lambda x: x.describe()\n",
        "grouped.apply(f)"
      ]
    },
    {
      "cell_type": "markdown",
      "source": [
        "\n",
        "\n",
        "---\n",
        "\n"
      ],
      "metadata": {
        "id": "UnmTs0cu_ka6"
      }
    },
    {
      "cell_type": "markdown",
      "metadata": {
        "deletable": true,
        "editable": true,
        "id": "ycKjebyi-pR9"
      },
      "source": [
        "### Suppressing the Group Keys"
      ]
    },
    {
      "cell_type": "code",
      "execution_count": null,
      "metadata": {
        "deletable": true,
        "editable": true,
        "id": "Jvhdksd--pR9"
      },
      "outputs": [],
      "source": [
        "tips.groupby('smoker', group_keys=False).apply(top)"
      ]
    },
    {
      "cell_type": "markdown",
      "source": [
        "\n",
        "\n",
        "---\n",
        "\n"
      ],
      "metadata": {
        "id": "xO2yiS4c_mFA"
      }
    },
    {
      "cell_type": "markdown",
      "metadata": {
        "deletable": true,
        "editable": true,
        "id": "6K2VjnAI-pR9"
      },
      "source": [
        "### Quantile and Bucket Analysis"
      ]
    },
    {
      "cell_type": "code",
      "execution_count": null,
      "metadata": {
        "deletable": true,
        "editable": true,
        "id": "u72Z-gVD-pR-"
      },
      "outputs": [],
      "source": [
        "frame = pd.DataFrame({'data1': np.random.randn(1000),\n",
        "                      'data2': np.random.randn(1000)})\n",
        "quartiles = pd.cut(frame.data1, 4)\n",
        "quartiles[:10]"
      ]
    },
    {
      "cell_type": "code",
      "execution_count": null,
      "metadata": {
        "deletable": true,
        "editable": true,
        "id": "bI-Nbb84-pR-"
      },
      "outputs": [],
      "source": [
        "def get_stats(group):\n",
        "    return {'min': group.min(), 'max': group.max(),\n",
        "            'count': group.count(), 'mean': group.mean()}\n",
        "grouped = frame.data2.groupby(quartiles)\n",
        "grouped.apply(get_stats).unstack()"
      ]
    },
    {
      "cell_type": "code",
      "execution_count": null,
      "metadata": {
        "deletable": true,
        "editable": true,
        "id": "ciMjkqwP-pR-"
      },
      "outputs": [],
      "source": [
        "# Return quantile numbers\n",
        "grouping = pd.qcut(frame.data1, 10, labels=False)\n",
        "grouped = frame.data2.groupby(grouping)\n",
        "grouped.apply(get_stats).unstack()"
      ]
    },
    {
      "cell_type": "markdown",
      "source": [
        "\n",
        "\n",
        "---\n",
        "\n"
      ],
      "metadata": {
        "id": "4SpkI5Hy_nVT"
      }
    },
    {
      "cell_type": "markdown",
      "metadata": {
        "deletable": true,
        "editable": true,
        "id": "zDeuOgiy-pR-"
      },
      "source": [
        "### Example: Filling Missing Values with Group-Specific       Values"
      ]
    },
    {
      "cell_type": "code",
      "execution_count": null,
      "metadata": {
        "deletable": true,
        "editable": true,
        "id": "O2DWzPMc-pR-"
      },
      "outputs": [],
      "source": [
        "s = pd.Series(np.random.randn(6))\n",
        "s[::2] = np.nan\n",
        "s\n",
        "s.fillna(s.mean())"
      ]
    },
    {
      "cell_type": "code",
      "execution_count": null,
      "metadata": {
        "deletable": true,
        "editable": true,
        "id": "VB2-rxcm-pR-"
      },
      "outputs": [],
      "source": [
        "states = ['Ohio', 'New York', 'Vermont', 'Florida',\n",
        "          'Oregon', 'Nevada', 'California', 'Idaho']\n",
        "group_key = ['East'] * 4 + ['West'] * 4\n",
        "data = pd.Series(np.random.randn(8), index=states)\n",
        "data"
      ]
    },
    {
      "cell_type": "code",
      "execution_count": null,
      "metadata": {
        "deletable": true,
        "editable": true,
        "id": "EugWfSqx-pR_"
      },
      "outputs": [],
      "source": [
        "data[['Vermont', 'Nevada', 'Idaho']] = np.nan\n",
        "data\n",
        "data.groupby(group_key).mean()"
      ]
    },
    {
      "cell_type": "code",
      "execution_count": null,
      "metadata": {
        "deletable": true,
        "editable": true,
        "id": "QU8CXIvy-pR_"
      },
      "outputs": [],
      "source": [
        "fill_mean = lambda g: g.fillna(g.mean())\n",
        "data.groupby(group_key).apply(fill_mean)"
      ]
    },
    {
      "cell_type": "code",
      "execution_count": null,
      "metadata": {
        "deletable": true,
        "editable": true,
        "id": "kKlxLAME-pR_"
      },
      "outputs": [],
      "source": [
        "fill_values = {'East': 0.5, 'West': -1}\n",
        "fill_func = lambda g: g.fillna(fill_values[g.name])\n",
        "data.groupby(group_key).apply(fill_func)"
      ]
    },
    {
      "cell_type": "markdown",
      "source": [
        "\n",
        "\n",
        "---\n",
        "\n"
      ],
      "metadata": {
        "id": "wGQgLoLn_qGM"
      }
    },
    {
      "cell_type": "markdown",
      "metadata": {
        "deletable": true,
        "editable": true,
        "id": "jSkoGYTS-pR_"
      },
      "source": [
        "### Example: Random Sampling and Permutation"
      ]
    },
    {
      "cell_type": "code",
      "execution_count": null,
      "metadata": {
        "deletable": true,
        "editable": true,
        "id": "ZvYd-Ld5-pR_"
      },
      "outputs": [],
      "source": [
        "# Hearts, Spades, Clubs, Diamonds\n",
        "suits = ['H', 'S', 'C', 'D']\n",
        "card_val = (list(range(1, 11)) + [10] * 3) * 4\n",
        "base_names = ['A'] + list(range(2, 11)) + ['J', 'K', 'Q']\n",
        "cards = []\n",
        "for suit in ['H', 'S', 'C', 'D']:\n",
        "    cards.extend(str(num) + suit for num in base_names)\n",
        "\n",
        "deck = pd.Series(card_val, index=cards)"
      ]
    },
    {
      "cell_type": "code",
      "execution_count": null,
      "metadata": {
        "deletable": true,
        "editable": true,
        "id": "YFaUgyQs-pR_"
      },
      "outputs": [],
      "source": [
        "deck[:13]"
      ]
    },
    {
      "cell_type": "code",
      "execution_count": null,
      "metadata": {
        "deletable": true,
        "editable": true,
        "id": "0pbiJ8Rb-pSA"
      },
      "outputs": [],
      "source": [
        "def draw(deck, n=5):\n",
        "    return deck.sample(n)\n",
        "draw(deck)"
      ]
    },
    {
      "cell_type": "code",
      "execution_count": null,
      "metadata": {
        "deletable": true,
        "editable": true,
        "id": "3ZBbUnHm-pSA"
      },
      "outputs": [],
      "source": [
        "get_suit = lambda card: card[-1] # last letter is suit\n",
        "deck.groupby(get_suit).apply(draw, n=2)"
      ]
    },
    {
      "cell_type": "code",
      "execution_count": null,
      "metadata": {
        "deletable": true,
        "editable": true,
        "id": "U46DAd9I-pSA"
      },
      "outputs": [],
      "source": [
        "deck.groupby(get_suit, group_keys=False).apply(draw, n=2)"
      ]
    },
    {
      "cell_type": "markdown",
      "source": [
        "\n",
        "\n",
        "---\n",
        "\n"
      ],
      "metadata": {
        "id": "Y4_W81U7_ua0"
      }
    },
    {
      "cell_type": "markdown",
      "metadata": {
        "deletable": true,
        "editable": true,
        "id": "p15-_-Sx-pSA"
      },
      "source": [
        "### Example: Group Weighted Average and Correlation"
      ]
    },
    {
      "cell_type": "code",
      "execution_count": null,
      "metadata": {
        "deletable": true,
        "editable": true,
        "id": "Vx4ny05o-pSA"
      },
      "outputs": [],
      "source": [
        "df = pd.DataFrame({'category': ['a', 'a', 'a', 'a',\n",
        "                                'b', 'b', 'b', 'b'],\n",
        "                   'data': np.random.randn(8),\n",
        "                   'weights': np.random.rand(8)})\n",
        "df"
      ]
    },
    {
      "cell_type": "code",
      "execution_count": null,
      "metadata": {
        "deletable": true,
        "editable": true,
        "id": "V4h5uUPR-pSA"
      },
      "outputs": [],
      "source": [
        "grouped = df.groupby('category')\n",
        "get_wavg = lambda g: np.average(g['data'], weights=g['weights'])\n",
        "grouped.apply(get_wavg)"
      ]
    },
    {
      "cell_type": "code",
      "execution_count": null,
      "metadata": {
        "deletable": true,
        "editable": true,
        "id": "IvUt4fUE-pSB"
      },
      "outputs": [],
      "source": [
        "close_px = pd.read_csv('examples/stock_px_2.csv', parse_dates=True,\n",
        "                       index_col=0)\n",
        "close_px.info()\n",
        "close_px[-4:]"
      ]
    },
    {
      "cell_type": "code",
      "execution_count": null,
      "metadata": {
        "deletable": true,
        "editable": true,
        "id": "2E6Xpe6x-pSB"
      },
      "outputs": [],
      "source": [
        "spx_corr = lambda x: x.corrwith(x['SPX'])"
      ]
    },
    {
      "cell_type": "code",
      "execution_count": null,
      "metadata": {
        "deletable": true,
        "editable": true,
        "id": "BvN9OldA-pSB"
      },
      "outputs": [],
      "source": [
        "rets = close_px.pct_change().dropna()"
      ]
    },
    {
      "cell_type": "code",
      "execution_count": null,
      "metadata": {
        "deletable": true,
        "editable": true,
        "id": "RT45Bj45-pSE"
      },
      "outputs": [],
      "source": [
        "get_year = lambda x: x.year\n",
        "by_year = rets.groupby(get_year)\n",
        "by_year.apply(spx_corr)"
      ]
    },
    {
      "cell_type": "code",
      "execution_count": null,
      "metadata": {
        "deletable": true,
        "editable": true,
        "id": "VurbZzYO-pSE"
      },
      "outputs": [],
      "source": [
        "by_year.apply(lambda g: g['AAPL'].corr(g['MSFT']))"
      ]
    },
    {
      "cell_type": "markdown",
      "source": [
        "\n",
        "\n",
        "---\n",
        "\n"
      ],
      "metadata": {
        "id": "qX5BkjsN_zNz"
      }
    },
    {
      "cell_type": "markdown",
      "metadata": {
        "deletable": true,
        "editable": true,
        "id": "ZFDYC4VY-pSE"
      },
      "source": [
        "### Example: Group-Wise Linear Regression"
      ]
    },
    {
      "cell_type": "code",
      "execution_count": null,
      "metadata": {
        "deletable": true,
        "editable": true,
        "id": "uyOsecWb-pSF"
      },
      "outputs": [],
      "source": [
        "import statsmodels.api as sm\n",
        "def regress(data, yvar, xvars):\n",
        "    Y = data[yvar]\n",
        "    X = data[xvars]\n",
        "    X['intercept'] = 1.\n",
        "    result = sm.OLS(Y, X).fit()\n",
        "    return result.params"
      ]
    },
    {
      "cell_type": "code",
      "execution_count": null,
      "metadata": {
        "deletable": true,
        "editable": true,
        "id": "G_rKxRlw-pSF"
      },
      "outputs": [],
      "source": [
        "by_year.apply(regress, 'AAPL', ['SPX'])"
      ]
    },
    {
      "cell_type": "markdown",
      "source": [
        "\n",
        "\n",
        "---\n",
        "\n"
      ],
      "metadata": {
        "id": "W9MZ5DJC_1pw"
      }
    },
    {
      "cell_type": "markdown",
      "metadata": {
        "deletable": true,
        "editable": true,
        "id": "Tgy6g4Xt-pSF"
      },
      "source": [
        "## Pivot Tables and Cross-Tabulation"
      ]
    },
    {
      "cell_type": "code",
      "execution_count": null,
      "metadata": {
        "deletable": true,
        "editable": true,
        "id": "MGZVP84j-pSF"
      },
      "outputs": [],
      "source": [
        "tips.pivot_table(index=['day', 'smoker'])"
      ]
    },
    {
      "cell_type": "code",
      "execution_count": null,
      "metadata": {
        "deletable": true,
        "editable": true,
        "id": "XK8eqCdR-pSF"
      },
      "outputs": [],
      "source": [
        "tips.pivot_table(['tip_pct', 'size'], index=['time', 'day'],\n",
        "                 columns='smoker')"
      ]
    },
    {
      "cell_type": "code",
      "execution_count": null,
      "metadata": {
        "deletable": true,
        "editable": true,
        "id": "ROD8oa8w-pSF"
      },
      "outputs": [],
      "source": [
        "tips.pivot_table(['tip_pct', 'size'], index=['time', 'day'],\n",
        "                 columns='smoker', margins=True)"
      ]
    },
    {
      "cell_type": "code",
      "execution_count": null,
      "metadata": {
        "deletable": true,
        "editable": true,
        "id": "l4O4ONGm-pSG"
      },
      "outputs": [],
      "source": [
        "tips.pivot_table('tip_pct', index=['time', 'smoker'], columns='day',\n",
        "                 aggfunc=len, margins=True)"
      ]
    },
    {
      "cell_type": "code",
      "execution_count": null,
      "metadata": {
        "deletable": true,
        "editable": true,
        "id": "WdmK7nO0-pSG"
      },
      "outputs": [],
      "source": [
        "tips.pivot_table('tip_pct', index=['time', 'size', 'smoker'],\n",
        "                 columns='day', aggfunc='mean', fill_value=0)"
      ]
    },
    {
      "cell_type": "markdown",
      "source": [
        "\n",
        "\n",
        "---\n",
        "\n"
      ],
      "metadata": {
        "id": "tk-D68QZ_3JI"
      }
    },
    {
      "cell_type": "markdown",
      "metadata": {
        "deletable": true,
        "editable": true,
        "id": "If1tdNE2-pSG"
      },
      "source": [
        "### Cross-Tabulations: Crosstab"
      ]
    },
    {
      "cell_type": "code",
      "execution_count": null,
      "metadata": {
        "deletable": true,
        "editable": true,
        "id": "dUU0UyCJ-pSG"
      },
      "outputs": [],
      "source": [
        "from io import StringIO\n",
        "data = \"\"\"\\\n",
        "Sample  Nationality  Handedness\n",
        "1   USA  Right-handed\n",
        "2   Japan    Left-handed\n",
        "3   USA  Right-handed\n",
        "4   Japan    Right-handed\n",
        "5   Japan    Left-handed\n",
        "6   Japan    Right-handed\n",
        "7   USA  Right-handed\n",
        "8   USA  Left-handed\n",
        "9   Japan    Right-handed\n",
        "10  USA  Right-handed\"\"\"\n",
        "data = pd.read_table(StringIO(data), sep='\\s+')"
      ]
    },
    {
      "cell_type": "code",
      "execution_count": null,
      "metadata": {
        "deletable": true,
        "editable": true,
        "id": "OBqRFOmE-pSG"
      },
      "outputs": [],
      "source": [
        "data"
      ]
    },
    {
      "cell_type": "code",
      "execution_count": null,
      "metadata": {
        "deletable": true,
        "editable": true,
        "id": "_P9rdPDB-pSG"
      },
      "outputs": [],
      "source": [
        "pd.crosstab(data.Nationality, data.Handedness, margins=True)"
      ]
    },
    {
      "cell_type": "code",
      "execution_count": null,
      "metadata": {
        "deletable": true,
        "editable": true,
        "id": "HI6RgGzG-pSG"
      },
      "outputs": [],
      "source": [
        "pd.crosstab([tips.time, tips.day], tips.smoker, margins=True)"
      ]
    },
    {
      "cell_type": "code",
      "execution_count": null,
      "metadata": {
        "deletable": true,
        "editable": true,
        "id": "F7mntZB5-pSH"
      },
      "outputs": [],
      "source": [
        "pd.options.display.max_rows = PREVIOUS_MAX_ROWS"
      ]
    },
    {
      "cell_type": "markdown",
      "source": [
        "\n",
        "\n",
        "---\n",
        "\n"
      ],
      "metadata": {
        "id": "jx9DDLUk_5nV"
      }
    },
    {
      "cell_type": "markdown",
      "metadata": {
        "deletable": true,
        "editable": true,
        "id": "qHIqu6GO-pSH"
      },
      "source": [
        "## Conclusion"
      ]
    }
  ],
  "metadata": {
    "kernelspec": {
      "display_name": "Python 3",
      "language": "python",
      "name": "python3"
    },
    "language_info": {
      "codemirror_mode": {
        "name": "ipython",
        "version": 3
      },
      "file_extension": ".py",
      "mimetype": "text/x-python",
      "name": "python",
      "nbconvert_exporter": "python",
      "pygments_lexer": "ipython3",
      "version": "3.6.0"
    },
    "colab": {
      "name": "CST3512_WM-ch10.ipynb",
      "provenance": [],
      "collapsed_sections": [],
      "include_colab_link": true
    }
  },
  "nbformat": 4,
  "nbformat_minor": 0
}