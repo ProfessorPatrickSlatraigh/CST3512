{
  "nbformat": 4,
  "nbformat_minor": 0,
  "metadata": {
    "colab": {
      "provenance": [],
      "authorship_tag": "ABX9TyMkKGmFsWTLxadKrPMJHUsL",
      "include_colab_link": true
    },
    "kernelspec": {
      "name": "python3",
      "display_name": "Python 3"
    },
    "language_info": {
      "name": "python"
    }
  },
  "cells": [
    {
      "cell_type": "markdown",
      "metadata": {
        "id": "view-in-github",
        "colab_type": "text"
      },
      "source": [
        "<a href=\"https://colab.research.google.com/github/ProfessorPatrickSlatraigh/CST3512/blob/main/CST3512_EXERCISE_ElectricEnergySources.ipynb\" target=\"_parent\"><img src=\"https://colab.research.google.com/assets/colab-badge.svg\" alt=\"Open In Colab\"/></a>"
      ]
    },
    {
      "cell_type": "markdown",
      "source": [
        "# EXERCISE: Electric Energy Sources        \n",
        "**CST3512 Information and Data Management II**  \n",
        "\n"
      ],
      "metadata": {
        "id": "aYHBOj7XMM7d"
      }
    },
    {
      "cell_type": "markdown",
      "source": [
        "##Instructions:    \n",
        "\n",
        "1. Compare the United States' mix of energy sources used for electricity to the mix of energy sources used for electricity by one other country of your choosing.   \n",
        "2. Create a plot to demonstrate the difference in the mix of sources.    \n",
        "3. You do not need to use OWID as a source, but OWID related references are provided below.     \n",
        "4. You may use any time period you like.    \n",
        "5. For extra credit: Plot the change in the mix over time between the two countries.     \n"
      ],
      "metadata": {
        "id": "5-MQ5c0ERLF1"
      }
    },
    {
      "cell_type": "markdown",
      "source": [
        "### Some OWID References:   \n",
        "\n",
        "\n",
        "1. [**OWID on Energy**](https://ourworldindata.org/energy)    \n",
        "\n",
        "2. [**OWID Electricity Mix**](https://ourworldindata.org/electricity-mix)    \n",
        "\n",
        "3. [**OWID Energy Data Codebook**](https://github.com/owid/energy-data/blob/master/owid-energy-codebook.csv)    \n",
        "\n",
        "4. [**RAW File of OWID Energy Data Descriptions**](https://raw.githubusercontent.com/owid/energy-data/master/owid-energy-codebook.csv)    \n",
        " \n",
        "5. [**RAW OWID Energy Data**](https://raw.githubusercontent.com/owid/energy-data/master/owid-energy-data.csv)    \n",
        "\n"
      ],
      "metadata": {
        "id": "oMcs0UbrMvcp"
      }
    },
    {
      "cell_type": "markdown",
      "source": [
        "*To get you started, here is a code block which places a copy of the OWID Energy Data in your current working directory as a .CSV file.*    \n"
      ],
      "metadata": {
        "id": "cGTGxQ4WNt_J"
      }
    },
    {
      "cell_type": "code",
      "execution_count": null,
      "metadata": {
        "id": "w8Vxu95-MFUY"
      },
      "outputs": [],
      "source": [
        "!curl \"https://raw.githubusercontent.com/owid/energy-data/master/owid-energy-data.csv\" -o owid-energy-data.csv"
      ]
    },
    {
      "cell_type": "markdown",
      "source": [
        "---"
      ],
      "metadata": {
        "id": "lpdwTBZDOFu2"
      }
    },
    {
      "cell_type": "markdown",
      "source": [
        "## Your Work    \n",
        "\n",
        "*Add code and text blocks below to demonstrate your work.*    \n"
      ],
      "metadata": {
        "id": "OKDjxAQZOHlr"
      }
    }
  ]
}