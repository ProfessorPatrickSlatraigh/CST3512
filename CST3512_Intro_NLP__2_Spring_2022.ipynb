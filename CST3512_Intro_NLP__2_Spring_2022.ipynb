{
  "nbformat": 4,
  "nbformat_minor": 0,
  "metadata": {
    "colab": {
      "name": "CST3512_Intro-NLP_#2_Spring-2022.ipynb",
      "provenance": [],
      "collapsed_sections": [],
      "authorship_tag": "ABX9TyN+AVS/K+FaDoN08kGoynVI",
      "include_colab_link": true
    },
    "kernelspec": {
      "name": "python3",
      "display_name": "Python 3"
    },
    "language_info": {
      "name": "python"
    }
  },
  "cells": [
    {
      "cell_type": "markdown",
      "metadata": {
        "id": "view-in-github",
        "colab_type": "text"
      },
      "source": [
        "<a href=\"https://colab.research.google.com/github/ProfessorPatrickSlatraigh/CST3512/blob/main/CST3512_Intro_NLP__2_Spring_2022.ipynb\" target=\"_parent\"><img src=\"https://colab.research.google.com/assets/colab-badge.svg\" alt=\"Open In Colab\"/></a>"
      ]
    },
    {
      "cell_type": "markdown",
      "source": [
        "# Introduction to NLP (continued)\n",
        "\n",
        "from:\n",
        "*Introduction to Natural Language Processing: NLP Tools For Python by Janier Ramos, 01-May-2021 in Medium.com*\n",
        "\n",
        "url:\n",
        "*https://itnext.io/introduction-to-natural-language-processing-nlp-tools-for-python-cf39af3cfc64*\n",
        "\n",
        "Includes discussion of:    \n",
        "\n",
        "* Common NLP Tasks    \n",
        "* Morphological Analysis \n",
        "* Feature Extraction\n",
        "* Text Classification  \n",
        "\n"
      ],
      "metadata": {
        "id": "5pXeh-5yTV7_"
      }
    },
    {
      "cell_type": "markdown",
      "source": [
        "##Common NLP Tasks   \n",
        "\n",
        "###Data Preparation  \n",
        "* Lower Case\n",
        "* Split Words\n",
        "* Stop Words   \n",
        "\n",
        "###Morphological Analysis\n",
        "* Stemming\n",
        "* Lemmatization\n",
        "\n",
        "### Feature Extraction and Text Classification\n",
        "* Feature(s) i.e. column(s)\n",
        "* Target (for supervised learning)\n",
        "* Feature Vector (features into numeric values)\n",
        "* -- Bag of Words \n",
        "* -- TF/IDF (term frequency / inverse document frequency) \n",
        "* -- Word Embedding (*see: https://en.wikipedia.org/wiki/Word_embedding*)\n",
        "* --- or, Thought Vectors\n",
        "* Sentiment Analysis\n",
        "* Part of Speech Tagging (PoS) \n",
        "* Named Entity Recognition (NER) \n",
        "* Topic Modelling (an unsupervised method) \n"
      ],
      "metadata": {
        "id": "zRocQWqST2KG"
      }
    },
    {
      "cell_type": "markdown",
      "source": [
        "\n",
        "\n",
        "---\n",
        "\n"
      ],
      "metadata": {
        "id": "IsQNAMVzTUHw"
      }
    },
    {
      "cell_type": "markdown",
      "source": [
        "##NLTK vs. Spacy    "
      ],
      "metadata": {
        "id": "apfFTLulehTD"
      }
    },
    {
      "cell_type": "markdown",
      "source": [
        "\n",
        "---\n"
      ],
      "metadata": {
        "id": "GLnfn536eZXK"
      }
    }
  ]
}