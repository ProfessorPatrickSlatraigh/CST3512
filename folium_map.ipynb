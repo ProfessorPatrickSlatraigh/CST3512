{
  "nbformat": 4,
  "nbformat_minor": 0,
  "metadata": {
    "colab": {
      "name": "folium_map.ipynb",
      "provenance": [],
      "collapsed_sections": [],
      "authorship_tag": "ABX9TyO5GscIxQWayq8BedUpSxW7",
      "include_colab_link": true
    },
    "kernelspec": {
      "name": "python3",
      "display_name": "Python 3"
    },
    "language_info": {
      "name": "python"
    }
  },
  "cells": [
    {
      "cell_type": "markdown",
      "metadata": {
        "id": "view-in-github",
        "colab_type": "text"
      },
      "source": [
        "<a href=\"https://colab.research.google.com/github/ProfessorPatrickSlatraigh/CST3512/blob/main/folium_map.ipynb\" target=\"_parent\"><img src=\"https://colab.research.google.com/assets/colab-badge.svg\" alt=\"Open In Colab\"/></a>"
      ]
    },
    {
      "cell_type": "markdown",
      "source": [
        "#Folium Map    \n",
        "\n",
        "Includes information from:    \n",
        "\n",
        "* **Using GeoJson with Folio** - [Youtube video](https://youtu.be/oTVqwN5ymKo) by franchyze923 and supporting [Github repo](https://github.com/franchyze923/Code_From_Tutorials/tree/master/Python%20Folium%20Web%20Mapping)    \n",
        "\n"
      ],
      "metadata": {
        "id": "8guV_QQ1dacx"
      }
    },
    {
      "cell_type": "markdown",
      "source": [
        "**GeoJson and KML Data**\n",
        "GeoJason and KML data for the United States in available in varying levels of detail by state, county, and congressional district from the following:    \n",
        "* [**GEOJSON AND KML DATA FOR THE UNITED STATES**](https://eric.clst.org/tech/usgeojson/)\n",
        "\n",
        "\n",
        "**BaseMaps**\n",
        "\n",
        "Leaflet basemaps are available from the following:    \n",
        "\n",
        "* [**Github: leaflet-extras**](https://leaflet-extras.github.io/leaflet-providers/preview/)    \n",
        "\n",
        "\n",
        "**leaflet API**    \n",
        "\n",
        "Leaflet API documentation on objects, methods, parameters, and more available from the following:    \n",
        "\n",
        "* [**Leaflet - an open-source JavaScript library for mobile-friendly interactive maps**](https://leafletjs.com/reference-1.6.0.html#path-option)\n"
      ],
      "metadata": {
        "id": "1vGdj8c4mr5g"
      }
    },
    {
      "cell_type": "markdown",
      "source": [
        "##Housekeeping    \n",
        "\n",
        "Import the `folium` module    \n"
      ],
      "metadata": {
        "id": "H9RKDQtlfptB"
      }
    },
    {
      "cell_type": "code",
      "execution_count": null,
      "metadata": {
        "id": "ekmPQsYmdXwx"
      },
      "outputs": [],
      "source": [
        "# import folium for creation of maps \n",
        "import folium"
      ]
    },
    {
      "cell_type": "code",
      "source": [
        "# create a map variable `m` with   \n",
        "m = folium.Map(location=[37, 0],\n",
        "           zoom_start=2.5,\n",
        "           tiles='https://server.arcgisonline.com/arcgis/rest/services/Canvas/World_Dark_Gray_Base/MapServer/tile/{z}/{y}/{x}',\n",
        "           attr='My Data Attribution')\n"
      ],
      "metadata": {
        "id": "G2cMAWPef6T-"
      },
      "execution_count": null,
      "outputs": []
    },
    {
      "cell_type": "code",
      "source": [
        "# load a `.geojson` shape file for U.S. states and counties to the current working directory \n",
        "!curl https://raw.githubusercontent.com/kjhealy/us-county/master/data/geojson/gz_2010_us_040_00_500k.json -o \"gz_2010_us_040_00_500k.geojson\""
      ],
      "metadata": {
        "colab": {
          "base_uri": "https://localhost:8080/"
        },
        "id": "CuMouLixhfVT",
        "outputId": "6ea67f9c-dbdb-4a96-cc07-a9574a1828be"
      },
      "execution_count": null,
      "outputs": [
        {
          "output_type": "stream",
          "name": "stdout",
          "text": [
            "  % Total    % Received % Xferd  Average Speed   Time    Time     Time  Current\n",
            "                                 Dload  Upload   Total   Spent    Left  Speed\n",
            "\r  0     0    0     0    0     0      0      0 --:--:-- --:--:-- --:--:--     0\r100 2432k  100 2432k    0     0  24.4M      0 --:--:-- --:--:-- --:--:-- 24.4M\n"
          ]
        }
      ]
    },
    {
      "cell_type": "code",
      "source": [
        "# assign a real string to a `geojson` variable with a path to the `.geojson` shape file \n",
        "geojson = r\"gz_2010_us_040_00_500k.geojson\""
      ],
      "metadata": {
        "id": "dipcCS9jgKo5"
      },
      "execution_count": null,
      "outputs": []
    },
    {
      "cell_type": "code",
      "source": [
        "# create a variable `g` using the `.GeoJson()` method\n",
        "g = folium.GeoJson(\n",
        "    geojson,\n",
        "    name='geojson'\n",
        ").add_to(m)"
      ],
      "metadata": {
        "id": "RiXzlDiLgWDF"
      },
      "execution_count": null,
      "outputs": []
    },
    {
      "cell_type": "code",
      "source": [
        "# adding NAME to the GeoJson variabl `g`\n",
        "folium.GeoJsonTooltip(fields=[\"NAME\"]).add_to(g)"
      ],
      "metadata": {
        "colab": {
          "base_uri": "https://localhost:8080/"
        },
        "id": "QlxvYEkdios4",
        "outputId": "a3a933e1-e598-492f-b205-0369edf699a2"
      },
      "execution_count": null,
      "outputs": [
        {
          "output_type": "execute_result",
          "data": {
            "text/plain": [
              "<folium.features.GeoJsonTooltip at 0x7f3a0b1a9790>"
            ]
          },
          "metadata": {},
          "execution_count": 17
        }
      ]
    },
    {
      "cell_type": "code",
      "source": [
        "# save the map as an HTML document \n",
        "m.save(\"sample_map.html\")    \n"
      ],
      "metadata": {
        "id": "BIxALl9BgFQ1"
      },
      "execution_count": null,
      "outputs": []
    },
    {
      "cell_type": "code",
      "source": [
        "# download the `sample_map.html` file\n",
        "# !gdown sample_map.html  # this would work if the file is in Google Drive with permission\n",
        "\n",
        "from google.colab import files\n",
        "files.download(\"sample_map.html\")"
      ],
      "metadata": {
        "colab": {
          "base_uri": "https://localhost:8080/",
          "height": 17
        },
        "id": "8DbrEiXFjV4U",
        "outputId": "19334b31-aa1e-4fc1-d782-4c5a3a8f628b"
      },
      "execution_count": null,
      "outputs": [
        {
          "output_type": "display_data",
          "data": {
            "text/plain": [
              "<IPython.core.display.Javascript object>"
            ],
            "application/javascript": [
              "\n",
              "    async function download(id, filename, size) {\n",
              "      if (!google.colab.kernel.accessAllowed) {\n",
              "        return;\n",
              "      }\n",
              "      const div = document.createElement('div');\n",
              "      const label = document.createElement('label');\n",
              "      label.textContent = `Downloading \"${filename}\": `;\n",
              "      div.appendChild(label);\n",
              "      const progress = document.createElement('progress');\n",
              "      progress.max = size;\n",
              "      div.appendChild(progress);\n",
              "      document.body.appendChild(div);\n",
              "\n",
              "      const buffers = [];\n",
              "      let downloaded = 0;\n",
              "\n",
              "      const channel = await google.colab.kernel.comms.open(id);\n",
              "      // Send a message to notify the kernel that we're ready.\n",
              "      channel.send({})\n",
              "\n",
              "      for await (const message of channel.messages) {\n",
              "        // Send a message to notify the kernel that we're ready.\n",
              "        channel.send({})\n",
              "        if (message.buffers) {\n",
              "          for (const buffer of message.buffers) {\n",
              "            buffers.push(buffer);\n",
              "            downloaded += buffer.byteLength;\n",
              "            progress.value = downloaded;\n",
              "          }\n",
              "        }\n",
              "      }\n",
              "      const blob = new Blob(buffers, {type: 'application/binary'});\n",
              "      const a = document.createElement('a');\n",
              "      a.href = window.URL.createObjectURL(blob);\n",
              "      a.download = filename;\n",
              "      div.appendChild(a);\n",
              "      a.click();\n",
              "      div.remove();\n",
              "    }\n",
              "  "
            ]
          },
          "metadata": {}
        },
        {
          "output_type": "display_data",
          "data": {
            "text/plain": [
              "<IPython.core.display.Javascript object>"
            ],
            "application/javascript": [
              "download(\"download_52fb982d-cdcd-4adc-8ba3-b37b1052ee5a\", \"sample_map.html\", 2291185)"
            ]
          },
          "metadata": {}
        }
      ]
    }
  ]
}