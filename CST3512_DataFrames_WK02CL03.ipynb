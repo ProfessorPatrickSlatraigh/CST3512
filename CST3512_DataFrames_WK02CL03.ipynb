{
  "nbformat": 4,
  "nbformat_minor": 0,
  "metadata": {
    "colab": {
      "name": "CST3512_DataFrames_WK02CL03.ipynb",
      "provenance": [],
      "collapsed_sections": [
        "FLgKXET5RPPb"
      ],
      "include_colab_link": true
    },
    "kernelspec": {
      "name": "python3",
      "display_name": "Python 3"
    },
    "language_info": {
      "name": "python"
    }
  },
  "cells": [
    {
      "cell_type": "markdown",
      "metadata": {
        "id": "view-in-github",
        "colab_type": "text"
      },
      "source": [
        "<a href=\"https://colab.research.google.com/github/ProfessorPatrickSlatraigh/CST3512/blob/main/CST3512_DataFrames_WK02CL03.ipynb\" target=\"_parent\"><img src=\"https://colab.research.google.com/assets/colab-badge.svg\" alt=\"Open In Colab\"/></a>"
      ]
    },
    {
      "cell_type": "code",
      "metadata": {
        "id": "g05z2njpaeTZ"
      },
      "source": [
        ""
      ],
      "execution_count": null,
      "outputs": []
    },
    {
      "cell_type": "markdown",
      "source": [
        "# **CST3512 - Information and Data Management II**\n",
        "\n",
        "**Week #02**\n"
      ],
      "metadata": {
        "id": "2e6zv-M-aQMy"
      }
    },
    {
      "cell_type": "markdown",
      "source": [
        "## Pandas Review"
      ],
      "metadata": {
        "id": "4t18D-cQTh2y"
      }
    },
    {
      "cell_type": "markdown",
      "metadata": {
        "id": "ycUTUOp0RPLL"
      },
      "source": [
        "## Setup and preliminaries"
      ]
    },
    {
      "cell_type": "markdown",
      "metadata": {
        "id": "SPK-fH_vRPLR"
      },
      "source": [
        "In order to read and process files, we are going to use a very powerful, and widely used Python library, called pandas. So, our next step is to import the pandas library in Python, and also import the library matplotlib for generating plots:"
      ]
    },
    {
      "cell_type": "code",
      "metadata": {
        "id": "rs9khdOxRPLS"
      },
      "source": [
        "import pandas as pd\n",
        "import numpy as np"
      ],
      "execution_count": 1,
      "outputs": []
    },
    {
      "cell_type": "markdown",
      "metadata": {
        "id": "EZIRsPfkbFRN"
      },
      "source": [
        "# Data Types and Conversions"
      ]
    },
    {
      "cell_type": "markdown",
      "metadata": {
        "id": "Ou04bj1STXa4"
      },
      "source": [
        "## Loading Data"
      ]
    },
    {
      "cell_type": "markdown",
      "metadata": {
        "id": "zRkwgJ2BRPLl"
      },
      "source": [
        "### From CSV Files"
      ]
    },
    {
      "cell_type": "markdown",
      "metadata": {
        "id": "3YF27gS9RPLl"
      },
      "source": [
        "We will use a dataset with [restaurant inspection results in NYC](https://data.cityofnewyork.us/Health/DOHMH-New-York-City-Restaurant-Inspection-Results/43nn-pn8j).\n",
        "\n",
        "When we fetch a file to download in a Google Colab notebook, the downloaded file resides in the '**sample_data/**' folder in the active Colab session.  That is a volatile copy which will not persist after the Colab session is closed. \n",
        "\n",
        "We fetch it by executing the following command:"
      ]
    },
    {
      "cell_type": "code",
      "metadata": {
        "id": "h5GO33l5RPLm",
        "colab": {
          "base_uri": "https://localhost:8080/"
        },
        "outputId": "d0461b7b-b538-4731-bb7f-f1e13007e938"
      },
      "source": [
        "# Fetches the most recent dataset\n",
        "!curl 'https://data.cityofnewyork.us/api/views/43nn-pn8j/rows.csv?accessType=DOWNLOAD' -o restaurant.csv"
      ],
      "execution_count": 2,
      "outputs": [
        {
          "output_type": "stream",
          "name": "stdout",
          "text": [
            "  % Total    % Received % Xferd  Average Speed   Time    Time     Time  Current\n",
            "                                 Dload  Upload   Total   Spent    Left  Speed\n",
            "100  156M    0  156M    0     0  6367k      0 --:--:--  0:00:25 --:--:-- 7461k\n"
          ]
        }
      ]
    },
    {
      "cell_type": "markdown",
      "metadata": {
        "id": "WNsW_56mRPLq"
      },
      "source": [
        "We want to be able to read and process this file within Python. The pandas library has a very convenient method `read_csv` which reads the file, and returns back a variable that contains its contents."
      ]
    },
    {
      "cell_type": "code",
      "metadata": {
        "id": "n0_mc9_6RPLq"
      },
      "source": [
        "import pandas as pd\n",
        "\n",
        "restaurants = pd.read_csv(\n",
        "    \"restaurant.csv\",\n",
        "    encoding=\"utf_8\",\n",
        "    dtype=\"unicode\",\n",
        "    parse_dates=True,\n",
        "    infer_datetime_format=True,\n",
        "    low_memory=False,\n",
        ")"
      ],
      "execution_count": 3,
      "outputs": []
    },
    {
      "cell_type": "markdown",
      "metadata": {
        "id": "13OxAtwORPLt"
      },
      "source": [
        "When you read a CSV, you get back a kind of object called a DataFrame, which is made up of rows and columns. You get columns out of a DataFrame the same way you get elements out of a dictionary. Let's take a look at that DataFrame object's first five rows and the columns of data with the **'.head(5)'** method:"
      ]
    },
    {
      "cell_type": "code",
      "metadata": {
        "id": "kHawKZ5fRPLu",
        "colab": {
          "base_uri": "https://localhost:8080/",
          "height": 722
        },
        "outputId": "481a11cd-696a-48a8-c5c1-189b4f81c713"
      },
      "source": [
        "restaurants.head(5)"
      ],
      "execution_count": 4,
      "outputs": [
        {
          "output_type": "execute_result",
          "data": {
            "text/html": [
              "\n",
              "  <div id=\"df-480c4323-1f95-4aa0-a926-81b18d3f8c13\">\n",
              "    <div class=\"colab-df-container\">\n",
              "      <div>\n",
              "<style scoped>\n",
              "    .dataframe tbody tr th:only-of-type {\n",
              "        vertical-align: middle;\n",
              "    }\n",
              "\n",
              "    .dataframe tbody tr th {\n",
              "        vertical-align: top;\n",
              "    }\n",
              "\n",
              "    .dataframe thead th {\n",
              "        text-align: right;\n",
              "    }\n",
              "</style>\n",
              "<table border=\"1\" class=\"dataframe\">\n",
              "  <thead>\n",
              "    <tr style=\"text-align: right;\">\n",
              "      <th></th>\n",
              "      <th>CAMIS</th>\n",
              "      <th>DBA</th>\n",
              "      <th>BORO</th>\n",
              "      <th>BUILDING</th>\n",
              "      <th>STREET</th>\n",
              "      <th>ZIPCODE</th>\n",
              "      <th>PHONE</th>\n",
              "      <th>CUISINE DESCRIPTION</th>\n",
              "      <th>INSPECTION DATE</th>\n",
              "      <th>ACTION</th>\n",
              "      <th>VIOLATION CODE</th>\n",
              "      <th>VIOLATION DESCRIPTION</th>\n",
              "      <th>CRITICAL FLAG</th>\n",
              "      <th>SCORE</th>\n",
              "      <th>GRADE</th>\n",
              "      <th>GRADE DATE</th>\n",
              "      <th>RECORD DATE</th>\n",
              "      <th>INSPECTION TYPE</th>\n",
              "      <th>Latitude</th>\n",
              "      <th>Longitude</th>\n",
              "      <th>Community Board</th>\n",
              "      <th>Council District</th>\n",
              "      <th>Census Tract</th>\n",
              "      <th>BIN</th>\n",
              "      <th>BBL</th>\n",
              "      <th>NTA</th>\n",
              "    </tr>\n",
              "  </thead>\n",
              "  <tbody>\n",
              "    <tr>\n",
              "      <th>0</th>\n",
              "      <td>50062685</td>\n",
              "      <td>POPINA</td>\n",
              "      <td>Brooklyn</td>\n",
              "      <td>127</td>\n",
              "      <td>COLUMBIA STREET</td>\n",
              "      <td>11231</td>\n",
              "      <td>7182221901</td>\n",
              "      <td>Italian</td>\n",
              "      <td>06/12/2017</td>\n",
              "      <td>Violations were cited in the following area(s).</td>\n",
              "      <td>05C</td>\n",
              "      <td>Food contact surface improperly constructed or...</td>\n",
              "      <td>Critical</td>\n",
              "      <td>64</td>\n",
              "      <td>NaN</td>\n",
              "      <td>NaN</td>\n",
              "      <td>02/06/2022</td>\n",
              "      <td>Pre-permit (Non-operational) / Initial Inspection</td>\n",
              "      <td>40.687231762007</td>\n",
              "      <td>-74.001622594583</td>\n",
              "      <td>306</td>\n",
              "      <td>39</td>\n",
              "      <td>004700</td>\n",
              "      <td>3003582</td>\n",
              "      <td>3003190032</td>\n",
              "      <td>BK33</td>\n",
              "    </tr>\n",
              "    <tr>\n",
              "      <th>1</th>\n",
              "      <td>50000741</td>\n",
              "      <td>CEMITAS PUEBLA RESTAURANT</td>\n",
              "      <td>Bronx</td>\n",
              "      <td>679</td>\n",
              "      <td>ALLERTON AVENUE</td>\n",
              "      <td>10467</td>\n",
              "      <td>7185477350</td>\n",
              "      <td>Spanish</td>\n",
              "      <td>01/19/2017</td>\n",
              "      <td>Violations were cited in the following area(s).</td>\n",
              "      <td>06C</td>\n",
              "      <td>Food not protected from potential source of co...</td>\n",
              "      <td>Critical</td>\n",
              "      <td>13</td>\n",
              "      <td>A</td>\n",
              "      <td>01/19/2017</td>\n",
              "      <td>02/06/2022</td>\n",
              "      <td>Cycle Inspection / Re-inspection</td>\n",
              "      <td>40.865416789114</td>\n",
              "      <td>-73.86805357738</td>\n",
              "      <td>211</td>\n",
              "      <td>15</td>\n",
              "      <td>033600</td>\n",
              "      <td>2053535</td>\n",
              "      <td>2045080005</td>\n",
              "      <td>BX07</td>\n",
              "    </tr>\n",
              "    <tr>\n",
              "      <th>2</th>\n",
              "      <td>50074677</td>\n",
              "      <td>SAKE JAPANESE CUISINE</td>\n",
              "      <td>Brooklyn</td>\n",
              "      <td>324</td>\n",
              "      <td>CHURCH AVENUE</td>\n",
              "      <td>11218</td>\n",
              "      <td>6462806305</td>\n",
              "      <td>Japanese</td>\n",
              "      <td>12/03/2019</td>\n",
              "      <td>Violations were cited in the following area(s).</td>\n",
              "      <td>10F</td>\n",
              "      <td>Non-food contact surface improperly constructe...</td>\n",
              "      <td>Not Critical</td>\n",
              "      <td>12</td>\n",
              "      <td>A</td>\n",
              "      <td>12/03/2019</td>\n",
              "      <td>02/06/2022</td>\n",
              "      <td>Cycle Inspection / Initial Inspection</td>\n",
              "      <td>40.64374123966</td>\n",
              "      <td>-73.977165212997</td>\n",
              "      <td>312</td>\n",
              "      <td>39</td>\n",
              "      <td>048800</td>\n",
              "      <td>3124630</td>\n",
              "      <td>3053360074</td>\n",
              "      <td>BK41</td>\n",
              "    </tr>\n",
              "    <tr>\n",
              "      <th>3</th>\n",
              "      <td>50074677</td>\n",
              "      <td>SAKE JAPANESE CUISINE</td>\n",
              "      <td>Brooklyn</td>\n",
              "      <td>324</td>\n",
              "      <td>CHURCH AVENUE</td>\n",
              "      <td>11218</td>\n",
              "      <td>6462806305</td>\n",
              "      <td>Japanese</td>\n",
              "      <td>12/03/2019</td>\n",
              "      <td>Violations were cited in the following area(s).</td>\n",
              "      <td>10F</td>\n",
              "      <td>Non-food contact surface improperly constructe...</td>\n",
              "      <td>Not Critical</td>\n",
              "      <td>12</td>\n",
              "      <td>A</td>\n",
              "      <td>12/03/2019</td>\n",
              "      <td>02/06/2022</td>\n",
              "      <td>Cycle Inspection / Initial Inspection</td>\n",
              "      <td>40.64374123966</td>\n",
              "      <td>-73.977165212997</td>\n",
              "      <td>312</td>\n",
              "      <td>39</td>\n",
              "      <td>048800</td>\n",
              "      <td>3124630</td>\n",
              "      <td>3053360074</td>\n",
              "      <td>BK41</td>\n",
              "    </tr>\n",
              "    <tr>\n",
              "      <th>4</th>\n",
              "      <td>40959012</td>\n",
              "      <td>CARVEL</td>\n",
              "      <td>Brooklyn</td>\n",
              "      <td>1652</td>\n",
              "      <td>86 STREET</td>\n",
              "      <td>11214</td>\n",
              "      <td>7182365928</td>\n",
              "      <td>Frozen Desserts</td>\n",
              "      <td>11/12/2019</td>\n",
              "      <td>Violations were cited in the following area(s).</td>\n",
              "      <td>10A</td>\n",
              "      <td>Toilet facility not maintained and provided wi...</td>\n",
              "      <td>Not Critical</td>\n",
              "      <td>13</td>\n",
              "      <td>NaN</td>\n",
              "      <td>NaN</td>\n",
              "      <td>02/06/2022</td>\n",
              "      <td>Cycle Inspection / Initial Inspection</td>\n",
              "      <td>40.609334746392</td>\n",
              "      <td>-74.006108215514</td>\n",
              "      <td>311</td>\n",
              "      <td>43</td>\n",
              "      <td>018000</td>\n",
              "      <td>3166388</td>\n",
              "      <td>3063640045</td>\n",
              "      <td>BK27</td>\n",
              "    </tr>\n",
              "  </tbody>\n",
              "</table>\n",
              "</div>\n",
              "      <button class=\"colab-df-convert\" onclick=\"convertToInteractive('df-480c4323-1f95-4aa0-a926-81b18d3f8c13')\"\n",
              "              title=\"Convert this dataframe to an interactive table.\"\n",
              "              style=\"display:none;\">\n",
              "        \n",
              "  <svg xmlns=\"http://www.w3.org/2000/svg\" height=\"24px\"viewBox=\"0 0 24 24\"\n",
              "       width=\"24px\">\n",
              "    <path d=\"M0 0h24v24H0V0z\" fill=\"none\"/>\n",
              "    <path d=\"M18.56 5.44l.94 2.06.94-2.06 2.06-.94-2.06-.94-.94-2.06-.94 2.06-2.06.94zm-11 1L8.5 8.5l.94-2.06 2.06-.94-2.06-.94L8.5 2.5l-.94 2.06-2.06.94zm10 10l.94 2.06.94-2.06 2.06-.94-2.06-.94-.94-2.06-.94 2.06-2.06.94z\"/><path d=\"M17.41 7.96l-1.37-1.37c-.4-.4-.92-.59-1.43-.59-.52 0-1.04.2-1.43.59L10.3 9.45l-7.72 7.72c-.78.78-.78 2.05 0 2.83L4 21.41c.39.39.9.59 1.41.59.51 0 1.02-.2 1.41-.59l7.78-7.78 2.81-2.81c.8-.78.8-2.07 0-2.86zM5.41 20L4 18.59l7.72-7.72 1.47 1.35L5.41 20z\"/>\n",
              "  </svg>\n",
              "      </button>\n",
              "      \n",
              "  <style>\n",
              "    .colab-df-container {\n",
              "      display:flex;\n",
              "      flex-wrap:wrap;\n",
              "      gap: 12px;\n",
              "    }\n",
              "\n",
              "    .colab-df-convert {\n",
              "      background-color: #E8F0FE;\n",
              "      border: none;\n",
              "      border-radius: 50%;\n",
              "      cursor: pointer;\n",
              "      display: none;\n",
              "      fill: #1967D2;\n",
              "      height: 32px;\n",
              "      padding: 0 0 0 0;\n",
              "      width: 32px;\n",
              "    }\n",
              "\n",
              "    .colab-df-convert:hover {\n",
              "      background-color: #E2EBFA;\n",
              "      box-shadow: 0px 1px 2px rgba(60, 64, 67, 0.3), 0px 1px 3px 1px rgba(60, 64, 67, 0.15);\n",
              "      fill: #174EA6;\n",
              "    }\n",
              "\n",
              "    [theme=dark] .colab-df-convert {\n",
              "      background-color: #3B4455;\n",
              "      fill: #D2E3FC;\n",
              "    }\n",
              "\n",
              "    [theme=dark] .colab-df-convert:hover {\n",
              "      background-color: #434B5C;\n",
              "      box-shadow: 0px 1px 3px 1px rgba(0, 0, 0, 0.15);\n",
              "      filter: drop-shadow(0px 1px 2px rgba(0, 0, 0, 0.3));\n",
              "      fill: #FFFFFF;\n",
              "    }\n",
              "  </style>\n",
              "\n",
              "      <script>\n",
              "        const buttonEl =\n",
              "          document.querySelector('#df-480c4323-1f95-4aa0-a926-81b18d3f8c13 button.colab-df-convert');\n",
              "        buttonEl.style.display =\n",
              "          google.colab.kernel.accessAllowed ? 'block' : 'none';\n",
              "\n",
              "        async function convertToInteractive(key) {\n",
              "          const element = document.querySelector('#df-480c4323-1f95-4aa0-a926-81b18d3f8c13');\n",
              "          const dataTable =\n",
              "            await google.colab.kernel.invokeFunction('convertToInteractive',\n",
              "                                                     [key], {});\n",
              "          if (!dataTable) return;\n",
              "\n",
              "          const docLinkHtml = 'Like what you see? Visit the ' +\n",
              "            '<a target=\"_blank\" href=https://colab.research.google.com/notebooks/data_table.ipynb>data table notebook</a>'\n",
              "            + ' to learn more about interactive tables.';\n",
              "          element.innerHTML = '';\n",
              "          dataTable['output_type'] = 'display_data';\n",
              "          await google.colab.output.renderOutput(dataTable, element);\n",
              "          const docLink = document.createElement('div');\n",
              "          docLink.innerHTML = docLinkHtml;\n",
              "          element.appendChild(docLink);\n",
              "        }\n",
              "      </script>\n",
              "    </div>\n",
              "  </div>\n",
              "  "
            ],
            "text/plain": [
              "      CAMIS                        DBA      BORO  ...      BIN         BBL   NTA\n",
              "0  50062685                     POPINA  Brooklyn  ...  3003582  3003190032  BK33\n",
              "1  50000741  CEMITAS PUEBLA RESTAURANT     Bronx  ...  2053535  2045080005  BX07\n",
              "2  50074677      SAKE JAPANESE CUISINE  Brooklyn  ...  3124630  3053360074  BK41\n",
              "3  50074677      SAKE JAPANESE CUISINE  Brooklyn  ...  3124630  3053360074  BK41\n",
              "4  40959012                     CARVEL  Brooklyn  ...  3166388  3063640045  BK27\n",
              "\n",
              "[5 rows x 26 columns]"
            ]
          },
          "metadata": {},
          "execution_count": 4
        }
      ]
    },
    {
      "cell_type": "markdown",
      "metadata": {
        "id": "wJyyVRCORPLz"
      },
      "source": [
        "The **'.read_csv()'** method has many options, and you can read further in the [online documentation](http://pandas.pydata.org/pandas-docs/stable/generated/pandas.io.parsers.read_csv.html)."
      ]
    },
    {
      "cell_type": "markdown",
      "source": [
        "\n",
        "\n",
        "---\n",
        "\n"
      ],
      "metadata": {
        "id": "lT_DMB7MenqA"
      }
    },
    {
      "cell_type": "markdown",
      "source": [
        "## Data Assessment and Transformations"
      ],
      "metadata": {
        "id": "U68PNrm2ebDi"
      }
    },
    {
      "cell_type": "markdown",
      "source": [
        "### More DataFrame Exploration"
      ],
      "metadata": {
        "id": "SVirM7ofeMK1"
      }
    },
    {
      "cell_type": "markdown",
      "metadata": {
        "id": "9-iZUdU_bFRO"
      },
      "source": [
        "We can also check the data types for each column with **'.dtypes'**"
      ]
    },
    {
      "cell_type": "code",
      "metadata": {
        "id": "4bsnaxMvbFRO",
        "colab": {
          "base_uri": "https://localhost:8080/"
        },
        "outputId": "15114bff-427a-46d7-c987-33846e9d82fc"
      },
      "source": [
        "restaurants.dtypes"
      ],
      "execution_count": 5,
      "outputs": [
        {
          "output_type": "execute_result",
          "data": {
            "text/plain": [
              "CAMIS                    object\n",
              "DBA                      object\n",
              "BORO                     object\n",
              "BUILDING                 object\n",
              "STREET                   object\n",
              "ZIPCODE                  object\n",
              "PHONE                    object\n",
              "CUISINE DESCRIPTION      object\n",
              "INSPECTION DATE          object\n",
              "ACTION                   object\n",
              "VIOLATION CODE           object\n",
              "VIOLATION DESCRIPTION    object\n",
              "CRITICAL FLAG            object\n",
              "SCORE                    object\n",
              "GRADE                    object\n",
              "GRADE DATE               object\n",
              "RECORD DATE              object\n",
              "INSPECTION TYPE          object\n",
              "Latitude                 object\n",
              "Longitude                object\n",
              "Community Board          object\n",
              "Council District         object\n",
              "Census Tract             object\n",
              "BIN                      object\n",
              "BBL                      object\n",
              "NTA                      object\n",
              "dtype: object"
            ]
          },
          "metadata": {},
          "execution_count": 5
        }
      ]
    },
    {
      "cell_type": "markdown",
      "metadata": {
        "id": "205YdxR7bFRO"
      },
      "source": [
        "We can use the method **'.describe()'** to get a quick overview of the data in the dataframe."
      ]
    },
    {
      "cell_type": "code",
      "metadata": {
        "id": "dgtjukEUbFRO",
        "colab": {
          "base_uri": "https://localhost:8080/",
          "height": 343
        },
        "outputId": "30b7356d-a236-4973-a4c9-efd97de2eb4e"
      },
      "source": [
        "restaurants.describe()"
      ],
      "execution_count": 6,
      "outputs": [
        {
          "output_type": "execute_result",
          "data": {
            "text/html": [
              "\n",
              "  <div id=\"df-acd687f5-d7f5-403a-8550-cf21493d2544\">\n",
              "    <div class=\"colab-df-container\">\n",
              "      <div>\n",
              "<style scoped>\n",
              "    .dataframe tbody tr th:only-of-type {\n",
              "        vertical-align: middle;\n",
              "    }\n",
              "\n",
              "    .dataframe tbody tr th {\n",
              "        vertical-align: top;\n",
              "    }\n",
              "\n",
              "    .dataframe thead th {\n",
              "        text-align: right;\n",
              "    }\n",
              "</style>\n",
              "<table border=\"1\" class=\"dataframe\">\n",
              "  <thead>\n",
              "    <tr style=\"text-align: right;\">\n",
              "      <th></th>\n",
              "      <th>CAMIS</th>\n",
              "      <th>DBA</th>\n",
              "      <th>BORO</th>\n",
              "      <th>BUILDING</th>\n",
              "      <th>STREET</th>\n",
              "      <th>ZIPCODE</th>\n",
              "      <th>PHONE</th>\n",
              "      <th>CUISINE DESCRIPTION</th>\n",
              "      <th>INSPECTION DATE</th>\n",
              "      <th>ACTION</th>\n",
              "      <th>VIOLATION CODE</th>\n",
              "      <th>VIOLATION DESCRIPTION</th>\n",
              "      <th>CRITICAL FLAG</th>\n",
              "      <th>SCORE</th>\n",
              "      <th>GRADE</th>\n",
              "      <th>GRADE DATE</th>\n",
              "      <th>RECORD DATE</th>\n",
              "      <th>INSPECTION TYPE</th>\n",
              "      <th>Latitude</th>\n",
              "      <th>Longitude</th>\n",
              "      <th>Community Board</th>\n",
              "      <th>Council District</th>\n",
              "      <th>Census Tract</th>\n",
              "      <th>BIN</th>\n",
              "      <th>BBL</th>\n",
              "      <th>NTA</th>\n",
              "    </tr>\n",
              "  </thead>\n",
              "  <tbody>\n",
              "    <tr>\n",
              "      <th>count</th>\n",
              "      <td>373466</td>\n",
              "      <td>372330</td>\n",
              "      <td>373466</td>\n",
              "      <td>372847</td>\n",
              "      <td>373454</td>\n",
              "      <td>367961</td>\n",
              "      <td>373439</td>\n",
              "      <td>369693</td>\n",
              "      <td>373466</td>\n",
              "      <td>369694</td>\n",
              "      <td>365262</td>\n",
              "      <td>367610</td>\n",
              "      <td>373466</td>\n",
              "      <td>356599</td>\n",
              "      <td>188791</td>\n",
              "      <td>184560</td>\n",
              "      <td>373466</td>\n",
              "      <td>369694</td>\n",
              "      <td>373101</td>\n",
              "      <td>373101</td>\n",
              "      <td>367061</td>\n",
              "      <td>367069</td>\n",
              "      <td>367069</td>\n",
              "      <td>365324</td>\n",
              "      <td>372554</td>\n",
              "      <td>367061</td>\n",
              "    </tr>\n",
              "    <tr>\n",
              "      <th>unique</th>\n",
              "      <td>29937</td>\n",
              "      <td>23077</td>\n",
              "      <td>6</td>\n",
              "      <td>7681</td>\n",
              "      <td>2489</td>\n",
              "      <td>229</td>\n",
              "      <td>27366</td>\n",
              "      <td>87</td>\n",
              "      <td>1569</td>\n",
              "      <td>5</td>\n",
              "      <td>105</td>\n",
              "      <td>106</td>\n",
              "      <td>3</td>\n",
              "      <td>134</td>\n",
              "      <td>7</td>\n",
              "      <td>1402</td>\n",
              "      <td>1</td>\n",
              "      <td>31</td>\n",
              "      <td>23612</td>\n",
              "      <td>23612</td>\n",
              "      <td>69</td>\n",
              "      <td>51</td>\n",
              "      <td>1186</td>\n",
              "      <td>20408</td>\n",
              "      <td>20065</td>\n",
              "      <td>193</td>\n",
              "    </tr>\n",
              "    <tr>\n",
              "      <th>top</th>\n",
              "      <td>40400811</td>\n",
              "      <td>DUNKIN</td>\n",
              "      <td>Manhattan</td>\n",
              "      <td>1</td>\n",
              "      <td>BROADWAY</td>\n",
              "      <td>10003</td>\n",
              "      <td>7185958100</td>\n",
              "      <td>American</td>\n",
              "      <td>01/01/1900</td>\n",
              "      <td>Violations were cited in the following area(s).</td>\n",
              "      <td>10F</td>\n",
              "      <td>Non-food contact surface improperly constructe...</td>\n",
              "      <td>Critical</td>\n",
              "      <td>12</td>\n",
              "      <td>A</td>\n",
              "      <td>06/05/2019</td>\n",
              "      <td>02/06/2022</td>\n",
              "      <td>Cycle Inspection / Initial Inspection</td>\n",
              "      <td>0</td>\n",
              "      <td>0</td>\n",
              "      <td>105</td>\n",
              "      <td>03</td>\n",
              "      <td>087100</td>\n",
              "      <td>4000000</td>\n",
              "      <td>1</td>\n",
              "      <td>MN17</td>\n",
              "    </tr>\n",
              "    <tr>\n",
              "      <th>freq</th>\n",
              "      <td>99</td>\n",
              "      <td>3839</td>\n",
              "      <td>145645</td>\n",
              "      <td>2217</td>\n",
              "      <td>13607</td>\n",
              "      <td>9287</td>\n",
              "      <td>297</td>\n",
              "      <td>70701</td>\n",
              "      <td>3772</td>\n",
              "      <td>346454</td>\n",
              "      <td>63743</td>\n",
              "      <td>63860</td>\n",
              "      <td>196374</td>\n",
              "      <td>37340</td>\n",
              "      <td>147635</td>\n",
              "      <td>495</td>\n",
              "      <td>373466</td>\n",
              "      <td>212950</td>\n",
              "      <td>5493</td>\n",
              "      <td>5493</td>\n",
              "      <td>30008</td>\n",
              "      <td>32180</td>\n",
              "      <td>3245</td>\n",
              "      <td>1874</td>\n",
              "      <td>3371</td>\n",
              "      <td>22193</td>\n",
              "    </tr>\n",
              "  </tbody>\n",
              "</table>\n",
              "</div>\n",
              "      <button class=\"colab-df-convert\" onclick=\"convertToInteractive('df-acd687f5-d7f5-403a-8550-cf21493d2544')\"\n",
              "              title=\"Convert this dataframe to an interactive table.\"\n",
              "              style=\"display:none;\">\n",
              "        \n",
              "  <svg xmlns=\"http://www.w3.org/2000/svg\" height=\"24px\"viewBox=\"0 0 24 24\"\n",
              "       width=\"24px\">\n",
              "    <path d=\"M0 0h24v24H0V0z\" fill=\"none\"/>\n",
              "    <path d=\"M18.56 5.44l.94 2.06.94-2.06 2.06-.94-2.06-.94-.94-2.06-.94 2.06-2.06.94zm-11 1L8.5 8.5l.94-2.06 2.06-.94-2.06-.94L8.5 2.5l-.94 2.06-2.06.94zm10 10l.94 2.06.94-2.06 2.06-.94-2.06-.94-.94-2.06-.94 2.06-2.06.94z\"/><path d=\"M17.41 7.96l-1.37-1.37c-.4-.4-.92-.59-1.43-.59-.52 0-1.04.2-1.43.59L10.3 9.45l-7.72 7.72c-.78.78-.78 2.05 0 2.83L4 21.41c.39.39.9.59 1.41.59.51 0 1.02-.2 1.41-.59l7.78-7.78 2.81-2.81c.8-.78.8-2.07 0-2.86zM5.41 20L4 18.59l7.72-7.72 1.47 1.35L5.41 20z\"/>\n",
              "  </svg>\n",
              "      </button>\n",
              "      \n",
              "  <style>\n",
              "    .colab-df-container {\n",
              "      display:flex;\n",
              "      flex-wrap:wrap;\n",
              "      gap: 12px;\n",
              "    }\n",
              "\n",
              "    .colab-df-convert {\n",
              "      background-color: #E8F0FE;\n",
              "      border: none;\n",
              "      border-radius: 50%;\n",
              "      cursor: pointer;\n",
              "      display: none;\n",
              "      fill: #1967D2;\n",
              "      height: 32px;\n",
              "      padding: 0 0 0 0;\n",
              "      width: 32px;\n",
              "    }\n",
              "\n",
              "    .colab-df-convert:hover {\n",
              "      background-color: #E2EBFA;\n",
              "      box-shadow: 0px 1px 2px rgba(60, 64, 67, 0.3), 0px 1px 3px 1px rgba(60, 64, 67, 0.15);\n",
              "      fill: #174EA6;\n",
              "    }\n",
              "\n",
              "    [theme=dark] .colab-df-convert {\n",
              "      background-color: #3B4455;\n",
              "      fill: #D2E3FC;\n",
              "    }\n",
              "\n",
              "    [theme=dark] .colab-df-convert:hover {\n",
              "      background-color: #434B5C;\n",
              "      box-shadow: 0px 1px 3px 1px rgba(0, 0, 0, 0.15);\n",
              "      filter: drop-shadow(0px 1px 2px rgba(0, 0, 0, 0.3));\n",
              "      fill: #FFFFFF;\n",
              "    }\n",
              "  </style>\n",
              "\n",
              "      <script>\n",
              "        const buttonEl =\n",
              "          document.querySelector('#df-acd687f5-d7f5-403a-8550-cf21493d2544 button.colab-df-convert');\n",
              "        buttonEl.style.display =\n",
              "          google.colab.kernel.accessAllowed ? 'block' : 'none';\n",
              "\n",
              "        async function convertToInteractive(key) {\n",
              "          const element = document.querySelector('#df-acd687f5-d7f5-403a-8550-cf21493d2544');\n",
              "          const dataTable =\n",
              "            await google.colab.kernel.invokeFunction('convertToInteractive',\n",
              "                                                     [key], {});\n",
              "          if (!dataTable) return;\n",
              "\n",
              "          const docLinkHtml = 'Like what you see? Visit the ' +\n",
              "            '<a target=\"_blank\" href=https://colab.research.google.com/notebooks/data_table.ipynb>data table notebook</a>'\n",
              "            + ' to learn more about interactive tables.';\n",
              "          element.innerHTML = '';\n",
              "          dataTable['output_type'] = 'display_data';\n",
              "          await google.colab.output.renderOutput(dataTable, element);\n",
              "          const docLink = document.createElement('div');\n",
              "          docLink.innerHTML = docLinkHtml;\n",
              "          element.appendChild(docLink);\n",
              "        }\n",
              "      </script>\n",
              "    </div>\n",
              "  </div>\n",
              "  "
            ],
            "text/plain": [
              "           CAMIS     DBA       BORO  ...      BIN     BBL     NTA\n",
              "count     373466  372330     373466  ...   365324  372554  367061\n",
              "unique     29937   23077          6  ...    20408   20065     193\n",
              "top     40400811  DUNKIN  Manhattan  ...  4000000       1    MN17\n",
              "freq          99    3839     145645  ...     1874    3371   22193\n",
              "\n",
              "[4 rows x 26 columns]"
            ]
          },
          "metadata": {},
          "execution_count": 6
        }
      ]
    },
    {
      "cell_type": "markdown",
      "source": [
        "If we find it easier to have the describe output list a column of variables with the count, # unique values, top, and frequency as columns, we can transpose the result from the **'.describe()'** method."
      ],
      "metadata": {
        "id": "_tbMG6X4cwNp"
      }
    },
    {
      "cell_type": "code",
      "metadata": {
        "id": "AqJxEPXRbFRO",
        "colab": {
          "base_uri": "https://localhost:8080/",
          "height": 865
        },
        "outputId": "0ae7743c-bc3a-4f23-c0ad-833d70844c9a"
      },
      "source": [
        "# Same as above, but the .T command transposes the table\n",
        "restaurants.describe().T"
      ],
      "execution_count": 7,
      "outputs": [
        {
          "output_type": "execute_result",
          "data": {
            "text/html": [
              "\n",
              "  <div id=\"df-e0aadaf2-7081-4940-95ff-76852795838e\">\n",
              "    <div class=\"colab-df-container\">\n",
              "      <div>\n",
              "<style scoped>\n",
              "    .dataframe tbody tr th:only-of-type {\n",
              "        vertical-align: middle;\n",
              "    }\n",
              "\n",
              "    .dataframe tbody tr th {\n",
              "        vertical-align: top;\n",
              "    }\n",
              "\n",
              "    .dataframe thead th {\n",
              "        text-align: right;\n",
              "    }\n",
              "</style>\n",
              "<table border=\"1\" class=\"dataframe\">\n",
              "  <thead>\n",
              "    <tr style=\"text-align: right;\">\n",
              "      <th></th>\n",
              "      <th>count</th>\n",
              "      <th>unique</th>\n",
              "      <th>top</th>\n",
              "      <th>freq</th>\n",
              "    </tr>\n",
              "  </thead>\n",
              "  <tbody>\n",
              "    <tr>\n",
              "      <th>CAMIS</th>\n",
              "      <td>373466</td>\n",
              "      <td>29937</td>\n",
              "      <td>40400811</td>\n",
              "      <td>99</td>\n",
              "    </tr>\n",
              "    <tr>\n",
              "      <th>DBA</th>\n",
              "      <td>372330</td>\n",
              "      <td>23077</td>\n",
              "      <td>DUNKIN</td>\n",
              "      <td>3839</td>\n",
              "    </tr>\n",
              "    <tr>\n",
              "      <th>BORO</th>\n",
              "      <td>373466</td>\n",
              "      <td>6</td>\n",
              "      <td>Manhattan</td>\n",
              "      <td>145645</td>\n",
              "    </tr>\n",
              "    <tr>\n",
              "      <th>BUILDING</th>\n",
              "      <td>372847</td>\n",
              "      <td>7681</td>\n",
              "      <td>1</td>\n",
              "      <td>2217</td>\n",
              "    </tr>\n",
              "    <tr>\n",
              "      <th>STREET</th>\n",
              "      <td>373454</td>\n",
              "      <td>2489</td>\n",
              "      <td>BROADWAY</td>\n",
              "      <td>13607</td>\n",
              "    </tr>\n",
              "    <tr>\n",
              "      <th>ZIPCODE</th>\n",
              "      <td>367961</td>\n",
              "      <td>229</td>\n",
              "      <td>10003</td>\n",
              "      <td>9287</td>\n",
              "    </tr>\n",
              "    <tr>\n",
              "      <th>PHONE</th>\n",
              "      <td>373439</td>\n",
              "      <td>27366</td>\n",
              "      <td>7185958100</td>\n",
              "      <td>297</td>\n",
              "    </tr>\n",
              "    <tr>\n",
              "      <th>CUISINE DESCRIPTION</th>\n",
              "      <td>369693</td>\n",
              "      <td>87</td>\n",
              "      <td>American</td>\n",
              "      <td>70701</td>\n",
              "    </tr>\n",
              "    <tr>\n",
              "      <th>INSPECTION DATE</th>\n",
              "      <td>373466</td>\n",
              "      <td>1569</td>\n",
              "      <td>01/01/1900</td>\n",
              "      <td>3772</td>\n",
              "    </tr>\n",
              "    <tr>\n",
              "      <th>ACTION</th>\n",
              "      <td>369694</td>\n",
              "      <td>5</td>\n",
              "      <td>Violations were cited in the following area(s).</td>\n",
              "      <td>346454</td>\n",
              "    </tr>\n",
              "    <tr>\n",
              "      <th>VIOLATION CODE</th>\n",
              "      <td>365262</td>\n",
              "      <td>105</td>\n",
              "      <td>10F</td>\n",
              "      <td>63743</td>\n",
              "    </tr>\n",
              "    <tr>\n",
              "      <th>VIOLATION DESCRIPTION</th>\n",
              "      <td>367610</td>\n",
              "      <td>106</td>\n",
              "      <td>Non-food contact surface improperly constructe...</td>\n",
              "      <td>63860</td>\n",
              "    </tr>\n",
              "    <tr>\n",
              "      <th>CRITICAL FLAG</th>\n",
              "      <td>373466</td>\n",
              "      <td>3</td>\n",
              "      <td>Critical</td>\n",
              "      <td>196374</td>\n",
              "    </tr>\n",
              "    <tr>\n",
              "      <th>SCORE</th>\n",
              "      <td>356599</td>\n",
              "      <td>134</td>\n",
              "      <td>12</td>\n",
              "      <td>37340</td>\n",
              "    </tr>\n",
              "    <tr>\n",
              "      <th>GRADE</th>\n",
              "      <td>188791</td>\n",
              "      <td>7</td>\n",
              "      <td>A</td>\n",
              "      <td>147635</td>\n",
              "    </tr>\n",
              "    <tr>\n",
              "      <th>GRADE DATE</th>\n",
              "      <td>184560</td>\n",
              "      <td>1402</td>\n",
              "      <td>06/05/2019</td>\n",
              "      <td>495</td>\n",
              "    </tr>\n",
              "    <tr>\n",
              "      <th>RECORD DATE</th>\n",
              "      <td>373466</td>\n",
              "      <td>1</td>\n",
              "      <td>02/06/2022</td>\n",
              "      <td>373466</td>\n",
              "    </tr>\n",
              "    <tr>\n",
              "      <th>INSPECTION TYPE</th>\n",
              "      <td>369694</td>\n",
              "      <td>31</td>\n",
              "      <td>Cycle Inspection / Initial Inspection</td>\n",
              "      <td>212950</td>\n",
              "    </tr>\n",
              "    <tr>\n",
              "      <th>Latitude</th>\n",
              "      <td>373101</td>\n",
              "      <td>23612</td>\n",
              "      <td>0</td>\n",
              "      <td>5493</td>\n",
              "    </tr>\n",
              "    <tr>\n",
              "      <th>Longitude</th>\n",
              "      <td>373101</td>\n",
              "      <td>23612</td>\n",
              "      <td>0</td>\n",
              "      <td>5493</td>\n",
              "    </tr>\n",
              "    <tr>\n",
              "      <th>Community Board</th>\n",
              "      <td>367061</td>\n",
              "      <td>69</td>\n",
              "      <td>105</td>\n",
              "      <td>30008</td>\n",
              "    </tr>\n",
              "    <tr>\n",
              "      <th>Council District</th>\n",
              "      <td>367069</td>\n",
              "      <td>51</td>\n",
              "      <td>03</td>\n",
              "      <td>32180</td>\n",
              "    </tr>\n",
              "    <tr>\n",
              "      <th>Census Tract</th>\n",
              "      <td>367069</td>\n",
              "      <td>1186</td>\n",
              "      <td>087100</td>\n",
              "      <td>3245</td>\n",
              "    </tr>\n",
              "    <tr>\n",
              "      <th>BIN</th>\n",
              "      <td>365324</td>\n",
              "      <td>20408</td>\n",
              "      <td>4000000</td>\n",
              "      <td>1874</td>\n",
              "    </tr>\n",
              "    <tr>\n",
              "      <th>BBL</th>\n",
              "      <td>372554</td>\n",
              "      <td>20065</td>\n",
              "      <td>1</td>\n",
              "      <td>3371</td>\n",
              "    </tr>\n",
              "    <tr>\n",
              "      <th>NTA</th>\n",
              "      <td>367061</td>\n",
              "      <td>193</td>\n",
              "      <td>MN17</td>\n",
              "      <td>22193</td>\n",
              "    </tr>\n",
              "  </tbody>\n",
              "</table>\n",
              "</div>\n",
              "      <button class=\"colab-df-convert\" onclick=\"convertToInteractive('df-e0aadaf2-7081-4940-95ff-76852795838e')\"\n",
              "              title=\"Convert this dataframe to an interactive table.\"\n",
              "              style=\"display:none;\">\n",
              "        \n",
              "  <svg xmlns=\"http://www.w3.org/2000/svg\" height=\"24px\"viewBox=\"0 0 24 24\"\n",
              "       width=\"24px\">\n",
              "    <path d=\"M0 0h24v24H0V0z\" fill=\"none\"/>\n",
              "    <path d=\"M18.56 5.44l.94 2.06.94-2.06 2.06-.94-2.06-.94-.94-2.06-.94 2.06-2.06.94zm-11 1L8.5 8.5l.94-2.06 2.06-.94-2.06-.94L8.5 2.5l-.94 2.06-2.06.94zm10 10l.94 2.06.94-2.06 2.06-.94-2.06-.94-.94-2.06-.94 2.06-2.06.94z\"/><path d=\"M17.41 7.96l-1.37-1.37c-.4-.4-.92-.59-1.43-.59-.52 0-1.04.2-1.43.59L10.3 9.45l-7.72 7.72c-.78.78-.78 2.05 0 2.83L4 21.41c.39.39.9.59 1.41.59.51 0 1.02-.2 1.41-.59l7.78-7.78 2.81-2.81c.8-.78.8-2.07 0-2.86zM5.41 20L4 18.59l7.72-7.72 1.47 1.35L5.41 20z\"/>\n",
              "  </svg>\n",
              "      </button>\n",
              "      \n",
              "  <style>\n",
              "    .colab-df-container {\n",
              "      display:flex;\n",
              "      flex-wrap:wrap;\n",
              "      gap: 12px;\n",
              "    }\n",
              "\n",
              "    .colab-df-convert {\n",
              "      background-color: #E8F0FE;\n",
              "      border: none;\n",
              "      border-radius: 50%;\n",
              "      cursor: pointer;\n",
              "      display: none;\n",
              "      fill: #1967D2;\n",
              "      height: 32px;\n",
              "      padding: 0 0 0 0;\n",
              "      width: 32px;\n",
              "    }\n",
              "\n",
              "    .colab-df-convert:hover {\n",
              "      background-color: #E2EBFA;\n",
              "      box-shadow: 0px 1px 2px rgba(60, 64, 67, 0.3), 0px 1px 3px 1px rgba(60, 64, 67, 0.15);\n",
              "      fill: #174EA6;\n",
              "    }\n",
              "\n",
              "    [theme=dark] .colab-df-convert {\n",
              "      background-color: #3B4455;\n",
              "      fill: #D2E3FC;\n",
              "    }\n",
              "\n",
              "    [theme=dark] .colab-df-convert:hover {\n",
              "      background-color: #434B5C;\n",
              "      box-shadow: 0px 1px 3px 1px rgba(0, 0, 0, 0.15);\n",
              "      filter: drop-shadow(0px 1px 2px rgba(0, 0, 0, 0.3));\n",
              "      fill: #FFFFFF;\n",
              "    }\n",
              "  </style>\n",
              "\n",
              "      <script>\n",
              "        const buttonEl =\n",
              "          document.querySelector('#df-e0aadaf2-7081-4940-95ff-76852795838e button.colab-df-convert');\n",
              "        buttonEl.style.display =\n",
              "          google.colab.kernel.accessAllowed ? 'block' : 'none';\n",
              "\n",
              "        async function convertToInteractive(key) {\n",
              "          const element = document.querySelector('#df-e0aadaf2-7081-4940-95ff-76852795838e');\n",
              "          const dataTable =\n",
              "            await google.colab.kernel.invokeFunction('convertToInteractive',\n",
              "                                                     [key], {});\n",
              "          if (!dataTable) return;\n",
              "\n",
              "          const docLinkHtml = 'Like what you see? Visit the ' +\n",
              "            '<a target=\"_blank\" href=https://colab.research.google.com/notebooks/data_table.ipynb>data table notebook</a>'\n",
              "            + ' to learn more about interactive tables.';\n",
              "          element.innerHTML = '';\n",
              "          dataTable['output_type'] = 'display_data';\n",
              "          await google.colab.output.renderOutput(dataTable, element);\n",
              "          const docLink = document.createElement('div');\n",
              "          docLink.innerHTML = docLinkHtml;\n",
              "          element.appendChild(docLink);\n",
              "        }\n",
              "      </script>\n",
              "    </div>\n",
              "  </div>\n",
              "  "
            ],
            "text/plain": [
              "                        count  ...    freq\n",
              "CAMIS                  373466  ...      99\n",
              "DBA                    372330  ...    3839\n",
              "BORO                   373466  ...  145645\n",
              "BUILDING               372847  ...    2217\n",
              "STREET                 373454  ...   13607\n",
              "ZIPCODE                367961  ...    9287\n",
              "PHONE                  373439  ...     297\n",
              "CUISINE DESCRIPTION    369693  ...   70701\n",
              "INSPECTION DATE        373466  ...    3772\n",
              "ACTION                 369694  ...  346454\n",
              "VIOLATION CODE         365262  ...   63743\n",
              "VIOLATION DESCRIPTION  367610  ...   63860\n",
              "CRITICAL FLAG          373466  ...  196374\n",
              "SCORE                  356599  ...   37340\n",
              "GRADE                  188791  ...  147635\n",
              "GRADE DATE             184560  ...     495\n",
              "RECORD DATE            373466  ...  373466\n",
              "INSPECTION TYPE        369694  ...  212950\n",
              "Latitude               373101  ...    5493\n",
              "Longitude              373101  ...    5493\n",
              "Community Board        367061  ...   30008\n",
              "Council District       367069  ...   32180\n",
              "Census Tract           367069  ...    3245\n",
              "BIN                    365324  ...    1874\n",
              "BBL                    372554  ...    3371\n",
              "NTA                    367061  ...   22193\n",
              "\n",
              "[26 rows x 4 columns]"
            ]
          },
          "metadata": {},
          "execution_count": 7
        }
      ]
    },
    {
      "cell_type": "markdown",
      "metadata": {
        "id": "eHC1TUZbbFRP"
      },
      "source": [
        "The `object` type is a string. For many of these, we would like to change the data types for a few columns, using the `pd.to_numeric` and `pd.to_datetime` functions. We examine how to convert data types below."
      ]
    },
    {
      "cell_type": "markdown",
      "source": [
        "\n",
        "\n",
        "---\n",
        "\n"
      ],
      "metadata": {
        "id": "k5SSBuNyeHGg"
      }
    },
    {
      "cell_type": "markdown",
      "metadata": {
        "id": "F8ydX8BvbFRP"
      },
      "source": [
        "### Converting Data Types to Numeric"
      ]
    },
    {
      "cell_type": "markdown",
      "metadata": {
        "id": "-vgNMzSLbFRP"
      },
      "source": [
        "The `object` type is a string. When we want to convert an object to numeric, we can use the `pd.to_numeric` function, as shown below:"
      ]
    },
    {
      "cell_type": "code",
      "metadata": {
        "id": "6-kwPiYgbFRP",
        "colab": {
          "base_uri": "https://localhost:8080/"
        },
        "outputId": "5218ad1b-b3bd-4a93-d34e-160b83fb49e7"
      },
      "source": [
        "restaurants[\"SCORE\"] = pd.to_numeric(restaurants[\"SCORE\"])\n",
        "restaurants[\"Latitude\"] = pd.to_numeric(restaurants[\"Latitude\"])\n",
        "restaurants[\"Longitude\"] = pd.to_numeric(restaurants[\"Longitude\"])\n",
        "restaurants.dtypes"
      ],
      "execution_count": 8,
      "outputs": [
        {
          "output_type": "execute_result",
          "data": {
            "text/plain": [
              "CAMIS                     object\n",
              "DBA                       object\n",
              "BORO                      object\n",
              "BUILDING                  object\n",
              "STREET                    object\n",
              "ZIPCODE                   object\n",
              "PHONE                     object\n",
              "CUISINE DESCRIPTION       object\n",
              "INSPECTION DATE           object\n",
              "ACTION                    object\n",
              "VIOLATION CODE            object\n",
              "VIOLATION DESCRIPTION     object\n",
              "CRITICAL FLAG             object\n",
              "SCORE                    float64\n",
              "GRADE                     object\n",
              "GRADE DATE                object\n",
              "RECORD DATE               object\n",
              "INSPECTION TYPE           object\n",
              "Latitude                 float64\n",
              "Longitude                float64\n",
              "Community Board           object\n",
              "Council District          object\n",
              "Census Tract              object\n",
              "BIN                       object\n",
              "BBL                       object\n",
              "NTA                       object\n",
              "dtype: object"
            ]
          },
          "metadata": {},
          "execution_count": 8
        }
      ]
    },
    {
      "cell_type": "markdown",
      "source": [
        "\n",
        "\n",
        "---\n",
        "\n"
      ],
      "metadata": {
        "id": "8v7doQ2ZeDY4"
      }
    },
    {
      "cell_type": "markdown",
      "metadata": {
        "id": "wUJ3feX4jp3A"
      },
      "source": [
        "###  Converting Data to Dates"
      ]
    },
    {
      "cell_type": "markdown",
      "metadata": {
        "id": "qnWM14k4RPMQ"
      },
      "source": [
        "Now let's convert the dates columns into the appropriate data types. Let's take a look at a few dates.\n",
        "\n",
        "What do you recall about datetime values in Pandas?   What are two types of datetime value? "
      ]
    },
    {
      "cell_type": "code",
      "metadata": {
        "id": "Kgt0jCuwbFRQ"
      },
      "source": [
        "restaurants[\"GRADE DATE\"] = pd.to_datetime(restaurants[\"GRADE DATE\"])\n",
        "restaurants[\"RECORD DATE\"] = pd.to_datetime(restaurants[\"RECORD DATE\"])\n",
        "restaurants[\"INSPECTION DATE\"] = pd.to_datetime(restaurants[\"INSPECTION DATE\"])"
      ],
      "execution_count": 9,
      "outputs": []
    },
    {
      "cell_type": "markdown",
      "metadata": {
        "id": "Nz57tm7GRPMT"
      },
      "source": [
        "#### Note\n",
        "\n",
        "\n",
        "In tricky cases, we may need to pass the `format` parameter, specifying the formatting of the date. For that, we need to understand first how to [parse dates using the Python conventions](https://docs.python.org/3/library/datetime.html#strftime-and-strptime-behavior).\n"
      ]
    },
    {
      "cell_type": "markdown",
      "source": [
        "\n",
        "\n",
        "---\n",
        "\n"
      ],
      "metadata": {
        "id": "205p11ZKeBFH"
      }
    },
    {
      "cell_type": "markdown",
      "metadata": {
        "id": "JlxRdtyRbFRQ"
      },
      "source": [
        "### Converting Data to Categorical Variables\n",
        "\n",
        "This is less important, but sometimes we want to specify variables to be \"Categorical\". This is most commonly useful when we have variables that have an implicit order (e.g., the A/B/C grade of the restaurant).  Where this categorization is applicable, it can be helpful in charting (bar charts, etc.)  It is also important to recognize categorical variables if we plan to conduct correlation analysis at some point."
      ]
    },
    {
      "cell_type": "code",
      "metadata": {
        "id": "HSsdFQCFbFRR",
        "colab": {
          "base_uri": "https://localhost:8080/"
        },
        "outputId": "0153b394-8752-4012-c68a-e119bb5214b8"
      },
      "source": [
        "restaurants[\"BORO\"] = pd.Categorical(restaurants[\"BORO\"], ordered=False)\n",
        "restaurants[\"GRADE\"] = pd.Categorical(\n",
        "    restaurants[\"GRADE\"], categories=[\"A\", \"B\", \"C\"], ordered=True\n",
        ")\n",
        "restaurants[\"VIOLATION CODE\"] = pd.Categorical(\n",
        "    restaurants[\"VIOLATION CODE\"], ordered=False\n",
        ")\n",
        "restaurants[\"CRITICAL FLAG\"] = pd.Categorical(\n",
        "    restaurants[\"CRITICAL FLAG\"], ordered=False\n",
        ")\n",
        "restaurants[\"ACTION\"] = pd.Categorical(restaurants[\"ACTION\"], ordered=False)\n",
        "restaurants[\"CUISINE DESCRIPTION\"] = pd.Categorical(\n",
        "    restaurants[\"CUISINE DESCRIPTION\"], ordered=False\n",
        ")\n",
        "\n",
        "restaurants[\"INSPECTION TYPE\"] = pd.Categorical(\n",
        "    restaurants[\"INSPECTION TYPE\"], ordered=False\n",
        ")\n",
        "\n",
        "restaurants.dtypes"
      ],
      "execution_count": 10,
      "outputs": [
        {
          "output_type": "execute_result",
          "data": {
            "text/plain": [
              "CAMIS                            object\n",
              "DBA                              object\n",
              "BORO                           category\n",
              "BUILDING                         object\n",
              "STREET                           object\n",
              "ZIPCODE                          object\n",
              "PHONE                            object\n",
              "CUISINE DESCRIPTION            category\n",
              "INSPECTION DATE          datetime64[ns]\n",
              "ACTION                         category\n",
              "VIOLATION CODE                 category\n",
              "VIOLATION DESCRIPTION            object\n",
              "CRITICAL FLAG                  category\n",
              "SCORE                           float64\n",
              "GRADE                          category\n",
              "GRADE DATE               datetime64[ns]\n",
              "RECORD DATE              datetime64[ns]\n",
              "INSPECTION TYPE                category\n",
              "Latitude                        float64\n",
              "Longitude                       float64\n",
              "Community Board                  object\n",
              "Council District                 object\n",
              "Census Tract                     object\n",
              "BIN                              object\n",
              "BBL                              object\n",
              "NTA                              object\n",
              "dtype: object"
            ]
          },
          "metadata": {},
          "execution_count": 10
        }
      ]
    },
    {
      "cell_type": "markdown",
      "source": [
        "\n",
        "\n",
        "---\n",
        "\n"
      ],
      "metadata": {
        "id": "I9X1NQded_SF"
      }
    },
    {
      "cell_type": "markdown",
      "metadata": {
        "id": "_nLcGpcDRPLz"
      },
      "source": [
        "## Descriptive Statistics\n",
        "\n"
      ]
    },
    {
      "cell_type": "markdown",
      "metadata": {
        "id": "4AIX3fGLRPL7"
      },
      "source": [
        "### Descriptive Statistics for Numeric Variables\n"
      ]
    },
    {
      "cell_type": "markdown",
      "metadata": {
        "id": "_44IGXw4RPL_"
      },
      "source": [
        "#### Basic descriptive statistics for numeric variables\n",
        "\n",
        "Given that SCORE is a numeric variable, we can get more detailed descriptive statistics for the variable using the `.describe()` command:"
      ]
    },
    {
      "cell_type": "code",
      "metadata": {
        "id": "91cmXd7FRPL_",
        "colab": {
          "base_uri": "https://localhost:8080/"
        },
        "outputId": "09970bda-d311-4908-fbb1-481b0c7937e5"
      },
      "source": [
        "restaurants[\"SCORE\"].describe()"
      ],
      "execution_count": 11,
      "outputs": [
        {
          "output_type": "execute_result",
          "data": {
            "text/plain": [
              "count    356599.000000\n",
              "mean         20.492029\n",
              "std          15.017182\n",
              "min           0.000000\n",
              "25%          11.000000\n",
              "50%          15.000000\n",
              "75%          26.000000\n",
              "max         164.000000\n",
              "Name: SCORE, dtype: float64"
            ]
          },
          "metadata": {},
          "execution_count": 11
        }
      ]
    },
    {
      "cell_type": "markdown",
      "metadata": {
        "id": "4vcYE-MURPMP"
      },
      "source": [
        "### Descriptive Statistics for Dates\n"
      ]
    },
    {
      "cell_type": "code",
      "metadata": {
        "id": "sXvztpgJRPMb",
        "colab": {
          "base_uri": "https://localhost:8080/",
          "height": 269
        },
        "outputId": "60eed728-2eb4-4857-df73-0c09b3ad9c9b"
      },
      "source": [
        "restaurants[[\"INSPECTION DATE\", \"GRADE DATE\", \"RECORD DATE\"]].describe(datetime_is_numeric=True)"
      ],
      "execution_count": 12,
      "outputs": [
        {
          "output_type": "execute_result",
          "data": {
            "text/html": [
              "\n",
              "  <div id=\"df-851cbbd9-7b6f-4bbf-84c7-26501bc84557\">\n",
              "    <div class=\"colab-df-container\">\n",
              "      <div>\n",
              "<style scoped>\n",
              "    .dataframe tbody tr th:only-of-type {\n",
              "        vertical-align: middle;\n",
              "    }\n",
              "\n",
              "    .dataframe tbody tr th {\n",
              "        vertical-align: top;\n",
              "    }\n",
              "\n",
              "    .dataframe thead th {\n",
              "        text-align: right;\n",
              "    }\n",
              "</style>\n",
              "<table border=\"1\" class=\"dataframe\">\n",
              "  <thead>\n",
              "    <tr style=\"text-align: right;\">\n",
              "      <th></th>\n",
              "      <th>INSPECTION DATE</th>\n",
              "      <th>GRADE DATE</th>\n",
              "      <th>RECORD DATE</th>\n",
              "    </tr>\n",
              "  </thead>\n",
              "  <tbody>\n",
              "    <tr>\n",
              "      <th>count</th>\n",
              "      <td>373466</td>\n",
              "      <td>184560</td>\n",
              "      <td>373466</td>\n",
              "    </tr>\n",
              "    <tr>\n",
              "      <th>mean</th>\n",
              "      <td>2017-12-16 02:41:18.375006208</td>\n",
              "      <td>2019-02-13 20:54:58.517555456</td>\n",
              "      <td>2022-02-06 00:00:00</td>\n",
              "    </tr>\n",
              "    <tr>\n",
              "      <th>min</th>\n",
              "      <td>1900-01-01 00:00:00</td>\n",
              "      <td>2013-06-07 00:00:00</td>\n",
              "      <td>2022-02-06 00:00:00</td>\n",
              "    </tr>\n",
              "    <tr>\n",
              "      <th>25%</th>\n",
              "      <td>2018-04-09 00:00:00</td>\n",
              "      <td>2018-04-17 00:00:00</td>\n",
              "      <td>2022-02-06 00:00:00</td>\n",
              "    </tr>\n",
              "    <tr>\n",
              "      <th>50%</th>\n",
              "      <td>2019-03-12 00:00:00</td>\n",
              "      <td>2019-03-08 00:00:00</td>\n",
              "      <td>2022-02-06 00:00:00</td>\n",
              "    </tr>\n",
              "    <tr>\n",
              "      <th>75%</th>\n",
              "      <td>2019-10-22 00:00:00</td>\n",
              "      <td>2019-10-09 00:00:00</td>\n",
              "      <td>2022-02-06 00:00:00</td>\n",
              "    </tr>\n",
              "    <tr>\n",
              "      <th>max</th>\n",
              "      <td>2022-02-04 00:00:00</td>\n",
              "      <td>2022-02-04 00:00:00</td>\n",
              "      <td>2022-02-06 00:00:00</td>\n",
              "    </tr>\n",
              "  </tbody>\n",
              "</table>\n",
              "</div>\n",
              "      <button class=\"colab-df-convert\" onclick=\"convertToInteractive('df-851cbbd9-7b6f-4bbf-84c7-26501bc84557')\"\n",
              "              title=\"Convert this dataframe to an interactive table.\"\n",
              "              style=\"display:none;\">\n",
              "        \n",
              "  <svg xmlns=\"http://www.w3.org/2000/svg\" height=\"24px\"viewBox=\"0 0 24 24\"\n",
              "       width=\"24px\">\n",
              "    <path d=\"M0 0h24v24H0V0z\" fill=\"none\"/>\n",
              "    <path d=\"M18.56 5.44l.94 2.06.94-2.06 2.06-.94-2.06-.94-.94-2.06-.94 2.06-2.06.94zm-11 1L8.5 8.5l.94-2.06 2.06-.94-2.06-.94L8.5 2.5l-.94 2.06-2.06.94zm10 10l.94 2.06.94-2.06 2.06-.94-2.06-.94-.94-2.06-.94 2.06-2.06.94z\"/><path d=\"M17.41 7.96l-1.37-1.37c-.4-.4-.92-.59-1.43-.59-.52 0-1.04.2-1.43.59L10.3 9.45l-7.72 7.72c-.78.78-.78 2.05 0 2.83L4 21.41c.39.39.9.59 1.41.59.51 0 1.02-.2 1.41-.59l7.78-7.78 2.81-2.81c.8-.78.8-2.07 0-2.86zM5.41 20L4 18.59l7.72-7.72 1.47 1.35L5.41 20z\"/>\n",
              "  </svg>\n",
              "      </button>\n",
              "      \n",
              "  <style>\n",
              "    .colab-df-container {\n",
              "      display:flex;\n",
              "      flex-wrap:wrap;\n",
              "      gap: 12px;\n",
              "    }\n",
              "\n",
              "    .colab-df-convert {\n",
              "      background-color: #E8F0FE;\n",
              "      border: none;\n",
              "      border-radius: 50%;\n",
              "      cursor: pointer;\n",
              "      display: none;\n",
              "      fill: #1967D2;\n",
              "      height: 32px;\n",
              "      padding: 0 0 0 0;\n",
              "      width: 32px;\n",
              "    }\n",
              "\n",
              "    .colab-df-convert:hover {\n",
              "      background-color: #E2EBFA;\n",
              "      box-shadow: 0px 1px 2px rgba(60, 64, 67, 0.3), 0px 1px 3px 1px rgba(60, 64, 67, 0.15);\n",
              "      fill: #174EA6;\n",
              "    }\n",
              "\n",
              "    [theme=dark] .colab-df-convert {\n",
              "      background-color: #3B4455;\n",
              "      fill: #D2E3FC;\n",
              "    }\n",
              "\n",
              "    [theme=dark] .colab-df-convert:hover {\n",
              "      background-color: #434B5C;\n",
              "      box-shadow: 0px 1px 3px 1px rgba(0, 0, 0, 0.15);\n",
              "      filter: drop-shadow(0px 1px 2px rgba(0, 0, 0, 0.3));\n",
              "      fill: #FFFFFF;\n",
              "    }\n",
              "  </style>\n",
              "\n",
              "      <script>\n",
              "        const buttonEl =\n",
              "          document.querySelector('#df-851cbbd9-7b6f-4bbf-84c7-26501bc84557 button.colab-df-convert');\n",
              "        buttonEl.style.display =\n",
              "          google.colab.kernel.accessAllowed ? 'block' : 'none';\n",
              "\n",
              "        async function convertToInteractive(key) {\n",
              "          const element = document.querySelector('#df-851cbbd9-7b6f-4bbf-84c7-26501bc84557');\n",
              "          const dataTable =\n",
              "            await google.colab.kernel.invokeFunction('convertToInteractive',\n",
              "                                                     [key], {});\n",
              "          if (!dataTable) return;\n",
              "\n",
              "          const docLinkHtml = 'Like what you see? Visit the ' +\n",
              "            '<a target=\"_blank\" href=https://colab.research.google.com/notebooks/data_table.ipynb>data table notebook</a>'\n",
              "            + ' to learn more about interactive tables.';\n",
              "          element.innerHTML = '';\n",
              "          dataTable['output_type'] = 'display_data';\n",
              "          await google.colab.output.renderOutput(dataTable, element);\n",
              "          const docLink = document.createElement('div');\n",
              "          docLink.innerHTML = docLinkHtml;\n",
              "          element.appendChild(docLink);\n",
              "        }\n",
              "      </script>\n",
              "    </div>\n",
              "  </div>\n",
              "  "
            ],
            "text/plain": [
              "                     INSPECTION DATE  ...          RECORD DATE\n",
              "count                         373466  ...               373466\n",
              "mean   2017-12-16 02:41:18.375006208  ...  2022-02-06 00:00:00\n",
              "min              1900-01-01 00:00:00  ...  2022-02-06 00:00:00\n",
              "25%              2018-04-09 00:00:00  ...  2022-02-06 00:00:00\n",
              "50%              2019-03-12 00:00:00  ...  2022-02-06 00:00:00\n",
              "75%              2019-10-22 00:00:00  ...  2022-02-06 00:00:00\n",
              "max              2022-02-04 00:00:00  ...  2022-02-06 00:00:00\n",
              "\n",
              "[7 rows x 3 columns]"
            ]
          },
          "metadata": {},
          "execution_count": 12
        }
      ]
    },
    {
      "cell_type": "code",
      "metadata": {
        "id": "Vr13GaTubFRV",
        "colab": {
          "base_uri": "https://localhost:8080/"
        },
        "outputId": "d849b76c-97ea-487d-da50-8f8b7d67781d"
      },
      "source": [
        "restaurants[\"INSPECTION DATE\"].describe(datetime_is_numeric=True)"
      ],
      "execution_count": 13,
      "outputs": [
        {
          "output_type": "execute_result",
          "data": {
            "text/plain": [
              "count                           373466\n",
              "mean     2017-12-16 02:41:18.375006208\n",
              "min                1900-01-01 00:00:00\n",
              "25%                2018-04-09 00:00:00\n",
              "50%                2019-03-12 00:00:00\n",
              "75%                2019-10-22 00:00:00\n",
              "max                2022-02-04 00:00:00\n",
              "Name: INSPECTION DATE, dtype: object"
            ]
          },
          "metadata": {},
          "execution_count": 13
        }
      ]
    },
    {
      "cell_type": "code",
      "metadata": {
        "id": "EVqJmxWcbFRV",
        "colab": {
          "base_uri": "https://localhost:8080/"
        },
        "outputId": "663f1485-5bc7-4f1a-8037-f1fc24d528b1"
      },
      "source": [
        "restaurants[\"GRADE DATE\"].describe(datetime_is_numeric=True)"
      ],
      "execution_count": 14,
      "outputs": [
        {
          "output_type": "execute_result",
          "data": {
            "text/plain": [
              "count                           184560\n",
              "mean     2019-02-13 20:54:58.517555456\n",
              "min                2013-06-07 00:00:00\n",
              "25%                2018-04-17 00:00:00\n",
              "50%                2019-03-08 00:00:00\n",
              "75%                2019-10-09 00:00:00\n",
              "max                2022-02-04 00:00:00\n",
              "Name: GRADE DATE, dtype: object"
            ]
          },
          "metadata": {},
          "execution_count": 14
        }
      ]
    },
    {
      "cell_type": "code",
      "metadata": {
        "id": "R7Zxt8zQbFRW",
        "colab": {
          "base_uri": "https://localhost:8080/"
        },
        "outputId": "bdbfafb0-cc7f-4d49-9176-3c5fd8baeaf0"
      },
      "source": [
        "restaurants[\"RECORD DATE\"].describe(datetime_is_numeric=True)"
      ],
      "execution_count": 15,
      "outputs": [
        {
          "output_type": "execute_result",
          "data": {
            "text/plain": [
              "count                 373466\n",
              "mean     2022-02-06 00:00:00\n",
              "min      2022-02-06 00:00:00\n",
              "25%      2022-02-06 00:00:00\n",
              "50%      2022-02-06 00:00:00\n",
              "75%      2022-02-06 00:00:00\n",
              "max      2022-02-06 00:00:00\n",
              "Name: RECORD DATE, dtype: object"
            ]
          },
          "metadata": {},
          "execution_count": 15
        }
      ]
    },
    {
      "cell_type": "markdown",
      "metadata": {
        "id": "dsAgjwRyRPM7"
      },
      "source": [
        "### Descriptive Statistics for Categorical/string columns"
      ]
    },
    {
      "cell_type": "markdown",
      "metadata": {
        "id": "gRaEBS-GRPM7"
      },
      "source": [
        "We can also get quick statistics about the common values that appear in each column:"
      ]
    },
    {
      "cell_type": "code",
      "metadata": {
        "id": "8iZZ5ERvRPM8",
        "colab": {
          "base_uri": "https://localhost:8080/"
        },
        "outputId": "8d2a0b98-a843-4570-ecc4-72e9616ec30c"
      },
      "source": [
        "restaurants[\"DBA\"].value_counts()"
      ],
      "execution_count": 16,
      "outputs": [
        {
          "output_type": "execute_result",
          "data": {
            "text/plain": [
              "DUNKIN                                   3839\n",
              "SUBWAY                                   2547\n",
              "STARBUCKS                                1829\n",
              "MCDONALD'S                               1676\n",
              "KENNEDY FRIED CHICKEN                    1191\n",
              "                                         ... \n",
              "BULLEIR BOURBON BAR - BARCLAYS CENTER       1\n",
              "CARO BAKERY & COFFEE SHOP                   1\n",
              "FLAVA II LOUNGE                             1\n",
              "CROP CIRCLE                                 1\n",
              "CRIOLLAS                                    1\n",
              "Name: DBA, Length: 23077, dtype: int64"
            ]
          },
          "metadata": {},
          "execution_count": 16
        }
      ]
    },
    {
      "cell_type": "code",
      "metadata": {
        "id": "syGbdu-9RPM-",
        "colab": {
          "base_uri": "https://localhost:8080/"
        },
        "outputId": "d2882450-58e6-4973-af00-5d04dc7969ff"
      },
      "source": [
        "restaurants[\"CUISINE DESCRIPTION\"].value_counts()"
      ],
      "execution_count": 17,
      "outputs": [
        {
          "output_type": "execute_result",
          "data": {
            "text/plain": [
              "American          70701\n",
              "Chinese           38860\n",
              "Pizza             22771\n",
              "Coffee/Tea        18610\n",
              "Latin American    16489\n",
              "                  ...  \n",
              "Czech                20\n",
              "Basque               10\n",
              "Armenian             10\n",
              "Lebanese              8\n",
              "New French            3\n",
              "Name: CUISINE DESCRIPTION, Length: 87, dtype: int64"
            ]
          },
          "metadata": {},
          "execution_count": 17
        }
      ]
    },
    {
      "cell_type": "markdown",
      "source": [
        "\n",
        "\n",
        "---\n",
        "\n"
      ],
      "metadata": {
        "id": "es4KJ4dXfA_a"
      }
    },
    {
      "cell_type": "markdown",
      "metadata": {
        "id": "zbvxeiqrTKJV"
      },
      "source": [
        "# Basic Data Manipulation Techniques"
      ]
    },
    {
      "cell_type": "markdown",
      "metadata": {
        "id": "pTKmk7LqRPOC"
      },
      "source": [
        "## Selecting a subset of the columns -- `filter()`\n",
        "\n",
        "In a dataframe, we can specify the column(s) that we want to keep, and get back another dataframe with just the subset of the columns that we want to keep.\n",
        "[`filter()` documentation](https://pandas.pydata.org/pandas-docs/stable/reference/api/pandas.DataFrame.filter.html)"
      ]
    },
    {
      "cell_type": "code",
      "metadata": {
        "id": "kdGNyALJRPOD"
      },
      "source": [
        "restaurants"
      ],
      "execution_count": null,
      "outputs": []
    },
    {
      "cell_type": "code",
      "metadata": {
        "id": "KoA5JqtFRPOF"
      },
      "source": [
        "restaurants.filter( \n",
        "    items = [\"DBA\", \"GRADE\", \"GRADE DATE\"] \n",
        ")"
      ],
      "execution_count": null,
      "outputs": []
    },
    {
      "cell_type": "code",
      "metadata": {
        "id": "0DbB0h26RPON"
      },
      "source": [
        "columns = [\"GRADE DATE\", \"VIOLATION CODE\", \"DBA\", \"SCORE\"]\n",
        "\n",
        "# Notice the use of \"chain notation\" below\n",
        "# Chain notation means putting parentheses around\n",
        "# the command and then having each operation in its\n",
        "# own line\n",
        "(\n",
        "  restaurants\n",
        "  .filter( items = columns )\n",
        "  .head(10)\n",
        ")\n"
      ],
      "execution_count": null,
      "outputs": []
    },
    {
      "cell_type": "markdown",
      "metadata": {
        "id": "pNmPSBrJUrfy"
      },
      "source": [
        "We can also use the `like` option to find all the column names that include a certain string. For example, to get all the columns that include the string `DATE`:"
      ]
    },
    {
      "cell_type": "code",
      "metadata": {
        "id": "0skTt0rNRPOP"
      },
      "source": [
        "restaurants.filter(\n",
        "    like = 'DATE'\n",
        ")"
      ],
      "execution_count": null,
      "outputs": []
    },
    {
      "cell_type": "markdown",
      "metadata": {
        "id": "dXTR3gaYU3D9"
      },
      "source": [
        "We can expand the functionality and also use regular expressions:"
      ]
    },
    {
      "cell_type": "code",
      "metadata": {
        "id": "oE5G-RtCU9NS"
      },
      "source": [
        "restaurants.filter(\n",
        "    regex = r'^C' # all the columns that start with C\n",
        ")"
      ],
      "execution_count": null,
      "outputs": []
    },
    {
      "cell_type": "code",
      "metadata": {
        "id": "KWg63of5xbjY"
      },
      "source": [
        ""
      ],
      "execution_count": null,
      "outputs": []
    },
    {
      "cell_type": "markdown",
      "source": [
        "\n",
        "\n",
        "---\n",
        "\n"
      ],
      "metadata": {
        "id": "2eqarbTffIOD"
      }
    },
    {
      "cell_type": "markdown",
      "metadata": {
        "id": "bHIvI4svxcJ0"
      },
      "source": [
        "## Renaming Columns -- `rename()`"
      ]
    },
    {
      "cell_type": "markdown",
      "metadata": {
        "id": "7fLRqM4kxf1W"
      },
      "source": [
        "To do the equivalent of `SELECT attr AS alias` in Pandas, we use the `rename` command, and pass a dictionary specifying which columns we want to rename:\n",
        "\n"
      ]
    },
    {
      "cell_type": "code",
      "metadata": {
        "id": "jSnqzBFwxqnk"
      },
      "source": [
        "restaurants.rename(\n",
        "    columns = {\n",
        "      \"CAMIS\": \"RESTID\",\n",
        "      \"DBA\": \"REST_NAME\",\n",
        "      \"BUILDING\": \"STREET_NUM\",\n",
        "      \"BORO\": \"BOROUGH\"\n",
        "    }\n",
        ")"
      ],
      "execution_count": null,
      "outputs": []
    },
    {
      "cell_type": "markdown",
      "source": [
        "\n",
        "\n",
        "---\n",
        "\n"
      ],
      "metadata": {
        "id": "ZYJl2McKfK_C"
      }
    },
    {
      "cell_type": "markdown",
      "metadata": {
        "id": "hcirVVhaRPOR"
      },
      "source": [
        "## Selecting rows -- `query()`\n",
        "\n",
        "To select rows, we can use the following approach, where we generate a list of boolean values, one for each row of the dataframe, and then we use the list to select which of the rows of the dataframe we want to keep\"\n",
        "\n",
        "[`query` documentation](https://pandas.pydata.org/pandas-docs/stable/reference/api/pandas.DataFrame.query.html)"
      ]
    },
    {
      "cell_type": "code",
      "metadata": {
        "id": "8_u2KIdGXav3"
      },
      "source": [
        "# Find all violations for restaurants with DBA being Starbucks\n",
        "restaurants.query(' DBA == \"STARBUCKS\" ')"
      ],
      "execution_count": null,
      "outputs": []
    },
    {
      "cell_type": "markdown",
      "source": [
        "*The following snippets use the accent grave or backquote character which is ASCII code 096.  It is found on English language QWERTY keyboards on the same key as the tilde (~) which is typically on the upper left side of the keyboard.  It can also be typed with the key combination [ALT]096.*"
      ],
      "metadata": {
        "id": "L_N7BSt8f0Gd"
      }
    },
    {
      "cell_type": "code",
      "metadata": {
        "id": "37-qYFVyRPOT"
      },
      "source": [
        "# Find all violations with code 04L (i.e., \"has mice\")\n",
        "# Notice the use of backquotes for attribute names that have space\n",
        "restaurants.query(' `VIOLATION CODE` == \"04L\" ')"
      ],
      "execution_count": null,
      "outputs": []
    },
    {
      "cell_type": "code",
      "metadata": {
        "id": "V106ezm-RPOW"
      },
      "source": [
        "# We can store the result in a dataframe called  has_mice\n",
        "has_mice = restaurants.query(' `VIOLATION CODE` == \"04L\" ')\n",
        "has_mice"
      ],
      "execution_count": null,
      "outputs": []
    },
    {
      "cell_type": "code",
      "metadata": {
        "id": "qXC7DeISRPOa"
      },
      "source": [
        "# The most frequent DBA names overall\n",
        "restaurants[\"DBA\"].value_counts()[:20]"
      ],
      "execution_count": null,
      "outputs": []
    },
    {
      "cell_type": "code",
      "metadata": {
        "id": "ieEWvEbZRPOf"
      },
      "source": [
        "# List the most frequent DBA values in the dataframe\n",
        "has_mice[\"DBA\"].value_counts()[:20]"
      ],
      "execution_count": null,
      "outputs": []
    },
    {
      "cell_type": "code",
      "metadata": {
        "id": "Eag5DaYgRPOh"
      },
      "source": [
        "has_mice[\"CAMIS\"].value_counts()[:10]"
      ],
      "execution_count": null,
      "outputs": []
    },
    {
      "cell_type": "code",
      "metadata": {
        "id": "POUKSEmsRPOj"
      },
      "source": [
        "has_mice.query( ' CAMIS == \"50015263\" ' )"
      ],
      "execution_count": null,
      "outputs": []
    },
    {
      "cell_type": "markdown",
      "metadata": {
        "id": "SaIVZ16DRPOn"
      },
      "source": [
        "And we can use more complex conditions to perform set operations."
      ]
    },
    {
      "cell_type": "code",
      "metadata": {
        "id": "1j2_O5AdRPOn"
      },
      "source": [
        "# AND in pandas is \"&\"\n",
        "# OR in pandas is \"|\""
      ],
      "execution_count": null,
      "outputs": []
    },
    {
      "cell_type": "code",
      "metadata": {
        "id": "OBDoVR50RPOo"
      },
      "source": [
        "has_mice_10012 = (\n",
        "    restaurants\n",
        "    .query(' `VIOLATION CODE` == \"04L\" & ZIPCODE == \"10012\" ')\n",
        "    .filter( items = ['DBA', 'BUILDING', 'STREET', 'INSPECTION DATE'])\n",
        ")\n",
        "\n",
        "has_mice_10012"
      ],
      "execution_count": null,
      "outputs": []
    },
    {
      "cell_type": "code",
      "metadata": {
        "id": "CLEmEPIRRPOr"
      },
      "source": [
        "has_mice_10012[\"DBA\"].value_counts()[:30]"
      ],
      "execution_count": null,
      "outputs": []
    },
    {
      "cell_type": "code",
      "metadata": {
        "id": "W3NvGsgoRPOs"
      },
      "source": [
        "has_mice_10012[\"DBA\"].value_counts()[30::-1].plot(kind=\"barh\")"
      ],
      "execution_count": null,
      "outputs": []
    },
    {
      "cell_type": "markdown",
      "source": [
        "\n",
        "\n",
        "---\n",
        "\n"
      ],
      "metadata": {
        "id": "-07jBBQKhM0t"
      }
    },
    {
      "cell_type": "markdown",
      "source": [
        "***Some SQL-like Manipulations***"
      ],
      "metadata": {
        "id": "7TNNlTZiiZUQ"
      }
    },
    {
      "cell_type": "markdown",
      "metadata": {
        "id": "07cNAS0Lcf_y"
      },
      "source": [
        "## Selecting distinct values -- `drop_duplicates()`"
      ]
    },
    {
      "cell_type": "markdown",
      "metadata": {
        "id": "ii2uPjjydLyD"
      },
      "source": [
        "We can do the equivalent of the SQL [SELECT DISTINCT](https://www.w3schools.com/sql/sql_distinct.asp) statement in Pandas using the **'.drop_duplicates()'** method in Pandas as follows:"
      ]
    },
    {
      "cell_type": "code",
      "metadata": {
        "id": "TmHYLEwhdMei"
      },
      "source": [
        "(\n",
        "    has_mice_10012\n",
        "    .filter( items = ['DBA', 'BUILDING', 'STREET'])\n",
        "    .drop_duplicates()\n",
        ")"
      ],
      "execution_count": null,
      "outputs": []
    },
    {
      "cell_type": "markdown",
      "metadata": {
        "id": "8eqOEGYXdl6K"
      },
      "source": [
        "## Sorting values -- `sort_values()`\n",
        "\n",
        "And we can do the equivalent of SQL [ORDER BY](https://www.w3schools.com/sql/sql_orderby.asp) statement using the **'.sort_values()'** method in Pandas."
      ]
    },
    {
      "cell_type": "code",
      "metadata": {
        "id": "vImT3bKGdz1_"
      },
      "source": [
        "(\n",
        "    has_mice_10012\n",
        "    .sort_values(\"INSPECTION DATE\", ascending=False)\n",
        "    .head(15)\n",
        ")"
      ],
      "execution_count": null,
      "outputs": []
    },
    {
      "cell_type": "code",
      "metadata": {
        "id": "Qa78sxUEeev3"
      },
      "source": [
        "(\n",
        "    has_mice_10012\n",
        "    .sort_values([\"INSPECTION DATE\",\"DBA\"], ascending=[False,True])\n",
        "    .head(15)\n",
        ")"
      ],
      "execution_count": null,
      "outputs": []
    },
    {
      "cell_type": "markdown",
      "source": [
        "\n",
        "\n",
        "---\n",
        "\n"
      ],
      "metadata": {
        "id": "hSi0itRxiUnS"
      }
    },
    {
      "cell_type": "markdown",
      "metadata": {
        "id": "sV9NGwc2bUCS"
      },
      "source": [
        "## Defining New Columns -- `assign()` and `apply()`\n",
        "\n"
      ]
    },
    {
      "cell_type": "code",
      "source": [
        ""
      ],
      "metadata": {
        "id": "vga56lQWjomb"
      },
      "execution_count": null,
      "outputs": []
    },
    {
      "cell_type": "markdown",
      "metadata": {
        "id": "sdiZXyXIq4rx"
      },
      "source": [
        "### Using the `assign()` approach"
      ]
    },
    {
      "cell_type": "markdown",
      "metadata": {
        "id": "SlTXmZwqkcSE"
      },
      "source": [
        "The `assign` command applies a function to a dataframe and returns back a new dataframe with the new column(s).    \n",
        "\n",
        "\n",
        "In the following example we will use the differences in lattitude and longitude from CityTech, square both and take the square root of their sum to get the distance 'as the crow flies' (or the shortest distance, regardless of obstacles) from the restuarant to CityTech.  This type of distance calculation could be used in determining all sites within a certain radius of a location.  It is not always a good measure of the distance to travel between sites, especially when the mode of transportation is by private automobile or public transportation. "
      ]
    },
    {
      "cell_type": "code",
      "metadata": {
        "id": "mtL_mCUpbbjd"
      },
      "source": [
        "import numpy as np\n",
        "\n",
        "# We define a function that will take as input a dataframe df\n",
        "# and returns back a new column. This function computes\n",
        "# the distance (in miles) from CityTech, given the lat/lon of the \n",
        "# other location\n",
        "def distance(df):\n",
        "  CityTech_lon = -73.9861\n",
        "  CityTech_lat = 40.6973\n",
        "  # The calculation below is simply the Pythagorean theorem.\n",
        "  # The normalizing values are just for converting lat/lon differences\n",
        "  # to miles\n",
        "  distance = ((df.Latitude-CityTech_lat)/0.0146)**2 + ((df.Longitude-CityTech_lon)/0.0196)**2\n",
        "  return np.sqrt(distance)\n",
        "\n",
        "# This function combines STREET/BUILDING/BORO/ZIPCODE columns into one address\n",
        "def combine_address(df):\n",
        "  return (df.BUILDING + ' ' + df.STREET + ', '  + df.ZIPCODE).str.upper()"
      ],
      "execution_count": null,
      "outputs": []
    },
    {
      "cell_type": "code",
      "metadata": {
        "id": "Lqr1oIJYczP3"
      },
      "source": [
        "# First, let's use the `assign` function to create two new columns\n",
        "# using the logic in the functions above,\n",
        "(\n",
        "  restaurants\n",
        "  .assign(\n",
        "      distance_from_CityTech = distance,\n",
        "      address = combine_address\n",
        "  )\n",
        "  .filter(items = ['DBA','address','distance_from_CityTech'])\n",
        ")"
      ],
      "execution_count": null,
      "outputs": []
    },
    {
      "cell_type": "code",
      "metadata": {
        "id": "9Ub8-qFWixeb"
      },
      "source": [
        "# And let's eliminate duplicates and sort by distance\n",
        "(\n",
        "  restaurants\n",
        "  .assign(\n",
        "      distance_from_CityTech = distance,\n",
        "      address = combine_address\n",
        "  )\n",
        "  .filter(items = ['DBA','address','distance_from_CityTech'])\n",
        "  .query('distance_from_CityTech > 0') # eliminates NaN values from distance_from_CityTech\n",
        "  .drop_duplicates()\n",
        "  .sort_values('distance_from_CityTech')\n",
        "  .head(20)\n",
        ")"
      ],
      "execution_count": null,
      "outputs": []
    },
    {
      "cell_type": "markdown",
      "source": [
        "\n",
        "\n",
        "---\n",
        "\n"
      ],
      "metadata": {
        "id": "kbqe9u0Gimwa"
      }
    },
    {
      "cell_type": "markdown",
      "metadata": {
        "id": "vgr0Yg_3k6qW"
      },
      "source": [
        "### Using the `apply` approach"
      ]
    },
    {
      "cell_type": "markdown",
      "metadata": {
        "id": "njW0EhjzmyK6"
      },
      "source": [
        "The `apply` function allows the users to pass a function and apply it on every single row or column of a Pandas dataframe. "
      ]
    },
    {
      "cell_type": "code",
      "metadata": {
        "id": "yIZ_H-s6db9e"
      },
      "source": [
        "!sudo pip3 install -q -U geopy\n",
        "\n",
        "from geopy import distance\n",
        "\n",
        "# A bit more accurate distance calculation, which returns back\n",
        "# the distance in miles. However, we cannot pass a dataframe\n",
        "# to the function but only individual values\n",
        "def distance_from_CityTech_geodesic(row):\n",
        "  CityTech_lon = -73.9861\n",
        "  CityTech_lat = 40.6973\n",
        "  CityTech = (CityTech_lat, CityTech_lon)\n",
        "  rest = (row.Latitude, row.Longitude)\n",
        "  #if pd.isnull(row.Latitude) or pd.isnull(row.Longitude):\n",
        "  #  return None\n",
        "  return distance.distance(CityTech, rest).miles\n"
      ],
      "execution_count": null,
      "outputs": []
    },
    {
      "cell_type": "code",
      "metadata": {
        "id": "71KKNBOqlBTp"
      },
      "source": [
        "# We now create a smaller version of the dataset with just\n",
        "# the names/address/lon/lat of the restaurants\n",
        "rest_names_locations = (\n",
        "    restaurants\n",
        "    .assign(\n",
        "      address = combine_address\n",
        "    )\n",
        "    .filter(items = ['CAMIS','DBA','address','Longitude', 'Latitude'])\n",
        "    .query(' Longitude==Longitude ') # idiomatic expression for saying IS NOT NULL\n",
        "    .query(' Latitude==Latitude ') # idiomatic expression for saying IS NOT NULL\n",
        "    .drop_duplicates()\n",
        ")\n",
        "\n",
        "rest_names_locations"
      ],
      "execution_count": null,
      "outputs": []
    },
    {
      "cell_type": "code",
      "metadata": {
        "id": "8Q0gGzxOpE7x"
      },
      "source": [
        "# We will now apply the function distance_from_CityTech_geodesic \n",
        "# to every row of the dataset:\n",
        "rest_names_locations.apply(distance_from_CityTech_geodesic, axis='columns')\n"
      ],
      "execution_count": null,
      "outputs": []
    },
    {
      "cell_type": "code",
      "metadata": {
        "id": "82MvcB29pG1z"
      },
      "source": [
        "# We will now save the result into a new column\n",
        "rest_names_locations['distance_from_CityTech']=rest_names_locations.apply(distance_from_CityTech_geodesic, axis='columns')"
      ],
      "execution_count": null,
      "outputs": []
    },
    {
      "cell_type": "code",
      "metadata": {
        "id": "j6vbuAUfdglf"
      },
      "source": [
        "# Let's see how many restaurants are within half a mile from NYU :)\n",
        "(\n",
        "    rest_names_locations\n",
        "    .query('distance_from_CityTech < 0.5')\n",
        "    .sort_values('distance_from_CityTech')\n",
        ")"
      ],
      "execution_count": null,
      "outputs": []
    },
    {
      "cell_type": "markdown",
      "source": [
        "\n",
        "\n",
        "---\n",
        "\n"
      ],
      "metadata": {
        "id": "EXqSu4xhkSZF"
      }
    },
    {
      "cell_type": "markdown",
      "metadata": {
        "id": "iTcny4zSw426"
      },
      "source": [
        "## Aggregation Function -- `agg()`"
      ]
    },
    {
      "cell_type": "code",
      "metadata": {
        "id": "XUNvMhwNCWF5"
      },
      "source": [
        "restaurants['SCORE'].agg('mean')"
      ],
      "execution_count": null,
      "outputs": []
    },
    {
      "cell_type": "code",
      "metadata": {
        "id": "XpVaAe2uz8Bk"
      },
      "source": [
        "restaurants['SCORE'].agg(['mean','std','count','nunique'])"
      ],
      "execution_count": null,
      "outputs": []
    },
    {
      "cell_type": "code",
      "metadata": {
        "id": "dJP_gFvKzCNY"
      },
      "source": [
        "restaurants.agg(\n",
        "    {\n",
        "        'SCORE': ['mean','std','count','nunique'],\n",
        "        'CAMIS':  ['nunique','count']\n",
        "     }\n",
        "    )"
      ],
      "execution_count": null,
      "outputs": []
    },
    {
      "cell_type": "code",
      "metadata": {
        "id": "92Gsuibr0Zi1"
      },
      "source": [
        "restaurants.agg(\n",
        "        num_scored_violations = ('SCORE', 'count'),\n",
        "        mean_score = ('SCORE', 'mean'),\n",
        "        std_score  = ('SCORE', 'std'),\n",
        "        num_entries = ('CAMIS',  'count'),\n",
        "        num_restaurants = ('CAMIS',  'nunique'),\n",
        "  )"
      ],
      "execution_count": null,
      "outputs": []
    },
    {
      "cell_type": "markdown",
      "metadata": {
        "id": "NDAZWbRxw5JJ"
      },
      "source": [
        "## Calculating aggegates per groups -- `groupby()`"
      ]
    },
    {
      "cell_type": "code",
      "metadata": {
        "id": "AtjmJWijDXYU"
      },
      "source": [
        "restaurants.groupby('GRADE DATE').agg({'SCORE': 'mean'})"
      ],
      "execution_count": null,
      "outputs": []
    },
    {
      "cell_type": "code",
      "metadata": {
        "id": "eSoefDKZEbMp"
      },
      "source": [
        "(\n",
        "  restaurants\n",
        "  .groupby('GRADE DATE')\n",
        "  .agg(\n",
        "      score_mean = ('SCORE', 'mean'), \n",
        "      graded_restaurants = ('CAMIS', 'nunique')\n",
        "    )\n",
        "  .tail(500)\n",
        "  .head(20)\n",
        ")"
      ],
      "execution_count": null,
      "outputs": []
    },
    {
      "cell_type": "markdown",
      "source": [
        "\n",
        "\n",
        "---\n",
        "\n"
      ],
      "metadata": {
        "id": "bXuFuzGnkoYA"
      }
    },
    {
      "cell_type": "markdown",
      "metadata": {
        "id": "8UR7tKEURPOu"
      },
      "source": [
        "## Pivot Tables\n",
        "\n",
        "[Pivot tables](http://pandas.pydata.org/pandas-docs/stable/generated/pandas.pivot_table.html) are one of the most commonly used exploratory tools, and in Pandas they are extremely flexible. \n",
        "\n",
        "For example, let's try to count the number of restaurants that are inspected every day. "
      ]
    },
    {
      "cell_type": "code",
      "metadata": {
        "id": "m5m48HZFRPOu"
      },
      "source": [
        "# Count the number of CAMIS values that appear on each date\n",
        "\n",
        "pivot = pd.pivot_table(\n",
        "    data=restaurants,\n",
        "    index=\"GRADE DATE\",  # specifies the rows\n",
        "    values=\"CAMIS\",  # specifies the content of the cells\n",
        "    aggfunc=\"count\",  # we ask to count how many different CAMIS values we see\n",
        ")"
      ],
      "execution_count": null,
      "outputs": []
    },
    {
      "cell_type": "code",
      "metadata": {
        "id": "PXbdJgt8RPOy"
      },
      "source": [
        "pivot"
      ],
      "execution_count": null,
      "outputs": []
    },
    {
      "cell_type": "markdown",
      "metadata": {
        "id": "PuzOxstCRPPA"
      },
      "source": [
        "#### Changing date granularity \n",
        "\n",
        "We can also use the [resample](http://pandas.pydata.org/pandas-docs/stable/generated/pandas.DataFrame.resample.html) command to change the frequency from one day, to, say, 7 days. Then we can compute, say, the average (`mean()`) for these days, or the total number (`sum()`) of inspections."
      ]
    },
    {
      "cell_type": "code",
      "metadata": {
        "id": "ffCg-Jo-RPPB"
      },
      "source": [
        "pivot.resample(\"1W\").sum().tail(100)"
      ],
      "execution_count": null,
      "outputs": []
    },
    {
      "cell_type": "markdown",
      "metadata": {
        "id": "wuhabll3RPPL"
      },
      "source": [
        "#### Pivot Table with two (or more) variables)\n",
        "\n",
        "We would like to break down the results by borough, so we add the `column` parameter."
      ]
    },
    {
      "cell_type": "code",
      "metadata": {
        "id": "x57cwCMARPPM"
      },
      "source": [
        "pivot2 = pd.pivot_table(\n",
        "    data=restaurants,  #\n",
        "    index=\"INSPECTION DATE\",\n",
        "    columns=\"BORO\",\n",
        "    values=\"CAMIS\",\n",
        "    aggfunc=\"count\",\n",
        ")\n",
        "pivot2.head(10)"
      ],
      "execution_count": null,
      "outputs": []
    },
    {
      "cell_type": "markdown",
      "metadata": {
        "id": "FRNJSEEVRPPN"
      },
      "source": [
        "##### Deleting rows and columns\n",
        "\n",
        "Now, you will notice that there are a few columns and rows that are just noise. The first row with date *'1900-01-01'* is clearly noise, and the *'0'* column is also noise. We can use the `drop` command in Pandas to drop these."
      ]
    },
    {
      "cell_type": "code",
      "metadata": {
        "id": "ypaHCyOQRPPN"
      },
      "source": [
        "# The axis='index' (or axis=0) means that we delete a row with that index value\n",
        "pivot2 = pivot2.drop(pd.to_datetime(\"1900-01-01\"), axis=\"index\")"
      ],
      "execution_count": null,
      "outputs": []
    },
    {
      "cell_type": "code",
      "metadata": {
        "id": "uoZ8g0Q_RPPP"
      },
      "source": [
        "# The axis='columns' (or axis=1) means that we delete a columns with that value\n",
        "pivot2 = pivot2.drop(\"0\", axis=\"columns\")"
      ],
      "execution_count": null,
      "outputs": []
    },
    {
      "cell_type": "code",
      "metadata": {
        "id": "ScaU_IdYRPPR"
      },
      "source": [
        "pivot2.tail(5)"
      ],
      "execution_count": null,
      "outputs": []
    },
    {
      "cell_type": "markdown",
      "metadata": {
        "id": "bS8nDH9DRPPW"
      },
      "source": [
        "## (Optional, FYI) Advanced Pivot Tables\n",
        "\n",
        "We can also add multiple attributes in the index and columns. It is also possible to have multiple aggregation functions, and we can even define our own aggregation functions."
      ]
    },
    {
      "cell_type": "code",
      "metadata": {
        "id": "oX1uJBmsRPPW"
      },
      "source": [
        "# We write a function that returns the\n",
        "# number of unique items in a list x\n",
        "def count_unique(x):\n",
        "    return len(set(x))\n",
        "\n",
        "\n",
        "# We break down by BORO and GRADE, and also calculate\n",
        "# inspections in unique (unique restaurants)\n",
        "# and non-unique entries (effectuvely, violations)\n",
        "pivot_advanced = pd.pivot_table(\n",
        "    data=restaurants,  #\n",
        "    index=\"GRADE DATE\",\n",
        "    columns=[\"BORO\", \"GRADE\"],\n",
        "    values=\"CAMIS\",\n",
        "    aggfunc=[\"count\", count_unique],\n",
        ")\n",
        "\n",
        "# Take the total number of inspections (unique and non-unique)\n",
        "agg = pivot_advanced.resample(\"1M\").sum()\n",
        "\n",
        "# Show the last 5 entries and show the transpose (.T)\n",
        "agg.tail().T"
      ],
      "execution_count": null,
      "outputs": []
    },
    {
      "cell_type": "markdown",
      "source": [
        "\n",
        "\n",
        "---\n",
        "\n"
      ],
      "metadata": {
        "id": "WUMFZd4flAXs"
      }
    },
    {
      "cell_type": "markdown",
      "source": [
        "# Exercises"
      ],
      "metadata": {
        "id": "pqdQlDsQlFDW"
      }
    },
    {
      "cell_type": "markdown",
      "metadata": {
        "id": "Voat735yRPPZ"
      },
      "source": [
        "## Exercise 1 - Average Score by Inspector\n",
        "\n",
        "Now let's do the same exercise, but instead of counting the number of inspections, we want to compute the average score assigned by the inspectors. Hint: We will need to change the `values` and the `aggfunc` parameters in the `pivot_table` function above."
      ]
    },
    {
      "cell_type": "code",
      "metadata": {
        "id": "IlCG1ciIRPPa"
      },
      "source": [
        "# your code here"
      ],
      "execution_count": null,
      "outputs": []
    },
    {
      "cell_type": "markdown",
      "metadata": {
        "id": "FLgKXET5RPPb",
        "solution2": "hidden",
        "solution2_first": true
      },
      "source": [
        "#### Solution 1 - Average Score by Inspector"
      ]
    },
    {
      "cell_type": "code",
      "metadata": {
        "id": "As9qTwYLRPPb",
        "solution2": "hidden"
      },
      "source": [
        "pivot = pd.pivot_table(\n",
        "    data=restaurants,\n",
        "    index=\"INSPECTION DATE\",  # specifies the rows\n",
        "    values=\"SCORE\",  # specifies the content of the cells\n",
        "    aggfunc=\"mean\",  # compute the average SCORE\n",
        ")"
      ],
      "execution_count": null,
      "outputs": []
    }
  ]
}