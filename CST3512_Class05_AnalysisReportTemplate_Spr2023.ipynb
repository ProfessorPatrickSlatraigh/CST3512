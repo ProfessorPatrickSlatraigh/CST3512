{
  "nbformat": 4,
  "nbformat_minor": 0,
  "metadata": {
    "colab": {
      "provenance": [],
      "collapsed_sections": [
        "0I48gB7t5IhM",
        "J05taHqH5d-w",
        "OVxSLS44Bcfu",
        "Vv_ZMmzENlWC",
        "ZQMGcXBUwGA0",
        "iv4rE81xmwC2",
        "UskbroIclq-F",
        "-T6hey5olyjV",
        "1FDZi8qkRGVK",
        "lDgAIU1bMSew",
        "5hdPjaqv95iS",
        "ziTVnVfTW6GJ",
        "AXetTnlKwY03",
        "QXEuUmCPW-K2",
        "f6pRUqRNmG6a",
        "pv2tZ6u-Kss8",
        "85nmdmmWXCFU",
        "L7B2vCbxpX1q",
        "miV2hbqMZMry",
        "O726wlw5wftc",
        "GL1udqjwy_Pc",
        "sXvBqFvkyOGq",
        "eVHfyoJZzS2k",
        "is50vYoPmmFc",
        "3rENQFIhJDd-",
        "xP8m-_Nul-I-",
        "qVPmeZkUvH7R",
        "m8KaWsB3QWfS",
        "FEkfZqOVVlPy",
        "OB4kGFOsVRKT",
        "BPAbobGNJhkK",
        "mc0SugpcS_bs",
        "BaySwbV-5453",
        "UqeHIRhlZ4in"
      ],
      "include_colab_link": true
    },
    "kernelspec": {
      "name": "python3",
      "display_name": "Python 3"
    },
    "language_info": {
      "name": "python"
    }
  },
  "cells": [
    {
      "cell_type": "markdown",
      "metadata": {
        "id": "view-in-github",
        "colab_type": "text"
      },
      "source": [
        "<a href=\"https://colab.research.google.com/github/ProfessorPatrickSlatraigh/CST3512/blob/main/CST3512_Class05_AnalysisReportTemplate_Spr2023.ipynb\" target=\"_parent\"><img src=\"https://colab.research.google.com/assets/colab-badge.svg\" alt=\"Open In Colab\"/></a>"
      ]
    },
    {
      "cell_type": "markdown",
      "source": [
        "#CST3512 Class 05  \n",
        "**template to use for lab class project**    "
      ],
      "metadata": {
        "id": "pMTSf2LtnljV"
      }
    },
    {
      "cell_type": "markdown",
      "source": [
        "#Analysis Report Template    \n",
        "\n",
        "\n",
        "**A shared resource for the organization of data science analysis and report presentation.**\n",
        "\n",
        "*Prepared by CUNY CityTech CST3512 class, Spring 2022*    \n",
        "*Updated 26-Nov-2022; 04-Dec-2022; and 08-Feb-2023* \n",
        "   \n",
        "\n"
      ],
      "metadata": {
        "id": "Ar1dlppwcrPL"
      }
    },
    {
      "cell_type": "markdown",
      "source": [
        "**OUTLINE**    \n",
        "\n",
        "1. (Abstract) Executive Summary     \n",
        "\n",
        "2. Introduction    \n",
        "\n",
        "3. Background   \n",
        "    - Problem Statement   \n",
        "    - Research Questions    \n",
        "\n",
        "4. Methdology / Approach    \n",
        "    - Analytic Aproach  \n",
        "    - Tools and Techniques    \n",
        "    - Data Sources    \n",
        "    - Data Wrangling    \n",
        "5. Results\n",
        "    - Findings    \n",
        "        * Narrative (text)    \n",
        "        * Reports and Tables    \n",
        "        * Plots    \n",
        "    - One or More Themes (insights based on findings)    \n",
        "    - Implications / Discussion (the 'so what?')     \n",
        "    - Recommendation(s)   \n",
        "6. Conclusion    \n",
        "    - Plan of Action and Milestones\n",
        "    - Next Steps (additional-research?)   \n",
        "\n",
        "\n",
        "* APPENDICES    \n",
        "I.     Footnotes    \n",
        "II.    Glossary of terms    \n",
        "III.   Bibliography / Additional Reading   \n"
      ],
      "metadata": {
        "id": "0PqttnLniYOf"
      }
    },
    {
      "cell_type": "markdown",
      "source": [
        "##1. (Abstract) Executive Summary    \n",
        "\n"
      ],
      "metadata": {
        "id": "WFcvmzu84RLl"
      }
    },
    {
      "cell_type": "markdown",
      "source": [
        "An abstract is a very short summary of all the sections of your research paper—the introduction, objectives, materials and methods, results, and conclusion. It ends by emphasising the novelty or relevance of your study, or by posing questions for future research. The abstract should cover all important aspects of the study, so that the reader can quickly decide if the paper is of their interest or not.    \n",
        "\n",
        "A good introduction sets the context for your study and clearly distinguishes between the knowns and the unknowns in a research topic.\n",
        "\n",
        "Often, the introduction mentions the materials and methods used in a study and outlines the hypotheses tested. Both the abstract and the introduction have this in common. So, what are the key differences between the two sections?    \n",
        "\n",
        "Key differences between an abstract and the introduction:    \n",
        " - The word limit for an abstract is usually 250 words or less. In contrast, the typical word limit for an introduction is 500 words or more.    \n",
        " - When writing the abstract, it is essential to use keywords to make the paper more visible to search engines. This is not a significant concern when writing the introduction.    \n",
        " - The abstract features a summary of the results and conclusions of your study, while the introduction does not. The abstract, unlike the introduction, may also suggest future directions for research.    \n",
        " - While a short review of previous research features in both the abstract and the introduction, it is more elaborate in the latter.    \n",
        " - All references to previous research in the introduction come with citations. The abstract does not mention specific studies, although it may briefly outline previous research.    \n",
        " - The abstract always comes before the introduction in a research paper.    \n",
        " - Every paper does not need an abstract. However, an introduction is an essential component of all research papers.    \n",
        "\n",
        "*from: [Differentiating between the abstract and the introduction of a research paper](https://scientific-publishing.webshop.elsevier.com/manuscript-preparation/differentiating-between-and-introduction-research-paper/)*    "
      ],
      "metadata": {
        "id": "E0uy9CcSc_9l"
      }
    },
    {
      "cell_type": "markdown",
      "source": [
        "An executive summary is exactly what the name suggests – a summary. It is essentially a quick overview of all the most important information in the report. This part of the report primarily focuses on the key topics and most important data within it.     \n",
        "\n",
        "The people most interested in reading the executive summary are typically the ones who don’t have time to read the whole report and want a quick overview of the most important data and information. These include:    \n",
        "\n",
        " - **Project Stakeholders** – The individuals or organizations that are actively involved in a project.    \n",
        " - **C-level Executives** – The chief executive officer and their direct reports (**senior executives**) in a business.    \n",
        " - **Management** personnel (**decision-makers**) – The highest-ranking employees in your company (manager, partner, general partner, etc.)    \n",
        " - **Investors** – This could be bank officials who want a quick recap of of performance or forecasts so they can make an easier investment decision.    \n",
        " - **Venture Capitalists** – Investors who provide capital in exchange for equity stakes.    \n",
        "\n",
        "While an executive summary is a rather short section, it doesn’t mean that it’s easy to write. You will have to pay extra attention to every single sentence in order to avoid unnecessary information.   \n",
        "\n",
        "To know whether you have written a good executive summary, you can ask yourself, “Are the stakeholders going to have all the information they need to make decisions?”  If the answer is yes, you have done a good job.    \n",
        "\n",
        "*summarized from: ['How to Write an Executive Summary for a Report: Step By Step Guide with Examples' | Databox Blog](https://databox.com/how-to-write-executive-summary-report)*    "
      ],
      "metadata": {
        "id": "RxGGgFPlXcCc"
      }
    },
    {
      "cell_type": "markdown",
      "source": [
        "##2. Introduction    "
      ],
      "metadata": {
        "id": "xBkFoa4zabY7"
      }
    },
    {
      "cell_type": "markdown",
      "source": [
        "The introduction of your research paper is presented before the background. Some factors that differentiate the background from the introduction:    \n",
        "\n",
        " - The introduction only contains preliminary data about the research topic and does not state the purpose of the study. On the contrary, the background clarifies the importance of the study in detail.    \n",
        " - The introduction provides an overview of the research topic from a broader perspective, while the background provides a detailed understanding of the topic.    \n",
        " - The introduction should end with the mention of the research questions, aims, and objectives of the study. In contrast, the background follows no such format and only provides essential context to the study.    \n",
        "\n",
        "*summarized from: [What is the Background of a Study and How Should it be Written? | Elsevier Author Services](https://scientific-publishing.webshop.elsevier.com/manuscript-preparation/what-background-study-and-how-should-it-be-written/)*    "
      ],
      "metadata": {
        "id": "sH_P86gPbtUF"
      }
    },
    {
      "cell_type": "markdown",
      "source": [
        "##3. Background    \n",
        "\n"
      ],
      "metadata": {
        "id": "SVGcavwo4RH8"
      }
    },
    {
      "cell_type": "markdown",
      "source": [
        "The background of a study establishes the context underlying the research. It contains:    \n",
        "- the rationale\n",
        "- the key problem statement\n",
        "- a brief overview of research questions that are addressed in the rest of the paper.    \n",
        "\n",
        "The background forms the crux of the study because it introduces an unaware audience to the research and its importance in a clear and logical manner. At times, the background may even explore whether the study builds on or refutes findings from previous studies.   \n",
        "Any relevant information that the readers need to know before delving into the study should be made available to them in the background.    \n",
        "\n",
        "The length and detail presented in the background varies for different research papers, depending on the complexity and novelty of the research topic. At times, a simple background suffices, even if the study is complex.\n",
        "Before writing and adding details in the background, take a note of these additional points:    \n",
        "\n",
        " - Start with a strong beginning: Begin the background by defining the research topic and then identify the target audience.    \n",
        " - Cover key components: Explain all theories, concepts, terms, and ideas that may feel unfamiliar to the target audience thoroughly.    \n",
        " - Take note of important prerequisites: Go through the relevant literature in detail. Take notes while reading and cite the sources.    \n",
        " - Maintain a balance: Make sure that the background is focused on important details, but also appeals to a broader audience.    \n",
        " - Include historical data: Current issues largely originate from historical events or findings. If the research borrows information from a historical context, add relevant data in the background.    \n",
        " - Explain novelty: If the research study or methodology is unique or novel, provide an explanation that helps to understand the research better.    \n",
        " - Increase engagement: To make the background engaging, build a story around the central theme of the research.    \n",
        "\n",
        "*summarized from: [What is the Background of a Study and How Should it be Written? | Elsevier Author Services](https://scientific-publishing.webshop.elsevier.com/manuscript-preparation/what-background-study-and-how-should-it-be-written/)*    \n"
      ],
      "metadata": {
        "id": "VCSRwr5na3RA"
      }
    },
    {
      "cell_type": "markdown",
      "source": [
        "###Problem Statement    \n",
        "\n"
      ],
      "metadata": {
        "id": "pba2uEEx4Q_U"
      }
    },
    {
      "cell_type": "markdown",
      "source": [
        "As a data scientist you will routinely discover or be presented with problems to solve. Your initial objective should be to determine if your problem is in fact a Data Science problem — and if so, what kind. There is great value in being able to translate a business idea or question into a clearly formulated problem statement. And being able to effectively communicate whether or not that problem can be solved by applying appropriate Machine Learning algorithms.    \n",
        "\n",
        "A true data science problem may:    \n",
        "\n",
        " - Categorize or group data    \n",
        " - Identify patterns    \n",
        " - Identify anomalies    \n",
        " - Show correlations    \n",
        " - Predict outcomes    \n",
        "\n",
        "A good data science problem should be specific and conclusive. For example:    \n",
        "\n",
        " - As personal wealth increases, how do key health markers change?    \n",
        " - Where in California do most people with heart disease live?    \n",
        "\n",
        "Conversely, a vague and unmeasurable problem may not be a good fit for a data science solution. For example:    \n",
        "\n",
        " - What is the link between finances and health?    \n",
        " - Are people in California healthier?    \n",
        "\n",
        "*summarized from: ['Defining A Data Science Problem' | TowardDataScience](https://towardsdatascience.com/defining-a-data-science-problem-4cbf15a2a461)*    \n"
      ],
      "metadata": {
        "id": "9_jrPndZef-2"
      }
    },
    {
      "cell_type": "markdown",
      "source": [
        "###Research Questions    "
      ],
      "metadata": {
        "id": "1Qz45e0YamoT"
      }
    },
    {
      "cell_type": "markdown",
      "source": [
        "Developing research questions is an absolute necessity in completing any research project. The questions you ask help to shape the type of analysis that you need to conduct.    \n",
        "\n",
        "The type of questions you ask in the context of analytics and data science are similar to those found in traditional quantitative research. Yet data science, like any other field, has its own distinct traits.    \n",
        "\n",
        "Some common data science problems focus on answering one or more of six questions:    \n",
        "\n",
        " 1. Descriptive    \n",
        " 2. Exploratory    \n",
        " 3. Inferential    \n",
        " 4. Predictive    \n",
        " 5. Causal    \n",
        " 6. Mechanistic    \n",
        "\n",
        "*summarized from: [Data Science Research Questions](https://educationalresearchtechniques.com/2017/04/07/data-science-research-questions/)*     \n"
      ],
      "metadata": {
        "id": "E2I2bydSf_4W"
      }
    },
    {
      "cell_type": "markdown",
      "source": [
        "####1. Descriptive    \n",
        "A descriptive question seeks to describe a characteristic of the dataset. With descriptive questions, there is no need for a hypothesis as you are not trying to infer, establish a relationship, or generalize to a broader context. You simply want to know a trait of the dataset.    "
      ],
      "metadata": {
        "id": "UH1uBnQ3gnoh"
      }
    },
    {
      "cell_type": "markdown",
      "source": [
        "####2. Exploratory       \n",
        "Exploratory questions seek to identify things that may be “interesting” in the dataset. Examples of things that may be interesting include trends, patterns, and or relationships among variables. Exploratory questions generate hypotheses.    \n"
      ],
      "metadata": {
        "id": "cunQexFAgruz"
      }
    },
    {
      "cell_type": "markdown",
      "source": [
        "####3. Inferential    \n",
        "Inferential questions are an extension of exploratory questions. What this means is that the exploratory question is formally tested by developing an inferential question. Often, the difference between an exploratory and inferential question is the following:    \n",
        "\n",
        " - Exploratory questions are usually developed first    \n",
        " - Exploratory questions generate inferential questions    \n",
        " - Inferential questions are tested often on a different dataset from exploratory questions     \n"
      ],
      "metadata": {
        "id": "OrOC8ExThibi"
      }
    },
    {
      "cell_type": "markdown",
      "source": [
        "####4. Predictive    \n",
        "Predictive analytics uses mathematical modeling tools to generate predictions about an unknown fact, characteristic, or event. “It’s about taking the data that you know exists and building a mathematical model from that data to help you make predictions about somebody [or something] not yet in that data set.    \n",
        "\n",
        "There are some typical types of predictive models used for solving these problems:  \n",
        "\n",
        " a. Linear Regression    \n",
        " b. Text Mining     \n",
        " c. Optimal Estimation    \n",
        " d. Clustering Models    \n",
        " e. Neural Networks    \n",
        "\n",
        "\n",
        "*summarized from: ['Predictive Analytics: What It Is & Why It's Important' | Northeastern University ](https://www.northeastern.edu/graduate/blog/predictive-analytics/)*    "
      ],
      "metadata": {
        "id": "5esOPGXygweF"
      }
    },
    {
      "cell_type": "markdown",
      "source": [
        "#####a. Linear Regression    \n",
        "\n",
        "Linear regression is one of the most famous and historic modeling tools. This model considers all the known data points on a graph and creates a straight line that travels through the center of those data points. This line represents the smallest possible distance between all the points on the graph. A linear regression mathematical modeling tool can then base predictions about nonexistent data off of the relationship between this line and the existing data points.    \n",
        "\n",
        "*summarized from: ['Predictive Analytics: What It Is & Why It's Important' | Northeastern University ](https://www.northeastern.edu/graduate/blog/predictive-analytics/)*    "
      ],
      "metadata": {
        "id": "6eRTFpHejsUU"
      }
    },
    {
      "cell_type": "markdown",
      "source": [
        "#####b. Text Mining    \n",
        "Whereas linear regression uses only numeric data, mathematical models can also be used to make predictions about non-numerical factors. Text mining is a perfect example.     \n",
        "\n",
        "Text mining is part of predictive analytics in the sense that analytics is all about finding the information I previously knew nothing about. In this scenario, the tool takes data points in the form of text-based words or phrases and searches a giant database for those specific points.    "
      ],
      "metadata": {
        "id": "X7frEKMyj5xg"
      }
    },
    {
      "cell_type": "markdown",
      "source": [
        "#####c. Optimal Estimation     \n",
        "Optimal estimation is a modeling technique that is used to make predictions based on observed factors. This model has been used in analytics for over 50 years and has laid the groundwork for many of the other predictive tools used today. Past applications of this method include determining “how to best recalibrate equipment on a manufacturing floor…[and] estimating where a bullet might go when shot,” as well as in other aspects of the defense industry.    \n",
        "\n",
        "*summarized from: ['Predictive Analytics: What It Is & Why It's Important' | Northeastern University ](https://www.northeastern.edu/graduate/blog/predictive-analytics/)*    "
      ],
      "metadata": {
        "id": "qEEsXbLkkMeg"
      }
    },
    {
      "cell_type": "markdown",
      "source": [
        "#####d. Clustering Models     \n",
        "Clustering models are focused on finding different groups with similar qualities or elements within the data. Many mathematical modeling tools fall within this category, including:    \n",
        "\n",
        " - K-Means    \n",
        " - Hierarchical Clustering    \n",
        " - TwoStep    \n",
        " - Density-Based Scan Clustering    \n",
        " - Gaussian Clustering Model    \n",
        " - Kohonen    \n",
        " \n",
        "*summarized from: ['Predictive Analytics: What It Is & Why It's Important' | Northeastern University ](https://www.northeastern.edu/graduate/blog/predictive-analytics/)*    "
      ],
      "metadata": {
        "id": "5AhmdTngkeY_"
      }
    },
    {
      "cell_type": "markdown",
      "source": [
        "#####e. Neural Networks     \n",
        "Neural networks are complex algorithms inspired by the structure of the human brain. They process historical and current data and identify complex relationships within the data to predict the future, similar to how the human brain can spot trends and patterns.    \n",
        "\n",
        "A  typical neural network is composed of artificial neurons, called units, arranged in different layers. The neural network uses input units to learn about and process data. On the other hand, output units are on the opposite side and outline how the neural network should respond to the input units. Between the two are hidden layers, which are layers of mathematical functions that produce a specific output.    \n",
        "\n",
        "*summarized from: ['Predictive Analytics: What It Is & Why It's Important' | Northeastern University ](https://www.northeastern.edu/graduate/blog/predictive-analytics/)*    "
      ],
      "metadata": {
        "id": "OC5N555tkuJq"
      }
    },
    {
      "cell_type": "markdown",
      "source": [
        "####5. Causual    \n",
        "Causal questions address if a change in one variable directly affects another. In analytics, A/B testing is one form of data collection that can be used to develop causal questions. For example, we may develop two version of a website and see which one generates more sales.    \n"
      ],
      "metadata": {
        "id": "RiRzm_54gz9o"
      }
    },
    {
      "cell_type": "markdown",
      "source": [
        "####6. Mechanistic    \n",
        "Mechanistic questions deal with how one variable affects another. This is different from causal questions that focus on if one variable affects another. Continuing with the website example, we may take a closer look at the two different websites and see what it was about them that made one more succesful in generating sales. It may be that one had more banners than another or fewer pictures. Perhaps there were different products offered on the home page.    "
      ],
      "metadata": {
        "id": "ikC2aJlVg4CV"
      }
    },
    {
      "cell_type": "markdown",
      "source": [
        "##4. Methodology / Approach    \n",
        "\n",
        "Generally, the research methodology will be driven by the problem statement as described above.  While a specific problem may lend itself to a particular general approach, it is important to document the steps taken at a level of detail which not only explains each step to a lay reader but provides enough information and reference detail for another data scientist to replicate the research and reach similar findings.   \n",
        "\n",
        "The *science* part of **data science** requires that scientific methods be applied, including the requirement that research can be replicated.    \n",
        "\n"
      ],
      "metadata": {
        "id": "jokE8gKI4Q4o"
      }
    },
    {
      "cell_type": "markdown",
      "source": [
        "<center><u><h2>Data Science Methodology 101 | Medium</h2></u></center>    "
      ],
      "metadata": {
        "id": "E32BoPmOyEdl"
      }
    },
    {
      "cell_type": "markdown",
      "source": [
        "![Medium_datascience-methodology.png](data:image/png;base64,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)"
      ],
      "metadata": {
        "id": "CotwFGS5ySn5"
      }
    },
    {
      "cell_type": "markdown",
      "source": [
        "###Analytic Approach    \n",
        "\n"
      ],
      "metadata": {
        "id": "PVKQGKjN4QqD"
      }
    },
    {
      "cell_type": "markdown",
      "source": [
        "The analytic approach answers the question 'How can the data be used to solve the problem?    \n",
        "\n",
        "Ensure that you are familiar with the problem statement. Write about your strategy for resolving the issue after analyzing the problem statement. Your strategy is nothing more than how you intend to address the problem.    \n",
        "\n",
        "Once a business problem has been clearly identified, the Data Scientist can define the analytical approach. To do this, the problem must be expressed in the context of statistical learning and machine learning techniques so that the Data Scientist can identify the techniques to achieve the desired result.    \n",
        "\n",
        "*summarized from: ['Data Science Methodology 101' | Medium](https://medium.com/ml-research-lab/data-science-methodology-101-2fa9b7cf2ffe)*     \n"
      ],
      "metadata": {
        "id": "7ibMkI9OxE-Q"
      }
    },
    {
      "cell_type": "markdown",
      "source": [
        "###Tools and Techniques     "
      ],
      "metadata": {
        "id": "ldD7A7HqoH5O"
      }
    },
    {
      "cell_type": "markdown",
      "source": [
        "Be sure to document the tools and techniques employed, including version numbers of applications.  For libraries and other tools without version numbers, document the date of their use.  Again, it is important that your work can be replicated by someone in the future.    \n",
        "\n",
        "The techniques for data pre-processing may include feature engineering, handling missing values, correcting data imbalances, methods like `Stemming` and `TF-IDF` for text standardization and processing, etc. You can also add the `ML NLP` models used in the project, such as `Logistic Regression`, `Multinomial Naïve Bayes`, `Random Forest`, `Support Vector Machine`, and `XGBoost`.    \n",
        "\n",
        "*summarized from ['How to Write a Data Science Project Report?' | Project Pro](https://www.projectpro.io/article/data-science-project-report/620)*    "
      ],
      "metadata": {
        "id": "2ThMeu4fydVI"
      }
    },
    {
      "cell_type": "markdown",
      "source": [
        "###Data Sources     "
      ],
      "metadata": {
        "id": "byNrMNCJoM5P"
      }
    },
    {
      "cell_type": "markdown",
      "source": [
        "Describe where you found the data. Mention the source `URL` of the website from which the data is available. Mention the website and the tools used to get the data if it was obtained using web scraping. Discuss the characteristics of the dataset.    \n",
        "\n",
        "Document each data source with enough detail that it can be accessed and analyzed by someone in the future.  To be safe, you may want to preserve a copy of any source data on your own platform so that it is still available of the original source is no longer accessible.    "
      ],
      "metadata": {
        "id": "ceff8Q5qyysO"
      }
    },
    {
      "cell_type": "markdown",
      "source": [
        "###Data Wrangling"
      ],
      "metadata": {
        "id": "9S38P4zcoKwC"
      }
    },
    {
      "cell_type": "markdown",
      "source": [
        "Each problem and the data sources considered will raise unique considerations but there are several typical steps to data extraction, discovery, and transformation which are helpful to consider.    \n",
        "\n",
        "The following is derived from the work of Anmol Tomar in ['Every Data Analysis in 10 steps!  Adding structure to your data analysis!' | Codex](https://medium.com/codex/every-data-analysis-in-10-steps-960dc7e7f00b)    \n",
        "\n",
        "**This notebook extends the ten (10) steps in the original article by Anmol Tomar into 13 steps (to include steps related to duplicate rows and the transformation/wrangling of data elements.**    \n"
      ],
      "metadata": {
        "id": "qk0ELZprvSk5"
      }
    },
    {
      "cell_type": "markdown",
      "source": [
        "####File Upload"
      ],
      "metadata": {
        "id": "A7fnpEhcvSk6"
      }
    },
    {
      "cell_type": "markdown",
      "source": [
        "**IMDB Dataset**    \n",
        "\n",
        "For  illustration purposes, this analysis uses the Kaggle IMDB dataset for the top 1000 movies to understand the features/traits of top IMDB movies by applying a 10 step-process.    *The Kaggle file used in this notebook differs from the source file used by Anmol Tomar in the article referenced above.*  \n",
        "\n",
        "A copy of the file is hosted on Professor Patrick's GitHub and can be accsed with `!curl` to upload a copy to the `content` folder in Colab.    \n"
      ],
      "metadata": {
        "id": "3C2GL6O8vSk6"
      }
    },
    {
      "cell_type": "code",
      "source": [
        "!curl \"https://raw.githubusercontent.com/ProfessorPatrickSlatraigh/data/main/IMDB_top_1000.csv\" -o imdb_top_1000.csv"
      ],
      "metadata": {
        "id": "CzjSM-alvSk6"
      },
      "execution_count": null,
      "outputs": []
    },
    {
      "cell_type": "markdown",
      "source": [
        "####Import Packages    \n",
        "\n",
        "The load, discovery, and transformation steps will only require that the `pandas` and `matplotlib` packages be imported.    \n",
        "\n",
        "To add functionality to data tables in Colab, import `data_table` from `google.colab`."
      ],
      "metadata": {
        "id": "SJ8-Oi67vSk6"
      }
    },
    {
      "cell_type": "code",
      "source": [
        "# import our packages \n",
        "import pandas as pd \n",
        "import matplotlib.pyplot as plt\n",
        "\n",
        "from google.colab import data_table\n",
        "data_table.enable_dataframe_formatter()"
      ],
      "metadata": {
        "id": "JIjYuZe2vSk6"
      },
      "execution_count": null,
      "outputs": []
    },
    {
      "cell_type": "markdown",
      "source": [
        "####Read the Data into a Dataframe    \n"
      ],
      "metadata": {
        "id": "M8lw_FVsvSk6"
      }
    },
    {
      "cell_type": "markdown",
      "source": [
        "#####Reading the data from the current working directory    "
      ],
      "metadata": {
        "id": "G9ajesP1vSk6"
      }
    },
    {
      "cell_type": "code",
      "source": [
        "# reading the data\n",
        "df_movies =  pd.read_csv('imdb_top_1000.csv')"
      ],
      "metadata": {
        "id": "FMPtPewZvSk6"
      },
      "execution_count": null,
      "outputs": []
    },
    {
      "cell_type": "markdown",
      "source": [
        "**FIX THIS!!!**    \n",
        "\n",
        "**`read_fwf()` is returning the full contents of each line in 1 column**      \n",
        "\n",
        "##### Another means of reading the raw `.csv` content directly into a dataframe without the need to copy the file to the `content\\` folder"
      ],
      "metadata": {
        "id": "tq-Q8hBsvSk6"
      }
    },
    {
      "cell_type": "code",
      "source": [
        "help(pd.read_fwf)"
      ],
      "metadata": {
        "id": "P4CcM6v3vSk6"
      },
      "execution_count": null,
      "outputs": []
    },
    {
      "cell_type": "code",
      "source": [
        "# using the pandas `.read_fwf` to read the raw data file contents directly from a web server\n",
        "df_movies = pd.read_fwf('https://raw.githubusercontent.com/ProfessorPatrickSlatraigh/data/main/IMDB_top_1000.csv', index=0)"
      ],
      "metadata": {
        "id": "ilM3GriJvSk7"
      },
      "execution_count": null,
      "outputs": []
    },
    {
      "cell_type": "markdown",
      "source": [
        "####1. Summarize the Columns    \n",
        "\n"
      ],
      "metadata": {
        "id": "dpeHZNbxvSk7"
      }
    },
    {
      "cell_type": "code",
      "source": [
        "# summary of the columns   \n",
        "df_movies.describe(include = 'all')"
      ],
      "metadata": {
        "id": "NXZclUo1vSk7"
      },
      "execution_count": null,
      "outputs": []
    },
    {
      "cell_type": "markdown",
      "source": [
        "A detailed pivot table can be viewed as well to peruse the data.    "
      ],
      "metadata": {
        "id": "4Co_kn0HvSk7"
      }
    },
    {
      "cell_type": "code",
      "source": [
        "# query the detail in the dataframe\n",
        "df_movies"
      ],
      "metadata": {
        "id": "k3hyJ7cqvSk7"
      },
      "execution_count": null,
      "outputs": []
    },
    {
      "cell_type": "markdown",
      "source": [
        "####2. Data Types    \n",
        "\n",
        "The next step is to do a sanity check of the data types of the columns of the dataframe. If there are some incorrect data types they can be corrected in this step."
      ],
      "metadata": {
        "id": "L12Lj9IgvSk7"
      }
    },
    {
      "cell_type": "code",
      "source": [
        "# check the datatypes \n",
        "print(df_movies.dtypes)"
      ],
      "metadata": {
        "id": "z8iPnZqfvSk7"
      },
      "execution_count": null,
      "outputs": []
    },
    {
      "cell_type": "markdown",
      "source": [
        "The field `Duration` is a string (object data type) with the runtime in minutes followed by the term 'min'.  A new column can be generated for `runtime` as a float by assigning the result of a split of `Duration` and the transformation of the first element in the resulting list into a float. "
      ],
      "metadata": {
        "id": "RZ3jvVRevSk7"
      }
    },
    {
      "cell_type": "code",
      "source": [
        "# Extract the numeric value of movie Duration to a new column Runtime \n",
        "df_movies[['Runtime', 'Unit']] = df_movies[\"Duration\"].str.split(' ', 1, expand=True)\n",
        "df_movies['Runtime'] = df_movies['Runtime'].astype(int)\n",
        "del df_movies['Unit']"
      ],
      "metadata": {
        "id": "ZCzGKwiRvSk7"
      },
      "execution_count": null,
      "outputs": []
    },
    {
      "cell_type": "code",
      "source": [
        "# Query the dataframe after the transformation   \n",
        "df_movies"
      ],
      "metadata": {
        "id": "PrvJrgrnvSk8"
      },
      "execution_count": null,
      "outputs": []
    },
    {
      "cell_type": "code",
      "source": [
        "# Another approach would simply replace the `Duration` column in place with it's float value\n",
        "# Transformting `Duration` into int \n",
        "\n",
        "# >>> Remove the comment from the following line of code to try it\n",
        "# df_movies['Duration'] = df_movies['Duration'].str.replace(' min','').astype(int)\n"
      ],
      "metadata": {
        "id": "JhcPK0EDvSk8"
      },
      "execution_count": null,
      "outputs": []
    },
    {
      "cell_type": "code",
      "source": [
        "# Review the data types of each column again\n",
        "df_movies.dtypes"
      ],
      "metadata": {
        "id": "e2sBr4j6vSk8"
      },
      "execution_count": null,
      "outputs": []
    },
    {
      "cell_type": "markdown",
      "source": [
        "####3. Find Missing Values    \n",
        "\n",
        "The next step is to find the number of missing values across the columns of the dataframe. It’s important to understand the count of nulls so determine how best to treat them.    "
      ],
      "metadata": {
        "id": "r-JSe5nFvSk8"
      }
    },
    {
      "cell_type": "code",
      "source": [
        "# find nulls or missing values\n",
        "df_movies.isnull().sum()"
      ],
      "metadata": {
        "id": "KSfQiA26vSk8"
      },
      "execution_count": null,
      "outputs": []
    },
    {
      "cell_type": "markdown",
      "source": [
        "####4. Missing Values Treatment    \n",
        "\n",
        "Using the count of missing values and any other descriptive statistics applicable, the next step is to treat the columns with missing values.    \n",
        "\n",
        "For illustration purposes, the nulls are filled with the mean value of the columns, although there are more sophisticated methods of missing value treatment.   \n"
      ],
      "metadata": {
        "id": "kmZ47kM0vSk8"
      }
    },
    {
      "cell_type": "code",
      "source": [
        "# Check for potential values to use in replacing missing data \n",
        "\n",
        "print('The mean Metascore is ', df_movies['Metascore'].mean())\n",
        "\n",
        "print('The most frequent Certificate value is ', df_movies['Certificate'].mode())\n"
      ],
      "metadata": {
        "id": "LkwB8lo2vSk8"
      },
      "execution_count": null,
      "outputs": []
    },
    {
      "cell_type": "code",
      "source": [
        "# Replacing nulls with mean for numeric values and mode for categorical values\n",
        "\n",
        "df_movies['Metascore'].fillna(df_movies['Metascore'].mean())\n",
        "\n",
        "df_movies['Certificate'].fillna(df_movies['Certificate'].mode())\n"
      ],
      "metadata": {
        "id": "R4M0oy5tvSk8"
      },
      "execution_count": null,
      "outputs": []
    },
    {
      "cell_type": "code",
      "source": [
        "df_movies.head()"
      ],
      "metadata": {
        "id": "zjaxXD8yvSk8"
      },
      "execution_count": null,
      "outputs": []
    },
    {
      "cell_type": "code",
      "source": [
        "# find nulls or missing values to confirm that all have been addressed\n",
        "df_movies.isnull().sum()"
      ],
      "metadata": {
        "id": "fcqMeMUnR_BW"
      },
      "execution_count": null,
      "outputs": []
    },
    {
      "cell_type": "code",
      "source": [
        "df_movies"
      ],
      "metadata": {
        "id": "V6NGw5cASMRX"
      },
      "execution_count": null,
      "outputs": []
    },
    {
      "cell_type": "markdown",
      "source": [
        "####5. Find and Count Duplicates"
      ],
      "metadata": {
        "id": "H0bdSxv_vSk8"
      }
    },
    {
      "cell_type": "markdown",
      "source": [
        "The next step requires some context and/or intuition regarding the data.  On first inspection, there may be data which appears to be redundant but is actually categorical data.  Most data sources will not be normalized so this is often the case.  Later in this workbook there is an exercise on Transformations and Feature Extraction which discusses the fact that some categorical data may have data entry or other errors which require their own special treatment.    \n",
        "\n",
        "Finding duplicates and wrangingling categorical data can sometimes be an iterative process of discovery, trial and error, then treatement.    \n",
        "\n",
        "The initial activity in dealing with duplicates includes:    \n",
        "\n",
        "1. Finding duplicates    \n",
        "2. Counting duplicates    \n",
        "3. Displaying duplicate rows with `loc`\n",
        "3. Determing duplicates treatment     \n",
        "\n",
        "The following snippets of code give examples of 1 and 2 above:    \n",
        "\n"
      ],
      "metadata": {
        "id": "O2UMozmIvSk9"
      }
    },
    {
      "cell_type": "code",
      "source": [
        "# Finding duplicates across the dataframe   \n",
        "# Use the `.duplicated()` method\n",
        "df_movies.duplicated()"
      ],
      "metadata": {
        "id": "KMBWVIeSvSk9"
      },
      "execution_count": null,
      "outputs": []
    },
    {
      "cell_type": "code",
      "source": [
        "# To consider certain columns such as `Title` for identifying duplicates\n",
        "df_movies.duplicated(subset=['Title'])"
      ],
      "metadata": {
        "id": "zcGTVbk5vSk9"
      },
      "execution_count": null,
      "outputs": []
    },
    {
      "cell_type": "markdown",
      "source": [
        "Pandas `duplicated()` returns a boolean Series. However, it is not practical to see a list of True and False when we need to perform some data analysis. The Pandas `loc` data selector can be used to extract those duplicate rows:"
      ],
      "metadata": {
        "id": "5Hp5fr6WvSk9"
      }
    },
    {
      "cell_type": "code",
      "source": [
        "# Use of `loc` allows us to see the rows that were identified by duplicated()\n",
        "df_movies.loc[df_movies.duplicated(), :]"
      ],
      "metadata": {
        "id": "Wx_z7xxMvSk9"
      },
      "execution_count": null,
      "outputs": []
    },
    {
      "cell_type": "markdown",
      "source": [
        "####6. Duplicates Treatment"
      ],
      "metadata": {
        "id": "UGTA5HiWvSk9"
      }
    },
    {
      "cell_type": "markdown",
      "source": [
        "There are two fundamental concepts in duplicate treament to consider:\n",
        "\n",
        "1. Determing duplicates to retain with `keep`    \n",
        "2. Dropping duplicates      \n"
      ],
      "metadata": {
        "id": "H7rggV23vSk9"
      }
    },
    {
      "cell_type": "markdown",
      "source": [
        "**Retain duplicates with `keep`**\n",
        "\n",
        "There is an argument `keep` in Pandas duplicated() to determine which duplicates to mark. `keep` defaults to 'first', which means the first occurrence gets kept, and all others get identified as duplicates.   \n"
      ],
      "metadata": {
        "id": "ZctPNcJvvSk9"
      }
    },
    {
      "cell_type": "code",
      "source": [
        "# `keep` defaults to 'first'\n",
        "df_movies.loc[df_movies.duplicated(keep='first'), :]"
      ],
      "metadata": {
        "id": "1eC6BWrDvSk9"
      },
      "execution_count": null,
      "outputs": []
    },
    {
      "cell_type": "markdown",
      "source": [
        "An argument can be used to change it to 'last' keep the last occurrence and mark all others as duplicates.  "
      ],
      "metadata": {
        "id": "AIsvAVq7vSk9"
      }
    },
    {
      "cell_type": "code",
      "source": [
        "# `keep` defaults to 'last'\n",
        "df_movies.loc[df_movies.duplicated(keep='last'), :]"
      ],
      "metadata": {
        "id": "XcbjPkv_vSk9"
      },
      "execution_count": null,
      "outputs": []
    },
    {
      "cell_type": "markdown",
      "source": [
        "There is a third option we can use `keep=False`. It marks all duplicates as True and allows viewing all duplicate rows."
      ],
      "metadata": {
        "id": "bwe9CiUHvSk9"
      }
    },
    {
      "cell_type": "code",
      "source": [
        "# There is a third option we can use 'keep=False'. It marks all duplicates as True\n",
        "df_movies.loc[df_movies.duplicated(keep=False), :]"
      ],
      "metadata": {
        "id": "xd3kebwFvSk9"
      },
      "execution_count": null,
      "outputs": []
    },
    {
      "cell_type": "markdown",
      "source": [
        "**Drop duplicates**    \n",
        "\n",
        "The Pandas built-in method `drop_duplicates()` will drop duplicate rows."
      ],
      "metadata": {
        "id": "RITSliAtvSk9"
      }
    },
    {
      "cell_type": "code",
      "source": [
        "# Note the change in the number of rows before and after dropping duplicates\n",
        "# It is not performed in place by default,\n",
        "df_movies.drop_duplicates()"
      ],
      "metadata": {
        "id": "wS-sx88lvSk9"
      },
      "execution_count": null,
      "outputs": []
    },
    {
      "cell_type": "markdown",
      "source": [
        "By default, this method returns a new DataFrame with duplicate rows removed. We can set the argument inplace=True to remove duplicates from the original DataFrame."
      ],
      "metadata": {
        "id": "OkfoSXT3vSk9"
      }
    },
    {
      "cell_type": "code",
      "source": [
        "# Note the change in the number of rows before and after dropping duplicates\n",
        "# It is not performed in place by default, it can be changed it to in place by `inplace=True`df.drop_duplicates(inplace=True)\n",
        "df_movies.drop_duplicates(inplace=True)"
      ],
      "metadata": {
        "id": "N4xQriUovSk-"
      },
      "execution_count": null,
      "outputs": []
    },
    {
      "cell_type": "markdown",
      "source": [
        "The argument keep can be set for `drop_duplicates()` as well to determine which duplicates to keep. It defaults to `'first'` to keep the first occurrence and drop all other duplicates.    \n",
        "\n",
        "\n",
        "Similarly, `drop_duplicates` can be set `keep` to 'last' to keep the last occurrence and drop other duplicates."
      ],
      "metadata": {
        "id": "83rBwjL2vSk-"
      }
    },
    {
      "cell_type": "code",
      "source": [
        "# Use keep='last' to keep the last occurrence \n",
        "df_movies.drop_duplicates(keep='last')"
      ],
      "metadata": {
        "id": "xallw6NuvSk-"
      },
      "execution_count": null,
      "outputs": []
    },
    {
      "cell_type": "markdown",
      "source": [
        "`drop_duplicates` can also be set with `keep` assigned the value **False** to drop all duplicates."
      ],
      "metadata": {
        "id": "hTk2dhDxvSk-"
      }
    },
    {
      "cell_type": "code",
      "source": [
        "# To drop all duplicates\n",
        "df_movies.drop_duplicates(keep=False)"
      ],
      "metadata": {
        "id": "lcoKmRYAvSk-"
      },
      "execution_count": null,
      "outputs": []
    },
    {
      "cell_type": "markdown",
      "source": [
        "**Considering certain columns for dropping duplicates**    \n",
        "\n",
        "\n",
        "Similarly, to consider certain columns for dropping duplicates, pass a list of columns to the argument subset:    \n"
      ],
      "metadata": {
        "id": "hueHLi5MvSk-"
      }
    },
    {
      "cell_type": "code",
      "source": [
        "# Similarly, we can consider a certain columns for dropping duplicates\n",
        "df_movies.drop_duplicates(subset=['Title'])"
      ],
      "metadata": {
        "id": "N9dw9aTjvSk-"
      },
      "execution_count": null,
      "outputs": []
    },
    {
      "cell_type": "markdown",
      "source": [
        "... and do that in-place."
      ],
      "metadata": {
        "id": "3DQJPtfrvSk-"
      }
    },
    {
      "cell_type": "code",
      "source": [
        "# Consider a certain columns for dropping duplicates in-place\n",
        "df_movies.drop_duplicates(subset=['Title'], inplace=True)"
      ],
      "metadata": {
        "id": "1j5bFwrGvSk-"
      },
      "execution_count": null,
      "outputs": []
    },
    {
      "cell_type": "markdown",
      "source": [
        "Invoking the `duplicated()` method will confirm that duplicate rows have been dropped. "
      ],
      "metadata": {
        "id": "ZFm9hRKNvSk-"
      }
    },
    {
      "cell_type": "code",
      "source": [
        "# Use of `loc` allows us to see the rows that were identified by duplicated()\n",
        "df_movies.loc[df_movies.duplicated(), :]"
      ],
      "metadata": {
        "id": "iOKhChwEvSk-"
      },
      "execution_count": null,
      "outputs": []
    },
    {
      "cell_type": "markdown",
      "source": [
        "####7. Analyze for Outliers    \n",
        "\n",
        "The next step is to check for outliers. There are multiple ways of checking the outliers, the graphical method vis presented here. Two continuous variables (`Metascore` and `Runtime`) have been select to be checked for outliers by evaluating a histogram for each column.    "
      ],
      "metadata": {
        "id": "ZfeYQx_gvSk-"
      }
    },
    {
      "cell_type": "code",
      "source": [
        "# Distribution of Metascores \n",
        "plt.hist(df_movies['Metascore'],bins = 25)\n",
        "plt.show()"
      ],
      "metadata": {
        "id": "Kk5Qd6NNvSk-"
      },
      "execution_count": null,
      "outputs": []
    },
    {
      "cell_type": "code",
      "source": [
        "#check the minimum `Metascore` \n",
        "df_movies['Metascore'].min()\n",
        "# output : ?"
      ],
      "metadata": {
        "id": "ls3ij9eqvSk_"
      },
      "execution_count": null,
      "outputs": []
    },
    {
      "cell_type": "code",
      "source": [
        "# Distribution of Runtimes \n",
        "plt.hist(df_movies['Runtime'],bins = 25)\n",
        "plt.show()"
      ],
      "metadata": {
        "id": "z5y2r52gvSk_"
      },
      "execution_count": null,
      "outputs": []
    },
    {
      "cell_type": "code",
      "source": [
        "#check the minimum `Runtime` \n",
        "df_movies['Runtime'].min()\n",
        "# output : ?"
      ],
      "metadata": {
        "id": "GGEsx3nqvSk_"
      },
      "execution_count": null,
      "outputs": []
    },
    {
      "cell_type": "code",
      "source": [
        "#check the maximum `Runtime` \n",
        "df_movies['Runtime'].max()\n",
        "# output : ?"
      ],
      "metadata": {
        "id": "_q_NXHqfvSk_"
      },
      "execution_count": null,
      "outputs": []
    },
    {
      "cell_type": "markdown",
      "source": [
        "#### 8. Outlier Treatment\n",
        "\n",
        "\n",
        "The next step is to treat the outliers observed in the previous step. There are different ways of treating the outliers such as:     \n",
        "1. Capping the minimum and maximum value limits\n",
        "2. Removing the rows with outlier values   \n",
        "\n",
        "\n",
        "Although there is nothing off with the distribution of Metascores, for illustration purposes, the minimum `Metascore` value is capped at 65.    \n",
        "\n",
        "\n",
        "And with respect to the Runtimes, any rows with a `Runtime` in excess of 200 is deleted as are rows with a `Runtime` of less than 60.   \n",
        "\n"
      ],
      "metadata": {
        "id": "M9e4N-G9vSk_"
      }
    },
    {
      "cell_type": "code",
      "source": [
        "# Capping the minimum Metascore to 65\n",
        "df_movies.loc[df_movies['Metascore'] < 65,'Metascore'] = 65\n",
        "\n",
        "#check the minimum `Metascore` \n",
        "df_movies['Metascore'].min()\n",
        "# output : 65.0"
      ],
      "metadata": {
        "id": "AUL377UlvSk_"
      },
      "execution_count": null,
      "outputs": []
    },
    {
      "cell_type": "markdown",
      "source": [
        "The range of `Metascore` values can be evaluated again with a histogram.    \n"
      ],
      "metadata": {
        "id": "wMs75T8IvSk_"
      }
    },
    {
      "cell_type": "code",
      "source": [
        "# Distribution of Metascores \n",
        "plt.hist(df_movies['Metascore'],bins = 25)\n",
        "plt.show()"
      ],
      "metadata": {
        "id": "6h2M19P8vSk_"
      },
      "execution_count": null,
      "outputs": []
    },
    {
      "cell_type": "markdown",
      "source": [
        "Drop runtimes of less than 60 or greater than 200.    \n",
        "\n",
        "*note the use of the* `|` *set operation to combine the results of each conditional test.*"
      ],
      "metadata": {
        "id": "-KxOYN59vSk_"
      }
    },
    {
      "cell_type": "code",
      "source": [
        "# Dropping any rows where Runtime exceeeds 200 or is below 60\n",
        "df_movies.drop(df_movies[(df_movies.Runtime > 200) | (df_movies.Runtime < 60)].index, inplace=True)  "
      ],
      "metadata": {
        "id": "fDqZsdtrvSk_"
      },
      "execution_count": null,
      "outputs": []
    },
    {
      "cell_type": "code",
      "source": [
        "#check the minimum `Runtime` \n",
        "df_movies['Runtime'].min()\n",
        "# output : 60"
      ],
      "metadata": {
        "id": "kRAaptezvSk_"
      },
      "execution_count": null,
      "outputs": []
    },
    {
      "cell_type": "code",
      "source": [
        "#check the maximum `Runtime` \n",
        "df_movies['Runtime'].max()\n",
        "# output : 200?"
      ],
      "metadata": {
        "id": "1GVQjAo2vSk_"
      },
      "execution_count": null,
      "outputs": []
    },
    {
      "cell_type": "code",
      "source": [
        "# distribution of Runtimes \n",
        "plt.hist(df_movies['Runtime'],bins = 25)\n",
        "plt.show()"
      ],
      "metadata": {
        "id": "1yY9GPJ2vSk_"
      },
      "execution_count": null,
      "outputs": []
    },
    {
      "cell_type": "markdown",
      "source": [
        "####9. Ask 'Who?'    \n",
        "\n",
        "\n",
        "The next step to answer are questions related to people, members, stakeholders, etc. \n",
        "\n",
        "In films, there are actors, directors, and cast members.  Some 'who' questions to raise could include:  \n",
        "\n",
        "* Who has directed the most number of top IMDB movies? (univariate)    \n",
        "\n",
        "\n",
        "* Who has acted in most top IMDB movies? (univariate)    \n",
        "\n",
        "\n",
        "* Which Actor-Director combination has the most top IMDB movies? (bivariate)    \n",
        "\n",
        "\n",
        "* Who provided the most music in top IMDB movies ? (Data not available)    \n",
        "\n",
        "\n",
        "And More …    \n",
        "\n"
      ],
      "metadata": {
        "id": "Kk1d_BvHvSk_"
      }
    },
    {
      "cell_type": "markdown",
      "source": [
        "*to use the code in the following snippet, extraction of data values from the `Cast` column would be required as a preliminary transformation.*\n"
      ],
      "metadata": {
        "id": "YgyfulEqvSlA"
      }
    },
    {
      "cell_type": "code",
      "source": [
        "### >>> The sample code here relies on columns in the original dataset used by Anmol Tomar\n",
        "### >>> The columns required by the code in this snippet are not available in the Kaggle dataset\n",
        "\n",
        "## Who has directed the most number of top IMDB movies ?\n",
        "# df_movies.groupby(['Director']).agg({'Series_Title':'count'}).reset_index().rename(columns = {'Series_Title':'count'}).\\\n",
        "# sort_values('count',ascending = False).head(5)\n",
        "\n",
        "## Who has acted in the most number of top movies \n",
        "# df_movies.groupby(['Star1']).agg({'Series_Title':'count'}).reset_index().rename(columns = {'Series_Title':'count'}).\\\n",
        "# sort_values('count',ascending = False).head(5)\n",
        "\n",
        "## Director - Actor works best \n",
        "# df_movies.groupby(['Director','Star1'])['Series_Title'].count().reset_index().\\\n",
        "# rename(columns = {'Series_Title':'Count'}).sort_values('Count',ascending = False).head(5)    \n"
      ],
      "metadata": {
        "id": "UCKS8KYUvSlA"
      },
      "execution_count": null,
      "outputs": []
    },
    {
      "cell_type": "markdown",
      "source": [
        "####10. Ask 'When?'    \n",
        "\n",
        "\n",
        "The next step is to answer questions related to the time dimension (year, quarter, month, week, day, time-of-day, hour, minute, etc.)    \n",
        "\n",
        "Considering film data, the following type of question could be asked:    \n",
        "\n",
        "\n",
        "* Find the years with most movies in IMDB top 1000 ? (univariate)    \n",
        "\n",
        "\n"
      ],
      "metadata": {
        "id": "hNBlXTOWvSlA"
      }
    },
    {
      "cell_type": "markdown",
      "source": [
        "*to use the code in the following snippet, extraction of data values from the `Title` column would be required as a preliminary transformation.*"
      ],
      "metadata": {
        "id": "75HW40iWvSlA"
      }
    },
    {
      "cell_type": "code",
      "source": [
        "### >>> The sample code here relies on columns in the original dataset used by Anmol Tomar\n",
        "### >>> The columns required by the code in this snippet are not available in the Kaggle dataset\n",
        "\n",
        "## Finding years with most movies in top 1000\n",
        "# year_dis = df_movies.groupby('Released_Year')['Series_Title'].count().reset_index().\\\n",
        "# rename(columns = {'Series_Title':'Count'}).sort_values('Count',ascending = False).head(10)\n",
        "\n",
        "# plt.bar(year_dis['Released_Year'].astype(str), year_dis['Count'], width = 0.5)\n",
        "# plt.xlabel('Years')\n",
        "# plt.ylabel('Number of Movies')\n",
        "# plt.title('Years with most movies in IMDB top 1000')\n",
        "# plt.show()"
      ],
      "metadata": {
        "id": "hdm5cveRvSlA"
      },
      "execution_count": null,
      "outputs": []
    },
    {
      "cell_type": "markdown",
      "source": [
        "####11. Ask 'Where?'    \n",
        "\n",
        "The next step is to look at the things from the location or place perspective, for example, country, state, regions etc.  Geolocation can also be used in determing the 'where' attribute of data. For location features a variety of data elements may be used, including:    \n",
        "\n",
        "* Formal country, region, jurisdiction decriptors (see ISO codes)    \n",
        "\n",
        "* Postal codes\n",
        "\n",
        "* Longitude and Latitude (GPS coordinates) \n",
        ">o may be express as degrees(°), minutes('), seconds(\")    \n",
        ">o may be expressed as decimal values (which can be translated to °, ', \")  \n",
        "> *note that there are 360° degrees around the earth, each minute' is 1/60th of a degree, and each second\" is 1/60th of a minute -- akin to minutes and seconds as fractions of hours when measuring time* \n",
        "\n",
        "* Mappings    \n",
        ">o phone number country codes and areas codes may generally map to location    \n",
        ">o IP address may map to location (consider VPN impacts)    \n",
        "\n",
        "\n",
        "For film data, the following question could be posed:    \n",
        "\n",
        "\n",
        "* Find countries with most movies in IMDB top 1000.\n",
        "\n",
        "\n",
        "The dataset does not have the data to answer this question.   \n",
        "Research should be as exhaustive as possible and not limited based on data availability.  Additional sources or enrichment approaches should be considered to answer pertinent questions.    \n",
        "\n"
      ],
      "metadata": {
        "id": "Fbs6hEpCvSlA"
      }
    },
    {
      "cell_type": "markdown",
      "source": [
        "####12. Ask 'What?  Which?  How?'    \n",
        "\n",
        "\n",
        "The next and final step is formulating questions about aspects not covered in the first nine steps. These questions are not related to people, place, or time but everything apart from these. Formulating such questions can be quite subjective and takes some time and experience to develop intuition and a facility.\n",
        "\n",
        "With respect to film data, such question might include:    \n",
        "\n",
        "* Which genres are featured most in the top 1000?\n",
        "\n",
        "\n",
        "* What is the duration of the top movies?\n",
        "\n",
        "\n",
        "* What is the correlation between the rating and gross earning?\n",
        "\n",
        "\n",
        "and more…\n",
        "\n",
        "For illustration purposes, the first question is approached using the following code:\n",
        "\n"
      ],
      "metadata": {
        "id": "fuAWiM27vSlA"
      }
    },
    {
      "cell_type": "code",
      "source": [
        "## Which genres of film are featured most in top 1000 ? \n",
        "genre_dis = df_movies.groupby('Genre')['Title'].count().reset_index().\\\n",
        "rename(columns = {'Title':'Count'}).sort_values('Count',ascending = False).head(5)\n",
        "fig, ax = plt.subplots()\n",
        "plt.bar(genre_dis['Genre'], genre_dis['Count'], width = 0.5)\n",
        "plt.setp(ax.get_xticklabels(), rotation=30, horizontalalignment='right')\n",
        "plt.show()"
      ],
      "metadata": {
        "id": "qThbbzw4vSlA"
      },
      "execution_count": null,
      "outputs": []
    },
    {
      "cell_type": "markdown",
      "source": [
        "\n",
        "\n",
        "---\n",
        "\n"
      ],
      "metadata": {
        "id": "A6nMa2M4vSlA"
      }
    },
    {
      "cell_type": "markdown",
      "source": [
        "We can refine the exercises in this section through the inclusion of the requisite transformations to wrangle the data required for additional analysis.   \n"
      ],
      "metadata": {
        "id": "2gEhvqmlvSlA"
      }
    },
    {
      "cell_type": "markdown",
      "source": [
        "\n",
        "\n",
        "---\n",
        "\n"
      ],
      "metadata": {
        "id": "SHuR_viJvSlA"
      }
    },
    {
      "cell_type": "markdown",
      "source": [
        "####13. Transformations and Features Extraction    \n",
        "\n",
        "While some data may need to be sourced from additional research, there can be data embedded in compound/complex data types which through a process of analysis, and transformation may be extracted as useful features.  This process can utilize different tools and techniques, including:    \n",
        "\n",
        "* **Regex** (Regular Expressions)    \n",
        "\n",
        "* **NLP** (Natural Language Processing)    \n",
        "\n",
        "* **Image** Detection (for image blobs)  \n",
        "\n",
        "\n",
        "Once initial feature data is generated, it may need to be treated using the approach used for the raw data sourced, including:    \n",
        "\n",
        "*  Find and treat missing values    \n",
        "\n",
        "*  Find and treat outliers    \n",
        "\n",
        "*  Find and treat duplicates    \n",
        "\n",
        "*  Standardize/scrub categorical values (may be required to clean data)   \n",
        "\n"
      ],
      "metadata": {
        "id": "4R4yB-nevSlA"
      }
    },
    {
      "cell_type": "markdown",
      "source": [
        "\n",
        "\n",
        "---\n",
        "\n"
      ],
      "metadata": {
        "id": "MpsUVaRZvSlB"
      }
    },
    {
      "cell_type": "markdown",
      "source": [
        "##5. Results     \n"
      ],
      "metadata": {
        "id": "pTdP-iHEolx8"
      }
    },
    {
      "cell_type": "markdown",
      "source": [
        "###Findings    \n"
      ],
      "metadata": {
        "id": "GObi-953oSZp"
      }
    },
    {
      "cell_type": "markdown",
      "source": [
        "Here’s a paradox for you. The Findings section is often both the shortest (yay!) and most important (uh-oh!) part of your report. Your Methodology / Approach section shows how you obtained the results, and your Implications and Recommendations sections explore the significance of the results, so clearly the Findings section forms the backbone of the report. This section provides the most critical information about your analyis: the data that allow you to discuss how your problem was or wasn’t solved. But it doesn’t provide anything else, which explains why this section is generally shorter than the others.    \n",
        "\n",
        "You need to present the outcomes of your project to the end-users clearly and concisely. This section should include all the project model evaluation metric results, accuracy scores, etc.    \n",
        "\n",
        "Before you write this section, look at all the data you collected to figure out what relates significantly to your problem. You’ll want to highlight this material in your Findings section. Resist the urge to include every bit of data you collected, since perhaps not all are relevant. Also, don’t try to draw conclusions about the results—save them for the Implications section. In this section, you’re reporting facts. Nothing your readers can dispute should appear in the Findings section.    \n",
        "\n",
        "Most Findings sections feature three distinct parts: \n",
        "\n",
        " - Narrative (text)    \n",
        " - Reports and Tables    \n",
        " - Plots         \n",
        "\n",
        "*summarized from ['Scientific Reports' | University of North Carolina](https://writingcenter.unc.edu/tips-and-tools/scientific-reports/)*        "
      ],
      "metadata": {
        "id": "aLcKeOy914i_"
      }
    },
    {
      "cell_type": "markdown",
      "source": [
        "###Themes    \n",
        "\n"
      ],
      "metadata": {
        "id": "SMJqnnHq4QTp"
      }
    },
    {
      "cell_type": "markdown",
      "source": [
        "A stream-of-consciousness rambling list of findings will not be helpful to the readers of your report because they are looking for logical constructs.  Similarly, simply listing findings as they occurred in chronological order will not be helpful to the readers of your report.  Spend time reflecting on your findings and organizing them into a logical outline which builds from basic findings to more complex or subtle insights.  If you see themes developing in your findings, present the findgings according to those themes.  Remember, you are telling a story.    \n"
      ],
      "metadata": {
        "id": "7d2gCjtK34Xr"
      }
    },
    {
      "cell_type": "markdown",
      "source": [
        "###Implications / Discussion     \n",
        "\n"
      ],
      "metadata": {
        "id": "Wyy9CAVY48-9"
      }
    },
    {
      "cell_type": "markdown",
      "source": [
        "Just as the Findings are the foundation of your report, the Implications of each finding provide the 'so what?' or importance and value of findings.  It is safe to prune (remove) any findings which do not support some valuable implication.      \n",
        "\n",
        "The Implications section provides a place for you to insert your view on what was learned in the analysis.  That can include:   \n",
        "\n",
        " * Explain whether the data support your hypothesis    \n",
        " * Acknowledge any anomalous data or deviations from what you expected    \n",
        " * Derive conclusions, based on your findings, about the process you’re studying    \n",
        " * Relate your findings to earlier work in the same area (if you can)    \n",
        " * Explore the theoretical and/or practical implications of your findings    \n",
        "\n"
      ],
      "metadata": {
        "id": "vaAidZB84jvs"
      }
    },
    {
      "cell_type": "markdown",
      "source": [
        "###Recommendations    \n"
      ],
      "metadata": {
        "id": "Yn8HoXIp5AMD"
      }
    },
    {
      "cell_type": "markdown",
      "source": [
        "Recommendations are generally included both in your conclusion (briefly) and in your discussion section.  This section may be optional depending on the extent to which recommendations were covered in detail in the Implications / Discussion section above.   In business reports, it is often desirable to have a distinct recommendations section.   \n",
        "\n",
        "If you have identified areas where additional research is recommended then this is a good section to present the details of recommended additional research.  Recommendations for future research should be:    \n",
        "\n",
        "  - Concrete and specific    \n",
        "  - Supported with a clear rationale    \n",
        "  - Directly connected to your research    \n",
        "  - Overall, strive to highlight ways other researchers can reproduce or replicate your results to draw further conclusions, and suggest different directions that future research can take, if applicable.    \n",
        "\n",
        "When making recommendations for additional research, avoid:    \n",
        "\n",
        "  - Undermining your own work, but rather offer suggestions on how future studies can build upon it    \n",
        "  - Suggesting recommendations actually needed to complete your argument, but rather ensure that your research stands alone on its own merits    \n",
        "  - Using recommendations as a place for self-criticism, but rather as a natural extension point for your work      \n",
        "\n",
        "*summarized from ['How to Write Recommendations in Research: Examples & Tips' | Scribbr](https://www.scribbr.com/research-paper/recommendations-in-research/)* \n"
      ],
      "metadata": {
        "id": "y1xIC_uK6yCZ"
      }
    },
    {
      "cell_type": "markdown",
      "source": [
        "##6. Conclusion     \n"
      ],
      "metadata": {
        "id": "gmAtXSQnosvq"
      }
    },
    {
      "cell_type": "markdown",
      "source": [
        "Every project report should have a solid conclusion summarizing the project activities and results. This section covers all the achievements and drawbacks and offers suggestions for future project applications.    "
      ],
      "metadata": {
        "id": "FggCXVOO0608"
      }
    },
    {
      "cell_type": "markdown",
      "source": [
        "###Plan of Action and Milestones (POAM)     \n"
      ],
      "metadata": {
        "id": "5Aaw-Bk1oy1D"
      }
    },
    {
      "cell_type": "markdown",
      "source": [
        "In reports that demand action, the Recommendation and Plan of Action and Milestones sections are particularly important. Readers may fail to take any action if you are vague about what should happen next. You must therefore indicate clearly what is expected of readers. If possible, include a timetable and a specific course of action.    \n",
        "\n",
        "*summarized from ['3 Main Sections of a Report'](https://www.businessmanagementideas.com/business-reports/3-main-sections-of-a-report/3313)*     "
      ],
      "metadata": {
        "id": "pB6aE2qtDqhT"
      }
    },
    {
      "cell_type": "markdown",
      "source": [
        "The first step to writing an action plan is to decide on a concrete goal that adheres to **SMART** standards. This is a framework that helps align fanciful ideas of a goal to become a realistic objective.     \n",
        "\n",
        "The letters of the SMART framework stand for:     \n",
        "\n",
        " - **Specific.** A good goal needs to be detailed and clear. While a broad goal, such as making more money, seems like the way to go, there’s too much room for straying and not enough direction.    \n",
        "\n",
        " - **Measurable.** The goal that you choose to pursue should be quantifiable. Along the way, this allows you to track your progress and growth. For instance, if your goal is to sell more tickets to a concert, state how many you want to sell exactly.    \n",
        "\n",
        " - **Attainable.** Never set a goal that’s too outlandish to accomplish either in your timeframe or at your skill level. While being ambitious is good quality, it needs to be met in equal part with realism. Evaluate your circumstance and spend time on an attainable goal.    \n",
        "\n",
        " - **Relevant.** SMART goals should be relevant to the overall outcome you’re trying to achieve. In a professional setting, make sure your objectives are relevant to your long-term career plans – vice versa for personal goals.    \n",
        "\n",
        " - **Timeframe.** The final aspect of a SMART goal is specifying a timeframe that you’ll complete the end goal. Stating a timeline keeps your mind focused on finishing goals by the deadline.    \n",
        "\n",
        "The **SMART** system is most effective when all the steps are followed, so make sure to draw up your action plan using all five steps.\n",
        "\n",
        "\n",
        "*from ['How to Write an Action Plan'](https://www.zippia.com/advice/plan-of-action/)*     "
      ],
      "metadata": {
        "id": "kRJ-XLM4805j"
      }
    },
    {
      "cell_type": "markdown",
      "source": [
        "###Next Steps    \n"
      ],
      "metadata": {
        "id": "GOh4OKlz5Ewa"
      }
    },
    {
      "cell_type": "markdown",
      "source": [
        "Even with a Plan of Action and Milestones, the readers of the report may not feel comfortable launching into each of the recommendations.  Perhaps further prioritization or preparation are needed such as a business case, or management approval process.  To ensure that the report is acted upon, it can be helpful to close with a brief listing of Next Steps.  Examples include:     \n",
        "\n",
        " * Organize implementation planning task force    \n",
        " * Review recommendations with CEO (or board of directors)  \n",
        " * Include recommendations as projects in next year's budget    \n",
        " * etc.         "
      ],
      "metadata": {
        "id": "dyIWrIBV9XZb"
      }
    },
    {
      "cell_type": "markdown",
      "source": [
        "\n",
        "\n",
        "---\n",
        "\n"
      ],
      "metadata": {
        "id": "ZgSofQ0DR9_r"
      }
    },
    {
      "cell_type": "markdown",
      "source": [
        "##Appendix I - Footnotes    \n"
      ],
      "metadata": {
        "id": "0I48gB7t5IhM"
      }
    },
    {
      "cell_type": "markdown",
      "source": [
        "\n",
        "\n",
        "---\n",
        "\n"
      ],
      "metadata": {
        "id": "aWKvP93UR7df"
      }
    },
    {
      "cell_type": "markdown",
      "source": [
        "##Appendix II - Glossary of Terms    \n"
      ],
      "metadata": {
        "id": "J05taHqH5d-w"
      }
    },
    {
      "cell_type": "markdown",
      "source": [
        "\n",
        "\n",
        "---\n",
        "\n"
      ],
      "metadata": {
        "id": "1PBy-yNbR6qS"
      }
    },
    {
      "cell_type": "markdown",
      "source": [
        "##Appendix III - Bibliography / Additional Reading    \n"
      ],
      "metadata": {
        "id": "BbO9vRS75hfy"
      }
    },
    {
      "cell_type": "markdown",
      "source": [
        "###Rationalizing Duplicates in Pandas\n",
        "\n",
        "from **Finding and removing duplicate rows in Pandas DataFrame**:    \n",
        "\n",
        "**Pandas tips and tricks to help you get started** with data analysis\n",
        "by Bindi Chen. Medium. March 23, 2021.    \n",
        "\n",
        "Available through paywall at: `https://towardsdatascience.com/finding-and-removing-duplicate-rows-in-pandas-dataframe-c6117668631f`\n",
        "\n",
        "*Exercise data from the titanic data set on Kaggle at:* `https://www.kaggle.com/c/titanic/data`\n"
      ],
      "metadata": {
        "id": "OVxSLS44Bcfu"
      }
    },
    {
      "cell_type": "markdown",
      "source": [
        "Demonstrating the two methods, `duplicated()` and `drop_duplicates()`, for finding and removing duplicate rows, as well as how to modify their behavior to suit specific needs. \n",
        "\n",
        "This notebook is structured as follows:\n",
        "1. Finding duplicate rows\n",
        "2. Counting duplicate and non-duplicate rows\n",
        "3. Extracting duplicate rows with loc\n",
        "4. Determining which duplicates to mark with keep\n",
        "5. Dropping duplicate rows    \n",
        "\n"
      ],
      "metadata": {
        "id": "eK18RCCWCv_d"
      }
    },
    {
      "cell_type": "markdown",
      "source": [
        "\n",
        "\n",
        "---\n",
        "\n"
      ],
      "metadata": {
        "id": "Q_WZG1MdMO2t"
      }
    },
    {
      "cell_type": "markdown",
      "source": [
        "#### 0 - Module and File Housekeeping    \n",
        "\n",
        "First, import requisite libraries/modules (only pandas)"
      ],
      "metadata": {
        "id": "3KVvXH4DDU4B"
      }
    },
    {
      "cell_type": "code",
      "execution_count": null,
      "metadata": {
        "id": "loUuarkJBZkP"
      },
      "outputs": [],
      "source": [
        "import pandas as pd"
      ]
    },
    {
      "cell_type": "markdown",
      "source": [
        "Then attach a handle to the training file set from the titanic dataset sourced from Kaggle `https://www.kaggle.com/c/titanic/data` and read a subset of that data.\n",
        "\n",
        "*note: this example assumes the `train.csv` file has been renamed `titanic_train.csv` and is uploaded to the `\\content` folder of the current Colab session.* \n"
      ],
      "metadata": {
        "id": "arSgd743DstE"
      }
    },
    {
      "cell_type": "code",
      "source": [
        "# define a function `load_data()` to open a file and return a DataFrame\n",
        "def load_data(): \n",
        "    df_all = pd.read_csv('titanic_train.csv')  # renamed and loaded to \\content\n",
        "    # Take a subset of the first 300 rows, dropping records with missing data\n",
        "    return df_all.loc[:300, ['Survived', 'Pclass', 'Sex', 'Cabin', 'Embarked']].dropna()\n",
        "\n",
        "# create a DataFrame `df` for use in this exercise\n",
        "df = load_data()"
      ],
      "metadata": {
        "id": "4aOH5RLcD3cH"
      },
      "execution_count": null,
      "outputs": []
    },
    {
      "cell_type": "markdown",
      "source": [
        "Have a look at the dataframe"
      ],
      "metadata": {
        "id": "dO3dOjj-E-bX"
      }
    },
    {
      "cell_type": "code",
      "source": [
        "df.head()"
      ],
      "metadata": {
        "id": "CX3eI60KFBnt"
      },
      "execution_count": null,
      "outputs": []
    },
    {
      "cell_type": "code",
      "source": [
        "df.shape"
      ],
      "metadata": {
        "id": "D38ehKwBuZUf"
      },
      "execution_count": null,
      "outputs": []
    },
    {
      "cell_type": "markdown",
      "source": [
        "#### 1 - Find Duplicate Rows     \n",
        "\n",
        "To find duplicates on a specific column, we can simply call duplicated() method on the column.\n"
      ],
      "metadata": {
        "id": "wU1oIbCFE3ey"
      }
    },
    {
      "cell_type": "code",
      "source": [
        "# 1-A\n",
        "# For a single column\n",
        "df.Cabin.duplicated()"
      ],
      "metadata": {
        "id": "C0Y-nAOLFUTe"
      },
      "execution_count": null,
      "outputs": []
    },
    {
      "cell_type": "markdown",
      "source": [
        "The result is a boolean Series with the value True denoting duplicate. In other words, the value True means the entry is identical to a previous one.    \n",
        "\n",
        "To take a look at the duplication in the DataFrame as a whole, just call the `duplicated()` method on the DataFrame. It outputs True if an entire row is identical to a previous row.    \n"
      ],
      "metadata": {
        "id": "KNg6eljAHV00"
      }
    },
    {
      "cell_type": "code",
      "source": [
        "# 1-B\n",
        "# For a DataFrame as a whole\n",
        "df.duplicated()"
      ],
      "metadata": {
        "id": "dGDei1ReFatE"
      },
      "execution_count": null,
      "outputs": []
    },
    {
      "cell_type": "markdown",
      "source": [
        "To consider certain columns for identifying duplicates, we can pass a list of columns to the argument subset:     \n"
      ],
      "metadata": {
        "id": "oDLc7bGhHatE"
      }
    },
    {
      "cell_type": "code",
      "source": [
        "# 1-C\n",
        "# To consider certain columns for identifying duplicates\n",
        "df.duplicated(subset=['Survived', 'Pclass', 'Sex'])"
      ],
      "metadata": {
        "id": "gSQpGLd4Fbem"
      },
      "execution_count": null,
      "outputs": []
    },
    {
      "cell_type": "markdown",
      "source": [
        "#### 2 - Counting Duplicates and Non-Duplicates    \n",
        "\n"
      ],
      "metadata": {
        "id": "5h8vRhytFpH8"
      }
    },
    {
      "cell_type": "markdown",
      "source": [
        "The result of the `duplicated()` is a boolean Series, and we can add them up to count the number of duplicates. Behind the scene, True gets converted to 1 and False gets converted to 0, then it adds them up."
      ],
      "metadata": {
        "id": "Ft9ksmmXHoko"
      }
    },
    {
      "cell_type": "code",
      "source": [
        "# 2-A\n",
        "# For a single column\n",
        "df.Cabin.duplicated().sum()"
      ],
      "metadata": {
        "id": "N16gARXdFulP"
      },
      "execution_count": null,
      "outputs": []
    },
    {
      "cell_type": "markdown",
      "source": [
        "Just like before, we can count the duplicate in a DataFrame and on certain columns."
      ],
      "metadata": {
        "id": "kHxw1tuNH1Yo"
      }
    },
    {
      "cell_type": "code",
      "source": [
        "# 2-B\n",
        "# For a DataFrame as a whole\n",
        "df.duplicated().sum()"
      ],
      "metadata": {
        "id": "03-8KPIFF8cH"
      },
      "execution_count": null,
      "outputs": []
    },
    {
      "cell_type": "code",
      "source": [
        "# 2-C\n",
        "# To consider certain columns for identifying duplicates\n",
        "df.duplicated(subset=['Survived', 'Pclass', 'Sex']).sum()"
      ],
      "metadata": {
        "id": "v2Rgn8h8F9Rh"
      },
      "execution_count": null,
      "outputs": []
    },
    {
      "cell_type": "markdown",
      "source": [
        "If you want to count the number of non-duplicates (The number of False), you can invert it with negation (~)and then call `sum()`:"
      ],
      "metadata": {
        "id": "VJmkdpA2H8mG"
      }
    },
    {
      "cell_type": "code",
      "source": [
        "# 2-D\n",
        "# Count the number of non-duplicates\n",
        "(~df.duplicated()).sum()"
      ],
      "metadata": {
        "id": "AIIPEkr_F_ev"
      },
      "execution_count": null,
      "outputs": []
    },
    {
      "cell_type": "markdown",
      "source": [
        "#### 3 - Extracting Duplicate Rows with `loc`    \n"
      ],
      "metadata": {
        "id": "sOCQemBsIAph"
      }
    },
    {
      "cell_type": "markdown",
      "source": [
        "Pandas `duplicated()` returns a boolean Series. However, it is not practical to see a list of True and False when we need to perform some data analysis.\n",
        "We can Pandas `loc` data selector to extract those duplicate rows:"
      ],
      "metadata": {
        "id": "CHMx3uWfIRBY"
      }
    },
    {
      "cell_type": "code",
      "source": [
        "# 3-A \n",
        "# This allows us to see the rows that were identified by duplicated()\n",
        "df.loc[df.duplicated(), :]"
      ],
      "metadata": {
        "id": "4MnEXiDLIVhE"
      },
      "execution_count": null,
      "outputs": []
    },
    {
      "cell_type": "markdown",
      "source": [
        "`loc` can take a boolean Series and filter data based on True and False. The first argument `df.duplicated()` will find the rows that were identified by `duplicated()`. The second argument : will display all columns."
      ],
      "metadata": {
        "id": "0wcnblNIIl-h"
      }
    },
    {
      "cell_type": "markdown",
      "source": [
        "#### 4 - Determining Which Duplicates to Mark with`keep`    \n"
      ],
      "metadata": {
        "id": "OiyJYZ0vIv1m"
      }
    },
    {
      "cell_type": "markdown",
      "source": [
        "There is an argument `keep` in Pandas `duplicated()` to determine which duplicates to mark. `keep` defaults to 'first', which means the first occurrence gets kept, and all others get identified as duplicates.\n",
        "We can change it to 'last' keep the last occurrence and mark all others as duplicates."
      ],
      "metadata": {
        "id": "8LDEPOOJI6m3"
      }
    },
    {
      "cell_type": "code",
      "source": [
        "# 4-A \n",
        "# `keep` defaults to `'first'`\n",
        "df.loc[df.duplicated(keep='first'), :]"
      ],
      "metadata": {
        "id": "iFEi7JJ4IsC7"
      },
      "execution_count": null,
      "outputs": []
    },
    {
      "cell_type": "code",
      "source": [
        "# 4-B \n",
        "# `keep` defaults to `'last'`\n",
        "df.loc[df.duplicated(keep='last'), :]"
      ],
      "metadata": {
        "id": "MNmm7ELPJV8L"
      },
      "execution_count": null,
      "outputs": []
    },
    {
      "cell_type": "markdown",
      "source": [
        "There is a third option we can use `keep=False`. It marks all duplicates as True and allows us to see all duplicate rows."
      ],
      "metadata": {
        "id": "Lgu-wq7tJTlH"
      }
    },
    {
      "cell_type": "code",
      "source": [
        "# 4-C\n",
        "# There is a third option we can use keep=False. It marks all duplicates as True\n",
        "df.loc[df.duplicated(keep=False), :]"
      ],
      "metadata": {
        "id": "gQGNlC77Jb3y"
      },
      "execution_count": null,
      "outputs": []
    },
    {
      "cell_type": "markdown",
      "source": [
        "#### 5 - Dropping Duplicate Rows    "
      ],
      "metadata": {
        "id": "xlKXU2QCJqOs"
      }
    },
    {
      "cell_type": "markdown",
      "source": [
        "We can use Pandas built-in method `drop_duplicates()` to drop duplicate rows."
      ],
      "metadata": {
        "id": "oIEsSPoBJ79R"
      }
    },
    {
      "cell_type": "code",
      "source": [
        "# 5-A\n",
        "# Note the change in the number of rows before and after dropping duplicates\n",
        "# It is not performed in place by default,\n",
        "df.drop_duplicates()"
      ],
      "metadata": {
        "id": "0r7KUfcvJ-D9"
      },
      "execution_count": null,
      "outputs": []
    },
    {
      "cell_type": "markdown",
      "source": [
        "By default, this method returns a new DataFrame with duplicate rows removed. We can set the argument `inplace=True` to remove duplicates from the original DataFrame."
      ],
      "metadata": {
        "id": "xuxOm_fkKeOR"
      }
    },
    {
      "cell_type": "code",
      "source": [
        "# 5-B\n",
        "# Note the change in the number of rows before and after dropping duplicates\n",
        "# It is not performed in place by default, we can change it to in place by `inplace=True`df.drop_duplicates(inplace=True)\n",
        "df.drop_duplicates(inplace=True)"
      ],
      "metadata": {
        "id": "Cj65mkOKKilK"
      },
      "execution_count": null,
      "outputs": []
    },
    {
      "cell_type": "markdown",
      "source": [
        "**Determining which duplicate to keep**    \n",
        "\n",
        "\n",
        "The argument keep can be set for `drop_duplicates()` as well to determine which duplicates to keep. It defaults to `'first'` to keep the first occurrence and drop all other duplicates.    \n",
        "\n",
        "\n",
        "Similarly, we can set keep to `'last'` to keep the last occurrence and drop other duplicates."
      ],
      "metadata": {
        "id": "L7kWBFurLDW_"
      }
    },
    {
      "cell_type": "code",
      "source": [
        "# 5-C\n",
        "# Use keep='last' to keep the last occurrence \n",
        "df.drop_duplicates(keep='last')"
      ],
      "metadata": {
        "id": "Sa_8WOA9KM92"
      },
      "execution_count": null,
      "outputs": []
    },
    {
      "cell_type": "markdown",
      "source": [
        "And we can set `keep` to **False** to drop all duplicates."
      ],
      "metadata": {
        "id": "EoiBNkkrLWBQ"
      }
    },
    {
      "cell_type": "code",
      "source": [
        "# 5-D \n",
        "# To drop all duplicates\n",
        "df.drop_duplicates(keep=False)"
      ],
      "metadata": {
        "id": "997bDOa_KRSD"
      },
      "execution_count": null,
      "outputs": []
    },
    {
      "cell_type": "markdown",
      "source": [
        "**Considering certain columns for dropping duplicates**    \n",
        "\n",
        "\n",
        "Similarly, to consider certain columns for dropping duplicates, we can pass a list of columns to the argument subset:    \n"
      ],
      "metadata": {
        "id": "py4Q5igjLi27"
      }
    },
    {
      "cell_type": "code",
      "source": [
        "# 5-E\n",
        "# Similarly, we can consider a certain columns for dropping duplicates\n",
        "df.drop_duplicates(subset=['Survived', 'Pclass', 'Sex'])"
      ],
      "metadata": {
        "id": "qbNQF1ctKWG3"
      },
      "execution_count": null,
      "outputs": []
    },
    {
      "cell_type": "markdown",
      "source": [
        "\n",
        "\n",
        "---\n",
        "\n"
      ],
      "metadata": {
        "id": "IpZ5vdDhMMR7"
      }
    },
    {
      "cell_type": "markdown",
      "source": [
        "####Rationalizing Duplicates in Pandas: Conclusion"
      ],
      "metadata": {
        "id": "cgy6HOzzMRdp"
      }
    },
    {
      "cell_type": "markdown",
      "source": [
        "Pandas `duplicated()` and `drop_duplicates()` are two quick and convenient methods to find and remove duplicates. It is important to know them as we often need to use them during the data preprocessing and analysis.\n",
        "\n",
        "Hopefully, this article helped save time in learning Pandas.     \n",
        "\n",
        "Check out the documentation for the `duplicated()` and `drop_duplicates()` API and to know about other things you can do.\n",
        "\n",
        "More tutorials on Pandas by Bindi Chen are available on his [GitHub]([https://github.com/BindiChen/machine-learning]). \n",
        "\n",
        "Connect with [Bindi Chen on LinkedIn](https://www.linkedin.com/in/bindi-chen-aa55571a/).\n"
      ],
      "metadata": {
        "id": "pYtuj-thMTsN"
      }
    },
    {
      "cell_type": "markdown",
      "source": [
        "\n",
        "\n",
        "---\n",
        "\n"
      ],
      "metadata": {
        "id": "Q9r2AzaojPc-"
      }
    },
    {
      "cell_type": "markdown",
      "source": [
        "#RESOURCES    \n",
        "**<h2>Data Sources to Consider</h2>**   \n",
        "\n",
        "* **General/Broad Data Sources** - Data sources across disciplines, time periods, and geographies\n",
        "* **Government and Political** -- Many global datasets; UN financial institution with investments and data on developing countries     \n",
        "* **Business and Commerce** - Better Business Bureau provides several APIs to research businesses, customer reviews, and complaints    \n",
        "* **Curated Lists of Job Search APIs** -- links to various APIs for job boards and other job search resources.    \n",
        "* **Finance** - Time-series market data and a variety of data sources about public companies    \n",
        "* **Real Estate and Rentals** - AirBnB and other real estate and rental data    \n",
        "* **Social Media** - Social media postings and data from Twitter, etc.   \n",
        "* **Literary and Arts** - Open-source text of works of literature    \n",
        "* **Crime and Safety** - Aggregated law enforcement data from across the United States    \n",
        "* **Health and Wellness Data** - Various data sources     \n",
        "* **Weather and Climate** - Various data sources    \n",
        "* **Travel and Transport** - AirBnB, travel, and transport data sources    \n",
        "* **Traffic** - Data sources for information on traffic conditions -- some data may be in [Keyhole Markup Language **KML**](https://en.wikipedia.org/wiki/Keyhole_Markup_Language)  or  [Keyhole Markup Zipped **KMZ**](https://en.wikipedia.org/wiki/KMZ) formats.     \n",
        "* **Geolocation** - Data sources on Named Entity : Longitude/Lattitude maps, and other location-specific data   \n",
        "   \n",
        "\n",
        "*note: **Google** curates a [catalog of open data sources](google.com/publicdata/directory)*\n"
      ],
      "metadata": {
        "id": "HmsMn9RCjQgC"
      }
    },
    {
      "cell_type": "markdown",
      "source": [
        "###<u>General/Broad Data Sources</u>    \n"
      ],
      "metadata": {
        "id": "9OL-7iOkWDHU"
      }
    },
    {
      "cell_type": "markdown",
      "source": [
        "####Data World    \n",
        "\n",
        "Data aggregator and tool provide with (free) limited Community Edition, (paid) Professional Edition, and (paid) Enterprise Plans at:  [data.world](https://data.world/pricing)"
      ],
      "metadata": {
        "id": "Vv_ZMmzENlWC"
      }
    },
    {
      "cell_type": "markdown",
      "source": [
        "####Google Dataset Search    \n",
        "\n",
        "Facility provided by Google to search specifically for open data sets, available at:    \n",
        "\n",
        "`https://datasetsearch.research.google.com/`    \n",
        "\n"
      ],
      "metadata": {
        "id": "ZQMGcXBUwGA0"
      }
    },
    {
      "cell_type": "markdown",
      "source": [
        "####Google Catalog of Open Data    \n",
        "\n",
        "place Google Catalog of Open Data info and links here.\n",
        "\n",
        "See `https://www.google.com/publicdata/directory` for the home page.    \n",
        "\n",
        "\n"
      ],
      "metadata": {
        "id": "iv4rE81xmwC2"
      }
    },
    {
      "cell_type": "markdown",
      "source": [
        "####Kaggle     \n",
        "\n",
        "The following dataset contains five years of data regarding Netflix's stock prices. Ranging from February 5th, 2018 - February 5th, 2022.\n",
        "\n",
        "https://www.kaggle.com/datasets/jainilcoder/netflix-stock-price-prediction"
      ],
      "metadata": {
        "id": "UskbroIclq-F"
      }
    },
    {
      "cell_type": "markdown",
      "source": [
        "####Our World in Data (OWID)    \n",
        "\n",
        "\n",
        "See the OWID Frequently Asked Questions at: https://ourworldindata.org/faqs    \n"
      ],
      "metadata": {
        "id": "-T6hey5olyjV"
      }
    },
    {
      "cell_type": "markdown",
      "source": [
        "####Scholarly Research\n",
        "\n",
        "*from CUNY Mina Rees Library*\n",
        "\n",
        "\n",
        "See: https://libguides.gc.cuny.edu/c.php?g=405353&p=4857784 \n",
        "\n",
        "*...or search for 'CUNY, Library Guides, Digital Tools and Techniques, Scholarly Research APIs'*    \n"
      ],
      "metadata": {
        "id": "1FDZi8qkRGVK"
      }
    },
    {
      "cell_type": "markdown",
      "source": [
        "####Statista     \n",
        "\n",
        "Paid service for customized research data and online commerce data at: [statista.com.](https://www.statista.com)    \n",
        "\n",
        "a portal for all things statistical including data that can be downloaded in a variety of file formats, reports, and infographics.    \n",
        "\n",
        "Statista is geared to students as well as professionals. Unlike many of our other resources, Statista has business and marketing data.    \n",
        "\n",
        "Access within the CityTech network may be available at:    \n",
        "`http://citytech.ezproxy.cuny.edu:2048/login?url=http://www.statista.com`\n",
        "\n"
      ],
      "metadata": {
        "id": "lDgAIU1bMSew"
      }
    },
    {
      "cell_type": "markdown",
      "source": [
        "####UCI - University of California Irvine    \n",
        "\n",
        "[UCI Machine Learning Repository](https://archive-beta.ics.uci.edu/) is a popular platform for finding datasets for any data science project. Just like Kaggle, you can search for any dataset here by searching for your project topic. You will also find popular and new datasets here that you can use to practice as a beginner in data science.    \n"
      ],
      "metadata": {
        "id": "5hdPjaqv95iS"
      }
    },
    {
      "cell_type": "markdown",
      "source": [
        "###<u>Government and Political Data</u>    "
      ],
      "metadata": {
        "id": "wtYc4gD6WPxg"
      }
    },
    {
      "cell_type": "markdown",
      "source": [
        "####**Worldwide**"
      ],
      "metadata": {
        "id": "ziTVnVfTW6GJ"
      }
    },
    {
      "cell_type": "markdown",
      "source": [
        "####United Nations (UNdata)       \n",
        "\n",
        "\n",
        "\n",
        "**UNdata API** provides dynamic, programmatic access to data within the UNdata platform. Developers can use the API to dynamically query UNdata to obtain the latest data and display the result on a Web page, download to local storage for further processing, etc.\n",
        "\n",
        "**UNdata API** is powered by Eurostat’s SDMX Reference Infrastructure (SDMX-RI). The API is implemented as a REST and SOAP Web Service that can be used to query the datamarts using the SDMX standard. The API is governed by UNdata Terms of Use.\n",
        "\n",
        "**How To Use UNdata API**\n",
        "If you want to query data from UNData API we have two options for you. You can use REST API or the SOAP web service. In any of these cases it is recommended that you get familiarized with the main SDMX artifacts such as DataFlow, Codelist, Agency, Structure, etc.     \n",
        "\n",
        "\n",
        "Details at:  http://data.un.org/Host.aspx?Content=API    \n",
        "\n"
      ],
      "metadata": {
        "id": "AXetTnlKwY03"
      }
    },
    {
      "cell_type": "markdown",
      "source": [
        "####**United States of America**"
      ],
      "metadata": {
        "id": "QXEuUmCPW-K2"
      }
    },
    {
      "cell_type": "markdown",
      "source": [
        "####Data.gov    \n",
        "\n",
        "The [Data.gov](https://data.gov ) program was started by the President of the United States in 2009 to provide open access to unclassified government data. These data are produced by all departments including:    \n",
        "\n",
        "* Executive Branch    \n",
        "* White House    \n",
        "* Cabinet Level Departments    \n",
        "* and other levels of governments    \n",
        "\n",
        "\n",
        "The datasets uploaded here can be used for Data Science projects like:\n",
        "* Economic Growth \n",
        "* Environmental Changes\n",
        "* Quality of Life and many more.     \n",
        "\n",
        "Like the data.gov you can also get data from other countries for the same data science project ideas on a different country, such as:    \n",
        "\n",
        "* **[data.gov.uk](https://data.gov.uk)**    \n",
        "* **[open.canada.ca](https://open.canada.ca)**    \n",
        "\n"
      ],
      "metadata": {
        "id": "f6pRUqRNmG6a"
      }
    },
    {
      "cell_type": "markdown",
      "source": [
        "####U.S. Census Bureau Data     \n",
        "\n",
        "Like other countries, the US Census is also held in every ten years. The data collected by the US Census is available at [census.gov](https://census.gov). This dataset can be used if you want to do any marketing or advertising related data science project. You can use this data for classification related projects also, where you can classify people according to:    \n",
        "\n",
        "* Age    \n",
        "* Income    \n",
        "* Household Size    \n",
        "* Gender    \n",
        "* Education    \n",
        "\n"
      ],
      "metadata": {
        "id": "pv2tZ6u-Kss8"
      }
    },
    {
      "cell_type": "markdown",
      "source": [
        "####**New York**"
      ],
      "metadata": {
        "id": "85nmdmmWXCFU"
      }
    },
    {
      "cell_type": "markdown",
      "source": [
        "#### NYC Open Data    \n",
        "\n",
        "*accessible with Socrata*\n",
        "\n",
        "\n",
        "Example - 311 Service Requests from 2010 to Present :\n",
        "\n",
        "https://dev.socrata.com/foundry/data.cityofnewyork.us/erm2-nwe9 \n",
        "\n",
        "Socrata Developer's Account :\n",
        "\n",
        "https://dev.socrata.com/\n",
        "\n",
        "Accessing NYC Open Data on LVNGD Blog*\n",
        "\n",
        "https://lvngd.com/blog/accessing-nyc-open-data-with-python-and-the-socrata-open-data-api/\n",
        "\n",
        "*note: the LVNGD blog is outdated with respect to some small details but presents the concepts clearly.*     \n",
        " \n"
      ],
      "metadata": {
        "id": "OzgpRLetmNC6"
      }
    },
    {
      "cell_type": "markdown",
      "source": [
        "**[See the NYC Open Data Gallery](https://opendata.cityofnewyork.us/projects/) for great ideas about data science projects using open data.**    \n"
      ],
      "metadata": {
        "id": "m1O8HJxRcUBJ"
      }
    },
    {
      "cell_type": "markdown",
      "source": [
        "###<u>Business and Commercial Data</u>"
      ],
      "metadata": {
        "id": "FDErOKbFWsC0"
      }
    },
    {
      "cell_type": "markdown",
      "source": [
        "####Better Business Bureau (BBB)    \n",
        "\n",
        "Provides information on businesses in the U.S. at [several APIs](https://apievangelist.com/2016/08/04/thinking-about-the-better-business-bureau-api-in-context-of-the-overall-api-economy/), including:    \n",
        "\n",
        "* **[Organization Search](https://developers.bbb.org/documentation/endpoints/organization-search/)** - This endpoint will allow you to search for Organizations that are known to the BBB.  Organizations may include businesses or charities.    \n",
        "* **[Organization Collections](https://developers.bbb.org/documentation/endpoints/organization-collections/)** - BBB Partners will need to be able to identify collections of Organizations that they care about and be able to manage those collections and receive Organization info and updates on them as needed.     \n",
        "* **[Bulk Retrieval](https://developers.bbb.org/documentation/endpoints/bulk-retrieval/)** - This section defines the message specification that will be sent back to the API partners who request a bulk data transfer.     \n",
        "* **[Push Notifications](https://developers.bbb.org/documentation/endpoints/push-notifications/)** - BBB Partners have the need to be notified when BBB data updates occur for the records or a collection of records they are currently subscribed to.     \n",
        "* **[BBB Investigation/Application for Accreditation](https://developers.bbb.org/documentation/endpoints/bbb-investigation-application-for-accreditation/)** - This endpoint allows submission of organizations for BBB investigation and application for BBB accreditation.     \n",
        "\n"
      ],
      "metadata": {
        "id": "L7B2vCbxpX1q"
      }
    },
    {
      "cell_type": "markdown",
      "source": [
        "####UN ILOSTAT    \n",
        "**[International Labour Statistics](https://ilostat.ilo.org/)**    \n",
        "\n",
        "**from the United Nations**    \n",
        "\n"
      ],
      "metadata": {
        "id": "miV2hbqMZMry"
      }
    },
    {
      "cell_type": "markdown",
      "source": [
        "####U.S. Bureau of Labor Statistics (BLS)    \n",
        "\n",
        "The Bureau of Labor Statistics' (**BLS**) Public Data Application Programming Interface (**API**) gives the public access to economic data from all **BLS** programs. It is the Bureau's hope that talented developers and programmers will use the **BLS** Public Data API to create original, inventive applications with published **BLS** data.\n",
        "\n",
        "The **BLS** Public Data API is currently available in two versions. Version 2.0 requires registration and allows users to access more data more frequently. Users may add calculations and annual averages to requests, and series description information is available for many **BLS** surveys. Version 1.0 is a more limited API that does not require registration and is open for public use.\n",
        "\n",
        "Using **BLS** API Signatures, developers and programmers can retrieve published historical timeseries data in JSON data-interchange or XLSX format. The **BLS** Public API utilizes two HTTP request-response mechanisms to retrieve data: GET and POST. GET requests data from a specified source. POST submits data to a specified resource to be processed. The BLS Public Data API uses GET to request a single piece of information and POST for all other requests. \n",
        "\n",
        "*note: more online at https://www.bls.gov/*"
      ],
      "metadata": {
        "id": "O726wlw5wftc"
      }
    },
    {
      "cell_type": "markdown",
      "source": [
        "###<u>Curated Lists of Job Search APIs</u>    \n"
      ],
      "metadata": {
        "id": "GkGDWJwVyHj6"
      }
    },
    {
      "cell_type": "markdown",
      "source": [
        "####'Job Search API Basics' by [Google](https://cloud.google.com/talent-solution/job-search/v3/docs/basics)     "
      ],
      "metadata": {
        "id": "GL1udqjwy_Pc"
      }
    },
    {
      "cell_type": "markdown",
      "source": [
        "####'90 Job Search APIs' by [AImultiple](https://aimultiple.com/job-search-api)      \n",
        "\n"
      ],
      "metadata": {
        "id": "sXvBqFvkyOGq"
      }
    },
    {
      "cell_type": "markdown",
      "source": [
        "####'Monster Job Search API Toolkit' by [Programmable Web](https://www.programmableweb.com/api/monster-web-services-toolkit-rpc-api-v1)      \n"
      ],
      "metadata": {
        "id": "eVHfyoJZzS2k"
      }
    },
    {
      "cell_type": "markdown",
      "source": [
        "####[Indeed Developer Portal](https://developer.indeed.com/)     \n"
      ],
      "metadata": {
        "id": "TA5c58Sbz2HM"
      }
    },
    {
      "cell_type": "markdown",
      "source": [
        "---"
      ],
      "metadata": {
        "id": "PzxcgjEvYrkO"
      }
    },
    {
      "cell_type": "markdown",
      "source": [
        "###<u>Financial Data</u>"
      ],
      "metadata": {
        "id": "oUMDdDcnWcTd"
      }
    },
    {
      "cell_type": "markdown",
      "source": [
        "####EDGAR (U.S. SEC)    \n",
        "\n",
        "`https://www.sec.gov/edgar/search-and-access`\n",
        "\n",
        "You can search information collected by the SEC using a variety of search tools. EDGAR full text search. New versatile tool lets you search for keywords and phrases in over 20 years of EDGAR filings, and filter by date, company, person, filing category, or location.; Boolean and advanced searching, including addresses.\n",
        "  \n"
      ],
      "metadata": {
        "id": "is50vYoPmmFc"
      }
    },
    {
      "cell_type": "markdown",
      "source": [
        "####World Bank    \n",
        "\n",
        "The world bank data is an international financial institution run by the United Nations. It is a statutory body that provides loans to developing countries. You can get the dataset made available by world bank from [data.worldbank.org](https://data.worldbank.org).    \n",
        "\n",
        "You can use the data made available by world bank for Data Science projects, such as:    \n",
        "\n",
        "* Agricultural and Rural Development analysis\n",
        "* Economic Growth Analysis\n",
        "* Science and Technological growth \n",
        "* The poverty level of a country"
      ],
      "metadata": {
        "id": "3rENQFIhJDd-"
      }
    },
    {
      "cell_type": "markdown",
      "source": [
        "#### Yahoo Finance       \n",
        "\n",
        "\n",
        "Real time low latency Yahoo Finance API for stock market, crypto currencies, and currency exchange.\n",
        "\n",
        "Nearly a dozen sources for different metrics and data related to financial markets at: https://www.yahoofinanceapi.com/ \n",
        "\n",
        "\n",
        "\n"
      ],
      "metadata": {
        "id": "5CMqlhKOmbGz"
      }
    },
    {
      "cell_type": "markdown",
      "source": [
        "###Real Estate and Rental    "
      ],
      "metadata": {
        "id": "GIUsHq_4fJuv"
      }
    },
    {
      "cell_type": "markdown",
      "source": [
        "####AirBnB courtesy of **OpenAirBnB**\n",
        "\n",
        "See how **AirBnB** is affecting local neighborhoods at [OpenAirBnB](http://insideairbnb.com/)    "
      ],
      "metadata": {
        "id": "67L47CYvfODE"
      }
    },
    {
      "cell_type": "markdown",
      "source": [
        "###<u>Literary and Arts Data</u>    "
      ],
      "metadata": {
        "id": "wHV19-ryWjf9"
      }
    },
    {
      "cell_type": "markdown",
      "source": [
        "####Project Gutenberg     \n",
        "\n",
        "To search for books with available text: https://www.gutenberg.org/ebooks/ \n",
        "\n",
        "See [Jonathan Reeve's site](https://jonreeve.com/2017/06/project-gutenberg-the-database/) for information about text mining using Project Gutenberg.  \n"
      ],
      "metadata": {
        "id": "xP8m-_Nul-I-"
      }
    },
    {
      "cell_type": "markdown",
      "source": [
        "###<u>Crime and Safety Data</u>"
      ],
      "metadata": {
        "id": "jLl0LSY9Y1xf"
      }
    },
    {
      "cell_type": "markdown",
      "source": [
        "####FBI Uniform Crime Reporting (UCR)    \n",
        "\n",
        "Aggregate data from law enforcement across the United States at: https://www.fbi.gov/services/cjis/ucr    \n"
      ],
      "metadata": {
        "id": "qVPmeZkUvH7R"
      }
    },
    {
      "cell_type": "markdown",
      "source": [
        "###<u>Social Media Data</u>"
      ],
      "metadata": {
        "id": "jm__ALNBXQ_j"
      }
    },
    {
      "cell_type": "markdown",
      "source": [
        "####Twitter    \n",
        "\n",
        "Twitter APIs handle enormous amounts of data. \n",
        "\n",
        "The Twitter ensures this data is secured for developers and users alike is through authentication. \n",
        "\n",
        "There are a few methods for authentication:\n",
        "\n",
        "*   OAuth 1.0a User Context\n",
        "*   OAuth 2.0 Bearer Token\n",
        "*   Basic Authentication\n",
        "\n",
        "\n",
        "https://developer.twitter.com/en/docs/authentication/overview \n",
        "\n",
        "https://developer.twitter.com/en/docs/apps/overview \n",
        "\n",
        "https://developer.twitter.com/en/docs/twitter-api \n"
      ],
      "metadata": {
        "id": "m8KaWsB3QWfS"
      }
    },
    {
      "cell_type": "markdown",
      "source": [
        "###<u>Health and Wellness Data</u>    \n",
        "\n"
      ],
      "metadata": {
        "id": "1TBdrxQiVhd3"
      }
    },
    {
      "cell_type": "markdown",
      "source": [
        "####The Human Mortality Database   \n",
        "\n",
        "See the information online at: https://www.mortality.org/"
      ],
      "metadata": {
        "id": "FEkfZqOVVlPy"
      }
    },
    {
      "cell_type": "markdown",
      "source": [
        "###<u>Climate and Weather Data</u>    "
      ],
      "metadata": {
        "id": "DyOv4390X7H8"
      }
    },
    {
      "cell_type": "markdown",
      "source": [
        "####Global Carbon Project     \n",
        "\n",
        "See the catalog of Global Carbon Project data sources at: https://www.globalcarbonproject.org/products/internetresources.htm#Data    \n"
      ],
      "metadata": {
        "id": "OB4kGFOsVRKT"
      }
    },
    {
      "cell_type": "markdown",
      "source": [
        "####NASA (National Aeronautic and Space Administration)    \n",
        "\n",
        "All of the datasets available at [nasa.gov](https://nasa.gov) have been continuously growing with the advancements of satellites and communication technologies. Now Nasa generates terabytes of data every day, which is equivalent to millions of mp3 files.    \n",
        "\n",
        "You can use datasets available at Nasa for Data Science projects such as:    \n",
        "\n",
        "* Astronomy and Space Analysis\n",
        "* Climate change analysis\n",
        "* Life Sciences\n",
        "* Geology"
      ],
      "metadata": {
        "id": "BPAbobGNJhkK"
      }
    },
    {
      "cell_type": "markdown",
      "source": [
        "####NOAA GeoPlatform\n",
        "\n",
        "[NOAA's Geoplatform](https://www.climate.gov/maps-data/all) - Data, maps, analytics on weather for U.S. National Oceanographic and Atmospheric Administration.     \n"
      ],
      "metadata": {
        "id": "mc0SugpcS_bs"
      }
    },
    {
      "cell_type": "markdown",
      "source": [
        "####Open Weather Map \n",
        "\n",
        "[OpenWeatherMap](https://openweathermap.org/weathermap) - Dynamic weather maps.    \n",
        "OpenWeatherMap for data about the weather. [Documentation](http://openweathermap.org/current#geo).     \n",
        "\n",
        "OpenWeatherMap contains parameters as part of the URL, including an `appid` which is a key that is used to limit the number of calls that can be issued by a single application. \n",
        "\n",
        "*(Note: The `%20` is a transformation for the space (` `) character in URLs.)*\n",
        "\n",
        "[**You will need to get an API key**](https://openweathermap.org/price)    \n",
        "\n",
        "\n"
      ],
      "metadata": {
        "id": "BaySwbV-5453"
      }
    },
    {
      "cell_type": "markdown",
      "source": [
        "####Virtual Crossing Weather\n",
        "\n",
        "[Virtual Crossing](https://virtualcrossing.com)     \n",
        "\n",
        "Visual Crossing is a leading provider of weather data and enterprise analysis tools to data scientists, business analysts, professionals, and academics. Founded in 2003, their mission has always been to empower data consumers and analysts to make better decisions based on high-quality, easy-to-access data.    \n",
        "\n",
        "[**You will need to get a (free) API key**](https://www.visualcrossing.com/weather-data-editions).    \n",
        "\n"
      ],
      "metadata": {
        "id": "UqeHIRhlZ4in"
      }
    },
    {
      "cell_type": "markdown",
      "source": [
        "###<u>Travel and Transport</u>    "
      ],
      "metadata": {
        "id": "TxR42FTocivm"
      }
    },
    {
      "cell_type": "markdown",
      "source": [
        "####AirBnB  \n",
        "\n",
        "Data provided by [**AirBnB**](http://insideairbnb.com)    \n"
      ],
      "metadata": {
        "id": "BmoxVbGScnFf"
      }
    },
    {
      "cell_type": "markdown",
      "source": [
        "###<u>Traffic</u>    \n",
        "\n",
        "Data sources for information on traffic conditions -- some data may be in [Keyhole Markup Language **KML**](https://en.wikipedia.org/wiki/Keyhole_Markup_Language)  or  [Keyhole Markup Zipped **KMZ**](https://en.wikipedia.org/wiki/KMZ) formats.     "
      ],
      "metadata": {
        "id": "eir9uRYn4yoL"
      }
    },
    {
      "cell_type": "markdown",
      "source": [
        "---  "
      ],
      "metadata": {
        "id": "D4dCOY804_bE"
      }
    },
    {
      "cell_type": "markdown",
      "source": [
        "###<u>Map and Geographic Data</u>\n"
      ],
      "metadata": {
        "id": "FGv6lsxwYRwp"
      }
    },
    {
      "cell_type": "markdown",
      "source": [
        "####[Natural Earth Vector repos](https://github.com/nvkelso/natural-earth-vector/)    \n",
        "Provides a variety of well-curated `geojson` and other vector files for mapping.      \n",
        "This resource is maintained by volunteers, open source, and free.   \n",
        "The **GitHub** repos are maintained and explained by [Natural Earth](https://www.naturalearthdata.com/features/)      "
      ],
      "metadata": {
        "id": "nxrRK2QYVZrW"
      }
    },
    {
      "cell_type": "markdown",
      "source": [
        "####OpenDataSoft    \n",
        "\n",
        "[Map data for USA states and counties](https://public.opendatasoft.com/explore/dataset/georef-united-states-of-america-county/)      "
      ],
      "metadata": {
        "id": "lOyzuS16_6Gg"
      }
    },
    {
      "cell_type": "markdown",
      "source": [
        "####GeoJSON Viewer/Builder from MapBox     \n",
        "\n",
        "Use this free online resource to inspect, test, and refine `geojson` files:    \n",
        "\n",
        " o [GeoJSON.io by MapBox](https://geojson.io/#map=2/0/20)\n"
      ],
      "metadata": {
        "id": "GLKQpNHntqiE"
      }
    },
    {
      "cell_type": "markdown",
      "source": [
        "####GeoJson and KML Data     \n",
        "GeoJason and KML data for the United States in available in varying levels of detail by state, county, and congressional district from the following:    \n",
        "* [**GEOJSON AND KML DATA FOR THE UNITED STATES**](https://eric.clst.org/tech/usgeojson/)    \n"
      ],
      "metadata": {
        "id": "2E1W3IVU1lAs"
      }
    },
    {
      "cell_type": "markdown",
      "source": [
        "####BaseMaps     \n",
        "\n",
        "Leaflet basemaps are available from the following:    \n",
        "\n",
        "* [**Github: leaflet-extras**](https://leaflet-extras.github.io/leaflet-providers/preview/)      \n"
      ],
      "metadata": {
        "id": "8OjpilMq1ogP"
      }
    },
    {
      "cell_type": "markdown",
      "source": [
        "####geoIP Resolution    \n",
        "\n",
        "**geoIP resolution** - takes the IP of a device and returns back its location.\n",
        "\n",
        "You will need to get an API here from here: https://ipstack.com/    \n"
      ],
      "metadata": {
        "id": "xnJGW5zHR1hu"
      }
    },
    {
      "cell_type": "markdown",
      "source": [
        "####WiFi(SSID), Bluetooth, Mobile Phone Geo-Location    \n",
        "\n",
        "**Wigle** - uses crowdsourced war-driving data to geo-locate the SSID or other broadcast identifier of a device and returns back its location.    \n",
        "\n",
        "You will need to get an API here from here: https://api.wigle.net/        "
      ],
      "metadata": {
        "id": "p5E7Y2DtgoZO"
      }
    },
    {
      "cell_type": "markdown",
      "source": [
        "####Geo-Location APIs      \n",
        "\n",
        "*This section is a work-in-progress*    "
      ],
      "metadata": {
        "id": "QA4tll5iRv7r"
      }
    },
    {
      "cell_type": "markdown",
      "source": [
        "\n",
        "**leaflet API**    \n",
        "\n",
        "Leaflet API documentation on objects, methods, parameters, and more available from the following:    \n",
        "\n",
        "* [**Leaflet - an open-source JavaScript library for mobile-friendly interactive maps**](https://leafletjs.com/reference-1.6.0.html#path-option)   "
      ],
      "metadata": {
        "id": "Xp6XDGqh1tfV"
      }
    },
    {
      "cell_type": "markdown",
      "source": [
        "---"
      ],
      "metadata": {
        "id": "wejW5SAiviba"
      }
    }
  ]
}