{
  "nbformat": 4,
  "nbformat_minor": 0,
  "metadata": {
    "colab": {
      "name": "Combing_Merging_Datasets.ipynb",
      "provenance": [],
      "collapsed_sections": [],
      "authorship_tag": "ABX9TyMkPSoDWZQPZI4UOyzLCI7E",
      "include_colab_link": true
    },
    "kernelspec": {
      "name": "python3",
      "display_name": "Python 3"
    },
    "language_info": {
      "name": "python"
    }
  },
  "cells": [
    {
      "cell_type": "markdown",
      "metadata": {
        "id": "view-in-github",
        "colab_type": "text"
      },
      "source": [
        "<a href=\"https://colab.research.google.com/github/ProfessorPatrickSlatraigh/CST3512/blob/main/Combing_Merging_Datasets.ipynb\" target=\"_parent\"><img src=\"https://colab.research.google.com/assets/colab-badge.svg\" alt=\"Open In Colab\"/></a>"
      ]
    },
    {
      "cell_type": "markdown",
      "source": [
        "#Combining and Merging Datasets   \n",
        "\n",
        "This notebook is based on [Section 8.2 Combining and Merging Datasets](https://wesmckinney.com/book/data-wrangling.html#prep_merge_join) from Chapter 8 - Data Wrangling: Join, Combine, and Reshape in Wes Mckinney's 'Python for Data Analysis'    \n",
        "\n"
      ],
      "metadata": {
        "id": "JVtACvBn4B0m"
      }
    },
    {
      "cell_type": "markdown",
      "source": [
        "Data contained in pandas objects can be combined together in a number of ways:\n",
        "\n",
        "`pandas.merge` connects rows in DataFrames based on one or more keys. This will be familiar to users of SQL or other relational databases, as it implements database join operations.\n",
        "\n",
        "`pandas.concat` concatenates or \"stacks\" together objects along an axis.\n",
        "\n",
        "The `combine_first` instance method enables splicing together overlapping data to fill in missing values in one object with values from another.\n",
        "\n",
        "`pandas.merge_asof` allows you to do time series-based \"window\" joins between DataFrame objects. This will be discussed in more detail in Time Series\n",
        "\n",
        "Mckinney addresses each of these and gives a number of examples. They will be utilized in examples throughout the remainder of the Data Analysis with Python book."
      ],
      "metadata": {
        "id": "i03P67dF4yIF"
      }
    },
    {
      "cell_type": "markdown",
      "source": [
        "\n",
        "\n",
        "---\n",
        "\n"
      ],
      "metadata": {
        "id": "vjrvvKdN53Jt"
      }
    },
    {
      "cell_type": "markdown",
      "source": [
        "##**Housekeeping**    \n",
        "\n",
        "Import required modules    \n"
      ],
      "metadata": {
        "id": "9mi4Ko3V54iX"
      }
    },
    {
      "cell_type": "code",
      "source": [
        "# Import pandas \n",
        "import pandas as pd\n",
        "\n",
        "# Import numpy   \n",
        "import numpy as np\n"
      ],
      "metadata": {
        "id": "cPV2Tj1K6CNW"
      },
      "execution_count": 2,
      "outputs": []
    },
    {
      "cell_type": "markdown",
      "source": [
        "\n",
        "\n",
        "---\n",
        "\n"
      ],
      "metadata": {
        "id": "q7ZszVO1WbaM"
      }
    },
    {
      "cell_type": "markdown",
      "source": [
        "\n",
        "##Database-Style Dataframe Joins    \n",
        "\n",
        "*Merge* or *join* operations combine datasets by linking rows using one or more keys. These operations are particularly important in relational databases (e.g., SQL-based). The `merge` function in pandas is the main entry point for using these algorithms on your data.\n",
        "\n",
        "Let’s start with a simple example:"
      ],
      "metadata": {
        "id": "LQU1DanIRFgf"
      }
    },
    {
      "cell_type": "code",
      "source": [
        "df1 = pd.DataFrame({'key': ['b', 'b', 'a', 'c', 'a', 'a', 'b'],\n",
        "                    'data1': range(7)})\n",
        "\n",
        "df2 = pd.DataFrame({'key': ['a', 'b', 'd'],\n",
        "                    'data2': range(3)})\n"
      ],
      "metadata": {
        "id": "rNx5ZsiGRWrO"
      },
      "execution_count": null,
      "outputs": []
    },
    {
      "cell_type": "code",
      "source": [
        "print(df1.describe())\n",
        "print()\n",
        "print(df1)"
      ],
      "metadata": {
        "id": "K39uW2PnRq4x"
      },
      "execution_count": null,
      "outputs": []
    },
    {
      "cell_type": "code",
      "source": [
        "print(df2.describe())\n",
        "print()\n",
        "print(df2)"
      ],
      "metadata": {
        "id": "oL-GLbRFRxL5"
      },
      "execution_count": null,
      "outputs": []
    },
    {
      "cell_type": "markdown",
      "source": [
        "The following is an example of a *many-to-one join*; the data in `df1` has multiple rows labeled `a` and `b`, whereas `df2` has only one row for each value in the key column. Calling `merge` with these objects we obtain:"
      ],
      "metadata": {
        "id": "NNGEhe8pSOUr"
      }
    },
    {
      "cell_type": "code",
      "source": [
        "pd.merge(df1, df2)"
      ],
      "metadata": {
        "id": "yMTGaUMLSXaU"
      },
      "execution_count": null,
      "outputs": []
    },
    {
      "cell_type": "markdown",
      "source": [
        "Note that the last snippet of code DID NOT specify which column to join on. If that information is not specified, `merge` uses the overlapping column names as the keys. It’s a good practice to specify explicitly, though:"
      ],
      "metadata": {
        "id": "hXGZmeNIShD2"
      }
    },
    {
      "cell_type": "code",
      "source": [
        "pd.merge(df1, df2, on='key')"
      ],
      "metadata": {
        "id": "dxwWmdBASon5"
      },
      "execution_count": null,
      "outputs": []
    },
    {
      "cell_type": "markdown",
      "source": [
        "If the column names are different in each object, you can specify them separately:"
      ],
      "metadata": {
        "id": "FR7q2_uYSwRD"
      }
    },
    {
      "cell_type": "code",
      "source": [
        "df3 = pd.DataFrame({'lkey': ['b', 'b', 'a', 'c', 'a', 'a', 'b'],\n",
        "                    'data1': range(7)}) \n",
        "\n",
        "df4 = pd.DataFrame({'rkey': ['a', 'b', 'd'],\n",
        "                    'data2': range(3)})"
      ],
      "metadata": {
        "id": "KezAwS2zSxOf"
      },
      "execution_count": null,
      "outputs": []
    },
    {
      "cell_type": "code",
      "source": [
        "print(df3.describe())\n",
        "print()\n",
        "print(df3)"
      ],
      "metadata": {
        "id": "V84Dlfm3S3fB"
      },
      "execution_count": null,
      "outputs": []
    },
    {
      "cell_type": "code",
      "source": [
        "print(df4.describe())\n",
        "print()\n",
        "print(df4)"
      ],
      "metadata": {
        "id": "fiJH-9uxTCzx"
      },
      "execution_count": null,
      "outputs": []
    },
    {
      "cell_type": "code",
      "source": [
        "pd.merge(df3, df4, left_on='lkey', right_on='rkey')"
      ],
      "metadata": {
        "id": "VK1umYAOTIxR"
      },
      "execution_count": null,
      "outputs": []
    },
    {
      "cell_type": "markdown",
      "source": [
        "You may notice that the 'c' and 'd' values and associated data are missing from the result. By default `merge` does an 'inner' join; the keys in the result are the intersection, or the common set found in both tables. Other possible options are 'left', 'right', and 'outer'. The *outer join* takes the union of the keys, combining the effect of applying both *left* and *right joins*:"
      ],
      "metadata": {
        "id": "4gqfCTXyTTBL"
      }
    },
    {
      "cell_type": "code",
      "source": [
        "pd.merge(df1, df2, how='outer')"
      ],
      "metadata": {
        "id": "N18J99eXTc43"
      },
      "execution_count": null,
      "outputs": []
    },
    {
      "cell_type": "markdown",
      "source": [
        "See the following **Table 8.1** for a summary of the options for how different *joins* are treated."
      ],
      "metadata": {
        "id": "YR9EDbBITtiu"
      }
    },
    {
      "cell_type": "markdown",
      "source": [
        "![WESM_8-1_how-joins.png](data:image/png;base64,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)"
      ],
      "metadata": {
        "id": "e5WpImrbUO-n"
      }
    },
    {
      "cell_type": "markdown",
      "source": [
        "*Many-to-many* merges form the Cartesian product of the matching keys. Here’s an example:"
      ],
      "metadata": {
        "id": "N7K3b-jyUaV1"
      }
    },
    {
      "cell_type": "code",
      "source": [
        "df5 = pd.DataFrame({'key': ['b', 'b', 'a', 'c', 'a', 'b'],\n",
        "                    'data1': range(6)})\n",
        "\n",
        "df6 = pd.DataFrame({'key': ['a', 'b', 'a', 'b', 'd'],\n",
        "                    'data2': range(5)}) \n"
      ],
      "metadata": {
        "id": "ttiODRMlThNf"
      },
      "execution_count": null,
      "outputs": []
    },
    {
      "cell_type": "code",
      "source": [
        "print(df5.describe())\n",
        "print()\n",
        "print(df5)"
      ],
      "metadata": {
        "id": "Ffi9jUIBU3bc"
      },
      "execution_count": null,
      "outputs": []
    },
    {
      "cell_type": "code",
      "source": [
        "print(df6.describe())\n",
        "print()\n",
        "print(df6)"
      ],
      "metadata": {
        "id": "kKDtEylYU594"
      },
      "execution_count": null,
      "outputs": []
    },
    {
      "cell_type": "code",
      "source": [
        "pd.merge(df5, df6, on='key', how='left')"
      ],
      "metadata": {
        "id": "bt3ePPpjU_zJ"
      },
      "execution_count": null,
      "outputs": []
    },
    {
      "cell_type": "markdown",
      "source": [
        "Since there were three 'b' rows in the left DataFrame and two in the right one, there are six 'b' rows in the result. The `join` method only affects the distinct key values appearing in the result:"
      ],
      "metadata": {
        "id": "emDoFwh7VHWn"
      }
    },
    {
      "cell_type": "code",
      "source": [
        "pd.merge(df5, df6, how='inner')"
      ],
      "metadata": {
        "id": "MksLHSDTVK14"
      },
      "execution_count": null,
      "outputs": []
    },
    {
      "cell_type": "markdown",
      "source": [
        "To `merge` with multiple keys, pass a list of column names:\n"
      ],
      "metadata": {
        "id": "9abRe6HjVU6F"
      }
    },
    {
      "cell_type": "code",
      "source": [
        "df_left = pd.DataFrame({'key1': ['foo', 'foo', 'bar'],\n",
        "                     'key2': ['one', 'two', 'one'],\n",
        "                     'lval': [1, 2, 3]})\n",
        " \n",
        "df_right = pd.DataFrame({'key1': ['foo', 'foo', 'bar', 'bar'],\n",
        "                      'key2': ['one', 'one', 'one', 'two'],\n",
        "                      'rval': [4, 5, 6, 7]})\n"
      ],
      "metadata": {
        "id": "C784ocEaVXkX"
      },
      "execution_count": null,
      "outputs": []
    },
    {
      "cell_type": "code",
      "source": [
        "print(df_left.describe())\n",
        "print()\n",
        "print(df_left)"
      ],
      "metadata": {
        "id": "JlsPo1QwVv7X"
      },
      "execution_count": null,
      "outputs": []
    },
    {
      "cell_type": "code",
      "source": [
        "print(df_right.describe())\n",
        "print()\n",
        "print(df_right)"
      ],
      "metadata": {
        "id": "pXkWnqjWV07G"
      },
      "execution_count": null,
      "outputs": []
    },
    {
      "cell_type": "code",
      "source": [
        "pd.merge(df_left, df_right, on=['key1', 'key2'], how='outer')"
      ],
      "metadata": {
        "id": "JzAjGaKJV6Dr"
      },
      "execution_count": null,
      "outputs": []
    },
    {
      "cell_type": "markdown",
      "source": [
        "To determine which key combinations will appear in the result depending on the choice of merge method, think of the multiple keys as forming an array of tuples to be used as a single join key."
      ],
      "metadata": {
        "id": "jtMDvBryWA26"
      }
    },
    {
      "cell_type": "markdown",
      "source": [
        "***Caution***    \n",
        "\n",
        "\n",
        "*When you're joining columns-on-columns, the indexes on the passed DataFrame objects are discarded.*"
      ],
      "metadata": {
        "id": "NsaTEOlnWEGQ"
      }
    },
    {
      "cell_type": "markdown",
      "source": [
        "A last issue to consider in `merge` operations is the treatment of overlapping column names. While you can address the overlap manually (see the earlier section on renaming axis labels), `merge` has a `suffixes` option for specifying strings to append to overlapping names in the *left* and *right* DataFrame objects:"
      ],
      "metadata": {
        "id": "XspiQWTUWP94"
      }
    },
    {
      "cell_type": "code",
      "source": [
        "pd.merge(df_left, df_right, on='key1')"
      ],
      "metadata": {
        "id": "lrmCz4RpWYuG"
      },
      "execution_count": null,
      "outputs": []
    },
    {
      "cell_type": "code",
      "source": [
        "pd.merge(df_left, df_right, on='key1', suffixes=('_left', '_right'))"
      ],
      "metadata": {
        "id": "pmHJhmlLWgGj"
      },
      "execution_count": null,
      "outputs": []
    },
    {
      "cell_type": "markdown",
      "source": [
        "See **Table 8.2** for an argument reference on merge. Joining using the DataFrame's row index is the subject of the next section."
      ],
      "metadata": {
        "id": "64RrkJTjOl31"
      }
    },
    {
      "cell_type": "markdown",
      "source": [
        "![WESM_8-2_merge-arguments.png](data:image/png;base64,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)"
      ],
      "metadata": {
        "id": "a9GK_RrnOsVV"
      }
    },
    {
      "cell_type": "markdown",
      "source": [
        "\n",
        "\n",
        "---\n",
        "\n"
      ],
      "metadata": {
        "id": "qim5T-0bWYl7"
      }
    },
    {
      "cell_type": "markdown",
      "source": [
        "##Merging on Index    \n",
        "\n",
        "In some cases, the `merge` key(s) in a DataFrame will be found in its index (row labels). In this case, you can pass `left_index=True` or `right_index=True` (or both) to indicate that the index should be used as the merge key:"
      ],
      "metadata": {
        "id": "Ei8tdw4ZPQPB"
      }
    },
    {
      "cell_type": "code",
      "source": [
        "df_left1 = pd.DataFrame({'key': ['a', 'b', 'a', 'a', 'b', 'c'],\n",
        "                         'value': range(6)})\n",
        "\n",
        "df_right1 = pd.DataFrame({'group_val': [3.5, 7]}, index=['a', 'b'])"
      ],
      "metadata": {
        "id": "dFSXEoIYPaxj"
      },
      "execution_count": 3,
      "outputs": []
    },
    {
      "cell_type": "code",
      "source": [
        "print(df_left1.describe())\n",
        "print()\n",
        "print(df_left1)"
      ],
      "metadata": {
        "id": "Mdq6Ay-8P7fi"
      },
      "execution_count": null,
      "outputs": []
    },
    {
      "cell_type": "code",
      "source": [
        "print(df_right1.describe())\n",
        "print()\n",
        "print(df_right1)"
      ],
      "metadata": {
        "id": "Sj7Cnbi0QF-7"
      },
      "execution_count": null,
      "outputs": []
    },
    {
      "cell_type": "code",
      "source": [
        "pd.merge(df_left1, df_right1, left_on='key', right_index=True)"
      ],
      "metadata": {
        "id": "SmNd0IB4QKQt"
      },
      "execution_count": null,
      "outputs": []
    },
    {
      "cell_type": "markdown",
      "source": [
        "Since the default `merge` method is to intersect the join keys, you can instead form the *union* of them with an *outer join*:"
      ],
      "metadata": {
        "id": "cTvBEcvvQUmy"
      }
    },
    {
      "cell_type": "code",
      "source": [
        "pd.merge(df_left1, df_right1, left_on='key', right_index=True, how='outer')"
      ],
      "metadata": {
        "id": "irp-N-9BQgA8"
      },
      "execution_count": null,
      "outputs": []
    },
    {
      "cell_type": "markdown",
      "source": [
        "With hierarchically indexed data, things are more complicated, as joining on index is equivalent to a multiple-key merge:"
      ],
      "metadata": {
        "id": "STZoqCO-QnQe"
      }
    },
    {
      "cell_type": "code",
      "source": [
        "df_lefth = pd.DataFrame({'key1': ['Ohio', 'Ohio', 'Ohio',\n",
        "                                  'Nevada', 'Nevada'],\n",
        "                         'key2': [2000, 2001, 2002, 2001, 2002],\n",
        "                         'data': np.arange(5.)})"
      ],
      "metadata": {
        "id": "o0-2-pg6QpiI"
      },
      "execution_count": 7,
      "outputs": []
    },
    {
      "cell_type": "code",
      "source": [
        "df_righth = pd.DataFrame(np.arange(12).reshape((6, 2)),\n",
        "                         index=[['Nevada', 'Nevada', 'Ohio', 'Ohio',\n",
        "                                 'Ohio', 'Ohio'],\n",
        "                               [2001, 2000, 2000, 2000, 2001, 2002]],\n",
        "                         columns=['event1', 'event2'])"
      ],
      "metadata": {
        "id": "tRadN0BORHZv"
      },
      "execution_count": 8,
      "outputs": []
    },
    {
      "cell_type": "code",
      "source": [
        "print(df_lefth.describe())\n",
        "print()\n",
        "print(df_lefth)"
      ],
      "metadata": {
        "id": "zIu1D5FORNyX"
      },
      "execution_count": null,
      "outputs": []
    },
    {
      "cell_type": "code",
      "source": [
        "print(df_righth.describe())\n",
        "print()\n",
        "print(df_righth)"
      ],
      "metadata": {
        "id": "2PJgvCdIRUoy"
      },
      "execution_count": null,
      "outputs": []
    },
    {
      "cell_type": "markdown",
      "source": [
        "In this case, you have to indicate multiple columns to `merge` on as a list (note the handling of duplicate index values with `how='outer'`):"
      ],
      "metadata": {
        "id": "BmNAsU_eTV34"
      }
    },
    {
      "cell_type": "code",
      "source": [
        "pd.merge(df_lefth, df_righth, left_on=['key1', 'key2'], right_index=True)"
      ],
      "metadata": {
        "id": "p_ffPQm1TZyC"
      },
      "execution_count": null,
      "outputs": []
    },
    {
      "cell_type": "code",
      "source": [
        "pd.merge(df_lefth, df_righth, left_on=['key1', 'key2'],\n",
        "         right_index=True, how='outer')"
      ],
      "metadata": {
        "id": "HSneAKpTTrMH"
      },
      "execution_count": null,
      "outputs": []
    },
    {
      "cell_type": "markdown",
      "source": [
        "Using the indexes of both sides of the `merge` is also possible:"
      ],
      "metadata": {
        "id": "buu2j3nnTu7y"
      }
    },
    {
      "cell_type": "code",
      "source": [
        "df_left2 = pd.DataFrame([[1., 2.], [3., 4.], [5., 6.]],\n",
        "                         index=['a', 'c', 'e'],\n",
        "                         columns=['Ohio', 'Nevada'])"
      ],
      "metadata": {
        "id": "8uO96uGXTwwx"
      },
      "execution_count": 15,
      "outputs": []
    },
    {
      "cell_type": "code",
      "source": [
        "df_right2 = pd.DataFrame([[7., 8.], [9., 10.], [11., 12.], [13, 14]],\n",
        "                          index=['b', 'c', 'd', 'e'],\n",
        "                          columns=['Missouri', 'Alabama'])"
      ],
      "metadata": {
        "id": "RbSjpKaaUCAF"
      },
      "execution_count": 16,
      "outputs": []
    },
    {
      "cell_type": "code",
      "source": [
        "print(df_left2.describe())\n",
        "print()\n",
        "print(df_left2)"
      ],
      "metadata": {
        "id": "E-paUI3PUEZl"
      },
      "execution_count": null,
      "outputs": []
    },
    {
      "cell_type": "code",
      "source": [
        "print(df_right2.describe())\n",
        "print()\n",
        "print(df_right2)"
      ],
      "metadata": {
        "id": "hG2LvW3UUIm_"
      },
      "execution_count": null,
      "outputs": []
    },
    {
      "cell_type": "code",
      "source": [
        "pd.merge(df_left2, df_right2, how='outer', left_index=True, right_index=True)"
      ],
      "metadata": {
        "id": "5BXNU48vUSE1"
      },
      "execution_count": null,
      "outputs": []
    },
    {
      "cell_type": "markdown",
      "source": [
        "DataFrame has a `join` instance method to simplify *merging* by index. It can also be used to *combine* together many DataFrame objects having the same or similar indexes but non-overlapping columns. In the prior example, we could have written:"
      ],
      "metadata": {
        "id": "vlF3r28PUZgd"
      }
    },
    {
      "cell_type": "code",
      "source": [
        "df_left2.join(df_right2, how='outer')"
      ],
      "metadata": {
        "id": "veyJnG2WUgUb"
      },
      "execution_count": null,
      "outputs": []
    },
    {
      "cell_type": "markdown",
      "source": [
        "Compared with `pandas.merge`, DataFrame’s `join` method performs a *left join* on the *join keys*, exactly preserving the left frame's row index. It also supports *joining* the index of the passed DataFrame on one of the columns of the calling DataFrame:"
      ],
      "metadata": {
        "id": "znYDcMSsUrOD"
      }
    },
    {
      "cell_type": "code",
      "source": [
        "# print(df_left1.describe())\n",
        "# print()\n",
        "print(df_left1)"
      ],
      "metadata": {
        "id": "EADEPC6JVBxT"
      },
      "execution_count": null,
      "outputs": []
    },
    {
      "cell_type": "code",
      "source": [
        "# print(df_right1.describe())\n",
        "# print()\n",
        "print(df_right1)"
      ],
      "metadata": {
        "id": "qGse_pNkVEPh"
      },
      "execution_count": null,
      "outputs": []
    },
    {
      "cell_type": "code",
      "source": [
        "df_left1.join(df_right1, on='key')"
      ],
      "metadata": {
        "colab": {
          "base_uri": "https://localhost:8080/",
          "height": 238
        },
        "id": "rrP2nlNwU0LI",
        "outputId": "341be547-718e-4fb9-9b94-8752f53b524e"
      },
      "execution_count": 20,
      "outputs": [
        {
          "output_type": "execute_result",
          "data": {
            "text/plain": [
              "  key  value  group_val\n",
              "0   a      0        3.5\n",
              "1   b      1        7.0\n",
              "2   a      2        3.5\n",
              "3   a      3        3.5\n",
              "4   b      4        7.0\n",
              "5   c      5        NaN"
            ],
            "text/html": [
              "\n",
              "  <div id=\"df-f7113855-043d-4de6-852f-2d1827baf839\">\n",
              "    <div class=\"colab-df-container\">\n",
              "      <div>\n",
              "<style scoped>\n",
              "    .dataframe tbody tr th:only-of-type {\n",
              "        vertical-align: middle;\n",
              "    }\n",
              "\n",
              "    .dataframe tbody tr th {\n",
              "        vertical-align: top;\n",
              "    }\n",
              "\n",
              "    .dataframe thead th {\n",
              "        text-align: right;\n",
              "    }\n",
              "</style>\n",
              "<table border=\"1\" class=\"dataframe\">\n",
              "  <thead>\n",
              "    <tr style=\"text-align: right;\">\n",
              "      <th></th>\n",
              "      <th>key</th>\n",
              "      <th>value</th>\n",
              "      <th>group_val</th>\n",
              "    </tr>\n",
              "  </thead>\n",
              "  <tbody>\n",
              "    <tr>\n",
              "      <th>0</th>\n",
              "      <td>a</td>\n",
              "      <td>0</td>\n",
              "      <td>3.5</td>\n",
              "    </tr>\n",
              "    <tr>\n",
              "      <th>1</th>\n",
              "      <td>b</td>\n",
              "      <td>1</td>\n",
              "      <td>7.0</td>\n",
              "    </tr>\n",
              "    <tr>\n",
              "      <th>2</th>\n",
              "      <td>a</td>\n",
              "      <td>2</td>\n",
              "      <td>3.5</td>\n",
              "    </tr>\n",
              "    <tr>\n",
              "      <th>3</th>\n",
              "      <td>a</td>\n",
              "      <td>3</td>\n",
              "      <td>3.5</td>\n",
              "    </tr>\n",
              "    <tr>\n",
              "      <th>4</th>\n",
              "      <td>b</td>\n",
              "      <td>4</td>\n",
              "      <td>7.0</td>\n",
              "    </tr>\n",
              "    <tr>\n",
              "      <th>5</th>\n",
              "      <td>c</td>\n",
              "      <td>5</td>\n",
              "      <td>NaN</td>\n",
              "    </tr>\n",
              "  </tbody>\n",
              "</table>\n",
              "</div>\n",
              "      <button class=\"colab-df-convert\" onclick=\"convertToInteractive('df-f7113855-043d-4de6-852f-2d1827baf839')\"\n",
              "              title=\"Convert this dataframe to an interactive table.\"\n",
              "              style=\"display:none;\">\n",
              "        \n",
              "  <svg xmlns=\"http://www.w3.org/2000/svg\" height=\"24px\"viewBox=\"0 0 24 24\"\n",
              "       width=\"24px\">\n",
              "    <path d=\"M0 0h24v24H0V0z\" fill=\"none\"/>\n",
              "    <path d=\"M18.56 5.44l.94 2.06.94-2.06 2.06-.94-2.06-.94-.94-2.06-.94 2.06-2.06.94zm-11 1L8.5 8.5l.94-2.06 2.06-.94-2.06-.94L8.5 2.5l-.94 2.06-2.06.94zm10 10l.94 2.06.94-2.06 2.06-.94-2.06-.94-.94-2.06-.94 2.06-2.06.94z\"/><path d=\"M17.41 7.96l-1.37-1.37c-.4-.4-.92-.59-1.43-.59-.52 0-1.04.2-1.43.59L10.3 9.45l-7.72 7.72c-.78.78-.78 2.05 0 2.83L4 21.41c.39.39.9.59 1.41.59.51 0 1.02-.2 1.41-.59l7.78-7.78 2.81-2.81c.8-.78.8-2.07 0-2.86zM5.41 20L4 18.59l7.72-7.72 1.47 1.35L5.41 20z\"/>\n",
              "  </svg>\n",
              "      </button>\n",
              "      \n",
              "  <style>\n",
              "    .colab-df-container {\n",
              "      display:flex;\n",
              "      flex-wrap:wrap;\n",
              "      gap: 12px;\n",
              "    }\n",
              "\n",
              "    .colab-df-convert {\n",
              "      background-color: #E8F0FE;\n",
              "      border: none;\n",
              "      border-radius: 50%;\n",
              "      cursor: pointer;\n",
              "      display: none;\n",
              "      fill: #1967D2;\n",
              "      height: 32px;\n",
              "      padding: 0 0 0 0;\n",
              "      width: 32px;\n",
              "    }\n",
              "\n",
              "    .colab-df-convert:hover {\n",
              "      background-color: #E2EBFA;\n",
              "      box-shadow: 0px 1px 2px rgba(60, 64, 67, 0.3), 0px 1px 3px 1px rgba(60, 64, 67, 0.15);\n",
              "      fill: #174EA6;\n",
              "    }\n",
              "\n",
              "    [theme=dark] .colab-df-convert {\n",
              "      background-color: #3B4455;\n",
              "      fill: #D2E3FC;\n",
              "    }\n",
              "\n",
              "    [theme=dark] .colab-df-convert:hover {\n",
              "      background-color: #434B5C;\n",
              "      box-shadow: 0px 1px 3px 1px rgba(0, 0, 0, 0.15);\n",
              "      filter: drop-shadow(0px 1px 2px rgba(0, 0, 0, 0.3));\n",
              "      fill: #FFFFFF;\n",
              "    }\n",
              "  </style>\n",
              "\n",
              "      <script>\n",
              "        const buttonEl =\n",
              "          document.querySelector('#df-f7113855-043d-4de6-852f-2d1827baf839 button.colab-df-convert');\n",
              "        buttonEl.style.display =\n",
              "          google.colab.kernel.accessAllowed ? 'block' : 'none';\n",
              "\n",
              "        async function convertToInteractive(key) {\n",
              "          const element = document.querySelector('#df-f7113855-043d-4de6-852f-2d1827baf839');\n",
              "          const dataTable =\n",
              "            await google.colab.kernel.invokeFunction('convertToInteractive',\n",
              "                                                     [key], {});\n",
              "          if (!dataTable) return;\n",
              "\n",
              "          const docLinkHtml = 'Like what you see? Visit the ' +\n",
              "            '<a target=\"_blank\" href=https://colab.research.google.com/notebooks/data_table.ipynb>data table notebook</a>'\n",
              "            + ' to learn more about interactive tables.';\n",
              "          element.innerHTML = '';\n",
              "          dataTable['output_type'] = 'display_data';\n",
              "          await google.colab.output.renderOutput(dataTable, element);\n",
              "          const docLink = document.createElement('div');\n",
              "          docLink.innerHTML = docLinkHtml;\n",
              "          element.appendChild(docLink);\n",
              "        }\n",
              "      </script>\n",
              "    </div>\n",
              "  </div>\n",
              "  "
            ]
          },
          "metadata": {},
          "execution_count": 20
        }
      ]
    },
    {
      "cell_type": "markdown",
      "source": [
        "You can think of this method as *joining* data **\"into\"** the object whose `join` method is invoked.\n",
        "\n",
        "Lastly, for simple *index-on-index merges*, you can pass a list of DataFrames to `join` as an alternative to using the more general `concat` function described in the next section:"
      ],
      "metadata": {
        "id": "qgGscSasVNBy"
      }
    },
    {
      "cell_type": "code",
      "source": [
        "df_another = pd.DataFrame([[7., 8.], [9., 10.], [11., 12.], [16., 17.]],\n",
        "                           index=['a', 'c', 'e', 'f'],\n",
        "                           columns=['New York', 'Oregon'])"
      ],
      "metadata": {
        "id": "-0fgMe4JVZst"
      },
      "execution_count": 22,
      "outputs": []
    },
    {
      "cell_type": "code",
      "source": [
        "print(df_another.describe())\n",
        "print()\n",
        "print(df_another)"
      ],
      "metadata": {
        "id": "Chwch1mmVnYA"
      },
      "execution_count": null,
      "outputs": []
    },
    {
      "cell_type": "code",
      "source": [
        "df_left2.join([df_right2, df_another])"
      ],
      "metadata": {
        "id": "cAHooufzVvl2"
      },
      "execution_count": null,
      "outputs": []
    },
    {
      "cell_type": "code",
      "source": [
        "df_left2.join([df_right2, df_another], how='outer')"
      ],
      "metadata": {
        "id": "qVXABwPxV2qz"
      },
      "execution_count": null,
      "outputs": []
    },
    {
      "cell_type": "markdown",
      "source": [
        "\n",
        "\n",
        "---\n",
        "\n"
      ],
      "metadata": {
        "id": "4eAdBz2yWXCg"
      }
    },
    {
      "cell_type": "markdown",
      "source": [
        "##Concatenating Along an Axis    \n",
        "\n",
        "Another kind of data combination operation is referred to interchangeably as concatenation or stacking. NumPy's concatenate function can do this with NumPy arrays:"
      ],
      "metadata": {
        "id": "U_8LrNBUWSv4"
      }
    },
    {
      "cell_type": "markdown",
      "source": [
        "\n",
        "\n",
        "---\n",
        "\n"
      ],
      "metadata": {
        "id": "jZsGwxc-REbN"
      }
    },
    {
      "cell_type": "markdown",
      "source": [
        "\n",
        "\n",
        "---\n",
        "\n"
      ],
      "metadata": {
        "id": "OSy7YajwCB7O"
      }
    },
    {
      "cell_type": "markdown",
      "source": [
        "#**Related Exercise**\n",
        "\n",
        "\n",
        "*See the notebook ['NOTEBOOKNAME'](https://bit.ly/some_link) for a related exercise on combining datasets.* "
      ],
      "metadata": {
        "id": "gmG5r9z3CCzt"
      }
    },
    {
      "cell_type": "markdown",
      "source": [
        "\n",
        "\n",
        "---\n",
        "\n"
      ],
      "metadata": {
        "id": "AY-vbwVWCd7u"
      }
    }
  ]
}