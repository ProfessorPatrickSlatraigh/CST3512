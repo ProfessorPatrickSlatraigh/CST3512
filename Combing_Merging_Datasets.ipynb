{
  "nbformat": 4,
  "nbformat_minor": 0,
  "metadata": {
    "colab": {
      "name": "Combing_Merging_Datasets.ipynb",
      "provenance": [],
      "collapsed_sections": [],
      "authorship_tag": "ABX9TyMqUZXXHCN5wvNf+K6tiZUR",
      "include_colab_link": true
    },
    "kernelspec": {
      "name": "python3",
      "display_name": "Python 3"
    },
    "language_info": {
      "name": "python"
    }
  },
  "cells": [
    {
      "cell_type": "markdown",
      "metadata": {
        "id": "view-in-github",
        "colab_type": "text"
      },
      "source": [
        "<a href=\"https://colab.research.google.com/github/ProfessorPatrickSlatraigh/CST3512/blob/main/Combing_Merging_Datasets.ipynb\" target=\"_parent\"><img src=\"https://colab.research.google.com/assets/colab-badge.svg\" alt=\"Open In Colab\"/></a>"
      ]
    },
    {
      "cell_type": "markdown",
      "source": [
        "#Combining and Merging Datasets   \n",
        "\n",
        "This notebook is based on [Section 8.2 Combining and Merging Datasets](https://wesmckinney.com/book/data-wrangling.html#prep_merge_join) from Chapter 8 - Data Wrangling: Join, Combine, and Reshape in Wes Mckinney's 'Python for Data Analysis'    \n",
        "\n"
      ],
      "metadata": {
        "id": "JVtACvBn4B0m"
      }
    },
    {
      "cell_type": "markdown",
      "source": [
        "Data contained in pandas objects can be combined together in a number of ways:\n",
        "\n",
        "`pandas.merge` connects rows in DataFrames based on one or more keys. This will be familiar to users of SQL or other relational databases, as it implements database join operations.\n",
        "\n",
        "`pandas.concat` concatenates or \"stacks\" together objects along an axis.\n",
        "\n",
        "The `combine_first` instance method enables splicing together overlapping data to fill in missing values in one object with values from another.\n",
        "\n",
        "`pandas.merge_asof` allows you to do time series-based \"window\" joins between DataFrame objects. This will be discussed in more detail in Time Series\n",
        "\n",
        "Mckinney addresses each of these and gives a number of examples. They will be utilized in examples throughout the remainder of the Data Analysis with Python book."
      ],
      "metadata": {
        "id": "i03P67dF4yIF"
      }
    },
    {
      "cell_type": "markdown",
      "source": [
        "\n",
        "\n",
        "---\n",
        "\n"
      ],
      "metadata": {
        "id": "vjrvvKdN53Jt"
      }
    },
    {
      "cell_type": "markdown",
      "source": [
        "##**Housekeeping**    \n",
        "\n",
        "Import required modules    \n"
      ],
      "metadata": {
        "id": "9mi4Ko3V54iX"
      }
    },
    {
      "cell_type": "code",
      "source": [
        "# Import pandas \n",
        "import pandas as pd\n",
        "\n",
        "# Import numpy   \n",
        "import numpy as np\n"
      ],
      "metadata": {
        "id": "cPV2Tj1K6CNW"
      },
      "execution_count": 1,
      "outputs": []
    },
    {
      "cell_type": "markdown",
      "source": [
        "##Database-Style Dataframe Joins    \n",
        "\n",
        "*Merge* or *join* operations combine datasets by linking rows using one or more keys. These operations are particularly important in relational databases (e.g., SQL-based). The `merge` function in pandas is the main entry point for using these algorithms on your data.\n",
        "\n",
        "Let’s start with a simple example:"
      ],
      "metadata": {
        "id": "LQU1DanIRFgf"
      }
    },
    {
      "cell_type": "code",
      "source": [
        "df1 = pd.DataFrame({'key': ['b', 'b', 'a', 'c', 'a', 'a', 'b'],\n",
        "                    'data1': range(7)})\n",
        "\n",
        "df2 = pd.DataFrame({'key': ['a', 'b', 'd'],\n",
        "                    'data2': range(3)})\n"
      ],
      "metadata": {
        "id": "rNx5ZsiGRWrO"
      },
      "execution_count": 3,
      "outputs": []
    },
    {
      "cell_type": "code",
      "source": [
        "print(df1.describe())\n",
        "print()\n",
        "print(df1)"
      ],
      "metadata": {
        "id": "K39uW2PnRq4x"
      },
      "execution_count": null,
      "outputs": []
    },
    {
      "cell_type": "code",
      "source": [
        "print(df2.describe())\n",
        "print()\n",
        "print(df2)"
      ],
      "metadata": {
        "id": "oL-GLbRFRxL5"
      },
      "execution_count": null,
      "outputs": []
    },
    {
      "cell_type": "markdown",
      "source": [
        "The following is an example of a *many-to-one join*; the data in `df1` has multiple rows labeled `a` and `b`, whereas `df2` has only one row for each value in the key column. Calling `merge` with these objects we obtain:"
      ],
      "metadata": {
        "id": "NNGEhe8pSOUr"
      }
    },
    {
      "cell_type": "code",
      "source": [
        "pd.merge(df1, df2)"
      ],
      "metadata": {
        "id": "yMTGaUMLSXaU"
      },
      "execution_count": null,
      "outputs": []
    },
    {
      "cell_type": "markdown",
      "source": [
        "Note that the last snippet of code DID NOT specify which column to join on. If that information is not specified, `merge` uses the overlapping column names as the keys. It’s a good practice to specify explicitly, though:"
      ],
      "metadata": {
        "id": "hXGZmeNIShD2"
      }
    },
    {
      "cell_type": "code",
      "source": [
        "pd.merge(df1, df2, on='key')"
      ],
      "metadata": {
        "id": "dxwWmdBASon5"
      },
      "execution_count": null,
      "outputs": []
    },
    {
      "cell_type": "markdown",
      "source": [
        "If the column names are different in each object, you can specify them separately:"
      ],
      "metadata": {
        "id": "FR7q2_uYSwRD"
      }
    },
    {
      "cell_type": "code",
      "source": [
        "df3 = pd.DataFrame({'lkey': ['b', 'b', 'a', 'c', 'a', 'a', 'b'],\n",
        "                    'data1': range(7)}) \n",
        "\n",
        "df4 = pd.DataFrame({'rkey': ['a', 'b', 'd'],\n",
        "                    'data2': range(3)})"
      ],
      "metadata": {
        "id": "KezAwS2zSxOf"
      },
      "execution_count": 13,
      "outputs": []
    },
    {
      "cell_type": "code",
      "source": [
        "print(df3.describe())\n",
        "print()\n",
        "print(df3)"
      ],
      "metadata": {
        "id": "V84Dlfm3S3fB"
      },
      "execution_count": null,
      "outputs": []
    },
    {
      "cell_type": "code",
      "source": [
        "print(df4.describe())\n",
        "print()\n",
        "print(df4)"
      ],
      "metadata": {
        "id": "fiJH-9uxTCzx"
      },
      "execution_count": null,
      "outputs": []
    },
    {
      "cell_type": "code",
      "source": [
        "pd.merge(df3, df4, left_on='lkey', right_on='rkey')"
      ],
      "metadata": {
        "id": "VK1umYAOTIxR"
      },
      "execution_count": null,
      "outputs": []
    },
    {
      "cell_type": "markdown",
      "source": [
        "You may notice that the 'c' and 'd' values and associated data are missing from the result. By default `merge` does an 'inner' join; the keys in the result are the intersection, or the common set found in both tables. Other possible options are 'left', 'right', and 'outer'. The *outer join* takes the union of the keys, combining the effect of applying both *left* and *right joins*:"
      ],
      "metadata": {
        "id": "4gqfCTXyTTBL"
      }
    },
    {
      "cell_type": "code",
      "source": [
        "pd.merge(df1, df2, how='outer')"
      ],
      "metadata": {
        "id": "N18J99eXTc43"
      },
      "execution_count": null,
      "outputs": []
    },
    {
      "cell_type": "markdown",
      "source": [
        "See the following **Table 8.1** for a summary of the options for how different *joins* are treated."
      ],
      "metadata": {
        "id": "YR9EDbBITtiu"
      }
    },
    {
      "cell_type": "markdown",
      "source": [
        "![WESM_8-1_how-joins.png](data:image/png;base64,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)"
      ],
      "metadata": {
        "id": "e5WpImrbUO-n"
      }
    },
    {
      "cell_type": "markdown",
      "source": [
        "*Many-to-many* merges form the Cartesian product of the matching keys. Here’s an example:"
      ],
      "metadata": {
        "id": "N7K3b-jyUaV1"
      }
    },
    {
      "cell_type": "code",
      "source": [
        "df5 = pd.DataFrame({'key': ['b', 'b', 'a', 'c', 'a', 'b'],\n",
        "                    'data1': range(6)})\n",
        "\n",
        "df6 = pd.DataFrame({'key': ['a', 'b', 'a', 'b', 'd'],\n",
        "                    'data2': range(5)}) \n"
      ],
      "metadata": {
        "id": "ttiODRMlThNf"
      },
      "execution_count": 19,
      "outputs": []
    },
    {
      "cell_type": "code",
      "source": [
        "print(df5.describe())\n",
        "print()\n",
        "print(df5)"
      ],
      "metadata": {
        "id": "Ffi9jUIBU3bc"
      },
      "execution_count": null,
      "outputs": []
    },
    {
      "cell_type": "code",
      "source": [
        "print(df6.describe())\n",
        "print()\n",
        "print(df6)"
      ],
      "metadata": {
        "id": "kKDtEylYU594"
      },
      "execution_count": null,
      "outputs": []
    },
    {
      "cell_type": "code",
      "source": [
        "pd.merge(df5, df6, on='key', how='left')"
      ],
      "metadata": {
        "id": "bt3ePPpjU_zJ"
      },
      "execution_count": null,
      "outputs": []
    },
    {
      "cell_type": "markdown",
      "source": [
        "Since there were three 'b' rows in the left DataFrame and two in the right one, there are six 'b' rows in the result. The `join` method only affects the distinct key values appearing in the result:"
      ],
      "metadata": {
        "id": "emDoFwh7VHWn"
      }
    },
    {
      "cell_type": "code",
      "source": [
        "pd.merge(df5, df6, how='inner')"
      ],
      "metadata": {
        "id": "MksLHSDTVK14"
      },
      "execution_count": null,
      "outputs": []
    },
    {
      "cell_type": "markdown",
      "source": [
        "To `merge` with multiple keys, pass a list of column names:\n"
      ],
      "metadata": {
        "id": "9abRe6HjVU6F"
      }
    },
    {
      "cell_type": "code",
      "source": [
        "df_left = pd.DataFrame({'key1': ['foo', 'foo', 'bar'],\n",
        "                     'key2': ['one', 'two', 'one'],\n",
        "                     'lval': [1, 2, 3]})\n",
        " \n",
        "df_right = pd.DataFrame({'key1': ['foo', 'foo', 'bar', 'bar'],\n",
        "                      'key2': ['one', 'one', 'one', 'two'],\n",
        "                      'rval': [4, 5, 6, 7]})\n"
      ],
      "metadata": {
        "id": "C784ocEaVXkX"
      },
      "execution_count": 24,
      "outputs": []
    },
    {
      "cell_type": "code",
      "source": [
        "print(df_left.describe())\n",
        "print()\n",
        "print(df_left)"
      ],
      "metadata": {
        "id": "JlsPo1QwVv7X"
      },
      "execution_count": null,
      "outputs": []
    },
    {
      "cell_type": "code",
      "source": [
        "print(df_right.describe())\n",
        "print()\n",
        "print(df_right)"
      ],
      "metadata": {
        "id": "pXkWnqjWV07G"
      },
      "execution_count": null,
      "outputs": []
    },
    {
      "cell_type": "code",
      "source": [
        "pd.merge(df_left, df_right, on=['key1', 'key2'], how='outer')"
      ],
      "metadata": {
        "id": "JzAjGaKJV6Dr"
      },
      "execution_count": null,
      "outputs": []
    },
    {
      "cell_type": "markdown",
      "source": [
        "To determine which key combinations will appear in the result depending on the choice of merge method, think of the multiple keys as forming an array of tuples to be used as a single join key."
      ],
      "metadata": {
        "id": "jtMDvBryWA26"
      }
    },
    {
      "cell_type": "markdown",
      "source": [
        "***Caution***    \n",
        "\n",
        "\n",
        "*When you're joining columns-on-columns, the indexes on the passed DataFrame objects are discarded.*"
      ],
      "metadata": {
        "id": "NsaTEOlnWEGQ"
      }
    },
    {
      "cell_type": "markdown",
      "source": [
        "A last issue to consider in `merge` operations is the treatment of overlapping column names. While you can address the overlap manually (see the earlier section on renaming axis labels), `merge` has a `suffixes` option for specifying strings to append to overlapping names in the *left* and *right* DataFrame objects:"
      ],
      "metadata": {
        "id": "XspiQWTUWP94"
      }
    },
    {
      "cell_type": "code",
      "source": [
        "pd.merge(df_left, df_right, on='key1')"
      ],
      "metadata": {
        "id": "lrmCz4RpWYuG"
      },
      "execution_count": null,
      "outputs": []
    },
    {
      "cell_type": "code",
      "source": [
        "pd.merge(df_left, df_right, on='key1', suffixes=('_left', '_right'))"
      ],
      "metadata": {
        "id": "pmHJhmlLWgGj"
      },
      "execution_count": null,
      "outputs": []
    },
    {
      "cell_type": "markdown",
      "source": [
        "\n",
        "\n",
        "---\n",
        "\n"
      ],
      "metadata": {
        "id": "xPnlsZy9RCj1"
      }
    },
    {
      "cell_type": "markdown",
      "source": [
        "\n",
        "\n",
        "---\n",
        "\n"
      ],
      "metadata": {
        "id": "_iFd0jRORDpF"
      }
    },
    {
      "cell_type": "markdown",
      "source": [
        "\n",
        "\n",
        "---\n",
        "\n"
      ],
      "metadata": {
        "id": "jZsGwxc-REbN"
      }
    },
    {
      "cell_type": "markdown",
      "source": [
        "**Hierarchical indexing** is an important feature of pandas that enables you to have multiple (two or more) index levels on an axis. Another way of thinking about it is that it provides a way for you to work with higher dimensional data in a lower dimensional form. Let’s start with a simple example: create a Series with a list of lists (or arrays) as the index:"
      ],
      "metadata": {
        "id": "tvk4wcvV5AV6"
      }
    },
    {
      "cell_type": "code",
      "execution_count": null,
      "metadata": {
        "id": "g_V73rqV38q9",
        "colab": {
          "base_uri": "https://localhost:8080/"
        },
        "outputId": "52e7ae63-de4d-4f03-f125-109e56a5a614"
      },
      "outputs": [
        {
          "output_type": "stream",
          "name": "stdout",
          "text": [
            "a  1    0.819729\n",
            "   2    1.591709\n",
            "   3   -0.380602\n",
            "b  1   -0.481111\n",
            "   3    0.321316\n",
            "c  1   -0.528414\n",
            "   2    1.701760\n",
            "d  2    0.112483\n",
            "   3    0.580383\n",
            "dtype: float64\n"
          ]
        }
      ],
      "source": [
        "data = pd.Series(np.random.randn(9),\n",
        "       index=[['a', 'a', 'a', 'b', 'b', 'c', 'c', 'd', 'd'],\n",
        "       [1, 2, 3, 1, 3, 1, 2, 2, 3]])\n",
        "\n",
        "print(data)    \n"
      ]
    },
    {
      "cell_type": "code",
      "source": [
        "corp = pd.Series(['first', 'second', 'third', 'fourth', 'fifth', 'sixth', 'seventh', 'eighth', 'ninth'], \n",
        "index=[['Americas', 'Americas', 'Americas', 'EMEA', 'EMEA', 'AsiaPac', 'AsiaPac', 'Corp', 'Corp'], \n",
        "[101, 201, 301, 101, 301, 101, 201, 201, 301]])\n",
        "\n",
        "print(corp)    "
      ],
      "metadata": {
        "colab": {
          "base_uri": "https://localhost:8080/"
        },
        "id": "ar0fBZEUZxtc",
        "outputId": "bc950741-dc63-4d8e-b890-7a1d9233190a"
      },
      "execution_count": null,
      "outputs": [
        {
          "output_type": "stream",
          "name": "stdout",
          "text": [
            "Americas  101      first\n",
            "          201     second\n",
            "          301      third\n",
            "EMEA      101     fourth\n",
            "          301      fifth\n",
            "AsiaPac   101      sixth\n",
            "          201    seventh\n",
            "Corp      201     eighth\n",
            "          301      ninth\n",
            "dtype: object\n"
          ]
        }
      ]
    },
    {
      "cell_type": "markdown",
      "source": [
        "What you’re seeing is a prettified view of a Series with a MultiIndex as its index. The “gaps” in the index display mean “use the label directly above”:"
      ],
      "metadata": {
        "id": "rLeimGEG6U4V"
      }
    },
    {
      "cell_type": "code",
      "source": [
        "print(data.index)"
      ],
      "metadata": {
        "id": "6e6X2uKN6WFp",
        "colab": {
          "base_uri": "https://localhost:8080/"
        },
        "outputId": "3bf40652-e260-4c66-efae-9a5eca8e2e60"
      },
      "execution_count": null,
      "outputs": [
        {
          "output_type": "stream",
          "name": "stdout",
          "text": [
            "MultiIndex([('a', 1),\n",
            "            ('a', 2),\n",
            "            ('a', 3),\n",
            "            ('b', 1),\n",
            "            ('b', 3),\n",
            "            ('c', 1),\n",
            "            ('c', 2),\n",
            "            ('d', 2),\n",
            "            ('d', 3)],\n",
            "           )\n"
          ]
        }
      ]
    },
    {
      "cell_type": "code",
      "source": [
        "print(corp.index)"
      ],
      "metadata": {
        "colab": {
          "base_uri": "https://localhost:8080/"
        },
        "id": "4GmEZg8scntM",
        "outputId": "f7bcce8e-3c59-402d-9e96-2bc80e5f2e4f"
      },
      "execution_count": null,
      "outputs": [
        {
          "output_type": "stream",
          "name": "stdout",
          "text": [
            "MultiIndex([('Americas', 101),\n",
            "            ('Americas', 201),\n",
            "            ('Americas', 301),\n",
            "            (    'EMEA', 101),\n",
            "            (    'EMEA', 301),\n",
            "            ( 'AsiaPac', 101),\n",
            "            ( 'AsiaPac', 201),\n",
            "            (    'Corp', 201),\n",
            "            (    'Corp', 301)],\n",
            "           )\n"
          ]
        }
      ]
    },
    {
      "cell_type": "markdown",
      "source": [
        "With a hierarchically indexed object, so-called partial indexing is possible, enabling you to concisely select subsets of the data:"
      ],
      "metadata": {
        "id": "IQx_BjNz6hsP"
      }
    },
    {
      "cell_type": "code",
      "source": [
        "data['b']"
      ],
      "metadata": {
        "id": "4wzj0-Zc6lSx",
        "colab": {
          "base_uri": "https://localhost:8080/"
        },
        "outputId": "cd94c5fc-1636-4eef-e0b4-9f2b13da3ab8"
      },
      "execution_count": null,
      "outputs": [
        {
          "output_type": "execute_result",
          "data": {
            "text/plain": [
              "1   -0.481111\n",
              "3    0.321316\n",
              "dtype: float64"
            ]
          },
          "metadata": {},
          "execution_count": 18
        }
      ]
    },
    {
      "cell_type": "code",
      "source": [
        "corp['EMEA']"
      ],
      "metadata": {
        "colab": {
          "base_uri": "https://localhost:8080/"
        },
        "id": "uaA-HtT2crEL",
        "outputId": "cf2f7cad-346e-410f-b2c5-b8c2c9937a57"
      },
      "execution_count": null,
      "outputs": [
        {
          "output_type": "execute_result",
          "data": {
            "text/plain": [
              "101    fourth\n",
              "301     fifth\n",
              "dtype: object"
            ]
          },
          "metadata": {},
          "execution_count": 28
        }
      ]
    },
    {
      "cell_type": "code",
      "source": [
        "data['c']"
      ],
      "metadata": {
        "colab": {
          "base_uri": "https://localhost:8080/"
        },
        "id": "VB16R24tbMGI",
        "outputId": "7760294b-c229-42c1-ef1b-2a24d374d276"
      },
      "execution_count": null,
      "outputs": [
        {
          "output_type": "execute_result",
          "data": {
            "text/plain": [
              "1   -0.528414\n",
              "2    1.701760\n",
              "dtype: float64"
            ]
          },
          "metadata": {},
          "execution_count": 20
        }
      ]
    },
    {
      "cell_type": "code",
      "source": [
        "data['b':'c']"
      ],
      "metadata": {
        "colab": {
          "base_uri": "https://localhost:8080/"
        },
        "id": "2Izd5mXBcWs0",
        "outputId": "fb61e38f-71d6-4931-dfa3-b21bb32e21c5"
      },
      "execution_count": null,
      "outputs": [
        {
          "output_type": "execute_result",
          "data": {
            "text/plain": [
              "b  1   -0.481111\n",
              "   3    0.321316\n",
              "c  1   -0.528414\n",
              "   2    1.701760\n",
              "dtype: float64"
            ]
          },
          "metadata": {},
          "execution_count": 24
        }
      ]
    },
    {
      "cell_type": "code",
      "source": [
        "data['b':'d']"
      ],
      "metadata": {
        "id": "7qcenCnW6pNY",
        "colab": {
          "base_uri": "https://localhost:8080/"
        },
        "outputId": "96869cea-8521-4ff5-aeca-893401cb64a0"
      },
      "execution_count": null,
      "outputs": [
        {
          "output_type": "execute_result",
          "data": {
            "text/plain": [
              "b  1   -0.481111\n",
              "   3    0.321316\n",
              "c  1   -0.528414\n",
              "   2    1.701760\n",
              "d  2    0.112483\n",
              "   3    0.580383\n",
              "dtype: float64"
            ]
          },
          "metadata": {},
          "execution_count": 23
        }
      ]
    },
    {
      "cell_type": "code",
      "source": [
        "data.loc[['b', 'd']]"
      ],
      "metadata": {
        "id": "vdFLyCP26xMn",
        "colab": {
          "base_uri": "https://localhost:8080/"
        },
        "outputId": "e077f74a-a2b8-4b2b-ec03-1b5c7ccdf9fa"
      },
      "execution_count": null,
      "outputs": [
        {
          "output_type": "execute_result",
          "data": {
            "text/plain": [
              "b  1   -0.481111\n",
              "   3    0.321316\n",
              "d  2    0.112483\n",
              "   3    0.580383\n",
              "dtype: float64"
            ]
          },
          "metadata": {},
          "execution_count": 22
        }
      ]
    },
    {
      "cell_type": "code",
      "source": [
        "corp.loc[['EMEA', 'Americas', 'AsiaPac']]"
      ],
      "metadata": {
        "colab": {
          "base_uri": "https://localhost:8080/"
        },
        "id": "ABivpcHpcv2w",
        "outputId": "95c592d1-3697-4ad7-cb48-dcc73bcf14f7"
      },
      "execution_count": null,
      "outputs": [
        {
          "output_type": "execute_result",
          "data": {
            "text/plain": [
              "EMEA      101     fourth\n",
              "          301      fifth\n",
              "Americas  101      first\n",
              "          201     second\n",
              "          301      third\n",
              "AsiaPac   101      sixth\n",
              "          201    seventh\n",
              "dtype: object"
            ]
          },
          "metadata": {},
          "execution_count": 29
        }
      ]
    },
    {
      "cell_type": "markdown",
      "source": [
        "Selection is even possible from an “inner” level. Here I select all of the values having the value \"2\" from the second index level:"
      ],
      "metadata": {
        "id": "FJqLoPqf61e1"
      }
    },
    {
      "cell_type": "code",
      "source": [
        "data.loc[:, 2]"
      ],
      "metadata": {
        "id": "KbR__x5B62Wx",
        "colab": {
          "base_uri": "https://localhost:8080/"
        },
        "outputId": "dab92276-a283-4fd8-db02-6217d17cc3d9"
      },
      "execution_count": null,
      "outputs": [
        {
          "output_type": "execute_result",
          "data": {
            "text/plain": [
              "a    1.591709\n",
              "c    1.701760\n",
              "d    0.112483\n",
              "dtype: float64"
            ]
          },
          "metadata": {},
          "execution_count": 30
        }
      ]
    },
    {
      "cell_type": "code",
      "source": [
        "corp.loc[:,201]"
      ],
      "metadata": {
        "colab": {
          "base_uri": "https://localhost:8080/"
        },
        "id": "z6Q2sgPMdR6a",
        "outputId": "8650fbde-594d-4b47-eb9d-5af1f55fda99"
      },
      "execution_count": null,
      "outputs": [
        {
          "output_type": "execute_result",
          "data": {
            "text/plain": [
              "Americas     second\n",
              "AsiaPac     seventh\n",
              "Corp         eighth\n",
              "dtype: object"
            ]
          },
          "metadata": {},
          "execution_count": 32
        }
      ]
    },
    {
      "cell_type": "markdown",
      "source": [
        "Hierarchical indexing plays an important role in reshaping data and group-based operations like forming a pivot table. For example, you can rearrange this data into a DataFrame using its `unstack` method:"
      ],
      "metadata": {
        "id": "J4EMUDYX6-Ki"
      }
    },
    {
      "cell_type": "code",
      "source": [
        "data.unstack()"
      ],
      "metadata": {
        "id": "i34gC42Z69gS",
        "colab": {
          "base_uri": "https://localhost:8080/",
          "height": 174
        },
        "outputId": "777f0875-1d05-457a-fadc-5290f2eaca30"
      },
      "execution_count": null,
      "outputs": [
        {
          "output_type": "execute_result",
          "data": {
            "text/plain": [
              "          1         2         3\n",
              "a  0.819729  1.591709 -0.380602\n",
              "b -0.481111       NaN  0.321316\n",
              "c -0.528414  1.701760       NaN\n",
              "d       NaN  0.112483  0.580383"
            ],
            "text/html": [
              "\n",
              "  <div id=\"df-0898e90b-0173-40fd-aa09-3724b4d6924e\">\n",
              "    <div class=\"colab-df-container\">\n",
              "      <div>\n",
              "<style scoped>\n",
              "    .dataframe tbody tr th:only-of-type {\n",
              "        vertical-align: middle;\n",
              "    }\n",
              "\n",
              "    .dataframe tbody tr th {\n",
              "        vertical-align: top;\n",
              "    }\n",
              "\n",
              "    .dataframe thead th {\n",
              "        text-align: right;\n",
              "    }\n",
              "</style>\n",
              "<table border=\"1\" class=\"dataframe\">\n",
              "  <thead>\n",
              "    <tr style=\"text-align: right;\">\n",
              "      <th></th>\n",
              "      <th>1</th>\n",
              "      <th>2</th>\n",
              "      <th>3</th>\n",
              "    </tr>\n",
              "  </thead>\n",
              "  <tbody>\n",
              "    <tr>\n",
              "      <th>a</th>\n",
              "      <td>0.819729</td>\n",
              "      <td>1.591709</td>\n",
              "      <td>-0.380602</td>\n",
              "    </tr>\n",
              "    <tr>\n",
              "      <th>b</th>\n",
              "      <td>-0.481111</td>\n",
              "      <td>NaN</td>\n",
              "      <td>0.321316</td>\n",
              "    </tr>\n",
              "    <tr>\n",
              "      <th>c</th>\n",
              "      <td>-0.528414</td>\n",
              "      <td>1.701760</td>\n",
              "      <td>NaN</td>\n",
              "    </tr>\n",
              "    <tr>\n",
              "      <th>d</th>\n",
              "      <td>NaN</td>\n",
              "      <td>0.112483</td>\n",
              "      <td>0.580383</td>\n",
              "    </tr>\n",
              "  </tbody>\n",
              "</table>\n",
              "</div>\n",
              "      <button class=\"colab-df-convert\" onclick=\"convertToInteractive('df-0898e90b-0173-40fd-aa09-3724b4d6924e')\"\n",
              "              title=\"Convert this dataframe to an interactive table.\"\n",
              "              style=\"display:none;\">\n",
              "        \n",
              "  <svg xmlns=\"http://www.w3.org/2000/svg\" height=\"24px\"viewBox=\"0 0 24 24\"\n",
              "       width=\"24px\">\n",
              "    <path d=\"M0 0h24v24H0V0z\" fill=\"none\"/>\n",
              "    <path d=\"M18.56 5.44l.94 2.06.94-2.06 2.06-.94-2.06-.94-.94-2.06-.94 2.06-2.06.94zm-11 1L8.5 8.5l.94-2.06 2.06-.94-2.06-.94L8.5 2.5l-.94 2.06-2.06.94zm10 10l.94 2.06.94-2.06 2.06-.94-2.06-.94-.94-2.06-.94 2.06-2.06.94z\"/><path d=\"M17.41 7.96l-1.37-1.37c-.4-.4-.92-.59-1.43-.59-.52 0-1.04.2-1.43.59L10.3 9.45l-7.72 7.72c-.78.78-.78 2.05 0 2.83L4 21.41c.39.39.9.59 1.41.59.51 0 1.02-.2 1.41-.59l7.78-7.78 2.81-2.81c.8-.78.8-2.07 0-2.86zM5.41 20L4 18.59l7.72-7.72 1.47 1.35L5.41 20z\"/>\n",
              "  </svg>\n",
              "      </button>\n",
              "      \n",
              "  <style>\n",
              "    .colab-df-container {\n",
              "      display:flex;\n",
              "      flex-wrap:wrap;\n",
              "      gap: 12px;\n",
              "    }\n",
              "\n",
              "    .colab-df-convert {\n",
              "      background-color: #E8F0FE;\n",
              "      border: none;\n",
              "      border-radius: 50%;\n",
              "      cursor: pointer;\n",
              "      display: none;\n",
              "      fill: #1967D2;\n",
              "      height: 32px;\n",
              "      padding: 0 0 0 0;\n",
              "      width: 32px;\n",
              "    }\n",
              "\n",
              "    .colab-df-convert:hover {\n",
              "      background-color: #E2EBFA;\n",
              "      box-shadow: 0px 1px 2px rgba(60, 64, 67, 0.3), 0px 1px 3px 1px rgba(60, 64, 67, 0.15);\n",
              "      fill: #174EA6;\n",
              "    }\n",
              "\n",
              "    [theme=dark] .colab-df-convert {\n",
              "      background-color: #3B4455;\n",
              "      fill: #D2E3FC;\n",
              "    }\n",
              "\n",
              "    [theme=dark] .colab-df-convert:hover {\n",
              "      background-color: #434B5C;\n",
              "      box-shadow: 0px 1px 3px 1px rgba(0, 0, 0, 0.15);\n",
              "      filter: drop-shadow(0px 1px 2px rgba(0, 0, 0, 0.3));\n",
              "      fill: #FFFFFF;\n",
              "    }\n",
              "  </style>\n",
              "\n",
              "      <script>\n",
              "        const buttonEl =\n",
              "          document.querySelector('#df-0898e90b-0173-40fd-aa09-3724b4d6924e button.colab-df-convert');\n",
              "        buttonEl.style.display =\n",
              "          google.colab.kernel.accessAllowed ? 'block' : 'none';\n",
              "\n",
              "        async function convertToInteractive(key) {\n",
              "          const element = document.querySelector('#df-0898e90b-0173-40fd-aa09-3724b4d6924e');\n",
              "          const dataTable =\n",
              "            await google.colab.kernel.invokeFunction('convertToInteractive',\n",
              "                                                     [key], {});\n",
              "          if (!dataTable) return;\n",
              "\n",
              "          const docLinkHtml = 'Like what you see? Visit the ' +\n",
              "            '<a target=\"_blank\" href=https://colab.research.google.com/notebooks/data_table.ipynb>data table notebook</a>'\n",
              "            + ' to learn more about interactive tables.';\n",
              "          element.innerHTML = '';\n",
              "          dataTable['output_type'] = 'display_data';\n",
              "          await google.colab.output.renderOutput(dataTable, element);\n",
              "          const docLink = document.createElement('div');\n",
              "          docLink.innerHTML = docLinkHtml;\n",
              "          element.appendChild(docLink);\n",
              "        }\n",
              "      </script>\n",
              "    </div>\n",
              "  </div>\n",
              "  "
            ]
          },
          "metadata": {},
          "execution_count": 33
        }
      ]
    },
    {
      "cell_type": "code",
      "source": [
        "corp.unstack()"
      ],
      "metadata": {
        "colab": {
          "base_uri": "https://localhost:8080/",
          "height": 174
        },
        "id": "AI7NtxcXeKN1",
        "outputId": "4987c16e-aef6-43c4-cafa-e0aef7ab1303"
      },
      "execution_count": null,
      "outputs": [
        {
          "output_type": "execute_result",
          "data": {
            "text/plain": [
              "             101      201    301\n",
              "Americas   first   second  third\n",
              "AsiaPac    sixth  seventh    NaN\n",
              "Corp         NaN   eighth  ninth\n",
              "EMEA      fourth      NaN  fifth"
            ],
            "text/html": [
              "\n",
              "  <div id=\"df-6702b964-3761-4767-9b57-df80e1c5668a\">\n",
              "    <div class=\"colab-df-container\">\n",
              "      <div>\n",
              "<style scoped>\n",
              "    .dataframe tbody tr th:only-of-type {\n",
              "        vertical-align: middle;\n",
              "    }\n",
              "\n",
              "    .dataframe tbody tr th {\n",
              "        vertical-align: top;\n",
              "    }\n",
              "\n",
              "    .dataframe thead th {\n",
              "        text-align: right;\n",
              "    }\n",
              "</style>\n",
              "<table border=\"1\" class=\"dataframe\">\n",
              "  <thead>\n",
              "    <tr style=\"text-align: right;\">\n",
              "      <th></th>\n",
              "      <th>101</th>\n",
              "      <th>201</th>\n",
              "      <th>301</th>\n",
              "    </tr>\n",
              "  </thead>\n",
              "  <tbody>\n",
              "    <tr>\n",
              "      <th>Americas</th>\n",
              "      <td>first</td>\n",
              "      <td>second</td>\n",
              "      <td>third</td>\n",
              "    </tr>\n",
              "    <tr>\n",
              "      <th>AsiaPac</th>\n",
              "      <td>sixth</td>\n",
              "      <td>seventh</td>\n",
              "      <td>NaN</td>\n",
              "    </tr>\n",
              "    <tr>\n",
              "      <th>Corp</th>\n",
              "      <td>NaN</td>\n",
              "      <td>eighth</td>\n",
              "      <td>ninth</td>\n",
              "    </tr>\n",
              "    <tr>\n",
              "      <th>EMEA</th>\n",
              "      <td>fourth</td>\n",
              "      <td>NaN</td>\n",
              "      <td>fifth</td>\n",
              "    </tr>\n",
              "  </tbody>\n",
              "</table>\n",
              "</div>\n",
              "      <button class=\"colab-df-convert\" onclick=\"convertToInteractive('df-6702b964-3761-4767-9b57-df80e1c5668a')\"\n",
              "              title=\"Convert this dataframe to an interactive table.\"\n",
              "              style=\"display:none;\">\n",
              "        \n",
              "  <svg xmlns=\"http://www.w3.org/2000/svg\" height=\"24px\"viewBox=\"0 0 24 24\"\n",
              "       width=\"24px\">\n",
              "    <path d=\"M0 0h24v24H0V0z\" fill=\"none\"/>\n",
              "    <path d=\"M18.56 5.44l.94 2.06.94-2.06 2.06-.94-2.06-.94-.94-2.06-.94 2.06-2.06.94zm-11 1L8.5 8.5l.94-2.06 2.06-.94-2.06-.94L8.5 2.5l-.94 2.06-2.06.94zm10 10l.94 2.06.94-2.06 2.06-.94-2.06-.94-.94-2.06-.94 2.06-2.06.94z\"/><path d=\"M17.41 7.96l-1.37-1.37c-.4-.4-.92-.59-1.43-.59-.52 0-1.04.2-1.43.59L10.3 9.45l-7.72 7.72c-.78.78-.78 2.05 0 2.83L4 21.41c.39.39.9.59 1.41.59.51 0 1.02-.2 1.41-.59l7.78-7.78 2.81-2.81c.8-.78.8-2.07 0-2.86zM5.41 20L4 18.59l7.72-7.72 1.47 1.35L5.41 20z\"/>\n",
              "  </svg>\n",
              "      </button>\n",
              "      \n",
              "  <style>\n",
              "    .colab-df-container {\n",
              "      display:flex;\n",
              "      flex-wrap:wrap;\n",
              "      gap: 12px;\n",
              "    }\n",
              "\n",
              "    .colab-df-convert {\n",
              "      background-color: #E8F0FE;\n",
              "      border: none;\n",
              "      border-radius: 50%;\n",
              "      cursor: pointer;\n",
              "      display: none;\n",
              "      fill: #1967D2;\n",
              "      height: 32px;\n",
              "      padding: 0 0 0 0;\n",
              "      width: 32px;\n",
              "    }\n",
              "\n",
              "    .colab-df-convert:hover {\n",
              "      background-color: #E2EBFA;\n",
              "      box-shadow: 0px 1px 2px rgba(60, 64, 67, 0.3), 0px 1px 3px 1px rgba(60, 64, 67, 0.15);\n",
              "      fill: #174EA6;\n",
              "    }\n",
              "\n",
              "    [theme=dark] .colab-df-convert {\n",
              "      background-color: #3B4455;\n",
              "      fill: #D2E3FC;\n",
              "    }\n",
              "\n",
              "    [theme=dark] .colab-df-convert:hover {\n",
              "      background-color: #434B5C;\n",
              "      box-shadow: 0px 1px 3px 1px rgba(0, 0, 0, 0.15);\n",
              "      filter: drop-shadow(0px 1px 2px rgba(0, 0, 0, 0.3));\n",
              "      fill: #FFFFFF;\n",
              "    }\n",
              "  </style>\n",
              "\n",
              "      <script>\n",
              "        const buttonEl =\n",
              "          document.querySelector('#df-6702b964-3761-4767-9b57-df80e1c5668a button.colab-df-convert');\n",
              "        buttonEl.style.display =\n",
              "          google.colab.kernel.accessAllowed ? 'block' : 'none';\n",
              "\n",
              "        async function convertToInteractive(key) {\n",
              "          const element = document.querySelector('#df-6702b964-3761-4767-9b57-df80e1c5668a');\n",
              "          const dataTable =\n",
              "            await google.colab.kernel.invokeFunction('convertToInteractive',\n",
              "                                                     [key], {});\n",
              "          if (!dataTable) return;\n",
              "\n",
              "          const docLinkHtml = 'Like what you see? Visit the ' +\n",
              "            '<a target=\"_blank\" href=https://colab.research.google.com/notebooks/data_table.ipynb>data table notebook</a>'\n",
              "            + ' to learn more about interactive tables.';\n",
              "          element.innerHTML = '';\n",
              "          dataTable['output_type'] = 'display_data';\n",
              "          await google.colab.output.renderOutput(dataTable, element);\n",
              "          const docLink = document.createElement('div');\n",
              "          docLink.innerHTML = docLinkHtml;\n",
              "          element.appendChild(docLink);\n",
              "        }\n",
              "      </script>\n",
              "    </div>\n",
              "  </div>\n",
              "  "
            ]
          },
          "metadata": {},
          "execution_count": 34
        }
      ]
    },
    {
      "cell_type": "markdown",
      "source": [
        "The inverse operation of unstack is stack:"
      ],
      "metadata": {
        "id": "_PxERJLL7IKL"
      }
    },
    {
      "cell_type": "code",
      "source": [
        "data.unstack().stack()"
      ],
      "metadata": {
        "id": "-P0OOS1r7I2g",
        "colab": {
          "base_uri": "https://localhost:8080/"
        },
        "outputId": "24bb2730-31ea-42b1-fbd2-120f23b5a297"
      },
      "execution_count": null,
      "outputs": [
        {
          "output_type": "execute_result",
          "data": {
            "text/plain": [
              "a  1    0.819729\n",
              "   2    1.591709\n",
              "   3   -0.380602\n",
              "b  1   -0.481111\n",
              "   3    0.321316\n",
              "c  1   -0.528414\n",
              "   2    1.701760\n",
              "d  2    0.112483\n",
              "   3    0.580383\n",
              "dtype: float64"
            ]
          },
          "metadata": {},
          "execution_count": 35
        }
      ]
    },
    {
      "cell_type": "code",
      "source": [
        "corp.unstack().stack()"
      ],
      "metadata": {
        "colab": {
          "base_uri": "https://localhost:8080/"
        },
        "id": "BzcHfcTwehIF",
        "outputId": "210eb972-2106-4b5b-e4f2-f069ded8ee5c"
      },
      "execution_count": null,
      "outputs": [
        {
          "output_type": "execute_result",
          "data": {
            "text/plain": [
              "Americas  101      first\n",
              "          201     second\n",
              "          301      third\n",
              "AsiaPac   101      sixth\n",
              "          201    seventh\n",
              "Corp      201     eighth\n",
              "          301      ninth\n",
              "EMEA      101     fourth\n",
              "          301      fifth\n",
              "dtype: object"
            ]
          },
          "metadata": {},
          "execution_count": 36
        }
      ]
    },
    {
      "cell_type": "markdown",
      "source": [
        "`stack` and `unstack` are explored in more detail in [Chapter 8 of Wes Mckinney's Python for Data Analysis](https://wesmckinney.com/book/data-wrangling.html)."
      ],
      "metadata": {
        "id": "emgys0mZ7Omf"
      }
    },
    {
      "cell_type": "markdown",
      "source": [
        "With a DataFrame, either axis can have a hierarchical index:\n"
      ],
      "metadata": {
        "id": "6a4eZpNn7rw1"
      }
    },
    {
      "cell_type": "code",
      "source": [
        "frame = pd.DataFrame(np.arange(12).reshape((4, 3)),\n",
        "            index=[['a', 'a', 'b', 'b'], [1, 2, 1, 2]],\n",
        "            columns=[['Ohio', 'Ohio', 'Colorado'],\n",
        "            ['Green', 'Red', 'Green']])"
      ],
      "metadata": {
        "id": "Wp4Vg6yQ7tQM"
      },
      "execution_count": null,
      "outputs": []
    },
    {
      "cell_type": "code",
      "source": [
        "print(frame)"
      ],
      "metadata": {
        "id": "YC1Vpd8l7-IZ",
        "colab": {
          "base_uri": "https://localhost:8080/"
        },
        "outputId": "20815979-3f7a-4512-edcd-75c7812d7dc7"
      },
      "execution_count": null,
      "outputs": [
        {
          "output_type": "stream",
          "name": "stdout",
          "text": [
            "     Ohio     Colorado\n",
            "    Green Red    Green\n",
            "a 1     0   1        2\n",
            "  2     3   4        5\n",
            "b 1     6   7        8\n",
            "  2     9  10       11\n"
          ]
        }
      ]
    },
    {
      "cell_type": "markdown",
      "source": [
        "The hierarchical levels can have names (as strings or any Python objects). If so, these will show up in the console output:\n"
      ],
      "metadata": {
        "id": "qX2waJ9B78af"
      }
    },
    {
      "cell_type": "code",
      "source": [
        "# Assign key1 and key2 as `frame` index hierarchy names, respectively   \n",
        "frame.index.names = ['key1', 'key2'] \n",
        "\n",
        "# Assign state and color as `frame` column hierarchy names, respectively \n",
        "frame.columns.names = ['state', 'color']\n"
      ],
      "metadata": {
        "id": "69qy6EZ-8Fj4"
      },
      "execution_count": null,
      "outputs": []
    },
    {
      "cell_type": "code",
      "source": [
        "print(frame)"
      ],
      "metadata": {
        "id": "sjqGsIVu8IYM",
        "colab": {
          "base_uri": "https://localhost:8080/"
        },
        "outputId": "5dcadff8-7e69-413a-e954-c36870b90a9b"
      },
      "execution_count": null,
      "outputs": [
        {
          "output_type": "stream",
          "name": "stdout",
          "text": [
            "state      Ohio     Colorado\n",
            "color     Green Red    Green\n",
            "key1 key2                   \n",
            "a    1        0   1        2\n",
            "     2        3   4        5\n",
            "b    1        6   7        8\n",
            "     2        9  10       11\n"
          ]
        }
      ]
    },
    {
      "cell_type": "code",
      "source": [
        "# Assign key1 and key2 as `frame` index hierarchy names, respectively   \n",
        "frame.index.names = ['Region', 'Product'] \n",
        "\n",
        "# Assign state and color as `frame` column hierarchy names, respectively \n",
        "frame.columns.names = ['state', 'color']"
      ],
      "metadata": {
        "id": "0IGlQgAefb8_"
      },
      "execution_count": null,
      "outputs": []
    },
    {
      "cell_type": "code",
      "source": [
        "print(frame)"
      ],
      "metadata": {
        "colab": {
          "base_uri": "https://localhost:8080/"
        },
        "id": "D-rNkuFRfgpv",
        "outputId": "76789a67-3b38-452f-ed33-48ef299a71c5"
      },
      "execution_count": null,
      "outputs": [
        {
          "output_type": "stream",
          "name": "stdout",
          "text": [
            "state           Ohio     Colorado\n",
            "color          Green Red    Green\n",
            "Region Product                   \n",
            "a      1           0   1        2\n",
            "       2           3   4        5\n",
            "b      1           6   7        8\n",
            "       2           9  10       11\n"
          ]
        }
      ]
    },
    {
      "cell_type": "markdown",
      "source": [
        "***Caution***    \n",
        "*Be careful to note the index names 'state' and 'color' are not part of the row labels (the `frame.index values`).*"
      ],
      "metadata": {
        "id": "19U_Km-28sN3"
      }
    },
    {
      "cell_type": "markdown",
      "source": [
        "With partial column indexing you can similarly select groups of columns:"
      ],
      "metadata": {
        "id": "WejlpZBF89yx"
      }
    },
    {
      "cell_type": "code",
      "source": [
        "frame['Ohio']"
      ],
      "metadata": {
        "id": "VtvBZ-Se8-wk",
        "colab": {
          "base_uri": "https://localhost:8080/",
          "height": 206
        },
        "outputId": "c8b52414-4ebf-400f-bd0f-9a759f23ac09"
      },
      "execution_count": null,
      "outputs": [
        {
          "output_type": "execute_result",
          "data": {
            "text/plain": [
              "color           Green  Red\n",
              "Region Product            \n",
              "a      1            0    1\n",
              "       2            3    4\n",
              "b      1            6    7\n",
              "       2            9   10"
            ],
            "text/html": [
              "\n",
              "  <div id=\"df-ba2cf921-4043-4a89-99fc-3799b0f09a4c\">\n",
              "    <div class=\"colab-df-container\">\n",
              "      <div>\n",
              "<style scoped>\n",
              "    .dataframe tbody tr th:only-of-type {\n",
              "        vertical-align: middle;\n",
              "    }\n",
              "\n",
              "    .dataframe tbody tr th {\n",
              "        vertical-align: top;\n",
              "    }\n",
              "\n",
              "    .dataframe thead th {\n",
              "        text-align: right;\n",
              "    }\n",
              "</style>\n",
              "<table border=\"1\" class=\"dataframe\">\n",
              "  <thead>\n",
              "    <tr style=\"text-align: right;\">\n",
              "      <th></th>\n",
              "      <th>color</th>\n",
              "      <th>Green</th>\n",
              "      <th>Red</th>\n",
              "    </tr>\n",
              "    <tr>\n",
              "      <th>Region</th>\n",
              "      <th>Product</th>\n",
              "      <th></th>\n",
              "      <th></th>\n",
              "    </tr>\n",
              "  </thead>\n",
              "  <tbody>\n",
              "    <tr>\n",
              "      <th rowspan=\"2\" valign=\"top\">a</th>\n",
              "      <th>1</th>\n",
              "      <td>0</td>\n",
              "      <td>1</td>\n",
              "    </tr>\n",
              "    <tr>\n",
              "      <th>2</th>\n",
              "      <td>3</td>\n",
              "      <td>4</td>\n",
              "    </tr>\n",
              "    <tr>\n",
              "      <th rowspan=\"2\" valign=\"top\">b</th>\n",
              "      <th>1</th>\n",
              "      <td>6</td>\n",
              "      <td>7</td>\n",
              "    </tr>\n",
              "    <tr>\n",
              "      <th>2</th>\n",
              "      <td>9</td>\n",
              "      <td>10</td>\n",
              "    </tr>\n",
              "  </tbody>\n",
              "</table>\n",
              "</div>\n",
              "      <button class=\"colab-df-convert\" onclick=\"convertToInteractive('df-ba2cf921-4043-4a89-99fc-3799b0f09a4c')\"\n",
              "              title=\"Convert this dataframe to an interactive table.\"\n",
              "              style=\"display:none;\">\n",
              "        \n",
              "  <svg xmlns=\"http://www.w3.org/2000/svg\" height=\"24px\"viewBox=\"0 0 24 24\"\n",
              "       width=\"24px\">\n",
              "    <path d=\"M0 0h24v24H0V0z\" fill=\"none\"/>\n",
              "    <path d=\"M18.56 5.44l.94 2.06.94-2.06 2.06-.94-2.06-.94-.94-2.06-.94 2.06-2.06.94zm-11 1L8.5 8.5l.94-2.06 2.06-.94-2.06-.94L8.5 2.5l-.94 2.06-2.06.94zm10 10l.94 2.06.94-2.06 2.06-.94-2.06-.94-.94-2.06-.94 2.06-2.06.94z\"/><path d=\"M17.41 7.96l-1.37-1.37c-.4-.4-.92-.59-1.43-.59-.52 0-1.04.2-1.43.59L10.3 9.45l-7.72 7.72c-.78.78-.78 2.05 0 2.83L4 21.41c.39.39.9.59 1.41.59.51 0 1.02-.2 1.41-.59l7.78-7.78 2.81-2.81c.8-.78.8-2.07 0-2.86zM5.41 20L4 18.59l7.72-7.72 1.47 1.35L5.41 20z\"/>\n",
              "  </svg>\n",
              "      </button>\n",
              "      \n",
              "  <style>\n",
              "    .colab-df-container {\n",
              "      display:flex;\n",
              "      flex-wrap:wrap;\n",
              "      gap: 12px;\n",
              "    }\n",
              "\n",
              "    .colab-df-convert {\n",
              "      background-color: #E8F0FE;\n",
              "      border: none;\n",
              "      border-radius: 50%;\n",
              "      cursor: pointer;\n",
              "      display: none;\n",
              "      fill: #1967D2;\n",
              "      height: 32px;\n",
              "      padding: 0 0 0 0;\n",
              "      width: 32px;\n",
              "    }\n",
              "\n",
              "    .colab-df-convert:hover {\n",
              "      background-color: #E2EBFA;\n",
              "      box-shadow: 0px 1px 2px rgba(60, 64, 67, 0.3), 0px 1px 3px 1px rgba(60, 64, 67, 0.15);\n",
              "      fill: #174EA6;\n",
              "    }\n",
              "\n",
              "    [theme=dark] .colab-df-convert {\n",
              "      background-color: #3B4455;\n",
              "      fill: #D2E3FC;\n",
              "    }\n",
              "\n",
              "    [theme=dark] .colab-df-convert:hover {\n",
              "      background-color: #434B5C;\n",
              "      box-shadow: 0px 1px 3px 1px rgba(0, 0, 0, 0.15);\n",
              "      filter: drop-shadow(0px 1px 2px rgba(0, 0, 0, 0.3));\n",
              "      fill: #FFFFFF;\n",
              "    }\n",
              "  </style>\n",
              "\n",
              "      <script>\n",
              "        const buttonEl =\n",
              "          document.querySelector('#df-ba2cf921-4043-4a89-99fc-3799b0f09a4c button.colab-df-convert');\n",
              "        buttonEl.style.display =\n",
              "          google.colab.kernel.accessAllowed ? 'block' : 'none';\n",
              "\n",
              "        async function convertToInteractive(key) {\n",
              "          const element = document.querySelector('#df-ba2cf921-4043-4a89-99fc-3799b0f09a4c');\n",
              "          const dataTable =\n",
              "            await google.colab.kernel.invokeFunction('convertToInteractive',\n",
              "                                                     [key], {});\n",
              "          if (!dataTable) return;\n",
              "\n",
              "          const docLinkHtml = 'Like what you see? Visit the ' +\n",
              "            '<a target=\"_blank\" href=https://colab.research.google.com/notebooks/data_table.ipynb>data table notebook</a>'\n",
              "            + ' to learn more about interactive tables.';\n",
              "          element.innerHTML = '';\n",
              "          dataTable['output_type'] = 'display_data';\n",
              "          await google.colab.output.renderOutput(dataTable, element);\n",
              "          const docLink = document.createElement('div');\n",
              "          docLink.innerHTML = docLinkHtml;\n",
              "          element.appendChild(docLink);\n",
              "        }\n",
              "      </script>\n",
              "    </div>\n",
              "  </div>\n",
              "  "
            ]
          },
          "metadata": {},
          "execution_count": 43
        }
      ]
    },
    {
      "cell_type": "markdown",
      "source": [
        "A `MultiIndex` can be created by itself and then reused; the columns in the preceding DataFrame with level names could be created like this:"
      ],
      "metadata": {
        "id": "iZ6wW0o39CpZ"
      }
    },
    {
      "cell_type": "code",
      "source": [
        "pd.MultiIndex.from_arrays([['Ohio', 'Ohio', 'Colorado'],\n",
        "                          ['Green', 'Red', 'Green']],\n",
        "                          names=['state', 'color'])"
      ],
      "metadata": {
        "id": "XitjF5F69NfU",
        "colab": {
          "base_uri": "https://localhost:8080/"
        },
        "outputId": "f1f10c59-aff7-4a10-ba6c-aec9ca8add33"
      },
      "execution_count": null,
      "outputs": [
        {
          "output_type": "execute_result",
          "data": {
            "text/plain": [
              "MultiIndex([(    'Ohio', 'Green'),\n",
              "            (    'Ohio',   'Red'),\n",
              "            ('Colorado', 'Green')],\n",
              "           names=['state', 'color'])"
            ]
          },
          "metadata": {},
          "execution_count": 44
        }
      ]
    },
    {
      "cell_type": "markdown",
      "source": [
        "##Reordering and Sorting Levels    \n",
        "\n"
      ],
      "metadata": {
        "id": "GS9z_gY89ZeV"
      }
    },
    {
      "cell_type": "markdown",
      "source": [
        "At times you may need to rearrange the order of the levels on an axis or sort the data by the values in one specific level. The swaplevel takes two level numbers or names and returns a new object with the levels interchanged (but the data is otherwise unaltered):"
      ],
      "metadata": {
        "id": "R8gXzYP_9et8"
      }
    },
    {
      "cell_type": "code",
      "source": [
        "frame.swaplevel('key1', 'key2')"
      ],
      "metadata": {
        "id": "oqCC8GXc9fyr",
        "colab": {
          "base_uri": "https://localhost:8080/",
          "height": 238
        },
        "outputId": "8cf69b54-7732-4079-ba3d-6cbbd9bd3060"
      },
      "execution_count": null,
      "outputs": [
        {
          "output_type": "execute_result",
          "data": {
            "text/plain": [
              "state      Ohio     Colorado\n",
              "color     Green Red    Green\n",
              "key2 key1                   \n",
              "1    a        0   1        2\n",
              "2    a        3   4        5\n",
              "1    b        6   7        8\n",
              "2    b        9  10       11"
            ],
            "text/html": [
              "\n",
              "  <div id=\"df-a931ef0c-eb3f-4c82-8a0a-1e3fd95a420a\">\n",
              "    <div class=\"colab-df-container\">\n",
              "      <div>\n",
              "<style scoped>\n",
              "    .dataframe tbody tr th:only-of-type {\n",
              "        vertical-align: middle;\n",
              "    }\n",
              "\n",
              "    .dataframe tbody tr th {\n",
              "        vertical-align: top;\n",
              "    }\n",
              "\n",
              "    .dataframe thead tr th {\n",
              "        text-align: left;\n",
              "    }\n",
              "\n",
              "    .dataframe thead tr:last-of-type th {\n",
              "        text-align: right;\n",
              "    }\n",
              "</style>\n",
              "<table border=\"1\" class=\"dataframe\">\n",
              "  <thead>\n",
              "    <tr>\n",
              "      <th></th>\n",
              "      <th>state</th>\n",
              "      <th colspan=\"2\" halign=\"left\">Ohio</th>\n",
              "      <th>Colorado</th>\n",
              "    </tr>\n",
              "    <tr>\n",
              "      <th></th>\n",
              "      <th>color</th>\n",
              "      <th>Green</th>\n",
              "      <th>Red</th>\n",
              "      <th>Green</th>\n",
              "    </tr>\n",
              "    <tr>\n",
              "      <th>key2</th>\n",
              "      <th>key1</th>\n",
              "      <th></th>\n",
              "      <th></th>\n",
              "      <th></th>\n",
              "    </tr>\n",
              "  </thead>\n",
              "  <tbody>\n",
              "    <tr>\n",
              "      <th>1</th>\n",
              "      <th>a</th>\n",
              "      <td>0</td>\n",
              "      <td>1</td>\n",
              "      <td>2</td>\n",
              "    </tr>\n",
              "    <tr>\n",
              "      <th>2</th>\n",
              "      <th>a</th>\n",
              "      <td>3</td>\n",
              "      <td>4</td>\n",
              "      <td>5</td>\n",
              "    </tr>\n",
              "    <tr>\n",
              "      <th>1</th>\n",
              "      <th>b</th>\n",
              "      <td>6</td>\n",
              "      <td>7</td>\n",
              "      <td>8</td>\n",
              "    </tr>\n",
              "    <tr>\n",
              "      <th>2</th>\n",
              "      <th>b</th>\n",
              "      <td>9</td>\n",
              "      <td>10</td>\n",
              "      <td>11</td>\n",
              "    </tr>\n",
              "  </tbody>\n",
              "</table>\n",
              "</div>\n",
              "      <button class=\"colab-df-convert\" onclick=\"convertToInteractive('df-a931ef0c-eb3f-4c82-8a0a-1e3fd95a420a')\"\n",
              "              title=\"Convert this dataframe to an interactive table.\"\n",
              "              style=\"display:none;\">\n",
              "        \n",
              "  <svg xmlns=\"http://www.w3.org/2000/svg\" height=\"24px\"viewBox=\"0 0 24 24\"\n",
              "       width=\"24px\">\n",
              "    <path d=\"M0 0h24v24H0V0z\" fill=\"none\"/>\n",
              "    <path d=\"M18.56 5.44l.94 2.06.94-2.06 2.06-.94-2.06-.94-.94-2.06-.94 2.06-2.06.94zm-11 1L8.5 8.5l.94-2.06 2.06-.94-2.06-.94L8.5 2.5l-.94 2.06-2.06.94zm10 10l.94 2.06.94-2.06 2.06-.94-2.06-.94-.94-2.06-.94 2.06-2.06.94z\"/><path d=\"M17.41 7.96l-1.37-1.37c-.4-.4-.92-.59-1.43-.59-.52 0-1.04.2-1.43.59L10.3 9.45l-7.72 7.72c-.78.78-.78 2.05 0 2.83L4 21.41c.39.39.9.59 1.41.59.51 0 1.02-.2 1.41-.59l7.78-7.78 2.81-2.81c.8-.78.8-2.07 0-2.86zM5.41 20L4 18.59l7.72-7.72 1.47 1.35L5.41 20z\"/>\n",
              "  </svg>\n",
              "      </button>\n",
              "      \n",
              "  <style>\n",
              "    .colab-df-container {\n",
              "      display:flex;\n",
              "      flex-wrap:wrap;\n",
              "      gap: 12px;\n",
              "    }\n",
              "\n",
              "    .colab-df-convert {\n",
              "      background-color: #E8F0FE;\n",
              "      border: none;\n",
              "      border-radius: 50%;\n",
              "      cursor: pointer;\n",
              "      display: none;\n",
              "      fill: #1967D2;\n",
              "      height: 32px;\n",
              "      padding: 0 0 0 0;\n",
              "      width: 32px;\n",
              "    }\n",
              "\n",
              "    .colab-df-convert:hover {\n",
              "      background-color: #E2EBFA;\n",
              "      box-shadow: 0px 1px 2px rgba(60, 64, 67, 0.3), 0px 1px 3px 1px rgba(60, 64, 67, 0.15);\n",
              "      fill: #174EA6;\n",
              "    }\n",
              "\n",
              "    [theme=dark] .colab-df-convert {\n",
              "      background-color: #3B4455;\n",
              "      fill: #D2E3FC;\n",
              "    }\n",
              "\n",
              "    [theme=dark] .colab-df-convert:hover {\n",
              "      background-color: #434B5C;\n",
              "      box-shadow: 0px 1px 3px 1px rgba(0, 0, 0, 0.15);\n",
              "      filter: drop-shadow(0px 1px 2px rgba(0, 0, 0, 0.3));\n",
              "      fill: #FFFFFF;\n",
              "    }\n",
              "  </style>\n",
              "\n",
              "      <script>\n",
              "        const buttonEl =\n",
              "          document.querySelector('#df-a931ef0c-eb3f-4c82-8a0a-1e3fd95a420a button.colab-df-convert');\n",
              "        buttonEl.style.display =\n",
              "          google.colab.kernel.accessAllowed ? 'block' : 'none';\n",
              "\n",
              "        async function convertToInteractive(key) {\n",
              "          const element = document.querySelector('#df-a931ef0c-eb3f-4c82-8a0a-1e3fd95a420a');\n",
              "          const dataTable =\n",
              "            await google.colab.kernel.invokeFunction('convertToInteractive',\n",
              "                                                     [key], {});\n",
              "          if (!dataTable) return;\n",
              "\n",
              "          const docLinkHtml = 'Like what you see? Visit the ' +\n",
              "            '<a target=\"_blank\" href=https://colab.research.google.com/notebooks/data_table.ipynb>data table notebook</a>'\n",
              "            + ' to learn more about interactive tables.';\n",
              "          element.innerHTML = '';\n",
              "          dataTable['output_type'] = 'display_data';\n",
              "          await google.colab.output.renderOutput(dataTable, element);\n",
              "          const docLink = document.createElement('div');\n",
              "          docLink.innerHTML = docLinkHtml;\n",
              "          element.appendChild(docLink);\n",
              "        }\n",
              "      </script>\n",
              "    </div>\n",
              "  </div>\n",
              "  "
            ]
          },
          "metadata": {},
          "execution_count": 47
        }
      ]
    },
    {
      "cell_type": "markdown",
      "source": [
        "`sort_index`, on the other hand, sorts the data using only the values in a single level. When swapping levels, it’s not uncommon to also use `sort_index` so that the result is lexicographically sorted by the indicated level:"
      ],
      "metadata": {
        "id": "UQ3xB28n9ls1"
      }
    },
    {
      "cell_type": "code",
      "source": [
        "frame.sort_index(level=1)"
      ],
      "metadata": {
        "id": "yyWwJuuZ9rq8",
        "colab": {
          "base_uri": "https://localhost:8080/",
          "height": 238
        },
        "outputId": "7e41e6b1-e3fb-45c5-b1da-14394d0ac54c"
      },
      "execution_count": null,
      "outputs": [
        {
          "output_type": "execute_result",
          "data": {
            "text/plain": [
              "state      Ohio     Colorado\n",
              "color     Green Red    Green\n",
              "key1 key2                   \n",
              "a    1        0   1        2\n",
              "b    1        6   7        8\n",
              "a    2        3   4        5\n",
              "b    2        9  10       11"
            ],
            "text/html": [
              "\n",
              "  <div id=\"df-0d5bde95-28fa-444a-9505-828c397bcfe6\">\n",
              "    <div class=\"colab-df-container\">\n",
              "      <div>\n",
              "<style scoped>\n",
              "    .dataframe tbody tr th:only-of-type {\n",
              "        vertical-align: middle;\n",
              "    }\n",
              "\n",
              "    .dataframe tbody tr th {\n",
              "        vertical-align: top;\n",
              "    }\n",
              "\n",
              "    .dataframe thead tr th {\n",
              "        text-align: left;\n",
              "    }\n",
              "\n",
              "    .dataframe thead tr:last-of-type th {\n",
              "        text-align: right;\n",
              "    }\n",
              "</style>\n",
              "<table border=\"1\" class=\"dataframe\">\n",
              "  <thead>\n",
              "    <tr>\n",
              "      <th></th>\n",
              "      <th>state</th>\n",
              "      <th colspan=\"2\" halign=\"left\">Ohio</th>\n",
              "      <th>Colorado</th>\n",
              "    </tr>\n",
              "    <tr>\n",
              "      <th></th>\n",
              "      <th>color</th>\n",
              "      <th>Green</th>\n",
              "      <th>Red</th>\n",
              "      <th>Green</th>\n",
              "    </tr>\n",
              "    <tr>\n",
              "      <th>key1</th>\n",
              "      <th>key2</th>\n",
              "      <th></th>\n",
              "      <th></th>\n",
              "      <th></th>\n",
              "    </tr>\n",
              "  </thead>\n",
              "  <tbody>\n",
              "    <tr>\n",
              "      <th>a</th>\n",
              "      <th>1</th>\n",
              "      <td>0</td>\n",
              "      <td>1</td>\n",
              "      <td>2</td>\n",
              "    </tr>\n",
              "    <tr>\n",
              "      <th>b</th>\n",
              "      <th>1</th>\n",
              "      <td>6</td>\n",
              "      <td>7</td>\n",
              "      <td>8</td>\n",
              "    </tr>\n",
              "    <tr>\n",
              "      <th>a</th>\n",
              "      <th>2</th>\n",
              "      <td>3</td>\n",
              "      <td>4</td>\n",
              "      <td>5</td>\n",
              "    </tr>\n",
              "    <tr>\n",
              "      <th>b</th>\n",
              "      <th>2</th>\n",
              "      <td>9</td>\n",
              "      <td>10</td>\n",
              "      <td>11</td>\n",
              "    </tr>\n",
              "  </tbody>\n",
              "</table>\n",
              "</div>\n",
              "      <button class=\"colab-df-convert\" onclick=\"convertToInteractive('df-0d5bde95-28fa-444a-9505-828c397bcfe6')\"\n",
              "              title=\"Convert this dataframe to an interactive table.\"\n",
              "              style=\"display:none;\">\n",
              "        \n",
              "  <svg xmlns=\"http://www.w3.org/2000/svg\" height=\"24px\"viewBox=\"0 0 24 24\"\n",
              "       width=\"24px\">\n",
              "    <path d=\"M0 0h24v24H0V0z\" fill=\"none\"/>\n",
              "    <path d=\"M18.56 5.44l.94 2.06.94-2.06 2.06-.94-2.06-.94-.94-2.06-.94 2.06-2.06.94zm-11 1L8.5 8.5l.94-2.06 2.06-.94-2.06-.94L8.5 2.5l-.94 2.06-2.06.94zm10 10l.94 2.06.94-2.06 2.06-.94-2.06-.94-.94-2.06-.94 2.06-2.06.94z\"/><path d=\"M17.41 7.96l-1.37-1.37c-.4-.4-.92-.59-1.43-.59-.52 0-1.04.2-1.43.59L10.3 9.45l-7.72 7.72c-.78.78-.78 2.05 0 2.83L4 21.41c.39.39.9.59 1.41.59.51 0 1.02-.2 1.41-.59l7.78-7.78 2.81-2.81c.8-.78.8-2.07 0-2.86zM5.41 20L4 18.59l7.72-7.72 1.47 1.35L5.41 20z\"/>\n",
              "  </svg>\n",
              "      </button>\n",
              "      \n",
              "  <style>\n",
              "    .colab-df-container {\n",
              "      display:flex;\n",
              "      flex-wrap:wrap;\n",
              "      gap: 12px;\n",
              "    }\n",
              "\n",
              "    .colab-df-convert {\n",
              "      background-color: #E8F0FE;\n",
              "      border: none;\n",
              "      border-radius: 50%;\n",
              "      cursor: pointer;\n",
              "      display: none;\n",
              "      fill: #1967D2;\n",
              "      height: 32px;\n",
              "      padding: 0 0 0 0;\n",
              "      width: 32px;\n",
              "    }\n",
              "\n",
              "    .colab-df-convert:hover {\n",
              "      background-color: #E2EBFA;\n",
              "      box-shadow: 0px 1px 2px rgba(60, 64, 67, 0.3), 0px 1px 3px 1px rgba(60, 64, 67, 0.15);\n",
              "      fill: #174EA6;\n",
              "    }\n",
              "\n",
              "    [theme=dark] .colab-df-convert {\n",
              "      background-color: #3B4455;\n",
              "      fill: #D2E3FC;\n",
              "    }\n",
              "\n",
              "    [theme=dark] .colab-df-convert:hover {\n",
              "      background-color: #434B5C;\n",
              "      box-shadow: 0px 1px 3px 1px rgba(0, 0, 0, 0.15);\n",
              "      filter: drop-shadow(0px 1px 2px rgba(0, 0, 0, 0.3));\n",
              "      fill: #FFFFFF;\n",
              "    }\n",
              "  </style>\n",
              "\n",
              "      <script>\n",
              "        const buttonEl =\n",
              "          document.querySelector('#df-0d5bde95-28fa-444a-9505-828c397bcfe6 button.colab-df-convert');\n",
              "        buttonEl.style.display =\n",
              "          google.colab.kernel.accessAllowed ? 'block' : 'none';\n",
              "\n",
              "        async function convertToInteractive(key) {\n",
              "          const element = document.querySelector('#df-0d5bde95-28fa-444a-9505-828c397bcfe6');\n",
              "          const dataTable =\n",
              "            await google.colab.kernel.invokeFunction('convertToInteractive',\n",
              "                                                     [key], {});\n",
              "          if (!dataTable) return;\n",
              "\n",
              "          const docLinkHtml = 'Like what you see? Visit the ' +\n",
              "            '<a target=\"_blank\" href=https://colab.research.google.com/notebooks/data_table.ipynb>data table notebook</a>'\n",
              "            + ' to learn more about interactive tables.';\n",
              "          element.innerHTML = '';\n",
              "          dataTable['output_type'] = 'display_data';\n",
              "          await google.colab.output.renderOutput(dataTable, element);\n",
              "          const docLink = document.createElement('div');\n",
              "          docLink.innerHTML = docLinkHtml;\n",
              "          element.appendChild(docLink);\n",
              "        }\n",
              "      </script>\n",
              "    </div>\n",
              "  </div>\n",
              "  "
            ]
          },
          "metadata": {},
          "execution_count": 48
        }
      ]
    },
    {
      "cell_type": "code",
      "source": [
        "frame.swaplevel(0, 1).sort_index(level=0)"
      ],
      "metadata": {
        "id": "AfLN8QGm-Pio"
      },
      "execution_count": null,
      "outputs": []
    },
    {
      "cell_type": "markdown",
      "source": [
        "***Note:***    \n",
        "\n",
        "*Data selection performance is much better on hierarchically indexed objects if the index is lexicographically sorted starting with the outermost level—that is, the result of calling `sort_index(level=0)` or `sort_index()`.*    \n",
        "\n"
      ],
      "metadata": {
        "id": "6IrHx6vt-dfK"
      }
    },
    {
      "cell_type": "markdown",
      "source": [
        "##Summary Statistics by Level    \n",
        "\n"
      ],
      "metadata": {
        "id": "pMHdKxtS-iaq"
      }
    },
    {
      "cell_type": "markdown",
      "source": [
        "Many descriptive and summary statistics on DataFrame and Series have a `level` option in which you can specify the level you want to aggregate by on a particular axis. Consider the above DataFrame; we can aggregate by `level` on either the rows or columns like so:"
      ],
      "metadata": {
        "id": "Ay9Q0Mqo-ljF"
      }
    },
    {
      "cell_type": "code",
      "source": [
        "frame"
      ],
      "metadata": {
        "id": "znH_oTAshk9N"
      },
      "execution_count": null,
      "outputs": []
    },
    {
      "cell_type": "code",
      "source": [
        "frame.groupby(level='key2').sum()"
      ],
      "metadata": {
        "id": "U4noPte3-uGo",
        "colab": {
          "base_uri": "https://localhost:8080/",
          "height": 174
        },
        "outputId": "2a1e28a3-1b30-41b5-bdcd-84933e5f53f5"
      },
      "execution_count": null,
      "outputs": [
        {
          "output_type": "execute_result",
          "data": {
            "text/plain": [
              "state  Ohio     Colorado\n",
              "color Green Red    Green\n",
              "key2                    \n",
              "1         6   8       10\n",
              "2        12  14       16"
            ],
            "text/html": [
              "\n",
              "  <div id=\"df-cfc14731-6477-4595-a083-13ff9a9175c8\">\n",
              "    <div class=\"colab-df-container\">\n",
              "      <div>\n",
              "<style scoped>\n",
              "    .dataframe tbody tr th:only-of-type {\n",
              "        vertical-align: middle;\n",
              "    }\n",
              "\n",
              "    .dataframe tbody tr th {\n",
              "        vertical-align: top;\n",
              "    }\n",
              "\n",
              "    .dataframe thead tr th {\n",
              "        text-align: left;\n",
              "    }\n",
              "\n",
              "    .dataframe thead tr:last-of-type th {\n",
              "        text-align: right;\n",
              "    }\n",
              "</style>\n",
              "<table border=\"1\" class=\"dataframe\">\n",
              "  <thead>\n",
              "    <tr>\n",
              "      <th>state</th>\n",
              "      <th colspan=\"2\" halign=\"left\">Ohio</th>\n",
              "      <th>Colorado</th>\n",
              "    </tr>\n",
              "    <tr>\n",
              "      <th>color</th>\n",
              "      <th>Green</th>\n",
              "      <th>Red</th>\n",
              "      <th>Green</th>\n",
              "    </tr>\n",
              "    <tr>\n",
              "      <th>key2</th>\n",
              "      <th></th>\n",
              "      <th></th>\n",
              "      <th></th>\n",
              "    </tr>\n",
              "  </thead>\n",
              "  <tbody>\n",
              "    <tr>\n",
              "      <th>1</th>\n",
              "      <td>6</td>\n",
              "      <td>8</td>\n",
              "      <td>10</td>\n",
              "    </tr>\n",
              "    <tr>\n",
              "      <th>2</th>\n",
              "      <td>12</td>\n",
              "      <td>14</td>\n",
              "      <td>16</td>\n",
              "    </tr>\n",
              "  </tbody>\n",
              "</table>\n",
              "</div>\n",
              "      <button class=\"colab-df-convert\" onclick=\"convertToInteractive('df-cfc14731-6477-4595-a083-13ff9a9175c8')\"\n",
              "              title=\"Convert this dataframe to an interactive table.\"\n",
              "              style=\"display:none;\">\n",
              "        \n",
              "  <svg xmlns=\"http://www.w3.org/2000/svg\" height=\"24px\"viewBox=\"0 0 24 24\"\n",
              "       width=\"24px\">\n",
              "    <path d=\"M0 0h24v24H0V0z\" fill=\"none\"/>\n",
              "    <path d=\"M18.56 5.44l.94 2.06.94-2.06 2.06-.94-2.06-.94-.94-2.06-.94 2.06-2.06.94zm-11 1L8.5 8.5l.94-2.06 2.06-.94-2.06-.94L8.5 2.5l-.94 2.06-2.06.94zm10 10l.94 2.06.94-2.06 2.06-.94-2.06-.94-.94-2.06-.94 2.06-2.06.94z\"/><path d=\"M17.41 7.96l-1.37-1.37c-.4-.4-.92-.59-1.43-.59-.52 0-1.04.2-1.43.59L10.3 9.45l-7.72 7.72c-.78.78-.78 2.05 0 2.83L4 21.41c.39.39.9.59 1.41.59.51 0 1.02-.2 1.41-.59l7.78-7.78 2.81-2.81c.8-.78.8-2.07 0-2.86zM5.41 20L4 18.59l7.72-7.72 1.47 1.35L5.41 20z\"/>\n",
              "  </svg>\n",
              "      </button>\n",
              "      \n",
              "  <style>\n",
              "    .colab-df-container {\n",
              "      display:flex;\n",
              "      flex-wrap:wrap;\n",
              "      gap: 12px;\n",
              "    }\n",
              "\n",
              "    .colab-df-convert {\n",
              "      background-color: #E8F0FE;\n",
              "      border: none;\n",
              "      border-radius: 50%;\n",
              "      cursor: pointer;\n",
              "      display: none;\n",
              "      fill: #1967D2;\n",
              "      height: 32px;\n",
              "      padding: 0 0 0 0;\n",
              "      width: 32px;\n",
              "    }\n",
              "\n",
              "    .colab-df-convert:hover {\n",
              "      background-color: #E2EBFA;\n",
              "      box-shadow: 0px 1px 2px rgba(60, 64, 67, 0.3), 0px 1px 3px 1px rgba(60, 64, 67, 0.15);\n",
              "      fill: #174EA6;\n",
              "    }\n",
              "\n",
              "    [theme=dark] .colab-df-convert {\n",
              "      background-color: #3B4455;\n",
              "      fill: #D2E3FC;\n",
              "    }\n",
              "\n",
              "    [theme=dark] .colab-df-convert:hover {\n",
              "      background-color: #434B5C;\n",
              "      box-shadow: 0px 1px 3px 1px rgba(0, 0, 0, 0.15);\n",
              "      filter: drop-shadow(0px 1px 2px rgba(0, 0, 0, 0.3));\n",
              "      fill: #FFFFFF;\n",
              "    }\n",
              "  </style>\n",
              "\n",
              "      <script>\n",
              "        const buttonEl =\n",
              "          document.querySelector('#df-cfc14731-6477-4595-a083-13ff9a9175c8 button.colab-df-convert');\n",
              "        buttonEl.style.display =\n",
              "          google.colab.kernel.accessAllowed ? 'block' : 'none';\n",
              "\n",
              "        async function convertToInteractive(key) {\n",
              "          const element = document.querySelector('#df-cfc14731-6477-4595-a083-13ff9a9175c8');\n",
              "          const dataTable =\n",
              "            await google.colab.kernel.invokeFunction('convertToInteractive',\n",
              "                                                     [key], {});\n",
              "          if (!dataTable) return;\n",
              "\n",
              "          const docLinkHtml = 'Like what you see? Visit the ' +\n",
              "            '<a target=\"_blank\" href=https://colab.research.google.com/notebooks/data_table.ipynb>data table notebook</a>'\n",
              "            + ' to learn more about interactive tables.';\n",
              "          element.innerHTML = '';\n",
              "          dataTable['output_type'] = 'display_data';\n",
              "          await google.colab.output.renderOutput(dataTable, element);\n",
              "          const docLink = document.createElement('div');\n",
              "          docLink.innerHTML = docLinkHtml;\n",
              "          element.appendChild(docLink);\n",
              "        }\n",
              "      </script>\n",
              "    </div>\n",
              "  </div>\n",
              "  "
            ]
          },
          "metadata": {},
          "execution_count": 49
        }
      ]
    },
    {
      "cell_type": "code",
      "source": [
        "frame.groupby(level='color', axis=1).sum()"
      ],
      "metadata": {
        "id": "xM7puDeo-zJk",
        "colab": {
          "base_uri": "https://localhost:8080/",
          "height": 206
        },
        "outputId": "e96b62b0-7448-4e76-a82c-32ecc25c2f04"
      },
      "execution_count": null,
      "outputs": [
        {
          "output_type": "execute_result",
          "data": {
            "text/plain": [
              "color      Green  Red\n",
              "key1 key2            \n",
              "a    1         2    1\n",
              "     2         8    4\n",
              "b    1        14    7\n",
              "     2        20   10"
            ],
            "text/html": [
              "\n",
              "  <div id=\"df-4bb31150-1354-4540-ae53-0a608deb76b8\">\n",
              "    <div class=\"colab-df-container\">\n",
              "      <div>\n",
              "<style scoped>\n",
              "    .dataframe tbody tr th:only-of-type {\n",
              "        vertical-align: middle;\n",
              "    }\n",
              "\n",
              "    .dataframe tbody tr th {\n",
              "        vertical-align: top;\n",
              "    }\n",
              "\n",
              "    .dataframe thead th {\n",
              "        text-align: right;\n",
              "    }\n",
              "</style>\n",
              "<table border=\"1\" class=\"dataframe\">\n",
              "  <thead>\n",
              "    <tr style=\"text-align: right;\">\n",
              "      <th></th>\n",
              "      <th>color</th>\n",
              "      <th>Green</th>\n",
              "      <th>Red</th>\n",
              "    </tr>\n",
              "    <tr>\n",
              "      <th>key1</th>\n",
              "      <th>key2</th>\n",
              "      <th></th>\n",
              "      <th></th>\n",
              "    </tr>\n",
              "  </thead>\n",
              "  <tbody>\n",
              "    <tr>\n",
              "      <th rowspan=\"2\" valign=\"top\">a</th>\n",
              "      <th>1</th>\n",
              "      <td>2</td>\n",
              "      <td>1</td>\n",
              "    </tr>\n",
              "    <tr>\n",
              "      <th>2</th>\n",
              "      <td>8</td>\n",
              "      <td>4</td>\n",
              "    </tr>\n",
              "    <tr>\n",
              "      <th rowspan=\"2\" valign=\"top\">b</th>\n",
              "      <th>1</th>\n",
              "      <td>14</td>\n",
              "      <td>7</td>\n",
              "    </tr>\n",
              "    <tr>\n",
              "      <th>2</th>\n",
              "      <td>20</td>\n",
              "      <td>10</td>\n",
              "    </tr>\n",
              "  </tbody>\n",
              "</table>\n",
              "</div>\n",
              "      <button class=\"colab-df-convert\" onclick=\"convertToInteractive('df-4bb31150-1354-4540-ae53-0a608deb76b8')\"\n",
              "              title=\"Convert this dataframe to an interactive table.\"\n",
              "              style=\"display:none;\">\n",
              "        \n",
              "  <svg xmlns=\"http://www.w3.org/2000/svg\" height=\"24px\"viewBox=\"0 0 24 24\"\n",
              "       width=\"24px\">\n",
              "    <path d=\"M0 0h24v24H0V0z\" fill=\"none\"/>\n",
              "    <path d=\"M18.56 5.44l.94 2.06.94-2.06 2.06-.94-2.06-.94-.94-2.06-.94 2.06-2.06.94zm-11 1L8.5 8.5l.94-2.06 2.06-.94-2.06-.94L8.5 2.5l-.94 2.06-2.06.94zm10 10l.94 2.06.94-2.06 2.06-.94-2.06-.94-.94-2.06-.94 2.06-2.06.94z\"/><path d=\"M17.41 7.96l-1.37-1.37c-.4-.4-.92-.59-1.43-.59-.52 0-1.04.2-1.43.59L10.3 9.45l-7.72 7.72c-.78.78-.78 2.05 0 2.83L4 21.41c.39.39.9.59 1.41.59.51 0 1.02-.2 1.41-.59l7.78-7.78 2.81-2.81c.8-.78.8-2.07 0-2.86zM5.41 20L4 18.59l7.72-7.72 1.47 1.35L5.41 20z\"/>\n",
              "  </svg>\n",
              "      </button>\n",
              "      \n",
              "  <style>\n",
              "    .colab-df-container {\n",
              "      display:flex;\n",
              "      flex-wrap:wrap;\n",
              "      gap: 12px;\n",
              "    }\n",
              "\n",
              "    .colab-df-convert {\n",
              "      background-color: #E8F0FE;\n",
              "      border: none;\n",
              "      border-radius: 50%;\n",
              "      cursor: pointer;\n",
              "      display: none;\n",
              "      fill: #1967D2;\n",
              "      height: 32px;\n",
              "      padding: 0 0 0 0;\n",
              "      width: 32px;\n",
              "    }\n",
              "\n",
              "    .colab-df-convert:hover {\n",
              "      background-color: #E2EBFA;\n",
              "      box-shadow: 0px 1px 2px rgba(60, 64, 67, 0.3), 0px 1px 3px 1px rgba(60, 64, 67, 0.15);\n",
              "      fill: #174EA6;\n",
              "    }\n",
              "\n",
              "    [theme=dark] .colab-df-convert {\n",
              "      background-color: #3B4455;\n",
              "      fill: #D2E3FC;\n",
              "    }\n",
              "\n",
              "    [theme=dark] .colab-df-convert:hover {\n",
              "      background-color: #434B5C;\n",
              "      box-shadow: 0px 1px 3px 1px rgba(0, 0, 0, 0.15);\n",
              "      filter: drop-shadow(0px 1px 2px rgba(0, 0, 0, 0.3));\n",
              "      fill: #FFFFFF;\n",
              "    }\n",
              "  </style>\n",
              "\n",
              "      <script>\n",
              "        const buttonEl =\n",
              "          document.querySelector('#df-4bb31150-1354-4540-ae53-0a608deb76b8 button.colab-df-convert');\n",
              "        buttonEl.style.display =\n",
              "          google.colab.kernel.accessAllowed ? 'block' : 'none';\n",
              "\n",
              "        async function convertToInteractive(key) {\n",
              "          const element = document.querySelector('#df-4bb31150-1354-4540-ae53-0a608deb76b8');\n",
              "          const dataTable =\n",
              "            await google.colab.kernel.invokeFunction('convertToInteractive',\n",
              "                                                     [key], {});\n",
              "          if (!dataTable) return;\n",
              "\n",
              "          const docLinkHtml = 'Like what you see? Visit the ' +\n",
              "            '<a target=\"_blank\" href=https://colab.research.google.com/notebooks/data_table.ipynb>data table notebook</a>'\n",
              "            + ' to learn more about interactive tables.';\n",
              "          element.innerHTML = '';\n",
              "          dataTable['output_type'] = 'display_data';\n",
              "          await google.colab.output.renderOutput(dataTable, element);\n",
              "          const docLink = document.createElement('div');\n",
              "          docLink.innerHTML = docLinkHtml;\n",
              "          element.appendChild(docLink);\n",
              "        }\n",
              "      </script>\n",
              "    </div>\n",
              "  </div>\n",
              "  "
            ]
          },
          "metadata": {},
          "execution_count": 50
        }
      ]
    },
    {
      "cell_type": "markdown",
      "source": [
        "Internally, this utilizes pandas’s `groupby` machinery, which is discussed in more detail in the book [Python for Data Analysis](https://wesmckinney.com/book/data-aggregation.html)."
      ],
      "metadata": {
        "id": "2fxjFnwJACBB"
      }
    },
    {
      "cell_type": "markdown",
      "source": [
        "##Indexing with a DataFrame's Columns    \n",
        "\n"
      ],
      "metadata": {
        "id": "ZBzCHcFrAaFR"
      }
    },
    {
      "cell_type": "markdown",
      "source": [
        "It’s not unusual to want to use one or more columns from a DataFrame as the row index; alternatively, you may wish to move the row index into the DataFrame’s columns. Here’s an example DataFrame:"
      ],
      "metadata": {
        "id": "qM7z0OgkAgj9"
      }
    },
    {
      "cell_type": "code",
      "source": [
        "frame = pd.DataFrame({'a': range(7), 'b': range(7, 0, -1),\n",
        "            'c': ['one', 'one', 'one', 'two', 'two',\n",
        "                 'two', 'two'],\n",
        "            'd': [0, 1, 2, 0, 1, 2, 3]})\n"
      ],
      "metadata": {
        "id": "qA83WIbZAiL3"
      },
      "execution_count": null,
      "outputs": []
    },
    {
      "cell_type": "code",
      "source": [
        "print(frame)"
      ],
      "metadata": {
        "id": "UQp_dl4kBYVP",
        "colab": {
          "base_uri": "https://localhost:8080/"
        },
        "outputId": "0c6bc7d2-308e-4343-fa98-00ed3d7e7dcc"
      },
      "execution_count": null,
      "outputs": [
        {
          "output_type": "stream",
          "name": "stdout",
          "text": [
            "   a  b    c  d\n",
            "0  0  7  one  0\n",
            "1  1  6  one  1\n",
            "2  2  5  one  2\n",
            "3  3  4  two  0\n",
            "4  4  3  two  1\n",
            "5  5  2  two  2\n",
            "6  6  1  two  3\n"
          ]
        }
      ]
    },
    {
      "cell_type": "markdown",
      "source": [
        "DataFrame’s `set_index` function will create a new DataFrame using one or more of its columns as the index:"
      ],
      "metadata": {
        "id": "fGFFmuGFBeGj"
      }
    },
    {
      "cell_type": "code",
      "source": [
        "frame2 = frame.set_index(['c', 'd'])"
      ],
      "metadata": {
        "id": "zp-yrRPjBjB2"
      },
      "execution_count": null,
      "outputs": []
    },
    {
      "cell_type": "code",
      "source": [
        "print(frame2)"
      ],
      "metadata": {
        "id": "aHPZyXb8BlGO",
        "colab": {
          "base_uri": "https://localhost:8080/"
        },
        "outputId": "146c13ab-e289-4b7a-f6f1-4153c91f48fa"
      },
      "execution_count": null,
      "outputs": [
        {
          "output_type": "stream",
          "name": "stdout",
          "text": [
            "       a  b\n",
            "c   d      \n",
            "one 0  0  7\n",
            "    1  1  6\n",
            "    2  2  5\n",
            "two 0  3  4\n",
            "    1  4  3\n",
            "    2  5  2\n",
            "    3  6  1\n"
          ]
        }
      ]
    },
    {
      "cell_type": "markdown",
      "source": [
        "By default the columns are removed from the DataFrame, though you can leave them in by passing `drop=False` to `set_index`:"
      ],
      "metadata": {
        "id": "2oLfImI6BrJe"
      }
    },
    {
      "cell_type": "code",
      "source": [
        "frame.set_index(['c', 'd'], drop=False)"
      ],
      "metadata": {
        "id": "cZtibXSEBvG-",
        "colab": {
          "base_uri": "https://localhost:8080/",
          "height": 300
        },
        "outputId": "cd5597a0-7397-47ff-c9bd-9c7d1bbaf56b"
      },
      "execution_count": null,
      "outputs": [
        {
          "output_type": "execute_result",
          "data": {
            "text/plain": [
              "       a  b    c  d\n",
              "c   d              \n",
              "one 0  0  7  one  0\n",
              "    1  1  6  one  1\n",
              "    2  2  5  one  2\n",
              "two 0  3  4  two  0\n",
              "    1  4  3  two  1\n",
              "    2  5  2  two  2\n",
              "    3  6  1  two  3"
            ],
            "text/html": [
              "\n",
              "  <div id=\"df-274bf2b7-6da5-4c6b-8958-2c6e88cf168a\">\n",
              "    <div class=\"colab-df-container\">\n",
              "      <div>\n",
              "<style scoped>\n",
              "    .dataframe tbody tr th:only-of-type {\n",
              "        vertical-align: middle;\n",
              "    }\n",
              "\n",
              "    .dataframe tbody tr th {\n",
              "        vertical-align: top;\n",
              "    }\n",
              "\n",
              "    .dataframe thead th {\n",
              "        text-align: right;\n",
              "    }\n",
              "</style>\n",
              "<table border=\"1\" class=\"dataframe\">\n",
              "  <thead>\n",
              "    <tr style=\"text-align: right;\">\n",
              "      <th></th>\n",
              "      <th></th>\n",
              "      <th>a</th>\n",
              "      <th>b</th>\n",
              "      <th>c</th>\n",
              "      <th>d</th>\n",
              "    </tr>\n",
              "    <tr>\n",
              "      <th>c</th>\n",
              "      <th>d</th>\n",
              "      <th></th>\n",
              "      <th></th>\n",
              "      <th></th>\n",
              "      <th></th>\n",
              "    </tr>\n",
              "  </thead>\n",
              "  <tbody>\n",
              "    <tr>\n",
              "      <th rowspan=\"3\" valign=\"top\">one</th>\n",
              "      <th>0</th>\n",
              "      <td>0</td>\n",
              "      <td>7</td>\n",
              "      <td>one</td>\n",
              "      <td>0</td>\n",
              "    </tr>\n",
              "    <tr>\n",
              "      <th>1</th>\n",
              "      <td>1</td>\n",
              "      <td>6</td>\n",
              "      <td>one</td>\n",
              "      <td>1</td>\n",
              "    </tr>\n",
              "    <tr>\n",
              "      <th>2</th>\n",
              "      <td>2</td>\n",
              "      <td>5</td>\n",
              "      <td>one</td>\n",
              "      <td>2</td>\n",
              "    </tr>\n",
              "    <tr>\n",
              "      <th rowspan=\"4\" valign=\"top\">two</th>\n",
              "      <th>0</th>\n",
              "      <td>3</td>\n",
              "      <td>4</td>\n",
              "      <td>two</td>\n",
              "      <td>0</td>\n",
              "    </tr>\n",
              "    <tr>\n",
              "      <th>1</th>\n",
              "      <td>4</td>\n",
              "      <td>3</td>\n",
              "      <td>two</td>\n",
              "      <td>1</td>\n",
              "    </tr>\n",
              "    <tr>\n",
              "      <th>2</th>\n",
              "      <td>5</td>\n",
              "      <td>2</td>\n",
              "      <td>two</td>\n",
              "      <td>2</td>\n",
              "    </tr>\n",
              "    <tr>\n",
              "      <th>3</th>\n",
              "      <td>6</td>\n",
              "      <td>1</td>\n",
              "      <td>two</td>\n",
              "      <td>3</td>\n",
              "    </tr>\n",
              "  </tbody>\n",
              "</table>\n",
              "</div>\n",
              "      <button class=\"colab-df-convert\" onclick=\"convertToInteractive('df-274bf2b7-6da5-4c6b-8958-2c6e88cf168a')\"\n",
              "              title=\"Convert this dataframe to an interactive table.\"\n",
              "              style=\"display:none;\">\n",
              "        \n",
              "  <svg xmlns=\"http://www.w3.org/2000/svg\" height=\"24px\"viewBox=\"0 0 24 24\"\n",
              "       width=\"24px\">\n",
              "    <path d=\"M0 0h24v24H0V0z\" fill=\"none\"/>\n",
              "    <path d=\"M18.56 5.44l.94 2.06.94-2.06 2.06-.94-2.06-.94-.94-2.06-.94 2.06-2.06.94zm-11 1L8.5 8.5l.94-2.06 2.06-.94-2.06-.94L8.5 2.5l-.94 2.06-2.06.94zm10 10l.94 2.06.94-2.06 2.06-.94-2.06-.94-.94-2.06-.94 2.06-2.06.94z\"/><path d=\"M17.41 7.96l-1.37-1.37c-.4-.4-.92-.59-1.43-.59-.52 0-1.04.2-1.43.59L10.3 9.45l-7.72 7.72c-.78.78-.78 2.05 0 2.83L4 21.41c.39.39.9.59 1.41.59.51 0 1.02-.2 1.41-.59l7.78-7.78 2.81-2.81c.8-.78.8-2.07 0-2.86zM5.41 20L4 18.59l7.72-7.72 1.47 1.35L5.41 20z\"/>\n",
              "  </svg>\n",
              "      </button>\n",
              "      \n",
              "  <style>\n",
              "    .colab-df-container {\n",
              "      display:flex;\n",
              "      flex-wrap:wrap;\n",
              "      gap: 12px;\n",
              "    }\n",
              "\n",
              "    .colab-df-convert {\n",
              "      background-color: #E8F0FE;\n",
              "      border: none;\n",
              "      border-radius: 50%;\n",
              "      cursor: pointer;\n",
              "      display: none;\n",
              "      fill: #1967D2;\n",
              "      height: 32px;\n",
              "      padding: 0 0 0 0;\n",
              "      width: 32px;\n",
              "    }\n",
              "\n",
              "    .colab-df-convert:hover {\n",
              "      background-color: #E2EBFA;\n",
              "      box-shadow: 0px 1px 2px rgba(60, 64, 67, 0.3), 0px 1px 3px 1px rgba(60, 64, 67, 0.15);\n",
              "      fill: #174EA6;\n",
              "    }\n",
              "\n",
              "    [theme=dark] .colab-df-convert {\n",
              "      background-color: #3B4455;\n",
              "      fill: #D2E3FC;\n",
              "    }\n",
              "\n",
              "    [theme=dark] .colab-df-convert:hover {\n",
              "      background-color: #434B5C;\n",
              "      box-shadow: 0px 1px 3px 1px rgba(0, 0, 0, 0.15);\n",
              "      filter: drop-shadow(0px 1px 2px rgba(0, 0, 0, 0.3));\n",
              "      fill: #FFFFFF;\n",
              "    }\n",
              "  </style>\n",
              "\n",
              "      <script>\n",
              "        const buttonEl =\n",
              "          document.querySelector('#df-274bf2b7-6da5-4c6b-8958-2c6e88cf168a button.colab-df-convert');\n",
              "        buttonEl.style.display =\n",
              "          google.colab.kernel.accessAllowed ? 'block' : 'none';\n",
              "\n",
              "        async function convertToInteractive(key) {\n",
              "          const element = document.querySelector('#df-274bf2b7-6da5-4c6b-8958-2c6e88cf168a');\n",
              "          const dataTable =\n",
              "            await google.colab.kernel.invokeFunction('convertToInteractive',\n",
              "                                                     [key], {});\n",
              "          if (!dataTable) return;\n",
              "\n",
              "          const docLinkHtml = 'Like what you see? Visit the ' +\n",
              "            '<a target=\"_blank\" href=https://colab.research.google.com/notebooks/data_table.ipynb>data table notebook</a>'\n",
              "            + ' to learn more about interactive tables.';\n",
              "          element.innerHTML = '';\n",
              "          dataTable['output_type'] = 'display_data';\n",
              "          await google.colab.output.renderOutput(dataTable, element);\n",
              "          const docLink = document.createElement('div');\n",
              "          docLink.innerHTML = docLinkHtml;\n",
              "          element.appendChild(docLink);\n",
              "        }\n",
              "      </script>\n",
              "    </div>\n",
              "  </div>\n",
              "  "
            ]
          },
          "metadata": {},
          "execution_count": 57
        }
      ]
    },
    {
      "cell_type": "markdown",
      "source": [
        "`reset_index`, on the other hand, does the opposite of `set_index`; the hierarchical index levels are moved into the columns:"
      ],
      "metadata": {
        "id": "1wbS0jkCB12R"
      }
    },
    {
      "cell_type": "code",
      "source": [
        "frame2.reset_index()"
      ],
      "metadata": {
        "id": "f5Mj3kJQB8KX",
        "colab": {
          "base_uri": "https://localhost:8080/",
          "height": 269
        },
        "outputId": "3a265075-bb92-4662-bd6c-4baec5ac4ca2"
      },
      "execution_count": null,
      "outputs": [
        {
          "output_type": "execute_result",
          "data": {
            "text/plain": [
              "     c  d  a  b\n",
              "0  one  0  0  7\n",
              "1  one  1  1  6\n",
              "2  one  2  2  5\n",
              "3  two  0  3  4\n",
              "4  two  1  4  3\n",
              "5  two  2  5  2\n",
              "6  two  3  6  1"
            ],
            "text/html": [
              "\n",
              "  <div id=\"df-b7e3fb6e-28d7-409c-8fb5-d541fe5971dd\">\n",
              "    <div class=\"colab-df-container\">\n",
              "      <div>\n",
              "<style scoped>\n",
              "    .dataframe tbody tr th:only-of-type {\n",
              "        vertical-align: middle;\n",
              "    }\n",
              "\n",
              "    .dataframe tbody tr th {\n",
              "        vertical-align: top;\n",
              "    }\n",
              "\n",
              "    .dataframe thead th {\n",
              "        text-align: right;\n",
              "    }\n",
              "</style>\n",
              "<table border=\"1\" class=\"dataframe\">\n",
              "  <thead>\n",
              "    <tr style=\"text-align: right;\">\n",
              "      <th></th>\n",
              "      <th>c</th>\n",
              "      <th>d</th>\n",
              "      <th>a</th>\n",
              "      <th>b</th>\n",
              "    </tr>\n",
              "  </thead>\n",
              "  <tbody>\n",
              "    <tr>\n",
              "      <th>0</th>\n",
              "      <td>one</td>\n",
              "      <td>0</td>\n",
              "      <td>0</td>\n",
              "      <td>7</td>\n",
              "    </tr>\n",
              "    <tr>\n",
              "      <th>1</th>\n",
              "      <td>one</td>\n",
              "      <td>1</td>\n",
              "      <td>1</td>\n",
              "      <td>6</td>\n",
              "    </tr>\n",
              "    <tr>\n",
              "      <th>2</th>\n",
              "      <td>one</td>\n",
              "      <td>2</td>\n",
              "      <td>2</td>\n",
              "      <td>5</td>\n",
              "    </tr>\n",
              "    <tr>\n",
              "      <th>3</th>\n",
              "      <td>two</td>\n",
              "      <td>0</td>\n",
              "      <td>3</td>\n",
              "      <td>4</td>\n",
              "    </tr>\n",
              "    <tr>\n",
              "      <th>4</th>\n",
              "      <td>two</td>\n",
              "      <td>1</td>\n",
              "      <td>4</td>\n",
              "      <td>3</td>\n",
              "    </tr>\n",
              "    <tr>\n",
              "      <th>5</th>\n",
              "      <td>two</td>\n",
              "      <td>2</td>\n",
              "      <td>5</td>\n",
              "      <td>2</td>\n",
              "    </tr>\n",
              "    <tr>\n",
              "      <th>6</th>\n",
              "      <td>two</td>\n",
              "      <td>3</td>\n",
              "      <td>6</td>\n",
              "      <td>1</td>\n",
              "    </tr>\n",
              "  </tbody>\n",
              "</table>\n",
              "</div>\n",
              "      <button class=\"colab-df-convert\" onclick=\"convertToInteractive('df-b7e3fb6e-28d7-409c-8fb5-d541fe5971dd')\"\n",
              "              title=\"Convert this dataframe to an interactive table.\"\n",
              "              style=\"display:none;\">\n",
              "        \n",
              "  <svg xmlns=\"http://www.w3.org/2000/svg\" height=\"24px\"viewBox=\"0 0 24 24\"\n",
              "       width=\"24px\">\n",
              "    <path d=\"M0 0h24v24H0V0z\" fill=\"none\"/>\n",
              "    <path d=\"M18.56 5.44l.94 2.06.94-2.06 2.06-.94-2.06-.94-.94-2.06-.94 2.06-2.06.94zm-11 1L8.5 8.5l.94-2.06 2.06-.94-2.06-.94L8.5 2.5l-.94 2.06-2.06.94zm10 10l.94 2.06.94-2.06 2.06-.94-2.06-.94-.94-2.06-.94 2.06-2.06.94z\"/><path d=\"M17.41 7.96l-1.37-1.37c-.4-.4-.92-.59-1.43-.59-.52 0-1.04.2-1.43.59L10.3 9.45l-7.72 7.72c-.78.78-.78 2.05 0 2.83L4 21.41c.39.39.9.59 1.41.59.51 0 1.02-.2 1.41-.59l7.78-7.78 2.81-2.81c.8-.78.8-2.07 0-2.86zM5.41 20L4 18.59l7.72-7.72 1.47 1.35L5.41 20z\"/>\n",
              "  </svg>\n",
              "      </button>\n",
              "      \n",
              "  <style>\n",
              "    .colab-df-container {\n",
              "      display:flex;\n",
              "      flex-wrap:wrap;\n",
              "      gap: 12px;\n",
              "    }\n",
              "\n",
              "    .colab-df-convert {\n",
              "      background-color: #E8F0FE;\n",
              "      border: none;\n",
              "      border-radius: 50%;\n",
              "      cursor: pointer;\n",
              "      display: none;\n",
              "      fill: #1967D2;\n",
              "      height: 32px;\n",
              "      padding: 0 0 0 0;\n",
              "      width: 32px;\n",
              "    }\n",
              "\n",
              "    .colab-df-convert:hover {\n",
              "      background-color: #E2EBFA;\n",
              "      box-shadow: 0px 1px 2px rgba(60, 64, 67, 0.3), 0px 1px 3px 1px rgba(60, 64, 67, 0.15);\n",
              "      fill: #174EA6;\n",
              "    }\n",
              "\n",
              "    [theme=dark] .colab-df-convert {\n",
              "      background-color: #3B4455;\n",
              "      fill: #D2E3FC;\n",
              "    }\n",
              "\n",
              "    [theme=dark] .colab-df-convert:hover {\n",
              "      background-color: #434B5C;\n",
              "      box-shadow: 0px 1px 3px 1px rgba(0, 0, 0, 0.15);\n",
              "      filter: drop-shadow(0px 1px 2px rgba(0, 0, 0, 0.3));\n",
              "      fill: #FFFFFF;\n",
              "    }\n",
              "  </style>\n",
              "\n",
              "      <script>\n",
              "        const buttonEl =\n",
              "          document.querySelector('#df-b7e3fb6e-28d7-409c-8fb5-d541fe5971dd button.colab-df-convert');\n",
              "        buttonEl.style.display =\n",
              "          google.colab.kernel.accessAllowed ? 'block' : 'none';\n",
              "\n",
              "        async function convertToInteractive(key) {\n",
              "          const element = document.querySelector('#df-b7e3fb6e-28d7-409c-8fb5-d541fe5971dd');\n",
              "          const dataTable =\n",
              "            await google.colab.kernel.invokeFunction('convertToInteractive',\n",
              "                                                     [key], {});\n",
              "          if (!dataTable) return;\n",
              "\n",
              "          const docLinkHtml = 'Like what you see? Visit the ' +\n",
              "            '<a target=\"_blank\" href=https://colab.research.google.com/notebooks/data_table.ipynb>data table notebook</a>'\n",
              "            + ' to learn more about interactive tables.';\n",
              "          element.innerHTML = '';\n",
              "          dataTable['output_type'] = 'display_data';\n",
              "          await google.colab.output.renderOutput(dataTable, element);\n",
              "          const docLink = document.createElement('div');\n",
              "          docLink.innerHTML = docLinkHtml;\n",
              "          element.appendChild(docLink);\n",
              "        }\n",
              "      </script>\n",
              "    </div>\n",
              "  </div>\n",
              "  "
            ]
          },
          "metadata": {},
          "execution_count": 58
        }
      ]
    },
    {
      "cell_type": "markdown",
      "source": [
        "\n",
        "\n",
        "---\n",
        "\n"
      ],
      "metadata": {
        "id": "OSy7YajwCB7O"
      }
    },
    {
      "cell_type": "markdown",
      "source": [
        "#**Related Exercise**\n",
        "\n",
        "\n",
        "*See the notebook ['Dewey_Dictionary'](https://bit.ly/dewey_notebook) for a related exercise on hierarchical indexing using the Dewey Decimal System.* "
      ],
      "metadata": {
        "id": "gmG5r9z3CCzt"
      }
    },
    {
      "cell_type": "markdown",
      "source": [
        "\n",
        "\n",
        "---\n",
        "\n"
      ],
      "metadata": {
        "id": "AY-vbwVWCd7u"
      }
    }
  ]
}