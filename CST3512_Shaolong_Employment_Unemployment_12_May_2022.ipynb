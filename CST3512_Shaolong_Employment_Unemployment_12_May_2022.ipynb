{
  "nbformat": 4,
  "nbformat_minor": 0,
  "metadata": {
    "colab": {
      "name": "CST3512_Shaolong_Employment_Unemployment_12-May-2022.ipynb",
      "provenance": [],
      "collapsed_sections": [],
      "include_colab_link": true
    },
    "kernelspec": {
      "name": "python3",
      "display_name": "Python 3"
    },
    "language_info": {
      "name": "python"
    }
  },
  "cells": [
    {
      "cell_type": "markdown",
      "metadata": {
        "id": "view-in-github",
        "colab_type": "text"
      },
      "source": [
        "<a href=\"https://colab.research.google.com/github/ProfessorPatrickSlatraigh/CST3512/blob/main/CST3512_Shaolong_Employment_Unemployment_12_May_2022.ipynb\" target=\"_parent\"><img src=\"https://colab.research.google.com/assets/colab-badge.svg\" alt=\"Open In Colab\"/></a>"
      ]
    },
    {
      "cell_type": "markdown",
      "source": [
        "#Employment and Unemployment Levels \n",
        "\n",
        "*from the original work of CST3512 student Shaolong Lin, May-2022*     \n"
      ],
      "metadata": {
        "id": "1LoGLUo_WsU7"
      }
    },
    {
      "cell_type": "markdown",
      "source": [
        "**The following outline describes the approach in this notebook:**    \n",
        "\n",
        "1. Housekeeping    \n",
        "2. Load Data for Emplyoyment Level\n",
        "3. Transform Employment Level Data    \n",
        "4. Load Data for UnEmployment Level    \n",
        "5. Transform UnEmployment Level Data    \n",
        "6. Integrate Employment and UnEmployment Level Data   \n",
        "* APPENDIX: DateTime Reference Information   \n"
      ],
      "metadata": {
        "id": "6P9Z6-36l1OK"
      }
    },
    {
      "cell_type": "markdown",
      "source": [
        "\n",
        "\n",
        "---\n",
        "\n"
      ],
      "metadata": {
        "id": "iezKrIjZfalE"
      }
    },
    {
      "cell_type": "markdown",
      "source": [
        "##1. Housekeeping    \n",
        "\n",
        "* Import libraries    \n",
        "\n",
        "* Create standing value variables (dictionary of month abbreviations to month integers)    "
      ],
      "metadata": {
        "id": "fPhLXM-CZr-c"
      }
    },
    {
      "cell_type": "code",
      "source": [
        "import pandas as pd    \n",
        "\n",
        "import datetime  "
      ],
      "metadata": {
        "id": "w03NbwOnQ0a9"
      },
      "execution_count": 51,
      "outputs": []
    },
    {
      "cell_type": "markdown",
      "source": [
        "###Create a dictionary of month abbreviations (from column names) to integers\n",
        "assign `{'Jan': 1, 'Feb': 2, 'Mar': 3, 'Apr': 4, 'May': 5, 'Jun': 6, 'Jul': 7, 'Aug': 8, 'Sep': 9, 'Oct': 10, 'Nov': 11, 'Dec': 12}` to `month_dict`    \n"
      ],
      "metadata": {
        "id": "0RZLN5N1ZJbT"
      }
    },
    {
      "cell_type": "code",
      "source": [
        "###Create a dictionary of month abbreviations (from column names) to integers\n",
        "month_dict = {'Jan': 1, 'Feb': 2, 'Mar': 3,\n",
        "              'Apr': 4, 'May': 5, 'Jun': 6, \n",
        "              'Jul': 7, 'Aug': 8, 'Sep': 9, \n",
        "              'Oct': 10, 'Nov': 11, 'Dec': 12\n",
        "              }"
      ],
      "metadata": {
        "id": "HsyzB-zzZg-I"
      },
      "execution_count": 57,
      "outputs": []
    },
    {
      "cell_type": "markdown",
      "source": [
        "###Create a string of datetime format tokens for creation of `datetime` objects    \n",
        "\n",
        "assign `\"%Y-$B\"` to format_token_str "
      ],
      "metadata": {
        "id": "LV3c1fW8m0Qe"
      }
    },
    {
      "cell_type": "code",
      "source": [
        "format_token_str = '%Y-%b'"
      ],
      "metadata": {
        "id": "Afaw4JMDnIOO"
      },
      "execution_count": 66,
      "outputs": []
    },
    {
      "cell_type": "markdown",
      "source": [
        "\n",
        "\n",
        "---\n",
        "\n"
      ],
      "metadata": {
        "id": "MsJSYi0eVgEU"
      }
    },
    {
      "cell_type": "markdown",
      "source": [
        "##2. Load Data for Employment Level    \n"
      ],
      "metadata": {
        "id": "d2B6a-_slYVd"
      }
    },
    {
      "cell_type": "markdown",
      "source": [
        "The following snippet is Shaolong Lin's original code. "
      ],
      "metadata": {
        "id": "0r8RdBoqWkn8"
      }
    },
    {
      "cell_type": "code",
      "source": [
        "# original code which is now deprecated \n",
        "# Employment_Level = pd.read_csv('/content/drive/MyDrive/CST 3512: Data management 2/Project Data Base/Using/Employment Level - BLS Data Series.csv', skiprows = 11)\n",
        "## Employment_Level = pd.read_csv(File2, skiprows = 11)\n",
        "# Employment_Level.drop(Employment_Level[Employment_Level.Year == 2022].index, inplace=True)"
      ],
      "metadata": {
        "id": "kS2dU9ezxbEw"
      },
      "execution_count": null,
      "outputs": []
    },
    {
      "cell_type": "markdown",
      "source": [
        "or, "
      ],
      "metadata": {
        "id": "ffrmym50UbMY"
      }
    },
    {
      "cell_type": "code",
      "source": [
        "!curl https://raw.githubusercontent.com/ProfessorPatrickSlatraigh/data/main/Employment%20Level%20-%20BLS%20Data%20Series.csv -o \"bls_employment-level.csv\""
      ],
      "metadata": {
        "colab": {
          "base_uri": "https://localhost:8080/"
        },
        "id": "psHVmbLuUacW",
        "outputId": "b46ef6c0-99ba-4e83-f46d-5b5064d81b48"
      },
      "execution_count": 3,
      "outputs": [
        {
          "output_type": "stream",
          "name": "stdout",
          "text": [
            "  % Total    % Received % Xferd  Average Speed   Time    Time     Time  Current\n",
            "                                 Dload  Upload   Total   Spent    Left  Speed\n",
            "100  1392  100  1392    0     0   3596      0 --:--:-- --:--:-- --:--:--  3587\n"
          ]
        }
      ]
    },
    {
      "cell_type": "code",
      "source": [
        "el_df = pd.read_csv('/content/bls_employment-level.csv', skiprows = 11)\n",
        "el_df.drop(el_df[el_df.Year == 2022].index, inplace=True)\n",
        "el_df.info()"
      ],
      "metadata": {
        "id": "6QdZluYpViQf"
      },
      "execution_count": null,
      "outputs": []
    },
    {
      "cell_type": "markdown",
      "source": [
        "##3. Transform Employment Level Data    "
      ],
      "metadata": {
        "id": "aMwK8tx0lhon"
      }
    },
    {
      "cell_type": "code",
      "source": [
        "# transform integer value columns to float for consistency\n",
        "el_df['Jan'] = el_df['Jan'].astype('float')\n",
        "el_df['Feb'] = el_df['Feb'].astype('float')\n",
        "el_df['Mar'] = el_df['Mar'].astype('float')"
      ],
      "metadata": {
        "id": "4nPk2a4mWDAP"
      },
      "execution_count": 25,
      "outputs": []
    },
    {
      "cell_type": "code",
      "source": [
        "el_df.info()"
      ],
      "metadata": {
        "id": "oxm2DWRJXwHO"
      },
      "execution_count": null,
      "outputs": []
    },
    {
      "cell_type": "code",
      "source": [
        "el_df.head(20)"
      ],
      "metadata": {
        "id": "FescjuysYxd7"
      },
      "execution_count": null,
      "outputs": []
    },
    {
      "cell_type": "markdown",
      "source": [
        "Now, melt the columns into rows of data..."
      ],
      "metadata": {
        "id": "zTM3rq8gaEnv"
      }
    },
    {
      "cell_type": "code",
      "source": [
        "el_col_df = el_df.melt(id_vars= ['Year'])"
      ],
      "metadata": {
        "id": "n1uGu_lYaI2C"
      },
      "execution_count": 31,
      "outputs": []
    },
    {
      "cell_type": "code",
      "source": [
        "el_col_df.rename(columns={'variable': 'Month', 'value': 'Employment_Level'}, inplace=True)"
      ],
      "metadata": {
        "id": "wtliyy9Ha-b2"
      },
      "execution_count": 32,
      "outputs": []
    },
    {
      "cell_type": "code",
      "source": [
        "el_col_df.info()"
      ],
      "metadata": {
        "id": "VPQGCXJCdUGg"
      },
      "execution_count": null,
      "outputs": []
    },
    {
      "cell_type": "code",
      "source": [
        "el_col_df['Period'] = el_col_df['Year'].astype('str') + '-' + el_col_df['Month']"
      ],
      "metadata": {
        "id": "FQIJdnvgcxP4"
      },
      "execution_count": 45,
      "outputs": []
    },
    {
      "cell_type": "code",
      "source": [
        "el_col_df['mm'] = el_col_df['Month'].replace(month_dict)"
      ],
      "metadata": {
        "id": "2ZiY5D8Di9ac"
      },
      "execution_count": 58,
      "outputs": []
    },
    {
      "cell_type": "code",
      "source": [
        "\n",
        "el_col_df['Datetime'] = pd.to_datetime(el_col_df['Period'], format=format_token_str)\n",
        "el_col_df = el_col_df.set_index(pd.DatetimeIndex(el_col_df['Datetime']))"
      ],
      "metadata": {
        "id": "iCeIyY7hmue4"
      },
      "execution_count": 67,
      "outputs": []
    },
    {
      "cell_type": "code",
      "source": [
        "el_col_df.info()"
      ],
      "metadata": {
        "id": "2Xptp136pOkH"
      },
      "execution_count": null,
      "outputs": []
    },
    {
      "cell_type": "code",
      "source": [
        "el_col_df.head(20)"
      ],
      "metadata": {
        "id": "U0kdZF3jaPYB"
      },
      "execution_count": null,
      "outputs": []
    },
    {
      "cell_type": "code",
      "source": [
        "el_col_df.tail(20)"
      ],
      "metadata": {
        "id": "o1hWHR5yaSOC"
      },
      "execution_count": null,
      "outputs": []
    },
    {
      "cell_type": "markdown",
      "source": [
        "\n",
        "\n",
        "---\n",
        "\n"
      ],
      "metadata": {
        "id": "vCyMoXsZVezz"
      }
    },
    {
      "cell_type": "markdown",
      "source": [
        "##4. Load Data for UnEmployment Data   \n"
      ],
      "metadata": {
        "id": "HJzfiUUnloeH"
      }
    },
    {
      "cell_type": "markdown",
      "source": [
        "The following snippet is Shaolong Lin's original code. "
      ],
      "metadata": {
        "id": "Yg_yicxTWq1f"
      }
    },
    {
      "cell_type": "code",
      "source": [
        "# original code which is now deprecated Unemployment_Level = pd.read_csv('/content/drive/MyDrive/CST 3512: Data management 2/Project Data Base/Using/Unemployment Level - BLS Data Series.csv', skiprows = 11)\n",
        "## File8['Year'] = pd.to_datetime(File8['Year'])\n",
        "## Unemployment_Level = pd.read_csv(File8, skiprows = 11)\n",
        "# Unemployment_Level.drop(Unemployment_Level[Unemployment_Level.Year == 2022].index, inplace=True)"
      ],
      "metadata": {
        "id": "J99BieoKxoS1"
      },
      "execution_count": null,
      "outputs": []
    },
    {
      "cell_type": "markdown",
      "source": [
        "or, "
      ],
      "metadata": {
        "id": "fUOJDpCQUnwg"
      }
    },
    {
      "cell_type": "code",
      "source": [
        "!curl https://raw.githubusercontent.com/ProfessorPatrickSlatraigh/data/a91a2a868d0545307c7733251df18909bdd48d39/Unemployment%20Level%20-%20BLS%20Data%20Series.csv -o \"bls_unemployment-level.csv\""
      ],
      "metadata": {
        "colab": {
          "base_uri": "https://localhost:8080/"
        },
        "id": "e7pB1LUHUpPP",
        "outputId": "68bead4a-744e-4362-94eb-314173229fee"
      },
      "execution_count": 12,
      "outputs": [
        {
          "output_type": "stream",
          "name": "stdout",
          "text": [
            "  % Total    % Received % Xferd  Average Speed   Time    Time     Time  Current\n",
            "                                 Dload  Upload   Total   Spent    Left  Speed\n",
            "\r  0     0    0     0    0     0      0      0 --:--:-- --:--:-- --:--:--     0\r100  1187  100  1187    0     0  22826      0 --:--:-- --:--:-- --:--:-- 22826\n"
          ]
        }
      ]
    },
    {
      "cell_type": "code",
      "source": [
        "ul_df = pd.read_csv('/content/bls_unemployment-level.csv', skiprows = 11)\n",
        "ul_df.drop(ul_df[ul_df.Year == 2022].index, inplace=True)\n",
        "ul_df.info()"
      ],
      "metadata": {
        "id": "B-QHbX5yVaMX"
      },
      "execution_count": null,
      "outputs": []
    },
    {
      "cell_type": "markdown",
      "source": [
        "##5. Transform Data for UnEmployment Level "
      ],
      "metadata": {
        "id": "V4-lGdmbluT_"
      }
    },
    {
      "cell_type": "code",
      "source": [
        "# transform integer value columns to float for consistency\n",
        "ul_df['Jan'] = ul_df['Jan'].astype('float')\n",
        "ul_df['Feb'] = ul_df['Feb'].astype('float')\n",
        "ul_df['Mar'] = ul_df['Mar'].astype('float')"
      ],
      "metadata": {
        "id": "sQm64Zn_Yf-z"
      },
      "execution_count": 18,
      "outputs": []
    },
    {
      "cell_type": "code",
      "source": [
        "ul_df.info()"
      ],
      "metadata": {
        "id": "mZepKbIdYncX"
      },
      "execution_count": null,
      "outputs": []
    },
    {
      "cell_type": "code",
      "source": [
        "ul_df.head(20)"
      ],
      "metadata": {
        "id": "o0egCQJSYsBh"
      },
      "execution_count": null,
      "outputs": []
    },
    {
      "cell_type": "markdown",
      "source": [
        "Now, melt the columns into rows of data..."
      ],
      "metadata": {
        "id": "ak9kGL5SbpsT"
      }
    },
    {
      "cell_type": "code",
      "source": [
        "ul_col_df = ul_df.melt(id_vars= ['Year'])"
      ],
      "metadata": {
        "id": "72A7V4vgbwmR"
      },
      "execution_count": 38,
      "outputs": []
    },
    {
      "cell_type": "code",
      "source": [
        "ul_col_df.rename(columns={'variable': 'Month', 'value': 'Un-Employment_Level'}, inplace=True)"
      ],
      "metadata": {
        "id": "8d1SDjEkbwmV"
      },
      "execution_count": 47,
      "outputs": []
    },
    {
      "cell_type": "code",
      "source": [
        "ul_col_df.info()"
      ],
      "metadata": {
        "id": "81xoqYVvdmwT"
      },
      "execution_count": null,
      "outputs": []
    },
    {
      "cell_type": "code",
      "source": [
        "ul_col_df['Period'] = ul_col_df['Year'].astype('str') + '-' + ul_col_df['Month']"
      ],
      "metadata": {
        "id": "S7_lvhcidmwU"
      },
      "execution_count": 49,
      "outputs": []
    },
    {
      "cell_type": "code",
      "source": [
        "ul_col_df['mm'] = ul_col_df['Month'].replace(month_dict)"
      ],
      "metadata": {
        "id": "ClEHd1Najv-y"
      },
      "execution_count": 60,
      "outputs": []
    },
    {
      "cell_type": "code",
      "source": [
        "\n",
        "ul_col_df['Datetime'] = pd.to_datetime(ul_col_df['Period'], format=format_token_str)\n",
        "ul_col_df = ul_col_df.set_index(pd.DatetimeIndex(ul_col_df['Datetime']))"
      ],
      "metadata": {
        "id": "7IQ04yDDpZWZ"
      },
      "execution_count": 70,
      "outputs": []
    },
    {
      "cell_type": "code",
      "source": [
        "ul_col_df.info()"
      ],
      "metadata": {
        "colab": {
          "base_uri": "https://localhost:8080/"
        },
        "id": "Tp5FmzEQpZWa",
        "outputId": "959fdc4a-50a2-4365-fbc3-b9c0a0574058"
      },
      "execution_count": 71,
      "outputs": [
        {
          "output_type": "stream",
          "name": "stdout",
          "text": [
            "<class 'pandas.core.frame.DataFrame'>\n",
            "DatetimeIndex: 120 entries, 2012-01-01 to 2021-12-01\n",
            "Data columns (total 6 columns):\n",
            " #   Column               Non-Null Count  Dtype         \n",
            "---  ------               --------------  -----         \n",
            " 0   Year                 120 non-null    int64         \n",
            " 1   Month                120 non-null    object        \n",
            " 2   Un-Employment_Level  120 non-null    float64       \n",
            " 3   Period               120 non-null    object        \n",
            " 4   mm                   120 non-null    int64         \n",
            " 5   Datetime             120 non-null    datetime64[ns]\n",
            "dtypes: datetime64[ns](1), float64(1), int64(2), object(2)\n",
            "memory usage: 6.6+ KB\n"
          ]
        }
      ]
    },
    {
      "cell_type": "code",
      "source": [
        "ul_col_df.head(20)"
      ],
      "metadata": {
        "id": "x35SdD-EbwmW"
      },
      "execution_count": null,
      "outputs": []
    },
    {
      "cell_type": "code",
      "source": [
        "ul_col_df.tail(20)"
      ],
      "metadata": {
        "id": "BAn28meTbwmW"
      },
      "execution_count": null,
      "outputs": []
    },
    {
      "cell_type": "markdown",
      "source": [
        "\n",
        "\n",
        "---\n",
        "\n"
      ],
      "metadata": {
        "id": "uXrNfjQQYlz1"
      }
    },
    {
      "cell_type": "markdown",
      "source": [
        "\n",
        "\n",
        "---\n",
        "\n"
      ],
      "metadata": {
        "id": "rcFo5rJyfeQ3"
      }
    },
    {
      "cell_type": "markdown",
      "source": [
        "##APPENDIX: Datetime    \n",
        "\n",
        "*Quick reference on using `date`, `time`, and `datetime` objects as an index.*    \n"
      ],
      "metadata": {
        "id": "bThdN-8Rfe1J"
      }
    },
    {
      "cell_type": "markdown",
      "source": [
        "These: **\"%Y-%m-%d %H:%M:%S.%f\"** are known as format tokens. Each token represents a different part of the date-time, like day, month, year, etc. Check out the strptime documentation for the list of all different types of format code supported in Python. For a quick reference, here is what we're using in the code above:    \n",
        "    \n",
        "* **%Y** : Year (4 digits)\n",
        "* **%B** : Month as three alpha abbreviation (in English)\n",
        "* **%m** : Month\n",
        "* **%d** : Day of month\n",
        "* **%H** : Hour (24 hour)\n",
        "* **%M** : Minutes\n",
        "* **%S** : Seconds\n",
        "* **%f** : Microseconds\n",
        "\n",
        "*All of these tokens, except the year, are expected to be zero-padded.*    \n",
        "\n",
        "So, if the format of a string is known, it can be easily parsed to a datetime object using strptime. Here is an example:"
      ],
      "metadata": {
        "id": "HoKU_Li3fuE3"
      }
    },
    {
      "cell_type": "code",
      "source": [
        "# import datetime\n",
        "\n",
        "date_time_str = 'Jun 28 2018 7:40AM'\n",
        "date_time_obj = datetime.datetime.strptime(date_time_str, '%b %d %Y %I:%M%p')\n",
        "\n",
        "print('Date:', date_time_obj.date())\n",
        "print('Time:', date_time_obj.time())\n",
        "print('Date-time:', date_time_obj) \n"
      ],
      "metadata": {
        "colab": {
          "base_uri": "https://localhost:8080/"
        },
        "id": "KFXtu3v0gh8n",
        "outputId": "5df2ca81-f7ec-4c23-c889-a23841ac3607"
      },
      "execution_count": 52,
      "outputs": [
        {
          "output_type": "stream",
          "name": "stdout",
          "text": [
            "Date: 2018-06-28\n",
            "Time: 07:40:00\n",
            "Date-time: 2018-06-28 07:40:00\n"
          ]
        }
      ]
    },
    {
      "cell_type": "markdown",
      "source": [
        "Here are a few more examples of commonly used time formats and the tokens used for parsing:"
      ],
      "metadata": {
        "id": "kQ9_p_i-grC2"
      }
    },
    {
      "cell_type": "markdown",
      "source": [
        "```\n",
        "\"Jun 28 2018 at 7:40AM\" -> \"%b %d %Y at %I:%M%p\"\n",
        "\"September 18, 2017, 22:19:55\" -> \"%B %d, %Y, %H:%M:%S\"\n",
        "\"Sun,05/12/99,12:30PM\" -> \"%a,%d/%m/%y,%I:%M%p\"\n",
        "\"Mon, 21 March, 2015\" -> \"%a, %d %B, %Y\"\n",
        "\"2018-03-12T10:12:45Z\" -> \"%Y-%m-%dT%H:%M:%SZ\"\n",
        "```"
      ],
      "metadata": {
        "id": "o-I-cyIMhQ3l"
      }
    },
    {
      "cell_type": "markdown",
      "source": [
        "Here is a more thorough listing of `DateTime` token strings.\n",
        "\n",
        "DateTime Format Codes\n",
        "One extremely important concept to understand is DateTime format codes. This is how you instruct Pandas what format your DateTime string is in. It’s magic every time you see it work. In fact, I look forward to gross strings with dates in them just to parse. See documentation.\n",
        "\n",
        "Format Code\tDescription\tExamples\n",
        "* **%a** : \tWeekday, abbreviated\tMon, Tues, Sat    \n",
        "* **%A** : \tWeekday, full name\tMonday, Tuesday, Saturday    \n",
        "* **%w** : \tWeekday, decimal. 0=Sunday\t1, 2, 6     \n",
        "* **%d** : \tDay of month, zero-padded\t01, 02, 21    \n",
        "* **%b** : \tMonth, abbreviated\tJan, Feb, Sep    \n",
        "* **%B** : \tMonth, full name\tJanuary, February, September    \n",
        "* **%m** : \tMonth number, zero-padded\t01, 02, 09    \n",
        "* **%y** : \tYear, without century, zero-padded\t02, 95, 99    \n",
        "* **%Y** : \tYear, with century\t1990, 2020    \n",
        "* **%H** : \tHour (24 hour), zero padded\t01, 22    \n",
        "* **%I** : \tHour (12 hour) zero padded\t01, 12    \n",
        "* **%p** : \tAM or PM\tAM, PM    \n",
        "* **%M** : \tMinute, zero-padded\t01, 02, 43    \n",
        "* **%S** : \tSecond, zero padded\t01, 32, 59    \n",
        "* **%f** : \tMicrosecond, zero-padded\t000001, 000342, 999999    \n",
        "* **%z** : \tUTC offset ±HHMM[SS[.ffffff]]\t+0000, -1030, -3423.234    \n",
        "* **%Z** : \tTime zone name\tITC, EST, CST    \n",
        "* **%j** : \tDay of year, zero-padded\t001, 365, 023    \n",
        "* **%U** : \tWeek # of year, zero-padded. Sunday first day of week\t00, 01, 51    \n",
        "* **%W** : \tWeek # of year, zero-padded. Monday first day of week\t00, 02, 51    \n",
        "* **%c** : \tAppropriate date and time\tMonday Feb 01 21:30:00 1990    \n",
        "* **%x** : \tAppropriate Date\t02/01/90    \n",
        "* **%X** : \tAppropriate Time\t21:22:00    \n",
        "* **%%** : \tLiteral '%' – Use this when you have a % sign in your format.\t%     \n"
      ],
      "metadata": {
        "id": "FdADdrQYoRXn"
      }
    },
    {
      "cell_type": "markdown",
      "source": [
        "You can parse a date-time string of any format using the table mentioned in the [strptime documentation](https://docs.python.org/3/library/datetime.html#strftime-and-strptime-behavior)."
      ],
      "metadata": {
        "id": "Cutu1R6GhYsz"
      }
    },
    {
      "cell_type": "markdown",
      "source": [
        "\n",
        "\n",
        "---\n",
        "\n"
      ],
      "metadata": {
        "id": "snZG4iYchdkl"
      }
    }
  ]
}