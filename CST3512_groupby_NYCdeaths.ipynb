{
  "nbformat": 4,
  "nbformat_minor": 0,
  "metadata": {
    "colab": {
      "provenance": [],
      "authorship_tag": "ABX9TyNIa4ppjfXvHYMdMpJPzbjw",
      "include_colab_link": true
    },
    "kernelspec": {
      "name": "python3",
      "display_name": "Python 3"
    },
    "language_info": {
      "name": "python"
    }
  },
  "cells": [
    {
      "cell_type": "markdown",
      "metadata": {
        "id": "view-in-github",
        "colab_type": "text"
      },
      "source": [
        "<a href=\"https://colab.research.google.com/github/ProfessorPatrickSlatraigh/CST3512/blob/main/CST3512_groupby_NYCdeaths.ipynb\" target=\"_parent\"><img src=\"https://colab.research.google.com/assets/colab-badge.svg\" alt=\"Open In Colab\"/></a>"
      ]
    },
    {
      "cell_type": "markdown",
      "source": [
        "#CST3512 `groupby()` Using  NYC Cause of Deaths    "
      ],
      "metadata": {
        "id": "TyARl1YW2wUD"
      }
    },
    {
      "cell_type": "markdown",
      "source": [
        "##Housekeeping"
      ],
      "metadata": {
        "id": "tVwX2cKG278z"
      }
    },
    {
      "cell_type": "markdown",
      "source": [
        "Import the usual suspects    "
      ],
      "metadata": {
        "id": "pW_DSKnr293S"
      }
    },
    {
      "cell_type": "code",
      "execution_count": 1,
      "metadata": {
        "id": "iwtrKCWM2jxR"
      },
      "outputs": [],
      "source": [
        "import pandas as pd\n",
        "import numpy as np"
      ]
    },
    {
      "cell_type": "code",
      "source": [
        "from matplotlib import pyplot as plt"
      ],
      "metadata": {
        "id": "8RLrG5Mb3AwF"
      },
      "execution_count": 2,
      "outputs": []
    },
    {
      "cell_type": "markdown",
      "source": [
        "Create a copy of the datafile from a `URL`    "
      ],
      "metadata": {
        "id": "vzd28Zkc3Kir"
      }
    },
    {
      "cell_type": "code",
      "source": [
        "!curl \"https://raw.githubusercontent.com/ProfessorPatrickSlatraigh/data/main/NYC_Leading_Causes_of_Death_Dec-2022.csv\" -o nyc_death_causes.csv"
      ],
      "metadata": {
        "colab": {
          "base_uri": "https://localhost:8080/"
        },
        "id": "7d-WkCEn3Q4M",
        "outputId": "c9c29562-cba9-41fa-8b34-e46cc7cf571c"
      },
      "execution_count": 3,
      "outputs": [
        {
          "output_type": "stream",
          "name": "stdout",
          "text": [
            "  % Total    % Received % Xferd  Average Speed   Time    Time     Time  Current\n",
            "                                 Dload  Upload   Total   Spent    Left  Speed\n",
            "100  107k  100  107k    0     0   461k      0 --:--:-- --:--:-- --:--:--  461k\n"
          ]
        }
      ]
    },
    {
      "cell_type": "markdown",
      "source": [
        "##Data Wrangling     "
      ],
      "metadata": {
        "id": "yhNCDNWVzb7M"
      }
    },
    {
      "cell_type": "markdown",
      "source": [
        "Read the datafile to a dataframe    "
      ],
      "metadata": {
        "id": "LEbW1V193Glz"
      }
    },
    {
      "cell_type": "code",
      "source": [
        "cd_df = pd.read_csv(\"nyc_death_causes.csv\")"
      ],
      "metadata": {
        "id": "AVKICQOO3Js7"
      },
      "execution_count": 4,
      "outputs": []
    },
    {
      "cell_type": "code",
      "source": [
        "cd_df.dtypes"
      ],
      "metadata": {
        "id": "eh_Kb5pA3uT1"
      },
      "execution_count": null,
      "outputs": []
    },
    {
      "cell_type": "code",
      "source": [
        "cd_df.head(24)"
      ],
      "metadata": {
        "id": "Rp0CgXMsRmnr"
      },
      "execution_count": null,
      "outputs": []
    },
    {
      "cell_type": "markdown",
      "source": [
        "Clean up any commas, spaces, or periods in the `Deaths` column"
      ],
      "metadata": {
        "id": "sge2mc3eSsfM"
      }
    },
    {
      "cell_type": "code",
      "source": [
        "cd_df[\"Deaths\"] = cd_df.Deaths.str.replace(',', '')\n",
        "cd_df[\"Deaths\"] = cd_df.Deaths.str.replace(' ', '')\n",
        "cd_df[\"Deaths\"] = cd_df.Deaths.str.replace('.', '0')"
      ],
      "metadata": {
        "id": "vuxUjL9bRNx8",
        "colab": {
          "base_uri": "https://localhost:8080/"
        },
        "outputId": "09caa23f-ba0a-43b8-8ecf-d785f1591951"
      },
      "execution_count": 5,
      "outputs": [
        {
          "output_type": "stream",
          "name": "stderr",
          "text": [
            "<ipython-input-5-c6810d7e1a09>:3: FutureWarning: The default value of regex will change from True to False in a future version. In addition, single character regular expressions will *not* be treated as literal strings when regex=True.\n",
            "  cd_df[\"Deaths\"] = cd_df.Deaths.str.replace('.', '0')\n"
          ]
        }
      ]
    },
    {
      "cell_type": "markdown",
      "source": [
        "Convert `Deaths` to an integer value    "
      ],
      "metadata": {
        "id": "dSqeVpj6zfrG"
      }
    },
    {
      "cell_type": "code",
      "source": [
        "cd_df[\"Deaths\"] = cd_df[\"Deaths\"].astype('str').astype('int')"
      ],
      "metadata": {
        "id": "1ikz-ZaSSp99"
      },
      "execution_count": 6,
      "outputs": []
    },
    {
      "cell_type": "code",
      "source": [
        "cd_df.head(24)"
      ],
      "metadata": {
        "id": "bJMY9-G3LbXv"
      },
      "execution_count": null,
      "outputs": []
    },
    {
      "cell_type": "code",
      "source": [
        "# Scaffolding to explore rows by Boolean search\n",
        "# cd_df.loc[(cd_df[\"Year\"] == 2019) & (cd_df[\"RaceEthnicity\"] == \"Other Race/ Ethnicity\") & (cd_df[\"LeadingCause\"] == \"Septicemia (A40-A41)\")]"
      ],
      "metadata": {
        "id": "q51MkLaOMVMn"
      },
      "execution_count": null,
      "outputs": []
    },
    {
      "cell_type": "markdown",
      "source": [
        "Get categories of `LeadingCause`    "
      ],
      "metadata": {
        "id": "YKYbxuA-zkFA"
      }
    },
    {
      "cell_type": "code",
      "source": [
        "cd_df['LeadingCause'].unique()"
      ],
      "metadata": {
        "colab": {
          "base_uri": "https://localhost:8080/"
        },
        "id": "M1RqIe7a3nkM",
        "outputId": "b130b093-cdbb-40de-c414-0dff883c0ed1"
      },
      "execution_count": 7,
      "outputs": [
        {
          "output_type": "execute_result",
          "data": {
            "text/plain": [
              "array(['Diseases of Heart (I00-I09, I11, I13, I20-I51)',\n",
              "       'Malignant Neoplasms (Cancer: C00-C97)',\n",
              "       'Mental and Behavioral Disorders due to Accidental Poisoning and Other Psychoactive Substance Use (F11-F16, F18-F19, X40-X42, X44)',\n",
              "       'Diabetes Mellitus (E10-E14)',\n",
              "       'Influenza (Flu) and Pneumonia (J09-J18)',\n",
              "       'Cerebrovascular Disease (Stroke: I60-I69)',\n",
              "       'Accidents Except Drug Poisoning (V01-X39, X43, X45-X59, Y85-Y86)',\n",
              "       'Chronic Liver Disease and Cirrhosis (K70, K73-K74)',\n",
              "       'Chronic Lower Respiratory Diseases (J40-J47)',\n",
              "       'Essential Hypertension and Renal Diseases (I10, I12)',\n",
              "       'All Other Causes',\n",
              "       'Intentional Self-Harm (Suicide: U03, X60-X84, Y87.0)',\n",
              "       \"Alzheimer's Disease (G30)\",\n",
              "       'Assault (Homicide: U01-U02, Y87.1, X85-Y09)',\n",
              "       'Mental and Behavioral Disorders due to Use of Alcohol (F10)',\n",
              "       'Congenital Malformations, Deformations, and Chromosomal Abnormalities (Q00-Q99)',\n",
              "       'Aortic Aneurysm and Dissection (I71)',\n",
              "       'Viral Hepatitis (B15-B19)', 'Septicemia (A40-A41)',\n",
              "       'Complications of Medical and Surgical Care (Y40-Y84, Y88)',\n",
              "       'Human Immunodeficiency Virus Disease (HIV: B20-B24)',\n",
              "       'Cholelithiasis and Disorders of Gallbladder (K80-K82)',\n",
              "       'Certain Conditions originating in the Perinatal Period (P00-P96)',\n",
              "       'Nephritis, Nephrotic Syndrome and Nephrisis (N00-N07, N17-N19, N25-N27)',\n",
              "       'Insitu or Benign / Uncertain Neoplasms (D00-D48)',\n",
              "       'Anemias (D50-D64)', \"Parkinson's Disease (G20)\",\n",
              "       'Peptic Ulcer (K25-K28)', 'Assault (Homicide: Y87.1, X85-Y09)',\n",
              "       'Accidents Except Drug Posioning (V01-X39, X43, X45-X59, Y85-Y86)',\n",
              "       'Intentional Self-Harm (Suicide: X60-X84, Y87.0)',\n",
              "       'Chronic Liver Disease and Cirrhosis (K70, K73)',\n",
              "       'Atherosclerosis (I70)', 'Tuberculosis (A16-A19)'], dtype=object)"
            ]
          },
          "metadata": {},
          "execution_count": 7
        }
      ]
    },
    {
      "cell_type": "markdown",
      "source": [
        "Create an enrichment DataFrame to merge into the existing DataFrame "
      ],
      "metadata": {
        "id": "JT-d6tspzteG"
      }
    },
    {
      "cell_type": "code",
      "source": [
        "enrich_df = pd.DataFrame({\n",
        "    'LeadingCause' : ['Diseases of Heart (I00-I09, I11, I13, I20-I51)',\n",
        "       'Malignant Neoplasms (Cancer: C00-C97)',\n",
        "       'Mental and Behavioral Disorders due to Accidental Poisoning and Other Psychoactive Substance Use (F11-F16, F18-F19, X40-X42, X44)',\n",
        "       'Diabetes Mellitus (E10-E14)',\n",
        "       'Influenza (Flu) and Pneumonia (J09-J18)',\n",
        "       'Cerebrovascular Disease (Stroke: I60-I69)',\n",
        "       'Accidents Except Drug Poisoning (V01-X39, X43, X45-X59, Y85-Y86)',\n",
        "       'Chronic Liver Disease and Cirrhosis (K70, K73-K74)',\n",
        "       'Chronic Lower Respiratory Diseases (J40-J47)',\n",
        "       'Essential Hypertension and Renal Diseases (I10, I12)',\n",
        "       'All Other Causes',\n",
        "       'Intentional Self-Harm (Suicide: U03, X60-X84, Y87.0)',\n",
        "       \"Alzheimer's Disease (G30)\",\n",
        "       'Assault (Homicide: U01-U02, Y87.1, X85-Y09)',\n",
        "       'Mental and Behavioral Disorders due to Use of Alcohol (F10)',\n",
        "       'Congenital Malformations, Deformations, and Chromosomal Abnormalities (Q00-Q99)',\n",
        "       'Aortic Aneurysm and Dissection (I71)',\n",
        "       'Viral Hepatitis (B15-B19)', 'Septicemia (A40-A41)',\n",
        "       'Complications of Medical and Surgical Care (Y40-Y84, Y88)',\n",
        "       'Human Immunodeficiency Virus Disease (HIV: B20-B24)',\n",
        "       'Cholelithiasis and Disorders of Gallbladder (K80-K82)',\n",
        "       'Certain Conditions originating in the Perinatal Period (P00-P96)',\n",
        "       'Nephritis, Nephrotic Syndrome and Nephrisis (N00-N07, N17-N19, N25-N27)',\n",
        "       'Insitu or Benign / Uncertain Neoplasms (D00-D48)',\n",
        "       'Anemias (D50-D64)', \"Parkinson's Disease (G20)\",\n",
        "       'Peptic Ulcer (K25-K28)', 'Assault (Homicide: Y87.1, X85-Y09)',\n",
        "       'Accidents Except Drug Posioning (V01-X39, X43, X45-X59, Y85-Y86)',\n",
        "       'Intentional Self-Harm (Suicide: X60-X84, Y87.0)',\n",
        "       'Chronic Liver Disease and Cirrhosis (K70, K73)',\n",
        "       'Atherosclerosis (I70)', 'Tuberculosis (A16-A19)'],\n",
        "    'Cause' : ['Heart',\n",
        "       'Neoplasms',\n",
        "       'Drug',\n",
        "       'Diabetes',\n",
        "       'Flu/Pneumonia',\n",
        "       'Cerebrovascular',\n",
        "       'Accidents',\n",
        "       'Liver / Cirrhosis',\n",
        "       'Respiratory',\n",
        "       'Renal',\n",
        "       'All Other',\n",
        "       'Self-Harm',\n",
        "       \"Alzheimer's\",\n",
        "       'Homicide',\n",
        "       'Alcohol',\n",
        "       'Congenital',\n",
        "       'Aortic',\n",
        "       'Hepatitis', 'Septicemia',\n",
        "       'Surgical',\n",
        "       'HIV',\n",
        "       'Cholelithiasis',\n",
        "       'Perinatal',\n",
        "       'Nephritis',\n",
        "       'Neoplasms',\n",
        "       'Anemias', 'Parkinsons',\n",
        "       'Peptic Ulcer', 'Assault',\n",
        "       'Accidents',\n",
        "       'Self-Harm',\n",
        "       'Liver / Cirrhosis',\n",
        "       'Atherosclerosis', 'Tuberculosis'],\n",
        "    'Type' : ['Other_Organ',\n",
        "       'All_Other',\n",
        "       'Drug',\n",
        "       'Disease',\n",
        "       'Disease',\n",
        "       'Other_Organ',\n",
        "       'Accident_Crime',\n",
        "       'Liver_Cirrhosis',\n",
        "       'Other_Organ',\n",
        "       'Other_Organ',\n",
        "       'All_Other',\n",
        "       'Accident_Crime',\n",
        "       \"Other_Organ\",\n",
        "       'Accident_Crime',\n",
        "       'Behavior',\n",
        "       'All_Other',\n",
        "       'Other_Organ',\n",
        "       'Disease', 'Disease',\n",
        "       'Accident_Crime',\n",
        "       'Disease',\n",
        "       'Disease',\n",
        "       'All_Other',\n",
        "       'Disease',\n",
        "       'All_Other',\n",
        "       'All_Other', 'Disease',\n",
        "       'Behavior', 'Accident_Crime',\n",
        "       'Accident_Crime',\n",
        "       'Behavior',\n",
        "       'Liver_Cirrhosis',\n",
        "       'Disease', 'Disease']    \n",
        "})"
      ],
      "metadata": {
        "id": "S1TsRdOK4PmO"
      },
      "execution_count": 8,
      "outputs": []
    },
    {
      "cell_type": "code",
      "source": [
        "enrich_df"
      ],
      "metadata": {
        "id": "-WacwGpzIFvJ"
      },
      "execution_count": null,
      "outputs": []
    },
    {
      "cell_type": "markdown",
      "source": [
        "Add labels to the existing DataFrame by merging in the enrichment data   "
      ],
      "metadata": {
        "id": "4h93aMBbz4bv"
      }
    },
    {
      "cell_type": "code",
      "source": [
        "labeled_df = cd_df.merge(enrich_df)"
      ],
      "metadata": {
        "id": "s8_RxKs6IXQZ"
      },
      "execution_count": 10,
      "outputs": []
    },
    {
      "cell_type": "code",
      "source": [
        "labeled_df.groupby( [ \"Year\", \"Type\", \"LeadingCause\", \"Cause\", \"Sex\", \"RaceEthnicity\"] ).sum().reset_index()"
      ],
      "metadata": {
        "id": "jxBDFHBuK56u",
        "colab": {
          "base_uri": "https://localhost:8080/",
          "height": 424
        },
        "outputId": "9159e1a9-8fd7-4173-9abb-77cab8d016e2"
      },
      "execution_count": 11,
      "outputs": [
        {
          "output_type": "execute_result",
          "data": {
            "text/plain": [
              "      Year            Type                                       LeadingCause  \\\n",
              "0     2007  Accident_Crime  Accidents Except Drug Posioning (V01-X39, X43,...   \n",
              "1     2007  Accident_Crime  Accidents Except Drug Posioning (V01-X39, X43,...   \n",
              "2     2007  Accident_Crime  Accidents Except Drug Posioning (V01-X39, X43,...   \n",
              "3     2007  Accident_Crime  Accidents Except Drug Posioning (V01-X39, X43,...   \n",
              "4     2007  Accident_Crime  Accidents Except Drug Posioning (V01-X39, X43,...   \n",
              "...    ...             ...                                                ...   \n",
              "1245  2019     Other_Organ  Essential Hypertension and Renal Diseases (I10...   \n",
              "1246  2019     Other_Organ  Essential Hypertension and Renal Diseases (I10...   \n",
              "1247  2019     Other_Organ  Essential Hypertension and Renal Diseases (I10...   \n",
              "1248  2019     Other_Organ  Essential Hypertension and Renal Diseases (I10...   \n",
              "1249  2019     Other_Organ  Essential Hypertension and Renal Diseases (I10...   \n",
              "\n",
              "          Cause   Sex               RaceEthnicity  Deaths  \n",
              "0     Accidents     F  Asian and Pacific Islander      32  \n",
              "1     Accidents     F          Black Non-Hispanic      87  \n",
              "2     Accidents     F                    Hispanic      71  \n",
              "3     Accidents     F          Not Stated/Unknown       0  \n",
              "4     Accidents     F       Other Race/ Ethnicity       0  \n",
              "...         ...   ...                         ...     ...  \n",
              "1245      Renal  Male  Asian and Pacific Islander      56  \n",
              "1246      Renal  Male                    Hispanic     135  \n",
              "1247      Renal  Male          Non-Hispanic Black     185  \n",
              "1248      Renal  Male          Non-Hispanic White     181  \n",
              "1249      Renal  Male       Other Race/ Ethnicity       6  \n",
              "\n",
              "[1250 rows x 7 columns]"
            ],
            "text/html": [
              "\n",
              "  <div id=\"df-bfedc9bd-01f9-4d80-8484-61f56e7e20b1\">\n",
              "    <div class=\"colab-df-container\">\n",
              "      <div>\n",
              "<style scoped>\n",
              "    .dataframe tbody tr th:only-of-type {\n",
              "        vertical-align: middle;\n",
              "    }\n",
              "\n",
              "    .dataframe tbody tr th {\n",
              "        vertical-align: top;\n",
              "    }\n",
              "\n",
              "    .dataframe thead th {\n",
              "        text-align: right;\n",
              "    }\n",
              "</style>\n",
              "<table border=\"1\" class=\"dataframe\">\n",
              "  <thead>\n",
              "    <tr style=\"text-align: right;\">\n",
              "      <th></th>\n",
              "      <th>Year</th>\n",
              "      <th>Type</th>\n",
              "      <th>LeadingCause</th>\n",
              "      <th>Cause</th>\n",
              "      <th>Sex</th>\n",
              "      <th>RaceEthnicity</th>\n",
              "      <th>Deaths</th>\n",
              "    </tr>\n",
              "  </thead>\n",
              "  <tbody>\n",
              "    <tr>\n",
              "      <th>0</th>\n",
              "      <td>2007</td>\n",
              "      <td>Accident_Crime</td>\n",
              "      <td>Accidents Except Drug Posioning (V01-X39, X43,...</td>\n",
              "      <td>Accidents</td>\n",
              "      <td>F</td>\n",
              "      <td>Asian and Pacific Islander</td>\n",
              "      <td>32</td>\n",
              "    </tr>\n",
              "    <tr>\n",
              "      <th>1</th>\n",
              "      <td>2007</td>\n",
              "      <td>Accident_Crime</td>\n",
              "      <td>Accidents Except Drug Posioning (V01-X39, X43,...</td>\n",
              "      <td>Accidents</td>\n",
              "      <td>F</td>\n",
              "      <td>Black Non-Hispanic</td>\n",
              "      <td>87</td>\n",
              "    </tr>\n",
              "    <tr>\n",
              "      <th>2</th>\n",
              "      <td>2007</td>\n",
              "      <td>Accident_Crime</td>\n",
              "      <td>Accidents Except Drug Posioning (V01-X39, X43,...</td>\n",
              "      <td>Accidents</td>\n",
              "      <td>F</td>\n",
              "      <td>Hispanic</td>\n",
              "      <td>71</td>\n",
              "    </tr>\n",
              "    <tr>\n",
              "      <th>3</th>\n",
              "      <td>2007</td>\n",
              "      <td>Accident_Crime</td>\n",
              "      <td>Accidents Except Drug Posioning (V01-X39, X43,...</td>\n",
              "      <td>Accidents</td>\n",
              "      <td>F</td>\n",
              "      <td>Not Stated/Unknown</td>\n",
              "      <td>0</td>\n",
              "    </tr>\n",
              "    <tr>\n",
              "      <th>4</th>\n",
              "      <td>2007</td>\n",
              "      <td>Accident_Crime</td>\n",
              "      <td>Accidents Except Drug Posioning (V01-X39, X43,...</td>\n",
              "      <td>Accidents</td>\n",
              "      <td>F</td>\n",
              "      <td>Other Race/ Ethnicity</td>\n",
              "      <td>0</td>\n",
              "    </tr>\n",
              "    <tr>\n",
              "      <th>...</th>\n",
              "      <td>...</td>\n",
              "      <td>...</td>\n",
              "      <td>...</td>\n",
              "      <td>...</td>\n",
              "      <td>...</td>\n",
              "      <td>...</td>\n",
              "      <td>...</td>\n",
              "    </tr>\n",
              "    <tr>\n",
              "      <th>1245</th>\n",
              "      <td>2019</td>\n",
              "      <td>Other_Organ</td>\n",
              "      <td>Essential Hypertension and Renal Diseases (I10...</td>\n",
              "      <td>Renal</td>\n",
              "      <td>Male</td>\n",
              "      <td>Asian and Pacific Islander</td>\n",
              "      <td>56</td>\n",
              "    </tr>\n",
              "    <tr>\n",
              "      <th>1246</th>\n",
              "      <td>2019</td>\n",
              "      <td>Other_Organ</td>\n",
              "      <td>Essential Hypertension and Renal Diseases (I10...</td>\n",
              "      <td>Renal</td>\n",
              "      <td>Male</td>\n",
              "      <td>Hispanic</td>\n",
              "      <td>135</td>\n",
              "    </tr>\n",
              "    <tr>\n",
              "      <th>1247</th>\n",
              "      <td>2019</td>\n",
              "      <td>Other_Organ</td>\n",
              "      <td>Essential Hypertension and Renal Diseases (I10...</td>\n",
              "      <td>Renal</td>\n",
              "      <td>Male</td>\n",
              "      <td>Non-Hispanic Black</td>\n",
              "      <td>185</td>\n",
              "    </tr>\n",
              "    <tr>\n",
              "      <th>1248</th>\n",
              "      <td>2019</td>\n",
              "      <td>Other_Organ</td>\n",
              "      <td>Essential Hypertension and Renal Diseases (I10...</td>\n",
              "      <td>Renal</td>\n",
              "      <td>Male</td>\n",
              "      <td>Non-Hispanic White</td>\n",
              "      <td>181</td>\n",
              "    </tr>\n",
              "    <tr>\n",
              "      <th>1249</th>\n",
              "      <td>2019</td>\n",
              "      <td>Other_Organ</td>\n",
              "      <td>Essential Hypertension and Renal Diseases (I10...</td>\n",
              "      <td>Renal</td>\n",
              "      <td>Male</td>\n",
              "      <td>Other Race/ Ethnicity</td>\n",
              "      <td>6</td>\n",
              "    </tr>\n",
              "  </tbody>\n",
              "</table>\n",
              "<p>1250 rows × 7 columns</p>\n",
              "</div>\n",
              "      <button class=\"colab-df-convert\" onclick=\"convertToInteractive('df-bfedc9bd-01f9-4d80-8484-61f56e7e20b1')\"\n",
              "              title=\"Convert this dataframe to an interactive table.\"\n",
              "              style=\"display:none;\">\n",
              "        \n",
              "  <svg xmlns=\"http://www.w3.org/2000/svg\" height=\"24px\"viewBox=\"0 0 24 24\"\n",
              "       width=\"24px\">\n",
              "    <path d=\"M0 0h24v24H0V0z\" fill=\"none\"/>\n",
              "    <path d=\"M18.56 5.44l.94 2.06.94-2.06 2.06-.94-2.06-.94-.94-2.06-.94 2.06-2.06.94zm-11 1L8.5 8.5l.94-2.06 2.06-.94-2.06-.94L8.5 2.5l-.94 2.06-2.06.94zm10 10l.94 2.06.94-2.06 2.06-.94-2.06-.94-.94-2.06-.94 2.06-2.06.94z\"/><path d=\"M17.41 7.96l-1.37-1.37c-.4-.4-.92-.59-1.43-.59-.52 0-1.04.2-1.43.59L10.3 9.45l-7.72 7.72c-.78.78-.78 2.05 0 2.83L4 21.41c.39.39.9.59 1.41.59.51 0 1.02-.2 1.41-.59l7.78-7.78 2.81-2.81c.8-.78.8-2.07 0-2.86zM5.41 20L4 18.59l7.72-7.72 1.47 1.35L5.41 20z\"/>\n",
              "  </svg>\n",
              "      </button>\n",
              "      \n",
              "  <style>\n",
              "    .colab-df-container {\n",
              "      display:flex;\n",
              "      flex-wrap:wrap;\n",
              "      gap: 12px;\n",
              "    }\n",
              "\n",
              "    .colab-df-convert {\n",
              "      background-color: #E8F0FE;\n",
              "      border: none;\n",
              "      border-radius: 50%;\n",
              "      cursor: pointer;\n",
              "      display: none;\n",
              "      fill: #1967D2;\n",
              "      height: 32px;\n",
              "      padding: 0 0 0 0;\n",
              "      width: 32px;\n",
              "    }\n",
              "\n",
              "    .colab-df-convert:hover {\n",
              "      background-color: #E2EBFA;\n",
              "      box-shadow: 0px 1px 2px rgba(60, 64, 67, 0.3), 0px 1px 3px 1px rgba(60, 64, 67, 0.15);\n",
              "      fill: #174EA6;\n",
              "    }\n",
              "\n",
              "    [theme=dark] .colab-df-convert {\n",
              "      background-color: #3B4455;\n",
              "      fill: #D2E3FC;\n",
              "    }\n",
              "\n",
              "    [theme=dark] .colab-df-convert:hover {\n",
              "      background-color: #434B5C;\n",
              "      box-shadow: 0px 1px 3px 1px rgba(0, 0, 0, 0.15);\n",
              "      filter: drop-shadow(0px 1px 2px rgba(0, 0, 0, 0.3));\n",
              "      fill: #FFFFFF;\n",
              "    }\n",
              "  </style>\n",
              "\n",
              "      <script>\n",
              "        const buttonEl =\n",
              "          document.querySelector('#df-bfedc9bd-01f9-4d80-8484-61f56e7e20b1 button.colab-df-convert');\n",
              "        buttonEl.style.display =\n",
              "          google.colab.kernel.accessAllowed ? 'block' : 'none';\n",
              "\n",
              "        async function convertToInteractive(key) {\n",
              "          const element = document.querySelector('#df-bfedc9bd-01f9-4d80-8484-61f56e7e20b1');\n",
              "          const dataTable =\n",
              "            await google.colab.kernel.invokeFunction('convertToInteractive',\n",
              "                                                     [key], {});\n",
              "          if (!dataTable) return;\n",
              "\n",
              "          const docLinkHtml = 'Like what you see? Visit the ' +\n",
              "            '<a target=\"_blank\" href=https://colab.research.google.com/notebooks/data_table.ipynb>data table notebook</a>'\n",
              "            + ' to learn more about interactive tables.';\n",
              "          element.innerHTML = '';\n",
              "          dataTable['output_type'] = 'display_data';\n",
              "          await google.colab.output.renderOutput(dataTable, element);\n",
              "          const docLink = document.createElement('div');\n",
              "          docLink.innerHTML = docLinkHtml;\n",
              "          element.appendChild(docLink);\n",
              "        }\n",
              "      </script>\n",
              "    </div>\n",
              "  </div>\n",
              "  "
            ]
          },
          "metadata": {},
          "execution_count": 11
        }
      ]
    },
    {
      "cell_type": "markdown",
      "source": [
        "Create a DataFrame of `Deaths` by `Year`, `Type`, and `Cause`   "
      ],
      "metadata": {
        "id": "IaAxZvJ80Ckr"
      }
    },
    {
      "cell_type": "code",
      "source": [
        "cause_df = labeled_df[[\"Year\", \"Type\", \"Cause\", \"Deaths\"]]"
      ],
      "metadata": {
        "id": "GidctLvYU7Rm"
      },
      "execution_count": 12,
      "outputs": []
    },
    {
      "cell_type": "code",
      "source": [
        "cause_df"
      ],
      "metadata": {
        "colab": {
          "base_uri": "https://localhost:8080/",
          "height": 424
        },
        "id": "muKxgLJi3G9L",
        "outputId": "8b2d0abd-27dd-42cd-d716-2b7b3fd419ff"
      },
      "execution_count": 13,
      "outputs": [
        {
          "output_type": "execute_result",
          "data": {
            "text/plain": [
              "      Year             Type              Cause  Deaths\n",
              "0     2019      Other_Organ              Heart    1603\n",
              "1     2019      Other_Organ              Heart     731\n",
              "2     2019      Other_Organ              Heart    4034\n",
              "3     2019      Other_Organ              Heart    2315\n",
              "4     2019      Other_Organ              Heart      66\n",
              "...    ...              ...                ...     ...\n",
              "1267  2013  Liver_Cirrhosis  Liver / Cirrhosis       0\n",
              "1268  2009          Disease    Atherosclerosis       0\n",
              "1269  2007          Disease    Atherosclerosis       0\n",
              "1270  2010          Disease    Atherosclerosis       0\n",
              "1271  2011          Disease       Tuberculosis       0\n",
              "\n",
              "[1272 rows x 4 columns]"
            ],
            "text/html": [
              "\n",
              "  <div id=\"df-61068c0d-99eb-4284-b668-a0ccabdd4222\">\n",
              "    <div class=\"colab-df-container\">\n",
              "      <div>\n",
              "<style scoped>\n",
              "    .dataframe tbody tr th:only-of-type {\n",
              "        vertical-align: middle;\n",
              "    }\n",
              "\n",
              "    .dataframe tbody tr th {\n",
              "        vertical-align: top;\n",
              "    }\n",
              "\n",
              "    .dataframe thead th {\n",
              "        text-align: right;\n",
              "    }\n",
              "</style>\n",
              "<table border=\"1\" class=\"dataframe\">\n",
              "  <thead>\n",
              "    <tr style=\"text-align: right;\">\n",
              "      <th></th>\n",
              "      <th>Year</th>\n",
              "      <th>Type</th>\n",
              "      <th>Cause</th>\n",
              "      <th>Deaths</th>\n",
              "    </tr>\n",
              "  </thead>\n",
              "  <tbody>\n",
              "    <tr>\n",
              "      <th>0</th>\n",
              "      <td>2019</td>\n",
              "      <td>Other_Organ</td>\n",
              "      <td>Heart</td>\n",
              "      <td>1603</td>\n",
              "    </tr>\n",
              "    <tr>\n",
              "      <th>1</th>\n",
              "      <td>2019</td>\n",
              "      <td>Other_Organ</td>\n",
              "      <td>Heart</td>\n",
              "      <td>731</td>\n",
              "    </tr>\n",
              "    <tr>\n",
              "      <th>2</th>\n",
              "      <td>2019</td>\n",
              "      <td>Other_Organ</td>\n",
              "      <td>Heart</td>\n",
              "      <td>4034</td>\n",
              "    </tr>\n",
              "    <tr>\n",
              "      <th>3</th>\n",
              "      <td>2019</td>\n",
              "      <td>Other_Organ</td>\n",
              "      <td>Heart</td>\n",
              "      <td>2315</td>\n",
              "    </tr>\n",
              "    <tr>\n",
              "      <th>4</th>\n",
              "      <td>2019</td>\n",
              "      <td>Other_Organ</td>\n",
              "      <td>Heart</td>\n",
              "      <td>66</td>\n",
              "    </tr>\n",
              "    <tr>\n",
              "      <th>...</th>\n",
              "      <td>...</td>\n",
              "      <td>...</td>\n",
              "      <td>...</td>\n",
              "      <td>...</td>\n",
              "    </tr>\n",
              "    <tr>\n",
              "      <th>1267</th>\n",
              "      <td>2013</td>\n",
              "      <td>Liver_Cirrhosis</td>\n",
              "      <td>Liver / Cirrhosis</td>\n",
              "      <td>0</td>\n",
              "    </tr>\n",
              "    <tr>\n",
              "      <th>1268</th>\n",
              "      <td>2009</td>\n",
              "      <td>Disease</td>\n",
              "      <td>Atherosclerosis</td>\n",
              "      <td>0</td>\n",
              "    </tr>\n",
              "    <tr>\n",
              "      <th>1269</th>\n",
              "      <td>2007</td>\n",
              "      <td>Disease</td>\n",
              "      <td>Atherosclerosis</td>\n",
              "      <td>0</td>\n",
              "    </tr>\n",
              "    <tr>\n",
              "      <th>1270</th>\n",
              "      <td>2010</td>\n",
              "      <td>Disease</td>\n",
              "      <td>Atherosclerosis</td>\n",
              "      <td>0</td>\n",
              "    </tr>\n",
              "    <tr>\n",
              "      <th>1271</th>\n",
              "      <td>2011</td>\n",
              "      <td>Disease</td>\n",
              "      <td>Tuberculosis</td>\n",
              "      <td>0</td>\n",
              "    </tr>\n",
              "  </tbody>\n",
              "</table>\n",
              "<p>1272 rows × 4 columns</p>\n",
              "</div>\n",
              "      <button class=\"colab-df-convert\" onclick=\"convertToInteractive('df-61068c0d-99eb-4284-b668-a0ccabdd4222')\"\n",
              "              title=\"Convert this dataframe to an interactive table.\"\n",
              "              style=\"display:none;\">\n",
              "        \n",
              "  <svg xmlns=\"http://www.w3.org/2000/svg\" height=\"24px\"viewBox=\"0 0 24 24\"\n",
              "       width=\"24px\">\n",
              "    <path d=\"M0 0h24v24H0V0z\" fill=\"none\"/>\n",
              "    <path d=\"M18.56 5.44l.94 2.06.94-2.06 2.06-.94-2.06-.94-.94-2.06-.94 2.06-2.06.94zm-11 1L8.5 8.5l.94-2.06 2.06-.94-2.06-.94L8.5 2.5l-.94 2.06-2.06.94zm10 10l.94 2.06.94-2.06 2.06-.94-2.06-.94-.94-2.06-.94 2.06-2.06.94z\"/><path d=\"M17.41 7.96l-1.37-1.37c-.4-.4-.92-.59-1.43-.59-.52 0-1.04.2-1.43.59L10.3 9.45l-7.72 7.72c-.78.78-.78 2.05 0 2.83L4 21.41c.39.39.9.59 1.41.59.51 0 1.02-.2 1.41-.59l7.78-7.78 2.81-2.81c.8-.78.8-2.07 0-2.86zM5.41 20L4 18.59l7.72-7.72 1.47 1.35L5.41 20z\"/>\n",
              "  </svg>\n",
              "      </button>\n",
              "      \n",
              "  <style>\n",
              "    .colab-df-container {\n",
              "      display:flex;\n",
              "      flex-wrap:wrap;\n",
              "      gap: 12px;\n",
              "    }\n",
              "\n",
              "    .colab-df-convert {\n",
              "      background-color: #E8F0FE;\n",
              "      border: none;\n",
              "      border-radius: 50%;\n",
              "      cursor: pointer;\n",
              "      display: none;\n",
              "      fill: #1967D2;\n",
              "      height: 32px;\n",
              "      padding: 0 0 0 0;\n",
              "      width: 32px;\n",
              "    }\n",
              "\n",
              "    .colab-df-convert:hover {\n",
              "      background-color: #E2EBFA;\n",
              "      box-shadow: 0px 1px 2px rgba(60, 64, 67, 0.3), 0px 1px 3px 1px rgba(60, 64, 67, 0.15);\n",
              "      fill: #174EA6;\n",
              "    }\n",
              "\n",
              "    [theme=dark] .colab-df-convert {\n",
              "      background-color: #3B4455;\n",
              "      fill: #D2E3FC;\n",
              "    }\n",
              "\n",
              "    [theme=dark] .colab-df-convert:hover {\n",
              "      background-color: #434B5C;\n",
              "      box-shadow: 0px 1px 3px 1px rgba(0, 0, 0, 0.15);\n",
              "      filter: drop-shadow(0px 1px 2px rgba(0, 0, 0, 0.3));\n",
              "      fill: #FFFFFF;\n",
              "    }\n",
              "  </style>\n",
              "\n",
              "      <script>\n",
              "        const buttonEl =\n",
              "          document.querySelector('#df-61068c0d-99eb-4284-b668-a0ccabdd4222 button.colab-df-convert');\n",
              "        buttonEl.style.display =\n",
              "          google.colab.kernel.accessAllowed ? 'block' : 'none';\n",
              "\n",
              "        async function convertToInteractive(key) {\n",
              "          const element = document.querySelector('#df-61068c0d-99eb-4284-b668-a0ccabdd4222');\n",
              "          const dataTable =\n",
              "            await google.colab.kernel.invokeFunction('convertToInteractive',\n",
              "                                                     [key], {});\n",
              "          if (!dataTable) return;\n",
              "\n",
              "          const docLinkHtml = 'Like what you see? Visit the ' +\n",
              "            '<a target=\"_blank\" href=https://colab.research.google.com/notebooks/data_table.ipynb>data table notebook</a>'\n",
              "            + ' to learn more about interactive tables.';\n",
              "          element.innerHTML = '';\n",
              "          dataTable['output_type'] = 'display_data';\n",
              "          await google.colab.output.renderOutput(dataTable, element);\n",
              "          const docLink = document.createElement('div');\n",
              "          docLink.innerHTML = docLinkHtml;\n",
              "          element.appendChild(docLink);\n",
              "        }\n",
              "      </script>\n",
              "    </div>\n",
              "  </div>\n",
              "  "
            ]
          },
          "metadata": {},
          "execution_count": 13
        }
      ]
    },
    {
      "cell_type": "markdown",
      "source": [
        "##Plotting   "
      ],
      "metadata": {
        "id": "9YYjE1wVs-VX"
      }
    },
    {
      "cell_type": "markdown",
      "source": [
        "###Create a pie chart of causes of death for the entire dataset    "
      ],
      "metadata": {
        "id": "vslW2P9m0ShD"
      }
    },
    {
      "cell_type": "code",
      "source": [
        "type_df = cause_df.groupby(by=[\"Type\"]).sum()\n",
        "del type_df['Year']"
      ],
      "metadata": {
        "id": "lOmUQvI0U853"
      },
      "execution_count": 14,
      "outputs": []
    },
    {
      "cell_type": "code",
      "source": [
        "type_df"
      ],
      "metadata": {
        "id": "CimoXMrRVOcI",
        "colab": {
          "base_uri": "https://localhost:8080/",
          "height": 300
        },
        "outputId": "d162947b-d180-4197-c9bf-9e4800dbf8b4"
      },
      "execution_count": 15,
      "outputs": [
        {
          "output_type": "execute_result",
          "data": {
            "text/plain": [
              "                 Deaths\n",
              "Type                   \n",
              "Accident_Crime    11018\n",
              "All_Other        208676\n",
              "Behavior           2107\n",
              "Disease           42948\n",
              "Drug               5804\n",
              "Liver_Cirrhosis    1694\n",
              "Other_Organ      207310"
            ],
            "text/html": [
              "\n",
              "  <div id=\"df-1e5b4e1b-f207-467c-9381-2a7e22a57b96\">\n",
              "    <div class=\"colab-df-container\">\n",
              "      <div>\n",
              "<style scoped>\n",
              "    .dataframe tbody tr th:only-of-type {\n",
              "        vertical-align: middle;\n",
              "    }\n",
              "\n",
              "    .dataframe tbody tr th {\n",
              "        vertical-align: top;\n",
              "    }\n",
              "\n",
              "    .dataframe thead th {\n",
              "        text-align: right;\n",
              "    }\n",
              "</style>\n",
              "<table border=\"1\" class=\"dataframe\">\n",
              "  <thead>\n",
              "    <tr style=\"text-align: right;\">\n",
              "      <th></th>\n",
              "      <th>Deaths</th>\n",
              "    </tr>\n",
              "    <tr>\n",
              "      <th>Type</th>\n",
              "      <th></th>\n",
              "    </tr>\n",
              "  </thead>\n",
              "  <tbody>\n",
              "    <tr>\n",
              "      <th>Accident_Crime</th>\n",
              "      <td>11018</td>\n",
              "    </tr>\n",
              "    <tr>\n",
              "      <th>All_Other</th>\n",
              "      <td>208676</td>\n",
              "    </tr>\n",
              "    <tr>\n",
              "      <th>Behavior</th>\n",
              "      <td>2107</td>\n",
              "    </tr>\n",
              "    <tr>\n",
              "      <th>Disease</th>\n",
              "      <td>42948</td>\n",
              "    </tr>\n",
              "    <tr>\n",
              "      <th>Drug</th>\n",
              "      <td>5804</td>\n",
              "    </tr>\n",
              "    <tr>\n",
              "      <th>Liver_Cirrhosis</th>\n",
              "      <td>1694</td>\n",
              "    </tr>\n",
              "    <tr>\n",
              "      <th>Other_Organ</th>\n",
              "      <td>207310</td>\n",
              "    </tr>\n",
              "  </tbody>\n",
              "</table>\n",
              "</div>\n",
              "      <button class=\"colab-df-convert\" onclick=\"convertToInteractive('df-1e5b4e1b-f207-467c-9381-2a7e22a57b96')\"\n",
              "              title=\"Convert this dataframe to an interactive table.\"\n",
              "              style=\"display:none;\">\n",
              "        \n",
              "  <svg xmlns=\"http://www.w3.org/2000/svg\" height=\"24px\"viewBox=\"0 0 24 24\"\n",
              "       width=\"24px\">\n",
              "    <path d=\"M0 0h24v24H0V0z\" fill=\"none\"/>\n",
              "    <path d=\"M18.56 5.44l.94 2.06.94-2.06 2.06-.94-2.06-.94-.94-2.06-.94 2.06-2.06.94zm-11 1L8.5 8.5l.94-2.06 2.06-.94-2.06-.94L8.5 2.5l-.94 2.06-2.06.94zm10 10l.94 2.06.94-2.06 2.06-.94-2.06-.94-.94-2.06-.94 2.06-2.06.94z\"/><path d=\"M17.41 7.96l-1.37-1.37c-.4-.4-.92-.59-1.43-.59-.52 0-1.04.2-1.43.59L10.3 9.45l-7.72 7.72c-.78.78-.78 2.05 0 2.83L4 21.41c.39.39.9.59 1.41.59.51 0 1.02-.2 1.41-.59l7.78-7.78 2.81-2.81c.8-.78.8-2.07 0-2.86zM5.41 20L4 18.59l7.72-7.72 1.47 1.35L5.41 20z\"/>\n",
              "  </svg>\n",
              "      </button>\n",
              "      \n",
              "  <style>\n",
              "    .colab-df-container {\n",
              "      display:flex;\n",
              "      flex-wrap:wrap;\n",
              "      gap: 12px;\n",
              "    }\n",
              "\n",
              "    .colab-df-convert {\n",
              "      background-color: #E8F0FE;\n",
              "      border: none;\n",
              "      border-radius: 50%;\n",
              "      cursor: pointer;\n",
              "      display: none;\n",
              "      fill: #1967D2;\n",
              "      height: 32px;\n",
              "      padding: 0 0 0 0;\n",
              "      width: 32px;\n",
              "    }\n",
              "\n",
              "    .colab-df-convert:hover {\n",
              "      background-color: #E2EBFA;\n",
              "      box-shadow: 0px 1px 2px rgba(60, 64, 67, 0.3), 0px 1px 3px 1px rgba(60, 64, 67, 0.15);\n",
              "      fill: #174EA6;\n",
              "    }\n",
              "\n",
              "    [theme=dark] .colab-df-convert {\n",
              "      background-color: #3B4455;\n",
              "      fill: #D2E3FC;\n",
              "    }\n",
              "\n",
              "    [theme=dark] .colab-df-convert:hover {\n",
              "      background-color: #434B5C;\n",
              "      box-shadow: 0px 1px 3px 1px rgba(0, 0, 0, 0.15);\n",
              "      filter: drop-shadow(0px 1px 2px rgba(0, 0, 0, 0.3));\n",
              "      fill: #FFFFFF;\n",
              "    }\n",
              "  </style>\n",
              "\n",
              "      <script>\n",
              "        const buttonEl =\n",
              "          document.querySelector('#df-1e5b4e1b-f207-467c-9381-2a7e22a57b96 button.colab-df-convert');\n",
              "        buttonEl.style.display =\n",
              "          google.colab.kernel.accessAllowed ? 'block' : 'none';\n",
              "\n",
              "        async function convertToInteractive(key) {\n",
              "          const element = document.querySelector('#df-1e5b4e1b-f207-467c-9381-2a7e22a57b96');\n",
              "          const dataTable =\n",
              "            await google.colab.kernel.invokeFunction('convertToInteractive',\n",
              "                                                     [key], {});\n",
              "          if (!dataTable) return;\n",
              "\n",
              "          const docLinkHtml = 'Like what you see? Visit the ' +\n",
              "            '<a target=\"_blank\" href=https://colab.research.google.com/notebooks/data_table.ipynb>data table notebook</a>'\n",
              "            + ' to learn more about interactive tables.';\n",
              "          element.innerHTML = '';\n",
              "          dataTable['output_type'] = 'display_data';\n",
              "          await google.colab.output.renderOutput(dataTable, element);\n",
              "          const docLink = document.createElement('div');\n",
              "          docLink.innerHTML = docLinkHtml;\n",
              "          element.appendChild(docLink);\n",
              "        }\n",
              "      </script>\n",
              "    </div>\n",
              "  </div>\n",
              "  "
            ]
          },
          "metadata": {},
          "execution_count": 15
        }
      ]
    },
    {
      "cell_type": "code",
      "source": [
        "explode_lst = [0, 0, 0, 0, 0, 0.85, 0]"
      ],
      "metadata": {
        "id": "QSeOuVNa0rU3"
      },
      "execution_count": 16,
      "outputs": []
    },
    {
      "cell_type": "code",
      "source": [
        "# draw a pie chart with labels, percentages, and the 6th slice exploded\n",
        "plt.pie(type_df, labels=type_df.index, explode=explode_lst, shadow=True, autopct='%1.1f%%')\n",
        "\n",
        "# display the title\n",
        "plt.title(\"Liver/Cirrhosis vs. Other Causes of Death\")\n",
        "\n",
        "# show (or save) the plot\n",
        "plt.show()"
      ],
      "metadata": {
        "id": "Sr-VHsOTTNGm",
        "colab": {
          "base_uri": "https://localhost:8080/",
          "height": 319
        },
        "outputId": "84511f52-e17f-4f86-c5d4-97fd5ca888fc"
      },
      "execution_count": 17,
      "outputs": [
        {
          "output_type": "stream",
          "name": "stderr",
          "text": [
            "<ipython-input-17-eee8e57cdd0d>:2: MatplotlibDeprecationWarning: Non-1D inputs to pie() are currently squeeze()d, but this behavior is deprecated since 3.1 and will be removed in 3.3; pass a 1D array instead.\n",
            "  plt.pie(type_df, labels=type_df.index, explode=explode_lst, shadow=True, autopct='%1.1f%%')\n"
          ]
        },
        {
          "output_type": "display_data",
          "data": {
            "text/plain": [
              "<Figure size 432x288 with 1 Axes>"
            ],
            "image/png": "[encoded data removed]"
          },
          "metadata": {}
        }
      ]
    },
    {
      "cell_type": "markdown",
      "source": [
        "###Create a stacked area chart of the causes of death over time    "
      ],
      "metadata": {
        "id": "PMf5alNL0cx1"
      }
    },
    {
      "cell_type": "markdown",
      "source": [
        "Reset the index and then index on `Year`   "
      ],
      "metadata": {
        "id": "WskmUmkZ0n0j"
      }
    },
    {
      "cell_type": "code",
      "source": [
        "cause_df = cause_df.reset_index()"
      ],
      "metadata": {
        "id": "zBE14sBEWtPg"
      },
      "execution_count": 35,
      "outputs": []
    },
    {
      "cell_type": "code",
      "source": [
        "cause_df = cause_df.set_axis(cause_df[\"Year\"])"
      ],
      "metadata": {
        "id": "kBBolg2hXm9J"
      },
      "execution_count": 36,
      "outputs": []
    },
    {
      "cell_type": "code",
      "source": [
        "cause_df"
      ],
      "metadata": {
        "id": "_kWLkkuQ36IA"
      },
      "execution_count": null,
      "outputs": []
    },
    {
      "cell_type": "markdown",
      "source": [
        "Unpivot the DataFrame to have values by `Type` for each `Year`   "
      ],
      "metadata": {
        "id": "dsV0wsaD0rxR"
      }
    },
    {
      "cell_type": "code",
      "source": [
        "# function to unpivot the dataframe\n",
        "type_time_df = cause_df.melt(id_vars =['Year','Deaths'], value_vars =['Type'])"
      ],
      "metadata": {
        "id": "TS1C9B72YjYa"
      },
      "execution_count": 38,
      "outputs": []
    },
    {
      "cell_type": "code",
      "source": [
        "type_time_df.rename(columns = {'value':'Type'}, inplace = True)"
      ],
      "metadata": {
        "id": "agqrGz2XZ4H0"
      },
      "execution_count": 39,
      "outputs": []
    },
    {
      "cell_type": "code",
      "source": [
        "del type_time_df[\"variable\"]"
      ],
      "metadata": {
        "id": "tkbQ3VWwaPC7"
      },
      "execution_count": 40,
      "outputs": []
    },
    {
      "cell_type": "code",
      "source": [
        "type_time_df"
      ],
      "metadata": {
        "id": "cvDVxwODZGZL"
      },
      "execution_count": null,
      "outputs": []
    },
    {
      "cell_type": "code",
      "source": [
        "type_time_df.set_index(\"Year\")"
      ],
      "metadata": {
        "colab": {
          "base_uri": "https://localhost:8080/",
          "height": 455
        },
        "id": "yZrAWAQfapKD",
        "outputId": "4d20c99f-a6b5-4511-bb5f-01c6770a5458"
      },
      "execution_count": 42,
      "outputs": [
        {
          "output_type": "execute_result",
          "data": {
            "text/plain": [
              "      Deaths             Type\n",
              "Year                         \n",
              "2019    1603      Other_Organ\n",
              "2019     731      Other_Organ\n",
              "2019    4034      Other_Organ\n",
              "2019    2315      Other_Organ\n",
              "2019      66      Other_Organ\n",
              "...      ...              ...\n",
              "2013       0  Liver_Cirrhosis\n",
              "2009       0          Disease\n",
              "2007       0          Disease\n",
              "2010       0          Disease\n",
              "2011       0          Disease\n",
              "\n",
              "[1272 rows x 2 columns]"
            ],
            "text/html": [
              "\n",
              "  <div id=\"df-dd83d5b4-d38d-4699-b530-2bd23d1ae8e4\">\n",
              "    <div class=\"colab-df-container\">\n",
              "      <div>\n",
              "<style scoped>\n",
              "    .dataframe tbody tr th:only-of-type {\n",
              "        vertical-align: middle;\n",
              "    }\n",
              "\n",
              "    .dataframe tbody tr th {\n",
              "        vertical-align: top;\n",
              "    }\n",
              "\n",
              "    .dataframe thead th {\n",
              "        text-align: right;\n",
              "    }\n",
              "</style>\n",
              "<table border=\"1\" class=\"dataframe\">\n",
              "  <thead>\n",
              "    <tr style=\"text-align: right;\">\n",
              "      <th></th>\n",
              "      <th>Deaths</th>\n",
              "      <th>Type</th>\n",
              "    </tr>\n",
              "    <tr>\n",
              "      <th>Year</th>\n",
              "      <th></th>\n",
              "      <th></th>\n",
              "    </tr>\n",
              "  </thead>\n",
              "  <tbody>\n",
              "    <tr>\n",
              "      <th>2019</th>\n",
              "      <td>1603</td>\n",
              "      <td>Other_Organ</td>\n",
              "    </tr>\n",
              "    <tr>\n",
              "      <th>2019</th>\n",
              "      <td>731</td>\n",
              "      <td>Other_Organ</td>\n",
              "    </tr>\n",
              "    <tr>\n",
              "      <th>2019</th>\n",
              "      <td>4034</td>\n",
              "      <td>Other_Organ</td>\n",
              "    </tr>\n",
              "    <tr>\n",
              "      <th>2019</th>\n",
              "      <td>2315</td>\n",
              "      <td>Other_Organ</td>\n",
              "    </tr>\n",
              "    <tr>\n",
              "      <th>2019</th>\n",
              "      <td>66</td>\n",
              "      <td>Other_Organ</td>\n",
              "    </tr>\n",
              "    <tr>\n",
              "      <th>...</th>\n",
              "      <td>...</td>\n",
              "      <td>...</td>\n",
              "    </tr>\n",
              "    <tr>\n",
              "      <th>2013</th>\n",
              "      <td>0</td>\n",
              "      <td>Liver_Cirrhosis</td>\n",
              "    </tr>\n",
              "    <tr>\n",
              "      <th>2009</th>\n",
              "      <td>0</td>\n",
              "      <td>Disease</td>\n",
              "    </tr>\n",
              "    <tr>\n",
              "      <th>2007</th>\n",
              "      <td>0</td>\n",
              "      <td>Disease</td>\n",
              "    </tr>\n",
              "    <tr>\n",
              "      <th>2010</th>\n",
              "      <td>0</td>\n",
              "      <td>Disease</td>\n",
              "    </tr>\n",
              "    <tr>\n",
              "      <th>2011</th>\n",
              "      <td>0</td>\n",
              "      <td>Disease</td>\n",
              "    </tr>\n",
              "  </tbody>\n",
              "</table>\n",
              "<p>1272 rows × 2 columns</p>\n",
              "</div>\n",
              "      <button class=\"colab-df-convert\" onclick=\"convertToInteractive('df-dd83d5b4-d38d-4699-b530-2bd23d1ae8e4')\"\n",
              "              title=\"Convert this dataframe to an interactive table.\"\n",
              "              style=\"display:none;\">\n",
              "        \n",
              "  <svg xmlns=\"http://www.w3.org/2000/svg\" height=\"24px\"viewBox=\"0 0 24 24\"\n",
              "       width=\"24px\">\n",
              "    <path d=\"M0 0h24v24H0V0z\" fill=\"none\"/>\n",
              "    <path d=\"M18.56 5.44l.94 2.06.94-2.06 2.06-.94-2.06-.94-.94-2.06-.94 2.06-2.06.94zm-11 1L8.5 8.5l.94-2.06 2.06-.94-2.06-.94L8.5 2.5l-.94 2.06-2.06.94zm10 10l.94 2.06.94-2.06 2.06-.94-2.06-.94-.94-2.06-.94 2.06-2.06.94z\"/><path d=\"M17.41 7.96l-1.37-1.37c-.4-.4-.92-.59-1.43-.59-.52 0-1.04.2-1.43.59L10.3 9.45l-7.72 7.72c-.78.78-.78 2.05 0 2.83L4 21.41c.39.39.9.59 1.41.59.51 0 1.02-.2 1.41-.59l7.78-7.78 2.81-2.81c.8-.78.8-2.07 0-2.86zM5.41 20L4 18.59l7.72-7.72 1.47 1.35L5.41 20z\"/>\n",
              "  </svg>\n",
              "      </button>\n",
              "      \n",
              "  <style>\n",
              "    .colab-df-container {\n",
              "      display:flex;\n",
              "      flex-wrap:wrap;\n",
              "      gap: 12px;\n",
              "    }\n",
              "\n",
              "    .colab-df-convert {\n",
              "      background-color: #E8F0FE;\n",
              "      border: none;\n",
              "      border-radius: 50%;\n",
              "      cursor: pointer;\n",
              "      display: none;\n",
              "      fill: #1967D2;\n",
              "      height: 32px;\n",
              "      padding: 0 0 0 0;\n",
              "      width: 32px;\n",
              "    }\n",
              "\n",
              "    .colab-df-convert:hover {\n",
              "      background-color: #E2EBFA;\n",
              "      box-shadow: 0px 1px 2px rgba(60, 64, 67, 0.3), 0px 1px 3px 1px rgba(60, 64, 67, 0.15);\n",
              "      fill: #174EA6;\n",
              "    }\n",
              "\n",
              "    [theme=dark] .colab-df-convert {\n",
              "      background-color: #3B4455;\n",
              "      fill: #D2E3FC;\n",
              "    }\n",
              "\n",
              "    [theme=dark] .colab-df-convert:hover {\n",
              "      background-color: #434B5C;\n",
              "      box-shadow: 0px 1px 3px 1px rgba(0, 0, 0, 0.15);\n",
              "      filter: drop-shadow(0px 1px 2px rgba(0, 0, 0, 0.3));\n",
              "      fill: #FFFFFF;\n",
              "    }\n",
              "  </style>\n",
              "\n",
              "      <script>\n",
              "        const buttonEl =\n",
              "          document.querySelector('#df-dd83d5b4-d38d-4699-b530-2bd23d1ae8e4 button.colab-df-convert');\n",
              "        buttonEl.style.display =\n",
              "          google.colab.kernel.accessAllowed ? 'block' : 'none';\n",
              "\n",
              "        async function convertToInteractive(key) {\n",
              "          const element = document.querySelector('#df-dd83d5b4-d38d-4699-b530-2bd23d1ae8e4');\n",
              "          const dataTable =\n",
              "            await google.colab.kernel.invokeFunction('convertToInteractive',\n",
              "                                                     [key], {});\n",
              "          if (!dataTable) return;\n",
              "\n",
              "          const docLinkHtml = 'Like what you see? Visit the ' +\n",
              "            '<a target=\"_blank\" href=https://colab.research.google.com/notebooks/data_table.ipynb>data table notebook</a>'\n",
              "            + ' to learn more about interactive tables.';\n",
              "          element.innerHTML = '';\n",
              "          dataTable['output_type'] = 'display_data';\n",
              "          await google.colab.output.renderOutput(dataTable, element);\n",
              "          const docLink = document.createElement('div');\n",
              "          docLink.innerHTML = docLinkHtml;\n",
              "          element.appendChild(docLink);\n",
              "        }\n",
              "      </script>\n",
              "    </div>\n",
              "  </div>\n",
              "  "
            ]
          },
          "metadata": {},
          "execution_count": 42
        }
      ]
    },
    {
      "cell_type": "markdown",
      "source": [
        "Stack the values by `Type` to produce a sub-total for each `Year`   "
      ],
      "metadata": {
        "id": "wT13fZu31BOB"
      }
    },
    {
      "cell_type": "code",
      "source": [
        "type_stack_df = type_time_df.groupby(by=[\"Year\", \"Type\"]).sum()"
      ],
      "metadata": {
        "id": "i4cuQyrD5jSb"
      },
      "execution_count": 43,
      "outputs": []
    },
    {
      "cell_type": "code",
      "source": [
        "type_stack_df"
      ],
      "metadata": {
        "colab": {
          "base_uri": "https://localhost:8080/",
          "height": 455
        },
        "id": "2BEt3kTW5txX",
        "outputId": "b20a13cb-0970-4085-985c-dbda04ce029b"
      },
      "execution_count": 44,
      "outputs": [
        {
          "output_type": "execute_result",
          "data": {
            "text/plain": [
              "                      Deaths\n",
              "Year Type                   \n",
              "2007 Accident_Crime     1408\n",
              "     All_Other         21391\n",
              "     Behavior            250\n",
              "     Disease            4994\n",
              "     Drug                704\n",
              "...                      ...\n",
              "2019 Behavior             21\n",
              "     Disease            3625\n",
              "     Drug               1520\n",
              "     Liver_Cirrhosis     189\n",
              "     Other_Organ       23669\n",
              "\n",
              "[63 rows x 1 columns]"
            ],
            "text/html": [
              "\n",
              "  <div id=\"df-9ce876e8-0b35-409d-9acd-73eb8327ce02\">\n",
              "    <div class=\"colab-df-container\">\n",
              "      <div>\n",
              "<style scoped>\n",
              "    .dataframe tbody tr th:only-of-type {\n",
              "        vertical-align: middle;\n",
              "    }\n",
              "\n",
              "    .dataframe tbody tr th {\n",
              "        vertical-align: top;\n",
              "    }\n",
              "\n",
              "    .dataframe thead th {\n",
              "        text-align: right;\n",
              "    }\n",
              "</style>\n",
              "<table border=\"1\" class=\"dataframe\">\n",
              "  <thead>\n",
              "    <tr style=\"text-align: right;\">\n",
              "      <th></th>\n",
              "      <th></th>\n",
              "      <th>Deaths</th>\n",
              "    </tr>\n",
              "    <tr>\n",
              "      <th>Year</th>\n",
              "      <th>Type</th>\n",
              "      <th></th>\n",
              "    </tr>\n",
              "  </thead>\n",
              "  <tbody>\n",
              "    <tr>\n",
              "      <th rowspan=\"5\" valign=\"top\">2007</th>\n",
              "      <th>Accident_Crime</th>\n",
              "      <td>1408</td>\n",
              "    </tr>\n",
              "    <tr>\n",
              "      <th>All_Other</th>\n",
              "      <td>21391</td>\n",
              "    </tr>\n",
              "    <tr>\n",
              "      <th>Behavior</th>\n",
              "      <td>250</td>\n",
              "    </tr>\n",
              "    <tr>\n",
              "      <th>Disease</th>\n",
              "      <td>4994</td>\n",
              "    </tr>\n",
              "    <tr>\n",
              "      <th>Drug</th>\n",
              "      <td>704</td>\n",
              "    </tr>\n",
              "    <tr>\n",
              "      <th>...</th>\n",
              "      <th>...</th>\n",
              "      <td>...</td>\n",
              "    </tr>\n",
              "    <tr>\n",
              "      <th rowspan=\"5\" valign=\"top\">2019</th>\n",
              "      <th>Behavior</th>\n",
              "      <td>21</td>\n",
              "    </tr>\n",
              "    <tr>\n",
              "      <th>Disease</th>\n",
              "      <td>3625</td>\n",
              "    </tr>\n",
              "    <tr>\n",
              "      <th>Drug</th>\n",
              "      <td>1520</td>\n",
              "    </tr>\n",
              "    <tr>\n",
              "      <th>Liver_Cirrhosis</th>\n",
              "      <td>189</td>\n",
              "    </tr>\n",
              "    <tr>\n",
              "      <th>Other_Organ</th>\n",
              "      <td>23669</td>\n",
              "    </tr>\n",
              "  </tbody>\n",
              "</table>\n",
              "<p>63 rows × 1 columns</p>\n",
              "</div>\n",
              "      <button class=\"colab-df-convert\" onclick=\"convertToInteractive('df-9ce876e8-0b35-409d-9acd-73eb8327ce02')\"\n",
              "              title=\"Convert this dataframe to an interactive table.\"\n",
              "              style=\"display:none;\">\n",
              "        \n",
              "  <svg xmlns=\"http://www.w3.org/2000/svg\" height=\"24px\"viewBox=\"0 0 24 24\"\n",
              "       width=\"24px\">\n",
              "    <path d=\"M0 0h24v24H0V0z\" fill=\"none\"/>\n",
              "    <path d=\"M18.56 5.44l.94 2.06.94-2.06 2.06-.94-2.06-.94-.94-2.06-.94 2.06-2.06.94zm-11 1L8.5 8.5l.94-2.06 2.06-.94-2.06-.94L8.5 2.5l-.94 2.06-2.06.94zm10 10l.94 2.06.94-2.06 2.06-.94-2.06-.94-.94-2.06-.94 2.06-2.06.94z\"/><path d=\"M17.41 7.96l-1.37-1.37c-.4-.4-.92-.59-1.43-.59-.52 0-1.04.2-1.43.59L10.3 9.45l-7.72 7.72c-.78.78-.78 2.05 0 2.83L4 21.41c.39.39.9.59 1.41.59.51 0 1.02-.2 1.41-.59l7.78-7.78 2.81-2.81c.8-.78.8-2.07 0-2.86zM5.41 20L4 18.59l7.72-7.72 1.47 1.35L5.41 20z\"/>\n",
              "  </svg>\n",
              "      </button>\n",
              "      \n",
              "  <style>\n",
              "    .colab-df-container {\n",
              "      display:flex;\n",
              "      flex-wrap:wrap;\n",
              "      gap: 12px;\n",
              "    }\n",
              "\n",
              "    .colab-df-convert {\n",
              "      background-color: #E8F0FE;\n",
              "      border: none;\n",
              "      border-radius: 50%;\n",
              "      cursor: pointer;\n",
              "      display: none;\n",
              "      fill: #1967D2;\n",
              "      height: 32px;\n",
              "      padding: 0 0 0 0;\n",
              "      width: 32px;\n",
              "    }\n",
              "\n",
              "    .colab-df-convert:hover {\n",
              "      background-color: #E2EBFA;\n",
              "      box-shadow: 0px 1px 2px rgba(60, 64, 67, 0.3), 0px 1px 3px 1px rgba(60, 64, 67, 0.15);\n",
              "      fill: #174EA6;\n",
              "    }\n",
              "\n",
              "    [theme=dark] .colab-df-convert {\n",
              "      background-color: #3B4455;\n",
              "      fill: #D2E3FC;\n",
              "    }\n",
              "\n",
              "    [theme=dark] .colab-df-convert:hover {\n",
              "      background-color: #434B5C;\n",
              "      box-shadow: 0px 1px 3px 1px rgba(0, 0, 0, 0.15);\n",
              "      filter: drop-shadow(0px 1px 2px rgba(0, 0, 0, 0.3));\n",
              "      fill: #FFFFFF;\n",
              "    }\n",
              "  </style>\n",
              "\n",
              "      <script>\n",
              "        const buttonEl =\n",
              "          document.querySelector('#df-9ce876e8-0b35-409d-9acd-73eb8327ce02 button.colab-df-convert');\n",
              "        buttonEl.style.display =\n",
              "          google.colab.kernel.accessAllowed ? 'block' : 'none';\n",
              "\n",
              "        async function convertToInteractive(key) {\n",
              "          const element = document.querySelector('#df-9ce876e8-0b35-409d-9acd-73eb8327ce02');\n",
              "          const dataTable =\n",
              "            await google.colab.kernel.invokeFunction('convertToInteractive',\n",
              "                                                     [key], {});\n",
              "          if (!dataTable) return;\n",
              "\n",
              "          const docLinkHtml = 'Like what you see? Visit the ' +\n",
              "            '<a target=\"_blank\" href=https://colab.research.google.com/notebooks/data_table.ipynb>data table notebook</a>'\n",
              "            + ' to learn more about interactive tables.';\n",
              "          element.innerHTML = '';\n",
              "          dataTable['output_type'] = 'display_data';\n",
              "          await google.colab.output.renderOutput(dataTable, element);\n",
              "          const docLink = document.createElement('div');\n",
              "          docLink.innerHTML = docLinkHtml;\n",
              "          element.appendChild(docLink);\n",
              "        }\n",
              "      </script>\n",
              "    </div>\n",
              "  </div>\n",
              "  "
            ]
          },
          "metadata": {},
          "execution_count": 44
        }
      ]
    },
    {
      "cell_type": "markdown",
      "source": [
        "Set the index as `Year`    "
      ],
      "metadata": {
        "id": "IdF5oRcX1JkM"
      }
    },
    {
      "cell_type": "code",
      "source": [
        "type_stack_df.reset_index(inplace=True, level = ['Type'])"
      ],
      "metadata": {
        "id": "5LQv1SdB7yZw"
      },
      "execution_count": 45,
      "outputs": []
    },
    {
      "cell_type": "code",
      "source": [
        "type_stack_df"
      ],
      "metadata": {
        "colab": {
          "base_uri": "https://localhost:8080/",
          "height": 455
        },
        "id": "xZnwtLNK_wtC",
        "outputId": "e8a062fb-2a9d-4541-84ee-ae586504ecfb"
      },
      "execution_count": 46,
      "outputs": [
        {
          "output_type": "execute_result",
          "data": {
            "text/plain": [
              "                 Type  Deaths\n",
              "Year                         \n",
              "2007   Accident_Crime    1408\n",
              "2007        All_Other   21391\n",
              "2007         Behavior     250\n",
              "2007          Disease    4994\n",
              "2007             Drug     704\n",
              "...               ...     ...\n",
              "2019         Behavior      21\n",
              "2019          Disease    3625\n",
              "2019             Drug    1520\n",
              "2019  Liver_Cirrhosis     189\n",
              "2019      Other_Organ   23669\n",
              "\n",
              "[63 rows x 2 columns]"
            ],
            "text/html": [
              "\n",
              "  <div id=\"df-00639a36-79cc-464d-86f8-0a3082d0eb38\">\n",
              "    <div class=\"colab-df-container\">\n",
              "      <div>\n",
              "<style scoped>\n",
              "    .dataframe tbody tr th:only-of-type {\n",
              "        vertical-align: middle;\n",
              "    }\n",
              "\n",
              "    .dataframe tbody tr th {\n",
              "        vertical-align: top;\n",
              "    }\n",
              "\n",
              "    .dataframe thead th {\n",
              "        text-align: right;\n",
              "    }\n",
              "</style>\n",
              "<table border=\"1\" class=\"dataframe\">\n",
              "  <thead>\n",
              "    <tr style=\"text-align: right;\">\n",
              "      <th></th>\n",
              "      <th>Type</th>\n",
              "      <th>Deaths</th>\n",
              "    </tr>\n",
              "    <tr>\n",
              "      <th>Year</th>\n",
              "      <th></th>\n",
              "      <th></th>\n",
              "    </tr>\n",
              "  </thead>\n",
              "  <tbody>\n",
              "    <tr>\n",
              "      <th>2007</th>\n",
              "      <td>Accident_Crime</td>\n",
              "      <td>1408</td>\n",
              "    </tr>\n",
              "    <tr>\n",
              "      <th>2007</th>\n",
              "      <td>All_Other</td>\n",
              "      <td>21391</td>\n",
              "    </tr>\n",
              "    <tr>\n",
              "      <th>2007</th>\n",
              "      <td>Behavior</td>\n",
              "      <td>250</td>\n",
              "    </tr>\n",
              "    <tr>\n",
              "      <th>2007</th>\n",
              "      <td>Disease</td>\n",
              "      <td>4994</td>\n",
              "    </tr>\n",
              "    <tr>\n",
              "      <th>2007</th>\n",
              "      <td>Drug</td>\n",
              "      <td>704</td>\n",
              "    </tr>\n",
              "    <tr>\n",
              "      <th>...</th>\n",
              "      <td>...</td>\n",
              "      <td>...</td>\n",
              "    </tr>\n",
              "    <tr>\n",
              "      <th>2019</th>\n",
              "      <td>Behavior</td>\n",
              "      <td>21</td>\n",
              "    </tr>\n",
              "    <tr>\n",
              "      <th>2019</th>\n",
              "      <td>Disease</td>\n",
              "      <td>3625</td>\n",
              "    </tr>\n",
              "    <tr>\n",
              "      <th>2019</th>\n",
              "      <td>Drug</td>\n",
              "      <td>1520</td>\n",
              "    </tr>\n",
              "    <tr>\n",
              "      <th>2019</th>\n",
              "      <td>Liver_Cirrhosis</td>\n",
              "      <td>189</td>\n",
              "    </tr>\n",
              "    <tr>\n",
              "      <th>2019</th>\n",
              "      <td>Other_Organ</td>\n",
              "      <td>23669</td>\n",
              "    </tr>\n",
              "  </tbody>\n",
              "</table>\n",
              "<p>63 rows × 2 columns</p>\n",
              "</div>\n",
              "      <button class=\"colab-df-convert\" onclick=\"convertToInteractive('df-00639a36-79cc-464d-86f8-0a3082d0eb38')\"\n",
              "              title=\"Convert this dataframe to an interactive table.\"\n",
              "              style=\"display:none;\">\n",
              "        \n",
              "  <svg xmlns=\"http://www.w3.org/2000/svg\" height=\"24px\"viewBox=\"0 0 24 24\"\n",
              "       width=\"24px\">\n",
              "    <path d=\"M0 0h24v24H0V0z\" fill=\"none\"/>\n",
              "    <path d=\"M18.56 5.44l.94 2.06.94-2.06 2.06-.94-2.06-.94-.94-2.06-.94 2.06-2.06.94zm-11 1L8.5 8.5l.94-2.06 2.06-.94-2.06-.94L8.5 2.5l-.94 2.06-2.06.94zm10 10l.94 2.06.94-2.06 2.06-.94-2.06-.94-.94-2.06-.94 2.06-2.06.94z\"/><path d=\"M17.41 7.96l-1.37-1.37c-.4-.4-.92-.59-1.43-.59-.52 0-1.04.2-1.43.59L10.3 9.45l-7.72 7.72c-.78.78-.78 2.05 0 2.83L4 21.41c.39.39.9.59 1.41.59.51 0 1.02-.2 1.41-.59l7.78-7.78 2.81-2.81c.8-.78.8-2.07 0-2.86zM5.41 20L4 18.59l7.72-7.72 1.47 1.35L5.41 20z\"/>\n",
              "  </svg>\n",
              "      </button>\n",
              "      \n",
              "  <style>\n",
              "    .colab-df-container {\n",
              "      display:flex;\n",
              "      flex-wrap:wrap;\n",
              "      gap: 12px;\n",
              "    }\n",
              "\n",
              "    .colab-df-convert {\n",
              "      background-color: #E8F0FE;\n",
              "      border: none;\n",
              "      border-radius: 50%;\n",
              "      cursor: pointer;\n",
              "      display: none;\n",
              "      fill: #1967D2;\n",
              "      height: 32px;\n",
              "      padding: 0 0 0 0;\n",
              "      width: 32px;\n",
              "    }\n",
              "\n",
              "    .colab-df-convert:hover {\n",
              "      background-color: #E2EBFA;\n",
              "      box-shadow: 0px 1px 2px rgba(60, 64, 67, 0.3), 0px 1px 3px 1px rgba(60, 64, 67, 0.15);\n",
              "      fill: #174EA6;\n",
              "    }\n",
              "\n",
              "    [theme=dark] .colab-df-convert {\n",
              "      background-color: #3B4455;\n",
              "      fill: #D2E3FC;\n",
              "    }\n",
              "\n",
              "    [theme=dark] .colab-df-convert:hover {\n",
              "      background-color: #434B5C;\n",
              "      box-shadow: 0px 1px 3px 1px rgba(0, 0, 0, 0.15);\n",
              "      filter: drop-shadow(0px 1px 2px rgba(0, 0, 0, 0.3));\n",
              "      fill: #FFFFFF;\n",
              "    }\n",
              "  </style>\n",
              "\n",
              "      <script>\n",
              "        const buttonEl =\n",
              "          document.querySelector('#df-00639a36-79cc-464d-86f8-0a3082d0eb38 button.colab-df-convert');\n",
              "        buttonEl.style.display =\n",
              "          google.colab.kernel.accessAllowed ? 'block' : 'none';\n",
              "\n",
              "        async function convertToInteractive(key) {\n",
              "          const element = document.querySelector('#df-00639a36-79cc-464d-86f8-0a3082d0eb38');\n",
              "          const dataTable =\n",
              "            await google.colab.kernel.invokeFunction('convertToInteractive',\n",
              "                                                     [key], {});\n",
              "          if (!dataTable) return;\n",
              "\n",
              "          const docLinkHtml = 'Like what you see? Visit the ' +\n",
              "            '<a target=\"_blank\" href=https://colab.research.google.com/notebooks/data_table.ipynb>data table notebook</a>'\n",
              "            + ' to learn more about interactive tables.';\n",
              "          element.innerHTML = '';\n",
              "          dataTable['output_type'] = 'display_data';\n",
              "          await google.colab.output.renderOutput(dataTable, element);\n",
              "          const docLink = document.createElement('div');\n",
              "          docLink.innerHTML = docLinkHtml;\n",
              "          element.appendChild(docLink);\n",
              "        }\n",
              "      </script>\n",
              "    </div>\n",
              "  </div>\n",
              "  "
            ]
          },
          "metadata": {},
          "execution_count": 46
        }
      ]
    },
    {
      "cell_type": "markdown",
      "source": [
        "Pivot the `Deaths` values into separate columns for each `Type`   "
      ],
      "metadata": {
        "id": "2Z0FvIJ91Ole"
      }
    },
    {
      "cell_type": "code",
      "source": [
        "# Organize the data with each Type of cause of death as a column  \n",
        "type_plot_df = type_stack_df.pivot_table(values='Deaths', index=type_stack_df.index, columns='Type', aggfunc='first')"
      ],
      "metadata": {
        "id": "klHY9fdn8xqK"
      },
      "execution_count": 47,
      "outputs": []
    },
    {
      "cell_type": "code",
      "source": [
        "type_plot_df"
      ],
      "metadata": {
        "colab": {
          "base_uri": "https://localhost:8080/",
          "height": 363
        },
        "id": "7SrOEkOQ76X2",
        "outputId": "927dee7d-949c-41e0-90e8-a8b5f1f9cd54"
      },
      "execution_count": 48,
      "outputs": [
        {
          "output_type": "execute_result",
          "data": {
            "text/plain": [
              "Type  Accident_Crime  All_Other  Behavior  Disease  Drug  Liver_Cirrhosis  \\\n",
              "Year                                                                        \n",
              "2007            1408      21391       250     4994   704              125   \n",
              "2008            1336      21627       251     4959   498              212   \n",
              "2009            1187      21627       243     4864   505              146   \n",
              "2010            1164      22911       250     5077   355              168   \n",
              "2011            1016      23868       252     5007   683              172   \n",
              "2012            1207      24145       280     4736   452              217   \n",
              "2013            1122      24467       273     5007   564              194   \n",
              "2014            1129      24554       287     4679   523              271   \n",
              "2019            1449      24086        21     3625  1520              189   \n",
              "\n",
              "Type  Other_Organ  \n",
              "Year               \n",
              "2007        25124  \n",
              "2008        25255  \n",
              "2009        24248  \n",
              "2010        22580  \n",
              "2011        21728  \n",
              "2012        21383  \n",
              "2013        21760  \n",
              "2014        21563  \n",
              "2019        23669  "
            ],
            "text/html": [
              "\n",
              "  <div id=\"df-2fbd72ef-47cf-434a-96bd-92283a905b8c\">\n",
              "    <div class=\"colab-df-container\">\n",
              "      <div>\n",
              "<style scoped>\n",
              "    .dataframe tbody tr th:only-of-type {\n",
              "        vertical-align: middle;\n",
              "    }\n",
              "\n",
              "    .dataframe tbody tr th {\n",
              "        vertical-align: top;\n",
              "    }\n",
              "\n",
              "    .dataframe thead th {\n",
              "        text-align: right;\n",
              "    }\n",
              "</style>\n",
              "<table border=\"1\" class=\"dataframe\">\n",
              "  <thead>\n",
              "    <tr style=\"text-align: right;\">\n",
              "      <th>Type</th>\n",
              "      <th>Accident_Crime</th>\n",
              "      <th>All_Other</th>\n",
              "      <th>Behavior</th>\n",
              "      <th>Disease</th>\n",
              "      <th>Drug</th>\n",
              "      <th>Liver_Cirrhosis</th>\n",
              "      <th>Other_Organ</th>\n",
              "    </tr>\n",
              "    <tr>\n",
              "      <th>Year</th>\n",
              "      <th></th>\n",
              "      <th></th>\n",
              "      <th></th>\n",
              "      <th></th>\n",
              "      <th></th>\n",
              "      <th></th>\n",
              "      <th></th>\n",
              "    </tr>\n",
              "  </thead>\n",
              "  <tbody>\n",
              "    <tr>\n",
              "      <th>2007</th>\n",
              "      <td>1408</td>\n",
              "      <td>21391</td>\n",
              "      <td>250</td>\n",
              "      <td>4994</td>\n",
              "      <td>704</td>\n",
              "      <td>125</td>\n",
              "      <td>25124</td>\n",
              "    </tr>\n",
              "    <tr>\n",
              "      <th>2008</th>\n",
              "      <td>1336</td>\n",
              "      <td>21627</td>\n",
              "      <td>251</td>\n",
              "      <td>4959</td>\n",
              "      <td>498</td>\n",
              "      <td>212</td>\n",
              "      <td>25255</td>\n",
              "    </tr>\n",
              "    <tr>\n",
              "      <th>2009</th>\n",
              "      <td>1187</td>\n",
              "      <td>21627</td>\n",
              "      <td>243</td>\n",
              "      <td>4864</td>\n",
              "      <td>505</td>\n",
              "      <td>146</td>\n",
              "      <td>24248</td>\n",
              "    </tr>\n",
              "    <tr>\n",
              "      <th>2010</th>\n",
              "      <td>1164</td>\n",
              "      <td>22911</td>\n",
              "      <td>250</td>\n",
              "      <td>5077</td>\n",
              "      <td>355</td>\n",
              "      <td>168</td>\n",
              "      <td>22580</td>\n",
              "    </tr>\n",
              "    <tr>\n",
              "      <th>2011</th>\n",
              "      <td>1016</td>\n",
              "      <td>23868</td>\n",
              "      <td>252</td>\n",
              "      <td>5007</td>\n",
              "      <td>683</td>\n",
              "      <td>172</td>\n",
              "      <td>21728</td>\n",
              "    </tr>\n",
              "    <tr>\n",
              "      <th>2012</th>\n",
              "      <td>1207</td>\n",
              "      <td>24145</td>\n",
              "      <td>280</td>\n",
              "      <td>4736</td>\n",
              "      <td>452</td>\n",
              "      <td>217</td>\n",
              "      <td>21383</td>\n",
              "    </tr>\n",
              "    <tr>\n",
              "      <th>2013</th>\n",
              "      <td>1122</td>\n",
              "      <td>24467</td>\n",
              "      <td>273</td>\n",
              "      <td>5007</td>\n",
              "      <td>564</td>\n",
              "      <td>194</td>\n",
              "      <td>21760</td>\n",
              "    </tr>\n",
              "    <tr>\n",
              "      <th>2014</th>\n",
              "      <td>1129</td>\n",
              "      <td>24554</td>\n",
              "      <td>287</td>\n",
              "      <td>4679</td>\n",
              "      <td>523</td>\n",
              "      <td>271</td>\n",
              "      <td>21563</td>\n",
              "    </tr>\n",
              "    <tr>\n",
              "      <th>2019</th>\n",
              "      <td>1449</td>\n",
              "      <td>24086</td>\n",
              "      <td>21</td>\n",
              "      <td>3625</td>\n",
              "      <td>1520</td>\n",
              "      <td>189</td>\n",
              "      <td>23669</td>\n",
              "    </tr>\n",
              "  </tbody>\n",
              "</table>\n",
              "</div>\n",
              "      <button class=\"colab-df-convert\" onclick=\"convertToInteractive('df-2fbd72ef-47cf-434a-96bd-92283a905b8c')\"\n",
              "              title=\"Convert this dataframe to an interactive table.\"\n",
              "              style=\"display:none;\">\n",
              "        \n",
              "  <svg xmlns=\"http://www.w3.org/2000/svg\" height=\"24px\"viewBox=\"0 0 24 24\"\n",
              "       width=\"24px\">\n",
              "    <path d=\"M0 0h24v24H0V0z\" fill=\"none\"/>\n",
              "    <path d=\"M18.56 5.44l.94 2.06.94-2.06 2.06-.94-2.06-.94-.94-2.06-.94 2.06-2.06.94zm-11 1L8.5 8.5l.94-2.06 2.06-.94-2.06-.94L8.5 2.5l-.94 2.06-2.06.94zm10 10l.94 2.06.94-2.06 2.06-.94-2.06-.94-.94-2.06-.94 2.06-2.06.94z\"/><path d=\"M17.41 7.96l-1.37-1.37c-.4-.4-.92-.59-1.43-.59-.52 0-1.04.2-1.43.59L10.3 9.45l-7.72 7.72c-.78.78-.78 2.05 0 2.83L4 21.41c.39.39.9.59 1.41.59.51 0 1.02-.2 1.41-.59l7.78-7.78 2.81-2.81c.8-.78.8-2.07 0-2.86zM5.41 20L4 18.59l7.72-7.72 1.47 1.35L5.41 20z\"/>\n",
              "  </svg>\n",
              "      </button>\n",
              "      \n",
              "  <style>\n",
              "    .colab-df-container {\n",
              "      display:flex;\n",
              "      flex-wrap:wrap;\n",
              "      gap: 12px;\n",
              "    }\n",
              "\n",
              "    .colab-df-convert {\n",
              "      background-color: #E8F0FE;\n",
              "      border: none;\n",
              "      border-radius: 50%;\n",
              "      cursor: pointer;\n",
              "      display: none;\n",
              "      fill: #1967D2;\n",
              "      height: 32px;\n",
              "      padding: 0 0 0 0;\n",
              "      width: 32px;\n",
              "    }\n",
              "\n",
              "    .colab-df-convert:hover {\n",
              "      background-color: #E2EBFA;\n",
              "      box-shadow: 0px 1px 2px rgba(60, 64, 67, 0.3), 0px 1px 3px 1px rgba(60, 64, 67, 0.15);\n",
              "      fill: #174EA6;\n",
              "    }\n",
              "\n",
              "    [theme=dark] .colab-df-convert {\n",
              "      background-color: #3B4455;\n",
              "      fill: #D2E3FC;\n",
              "    }\n",
              "\n",
              "    [theme=dark] .colab-df-convert:hover {\n",
              "      background-color: #434B5C;\n",
              "      box-shadow: 0px 1px 3px 1px rgba(0, 0, 0, 0.15);\n",
              "      filter: drop-shadow(0px 1px 2px rgba(0, 0, 0, 0.3));\n",
              "      fill: #FFFFFF;\n",
              "    }\n",
              "  </style>\n",
              "\n",
              "      <script>\n",
              "        const buttonEl =\n",
              "          document.querySelector('#df-2fbd72ef-47cf-434a-96bd-92283a905b8c button.colab-df-convert');\n",
              "        buttonEl.style.display =\n",
              "          google.colab.kernel.accessAllowed ? 'block' : 'none';\n",
              "\n",
              "        async function convertToInteractive(key) {\n",
              "          const element = document.querySelector('#df-2fbd72ef-47cf-434a-96bd-92283a905b8c');\n",
              "          const dataTable =\n",
              "            await google.colab.kernel.invokeFunction('convertToInteractive',\n",
              "                                                     [key], {});\n",
              "          if (!dataTable) return;\n",
              "\n",
              "          const docLinkHtml = 'Like what you see? Visit the ' +\n",
              "            '<a target=\"_blank\" href=https://colab.research.google.com/notebooks/data_table.ipynb>data table notebook</a>'\n",
              "            + ' to learn more about interactive tables.';\n",
              "          element.innerHTML = '';\n",
              "          dataTable['output_type'] = 'display_data';\n",
              "          await google.colab.output.renderOutput(dataTable, element);\n",
              "          const docLink = document.createElement('div');\n",
              "          docLink.innerHTML = docLinkHtml;\n",
              "          element.appendChild(docLink);\n",
              "        }\n",
              "      </script>\n",
              "    </div>\n",
              "  </div>\n",
              "  "
            ]
          },
          "metadata": {},
          "execution_count": 48
        }
      ]
    },
    {
      "cell_type": "markdown",
      "source": [
        "Create a list of the column names    "
      ],
      "metadata": {
        "id": "PGv6NP2e1XfP"
      }
    },
    {
      "cell_type": "code",
      "source": [
        "type_lst = list(type_plot_df.columns)"
      ],
      "metadata": {
        "id": "IOtAqUN491YP"
      },
      "execution_count": 51,
      "outputs": []
    },
    {
      "cell_type": "code",
      "source": [
        "type_lst"
      ],
      "metadata": {
        "colab": {
          "base_uri": "https://localhost:8080/"
        },
        "id": "6V5JLGxg9_h3",
        "outputId": "ff5ca505-7e55-420d-a387-13f4482b65f6"
      },
      "execution_count": 52,
      "outputs": [
        {
          "output_type": "execute_result",
          "data": {
            "text/plain": [
              "['Accident_Crime',\n",
              " 'All_Other',\n",
              " 'Behavior',\n",
              " 'Disease',\n",
              " 'Drug',\n",
              " 'Liver_Cirrhosis',\n",
              " 'Other_Organ']"
            ]
          },
          "metadata": {},
          "execution_count": 52
        }
      ]
    },
    {
      "cell_type": "markdown",
      "source": [
        "Create a list of the `Year` (index) values    "
      ],
      "metadata": {
        "id": "ry1gJ9iV1a1M"
      }
    },
    {
      "cell_type": "code",
      "source": [
        "year_lst = list(type_plot_df.index)"
      ],
      "metadata": {
        "id": "-RUK6CTcEgg_"
      },
      "execution_count": 49,
      "outputs": []
    },
    {
      "cell_type": "code",
      "source": [
        "year_lst"
      ],
      "metadata": {
        "colab": {
          "base_uri": "https://localhost:8080/"
        },
        "id": "7VIhKo-uEroL",
        "outputId": "c0115397-9276-416b-d79e-00a00c47d3f0"
      },
      "execution_count": 50,
      "outputs": [
        {
          "output_type": "execute_result",
          "data": {
            "text/plain": [
              "[2007, 2008, 2009, 2010, 2011, 2012, 2013, 2014, 2019]"
            ]
          },
          "metadata": {},
          "execution_count": 50
        }
      ]
    },
    {
      "cell_type": "markdown",
      "source": [
        "Produce a stacked area chart of the types of causes of death over the years   "
      ],
      "metadata": {
        "id": "LWvd7qTI1fAl"
      }
    },
    {
      "cell_type": "code",
      "source": [
        "fig, ax = plt.subplots()\n",
        "\n",
        "ax.stackplot(year_lst, \n",
        "              type_plot_df['Accident_Crime'],\n",
        "              type_plot_df['All_Other'],\n",
        "              type_plot_df['Behavior'],\n",
        "              type_plot_df['Disease'],\n",
        "              type_plot_df['Drug'],\n",
        "              type_plot_df['Liver_Cirrhosis'],\n",
        "              type_plot_df['Other_Organ'],\n",
        "              labels=type_lst)    \n",
        "\n",
        "ax.legend(loc='upper left')\n",
        "ax.set_title('Leading Types of Death')\n",
        "\n",
        "plt.show()"
      ],
      "metadata": {
        "colab": {
          "base_uri": "https://localhost:8080/",
          "height": 281
        },
        "id": "QytLRzSZxdDC",
        "outputId": "621e7464-d783-4038-a552-104c7a7be084"
      },
      "execution_count": 57,
      "outputs": [
        {
          "output_type": "display_data",
          "data": {
            "text/plain": [
              "<Figure size 432x288 with 1 Axes>"
            ],
            "image/png": "[encoded data removed]"
          },
          "metadata": {
            "needs_background": "light"
          }
        }
      ]
    },
    {
      "cell_type": "markdown",
      "source": [
        "That last `.stackplot()` code can be shortened by using the `.T` attribute on the DataFrame; then there is no need to type every column name as a parameter to `.stackplot()`  "
      ],
      "metadata": {
        "id": "koZCOXMM7_PN"
      }
    },
    {
      "cell_type": "code",
      "source": [
        "fig, ax = plt.subplots()\n",
        "\n",
        "ax.stackplot(year_lst, \n",
        "              type_plot_df.T,\n",
        "              labels=type_lst)    \n",
        "\n",
        "ax.legend(loc='upper left')\n",
        "ax.set_title('Leading Types of Death')\n",
        "\n",
        "plt.show()"
      ],
      "metadata": {
        "colab": {
          "base_uri": "https://localhost:8080/",
          "height": 281
        },
        "id": "k9ZN3Hn78RXv",
        "outputId": "dedfa3e2-4d64-4cc3-b080-1a00a584c0c7"
      },
      "execution_count": 100,
      "outputs": [
        {
          "output_type": "display_data",
          "data": {
            "text/plain": [
              "<Figure size 432x288 with 1 Axes>"
            ],
            "image/png": "[encoded data removed]"
          },
          "metadata": {
            "needs_background": "light"
          }
        }
      ]
    },
    {
      "cell_type": "markdown",
      "source": [
        "***"
      ],
      "metadata": {
        "id": "r7vY-alnxE_N"
      }
    },
    {
      "cell_type": "markdown",
      "source": [
        "#Example of **Matplotlib** `.stackplot()`  "
      ],
      "metadata": {
        "id": "UqPR9KgVxcI0"
      }
    },
    {
      "cell_type": "markdown",
      "source": [
        "This section of the notebook demonstrates the concepts behind stacked area plots (`.stackplot()`) in **Matplotlib**    \n",
        "\n",
        "The demonstrations begins with the creation of some simple iterables (a range, and lists) then moves into the application of the same concepts using a DataFrame.    \n"
      ],
      "metadata": {
        "id": "wwx8_75z1ltD"
      }
    },
    {
      "cell_type": "code",
      "source": [
        "# Create data\n",
        "x=range(1,6)\n",
        "y1=[1,4,6,8,9]\n",
        "y2=[2,2,7,10,12]\n",
        "y3=[2,8,5,10,6]"
      ],
      "metadata": {
        "id": "MHzi4t8qwhls"
      },
      "execution_count": null,
      "outputs": []
    },
    {
      "cell_type": "code",
      "source": [
        "# Basic stacked area chart.\n",
        "plt.stackplot(x,y1, y2, y3, labels=['A','B','C'])\n",
        "plt.legend(loc='upper left') \n",
        "\n",
        "plt.show()"
      ],
      "metadata": {
        "colab": {
          "base_uri": "https://localhost:8080/",
          "height": 265
        },
        "id": "mXkdcTAvHOTU",
        "outputId": "42ef2335-33a8-456c-a2aa-1a8e56b4490d"
      },
      "execution_count": 34,
      "outputs": [
        {
          "output_type": "display_data",
          "data": {
            "text/plain": [
              "<Figure size 432x288 with 1 Axes>"
            ],
            "image/png": "[encoded data removed]"
          },
          "metadata": {
            "needs_background": "light"
          }
        }
      ]
    },
    {
      "cell_type": "code",
      "source": [
        "# create a DataFrame `df`    \n",
        "\n",
        "x=range(1,6)\n",
        "y1=[1,4,6,8,9]\n",
        "y2=[2,2,7,10,12]\n",
        "y3=[2,8,5,10,6]\n",
        "\n",
        "df = pd.DataFrame({\n",
        "    'x' : x,\n",
        "    'A' : y1,\n",
        "    'B' : y2,\n",
        "    'C' : y3\n",
        "})\n",
        "df = df.set_index('x')  "
      ],
      "metadata": {
        "id": "-TNUzU-dtVcE"
      },
      "execution_count": 18,
      "outputs": []
    },
    {
      "cell_type": "code",
      "source": [
        "df"
      ],
      "metadata": {
        "colab": {
          "base_uri": "https://localhost:8080/",
          "height": 237
        },
        "id": "Pad3honiuFO1",
        "outputId": "c56ed92b-36d4-48b3-d178-135f70fbb10f"
      },
      "execution_count": 19,
      "outputs": [
        {
          "output_type": "execute_result",
          "data": {
            "text/plain": [
              "   A   B   C\n",
              "x           \n",
              "1  1   2   2\n",
              "2  4   2   8\n",
              "3  6   7   5\n",
              "4  8  10  10\n",
              "5  9  12   6"
            ],
            "text/html": [
              "\n",
              "  <div id=\"df-90af1e7d-42a8-4519-8967-85c57a30bed8\">\n",
              "    <div class=\"colab-df-container\">\n",
              "      <div>\n",
              "<style scoped>\n",
              "    .dataframe tbody tr th:only-of-type {\n",
              "        vertical-align: middle;\n",
              "    }\n",
              "\n",
              "    .dataframe tbody tr th {\n",
              "        vertical-align: top;\n",
              "    }\n",
              "\n",
              "    .dataframe thead th {\n",
              "        text-align: right;\n",
              "    }\n",
              "</style>\n",
              "<table border=\"1\" class=\"dataframe\">\n",
              "  <thead>\n",
              "    <tr style=\"text-align: right;\">\n",
              "      <th></th>\n",
              "      <th>A</th>\n",
              "      <th>B</th>\n",
              "      <th>C</th>\n",
              "    </tr>\n",
              "    <tr>\n",
              "      <th>x</th>\n",
              "      <th></th>\n",
              "      <th></th>\n",
              "      <th></th>\n",
              "    </tr>\n",
              "  </thead>\n",
              "  <tbody>\n",
              "    <tr>\n",
              "      <th>1</th>\n",
              "      <td>1</td>\n",
              "      <td>2</td>\n",
              "      <td>2</td>\n",
              "    </tr>\n",
              "    <tr>\n",
              "      <th>2</th>\n",
              "      <td>4</td>\n",
              "      <td>2</td>\n",
              "      <td>8</td>\n",
              "    </tr>\n",
              "    <tr>\n",
              "      <th>3</th>\n",
              "      <td>6</td>\n",
              "      <td>7</td>\n",
              "      <td>5</td>\n",
              "    </tr>\n",
              "    <tr>\n",
              "      <th>4</th>\n",
              "      <td>8</td>\n",
              "      <td>10</td>\n",
              "      <td>10</td>\n",
              "    </tr>\n",
              "    <tr>\n",
              "      <th>5</th>\n",
              "      <td>9</td>\n",
              "      <td>12</td>\n",
              "      <td>6</td>\n",
              "    </tr>\n",
              "  </tbody>\n",
              "</table>\n",
              "</div>\n",
              "      <button class=\"colab-df-convert\" onclick=\"convertToInteractive('df-90af1e7d-42a8-4519-8967-85c57a30bed8')\"\n",
              "              title=\"Convert this dataframe to an interactive table.\"\n",
              "              style=\"display:none;\">\n",
              "        \n",
              "  <svg xmlns=\"http://www.w3.org/2000/svg\" height=\"24px\"viewBox=\"0 0 24 24\"\n",
              "       width=\"24px\">\n",
              "    <path d=\"M0 0h24v24H0V0z\" fill=\"none\"/>\n",
              "    <path d=\"M18.56 5.44l.94 2.06.94-2.06 2.06-.94-2.06-.94-.94-2.06-.94 2.06-2.06.94zm-11 1L8.5 8.5l.94-2.06 2.06-.94-2.06-.94L8.5 2.5l-.94 2.06-2.06.94zm10 10l.94 2.06.94-2.06 2.06-.94-2.06-.94-.94-2.06-.94 2.06-2.06.94z\"/><path d=\"M17.41 7.96l-1.37-1.37c-.4-.4-.92-.59-1.43-.59-.52 0-1.04.2-1.43.59L10.3 9.45l-7.72 7.72c-.78.78-.78 2.05 0 2.83L4 21.41c.39.39.9.59 1.41.59.51 0 1.02-.2 1.41-.59l7.78-7.78 2.81-2.81c.8-.78.8-2.07 0-2.86zM5.41 20L4 18.59l7.72-7.72 1.47 1.35L5.41 20z\"/>\n",
              "  </svg>\n",
              "      </button>\n",
              "      \n",
              "  <style>\n",
              "    .colab-df-container {\n",
              "      display:flex;\n",
              "      flex-wrap:wrap;\n",
              "      gap: 12px;\n",
              "    }\n",
              "\n",
              "    .colab-df-convert {\n",
              "      background-color: #E8F0FE;\n",
              "      border: none;\n",
              "      border-radius: 50%;\n",
              "      cursor: pointer;\n",
              "      display: none;\n",
              "      fill: #1967D2;\n",
              "      height: 32px;\n",
              "      padding: 0 0 0 0;\n",
              "      width: 32px;\n",
              "    }\n",
              "\n",
              "    .colab-df-convert:hover {\n",
              "      background-color: #E2EBFA;\n",
              "      box-shadow: 0px 1px 2px rgba(60, 64, 67, 0.3), 0px 1px 3px 1px rgba(60, 64, 67, 0.15);\n",
              "      fill: #174EA6;\n",
              "    }\n",
              "\n",
              "    [theme=dark] .colab-df-convert {\n",
              "      background-color: #3B4455;\n",
              "      fill: #D2E3FC;\n",
              "    }\n",
              "\n",
              "    [theme=dark] .colab-df-convert:hover {\n",
              "      background-color: #434B5C;\n",
              "      box-shadow: 0px 1px 3px 1px rgba(0, 0, 0, 0.15);\n",
              "      filter: drop-shadow(0px 1px 2px rgba(0, 0, 0, 0.3));\n",
              "      fill: #FFFFFF;\n",
              "    }\n",
              "  </style>\n",
              "\n",
              "      <script>\n",
              "        const buttonEl =\n",
              "          document.querySelector('#df-90af1e7d-42a8-4519-8967-85c57a30bed8 button.colab-df-convert');\n",
              "        buttonEl.style.display =\n",
              "          google.colab.kernel.accessAllowed ? 'block' : 'none';\n",
              "\n",
              "        async function convertToInteractive(key) {\n",
              "          const element = document.querySelector('#df-90af1e7d-42a8-4519-8967-85c57a30bed8');\n",
              "          const dataTable =\n",
              "            await google.colab.kernel.invokeFunction('convertToInteractive',\n",
              "                                                     [key], {});\n",
              "          if (!dataTable) return;\n",
              "\n",
              "          const docLinkHtml = 'Like what you see? Visit the ' +\n",
              "            '<a target=\"_blank\" href=https://colab.research.google.com/notebooks/data_table.ipynb>data table notebook</a>'\n",
              "            + ' to learn more about interactive tables.';\n",
              "          element.innerHTML = '';\n",
              "          dataTable['output_type'] = 'display_data';\n",
              "          await google.colab.output.renderOutput(dataTable, element);\n",
              "          const docLink = document.createElement('div');\n",
              "          docLink.innerHTML = docLinkHtml;\n",
              "          element.appendChild(docLink);\n",
              "        }\n",
              "      </script>\n",
              "    </div>\n",
              "  </div>\n",
              "  "
            ]
          },
          "metadata": {},
          "execution_count": 19
        }
      ]
    },
    {
      "cell_type": "markdown",
      "source": [
        "Use the `df` DataFrame `index` as the x axis    "
      ],
      "metadata": {
        "id": "EZ-qT0SsueLo"
      }
    },
    {
      "cell_type": "code",
      "source": [
        "# Basic stacked area chart.\n",
        "plt.stackplot(df.index, y1, y2, y3, labels=['A','B','C'])\n",
        "plt.legend(loc='upper left')\n",
        "\n",
        "plt.show()"
      ],
      "metadata": {
        "colab": {
          "base_uri": "https://localhost:8080/",
          "height": 265
        },
        "id": "uhYmIXjeuNEn",
        "outputId": "64cb6c6c-3874-494a-f73a-ea3696f9a461"
      },
      "execution_count": 33,
      "outputs": [
        {
          "output_type": "display_data",
          "data": {
            "text/plain": [
              "<Figure size 432x288 with 1 Axes>"
            ],
            "image/png": "[encoded data removed]"
          },
          "metadata": {
            "needs_background": "light"
          }
        }
      ]
    },
    {
      "cell_type": "markdown",
      "source": [
        "Use the `df` DataFrame `index` as the x axis and `df['A']` for the first Series      "
      ],
      "metadata": {
        "id": "TKro6FIHukmc"
      }
    },
    {
      "cell_type": "code",
      "source": [
        "# Basic stacked area chart.\n",
        "plt.stackplot(df.index, df['A'], y2, y3, labels=['A','B','C'])\n",
        "plt.legend(loc='upper left')\n",
        "\n",
        "plt.show()"
      ],
      "metadata": {
        "colab": {
          "base_uri": "https://localhost:8080/",
          "height": 265
        },
        "id": "qQHtmF9Sut4S",
        "outputId": "6516ac68-7710-429e-acda-d66f920cc5d3"
      },
      "execution_count": 32,
      "outputs": [
        {
          "output_type": "display_data",
          "data": {
            "text/plain": [
              "<Figure size 432x288 with 1 Axes>"
            ],
            "image/png": "[encoded data removed]"
          },
          "metadata": {
            "needs_background": "light"
          }
        }
      ]
    },
    {
      "cell_type": "markdown",
      "source": [
        "Use the df DataFrame index as the x axis and `df['A']`, `df['B']`, `df['C']` for the Series"
      ],
      "metadata": {
        "id": "qKOGd_qxu5oT"
      }
    },
    {
      "cell_type": "code",
      "source": [
        "# Basic stacked area chart.\n",
        "plt.stackplot(df.index, df['A'], df['B'], df['C'], labels=['A','B','C'])\n",
        "plt.legend(loc='upper left')\n",
        "\n",
        "plt.show()"
      ],
      "metadata": {
        "colab": {
          "base_uri": "https://localhost:8080/",
          "height": 265
        },
        "id": "iqBQifLBvIOy",
        "outputId": "f51f7ecf-0e47-4634-f641-56793650b094"
      },
      "execution_count": 31,
      "outputs": [
        {
          "output_type": "display_data",
          "data": {
            "text/plain": [
              "<Figure size 432x288 with 1 Axes>"
            ],
            "image/png": "[encoded data removed]"
          },
          "metadata": {
            "needs_background": "light"
          }
        }
      ]
    },
    {
      "cell_type": "markdown",
      "source": [
        "Use the df DataFrame index as the x axis and `df['A']`, `df['B']`, `df['C']` for the Series without a `labels=`"
      ],
      "metadata": {
        "id": "KcCtyn0_vW6r"
      }
    },
    {
      "cell_type": "code",
      "source": [
        "# Basic stacked area chart.\n",
        "plt.stackplot(df.index, df['A'], df['B'], df['C'])\n",
        "# plt.legend(loc='upper left')\n",
        "\n",
        "plt.show()"
      ],
      "metadata": {
        "colab": {
          "base_uri": "https://localhost:8080/",
          "height": 265
        },
        "id": "0yNaFDgNvbcb",
        "outputId": "a1000736-cd60-46bd-bbdf-e42a96e0359f"
      },
      "execution_count": 30,
      "outputs": [
        {
          "output_type": "display_data",
          "data": {
            "text/plain": [
              "<Figure size 432x288 with 1 Axes>"
            ],
            "image/png": "[encoded data removed]"
          },
          "metadata": {
            "needs_background": "light"
          }
        }
      ]
    },
    {
      "cell_type": "markdown",
      "source": [
        "Create a list of the columns names and use that list for `labels=`  "
      ],
      "metadata": {
        "id": "nBAJ--75vvBa"
      }
    },
    {
      "cell_type": "code",
      "source": [
        "labels_lst = list(df.columns)\n",
        "print(labels_lst)"
      ],
      "metadata": {
        "colab": {
          "base_uri": "https://localhost:8080/"
        },
        "id": "l-gvpH6evt22",
        "outputId": "e4535859-a17b-45eb-942b-114eb33438d1"
      },
      "execution_count": 27,
      "outputs": [
        {
          "output_type": "stream",
          "name": "stdout",
          "text": [
            "['A', 'B', 'C']\n"
          ]
        }
      ]
    },
    {
      "cell_type": "code",
      "source": [
        "# Basic stacked area chart.\n",
        "plt.stackplot(df.index, df['A'], df['B'], df['C'], labels=labels_lst)\n",
        "plt.legend(loc='upper left')\n",
        "\n",
        "plt.show()"
      ],
      "metadata": {
        "colab": {
          "base_uri": "https://localhost:8080/",
          "height": 265
        },
        "id": "AOirKGd2wAOV",
        "outputId": "e3cdeb3c-005d-4efe-de86-87486d893a70"
      },
      "execution_count": 29,
      "outputs": [
        {
          "output_type": "display_data",
          "data": {
            "text/plain": [
              "<Figure size 432x288 with 1 Axes>"
            ],
            "image/png": "[encoded data removed]"
          },
          "metadata": {
            "needs_background": "light"
          }
        }
      ]
    },
    {
      "cell_type": "markdown",
      "source": [
        "Using `.iloc()` for a column Series"
      ],
      "metadata": {
        "id": "Y9AL8mrH5D_T"
      }
    },
    {
      "cell_type": "code",
      "source": [
        "# Basic stacked area chart.\n",
        "plt.stackplot(df.index, df.iloc[:,0], df['B'], df['C'], labels=labels_lst)\n",
        "plt.legend(loc='upper left')\n",
        "\n",
        "plt.show()"
      ],
      "metadata": {
        "colab": {
          "base_uri": "https://localhost:8080/",
          "height": 265
        },
        "id": "Zv4-A4Ae5H6Q",
        "outputId": "6be3b388-1221-4318-a9a5-fa0237f0d5fb"
      },
      "execution_count": 90,
      "outputs": [
        {
          "output_type": "display_data",
          "data": {
            "text/plain": [
              "<Figure size 432x288 with 1 Axes>"
            ],
            "image/png": "[encoded data removed]"
          },
          "metadata": {
            "needs_background": "light"
          }
        }
      ]
    },
    {
      "cell_type": "markdown",
      "source": [
        "However, using `.iloc()` for an array of several column Series throws an error unless the `.T` attribute is used   "
      ],
      "metadata": {
        "id": "A0D5oYke5Vmo"
      }
    },
    {
      "cell_type": "code",
      "source": [
        "df.iloc[:, 0:3]"
      ],
      "metadata": {
        "colab": {
          "base_uri": "https://localhost:8080/",
          "height": 237
        },
        "id": "ZS0Ep70b3FoA",
        "outputId": "847c459c-dd51-49af-ad84-296e52561a51"
      },
      "execution_count": 94,
      "outputs": [
        {
          "output_type": "execute_result",
          "data": {
            "text/plain": [
              "   A   B   C\n",
              "x           \n",
              "1  1   2   2\n",
              "2  4   2   8\n",
              "3  6   7   5\n",
              "4  8  10  10\n",
              "5  9  12   6"
            ],
            "text/html": [
              "\n",
              "  <div id=\"df-0bf2c85d-eb6d-487c-b180-c1cb96bc43f4\">\n",
              "    <div class=\"colab-df-container\">\n",
              "      <div>\n",
              "<style scoped>\n",
              "    .dataframe tbody tr th:only-of-type {\n",
              "        vertical-align: middle;\n",
              "    }\n",
              "\n",
              "    .dataframe tbody tr th {\n",
              "        vertical-align: top;\n",
              "    }\n",
              "\n",
              "    .dataframe thead th {\n",
              "        text-align: right;\n",
              "    }\n",
              "</style>\n",
              "<table border=\"1\" class=\"dataframe\">\n",
              "  <thead>\n",
              "    <tr style=\"text-align: right;\">\n",
              "      <th></th>\n",
              "      <th>A</th>\n",
              "      <th>B</th>\n",
              "      <th>C</th>\n",
              "    </tr>\n",
              "    <tr>\n",
              "      <th>x</th>\n",
              "      <th></th>\n",
              "      <th></th>\n",
              "      <th></th>\n",
              "    </tr>\n",
              "  </thead>\n",
              "  <tbody>\n",
              "    <tr>\n",
              "      <th>1</th>\n",
              "      <td>1</td>\n",
              "      <td>2</td>\n",
              "      <td>2</td>\n",
              "    </tr>\n",
              "    <tr>\n",
              "      <th>2</th>\n",
              "      <td>4</td>\n",
              "      <td>2</td>\n",
              "      <td>8</td>\n",
              "    </tr>\n",
              "    <tr>\n",
              "      <th>3</th>\n",
              "      <td>6</td>\n",
              "      <td>7</td>\n",
              "      <td>5</td>\n",
              "    </tr>\n",
              "    <tr>\n",
              "      <th>4</th>\n",
              "      <td>8</td>\n",
              "      <td>10</td>\n",
              "      <td>10</td>\n",
              "    </tr>\n",
              "    <tr>\n",
              "      <th>5</th>\n",
              "      <td>9</td>\n",
              "      <td>12</td>\n",
              "      <td>6</td>\n",
              "    </tr>\n",
              "  </tbody>\n",
              "</table>\n",
              "</div>\n",
              "      <button class=\"colab-df-convert\" onclick=\"convertToInteractive('df-0bf2c85d-eb6d-487c-b180-c1cb96bc43f4')\"\n",
              "              title=\"Convert this dataframe to an interactive table.\"\n",
              "              style=\"display:none;\">\n",
              "        \n",
              "  <svg xmlns=\"http://www.w3.org/2000/svg\" height=\"24px\"viewBox=\"0 0 24 24\"\n",
              "       width=\"24px\">\n",
              "    <path d=\"M0 0h24v24H0V0z\" fill=\"none\"/>\n",
              "    <path d=\"M18.56 5.44l.94 2.06.94-2.06 2.06-.94-2.06-.94-.94-2.06-.94 2.06-2.06.94zm-11 1L8.5 8.5l.94-2.06 2.06-.94-2.06-.94L8.5 2.5l-.94 2.06-2.06.94zm10 10l.94 2.06.94-2.06 2.06-.94-2.06-.94-.94-2.06-.94 2.06-2.06.94z\"/><path d=\"M17.41 7.96l-1.37-1.37c-.4-.4-.92-.59-1.43-.59-.52 0-1.04.2-1.43.59L10.3 9.45l-7.72 7.72c-.78.78-.78 2.05 0 2.83L4 21.41c.39.39.9.59 1.41.59.51 0 1.02-.2 1.41-.59l7.78-7.78 2.81-2.81c.8-.78.8-2.07 0-2.86zM5.41 20L4 18.59l7.72-7.72 1.47 1.35L5.41 20z\"/>\n",
              "  </svg>\n",
              "      </button>\n",
              "      \n",
              "  <style>\n",
              "    .colab-df-container {\n",
              "      display:flex;\n",
              "      flex-wrap:wrap;\n",
              "      gap: 12px;\n",
              "    }\n",
              "\n",
              "    .colab-df-convert {\n",
              "      background-color: #E8F0FE;\n",
              "      border: none;\n",
              "      border-radius: 50%;\n",
              "      cursor: pointer;\n",
              "      display: none;\n",
              "      fill: #1967D2;\n",
              "      height: 32px;\n",
              "      padding: 0 0 0 0;\n",
              "      width: 32px;\n",
              "    }\n",
              "\n",
              "    .colab-df-convert:hover {\n",
              "      background-color: #E2EBFA;\n",
              "      box-shadow: 0px 1px 2px rgba(60, 64, 67, 0.3), 0px 1px 3px 1px rgba(60, 64, 67, 0.15);\n",
              "      fill: #174EA6;\n",
              "    }\n",
              "\n",
              "    [theme=dark] .colab-df-convert {\n",
              "      background-color: #3B4455;\n",
              "      fill: #D2E3FC;\n",
              "    }\n",
              "\n",
              "    [theme=dark] .colab-df-convert:hover {\n",
              "      background-color: #434B5C;\n",
              "      box-shadow: 0px 1px 3px 1px rgba(0, 0, 0, 0.15);\n",
              "      filter: drop-shadow(0px 1px 2px rgba(0, 0, 0, 0.3));\n",
              "      fill: #FFFFFF;\n",
              "    }\n",
              "  </style>\n",
              "\n",
              "      <script>\n",
              "        const buttonEl =\n",
              "          document.querySelector('#df-0bf2c85d-eb6d-487c-b180-c1cb96bc43f4 button.colab-df-convert');\n",
              "        buttonEl.style.display =\n",
              "          google.colab.kernel.accessAllowed ? 'block' : 'none';\n",
              "\n",
              "        async function convertToInteractive(key) {\n",
              "          const element = document.querySelector('#df-0bf2c85d-eb6d-487c-b180-c1cb96bc43f4');\n",
              "          const dataTable =\n",
              "            await google.colab.kernel.invokeFunction('convertToInteractive',\n",
              "                                                     [key], {});\n",
              "          if (!dataTable) return;\n",
              "\n",
              "          const docLinkHtml = 'Like what you see? Visit the ' +\n",
              "            '<a target=\"_blank\" href=https://colab.research.google.com/notebooks/data_table.ipynb>data table notebook</a>'\n",
              "            + ' to learn more about interactive tables.';\n",
              "          element.innerHTML = '';\n",
              "          dataTable['output_type'] = 'display_data';\n",
              "          await google.colab.output.renderOutput(dataTable, element);\n",
              "          const docLink = document.createElement('div');\n",
              "          docLink.innerHTML = docLinkHtml;\n",
              "          element.appendChild(docLink);\n",
              "        }\n",
              "      </script>\n",
              "    </div>\n",
              "  </div>\n",
              "  "
            ]
          },
          "metadata": {},
          "execution_count": 94
        }
      ]
    },
    {
      "cell_type": "code",
      "source": [
        "# Basic stacked area chart.\n",
        "# plt.stackplot(df.index, df.iloc[:,0:3], labels=labels_lst)  # this would throw an error\n",
        "plt.stackplot(df.index, df.iloc[:,0:3].T, labels=labels_lst)  # this does not throw an error \n",
        "plt.legend(loc='upper left')\n",
        "\n",
        "plt.show()"
      ],
      "metadata": {
        "colab": {
          "base_uri": "https://localhost:8080/",
          "height": 265
        },
        "id": "nzVZOAVq5eZO",
        "outputId": "fadd20e3-10c4-4bfb-e66e-7ba75fefb81a"
      },
      "execution_count": 98,
      "outputs": [
        {
          "output_type": "display_data",
          "data": {
            "text/plain": [
              "<Figure size 432x288 with 1 Axes>"
            ],
            "image/png": "[encoded data removed]"
          },
          "metadata": {
            "needs_background": "light"
          }
        }
      ]
    },
    {
      "cell_type": "markdown",
      "source": [
        "And trying to use the entire DataFrame throws a similar error **unless** you use the `.T` attribute on the DataFrame name.  \n"
      ],
      "metadata": {
        "id": "Ufo35z766cIU"
      }
    },
    {
      "cell_type": "code",
      "source": [
        "# Basic stacked area chart.\n",
        "# plt.stackplot(df.index, df, labels=labels_lst) # this would throw an error \n",
        "plt.stackplot(df.index, df.T, labels=labels_lst) # this does not throw an error \n",
        "plt.legend(loc='upper left')\n",
        "\n",
        "plt.show()"
      ],
      "metadata": {
        "colab": {
          "base_uri": "https://localhost:8080/",
          "height": 265
        },
        "id": "drG1hRmN6g37",
        "outputId": "f137bca8-8b9f-4b20-a838-c0dd853112b6"
      },
      "execution_count": 99,
      "outputs": [
        {
          "output_type": "display_data",
          "data": {
            "text/plain": [
              "<Figure size 432x288 with 1 Axes>"
            ],
            "image/png": "[encoded data removed]"
          },
          "metadata": {
            "needs_background": "light"
          }
        }
      ]
    },
    {
      "cell_type": "markdown",
      "source": [
        "---"
      ],
      "metadata": {
        "id": "YBhifGXpwNHo"
      }
    }
  ]
}