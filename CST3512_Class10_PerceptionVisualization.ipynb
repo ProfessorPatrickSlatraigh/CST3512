{
  "cells": [
    {
      "cell_type": "markdown",
      "metadata": {
        "id": "view-in-github",
        "colab_type": "text"
      },
      "source": [
        "<a href=\"https://colab.research.google.com/github/ProfessorPatrickSlatraigh/CST3512/blob/main/CST3512_Class10_PerceptionVisualization.ipynb\" target=\"_parent\"><img src=\"https://colab.research.google.com/assets/colab-badge.svg\" alt=\"Open In Colab\"/></a>"
      ]
    },
    {
      "cell_type": "markdown",
      "source": [
        "# BREAKOUT GROUP #2 - **bit.ly/cst3512cl10pv**    \n",
        "Team members of Class Exercise Breakout Group #2 are assigned in Blackboard.\n",
        "The Breakout Group should work together to read, understand, and execute the code in this notebook then prepare recommendations for improvements to the plots produced by this notebook.     \n",
        "\n",
        "**Be prepared to present your recommendations to the class as a team.**    \n"
      ],
      "metadata": {
        "id": "E2a87pU8WwQm"
      }
    },
    {
      "cell_type": "markdown",
      "source": [
        "# **CST3512_Class10 Perception Visualization**\n",
        "\n",
        "This notebook is one of two breakout group lab exercises for class.  The other notebook for a different breakout group is:    \n",
        "\n",
        "* CST3512_Class10_DataVisualization.ipynb **(bit.ly/cst3512cl10dv)**    \n",
        "\n",
        "Both notebooks are part of a presentation by Steve Elston at PyData Seattle (USA) in November of 2019.  The original source files for the notebooks and the data files used is available from Steve Elston repository at:    \n",
        "\n",
        "* https://github.com/StephenElston/ExploringDataWithPython    \n",
        "\n",
        "The raw data set for this notebook can be found on **Github** at:\n",
        "[automobiles.csv](https://raw.githubusercontent.com/StephenElston/ExploringDataWithPython/master/PerceptionAndVisualization/Automobile%20price%20data.csv)     \n",
        "\n",
        "\n",
        "## **INSTRUCTIONS**\n",
        "\n",
        "Your breakout group will be allotted time to familiarize yourself with this notebook and the data files used.  You should attempt to make at least one full pass through the notebook.  Your objective is to execute the steps and review the analysis in this notebook then add your team's recommendations for improvements to the notebook which you present to the full class.\n",
        "\n",
        "Ideally recommendations will include both text cells of commentary and code cells which can be executed.  If there is not enough time to complete the code testing and execution, then at least provide text cells explaining your recommendations. \n",
        "\n",
        "Recommendations should include concepts and techniques learned earlier in this class and your other data and information management studies.  Feel free to add innovations which have not been taught in a prior class.     \n",
        "\n",
        "\n",
        "### *Regarding data file access*    \n",
        "\n",
        "*If your team is using this notebook in Google Colab then you may want to consider uploading source data files to the \\Content folder of your Colab session and using that as your current working directory; alternatively, you may want to access source data files using and HTML reference to the RAW files on Steve Elston's Github repository.* \n",
        "\n",
        "\n",
        "## **DELIVERABLES**\n",
        "\n",
        "Your team has two deliverables:    \n",
        "\n",
        "1. **An updated notebook with recommendations in text cells and tested code cellls**\n",
        "2. **A presentation to the class of your findings and recommendations**\n",
        "\n"
      ],
      "metadata": {
        "id": "4N4bYiPgFR9k"
      }
    },
    {
      "cell_type": "markdown",
      "source": [
        "---"
      ],
      "metadata": {
        "id": "tHU2dgIBIXMY"
      }
    },
    {
      "cell_type": "markdown",
      "metadata": {
        "id": "0P0rEbtlFQwC"
      },
      "source": [
        "![](img/logo.288981a8dfa8.png)\n",
        "\n",
        "# Perception in Visualization with Python\n",
        "## Steve Elston\n",
        "## Presented at PyData Seattle, November 4, 2019  \n",
        "\n",
        "In this lesson we will investigate techniques to maximize the information viewers perceive from data visualizations. Creating visualization with techniques that account for human perception can highlight important insights. When faced with trying to understand complex datasets the limits of human perception become a significant factor. To better explore such complex data you can apply the results of the considerable research available on human perceptions for data visualization.    \n",
        "\n",
        "We will use several Python packages to create the  visualizations, [matplotlib](https://matplotlib.org/), [Pandas plotting](https://pandas.pydata.org/pandas-docs/stable/user_guide/visualization.html), and [seaborn](https://seaborn.pydata.org/). The code examples in this notebook use each of these packages. \n",
        "\n",
        "For these lessons we will be working with a data set containing the prices and characteristics of a number of automobiles. The ultimate goal is to understand the relationship between the price of a car and its characteristics. "
      ]
    },
    {
      "cell_type": "markdown",
      "metadata": {
        "id": "X2dlB1clFQwE"
      },
      "source": [
        "## Outline\n",
        "\n",
        "These lessons are divided into three parts. In each part we will explore one aspect of using Python visualization tools to effectively understand the relationships in complex datasets. Primarily, we will work with plot aesthetics used to highlight relationships for complex datasets. By plot aesthetics we mean properties of a visualization which highlight aspects of the data relationships.  \n",
        "\n",
        "1. **Easy to perceive plot aesthetics:** We will start by applying some aesthetics which generally are easy for people to perceive. Using these aesthetics can enhance viewers' understanding of key relationships in complex datasets.   \n",
        "  - Marker position,\n",
        "  - Bar length,\n",
        "  - Aspect ratio,\n",
        "  - Sequential and divergent color palettes,   \n",
        "  - Marker size.   \n",
        "    \n",
        "2. **Aesthetics with limited perceptive power:** We will review some commonly used aesthetics which are often used, but which may not be the best choices for human perception. Used with care, these aesthetics can still be useful in highlighting relationships in complex datasets.   \n",
        "  - Qualitative color palettes,\n",
        "  - Line type,\n",
        "  - Marker shape.\n",
        "     \n",
        "3. **Plotting with multiple views:** Understanding complex datasets can require multiple views, sometimes even for the same relationship. These views can be as simple as a comparison plots or as plots which slice complex datasets into understandable projections.    \n",
        "  - Comparing side by side plots of subsets of a complex data,\n",
        "  - Pairwise scatter plots for visualization of pairwise combinations of the variables, \n",
        "  - Faceted, conditioned or small multiple plots are all names for a method which produces visual slices through complex data.   \n"
      ]
    },
    {
      "cell_type": "markdown",
      "metadata": {
        "id": "-ClNkpsdFQwE"
      },
      "source": [
        "\n",
        "## About this Jupyter Notebook\n",
        "This notebook contains material to help you learn how to maximize human perception when visualizing data. This notebook and the data set can be downloaded from GitHub:\n",
        "\n",
        "**https://github.com/StephenElston/ExploringDataWithPython**  \n",
        "\n",
        "The material are in the **/PerceptionAndVisualization** directory. \n",
        "\n",
        "This notebook was constructed using the Anaconda 3.7 Python distribution. If you are not running version Anaconda 3.5 or higher, we suggest you update your Anaconda distribution now.  You can download the Python 3 Anaconda distribution for your operating system from the [Continum Analytics web site](https://www.continuum.io/downloads)\n",
        "\n",
        "To run this notebook you need to install the Seaborn graphics packages. If you have not done so, you will need to install Seaborn as it is not in the Anaconda distribution as of now. From a command prompt on your computer type the following command. If no errors occur, you will have installed Seaborn.\n",
        "\n",
        "``pip install seaborn``\n",
        "\n",
        "or\n",
        "\n",
        "``conda install seaborn``\n",
        "\n",
        "More information on installing seaborn can be seen on the [Installing and getting started](http://seaborn.pydata.org/installing.html) page.\n",
        "\n"
      ]
    },
    {
      "cell_type": "markdown",
      "metadata": {
        "id": "J3hM81wYFQwF"
      },
      "source": [
        "\n",
        "## About Steve Elston\n",
        "\n",
        "These lessons have been prepared by:\n",
        "\n",
        "**Steve Elston**\n",
        "\n",
        "- Co-founder and principle consultant Quantia Analytics, LLC \n",
        "- Instructor, University of Washington and Harvard University Extension School.\n",
        "- Creator and maintainer of four edX data science and ML/AI courses\n",
        "- Decades of experience in predictive analytics and machine learning \n",
        "- Experience in several industries: payment, telecom, capital markets, logistics, energy\n",
        "- PhD, MS in Geophysics from Princeton University\n"
      ]
    },
    {
      "cell_type": "markdown",
      "metadata": {
        "id": "qx7LsC_7FQwF"
      },
      "source": [
        "\n",
        "## About the data sets\n",
        "\n",
        "The automotive dataset is from the [University of California Irving Machine Learning Repository](https://archive.ics.uci.edu/ml/datasets/Automobile)  The data was compiled by Jeffrey C. Schlimmer from the following sources:\n",
        "\n",
        "- 1985 Model Import Car and Truck Specifications, 1985 Ward's Automotive Yearbook. \n",
        "- Personal Auto Manuals, Insurance Services Office, 160 Water Street, New York, NY 10038 \n",
        "- Insurance Collision Report, Insurance Institute for Highway Safety, Watergate 600, Washington, DC 20037\n",
        "\n",
        "The raw sunspot dataset come from the [SISLO World Data Center](http://www.sidc.be/silso/home). The time series used here is from [R datasets package](https://stat.ethz.ch/R-manual/R-devel/library/datasets/html/sunspot.month.html)"
      ]
    },
    {
      "cell_type": "markdown",
      "metadata": {
        "id": "xE6AYjWwFQwF"
      },
      "source": [
        "## Why visualization and Exploratory Data Analysis?\n",
        "\n",
        "Visualization is an essential method in any data scientist’s toolbox. Visualization is a key first step in the exploration of most data sets. These process exploring data visually and with simple summary statistics is known as Exploratory Data Analysis (EDA).    \n",
        "\n",
        "As a general rule, you should never start creating analytical or machine learning models until you have examined the data and understand the relationships. Otherwise, you risk wasting your time creating models blindly. \n",
        "\n",
        "Visualization is also a powerful tool for presentation of results and for determining sources of problems with analytics. \n",
        "\n",
        "The concepts of exploring and analyzing a data set visually was pioneered by John Tukey in the 1960s and 1970s. Tukey consolidated his many ideas on data exploration into a book in the late 1970s, *John Tukey, Exploratory Data Analysis, 1977, Addison-Westley*.\n",
        "\n",
        "\n",
        "Bill Cleveland documented his seminal work in visualization of complex data sets in his book, *William S. Cleveland, Visualizing Data, 1993, Hobart Press*.\n",
        "\n",
        "\n",
        "Edward Tufte is well know for his different take on data exploration and visualizaion. His first book outlined many of his key ideas: *Edward Tufte, Envisioning Information, Graphics Press, 1990*. His more famous book first appeared in 1993, and is still widely available: *Edward Tufte, Envisioning Information, 2nd Edition, Graphics Press, 2001*.\n",
        "\n",
        "\n",
        "The key concept of exploratory data analysis (EDA) or visual exploration of data is to understand the relationships in the data set. Specifically, using visualization when you approach a new data set you can:\n",
        "\n",
        "- Explore complex data sets, using visualization to develop understanding of the inherent relationships.\n",
        "- Use different chart types to create multiple views of data to highlight different aspects of the inherent relationships.\n",
        "- Use plot aesthetics to project multiple dimensions. \n",
        "- Apply conditioning or faceting methods to project multiple dimensions\n"
      ]
    },
    {
      "cell_type": "markdown",
      "metadata": {
        "id": "llDDqosiFQwL"
      },
      "source": [
        "## Resources\n",
        "\n",
        "In this tutorial we will work with two powerful Python packages, Pandas and Seaborn. Both packages have extensive online documentation. There is an extensive tutorial on [**Visualizaton with Pandas**](http://pandas.pydata.org/pandas-docs/version/0.18.0/visualization.html).  The [**Seaborn tutorial**](https://stanford.edu/~mwaskom/software/seaborn/tutorial.html) contains many examples of data visualization. The matplotlib web site has additional [**resources for learning to use this package**](http://matplotlib.org/resources/index.html)."
      ]
    },
    {
      "cell_type": "markdown",
      "metadata": {
        "id": "BDENb7BTFQwL"
      },
      "source": [
        "## Load the data set\n",
        "\n",
        "Let's get started. The function shown in the cell below loads the data from the .csv file. Some minimal clean up is performed on the data. Rows with missing values are dropped and some columns are converted from strings containing numbers to numeric data. \n",
        "\n",
        "Execute the code in this cell to load the packages you will need for this notebook.\n",
        "\n",
        "***\n",
        "**Note:** The IPyhon magic command `%matplotlib inline` enables the display of graphics inline with the Python code. If you do not include this command your graphs will not be displayed. \n",
        "***"
      ]
    },
    {
      "cell_type": "markdown",
      "source": [
        "**Shared Copies of Data Files from Google Drive**   \n",
        "\n",
        "  - [automobile_price_data.csv](https://bit.ly/cst3512_dvpv_auto)\n",
        "  - [sunspots.csv](https://bit.ly/cst3512_dvpv_sunspots)\n"
      ],
      "metadata": {
        "id": "C-FcAqaH26QJ"
      }
    },
    {
      "cell_type": "code",
      "execution_count": null,
      "metadata": {
        "id": "2RjBULZoFQwL"
      },
      "outputs": [],
      "source": [
        "import pandas as pd\n",
        "import numpy as np\n",
        "import seaborn as sns\n",
        "from math import log, sqrt, sin\n",
        "import matplotlib.pyplot as plt\n",
        "%matplotlib inline "
      ]
    },
    {
      "cell_type": "markdown",
      "metadata": {
        "id": "QaAEFeZhFQwM"
      },
      "source": [
        "Execute the code in this cell to load the data into your notebook and do some cleanup of the data.     \n",
        "\n",
        "**Make sure you have the .csv file in your working directory!**"
      ]
    },
    {
      "cell_type": "code",
      "execution_count": null,
      "metadata": {
        "id": "-6Zb0ZJyFQwM"
      },
      "outputs": [],
      "source": [
        "def read_auto_data(fileName = \"automobile_price_data.csv\"):\n",
        "    'Function to load the auto price data set from a .csv file' \n",
        "\n",
        "    ## Read the .csv file with the pandas read_csv method\n",
        "    auto_prices = pd.read_csv(fileName)\n",
        "    \n",
        "    ## Remove rows with missing values, accounting for mising values coded as '?'\n",
        "    cols = ['price', 'bore', 'stroke', \n",
        "          'horsepower', 'peak-rpm']\n",
        "    for column in cols:\n",
        "        auto_prices.loc[auto_prices[column] == '?', column] = np.nan\n",
        "    auto_prices.dropna(axis = 0, inplace = True)\n",
        "\n",
        "    ## Convert some columns to numeric values\n",
        "    for column in cols:\n",
        "        auto_prices[column] = pd.to_numeric(auto_prices[column])\n",
        "        \n",
        "    return auto_prices\n",
        "auto_prices = read_auto_data()"
      ]
    },
    {
      "cell_type": "markdown",
      "metadata": {
        "id": "UbJhE_N5FQwM"
      },
      "source": [
        "The code in the cell below first gives the columns Python-friendly names. Then using the Pandas ``head`` method a sample of the data is displayed. Execute this code and examine the result. "
      ]
    },
    {
      "cell_type": "code",
      "execution_count": null,
      "metadata": {
        "id": "LJUosHLAFQwN"
      },
      "outputs": [],
      "source": [
        "## Give columns Python-friendly names\n",
        "auto_prices.columns = ['symboling', 'normalized_losses', 'make', 'fuel_type', 'aspiration',\n",
        "       'num_of_doors', 'body_style', 'drive_wheels', 'engine_location',\n",
        "       'wheel_base', 'length', 'width', 'height', 'curb_weight', 'engine_type',\n",
        "       'num_of_cylinders', 'engine_size', 'fuel_system', 'bore', 'stroke',\n",
        "       'compression_ratio', 'horsepower', 'peak_rpm', 'city_mpg',\n",
        "       'highway_mpg', 'price']\n",
        "\n",
        "## Look at the head of the dataframe\n",
        "auto_prices.head()"
      ]
    },
    {
      "cell_type": "markdown",
      "metadata": {
        "id": "noMjZvfLFQwN"
      },
      "source": [
        "## Easy to Perceive Plot Aesthetics\n",
        "\n",
        "In this section we will explore some plot aesthetics and attributes which maximizes human perception. By employing these aesthetics or plot attributes you can create visualizations that are more likely to highlight key relationships of your dataset.  "
      ]
    },
    {
      "cell_type": "markdown",
      "metadata": {
        "id": "8YlKD4FsFQwN"
      },
      "source": [
        "### Marker Position and Scatter Plots\n",
        "\n",
        "Human perception of even small differences in position is quite acute. This acute perceptual difference makes scatter plots and other plots using position quite effective. Thus, scatter plots are one of the most useful and powerful of plot types. This despite the apparent simplicity. \n",
        "\n",
        "Scatter plots show the relationship between two variables in the form of dots on the plot. In simple terms, the values along a horizontal axis are plotted against a vertical axis. The scatter plot is a display of value vs. positions. \n",
        "\n",
        "Execute the code in the cell below to create a scatter plot of city mpg vs. curb weight. "
      ]
    },
    {
      "cell_type": "code",
      "execution_count": null,
      "metadata": {
        "scrolled": false,
        "id": "0Ta2fo1SFQwN"
      },
      "outputs": [],
      "source": [
        "## Define a figure and axes and make a scatter plot\n",
        "fig = plt.figure(figsize=(8, 8)) # define plot area\n",
        "ax = fig.gca() # define axis                   \n",
        "ax.scatter(x = auto_prices.city_mpg, y = auto_prices.curb_weight)\n",
        "ax.set_title('Scatter plot of price vs MPG') # Give the plot a main title\n",
        "ax.set_xlabel('City MPG') # Set text for the x axis\n",
        "ax.set_ylabel('Vehicle Weight')# Set text for y axis"
      ]
    },
    {
      "cell_type": "markdown",
      "metadata": {
        "id": "3pcg_JqWFQwN"
      },
      "source": [
        "In this plot you can see very small differences in the vehicle weight, for each value of city MPG. These values are quite small, in some cases, yet you can easily see the differences. Notice that city MPG is quantized in 1 MPG units. "
      ]
    },
    {
      "cell_type": "markdown",
      "metadata": {
        "id": "iZ08iWOeFQwO"
      },
      "source": [
        "\n",
        ">**Your turn:** In the cell below create and execute code to plot auto price vs City MPG."
      ]
    },
    {
      "cell_type": "code",
      "execution_count": null,
      "metadata": {
        "id": "vf7Kga6wFQwO"
      },
      "outputs": [],
      "source": []
    },
    {
      "cell_type": "markdown",
      "metadata": {
        "id": "suPuvO8aFQwO"
      },
      "source": [
        "### Bar Length and Bar plots\n",
        "\n",
        "Length is another plot aesthetic or attribute for which human perception is quite sensitive. Most people can discern small differences in length. This makes plots using length relationship quite good at highlighting data relationships.  \n",
        "\n",
        "Bar plots are used to display the counts of unique values of a categorical variable. The length of the bar represents the count for each unique category of the variable. Small differences in the counts, resulting in small differences in the bar lengths are quite perceptible.    \n",
        "\n",
        "As a first step, we need the counts of the categorical variables. Pandas has a ``value_counts`` method used in the code below to create a new data frame containing the counts by ``make`` of the car. Execute this code.  "
      ]
    },
    {
      "cell_type": "code",
      "execution_count": null,
      "metadata": {
        "id": "OjKhA2exFQwO"
      },
      "outputs": [],
      "source": [
        "counts = auto_prices['make'].value_counts() # find the counts for each unique category\n",
        "counts"
      ]
    },
    {
      "cell_type": "markdown",
      "metadata": {
        "id": "Pats4o7FFQwO"
      },
      "source": [
        "You can see the ordered list of counts by make above. Notice that this data frame has many fewer rows than the original, since it only needs one row for each unique value of the make. \n",
        "\n",
        "Now, create the bar plot of number of autos by make using the ``counts`` data frame, by executing the code in the cell below. Notice, that the recipe for this chart is the same as we have used for scatter plots and line plots, just using the ``.plot.bar`` method. "
      ]
    },
    {
      "cell_type": "code",
      "execution_count": null,
      "metadata": {
        "id": "tjtYqdrIFQwO"
      },
      "outputs": [],
      "source": [
        "fig = plt.figure(figsize=(8,8)) # define plot area\n",
        "ax = fig.gca() # define axis    \n",
        "counts.plot.bar(ax = ax) # Use the plot.bar method on the counts data frame\n",
        "ax.set_title('Number of auto types by make') # Give the plot a main title\n",
        "ax.set_xlabel('Make') # Set text for the x axis\n",
        "ax.set_ylabel('Number of autos')# Set text for y axis"
      ]
    },
    {
      "cell_type": "markdown",
      "metadata": {
        "id": "VVy5kTX5FQwO"
      },
      "source": [
        "Examine this plot. You can easily see that several car makers have the same number of models, and that the difference in number of models can be as small as 1. \n",
        "\n",
        ">**Note:** The counts for the above bar chart are ordered (sorted). To maximize human perception, it is important to sort counts for bar charts in either ascending or descending order. \n",
        "\n",
        "It is worth considering commonly used alternatives to a simple bar plot a stacked bar plot and pie charts:\n",
        "- **Stacked bar charts:** When categories are stacked into single bar, the viewer often has difficulty determining the length of the sub-segments in the bars. Except in certain cases, the alignment of the sub-segments will be somewhat random and hard to compare.      \n",
        "- **Pie charts:** Pie charts use area or angle, rather than length to show relative values. Human perception of area and angle is quite poor in general. Further, when there are more than a few categories the small differences in the area of the slices become completely unnoticeable.      "
      ]
    },
    {
      "cell_type": "markdown",
      "metadata": {
        "id": "E4q8zxURFQwP"
      },
      "source": [
        ">**Your turn:** Make a pie chart of the number of autos by make. Notice the difficulty in clearly interpreting this chart."
      ]
    },
    {
      "cell_type": "code",
      "execution_count": null,
      "metadata": {
        "id": "cazEpB-LFQwP"
      },
      "outputs": [],
      "source": []
    },
    {
      "cell_type": "markdown",
      "metadata": {
        "id": "2smj6qqZFQwP"
      },
      "source": [
        "### Sequential and Divergent Color Palettes\n",
        "\n",
        "Use of **color** as an aesthetic in visualization is a complicated subject. While color is often used, it is also often abused and leads to misleading or uninterpretable results. \n",
        "\n",
        "To structure our discussion, we will define two particular cases for the use of color in visualization:\n",
        "- A **qualitative palette** is a palette of individual colors is used to display categorical values. We will address this case latter. \n",
        "- A **sequential and divergent palettes** is a sequence of colors used to display a quantitative variable. A sequential palette contains a color sequence of changing hue, which corresponds to values of a quantitative variable. A divergent palette has two sequences of hues with a gap in the center. Divergent palettes are useful for quantitative variables with positive and negative values.  \n",
        "\n",
        "When doing data visualization in Python you have the choice of several sets of high quality sequential and divergent color palettes. [There is an extensive set of palette choices with Seaborn](https://seaborn.pydata.org/tutorial/color_palettes.html). Matplotlib contains a [another set of high quality palettes](https://matplotlib.org/3.1.1/tutorials/colors/colormaps.html). These Matplotlib options, including **perceptually uniform palettes**, are expertly designed to optimize human perception. \n",
        "\n",
        "The code in the cell below creates a scatter plot with vehicle price shown using the magma palette from Matplotlib. Magma uses lighter or 'hotter' colors to show larger values of a quantitative variable. Execute this code and examine the results. "
      ]
    },
    {
      "cell_type": "code",
      "execution_count": null,
      "metadata": {
        "id": "8wKF2bPIFQwP"
      },
      "outputs": [],
      "source": [
        "ax = sns.relplot(x = 'city_mpg', y = 'curb_weight', \n",
        "                 hue = 'price', palette = 'magma',\n",
        "                 data=auto_prices,\n",
        "                 height = 8, aspect=1/1)\n",
        "ax.set(title ='City MPG vs. Weight \\nPrice by color', # Give the plot a main title\n",
        "       xlabel = 'City MPG', # Set text for the x axis\n",
        "       ylabel = 'Vehcle Weight') # Set text for y axis   "
      ]
    },
    {
      "cell_type": "markdown",
      "metadata": {
        "id": "JwkBClunFQwP"
      },
      "source": [
        "Examine the plot, noticing the general trend from the lower right to the upper left. The lowest weight, highest mileage, autos generally have the lowest price. The highest weight, lowest mileage, cars generally have the highest prices. Within these general trends there are some deviations, but the general trend is clear from the color progression of the palette. \n",
        "\n",
        "While it is hard to draw quantitative conclusions from color progressions, they can help show general trends. This can be done effectively with the correct choice of palette. Best choice of palette to highlight a relationship can take some experimentation.   "
      ]
    },
    {
      "cell_type": "markdown",
      "metadata": {
        "id": "112JgU7DFQwP"
      },
      "source": [
        "### Marker Size\n",
        "\n",
        "Another aesthetic which is useful for quantitative variables is **marker size**. As with a well chosen color palette, used properly marker size can highlight important trends in complex datasets. "
      ]
    },
    {
      "cell_type": "code",
      "execution_count": null,
      "metadata": {
        "id": "lQJEVOZtFQwP"
      },
      "outputs": [],
      "source": [
        "ax = sns.relplot(x = 'city_mpg', y = 'curb_weight', \n",
        "                 hue = 'price', palette = 'magma',\n",
        "                 size = 'engine_size', sizes = (50.0, 400.0),\n",
        "                 data=auto_prices,\n",
        "                 height = 8, aspect=1/1)\n",
        "ax.set(title ='City MPG vs. Weight \\nPrice by marker size \\\n",
        "               \\nAspiration by marker shape\\\n",
        "               \\nFuel type by color', # Give the plot a main title\n",
        "       xlabel = 'City MPG', # Set text for the x axis\n",
        "       ylabel = 'Vehicle Weight') # Set text for y axis    "
      ]
    },
    {
      "cell_type": "markdown",
      "metadata": {
        "id": "1gg82ePRFQwQ"
      },
      "source": [
        "Notice that the engine size generally increases with vehicle weight. "
      ]
    },
    {
      "cell_type": "markdown",
      "metadata": {
        "id": "huvji-GWFQwQ"
      },
      "source": [
        "### Aspect Ratio\n",
        "\n",
        "Changing the aspect ratio has a significant influence on how a viewer perceives a chart. The correct aspect ratio can help highlight important relationships in complex datasets. Conversely, poorly chosen or exaggerated aspect ratios can greatly distort human perception of the data relationship displayed.  \n",
        "\n",
        "We represent aspect ratio as follows:     \n",
        "\n",
        "$$aspect\\ ratio = \\frac{width}{height}\\ : 1$$\n",
        "\n",
        "Let's look at an example of how aspect ratio can change our perception of a dataset. Execute the code in the cell below to load the sunspot data set and examining the head and tail of the data frame. **Make sure you have the .csv file in your working directory!**"
      ]
    },
    {
      "cell_type": "code",
      "execution_count": null,
      "metadata": {
        "id": "PSW1MwQDFQwQ"
      },
      "outputs": [],
      "source": [
        "sunspots = pd.read_csv('sunspots.csv')\n",
        "sunspots.loc[:, 'date'] = pd.to_datetime(sunspots.loc[:, 'date'])\n",
        "sunspots.set_index('date', inplace = True)\n",
        "print(sunspots.head())\n",
        "print(sunspots.tail())"
      ]
    },
    {
      "cell_type": "markdown",
      "metadata": {
        "id": "u2yIva4-FQwQ"
      },
      "source": [
        "The sunspot data represents an extraordinarily long time series, of over 260 years. \n",
        "\n",
        "Execute the code in the cell below to make a time series (line) plot of these data with an aspect ratio of 1.33:1. "
      ]
    },
    {
      "cell_type": "code",
      "execution_count": null,
      "metadata": {
        "id": "63lm8RrEFQwQ"
      },
      "outputs": [],
      "source": [
        "ax = plt.figure(figsize=(8, 6)).gca() # define axis\n",
        "sunspots.plot(ax = ax)\n",
        "ax.set_xlabel('Year')\n",
        "ax.set_ylabel('Number of sunspots')\n",
        "ax.set_title('Time series of sunspots')"
      ]
    },
    {
      "cell_type": "markdown",
      "metadata": {
        "id": "EveqQlzOFQwQ"
      },
      "source": [
        "There are two points to notice about the time series displayed here:\n",
        "1. The number of sunspots is periodic in time. This is the well-known *sunspot cycle*.\n",
        "2. Given this aspect ratio, each cycle appears to be symmetric. \n",
        "\n",
        "But, what happens if we change the aspect ratio to 4:1. To find out, execute the code in the cell below."
      ]
    },
    {
      "cell_type": "code",
      "execution_count": null,
      "metadata": {
        "id": "w1T6iwJbFQwQ"
      },
      "outputs": [],
      "source": [
        "ax = plt.figure(figsize=(8, 2)).gca() # define axis\n",
        "sunspots.plot(ax = ax)\n",
        "ax.set_xlabel('Year')\n",
        "ax.set_ylabel('Number of sunspots')\n",
        "ax.set_title('Time series of sunspots')"
      ]
    },
    {
      "cell_type": "markdown",
      "metadata": {
        "id": "bU6PdiDcFQwQ"
      },
      "source": [
        "With the higher aspect ratio the plot looks rather different. You can now see that each cycle has a fast rise in the rate of sunspots generally followed by a slower fall or decay. This relationship was hard to perceive with the plot using lower aspect ratio."
      ]
    },
    {
      "cell_type": "markdown",
      "metadata": {
        "id": "u36IowV0FQwR"
      },
      "source": [
        ">**Your turn:** Try making scatter plots of vehicle weight vs. City MPG with an aspect ratio of 1:2 and 2:1. Notice how these changes affect your perception of the relationship between these variables."
      ]
    },
    {
      "cell_type": "code",
      "execution_count": null,
      "metadata": {
        "id": "ByigU1amFQwR"
      },
      "outputs": [],
      "source": []
    },
    {
      "cell_type": "markdown",
      "metadata": {
        "id": "S3aJB85PFQwR"
      },
      "source": [
        "## Aesthetics with Limited Perceptive Power\n",
        "\n",
        "We have explored some aesthetics with which are easy to perceive, and therefore quite powerful. You may be surprised to learn that some commonly used plot aesthetics are not that easy to perceive, and may not add the insight the visualization creator thinks they might. "
      ]
    },
    {
      "cell_type": "markdown",
      "metadata": {
        "id": "DGVjASMqFQwR"
      },
      "source": [
        "### Line Plots and Line Type\n",
        "\n",
        "Line plots are similar to point plots. In line plots the discrete points are connected by lines. It is common practice to use different pattern types to differentiate between lines on a graph. While this approach can be effective, it is only useful for a limited number of lines on one graph. The use of too many similar line pattern on one plot leads to viewer confusion and poor perception of the data relationships. In summary, line pattern can be effective, but only when used sparingly.  \n",
        "\n",
        "The code in the cell below creates a dataframe using various transformations of the sunspot data. Execute the code and examine the resulting dataframe. "
      ]
    },
    {
      "cell_type": "code",
      "execution_count": null,
      "metadata": {
        "scrolled": true,
        "id": "V3TvGiEGFQwR"
      },
      "outputs": [],
      "source": [
        "sunspot_mean = sunspots.mean()[0]\n",
        "y1 = [z/sunspot_mean for z in sunspots.spots]\n",
        "y2 = [log(z + 0.01) for z in y1]\n",
        "y3 = [1.0/(z + 0.1) for z in y1]\n",
        "y4 = [sqrt(z) for z in y1]\n",
        "df = pd.DataFrame({'Date':sunspots.index,'Normalized':y1, 'Log':y2, 'Inverse':y3, 'Sqrt':y4})\n",
        "df.head()"
      ]
    },
    {
      "cell_type": "markdown",
      "metadata": {
        "id": "bKHetra2FQwR"
      },
      "source": [
        "Now, we will make a time series plot of these transformed variables using a different line type for each variable. You can find choices for [matplotlib line styles in the documentation](https://matplotlib.org/3.1.0/gallery/lines_bars_and_markers/linestyles.html).\n",
        "\n",
        "To display the plot with the 4 line types, execute the code in the cell below. Notice that the linewidth argument has been set to 1, since it is easier for the human eye to separate thiner lines."
      ]
    },
    {
      "cell_type": "code",
      "execution_count": null,
      "metadata": {
        "id": "BIK8bFwjFQwR"
      },
      "outputs": [],
      "source": [
        "styles = [':','-.','--','-']\n",
        "#lables = ['Normalized','log(x)','1/x','sqrt(x)']\n",
        "\n",
        "fig = plt.figure(figsize=(8, 4)) # define plot area\n",
        "ax = fig.gca() # define axis   \n",
        "temp = df[(df['Date'] > '1900-01-01') & (df['Date'] <= '1919-12-01')]\n",
        "for col, style in zip(temp[['Normalized','Log','Inverse','Sqrt']], styles):    \n",
        "    ax.plot(temp.Date, temp[col], linestyle = style, color = 'b', label=(col+'(sunspots)'), linewidth=1)\n",
        "ax.set_title('Line plot of transformed sunspot data \\nwith multiple line types') # Give the plot a main title\n",
        "ax.set_xlabel('x values') # Set text for the x axis\n",
        "ax.set_ylabel('y values')# Set text for y axis    \n",
        "ax.legend()"
      ]
    },
    {
      "cell_type": "markdown",
      "metadata": {
        "id": "BVg39OQXFQwR"
      },
      "source": [
        "Examine the plot above and notice that with just 4 types, the lines on the plot are distinct. This is event the case for the normalize sunspots and the square root of the normalized sunspots, which run quite close together. Adding too many line types to a plot such as the above will cause perception problems for the viewer. \n",
        "\n",
        "In principle, a combination of color and line type can be used to make lines distinct. However, this method must be used cautiously. The result can easily be *line spaghetti* which is difficult to understand, at best.  "
      ]
    },
    {
      "cell_type": "markdown",
      "metadata": {
        "id": "IKpAoOCMFQwR"
      },
      "source": [
        "### Qualitative Color Palettes\n",
        "\n",
        "Qualitative (or categorical) color palettes are often used to visualize categorical data. If the number of categories are few and the colors chosen are distinctive, this method can be effective. However, for more than a few categories, or if the choice of color is poor, this method is not effective. The result is often a confusing array or symbols with hard to distinguish colors, which will confound the understanding of the viewer. \n",
        "\n",
        "As an example where a qualitative palette works well consider the scatter plot shown below. There are only two categories and the colors are quite distinctive. "
      ]
    },
    {
      "cell_type": "code",
      "execution_count": null,
      "metadata": {
        "id": "CrrhCuY3FQwS"
      },
      "outputs": [],
      "source": [
        "ax = sns.relplot(x = 'city_mpg', y = 'curb_weight', \n",
        "                 hue = 'fuel_type', \n",
        "                 data=auto_prices,\n",
        "                 height = 8, aspect=1/1)\n",
        "ax.set(title ='City MPG vs. Weight  \\\n",
        "               \\nFule type by color', # Give the plot a main title\n",
        "       xlabel = 'City MPG', # Set text for the x axis\n",
        "       ylabel = 'Vehicle Weight') # Set text for y axis    "
      ]
    },
    {
      "cell_type": "markdown",
      "metadata": {
        "id": "6d-gHnkYFQwS"
      },
      "source": [
        "We can easily see the distinctive relationships for both gas and diesel fueled cars. Using a few categorical colors from a well chosen pallet can be quite effective. \n",
        "\n",
        "But, what happens if there are a larger number of categories. To find out, execute the code in the cell below which displays the make of the auto by categorical color. "
      ]
    },
    {
      "cell_type": "code",
      "execution_count": null,
      "metadata": {
        "id": "YPk100QNFQwS"
      },
      "outputs": [],
      "source": [
        "ax = sns.relplot(x = 'city_mpg', y = 'curb_weight', \n",
        "                 hue = 'make', \n",
        "                 data=auto_prices,\n",
        "                 height = 8, aspect=1/1)\n",
        "ax.set(title ='City MPG vs. Weight  \\\n",
        "               \\nMake by color', # Give the plot a main title\n",
        "       xlabel = 'City MPG', # Set text for the x axis\n",
        "       ylabel = 'Vehicle Weight') # Set text for y axis       "
      ]
    },
    {
      "cell_type": "markdown",
      "metadata": {
        "id": "bh6u7McvFQwS"
      },
      "source": [
        "### Marker Shape\n",
        "\n",
        "Marker shape is another commonly used plot aesthetic for displaying categorical relationships. As with qualitative color palettes, this aesthetic is only useful when two conditions are met:\n",
        "1. The number of categories is small.\n",
        "2. Distinctive shape are chosen for the markers.\n",
        "\n",
        "The code in the cell below uses the relplot method from the Seaborn package to plot a aspiration as a marker type. Execute this code and examine the results. "
      ]
    },
    {
      "cell_type": "code",
      "execution_count": null,
      "metadata": {
        "id": "5KbziHRoFQwS"
      },
      "outputs": [],
      "source": [
        "ax = sns.relplot(x = 'city_mpg', y = 'curb_weight', \n",
        "                 style = 'aspiration', \n",
        "                 hue = 'fuel_type',\n",
        "                 data=auto_prices,\n",
        "                 height = 8, aspect=1/1)\n",
        "ax.set(title ='City MPG vs. Weight  \\\n",
        "               \\nAspiration by marker shape\\\n",
        "               \\nFuel type by color', # Give the plot a main title\n",
        "       xlabel = 'City MPG', # Set text for the x axis\n",
        "       ylabel = 'Vehicle Weight') # Set text for y axis       "
      ]
    },
    {
      "cell_type": "markdown",
      "metadata": {
        "id": "1JX0ZHMpFQwS"
      },
      "source": [
        "The resulting plot above takes a bit of study to see any useful relationship. Several relationships can be noticed:\n",
        "1. For the gas cars, it is clear that for the most part, only cars in the middle of the weight and fuel economy range have turbo aspiration. \n",
        "2. Most diesel cars have turbo aspiration. \n",
        "\n",
        "It is clear that without the color coding of the fuel type these interpretations could not be found. This illustrates a key aspect of visualization for complex data. Very often **multiple plot attributes are needed to understand relationships**. \n",
        "\n",
        "To see an example of a plot with too many categories, execute the code in the cell below which uses marker type to display engine type. "
      ]
    },
    {
      "cell_type": "code",
      "execution_count": null,
      "metadata": {
        "id": "WUdAx0t_FQwS"
      },
      "outputs": [],
      "source": [
        "ax = sns.relplot(x = 'city_mpg', y = 'curb_weight', \n",
        "                 style = 'engine_type',\n",
        "                 hue = 'fuel_type',\n",
        "                 data=auto_prices,\n",
        "                 height = 8, aspect=1/1)\n",
        "ax.set(title ='City MPG vs. Weight  \\\n",
        "               \\nEngine type by marker shape\\\n",
        "               \\nFuel type by color', # Give the plot a main title\n",
        "       xlabel = 'City MPG', # Set text for the x axis\n",
        "       ylabel = 'Vehicle Weight') # Set text for y axis     "
      ]
    },
    {
      "cell_type": "markdown",
      "metadata": {
        "id": "DcRcQwjlFQwS"
      },
      "source": [
        "It is nearly impossible to understand the relationship between the markers in the plot above. "
      ]
    },
    {
      "cell_type": "markdown",
      "metadata": {
        "id": "yvBNDRYnFQwS"
      },
      "source": [
        "## Side by Side and Facet Plots\n",
        "\n",
        "We have explored some basic plot aesthetics and attributes to effectively project key relationships of complex data. Now we will investigate the use of multiple plot axes to highlight relationships in complex datasets. The key idea is that often it is better to have a series of simpler plots showing different projections or subsets of a dataset than a single complex and hard to perceive chart. Complex charts with many colors, markers, line times, etc. displaying a large number of data values can be confusing at best and imperceptible at worse.   \n",
        "\n",
        "There are many possibilities for showing subsets or projections of complex datasets. We will look at three of these. All of these methods use axes with the same scale. Using the same scale is important to ensure correct perception of the relationships in the data.  \n",
        "1. Side by side plots of subsets of the the data can be used to show relationships between subsets of a complex dataset. Specifically, we will use side-by-side **violin plots** to examine differences in the empirical distribution of subsets of the data sets \n",
        "2. **Pairwise scatter plots** allow you to display a matrix of all pairwise combinations of variables. Other relationships and plot aesthetics can be added to these plots. \n",
        "3. A technique known as **faceting**. Faceting involves using values of categorical or numeric variables to create a systematic grid of related plots. Faceting goes by several other monikers, including **conditional plotting**, the **method of small multiples** or **lattice plotting**. \n"
      ]
    },
    {
      "cell_type": "markdown",
      "metadata": {
        "id": "CNBrUUeeFQwT"
      },
      "source": [
        "\n",
        "### Violin plots\n",
        "\n",
        "Now, we will use Seaborn to create a violin plot. A violin plot uses a kernel density estimation plot around a vertical line. The violin plots can be stacked, with a group by operation. This layout allows the viewer to make comparisons between the subsets of the dataset.\n",
        "\n",
        "Execute the code in the cell below and examine the results."
      ]
    },
    {
      "cell_type": "code",
      "execution_count": null,
      "metadata": {
        "id": "GV-d75iTFQwT"
      },
      "outputs": [],
      "source": [
        "fig = plt.figure(figsize=(8,8)) # define plot area\n",
        "ax = fig.gca() # define axis \n",
        "sns.set_style(\"whitegrid\")\n",
        "sns.violinplot(x = 'engine_type', y = 'price', data = auto_prices, ax = ax)\n",
        "ax.set_title('Violine plots of auto engine size by fuel type') # Give the plot a main title\n",
        "ax.set_xlabel('Engine type') # Set text for the x axis\n",
        "ax.set_ylabel('Price')# Set text for y axis"
      ]
    },
    {
      "cell_type": "markdown",
      "metadata": {
        "id": "PsK19EjAFQwT"
      },
      "source": [
        "Using this plot you can compare the distribution of price of the autos subset by the auto engine type. "
      ]
    },
    {
      "cell_type": "markdown",
      "metadata": {
        "id": "bdMyJOYtFQwT"
      },
      "source": [
        "### Pair wise plots\n",
        "\n",
        "Pair wise plots, also know as plot matrices, allow viewing of multiple dimensions of a data set on one plot. A scatter plot is shown of each variable versus all other variables, arranged in an array. Another type of plot, such as a KDE plot, can be shown for each pair of variables. Other plot types can be placed along the diagonal of the array. \n",
        "\n",
        "Code to create a pair wise scatter plot for certain variables in the auto price data set is shown in the cell below. The recipe is:\n",
        "\n",
        "- Define a list of the columns we wish to display.\n",
        "- Use the Seaborn ``pairplot`` method to display the pairwise scatter plots of the subset of the pandas data frame or numpy array. The ``map_upper`` method is used to add KDE plots to the upper part of the plot array. \n",
        "- An argument to ``pairplot`` defines a color palette.\n",
        "- An argument to ``pairplot`` defines KDE plots be placed along the diagonal of the array. \n",
        "\n",
        "Execute this code to display the pair wise plot array."
      ]
    },
    {
      "cell_type": "code",
      "execution_count": null,
      "metadata": {
        "id": "rWX_mj3aFQwT"
      },
      "outputs": [],
      "source": [
        "num_cols = [\"length\", \"curb_weight\", \"engine_size\", \"horsepower\", \"city_mpg\", \"price\", \"fuel_type\"] \n",
        "sns.pairplot(auto_prices[num_cols], hue='fuel_type', palette=\"Set2\", diag_kind=\"kde\", size=2).map_upper(sns.kdeplot, cmap=\"Blues_d\")"
      ]
    },
    {
      "cell_type": "markdown",
      "metadata": {
        "id": "hvP5MACSFQwT"
      },
      "source": [
        "There is a great deal of information on the above plot. Examine this plot, noticing at least the following:\n",
        "\n",
        "- There are KDE plots grouped by fuel type for each of the variables specified. \n",
        "- Autos with larger length, curb weight, engine size, and horse power are more expensive.\n",
        "- Cars with higher curb weights tend to be longer and have larger engines. \n",
        "- Longer, heavier cars, have larger engines, or more horsepower and are less fuel efficient.  \n",
        "\n",
        "Notice, that the understanding a pairwise set of plots can be difficult. With too many variables, interpretation may become infeasible. "
      ]
    },
    {
      "cell_type": "markdown",
      "metadata": {
        "id": "Be4K7qlxFQwT"
      },
      "source": [
        "### Facet plots\n",
        "\n",
        "In the previous example, we created an array of plots by explicitly defining the axes or subplots. The Seaborn package allows us to create the same time of faceted plots with much less code, but with a bit less control. The code in the cell below does just this, following this recipe:\n",
        "\n",
        "- A ``FacetGrid`` is defined for the data set. In this case we have only one facet (group by variable), across columns and one facet across the rows. \n",
        "- The ``map`` method is applied to the facet grid with a plot type specified.\n",
        "- In this case, the plot type uses the ``regplot`` method to create a scatter plot. \n",
        "\n",
        "Execute the code in the cell below and examine the result."
      ]
    },
    {
      "cell_type": "code",
      "execution_count": null,
      "metadata": {
        "id": "CyGStwsKFQwT"
      },
      "outputs": [],
      "source": [
        "g = sns.FacetGrid(auto_prices, col=\"drive_wheels\", \n",
        "                  row = 'body_style', hue = 'fuel_type',  \n",
        "                  palette=\"Set2\", margin_titles=True)\n",
        "g.map(sns.regplot, 'horsepower', 'price', fit_reg = False)"
      ]
    },
    {
      "cell_type": "markdown",
      "metadata": {
        "id": "YVZ08PK1FQwT"
      },
      "source": [
        "Notice that we are now projecting 5 dimensions of our data onto the 2-d plotting surface. With the small number of data samples it is difficult to make specific observations. But you can notice a few significant differences between these subsets of the dataset.  \n",
        "\n",
        "Consider that with a dataset with a much larger number of data samples these subsets will be much easier to understand. Further, the plots will be far less cluttered with only subsets of the data in the subplots.  "
      ]
    },
    {
      "cell_type": "markdown",
      "metadata": {
        "id": "oa7jE4nfFQwU"
      },
      "source": [
        ">**Your turn:** Try some other facet plots. As a first example, make scatter plots using other facet variables like fuel_type and aspiration. Or, as another example, make violin plots of price by fuel_type using drive_wheels of body_style as a facet variable. Note that some of these facet groups will not have any data. "
      ]
    },
    {
      "cell_type": "code",
      "execution_count": null,
      "metadata": {
        "id": "lmv3B9IUFQwU"
      },
      "outputs": [],
      "source": []
    },
    {
      "cell_type": "markdown",
      "metadata": {
        "collapsed": true,
        "id": "6WFV1nT5FQwU"
      },
      "source": [
        "## Summary\n",
        "\n",
        "We have covered a lot of ground in this tutorial. We have learned quite a bit about the relationships in the auto price data set by creating multiple views to visualize these data. \n",
        "\n",
        "Specifically, in this tutorial we have:\n",
        "\n",
        "- Examined the use of plot aesthetics and attributes with good for human perception characteristics.\n",
        "- Investigated how plot aesthetics which have poor perception qualities can be effectively used if used cautiously. \n",
        "- How plot arrays for subsets of data can be used to provide multiple views for complex data sets. \n",
        "\n",
        "Finally, **have fun exploring your data!**"
      ]
    },
    {
      "cell_type": "markdown",
      "metadata": {
        "collapsed": true,
        "id": "_Oem4p2LFQwU"
      },
      "source": [
        "#### Copyright 2019, Stephen F Elston. All rights reserved. "
      ]
    },
    {
      "cell_type": "markdown",
      "source": [
        "\n",
        "\n",
        "---\n",
        "\n"
      ],
      "metadata": {
        "id": "Tf5rxbTgKMhu"
      }
    },
    {
      "cell_type": "markdown",
      "source": [
        "This copy of the notebook has been modified slightly to accommodate class lab requirements.      \n",
        "\n",
        "For the original notebook and related files, see Steve Elston's Github repository at:\n",
        "\n",
        "* https://github.com/StephenElston/ExploringDataWithPython    \n",
        "\n",
        "This notebook is available under a General Public Licence (GPU), details of which may be found at:    \n",
        "\n",
        "* https://github.com/StephenElston/ExploringDataWithPython/blob/master/LICENSE    \n",
        "\n"
      ],
      "metadata": {
        "id": "HTpXS_YpKNlw"
      }
    },
    {
      "cell_type": "markdown",
      "source": [
        "\n",
        "\n",
        "---\n",
        "\n"
      ],
      "metadata": {
        "id": "jOF-H8ksKjto"
      }
    }
  ],
  "metadata": {
    "anaconda-cloud": {},
    "kernelspec": {
      "display_name": "Python 3",
      "language": "python",
      "name": "python3"
    },
    "language_info": {
      "codemirror_mode": {
        "name": "ipython",
        "version": 3
      },
      "file_extension": ".py",
      "mimetype": "text/x-python",
      "name": "python",
      "nbconvert_exporter": "python",
      "pygments_lexer": "ipython3",
      "version": "3.7.3"
    },
    "colab": {
      "provenance": [],
      "include_colab_link": true
    }
  },
  "nbformat": 4,
  "nbformat_minor": 0
}