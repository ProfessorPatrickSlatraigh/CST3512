{
  "nbformat": 4,
  "nbformat_minor": 0,
  "metadata": {
    "colab": {
      "provenance": [],
      "collapsed_sections": [
        "61mwTE641dwx"
      ],
      "authorship_tag": "ABX9TyODi2jq3+Qk9Ct9BOr4pd0+",
      "include_colab_link": true
    },
    "kernelspec": {
      "name": "python3",
      "display_name": "Python 3"
    },
    "language_info": {
      "name": "python"
    }
  },
  "cells": [
    {
      "cell_type": "markdown",
      "metadata": {
        "id": "view-in-github",
        "colab_type": "text"
      },
      "source": [
        "<a href=\"https://colab.research.google.com/github/ProfessorPatrickSlatraigh/CST3512/blob/main/CST2312_D222_Fall2022_Class17_RegexPractice.ipynb\" target=\"_parent\"><img src=\"https://colab.research.google.com/assets/colab-badge.svg\" alt=\"Open In Colab\"/></a>"
      ]
    },
    {
      "cell_type": "markdown",
      "source": [
        "# **CST2312 Class 17**   \n",
        "**Regex Practice** \n",
        "\n",
        "Read text data to find the times of high tides for you to fish at Battery Park in NYC.   \n",
        "\n",
        "*This notebook uses text captured from a snapshot of the NOAA data on tides at Battery, New York as of 01-Nov-2022.*\n",
        "\n",
        "\n",
        "[A current snapshot of the NOAA tide data for Battery, NYC](https://tidesandcurrents.noaa.gov/map/index.html?id=8518750)  \n"
      ],
      "metadata": {
        "id": "S1x8MHmXizSs"
      }
    },
    {
      "cell_type": "markdown",
      "source": [
        "**References**  \n",
        "\n",
        "Review material from [Class 12 on Regex](https://bit.ly/cst2312cl12)      \n",
        "\n",
        "Use the [Regex Cheat Sheet](https://bit.ly/cst2312regex)        \n",
        "\n",
        "Practice use cases from [Class 15 Lab Exercises](https://bit.ly/cst2312cl15)    "
      ],
      "metadata": {
        "id": "d9VXmymRzt2J"
      }
    },
    {
      "cell_type": "markdown",
      "source": [
        "**Resources** \n",
        "\n",
        "The following provide interactive tools for developing and testing regular expressions:    \n",
        "\n",
        " - https://regexr.com/     \n",
        "\n",
        " - https://regexlearn.com/playground    \n",
        "\n",
        " - https://regex101.com/    \n",
        " \n"
      ],
      "metadata": {
        "id": "W4C7d8l51Jy8"
      }
    },
    {
      "cell_type": "markdown",
      "source": [
        "---"
      ],
      "metadata": {
        "id": "t9jCCFrh1IqI"
      }
    },
    {
      "cell_type": "markdown",
      "source": [
        "## Housekeeping   "
      ],
      "metadata": {
        "id": "eeSfW3y8i73f"
      }
    },
    {
      "cell_type": "markdown",
      "source": [
        "###Import libraries"
      ],
      "metadata": {
        "id": "R50lIG6yjCq_"
      }
    },
    {
      "cell_type": "code",
      "execution_count": 1,
      "metadata": {
        "id": "psVd8doAiqjf"
      },
      "outputs": [],
      "source": [
        "import re\n"
      ]
    },
    {
      "cell_type": "markdown",
      "source": [
        "###Acess text file(s)   "
      ],
      "metadata": {
        "id": "x5R9bxEdjGze"
      }
    },
    {
      "cell_type": "code",
      "source": [
        "!curl \"https://raw.githubusercontent.com/ProfessorPatrickSlatraigh/data/680aa4214a98cff5b62ccf432d3a6029809b322c/battery-nyc-tides.txt\" -o tide-data.txt"
      ],
      "metadata": {
        "id": "Td8rorsBjKte"
      },
      "execution_count": null,
      "outputs": []
    },
    {
      "cell_type": "markdown",
      "source": [
        "##Read the file into a string variable  "
      ],
      "metadata": {
        "id": "Ww5qgB2cs678"
      }
    },
    {
      "cell_type": "code",
      "source": [
        "with open(\"tide-data.txt\", \"r\") as file:\n",
        " text_str = str(file.read())\n",
        "\n",
        "print(text_str)"
      ],
      "metadata": {
        "id": "g6Y6limynVMe"
      },
      "execution_count": null,
      "outputs": []
    },
    {
      "cell_type": "markdown",
      "source": [
        "---"
      ],
      "metadata": {
        "id": "tIzUlq_ps6Ej"
      }
    },
    {
      "cell_type": "markdown",
      "source": [
        "##Search the string variable with `re.search()` "
      ],
      "metadata": {
        "id": "68q6wGuRkdon"
      }
    },
    {
      "cell_type": "code",
      "source": [
        "# 1 - grab a substring of text and search for it\n",
        "re_searched = re.search(r'2:33 AM\thigh\t4\\.19 ft', text_str)"
      ],
      "metadata": {
        "id": "sVwCZ3rGqSUM"
      },
      "execution_count": 4,
      "outputs": []
    },
    {
      "cell_type": "code",
      "source": [
        "print(re_searched)"
      ],
      "metadata": {
        "id": "J0Y1wvOo13AK"
      },
      "execution_count": null,
      "outputs": []
    },
    {
      "cell_type": "code",
      "source": [
        "# 2 - use an even smaller substring of text and search for it\n",
        "re_searched = re.search(r'2:33 AM', text_str)"
      ],
      "metadata": {
        "id": "pGcRC9O0qB8Q"
      },
      "execution_count": 6,
      "outputs": []
    },
    {
      "cell_type": "code",
      "source": [
        "print(re_searched)"
      ],
      "metadata": {
        "id": "6lI6F6_m13vR"
      },
      "execution_count": null,
      "outputs": []
    },
    {
      "cell_type": "code",
      "source": [
        "# 3 - try a regex pattern for time and search for it\n",
        "re_searched = re.search(r'(\\d+:\\d+ \\wM)', text_str)"
      ],
      "metadata": {
        "id": "W2o3n4vFqu1c"
      },
      "execution_count": 8,
      "outputs": []
    },
    {
      "cell_type": "code",
      "source": [
        "print(re_searched)"
      ],
      "metadata": {
        "id": "TPlh5-OR14YI"
      },
      "execution_count": null,
      "outputs": []
    },
    {
      "cell_type": "code",
      "source": [
        "# 4 - try a regex pattern for time followd by a space then 'high'\n",
        "re_searched = re.search(r'(\\d+:\\d+ \\wM high)', text_str)"
      ],
      "metadata": {
        "id": "SQcE1AJjstAO"
      },
      "execution_count": 10,
      "outputs": []
    },
    {
      "cell_type": "code",
      "source": [
        "print(re_searched)"
      ],
      "metadata": {
        "id": "iFlj8bmP15E0"
      },
      "execution_count": null,
      "outputs": []
    },
    {
      "cell_type": "code",
      "source": [
        "# 5 - what went wrong with the #4 search?\n",
        "re_searched = re.search(r'(\\d+:\\d+ \\wM.high)', text_str)"
      ],
      "metadata": {
        "id": "NUqkx0vEseZG"
      },
      "execution_count": 12,
      "outputs": []
    },
    {
      "cell_type": "code",
      "source": [
        "print(re_searched)"
      ],
      "metadata": {
        "id": "oy6ZSZrQqLQ4"
      },
      "execution_count": null,
      "outputs": []
    },
    {
      "cell_type": "markdown",
      "source": [
        "###Using an `|` (or) operator for high and low tides   "
      ],
      "metadata": {
        "id": "qFUpoT7o8Lf_"
      }
    },
    {
      "cell_type": "code",
      "source": [
        "# 6 - searching for high or low tides\n",
        "re_searched = re.search(r'(\\d+:\\d+ \\wM.)(high|low)', text_str)"
      ],
      "metadata": {
        "id": "lQ4A4SKe8TFv"
      },
      "execution_count": 37,
      "outputs": []
    },
    {
      "cell_type": "code",
      "source": [
        "print(re_searched)"
      ],
      "metadata": {
        "id": "v96bPEXX8iZx"
      },
      "execution_count": null,
      "outputs": []
    },
    {
      "cell_type": "markdown",
      "source": [
        "####Adding the sea level to the pattern"
      ],
      "metadata": {
        "id": "1h_VsMvV9Zzs"
      }
    },
    {
      "cell_type": "code",
      "source": [
        "# 7 - adding the sea height to the search pattern\n",
        "re_searched = re.search(r'(\\d+:\\d+ \\wM.)(high|low).+(\\d+.\\d+)', text_str)"
      ],
      "metadata": {
        "id": "fOZkl6qs9eos"
      },
      "execution_count": 39,
      "outputs": []
    },
    {
      "cell_type": "code",
      "source": [
        "print(re_searched)"
      ],
      "metadata": {
        "id": "fA4skvXS9gNd"
      },
      "execution_count": null,
      "outputs": []
    },
    {
      "cell_type": "markdown",
      "source": [
        "####Including the unit of measure for sea height in the search pattern   \n"
      ],
      "metadata": {
        "id": "keqNr7qv95Un"
      }
    },
    {
      "cell_type": "code",
      "source": [
        "# 8 - including the unit of measure for sea height to the search pattern\n",
        "re_searched = re.search(r'(\\d+:\\d+ \\wM.)(high|low).+(\\d+.\\d+).(\\w+)', text_str)"
      ],
      "metadata": {
        "id": "fz1435ND-DDO"
      },
      "execution_count": 47,
      "outputs": []
    },
    {
      "cell_type": "code",
      "source": [
        "print(re_searched)"
      ],
      "metadata": {
        "id": "T9zhjKAK-Baw"
      },
      "execution_count": null,
      "outputs": []
    },
    {
      "cell_type": "markdown",
      "source": [
        "---"
      ],
      "metadata": {
        "id": "FTU7ZRBas3rw"
      }
    },
    {
      "cell_type": "markdown",
      "source": [
        "## Search the string for matches with `re.findall` to find all high tides  "
      ],
      "metadata": {
        "id": "DF872ko5tXye"
      }
    },
    {
      "cell_type": "code",
      "source": [
        "print(text_str)"
      ],
      "metadata": {
        "id": "ly3S8aifud9z"
      },
      "execution_count": null,
      "outputs": []
    },
    {
      "cell_type": "code",
      "source": [
        "matches = re.findall(r'(\\d+:\\d+ \\wM).+(high|low).+(\\d+.\\d+).(\\w+)', text_str)\n",
        "print(matches)  \n",
        "print()\n",
        "# iterating through the result\n",
        "for match in matches:\n",
        "  print(match)"
      ],
      "metadata": {
        "id": "w5ClBQrqvwyK"
      },
      "execution_count": null,
      "outputs": []
    },
    {
      "cell_type": "code",
      "source": [
        "print('Matches 0:', matches[0])\n",
        "print('Matches 1:', matches[1])\n",
        "print('Matches 2:', matches[2])\n",
        "print('Matches 3:', matches[3])"
      ],
      "metadata": {
        "id": "HhoX3elH6dZn"
      },
      "execution_count": null,
      "outputs": []
    },
    {
      "cell_type": "code",
      "source": [
        "# iterating through matches with an index counter\n",
        "i=0\n",
        "while i < len(matches):\n",
        "    print(matches[i])\n",
        "    i +=  1"
      ],
      "metadata": {
        "id": "b9Ctvz2R3BxA"
      },
      "execution_count": null,
      "outputs": []
    },
    {
      "cell_type": "markdown",
      "source": [
        "---"
      ],
      "metadata": {
        "id": "SLFKnnt_oB2Q"
      }
    },
    {
      "cell_type": "markdown",
      "source": [
        "##Your turn:     \n",
        "\n",
        "**What other `regex` searches could you perform to extract data from the text in the file?**   "
      ],
      "metadata": {
        "id": "61mwTE641dwx"
      }
    },
    {
      "cell_type": "code",
      "source": [],
      "metadata": {
        "id": "ygLv2IJl1qQH"
      },
      "execution_count": null,
      "outputs": []
    },
    {
      "cell_type": "markdown",
      "source": [
        "---"
      ],
      "metadata": {
        "id": "0FVAy9AL1ql3"
      }
    }
  ]
}