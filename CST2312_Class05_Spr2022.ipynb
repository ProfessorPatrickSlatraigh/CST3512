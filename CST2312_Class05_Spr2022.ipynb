{
  "nbformat": 4,
  "nbformat_minor": 0,
  "metadata": {
    "colab": {
      "name": "CST2312_Class05_Spr2022.ipynb",
      "provenance": [],
      "collapsed_sections": [],
      "authorship_tag": "ABX9TyMBW03pVr8CNXSeWarJm62R",
      "include_colab_link": true
    },
    "kernelspec": {
      "name": "python3",
      "display_name": "Python 3"
    },
    "language_info": {
      "name": "python"
    }
  },
  "cells": [
    {
      "cell_type": "markdown",
      "metadata": {
        "id": "view-in-github",
        "colab_type": "text"
      },
      "source": [
        "<a href=\"https://colab.research.google.com/github/ProfessorPatrickSlatraigh/CST3512/blob/main/CST2312_Class05_Spr2022.ipynb\" target=\"_parent\"><img src=\"https://colab.research.google.com/assets/colab-badge.svg\" alt=\"Open In Colab\"/></a>"
      ]
    },
    {
      "cell_type": "markdown",
      "metadata": {
        "id": "UNt9bOXws6Bd"
      },
      "source": [
        "# CST2312 - Class #05, follow-up on reading files in Google Colab\n",
        "by Professor Patrick, 14-Feb-2022"
      ]
    },
    {
      "cell_type": "markdown",
      "metadata": {
        "id": "WTXExnfnurjJ"
      },
      "source": [
        "\n",
        "This notebook works with a Github repository in ProfessorPatrickSlatraigh/CST2312. \n",
        "\n",
        "That repository includes the files \"mbox-short.txt\" and \"mbox.txt\". \n",
        "The repo can be cloned to be used in Google Colab as a resource or a URL for a file in the Github repo, or Google Drive can be used to open a Python handle for a file which will persist beyond the current Colab session.  Before working with the file in Github or Google Drive, the first section of this notebook describes how local files can be uploaded to a Colab session. Files which are uploaded as resources to the content area of Colab do not persist after the Colab notebook is closed.\n",
        "\n"
      ]
    },
    {
      "cell_type": "markdown",
      "metadata": {
        "id": "jNdHv_40rqxV"
      },
      "source": [
        "Here is the mbox-short.txt file as a reference: https://www.py4e.com/code3/mbox-short.txt , which is a shortened version of the file: https://www.py4e.com/code3/mbox.txt .  Both files are text files which contain a series of email messages.  The files are used as references in exercises in the Charles Severance book Python for Everybody (py4e.com)."
      ]
    },
    {
      "cell_type": "markdown",
      "source": [
        "\n",
        "\n",
        "---\n",
        "\n"
      ],
      "metadata": {
        "id": "xasrfTxNrUXP"
      }
    },
    {
      "cell_type": "markdown",
      "source": [
        "Before we start, let's use a for loop to process a list."
      ],
      "metadata": {
        "id": "XboM96OJrPnD"
      }
    },
    {
      "cell_type": "code",
      "source": [
        "the_list = [\"Hello.\", \" \", \"I\", \"am\" , \"here\", \"now\" \".\"]\n",
        "print(the_list)"
      ],
      "metadata": {
        "colab": {
          "base_uri": "https://localhost:8080/"
        },
        "id": "9OXwLXBTrTvR",
        "outputId": "714c679b-e225-4eb1-aab4-9fd425ff67dd"
      },
      "execution_count": 9,
      "outputs": [
        {
          "output_type": "stream",
          "name": "stdout",
          "text": [
            "['Hello.', ' ', 'I', 'am', 'here', 'now.']\n"
          ]
        }
      ]
    },
    {
      "cell_type": "code",
      "source": [
        "for vanilla_pudding in the_list:\n",
        "    print(vanilla_pudding)\n",
        "    "
      ],
      "metadata": {
        "colab": {
          "base_uri": "https://localhost:8080/"
        },
        "id": "hgT0JR1oro2M",
        "outputId": "a1eb6f44-7a65-4c1f-f4a5-735b15e63d93"
      },
      "execution_count": 10,
      "outputs": [
        {
          "output_type": "stream",
          "name": "stdout",
          "text": [
            "Hello.\n",
            " \n",
            "I\n",
            "am\n",
            "here\n",
            "now.\n"
          ]
        }
      ]
    },
    {
      "cell_type": "code",
      "source": [
        "for food in the_list:\n",
        "    print(food)"
      ],
      "metadata": {
        "colab": {
          "base_uri": "https://localhost:8080/"
        },
        "id": "twwFgTXLsF0_",
        "outputId": "e67b9aeb-a533-4f86-b22a-9692cb70ed48"
      },
      "execution_count": 11,
      "outputs": [
        {
          "output_type": "stream",
          "name": "stdout",
          "text": [
            "Hello.\n",
            " \n",
            "I\n",
            "am\n",
            "here\n",
            "now.\n"
          ]
        }
      ]
    },
    {
      "cell_type": "code",
      "source": [
        "for string in the_list:\n",
        "    print(string)"
      ],
      "metadata": {
        "colab": {
          "base_uri": "https://localhost:8080/"
        },
        "id": "r8W8wUKFsQbN",
        "outputId": "2dc00ed9-b44b-4e16-a355-987773e44d43"
      },
      "execution_count": 12,
      "outputs": [
        {
          "output_type": "stream",
          "name": "stdout",
          "text": [
            "Hello.\n",
            " \n",
            "I\n",
            "am\n",
            "here\n",
            "now.\n"
          ]
        }
      ]
    },
    {
      "cell_type": "code",
      "source": [
        "the_counter = 0\n",
        "while the_counter < len(the_list):\n",
        "    print(the_list[the_counter])\n",
        "    the_counter = the_counter + 1"
      ],
      "metadata": {
        "colab": {
          "base_uri": "https://localhost:8080/"
        },
        "id": "Z0nUiEsssXXy",
        "outputId": "06d0b953-3553-4f7b-a87a-d0a9eedac6bc"
      },
      "execution_count": 13,
      "outputs": [
        {
          "output_type": "stream",
          "name": "stdout",
          "text": [
            "Hello.\n",
            " \n",
            "I\n",
            "am\n",
            "here\n",
            "now.\n"
          ]
        }
      ]
    },
    {
      "cell_type": "markdown",
      "source": [
        "Let's start with a simple file read of mbox-short.txt from the \\content folder."
      ],
      "metadata": {
        "id": "lBnvrY0hnF_V"
      }
    },
    {
      "cell_type": "code",
      "source": [
        "xfile = open('mbox-short.txt', 'r') # this will open the file from \\Content\n",
        "for cheese in xfile:  # this will loop through the variable/handle 'xfile'\n",
        "    print(cheese, end='')     # for each row/record/line, values are stored in 'cheese'"
      ],
      "metadata": {
        "id": "gqjl2lF5nNFt"
      },
      "execution_count": null,
      "outputs": []
    },
    {
      "cell_type": "markdown",
      "metadata": {
        "id": "cJJIu3-nq2qt"
      },
      "source": [
        "\n",
        "\n",
        "---\n",
        "\n"
      ]
    },
    {
      "cell_type": "markdown",
      "metadata": {
        "id": "qYyfpxTNqhOe"
      },
      "source": [
        "The following code snippet imports pandas which is needed for the file loading processes from Github and Googe Drive (gdrive) which are described at the bottom of this notebook."
      ]
    },
    {
      "cell_type": "code",
      "metadata": {
        "id": "0O0HiewLxiKU"
      },
      "source": [
        "# let's import pandas as pd so that we have it available\n",
        "import pandas as pd\n"
      ],
      "execution_count": null,
      "outputs": []
    },
    {
      "cell_type": "markdown",
      "metadata": {
        "id": "C6OJASJYq0vG"
      },
      "source": [
        "\n",
        "\n",
        "---\n",
        "\n"
      ]
    },
    {
      "cell_type": "markdown",
      "metadata": {
        "id": "k0CvFDYJ75yp"
      },
      "source": [
        "## **UPLOADING TO COLAB EVERY TIME**"
      ]
    },
    {
      "cell_type": "markdown",
      "metadata": {
        "id": "OQ0h2ndg1yi2"
      },
      "source": [
        "The first example reads \"mbox-short.txt\" from the Google Colab content folder \"sample_data\".  In order to do that, the \"mbox-short.txt\" file needs to be uploaded to the \"sample_data\" folder.  That upload is temporary for the Google Colab session - the \"mbox-short.txt\" file will go away after you finish with your active Colab notebook.  Note that this method does not require pandas.\n"
      ]
    },
    {
      "cell_type": "markdown",
      "metadata": {
        "id": "ICw2gpL72jWh"
      },
      "source": [
        "Use the panel on the left of your Colab session to navigate to the content area and the \"sample_data\" folder.  Then use the three vertical dots to the right of the name \"sample_data\" to choose 'Upload' and navigate to the \"mbox-short.txt\" file on your computer.\n"
      ]
    },
    {
      "cell_type": "markdown",
      "metadata": {
        "id": "atdHRQxq3L6j"
      },
      "source": [
        "Use the three vertical dots to your uploaded \"mbox_short.txt\" file in the \"sample_data\" content folder to choose \"Copy path\" and that will put the full path (URL) in your clipboard.  If the path is not the same as in the following call to the open() command then replace the string for the file name with the URL from your clipboard - paste it in as the argument to open()."
      ]
    },
    {
      "cell_type": "code",
      "metadata": {
        "id": "ycr3eAH-ulWy"
      },
      "source": [
        "colab_handle = open(\"/content/sample_data/mbox-short.txt\")"
      ],
      "execution_count": null,
      "outputs": []
    },
    {
      "cell_type": "markdown",
      "metadata": {
        "id": "QO_ySoup3xxp"
      },
      "source": [
        "Now you can use the print function to see the attributes of the new colab_handle you created to the \"mbox-short.txt\" file in the content folder \"sample_data\" on Google Colab.\n"
      ]
    },
    {
      "cell_type": "code",
      "metadata": {
        "id": "DdVHbqrYwd0_"
      },
      "source": [
        "print(colab_handle)"
      ],
      "execution_count": null,
      "outputs": []
    },
    {
      "cell_type": "markdown",
      "metadata": {
        "id": "IWvYtdPR4FWg"
      },
      "source": [
        "You can use a for loop to print the contents of \"mbox_short.txt\""
      ]
    },
    {
      "cell_type": "code",
      "metadata": {
        "id": "3IGLcShb4PFR"
      },
      "source": [
        "for line in colab_handle :\n",
        "    print(line)\n"
      ],
      "execution_count": null,
      "outputs": []
    },
    {
      "cell_type": "markdown",
      "metadata": {
        "id": "OhXCcpar8JW0"
      },
      "source": [
        "# **READING FILES FROM GITHUB**"
      ]
    },
    {
      "cell_type": "markdown",
      "metadata": {
        "id": "RIM3KiFX42h8"
      },
      "source": [
        "Now let's try reading the same file from a Github repository (repo).  We will use the CST2312 repo in the ProfessorPatrickSlatraigh account on Github.  The file \"mbox-short.txt\" was uploaded to that repo.  "
      ]
    },
    {
      "cell_type": "markdown",
      "metadata": {
        "id": "GKU8fZ7m5KPB"
      },
      "source": [
        "From Github we navigated to the \"mbox-short.txt\" file and viewed it in it's raw format using the \"raw\" button to the right of the file name.  While in raw viewing mode in a browser, we copied the URL from the browser to the clipboard.  Please note that this works with open repos, not private repos.\n"
      ]
    },
    {
      "cell_type": "code",
      "metadata": {
        "id": "t8tQhmd-5sOI"
      },
      "source": [
        "git_handle = pd.read_fwf(\"https://raw.githubusercontent.com/ProfessorPatrickSlatraigh/CST2312/main/mbox-short.txt\")"
      ],
      "execution_count": null,
      "outputs": []
    },
    {
      "cell_type": "code",
      "metadata": {
        "id": "s9i2BihH6gVq"
      },
      "source": [
        "print(git_handle)"
      ],
      "execution_count": null,
      "outputs": []
    },
    {
      "cell_type": "markdown",
      "metadata": {
        "id": "mtMb0lof7DbV"
      },
      "source": [
        "Storing files in Github gives us persistence.  That is, when we are done with our Google Colab session the files on Github remain and can be used again.  And our Google Colab notebooks should work each time we open them without the need for use to upload files to the content area on Google Colab for every session."
      ]
    },
    {
      "cell_type": "markdown",
      "metadata": {
        "id": "Ua1ElAyX9NfR"
      },
      "source": [
        "# **READING FILES FROM GOOGLE DRIVE**"
      ]
    },
    {
      "cell_type": "markdown",
      "metadata": {
        "id": "D7PS3mc99dJm"
      },
      "source": [
        "We can also have persistent files stored in Google Drive.  To read files from Google Drive we will need to import the drive module from google.colab.  We will also need to have Google Drive give stream access to Google Colab.  If the files are on a different Google Drive account from the Google Colab account then be sure to have permission of the Google Drive owner for access to the file."
      ]
    },
    {
      "cell_type": "markdown",
      "metadata": {
        "id": "LGdJZ8ua-EV_"
      },
      "source": [
        "You can use the drive module from google.colab to mount your entire Google Drive to Colab by:\n",
        "\n",
        "1. Executing the below code which will provide you with an authentication link"
      ]
    },
    {
      "cell_type": "code",
      "metadata": {
        "colab": {
          "base_uri": "https://localhost:8080/"
        },
        "id": "KEXi3F2F-Ows",
        "outputId": "d1437bc1-2955-4097-b005-6d1d1ee51a2b"
      },
      "source": [
        "from google.colab import drive\n",
        "drive.mount('/content/gdrive')"
      ],
      "execution_count": null,
      "outputs": [
        {
          "output_type": "stream",
          "name": "stdout",
          "text": [
            "Drive already mounted at /content/gdrive; to attempt to forcibly remount, call drive.mount(\"/content/gdrive\", force_remount=True).\n"
          ]
        }
      ]
    },
    {
      "cell_type": "markdown",
      "metadata": {
        "id": "DM8kUpGh-T1A"
      },
      "source": [
        "2. Open the link\n",
        "\n",
        "3. Choose the Google account whose Drive you want to mount\n",
        "\n",
        "4. Allow Google Drive Stream access to your Google Account\n",
        "\n",
        "5. Copy the code displayed, paste it in the text box as shown below, and press Enter"
      ]
    },
    {
      "cell_type": "markdown",
      "metadata": {
        "id": "7DBRkyFa-k4G"
      },
      "source": [
        "Once the Drive is mounted, you’ll get the message “Mounted at /content/gdrive”, and you’ll be able to browse through the contents of your Drive from the file-explorer pane."
      ]
    },
    {
      "cell_type": "markdown",
      "metadata": {
        "id": "pUf2blkN-u0l"
      },
      "source": [
        "You can even write directly to Google Drive from Colab using the usual file/directory operations."
      ]
    },
    {
      "cell_type": "code",
      "metadata": {
        "id": "kdzlvDgR-a0Q"
      },
      "source": [
        "!touch \"/content/gdrive/My Drive/sample_file.txt\""
      ],
      "execution_count": null,
      "outputs": []
    },
    {
      "cell_type": "markdown",
      "metadata": {
        "id": "QM6okRJs-0rL"
      },
      "source": [
        "This will create a file in your Google Drive, and will be visible in the file-explorer pane once you refresh it.  Notice that the path within the content area is different from the \"sample_data\" folder we used earlier for fles uploaded directly to Google Colab.  The content area will have a \"gdrive\" folder after you have authenticated with Google Drive.  Within the \"gdrive\" folder there should be a folder structure according to your Google Drive folders."
      ]
    },
    {
      "cell_type": "markdown",
      "metadata": {
        "id": "qvpxW4XI_6iK"
      },
      "source": [
        "If your Google Drive folder had the file \"mbox-short.txt\" within the \"My Drive\" folder then you would be able to open that file with the following code:"
      ]
    },
    {
      "cell_type": "code",
      "metadata": {
        "id": "JL-5khF1AUJn"
      },
      "source": [
        "gdrive_handle = open(\"/content/gdrive/My Drive/mbox-short.txt\")"
      ],
      "execution_count": null,
      "outputs": []
    },
    {
      "cell_type": "markdown",
      "metadata": {
        "id": "MPLSoz45Au8C"
      },
      "source": [
        "Now you can use the print function to see the attributes of the new gdrive_handle you created to the \"mbox-short.txt\" file in the content folder \"gdrive/My Drive/\" on Google Drive.\n"
      ]
    },
    {
      "cell_type": "code",
      "metadata": {
        "id": "oSWMlGdSAu8D",
        "colab": {
          "base_uri": "https://localhost:8080/"
        },
        "outputId": "dd449c0d-1ca2-4489-d01d-d036132a2480"
      },
      "source": [
        "print(gdrive_handle)"
      ],
      "execution_count": null,
      "outputs": [
        {
          "output_type": "stream",
          "name": "stdout",
          "text": [
            "<_io.TextIOWrapper name='/content/gdrive/My Drive/mbox-short.txt' mode='r' encoding='UTF-8'>\n"
          ]
        }
      ]
    },
    {
      "cell_type": "markdown",
      "metadata": {
        "id": "At6KzL_LAu8D"
      },
      "source": [
        "As in the earlier Google Colab example, you can now use a for loop to print the contents of \"mbox_short.txt\" in Google Drive"
      ]
    },
    {
      "cell_type": "code",
      "metadata": {
        "id": "I5sednyGAu8D"
      },
      "source": [
        "for line in gdrive_handle :\n",
        "    print(line)\n"
      ],
      "execution_count": null,
      "outputs": []
    },
    {
      "cell_type": "markdown",
      "metadata": {
        "id": "2rC9YZ3DGQ39"
      },
      "source": [
        "# **Reading Pastebin and Other HTTP with GET**"
      ]
    },
    {
      "cell_type": "markdown",
      "metadata": {
        "id": "xnyCb8R4GarG"
      },
      "source": [
        "This section reads the \"mail-short.txt\" file from a Pastebin posting using the RAW format in Pastebin and the HTTP GET from the request module.  The source file is online at: https://pastebin.com/raw/ADPQe6BM "
      ]
    },
    {
      "cell_type": "markdown",
      "metadata": {
        "id": "vUdLfivQHAvm"
      },
      "source": [
        "First import the request module as rq"
      ]
    },
    {
      "cell_type": "code",
      "metadata": {
        "id": "rNK_Nf7RG7Gj"
      },
      "source": [
        "import requests as rq"
      ],
      "execution_count": null,
      "outputs": []
    },
    {
      "cell_type": "markdown",
      "metadata": {
        "id": "mLwxybgMHK30"
      },
      "source": [
        "The use the GET command to read the RAW text file on Pastebin"
      ]
    },
    {
      "cell_type": "code",
      "metadata": {
        "id": "rbV2BKYQG2Qk"
      },
      "source": [
        "http_handle = rq.get('https://pastebin.com/raw/ADPQe6BM')\n",
        "list_of_lines = http_handle.text.splitlines()"
      ],
      "execution_count": null,
      "outputs": []
    },
    {
      "cell_type": "markdown",
      "metadata": {
        "id": "rmpgfVedJbop"
      },
      "source": [
        "Print the response to check that the HTTP request worked"
      ]
    },
    {
      "cell_type": "code",
      "metadata": {
        "colab": {
          "base_uri": "https://localhost:8080/"
        },
        "id": "k0J6CeNGJLK1",
        "outputId": "73722107-6a8d-41dc-c419-2cdd87c1c9a0"
      },
      "source": [
        "print(http_handle)"
      ],
      "execution_count": null,
      "outputs": [
        {
          "output_type": "stream",
          "name": "stdout",
          "text": [
            "<Response [200]>\n"
          ]
        }
      ]
    },
    {
      "cell_type": "markdown",
      "metadata": {
        "id": "2IPvxmziHhCE"
      },
      "source": [
        "And print the result"
      ]
    },
    {
      "cell_type": "code",
      "metadata": {
        "id": "W1e2hx1-HnFn"
      },
      "source": [
        "for line in list_of_lines:\n",
        "    print(line)"
      ],
      "execution_count": null,
      "outputs": []
    },
    {
      "cell_type": "markdown",
      "metadata": {
        "id": "Ldf9VZ8hYqfW"
      },
      "source": [
        "A file object has a lot of attributes. \n",
        "\n",
        "You can see a list of all methods and attributes of the file object here: \n",
        "\n",
        "https://docs.python.org/2.4/lib/bltin-file-objects.html. \n",
        "\n",
        "Following are some of the most used file object methods −\n",
        "\n",
        "*   **close()** - Close the file.\n",
        "\n",
        "*   **next()** - When a file is used as an iterator, typically in a for loop (for example, for line in f: print line), the next() method is called repeatedly. This method returns the next input line, or raises StopIteration when EOF is hit.\n",
        "\n",
        "*   **read([size])** - Read at most size bytes from the file.\n",
        "\n",
        "*   **readline([size])** - Read one entire line from the file.\n",
        "\n",
        "*   **seek(offset[, whence])** - Set the file's current position, like stdio's fseek(). The whence argument is optional and defaults to 0 (absolute file positioning); other values are 1 (seek relative to the current position) and 2 (seek relative to the file's end).\n",
        "\n",
        "*   **tell()** - Return the file's current position, like stdio's ftell().\n",
        "\n",
        "*   **write(str)** - Write a string to the file.\n",
        "\n",
        "*   **writelines(sequence)** - Write a sequence of strings to the file.\n",
        "\n",
        "\n",
        "Following are file object's most used attributes −\n",
        "\n",
        "*   **closed** - bool indicating the current state of the file object.\n",
        "\n",
        "*   **encoding** - The encoding that this file uses.\n",
        "\n",
        "*   **mode**- The I/O mode for the file.\n",
        "\n",
        "*   **name** - If the file object was created using open(), the name of the file. Otherwise, some string that indicates the source of the file object"
      ]
    },
    {
      "cell_type": "markdown",
      "metadata": {
        "id": "mPsUG3qd833a"
      },
      "source": [
        "\n",
        "\n",
        "---\n",
        "\n"
      ]
    },
    {
      "cell_type": "markdown",
      "metadata": {
        "id": "AYk6CJa78qHo"
      },
      "source": [
        "*With thanks to this reference article:  \n",
        "Neptune.ai blogs - How to Deal with Files in Google Colab: Everything You Need to Know, https://neptune.ai/blog/google-colab-dealing-with-files-2*\n",
        "\n",
        "---\n",
        "\n"
      ]
    }
  ]
}