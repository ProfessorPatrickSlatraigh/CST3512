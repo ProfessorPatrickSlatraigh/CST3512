{
  "nbformat": 4,
  "nbformat_minor": 0,
  "metadata": {
    "colab": {
      "name": "CST3512_Intro-SQL-sub-queries.ipynb",
      "provenance": [],
      "collapsed_sections": [],
      "include_colab_link": true
    },
    "kernelspec": {
      "name": "python3",
      "display_name": "Python 3"
    }
  },
  "cells": [
    {
      "cell_type": "markdown",
      "metadata": {
        "id": "view-in-github",
        "colab_type": "text"
      },
      "source": [
        "<a href=\"https://colab.research.google.com/github/ProfessorPatrickSlatraigh/CST3512/blob/main/CST3512_Intro_SQL_sub_queries.ipynb\" target=\"_parent\"><img src=\"https://colab.research.google.com/assets/colab-badge.svg\" alt=\"Open In Colab\"/></a>"
      ]
    },
    {
      "cell_type": "markdown",
      "metadata": {
        "id": "pAynvpmlvdZt"
      },
      "source": [
        "### Introduction to SQL Sub-Queries\n",
        "\n",
        "This notebook explore the basics of the use of sub-queries with SQL"
      ]
    },
    {
      "cell_type": "markdown",
      "source": [
        "###Housekeeping    \n",
        "\n",
        "Import libraries"
      ],
      "metadata": {
        "id": "TjaoYFa2pmGX"
      }
    },
    {
      "cell_type": "code",
      "source": [
        "import sqlite3\n"
      ],
      "metadata": {
        "id": "T7b963FTpqow"
      },
      "execution_count": 7,
      "outputs": []
    },
    {
      "cell_type": "markdown",
      "source": [
        "### Step 1 - Create a database file    \n"
      ],
      "metadata": {
        "id": "I825qjLgpu-V"
      }
    },
    {
      "cell_type": "code",
      "source": [
        "conn = sqlite3.connect('test.db')\n",
        "print(\"Opened database successfully\");"
      ],
      "metadata": {
        "colab": {
          "base_uri": "https://localhost:8080/"
        },
        "id": "i9NrysripuVX",
        "outputId": "5e463345-7af7-41e0-fe18-e31140938629"
      },
      "execution_count": 8,
      "outputs": [
        {
          "output_type": "stream",
          "name": "stdout",
          "text": [
            "Opened database successfully\n"
          ]
        }
      ]
    },
    {
      "cell_type": "markdown",
      "source": [
        "### Step 2 - Create a table in the database file    \n"
      ],
      "metadata": {
        "id": "nGyZN5H-qAeD"
      }
    },
    {
      "cell_type": "code",
      "metadata": {
        "id": "_xkGEn95uh6W",
        "colab": {
          "base_uri": "https://localhost:8080/"
        },
        "outputId": "3cbcb6c7-4323-459e-91fe-18ef3a8b0e89"
      },
      "source": [
        "# CREATING THE TABLE\n",
        "\n",
        "conn.execute('''\n",
        "CREATE TABLE IF NOT EXISTS team_data(team text, \n",
        "                      country text, \n",
        "                      season integer, \n",
        "                      total_goals integer);''')\n",
        "\n",
        "conn.commit()\n",
        "\n",
        "print(\"Table created successfully\");\n",
        "\n",
        "# conn.close() # Do not forget to close the db eventually"
      ],
      "execution_count": 9,
      "outputs": [
        {
          "output_type": "stream",
          "name": "stdout",
          "text": [
            "Table created successfully\n"
          ]
        }
      ]
    },
    {
      "cell_type": "markdown",
      "source": [
        "### Step 3 - Insert records of data into the table    \n"
      ],
      "metadata": {
        "id": "PvUw6mAyqFSC"
      }
    },
    {
      "cell_type": "code",
      "metadata": {
        "id": "r9SeHPpgu73Z"
      },
      "source": [
        "# INSERTING VALUES\n",
        "\n",
        "conn.execute(\"INSERT INTO team_data VALUES('Real Madrid', 'Spain', 2019, 53);\")\n",
        "conn.execute(\"INSERT INTO team_data VALUES('Barcelona', 'Spain', 2019, 47);\")\n",
        "conn.execute(\"INSERT INTO team_data VALUES('Arsenal', 'UK', 2019, 52);\")\n",
        "conn.execute(\"INSERT INTO team_data VALUES('Real Madrid', 'Spain', 2018, 49);\")\n",
        "conn.execute(\"INSERT INTO team_data VALUES('Barcelona', 'Spain', 2018, 45);\")\n",
        "conn.execute(\"INSERT INTO team_data VALUES('Arsenal', 'UK', 2018, 50 );\")\n",
        "\n",
        "conn.commit()"
      ],
      "execution_count": 2,
      "outputs": []
    },
    {
      "cell_type": "markdown",
      "source": [
        "### Step 4 - Close the database file    \n"
      ],
      "metadata": {
        "id": "844ymdnzqJSi"
      }
    },
    {
      "cell_type": "code",
      "source": [
        "conn.close()"
      ],
      "metadata": {
        "id": "h66isyPMVsFs"
      },
      "execution_count": 3,
      "outputs": []
    },
    {
      "cell_type": "markdown",
      "source": [
        "## Now, try using the data in the fields, in the table, in the database file"
      ],
      "metadata": {
        "id": "j5SFzvcNqe13"
      }
    },
    {
      "cell_type": "code",
      "metadata": {
        "id": "L9nIsr9Jwuds"
      },
      "source": [
        "# Average goal by team\n",
        "\n",
        "conn = sqlite3.connect('test.db')\n",
        "\n",
        "cursor = conn.execute(''' SELECT team,\n",
        "                            AVG(total_goals) AS avg_goals\n",
        "                          FROM team_data\n",
        "                          GROUP BY team;''')\n",
        "\n",
        "for row in cursor:\n",
        "  print(row)\n",
        "conn.close()"
      ],
      "execution_count": null,
      "outputs": []
    },
    {
      "cell_type": "code",
      "metadata": {
        "id": "HfJEEubPye8h"
      },
      "source": [
        "# First try to filter the teams with average goals higher than 50\n",
        "# This query will generate an error\n",
        "\n",
        "conn = sqlite3.connect('test.db')\n",
        "\n",
        "cursor = conn.execute(''' SELECT team AS team_name,\n",
        "                            AVG(total_goals) AS avg_goals\n",
        "                          FROM team_data\n",
        "                          WHERE avg_goals > 50\n",
        "                          GROUP BY team;''')\n",
        "\n",
        "for row in cursor:\n",
        "  print(row)\n",
        "conn.close()"
      ],
      "execution_count": null,
      "outputs": []
    },
    {
      "cell_type": "code",
      "metadata": {
        "id": "NlJ3wc21zU3l"
      },
      "source": [
        "# Now, the correct query, using the appropriate sub-query\n",
        "\n",
        "conn = sqlite3.connect('test.db')\n",
        "\n",
        "cursor = conn.execute(''' SELECT team_name, avg_goals\n",
        "                          FROM (\n",
        "\n",
        "                          -- Here we make our sub-query:\n",
        "                            SELECT team AS team_name,\n",
        "                            AVG(total_goals) AS avg_goals\n",
        "                            FROM team_data\n",
        "                            GROUP BY team) tp\n",
        "                          -- End of the sub-query\n",
        "                          \n",
        "                          WHERE avg_goals > 50;''')\n",
        "\n",
        "for row in cursor:\n",
        "  print(row)\n",
        "conn.close()"
      ],
      "execution_count": null,
      "outputs": []
    },
    {
      "cell_type": "code",
      "source": [
        "conn.close() # Do not forget to close the db eventually"
      ],
      "metadata": {
        "id": "mjcVcWOXPMXq"
      },
      "execution_count": 6,
      "outputs": []
    },
    {
      "cell_type": "markdown",
      "metadata": {
        "id": "hYzqFZIn0BpL"
      },
      "source": [
        "That's it, this code should be used as a complement to the article  "
      ]
    }
  ]
}