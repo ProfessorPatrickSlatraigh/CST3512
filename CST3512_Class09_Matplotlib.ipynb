{
  "cells": [
    {
      "cell_type": "markdown",
      "metadata": {
        "id": "view-in-github",
        "colab_type": "text"
      },
      "source": [
        "<a href=\"https://colab.research.google.com/github/ProfessorPatrickSlatraigh/CST3512/blob/main/CST3512_Class09_Matplotlib.ipynb\" target=\"_parent\"><img src=\"https://colab.research.google.com/assets/colab-badge.svg\" alt=\"Open In Colab\"/></a>"
      ]
    },
    {
      "cell_type": "markdown",
      "metadata": {
        "id": "vw-_ihcJXic3"
      },
      "source": [
        "# Matplotlib     \n",
        "\n",
        "**CST3512 Class-09**    \n",
        "\n",
        "**(from Salman Ghauri's DataIntelligenceHub repo on: https://github.com/DataIntelligenceHub/Matplotlib)**    \n",
        "\n",
        "    \n",
        "\n",
        "Matplotlib is probably the single most used Python package for 2D-graphics. It provides both a very quick way to visualize data from Python and publication-quality figures in many formats. \n",
        "\n",
        "We are going to explore matplotlib in interactive mode covering most common cases.\n",
        "\n",
        "***\n"
      ]
    },
    {
      "cell_type": "markdown",
      "source": [
        "##Housekeeping    "
      ],
      "metadata": {
        "id": "WqU3CQHOeR8r"
      }
    },
    {
      "cell_type": "markdown",
      "source": [
        "###Inline (Ipython Matplotlib mode)    \n",
        "\n",
        "IPython is an enhanced interactive Python shell that has lots of interesting features including named inputs and outputs, access to shell commands, improved debugging and many more. It is central to the scientific-computing workflow in Python for its use in combination with Matplotlib:    \n",
        "\n",
        "For interactive matplotlib sessions with Matlab/Mathematica-like functionality, we use IPython with it’s special Matplotlib mode that enables non-blocking plotting.\n",
        "\n",
        "\n",
        "In the IPython notebook, we insert, at the beginning of the notebook the following [magic](http://ipython.readthedocs.org/en/stable/interactive/magics.html):\n"
      ],
      "metadata": {
        "id": "KddUSJmDeND9"
      }
    },
    {
      "cell_type": "code",
      "source": [
        "%matplotlib inline"
      ],
      "metadata": {
        "id": "Dlk-a6i3exLE"
      },
      "execution_count": 1,
      "outputs": []
    },
    {
      "cell_type": "markdown",
      "source": [
        "###Numpy for arithmetic array functions     \n",
        "\n",
        "To generate example data and arithmetic calculations we import the `NumPy` module and give it the alias `np` to save some typing (and be consistent with established standards).   \n"
      ],
      "metadata": {
        "id": "BEeA44NNe4IN"
      }
    },
    {
      "cell_type": "code",
      "execution_count": 2,
      "metadata": {
        "collapsed": true,
        "id": "ICP0YU8PXidB"
      },
      "outputs": [],
      "source": [
        "import numpy as np"
      ]
    },
    {
      "cell_type": "markdown",
      "source": [
        "### Pyplot\n",
        "\n",
        "**pyplot** provides a procedural interface to the matplotlib object-oriented plotting library. It is modeled closely after Matlab™. Therefore, the majority of plotting commands in pyplot have Matlab™ analogs with similar arguments. Important commands are explained with interactive examples.\n"
      ],
      "metadata": {
        "id": "I0gZWQgeegv0"
      }
    },
    {
      "cell_type": "code",
      "source": [
        "from matplotlib import pyplot as plt"
      ],
      "metadata": {
        "id": "31wDjeZVela9"
      },
      "execution_count": 3,
      "outputs": []
    },
    {
      "cell_type": "markdown",
      "source": [
        "\n",
        "\n",
        "---\n",
        "\n"
      ],
      "metadata": {
        "id": "vTcRlm3hfm_U"
      }
    },
    {
      "cell_type": "markdown",
      "source": [
        "## Some example **x-axis** data point values    \n",
        "\n",
        "Of course, in most data science applications there will be actual data to wrangling and plot but for the following example exercises we will generate some artificial data.  Let's create an array of values from negative pi to positive pi with an interval that yields 256 data points.  The distance of that interval would be `(pi/128)`, but we do not need to worry about the calculation if we use the `NumPy linspace` function.    \n",
        "\n",
        "The `NumPy linspace` function creates sequences of evenly spaced values within a defined interval.\n",
        "\n",
        "Essentally, we specify a starting point and an ending point of an interval, and then specify the total number of breakpoints we want within that interval (including the start and end points). The `np.linspace` function will return a sequence of evenly spaced values on that interval.\n",
        "\n",
        "To illustrate this, here’s a quick example. (We’ll look at more examples later, but this is a quick one just to show you what `np.linspace` does.)\n"
      ],
      "metadata": {
        "id": "2HrU6vDYfrfU"
      }
    },
    {
      "cell_type": "code",
      "source": [
        "quick_example = np.linspace(start = 0, stop = 100, num = 5)"
      ],
      "metadata": {
        "id": "vnuCmwZ8g678"
      },
      "execution_count": 4,
      "outputs": []
    },
    {
      "cell_type": "markdown",
      "source": [
        "The code snippet above produces a `NumPy` array (an ndarray object) that looks like the following:"
      ],
      "metadata": {
        "id": "rE8Ong4QhIV2"
      }
    },
    {
      "cell_type": "markdown",
      "source": [
        "![np-inline-simple.png](data:image/png;base64,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)"
      ],
      "metadata": {
        "id": "nEyUrzHShL_V"
      }
    },
    {
      "cell_type": "markdown",
      "source": [
        "That’s the `ndarray` that the code produces, but we can also visualize the output like this:"
      ],
      "metadata": {
        "id": "gIolyRXFqOts"
      }
    },
    {
      "cell_type": "markdown",
      "source": [
        "![np-inline-simple-metadata.png](data:image/png;base64,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)"
      ],
      "metadata": {
        "id": "XTynXBDmqRTc"
      }
    },
    {
      "cell_type": "markdown",
      "source": [
        "Let's explore that variable's values:    "
      ],
      "metadata": {
        "id": "88tUZwyIiDeN"
      }
    },
    {
      "cell_type": "code",
      "source": [
        "quick_example = np.linspace(start = 0, stop = 100, num = 5)"
      ],
      "metadata": {
        "id": "UYg_aSs4LJba"
      },
      "execution_count": null,
      "outputs": []
    },
    {
      "cell_type": "code",
      "source": [
        "print(type(quick_example))\n",
        "print(quick_example)"
      ],
      "metadata": {
        "id": "aYbqoipXiG-d"
      },
      "execution_count": null,
      "outputs": []
    },
    {
      "cell_type": "markdown",
      "source": [
        "For purposes of our `matplotlib` examples in this notebook, we will generate an array of evenly spaced values between negative pi and pi which we can use for the `x-axis` values in the charts we generate.    "
      ],
      "metadata": {
        "id": "UUhoWpuyiTD0"
      }
    },
    {
      "cell_type": "code",
      "source": [
        "# generate an array from negative pi to pi using numpy\n",
        "x_array = np.linspace(-np.pi, np.pi, 256, endpoint=True)"
      ],
      "metadata": {
        "id": "FxhhnETnjn5n"
      },
      "execution_count": 6,
      "outputs": []
    },
    {
      "cell_type": "markdown",
      "source": [
        "x_array is now a numpy array with 256 values ranging from -π to +π (included).    \n",
        "Let's explore `x_array`:    \n"
      ],
      "metadata": {
        "id": "2HVHIHzNd4uD"
      }
    },
    {
      "cell_type": "code",
      "source": [
        "print(type(x_array))\n",
        "print(x_array)"
      ],
      "metadata": {
        "id": "buuvEHRqj-tl"
      },
      "execution_count": null,
      "outputs": []
    },
    {
      "cell_type": "markdown",
      "source": [
        "\n",
        "\n",
        "---\n",
        "\n"
      ],
      "metadata": {
        "id": "Ym8NvBODqcJ-"
      }
    },
    {
      "cell_type": "markdown",
      "source": [
        "## Simple plot\n",
        "In this section, we want to draw the cosine and sine functions on the same plot. Starting from the default settings, we’ll enrich the figure step by step to make it nicer.\n",
        "\n",
        "Matplotlib comes with a set of default settings that allow customizing all kinds of properties. You can control the defaults of almost every property in matplotlib: figure size and dpi, line width, color and style, axes, axis and grid properties, text and font properties and so on.\n",
        "\n",
        "\n",
        "\n",
        "First step is to get the data for the sine and cosine functions:"
      ],
      "metadata": {
        "id": "-QSzGIMQeBA7"
      }
    },
    {
      "cell_type": "code",
      "source": [
        "# generate the cosines and sines of x_array values\n",
        "cos_x_array = np.cos(x_array)\n",
        "sin_x_array = np.sin(x_array)"
      ],
      "metadata": {
        "id": "MRTyNKcHkVVl"
      },
      "execution_count": 8,
      "outputs": []
    },
    {
      "cell_type": "markdown",
      "source": [
        "`x_array` is now a `NumPy` array with 256 values ranging from -π to +π (included).      \n",
        "`cos_x_array` is an array of the cosines of `x_array` (256 values).    \n",
        "`sin_x_array` is an array of the sines of `x_array` (256 values).    \n"
      ],
      "metadata": {
        "id": "zkZKfI8-katH"
      }
    },
    {
      "cell_type": "markdown",
      "source": [
        "####Plot the sine and cosine of `x_array` values    \n",
        "\n",
        "Using the three arrays we have created, we can use `matplotlib`'s `plot` method to essentially create two overlaying plots:    \n",
        "1. a plot of `x_array` values on the **x-axis** and their cosines on the **y-axis**    \n",
        "2. a plot of `x_array` values on the **x-axis** and their sines on the **y-axis**  "
      ],
      "metadata": {
        "id": "Wageb1Myk5gN"
      }
    },
    {
      "cell_type": "code",
      "execution_count": null,
      "metadata": {
        "id": "WhED4KOuXidC"
      },
      "outputs": [],
      "source": [
        "# use maplotlib plot to chart cosine and sine for each x_array value\n",
        "plt.plot(x_array, cos_x_array)  # the blue line in the chart \n",
        "plt.plot(x_array, sin_x_array)  # the red line in the chart\n",
        "\n",
        "# Show the plot as a result on the default screen\n",
        "plt.show()"
      ]
    },
    {
      "cell_type": "markdown",
      "source": [
        "We could break that plot down into its two component plots in the following two snippets of Python code.    \n",
        "\n",
        "*Note that, because we have left options such as line color as default values, each separate plot produces its line in the same color.*    "
      ],
      "metadata": {
        "id": "xa7ilQ-DmP7u"
      }
    },
    {
      "cell_type": "code",
      "source": [
        "# use maplotlib plot to chart cosine each x_array value\n",
        "plt.plot(x_array, cos_x_array)  # what was the blue line in the compound chart \n",
        "\n",
        "# Show the plot as a result on the default screen\n",
        "plt.show()"
      ],
      "metadata": {
        "id": "tqCyHq68m8r2"
      },
      "execution_count": null,
      "outputs": []
    },
    {
      "cell_type": "code",
      "source": [
        "# use maplotlib plot to chart sine each x_array value\n",
        "plt.plot(x_array, sin_x_array)  # what was the orange line in the compound chart\n",
        "\n",
        "# Show the plot as a result on the default screen\n",
        "plt.show()"
      ],
      "metadata": {
        "id": "wPUG8jtrnBjP"
      },
      "execution_count": null,
      "outputs": []
    },
    {
      "cell_type": "markdown",
      "source": [
        "The three plots we produce above all use the same array of values (`x_array`) for the **x-axis** values.     \n",
        "\n",
        "What if we got a little creative and decide to use the cosines as the **x-axis** values instead of `x_array` then plotted the sines against them?    \n"
      ],
      "metadata": {
        "id": "44Yi1ARonZ2g"
      }
    },
    {
      "cell_type": "code",
      "source": [
        "# use maplotlib plot to chart sine vs. cosine of each x_array value\n",
        "plt.plot(cos_x_array, sin_x_array)  # different x-axis than x_array\n",
        "\n",
        "# Show the plot as a result on the default screen\n",
        "plt.show()"
      ],
      "metadata": {
        "id": "70e8zn07n1yu"
      },
      "execution_count": null,
      "outputs": []
    },
    {
      "cell_type": "markdown",
      "source": [
        "*Note the new **x-axis** value tick marks when we got creative.*    \n",
        "*Fortunately for us, `matplotlib` is flexible in adjusting its default settings to the data provided.*    "
      ],
      "metadata": {
        "id": "6HrD4Rl4oK1J"
      }
    },
    {
      "cell_type": "code",
      "source": [
        "# use maplotlib plot to chart cosine and sine for each x_array value  \n",
        "# along with a plot of the x_array cosines and sines as x and y, respectively\n",
        "plt.plot(x_array, cos_x_array)      # the blue line in the chart \n",
        "plt.plot(x_array, sin_x_array)      # the orange line in the chart \n",
        "plt.plot(cos_x_array, sin_x_array)  # the green line in the chart\n",
        "\n",
        "plt.show()"
      ],
      "metadata": {
        "id": "nRRYBITXop3O"
      },
      "execution_count": null,
      "outputs": []
    },
    {
      "cell_type": "markdown",
      "source": [
        "*Note that the wider range of* **x-axis** *values required to produce the full plot results in a different perspective on the shape of the green line.*"
      ],
      "metadata": {
        "id": "GPR53pcTpNtZ"
      }
    },
    {
      "cell_type": "markdown",
      "source": [
        "## Plots in Figures      \n",
        "\n",
        "`Matplotlib` produces charts as plots.  Each plot may include one or more lines based on data arrays.  The characteristics (width, color, pattern, etc.) of each line on a plot may be customized.  \n",
        "\n",
        "In addition, each plot has characteristics (axes start, stop, and sequence; tick marks on axes; titles; footers; etc.) which may be customized.  Plots have index values (beginning with `1` and increasing as whole numbers) which determine the sequence of the display of that plot on a figure from top-left to bottom-right.     \n",
        "\n",
        "Figures can contain one or more plots where each plot is drawn in order by plot index value (sequence) from top-left to bottom right.  Figures have charactistics (width, height, resolution, etc.) which can be customized.\n",
        "\n",
        "`Matplotlib`'s `plot` method returns a figure as:     \n",
        "1. an image displayed;      \n",
        "2. a graphic file stored;     \n",
        "3. or both.     \n"
      ],
      "metadata": {
        "id": "TwFnkQWdxPOr"
      }
    },
    {
      "cell_type": "markdown",
      "source": [
        "###Images of Example Figure/Plot Configurations     "
      ],
      "metadata": {
        "id": "_U8RrLB93Kan"
      }
    },
    {
      "cell_type": "markdown",
      "source": [
        "![Matplotlib_figplt1x1.png](data:image/png;base64,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)"
      ],
      "metadata": {
        "id": "Roa5fIRy3SdI"
      }
    },
    {
      "cell_type": "markdown",
      "source": [
        "![Matplotlib_figplt1x2.png](data:image/png;base64,iVBORw0KGgoAAAANSUhEUgAAASAAAADACAMAAACTbk6EAAAAAXNSR0IArs4c6QAAAARnQU1BAACxjwv8YQUAAAHvUExURf////v7+1lZWerq6nl5ecnJyZ2dnQAAAKenp97e3hEREX9/fwYGBvf39x4eHlBQUCUlJXJycmZmZqKiolFRUbi4uKampk1NTQsLC8HBwcXFxVRUVGJiYq2trTIyMvX19cPDwx0dHURERCoqKoaGhkdHR+Hh4WFhYTo6OnZ2doODg/Hx8X5+fsTY6pa62mmcy2OYyUKCvS51tjt+u5C22bfP5vL2+nalz6rH4eXu9oqy1jV5uHCgzd7p8/j7/Z2+3IOt1Ovy+LDL432p0k+LwlyTxqPC33CtR9jl8VWPxMvc7UiGv73U6L7J3HSMtld1p22Gs7G+1d7k7Y6iw4WavtHZ5vj6+3iQuUBkozxmsD9qtz1nsUBlpl56q/L0+JeoyEBinTpiqztkrUBin4mewXuSukBnrURyxD5otFFvpI6ixEJnqENxwkBmrMvU40BkoEJmpq281Nje6kJkoEFkosTO32WLztrj81qDyz9ruH2UuztlrqG44eXr95214D5ptUtroEBsumGIzbjJ6UNwwTdZlH+e19Pe8UBhmkFuvTNVkkx4x2WAr4il2rvM6b7O69Ld8bPF51B7yKa20EBmqaGxzT9gmmuFskBpseXp8U9to0Jpr0Jvv0JinUFoq4CWvS9SjzxdmHKLttHh7wAAAC3kB9gAAACldFJOU///////////////////////////////////////////////////////////////////////////////////////////////////////////////////////////////////////////////////////////////////////////////////////////////////////////////////////////ACB7zgQAAAAJcEhZcwAADsMAAA7DAcdvqGQAAAqHSURBVHhe7Z3Na9xYFsW1qS+vTIE3U5BFkU0hsCFtiBknpgNTDInHMcNkG5pamaGgIVk0oeng9qYXIYOb6UVvbIj/0z7n3iO5VI47TtWTu0rcXxJbuno65+no6aMUKGVBEARBEARBEARBEATBAgxyTQifH7Vs5gbtTldTvY3OSJNfwW26fx3tjrq0OfTfoF1sJJkJyOqY32z9WUDKaISfaHhH0NLUVzCg/qDym3wpIHCHgL52U1c1oK5v8XALIwiHBQbUqNPB0THq2kw2xOIhKrnqgx4zGrV8qWhjUaeDiH0CzbhKCw1znx2gbY7lg25nM8u0bhvHYAuzLSzPZ1yvd8kK0O6ym/jVQveRUQv/fF+y5/iHjew/9MliBCGzUQelBxQwkEsLmYzmRtAgzzd6JjnEXI8OXAczvQ2k0MOCPuLod6nqrphtX4/lFQDd2kRfN3NuBikD4j7Gjh/0cgsC81ZHOjaCOMkfhoWSbwxuBNSzAWhCWa9v8dpvyUProaWDZqWr+60K6BaGEP5uYb+1MMzRu+uA8AMbaXsUu9nq3CgFZD8MD2g4vDmCkD6VixHEgLZ41FmjdrvXxx+vl64cWKsDu7XZw2ZgBPVs/M90ldvFUcCGGANFQDzEuJTDwrFQehvzAaEhTik8p9wYQUavD8nhFo7gSkAP0GhlYLf6fZ4tERB63uYI4lmJ56AtzGAjh2jDSatjU/C3j1mWhM5BGGQMiM1sUxGuwhihNtQIyjZsEcsDBDd64LPuyoBWawS1efJAb3mSxpVkhECw27u4nmjf2zyvPV5nYBhBWsrDkqdvHjQMhsNn044fDwgnYV8XEl0G1MN0zhmua7uDp3+rmyvWyldqBN0Ku3pndFjdhOcfHxuNI01AXTtublm43qQJyG4YGzmAgiBIh9+ULI7dYd6BL/os25G6sLsTx+5nvxb7xHWHVWd9cP91k5kGK8XMjvt8x7+A3/veIaAZn882/otGkD/Oub77xY2sX8OtgkkOAG/EG19elfncBrfMVuN9XosfOv1y3fN1ZtUe8t7XVmXbLX5IwW/Zgtt9is6oLW/TMcePr1xnM0cd5cILN+y+UlqKxzn9Diywr4vHMajoTh87zj6OYVJ71p7b8AMUajzD8LGN7vegwEcjhRo+5XtrW5Vjic900LawBbf7WB7DsooGFhA+wVHfPt3NeFHcOp6U8nEOb/1wtrDPj34baD8HW+iXHySYV8c51ssVMaPHNgXsqatxMsuvz0GYGjxso63W3rKf9MGWw3zOxz/Mqrpla1OXIwi/W8iNOoXX3Z9xfw3l4xy3mXkc4x3Hj/lnPh7QTI0PbXwWRw/WLjvtjfwqZqui7SBnW2/uo+52Hz9sy7YzI4jrMKDZnWFDKjm+e/hcATbYH8UTCGAdx5LiqSEmi4BwOSlX7A1QHfCxDbAqOutqPiRmrmJ50bZcG5Q+c8+WsObMCLIGtsatAdk4TE7xOMdsHmQ5B6ofLsUzH+44NdInb1te1LJBX49tAPc2n1J4p72RzkG2atm2XPvPfOzZ0LCsogFPXUOFYvukDMiGGyeTgwsFeigb/48GdIgVXR24c9QIv7nMd1dR6/KJo00BPTQyNV69eBkqmmPVdtkWC/Rkp/Dxpz6zPvZsCEpqq450KyOo8MJkPVex26lld3yG+/JJTgT0BSKgIAiCYG04397dGe8/Wj/2x+Pd7aMDbUY9HBw9WcdoKoz3nmprkvPsW3msOzv1RLS99oPnmsfPtFHpOGpQPGB/T9uVir1m5QMea8vS0JSzzyzjhBe0x9JsFof+nCkBTRw/5F2iMbQnveaR5jx0JLUmsq1tXIpvJNZE9hPcMu5Ky/lnrdyfR8GOtnJx8uoNkFxqwi01UxPakIK37rk4c1d4udSEW2qmJrQhBf9wz4V5NncHLZeacE/N1MSOtqTghZsuytwlfiyXmnBPzdREtq1tEd+66aJU8z6su/OGZmoiy55oa5xDN12QA6mIvBEBZdXTxlKn6epNIkajXGrCTTVTEze2atddF6N6E4SCXLQpqZDoXEA+lwqJmuqhNshY6laocpGnklzWPKDKeXpsixekco5+g4Jc1jygp9oiY6mzdGUs8o5BLk0KiGeOhamc7/nBTi5rHlCmLXKssiCScPg/AXKJgIQkHBbkEgEJSTgsyCUCEpJwWJBLBCQk4bAglwhISMJhQS4RkJCEw4JcIiAhCYcFuURAQhIOC3KJgIQkHBbkEgEJSTgsyCUCEpJwWJBLBCQk4bAglwhISMJhQS4RkJCEw4JcIiAhCYcFuURAQhIOC3KJgIQkHBbkEgEJSTgsyCUCEpJwWJBLBCQk4bAglwhISMJhQS4RkJCEw4JcIiAhCYcFuURAQhIOC3KJgIQkHBbkEgEJSTgsyCUCEpJwWJBLBCQk4bAglwhISMJhQS4RkJCEw4JcIiAhCYcFuURAQhIOC3KJgIQkHBbkEgEJSTgsyCUCEpJwWJBLBCQk4bAglwhISMJhQS4RkJCEw4JcIiAhCYcFuURAQhIOC3KJgIQkHBbkEgEJSTgsyCUCEpJwWJBLBCQk4bAglwhISMJhQS4RkJCEw4JcIiAhCYcFuURAQhIOC3KJgIQkHBbkEgEJSTgsyCUCEpJwWJBLBCQk4bAglwhISMJhQS4RkJCEw4JcIiAhCYcFuURAQhIOC3KJgIQkHBbkEgEJSTgsyCUCEpJwWJBLBCQk4bAglwhISMJhQS4RkJCEw4JcIiAhCYcFuURAQhIOC3KJgIQkHBbkkqTz//54/Po3m5JoDQG9fXV5/OP3nJLo+gR08HI6OZ1OjvnF8hJNH9B3V5Ozs8mHHzEp0fUJ6OXk4gRMppiWaPKAXk0uLk5gM325fgF9f8V4wBRHmURTB/T20vYBuDpau4Ben5788P4d+n72c20BvZycnLx59hNMTo/XLqDLs4t35wjo4uJTbQFdnkL/l185hD6sX0AY/ef/Z9/rC+iKR9h7mlzcS0BJv2jy9enF/96fcwRd1hbQR4yg819hcnJ2WVNAlW/iTPpVpb9NcXnZR9+n/6ktoCNeCHAdsyuBRE21+jXZ1nZBxtIw+MYpuSzf+ewYu5f9/4BpiaYOKPvdPU7OcC8hUVN9qy0y9q3pglS+3ZwvepFLgs7n0+nZydnZJb8QXKLJA8qOJ4jodPJfTErUVCvf1L/UtwFXvnCbSnJJ0fns1dWnq482JdH0AWV/m376cPkdpyRqqpVvgV7qC7ffSMQ5Stv5ayRaQ0DXSJSqL7Q9zlJvQHovEeebg9KmHtxUMzUBg+qrHpZ7sUblG7cf7TYioLnXXbnpolS/9f/Rnlxqwj01UxNzX0e+7OuP5tQa8Oqa+delLfu6zOox1ryXHy11F0SqZ/zmBbT8O+qqp3y51MT9eRQs92Yfo3oWkktN3J9HAW7tlubv0moiS72VpaR6kDWJBAeYMXclawwp3pFpzL0IsjEs+fa+GZ42cQztp8snyw6adx46THV8ibnXia49zxO+TN158VzSTWA/xf3PDf7VlHP1fpJ3YH+Oo50GZDTeS350zfLi8Xh9L2mHz5/s8S1pQRAEQRAEQRAEQRAEQRAEQRCsG1n2ByWczk3LY+BTAAAAAElFTkSuQmCC)"
      ],
      "metadata": {
        "id": "RTTNdwSr3XFP"
      }
    },
    {
      "cell_type": "markdown",
      "source": [
        "![Matplotlib_figplt2x1.png](data:image/png;base64,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)"
      ],
      "metadata": {
        "id": "OMvAefoj3cfp"
      }
    },
    {
      "cell_type": "markdown",
      "source": [
        "![Matplotlib_figplt2x2.png](data:image/png;base64,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)"
      ],
      "metadata": {
        "id": "oKKZPBT73gqR"
      }
    },
    {
      "cell_type": "markdown",
      "metadata": {
        "id": "jO3Cs-GSXidD"
      },
      "source": [
        "## Customizing defaults    \n",
        "\n",
        "**Details here:** [Customizing Matplotlib](https://matplotlib.org/stable/tutorials/introductory/customizing.html)\n",
        "\n",
        "In the code below, we’ve instantiated (and commented) all the figure settings that influence the appearance of the plot.\n",
        "\n",
        "The settings have been explicitly set to their default values, but now you can interactively play with the values to explore their affect"
      ]
    },
    {
      "cell_type": "code",
      "source": [
        "# look at the result of this `np.linspace()` before working with customizations\n",
        "look_at_xticks = np.linspace(-4, 4, 9, endpoint=True)\n",
        "print('xticks will be ', look_at_xticks)"
      ],
      "metadata": {
        "colab": {
          "base_uri": "https://localhost:8080/"
        },
        "id": "_JK0f6ZUSor8",
        "outputId": "a4b74f75-7fe1-41be-f5ce-8ec101242bbe"
      },
      "execution_count": 14,
      "outputs": [
        {
          "output_type": "stream",
          "name": "stdout",
          "text": [
            "xticks will be  [-4. -3. -2. -1.  0.  1.  2.  3.  4.]\n"
          ]
        }
      ]
    },
    {
      "cell_type": "code",
      "source": [
        "# look at the result of this `np.linspace()` before working with customizations\n",
        "look_at_yticks = np.linspace(-1, 1, 5, endpoint=True)\n",
        "print('yticks will be ', look_at_yticks)"
      ],
      "metadata": {
        "colab": {
          "base_uri": "https://localhost:8080/"
        },
        "id": "sjYZY5yFTAVk",
        "outputId": "a82e8835-3ad5-4a88-8681-af90b0c35933"
      },
      "execution_count": 15,
      "outputs": [
        {
          "output_type": "stream",
          "name": "stdout",
          "text": [
            "yticks will be  [-1.  -0.5  0.   0.5  1. ]\n"
          ]
        }
      ]
    },
    {
      "cell_type": "code",
      "execution_count": null,
      "metadata": {
        "id": "4gXbh7ytXidD"
      },
      "outputs": [],
      "source": [
        "# Create a figure of size 8x6 (WidthxHeight) inches, 80 dots per inch (DPI)\n",
        "plt.figure(figsize=(8, 6), dpi=80)\n",
        "\n",
        "# Create a new subplot in a grid of 1x1 (RowsxColumns) are arg1, arg2\n",
        "# arg3 is the subplot index number (position in the grid, top to right)\n",
        "plt.subplot(1, 1, 1)\n",
        "\n",
        "# Plot cosine with a blue continuous line of width 1 (pixels)\n",
        "plt.plot(x_array, cos_x_array, color=\"blue\", linewidth=1.0, linestyle=\"-\")\n",
        "\n",
        "\n",
        "# Plot sine with a green dashed line of width 1 (pixels)\n",
        "plt.plot(x_array, sin_x_array, color=\"green\", linewidth=1.0, linestyle=\"--\")\n",
        "# or... (uncomment scaffolded statement and comment line above)\n",
        "# Plot sine with a red continuous line of width 2 (pixels)\n",
        "# plt.plot(x_array, sin_x_arrary, color=\"red\", linewidth=2.0, linestyle=\"-\")\n",
        "\n",
        "# Set x-axis value limits\n",
        "plt.xlim(-4.0, 4.0)\n",
        "\n",
        "# Set x-axis ticks (placement of tick marks on x-axis)\n",
        "plt.xticks(np.linspace(-4, 4, 9, endpoint=True))\n",
        "\n",
        "# Set y-axis value limits\n",
        "plt.ylim(-1.0, 1.0)\n",
        "\n",
        "# Set y-axis ticks (placement of tick marls on y-axis)\n",
        "plt.yticks(np.linspace(-1, 1, 5, endpoint=True))\n",
        "\n",
        "# Save figure as a PNG graphic file using 72 dots per inch\n",
        "# comment out the following line if no `/content/` folder available\n",
        "plt.savefig(\"/content/class_09_exercise.png\", dpi=72)\n",
        "\n",
        "# Show the plot as a result on the default screen\n",
        "plt.show()"
      ]
    },
    {
      "cell_type": "markdown",
      "metadata": {
        "id": "6zdjCkLUXidE"
      },
      "source": [
        "## Setting ticks\n",
        "Current ticks are not ideal because they do not show the interesting values (+/-π,+/-π/2) for sine and cosine. We’ll change them such that they show only these values.     \n",
        "\n",
        "**More information available:**    \n",
        "- [xticks() command](https://matplotlib.org/stable/api/_as_gen/matplotlib.pyplot.xticks.html?highlight=xticks#matplotlib.pyplot.xticks)\n",
        "- [yticks() command](https://matplotlib.org/stable/api/_as_gen/matplotlib.pyplot.yticks.html?highlight=yticks#matplotlib.pyplot.yticks)\n",
        "- [Tick container](https://matplotlib.org/stable/api/container_api.html?highlight=artists+container)\n",
        "- [Tick locating and formatting](https://matplotlib.org/stable/api/ticker_api.html?highlight=ticker+api)"
      ]
    },
    {
      "cell_type": "code",
      "execution_count": null,
      "metadata": {
        "id": "UAwQGPaOXidE"
      },
      "outputs": [],
      "source": [
        "# Create a figure of size 8x6 (WidthxHeight) inches, 80 dots per inch (DPI)\n",
        "plt.figure(figsize=(8, 6), dpi=80)\n",
        "\n",
        "# Create a new subplot in a grid of 1x1 (RowsxColumns) are arg1, arg2\n",
        "# arg3 is the subplot index number (position in the grid, top to right)\n",
        "plt.subplot(1, 1, 1)\n",
        "\n",
        "# Plot cosine with a blue continuous line of width 1 (pixels)\n",
        "plt.plot(x_array, cos_x_array, color=\"blue\", linewidth=1.0, linestyle=\"-\")\n",
        "# Plot sine with a red dashed line of width 2 (pixels)\n",
        "plt.plot(x_array, sin_x_array, color=\"red\", linewidth=2.0, linestyle=\"--\")\n",
        "\n",
        "# set x-axis tick marks\n",
        "plt.xticks([-np.pi, -np.pi/2, 0, np.pi/2, np.pi])  # a list of values for ticks\n",
        "# set y-axis tick marks\n",
        "plt.yticks([-1, 0, +1])    # a list of values for ticks\n",
        "\n",
        "# Show the plot as a result on the default screen\n",
        "plt.show()"
      ]
    },
    {
      "cell_type": "markdown",
      "metadata": {
        "id": "iOkBFM8QXidF"
      },
      "source": [
        "## Setting tick labels\n",
        "**Hint:** Documentation\n",
        "- [Working with text]()\n",
        "- [xticks() command]()\n",
        "- [yticks() command]()\n",
        "- [set_xticklabels()]()\n",
        "- [set_yticklabels()]()\n",
        "\n",
        "Ticks are now properly placed but their label is not very explicit. We could guess that 3.142 is π but it would be better to make it explicit. When we set tick values, we can also provide a corresponding label in the second argument list. Note that we’ll use latex to allow for nice rendering of the label."
      ]
    },
    {
      "cell_type": "code",
      "execution_count": null,
      "metadata": {
        "id": "OLvnHCYNXidF"
      },
      "outputs": [],
      "source": [
        "# Create a figure of size 8x6 (WidthxHeight) inches, 80 dots per inch (DPI)\n",
        "plt.figure(figsize=(8, 6), dpi=80)\n",
        "\n",
        "# Create a new subplot in a grid of 1x1 (RowsxColumns) are arg1, arg2\n",
        "# arg3 is the subplot index number (position in the grid, top to right)\n",
        "plt.subplot(1, 1, 1)\n",
        "\n",
        "# Plot cosine with a blue continuous line of width 1 (pixels)\n",
        "plt.plot(x_array, cos_x_array, color=\"blue\", linewidth=1.0, linestyle=\"-\")\n",
        "# Plot sine with a red dashed line of width 2 (pixels)\n",
        "plt.plot(x_array, sin_x_array, color=\"red\", linewidth=2.0, linestyle=\"--\")\n",
        "\n",
        "# # #\n",
        "# set x-axis tick marks with specified labels on tick values\n",
        "plt.xticks([-np.pi, -np.pi/2, 0, np.pi/2, np.pi],\n",
        "          [r'$-\\pi$', r'$-\\pi/2$', r'$0$', r'$+\\pi/2$', r'$+\\pi$'])\n",
        "# set y-axis tick marks with specified labels on tick values\n",
        "plt.yticks([-1, 0, +1],\n",
        "          [r'$-1$', r'$0$', r'$+1$'])\n",
        "# # #\n",
        "\n",
        "# Show the plot as a result on the default screen\n",
        "plt.show()"
      ]
    },
    {
      "cell_type": "markdown",
      "metadata": {
        "id": "Q3Hq2VUpXidG"
      },
      "source": [
        "## Moving spines\n",
        "\n",
        "**Hint:** Documentation\n",
        "- [Spines](http://matplotlib.org/api/spines_api.html#matplotlib.spines)\n",
        "- [Axis container](http://matplotlib.org/users/artists.html#axis-container)\n",
        "- [Transformations tutorial](http://matplotlib.org/users/transforms_tutorial.html)\n",
        "\n",
        "Spines are the lines connecting the axis tick marks and noting the boundaries of the data area. They can be placed at arbitrary positions and until now, they were on the border of the axis. We’ll change that since we want to have them in the middle. Since there are four of them (top/bottom/left/right), we’ll discard the top and right by setting their color to none and we’ll move the bottom and left ones to coordinate 0 in data space coordinates."
      ]
    },
    {
      "cell_type": "code",
      "execution_count": null,
      "metadata": {
        "id": "riyiWfmdXidH"
      },
      "outputs": [],
      "source": [
        "# Create a figure of size 8x6 (WidthxHeight) inches, 80 dots per inch (DPI)\n",
        "plt.figure(figsize=(8, 6), dpi=80) \n",
        "\n",
        "# Create a new subplot in a grid of 1x1 (RowsxColumns) are arg1, arg2\n",
        "# arg3 is the subplot index number (position in the grid, top to right)\n",
        "plt.subplot(1, 1, 1)\n",
        "\n",
        "# Plot cosine with a blue continuous line of width 1 (pixels)\n",
        "plt.plot(x_array, cos_x_array, color=\"blue\", linewidth=1.0, linestyle=\"-\")\n",
        "# Plot sine with a red dashed line of width 2 (pixels)\n",
        "plt.plot(x_array, sin_x_array, color=\"red\", linewidth=2.0, linestyle=\"--\")\n",
        "\n",
        "# set x-axis tick marks with specified labels on tick values\n",
        "plt.xticks([-np.pi, -np.pi/2, 0, np.pi/2, np.pi],\n",
        "          [r'$-\\pi$', r'$-\\pi/2$', r'$0$', r'$+\\pi/2$', r'$+\\pi$'])\n",
        "# set y-axis tick marks with specified labels on tick values\n",
        "plt.yticks([-1, 0, +1],\n",
        "          [r'$-1$', r'$0$', r'$+1$'])\n",
        "\n",
        "# moving the spines to 0,0 and placing ticks relative to the spines\n",
        "ax = plt.gca()  # gca stands for 'get current axis'\n",
        "ax.spines['right'].set_color('none')\n",
        "ax.spines['top'].set_color('none')\n",
        "ax.xaxis.set_ticks_position('bottom')\n",
        "ax.spines['bottom'].set_position(('data',0))\n",
        "ax.yaxis.set_ticks_position('left')\n",
        "ax.spines['left'].set_position(('data',0))\n",
        "\n",
        "# Show the plot as a result on the default screen\n",
        "plt.show()"
      ]
    },
    {
      "cell_type": "markdown",
      "metadata": {
        "id": "oDKcy5MCXidH"
      },
      "source": [
        "## Adding a legend\n",
        "Let’s add a legend in the upper left corner. This only requires adding the keyword argument label (that will be used in the legend box) to the plot commands."
      ]
    },
    {
      "cell_type": "code",
      "execution_count": null,
      "metadata": {
        "id": "nudqOIAYXidH"
      },
      "outputs": [],
      "source": [
        "# Create a figure of size 8x6 (WidthxHeight) inches, 80 dots per inch (DPI)\n",
        "plt.figure(figsize=(8, 6), dpi=80)\n",
        "\n",
        "# Create a new subplot in a grid of 1x1 (RowsxColumns) are arg1, arg2\n",
        "# arg3 is the subplot index number (position in the grid, top to right)\n",
        "plt.subplot(1, 1, 1)\n",
        "\n",
        "# Plot cosine with a blue continuous line of width 1 (pixels) ### add label for legend!\n",
        "plt.plot(x_array, cos_x_array, color=\"blue\", linewidth=1.0, linestyle=\"-\", label=\"cosine\")\n",
        "# Plot sine with a red dashed line of width 2 (pixels) ### add label for legend!\n",
        "plt.plot(x_array, sin_x_array, color=\"red\", linewidth=2.0, linestyle=\"--\", label=\"sine\")\n",
        "\n",
        "# inserting a legend in the upper-left of the plot\n",
        "plt.legend(loc='upper left')\n",
        "\n",
        "# set x-axis tick marks with specified labels on tick values\n",
        "plt.xticks([-np.pi, -np.pi/2, 0, np.pi/2, np.pi],\n",
        "          [r'$-\\pi$', r'$-\\pi/2$', r'$0$', r'$+\\pi/2$', r'$+\\pi$'])\n",
        "# set y-axis tick marks with specified labels on tick values\n",
        "plt.yticks([-1, 0, +1],\n",
        "          [r'$-1$', r'$0$', r'$+1$'])\n",
        "\n",
        "# moving the spines to 0,0 and placing ticks relative to the spines\n",
        "ax = plt.gca()  # gca stands for 'get current axis'\n",
        "ax.spines['right'].set_color('none')\n",
        "ax.spines['top'].set_color('none')\n",
        "ax.xaxis.set_ticks_position('bottom')\n",
        "ax.spines['bottom'].set_position(('data',0))\n",
        "ax.yaxis.set_ticks_position('left')\n",
        "ax.spines['left'].set_position(('data',0))\n",
        "\n",
        "# Show the plot as a result on the default screen\n",
        "plt.show()"
      ]
    },
    {
      "cell_type": "markdown",
      "metadata": {
        "id": "x-ke2AksXidI"
      },
      "source": [
        "## Annotate some points\n",
        "Let’s annotate some interesting points using the annotate command. We chose the 2π/3 value and we want to annotate both the sine and the cosine. We’ll first draw a marker on the curve as well as a straight dotted line. Then, we’ll use the annotate command to display some text with an arrow.\n",
        "\n",
        "[Annotating axis](http://matplotlib.org/users/annotations_guide.html)"
      ]
    },
    {
      "cell_type": "code",
      "execution_count": null,
      "metadata": {
        "id": "_T8AKN1HXidI"
      },
      "outputs": [],
      "source": [
        "# Create a figure of size 8x6 (WidthxHeight) inches, 80 dots per inch (DPI)\n",
        "plt.figure(figsize=(8, 6), dpi=80)\n",
        "\n",
        "# Create a new subplot in a grid of 1x1 (RowsxColumns) are arg1, arg2\n",
        "# arg3 is the subplot index number (position in the grid, top to right)\n",
        "plt.subplot(1, 1, 1)\n",
        "\n",
        "# Plot cosine with a blue continuous line of width 1 (pixels) ### add label for legend!\n",
        "plt.plot(x_array, cos_x_array, color=\"blue\", linewidth=1.0, linestyle=\"-\", label=\"cosine\")\n",
        "# Plot sine with a red dashed line of width 2 (pixels) ### add label for legend!\n",
        "plt.plot(x_array, sin_x_array, color=\"red\", linewidth=2.0, linestyle=\"--\", label=\"sine\")\n",
        "\n",
        "\n",
        "# inserting a legend in the upper-left of the plot\n",
        "plt.legend(loc='upper left')\n",
        "\n",
        "\n",
        "# set x-axis tick marks with specified labels on tick values\n",
        "plt.xticks([-np.pi, -np.pi/2, 0, np.pi/2, np.pi],\n",
        "          [r'$-\\pi$', r'$-\\pi/2$', r'$0$', r'$+\\pi/2$', r'$+\\pi$'])\n",
        "# set y-axis tick marks with specified labels on tick values\n",
        "plt.yticks([-1, 0, +1],\n",
        "          [r'$-1$', r'$0$', r'$+1$'])\n",
        "\n",
        "# moving the spines to 0,0 and placing ticks relative to the spines\n",
        "ax = plt.gca()  # gca stands for 'get current axis'\n",
        "ax.spines['right'].set_color('none')\n",
        "ax.spines['top'].set_color('none')\n",
        "ax.xaxis.set_ticks_position('bottom')\n",
        "ax.spines['bottom'].set_position(('data',0))\n",
        "ax.yaxis.set_ticks_position('left')\n",
        "ax.spines['left'].set_position(('data',0))\n",
        "\n",
        "\n",
        "# # # \n",
        "\n",
        "# adding annotation: 1 over 2 with arrow pointer \n",
        "t = 2 * np.pi / 3\n",
        "plt.plot([t, t], [0, np.cos(t)], color='blue', linewidth=2.5, linestyle=\"--\")\n",
        "plt.scatter([t, ], [np.cos(t), ], 50, color='blue')\n",
        "\n",
        "# adding annotation: dashed blue line \n",
        "plt.annotate(r'$cos(\\frac{2\\pi}{3})=-\\frac{1}{2}$',\n",
        "             xy=(t, np.cos(t)), xycoords='data',\n",
        "             xytext=(-90, -50), textcoords='offset points', fontsize=16,\n",
        "             arrowprops=dict(arrowstyle=\"->\", connectionstyle=\"arc3,rad=.2\"))\n",
        "\n",
        "# adding line: dashed red line \n",
        "plt.plot([t, t],[0, np.sin(t)], color='red', linewidth=2.5, linestyle=\"--\")\n",
        "plt.scatter([t, ],[np.sin(t), ], 50, color='red')\n",
        "\n",
        "# adding annotation: sqrt of 3 over 2 with arrow pointer \n",
        "plt.annotate(r'$sin(\\frac{2\\pi}{3})=\\frac{\\sqrt{3}}{2}$',\n",
        "             xy=(t, np.sin(t)), xycoords='data',\n",
        "             xytext=(+10, +30), textcoords='offset points', fontsize=16,\n",
        "             arrowprops=dict(arrowstyle=\"->\", connectionstyle=\"arc3,rad=.2\")) \n",
        "\n",
        "# Show the plot as a result on the default screen\n",
        "plt.show()"
      ]
    },
    {
      "cell_type": "markdown",
      "source": [
        "## Figures, Subplots, Axes and Ticks\n",
        "\n",
        "A “**figure**” in matplotlib means the whole window in the user interface. Within this figure there can be “**subplots**”.\n",
        "\n",
        "\n",
        "So far we have used implicit figure and axes creation. This is handy for fast plots. We can have more control over the display using figure, subplot, and axes explicitly. While subplot positions the plots in a regular grid, axes allows free placement within the figure. Both can be useful depending on your intention.     \n",
        "\n",
        "We’ve already worked with figures and subplots without explicitly calling them. When we call `plot`, matplotlib calls `gca()` to get the current axes and `gca()` in turn calls `gcf()` to get the current figure; if there is none, it calls `figure()` to make one, strictly speaking, to make a subplot(1,1,1).     \n",
        "\n",
        "Let’s look at the details."
      ],
      "metadata": {
        "id": "czlEv-ip5yP_"
      }
    },
    {
      "cell_type": "markdown",
      "metadata": {
        "id": "94SFFzg3XidI"
      },
      "source": [
        "### Figures\n",
        "\n",
        "A figure is the window in the GUI, or the canvas of the stored image file, that has “Figure #” as title. Figures are numbered starting from 1 as opposed to the normal Python way starting from 0. This is clearly MATLAB-style. There are several parameters that determine what the figure looks like:\n",
        "\n",
        " Argument | Default | Description \n",
        "--- | --- | --- \n",
        "num\t| 1\t| number of figure \n",
        "figsize\t| figure.figsize | figure size in inches (width, height) \n",
        "dpi |\tfigure.dpi | resolution in dots per inch\n",
        "facecolor | figure.facecolor | color of the drawing background\n",
        "edgecolor |\tfigure.edgecolor | color of edge around the drawing background\n",
        "frameon | True |draw figure frame or not\n",
        "\n",
        "The defaults can be specified in the resource file and will be used most of the time. Only the number of the figure is frequently changed.\n",
        "\n",
        "\n",
        "As with other objects, you can set figure properties also setp or with the `set_something` methods.\n"
      ]
    },
    {
      "cell_type": "markdown",
      "source": [
        "#### Closing Figures     \n",
        "\n",
        "When you work with the GUI you can close a figure by clicking on the `x` in the upper right corner.  You can close a figure programmatically by calling the `close` function.      \n",
        "Depending on the argument provided, `close` will:     \n",
        "1. close the current figure (no argument),     \n",
        "2. close a specific figure (figure number or figure instance as argument),\n",
        "3. close all figures (\"all\" as argument)."
      ],
      "metadata": {
        "id": "axDkOFKj5f_H"
      }
    },
    {
      "cell_type": "code",
      "execution_count": null,
      "metadata": {
        "collapsed": true,
        "id": "4e0Qs1-PXidI"
      },
      "outputs": [],
      "source": [
        "plt.close(1)     # closes figure 1"
      ]
    },
    {
      "cell_type": "markdown",
      "metadata": {
        "id": "OkBfxlVZXidJ"
      },
      "source": [
        "### Subplots\n",
        "With subplot you can arrange plots in a regular grid. You need to specify the number of rows and columns and the number of the plot. Note that the [gridspec](https://matplotlib.org/stable/api/_as_gen/matplotlib.gridspec.SubplotSpec.html) command is a more powerful alternative.\n"
      ]
    },
    {
      "cell_type": "markdown",
      "metadata": {
        "id": "o9mxX7T0XidJ"
      },
      "source": [
        "### Axes\n",
        "Axes are very similar to subplots but allow placement of plots at any location in the figure. So if we want to put a smaller plot inside a bigger one we do so with axes.\n"
      ]
    },
    {
      "cell_type": "markdown",
      "metadata": {
        "id": "PhZ7ER0HXidJ"
      },
      "source": [
        "### Other plots\n",
        "\n",
        "**Bar plot**"
      ]
    },
    {
      "cell_type": "code",
      "source": [
        "# creating the dataset as a dictionary of classes : enrollment\n",
        "data = {'C':20, 'C++':15, 'Java':30,\n",
        "        'Python':35}    \n",
        "\n",
        "# creating a list of courses as the categorical variable\n",
        "courses = list(data.keys())\n",
        "\n",
        "# creating a list of enrollemnt values as the bar heights (values)\n",
        "enrollment = list(data.values())"
      ],
      "metadata": {
        "id": "tLqvNwzIAyuZ"
      },
      "execution_count": null,
      "outputs": []
    },
    {
      "cell_type": "code",
      "source": [
        "fig = plt.figure(figsize = (10, 5))\n",
        " \n",
        "# creating the bar plot with (categories, values, bar color, bar width)\n",
        "plt.bar(courses, enrollment, color ='maroon',\n",
        "        width = 0.4)\n",
        "\n",
        "# x axis label  \n",
        "plt.xlabel(\"Course types offered\")\n",
        "\n",
        "# y axis label\n",
        "plt.ylabel(\"Number of students enrolled\")\n",
        "\n",
        "# plot title text\n",
        "plt.title(\"Students Enrolled by Course Type\")\n",
        "\n",
        "# display the 1x1 figure\n",
        "plt.show()"
      ],
      "metadata": {
        "id": "Le6I6iyEAYuZ"
      },
      "execution_count": null,
      "outputs": []
    },
    {
      "cell_type": "markdown",
      "metadata": {
        "id": "lRwd51EEXidJ"
      },
      "source": [
        "\n",
        "\n",
        "---\n",
        "\n",
        "\n"
      ]
    }
  ],
  "metadata": {
    "kernelspec": {
      "display_name": "Python 3",
      "name": "python3"
    },
    "language_info": {
      "name": "python"
    },
    "colab": {
      "provenance": [],
      "collapsed_sections": [
        "_U8RrLB93Kan"
      ],
      "include_colab_link": true
    }
  },
  "nbformat": 4,
  "nbformat_minor": 0
}