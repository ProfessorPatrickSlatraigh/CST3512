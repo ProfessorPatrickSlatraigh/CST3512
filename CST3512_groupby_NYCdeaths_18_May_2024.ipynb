{
  "nbformat": 4,
  "nbformat_minor": 0,
  "metadata": {
    "colab": {
      "provenance": [],
      "authorship_tag": "ABX9TyMxAVeO0ZnTJta0Tva8N+ev",
      "include_colab_link": true
    },
    "kernelspec": {
      "name": "python3",
      "display_name": "Python 3"
    },
    "language_info": {
      "name": "python"
    }
  },
  "cells": [
    {
      "cell_type": "markdown",
      "metadata": {
        "id": "view-in-github",
        "colab_type": "text"
      },
      "source": [
        "<a href=\"https://colab.research.google.com/github/ProfessorPatrickSlatraigh/CST3512/blob/main/CST3512_groupby_NYCdeaths_18_May_2024.ipynb\" target=\"_parent\"><img src=\"https://colab.research.google.com/assets/colab-badge.svg\" alt=\"Open In Colab\"/></a>"
      ]
    },
    {
      "cell_type": "markdown",
      "source": [
        "#CST3512 `groupby()` Using  NYC Cause of Deaths  \n",
        "\n",
        "<b>by Professor Patrick 10-Dec-2022 | updated: 2023, 2024</b>  \n"
      ],
      "metadata": {
        "id": "TyARl1YW2wUD"
      }
    },
    {
      "cell_type": "markdown",
      "source": [
        "##Housekeeping"
      ],
      "metadata": {
        "id": "tVwX2cKG278z"
      }
    },
    {
      "cell_type": "markdown",
      "source": [
        "Import the usual suspects    "
      ],
      "metadata": {
        "id": "pW_DSKnr293S"
      }
    },
    {
      "cell_type": "code",
      "execution_count": 1,
      "metadata": {
        "id": "iwtrKCWM2jxR"
      },
      "outputs": [],
      "source": [
        "import pandas as pd\n",
        "import numpy as np"
      ]
    },
    {
      "cell_type": "code",
      "source": [
        "from matplotlib import pyplot as plt"
      ],
      "metadata": {
        "id": "8RLrG5Mb3AwF"
      },
      "execution_count": 2,
      "outputs": []
    },
    {
      "cell_type": "markdown",
      "source": [
        "Create a copy of the datafile from a `URL`    "
      ],
      "metadata": {
        "id": "vzd28Zkc3Kir"
      }
    },
    {
      "cell_type": "code",
      "source": [
        "!curl \"https://raw.githubusercontent.com/ProfessorPatrickSlatraigh/data/main/NYC_Leading_Causes_of_Death_Dec-2022.csv\" -o nyc_death_causes.csv"
      ],
      "metadata": {
        "id": "7d-WkCEn3Q4M"
      },
      "execution_count": null,
      "outputs": []
    },
    {
      "cell_type": "markdown",
      "source": [
        "Read the datafile to a dataframe    "
      ],
      "metadata": {
        "id": "LEbW1V193Glz"
      }
    },
    {
      "cell_type": "markdown",
      "source": [
        "\n",
        "\n",
        "---\n",
        "\n"
      ],
      "metadata": {
        "id": "OkXH5fYjrTT8"
      }
    },
    {
      "cell_type": "markdown",
      "source": [
        "##Read and Explore the Data  \n",
        "  "
      ],
      "metadata": {
        "id": "gjkqIr2jrURg"
      }
    },
    {
      "cell_type": "code",
      "source": [
        "cd_df = pd.read_csv(\"nyc_death_causes.csv\")"
      ],
      "metadata": {
        "id": "AVKICQOO3Js7"
      },
      "execution_count": 63,
      "outputs": []
    },
    {
      "cell_type": "code",
      "source": [
        "cd_df.dtypes"
      ],
      "metadata": {
        "id": "eh_Kb5pA3uT1"
      },
      "execution_count": null,
      "outputs": []
    },
    {
      "cell_type": "code",
      "source": [
        "cd_df.head(24)"
      ],
      "metadata": {
        "id": "Rp0CgXMsRmnr"
      },
      "execution_count": null,
      "outputs": []
    },
    {
      "cell_type": "markdown",
      "source": [
        "\n",
        "\n",
        "---\n",
        "\n"
      ],
      "metadata": {
        "id": "eTrqTJ-trZ34"
      }
    },
    {
      "cell_type": "markdown",
      "source": [
        "##Data Wrangling  \n",
        "  "
      ],
      "metadata": {
        "id": "pRGK5F9grasj"
      }
    },
    {
      "cell_type": "markdown",
      "source": [
        "Clean up any commas, spaces, or periods in the `Deaths` column"
      ],
      "metadata": {
        "id": "sge2mc3eSsfM"
      }
    },
    {
      "cell_type": "code",
      "source": [
        "# Using the `.replace()` argument to ensure that `regex` is not used\n",
        "# Default use of `regex` in `.replace()` could create unintended results\n",
        "cd_df[\"Deaths\"] = cd_df.Deaths.str.replace(',', '', regex=False)\n",
        "cd_df[\"Deaths\"] = cd_df.Deaths.str.replace(' ', '', regex=False)\n",
        "cd_df[\"Deaths\"] = cd_df.Deaths.str.replace('.', '0', regex=False)"
      ],
      "metadata": {
        "id": "vuxUjL9bRNx8"
      },
      "execution_count": 66,
      "outputs": []
    },
    {
      "cell_type": "code",
      "source": [
        "cd_df[\"Deaths\"] = cd_df[\"Deaths\"].astype('str').astype('int')"
      ],
      "metadata": {
        "id": "1ikz-ZaSSp99"
      },
      "execution_count": 67,
      "outputs": []
    },
    {
      "cell_type": "code",
      "source": [
        "cd_df.head(24)"
      ],
      "metadata": {
        "id": "bJMY9-G3LbXv"
      },
      "execution_count": null,
      "outputs": []
    },
    {
      "cell_type": "code",
      "source": [
        "# Scaffolding to explore rows by Boolean search\n",
        "# cd_df.loc[(cd_df[\"Year\"] == 2019) & (cd_df[\"RaceEthnicity\"] == \"Other Race/ Ethnicity\") & (cd_df[\"LeadingCause\"] == \"Septicemia (A40-A41)\")]"
      ],
      "metadata": {
        "id": "q51MkLaOMVMn"
      },
      "execution_count": null,
      "outputs": []
    },
    {
      "cell_type": "code",
      "source": [
        "cd_df['LeadingCause'].unique()"
      ],
      "metadata": {
        "id": "M1RqIe7a3nkM"
      },
      "execution_count": null,
      "outputs": []
    },
    {
      "cell_type": "code",
      "source": [
        "enrich_df = pd.DataFrame({\n",
        "    'LeadingCause' : ['Diseases of Heart (I00-I09, I11, I13, I20-I51)',\n",
        "       'Malignant Neoplasms (Cancer: C00-C97)',\n",
        "       'Mental and Behavioral Disorders due to Accidental Poisoning and Other Psychoactive Substance Use (F11-F16, F18-F19, X40-X42, X44)',\n",
        "       'Diabetes Mellitus (E10-E14)',\n",
        "       'Influenza (Flu) and Pneumonia (J09-J18)',\n",
        "       'Cerebrovascular Disease (Stroke: I60-I69)',\n",
        "       'Accidents Except Drug Poisoning (V01-X39, X43, X45-X59, Y85-Y86)',\n",
        "       'Chronic Liver Disease and Cirrhosis (K70, K73-K74)',\n",
        "       'Chronic Lower Respiratory Diseases (J40-J47)',\n",
        "       'Essential Hypertension and Renal Diseases (I10, I12)',\n",
        "       'All Other Causes',\n",
        "       'Intentional Self-Harm (Suicide: U03, X60-X84, Y87.0)',\n",
        "       \"Alzheimer's Disease (G30)\",\n",
        "       'Assault (Homicide: U01-U02, Y87.1, X85-Y09)',\n",
        "       'Mental and Behavioral Disorders due to Use of Alcohol (F10)',\n",
        "       'Congenital Malformations, Deformations, and Chromosomal Abnormalities (Q00-Q99)',\n",
        "       'Aortic Aneurysm and Dissection (I71)',\n",
        "       'Viral Hepatitis (B15-B19)', 'Septicemia (A40-A41)',\n",
        "       'Complications of Medical and Surgical Care (Y40-Y84, Y88)',\n",
        "       'Human Immunodeficiency Virus Disease (HIV: B20-B24)',\n",
        "       'Cholelithiasis and Disorders of Gallbladder (K80-K82)',\n",
        "       'Certain Conditions originating in the Perinatal Period (P00-P96)',\n",
        "       'Nephritis, Nephrotic Syndrome and Nephrisis (N00-N07, N17-N19, N25-N27)',\n",
        "       'Insitu or Benign / Uncertain Neoplasms (D00-D48)',\n",
        "       'Anemias (D50-D64)', \"Parkinson's Disease (G20)\",\n",
        "       'Peptic Ulcer (K25-K28)', 'Assault (Homicide: Y87.1, X85-Y09)',\n",
        "       'Accidents Except Drug Posioning (V01-X39, X43, X45-X59, Y85-Y86)',\n",
        "       'Intentional Self-Harm (Suicide: X60-X84, Y87.0)',\n",
        "       'Chronic Liver Disease and Cirrhosis (K70, K73)',\n",
        "       'Atherosclerosis (I70)', 'Tuberculosis (A16-A19)'],\n",
        "    'Cause' : ['Heart',\n",
        "       'Neoplasms',\n",
        "       'Drug',\n",
        "       'Diabetes',\n",
        "       'Flu/Pneumonia',\n",
        "       'Cerebrovascular',\n",
        "       'Accidents',\n",
        "       'Liver / Cirrhosis',\n",
        "       'Respiratory',\n",
        "       'Renal',\n",
        "       'All Other',\n",
        "       'Self-Harm',\n",
        "       \"Alzheimer's\",\n",
        "       'Homicide',\n",
        "       'Alcohol',\n",
        "       'Congenital',\n",
        "       'Aortic',\n",
        "       'Hepatitis', 'Septicemia',\n",
        "       'Surgical',\n",
        "       'HIV',\n",
        "       'Cholelithiasis',\n",
        "       'Perinatal',\n",
        "       'Nephritis',\n",
        "       'Neoplasms',\n",
        "       'Anemias', 'Parkinsons',\n",
        "       'Peptic Ulcer', 'Assault',\n",
        "       'Accidents',\n",
        "       'Self-Harm',\n",
        "       'Liver / Cirrhosis',\n",
        "       'Atherosclerosis', 'Tuberculosis'],\n",
        "    'Type' : ['Other_Organ',\n",
        "       'All_Other',\n",
        "       'Drug',\n",
        "       'Disease',\n",
        "       'Disease',\n",
        "       'Other_Organ',\n",
        "       'Accident_Crime',\n",
        "       'Liver_Cirrhosis',\n",
        "       'Other_Organ',\n",
        "       'Other_Organ',\n",
        "       'All_Other',\n",
        "       'Accident_Crime',\n",
        "       \"Other_Organ\",\n",
        "       'Accident_Crime',\n",
        "       'Behavior',\n",
        "       'All_Other',\n",
        "       'Other_Organ',\n",
        "       'Disease', 'Disease',\n",
        "       'Accident_Crime',\n",
        "       'Disease',\n",
        "       'Disease',\n",
        "       'All_Other',\n",
        "       'Disease',\n",
        "       'All_Other',\n",
        "       'All_Other', 'Disease',\n",
        "       'Behavior', 'Accident_Crime',\n",
        "       'Accident_Crime',\n",
        "       'Behavior',\n",
        "       'Liver_Cirrhosis',\n",
        "       'Disease', 'Disease']\n",
        "})"
      ],
      "metadata": {
        "id": "S1TsRdOK4PmO"
      },
      "execution_count": 12,
      "outputs": []
    },
    {
      "cell_type": "markdown",
      "source": [
        "\n",
        "\n",
        "---\n",
        "\n"
      ],
      "metadata": {
        "id": "y_H5sG9DrntK"
      }
    },
    {
      "cell_type": "markdown",
      "source": [
        "##Using `.groupby()`  "
      ],
      "metadata": {
        "id": "QeaEsRYSrogv"
      }
    },
    {
      "cell_type": "code",
      "source": [
        "enrich_df"
      ],
      "metadata": {
        "id": "-WacwGpzIFvJ"
      },
      "execution_count": null,
      "outputs": []
    },
    {
      "cell_type": "code",
      "source": [
        "labeled_df = cd_df.merge(enrich_df)"
      ],
      "metadata": {
        "id": "s8_RxKs6IXQZ"
      },
      "execution_count": 14,
      "outputs": []
    },
    {
      "cell_type": "code",
      "source": [
        "labeled_df.groupby([\"Year\", \"Type\", \"LeadingCause\", \"Cause\", \"Sex\", \"RaceEthnicity\"]).sum(numeric_only=True).reset_index()"
      ],
      "metadata": {
        "id": "jxBDFHBuK56u"
      },
      "execution_count": null,
      "outputs": []
    },
    {
      "cell_type": "code",
      "source": [
        "cause_df = labeled_df[[\"Year\", \"Type\", \"Cause\", \"Deaths\"]]"
      ],
      "metadata": {
        "id": "GidctLvYU7Rm"
      },
      "execution_count": 16,
      "outputs": []
    },
    {
      "cell_type": "code",
      "source": [
        "cause_df"
      ],
      "metadata": {
        "id": "muKxgLJi3G9L"
      },
      "execution_count": null,
      "outputs": []
    },
    {
      "cell_type": "markdown",
      "source": [
        "In the following code we use the `numeric_only=True` argument because the default for `numeric_only` is `False`. With the default case, the method will attempt to apply the sum operation to all columns, including those that are not numeric, which could lead to errors or unexpected behavior if the DataFrame contains non-numeric columns."
      ],
      "metadata": {
        "id": "gnmmwvXFtTJk"
      }
    },
    {
      "cell_type": "code",
      "source": [
        "type_df = cause_df.groupby(by=[\"Type\"]).sum(numeric_only=True)\n",
        "del type_df['Year']"
      ],
      "metadata": {
        "id": "EwXOdtZatHI8"
      },
      "execution_count": 26,
      "outputs": []
    },
    {
      "cell_type": "code",
      "source": [
        "type_df"
      ],
      "metadata": {
        "id": "CimoXMrRVOcI"
      },
      "execution_count": null,
      "outputs": []
    },
    {
      "cell_type": "markdown",
      "source": [
        "\n",
        "\n",
        "---\n",
        "\n"
      ],
      "metadata": {
        "id": "5IYmKG8WruTy"
      }
    },
    {
      "cell_type": "markdown",
      "source": [
        "##Plotting Results  \n",
        "  "
      ],
      "metadata": {
        "id": "njK2S-ghrvUb"
      }
    },
    {
      "cell_type": "code",
      "source": [
        "# Assuming 'Deaths' is the name of the column with the death counts\n",
        "explode_lst = [0, 0, 0, 0, 0, 0.85, 0]\n",
        "\n",
        "# draw a pie chart with labels, percentages, and the 6th slice exploded\n",
        "plt.pie(type_df['Deaths'], labels=type_df.index, explode=explode_lst, shadow=True, autopct='%1.1f%%')\n",
        "\n",
        "# display the title\n",
        "plt.title(\"Liver/Cirrhosis vs. Other Causes of Death\")\n",
        "\n",
        "# show (or save) the plot\n",
        "plt.show()"
      ],
      "metadata": {
        "id": "Sr-VHsOTTNGm"
      },
      "execution_count": null,
      "outputs": []
    },
    {
      "cell_type": "code",
      "source": [
        "cause_df = cause_df.reset_index()"
      ],
      "metadata": {
        "id": "zBE14sBEWtPg"
      },
      "execution_count": 31,
      "outputs": []
    },
    {
      "cell_type": "code",
      "source": [
        "cause_df = cause_df.set_axis(cause_df[\"Year\"])"
      ],
      "metadata": {
        "id": "kBBolg2hXm9J"
      },
      "execution_count": 32,
      "outputs": []
    },
    {
      "cell_type": "code",
      "source": [
        "cause_df"
      ],
      "metadata": {
        "id": "_kWLkkuQ36IA"
      },
      "execution_count": null,
      "outputs": []
    },
    {
      "cell_type": "markdown",
      "source": [
        "\n",
        "\n",
        "---\n",
        "\n"
      ],
      "metadata": {
        "id": "H3c17lRRr1iR"
      }
    },
    {
      "cell_type": "markdown",
      "source": [
        "##Using `.melt()`  \n",
        "  "
      ],
      "metadata": {
        "id": "ONei4pLyr2dI"
      }
    },
    {
      "cell_type": "code",
      "source": [
        "# function to unpivot the dataframe\n",
        "type_time_df = cause_df.melt(id_vars =['Year','Deaths'], value_vars =['Type'])"
      ],
      "metadata": {
        "id": "TS1C9B72YjYa"
      },
      "execution_count": 34,
      "outputs": []
    },
    {
      "cell_type": "code",
      "source": [
        "type_time_df.rename(columns = {'value':'Type'}, inplace = True)"
      ],
      "metadata": {
        "id": "agqrGz2XZ4H0"
      },
      "execution_count": 35,
      "outputs": []
    },
    {
      "cell_type": "code",
      "source": [
        "del type_time_df[\"variable\"]"
      ],
      "metadata": {
        "id": "tkbQ3VWwaPC7"
      },
      "execution_count": 36,
      "outputs": []
    },
    {
      "cell_type": "markdown",
      "source": [
        "##Wrangling the `.melt()` Result  \n",
        "  "
      ],
      "metadata": {
        "id": "IxWdYI6wsAot"
      }
    },
    {
      "cell_type": "code",
      "source": [
        "type_time_df"
      ],
      "metadata": {
        "id": "cvDVxwODZGZL"
      },
      "execution_count": null,
      "outputs": []
    },
    {
      "cell_type": "code",
      "source": [
        "type_time_df.set_index(\"Year\")"
      ],
      "metadata": {
        "id": "yZrAWAQfapKD"
      },
      "execution_count": null,
      "outputs": []
    },
    {
      "cell_type": "code",
      "source": [
        "type_stack_df = type_time_df.groupby(by=[\"Year\", \"Type\"]).sum()"
      ],
      "metadata": {
        "id": "i4cuQyrD5jSb"
      },
      "execution_count": 39,
      "outputs": []
    },
    {
      "cell_type": "code",
      "source": [
        "type_stack_df"
      ],
      "metadata": {
        "id": "2BEt3kTW5txX"
      },
      "execution_count": null,
      "outputs": []
    },
    {
      "cell_type": "code",
      "source": [
        "type_stack_df.reset_index(inplace=True, level = ['Type'])"
      ],
      "metadata": {
        "id": "5LQv1SdB7yZw"
      },
      "execution_count": 41,
      "outputs": []
    },
    {
      "cell_type": "markdown",
      "source": [
        "\n",
        "\n",
        "---\n",
        "\n"
      ],
      "metadata": {
        "id": "ZtaqiCbMsHnD"
      }
    },
    {
      "cell_type": "markdown",
      "source": [
        "##Plotting the `.melt()` Result  \n",
        "  "
      ],
      "metadata": {
        "id": "AvoutKLRsILt"
      }
    },
    {
      "cell_type": "code",
      "source": [
        "type_stack_df"
      ],
      "metadata": {
        "id": "xZnwtLNK_wtC"
      },
      "execution_count": null,
      "outputs": []
    },
    {
      "cell_type": "code",
      "source": [
        "# Organize the data with each Type of cause of death as a column\n",
        "type_plot_df = type_stack_df.pivot_table(values='Deaths', index=type_stack_df.index, columns='Type', aggfunc='first')"
      ],
      "metadata": {
        "id": "klHY9fdn8xqK"
      },
      "execution_count": 57,
      "outputs": []
    },
    {
      "cell_type": "code",
      "source": [
        "type_plot_df"
      ],
      "metadata": {
        "id": "7SrOEkOQ76X2"
      },
      "execution_count": null,
      "outputs": []
    },
    {
      "cell_type": "code",
      "source": [
        "\n",
        "# First, ensure the DataFrame is pivoted correctly with years as the index and causes as columns\n",
        "pivot_df = type_stack_df.pivot_table(values='Deaths', index='Year', columns='Type', aggfunc='sum')\n",
        "\n",
        "# Now, plot the stacked line plot\n",
        "plt.figure(figsize=(10, 6))  # Set the figure size for better readability\n",
        "\n",
        "# The stackplot function requires x (years) and y (list of lists of deaths for each cause)\n",
        "years = pivot_df.index\n",
        "causes = [pivot_df[cause] for cause in pivot_df.columns]\n",
        "\n",
        "plt.stackplot(years, causes, labels=pivot_df.columns)\n",
        "\n",
        "# Adding labels and title for clarity\n",
        "plt.title('Deaths by Cause Over Time')\n",
        "plt.xlabel('Year')\n",
        "plt.ylabel('Number of Deaths')\n",
        "plt.legend(loc='upper left')  # Adjust legend location as needed\n",
        "\n",
        "plt.tight_layout()  # Adjust layout to not cut off labels\n",
        "plt.show()\n"
      ],
      "metadata": {
        "id": "kPF2AkhR3bdf"
      },
      "execution_count": null,
      "outputs": []
    },
    {
      "cell_type": "markdown",
      "source": [
        "\n",
        "\n",
        "---\n",
        "\n"
      ],
      "metadata": {
        "id": "CS75aOwI3aOf"
      }
    }
  ]
}