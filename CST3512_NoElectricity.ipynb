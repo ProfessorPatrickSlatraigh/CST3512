{
  "nbformat": 4,
  "nbformat_minor": 0,
  "metadata": {
    "colab": {
      "name": "CST3512_NoElectricity.ipynb",
      "provenance": [],
      "collapsed_sections": [],
      "authorship_tag": "ABX9TyOZtN/r3jOWabklDXNVV/gV",
      "include_colab_link": true
    },
    "kernelspec": {
      "name": "python3",
      "display_name": "Python 3"
    },
    "language_info": {
      "name": "python"
    }
  },
  "cells": [
    {
      "cell_type": "markdown",
      "metadata": {
        "id": "view-in-github",
        "colab_type": "text"
      },
      "source": [
        "<a href=\"https://colab.research.google.com/github/ProfessorPatrickSlatraigh/CST3512/blob/main/CST3512_NoElectricity.ipynb\" target=\"_parent\"><img src=\"https://colab.research.google.com/assets/colab-badge.svg\" alt=\"Open In Colab\"/></a>"
      ]
    },
    {
      "cell_type": "markdown",
      "source": [
        "#CST3512 Population with No Access to Electricity     \n",
        "\n",
        "**from OWID (Our World in Data) study of indoor air pollution**    \n"
      ],
      "metadata": {
        "id": "9gZ9N5LnSRSm"
      }
    },
    {
      "cell_type": "markdown",
      "source": [
        "##Housekeeping    \n"
      ],
      "metadata": {
        "id": "NfyGPrYQSd42"
      }
    },
    {
      "cell_type": "markdown",
      "source": [
        "###Import Libraries    \n"
      ],
      "metadata": {
        "id": "1LNbUAc-Shwc"
      }
    },
    {
      "cell_type": "code",
      "execution_count": 2,
      "metadata": {
        "id": "ahgUUIOgSLVO"
      },
      "outputs": [],
      "source": [
        "import pandas as pd             # to work with dataframes \n",
        "import numpy as np              # just in case \n",
        "\n",
        "# %matplotlib inline              # is this needed?\n",
        "import matplotlib                 # for plotting    \n",
        "import matplotlib.pyplot as plt   # ditto\n",
        "\n",
        "import plotly.express as px       # plotly express plots\n",
        "\n",
        "import datetime                   # to create datetime objects"
      ]
    },
    {
      "cell_type": "markdown",
      "source": [
        "###Datetime Token Strings    \n",
        "\n",
        "Create format token strings to use converting `Year` (YYYY) and `Year_Month` (YYYY-Mmm) into datetimes    \n",
        "\n"
      ],
      "metadata": {
        "id": "TkcpAO95xqpZ"
      }
    },
    {
      "cell_type": "markdown",
      "source": [
        "\n",
        "assign `\"%Y-$B\"` to `yyyymmm_token_str`    \n",
        "\n",
        "*This will be used when reading string content of a four-digit year, hyphen, and three-character month abbreviation into a `datetime` object.*    \n"
      ],
      "metadata": {
        "id": "jzvHM_ysarBY"
      }
    },
    {
      "cell_type": "code",
      "source": [
        "yyyymmm_token_str = '%Y-%b'  # to read a date string in the format 'YYYY-Mmm' "
      ],
      "metadata": {
        "id": "Afaw4JMDnIOO"
      },
      "execution_count": null,
      "outputs": []
    },
    {
      "cell_type": "markdown",
      "source": [
        "\n",
        "assign `\"%Y\"` to `yyyy_token_str`    \n",
        "\n",
        "*This will be used when reading string content of a four-digit year into a `datetime` object.*    \n"
      ],
      "metadata": {
        "id": "cFevyjluauF2"
      }
    },
    {
      "cell_type": "code",
      "source": [
        "yyyy_token_str = '%Y'        # to read a date string in the format 'YYYY' "
      ],
      "metadata": {
        "id": "GeMLR7isa-jG"
      },
      "execution_count": null,
      "outputs": []
    },
    {
      "cell_type": "markdown",
      "source": [
        "\n",
        "\n",
        "---\n",
        "\n"
      ],
      "metadata": {
        "id": "yOobyUd_TEw-"
      }
    },
    {
      "cell_type": "markdown",
      "source": [
        "##Load the Source Files    \n",
        "\n",
        "* Census data of population    \n",
        "* Annual data of share of population with access to electicity    \n"
      ],
      "metadata": {
        "id": "LQpU6YpwTGOm"
      }
    },
    {
      "cell_type": "code",
      "source": [
        "!curl https://raw.githubusercontent.com/ProfessorPatrickSlatraigh/data/main/population-by-country.csv -o \"population-by-country.csv\""
      ],
      "metadata": {
        "colab": {
          "base_uri": "https://localhost:8080/"
        },
        "id": "cqgCueTQTRMa",
        "outputId": "d7c09d39-9352-4bf9-eabb-bcd6634de688"
      },
      "execution_count": 1,
      "outputs": [
        {
          "output_type": "stream",
          "name": "stdout",
          "text": [
            "  % Total    % Received % Xferd  Average Speed   Time    Time     Time  Current\n",
            "                                 Dload  Upload   Total   Spent    Left  Speed\n",
            "\r  0     0    0     0    0     0      0      0 --:--:-- --:--:-- --:--:--     0\r100 84019  100 84019    0     0   408k      0 --:--:-- --:--:-- --:--:--  408k\n"
          ]
        }
      ]
    },
    {
      "cell_type": "code",
      "source": [
        "!curl https://raw.githubusercontent.com/ProfessorPatrickSlatraigh/data/main/share-of-the-population-with-access-to-electricity.csv -o \"share-access-electricity.csv\""
      ],
      "metadata": {
        "colab": {
          "base_uri": "https://localhost:8080/"
        },
        "id": "s1hIENV0T6EN",
        "outputId": "b6a891ee-240b-40b8-e159-f34ec5b1a4c3"
      },
      "execution_count": 12,
      "outputs": [
        {
          "output_type": "stream",
          "name": "stdout",
          "text": [
            "  % Total    % Received % Xferd  Average Speed   Time    Time     Time  Current\n",
            "                                 Dload  Upload   Total   Spent    Left  Speed\n",
            "100  199k  100  199k    0     0  1096k      0 --:--:-- --:--:-- --:--:-- 1090k\n"
          ]
        }
      ]
    },
    {
      "cell_type": "markdown",
      "source": [
        "##Read Data    \n",
        "\n",
        "Load the data files to each of the respective dataframes:    \n",
        "\n",
        "1. **census_df** : population by country (once/decade)    \n",
        "2. **electricity_df** : annual access to electricity by country   \n"
      ],
      "metadata": {
        "id": "odngkqCfT-ZE"
      }
    },
    {
      "cell_type": "markdown",
      "source": [
        "####Extract, translate, and load the census data    \n"
      ],
      "metadata": {
        "id": "rTNtq16FWQcD"
      }
    },
    {
      "cell_type": "code",
      "source": [
        "# read the raw data file into a dataframe `census_df` using the files column headings\n",
        "census_df = pd.read_csv('population-by-country.csv')"
      ],
      "metadata": {
        "id": "6Z0T_ssyUbH9"
      },
      "execution_count": 7,
      "outputs": []
    },
    {
      "cell_type": "code",
      "source": [
        "# swap in a list of clearer column names \n",
        "census_df.columns = ['Country', 'ISO', 'Year', 'Population']"
      ],
      "metadata": {
        "id": "fL6hhagHVYjU"
      },
      "execution_count": 8,
      "outputs": []
    },
    {
      "cell_type": "code",
      "source": [
        "# transformation: store `Year` as a string\n",
        "census_df['Year'] = electricity_df['Year'].astype('string')"
      ],
      "metadata": {
        "id": "ZN9BxMmQZret"
      },
      "execution_count": 26,
      "outputs": []
    },
    {
      "cell_type": "code",
      "source": [
        "census_df.info()"
      ],
      "metadata": {
        "colab": {
          "base_uri": "https://localhost:8080/"
        },
        "id": "uJttsszsY7dz",
        "outputId": "3d7e7c5e-5560-4739-8fc4-f15af71c795f"
      },
      "execution_count": 27,
      "outputs": [
        {
          "output_type": "stream",
          "name": "stdout",
          "text": [
            "<class 'pandas.core.frame.DataFrame'>\n",
            "RangeIndex: 3221 entries, 0 to 3220\n",
            "Data columns (total 4 columns):\n",
            " #   Column      Non-Null Count  Dtype  \n",
            "---  ------      --------------  -----  \n",
            " 0   Country     3221 non-null   object \n",
            " 1   ISO         3130 non-null   object \n",
            " 2   Year        3221 non-null   string \n",
            " 3   Population  3221 non-null   float64\n",
            "dtypes: float64(1), object(2), string(1)\n",
            "memory usage: 100.8+ KB\n"
          ]
        }
      ]
    },
    {
      "cell_type": "code",
      "source": [
        "# have a look at the dataframe \n",
        "census_df.tail(20)"
      ],
      "metadata": {
        "id": "YzEVB5WfUo1S"
      },
      "execution_count": null,
      "outputs": []
    },
    {
      "cell_type": "markdown",
      "source": [
        "####Extract, translate, and load the access to electricity data    "
      ],
      "metadata": {
        "id": "ibw7FfREWT2S"
      }
    },
    {
      "cell_type": "code",
      "source": [
        "# read the raw data file into a dataframe `electicity_df` using the files column headings\n",
        "electricity_df = pd.read_csv('share-access-electricity.csv')"
      ],
      "metadata": {
        "id": "bhwsAtyZWbez"
      },
      "execution_count": 13,
      "outputs": []
    },
    {
      "cell_type": "code",
      "source": [
        "# swap in a list of clearer column names \n",
        "electricity_df.columns = ['Country', 'ISO', 'Year', 'ShareAccessElectric']"
      ],
      "metadata": {
        "id": "8Y4oi2JiWbe0"
      },
      "execution_count": 16,
      "outputs": []
    },
    {
      "cell_type": "code",
      "source": [
        "# transformation: store `Year` as a string\n",
        "electricity_df['Year'] = electricity_df['Year'].astype('string')"
      ],
      "metadata": {
        "id": "VY0OPCNxZN3k"
      },
      "execution_count": 25,
      "outputs": []
    },
    {
      "cell_type": "code",
      "source": [
        "# transformation: calculate percentage of population with no access to electricity \n",
        "electricity_df['PctNoElectric'] = (100 - electricity_df['ShareAccessElectric'])/100"
      ],
      "metadata": {
        "id": "aVtDI3W3W__n"
      },
      "execution_count": 18,
      "outputs": []
    },
    {
      "cell_type": "code",
      "source": [
        "electricity_df.info()"
      ],
      "metadata": {
        "colab": {
          "base_uri": "https://localhost:8080/"
        },
        "id": "pTYK6NQ5ZCPQ",
        "outputId": "ff760f89-c6dd-472b-fa44-e2f31fb83710"
      },
      "execution_count": 28,
      "outputs": [
        {
          "output_type": "stream",
          "name": "stdout",
          "text": [
            "<class 'pandas.core.frame.DataFrame'>\n",
            "RangeIndex: 6582 entries, 0 to 6581\n",
            "Data columns (total 5 columns):\n",
            " #   Column               Non-Null Count  Dtype  \n",
            "---  ------               --------------  -----  \n",
            " 0   Country              6582 non-null   object \n",
            " 1   ISO                  5469 non-null   object \n",
            " 2   Year                 6582 non-null   string \n",
            " 3   ShareAccessElectric  6582 non-null   float64\n",
            " 4   PctNoElectric        6582 non-null   float64\n",
            "dtypes: float64(2), object(2), string(1)\n",
            "memory usage: 257.2+ KB\n"
          ]
        }
      ]
    },
    {
      "cell_type": "code",
      "source": [
        "# have a look at the dataframe \n",
        "electricity_df.tail(20)"
      ],
      "metadata": {
        "colab": {
          "base_uri": "https://localhost:8080/",
          "height": 676
        },
        "id": "J_PX5R8NWbe1",
        "outputId": "147225f6-1f2a-41e9-d395-cf63b6cc8acd"
      },
      "execution_count": 19,
      "outputs": [
        {
          "output_type": "execute_result",
          "data": {
            "text/plain": [
              "       Country  ISO  Year  ShareAccessElectric  PctNoElectric\n",
              "6562  Zimbabwe  ZWE  2000            33.850704       0.661493\n",
              "6563  Zimbabwe  ZWE  2001            34.214050       0.657859\n",
              "6564  Zimbabwe  ZWE  2002            34.200000       0.658000\n",
              "6565  Zimbabwe  ZWE  2003            34.914707       0.650853\n",
              "6566  Zimbabwe  ZWE  2004            35.249660       0.647503\n",
              "6567  Zimbabwe  ZWE  2005            35.572952       0.644270\n",
              "6568  Zimbabwe  ZWE  2006            37.200000       0.628000\n",
              "6569  Zimbabwe  ZWE  2007            36.198219       0.638018\n",
              "6570  Zimbabwe  ZWE  2008            36.512512       0.634875\n",
              "6571  Zimbabwe  ZWE  2009            43.369082       0.566309\n",
              "6572  Zimbabwe  ZWE  2010            40.458183       0.595418\n",
              "6573  Zimbabwe  ZWE  2011            36.900000       0.631000\n",
              "6574  Zimbabwe  ZWE  2012            44.000000       0.560000\n",
              "6575  Zimbabwe  ZWE  2013            38.336353       0.616636\n",
              "6576  Zimbabwe  ZWE  2014            32.300000       0.677000\n",
              "6577  Zimbabwe  ZWE  2015            33.700000       0.663000\n",
              "6578  Zimbabwe  ZWE  2016            39.676228       0.603238\n",
              "6579  Zimbabwe  ZWE  2017            40.144283       0.598557\n",
              "6580  Zimbabwe  ZWE  2018            40.616360       0.593836\n",
              "6581  Zimbabwe  ZWE  2019            41.089108       0.589109"
            ],
            "text/html": [
              "\n",
              "  <div id=\"df-aa3a2fee-9648-4f00-a8a1-58fad7494737\">\n",
              "    <div class=\"colab-df-container\">\n",
              "      <div>\n",
              "<style scoped>\n",
              "    .dataframe tbody tr th:only-of-type {\n",
              "        vertical-align: middle;\n",
              "    }\n",
              "\n",
              "    .dataframe tbody tr th {\n",
              "        vertical-align: top;\n",
              "    }\n",
              "\n",
              "    .dataframe thead th {\n",
              "        text-align: right;\n",
              "    }\n",
              "</style>\n",
              "<table border=\"1\" class=\"dataframe\">\n",
              "  <thead>\n",
              "    <tr style=\"text-align: right;\">\n",
              "      <th></th>\n",
              "      <th>Country</th>\n",
              "      <th>ISO</th>\n",
              "      <th>Year</th>\n",
              "      <th>ShareAccessElectric</th>\n",
              "      <th>PctNoElectric</th>\n",
              "    </tr>\n",
              "  </thead>\n",
              "  <tbody>\n",
              "    <tr>\n",
              "      <th>6562</th>\n",
              "      <td>Zimbabwe</td>\n",
              "      <td>ZWE</td>\n",
              "      <td>2000</td>\n",
              "      <td>33.850704</td>\n",
              "      <td>0.661493</td>\n",
              "    </tr>\n",
              "    <tr>\n",
              "      <th>6563</th>\n",
              "      <td>Zimbabwe</td>\n",
              "      <td>ZWE</td>\n",
              "      <td>2001</td>\n",
              "      <td>34.214050</td>\n",
              "      <td>0.657859</td>\n",
              "    </tr>\n",
              "    <tr>\n",
              "      <th>6564</th>\n",
              "      <td>Zimbabwe</td>\n",
              "      <td>ZWE</td>\n",
              "      <td>2002</td>\n",
              "      <td>34.200000</td>\n",
              "      <td>0.658000</td>\n",
              "    </tr>\n",
              "    <tr>\n",
              "      <th>6565</th>\n",
              "      <td>Zimbabwe</td>\n",
              "      <td>ZWE</td>\n",
              "      <td>2003</td>\n",
              "      <td>34.914707</td>\n",
              "      <td>0.650853</td>\n",
              "    </tr>\n",
              "    <tr>\n",
              "      <th>6566</th>\n",
              "      <td>Zimbabwe</td>\n",
              "      <td>ZWE</td>\n",
              "      <td>2004</td>\n",
              "      <td>35.249660</td>\n",
              "      <td>0.647503</td>\n",
              "    </tr>\n",
              "    <tr>\n",
              "      <th>6567</th>\n",
              "      <td>Zimbabwe</td>\n",
              "      <td>ZWE</td>\n",
              "      <td>2005</td>\n",
              "      <td>35.572952</td>\n",
              "      <td>0.644270</td>\n",
              "    </tr>\n",
              "    <tr>\n",
              "      <th>6568</th>\n",
              "      <td>Zimbabwe</td>\n",
              "      <td>ZWE</td>\n",
              "      <td>2006</td>\n",
              "      <td>37.200000</td>\n",
              "      <td>0.628000</td>\n",
              "    </tr>\n",
              "    <tr>\n",
              "      <th>6569</th>\n",
              "      <td>Zimbabwe</td>\n",
              "      <td>ZWE</td>\n",
              "      <td>2007</td>\n",
              "      <td>36.198219</td>\n",
              "      <td>0.638018</td>\n",
              "    </tr>\n",
              "    <tr>\n",
              "      <th>6570</th>\n",
              "      <td>Zimbabwe</td>\n",
              "      <td>ZWE</td>\n",
              "      <td>2008</td>\n",
              "      <td>36.512512</td>\n",
              "      <td>0.634875</td>\n",
              "    </tr>\n",
              "    <tr>\n",
              "      <th>6571</th>\n",
              "      <td>Zimbabwe</td>\n",
              "      <td>ZWE</td>\n",
              "      <td>2009</td>\n",
              "      <td>43.369082</td>\n",
              "      <td>0.566309</td>\n",
              "    </tr>\n",
              "    <tr>\n",
              "      <th>6572</th>\n",
              "      <td>Zimbabwe</td>\n",
              "      <td>ZWE</td>\n",
              "      <td>2010</td>\n",
              "      <td>40.458183</td>\n",
              "      <td>0.595418</td>\n",
              "    </tr>\n",
              "    <tr>\n",
              "      <th>6573</th>\n",
              "      <td>Zimbabwe</td>\n",
              "      <td>ZWE</td>\n",
              "      <td>2011</td>\n",
              "      <td>36.900000</td>\n",
              "      <td>0.631000</td>\n",
              "    </tr>\n",
              "    <tr>\n",
              "      <th>6574</th>\n",
              "      <td>Zimbabwe</td>\n",
              "      <td>ZWE</td>\n",
              "      <td>2012</td>\n",
              "      <td>44.000000</td>\n",
              "      <td>0.560000</td>\n",
              "    </tr>\n",
              "    <tr>\n",
              "      <th>6575</th>\n",
              "      <td>Zimbabwe</td>\n",
              "      <td>ZWE</td>\n",
              "      <td>2013</td>\n",
              "      <td>38.336353</td>\n",
              "      <td>0.616636</td>\n",
              "    </tr>\n",
              "    <tr>\n",
              "      <th>6576</th>\n",
              "      <td>Zimbabwe</td>\n",
              "      <td>ZWE</td>\n",
              "      <td>2014</td>\n",
              "      <td>32.300000</td>\n",
              "      <td>0.677000</td>\n",
              "    </tr>\n",
              "    <tr>\n",
              "      <th>6577</th>\n",
              "      <td>Zimbabwe</td>\n",
              "      <td>ZWE</td>\n",
              "      <td>2015</td>\n",
              "      <td>33.700000</td>\n",
              "      <td>0.663000</td>\n",
              "    </tr>\n",
              "    <tr>\n",
              "      <th>6578</th>\n",
              "      <td>Zimbabwe</td>\n",
              "      <td>ZWE</td>\n",
              "      <td>2016</td>\n",
              "      <td>39.676228</td>\n",
              "      <td>0.603238</td>\n",
              "    </tr>\n",
              "    <tr>\n",
              "      <th>6579</th>\n",
              "      <td>Zimbabwe</td>\n",
              "      <td>ZWE</td>\n",
              "      <td>2017</td>\n",
              "      <td>40.144283</td>\n",
              "      <td>0.598557</td>\n",
              "    </tr>\n",
              "    <tr>\n",
              "      <th>6580</th>\n",
              "      <td>Zimbabwe</td>\n",
              "      <td>ZWE</td>\n",
              "      <td>2018</td>\n",
              "      <td>40.616360</td>\n",
              "      <td>0.593836</td>\n",
              "    </tr>\n",
              "    <tr>\n",
              "      <th>6581</th>\n",
              "      <td>Zimbabwe</td>\n",
              "      <td>ZWE</td>\n",
              "      <td>2019</td>\n",
              "      <td>41.089108</td>\n",
              "      <td>0.589109</td>\n",
              "    </tr>\n",
              "  </tbody>\n",
              "</table>\n",
              "</div>\n",
              "      <button class=\"colab-df-convert\" onclick=\"convertToInteractive('df-aa3a2fee-9648-4f00-a8a1-58fad7494737')\"\n",
              "              title=\"Convert this dataframe to an interactive table.\"\n",
              "              style=\"display:none;\">\n",
              "        \n",
              "  <svg xmlns=\"http://www.w3.org/2000/svg\" height=\"24px\"viewBox=\"0 0 24 24\"\n",
              "       width=\"24px\">\n",
              "    <path d=\"M0 0h24v24H0V0z\" fill=\"none\"/>\n",
              "    <path d=\"M18.56 5.44l.94 2.06.94-2.06 2.06-.94-2.06-.94-.94-2.06-.94 2.06-2.06.94zm-11 1L8.5 8.5l.94-2.06 2.06-.94-2.06-.94L8.5 2.5l-.94 2.06-2.06.94zm10 10l.94 2.06.94-2.06 2.06-.94-2.06-.94-.94-2.06-.94 2.06-2.06.94z\"/><path d=\"M17.41 7.96l-1.37-1.37c-.4-.4-.92-.59-1.43-.59-.52 0-1.04.2-1.43.59L10.3 9.45l-7.72 7.72c-.78.78-.78 2.05 0 2.83L4 21.41c.39.39.9.59 1.41.59.51 0 1.02-.2 1.41-.59l7.78-7.78 2.81-2.81c.8-.78.8-2.07 0-2.86zM5.41 20L4 18.59l7.72-7.72 1.47 1.35L5.41 20z\"/>\n",
              "  </svg>\n",
              "      </button>\n",
              "      \n",
              "  <style>\n",
              "    .colab-df-container {\n",
              "      display:flex;\n",
              "      flex-wrap:wrap;\n",
              "      gap: 12px;\n",
              "    }\n",
              "\n",
              "    .colab-df-convert {\n",
              "      background-color: #E8F0FE;\n",
              "      border: none;\n",
              "      border-radius: 50%;\n",
              "      cursor: pointer;\n",
              "      display: none;\n",
              "      fill: #1967D2;\n",
              "      height: 32px;\n",
              "      padding: 0 0 0 0;\n",
              "      width: 32px;\n",
              "    }\n",
              "\n",
              "    .colab-df-convert:hover {\n",
              "      background-color: #E2EBFA;\n",
              "      box-shadow: 0px 1px 2px rgba(60, 64, 67, 0.3), 0px 1px 3px 1px rgba(60, 64, 67, 0.15);\n",
              "      fill: #174EA6;\n",
              "    }\n",
              "\n",
              "    [theme=dark] .colab-df-convert {\n",
              "      background-color: #3B4455;\n",
              "      fill: #D2E3FC;\n",
              "    }\n",
              "\n",
              "    [theme=dark] .colab-df-convert:hover {\n",
              "      background-color: #434B5C;\n",
              "      box-shadow: 0px 1px 3px 1px rgba(0, 0, 0, 0.15);\n",
              "      filter: drop-shadow(0px 1px 2px rgba(0, 0, 0, 0.3));\n",
              "      fill: #FFFFFF;\n",
              "    }\n",
              "  </style>\n",
              "\n",
              "      <script>\n",
              "        const buttonEl =\n",
              "          document.querySelector('#df-aa3a2fee-9648-4f00-a8a1-58fad7494737 button.colab-df-convert');\n",
              "        buttonEl.style.display =\n",
              "          google.colab.kernel.accessAllowed ? 'block' : 'none';\n",
              "\n",
              "        async function convertToInteractive(key) {\n",
              "          const element = document.querySelector('#df-aa3a2fee-9648-4f00-a8a1-58fad7494737');\n",
              "          const dataTable =\n",
              "            await google.colab.kernel.invokeFunction('convertToInteractive',\n",
              "                                                     [key], {});\n",
              "          if (!dataTable) return;\n",
              "\n",
              "          const docLinkHtml = 'Like what you see? Visit the ' +\n",
              "            '<a target=\"_blank\" href=https://colab.research.google.com/notebooks/data_table.ipynb>data table notebook</a>'\n",
              "            + ' to learn more about interactive tables.';\n",
              "          element.innerHTML = '';\n",
              "          dataTable['output_type'] = 'display_data';\n",
              "          await google.colab.output.renderOutput(dataTable, element);\n",
              "          const docLink = document.createElement('div');\n",
              "          docLink.innerHTML = docLinkHtml;\n",
              "          element.appendChild(docLink);\n",
              "        }\n",
              "      </script>\n",
              "    </div>\n",
              "  </div>\n",
              "  "
            ]
          },
          "metadata": {},
          "execution_count": 19
        }
      ]
    }
  ]
}