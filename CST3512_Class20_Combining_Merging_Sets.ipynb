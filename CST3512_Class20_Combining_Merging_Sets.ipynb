{
  "nbformat": 4,
  "nbformat_minor": 0,
  "metadata": {
    "colab": {
      "provenance": [],
      "authorship_tag": "ABX9TyPhVDmGBBw6uEdNNdnsqviK",
      "include_colab_link": true
    },
    "kernelspec": {
      "name": "python3",
      "display_name": "Python 3"
    },
    "language_info": {
      "name": "python"
    }
  },
  "cells": [
    {
      "cell_type": "markdown",
      "metadata": {
        "id": "view-in-github",
        "colab_type": "text"
      },
      "source": [
        "<a href=\"https://colab.research.google.com/github/ProfessorPatrickSlatraigh/CST3512/blob/main/CST3512_Class20_Combining_Merging_Sets.ipynb\" target=\"_parent\"><img src=\"https://colab.research.google.com/assets/colab-badge.svg\" alt=\"Open In Colab\"/></a>"
      ]
    },
    {
      "cell_type": "markdown",
      "source": [
        "#CST3512 Class 20\n",
        "**Combining and Merging Datasets**   \n",
        "\n",
        "This notebook is based on [Section 8.2 Combining and Merging Datasets](https://wesmckinney.com/book/data-wrangling.html#prep_merge_join) from Chapter 8 - Data Wrangling: Join, Combine, and Reshape in Wes Mckinney's 'Python for Data Analysis'   \n",
        "    \n",
        "    \n",
        "*Some of Wes McKinney's examples have been adapted to use more mnemonic variable names.*       \n",
        "\n"
      ],
      "metadata": {
        "id": "JVtACvBn4B0m"
      }
    },
    {
      "cell_type": "markdown",
      "source": [
        "**This notebook has two main sections:**    \n",
        "\n",
        "1. Section 8.2 Concepts and Examples from Wes McKinney     \n",
        "\n",
        "2. Exercises Using Two Datasets of U.S. City Data (geo and population)     \n",
        "\n",
        "* plus, a reference to other, related exercises     \n"
      ],
      "metadata": {
        "id": "pjTkLJY51tFf"
      }
    },
    {
      "cell_type": "markdown",
      "source": [
        "Data contained in pandas objects can be combined together in a number of ways:\n",
        "\n",
        "`pandas.merge` connects rows in DataFrames based on one or more keys. This will be familiar to users of SQL or other relational databases, as it implements database join operations.\n",
        "\n",
        "`pandas.concat` concatenates or \"stacks\" together objects along an axis.\n",
        "\n",
        "The `combine_first` instance method enables splicing together overlapping data to fill in missing values in one object with values from another.\n",
        "\n",
        "`pandas.merge_asof` allows you to do time series-based \"window\" joins between DataFrame objects. This will be discussed in more detail in Time Series\n",
        "\n",
        "Mckinney addresses each of these and gives a number of examples. They will be utilized in examples throughout the remainder of the Data Analysis with Python book."
      ],
      "metadata": {
        "id": "i03P67dF4yIF"
      }
    },
    {
      "cell_type": "markdown",
      "source": [
        "\n",
        "\n",
        "---\n",
        "\n"
      ],
      "metadata": {
        "id": "vjrvvKdN53Jt"
      }
    },
    {
      "cell_type": "markdown",
      "source": [
        "###**Housekeeping**    \n",
        "\n",
        "Import required modules    \n"
      ],
      "metadata": {
        "id": "9mi4Ko3V54iX"
      }
    },
    {
      "cell_type": "code",
      "source": [
        "# Import pandas \n",
        "import pandas as pd\n",
        "\n",
        "# Import numpy   \n",
        "import numpy as np\n"
      ],
      "metadata": {
        "id": "cPV2Tj1K6CNW"
      },
      "execution_count": 1,
      "outputs": []
    },
    {
      "cell_type": "markdown",
      "source": [
        "##Mckinney 8.2 on Merging and Combining Dataframes      "
      ],
      "metadata": {
        "id": "LChEU6iF3NJE"
      }
    },
    {
      "cell_type": "markdown",
      "source": [
        "\n",
        "\n",
        "---\n",
        "\n"
      ],
      "metadata": {
        "id": "q7ZszVO1WbaM"
      }
    },
    {
      "cell_type": "markdown",
      "source": [
        "###Database-Style Dataframe Joins    \n",
        "\n",
        "*Merge* or *join* operations combine datasets by linking rows using one or more keys. These operations are particularly important in relational databases (e.g., SQL-based). The `merge` function in pandas is the main entry point for using these algorithms on your data.\n",
        "\n",
        "Let’s start with a simple example:"
      ],
      "metadata": {
        "id": "LQU1DanIRFgf"
      }
    },
    {
      "cell_type": "code",
      "source": [
        "df1 = pd.DataFrame({'fruit': ['banana', 'banana', 'apple', 'cherry', 'apple', 'apple', 'banana'],\n",
        "                    'data1': range(7)})\n",
        "\n",
        "df2 = pd.DataFrame({'fruit': ['apple', 'banana', 'date'],\n",
        "                    'data2': range(3)})\n"
      ],
      "metadata": {
        "id": "rNx5ZsiGRWrO"
      },
      "execution_count": null,
      "outputs": []
    },
    {
      "cell_type": "code",
      "source": [
        "# print(df1.describe())\n",
        "print()\n",
        "print(df1)"
      ],
      "metadata": {
        "id": "K39uW2PnRq4x"
      },
      "execution_count": null,
      "outputs": []
    },
    {
      "cell_type": "code",
      "source": [
        "# print(df2.describe())\n",
        "print()\n",
        "print(df2)"
      ],
      "metadata": {
        "id": "oL-GLbRFRxL5"
      },
      "execution_count": null,
      "outputs": []
    },
    {
      "cell_type": "markdown",
      "source": [
        "The following is an example of a *many-to-one join*; the data in `df1` has multiple rows labeled `a` and `b`, whereas `df2` has only one row for each value in the key column. Calling `merge` with these objects we obtain:"
      ],
      "metadata": {
        "id": "NNGEhe8pSOUr"
      }
    },
    {
      "cell_type": "code",
      "source": [
        "pd.merge(df1, df2)"
      ],
      "metadata": {
        "id": "yMTGaUMLSXaU"
      },
      "execution_count": null,
      "outputs": []
    },
    {
      "cell_type": "markdown",
      "source": [
        "Note that the last snippet of code DID NOT specify which column to join on. If that information is not specified, `merge` uses the overlapping column names as the keys. It’s a good practice to specify explicitly, though:"
      ],
      "metadata": {
        "id": "hXGZmeNIShD2"
      }
    },
    {
      "cell_type": "code",
      "source": [
        "pd.merge(df1, df2, on='fruit')"
      ],
      "metadata": {
        "id": "dxwWmdBASon5"
      },
      "execution_count": null,
      "outputs": []
    },
    {
      "cell_type": "markdown",
      "source": [
        "If the column names are different in each object, you can specify them separately:"
      ],
      "metadata": {
        "id": "FR7q2_uYSwRD"
      }
    },
    {
      "cell_type": "code",
      "source": [
        "df3 = pd.DataFrame({'fruit': ['banana', 'banana', 'apple', 'cherry', 'apple', 'apple', 'banana'],\n",
        "                    'data3': range(7)}) \n",
        "\n",
        "df4 = pd.DataFrame({'tree': ['apple', 'banana', 'date'],\n",
        "                    'data4': range(3)})"
      ],
      "metadata": {
        "id": "KezAwS2zSxOf"
      },
      "execution_count": null,
      "outputs": []
    },
    {
      "cell_type": "code",
      "source": [
        "# print(df3.describe())\n",
        "print()\n",
        "print(df3)"
      ],
      "metadata": {
        "id": "V84Dlfm3S3fB"
      },
      "execution_count": null,
      "outputs": []
    },
    {
      "cell_type": "code",
      "source": [
        "# print(df4.describe())\n",
        "print()\n",
        "print(df4)"
      ],
      "metadata": {
        "id": "fiJH-9uxTCzx"
      },
      "execution_count": null,
      "outputs": []
    },
    {
      "cell_type": "code",
      "source": [
        "pd.merge(df3, df4, left_on='fruit', right_on='tree')"
      ],
      "metadata": {
        "id": "VK1umYAOTIxR"
      },
      "execution_count": null,
      "outputs": []
    },
    {
      "cell_type": "markdown",
      "source": [
        "You may notice that the 'c' and 'd' values and associated data are missing from the result. By default `merge` does an 'inner' join; the keys in the result are the intersection, or the common set found in both tables. Other possible options are 'left', 'right', and 'outer'. The *outer join* takes the union of the keys, combining the effect of applying both *left* and *right joins*:"
      ],
      "metadata": {
        "id": "4gqfCTXyTTBL"
      }
    },
    {
      "cell_type": "code",
      "source": [
        "print(df1)\n",
        "print(df2)"
      ],
      "metadata": {
        "id": "k8UvdGzmJ58e"
      },
      "execution_count": null,
      "outputs": []
    },
    {
      "cell_type": "code",
      "source": [
        "pd.merge(df1, df2, how='outer')"
      ],
      "metadata": {
        "id": "N18J99eXTc43"
      },
      "execution_count": null,
      "outputs": []
    },
    {
      "cell_type": "markdown",
      "source": [
        "A `left` join:"
      ],
      "metadata": {
        "id": "pdTu_HPVBkBM"
      }
    },
    {
      "cell_type": "code",
      "source": [
        "pd.merge(df1, df2, how='left')"
      ],
      "metadata": {
        "id": "ufNbkqfQBbiq"
      },
      "execution_count": null,
      "outputs": []
    },
    {
      "cell_type": "markdown",
      "source": [
        "A 'right` join:    "
      ],
      "metadata": {
        "id": "08ZBiOmNBmgU"
      }
    },
    {
      "cell_type": "code",
      "source": [
        "pd.merge(df1, df2, how='right')"
      ],
      "metadata": {
        "id": "jbfduouRBd_b"
      },
      "execution_count": null,
      "outputs": []
    },
    {
      "cell_type": "markdown",
      "source": [
        "What if we switch the order of the dataframes in that right-join  `.merge()`?    \n",
        "    \n",
        " * Will we have a row for 'cherry'?    \n",
        " * Will we have a row for 'date'?    \n"
      ],
      "metadata": {
        "id": "-jLzudXVCHMF"
      }
    },
    {
      "cell_type": "code",
      "source": [
        "pd.merge(df2, df1, how='right')"
      ],
      "metadata": {
        "id": "3p56grhVCM_x"
      },
      "execution_count": null,
      "outputs": []
    },
    {
      "cell_type": "markdown",
      "source": [
        "See the following **Table 8.1** for a summary of the options for how different *joins* are treated."
      ],
      "metadata": {
        "id": "YR9EDbBITtiu"
      }
    },
    {
      "cell_type": "markdown",
      "source": [
        "![WESM_8-1_how-joins.png](data:image/png;base64,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)"
      ],
      "metadata": {
        "id": "e5WpImrbUO-n"
      }
    },
    {
      "cell_type": "markdown",
      "source": [
        "*Many-to-many* merges form the Cartesian product of the matching keys. Here’s an example:"
      ],
      "metadata": {
        "id": "N7K3b-jyUaV1"
      }
    },
    {
      "cell_type": "code",
      "source": [
        "df5 = pd.DataFrame({'key': ['banana', 'banana', 'apple', 'cherry', 'apple', 'banana'],\n",
        "                    'data5': range(6)})\n",
        "\n",
        "df6 = pd.DataFrame({'key': ['apple', 'banana', 'apple', 'banana', 'date'],\n",
        "                    'data6': range(5)}) \n"
      ],
      "metadata": {
        "id": "ttiODRMlThNf"
      },
      "execution_count": null,
      "outputs": []
    },
    {
      "cell_type": "code",
      "source": [
        "# print(df5.describe())\n",
        "print()\n",
        "print(df5)"
      ],
      "metadata": {
        "id": "Ffi9jUIBU3bc"
      },
      "execution_count": null,
      "outputs": []
    },
    {
      "cell_type": "code",
      "source": [
        "# print(df6.describe())\n",
        "print()\n",
        "print(df6)"
      ],
      "metadata": {
        "id": "kKDtEylYU594"
      },
      "execution_count": null,
      "outputs": []
    },
    {
      "cell_type": "code",
      "source": [
        "pd.merge(df5, df6, on='key', how='left')"
      ],
      "metadata": {
        "id": "bt3ePPpjU_zJ"
      },
      "execution_count": null,
      "outputs": []
    },
    {
      "cell_type": "markdown",
      "source": [
        "Since there were three 'b' rows in the left DataFrame and two in the right one, there are six 'b' rows in the result. The `join` method only affects the distinct key values appearing in the result:"
      ],
      "metadata": {
        "id": "emDoFwh7VHWn"
      }
    },
    {
      "cell_type": "code",
      "source": [
        "pd.merge(df5, df6, how='inner')"
      ],
      "metadata": {
        "id": "MksLHSDTVK14"
      },
      "execution_count": null,
      "outputs": []
    },
    {
      "cell_type": "markdown",
      "source": [
        "To `merge` with multiple keys, pass a list of column names:\n"
      ],
      "metadata": {
        "id": "9abRe6HjVU6F"
      }
    },
    {
      "cell_type": "code",
      "source": [
        "df_left = pd.DataFrame({'cave': ['foo', 'foo', 'bar'],\n",
        "                     'fish': ['one', 'two', 'one'],\n",
        "                     'lval': [1, 2, 3]})\n",
        " \n",
        "df_right = pd.DataFrame({'cave': ['foo', 'foo', 'bar', 'bar'],\n",
        "                      'fish': ['one', 'one', 'one', 'two'],\n",
        "                      'rval': [4, 5, 6, 7]})\n"
      ],
      "metadata": {
        "id": "C784ocEaVXkX"
      },
      "execution_count": null,
      "outputs": []
    },
    {
      "cell_type": "code",
      "source": [
        "# print(df_left.describe())\n",
        "print()\n",
        "print(df_left)"
      ],
      "metadata": {
        "id": "JlsPo1QwVv7X"
      },
      "execution_count": null,
      "outputs": []
    },
    {
      "cell_type": "code",
      "source": [
        "# print(df_right.describe())\n",
        "print()\n",
        "print(df_right)"
      ],
      "metadata": {
        "id": "pXkWnqjWV07G"
      },
      "execution_count": null,
      "outputs": []
    },
    {
      "cell_type": "code",
      "source": [
        "pd.merge(df_left, df_right, on=['cave', 'fish'], how='outer')"
      ],
      "metadata": {
        "id": "JzAjGaKJV6Dr"
      },
      "execution_count": null,
      "outputs": []
    },
    {
      "cell_type": "markdown",
      "source": [
        "To determine which key combinations will appear in the result depending on the choice of merge method, think of the multiple keys as forming an array of tuples to be used as a single join key."
      ],
      "metadata": {
        "id": "jtMDvBryWA26"
      }
    },
    {
      "cell_type": "markdown",
      "source": [
        "***Caution***    \n",
        "\n",
        "\n",
        "*When you're joining columns-on-columns, the indices on the passed DataFrame objects are discarded.*"
      ],
      "metadata": {
        "id": "NsaTEOlnWEGQ"
      }
    },
    {
      "cell_type": "markdown",
      "source": [
        "A last issue to consider in `merge` operations is the treatment of overlapping column names. While you can address the overlap manually (see the earlier section on renaming axis labels), `merge` has a `suffixes` option for specifying strings to append to overlapping names in the *left* and *right* DataFrame objects:"
      ],
      "metadata": {
        "id": "XspiQWTUWP94"
      }
    },
    {
      "cell_type": "code",
      "source": [
        "print(df_left)\n",
        "print(df_right)"
      ],
      "metadata": {
        "id": "DhOfO3YSLRgO"
      },
      "execution_count": null,
      "outputs": []
    },
    {
      "cell_type": "code",
      "source": [
        "pd.merge(df_left, df_right, on='cave')"
      ],
      "metadata": {
        "id": "lrmCz4RpWYuG"
      },
      "execution_count": null,
      "outputs": []
    },
    {
      "cell_type": "code",
      "source": [
        "pd.merge(df_left, df_right, on='cave', suffixes=('_left', '_right'))"
      ],
      "metadata": {
        "id": "pmHJhmlLWgGj"
      },
      "execution_count": null,
      "outputs": []
    },
    {
      "cell_type": "markdown",
      "source": [
        "Let's try that with dataframes that have more than one redundant column"
      ],
      "metadata": {
        "id": "o3FYJuD2FcGX"
      }
    },
    {
      "cell_type": "code",
      "source": [
        "df_left = pd.DataFrame({'cave': ['foo', 'foo', 'bar'],\n",
        "                     'fish': ['one', 'two', 'one'],\n",
        "                     'fruit' : ['apple', 'banana', 'apple'],\n",
        "                     'lval': [1, 2, 3]})\n",
        " \n",
        "df_right = pd.DataFrame({'cave': ['foo', 'foo', 'bar', 'bar'],\n",
        "                      'fish': ['one', 'one', 'one', 'two'],\n",
        "                      'fruit' : ['apple', 'banana', 'date', 'cherry'],\n",
        "                      'rval': [4, 5, 6, 7]})\n"
      ],
      "metadata": {
        "id": "Eu9kcwTWFgW3"
      },
      "execution_count": null,
      "outputs": []
    },
    {
      "cell_type": "code",
      "source": [
        "print(df_left)\n",
        "print(df_right)"
      ],
      "metadata": {
        "id": "KyjzNAc8GAYo"
      },
      "execution_count": null,
      "outputs": []
    },
    {
      "cell_type": "code",
      "source": [
        "pd.merge(df_left, df_right, on='cave', suffixes=('_left', '_right'))"
      ],
      "metadata": {
        "id": "I6MGQTWwGB_6"
      },
      "execution_count": null,
      "outputs": []
    },
    {
      "cell_type": "markdown",
      "source": [
        "\n",
        "\n",
        "---\n",
        "\n"
      ],
      "metadata": {
        "id": "WsWOxFcvFbVn"
      }
    },
    {
      "cell_type": "markdown",
      "source": [
        "See **Table 8.2** for an argument reference on merge. Joining using the DataFrame's row index is the subject of the next section."
      ],
      "metadata": {
        "id": "64RrkJTjOl31"
      }
    },
    {
      "cell_type": "markdown",
      "source": [
        "![WESM_8-2_merge-arguments.png](data:image/png;base64,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)"
      ],
      "metadata": {
        "id": "a9GK_RrnOsVV"
      }
    },
    {
      "cell_type": "markdown",
      "source": [
        "\n",
        "\n",
        "---\n",
        "\n"
      ],
      "metadata": {
        "id": "qim5T-0bWYl7"
      }
    },
    {
      "cell_type": "markdown",
      "source": [
        "###Merging on Index    \n",
        "\n",
        "In some cases, the `merge` key(s) in a DataFrame will be found in its index (row labels). In this case, you can pass `left_index=True` or `right_index=True` (or both) to indicate that the index should be used as the merge key:"
      ],
      "metadata": {
        "id": "Ei8tdw4ZPQPB"
      }
    },
    {
      "cell_type": "code",
      "source": [
        "df_left1 = pd.DataFrame({'fruit': ['apple', 'banana', 'apple', 'apple', 'banana', 'cherry'],\n",
        "                         'value': range(6)})\n",
        "\n",
        "df_right1 = pd.DataFrame({'group_val': [3.5, 7, 1000]}, index=['apple', 'banana', 'date'])"
      ],
      "metadata": {
        "id": "dFSXEoIYPaxj"
      },
      "execution_count": 13,
      "outputs": []
    },
    {
      "cell_type": "code",
      "source": [
        "# print(df_left1.describe())\n",
        "print()\n",
        "print(df_left1)"
      ],
      "metadata": {
        "id": "Mdq6Ay-8P7fi"
      },
      "execution_count": null,
      "outputs": []
    },
    {
      "cell_type": "code",
      "source": [
        "# print(df_right1.describe())\n",
        "print()\n",
        "print(df_right1)"
      ],
      "metadata": {
        "id": "Sj7Cnbi0QF-7"
      },
      "execution_count": null,
      "outputs": []
    },
    {
      "cell_type": "code",
      "source": [
        "pd.merge(df_left1, df_right1, left_on='fruit', right_index=True)"
      ],
      "metadata": {
        "id": "SmNd0IB4QKQt"
      },
      "execution_count": null,
      "outputs": []
    },
    {
      "cell_type": "markdown",
      "source": [
        "Since the default `merge` method is to intersect the join keys, you can instead form the *union* of them with an *outer join*:"
      ],
      "metadata": {
        "id": "cTvBEcvvQUmy"
      }
    },
    {
      "cell_type": "code",
      "source": [
        "pd.merge(df_left1, df_right1, left_on='fruit', right_index=True, how='outer')"
      ],
      "metadata": {
        "id": "irp-N-9BQgA8"
      },
      "execution_count": null,
      "outputs": []
    },
    {
      "cell_type": "markdown",
      "source": [
        "With hierarchically indexed data, things are more complicated, as joining on index is equivalent to a multiple-key merge:"
      ],
      "metadata": {
        "id": "STZoqCO-QnQe"
      }
    },
    {
      "cell_type": "code",
      "source": [
        "df_lefth = pd.DataFrame({'state': ['Ohio', 'Ohio', 'Ohio',\n",
        "                                  'Nevada', 'Nevada'],\n",
        "                         'year': [2000, 2001, 2002, 2001, 2002],\n",
        "                         'data': np.arange(5.)})"
      ],
      "metadata": {
        "id": "o0-2-pg6QpiI"
      },
      "execution_count": 2,
      "outputs": []
    },
    {
      "cell_type": "code",
      "source": [
        "df_righth = pd.DataFrame(np.arange(12).reshape((6, 2)),\n",
        "                         index=[['Nevada', 'Nevada', 'Ohio', 'Ohio',\n",
        "                                 'Ohio', 'Ohio'],\n",
        "                               [2001, 2000, 2000, 2000, 2001, 2002]],\n",
        "                         columns=['event1', 'event2'])"
      ],
      "metadata": {
        "id": "tRadN0BORHZv"
      },
      "execution_count": 3,
      "outputs": []
    },
    {
      "cell_type": "code",
      "source": [
        "# print(df_lefth.describe())\n",
        "print()\n",
        "print(df_lefth)"
      ],
      "metadata": {
        "id": "zIu1D5FORNyX"
      },
      "execution_count": null,
      "outputs": []
    },
    {
      "cell_type": "code",
      "source": [
        "# print(df_righth.describe())\n",
        "print()\n",
        "print(df_righth)"
      ],
      "metadata": {
        "id": "2PJgvCdIRUoy"
      },
      "execution_count": null,
      "outputs": []
    },
    {
      "cell_type": "markdown",
      "source": [
        "In this case, you have to indicate multiple columns to `merge` on as a list (note the handling of duplicate index values with `how='outer'`):"
      ],
      "metadata": {
        "id": "BmNAsU_eTV34"
      }
    },
    {
      "cell_type": "code",
      "source": [
        "pd.merge(df_lefth, df_righth, left_on=['state', 'year'], right_index=True)"
      ],
      "metadata": {
        "id": "p_ffPQm1TZyC"
      },
      "execution_count": null,
      "outputs": []
    },
    {
      "cell_type": "code",
      "source": [
        "pd.merge(df_lefth, df_righth, left_on=['state', 'year'],\n",
        "         right_index=True, how='outer')"
      ],
      "metadata": {
        "id": "HSneAKpTTrMH"
      },
      "execution_count": null,
      "outputs": []
    },
    {
      "cell_type": "markdown",
      "source": [
        "Using the indexes of both sides of the `merge` is also possible:"
      ],
      "metadata": {
        "id": "buu2j3nnTu7y"
      }
    },
    {
      "cell_type": "code",
      "source": [
        "df_left2 = pd.DataFrame([[1., 2.], [3., 4.], [5., 6.]],\n",
        "                         index=['apple', 'cherry', 'elderberry'],\n",
        "                         columns=['Ohio', 'Nevada'])"
      ],
      "metadata": {
        "id": "8uO96uGXTwwx"
      },
      "execution_count": 7,
      "outputs": []
    },
    {
      "cell_type": "code",
      "source": [
        "df_right2 = pd.DataFrame([[7., 8.], [9., 10.], [11., 12.], [13, 14]],\n",
        "                          index=['banana', 'cherry', 'date', 'elderberry'],\n",
        "                          columns=['Missouri', 'Alabama'])"
      ],
      "metadata": {
        "id": "RbSjpKaaUCAF"
      },
      "execution_count": 8,
      "outputs": []
    },
    {
      "cell_type": "code",
      "source": [
        "# print(df_left2.describe())\n",
        "print()\n",
        "print(df_left2)"
      ],
      "metadata": {
        "id": "E-paUI3PUEZl"
      },
      "execution_count": null,
      "outputs": []
    },
    {
      "cell_type": "code",
      "source": [
        "# print(df_right2.describe())\n",
        "print()\n",
        "print(df_right2)"
      ],
      "metadata": {
        "id": "hG2LvW3UUIm_"
      },
      "execution_count": null,
      "outputs": []
    },
    {
      "cell_type": "code",
      "source": [
        "pd.merge(df_left2, df_right2, how='outer', left_index=True, right_index=True)"
      ],
      "metadata": {
        "id": "5BXNU48vUSE1"
      },
      "execution_count": null,
      "outputs": []
    },
    {
      "cell_type": "markdown",
      "source": [
        "... or, as an *inner join*:"
      ],
      "metadata": {
        "id": "uZsFkW6fy0hc"
      }
    },
    {
      "cell_type": "code",
      "source": [
        "pd.merge(df_left2, df_right2, how='inner', left_index=True, right_index=True)"
      ],
      "metadata": {
        "id": "g0zbEN1jy0FJ"
      },
      "execution_count": null,
      "outputs": []
    },
    {
      "cell_type": "markdown",
      "source": [
        "DataFrame has a `join` instance method to simplify *merging* by index. It can also be used to *combine* together many DataFrame objects having the same or similar indexes but non-overlapping columns. In the prior example, we could have written:"
      ],
      "metadata": {
        "id": "vlF3r28PUZgd"
      }
    },
    {
      "cell_type": "code",
      "source": [
        "df_left2.join(df_right2, how='outer')"
      ],
      "metadata": {
        "id": "veyJnG2WUgUb"
      },
      "execution_count": null,
      "outputs": []
    },
    {
      "cell_type": "markdown",
      "source": [
        "Compared with `pandas.merge`, DataFrame’s `join` method performs a *left join* on the *join keys*, exactly preserving the left frame's row index. It also supports *joining* the index of the passed DataFrame on one of the columns of the calling DataFrame:"
      ],
      "metadata": {
        "id": "znYDcMSsUrOD"
      }
    },
    {
      "cell_type": "code",
      "source": [
        "# print(df_left1.describe())\n",
        "# print()\n",
        "print(df_left1)"
      ],
      "metadata": {
        "id": "EADEPC6JVBxT"
      },
      "execution_count": null,
      "outputs": []
    },
    {
      "cell_type": "code",
      "source": [
        "# print(df_right1.describe())\n",
        "# print()\n",
        "print(df_right1)"
      ],
      "metadata": {
        "id": "qGse_pNkVEPh"
      },
      "execution_count": null,
      "outputs": []
    },
    {
      "cell_type": "code",
      "source": [
        "df_left1.join(df_right1, on='fruit')"
      ],
      "metadata": {
        "id": "rrP2nlNwU0LI"
      },
      "execution_count": null,
      "outputs": []
    },
    {
      "cell_type": "markdown",
      "source": [
        "You can think of this method as *joining* data **\"into\"** the object whose `join` method is invoked.\n",
        "\n",
        "Lastly, for simple *index-on-index merges*, you can pass a list of DataFrames to `join` as an alternative to using the more general `concat` function described in the next section:"
      ],
      "metadata": {
        "id": "qgGscSasVNBy"
      }
    },
    {
      "cell_type": "code",
      "source": [
        "df_another = pd.DataFrame([[7., 8.], [9., 10.], [11., 12.], [16., 17.]],\n",
        "                           index=['apple', 'cherry', 'elderberry', 'fig'],\n",
        "                           columns=['New York', 'Oregon'])"
      ],
      "metadata": {
        "id": "-0fgMe4JVZst"
      },
      "execution_count": null,
      "outputs": []
    },
    {
      "cell_type": "code",
      "source": [
        "print(df_right2)"
      ],
      "metadata": {
        "id": "ovq6xCg3Ox2O"
      },
      "execution_count": null,
      "outputs": []
    },
    {
      "cell_type": "code",
      "source": [
        "# print(df_another.describe())\n",
        "print()\n",
        "print(df_another)"
      ],
      "metadata": {
        "id": "Chwch1mmVnYA"
      },
      "execution_count": null,
      "outputs": []
    },
    {
      "cell_type": "code",
      "source": [
        "df_left2.join([df_right2, df_another])"
      ],
      "metadata": {
        "id": "cAHooufzVvl2"
      },
      "execution_count": null,
      "outputs": []
    },
    {
      "cell_type": "code",
      "source": [
        "df_left2.join([df_right2, df_another], how='outer')"
      ],
      "metadata": {
        "id": "qVXABwPxV2qz"
      },
      "execution_count": null,
      "outputs": []
    },
    {
      "cell_type": "markdown",
      "source": [
        "\n",
        "\n",
        "---\n",
        "\n"
      ],
      "metadata": {
        "id": "4eAdBz2yWXCg"
      }
    },
    {
      "cell_type": "markdown",
      "source": [
        "###Concatenating Along an Axis    \n",
        "\n",
        "Another kind of data combination operation is referred to interchangeably as concatenation or stacking.     \n",
        "\n",
        "NumPy's `concatenate` function can do this with NumPy arrays:"
      ],
      "metadata": {
        "id": "U_8LrNBUWSv4"
      }
    },
    {
      "cell_type": "code",
      "source": [
        "ar_arr = np.arange(12).reshape((3, 4))"
      ],
      "metadata": {
        "id": "gc-l4ifbWv6e"
      },
      "execution_count": null,
      "outputs": []
    },
    {
      "cell_type": "code",
      "source": [
        "print(ar_arr.shape)\n",
        "print()\n",
        "print(ar_arr)"
      ],
      "metadata": {
        "id": "bZkiLvhAW04D"
      },
      "execution_count": null,
      "outputs": []
    },
    {
      "cell_type": "code",
      "source": [
        "print(np.concatenate([ar_arr, ar_arr], axis=1).shape)\n",
        "print()\n",
        "print(np.concatenate([ar_arr, ar_arr], axis=1))"
      ],
      "metadata": {
        "id": "y2g7BV3-XK4I"
      },
      "execution_count": null,
      "outputs": []
    },
    {
      "cell_type": "markdown",
      "source": [
        "In the context of pandas objects such as Series and DataFrame, having labeled axes enable you to further generalize array concatenation. In particular, you have a number of additional concerns:    \n",
        "\n",
        "* If the objects are indexed differently on the other axes, should we combine the distinct elements in these axes or use only the values in common.?    \n",
        "\n",
        "* Do the concatenated chunks of data need to be identifiable as such in the resulting object?\n",
        "\n",
        "* Does the \"concatenation axis\" contain data that needs to be preserved? In many cases, the default integer labels in a DataFrame are best discarded during concatenation.    \n",
        "\n",
        "The `concat` function in pandas provides a consistent way to address each of these questions. Several examples illustrate how it works.     \n",
        "\n",
        "Suppose we have three Series with no index overlap:     \n",
        "\n",
        " "
      ],
      "metadata": {
        "id": "BULXTp6rX_29"
      }
    },
    {
      "cell_type": "code",
      "source": [
        "se_s1 = pd.Series([0, 1], index=['apple', 'banana'])\n",
        "\n",
        "se_s2 = pd.Series([2, 3, 4], index=['cherry', 'date', 'elderberry'])\n",
        "\n",
        "se_s3 = pd.Series([5, 6], index=['fig', 'grape'])"
      ],
      "metadata": {
        "id": "M6mkmxtjYBlT"
      },
      "execution_count": 17,
      "outputs": []
    },
    {
      "cell_type": "code",
      "source": [
        "print(se_s1)\n",
        "print()\n",
        "print(se_s2)\n",
        "print()\n",
        "print(se_s3)\n",
        "print()"
      ],
      "metadata": {
        "id": "0FmUEVx1Y5iO"
      },
      "execution_count": null,
      "outputs": []
    },
    {
      "cell_type": "markdown",
      "source": [
        "Calling `concat` with these objects in a list glues together the values and indexes:"
      ],
      "metadata": {
        "id": "FlBiEDBPYOu6"
      }
    },
    {
      "cell_type": "code",
      "source": [
        "pd.concat([se_s1, se_s2, se_s3])"
      ],
      "metadata": {
        "id": "H-fT0jgsYRbO"
      },
      "execution_count": null,
      "outputs": []
    },
    {
      "cell_type": "markdown",
      "source": [
        "By default `concat` works along `axis=0`, producing another Series. If you pass `axis=1`, the result will instead be a DataFrame (`axis=1` is the columns):"
      ],
      "metadata": {
        "id": "orgrKXVHYbPx"
      }
    },
    {
      "cell_type": "code",
      "source": [
        "pd.concat([se_s1, se_s2, se_s3], axis=1)"
      ],
      "metadata": {
        "id": "krqPYdLSYgvB"
      },
      "execution_count": null,
      "outputs": []
    },
    {
      "cell_type": "markdown",
      "source": [
        "In this case there is no overlap on the other `axis`, which as you can see is the sorted union (the 'outer' join) of the indexes. You can instead intersect them by passing `join='inner'`:"
      ],
      "metadata": {
        "id": "qRgAPZlyYoxH"
      }
    },
    {
      "cell_type": "code",
      "source": [
        "se_s4 = pd.concat([se_s1, se_s3])"
      ],
      "metadata": {
        "id": "bObye7Z6Yw3H"
      },
      "execution_count": null,
      "outputs": []
    },
    {
      "cell_type": "code",
      "source": [
        "print(se_s1)"
      ],
      "metadata": {
        "id": "3-o-5gfrQdXI"
      },
      "execution_count": null,
      "outputs": []
    },
    {
      "cell_type": "code",
      "source": [
        "print(se_s4)\n",
        "print()"
      ],
      "metadata": {
        "id": "SU5Fiy-kZD9s"
      },
      "execution_count": null,
      "outputs": []
    },
    {
      "cell_type": "code",
      "source": [
        "pd.concat([se_s1, se_s4], axis=1)"
      ],
      "metadata": {
        "id": "Wp3jfPs6ZKyM"
      },
      "execution_count": null,
      "outputs": []
    },
    {
      "cell_type": "code",
      "source": [
        "pd.concat([se_s1, se_s4], axis=1, join='inner')"
      ],
      "metadata": {
        "id": "jzk7wf0EZQP7"
      },
      "execution_count": null,
      "outputs": []
    },
    {
      "cell_type": "markdown",
      "source": [
        "In this last example, the 'f' and 'g' labels disappeared because of the `join='inner'` option.\n",
        "\n",
        "A potential issue is that the concatenated pieces are not identifiable in the result. Suppose instead you wanted to create a hierarchical index on the concatenation axis. To do this, use the `keys` argument:"
      ],
      "metadata": {
        "id": "sp1rrlOeZWR3"
      }
    },
    {
      "cell_type": "code",
      "source": [
        "df_result = pd.concat([se_s1, se_s1, se_s3], keys=['one', 'two', 'three'])"
      ],
      "metadata": {
        "id": "vFXar-bXZaqM"
      },
      "execution_count": null,
      "outputs": []
    },
    {
      "cell_type": "code",
      "source": [
        "# print(df_result.describe())\n",
        "print()\n",
        "print(df_result)"
      ],
      "metadata": {
        "id": "AdWqaoi0Zs0S"
      },
      "execution_count": null,
      "outputs": []
    },
    {
      "cell_type": "markdown",
      "source": [
        "... then try to `unstack` the dataframe to create columns from the second index in the row hierarchical index."
      ],
      "metadata": {
        "id": "nzdW5dXCZ1ni"
      }
    },
    {
      "cell_type": "code",
      "source": [
        "df_result.unstack()"
      ],
      "metadata": {
        "id": "dLGG-9s4Z4__"
      },
      "execution_count": null,
      "outputs": []
    },
    {
      "cell_type": "markdown",
      "source": [
        "In the case of *combining* Series along `axis=1`, the keys become the DataFrame column headers:"
      ],
      "metadata": {
        "id": "ui-kpKM1aKNM"
      }
    },
    {
      "cell_type": "code",
      "source": [
        "pd.concat([se_s1, se_s2, se_s3], axis=1, keys=['one', 'two', 'three'])"
      ],
      "metadata": {
        "id": "Y7Fi7CSmaN_d"
      },
      "execution_count": null,
      "outputs": []
    },
    {
      "cell_type": "markdown",
      "source": [
        "The same logic extends to DataFrame objects:"
      ],
      "metadata": {
        "id": "CCSpJ0dYaiyh"
      }
    },
    {
      "cell_type": "code",
      "source": [
        "df_df7 = pd.DataFrame(np.arange(6).reshape(3, 2), index=['a', 'b', 'c'],\n",
        "                      columns=['one', 'two'])"
      ],
      "metadata": {
        "id": "2E-WuqVNajp3"
      },
      "execution_count": null,
      "outputs": []
    },
    {
      "cell_type": "code",
      "source": [
        "df_df8 = pd.DataFrame(5 + np.arange(4).reshape(2, 2), index=['a', 'c'],\n",
        "                      columns=['three', 'four'])"
      ],
      "metadata": {
        "id": "SVRl-Vv0ayRQ"
      },
      "execution_count": null,
      "outputs": []
    },
    {
      "cell_type": "code",
      "source": [
        "# print(df_df7.describe())\n",
        "print()\n",
        "print(df_df7)"
      ],
      "metadata": {
        "id": "ywIgyeaDa18E"
      },
      "execution_count": null,
      "outputs": []
    },
    {
      "cell_type": "code",
      "source": [
        "# print(df_df8.describe())\n",
        "print()\n",
        "print(df_df8)"
      ],
      "metadata": {
        "id": "j_s9R2Wea58e"
      },
      "execution_count": null,
      "outputs": []
    },
    {
      "cell_type": "code",
      "source": [
        "# pd.concat([df_df7, df_df8], axis=1, keys=['level1', 'level2'])\n",
        "pd.concat([df_df7, df_df8], axis=1, keys=['OWID', 'UN'])\n"
      ],
      "metadata": {
        "id": "qrjX_3DjbA0u"
      },
      "execution_count": null,
      "outputs": []
    },
    {
      "cell_type": "markdown",
      "source": [
        "Here the `keys` argument is used to create a hierarchical index where the first level can be used to identify each of the *concatenated* DataFrame objects.\n",
        "\n",
        "If you pass a *dict* of objects instead of a list, the dict’s *keys* will be used for the `keys` option:"
      ],
      "metadata": {
        "id": "7XLyR_NhbJlQ"
      }
    },
    {
      "cell_type": "code",
      "source": [
        "# pd.concat({'level1': df_df7, 'level2': df_df8}, axis=1) \n",
        "pd.concat({'OWID': df_df7, 'UN': df_df8}, axis=1)"
      ],
      "metadata": {
        "id": "tohoyU0lbTs3"
      },
      "execution_count": null,
      "outputs": []
    },
    {
      "cell_type": "markdown",
      "source": [
        "There are additional arguments governing how the hierarchical index is created (see **Table 8.3**). For example, we can name the created *axis levels* with the `names` argument:"
      ],
      "metadata": {
        "id": "8ntsIgprbems"
      }
    },
    {
      "cell_type": "code",
      "source": [
        "# pd.concat([df_df7, df_df8], axis=1, keys=['level1', 'level2'],\n",
        "#           names=['upper', 'lower'])\n",
        "pd.concat([df_df7, df_df8], axis=1, keys=['OWID', 'UN'],\n",
        "           names=['source:', 'location:'])"
      ],
      "metadata": {
        "id": "1p9J-Bbqbmrs"
      },
      "execution_count": null,
      "outputs": []
    },
    {
      "cell_type": "markdown",
      "source": [
        "A last consideration concerns DataFrames in which the *row index* does not contain any relevant data:"
      ],
      "metadata": {
        "id": "9XXCYZ3Sbz6C"
      }
    },
    {
      "cell_type": "code",
      "source": [
        "df_df09 = pd.DataFrame(np.random.randn(3, 4), columns=['a', 'b', 'c', 'd'])"
      ],
      "metadata": {
        "id": "WdSDeuWUb83Q"
      },
      "execution_count": null,
      "outputs": []
    },
    {
      "cell_type": "code",
      "source": [
        "df_df10 = pd.DataFrame(np.random.randn(2, 3), columns=['b', 'd', 'a'])"
      ],
      "metadata": {
        "id": "Df-fsXhOcAmm"
      },
      "execution_count": null,
      "outputs": []
    },
    {
      "cell_type": "code",
      "source": [
        "# print(df_df3.describe())\n",
        "print()\n",
        "print(df_df09)"
      ],
      "metadata": {
        "id": "1ZdFozGPcEI4"
      },
      "execution_count": null,
      "outputs": []
    },
    {
      "cell_type": "code",
      "source": [
        "# print(df_df4.describe())\n",
        "print()\n",
        "print(df_df10)"
      ],
      "metadata": {
        "id": "57npWzrjcG3K"
      },
      "execution_count": null,
      "outputs": []
    },
    {
      "cell_type": "markdown",
      "source": [
        "In this case, you can pass `ignore_index=True`:"
      ],
      "metadata": {
        "id": "n58cE5t5cOuB"
      }
    },
    {
      "cell_type": "code",
      "source": [
        "pd.concat([df_df09, df_df10], ignore_index=True)"
      ],
      "metadata": {
        "id": "YH-R87HvcRT0"
      },
      "execution_count": null,
      "outputs": []
    },
    {
      "cell_type": "markdown",
      "source": [
        "![WESM_8-3_concat-arguments.png](data:image/png;base64,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)"
      ],
      "metadata": {
        "id": "rWtsShBjctvI"
      }
    },
    {
      "cell_type": "markdown",
      "source": [
        "###Combining Data with Overlap    \n",
        "\n",
        "There is another data combination situation that can’t be expressed as either a `merge` or `concatenation` operation. You may have two datasets whose indexes overlap in full or part. As a motivating example, consider NumPy’s `where` function, which performs the array-oriented equivalent of an *if-else* expression:"
      ],
      "metadata": {
        "id": "Vn0qyidoc5wo"
      }
    },
    {
      "cell_type": "code",
      "source": [
        "se_a = pd.Series([np.nan, 2.5, 0.0, 3.5, 4.5, np.nan],\n",
        "                  index=['fig', 'elderberry', 'date', 'cherry', 'banana', 'apple'])\n",
        "\n",
        "se_b = pd.Series([0., np.nan, 2., np.nan, np.nan, 5.],\n",
        "                  index=['apple', 'banana', 'cherry', 'date', 'elderberry', 'fig'])"
      ],
      "metadata": {
        "id": "7Jd-llUPemXp"
      },
      "execution_count": 20,
      "outputs": []
    },
    {
      "cell_type": "code",
      "source": [
        "print(se_a)\n",
        "print()\n",
        "print(se_b)"
      ],
      "metadata": {
        "id": "kz-KorToevJr"
      },
      "execution_count": null,
      "outputs": []
    },
    {
      "cell_type": "markdown",
      "source": [
        "See [Numpy documentation on `where`](https://numpy.org/doc/stable/reference/generated/numpy.where.html) for details."
      ],
      "metadata": {
        "id": "qjcRjT8if-O0"
      }
    },
    {
      "cell_type": "code",
      "source": [
        "# Using `where` to test a condition (arg1) and provide a value if True (arg2)\n",
        "# ... othewise, provide an alternate value (arg3) if arg1 is False\n",
        "np.where(pd.isna(se_a), se_b, se_a)"
      ],
      "metadata": {
        "id": "eaErybaje6yj",
        "colab": {
          "base_uri": "https://localhost:8080/"
        },
        "outputId": "550bb86e-6522-48fc-9d0d-327304dbd80d"
      },
      "execution_count": 21,
      "outputs": [
        {
          "output_type": "execute_result",
          "data": {
            "text/plain": [
              "array([0. , 2.5, 0. , 3.5, 4.5, 5. ])"
            ]
          },
          "metadata": {},
          "execution_count": 21
        }
      ]
    },
    {
      "cell_type": "markdown",
      "source": [
        "Here, whenever values in `se_a` are null, values from `se_b` are selected, otherwise the non-null values from a are selected. Using `np.where` does not check whether the index labels are aligned or not, so if you want to line up values by `index`, use the Series `combine_first` method:"
      ],
      "metadata": {
        "id": "BcKpZx5TgLCT"
      }
    },
    {
      "cell_type": "code",
      "source": [
        "se_a.combine_first(se_b)"
      ],
      "metadata": {
        "id": "WEAiLn4qgYzZ"
      },
      "execution_count": null,
      "outputs": []
    },
    {
      "cell_type": "markdown",
      "source": [
        "With DataFrames, `combine_first` does the same thing column by column, so you can think of it as “patching” missing data in the calling object with data from the object you pass:"
      ],
      "metadata": {
        "id": "CUgGXCNsgfPg"
      }
    },
    {
      "cell_type": "code",
      "source": [
        "df_df11 = pd.DataFrame({'apple': [1., np.nan, 5., np.nan],\n",
        "                       'banana': [np.nan, 2., np.nan, 6.],\n",
        "                       'cherry': range(2, 18, 4)})\n",
        "\n",
        "df_df12 = pd.DataFrame({'apple': [5., 4., np.nan, 3., 7.],\n",
        "                       'banana': [np.nan, 3., 4., 6., 8.]})"
      ],
      "metadata": {
        "id": "_3sMIZVrg24E"
      },
      "execution_count": 22,
      "outputs": []
    },
    {
      "cell_type": "code",
      "source": [
        "# print(df_df10.describe())\n",
        "print()\n",
        "print(df_df11)"
      ],
      "metadata": {
        "id": "G5_w3v19hGas"
      },
      "execution_count": null,
      "outputs": []
    },
    {
      "cell_type": "code",
      "source": [
        "# print(df_df12.describe())\n",
        "print()\n",
        "print(df_df12)"
      ],
      "metadata": {
        "id": "ErC7H1L8hJGa"
      },
      "execution_count": null,
      "outputs": []
    },
    {
      "cell_type": "code",
      "source": [
        "df_df11.combine_first(df_df12)"
      ],
      "metadata": {
        "id": "7MpOYfxfhPN8"
      },
      "execution_count": null,
      "outputs": []
    },
    {
      "cell_type": "markdown",
      "source": [
        "\n",
        "\n",
        "---\n",
        "\n"
      ],
      "metadata": {
        "id": "f0wGj0LVcxc2"
      }
    },
    {
      "cell_type": "markdown",
      "source": [
        "##Excercises with Two City Datasets (geo and population)    "
      ],
      "metadata": {
        "id": "ui39Mgkv3aa2"
      }
    },
    {
      "cell_type": "markdown",
      "source": [
        "Use a 10-minute breakout session to review the assigned section of this exercise and prepare a 3-5 minute presentation to the class on the subject of the exercise assigned.  \n",
        "    \n",
        "> <b><u>Two-City Exercise Assignments</u></b>    \n",
        "    \n",
        "---\n",
        "| Number | Topic | Assigned |    \n",
        "|--- |--- | --- |     \n",
        "| 1. | Inner Join | Syed Hussain |    \n",
        "| 1. | Inner Join | Mustafa Mozeb |    \n",
        "| 2. | Outer Join | Hudda Siddique |    \n",
        "| 2. | Outer Join | Rudoplhe Uriel Susana Thyma |    \n",
        "| 3. | Join on Indices | John Vestal |\n",
        "| 3. | Join on Indices | Tyler Walker |    \n",
        "| 3. | Join on Indices | Rex Wong |    \n",
        "    "
      ],
      "metadata": {
        "id": "rU4M_HY_NyPq"
      }
    },
    {
      "cell_type": "markdown",
      "source": [
        "##Fetch Data Files    "
      ],
      "metadata": {
        "id": "8fP0E7BF_RWN"
      }
    },
    {
      "cell_type": "markdown",
      "source": [
        "####Fetch a SAMPLE `csv` file of cities/states and their latitude/longitude into a dataframe "
      ],
      "metadata": {
        "id": "2lDFYquPULlR"
      }
    },
    {
      "cell_type": "code",
      "source": [
        "!curl \"https://raw.githubusercontent.com/ProfessorPatrickSlatraigh/data/main/cities_lat-dd_lon-dd.csv\" -o cities_lat-dd_lon-dd.csv   "
      ],
      "metadata": {
        "id": "rr82w9CH_Uc6"
      },
      "execution_count": null,
      "outputs": []
    },
    {
      "cell_type": "markdown",
      "source": [
        "####Fetch a `csv` file of largest U.S. cities/states and their populations into a dataframe "
      ],
      "metadata": {
        "id": "jl-0XxH3UPFc"
      }
    },
    {
      "cell_type": "code",
      "source": [
        "!curl \"https://raw.githubusercontent.com/ProfessorPatrickSlatraigh/data/main/cities-pop_2020-2022.csv\" -o cities-pop_2020_2022.csv   "
      ],
      "metadata": {
        "id": "5Ihd03BSUYtX"
      },
      "execution_count": null,
      "outputs": []
    },
    {
      "cell_type": "markdown",
      "source": [
        "---"
      ],
      "metadata": {
        "id": "jwyJsiGjAYCi"
      }
    },
    {
      "cell_type": "markdown",
      "source": [
        "###Load Dataframes    "
      ],
      "metadata": {
        "id": "jZuZjKLt_vD5"
      }
    },
    {
      "cell_type": "markdown",
      "source": [
        "####Load a SAMPLE `csv` file of N.A. cities/states and their latitude/longitude into a dataframe "
      ],
      "metadata": {
        "id": "cTHcPop2AHD8"
      }
    },
    {
      "cell_type": "code",
      "source": [
        "cities_geo_df = pd.read_csv('cities_lat-dd_lon-dd.csv')"
      ],
      "metadata": {
        "id": "ac_-hnbo_xtH"
      },
      "execution_count": null,
      "outputs": []
    },
    {
      "cell_type": "code",
      "source": [
        "cities_geo_df.dtypes"
      ],
      "metadata": {
        "id": "IedeV--Q_6i-"
      },
      "execution_count": null,
      "outputs": []
    },
    {
      "cell_type": "code",
      "source": [
        "cities_geo_df"
      ],
      "metadata": {
        "id": "fWftbc7JWhQB"
      },
      "execution_count": null,
      "outputs": []
    },
    {
      "cell_type": "markdown",
      "source": [
        "####Load a `csv` file of largest U.S. cities/states and their populations into a dataframe "
      ],
      "metadata": {
        "id": "KFxr2mqFT_yN"
      }
    },
    {
      "cell_type": "code",
      "source": [
        "cities_pop_df = pd.read_csv('cities-pop_2020_2022.csv')"
      ],
      "metadata": {
        "id": "2YzK1dcrUuZj"
      },
      "execution_count": null,
      "outputs": []
    },
    {
      "cell_type": "code",
      "source": [
        "cities_pop_df.dtypes"
      ],
      "metadata": {
        "id": "6QL-9pcOUzMh"
      },
      "execution_count": null,
      "outputs": []
    },
    {
      "cell_type": "code",
      "source": [
        "cities_pop_df"
      ],
      "metadata": {
        "id": "7YBxOIZoWl1v"
      },
      "execution_count": null,
      "outputs": []
    },
    {
      "cell_type": "markdown",
      "source": [
        "---"
      ],
      "metadata": {
        "id": "3wmzOZOGU_mI"
      }
    },
    {
      "cell_type": "markdown",
      "source": [
        "###Combine Exercises    "
      ],
      "metadata": {
        "id": "CHCvBpauU8g6"
      }
    },
    {
      "cell_type": "markdown",
      "source": [
        "####1. Merge (inner join) on named columns    "
      ],
      "metadata": {
        "id": "E8rmFozUVxh7"
      }
    },
    {
      "cell_type": "code",
      "source": [
        "city_merge_inner = pd.merge(cities_geo_df, cities_pop_df, left_on='city', right_on='city')"
      ],
      "metadata": {
        "id": "6s8r4UqlV3Bd"
      },
      "execution_count": null,
      "outputs": []
    },
    {
      "cell_type": "code",
      "source": [
        "city_merge_inner"
      ],
      "metadata": {
        "id": "-Kp4CLtOWb0g"
      },
      "execution_count": null,
      "outputs": []
    },
    {
      "cell_type": "markdown",
      "source": [
        "*Some `city` names are redundant across states.  A more reliable `merge` would use both `state` and `city` as keys.*"
      ],
      "metadata": {
        "id": "KNiL_NTQcQk_"
      }
    },
    {
      "cell_type": "code",
      "source": [
        "# merging on a list of key column names    \n",
        "city_merge_inner = pd.merge(cities_geo_df, cities_pop_df, on=['state', 'city'])"
      ],
      "metadata": {
        "id": "ArxZRgzAb7M0"
      },
      "execution_count": null,
      "outputs": []
    },
    {
      "cell_type": "code",
      "source": [
        "city_merge_inner"
      ],
      "metadata": {
        "id": "OmOD6deMcgUL"
      },
      "execution_count": null,
      "outputs": []
    },
    {
      "cell_type": "markdown",
      "source": [
        "####2. Merge (outer join) on named columns    "
      ],
      "metadata": {
        "id": "z3iGiiMHbT8Q"
      }
    },
    {
      "cell_type": "code",
      "source": [
        "city_merge_outer = pd.merge(cities_geo_df, cities_pop_df, left_on='city', right_on='city', how='outer')"
      ],
      "metadata": {
        "id": "CUEronEObbuO"
      },
      "execution_count": null,
      "outputs": []
    },
    {
      "cell_type": "code",
      "source": [
        "city_merge_outer"
      ],
      "metadata": {
        "id": "-rFtXw0Ublif"
      },
      "execution_count": null,
      "outputs": []
    },
    {
      "cell_type": "markdown",
      "source": [
        "*Refining that for `city` names which may be redundant across states, we construct a more reliable `merge` woul using both `state` and `city` as keys.*"
      ],
      "metadata": {
        "id": "pxvP4yF0coMg"
      }
    },
    {
      "cell_type": "code",
      "source": [
        "city_merge_outer = pd.merge(cities_geo_df, cities_pop_df, on=['state', 'city'], how='outer')"
      ],
      "metadata": {
        "id": "eZ4Xp0wCc1Xh"
      },
      "execution_count": null,
      "outputs": []
    },
    {
      "cell_type": "code",
      "source": [
        "city_merge_outer"
      ],
      "metadata": {
        "id": "UjYx13JCc4e3"
      },
      "execution_count": null,
      "outputs": []
    },
    {
      "cell_type": "markdown",
      "source": [
        "####3. Merge (inner join) on index/indices    "
      ],
      "metadata": {
        "id": "6x1W5zqMdK7Y"
      }
    },
    {
      "cell_type": "markdown",
      "source": [
        "Let's create hierarchical row indices for each of the city dataframes."
      ],
      "metadata": {
        "id": "5RDFwRIpdZVM"
      }
    },
    {
      "cell_type": "code",
      "source": [
        "geo_df = cities_geo_df.set_index(['state', 'city'])"
      ],
      "metadata": {
        "id": "rXUt--mTe0Ur"
      },
      "execution_count": null,
      "outputs": []
    },
    {
      "cell_type": "code",
      "source": [
        "geo_df"
      ],
      "metadata": {
        "id": "A2-AAcdSe6a1"
      },
      "execution_count": null,
      "outputs": []
    },
    {
      "cell_type": "code",
      "source": [
        "pop_df = cities_pop_df.set_index(['state', 'city'])"
      ],
      "metadata": {
        "id": "Hpk7bte4dYRK"
      },
      "execution_count": null,
      "outputs": []
    },
    {
      "cell_type": "code",
      "source": [
        "pop_df"
      ],
      "metadata": {
        "id": "NekFv1PKevNZ"
      },
      "execution_count": null,
      "outputs": []
    },
    {
      "cell_type": "markdown",
      "source": [
        "#####3.a Merge (inner join) the `geo_df` with the `pop_df` based on their indices."
      ],
      "metadata": {
        "id": "ybpRHpaTfIBO"
      }
    },
    {
      "cell_type": "code",
      "source": [
        "merge_inner = pd.merge(geo_df, pop_df, left_index=True, right_index=True)"
      ],
      "metadata": {
        "id": "NfRvDSy-fWUO"
      },
      "execution_count": null,
      "outputs": []
    },
    {
      "cell_type": "code",
      "source": [
        "merge_inner"
      ],
      "metadata": {
        "id": "qWLbqUTffkuL"
      },
      "execution_count": null,
      "outputs": []
    },
    {
      "cell_type": "markdown",
      "source": [
        "If one dataframe had keys in columns, not the indices but it is being merged with like keys in the other dataframe."
      ],
      "metadata": {
        "id": "3lAzrT7EgEtC"
      }
    },
    {
      "cell_type": "code",
      "source": [
        "mixed_merge_inner = pd.merge(cities_geo_df, pop_df, left_on=['state', 'city'], right_index=True)"
      ],
      "metadata": {
        "id": "vsgU-IoehFMr"
      },
      "execution_count": null,
      "outputs": []
    },
    {
      "cell_type": "code",
      "source": [
        "mixed_merge_inner"
      ],
      "metadata": {
        "id": "P-LC4raHhftw"
      },
      "execution_count": null,
      "outputs": []
    },
    {
      "cell_type": "code",
      "source": [
        "mixed_merge_inner = pd.merge(geo_df, cities_pop_df, left_index=True, right_on=['state', 'city'])"
      ],
      "metadata": {
        "id": "c25_siYOgW4p"
      },
      "execution_count": null,
      "outputs": []
    },
    {
      "cell_type": "code",
      "source": [
        "mixed_merge_inner"
      ],
      "metadata": {
        "id": "FA_uitfxgpTu"
      },
      "execution_count": null,
      "outputs": []
    },
    {
      "cell_type": "markdown",
      "source": [
        "#####3.b Merge (outer join) the `geo_df` with the `pop_df` based on their indices."
      ],
      "metadata": {
        "id": "DyxW9r8Bfvir"
      }
    },
    {
      "cell_type": "code",
      "source": [
        "merge_outer = pd.merge(geo_df, pop_df, left_index=True, right_index=True, how='outer')"
      ],
      "metadata": {
        "id": "Vbfr4GR7fxip"
      },
      "execution_count": null,
      "outputs": []
    },
    {
      "cell_type": "code",
      "source": [
        "merge_outer"
      ],
      "metadata": {
        "id": "KTb_Xm-pf5GZ"
      },
      "execution_count": null,
      "outputs": []
    },
    {
      "cell_type": "markdown",
      "source": [
        "If one dataframe had keys in columns, not the indices but it is being merged with like keys in the other dataframe."
      ],
      "metadata": {
        "id": "hd3it-Qng6Go"
      }
    },
    {
      "cell_type": "code",
      "source": [
        "mixed_merge_outer = pd.merge(geo_df, pop_df, left_index=True, right_on=['state', 'city'])"
      ],
      "metadata": {
        "id": "oKfZda0kg7MZ"
      },
      "execution_count": null,
      "outputs": []
    },
    {
      "cell_type": "markdown",
      "source": [
        "#####3.c Using `join` on index/indices    "
      ],
      "metadata": {
        "id": "329PSIkDiubO"
      }
    },
    {
      "cell_type": "markdown",
      "source": [
        "**An inner `.join()` on index/indices** "
      ],
      "metadata": {
        "id": "_jT21dd8i1xY"
      }
    },
    {
      "cell_type": "code",
      "source": [
        "joined_inner = geo_df.join(pop_df)"
      ],
      "metadata": {
        "id": "xmi5Dsi8iyeP"
      },
      "execution_count": null,
      "outputs": []
    },
    {
      "cell_type": "code",
      "source": [
        "joined_inner"
      ],
      "metadata": {
        "id": "-ItUFga1jIEj"
      },
      "execution_count": null,
      "outputs": []
    },
    {
      "cell_type": "markdown",
      "source": [
        "**An outer `.join()` on index/indices** "
      ],
      "metadata": {
        "id": "3nGXNNYijT9l"
      }
    },
    {
      "cell_type": "code",
      "source": [
        "joined_outer = geo_df.join(pop_df, how='outer')"
      ],
      "metadata": {
        "id": "CWiTbQB0jVyV"
      },
      "execution_count": null,
      "outputs": []
    },
    {
      "cell_type": "code",
      "source": [
        "joined_outer"
      ],
      "metadata": {
        "id": "HSL002aNjbsq"
      },
      "execution_count": null,
      "outputs": []
    },
    {
      "cell_type": "markdown",
      "source": [
        "---\n"
      ],
      "metadata": {
        "id": "Beuw-hvHARcA"
      }
    },
    {
      "cell_type": "markdown",
      "source": [
        "#<b> o Related Exercise</b>\n",
        "\n",
        "\n",
        "*See the tutorial ['Using Pandas with Large Datasets in Python' -- on dataquest.io](https://www.dataquest.io/blog/pandas-big-data/) for performance considerations when working with large datasets in Python.* "
      ],
      "metadata": {
        "id": "gmG5r9z3CCzt"
      }
    },
    {
      "cell_type": "markdown",
      "source": [
        "\n",
        "\n",
        "---\n",
        "\n"
      ],
      "metadata": {
        "id": "AY-vbwVWCd7u"
      }
    }
  ]
}