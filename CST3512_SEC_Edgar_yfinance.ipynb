{
  "nbformat": 4,
  "nbformat_minor": 0,
  "metadata": {
    "colab": {
      "provenance": [],
      "collapsed_sections": [
        "axUaO5eF7Qqa",
        "kDUiAsLjhoMC"
      ],
      "authorship_tag": "ABX9TyO7F5s9SyL/for5+1ufDemK",
      "include_colab_link": true
    },
    "kernelspec": {
      "name": "python3",
      "display_name": "Python 3"
    },
    "language_info": {
      "name": "python"
    }
  },
  "cells": [
    {
      "cell_type": "markdown",
      "metadata": {
        "id": "view-in-github",
        "colab_type": "text"
      },
      "source": [
        "<a href=\"https://colab.research.google.com/github/ProfessorPatrickSlatraigh/CST3512/blob/main/CST3512_SEC_Edgar_yfinance.ipynb\" target=\"_parent\"><img src=\"https://colab.research.google.com/assets/colab-badge.svg\" alt=\"Open In Colab\"/></a>"
      ]
    },
    {
      "cell_type": "markdown",
      "source": [
        "#**SEC Edgar** and `yfinance` for **Yahoo! Finance**         \n",
        "\n",
        "[per Wikipedia](https://en.wikipedia.org/wiki/EDGAR):    \n",
        "\n",
        "---\n",
        "\n",
        "\"**EDGAR, the Electronic Data Gathering, Analysis, and Retrieval** system, performs automated collection, validation, indexing, acceptance, and forwarding of submissions by companies and others who are required by law to file forms with the U.S. Securities and Exchange Commission (the \"SEC\"). The database contains a wealth of information about the Commission and the securities industry which is freely available to the public via the Internet.\"     \n",
        "\n",
        "*This notebook uses the [sec-edgar-downloader repository by jadchaar on Github](https://github.com/jadchaar/sec-edgar-downloader) to demonstrate an approach to accessing the wealth of data available on the SEC Edgar platform, which is based on [XBRL](https://www.xbrl.org/) (a form of XML) transmission of data.*    \n",
        "\n",
        "\n",
        "---    \n",
        "\n",
        "\"**Yahoo! Finance** is a media property that is part of the **Yahoo!** network. It provides financial news, data and commentary including stock quotes, press releases, financial reports, and original content. It also offers some online tools for personal finance management. In addition to posting partner content from other web sites, it posts original stories by its team of staff journalists. It is ranked 21st by SimilarWeb on the list of largest news and media websites.    \n",
        "\n",
        "**Yahoo! Finance** recently added the feature to look at news surrounding cryptocurrency. It lists over 9,000 unique coins including Bitcoin and Ethereum.\"    \n",
        "\n",
        "*This notebook uses the [**yfinance** module by ranaroussi on Github](https://github.com/ranaroussi/yfinance) to demonstrate an approach to accessing many different types of financial statement and stock/coin trading data available on the **Yahoo! Finance** platform.*   \n",
        "\n"
      ],
      "metadata": {
        "id": "w6a6LOsJzWap"
      }
    },
    {
      "cell_type": "markdown",
      "source": [
        "\n",
        "\n",
        "---\n",
        "\n"
      ],
      "metadata": {
        "id": "NAHiQ_cr0guY"
      }
    },
    {
      "cell_type": "markdown",
      "source": [
        "##Contents    \n"
      ],
      "metadata": {
        "id": "a_pt7YZs95id"
      }
    },
    {
      "cell_type": "markdown",
      "source": [
        "[sec-edgar-downloader](https://github.com/jadchaar/sec-edgar-downloader) is a Python package for downloading company filings from the SEC EDGAR database. Searches can be conducted either by **stock ticker** or **Central Index Key (CIK)**. You can use the [SEC CIK lookup tool](https://www.sec.gov/edgar/searchedgar/cik.htm) if you cannot find an appropriate ticker."
      ],
      "metadata": {
        "id": "u-wvI9ft0hxZ"
      }
    },
    {
      "cell_type": "markdown",
      "source": [
        "\n",
        "> Lookup up stock ticker symbols using a company name search on [Yahoo! Finance](https://finance.yahoo.com/lookup) or by using the [search page on NasdaqTrader.com.](https://www.nasdaqtrader.com/trader.aspx?id=symbollookup)\n",
        "\n"
      ],
      "metadata": {
        "id": "AvwOK2mD0_op"
      }
    },
    {
      "cell_type": "markdown",
      "source": [
        "This notebook begins with two sections on accessing SEC Edgar data:    \n",
        "1. **Basic Usage** -- to use module imports and some straightforward code to do simple lookups    \n",
        "2. **Advanced Usage** -- alternate code and approach for more complex/advanced queries and document lookups    \n",
        "\n",
        "This notebook also has a third section on using the [**yfinance** module by ranaroussi on Github](https://github.com/ranaroussi/yfinance) to access ticker data from Yahoo Finance:    \n",
        "3. **yfinance** -- for information, historical market data, financial statements, analysts recommendations, option chains, and more on publicly traded stocks     \n",
        "\n",
        "Finally, there is an appendix in this notebook to describe the structure of `XBRL .xml` documents along with an example of parsing `XBRL .xml` with BeautifulSoup.  There are other methods for automatically extracting data from `XBRL .xml` documents such as the `python-xbrl` library.\n",
        "4. **APPENDIX: Parsing XBRL with Python** -- by Matt Scarpino, 02-Feb-2018 [blog post on CodeProject](https://www.codeproject.com/Articles/1227765/Parsing-XBRL-with-Python)     \n",
        "\n",
        "*please see the footnotes at the bottom of this notebook for disclaimers*    "
      ],
      "metadata": {
        "id": "yCToTb6p2KDn"
      }
    },
    {
      "cell_type": "markdown",
      "source": [
        "##Housekeeping    \n",
        "\n",
        "For the `sec-edgar-downloader` Basic and Advanced scripts, be sure to import the following module:    \n",
        "\n",
        "* from sec_edgar_downloader import Downloader    \n",
        "\n",
        "The `sec-edgdar-downloade` module can be imported using the following statement:    \n",
        "* `!pip install -U sec-edgar-downloader`    \n",
        "\n",
        "\n",
        "For the `yfinance` scripts, be sure to import the following module:     \n",
        "* import yfinance as yf    \n",
        "\n",
        "The `yfinance` module can be imported using the following statement:    \n",
        "* `!pip install yfinance --upgrade --no-cache-dir`    \n",
        "\n",
        "To use a custom requests session with `yfinance` (for example to cache calls to the API or customize the User-agent header), pass a `session= argument` to the Ticker constructor as in the following code:    \n",
        "\n",
        "\n",
        "```\n",
        "import requests_cache\n",
        "session = requests_cache.CachedSession('yfinance.cache')\n",
        "session.headers['User-agent'] = 'my-program/1.0'\n",
        "ticker = yf.Ticker('msft aapl goog', session=session)\n",
        "# The scraped response will be stored in the cache\n",
        "ticker.actions\n",
        "```\n",
        "\n",
        "And, if you intend to work with the example of parsing `XBRL .xml` files in the **APPENDIX: Parsing XBRL with Python**, then you will want to import `BeautifulSoup`, `requests`, and `sys` as in the following code:    \n",
        "\n",
        "\n",
        "```\n",
        "from bs4 import BeautifulSoup\n",
        "import requests\n",
        "import sys\n",
        "```\n",
        "\n"
      ],
      "metadata": {
        "id": "trA7jXrg_6Xy"
      }
    },
    {
      "cell_type": "code",
      "source": [
        "# importing sec-edgar-downloader for access to SEC Edgar data    \n",
        "!pip install -U sec-edgar-downloader    \n",
        "from sec_edgar_downloader import Downloader"
      ],
      "metadata": {
        "id": "Wmoc9F6PBX4M",
        "colab": {
          "base_uri": "https://localhost:8080/"
        },
        "outputId": "6f799d81-f548-46ca-c4b4-6823f81372e5"
      },
      "execution_count": 1,
      "outputs": [
        {
          "output_type": "stream",
          "name": "stdout",
          "text": [
            "Looking in indexes: https://pypi.org/simple, https://us-python.pkg.dev/colab-wheels/public/simple/\n",
            "Collecting sec-edgar-downloader\n",
            "  Downloading sec_edgar_downloader-4.3.0-py3-none-any.whl (13 kB)\n",
            "Requirement already satisfied: requests in /usr/local/lib/python3.7/dist-packages (from sec-edgar-downloader) (2.23.0)\n",
            "Collecting Faker\n",
            "  Downloading Faker-15.3.3-py3-none-any.whl (1.6 MB)\n",
            "\u001b[K     |████████████████████████████████| 1.6 MB 4.4 MB/s \n",
            "\u001b[?25hRequirement already satisfied: bs4 in /usr/local/lib/python3.7/dist-packages (from sec-edgar-downloader) (0.0.1)\n",
            "Requirement already satisfied: lxml in /usr/local/lib/python3.7/dist-packages (from sec-edgar-downloader) (4.9.1)\n",
            "Requirement already satisfied: beautifulsoup4 in /usr/local/lib/python3.7/dist-packages (from bs4->sec-edgar-downloader) (4.6.3)\n",
            "Requirement already satisfied: typing-extensions>=3.10.0.1 in /usr/local/lib/python3.7/dist-packages (from Faker->sec-edgar-downloader) (4.1.1)\n",
            "Requirement already satisfied: python-dateutil>=2.4 in /usr/local/lib/python3.7/dist-packages (from Faker->sec-edgar-downloader) (2.8.2)\n",
            "Requirement already satisfied: six>=1.5 in /usr/local/lib/python3.7/dist-packages (from python-dateutil>=2.4->Faker->sec-edgar-downloader) (1.15.0)\n",
            "Requirement already satisfied: certifi>=2017.4.17 in /usr/local/lib/python3.7/dist-packages (from requests->sec-edgar-downloader) (2022.9.24)\n",
            "Requirement already satisfied: urllib3!=1.25.0,!=1.25.1,<1.26,>=1.21.1 in /usr/local/lib/python3.7/dist-packages (from requests->sec-edgar-downloader) (1.24.3)\n",
            "Requirement already satisfied: chardet<4,>=3.0.2 in /usr/local/lib/python3.7/dist-packages (from requests->sec-edgar-downloader) (3.0.4)\n",
            "Requirement already satisfied: idna<3,>=2.5 in /usr/local/lib/python3.7/dist-packages (from requests->sec-edgar-downloader) (2.10)\n",
            "Installing collected packages: Faker, sec-edgar-downloader\n",
            "Successfully installed Faker-15.3.3 sec-edgar-downloader-4.3.0\n"
          ]
        }
      ]
    },
    {
      "cell_type": "code",
      "source": [
        "# importing yfinance as yf for access to yahoo! Finance data    \n",
        "!pip install yfinance --upgrade --no-cache-dir    \n",
        "import yfinance as yf "
      ],
      "metadata": {
        "id": "yQEU3BdeDV2G",
        "colab": {
          "base_uri": "https://localhost:8080/",
          "height": 520
        },
        "outputId": "5c72d000-d734-488e-bc39-eb5d7f671ac6"
      },
      "execution_count": 2,
      "outputs": [
        {
          "output_type": "stream",
          "name": "stdout",
          "text": [
            "Looking in indexes: https://pypi.org/simple, https://us-python.pkg.dev/colab-wheels/public/simple/\n",
            "Collecting yfinance\n",
            "  Downloading yfinance-0.1.87-py2.py3-none-any.whl (29 kB)\n",
            "Requirement already satisfied: multitasking>=0.0.7 in /usr/local/lib/python3.7/dist-packages (from yfinance) (0.0.11)\n",
            "Requirement already satisfied: numpy>=1.15 in /usr/local/lib/python3.7/dist-packages (from yfinance) (1.21.6)\n",
            "Requirement already satisfied: pandas>=0.24.0 in /usr/local/lib/python3.7/dist-packages (from yfinance) (1.3.5)\n",
            "Collecting requests>=2.26\n",
            "  Downloading requests-2.28.1-py3-none-any.whl (62 kB)\n",
            "\u001b[K     |████████████████████████████████| 62 kB 6.8 MB/s \n",
            "\u001b[?25hRequirement already satisfied: appdirs>=1.4.4 in /usr/local/lib/python3.7/dist-packages (from yfinance) (1.4.4)\n",
            "Requirement already satisfied: lxml>=4.5.1 in /usr/local/lib/python3.7/dist-packages (from yfinance) (4.9.1)\n",
            "Requirement already satisfied: pytz>=2017.3 in /usr/local/lib/python3.7/dist-packages (from pandas>=0.24.0->yfinance) (2022.6)\n",
            "Requirement already satisfied: python-dateutil>=2.7.3 in /usr/local/lib/python3.7/dist-packages (from pandas>=0.24.0->yfinance) (2.8.2)\n",
            "Requirement already satisfied: six>=1.5 in /usr/local/lib/python3.7/dist-packages (from python-dateutil>=2.7.3->pandas>=0.24.0->yfinance) (1.15.0)\n",
            "Requirement already satisfied: charset-normalizer<3,>=2 in /usr/local/lib/python3.7/dist-packages (from requests>=2.26->yfinance) (2.1.1)\n",
            "Requirement already satisfied: certifi>=2017.4.17 in /usr/local/lib/python3.7/dist-packages (from requests>=2.26->yfinance) (2022.9.24)\n",
            "Requirement already satisfied: urllib3<1.27,>=1.21.1 in /usr/local/lib/python3.7/dist-packages (from requests>=2.26->yfinance) (1.24.3)\n",
            "Requirement already satisfied: idna<4,>=2.5 in /usr/local/lib/python3.7/dist-packages (from requests>=2.26->yfinance) (2.10)\n",
            "Installing collected packages: requests, yfinance\n",
            "  Attempting uninstall: requests\n",
            "    Found existing installation: requests 2.23.0\n",
            "    Uninstalling requests-2.23.0:\n",
            "      Successfully uninstalled requests-2.23.0\n",
            "Successfully installed requests-2.28.1 yfinance-0.1.87\n"
          ]
        },
        {
          "output_type": "display_data",
          "data": {
            "application/vnd.colab-display-data+json": {
              "pip_warning": {
                "packages": [
                  "requests"
                ]
              }
            }
          },
          "metadata": {}
        }
      ]
    },
    {
      "cell_type": "code",
      "source": [
        "# importing beautifulsoup, requests, and sys for XBRL parsing example in the APPENDIX\n",
        "from bs4 import BeautifulSoup\n",
        "import requests\n",
        "import sys"
      ],
      "metadata": {
        "id": "WgeYmgKtVbEj"
      },
      "execution_count": 1,
      "outputs": []
    },
    {
      "cell_type": "code",
      "source": [
        "# import prettyprint (pprint) for easy-to-read output \n",
        "import pprint "
      ],
      "metadata": {
        "id": "03gIS5Hzs1lP"
      },
      "execution_count": 2,
      "outputs": []
    },
    {
      "cell_type": "markdown",
      "source": [
        "\n",
        "\n",
        "---\n",
        "\n"
      ],
      "metadata": {
        "id": "XA1cNCj2EgTf"
      }
    },
    {
      "cell_type": "markdown",
      "source": [
        "##1. Basic SEC Edgar (downloader) Usage     \n"
      ],
      "metadata": {
        "id": "X3RisArxEhFn"
      }
    },
    {
      "cell_type": "markdown",
      "source": [
        "This section demonstrates downloads of `HTML` documents for various SEC Edgar filings on publicly traded companies.    \n",
        "\n",
        "The official list of all SEC forms (documents) can be found on the [U.S. Securities and Exchange Commission - Forms List](https://www.sec.gov/forms).    \n",
        "\n",
        "Explanations of the content and use of some of the more frequently analyzed SEC Edgar submission forms is available on [Investopedia - SEC Filings: Forms You Need to Know page](https://www.investopedia.com/articles/fundamental-analysis/08/sec-forms.asp#:~:text=Among%20the%20most%20common%20SEC,114%2C%20and%20Foreign%20Investment%20Disclosures.).     "
      ],
      "metadata": {
        "id": "HwCm48-MMs-R"
      }
    },
    {
      "cell_type": "code",
      "execution_count": 3,
      "metadata": {
        "id": "tXXpGurzzRGA",
        "colab": {
          "base_uri": "https://localhost:8080/"
        },
        "outputId": "5904bbc9-e29c-4633-9923-01ce423538a7"
      },
      "outputs": [
        {
          "output_type": "execute_result",
          "data": {
            "text/plain": [
              "9"
            ]
          },
          "metadata": {},
          "execution_count": 3
        }
      ],
      "source": [
        "from sec_edgar_downloader import Downloader\n",
        "\n",
        "# Initialize a downloader instance. If no argument is passed\n",
        "# to the constructor, the package will download filings to\n",
        "# the current working directory.\n",
        "# dl = Downloader(\"/path/to/valid/save/location\") # to specify a path\n",
        "dl = Downloader()  # to use the current working directory   \n",
        "\n",
        "# Get all 8-K filings for Apple (ticker: AAPL)\n",
        "# dl.get(\"8-K\", \"AAPL\")  # this is lengthy\n",
        "\n",
        "# Get all 8-K filings for Apple, including filing amends (8-K/A)\n",
        "# dl.get(\"8-K\", \"AAPL\", include_amends=True) # this is lengthy\n",
        "\n",
        "# Get all 8-K filings for Apple after January 1, 2017 and before March 25, 2017\n",
        "# Note: after and before strings must be in the form \"YYYY-MM-DD\"\n",
        "dl.get(\"8-K\", \"AAPL\", after=\"2017-01-01\", before=\"2017-03-25\") # this is brief\n",
        "\n",
        "# Get the five most recent 8-K filings for Apple\n",
        "dl.get(\"8-K\", \"AAPL\", amount=5) # this is brief\n",
        "\n",
        "# Get all 10-K filings for Microsoft\n",
        "# dl.get(\"10-K\", \"MSFT\")  # this is moderate in length\n",
        "\n",
        "# Get the latest 10-K filing for Microsoft\n",
        "dl.get(\"10-K\", \"MSFT\", amount=1) # this is brief \n",
        "\n",
        "# Get all 10-Q filings for Visa\n",
        "# dl.get(\"10-Q\", \"V\") # this is very lengthy \n",
        "\n",
        "# Get all 13F-NT filings for the Vanguard Group\n",
        "dl.get(\"13F-NT\", \"0000102909\")  # this is brief\n",
        "\n",
        "# Get all 13F-HR filings for the Vanguard Group\n",
        "# dl.get(\"13F-HR\", \"0000102909\")  # this is lengthy \n",
        "\n",
        "# Get all SC 13G filings for Apple\n",
        "dl.get(\"SC 13G\", \"AAPL\") # this is brief\n",
        "\n",
        "# Get all SD filings for Apple\n",
        "dl.get(\"SD\", \"AAPL\") # this is brief "
      ]
    },
    {
      "cell_type": "markdown",
      "source": [
        "Let's look at SEC Edgar filings regarding insider trading of **Twitter (`TWTR`)**  stock.    \n",
        "\n",
        "We can wrap the `dl.get()` method with a `print()` statement to display a count of the number of documents downloaded.    \n"
      ],
      "metadata": {
        "id": "5x7AyBT-MZCT"
      }
    },
    {
      "cell_type": "code",
      "source": [
        "# from sec_edgar_downloader import Downloader\n",
        "\n",
        "# Initialize a downloader instance. If no argument is passed\n",
        "# to the constructor, the package will download filings to\n",
        "# the current working directory.\n",
        "# dl = Downloader(\"/path/to/valid/save/location\") # to specify a path\n",
        "# dl = Downloader()  # to use the current working directory   \n",
        "\n",
        "# Get the last 6 filings of Form-3 (Beneficial Ownership) for Twitter (ticker: TWTR)\n",
        "print('Form 3 downloads', dl.get(\"3\", \"TWTR\", amount=6))  # Is Elon Musk on any of these?\n",
        "\n",
        "# Get the last six month's worth of Form-4 (Changes in Ownership) for Twitter (ticker: TWTR)\n",
        "print('Form 4 downloads', dl.get(\"4\", \"TWTR\", after=\"2021-10-31\", before=\"2022-05-01\"))  # Is Elon Musk on any of these?\n",
        "\n",
        "# Get all of the filings of Form-5 (Annual Summary of #4) for Twitter (ticker: TWTR)\n",
        "print('Form 5 downloads', dl.get(\"5\", \"TWTR\"))  # Is Elon Musk on any of these?\n"
      ],
      "metadata": {
        "id": "nreaFHxnNwXZ",
        "colab": {
          "base_uri": "https://localhost:8080/"
        },
        "outputId": "369b473a-99fa-4d73-9d7f-e0770ef65025"
      },
      "execution_count": 4,
      "outputs": [
        {
          "output_type": "stream",
          "name": "stdout",
          "text": [
            "Form 3 downloads 6\n",
            "Form 4 downloads 42\n",
            "Form 5 downloads 0\n"
          ]
        }
      ]
    },
    {
      "cell_type": "markdown",
      "source": [
        "\n",
        "\n",
        "---\n",
        "\n"
      ],
      "metadata": {
        "id": "vH3XU3b0_3eK"
      }
    },
    {
      "cell_type": "markdown",
      "source": [
        "##2. Advanced SEC Edgar (downloader) Usage     \n",
        "\n"
      ],
      "metadata": {
        "id": "RuDxmf0Jw4lX"
      }
    },
    {
      "cell_type": "markdown",
      "source": [
        "While this section claims to support more advanced uses of SEC Edgar data, like the basic section, it is focused on downloading documents and not on parsing the data in those documents.  The more advanced features described in this section are somewhat more complex search terms for the selection of a document(s) to be downloaded.    \n"
      ],
      "metadata": {
        "id": "ZYu5ZtFdxDCM"
      }
    },
    {
      "cell_type": "code",
      "source": [
        "from sec_edgar_downloader import Downloader\n",
        "\n",
        "# Download filings to the current working directory\n",
        "dl = Downloader()\n",
        "\n",
        "# Get all Apple proxy statements that contain the term \"antitrust\"\n",
        "dl.get(\"DEF 14A\", \"AAPL\", query=\"antitrust\")\n",
        "\n",
        "# Get all 10-K filings for Microsoft without the filing details\n",
        "dl.get(\"10-K\", \"MSFT\", download_details=False)\n",
        "\n",
        "# Get the latest supported filings, if available, for Apple\n",
        "for filing_type in dl.supported_filings:\n",
        "    dl.get(filing_type, \"AAPL\", amount=1)\n",
        "\n",
        "# Get the latest supported filings, if available, for a\n",
        "# specified list of tickers and CIKs\n",
        "equity_ids = [\"AAPL\", \"MSFT\", \"0000102909\", \"V\", \"FB\"]\n",
        "for equity_id in equity_ids:\n",
        "    for filing_type in dl.supported_filings:\n",
        "        dl.get(filing_type, equity_id, amount=1)    \n"
      ],
      "metadata": {
        "id": "ybh1ejX8ziyk"
      },
      "execution_count": null,
      "outputs": []
    },
    {
      "cell_type": "markdown",
      "source": [
        "###Supported SEC Document File Types (forms)    \n",
        "\n",
        "The `sec-edgar-downloader` package supports downloading all SEC filing types (6-K, 8-K, 10-K, DEF 14A, S-1, and many others). You can learn more about the different SEC filing types [here](https://www.investopedia.com/articles/fundamental-analysis/08/sec-forms.asp)).     \n",
        "\n",
        "Below is an exhaustive list of all filings types that can be downloaded by the `sec-edgar-downloader` package:     \n",
        "\n",
        "*(explode the following cell for a detailed list of document form names)*"
      ],
      "metadata": {
        "id": "zvt-rcEH6gjK"
      }
    },
    {
      "cell_type": "markdown",
      "source": [
        "#### `sec-edgar-downloader` supported document form names "
      ],
      "metadata": {
        "id": "axUaO5eF7Qqa"
      }
    },
    {
      "cell_type": "markdown",
      "source": [
        "* 1     \n",
        "* 1-A     \n",
        "* 1-A POS     \n",
        "* 1-A-W     \n",
        "* 1-E     \n",
        "* 1-E AD     \n",
        "* 1-K     \n",
        "* 1-SA     \n",
        "* 1-U     \n",
        "* 1-Z     \n",
        "* 1-Z-W     \n",
        "* 10-12B     \n",
        "* 10-12G     \n",
        "* 10-D     \n",
        "* 10-K     \n",
        "* 10-KT     \n",
        "* 10-Q     \n",
        "* 10-QT     \n",
        "* 11-K     \n",
        "* 11-KT     \n",
        "* 13F-HR     \n",
        "* 13F-NT     \n",
        "* 13FCONP     \n",
        "* 144     \n",
        "* 15-12B     \n",
        "* 15-12G     \n",
        "* 15-15D     \n",
        "* 15F-12B     \n",
        "* 15F-12G     \n",
        "* 15F-15D     \n",
        "* 18-12B     \n",
        "* 18-K     \n",
        "* 19B-4E     \n",
        "* 2-A     \n",
        "* 2-AF     \n",
        "* 2-E     \n",
        "* 20-F     \n",
        "* 20FR12B     \n",
        "* 20FR12G     \n",
        "* 24F-2NT     \n",
        "* 25     \n",
        "* 25-NSE     \n",
        "* 253G1     \n",
        "* 253G2     \n",
        "* 253G3     \n",
        "* 253G4     \n",
        "* 3     \n",
        "* 305B2     \n",
        "* 34-12H     \n",
        "* 4     \n",
        "* 40-17F1     \n",
        "* 40-17F2     \n",
        "* 40-17G     \n",
        "* 40-17GCS     \n",
        "* 40-202A     \n",
        "* 40-203A     \n",
        "* 40-206A     \n",
        "* 40-24B2     \n",
        "* 40-33     \n",
        "* 40-6B     \n",
        "* 40-8B25     \n",
        "* 40-8F-2     \n",
        "* 40-APP     \n",
        "* 40-F     \n",
        "* 40-OIP     \n",
        "* 40FR12B     \n",
        "* 40FR12G     \n",
        "* 424A     \n",
        "* 424B1     \n",
        "* 424B2     \n",
        "* 424B3     \n",
        "* 424B4     \n",
        "* 424B5     \n",
        "* 424B7     \n",
        "* 424B8     \n",
        "* 424H     \n",
        "* 425     \n",
        "* 485APOS     \n",
        "* 485BPOS     \n",
        "* 485BXT     \n",
        "* 486APOS     \n",
        "* 486BPOS     \n",
        "* 486BXT     \n",
        "* 487     \n",
        "* 497     \n",
        "* 497AD     \n",
        "* 497H2     \n",
        "* 497J     \n",
        "* 497K     \n",
        "* 5     \n",
        "* 6-K     \n",
        "* 6B NTC     \n",
        "* 6B ORDR     \n",
        "* 8-A12B     \n",
        "* 8-A12G     \n",
        "* 8-K     \n",
        "* 8-K12B     \n",
        "* 8-K12G3     \n",
        "* 8-K15D5     \n",
        "* 8-M     \n",
        "* 8F-2 NTC     \n",
        "* 8F-2 ORDR     \n",
        "* 9-M     \n",
        "* ABS-15G     \n",
        "* ABS-EE     \n",
        "* ADN-MTL     \n",
        "* ADV-E     \n",
        "* ADV-H-C     \n",
        "* ADV-H-T     \n",
        "* ADV-NR     \n",
        "* ANNLRPT     \n",
        "* APP NTC     \n",
        "* APP ORDR     \n",
        "* APP WD     \n",
        "* APP WDG     \n",
        "* ARS     \n",
        "* ATS-N     \n",
        "* ATS-N-C     \n",
        "* ATS-N/UA     \n",
        "* AW     \n",
        "* AW WD     \n",
        "* C     \n",
        "* C-AR     \n",
        "* C-AR-W     \n",
        "* C-TR     \n",
        "* C-TR-W     \n",
        "* C-U     \n",
        "* C-U-W     \n",
        "* C-W     \n",
        "* CB     \n",
        "* CERT     \n",
        "* CERTARCA     \n",
        "* CERTBATS     \n",
        "* CERTCBO     \n",
        "* CERTNAS     \n",
        "* CERTNYS     \n",
        "* CERTPAC     \n",
        "* CFPORTAL     \n",
        "* CFPORTAL-W     \n",
        "* CORRESP     \n",
        "* CT ORDER     \n",
        "* D     \n",
        "* DEF 14A     \n",
        "* DEF 14C     \n",
        "* DEFA14A     \n",
        "* DEFA14C     \n",
        "* DEFC14A     \n",
        "* DEFC14C     \n",
        "* DEFM14A     \n",
        "* DEFM14C     \n",
        "* DEFN14A     \n",
        "* DEFR14A     \n",
        "* DEFR14C     \n",
        "* DEL AM     \n",
        "* DFAN14A     \n",
        "* DFRN14A     \n",
        "* DOS     \n",
        "* DOSLTR     \n",
        "* DRS     \n",
        "* DRSLTR     \n",
        "* DSTRBRPT     \n",
        "* EFFECT     \n",
        "* F-1     \n",
        "* F-10     \n",
        "* F-10EF     \n",
        "* F-10POS     \n",
        "* F-1MEF     \n",
        "* F-3     \n",
        "* F-3ASR     \n",
        "* F-3D     \n",
        "* F-3DPOS     \n",
        "* F-3MEF     \n",
        "* F-4     \n",
        "* F-4 POS     \n",
        "* F-4MEF     \n",
        "* F-6     \n",
        "* F-6 POS     \n",
        "* F-6EF     \n",
        "* F-7     \n",
        "* F-7 POS     \n",
        "* F-8     \n",
        "* F-8 POS     \n",
        "* F-80     \n",
        "* F-80POS     \n",
        "* F-9     \n",
        "* F-9 POS     \n",
        "* F-N     \n",
        "* F-X     \n",
        "* FOCUSN     \n",
        "* FWP     \n",
        "* G-405     \n",
        "* G-405N     \n",
        "* G-FIN     \n",
        "* G-FINW     \n",
        "* IRANNOTICE     \n",
        "* MA     \n",
        "* MA-A     \n",
        "* MA-I     \n",
        "* MA-W     \n",
        "* MSD     \n",
        "* MSDCO     \n",
        "* MSDW     \n",
        "* N-1     \n",
        "* N-14     \n",
        "* N-14 8C     \n",
        "* N-14MEF     \n",
        "* N-18F1     \n",
        "* N-1A     \n",
        "* N-2     \n",
        "* N-23C-2     \n",
        "* N-23C3A     \n",
        "* N-23C3B     \n",
        "* N-23C3C     \n",
        "* N-2MEF     \n",
        "* N-30B-2     \n",
        "* N-30D     \n",
        "* N-4     \n",
        "* N-5     \n",
        "* N-54A     \n",
        "* N-54C     \n",
        "* N-6     \n",
        "* N-6F     \n",
        "* N-8A     \n",
        "* N-8B-2     \n",
        "* N-8F     \n",
        "* N-8F NTC     \n",
        "* N-8F ORDR     \n",
        "* N-CEN     \n",
        "* N-CR     \n",
        "* N-CSR     \n",
        "* N-CSRS     \n",
        "* N-MFP     \n",
        "* N-MFP1     \n",
        "* N-MFP2     \n",
        "* N-PX     \n",
        "* N-Q     \n",
        "* NO ACT     \n",
        "* NPORT-EX     \n",
        "* NPORT-NP     \n",
        "* NPORT-P     \n",
        "* NRSRO-CE     \n",
        "* NRSRO-UPD     \n",
        "* NSAR-A     \n",
        "* NSAR-AT     \n",
        "* NSAR-B     \n",
        "* NSAR-BT     \n",
        "* NSAR-U     \n",
        "* NT 10-D     \n",
        "* NT 10-K     \n",
        "* NT 10-Q     \n",
        "* NT 11-K     \n",
        "* NT 20-F     \n",
        "* NT N-CEN     \n",
        "* NT N-MFP     \n",
        "* NT N-MFP1     \n",
        "* NT N-MFP2     \n",
        "* NT NPORT-EX     \n",
        "* NT NPORT-P     \n",
        "* NT-NCEN     \n",
        "* NT-NCSR     \n",
        "* NT-NSAR     \n",
        "* NTFNCEN     \n",
        "* NTFNCSR     \n",
        "* NTFNSAR     \n",
        "* NTN 10D     \n",
        "* NTN 10K     \n",
        "* NTN 10Q     \n",
        "* NTN 20F     \n",
        "* OIP NTC     \n",
        "* OIP ORDR     \n",
        "* POS 8C     \n",
        "* POS AM     \n",
        "* POS AMI     \n",
        "* POS EX     \n",
        "* POS462B     \n",
        "* POS462C     \n",
        "* POSASR     \n",
        "* PRE 14A     \n",
        "* PRE 14C     \n",
        "* PREC14A     \n",
        "* PREC14C     \n",
        "* PREM14A     \n",
        "* PREM14C     \n",
        "* PREN14A     \n",
        "* PRER14A     \n",
        "* PRER14C     \n",
        "* PRRN14A     \n",
        "* PX14A6G     \n",
        "* PX14A6N     \n",
        "* QRTLYRPT     \n",
        "* QUALIF     \n",
        "* REG-NR     \n",
        "* REVOKED     \n",
        "* RW     \n",
        "* RW WD     \n",
        "* S-1     \n",
        "* S-11     \n",
        "* S-11MEF     \n",
        "* S-1MEF     \n",
        "* S-20     \n",
        "* S-3     \n",
        "* S-3ASR     \n",
        "* S-3D     \n",
        "* S-3DPOS     \n",
        "* S-3MEF     \n",
        "* S-4     \n",
        "* S-4 POS     \n",
        "* S-4EF     \n",
        "* S-4MEF     \n",
        "* S-6     \n",
        "* S-8     \n",
        "* S-8 POS     \n",
        "* S-B     \n",
        "* S-BMEF     \n",
        "* SC 13D     \n",
        "* SC 13E1     \n",
        "* SC 13E3     \n",
        "* SC 13G     \n",
        "* SC 14D9     \n",
        "* SC 14F1     \n",
        "* SC 14N     \n",
        "* SC TO-C     \n",
        "* SC TO-I     \n",
        "* SC TO-T     \n",
        "* SC13E4F     \n",
        "* SC14D1F     \n",
        "* SC14D9C     \n",
        "* SC14D9F     \n",
        "* SD     \n",
        "* SDR     \n",
        "* SE     \n",
        "* SEC ACTION     \n",
        "* SEC STAFF ACTION     \n",
        "* SEC STAFF LETTER     \n",
        "* SF-1     \n",
        "* SF-3     \n",
        "* SL     \n",
        "* SP 15D2     \n",
        "* STOP ORDER     \n",
        "* SUPPL     \n",
        "* T-3     \n",
        "* TA-1     \n",
        "* TA-2     \n",
        "* TA-W     \n",
        "* TACO     \n",
        "* TH     \n",
        "* TTW     \n",
        "* UNDER     \n",
        "* UPLOAD     \n",
        "* WDL-REQ     \n",
        "* X-17A-5     \n"
      ],
      "metadata": {
        "id": "Xw5p1fLQ8gE_"
      }
    },
    {
      "cell_type": "markdown",
      "source": [
        "\n",
        "\n",
        "---\n",
        "\n"
      ],
      "metadata": {
        "id": "5YS8gsRxUqnz"
      }
    },
    {
      "cell_type": "markdown",
      "source": [
        "##3. `yfinance` for Yahoo! Finance     \n",
        "\n"
      ],
      "metadata": {
        "id": "16WQYK8Q6aGY"
      }
    },
    {
      "cell_type": "markdown",
      "source": [
        "`yfinance` offers a threaded and Pythonic way to download market data from **Yahoo! Finance**    \n",
        "\n",
        "**Legal note:**    \n",
        "\n",
        "**Yahoo!, Y!Finance, and Yahoo! Finance** are registered trademarks of Yahoo, Inc.\n",
        "\n",
        "`yfinance` is not affiliated, endorsed, or vetted by Yahoo, Inc. It's an open-source tool that uses Yahoo's publicly available APIs, and is intended for research and educational purposes.\n",
        "\n",
        "You should refer to Yahoo!'s terms of use ([here](https://policies.yahoo.com/us/en/yahoo/terms/product-atos/apiforydn/index.htm), [here](https://legal.yahoo.com/us/en/yahoo/terms/otos/index.html), and [here](https://policies.yahoo.com/us/en/yahoo/terms/index.htm)) for details on your rights to use the actual data downloaded. **Remember - the Yahoo! Finance API is intended for personal use only.**    \n"
      ],
      "metadata": {
        "id": "L4cBsn6h-afw"
      }
    },
    {
      "cell_type": "markdown",
      "source": [
        "###Introducing the `Ticker()` module:    \n",
        "\n",
        "The `Ticker()` module allows you get market and meta data for a security, using a Pythonic way:    \n"
      ],
      "metadata": {
        "id": "XwSFqvQR_abR"
      }
    },
    {
      "cell_type": "code",
      "source": [
        "import yfinance as yf\n",
        "\n",
        "msft = yf.Ticker(\"MSFT\")\n",
        "print(msft)\n"
      ],
      "metadata": {
        "id": "MsSdx-Wc_xR1",
        "colab": {
          "base_uri": "https://localhost:8080/"
        },
        "outputId": "9a382143-1be0-4abf-eb12-8a2fbb2f2f83"
      },
      "execution_count": 6,
      "outputs": [
        {
          "output_type": "stream",
          "name": "stdout",
          "text": [
            "yfinance.Ticker object <MSFT>\n"
          ]
        }
      ]
    },
    {
      "cell_type": "code",
      "source": [
        "# get stock info\n",
        "msft.info"
      ],
      "metadata": {
        "id": "lZyyoRl7_3Nn",
        "colab": {
          "base_uri": "https://localhost:8080/"
        },
        "outputId": "d7c087e9-dc5c-484b-9ed2-8eaa3a39a82c"
      },
      "execution_count": 7,
      "outputs": [
        {
          "output_type": "execute_result",
          "data": {
            "text/plain": [
              "{'zip': '98052-6399',\n",
              " 'sector': 'Technology',\n",
              " 'fullTimeEmployees': 221000,\n",
              " 'longBusinessSummary': 'Microsoft Corporation develops, licenses, and supports software, services, devices, and solutions worldwide. The company operates in three segments: Productivity and Business Processes, Intelligent Cloud, and More Personal Computing. The Productivity and Business Processes segment offers Office, Exchange, SharePoint, Microsoft Teams, Office 365 Security and Compliance, Microsoft Viva, and Skype for Business; Skype, Outlook.com, OneDrive, and LinkedIn; and Dynamics 365, a set of cloud-based and on-premises business solutions for organizations and enterprise divisions. The Intelligent Cloud segment licenses SQL, Windows Servers, Visual Studio, System Center, and related Client Access Licenses; GitHub that provides a collaboration platform and code hosting service for developers; Nuance provides healthcare and enterprise AI solutions; and Azure, a cloud platform. It also offers enterprise support, Microsoft consulting, and nuance professional services to assist customers in developing, deploying, and managing Microsoft server and desktop solutions; and training and certification on Microsoft products. The More Personal Computing segment provides Windows original equipment manufacturer (OEM) licensing and other non-volume licensing of the Windows operating system; Windows Commercial, such as volume licensing of the Windows operating system, Windows cloud services, and other Windows commercial offerings; patent licensing; and Windows Internet of Things. It also offers Surface, PC accessories, PCs, tablets, gaming and entertainment consoles, and other devices; Gaming, including Xbox hardware, and Xbox content and services; video games and third-party video game royalties; and Search, including Bing and Microsoft advertising. The company sells its products through OEMs, distributors, and resellers; and directly through digital marketplaces, online stores, and retail stores. Microsoft Corporation was founded in 1975 and is headquartered in Redmond, Washington.',\n",
              " 'city': 'Redmond',\n",
              " 'phone': '425 882 8080',\n",
              " 'state': 'WA',\n",
              " 'country': 'United States',\n",
              " 'companyOfficers': [],\n",
              " 'website': 'https://www.microsoft.com',\n",
              " 'maxAge': 1,\n",
              " 'address1': 'One Microsoft Way',\n",
              " 'fax': '425 706 7329',\n",
              " 'industry': 'Software—Infrastructure',\n",
              " 'ebitdaMargins': 0.48672,\n",
              " 'profitMargins': 0.34366,\n",
              " 'grossMargins': 0.6826,\n",
              " 'operatingCashflow': 87693000704,\n",
              " 'revenueGrowth': 0.106,\n",
              " 'operatingMargins': 0.41691002,\n",
              " 'ebitda': 98841001984,\n",
              " 'targetLowPrice': 234,\n",
              " 'recommendationKey': 'buy',\n",
              " 'grossProfits': 135620000000,\n",
              " 'freeCashflow': 46155874304,\n",
              " 'targetMedianPrice': 290,\n",
              " 'currentPrice': 240.33,\n",
              " 'earningsGrowth': -0.133,\n",
              " 'currentRatio': 1.84,\n",
              " 'returnOnAssets': 0.15223,\n",
              " 'numberOfAnalystOpinions': 45,\n",
              " 'targetMeanPrice': 296.91,\n",
              " 'debtToEquity': 44.442,\n",
              " 'returnOnEquity': 0.42875,\n",
              " 'targetHighPrice': 411,\n",
              " 'totalCash': 107244003328,\n",
              " 'totalDebt': 77136003072,\n",
              " 'totalRevenue': 203074994176,\n",
              " 'totalCashPerShare': 14.387,\n",
              " 'financialCurrency': 'USD',\n",
              " 'revenuePerShare': 27.142,\n",
              " 'quickRatio': 1.585,\n",
              " 'recommendationMean': 1.8,\n",
              " 'exchange': 'NMS',\n",
              " 'shortName': 'Microsoft Corporation',\n",
              " 'longName': 'Microsoft Corporation',\n",
              " 'exchangeTimezoneName': 'America/New_York',\n",
              " 'exchangeTimezoneShortName': 'EST',\n",
              " 'isEsgPopulated': False,\n",
              " 'gmtOffSetMilliseconds': '-18000000',\n",
              " 'quoteType': 'EQUITY',\n",
              " 'symbol': 'MSFT',\n",
              " 'messageBoardId': 'finmb_21835',\n",
              " 'market': 'us_market',\n",
              " 'annualHoldingsTurnover': None,\n",
              " 'enterpriseToRevenue': 8.726,\n",
              " 'beta3Year': None,\n",
              " 'enterpriseToEbitda': 17.929,\n",
              " '52WeekChange': -0.27190375,\n",
              " 'morningStarRiskRating': None,\n",
              " 'forwardEps': 11.18,\n",
              " 'revenueQuarterlyGrowth': None,\n",
              " 'sharesOutstanding': 7454470144,\n",
              " 'fundInceptionDate': None,\n",
              " 'annualReportExpenseRatio': None,\n",
              " 'totalAssets': None,\n",
              " 'bookValue': 23.276,\n",
              " 'sharesShort': 34590231,\n",
              " 'sharesPercentSharesOut': 0.0046,\n",
              " 'fundFamily': None,\n",
              " 'lastFiscalYearEnd': 1656547200,\n",
              " 'heldPercentInstitutions': 0.72245,\n",
              " 'netIncomeToCommon': 69788999680,\n",
              " 'trailingEps': 9.29,\n",
              " 'lastDividendValue': 0.68,\n",
              " 'SandP52WeekChange': -0.123067796,\n",
              " 'priceToBook': 10.325228,\n",
              " 'heldPercentInsiders': 0.00059999997,\n",
              " 'nextFiscalYearEnd': 1719705600,\n",
              " 'yield': None,\n",
              " 'mostRecentQuarter': 1664496000,\n",
              " 'shortRatio': 1.01,\n",
              " 'sharesShortPreviousMonthDate': 1665705600,\n",
              " 'floatShares': 7447913208,\n",
              " 'beta': 0.91984,\n",
              " 'enterpriseValue': 1772085444608,\n",
              " 'priceHint': 2,\n",
              " 'threeYearAverageReturn': None,\n",
              " 'lastSplitDate': 1045526400,\n",
              " 'lastSplitFactor': '2:1',\n",
              " 'legalType': None,\n",
              " 'lastDividendDate': 1668556800,\n",
              " 'morningStarOverallRating': None,\n",
              " 'earningsQuarterlyGrowth': -0.144,\n",
              " 'priceToSalesTrailing12Months': 8.822026,\n",
              " 'dateShortInterest': 1668470400,\n",
              " 'pegRatio': 1.95,\n",
              " 'ytdReturn': None,\n",
              " 'forwardPE': 21.496422,\n",
              " 'lastCapGain': None,\n",
              " 'shortPercentOfFloat': 0.0046,\n",
              " 'sharesShortPriorMonth': 38213792,\n",
              " 'impliedSharesOutstanding': 0,\n",
              " 'category': None,\n",
              " 'fiveYearAverageReturn': None,\n",
              " 'previousClose': 241.76,\n",
              " 'regularMarketOpen': 241.4,\n",
              " 'twoHundredDayAverage': 265.83084,\n",
              " 'trailingAnnualDividendYield': 0.010506287,\n",
              " 'payoutRatio': 0.26700002,\n",
              " 'volume24Hr': None,\n",
              " 'regularMarketDayHigh': 242.78,\n",
              " 'navPrice': None,\n",
              " 'averageDailyVolume10Day': 22369550,\n",
              " 'regularMarketPreviousClose': 241.76,\n",
              " 'fiftyDayAverage': 237.0218,\n",
              " 'trailingAnnualDividendRate': 2.54,\n",
              " 'open': 241.4,\n",
              " 'toCurrency': None,\n",
              " 'averageVolume10days': 22369550,\n",
              " 'expireDate': None,\n",
              " 'algorithm': None,\n",
              " 'dividendRate': 2.72,\n",
              " 'exDividendDate': 1668556800,\n",
              " 'circulatingSupply': None,\n",
              " 'startDate': None,\n",
              " 'regularMarketDayLow': 238.21,\n",
              " 'currency': 'USD',\n",
              " 'trailingPE': 25.869753,\n",
              " 'regularMarketVolume': 17956313,\n",
              " 'lastMarket': None,\n",
              " 'maxSupply': None,\n",
              " 'openInterest': None,\n",
              " 'marketCap': 1791532859392,\n",
              " 'volumeAllCurrencies': None,\n",
              " 'strikePrice': None,\n",
              " 'averageVolume': 29194215,\n",
              " 'dayLow': 238.21,\n",
              " 'ask': 240.59,\n",
              " 'askSize': 1200,\n",
              " 'volume': 17956313,\n",
              " 'fiftyTwoWeekHigh': 344.3,\n",
              " 'fromCurrency': None,\n",
              " 'fiveYearAvgDividendYield': 1.18,\n",
              " 'fiftyTwoWeekLow': 213.43,\n",
              " 'bid': 240.21,\n",
              " 'tradeable': False,\n",
              " 'dividendYield': 0.0113,\n",
              " 'bidSize': 1100,\n",
              " 'dayHigh': 242.78,\n",
              " 'coinMarketCapLink': None,\n",
              " 'regularMarketPrice': 240.33,\n",
              " 'preMarketPrice': 241.37,\n",
              " 'logo_url': 'https://logo.clearbit.com/microsoft.com',\n",
              " 'trailingPegRatio': 2.1381}"
            ]
          },
          "metadata": {},
          "execution_count": 7
        }
      ]
    },
    {
      "cell_type": "code",
      "source": [
        "# get historical market data\n",
        "msft.history(period=\"max\")"
      ],
      "metadata": {
        "id": "PShYIcgi_906",
        "colab": {
          "base_uri": "https://localhost:8080/",
          "height": 455
        },
        "outputId": "2b101150-592a-4012-b2ed-0e812e21e299"
      },
      "execution_count": 8,
      "outputs": [
        {
          "output_type": "execute_result",
          "data": {
            "text/plain": [
              "                                 Open        High         Low       Close  \\\n",
              "Date                                                                        \n",
              "1986-03-13 00:00:00-05:00    0.055380    0.063524    0.055380    0.060809   \n",
              "1986-03-14 00:00:00-05:00    0.060809    0.064067    0.060809    0.062980   \n",
              "1986-03-17 00:00:00-05:00    0.062980    0.064609    0.062980    0.064067   \n",
              "1986-03-18 00:00:00-05:00    0.064067    0.064610    0.061894    0.062437   \n",
              "1986-03-19 00:00:00-05:00    0.062437    0.062980    0.060809    0.061351   \n",
              "...                               ...         ...         ...         ...   \n",
              "2022-11-22 00:00:00-05:00  243.589996  245.309998  240.710007  245.029999   \n",
              "2022-11-23 00:00:00-05:00  245.110001  248.279999  244.270004  247.580002   \n",
              "2022-11-25 00:00:00-05:00  247.309998  248.699997  246.729996  247.490005   \n",
              "2022-11-28 00:00:00-05:00  246.080002  246.649994  240.800003  241.759995   \n",
              "2022-11-29 00:00:00-05:00  241.399994  242.789993  238.210007  240.330002   \n",
              "\n",
              "                               Volume  Dividends  Stock Splits  \n",
              "Date                                                            \n",
              "1986-03-13 00:00:00-05:00  1031788800        0.0           0.0  \n",
              "1986-03-14 00:00:00-05:00   308160000        0.0           0.0  \n",
              "1986-03-17 00:00:00-05:00   133171200        0.0           0.0  \n",
              "1986-03-18 00:00:00-05:00    67766400        0.0           0.0  \n",
              "1986-03-19 00:00:00-05:00    47894400        0.0           0.0  \n",
              "...                               ...        ...           ...  \n",
              "2022-11-22 00:00:00-05:00    19665700        0.0           0.0  \n",
              "2022-11-23 00:00:00-05:00    19508500        0.0           0.0  \n",
              "2022-11-25 00:00:00-05:00     9200800        0.0           0.0  \n",
              "2022-11-28 00:00:00-05:00    24778200        0.0           0.0  \n",
              "2022-11-29 00:00:00-05:00    17948900        0.0           0.0  \n",
              "\n",
              "[9255 rows x 7 columns]"
            ],
            "text/html": [
              "\n",
              "  <div id=\"df-7340abc9-03e4-45c8-b37c-c3db4d7b1476\">\n",
              "    <div class=\"colab-df-container\">\n",
              "      <div>\n",
              "<style scoped>\n",
              "    .dataframe tbody tr th:only-of-type {\n",
              "        vertical-align: middle;\n",
              "    }\n",
              "\n",
              "    .dataframe tbody tr th {\n",
              "        vertical-align: top;\n",
              "    }\n",
              "\n",
              "    .dataframe thead th {\n",
              "        text-align: right;\n",
              "    }\n",
              "</style>\n",
              "<table border=\"1\" class=\"dataframe\">\n",
              "  <thead>\n",
              "    <tr style=\"text-align: right;\">\n",
              "      <th></th>\n",
              "      <th>Open</th>\n",
              "      <th>High</th>\n",
              "      <th>Low</th>\n",
              "      <th>Close</th>\n",
              "      <th>Volume</th>\n",
              "      <th>Dividends</th>\n",
              "      <th>Stock Splits</th>\n",
              "    </tr>\n",
              "    <tr>\n",
              "      <th>Date</th>\n",
              "      <th></th>\n",
              "      <th></th>\n",
              "      <th></th>\n",
              "      <th></th>\n",
              "      <th></th>\n",
              "      <th></th>\n",
              "      <th></th>\n",
              "    </tr>\n",
              "  </thead>\n",
              "  <tbody>\n",
              "    <tr>\n",
              "      <th>1986-03-13 00:00:00-05:00</th>\n",
              "      <td>0.055380</td>\n",
              "      <td>0.063524</td>\n",
              "      <td>0.055380</td>\n",
              "      <td>0.060809</td>\n",
              "      <td>1031788800</td>\n",
              "      <td>0.0</td>\n",
              "      <td>0.0</td>\n",
              "    </tr>\n",
              "    <tr>\n",
              "      <th>1986-03-14 00:00:00-05:00</th>\n",
              "      <td>0.060809</td>\n",
              "      <td>0.064067</td>\n",
              "      <td>0.060809</td>\n",
              "      <td>0.062980</td>\n",
              "      <td>308160000</td>\n",
              "      <td>0.0</td>\n",
              "      <td>0.0</td>\n",
              "    </tr>\n",
              "    <tr>\n",
              "      <th>1986-03-17 00:00:00-05:00</th>\n",
              "      <td>0.062980</td>\n",
              "      <td>0.064609</td>\n",
              "      <td>0.062980</td>\n",
              "      <td>0.064067</td>\n",
              "      <td>133171200</td>\n",
              "      <td>0.0</td>\n",
              "      <td>0.0</td>\n",
              "    </tr>\n",
              "    <tr>\n",
              "      <th>1986-03-18 00:00:00-05:00</th>\n",
              "      <td>0.064067</td>\n",
              "      <td>0.064610</td>\n",
              "      <td>0.061894</td>\n",
              "      <td>0.062437</td>\n",
              "      <td>67766400</td>\n",
              "      <td>0.0</td>\n",
              "      <td>0.0</td>\n",
              "    </tr>\n",
              "    <tr>\n",
              "      <th>1986-03-19 00:00:00-05:00</th>\n",
              "      <td>0.062437</td>\n",
              "      <td>0.062980</td>\n",
              "      <td>0.060809</td>\n",
              "      <td>0.061351</td>\n",
              "      <td>47894400</td>\n",
              "      <td>0.0</td>\n",
              "      <td>0.0</td>\n",
              "    </tr>\n",
              "    <tr>\n",
              "      <th>...</th>\n",
              "      <td>...</td>\n",
              "      <td>...</td>\n",
              "      <td>...</td>\n",
              "      <td>...</td>\n",
              "      <td>...</td>\n",
              "      <td>...</td>\n",
              "      <td>...</td>\n",
              "    </tr>\n",
              "    <tr>\n",
              "      <th>2022-11-22 00:00:00-05:00</th>\n",
              "      <td>243.589996</td>\n",
              "      <td>245.309998</td>\n",
              "      <td>240.710007</td>\n",
              "      <td>245.029999</td>\n",
              "      <td>19665700</td>\n",
              "      <td>0.0</td>\n",
              "      <td>0.0</td>\n",
              "    </tr>\n",
              "    <tr>\n",
              "      <th>2022-11-23 00:00:00-05:00</th>\n",
              "      <td>245.110001</td>\n",
              "      <td>248.279999</td>\n",
              "      <td>244.270004</td>\n",
              "      <td>247.580002</td>\n",
              "      <td>19508500</td>\n",
              "      <td>0.0</td>\n",
              "      <td>0.0</td>\n",
              "    </tr>\n",
              "    <tr>\n",
              "      <th>2022-11-25 00:00:00-05:00</th>\n",
              "      <td>247.309998</td>\n",
              "      <td>248.699997</td>\n",
              "      <td>246.729996</td>\n",
              "      <td>247.490005</td>\n",
              "      <td>9200800</td>\n",
              "      <td>0.0</td>\n",
              "      <td>0.0</td>\n",
              "    </tr>\n",
              "    <tr>\n",
              "      <th>2022-11-28 00:00:00-05:00</th>\n",
              "      <td>246.080002</td>\n",
              "      <td>246.649994</td>\n",
              "      <td>240.800003</td>\n",
              "      <td>241.759995</td>\n",
              "      <td>24778200</td>\n",
              "      <td>0.0</td>\n",
              "      <td>0.0</td>\n",
              "    </tr>\n",
              "    <tr>\n",
              "      <th>2022-11-29 00:00:00-05:00</th>\n",
              "      <td>241.399994</td>\n",
              "      <td>242.789993</td>\n",
              "      <td>238.210007</td>\n",
              "      <td>240.330002</td>\n",
              "      <td>17948900</td>\n",
              "      <td>0.0</td>\n",
              "      <td>0.0</td>\n",
              "    </tr>\n",
              "  </tbody>\n",
              "</table>\n",
              "<p>9255 rows × 7 columns</p>\n",
              "</div>\n",
              "      <button class=\"colab-df-convert\" onclick=\"convertToInteractive('df-7340abc9-03e4-45c8-b37c-c3db4d7b1476')\"\n",
              "              title=\"Convert this dataframe to an interactive table.\"\n",
              "              style=\"display:none;\">\n",
              "        \n",
              "  <svg xmlns=\"http://www.w3.org/2000/svg\" height=\"24px\"viewBox=\"0 0 24 24\"\n",
              "       width=\"24px\">\n",
              "    <path d=\"M0 0h24v24H0V0z\" fill=\"none\"/>\n",
              "    <path d=\"M18.56 5.44l.94 2.06.94-2.06 2.06-.94-2.06-.94-.94-2.06-.94 2.06-2.06.94zm-11 1L8.5 8.5l.94-2.06 2.06-.94-2.06-.94L8.5 2.5l-.94 2.06-2.06.94zm10 10l.94 2.06.94-2.06 2.06-.94-2.06-.94-.94-2.06-.94 2.06-2.06.94z\"/><path d=\"M17.41 7.96l-1.37-1.37c-.4-.4-.92-.59-1.43-.59-.52 0-1.04.2-1.43.59L10.3 9.45l-7.72 7.72c-.78.78-.78 2.05 0 2.83L4 21.41c.39.39.9.59 1.41.59.51 0 1.02-.2 1.41-.59l7.78-7.78 2.81-2.81c.8-.78.8-2.07 0-2.86zM5.41 20L4 18.59l7.72-7.72 1.47 1.35L5.41 20z\"/>\n",
              "  </svg>\n",
              "      </button>\n",
              "      \n",
              "  <style>\n",
              "    .colab-df-container {\n",
              "      display:flex;\n",
              "      flex-wrap:wrap;\n",
              "      gap: 12px;\n",
              "    }\n",
              "\n",
              "    .colab-df-convert {\n",
              "      background-color: #E8F0FE;\n",
              "      border: none;\n",
              "      border-radius: 50%;\n",
              "      cursor: pointer;\n",
              "      display: none;\n",
              "      fill: #1967D2;\n",
              "      height: 32px;\n",
              "      padding: 0 0 0 0;\n",
              "      width: 32px;\n",
              "    }\n",
              "\n",
              "    .colab-df-convert:hover {\n",
              "      background-color: #E2EBFA;\n",
              "      box-shadow: 0px 1px 2px rgba(60, 64, 67, 0.3), 0px 1px 3px 1px rgba(60, 64, 67, 0.15);\n",
              "      fill: #174EA6;\n",
              "    }\n",
              "\n",
              "    [theme=dark] .colab-df-convert {\n",
              "      background-color: #3B4455;\n",
              "      fill: #D2E3FC;\n",
              "    }\n",
              "\n",
              "    [theme=dark] .colab-df-convert:hover {\n",
              "      background-color: #434B5C;\n",
              "      box-shadow: 0px 1px 3px 1px rgba(0, 0, 0, 0.15);\n",
              "      filter: drop-shadow(0px 1px 2px rgba(0, 0, 0, 0.3));\n",
              "      fill: #FFFFFF;\n",
              "    }\n",
              "  </style>\n",
              "\n",
              "      <script>\n",
              "        const buttonEl =\n",
              "          document.querySelector('#df-7340abc9-03e4-45c8-b37c-c3db4d7b1476 button.colab-df-convert');\n",
              "        buttonEl.style.display =\n",
              "          google.colab.kernel.accessAllowed ? 'block' : 'none';\n",
              "\n",
              "        async function convertToInteractive(key) {\n",
              "          const element = document.querySelector('#df-7340abc9-03e4-45c8-b37c-c3db4d7b1476');\n",
              "          const dataTable =\n",
              "            await google.colab.kernel.invokeFunction('convertToInteractive',\n",
              "                                                     [key], {});\n",
              "          if (!dataTable) return;\n",
              "\n",
              "          const docLinkHtml = 'Like what you see? Visit the ' +\n",
              "            '<a target=\"_blank\" href=https://colab.research.google.com/notebooks/data_table.ipynb>data table notebook</a>'\n",
              "            + ' to learn more about interactive tables.';\n",
              "          element.innerHTML = '';\n",
              "          dataTable['output_type'] = 'display_data';\n",
              "          await google.colab.output.renderOutput(dataTable, element);\n",
              "          const docLink = document.createElement('div');\n",
              "          docLink.innerHTML = docLinkHtml;\n",
              "          element.appendChild(docLink);\n",
              "        }\n",
              "      </script>\n",
              "    </div>\n",
              "  </div>\n",
              "  "
            ]
          },
          "metadata": {},
          "execution_count": 8
        }
      ]
    },
    {
      "cell_type": "code",
      "source": [
        "# show dividends\n",
        "msft.dividends"
      ],
      "metadata": {
        "id": "q9waQmvoAFNc",
        "colab": {
          "base_uri": "https://localhost:8080/"
        },
        "outputId": "dade889c-c36e-4c35-f951-b566b32fa59f"
      },
      "execution_count": 9,
      "outputs": [
        {
          "output_type": "execute_result",
          "data": {
            "text/plain": [
              "Date\n",
              "2003-02-19 00:00:00-05:00    0.08\n",
              "2003-10-15 00:00:00-04:00    0.16\n",
              "2004-08-23 00:00:00-04:00    0.08\n",
              "2004-11-15 00:00:00-05:00    3.08\n",
              "2005-02-15 00:00:00-05:00    0.08\n",
              "                             ... \n",
              "2021-11-17 00:00:00-05:00    0.62\n",
              "2022-02-16 00:00:00-05:00    0.62\n",
              "2022-05-18 00:00:00-04:00    0.62\n",
              "2022-08-17 00:00:00-04:00    0.62\n",
              "2022-11-16 00:00:00-05:00    0.68\n",
              "Name: Dividends, Length: 76, dtype: float64"
            ]
          },
          "metadata": {},
          "execution_count": 9
        }
      ]
    },
    {
      "cell_type": "code",
      "source": [
        "# show splits\n",
        "msft.splits"
      ],
      "metadata": {
        "id": "ibRILBMJAI8P",
        "colab": {
          "base_uri": "https://localhost:8080/"
        },
        "outputId": "7dfc8f56-314c-4102-d350-d94d72afcd41"
      },
      "execution_count": 10,
      "outputs": [
        {
          "output_type": "execute_result",
          "data": {
            "text/plain": [
              "Date\n",
              "1987-09-21 00:00:00-04:00    2.0\n",
              "1990-04-16 00:00:00-04:00    2.0\n",
              "1991-06-27 00:00:00-04:00    1.5\n",
              "1992-06-15 00:00:00-04:00    1.5\n",
              "1994-05-23 00:00:00-04:00    2.0\n",
              "1996-12-09 00:00:00-05:00    2.0\n",
              "1998-02-23 00:00:00-05:00    2.0\n",
              "1999-03-29 00:00:00-05:00    2.0\n",
              "2003-02-18 00:00:00-05:00    2.0\n",
              "Name: Stock Splits, dtype: float64"
            ]
          },
          "metadata": {},
          "execution_count": 10
        }
      ]
    },
    {
      "cell_type": "markdown",
      "source": [
        "Available paramaters for the history() method are:    \n",
        "\n",
        "* **period:** data period to download (Either Use period parameter or use start and end) Valid periods are: 1d, 5d, 1mo, 3mo, 6mo, 1y, 2y, 5y, 10y, ytd, max    \n",
        "* **interval:** data interval (intraday data cannot extend last 60 days) Valid intervals are: 1m, 2m, 5m, 15m, 30m, 60m, 90m, 1h, 1d, 5d, 1wk, 1mo, 3mo    \n",
        "* **start:** If not using period - Download start date string (YYYY-MM-DD) or datetime.    \n",
        "* **end:** If not using period - Download end date string (YYYY-MM-DD) or datetime.    \n",
        "* **prepost:** Include Pre and Post market data in results? (Default is False)    \n",
        "* **auto_adjust:** Adjust all OHLC automatically? (Default is True)\n",
        "* **actions:** Download stock dividends and stock splits events? (Default is True)    \n"
      ],
      "metadata": {
        "id": "GAZiy6_-AiF1"
      }
    },
    {
      "cell_type": "markdown",
      "source": [
        "###Mass download of market data:    \n",
        "\n",
        "You can also download data for multiple tickers at once, like before.    \n",
        "  "
      ],
      "metadata": {
        "id": "SYpD7IDkAqnq"
      }
    },
    {
      "cell_type": "code",
      "source": [
        "import yfinance as yf\n",
        "data = yf.download(\"SPY AAPL\", start=\"2017-01-01\", end=\"2017-04-30\")"
      ],
      "metadata": {
        "id": "v5uIrdSzAxOY"
      },
      "execution_count": null,
      "outputs": []
    },
    {
      "cell_type": "markdown",
      "source": [
        "To access the closing price data for **SPY**, you should use: `data['Close']['SPY']`.    \n",
        "\n",
        "If, however, you want to group data by **Symbol**, use:   \n",
        "  "
      ],
      "metadata": {
        "id": "4GCXo1D3A9qz"
      }
    },
    {
      "cell_type": "code",
      "source": [
        "import yfinance as yf\n",
        "data = yf.download(\"SPY AAPL\", start=\"2017-01-01\", end=\"2017-04-30\",\n",
        "                   group_by=\"ticker\") \n"
      ],
      "metadata": {
        "id": "X74l2QluBBBU"
      },
      "execution_count": null,
      "outputs": []
    },
    {
      "cell_type": "markdown",
      "source": [
        "To access the closing price data for **SPY**, you should use: `data['SPY']['Close']`.\n",
        "\n",
        "The `.download()` method accepts an additional parameter - threads for faster completion when downloading a lot of symbols at once.\n",
        "\n",
        "*NOTE: To keep compatibility with older versions, auto_adjust defaults to False when using mass-download.*  \n",
        "  \n"
      ],
      "metadata": {
        "id": "mL0UbSEXBPXo"
      }
    },
    {
      "cell_type": "markdown",
      "source": [
        "### Using pandas_datareader:    \n",
        "\n",
        "If your legacy code is using `pandas_datareader` and you wand to keep the code changes to minimum, you can simply call the override method and keep your code as it was:  \n",
        "  "
      ],
      "metadata": {
        "id": "eSoi9N1sBVQM"
      }
    },
    {
      "cell_type": "code",
      "source": [
        "from pandas_datareader import data as pdr\n",
        "\n",
        "import yfinance as yf\n",
        "yf.pdr_override() # <== that's all it takes :-)\n",
        "\n",
        "# download dataframe using pandas_datareader\n",
        "data = pdr.get_data_yahoo(\"SPY\", start=\"2017-01-01\", end=\"2017-04-30\") \n"
      ],
      "metadata": {
        "id": "VLnOpsixBRxT"
      },
      "execution_count": null,
      "outputs": []
    },
    {
      "cell_type": "markdown",
      "source": [
        "\n",
        "\n",
        "---\n",
        "\n"
      ],
      "metadata": {
        "id": "ilpw-pAc6ZRy"
      }
    },
    {
      "cell_type": "markdown",
      "source": [
        "##4. APPENDIX: Parsing XBRL with Python     \n",
        "\n",
        "from the [02-Feb-2018 blog post by Dan Scavino on CodeProject](https://www.codeproject.com/Articles/1227765/Parsing-XBRL-with-Python)     \n",
        "\n"
      ],
      "metadata": {
        "id": "44GuaffDUrQZ"
      }
    },
    {
      "cell_type": "markdown",
      "source": [
        "So far this notebook has demonstrated how to access corporate reports in the EDGAR database, but it didn't explain how to extract data from a report. If you look at a report listing, you'll see that EDGAR provides reports in three primary formats:    \n",
        "\n",
        "* **Regular text** - Data provided in regular files (*.txt)    \n",
        "* **Web pages** - Data to be viewed in a browser (*.htm)    \n",
        "* **XBRL** - Data provided in XBRL-formatted files (*.xml)    \n",
        "\n",
        "The first two options are fine if you want to read report data yourself. But if you want to extract data programmatically, the last option is the most practical. XBRL files aren't easy for humans to read, but because of their structure, they're ideally suited for computers.    \n",
        "\n",
        "This appendix describes the XBRL format and then explains how to read XBRL using BeautifulSoup. At the end, I'll present example code that programmatically downloads and parses an XBRL file from EDGAR.    "
      ],
      "metadata": {
        "id": "gZTH3MsZU68C"
      }
    },
    {
      "cell_type": "markdown",
      "source": [
        "###4.1. Introducing XBRL    \n",
        "\n",
        "A primary role of the **US Securities and Exchange Commission (SEC)** is to ensure that investors have reliable information with which to make decisions. To this end, the **SEC** requires that publicly-traded corporations submit reports that accurately portray their financial state. Corporations have traditionally provided these reports in regular text, but as computerized stock analysis became popular, the **SEC** decided on a more structured, computer-readable format.    \n",
        "\n",
        "The **SEC** selected the **eXtensible Business Reporting Language** (`XBRL`) for structured corporate reporting. As of April 2009, the **SEC** requires that corporations provide financial reports in `XBRL` format in addition to text. Since then, India and the United Kingdom have also adopted `XBRL` for corporate reporting.    \n",
        "\n",
        "`XBRL` is based on the **eXtensible Markup Language** (`XML`), but uses special tags to mark financial data. This section presents the basics of `XML` and namespaces, and then provides an overview of `XBRL`.    \n"
      ],
      "metadata": {
        "id": "WtTsumJxW8ox"
      }
    },
    {
      "cell_type": "markdown",
      "source": [
        "####4.1.a XML, Schema, and Namespaces    \n",
        "\n",
        "A good way to introduce `XML` is to compare it with HTML. An `HTML` document structures its content using nested tags that take the form `<xyz>...</xyz>`. For example, `HTML` uses `<b>...</b>` tags to display text in boldface, as in `<b>Hi there!</b>`. HTML lets you control a tag's behavior with attributes, such as the id attribute in `<p id=\"...\">...</p>`.    \n",
        "\n",
        "I like to think of `XML` as generic `HTML`. An `XML` document contains tags and attributes similar to those in `HTML` but `XML` doesn't define any specific tags or attributes. Instead, implementers can define their own tags and attributes by creating a schema. Schemas are defined in special `XML` documents formatted with **XML Schema Definition (XSD)**, and for this reason, schema documents have the suffix `*.xsd` instead of `*.xml`.    \n",
        "\n",
        "An XML document can access the tags and attributes of a schema using a namespace declaration. As an example, the following declaration specifies that the `XML` document will access the tags and attributes defined in the schema located at `http://www.example.com`:    "
      ],
      "metadata": {
        "id": "b4UnkNDjXeqO"
      }
    },
    {
      "cell_type": "code",
      "source": [
        "# sample XML \n",
        "xmlns:ex=\"http://www.example.com\""
      ],
      "metadata": {
        "id": "w6KZcT0mYFVS"
      },
      "execution_count": null,
      "outputs": []
    },
    {
      "cell_type": "markdown",
      "source": [
        "####4.1.b XBRL Reports and Schema    \n",
        "\n",
        "An `XBRL` document is an `XML` document that structures its content using `XBRL`'s tags and attributes. This may sound straightforward, but a single document may need to access features from many different schemas. For example, different countries have different reporting requirements, so an American report will access a different set of elements than a British report. Similarly, different types of reports will require different schemas, so an annual report will use different tags than a prospectus.    \n",
        "\n",
        "A thorough discussion of the tags/attributes in an American corporation's annual report would take up a sizable book. In this discussion, my goal is to present some of the namespaces that are commonly accessed in American reports:    \n",
        "\n",
        "* **Base XBRL Schema** - Provides the overall structure of an `XBRL` document    \n",
        "* **US Document and Entity Information (DEI)** - Sets a document's type and characteristics    \n",
        "* **US Generally Accepted Accounting Principles (GAAP)** - Defines required elements of American reports    \n",
        "* **Entity-specific Schema** - Defines elements specific to the entity providing the report    \n",
        "\n",
        "You don't need to memorize the elements of these namespaces, but the more familiar you are, the better you'll be able to extract data from `XBRL` documents.    \n"
      ],
      "metadata": {
        "id": "E0XNVgLLYRL_"
      }
    },
    {
      "cell_type": "markdown",
      "source": [
        "#####4.1.b.i The Base XBRL Schema     \n",
        "\n",
        "The fundamental tags and attributes of `XBRL` are provided in the schema located at *http://www.xbrl.org/2003/instance*. Documents commonly access these elements through the `xbrli` prefix, as given in the following namespace declaration:    \n",
        "\n"
      ],
      "metadata": {
        "id": "hsnns9xaZHDU"
      }
    },
    {
      "cell_type": "code",
      "source": [
        "# XML example \n",
        "xlmns:xbrli=\"http://www.xbrl.org/2003/instance\"    "
      ],
      "metadata": {
        "id": "RaV1BMTOZOMI"
      },
      "execution_count": null,
      "outputs": []
    },
    {
      "cell_type": "markdown",
      "source": [
        "Of the many elements defined by the schema, `xbrli:xbrl` is particularly important. This is because the content of every XBRL document must be contained inside `<xbrli:xbrl>...</xbrli:xbrl>` tags.    \n",
        "\n",
        "To understand other tags provided by the base schema, you should be familiar with the following terms:  \n",
        "\n",
        "* **instance** - an `XBRL` document whose root element is <xbrli:xbrl>   \n",
        "* **fact** - an individual detail in a report, such as $20M   \n",
        "* **concept** - the meaning associated with a fact, such as the cost of goods sold   \n",
        "* **entity** - the company or individual described by a concept    \n",
        "* **context** - a data structure that associates an entity with a concept    \n",
        "\n",
        "Many `XBRL` documents start by defining a long list of contexts. Each context is represented by an `<xbrli:context>` element and each has an id attribute. Each `<xbrli:context>` element contains an `<xbrli:entity>` subelement that identifies an entity. The following markup defines a context with an identifier of **FD2013Q4YTD**:     \n",
        "\n"
      ],
      "metadata": {
        "id": "d9oyajUBaVUI"
      }
    },
    {
      "cell_type": "code",
      "source": [
        "# XML example    \n",
        "<xbrli:context id=\"FD2013Q4YTD\">\n",
        "    <xbrli:entity>\n",
        "    <xbrli:identifier scheme=\"http://www.sec.gov/CIK\">0001065088</xbrli:identifier>\n",
        "  </xbrli:entity>\n",
        "  <xbrli:period>\n",
        "    <xbrli:startDate>2013-01-01</xbrli:startDate>\n",
        "    <xbrli:endDate>2013-12-31</xbrli:endDate>\n",
        "  </xbrli:period>\n",
        "</xbrli:context> \n"
      ],
      "metadata": {
        "id": "n-01gs7HaazO"
      },
      "execution_count": null,
      "outputs": []
    },
    {
      "cell_type": "markdown",
      "source": [
        "Later sections in the document can reference this context by assigning a contextRef attribute to the context's ID. This is shown in the following markup:   \n"
      ],
      "metadata": {
        "id": "_SaCuJJDaXEl"
      }
    },
    {
      "cell_type": "code",
      "source": [
        "# XML example \n",
        "<us-gaap:IncomeTaxDisclosureTextBlock contextRef=\"FD2013Q4YTD\" ...>\n"
      ],
      "metadata": {
        "id": "A0rvbz55apVf"
      },
      "execution_count": null,
      "outputs": []
    },
    {
      "cell_type": "markdown",
      "source": [
        "####4.1.b.ii US Document and Entity Information (DEI)    \n",
        "\n",
        "Every `XBRL` document submitted to the **SEC** needs to provide information about its content. A submitter can meet this requirement by including elements from the **US Document and Entity Information (DEI)** schema. These elements are commonly prefixed with `dei` and a document can access them with the following declaration:    \n",
        "*italicized text*"
      ],
      "metadata": {
        "id": "HiKUV4LRatTh"
      }
    },
    {
      "cell_type": "code",
      "source": [
        "# XML example\n",
        "xlmns:dei=\"http://xbrl.sec.gov/dei/2014-01-31\""
      ],
      "metadata": {
        "id": "SiHh5NSYbLEe"
      },
      "execution_count": null,
      "outputs": []
    },
    {
      "cell_type": "markdown",
      "source": [
        "The elements defined in this schema identify the XBRL report's type and provide information about the entity submitting the report. *Table 1* lists eleven of the many elements available.    "
      ],
      "metadata": {
        "id": "GcFWAFk3bSUa"
      }
    },
    {
      "cell_type": "markdown",
      "source": [
        "**Table 1: Elements Provided by the US Document and Entity Information Schema (Abridged)**    \n",
        "\n",
        "\n",
        "* **DocumentType** >> Type of document being reported    \n",
        "* **EntityCentralIndexKey** >> CIK of the entity submitting the report    \n",
        "* **TradingSymbol** >> Exchange symbol of the entity submitting the report    \n",
        "* **EntityCurrentReportingStatus** >> Identifies if the entity is subject to filing requirements    \n",
        "* **EntityFilerCategory** >> Identifies the entity's filing category (large, small, ...    \n",
        "* **EntityRegistrantName** >> Exact name of the entity has given in the charter    \n",
        "* **DocumentFiscalPeriodFocus** >> The document's focus fiscal period    \n",
        "* **DocumentFiscalYearFocus** >> The document's focus fiscal year    \n",
        "* **CurrentFiscalYearEndDate** >> End of the current fiscal year    \n",
        "* **AmendmentFlag** >> Identifies if the document is an amendment to a\n",
        "previously-filed document    \n",
        "* **AmendmentDescription**>>Description of changes in amended document    \n",
        "\n"
      ],
      "metadata": {
        "id": "LCQSwSnZbbVY"
      }
    },
    {
      "cell_type": "markdown",
      "source": [
        "It's important to see the difference between `EntityCentralIndexKey`, `TradingSymbol`, and `EntityRegistrantName`. The `EntityCentralIndexKey` element identifies the submitter's **CIK code**, the `TradingSymbol` identifies the submitter's **trading (ticker) symbol**, and `EntityRegistrantName` provides the entity's formal name.\n",
        "\n",
        "The following markup, taken from an **eBay annual report**, demonstrates how DEI elements are used:    \n"
      ],
      "metadata": {
        "id": "b_-McPFAc2Sg"
      }
    },
    {
      "cell_type": "code",
      "source": [
        "# XML example    \n",
        "<dei:DocumentType contextRef=\"...\" id=\"Fact-...\">\n",
        "  10-K\n",
        "</dei:DocumentType>\n",
        "<dei:EntityCentralIndexKey contextRef=\"...\" id=\"Fact-...\">\n",
        "  0001065088\n",
        "</dei:EntityCentralIndexKey>\n",
        "<dei:TradingSymbol contextRef=\"...\" id=\"Fact-...\">\n",
        "  EBAY\n",
        "</dei:TradingSymbol>\n",
        "<dei:EntityRegistrantName contextRef=\"...\" id=\"Fact-...\">\n",
        "  EBAY INC\n",
        "</dei:EntityRegistrantName>\n",
        "<dei:EntityFilerCategory contextRef=\"...\" id=\"Fact-...\">\n",
        "  Large Accelerated Filer\n",
        "</dei:EntityFilerCategory> \n"
      ],
      "metadata": {
        "id": "SIMzptsTc3Vk"
      },
      "execution_count": null,
      "outputs": []
    },
    {
      "cell_type": "markdown",
      "source": [
        "As shown, each `DEI` element has an id attribute and a contextRef that refers to an `<xbrli:context>` element defined earlier in the document.    \n"
      ],
      "metadata": {
        "id": "i6inWWOkdFFu"
      }
    },
    {
      "cell_type": "markdown",
      "source": [
        "####4.1.b.iii US Generally Accepted Accounting Principles (GAAP)\n",
        "\n",
        "To ensure that businesses use common terminology in their accounting reports, the **US Financial Accounting Standards Board (FASB)** provides a set of standards called the **Generally Accepted Accounting Principles**, or `GAAP`. Entities can provide `GAAP` data in their `XBRL` reports by accessing the **FASB**'s schema definitions. `GAAP` elements are commonly preceded with the `us-gaap` prefix:    \n",
        "\n"
      ],
      "metadata": {
        "id": "CudN82t9ddOE"
      }
    },
    {
      "cell_type": "code",
      "source": [
        "# XML Example \n",
        "xmlns:us-gaap=\"http://fasb.org/us-gaap/2014-01-31\""
      ],
      "metadata": {
        "id": "wd8vVv8IdieA"
      },
      "execution_count": null,
      "outputs": []
    },
    {
      "cell_type": "markdown",
      "source": [
        "This schema provides thousands of elements related to accounting, and *Table 2* lists a small but important subset. You can look through a more complete table [here](http://www.xbrlsite.com/LinkedData/BrowseObjectsByType_HTML.aspx?Type=%5BConcept%5D&Submit=Submit).   \n"
      ],
      "metadata": {
        "id": "F7o1WiYJdkna"
      }
    },
    {
      "cell_type": "markdown",
      "source": [
        "**Table 2: Elements of the US Generally Accepted Accounting Principles Schema (Abridged)**     \n",
        "\n",
        "**AccountsPayableCurrent** >> Liabilities payable to vendors as of the balance sheet date    \n",
        "**AccountsReceivableGross** >> Amounts due from customers or clients    \n",
        "**AccountsReceivableNet** >> Amounts due from customers or clients, reduced to estimated realizable value    \n",
        "**AccruedIncomeTaxes** >> Unpaid sum of known and estimated tax obligations    \n",
        "**AccruedInsuranceCurrent** >> Obligations payable to insurance entities to mitigate loss    \n",
        "**AssetManagementCosts** >> Aggregate costs related to asset management    \n",
        "**AssetsCurrent** >> Sum of all assets expected to be realized within year    \n",
        "**BorrowedFunds** >> Sum of all debt amounts    \n",
        "**Cash** >> Unrestricted cash available for operating needs    \n",
        "**CommercialPaper** >> Value of short-term borrowings using unsecured\n",
        "obligations issued by banks and corporations    \n",
        "**CommonStockNoParValue** >> Issuance value per share of no-par value stock    \n",
        "**CommonStockSharesIssued** >> Total number of common shares that have been\n",
        "sold or granted to shareholders    \n",
        "**CommonStockValue** >> Aggregate par or stated value of issued common stock    \n",
        "**SalariesAndWages** >> Expenditures for salaries other than officers    \n",
        "**ConvertibleDebt** >> Amount of debt that can be converted into another\n",
        "form of financial instrument, such as common stock    \n",
        "**CostOfGoodsSold** >> Aggregate costs related to goods sold during the period    \n",
        "**CostOfServices** >> Total costs related to services rendered during the period    \n",
        "**CostsAndExpenses** >> Total costs of sales and operating expenses for the period    \n",
        "**DebtCurrent** >> Sum of short-term debt and maturities of long-term debt    \n",
        "**DeferredRevenue** >> Cash or other assets that have not yet been realized    \n",
        "**Depreciation** >> Amount of expense related to the cost of tangible assets\n",
        "over the assets' useful lives    \n",
        "**DirectOperatingCosts** >> Aggregate expenses directly related to operations    \n",
        "**Dividends** >> Equity impact of cash, stock, and dividends declared\n",
        "for all securities during the period    \n",
        "**EarningsPerShareBasic** >> Net income (loss) for the period per share of common stock    \n",
        "**GrossProfit** >> Aggregate revenue minus the cost of goods/services sold and operating expenses    \n",
        "**IntangibleAssetsCurrent** >> Current portion of non-physical assets, excluding financial assets    \n",
        "**InterestAndDebtExpense** >> Expenses related to interest and debt payments    \n",
        "**InventoryGross** >> Merchandise, goods, or supplies held for future sale or used in manufacturing or production    \n",
        "**Land** >> Real estate held for productive use, not held for sale    \n",
        "**Liabilities** >> Sum of all recognized liabilities    \n",
        "**LiabilitiesAndStockholdersEquity** >> Total of liabilities and stockholder's equity, including the portion of equity attributable to noncontrolling interests    \n",
        "**NetIncomeLoss** >> Portion of profit or loss for the period, net of income taxes    \n",
        "**ProfitLoss** >> Consolidated profit or loss for the period    \n",
        "**NotesPayable** >> Aggregate amount of notes payable, with initial maturities beyond one year or the normal operating cycle    \n",
        "**OfficersCompensation** >> Expenditures for salaries of officers    \n",
        "**OperatingCycle** >> Entity's operating cycle if less than 12 months    \n",
        "**OperatingExpenses** >> Recurring costs associated with normal operations except expenses included in the cost of sales or services    \n",
        "**PreferredStockValue** >> Stated value of issued nonredeemable preferred stock    \n",
        "**ResearchAndDevelopmentExpense** >> Costs incurred during research and development activities    \n",
        "**Revenues** >> Aggregate revenue recognized during the period    \n",
        "**SharesIssued** >> Number of shares of stock issued    \n",
        "**SharesOutstanding** >> Number of shares issued and outstanding    \n",
        "**StockholdersEquity** >> Total of stockholders' equity items, net of receivables from officers, directors, owners, and affiliates    "
      ],
      "metadata": {
        "id": "0R1Ks-rJdybe"
      }
    },
    {
      "cell_type": "markdown",
      "source": [
        "You can find accounting data in a report by searching for the appropriate `us-gaap` element. For example, **eBay's 2014** annual report identifies its **aggregate liabilities** with the following markup:   "
      ],
      "metadata": {
        "id": "TpTv22Y2fEiF"
      }
    },
    {
      "cell_type": "markdown",
      "source": [
        "<center><b><u>XBRL Example XML Content</u></b></center>"
      ],
      "metadata": {
        "id": "SX9llt9rpFsz"
      }
    },
    {
      "cell_type": "markdown",
      "source": [
        "```\n",
        "<us-gaap:Liabilities contextRef=\"...\" decimals=\"...\" id=\"...\" unitRef=\"usd\">\n",
        "  25226000000\n",
        "</us-gaap:Liabilities> \n",
        "```"
      ],
      "metadata": {
        "id": "AvAIjXtrpAua"
      }
    },
    {
      "cell_type": "markdown",
      "source": [
        "The `us-gaap` schema has many elements that closely resemble one another in name and purpose. If you're searching for specific accounting data, be sure not to confuse the elements."
      ],
      "metadata": {
        "id": "igsCyq_ifvbh"
      }
    },
    {
      "cell_type": "markdown",
      "source": [
        "###4.2. Parsing XBRL with BeautifulSoup    "
      ],
      "metadata": {
        "id": "iHsxp8Lof3AA"
      }
    },
    {
      "cell_type": "markdown",
      "source": [
        "After you've downloaded an XBRL document, you can extract its data using a number of methods. If you know what element you're interested in, you can perform a brute-force search for the text, as in `us-gaap:Assets`. At the opposite extreme, the `python-xbrl` library was specially created for parsing `XBRL` documents, but I've never gotten it to work properly.    \n",
        "\n",
        "This section explains how to parse `XBRL` using the `BeautifulSoup` package. You don't need to learn any new classes or methods, but it is important to specify that you want to perform `XML` parsing. If you install the `lxml` library (`pip install lxml`), then you can create the `BeautifulSoup` instance with the following code:    \n"
      ],
      "metadata": {
        "id": "Ska0lmpVgR0G"
      }
    },
    {
      "cell_type": "code",
      "source": [
        "soup = BeautifulSoup(..., 'lxml')"
      ],
      "metadata": {
        "id": "mKY9T9S1gS4h"
      },
      "execution_count": null,
      "outputs": []
    },
    {
      "cell_type": "markdown",
      "source": [
        "For some reason, when I call the `find_all` method to search for an `XBRL` tag, the returned list is always empty. But when I call `find_all` without arguments, the returned list contains Tags that represent `XBRL` tags. Therefore, I use code like the following:    \n"
      ],
      "metadata": {
        "id": "hdxH5vmqgVC8"
      }
    },
    {
      "cell_type": "code",
      "source": [
        "soup = BeautifulSoup(xbrl_string, 'lxml')\n",
        "tag_list = soup.find_all()\n",
        "for tag in tag_list:\n",
        "    if tag.name == 'us-gaap:liabilities':\n",
        "        print('Liabilities: ' + tag.text)    \n"
      ],
      "metadata": {
        "id": "Vyto7KfOgffH"
      },
      "execution_count": null,
      "outputs": []
    },
    {
      "cell_type": "markdown",
      "source": [
        "An annual report may contain multiple `<us-gaap:liabilities>` elements, each corresponding to a different reporting period. Each period corresponds to a `<context>` element, so you can distinguish between `GAAP` elements by checking their `contextRef` attributes.    \n"
      ],
      "metadata": {
        "id": "hy2y1L8egimF"
      }
    },
    {
      "cell_type": "markdown",
      "source": [
        "##4.3.a Complete EDGAR-XBRL Example (4.3.a needs work -- see 4.3.b)"
      ],
      "metadata": {
        "id": "aig-ht0tgyCO"
      }
    },
    {
      "cell_type": "markdown",
      "source": [
        "If you are familira with BeautifulSoup and the content of this article, you shouldn't have any trouble understanding how to access a company's EDGAR reports and parse them in Python. To demonstrate this, the code in *Listing 1* searches EDGAR for the 2014 annual report (10-K) from IBM (CIK: 0000051143) and then parses the XBRL to determine the stockholder's equity (`us-gaap:stockholdersequity`),   \n"
      ],
      "metadata": {
        "id": "9tiXtK2Gg0Dr"
      }
    },
    {
      "cell_type": "markdown",
      "source": [
        "###**THE FOLLOWING CODE NEEDS TO BE UPDATED**"
      ],
      "metadata": {
        "id": "kDUiAsLjhoMC"
      }
    },
    {
      "cell_type": "markdown",
      "source": [
        "**Listing 1: Reading Stockholder's Equity from IBM's Annual Report (xbrl_reader.py)**"
      ],
      "metadata": {
        "id": "R6HmcvV4hjvD"
      }
    },
    {
      "cell_type": "code",
      "source": [
        "from bs4 import BeautifulSoup\n",
        "import requests\n",
        "import sys\n",
        "\n",
        "# Access page\n",
        "cik = '0000051143'\n",
        "type = '10-K'\n",
        "dateb = '20160101'\n",
        "\n",
        "# Obtain HTML for search page\n",
        "base_url = \"https://www.sec.gov/cgi-bin/browse-edgar?action=getcompany&CIK={}&type={}&dateb={}\"\n",
        "edgar_resp = requests.get(base_url.format(cik, type, dateb))\n",
        "edgar_str = edgar_resp.text\n",
        "\n",
        "# Find the document link\n",
        "doc_link = ''\n",
        "soup = BeautifulSoup(edgar_str, 'html.parser')\n",
        "table_tag = soup.find('table', class_='tableFile2')\n",
        "rows = table_tag.find_all('tr')\n",
        "for row in rows:\n",
        "    cells = row.find_all('td')\n",
        "    if len(cells) > 3:\n",
        "        if '2015' in cells[3].text:\n",
        "            doc_link = 'https://www.sec.gov' + cells[1].a['href']\n",
        "\n",
        "# Exit if document link couldn't be found\n",
        "if doc_link == '':\n",
        "    print(\"Couldn't find the document link\")\n",
        "    # sys.exit() # not worth trying to exit() in Colab!\n",
        "\n",
        "# Obtain HTML for document page\n",
        "doc_resp = requests.get(doc_link)\n",
        "doc_str = doc_resp.text\n",
        "\n",
        "# Find the XBRL link\n",
        "xbrl_link = ''\n",
        "soup = BeautifulSoup(doc_str, 'html.parser')\n",
        "table_tag = soup.find('table', class_='tableFile', summary='Data Files')\n",
        "rows = table_tag.find_all('tr')\n",
        "for row in rows:\n",
        "    cells = row.find_all('td')\n",
        "    if len(cells) > 3:\n",
        "        if 'INS' in cells[3].text:\n",
        "            xbrl_link = 'https://www.sec.gov' + cells[2].a['href']\n",
        "\n",
        "# Obtain XBRL text from document\n",
        "xbrl_resp = requests.get(xbrl_link)\n",
        "xbrl_str = xbrl_resp.text\n",
        "\n",
        "# Find and print stockholder's equity\n",
        "soup = BeautifulSoup(xbrl_str, 'lxml')\n",
        "tag_list = soup.find_all()\n",
        "for tag in tag_list:\n",
        "    if tag.name == 'us-gaap:stockholdersequity':\n",
        "        print(\"Stockholder's equity: \" + tag.text)"
      ],
      "metadata": {
        "id": "3VqOEZfUhHef"
      },
      "execution_count": null,
      "outputs": []
    },
    {
      "cell_type": "markdown",
      "source": [
        "\n",
        "\n",
        "---\n",
        "\n"
      ],
      "metadata": {
        "id": "MbaEFKEphuuw"
      }
    },
    {
      "cell_type": "markdown",
      "source": [
        "##4.3.b `python-xbrl` Simple XBRL Parsing Example     \n",
        "\n",
        "See the [`python-xbrl` documentation](https://pypi.org/project/python-xbrl/) for more information.    \n",
        "\n",
        "*note that [there are some dangling segments of code in the `python-xbrl` library](https://stackoverflow.com/questions/33963598/parsing-xbrl-using-python) which does does not appear to have been actively maintained over the years*"
      ],
      "metadata": {
        "id": "LrHK7UDpiint"
      }
    },
    {
      "cell_type": "markdown",
      "source": [
        "*note: this section uses the following example `XBRL .xml` files:* \n",
        "\n",
        "* sam-20131228.xml    \n",
        "* sam-20140927.xml    \n",
        "\n",
        "*each file may be accessed from Professor Patrick's Github using the following statements, respectively:*    \n",
        "\n",
        "\n",
        "```\n",
        "!curl https://raw.githubusercontent.com/ProfessorPatrickSlatraigh/data/main/sam-20131228.xml -o \"sam-20131228.xml\"\n",
        "\n",
        "!curl https://raw.githubusercontent.com/ProfessorPatrickSlatraigh/data/main/sam-20140927.xml -o \"sam-20140927.xml\"\n",
        "```\n",
        "\n"
      ],
      "metadata": {
        "id": "4plx_8f-pHyC"
      }
    },
    {
      "cell_type": "code",
      "source": [
        "#Housekeeping to load example files to current working directory    \n",
        "!curl https://raw.githubusercontent.com/ProfessorPatrickSlatraigh/data/main/sam-20131228.xml -o \"sam-20131228.xml\"\n",
        "\n",
        "!curl https://raw.githubusercontent.com/ProfessorPatrickSlatraigh/data/main/sam-20140927.xml -o \"sam-20140927.xml\""
      ],
      "metadata": {
        "id": "wno5fBmGr9H-"
      },
      "execution_count": null,
      "outputs": []
    },
    {
      "cell_type": "code",
      "source": [
        "# Housekeeping to install python-xbrl \n",
        "!pip install python-xbrl    \n",
        "\n",
        "# Housekeeping to import required modules \n",
        "from xbrl import XBRLParser, GAAP, GAAPSerializer, DEISerializer\n",
        "\n",
        "# Housekeeping to import prettyprint (pprint)\n",
        "import pprint"
      ],
      "metadata": {
        "id": "wmcgQmJ8irYY"
      },
      "execution_count": null,
      "outputs": []
    },
    {
      "cell_type": "markdown",
      "source": [
        "###Simple XBRL Parsing Workflow    \n",
        "\n",
        "First parse the incoming `XRBL` file into a new `XBRL` basic object    \n",
        "\n"
      ],
      "metadata": {
        "id": "sc6Wd_STm3-r"
      }
    },
    {
      "cell_type": "code",
      "source": [
        "xbrl_parser = XBRLParser()\n",
        "xbrl = xbrl_parser.parse(\"sam-20131228.xml\")"
      ],
      "metadata": {
        "id": "HM_Z7zJMnAUT"
      },
      "execution_count": null,
      "outputs": []
    },
    {
      "cell_type": "markdown",
      "source": [
        "Then you can parse the document using different parsers\n"
      ],
      "metadata": {
        "id": "Rc1ESgj4n-gF"
      }
    },
    {
      "cell_type": "code",
      "source": [
        "gaap_obj = xbrl_parser.parseGAAP(xbrl, doc_date=\"20131228\", context=\"current\", ignore_errors=0)"
      ],
      "metadata": {
        "id": "EArkZhM-oAZ-"
      },
      "execution_count": null,
      "outputs": []
    },
    {
      "cell_type": "markdown",
      "source": [
        "Now we have a GAAP model object that has the GAAP parsed elements from the document.    \n",
        "\n",
        "This model object supports the several different features including:    \n",
        "\n",
        "* **context current year**, and **instance contexts** are supported. If available you can also get **previous quarter** information by number of days from doc date. Example: 90, 180, etc.    \n",
        "* **Error handling**  \n",
        "    0. raise exception for all parsing errors and halt parsing\n",
        "    1. Supress all parsing errors and continue parsing\n",
        "    2. Log all parsing errors and continue parsing    \n",
        "\n",
        "You can serialize the GAAP model object into a serialized object acceptable for rending into a standard format such as JSON or HTTP API. \n",
        "   "
      ],
      "metadata": {
        "id": "FgCcTZhkoIqK"
      }
    },
    {
      "cell_type": "code",
      "source": [
        "serializer = GAAPSerializer()\n",
        "result = serializer.dump(gaap_obj)"
      ],
      "metadata": {
        "id": "os1DMeaGopPr"
      },
      "execution_count": null,
      "outputs": []
    },
    {
      "cell_type": "markdown",
      "source": [
        "You can also just view the data in the serialized object"
      ],
      "metadata": {
        "id": "SZyiVouhouqu"
      }
    },
    {
      "cell_type": "code",
      "source": [
        "print(result)    "
      ],
      "metadata": {
        "id": "2nlGMuboovdu"
      },
      "execution_count": null,
      "outputs": []
    },
    {
      "cell_type": "code",
      "source": [
        "# import pprint    \n",
        "\n",
        "pprint.pprint(result)"
      ],
      "metadata": {
        "id": "lsg1lWrgsVkf"
      },
      "execution_count": null,
      "outputs": []
    },
    {
      "cell_type": "markdown",
      "source": [
        "You can apply various parsers to the base `XBRLParser` object to get different data than just `GAAP` data from the document. In addition as expected you can also create different serialized objects on the resulting parsed data object."
      ],
      "metadata": {
        "id": "GmIgHqOio96a"
      }
    },
    {
      "cell_type": "markdown",
      "source": [
        "###Extracting DEI Data    \n"
      ],
      "metadata": {
        "id": "nETZOinstGDq"
      }
    },
    {
      "cell_type": "code",
      "source": [
        "dei_obj = xbrl_parser.parseDEI(xbrl)\n",
        "serializer = DEISerializer()\n",
        "result = serializer.dump(dei_obj)\n",
        "pprint.pprint(result)"
      ],
      "metadata": {
        "id": "ftUVldwepBiC"
      },
      "execution_count": null,
      "outputs": []
    },
    {
      "cell_type": "markdown",
      "source": [
        "###Extracting Custom Data    \n"
      ],
      "metadata": {
        "id": "bhE3mAJvtp8S"
      }
    },
    {
      "cell_type": "code",
      "source": [
        "custom_obj = xbrl_parser.parseCustom(xbrl)\n",
        "pprint.pprint(custom_obj())"
      ],
      "metadata": {
        "id": "neSAr_Gztr0R"
      },
      "execution_count": null,
      "outputs": []
    },
    {
      "cell_type": "markdown",
      "source": [
        "\n",
        "\n",
        "---\n",
        "\n"
      ],
      "metadata": {
        "id": "1ZaQoPXHvyRi"
      }
    },
    {
      "cell_type": "markdown",
      "source": [
        "This notebook includes work from references in **SEC Edgar** data file selection and parsing as well as market data access from **Yahoo! Finance**.  Source articles and repositories are identified and linked throughout the workbook.      \n",
        "\n",
        "**Emailprofessorpatrick@gmail.com** with suggestions for additions or improvements to this notebook.    \n"
      ],
      "metadata": {
        "id": "GzuUiPWQCjw4"
      }
    }
  ]
}