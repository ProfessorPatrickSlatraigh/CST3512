{
  "nbformat": 4,
  "nbformat_minor": 0,
  "metadata": {
    "colab": {
      "name": "ISQS2340_SQLite_mailbox.ipynb",
      "provenance": [],
      "collapsed_sections": [],
      "authorship_tag": "ABX9TyO6EAj7CBTapYff/bfjvfzR",
      "include_colab_link": true
    },
    "kernelspec": {
      "name": "python3",
      "display_name": "Python 3"
    },
    "language_info": {
      "name": "python"
    }
  },
  "cells": [
    {
      "cell_type": "markdown",
      "metadata": {
        "id": "view-in-github",
        "colab_type": "text"
      },
      "source": [
        "<a href=\"https://colab.research.google.com/github/ProfessorPatrickSlatraigh/CST3512/blob/main/ISQS2340_SQLite_mailbox.ipynb\" target=\"_parent\"><img src=\"https://colab.research.google.com/assets/colab-badge.svg\" alt=\"Open In Colab\"/></a>"
      ]
    },
    {
      "cell_type": "markdown",
      "source": [
        "# ISQS2340 SQLite\n",
        "\n",
        "**Introduction to Management Information Technology**\n",
        "## Database\n",
        "*with SQL, SQLite, and DB Browser*"
      ],
      "metadata": {
        "id": "sMO5Yt6Df-gb"
      }
    },
    {
      "cell_type": "markdown",
      "source": [
        "### The Charles Severance mboxshort.txt example in SQLite\n",
        "\n",
        "Slight modifications:\n",
        "1. Changed variable name 'row' to 'record' in all\n",
        "2. Added /sample_data/ path to file name"
      ],
      "metadata": {
        "id": "WWj9jILPgaGD"
      }
    },
    {
      "cell_type": "markdown",
      "source": [
        "Import required libraries"
      ],
      "metadata": {
        "id": "phBhNh1gi4Ii"
      }
    },
    {
      "cell_type": "code",
      "execution_count": 10,
      "metadata": {
        "id": "ukN20eKNf2Y4"
      },
      "outputs": [],
      "source": [
        "import sqlite3"
      ]
    },
    {
      "cell_type": "markdown",
      "source": [
        "Connect to (create) the database and instantiate a variable for the SQLite cursor in the open database.    \n",
        "\n",
        "*Note that this will happen in the volatile **content/sample_data** area of this Colab session.*"
      ],
      "metadata": {
        "id": "Fqvz1TcDi8_5"
      }
    },
    {
      "cell_type": "code",
      "source": [
        "conn = sqlite3.connect('emaildb.sqlite') # connecting to the database file\n",
        "cur = conn.cursor()  # opening a handle (variable) for the db cursor"
      ],
      "metadata": {
        "id": "yGwAKNj_jOmB"
      },
      "execution_count": 11,
      "outputs": []
    },
    {
      "cell_type": "markdown",
      "source": [
        "Use the open database's cursor handle to drop the email table if it exists"
      ],
      "metadata": {
        "id": "S4lIea7ujR9Y"
      }
    },
    {
      "cell_type": "code",
      "source": [
        "cur.execute('DROP TABLE IF EXISTS Counts')\n",
        "\n",
        "cur.execute('''\n",
        "CREATE TABLE Counts (email TEXT, count INTEGER)''')"
      ],
      "metadata": {
        "id": "Wje3Xv51jemQ"
      },
      "execution_count": null,
      "outputs": []
    },
    {
      "cell_type": "markdown",
      "source": [
        "The following code loops through the mbox-short.txt file, record-by-record.   \n",
        "\n",
        "Be sure to have mbox-short.txt or whatever file you choose to read, available in the **content/sample_data** area of this Colab session. "
      ],
      "metadata": {
        "id": "_xuANEQwkAQ5"
      }
    },
    {
      "cell_type": "code",
      "source": [
        "fname = input('Enter file name: ')  # a valid file name in the Content area \n",
        "if (len(fname) < 1): fname = 'sample_data/mbox-short.txt' # default file name\n",
        "fh = open(fname)  # open a file handle with the specified file\n",
        "for line in fh:   # loop through the file, line-by-line\n",
        "    if not line.startswith('From: '): continue\n",
        "    pieces = line.split()\n",
        "    email = pieces[1]\n",
        "    # now use the open database as we would have used a dictionary\n",
        "    cur.execute('SELECT count FROM Counts WHERE email = ? ', (email,))\n",
        "    record = cur.fetchone()\n",
        "    if record is None:\n",
        "        cur.execute('''INSERT INTO Counts (email, count)\n",
        "                VALUES (?, 1)''', (email,))\n",
        "    else:\n",
        "        cur.execute('UPDATE Counts SET count = count + 1 WHERE email = ?',\n",
        "                    (email,))\n",
        "        \n",
        "    conn.commit() # commit the data for this record/statement to the db\n",
        "    # the commit does not necessarily have to be done on every iteration\n",
        "    # because commit is time consuming, it might be staggered"
      ],
      "metadata": {
        "id": "Z4-NGl32kRTH"
      },
      "execution_count": null,
      "outputs": []
    },
    {
      "cell_type": "markdown",
      "source": [
        "*After the loop above completes, the records of the mbox-short.txt file should be exhausted and the **emaildb** SQLite database should be populated with email addresses.*"
      ],
      "metadata": {
        "id": "_K2iubMIk2rQ"
      }
    },
    {
      "cell_type": "markdown",
      "source": [
        "Now query the database for the results."
      ],
      "metadata": {
        "id": "cVpdKWFplHjw"
      }
    },
    {
      "cell_type": "code",
      "source": [
        "# https://www.sqlite.org/lang_select.html\n",
        "sqlstr = 'SELECT email, count FROM Counts ORDER BY count DESC LIMIT 10'\n",
        "\n",
        "for record in cur.execute(sqlstr):\n",
        "    print(str(record[0]), record[1])"
      ],
      "metadata": {
        "id": "nTIMmCwXlKwP"
      },
      "execution_count": null,
      "outputs": []
    },
    {
      "cell_type": "markdown",
      "source": [
        "Don't forget to close the open db cursor and be nice to the database."
      ],
      "metadata": {
        "id": "IDU-YYejlN5f"
      }
    },
    {
      "cell_type": "code",
      "source": [
        "cur.close()"
      ],
      "metadata": {
        "id": "YAdM3mVolVHe"
      },
      "execution_count": 9,
      "outputs": []
    },
    {
      "cell_type": "markdown",
      "source": [
        "\n",
        "\n",
        "---\n",
        "\n"
      ],
      "metadata": {
        "id": "QPyG1MDLlZAm"
      }
    }
  ]
}