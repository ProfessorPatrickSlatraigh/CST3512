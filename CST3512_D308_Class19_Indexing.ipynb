{
  "nbformat": 4,
  "nbformat_minor": 0,
  "metadata": {
    "colab": {
      "provenance": [],
      "authorship_tag": "ABX9TyMd79dCiBxm4W8pnX3ZYOXi",
      "include_colab_link": true
    },
    "kernelspec": {
      "name": "python3",
      "display_name": "Python 3"
    },
    "language_info": {
      "name": "python"
    }
  },
  "cells": [
    {
      "cell_type": "markdown",
      "metadata": {
        "id": "view-in-github",
        "colab_type": "text"
      },
      "source": [
        "<a href=\"https://colab.research.google.com/github/ProfessorPatrickSlatraigh/CST3512/blob/main/CST3512_D308_Class19_Indexing.ipynb\" target=\"_parent\"><img src=\"https://colab.research.google.com/assets/colab-badge.svg\" alt=\"Open In Colab\"/></a>"
      ]
    },
    {
      "cell_type": "markdown",
      "source": [
        "##CST3512 Class 19    \n",
        "**Row and Column Indexing**    \n",
        "\n",
        "\n",
        "1. **Hierarchical Indexing**    \n",
        "2. **Dewey Decimal Dictionary**     \n",
        "\n",
        "\n",
        "\n",
        "This notebook is based on [Section 8.1 Hierarchical Indexing](https://wesmckinney.com/book/data-wrangling.html) from Chapter 8 - Data Wrangling:     \n",
        "\n",
        "  - Join,     \n",
        "  - Combine, and     \n",
        "  - Reshape     \n",
        "  \n",
        "  in Wes Mckinney's 'Python for Data Analysis'    \n",
        "\n"
      ],
      "metadata": {
        "id": "JVtACvBn4B0m"
      }
    },
    {
      "cell_type": "markdown",
      "source": [
        "In many applications, data may be spread across a number of files or databases or be arranged in a form that is not convenient to analyze. This chapter focuses on tools to help combine, join, and rearrange data.    \n",
        "\n",
        "This notebook introduces the concept of **hierarchical indexing** in pandas, which is used extensively in some of these operations. Chapter 8 of the book then digs into the particular data manipulations. Various applied usages of these tools can be seen in [Data Analysis Examples](https://wesmckinney.com/book/data-wrangling.html#data-analysis-examples)."
      ],
      "metadata": {
        "id": "i03P67dF4yIF"
      }
    },
    {
      "cell_type": "markdown",
      "source": [
        "\n",
        "\n",
        "---\n",
        "\n"
      ],
      "metadata": {
        "id": "vjrvvKdN53Jt"
      }
    },
    {
      "cell_type": "markdown",
      "source": [
        "##**Housekeeping**    \n",
        "\n",
        "Import required modules    \n"
      ],
      "metadata": {
        "id": "9mi4Ko3V54iX"
      }
    },
    {
      "cell_type": "code",
      "source": [
        "# Import pandas \n",
        "import pandas as pd\n",
        "\n",
        "# Import numpy   \n",
        "import numpy as np"
      ],
      "metadata": {
        "id": "cPV2Tj1K6CNW"
      },
      "execution_count": null,
      "outputs": []
    },
    {
      "cell_type": "markdown",
      "source": [
        "##**1. Hierarchical Indexing**    \n"
      ],
      "metadata": {
        "id": "zgIDjyXTZgrP"
      }
    },
    {
      "cell_type": "markdown",
      "source": [
        "**Hierarchical indexing** is an important feature of pandas that enables you to have multiple (two or more) index levels on an axis. Another way of thinking about it is that it provides a way for you to work with higher dimensional data in a lower dimensional form. Let’s start with a simple example: create a Series with a list of lists (or arrays) as the index:"
      ],
      "metadata": {
        "id": "tvk4wcvV5AV6"
      }
    },
    {
      "cell_type": "markdown",
      "source": [
        "###First, using the default index values..."
      ],
      "metadata": {
        "id": "j_KsgiDZZdnA"
      }
    },
    {
      "cell_type": "code",
      "source": [
        "data_0 = pd.Series(np.random.randn(9))\n",
        "\n",
        "print(data_0)  "
      ],
      "metadata": {
        "id": "3Afb1IrfZLvR"
      },
      "execution_count": null,
      "outputs": []
    },
    {
      "cell_type": "code",
      "source": [
        "print(data_0[5])"
      ],
      "metadata": {
        "id": "37xazQbQah61"
      },
      "execution_count": null,
      "outputs": []
    },
    {
      "cell_type": "markdown",
      "source": [
        "###Then, using a list of unique values as row indices...   "
      ],
      "metadata": {
        "id": "DNvGdysPZjh2"
      }
    },
    {
      "cell_type": "code",
      "source": [
        "data_1 = pd.Series(np.random.randn(9),\n",
        "       index=['a', 'b', 'c', 'd', 'e', 'f', 'g', 'h', 'i'])\n",
        "\n",
        "print(data_1)    "
      ],
      "metadata": {
        "id": "l9gl_hoXZWUX"
      },
      "execution_count": null,
      "outputs": []
    },
    {
      "cell_type": "code",
      "source": [
        "print(data_1['d'])"
      ],
      "metadata": {
        "id": "NK1A-bZGa9jr"
      },
      "execution_count": null,
      "outputs": []
    },
    {
      "cell_type": "markdown",
      "source": [
        "###Of course, while this does may work, it would be hard to make use of..."
      ],
      "metadata": {
        "id": "acZbNVWybcDW"
      }
    },
    {
      "cell_type": "code",
      "source": [
        "data_2 = pd.Series(np.random.randn(9),\n",
        "       index=['a', 'a', 'a', 'b', 'b', 'c', 'c', 'd', 'd'])\n",
        "\n",
        "print(data_2)    "
      ],
      "metadata": {
        "id": "SdhMWHMrbfH1"
      },
      "execution_count": null,
      "outputs": []
    },
    {
      "cell_type": "code",
      "source": [
        "print(data_2['b'])"
      ],
      "metadata": {
        "id": "YdWvSgM5brzi"
      },
      "execution_count": null,
      "outputs": []
    },
    {
      "cell_type": "markdown",
      "source": [
        "###But, if we layer iterables to create unique indexing combinations...   "
      ],
      "metadata": {
        "id": "ipqsnjv7ZqL_"
      }
    },
    {
      "cell_type": "code",
      "execution_count": null,
      "metadata": {
        "id": "g_V73rqV38q9"
      },
      "outputs": [],
      "source": [
        "data_3 = pd.Series(np.random.randn(9),\n",
        "       index=[['a', 'a', 'a', 'b', 'b', 'c', 'c', 'd', 'd'],\n",
        "       [1, 2, 3, 1, 3, 1, 2, 2, 3]])\n",
        "\n",
        "print(data_3)    "
      ]
    },
    {
      "cell_type": "code",
      "source": [
        "corp = pd.Series(['first', 'second', 'third', 'fourth', 'fifth', 'sixth', 'seventh', 'eighth', 'ninth'], \n",
        "index=[['Americas', 'Americas', 'Americas', 'EMEA', 'EMEA', 'AsiaPac', 'AsiaPac', 'Corp', 'Corp'], \n",
        "[101, 201, 301, 101, 301, 101, 201, 201, 301]])\n",
        "\n",
        "print(corp)    "
      ],
      "metadata": {
        "id": "ar0fBZEUZxtc"
      },
      "execution_count": null,
      "outputs": []
    },
    {
      "cell_type": "markdown",
      "source": [
        "What you’re seeing is a view of a Series with a **MultiIndex** as its index. The “gaps” in the index display mean “use the label directly above”:"
      ],
      "metadata": {
        "id": "rLeimGEG6U4V"
      }
    },
    {
      "cell_type": "markdown",
      "source": [
        "*A conventional, single iterable of index values as we created in `data_1`:*    "
      ],
      "metadata": {
        "id": "nh-pa0GTy7IT"
      }
    },
    {
      "cell_type": "code",
      "source": [
        "print(data_1.index)"
      ],
      "metadata": {
        "id": "9yJtkSefc6uS"
      },
      "execution_count": null,
      "outputs": []
    },
    {
      "cell_type": "markdown",
      "source": [
        "*A <b>MultiIndex</b> with a combination of iterable index values as we created in `data_3`:*    \n",
        "\n",
        "\n",
        "\n"
      ],
      "metadata": {
        "id": "6r3C-UN5zCcX"
      }
    },
    {
      "cell_type": "code",
      "source": [
        "print(data_3.index)"
      ],
      "metadata": {
        "id": "6e6X2uKN6WFp"
      },
      "execution_count": null,
      "outputs": []
    },
    {
      "cell_type": "markdown",
      "source": [
        "*A <b>MultiIndex</b> with a combination of iterable index values as we created in `corp`:*  "
      ],
      "metadata": {
        "id": "mwOUwJsKzZRT"
      }
    },
    {
      "cell_type": "code",
      "source": [
        "print(corp.index)"
      ],
      "metadata": {
        "id": "4GmEZg8scntM"
      },
      "execution_count": null,
      "outputs": []
    },
    {
      "cell_type": "markdown",
      "source": [
        "With a hierarchically indexed object, so-called partial indexing is possible, enabling you to concisely select subsets of the data:"
      ],
      "metadata": {
        "id": "IQx_BjNz6hsP"
      }
    },
    {
      "cell_type": "code",
      "source": [
        "data_3['b']"
      ],
      "metadata": {
        "id": "4wzj0-Zc6lSx"
      },
      "execution_count": null,
      "outputs": []
    },
    {
      "cell_type": "code",
      "source": [
        "corp['EMEA']"
      ],
      "metadata": {
        "id": "uaA-HtT2crEL"
      },
      "execution_count": null,
      "outputs": []
    },
    {
      "cell_type": "code",
      "source": [
        "data_3['c']"
      ],
      "metadata": {
        "id": "VB16R24tbMGI"
      },
      "execution_count": null,
      "outputs": []
    },
    {
      "cell_type": "code",
      "source": [
        "data_3['b':'c']"
      ],
      "metadata": {
        "id": "2Izd5mXBcWs0"
      },
      "execution_count": null,
      "outputs": []
    },
    {
      "cell_type": "code",
      "source": [
        "data_3['b':'d']"
      ],
      "metadata": {
        "id": "7qcenCnW6pNY"
      },
      "execution_count": null,
      "outputs": []
    },
    {
      "cell_type": "code",
      "source": [
        "data_3.loc[['b', 'd']]"
      ],
      "metadata": {
        "id": "vdFLyCP26xMn"
      },
      "execution_count": null,
      "outputs": []
    },
    {
      "cell_type": "code",
      "source": [
        "corp.loc[['EMEA', 'Americas', 'AsiaPac']]"
      ],
      "metadata": {
        "id": "ABivpcHpcv2w"
      },
      "execution_count": null,
      "outputs": []
    },
    {
      "cell_type": "markdown",
      "source": [
        "Selection is even possible from an “inner” level. Here I select all of the values having the value \"2\" from the second index level:"
      ],
      "metadata": {
        "id": "FJqLoPqf61e1"
      }
    },
    {
      "cell_type": "code",
      "source": [
        "data_3.loc[:, 2]"
      ],
      "metadata": {
        "id": "KbR__x5B62Wx"
      },
      "execution_count": null,
      "outputs": []
    },
    {
      "cell_type": "markdown",
      "source": [
        "Or, all of the company `201` rows from the `corp` DataFrame:    "
      ],
      "metadata": {
        "id": "rDSUhBJ4zofd"
      }
    },
    {
      "cell_type": "code",
      "source": [
        "corp.loc[:,201]"
      ],
      "metadata": {
        "id": "z6Q2sgPMdR6a"
      },
      "execution_count": null,
      "outputs": []
    },
    {
      "cell_type": "markdown",
      "source": [
        "Hierarchical indexing plays an important role in reshaping data and group-based operations like forming a pivot table. For example, you can rearrange this data into a DataFrame using its `.unstack()` method:"
      ],
      "metadata": {
        "id": "J4EMUDYX6-Ki"
      }
    },
    {
      "cell_type": "code",
      "source": [
        "data_3.unstack()"
      ],
      "metadata": {
        "id": "i34gC42Z69gS"
      },
      "execution_count": null,
      "outputs": []
    },
    {
      "cell_type": "code",
      "source": [
        "corp.unstack()"
      ],
      "metadata": {
        "id": "AI7NtxcXeKN1"
      },
      "execution_count": null,
      "outputs": []
    },
    {
      "cell_type": "markdown",
      "source": [
        "The inverse operation of `.unstack()` is `.stack()`:"
      ],
      "metadata": {
        "id": "_PxERJLL7IKL"
      }
    },
    {
      "cell_type": "code",
      "source": [
        "data_3.unstack().stack()"
      ],
      "metadata": {
        "id": "-P0OOS1r7I2g"
      },
      "execution_count": null,
      "outputs": []
    },
    {
      "cell_type": "code",
      "source": [
        "corp.unstack().stack()"
      ],
      "metadata": {
        "id": "BzcHfcTwehIF"
      },
      "execution_count": null,
      "outputs": []
    },
    {
      "cell_type": "markdown",
      "source": [
        "`.stack()` and `.unstack()` are explored in more detail in [Chapter 8 of Wes Mckinney's Python for Data Analysis](https://wesmckinney.com/book/data-wrangling.html)."
      ],
      "metadata": {
        "id": "emgys0mZ7Omf"
      }
    },
    {
      "cell_type": "markdown",
      "source": [
        "---"
      ],
      "metadata": {
        "id": "P9200wRXZbQF"
      }
    },
    {
      "cell_type": "markdown",
      "source": [
        "With a DataFrame, either axis can have a hierarchical index:\n"
      ],
      "metadata": {
        "id": "6a4eZpNn7rw1"
      }
    },
    {
      "cell_type": "code",
      "source": [
        "frame = pd.DataFrame(np.arange(12).reshape((4, 3)),\n",
        "            index=[['a', 'a', 'b', 'b'], [1, 2, 1, 2]],\n",
        "            columns=[['Ohio', 'Ohio', 'Colorado'],\n",
        "            ['Green', 'Red', 'Green']])"
      ],
      "metadata": {
        "id": "Wp4Vg6yQ7tQM"
      },
      "execution_count": null,
      "outputs": []
    },
    {
      "cell_type": "code",
      "source": [
        "print(frame)"
      ],
      "metadata": {
        "id": "YC1Vpd8l7-IZ"
      },
      "execution_count": null,
      "outputs": []
    },
    {
      "cell_type": "markdown",
      "source": [
        "The hierarchical levels can have names (as strings or any Python objects). If so, these will show up in the console output:\n"
      ],
      "metadata": {
        "id": "qX2waJ9B78af"
      }
    },
    {
      "cell_type": "code",
      "source": [
        "# Assign key1 and key2 as `frame` index hierarchy names, respectively   \n",
        "frame.index.names = ['key1', 'key2'] \n",
        "\n",
        "# Assign state and color as `frame` column hierarchy names, respectively \n",
        "frame.columns.names = ['state', 'color']"
      ],
      "metadata": {
        "id": "69qy6EZ-8Fj4"
      },
      "execution_count": null,
      "outputs": []
    },
    {
      "cell_type": "code",
      "source": [
        "print(frame)"
      ],
      "metadata": {
        "id": "sjqGsIVu8IYM"
      },
      "execution_count": null,
      "outputs": []
    },
    {
      "cell_type": "code",
      "source": [
        "# Assign key1 and key2 as `frame` index hierarchy names, respectively   \n",
        "frame.index.names = ['Region', 'Product'] \n",
        "\n",
        "# Assign state and color as `frame` column hierarchy names, respectively \n",
        "frame.columns.names = ['state', 'color']"
      ],
      "metadata": {
        "id": "0IGlQgAefb8_"
      },
      "execution_count": null,
      "outputs": []
    },
    {
      "cell_type": "code",
      "source": [
        "print(frame)"
      ],
      "metadata": {
        "id": "D-rNkuFRfgpv"
      },
      "execution_count": null,
      "outputs": []
    },
    {
      "cell_type": "markdown",
      "source": [
        "***Caution***    \n",
        "*Be careful to note the index names `state` and `color` are not part of the row labels (the `frame.index values`).*"
      ],
      "metadata": {
        "id": "19U_Km-28sN3"
      }
    },
    {
      "cell_type": "markdown",
      "source": [
        "With partial column indexing you can similarly select groups of columns:"
      ],
      "metadata": {
        "id": "WejlpZBF89yx"
      }
    },
    {
      "cell_type": "code",
      "source": [
        "frame['Ohio']"
      ],
      "metadata": {
        "id": "VtvBZ-Se8-wk"
      },
      "execution_count": null,
      "outputs": []
    },
    {
      "cell_type": "markdown",
      "source": [
        "A `MultiIndex` can be created by itself and then reused; the columns in the preceding DataFrame with level names could be created like this:"
      ],
      "metadata": {
        "id": "iZ6wW0o39CpZ"
      }
    },
    {
      "cell_type": "code",
      "source": [
        "pd.MultiIndex.from_arrays([['Ohio', 'Ohio', 'Colorado'],\n",
        "                          ['Green', 'Red', 'Green']],\n",
        "                          names=['state', 'color'])"
      ],
      "metadata": {
        "id": "XitjF5F69NfU"
      },
      "execution_count": null,
      "outputs": []
    },
    {
      "cell_type": "markdown",
      "source": [
        "###Reordering and Sorting Levels    \n",
        "\n"
      ],
      "metadata": {
        "id": "GS9z_gY89ZeV"
      }
    },
    {
      "cell_type": "markdown",
      "source": [
        "At times you may need to rearrange the order of the levels on an axis or sort the data by the values in one specific level. The swaplevel takes two level numbers or names and returns a new object with the levels interchanged (but the data is otherwise unaltered):"
      ],
      "metadata": {
        "id": "R8gXzYP_9et8"
      }
    },
    {
      "cell_type": "code",
      "source": [
        "# frame.swaplevel('key1', 'key2')  # not applicable due to `Region` `Product` assignment earlier\n",
        "frame.swaplevel('Region', 'Product')  "
      ],
      "metadata": {
        "id": "oqCC8GXc9fyr"
      },
      "execution_count": null,
      "outputs": []
    },
    {
      "cell_type": "markdown",
      "source": [
        "`sort_index`, on the other hand, sorts the data using only the values in a single level. When swapping levels, it’s not uncommon to also use `sort_index` so that the result is lexicographically sorted by the indicated level:"
      ],
      "metadata": {
        "id": "UQ3xB28n9ls1"
      }
    },
    {
      "cell_type": "code",
      "source": [
        "frame.sort_index(level=1)"
      ],
      "metadata": {
        "id": "yyWwJuuZ9rq8"
      },
      "execution_count": null,
      "outputs": []
    },
    {
      "cell_type": "code",
      "source": [
        "frame.swaplevel(0, 1).sort_index(level=0)"
      ],
      "metadata": {
        "id": "AfLN8QGm-Pio"
      },
      "execution_count": null,
      "outputs": []
    },
    {
      "cell_type": "markdown",
      "source": [
        "***Note:***    \n",
        "\n",
        "*Data selection performance is much better on hierarchically indexed objects if the index is lexicographically sorted starting with the outermost level—that is, the result of calling `sort_index(level=0)` or `sort_index()`.*    \n",
        "\n"
      ],
      "metadata": {
        "id": "6IrHx6vt-dfK"
      }
    },
    {
      "cell_type": "markdown",
      "source": [
        "###Summary Statistics by Level    \n",
        "\n"
      ],
      "metadata": {
        "id": "pMHdKxtS-iaq"
      }
    },
    {
      "cell_type": "markdown",
      "source": [
        "Many descriptive and summary statistics on DataFrame and Series have a `level` option in which you can specify the level you want to aggregate by on a particular axis. Consider the above DataFrame; we can aggregate by `level` on either the rows or columns like so:"
      ],
      "metadata": {
        "id": "Ay9Q0Mqo-ljF"
      }
    },
    {
      "cell_type": "code",
      "source": [
        "frame"
      ],
      "metadata": {
        "id": "znH_oTAshk9N"
      },
      "execution_count": null,
      "outputs": []
    },
    {
      "cell_type": "code",
      "source": [
        "# frame.groupby(level='key2').sum()   # not applicable due to `Region` `Product` assignment earlier\n",
        "frame.groupby(level='Product').sum()"
      ],
      "metadata": {
        "id": "U4noPte3-uGo"
      },
      "execution_count": null,
      "outputs": []
    },
    {
      "cell_type": "code",
      "source": [
        "frame.groupby(level='color', axis=1).sum()"
      ],
      "metadata": {
        "id": "xM7puDeo-zJk"
      },
      "execution_count": null,
      "outputs": []
    },
    {
      "cell_type": "markdown",
      "source": [
        "Internally, this utilizes pandas’s `groupby` machinery, which is discussed in more detail in the book [Python for Data Analysis](https://wesmckinney.com/book/data-aggregation.html)."
      ],
      "metadata": {
        "id": "2fxjFnwJACBB"
      }
    },
    {
      "cell_type": "markdown",
      "source": [
        "---"
      ],
      "metadata": {
        "id": "npxn2qmkgvz8"
      }
    },
    {
      "cell_type": "markdown",
      "source": [
        "###Indexing with a DataFrame's Columns    \n",
        "\n"
      ],
      "metadata": {
        "id": "ZBzCHcFrAaFR"
      }
    },
    {
      "cell_type": "markdown",
      "source": [
        "It’s not unusual to want to use one or more columns from a DataFrame as the row index; alternatively, you may wish to move the row index into the DataFrame’s columns. Here’s an example DataFrame:"
      ],
      "metadata": {
        "id": "qM7z0OgkAgj9"
      }
    },
    {
      "cell_type": "code",
      "source": [
        "frame = pd.DataFrame({'a': range(7), 'b': range(7, 0, -1),\n",
        "            'c': ['one', 'one', 'one', 'two', 'two',\n",
        "                 'two', 'two'],\n",
        "            'd': [0, 1, 2, 0, 1, 2, 3]})"
      ],
      "metadata": {
        "id": "qA83WIbZAiL3"
      },
      "execution_count": null,
      "outputs": []
    },
    {
      "cell_type": "code",
      "source": [
        "print(frame)"
      ],
      "metadata": {
        "id": "UQp_dl4kBYVP"
      },
      "execution_count": null,
      "outputs": []
    },
    {
      "cell_type": "markdown",
      "source": [
        "DataFrame’s `set_index` function will create a new DataFrame using one or more of its columns as the index:"
      ],
      "metadata": {
        "id": "fGFFmuGFBeGj"
      }
    },
    {
      "cell_type": "code",
      "source": [
        "frame2 = frame.set_index(['c', 'd'])"
      ],
      "metadata": {
        "id": "zp-yrRPjBjB2"
      },
      "execution_count": null,
      "outputs": []
    },
    {
      "cell_type": "code",
      "source": [
        "print(frame2)"
      ],
      "metadata": {
        "id": "aHPZyXb8BlGO"
      },
      "execution_count": null,
      "outputs": []
    },
    {
      "cell_type": "markdown",
      "source": [
        "By default the columns are removed from the DataFrame, though you can leave them in by passing `drop=False` to `set_index`:"
      ],
      "metadata": {
        "id": "2oLfImI6BrJe"
      }
    },
    {
      "cell_type": "code",
      "source": [
        "frame.set_index(['c', 'd'], drop=False)"
      ],
      "metadata": {
        "id": "cZtibXSEBvG-"
      },
      "execution_count": null,
      "outputs": []
    },
    {
      "cell_type": "markdown",
      "source": [
        "`reset_index`, on the other hand, does the opposite of `set_index`; the hierarchical index levels are moved into the columns:"
      ],
      "metadata": {
        "id": "1wbS0jkCB12R"
      }
    },
    {
      "cell_type": "code",
      "source": [
        "frame2.reset_index()"
      ],
      "metadata": {
        "id": "f5Mj3kJQB8KX"
      },
      "execution_count": null,
      "outputs": []
    },
    {
      "cell_type": "markdown",
      "source": [
        "\n",
        "\n",
        "---\n",
        "\n"
      ],
      "metadata": {
        "id": "OSy7YajwCB7O"
      }
    },
    {
      "cell_type": "markdown",
      "source": [
        "####**Related Exercise**\n",
        "\n",
        "\n",
        "*See the following section of this notebook or the notebook ['Dewey_Dictionary'](https://bit.ly/dewey_notebook) for a related exercise on hierarchical indexing using the Dewey Decimal System.* "
      ],
      "metadata": {
        "id": "gmG5r9z3CCzt"
      }
    },
    {
      "cell_type": "markdown",
      "source": [
        "\n",
        "\n",
        "---\n",
        "\n"
      ],
      "metadata": {
        "id": "AY-vbwVWCd7u"
      }
    },
    {
      "cell_type": "markdown",
      "source": [
        "##**2. Dewey Dictionary**    \n",
        "\n",
        "Loads the Dewey Decimal System **codes** and **categories** to a dictionary using a [reference from the University of Illinois Library](https://www.library.illinois.edu/infosci/research/guides/dewey/).   \n",
        "\n",
        "Makes the Dewey `code:category` dictionary available as a `pandas` DataFrame or as a Python Dictionary.     \n",
        "\n"
      ],
      "metadata": {
        "id": "lU9CQ2oeaQVn"
      }
    },
    {
      "cell_type": "markdown",
      "source": [
        "First, copy the file to the current working directory using a `.csv` file from ProfessorPatrickSlatraigh Github at:     \n",
        "* https://raw.githubusercontent.com/ProfessorPatrickSlatraigh/data/main/dewey_codes_categories.csv"
      ],
      "metadata": {
        "id": "hh9n29R8auDQ"
      }
    },
    {
      "cell_type": "code",
      "execution_count": null,
      "metadata": {
        "id": "Ov5o3VbjaMPq"
      },
      "outputs": [],
      "source": [
        "!curl 'https://raw.githubusercontent.com/ProfessorPatrickSlatraigh/data/main/dewey_codes_categories.csv' -o dewey_dictionary.csv"
      ]
    },
    {
      "cell_type": "markdown",
      "source": [
        "###Housekeeping    \n",
        "\n",
        "Import modules required:    \n",
        "* **csv** - to read a csv file into a variable    \n",
        "* **pandas** - for dataframes, etc.\n",
        "* **numpy** - for arrays   \n"
      ],
      "metadata": {
        "id": "ZCEF8LRbbG2B"
      }
    },
    {
      "cell_type": "code",
      "source": [
        "import csv    \n",
        "\n",
        "import pandas as pd    \n",
        "\n",
        "import numpy as np    "
      ],
      "metadata": {
        "id": "ZaAaplWDbZJH"
      },
      "execution_count": null,
      "outputs": []
    },
    {
      "cell_type": "markdown",
      "source": [
        "###Read the `CSV` into a Dictionary    \n",
        "\n",
        "Create an empty `dewey_dict` dictionary and populate it with `key:value` pairs read from the two columns in the `.csv` file, excluding the header row.    \n"
      ],
      "metadata": {
        "id": "twXFhL7McQvW"
      }
    },
    {
      "cell_type": "code",
      "source": [
        "# Create an empty dictionary for Dewey code:category pairs   \n",
        "dewey_dict = {}\n",
        "\n",
        "try: \n",
        "    with open('dewey_dictionary.csv', mode='r') as source:\n",
        "        csv_read = csv.reader(source)\n",
        "        next(csv_read)              # to skip the header row in the csv_read file\n",
        "        for line in csv_read: \n",
        "            # print(line)           # scaffolding to peek at lines in csv_read\n",
        "            # print(line[0])        # scaffolding to peek at col 0 in csv_read\n",
        "            # print(type(line[0]))  # scaffolding to peek at col 0 type in csv_read\n",
        "            # wait = input('Hit Enter to continue.') # wait for scaffolding output\n",
        "            dewey_dict[line[0]] = line[1] # dict entry (key=1st col, value=2nd col)\n",
        " \n",
        "    print('Created the `dewey_dict` Dictionary.')\n",
        "except:\n",
        "    print('Error encountered attempting to create `dewey_dict`.')"
      ],
      "metadata": {
        "id": "w_4rzLcfck5m"
      },
      "execution_count": null,
      "outputs": []
    },
    {
      "cell_type": "markdown",
      "source": [
        "Descriptive information on the `dewey_dict` Dictionary. "
      ],
      "metadata": {
        "id": "98ZLThE4rHFf"
      }
    },
    {
      "cell_type": "code",
      "source": [
        "# print the length of the dictionary (# of key:value pairs)\n",
        "print(len(dewey_dict))"
      ],
      "metadata": {
        "id": "USIUJfiBrN-Q"
      },
      "execution_count": null,
      "outputs": []
    },
    {
      "cell_type": "code",
      "source": [
        "# print the populated dictionary   \n",
        "print(dewey_dict)"
      ],
      "metadata": {
        "id": "WxwA5qAWrSUQ"
      },
      "execution_count": null,
      "outputs": []
    },
    {
      "cell_type": "markdown",
      "source": [
        "\n",
        "\n",
        "---\n",
        "\n"
      ],
      "metadata": {
        "id": "GhsoEHsLtq5a"
      }
    },
    {
      "cell_type": "markdown",
      "source": [
        "###Read the .CSV into a Dataframe then Create a Dictionary    \n",
        "\n",
        "Use of pandas' built-in function `read_csv()` with a few parameters to specify the `.csv` file format. After calling pandas `read_csv()`, convert the result to a dictionary using the built-in pandas function `to_dict()`."
      ],
      "metadata": {
        "id": "bih_uetKmyhO"
      }
    },
    {
      "cell_type": "markdown",
      "source": [
        "\n",
        "* `header` parameter specifies that the headers are explicitly passed or declared by another parameter.    \n",
        "* `index_col` specifies which column is used as the labels for the DataFrame object that the `read_csv()` function returns. In this case, the first column of index 0 is the key.    \n",
        "* `squeeze` parameter defines if the data contains only one column for values. In this case, there is only one column since the first column is used as the index column or the labels.    \n"
      ],
      "metadata": {
        "id": "N2bjeHb1oSpO"
      }
    },
    {
      "cell_type": "code",
      "source": [
        "try: \n",
        "    # Use pandas `read_csv` to read the file\n",
        "    df_dewey = pd.read_csv('dewey_dictionary.csv', header=0, index_col=0, squeeze=True)\n",
        "    \n",
        "    # Use pandas `to_dict()` to assign dataframe index:value to dictionary\n",
        "    dict_dewey = df_dewey.to_dict()\n",
        "    \n",
        "    print('Created `df_dewey` DataFrame and `dict_dewey` Dictionary.')\n",
        "except:\n",
        "    print('Error attempting to create `df_dewey` and/or `dict_dewey.')"
      ],
      "metadata": {
        "id": "leGySunmefuw"
      },
      "execution_count": null,
      "outputs": []
    },
    {
      "cell_type": "markdown",
      "source": [
        "Descriptive information on the `df_dewey` DataFrame (a series, with `dewey_code` as the index.)"
      ],
      "metadata": {
        "id": "s_fZEDl3qzdY"
      }
    },
    {
      "cell_type": "code",
      "source": [
        "df_dewey.describe"
      ],
      "metadata": {
        "id": "6mDrq9Z_pkr_"
      },
      "execution_count": null,
      "outputs": []
    },
    {
      "cell_type": "code",
      "source": [
        "df_dewey.head()"
      ],
      "metadata": {
        "id": "5lh8-rXhqN9v"
      },
      "execution_count": null,
      "outputs": []
    },
    {
      "cell_type": "markdown",
      "source": [
        "Descriptive information on the `dict_dewey` Dictionary."
      ],
      "metadata": {
        "id": "eDY-nrsOqeLZ"
      }
    },
    {
      "cell_type": "code",
      "source": [
        "print(len(dict_dewey))"
      ],
      "metadata": {
        "id": "snPgXsISqsXn"
      },
      "execution_count": null,
      "outputs": []
    },
    {
      "cell_type": "code",
      "source": [
        "print(dict_dewey)"
      ],
      "metadata": {
        "id": "b-nCvrblpC_X"
      },
      "execution_count": null,
      "outputs": []
    },
    {
      "cell_type": "markdown",
      "source": [
        "\n",
        "\n",
        "---\n",
        "\n"
      ],
      "metadata": {
        "id": "Dw5vtx6CtsDi"
      }
    },
    {
      "cell_type": "markdown",
      "source": [
        "###**<u>Exercise</u>**    \n",
        "\n",
        "Add your code below to take a DataFrame with Dewey Decimal System `dewey_code` and `dewey_category` columns and transform the DataFrame to include a hierarchical structure of the following columns, derived from the `dewey_code` column:    \n",
        "* **dewey_level1** - based on the **first** character in `dewey_code`    \n",
        "* **dewey_level2** - based on the **second** character in `dewey_code`    \n",
        "* **dewey_level3** - based on the **third** character in `dewey_code`    \n",
        "\n"
      ],
      "metadata": {
        "id": "kByEik96ttTC"
      }
    },
    {
      "cell_type": "markdown",
      "source": [
        "*Note:*    \n",
        "\n",
        "*Refer to the first section of this notebook or the Colab notebook on [**Hierarchical Indexing**](https://bit.ly/hierarchical_indexing) for reference/refresher information.*    "
      ],
      "metadata": {
        "id": "B0OJ21j3EJQy"
      }
    },
    {
      "cell_type": "code",
      "source": [
        "### YOUR CODE HERE ###\n",
        "### add snippets below, if you like ###"
      ],
      "metadata": {
        "id": "6eN0WBVOusnb"
      },
      "execution_count": null,
      "outputs": []
    }
  ]
}