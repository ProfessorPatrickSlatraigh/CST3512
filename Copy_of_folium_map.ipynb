{
  "nbformat": 4,
  "nbformat_minor": 0,
  "metadata": {
    "colab": {
      "name": "Copy of folium_map.ipynb",
      "provenance": [],
      "collapsed_sections": [],
      "authorship_tag": "ABX9TyO1bCj9YGYSmlzJZD3iGw4B",
      "include_colab_link": true
    },
    "kernelspec": {
      "name": "python3",
      "display_name": "Python 3"
    },
    "language_info": {
      "name": "python"
    }
  },
  "cells": [
    {
      "cell_type": "markdown",
      "metadata": {
        "id": "view-in-github",
        "colab_type": "text"
      },
      "source": [
        "<a href=\"https://colab.research.google.com/github/ProfessorPatrickSlatraigh/CST3512/blob/main/Copy_of_folium_map.ipynb\" target=\"_parent\"><img src=\"https://colab.research.google.com/assets/colab-badge.svg\" alt=\"Open In Colab\"/></a>"
      ]
    },
    {
      "cell_type": "markdown",
      "source": [
        "#Folium Map    \n",
        "\n",
        "Includes information from:    \n",
        "\n",
        "* **Using GeoJson with Folio** - [Youtube video](https://youtu.be/oTVqwN5ymKo) by franchyze923 and supporting [Github repo](https://github.com/franchyze923/Code_From_Tutorials/tree/master/Python%20Folium%20Web%20Mapping)    \n",
        "\n"
      ],
      "metadata": {
        "id": "8guV_QQ1dacx"
      }
    },
    {
      "cell_type": "markdown",
      "source": [
        "**GeoJson and KML Data**\n",
        "GeoJason and KML data for the United States in available in varying levels of detail by state, county, and congressional district from the following:    \n",
        "* [**GEOJSON AND KML DATA FOR THE UNITED STATES**](https://eric.clst.org/tech/usgeojson/)\n",
        "\n",
        "\n",
        "**BaseMaps**\n",
        "\n",
        "Leaflet basemaps are available from the following:    \n",
        "\n",
        "* [**Github: leaflet-extras**](https://leaflet-extras.github.io/leaflet-providers/preview/)    \n",
        "\n",
        "\n",
        "**leaflet API**    \n",
        "\n",
        "Leaflet API documentation on objects, methods, parameters, and more available from the following:    \n",
        "\n",
        "* [**Leaflet - an open-source JavaScript library for mobile-friendly interactive maps**](https://leafletjs.com/reference-1.6.0.html#path-option)\n"
      ],
      "metadata": {
        "id": "1vGdj8c4mr5g"
      }
    },
    {
      "cell_type": "markdown",
      "source": [
        "##Housekeeping    \n",
        "\n",
        "Import the `folium` module    \n"
      ],
      "metadata": {
        "id": "H9RKDQtlfptB"
      }
    },
    {
      "cell_type": "code",
      "execution_count": null,
      "metadata": {
        "id": "ekmPQsYmdXwx"
      },
      "outputs": [],
      "source": [
        "# import folium for creation of maps \n",
        "import folium    \n",
        "\n",
        "# import pandas for dataframe use    \n",
        "import pandas as pd \n"
      ]
    },
    {
      "cell_type": "markdown",
      "source": [
        "##Map of U.S. States    \n"
      ],
      "metadata": {
        "id": "oiP3wE1aICQM"
      }
    },
    {
      "cell_type": "code",
      "source": [
        "# create a map variable `m` with   \n",
        "m = folium.Map(location=[37, 0],\n",
        "           zoom_start=2.5,\n",
        "           tiles='https://server.arcgisonline.com/arcgis/rest/services/Canvas/World_Dark_Gray_Base/MapServer/tile/{z}/{y}/{x}',\n",
        "           attr='My Data Attribution')\n"
      ],
      "metadata": {
        "id": "G2cMAWPef6T-"
      },
      "execution_count": null,
      "outputs": []
    },
    {
      "cell_type": "code",
      "source": [
        "# load a `.geojson` shape file for U.S. states and counties to the current working directory \n",
        "!curl https://raw.githubusercontent.com/kjhealy/us-county/master/data/geojson/gz_2010_us_040_00_500k.json -o \"gz_2010_us_040_00_500k.geojson\""
      ],
      "metadata": {
        "id": "CuMouLixhfVT"
      },
      "execution_count": null,
      "outputs": []
    },
    {
      "cell_type": "code",
      "source": [
        "# assign a real string to a `geojson` variable with a path to the `.geojson` shape file \n",
        "geojson = r\"gz_2010_us_040_00_500k.geojson\""
      ],
      "metadata": {
        "id": "dipcCS9jgKo5"
      },
      "execution_count": null,
      "outputs": []
    },
    {
      "cell_type": "code",
      "source": [
        "# create a variable `g` using the `.GeoJson()` method\n",
        "g = folium.GeoJson(\n",
        "    geojson,\n",
        "    name='geojson'\n",
        ").add_to(m)"
      ],
      "metadata": {
        "id": "RiXzlDiLgWDF"
      },
      "execution_count": null,
      "outputs": []
    },
    {
      "cell_type": "code",
      "source": [
        "# adding NAME to the GeoJson variabl `g`\n",
        "folium.GeoJsonTooltip(fields=[\"NAME\"]).add_to(g)"
      ],
      "metadata": {
        "id": "QlxvYEkdios4"
      },
      "execution_count": null,
      "outputs": []
    },
    {
      "cell_type": "code",
      "source": [
        "# save the map as an HTML document \n",
        "m.save(\"sample_map.html\")    \n"
      ],
      "metadata": {
        "id": "BIxALl9BgFQ1"
      },
      "execution_count": null,
      "outputs": []
    },
    {
      "cell_type": "code",
      "source": [
        "# download the `sample_map.html` file\n",
        "# !gdown sample_map.html  # this would work if the file is in Google Drive with permission\n",
        "\n",
        "from google.colab import files\n",
        "files.download(\"sample_map.html\")"
      ],
      "metadata": {
        "colab": {
          "base_uri": "https://localhost:8080/",
          "height": 17
        },
        "id": "8DbrEiXFjV4U",
        "outputId": "19334b31-aa1e-4fc1-d782-4c5a3a8f628b"
      },
      "execution_count": null,
      "outputs": [
        {
          "output_type": "display_data",
          "data": {
            "text/plain": [
              "<IPython.core.display.Javascript object>"
            ],
            "application/javascript": [
              "\n",
              "    async function download(id, filename, size) {\n",
              "      if (!google.colab.kernel.accessAllowed) {\n",
              "        return;\n",
              "      }\n",
              "      const div = document.createElement('div');\n",
              "      const label = document.createElement('label');\n",
              "      label.textContent = `Downloading \"${filename}\": `;\n",
              "      div.appendChild(label);\n",
              "      const progress = document.createElement('progress');\n",
              "      progress.max = size;\n",
              "      div.appendChild(progress);\n",
              "      document.body.appendChild(div);\n",
              "\n",
              "      const buffers = [];\n",
              "      let downloaded = 0;\n",
              "\n",
              "      const channel = await google.colab.kernel.comms.open(id);\n",
              "      // Send a message to notify the kernel that we're ready.\n",
              "      channel.send({})\n",
              "\n",
              "      for await (const message of channel.messages) {\n",
              "        // Send a message to notify the kernel that we're ready.\n",
              "        channel.send({})\n",
              "        if (message.buffers) {\n",
              "          for (const buffer of message.buffers) {\n",
              "            buffers.push(buffer);\n",
              "            downloaded += buffer.byteLength;\n",
              "            progress.value = downloaded;\n",
              "          }\n",
              "        }\n",
              "      }\n",
              "      const blob = new Blob(buffers, {type: 'application/binary'});\n",
              "      const a = document.createElement('a');\n",
              "      a.href = window.URL.createObjectURL(blob);\n",
              "      a.download = filename;\n",
              "      div.appendChild(a);\n",
              "      a.click();\n",
              "      div.remove();\n",
              "    }\n",
              "  "
            ]
          },
          "metadata": {}
        },
        {
          "output_type": "display_data",
          "data": {
            "text/plain": [
              "<IPython.core.display.Javascript object>"
            ],
            "application/javascript": [
              "download(\"download_52fb982d-cdcd-4adc-8ba3-b37b1052ee5a\", \"sample_map.html\", 2291185)"
            ]
          },
          "metadata": {}
        }
      ]
    },
    {
      "cell_type": "markdown",
      "source": [
        "\n",
        "\n",
        "---\n",
        "\n"
      ],
      "metadata": {
        "id": "FNaV9ZWMIOtF"
      }
    },
    {
      "cell_type": "markdown",
      "source": [
        "##Map of Dublin Bike Rental Locations    \n",
        "\n"
      ],
      "metadata": {
        "id": "dVlc2Cv4IQyU"
      }
    },
    {
      "cell_type": "markdown",
      "source": [
        "###Data Source     \n",
        "\n",
        "The data is from the **Dublin Bikes API**, specifically the location of bike rental stations:    \n",
        "\n",
        "```\n",
        "https://data.smartdublin.ie/dataset/33ec9fe2-4957-4e9a-ab55-c5e917c7a9ab/resource/2dec86ed-76ed-47a3-ae28-646db5c5b965/download/dublin.csv\n",
        "```\n",
        "\n",
        "\n"
      ],
      "metadata": {
        "id": "GwTZiWfpIi_-"
      }
    },
    {
      "cell_type": "markdown",
      "source": [
        "###Getting the bike station locations and saving to a Pandas data frame  \n",
        "\n"
      ],
      "metadata": {
        "id": "Yj86KWifI0gt"
      }
    },
    {
      "cell_type": "code",
      "source": [
        "# assign URL of source data file to a variable\n",
        "location = \"https://data.smartdublin.ie/dataset/33ec9fe2-4957-4e9a-ab55-c5e917c7a9ab/resource/2dec86ed-76ed-47a3-ae28-646db5c5b965/download/dublin.csv\"\n",
        "\n",
        "# use the variable `location` to read a `.csv` file of data into the dataframe `bike_station_locations`\n",
        "bike_station_locations = pd.read_csv(location)"
      ],
      "metadata": {
        "id": "BRtdlgA5IVpj"
      },
      "execution_count": null,
      "outputs": []
    },
    {
      "cell_type": "code",
      "source": [
        "# query the new dataframe `bike_station_locations`\n",
        "print(bike_station_locations)"
      ],
      "metadata": {
        "id": "d_PshKXfJMJK"
      },
      "execution_count": null,
      "outputs": []
    },
    {
      "cell_type": "markdown",
      "source": [
        "###Keeping only the columns needed    \n",
        "\n",
        "Keep the `Latitude`, `Longitude`, and the `Name` of the location. The former two columns will allow mapping the locations and the latter will give each location pin a name:"
      ],
      "metadata": {
        "id": "fPlwrpTmJYFb"
      }
    },
    {
      "cell_type": "code",
      "source": [
        "bike_station_locations = bike_station_locations[[\"Latitude\", \"Longitude\", \"Name\"]]"
      ],
      "metadata": {
        "id": "u56WQ-sCJmeu"
      },
      "execution_count": null,
      "outputs": []
    },
    {
      "cell_type": "markdown",
      "source": [
        "###Creating the map"
      ],
      "metadata": {
        "id": "KSCZ2OmPJtsF"
      }
    },
    {
      "cell_type": "code",
      "source": [
        "map = folium.Map(location=[bike_station_locations.Latitude.mean(), bike_station_locations.Longitude.mean()], zoom_start=14, control_scale=True)"
      ],
      "metadata": {
        "id": "P1s-mulMJtGQ"
      },
      "execution_count": null,
      "outputs": []
    },
    {
      "cell_type": "markdown",
      "source": [
        "The last statement gives a blank map centered on the location previously given and zoomed to 14."
      ],
      "metadata": {
        "id": "leWwqqJXJ-Pc"
      }
    },
    {
      "cell_type": "markdown",
      "source": [
        "###Adding points to the map    \n",
        "\n",
        "Add the points for each bike station location to the map. Iterating through each row of the dataframe, pass the location `Latitude` and `Longitude` to folium.  Add a marker as a list and pass `Name` to the popup parameter."
      ],
      "metadata": {
        "id": "iwGdj5i4KCf-"
      }
    },
    {
      "cell_type": "code",
      "source": [
        "for index, location_info in bike_station_locations.iterrows():\n",
        "    folium.Marker([location_info[\"Latitude\"], location_info[\"Longitude\"]], popup=location_info[\"Name\"]).add_to(map)"
      ],
      "metadata": {
        "id": "hC5oZWIpKdLP"
      },
      "execution_count": null,
      "outputs": []
    },
    {
      "cell_type": "markdown",
      "source": [
        "###Save and Download the `.html` map file    \n"
      ],
      "metadata": {
        "id": "xMP4jy9aLFpn"
      }
    },
    {
      "cell_type": "code",
      "source": [
        "# save the map as an HTML document \n",
        "map.save(\"dublin_bike_map.html\")    \n"
      ],
      "metadata": {
        "id": "xv6ey8yuLce2"
      },
      "execution_count": null,
      "outputs": []
    },
    {
      "cell_type": "code",
      "source": [
        "# download the `dublin_bike_map.html` file\n",
        "# !gdown dublin_bike_map.html  # this would work if the file is in Google Drive with permission\n",
        "\n",
        "from google.colab import files\n",
        "files.download(\"dublin_bike_map.html\")"
      ],
      "metadata": {
        "colab": {
          "base_uri": "https://localhost:8080/",
          "height": 17
        },
        "id": "9m5dMuhLLi_l",
        "outputId": "f5c0e847-1df0-46ad-bf1f-1450e466fc14"
      },
      "execution_count": null,
      "outputs": [
        {
          "output_type": "display_data",
          "data": {
            "text/plain": [
              "<IPython.core.display.Javascript object>"
            ],
            "application/javascript": [
              "\n",
              "    async function download(id, filename, size) {\n",
              "      if (!google.colab.kernel.accessAllowed) {\n",
              "        return;\n",
              "      }\n",
              "      const div = document.createElement('div');\n",
              "      const label = document.createElement('label');\n",
              "      label.textContent = `Downloading \"${filename}\": `;\n",
              "      div.appendChild(label);\n",
              "      const progress = document.createElement('progress');\n",
              "      progress.max = size;\n",
              "      div.appendChild(progress);\n",
              "      document.body.appendChild(div);\n",
              "\n",
              "      const buffers = [];\n",
              "      let downloaded = 0;\n",
              "\n",
              "      const channel = await google.colab.kernel.comms.open(id);\n",
              "      // Send a message to notify the kernel that we're ready.\n",
              "      channel.send({})\n",
              "\n",
              "      for await (const message of channel.messages) {\n",
              "        // Send a message to notify the kernel that we're ready.\n",
              "        channel.send({})\n",
              "        if (message.buffers) {\n",
              "          for (const buffer of message.buffers) {\n",
              "            buffers.push(buffer);\n",
              "            downloaded += buffer.byteLength;\n",
              "            progress.value = downloaded;\n",
              "          }\n",
              "        }\n",
              "      }\n",
              "      const blob = new Blob(buffers, {type: 'application/binary'});\n",
              "      const a = document.createElement('a');\n",
              "      a.href = window.URL.createObjectURL(blob);\n",
              "      a.download = filename;\n",
              "      div.appendChild(a);\n",
              "      a.click();\n",
              "      div.remove();\n",
              "    }\n",
              "  "
            ]
          },
          "metadata": {}
        },
        {
          "output_type": "display_data",
          "data": {
            "text/plain": [
              "<IPython.core.display.Javascript object>"
            ],
            "application/javascript": [
              "download(\"download_861e2fed-e0f6-4a3f-b6a7-5d280962b393\", \"dublin_bike_map.html\", 92744)"
            ]
          },
          "metadata": {}
        }
      ]
    },
    {
      "cell_type": "markdown",
      "source": [
        "Note: The map uses an **OpenStreetMap** `tile` by default, though other options can be used by adding the parameter `tiles` and a values) when creating the map. There are examples in the docs [here](https://python-visualization.github.io/folium/modules.html.    \n",
        "\n",
        "More information on **OpenStreetMap** can be found [here](https://www.openstreetmap.org/#map=3/71.34/-96.82).    \n",
        "\n"
      ],
      "metadata": {
        "id": "mxRx_jwVKpWG"
      }
    }
  ]
}