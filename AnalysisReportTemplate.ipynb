{
  "nbformat": 4,
  "nbformat_minor": 0,
  "metadata": {
    "colab": {
      "name": "AnalysisReportTemplate.ipynb",
      "provenance": [],
      "collapsed_sections": [],
      "authorship_tag": "ABX9TyMBT4DNf9oSUwk/fKKycNhp",
      "include_colab_link": true
    },
    "kernelspec": {
      "name": "python3",
      "display_name": "Python 3"
    },
    "language_info": {
      "name": "python"
    }
  },
  "cells": [
    {
      "cell_type": "markdown",
      "metadata": {
        "id": "view-in-github",
        "colab_type": "text"
      },
      "source": [
        "<a href=\"https://colab.research.google.com/github/ProfessorPatrickSlatraigh/CST3512/blob/main/AnalysisReportTemplate.ipynb\" target=\"_parent\"><img src=\"https://colab.research.google.com/assets/colab-badge.svg\" alt=\"Open In Colab\"/></a>"
      ]
    },
    {
      "cell_type": "markdown",
      "source": [
        "#Analysis Report Template    \n",
        "\n",
        "\n",
        "**A shared resource for the organization of data science analysis and report presentation.**\n",
        "\n"
      ],
      "metadata": {
        "id": "Ar1dlppwcrPL"
      }
    },
    {
      "cell_type": "markdown",
      "source": [
        ""
      ],
      "metadata": {
        "id": "0PqttnLniYOf"
      }
    },
    {
      "cell_type": "code",
      "execution_count": null,
      "metadata": {
        "id": "mdHstE1UclGk"
      },
      "outputs": [],
      "source": [
        ""
      ]
    },
    {
      "cell_type": "markdown",
      "source": [
        "\n",
        "\n",
        "---\n",
        "\n"
      ],
      "metadata": {
        "id": "Q9r2AzaojPc-"
      }
    },
    {
      "cell_type": "markdown",
      "source": [
        "##Appendix - Data Sources to Consider   \n",
        "\n",
        "* **Kaggle** - Data sources across disciplines, time periods, and geographies\n",
        "* **OWID** - Our World Data\n",
        "* **Project Gutenberg** - Open-source text of works of literature\n",
        "* **Data.gov** - A variety of sources of data on government measures\n",
        "* **NYC Open Data** - Multiple data sources from New York City Governmeny\n",
        "* **Yahoo Finance** - Time-series market data and a variety of data sources about public companies\n",
        "* **EDGAR** - Security and Exchange Commission (SEC) data of corporate filings\n",
        "* **Weather** - Various data sources\n",
        "* **Geolocation** - Google and other data sources   \n",
        "\n",
        "\n",
        "*note: Google curates a [catalog of open data source](google.com/publicdata/directory)s*\n"
      ],
      "metadata": {
        "id": "HmsMn9RCjQgC"
      }
    },
    {
      "cell_type": "markdown",
      "source": [
        "###Kaggle     \n",
        "\n",
        "place Kaggle info and links in this section"
      ],
      "metadata": {
        "id": "UskbroIclq-F"
      }
    },
    {
      "cell_type": "markdown",
      "source": [
        "###OWID     \n",
        "\n",
        "place OWDI info and links in this section"
      ],
      "metadata": {
        "id": "-T6hey5olyjV"
      }
    },
    {
      "cell_type": "markdown",
      "source": [
        "###Project Gutenberg     \n",
        "\n",
        "place Project Gutenberg info and links in this section   \n"
      ],
      "metadata": {
        "id": "xP8m-_Nul-I-"
      }
    },
    {
      "cell_type": "markdown",
      "source": [
        "###Data.gov    \n",
        "\n",
        "place data.gov info and links in this section    \n",
        "\n"
      ],
      "metadata": {
        "id": "f6pRUqRNmG6a"
      }
    },
    {
      "cell_type": "markdown",
      "source": [
        "### NYC Open Data    \n",
        "\n",
        "place New York City Open Data info and links in this section    \n"
      ],
      "metadata": {
        "id": "OzgpRLetmNC6"
      }
    },
    {
      "cell_type": "markdown",
      "source": [
        "### Yahoo Finance    \n",
        "\n",
        "place Yahoo Finance info and links here    \n",
        "\n"
      ],
      "metadata": {
        "id": "5CMqlhKOmbGz"
      }
    },
    {
      "cell_type": "markdown",
      "source": [
        "###EDGAR (U.S. SEC)    \n",
        "\n",
        "place SEC Edgar info and links in this section    \n"
      ],
      "metadata": {
        "id": "is50vYoPmmFc"
      }
    },
    {
      "cell_type": "markdown",
      "source": [
        "###Google Catalog of Open Data    \n",
        "\n",
        "place Google Catalog of Open Data info and links here.\n",
        "\n",
        "See `google.com/publicdata/directory` for the home page. "
      ],
      "metadata": {
        "id": "iv4rE81xmwC2"
      }
    },
    {
      "cell_type": "markdown",
      "source": [
        "\n",
        "\n",
        "---\n",
        "\n"
      ],
      "metadata": {
        "id": "z6yO_9P9li_u"
      }
    }
  ]
}