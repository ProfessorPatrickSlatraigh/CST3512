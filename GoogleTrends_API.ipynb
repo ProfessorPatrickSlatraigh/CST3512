{
  "nbformat": 4,
  "nbformat_minor": 0,
  "metadata": {
    "colab": {
      "name": "GoogleTrends_API.ipynb",
      "provenance": [],
      "collapsed_sections": [],
      "include_colab_link": true
    },
    "kernelspec": {
      "name": "python3",
      "display_name": "Python 3"
    }
  },
  "cells": [
    {
      "cell_type": "markdown",
      "metadata": {
        "id": "view-in-github",
        "colab_type": "text"
      },
      "source": [
        "<a href=\"https://colab.research.google.com/github/ProfessorPatrickSlatraigh/CST3512/blob/main/GoogleTrends_API.ipynb\" target=\"_parent\"><img src=\"https://colab.research.google.com/assets/colab-badge.svg\" alt=\"Open In Colab\"/></a>"
      ]
    },
    {
      "cell_type": "markdown",
      "metadata": {
        "id": "R4pXe__UmetC"
      },
      "source": [
        "# Google Trends API for Python"
      ]
    },
    {
      "cell_type": "markdown",
      "metadata": {
        "id": "dzFAuTuHmfiU"
      },
      "source": [
        "## In this tutorial, I will demonstrate how to use the Google Trends API for getting the current trending topics on the internet.\n",
        "\n",
        "\n",
        "![alt text](https://cdn-images-1.medium.com/max/1200/1*Fi6masemXJT3Q8YWekQCDQ.png)"
      ]
    },
    {
      "cell_type": "markdown",
      "metadata": {
        "id": "_ptTzrFtmlig"
      },
      "source": [
        "# Introduction\n",
        "\n",
        "[Google trends](https://trends.google.com/trends/?geo=US) is a website that analyzes and lists the popular search results on Google search based on various regions and languages. Google Trends is Google's website (obviously). With the help of this tutorial, you can get the trending results and many more from google trends website using python. You don't need to manually search and copy the trending results, the Python API called `pytrends` does the job for you. Before getting started, I want all of you guys to go through the official documentation of the `pytrends` API."
      ]
    },
    {
      "cell_type": "markdown",
      "metadata": {
        "id": "FZ03EX8JmqNK"
      },
      "source": [
        "[pytrends API](https://pypi.org/project/pytrends/)\n",
        "\n",
        "\n",
        "\n",
        "---"
      ]
    },
    {
      "cell_type": "markdown",
      "metadata": {
        "id": "gM9A4G54mtLD"
      },
      "source": [
        "# Installation\n",
        "\n",
        "The first step is to install the library manually. So, open your favorite IDE or notebook start typing the following code. I will use [Google Colab](https://colab.research.google.com/) because it's my favorite notebook.\n",
        "\n",
        "\n",
        "\n",
        "> If you are using jupyter notebook, just type the code as it is (make sure you have '!' at the beginning)\n"
      ]
    },
    {
      "cell_type": "code",
      "metadata": {
        "id": "ID0raHgkmvps",
        "colab": {
          "base_uri": "https://localhost:8080/"
        },
        "outputId": "41e76dfb-9385-4b5f-bb62-979329c98c61"
      },
      "source": [
        "!pip install pytrends"
      ],
      "execution_count": null,
      "outputs": [
        {
          "output_type": "stream",
          "name": "stdout",
          "text": [
            "Looking in indexes: https://pypi.org/simple, https://us-python.pkg.dev/colab-wheels/public/simple/\n",
            "Collecting pytrends\n",
            "  Downloading pytrends-4.8.0.tar.gz (19 kB)\n",
            "Requirement already satisfied: requests>=2.0 in /usr/local/lib/python3.7/dist-packages (from pytrends) (2.23.0)\n",
            "Requirement already satisfied: pandas>=0.25 in /usr/local/lib/python3.7/dist-packages (from pytrends) (1.3.5)\n",
            "Requirement already satisfied: lxml in /usr/local/lib/python3.7/dist-packages (from pytrends) (4.2.6)\n",
            "Requirement already satisfied: numpy>=1.17.3 in /usr/local/lib/python3.7/dist-packages (from pandas>=0.25->pytrends) (1.21.6)\n",
            "Requirement already satisfied: pytz>=2017.3 in /usr/local/lib/python3.7/dist-packages (from pandas>=0.25->pytrends) (2022.1)\n",
            "Requirement already satisfied: python-dateutil>=2.7.3 in /usr/local/lib/python3.7/dist-packages (from pandas>=0.25->pytrends) (2.8.2)\n",
            "Requirement already satisfied: six>=1.5 in /usr/local/lib/python3.7/dist-packages (from python-dateutil>=2.7.3->pandas>=0.25->pytrends) (1.15.0)\n",
            "Requirement already satisfied: idna<3,>=2.5 in /usr/local/lib/python3.7/dist-packages (from requests>=2.0->pytrends) (2.10)\n",
            "Requirement already satisfied: urllib3!=1.25.0,!=1.25.1,<1.26,>=1.21.1 in /usr/local/lib/python3.7/dist-packages (from requests>=2.0->pytrends) (1.24.3)\n",
            "Requirement already satisfied: certifi>=2017.4.17 in /usr/local/lib/python3.7/dist-packages (from requests>=2.0->pytrends) (2022.5.18.1)\n",
            "Requirement already satisfied: chardet<4,>=3.0.2 in /usr/local/lib/python3.7/dist-packages (from requests>=2.0->pytrends) (3.0.4)\n",
            "Building wheels for collected packages: pytrends\n",
            "  Building wheel for pytrends (setup.py) ... \u001b[?25l\u001b[?25hdone\n",
            "  Created wheel for pytrends: filename=pytrends-4.8.0-py3-none-any.whl size=16126 sha256=43a55a739a5e7f5c4d84f058b480e757035941de509aff5b87341b68a1ca6011\n",
            "  Stored in directory: /root/.cache/pip/wheels/07/6f/5c/8174f98dec1bfbc7d5da4092854afcbcff4b26c3d9b66b5183\n",
            "Successfully built pytrends\n",
            "Installing collected packages: pytrends\n",
            "Successfully installed pytrends-4.8.0\n"
          ]
        }
      ]
    },
    {
      "cell_type": "markdown",
      "metadata": {
        "id": "FrLYHTJUmzw4"
      },
      "source": [
        "Or, if you are using an IDE, just type the following code\n",
        "\n"
      ]
    },
    {
      "cell_type": "code",
      "metadata": {
        "id": "PUOPJhkJm2yW"
      },
      "source": [
        "# no need to execute the next statement if you did the earlier pip install\n",
        "# pip install pytrends"
      ],
      "execution_count": null,
      "outputs": []
    },
    {
      "cell_type": "markdown",
      "metadata": {
        "id": "711Pz41Im6YU"
      },
      "source": [
        "After executing the above code you should get a successful message as shown above\n",
        "\n",
        "\n",
        "\n",
        "---\n",
        "\n"
      ]
    },
    {
      "cell_type": "markdown",
      "metadata": {
        "id": "vXPG2708m9QW"
      },
      "source": [
        "# Implementation\n",
        "\n",
        "## Connecting to Google\n",
        "\n",
        "You must connect to Google first because after all, we are requesting the Google trending topics from Google Trends. For this, we need to import the method called `TrendReq` from `pytrends.request` library. Also, I will import the pandas library to store and visualize the data which you see in the later tutorial."
      ]
    },
    {
      "cell_type": "code",
      "metadata": {
        "id": "5ujx4eIkm_Mt"
      },
      "source": [
        "import pandas as pd                        \n",
        "from pytrends.request import TrendReq\n",
        "pytrend = TrendReq()"
      ],
      "execution_count": null,
      "outputs": []
    },
    {
      "cell_type": "markdown",
      "metadata": {
        "id": "5_SpSbpAnAd0"
      },
      "source": [
        "\n",
        "\n",
        "---\n",
        "\n"
      ]
    },
    {
      "cell_type": "markdown",
      "metadata": {
        "id": "CrWLhzqhnBBr"
      },
      "source": [
        "## Interest By Region\n",
        "\n",
        "Let us see the terms which are popular in the region worldwide. I will choose, the term to be searched as \"Gun\" (replace it as you like)."
      ]
    },
    {
      "cell_type": "code",
      "metadata": {
        "id": "b4lmPUmqnEYJ",
        "colab": {
          "base_uri": "https://localhost:8080/",
          "height": 708
        },
        "outputId": "00fe6ddf-7845-48d7-d3cc-36c40dc5dfda"
      },
      "source": [
        "pytrend.build_payload(kw_list=['Gun'])\n",
        "# Interest by Region\n",
        "df = pytrend.interest_by_region()\n",
        "df.head(20)"
      ],
      "execution_count": null,
      "outputs": [
        {
          "output_type": "execute_result",
          "data": {
            "text/plain": [
              "                   Gun\n",
              "geoName               \n",
              "Afghanistan          0\n",
              "Albania              0\n",
              "Algeria              0\n",
              "American Samoa       0\n",
              "Andorra              0\n",
              "Angola               0\n",
              "Anguilla             0\n",
              "Antarctica           0\n",
              "Antigua & Barbuda    0\n",
              "Argentina            7\n",
              "Armenia              0\n",
              "Aruba                0\n",
              "Australia           57\n",
              "Austria             10\n",
              "Azerbaijan         100\n",
              "Bahamas              0\n",
              "Bahrain              0\n",
              "Bangladesh          22\n",
              "Barbados             0\n",
              "Belarus              0"
            ],
            "text/html": [
              "\n",
              "  <div id=\"df-9c773ce7-5120-499f-9784-0ae5e7707dee\">\n",
              "    <div class=\"colab-df-container\">\n",
              "      <div>\n",
              "<style scoped>\n",
              "    .dataframe tbody tr th:only-of-type {\n",
              "        vertical-align: middle;\n",
              "    }\n",
              "\n",
              "    .dataframe tbody tr th {\n",
              "        vertical-align: top;\n",
              "    }\n",
              "\n",
              "    .dataframe thead th {\n",
              "        text-align: right;\n",
              "    }\n",
              "</style>\n",
              "<table border=\"1\" class=\"dataframe\">\n",
              "  <thead>\n",
              "    <tr style=\"text-align: right;\">\n",
              "      <th></th>\n",
              "      <th>Gun</th>\n",
              "    </tr>\n",
              "    <tr>\n",
              "      <th>geoName</th>\n",
              "      <th></th>\n",
              "    </tr>\n",
              "  </thead>\n",
              "  <tbody>\n",
              "    <tr>\n",
              "      <th>Afghanistan</th>\n",
              "      <td>0</td>\n",
              "    </tr>\n",
              "    <tr>\n",
              "      <th>Albania</th>\n",
              "      <td>0</td>\n",
              "    </tr>\n",
              "    <tr>\n",
              "      <th>Algeria</th>\n",
              "      <td>0</td>\n",
              "    </tr>\n",
              "    <tr>\n",
              "      <th>American Samoa</th>\n",
              "      <td>0</td>\n",
              "    </tr>\n",
              "    <tr>\n",
              "      <th>Andorra</th>\n",
              "      <td>0</td>\n",
              "    </tr>\n",
              "    <tr>\n",
              "      <th>Angola</th>\n",
              "      <td>0</td>\n",
              "    </tr>\n",
              "    <tr>\n",
              "      <th>Anguilla</th>\n",
              "      <td>0</td>\n",
              "    </tr>\n",
              "    <tr>\n",
              "      <th>Antarctica</th>\n",
              "      <td>0</td>\n",
              "    </tr>\n",
              "    <tr>\n",
              "      <th>Antigua &amp; Barbuda</th>\n",
              "      <td>0</td>\n",
              "    </tr>\n",
              "    <tr>\n",
              "      <th>Argentina</th>\n",
              "      <td>7</td>\n",
              "    </tr>\n",
              "    <tr>\n",
              "      <th>Armenia</th>\n",
              "      <td>0</td>\n",
              "    </tr>\n",
              "    <tr>\n",
              "      <th>Aruba</th>\n",
              "      <td>0</td>\n",
              "    </tr>\n",
              "    <tr>\n",
              "      <th>Australia</th>\n",
              "      <td>57</td>\n",
              "    </tr>\n",
              "    <tr>\n",
              "      <th>Austria</th>\n",
              "      <td>10</td>\n",
              "    </tr>\n",
              "    <tr>\n",
              "      <th>Azerbaijan</th>\n",
              "      <td>100</td>\n",
              "    </tr>\n",
              "    <tr>\n",
              "      <th>Bahamas</th>\n",
              "      <td>0</td>\n",
              "    </tr>\n",
              "    <tr>\n",
              "      <th>Bahrain</th>\n",
              "      <td>0</td>\n",
              "    </tr>\n",
              "    <tr>\n",
              "      <th>Bangladesh</th>\n",
              "      <td>22</td>\n",
              "    </tr>\n",
              "    <tr>\n",
              "      <th>Barbados</th>\n",
              "      <td>0</td>\n",
              "    </tr>\n",
              "    <tr>\n",
              "      <th>Belarus</th>\n",
              "      <td>0</td>\n",
              "    </tr>\n",
              "  </tbody>\n",
              "</table>\n",
              "</div>\n",
              "      <button class=\"colab-df-convert\" onclick=\"convertToInteractive('df-9c773ce7-5120-499f-9784-0ae5e7707dee')\"\n",
              "              title=\"Convert this dataframe to an interactive table.\"\n",
              "              style=\"display:none;\">\n",
              "        \n",
              "  <svg xmlns=\"http://www.w3.org/2000/svg\" height=\"24px\"viewBox=\"0 0 24 24\"\n",
              "       width=\"24px\">\n",
              "    <path d=\"M0 0h24v24H0V0z\" fill=\"none\"/>\n",
              "    <path d=\"M18.56 5.44l.94 2.06.94-2.06 2.06-.94-2.06-.94-.94-2.06-.94 2.06-2.06.94zm-11 1L8.5 8.5l.94-2.06 2.06-.94-2.06-.94L8.5 2.5l-.94 2.06-2.06.94zm10 10l.94 2.06.94-2.06 2.06-.94-2.06-.94-.94-2.06-.94 2.06-2.06.94z\"/><path d=\"M17.41 7.96l-1.37-1.37c-.4-.4-.92-.59-1.43-.59-.52 0-1.04.2-1.43.59L10.3 9.45l-7.72 7.72c-.78.78-.78 2.05 0 2.83L4 21.41c.39.39.9.59 1.41.59.51 0 1.02-.2 1.41-.59l7.78-7.78 2.81-2.81c.8-.78.8-2.07 0-2.86zM5.41 20L4 18.59l7.72-7.72 1.47 1.35L5.41 20z\"/>\n",
              "  </svg>\n",
              "      </button>\n",
              "      \n",
              "  <style>\n",
              "    .colab-df-container {\n",
              "      display:flex;\n",
              "      flex-wrap:wrap;\n",
              "      gap: 12px;\n",
              "    }\n",
              "\n",
              "    .colab-df-convert {\n",
              "      background-color: #E8F0FE;\n",
              "      border: none;\n",
              "      border-radius: 50%;\n",
              "      cursor: pointer;\n",
              "      display: none;\n",
              "      fill: #1967D2;\n",
              "      height: 32px;\n",
              "      padding: 0 0 0 0;\n",
              "      width: 32px;\n",
              "    }\n",
              "\n",
              "    .colab-df-convert:hover {\n",
              "      background-color: #E2EBFA;\n",
              "      box-shadow: 0px 1px 2px rgba(60, 64, 67, 0.3), 0px 1px 3px 1px rgba(60, 64, 67, 0.15);\n",
              "      fill: #174EA6;\n",
              "    }\n",
              "\n",
              "    [theme=dark] .colab-df-convert {\n",
              "      background-color: #3B4455;\n",
              "      fill: #D2E3FC;\n",
              "    }\n",
              "\n",
              "    [theme=dark] .colab-df-convert:hover {\n",
              "      background-color: #434B5C;\n",
              "      box-shadow: 0px 1px 3px 1px rgba(0, 0, 0, 0.15);\n",
              "      filter: drop-shadow(0px 1px 2px rgba(0, 0, 0, 0.3));\n",
              "      fill: #FFFFFF;\n",
              "    }\n",
              "  </style>\n",
              "\n",
              "      <script>\n",
              "        const buttonEl =\n",
              "          document.querySelector('#df-9c773ce7-5120-499f-9784-0ae5e7707dee button.colab-df-convert');\n",
              "        buttonEl.style.display =\n",
              "          google.colab.kernel.accessAllowed ? 'block' : 'none';\n",
              "\n",
              "        async function convertToInteractive(key) {\n",
              "          const element = document.querySelector('#df-9c773ce7-5120-499f-9784-0ae5e7707dee');\n",
              "          const dataTable =\n",
              "            await google.colab.kernel.invokeFunction('convertToInteractive',\n",
              "                                                     [key], {});\n",
              "          if (!dataTable) return;\n",
              "\n",
              "          const docLinkHtml = 'Like what you see? Visit the ' +\n",
              "            '<a target=\"_blank\" href=https://colab.research.google.com/notebooks/data_table.ipynb>data table notebook</a>'\n",
              "            + ' to learn more about interactive tables.';\n",
              "          element.innerHTML = '';\n",
              "          dataTable['output_type'] = 'display_data';\n",
              "          await google.colab.output.renderOutput(dataTable, element);\n",
              "          const docLink = document.createElement('div');\n",
              "          docLink.innerHTML = docLinkHtml;\n",
              "          element.appendChild(docLink);\n",
              "        }\n",
              "      </script>\n",
              "    </div>\n",
              "  </div>\n",
              "  "
            ]
          },
          "metadata": {},
          "execution_count": 5
        }
      ]
    },
    {
      "cell_type": "markdown",
      "metadata": {
        "id": "im_lE1KCnG9z"
      },
      "source": [
        "**Now you might be thinking what are the values, what do they denote?** \n",
        "\n",
        "The values are calculated on a scale from 0 to 100, where 100 is the location with the most popularity as a fraction of total searches in that location, a value of 50 indicates a location which is half as popular. A value of 0 indicates a location where there was not enough data for this term. Source → [Google Trends](https://support.google.com/trends/answer/4355212).."
      ]
    },
    {
      "cell_type": "markdown",
      "metadata": {
        "id": "Y6ORJ6I1nIrl"
      },
      "source": [
        "Let us plot the result on a bar graph because sometimes visual representation gives a clear picture."
      ]
    },
    {
      "cell_type": "code",
      "metadata": {
        "id": "v8FHZeUenKJf",
        "colab": {
          "base_uri": "https://localhost:8080/",
          "height": 156
        },
        "outputId": "0fa27a89-43fc-48ca-e616-2830231d5591"
      },
      "source": [
        "df.reset_index().plot(x='geoName', y='Gun', figsize=(120, 10), kind ='bar')"
      ],
      "execution_count": null,
      "outputs": [
        {
          "output_type": "execute_result",
          "data": {
            "text/plain": [
              "<matplotlib.axes._subplots.AxesSubplot at 0x7f3348c62f50>"
            ]
          },
          "metadata": {},
          "execution_count": 6
        },
        {
          "output_type": "display_data",
          "data": {
            "text/plain": [
              "<Figure size 8640x720 with 1 Axes>"
            ],
            "image/png": "[encoded data removed]"
          },
          "metadata": {
            "needs_background": "light"
          }
        }
      ]
    },
    {
      "cell_type": "markdown",
      "metadata": {
        "id": "VSupqQa5nMrm"
      },
      "source": [
        "Also, you use the parameter `resolution = 'COUNTRY_NAME'` to filter the results.\n",
        "\n",
        "\n",
        "\n",
        "---\n",
        "\n"
      ]
    },
    {
      "cell_type": "markdown",
      "metadata": {
        "id": "rjH2DvbEnPcm"
      },
      "source": [
        "## Daily Search Trends\n",
        "\n",
        "Now let us get the top daily search trends worldwide. To do this we have to use the `trending_searches()` method. If you want to search worldwide just don't pass any parameter."
      ]
    },
    {
      "cell_type": "code",
      "metadata": {
        "id": "8vqkob1NnQqK",
        "colab": {
          "base_uri": "https://localhost:8080/",
          "height": 206
        },
        "outputId": "150f0729-0c85-4d47-8a78-0c936a358262"
      },
      "source": [
        "# Get Google Hot Trends data\n",
        "df = pytrend.trending_searches(pn='united_states')\n",
        "df.head()"
      ],
      "execution_count": null,
      "outputs": [
        {
          "output_type": "execute_result",
          "data": {
            "text/plain": [
              "                         0\n",
              "0                    Nadal\n",
              "1  Brad Johnson actor died\n",
              "2       Colorado Avalanche\n",
              "3              Joe Girardi\n",
              "4   Resident Evil 4 remake"
            ],
            "text/html": [
              "\n",
              "  <div id=\"df-65f72ec9-1f15-4fca-a35d-f15baaa767d3\">\n",
              "    <div class=\"colab-df-container\">\n",
              "      <div>\n",
              "<style scoped>\n",
              "    .dataframe tbody tr th:only-of-type {\n",
              "        vertical-align: middle;\n",
              "    }\n",
              "\n",
              "    .dataframe tbody tr th {\n",
              "        vertical-align: top;\n",
              "    }\n",
              "\n",
              "    .dataframe thead th {\n",
              "        text-align: right;\n",
              "    }\n",
              "</style>\n",
              "<table border=\"1\" class=\"dataframe\">\n",
              "  <thead>\n",
              "    <tr style=\"text-align: right;\">\n",
              "      <th></th>\n",
              "      <th>0</th>\n",
              "    </tr>\n",
              "  </thead>\n",
              "  <tbody>\n",
              "    <tr>\n",
              "      <th>0</th>\n",
              "      <td>Nadal</td>\n",
              "    </tr>\n",
              "    <tr>\n",
              "      <th>1</th>\n",
              "      <td>Brad Johnson actor died</td>\n",
              "    </tr>\n",
              "    <tr>\n",
              "      <th>2</th>\n",
              "      <td>Colorado Avalanche</td>\n",
              "    </tr>\n",
              "    <tr>\n",
              "      <th>3</th>\n",
              "      <td>Joe Girardi</td>\n",
              "    </tr>\n",
              "    <tr>\n",
              "      <th>4</th>\n",
              "      <td>Resident Evil 4 remake</td>\n",
              "    </tr>\n",
              "  </tbody>\n",
              "</table>\n",
              "</div>\n",
              "      <button class=\"colab-df-convert\" onclick=\"convertToInteractive('df-65f72ec9-1f15-4fca-a35d-f15baaa767d3')\"\n",
              "              title=\"Convert this dataframe to an interactive table.\"\n",
              "              style=\"display:none;\">\n",
              "        \n",
              "  <svg xmlns=\"http://www.w3.org/2000/svg\" height=\"24px\"viewBox=\"0 0 24 24\"\n",
              "       width=\"24px\">\n",
              "    <path d=\"M0 0h24v24H0V0z\" fill=\"none\"/>\n",
              "    <path d=\"M18.56 5.44l.94 2.06.94-2.06 2.06-.94-2.06-.94-.94-2.06-.94 2.06-2.06.94zm-11 1L8.5 8.5l.94-2.06 2.06-.94-2.06-.94L8.5 2.5l-.94 2.06-2.06.94zm10 10l.94 2.06.94-2.06 2.06-.94-2.06-.94-.94-2.06-.94 2.06-2.06.94z\"/><path d=\"M17.41 7.96l-1.37-1.37c-.4-.4-.92-.59-1.43-.59-.52 0-1.04.2-1.43.59L10.3 9.45l-7.72 7.72c-.78.78-.78 2.05 0 2.83L4 21.41c.39.39.9.59 1.41.59.51 0 1.02-.2 1.41-.59l7.78-7.78 2.81-2.81c.8-.78.8-2.07 0-2.86zM5.41 20L4 18.59l7.72-7.72 1.47 1.35L5.41 20z\"/>\n",
              "  </svg>\n",
              "      </button>\n",
              "      \n",
              "  <style>\n",
              "    .colab-df-container {\n",
              "      display:flex;\n",
              "      flex-wrap:wrap;\n",
              "      gap: 12px;\n",
              "    }\n",
              "\n",
              "    .colab-df-convert {\n",
              "      background-color: #E8F0FE;\n",
              "      border: none;\n",
              "      border-radius: 50%;\n",
              "      cursor: pointer;\n",
              "      display: none;\n",
              "      fill: #1967D2;\n",
              "      height: 32px;\n",
              "      padding: 0 0 0 0;\n",
              "      width: 32px;\n",
              "    }\n",
              "\n",
              "    .colab-df-convert:hover {\n",
              "      background-color: #E2EBFA;\n",
              "      box-shadow: 0px 1px 2px rgba(60, 64, 67, 0.3), 0px 1px 3px 1px rgba(60, 64, 67, 0.15);\n",
              "      fill: #174EA6;\n",
              "    }\n",
              "\n",
              "    [theme=dark] .colab-df-convert {\n",
              "      background-color: #3B4455;\n",
              "      fill: #D2E3FC;\n",
              "    }\n",
              "\n",
              "    [theme=dark] .colab-df-convert:hover {\n",
              "      background-color: #434B5C;\n",
              "      box-shadow: 0px 1px 3px 1px rgba(0, 0, 0, 0.15);\n",
              "      filter: drop-shadow(0px 1px 2px rgba(0, 0, 0, 0.3));\n",
              "      fill: #FFFFFF;\n",
              "    }\n",
              "  </style>\n",
              "\n",
              "      <script>\n",
              "        const buttonEl =\n",
              "          document.querySelector('#df-65f72ec9-1f15-4fca-a35d-f15baaa767d3 button.colab-df-convert');\n",
              "        buttonEl.style.display =\n",
              "          google.colab.kernel.accessAllowed ? 'block' : 'none';\n",
              "\n",
              "        async function convertToInteractive(key) {\n",
              "          const element = document.querySelector('#df-65f72ec9-1f15-4fca-a35d-f15baaa767d3');\n",
              "          const dataTable =\n",
              "            await google.colab.kernel.invokeFunction('convertToInteractive',\n",
              "                                                     [key], {});\n",
              "          if (!dataTable) return;\n",
              "\n",
              "          const docLinkHtml = 'Like what you see? Visit the ' +\n",
              "            '<a target=\"_blank\" href=https://colab.research.google.com/notebooks/data_table.ipynb>data table notebook</a>'\n",
              "            + ' to learn more about interactive tables.';\n",
              "          element.innerHTML = '';\n",
              "          dataTable['output_type'] = 'display_data';\n",
              "          await google.colab.output.renderOutput(dataTable, element);\n",
              "          const docLink = document.createElement('div');\n",
              "          docLink.innerHTML = docLinkHtml;\n",
              "          element.appendChild(docLink);\n",
              "        }\n",
              "      </script>\n",
              "    </div>\n",
              "  </div>\n",
              "  "
            ]
          },
          "metadata": {},
          "execution_count": 7
        }
      ]
    },
    {
      "cell_type": "markdown",
      "metadata": {
        "id": "0J4Fjt98nSf4"
      },
      "source": [
        "Make sure you enter the country name in lowercase `pn = \"canada\"` . Also, you can compare the above results with the [google trend's result](https://trends.google.com/trends/trendingsearches/daily?geo=US). To get today's trending topics just use:"
      ]
    },
    {
      "cell_type": "code",
      "metadata": {
        "id": "EoCNGlSknVrO"
      },
      "source": [
        "df = pytrend.today_searches(pn='US')"
      ],
      "execution_count": null,
      "outputs": []
    },
    {
      "cell_type": "markdown",
      "metadata": {
        "id": "Fkse9VmunYXs"
      },
      "source": [
        "\n",
        "\n",
        "---\n",
        "\n"
      ]
    },
    {
      "cell_type": "markdown",
      "metadata": {
        "id": "rt3XMTXtnXug"
      },
      "source": [
        "## Top Charts\n",
        "\n",
        "Let us see what was trending in 2021. With the help of `top_charts` method we can get the top trending searches yearly."
      ]
    },
    {
      "cell_type": "code",
      "metadata": {
        "id": "opEutdKdnaLO",
        "colab": {
          "base_uri": "https://localhost:8080/",
          "height": 363
        },
        "outputId": "bde72327-3416-4a79-e261-6b6850d28239"
      },
      "source": [
        "# Get Google Top Charts\n",
        "df = pytrend.top_charts(2021, hl='en-US', tz=300, geo='GLOBAL')\n",
        "df.head(20)"
      ],
      "execution_count": null,
      "outputs": [
        {
          "output_type": "execute_result",
          "data": {
            "text/plain": [
              "                  title  exploreQuery\n",
              "0    Australia vs India              \n",
              "1      India vs England              \n",
              "2                   IPL              \n",
              "3                   NBA              \n",
              "4             Euro 2021              \n",
              "5          Copa América  Copa America\n",
              "6  India vs New Zealand              \n",
              "7         T20 World Cup              \n",
              "8            Squid Game              \n",
              "9                   DMX              "
            ],
            "text/html": [
              "\n",
              "  <div id=\"df-fe819661-de26-4f4b-b853-2f2029e2a457\">\n",
              "    <div class=\"colab-df-container\">\n",
              "      <div>\n",
              "<style scoped>\n",
              "    .dataframe tbody tr th:only-of-type {\n",
              "        vertical-align: middle;\n",
              "    }\n",
              "\n",
              "    .dataframe tbody tr th {\n",
              "        vertical-align: top;\n",
              "    }\n",
              "\n",
              "    .dataframe thead th {\n",
              "        text-align: right;\n",
              "    }\n",
              "</style>\n",
              "<table border=\"1\" class=\"dataframe\">\n",
              "  <thead>\n",
              "    <tr style=\"text-align: right;\">\n",
              "      <th></th>\n",
              "      <th>title</th>\n",
              "      <th>exploreQuery</th>\n",
              "    </tr>\n",
              "  </thead>\n",
              "  <tbody>\n",
              "    <tr>\n",
              "      <th>0</th>\n",
              "      <td>Australia vs India</td>\n",
              "      <td></td>\n",
              "    </tr>\n",
              "    <tr>\n",
              "      <th>1</th>\n",
              "      <td>India vs England</td>\n",
              "      <td></td>\n",
              "    </tr>\n",
              "    <tr>\n",
              "      <th>2</th>\n",
              "      <td>IPL</td>\n",
              "      <td></td>\n",
              "    </tr>\n",
              "    <tr>\n",
              "      <th>3</th>\n",
              "      <td>NBA</td>\n",
              "      <td></td>\n",
              "    </tr>\n",
              "    <tr>\n",
              "      <th>4</th>\n",
              "      <td>Euro 2021</td>\n",
              "      <td></td>\n",
              "    </tr>\n",
              "    <tr>\n",
              "      <th>5</th>\n",
              "      <td>Copa América</td>\n",
              "      <td>Copa America</td>\n",
              "    </tr>\n",
              "    <tr>\n",
              "      <th>6</th>\n",
              "      <td>India vs New Zealand</td>\n",
              "      <td></td>\n",
              "    </tr>\n",
              "    <tr>\n",
              "      <th>7</th>\n",
              "      <td>T20 World Cup</td>\n",
              "      <td></td>\n",
              "    </tr>\n",
              "    <tr>\n",
              "      <th>8</th>\n",
              "      <td>Squid Game</td>\n",
              "      <td></td>\n",
              "    </tr>\n",
              "    <tr>\n",
              "      <th>9</th>\n",
              "      <td>DMX</td>\n",
              "      <td></td>\n",
              "    </tr>\n",
              "  </tbody>\n",
              "</table>\n",
              "</div>\n",
              "      <button class=\"colab-df-convert\" onclick=\"convertToInteractive('df-fe819661-de26-4f4b-b853-2f2029e2a457')\"\n",
              "              title=\"Convert this dataframe to an interactive table.\"\n",
              "              style=\"display:none;\">\n",
              "        \n",
              "  <svg xmlns=\"http://www.w3.org/2000/svg\" height=\"24px\"viewBox=\"0 0 24 24\"\n",
              "       width=\"24px\">\n",
              "    <path d=\"M0 0h24v24H0V0z\" fill=\"none\"/>\n",
              "    <path d=\"M18.56 5.44l.94 2.06.94-2.06 2.06-.94-2.06-.94-.94-2.06-.94 2.06-2.06.94zm-11 1L8.5 8.5l.94-2.06 2.06-.94-2.06-.94L8.5 2.5l-.94 2.06-2.06.94zm10 10l.94 2.06.94-2.06 2.06-.94-2.06-.94-.94-2.06-.94 2.06-2.06.94z\"/><path d=\"M17.41 7.96l-1.37-1.37c-.4-.4-.92-.59-1.43-.59-.52 0-1.04.2-1.43.59L10.3 9.45l-7.72 7.72c-.78.78-.78 2.05 0 2.83L4 21.41c.39.39.9.59 1.41.59.51 0 1.02-.2 1.41-.59l7.78-7.78 2.81-2.81c.8-.78.8-2.07 0-2.86zM5.41 20L4 18.59l7.72-7.72 1.47 1.35L5.41 20z\"/>\n",
              "  </svg>\n",
              "      </button>\n",
              "      \n",
              "  <style>\n",
              "    .colab-df-container {\n",
              "      display:flex;\n",
              "      flex-wrap:wrap;\n",
              "      gap: 12px;\n",
              "    }\n",
              "\n",
              "    .colab-df-convert {\n",
              "      background-color: #E8F0FE;\n",
              "      border: none;\n",
              "      border-radius: 50%;\n",
              "      cursor: pointer;\n",
              "      display: none;\n",
              "      fill: #1967D2;\n",
              "      height: 32px;\n",
              "      padding: 0 0 0 0;\n",
              "      width: 32px;\n",
              "    }\n",
              "\n",
              "    .colab-df-convert:hover {\n",
              "      background-color: #E2EBFA;\n",
              "      box-shadow: 0px 1px 2px rgba(60, 64, 67, 0.3), 0px 1px 3px 1px rgba(60, 64, 67, 0.15);\n",
              "      fill: #174EA6;\n",
              "    }\n",
              "\n",
              "    [theme=dark] .colab-df-convert {\n",
              "      background-color: #3B4455;\n",
              "      fill: #D2E3FC;\n",
              "    }\n",
              "\n",
              "    [theme=dark] .colab-df-convert:hover {\n",
              "      background-color: #434B5C;\n",
              "      box-shadow: 0px 1px 3px 1px rgba(0, 0, 0, 0.15);\n",
              "      filter: drop-shadow(0px 1px 2px rgba(0, 0, 0, 0.3));\n",
              "      fill: #FFFFFF;\n",
              "    }\n",
              "  </style>\n",
              "\n",
              "      <script>\n",
              "        const buttonEl =\n",
              "          document.querySelector('#df-fe819661-de26-4f4b-b853-2f2029e2a457 button.colab-df-convert');\n",
              "        buttonEl.style.display =\n",
              "          google.colab.kernel.accessAllowed ? 'block' : 'none';\n",
              "\n",
              "        async function convertToInteractive(key) {\n",
              "          const element = document.querySelector('#df-fe819661-de26-4f4b-b853-2f2029e2a457');\n",
              "          const dataTable =\n",
              "            await google.colab.kernel.invokeFunction('convertToInteractive',\n",
              "                                                     [key], {});\n",
              "          if (!dataTable) return;\n",
              "\n",
              "          const docLinkHtml = 'Like what you see? Visit the ' +\n",
              "            '<a target=\"_blank\" href=https://colab.research.google.com/notebooks/data_table.ipynb>data table notebook</a>'\n",
              "            + ' to learn more about interactive tables.';\n",
              "          element.innerHTML = '';\n",
              "          dataTable['output_type'] = 'display_data';\n",
              "          await google.colab.output.renderOutput(dataTable, element);\n",
              "          const docLink = document.createElement('div');\n",
              "          docLink.innerHTML = docLinkHtml;\n",
              "          element.appendChild(docLink);\n",
              "        }\n",
              "      </script>\n",
              "    </div>\n",
              "  </div>\n",
              "  "
            ]
          },
          "metadata": {},
          "execution_count": 10
        }
      ]
    },
    {
      "cell_type": "markdown",
      "metadata": {
        "id": "YOBAPjkCnbvP"
      },
      "source": [
        "To compare the results just visit [Google Trends](https://trends.google.com/trends/yis/2019/GLOBAL/). We can specify the year and the country that we want to see the trending searches.\n",
        "\n",
        "\n",
        "\n",
        "---\n",
        "\n"
      ]
    },
    {
      "cell_type": "markdown",
      "metadata": {
        "id": "v44c23GqndXK"
      },
      "source": [
        "## Google Keyword Suggestions\n",
        "\n",
        "Let us see how can we obtain google's keyword suggestion. If you don't know what I'm talking about. The below image explains things more clear.\n",
        "\n",
        "![alt text](https://cdn-images-1.medium.com/max/1200/1*QRpWWBS1SHXBr71Jp1NwQA.png)"
      ]
    },
    {
      "cell_type": "code",
      "metadata": {
        "id": "i90jZxfBnjVW",
        "colab": {
          "base_uri": "https://localhost:8080/",
          "height": 206
        },
        "outputId": "415054f8-3020-4248-b221-d19323846f44"
      },
      "source": [
        "# Get Google Keyword Suggestions\n",
        "keywords = pytrend.suggestions(keyword='sailfish')\n",
        "df = pd.DataFrame(keywords)\n",
        "df.drop(columns= 'mid')   # This column makes no sense"
      ],
      "execution_count": null,
      "outputs": [
        {
          "output_type": "execute_result",
          "data": {
            "text/plain": [
              "                   title    type\n",
              "0          Basking shark  Sharks\n",
              "1               Sailfish    Fish\n",
              "2  Indo-Pacific sailfish    Fish\n",
              "3      Atlantic sailfish    Fish\n",
              "4                 Marlin    Fish"
            ],
            "text/html": [
              "\n",
              "  <div id=\"df-a1a9d06b-f263-4f62-a60d-6db5780e86cb\">\n",
              "    <div class=\"colab-df-container\">\n",
              "      <div>\n",
              "<style scoped>\n",
              "    .dataframe tbody tr th:only-of-type {\n",
              "        vertical-align: middle;\n",
              "    }\n",
              "\n",
              "    .dataframe tbody tr th {\n",
              "        vertical-align: top;\n",
              "    }\n",
              "\n",
              "    .dataframe thead th {\n",
              "        text-align: right;\n",
              "    }\n",
              "</style>\n",
              "<table border=\"1\" class=\"dataframe\">\n",
              "  <thead>\n",
              "    <tr style=\"text-align: right;\">\n",
              "      <th></th>\n",
              "      <th>title</th>\n",
              "      <th>type</th>\n",
              "    </tr>\n",
              "  </thead>\n",
              "  <tbody>\n",
              "    <tr>\n",
              "      <th>0</th>\n",
              "      <td>Basking shark</td>\n",
              "      <td>Sharks</td>\n",
              "    </tr>\n",
              "    <tr>\n",
              "      <th>1</th>\n",
              "      <td>Sailfish</td>\n",
              "      <td>Fish</td>\n",
              "    </tr>\n",
              "    <tr>\n",
              "      <th>2</th>\n",
              "      <td>Indo-Pacific sailfish</td>\n",
              "      <td>Fish</td>\n",
              "    </tr>\n",
              "    <tr>\n",
              "      <th>3</th>\n",
              "      <td>Atlantic sailfish</td>\n",
              "      <td>Fish</td>\n",
              "    </tr>\n",
              "    <tr>\n",
              "      <th>4</th>\n",
              "      <td>Marlin</td>\n",
              "      <td>Fish</td>\n",
              "    </tr>\n",
              "  </tbody>\n",
              "</table>\n",
              "</div>\n",
              "      <button class=\"colab-df-convert\" onclick=\"convertToInteractive('df-a1a9d06b-f263-4f62-a60d-6db5780e86cb')\"\n",
              "              title=\"Convert this dataframe to an interactive table.\"\n",
              "              style=\"display:none;\">\n",
              "        \n",
              "  <svg xmlns=\"http://www.w3.org/2000/svg\" height=\"24px\"viewBox=\"0 0 24 24\"\n",
              "       width=\"24px\">\n",
              "    <path d=\"M0 0h24v24H0V0z\" fill=\"none\"/>\n",
              "    <path d=\"M18.56 5.44l.94 2.06.94-2.06 2.06-.94-2.06-.94-.94-2.06-.94 2.06-2.06.94zm-11 1L8.5 8.5l.94-2.06 2.06-.94-2.06-.94L8.5 2.5l-.94 2.06-2.06.94zm10 10l.94 2.06.94-2.06 2.06-.94-2.06-.94-.94-2.06-.94 2.06-2.06.94z\"/><path d=\"M17.41 7.96l-1.37-1.37c-.4-.4-.92-.59-1.43-.59-.52 0-1.04.2-1.43.59L10.3 9.45l-7.72 7.72c-.78.78-.78 2.05 0 2.83L4 21.41c.39.39.9.59 1.41.59.51 0 1.02-.2 1.41-.59l7.78-7.78 2.81-2.81c.8-.78.8-2.07 0-2.86zM5.41 20L4 18.59l7.72-7.72 1.47 1.35L5.41 20z\"/>\n",
              "  </svg>\n",
              "      </button>\n",
              "      \n",
              "  <style>\n",
              "    .colab-df-container {\n",
              "      display:flex;\n",
              "      flex-wrap:wrap;\n",
              "      gap: 12px;\n",
              "    }\n",
              "\n",
              "    .colab-df-convert {\n",
              "      background-color: #E8F0FE;\n",
              "      border: none;\n",
              "      border-radius: 50%;\n",
              "      cursor: pointer;\n",
              "      display: none;\n",
              "      fill: #1967D2;\n",
              "      height: 32px;\n",
              "      padding: 0 0 0 0;\n",
              "      width: 32px;\n",
              "    }\n",
              "\n",
              "    .colab-df-convert:hover {\n",
              "      background-color: #E2EBFA;\n",
              "      box-shadow: 0px 1px 2px rgba(60, 64, 67, 0.3), 0px 1px 3px 1px rgba(60, 64, 67, 0.15);\n",
              "      fill: #174EA6;\n",
              "    }\n",
              "\n",
              "    [theme=dark] .colab-df-convert {\n",
              "      background-color: #3B4455;\n",
              "      fill: #D2E3FC;\n",
              "    }\n",
              "\n",
              "    [theme=dark] .colab-df-convert:hover {\n",
              "      background-color: #434B5C;\n",
              "      box-shadow: 0px 1px 3px 1px rgba(0, 0, 0, 0.15);\n",
              "      filter: drop-shadow(0px 1px 2px rgba(0, 0, 0, 0.3));\n",
              "      fill: #FFFFFF;\n",
              "    }\n",
              "  </style>\n",
              "\n",
              "      <script>\n",
              "        const buttonEl =\n",
              "          document.querySelector('#df-a1a9d06b-f263-4f62-a60d-6db5780e86cb button.colab-df-convert');\n",
              "        buttonEl.style.display =\n",
              "          google.colab.kernel.accessAllowed ? 'block' : 'none';\n",
              "\n",
              "        async function convertToInteractive(key) {\n",
              "          const element = document.querySelector('#df-a1a9d06b-f263-4f62-a60d-6db5780e86cb');\n",
              "          const dataTable =\n",
              "            await google.colab.kernel.invokeFunction('convertToInteractive',\n",
              "                                                     [key], {});\n",
              "          if (!dataTable) return;\n",
              "\n",
              "          const docLinkHtml = 'Like what you see? Visit the ' +\n",
              "            '<a target=\"_blank\" href=https://colab.research.google.com/notebooks/data_table.ipynb>data table notebook</a>'\n",
              "            + ' to learn more about interactive tables.';\n",
              "          element.innerHTML = '';\n",
              "          dataTable['output_type'] = 'display_data';\n",
              "          await google.colab.output.renderOutput(dataTable, element);\n",
              "          const docLink = document.createElement('div');\n",
              "          docLink.innerHTML = docLinkHtml;\n",
              "          element.appendChild(docLink);\n",
              "        }\n",
              "      </script>\n",
              "    </div>\n",
              "  </div>\n",
              "  "
            ]
          },
          "metadata": {},
          "execution_count": 19
        }
      ]
    },
    {
      "cell_type": "markdown",
      "metadata": {
        "id": "8hzn4OMgn2Ag"
      },
      "source": [
        "\n",
        "\n",
        "---\n",
        "\n"
      ]
    },
    {
      "cell_type": "markdown",
      "metadata": {
        "id": "sZcJVdWyn1Ph"
      },
      "source": [
        "## Related Queries\n",
        "\n",
        "It's a common thing that when a user searches for a topic, they would also search for something related. These are called related queries. Let us see what are the related queries for the topic \"***Coronavirus***\". Always remember when you want to change the topic name just run the following code again with the new name as the parameter."
      ]
    },
    {
      "cell_type": "code",
      "metadata": {
        "id": "hLTMY4B9n3v6"
      },
      "source": [
        "pytrend.build_payload(kw_list=['Coronavirus'])"
      ],
      "execution_count": null,
      "outputs": []
    },
    {
      "cell_type": "markdown",
      "metadata": {
        "id": "z9IhWfs_oAqY"
      },
      "source": [
        "Now let's run the method `related_queries` which returns a dictionary full of related queries for the topic ***Coronavirus*** "
      ]
    },
    {
      "cell_type": "code",
      "metadata": {
        "id": "WR-NgLr_oB8_",
        "colab": {
          "base_uri": "https://localhost:8080/"
        },
        "outputId": "5954ca25-21c1-4fd7-f7f7-cae5c66cc8c3"
      },
      "source": [
        "# Related Queries, returns a dictionary of dataframes\n",
        "related_queries = pytrend.related_queries()\n",
        "related_queries.values()"
      ],
      "execution_count": null,
      "outputs": [
        {
          "output_type": "execute_result",
          "data": {
            "text/plain": [
              "dict_values([{'top':                             query  value\n",
              "0              coronavirus update    100\n",
              "1               coronavirus cases     90\n",
              "2                news coronavirus     71\n",
              "3                  coronavirus uk     67\n",
              "4                          corona     61\n",
              "5               coronavirus india     48\n",
              "6            coronavirus symptoms     42\n",
              "7              coronavirus france     35\n",
              "8   thank you coronavirus helpers     33\n",
              "9         coronavirus worldometer     33\n",
              "10                    worldometer     33\n",
              "11                 coronavirus us     32\n",
              "12                coronavirus map     31\n",
              "13                coronavirus usa     30\n",
              "14               coronavirus live     30\n",
              "15              coronavirus world     29\n",
              "16             italia coronavirus     29\n",
              "17               coronavirus tips     29\n",
              "18             coronavirus deaths     24\n",
              "19                       covid 19     24\n",
              "20                   corona virus     23\n",
              "21             coronavirus españa     22\n",
              "22              china coronavirus     21\n",
              "23            coronavirus vaccine     19\n",
              "24             coronavirus brasil     19, 'rising':                                                 query   value\n",
              "0                       thank you coronavirus helpers  239100\n",
              "1                             coronavirus worldometer  238550\n",
              "2                                         worldometer  238550\n",
              "3                                            covid 19  173550\n",
              "4                             india coronavirus cases   64350\n",
              "5                             coronavirus update live   60150\n",
              "6                          coronavirus cases in india   41850\n",
              "7                            worldometers coronavirus   35650\n",
              "8                                    coronavirus oggi   32500\n",
              "9   merci à tous ceux qui aident à combattre le co...   29550\n",
              "10                                   coronavirus tips   22150\n",
              "11                            coronavirus italia oggi   19550\n",
              "12                             coronavirus update usa   19250\n",
              "13                       john hopkins coronavirus map   18350\n",
              "14                                 coronavirus puglia   17800\n",
              "15                               coronavirus piemonte   15700\n",
              "16                                  coronavirus tipps   15700\n",
              "17                           coronavirus india update   15600\n",
              "18                         coronavirus vaccine update   15000\n",
              "19                      johns hopkins coronavirus map   13600\n",
              "20                               coronavirus by state   12200\n",
              "21                         coronavirus emilia romagna   12000\n",
              "22                                  coronavirus stats   11950\n",
              "23                         coronavirus cases by state   11800\n",
              "24                                  coronavirus lazio   11750}])"
            ]
          },
          "metadata": {},
          "execution_count": 16
        }
      ]
    },
    {
      "cell_type": "markdown",
      "metadata": {
        "id": "eVFA3LbJoELu"
      },
      "source": [
        "Similarly, you can also search for the related topics just run the below code to do so:"
      ]
    },
    {
      "cell_type": "code",
      "metadata": {
        "id": "yrH1dBDJoF2F",
        "colab": {
          "base_uri": "https://localhost:8080/"
        },
        "outputId": "06640b62-7f92-4cb2-ba0a-7deb37f30bee"
      },
      "source": [
        "# Related Topics, returns a dictionary of dataframes\n",
        "related_topic = pytrend.related_topics()\n",
        "related_topic.values()"
      ],
      "execution_count": null,
      "outputs": [
        {
          "output_type": "execute_result",
          "data": {
            "text/plain": [
              "dict_values([{'rising':      value formattedValue                                            link  \\\n",
              "0   288100       Breakout  /trends/explore?q=/g/11ckxx4f1g&date=today+5-y   \n",
              "1   113250       Breakout  /trends/explore?q=/g/11jg8c8t98&date=today+5-y   \n",
              "2    62400       Breakout      /trends/explore?q=/m/07l88z&date=today+5-y   \n",
              "3    25150       Breakout  /trends/explore?q=/g/11j5cvcfjp&date=today+5-y   \n",
              "4    12100       Breakout       /trends/explore?q=/m/09kvv&date=today+5-y   \n",
              "5    12050       Breakout  /trends/explore?q=/g/11jfc_hmzh&date=today+5-y   \n",
              "6    10550       Breakout       /trends/explore?q=/m/0bzty&date=today+5-y   \n",
              "7     9250       Breakout       /trends/explore?q=/m/0l3cy&date=today+5-y   \n",
              "8     7850       Breakout       /trends/explore?q=/m/06w92&date=today+5-y   \n",
              "9     6150       Breakout      /trends/explore?q=/m/0chgr2&date=today+5-y   \n",
              "10    5400       Breakout       /trends/explore?q=/m/0c663&date=today+5-y   \n",
              "11    5250       Breakout       /trends/explore?q=/m/0bzjf&date=today+5-y   \n",
              "12    3400        +3,400%       /trends/explore?q=/m/010sh&date=today+5-y   \n",
              "13    3400        +3,400%       /trends/explore?q=/m/03rjj&date=today+5-y   \n",
              "14    3300        +3,300%     /trends/explore?q=/m/0n46l2_&date=today+5-y   \n",
              "15    2800        +2,800%       /trends/explore?q=/m/094z8&date=today+5-y   \n",
              "16    2750        +2,750%       /trends/explore?q=/m/06mnr&date=today+5-y   \n",
              "17     170          +170%  /trends/explore?q=/g/11j8_9sv06&date=today+5-y   \n",
              "\n",
              "        topic_mid                            topic_title  \\\n",
              "0   /g/11ckxx4f1g                           Worldometers   \n",
              "1   /g/11jg8c8t98         Worldometer COVID-19 Dashboard   \n",
              "2       /m/07l88z                               Lockdown   \n",
              "3   /g/11j5cvcfjp  2020 coronavirus pandemic in Scotland   \n",
              "4        /m/09kvv               Johns Hopkins University   \n",
              "5   /g/11jfc_hmzh     COVID-19 pandemic in New York City   \n",
              "6        /m/0bzty                               Lombardy   \n",
              "7        /m/0l3cy                                  Wuhan   \n",
              "8        /m/06w92                                 Sicily   \n",
              "9       /m/0chgr2                               Victoria   \n",
              "10       /m/0c663                                 Apulia   \n",
              "11       /m/0bzjf                                 Veneto   \n",
              "12       /m/010sh                              Andalusia   \n",
              "13       /m/03rjj                                  Italy   \n",
              "14     /m/0n46l2_                                 GOV.UK   \n",
              "15       /m/094z8                                 County   \n",
              "16       /m/06mnr                             Statistics   \n",
              "17  /g/11j8_9sv06                       COVID-19 vaccine   \n",
              "\n",
              "                                   topic_type  \n",
              "0                                     Website  \n",
              "1                                       Topic  \n",
              "2                                       Topic  \n",
              "3                                       Topic  \n",
              "4   Private university in Baltimore, Maryland  \n",
              "5                                       Topic  \n",
              "6                              Italian region  \n",
              "7                               City in China  \n",
              "8                              Italian region  \n",
              "9                                   Australia  \n",
              "10                             Italian region  \n",
              "11                             Italian region  \n",
              "12              Autonomous community of Spain  \n",
              "13                          Country in Europe  \n",
              "14                                    Website  \n",
              "15                                      Topic  \n",
              "16                                 Discipline  \n",
              "17                                    Vaccine  , 'top':     value formattedValue  hasData  \\\n",
              "0     100            100     True   \n",
              "1     100            100     True   \n",
              "2       4              4     True   \n",
              "3       3              3     True   \n",
              "4       3              3     True   \n",
              "5       2              2     True   \n",
              "6       2              2     True   \n",
              "7       2              2     True   \n",
              "8       2              2     True   \n",
              "9       1              1     True   \n",
              "10      1              1     True   \n",
              "11      1              1     True   \n",
              "12      0             <1     True   \n",
              "13      0             <1     True   \n",
              "14      0             <1     True   \n",
              "15      0             <1     True   \n",
              "16      0             <1     True   \n",
              "17      0             <1     True   \n",
              "18      0             <1     True   \n",
              "19      0             <1     True   \n",
              "20      0             <1     True   \n",
              "21      0             <1     True   \n",
              "22      0             <1     True   \n",
              "\n",
              "                                              link      topic_mid  \\\n",
              "0   /trends/explore?q=/g/11j2cc_qll&date=today+5-y  /g/11j2cc_qll   \n",
              "1       /trends/explore?q=/m/01cpyy&date=today+5-y      /m/01cpyy   \n",
              "2        /trends/explore?q=/m/03rjj&date=today+5-y       /m/03rjj   \n",
              "3       /trends/explore?q=/m/02qbqx&date=today+5-y      /m/02qbqx   \n",
              "4   /trends/explore?q=/g/11ckxx4f1g&date=today+5-y  /g/11ckxx4f1g   \n",
              "5        /trends/explore?q=/m/0g9pc&date=today+5-y       /m/0g9pc   \n",
              "6   /trends/explore?q=/g/11j4xt9hdf&date=today+5-y  /g/11j4xt9hdf   \n",
              "7        /trends/explore?q=/m/06mnr&date=today+5-y       /m/06mnr   \n",
              "8   /trends/explore?q=/g/11j8_9sv06&date=today+5-y  /g/11j8_9sv06   \n",
              "9   /trends/explore?q=/g/11jg8c8t98&date=today+5-y  /g/11jg8c8t98   \n",
              "10       /trends/explore?q=/m/09kvv&date=today+5-y       /m/09kvv   \n",
              "11      /trends/explore?q=/m/07l88z&date=today+5-y      /m/07l88z   \n",
              "12      /trends/explore?q=/m/0chgr2&date=today+5-y      /m/0chgr2   \n",
              "13  /trends/explore?q=/g/11jfc_hmzh&date=today+5-y  /g/11jfc_hmzh   \n",
              "14       /trends/explore?q=/m/0bzty&date=today+5-y       /m/0bzty   \n",
              "15       /trends/explore?q=/m/0l3cy&date=today+5-y       /m/0l3cy   \n",
              "16  /trends/explore?q=/g/11j5cvcfjp&date=today+5-y  /g/11j5cvcfjp   \n",
              "17       /trends/explore?q=/m/06w92&date=today+5-y       /m/06w92   \n",
              "18       /trends/explore?q=/m/094z8&date=today+5-y       /m/094z8   \n",
              "19       /trends/explore?q=/m/010sh&date=today+5-y       /m/010sh   \n",
              "20     /trends/explore?q=/m/0n46l2_&date=today+5-y     /m/0n46l2_   \n",
              "21       /trends/explore?q=/m/0c663&date=today+5-y       /m/0c663   \n",
              "22       /trends/explore?q=/m/0bzjf&date=today+5-y       /m/0bzjf   \n",
              "\n",
              "                                        topic_title  \\\n",
              "0                          Coronavirus disease 2019   \n",
              "1                                       Coronavirus   \n",
              "2                                             Italy   \n",
              "3                                      Medical sign   \n",
              "4                                      Worldometers   \n",
              "5                                             Virus   \n",
              "6   Severe acute respiratory syndrome coronavirus 2   \n",
              "7                                        Statistics   \n",
              "8                                  COVID-19 vaccine   \n",
              "9                    Worldometer COVID-19 Dashboard   \n",
              "10                         Johns Hopkins University   \n",
              "11                                         Lockdown   \n",
              "12                                         Victoria   \n",
              "13               COVID-19 pandemic in New York City   \n",
              "14                                         Lombardy   \n",
              "15                                            Wuhan   \n",
              "16            2020 coronavirus pandemic in Scotland   \n",
              "17                                           Sicily   \n",
              "18                                           County   \n",
              "19                                        Andalusia   \n",
              "20                                           GOV.UK   \n",
              "21                                           Apulia   \n",
              "22                                           Veneto   \n",
              "\n",
              "                                   topic_type  \n",
              "0                                     Disease  \n",
              "1                                       Virus  \n",
              "2                           Country in Europe  \n",
              "3                                       Topic  \n",
              "4                                     Website  \n",
              "5                            Infectious agent  \n",
              "6                                       Virus  \n",
              "7                                  Discipline  \n",
              "8                                     Vaccine  \n",
              "9                                       Topic  \n",
              "10  Private university in Baltimore, Maryland  \n",
              "11                                      Topic  \n",
              "12                                  Australia  \n",
              "13                                      Topic  \n",
              "14                             Italian region  \n",
              "15                              City in China  \n",
              "16                                      Topic  \n",
              "17                             Italian region  \n",
              "18                                      Topic  \n",
              "19              Autonomous community of Spain  \n",
              "20                                    Website  \n",
              "21                             Italian region  \n",
              "22                             Italian region  }])"
            ]
          },
          "metadata": {},
          "execution_count": 17
        }
      ]
    },
    {
      "cell_type": "markdown",
      "metadata": {
        "id": "VbI2mxGPoINF"
      },
      "source": [
        "\n",
        "\n",
        "---\n",
        "\n"
      ]
    },
    {
      "cell_type": "markdown",
      "metadata": {
        "id": "VwloflHUoItB"
      },
      "source": [
        "This is the end of the tutorial, I hope you guys have learned a thing or two. If you guys have any doubts regarding the tutorial let me know via the comment section. Although this is a short tutorial there is a lot to learn. Alright see you in my next tutorial, have a good day!!!"
      ]
    }
  ]
}