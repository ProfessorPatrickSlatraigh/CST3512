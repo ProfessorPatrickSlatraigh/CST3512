{
  "nbformat": 4,
  "nbformat_minor": 0,
  "metadata": {
    "colab": {
      "provenance": [],
      "authorship_tag": "ABX9TyOFue9fCj2C7aE/TAXz9n0j",
      "include_colab_link": true
    },
    "kernelspec": {
      "name": "python3",
      "display_name": "Python 3"
    },
    "language_info": {
      "name": "python"
    }
  },
  "cells": [
    {
      "cell_type": "markdown",
      "metadata": {
        "id": "view-in-github",
        "colab_type": "text"
      },
      "source": [
        "<a href=\"https://colab.research.google.com/github/ProfessorPatrickSlatraigh/CST3512/blob/main/CST3512_Class21_Combine_Merge_Cities.ipynb\" target=\"_parent\"><img src=\"https://colab.research.google.com/assets/colab-badge.svg\" alt=\"Open In Colab\"/></a>"
      ]
    },
    {
      "cell_type": "markdown",
      "source": [
        "#CST3512 Class 21   \n",
        "**Combine and Merge Data in Pandas**    \n"
      ],
      "metadata": {
        "id": "42E4xllr_Dau"
      }
    },
    {
      "cell_type": "markdown",
      "source": [
        "##Housekeeping    "
      ],
      "metadata": {
        "id": "7nEhDIi7_LvO"
      }
    },
    {
      "cell_type": "code",
      "source": [
        "import pandas as pd\n",
        "\n",
        "import numpy as np  \n"
      ],
      "metadata": {
        "id": "7AIoE8Vy_LIG"
      },
      "execution_count": 2,
      "outputs": []
    },
    {
      "cell_type": "markdown",
      "source": [
        "---"
      ],
      "metadata": {
        "id": "grMXbbf2AXPm"
      }
    },
    {
      "cell_type": "markdown",
      "source": [
        "##Fetch Data Files    "
      ],
      "metadata": {
        "id": "8fP0E7BF_RWN"
      }
    },
    {
      "cell_type": "markdown",
      "source": [
        "###Fetch a SAMPLE `csv` file of cities/states and their latitude/longitude into a dataframe "
      ],
      "metadata": {
        "id": "2lDFYquPULlR"
      }
    },
    {
      "cell_type": "code",
      "source": [
        "!curl \"https://raw.githubusercontent.com/ProfessorPatrickSlatraigh/data/main/cities_lat-dd_lon-dd.csv\" -o cities_lat-dd_lon-dd.csv   "
      ],
      "metadata": {
        "id": "rr82w9CH_Uc6"
      },
      "execution_count": null,
      "outputs": []
    },
    {
      "cell_type": "markdown",
      "source": [
        "###Fetch a `csv` file of largest U.S. cities/states and their populations into a dataframe "
      ],
      "metadata": {
        "id": "jl-0XxH3UPFc"
      }
    },
    {
      "cell_type": "code",
      "source": [
        "!curl \"https://raw.githubusercontent.com/ProfessorPatrickSlatraigh/data/main/cities-pop_2020-2022.csv\" -o cities-pop_2020_2022.csv   "
      ],
      "metadata": {
        "id": "5Ihd03BSUYtX"
      },
      "execution_count": null,
      "outputs": []
    },
    {
      "cell_type": "markdown",
      "source": [
        "---"
      ],
      "metadata": {
        "id": "jwyJsiGjAYCi"
      }
    },
    {
      "cell_type": "markdown",
      "source": [
        "##Load Dataframes    "
      ],
      "metadata": {
        "id": "jZuZjKLt_vD5"
      }
    },
    {
      "cell_type": "markdown",
      "source": [
        "###Load a SAMPLE `csv` file of N.A. cities/states and their latitude/longitude into a dataframe "
      ],
      "metadata": {
        "id": "cTHcPop2AHD8"
      }
    },
    {
      "cell_type": "code",
      "source": [
        "cities_geo_df = pd.read_csv('cities_lat-dd_lon-dd.csv')"
      ],
      "metadata": {
        "id": "ac_-hnbo_xtH"
      },
      "execution_count": 22,
      "outputs": []
    },
    {
      "cell_type": "code",
      "source": [
        "cities_geo_df.dtypes"
      ],
      "metadata": {
        "id": "IedeV--Q_6i-"
      },
      "execution_count": null,
      "outputs": []
    },
    {
      "cell_type": "code",
      "source": [
        "cities_geo_df"
      ],
      "metadata": {
        "id": "fWftbc7JWhQB"
      },
      "execution_count": null,
      "outputs": []
    },
    {
      "cell_type": "markdown",
      "source": [
        "###Load a `csv` file of largest U.S. cities/states and their populations into a dataframe "
      ],
      "metadata": {
        "id": "KFxr2mqFT_yN"
      }
    },
    {
      "cell_type": "code",
      "source": [
        "cities_pop_df = pd.read_csv('cities-pop_2020_2022.csv')"
      ],
      "metadata": {
        "id": "2YzK1dcrUuZj"
      },
      "execution_count": 25,
      "outputs": []
    },
    {
      "cell_type": "code",
      "source": [
        "cities_pop_df.dtypes"
      ],
      "metadata": {
        "id": "6QL-9pcOUzMh"
      },
      "execution_count": null,
      "outputs": []
    },
    {
      "cell_type": "code",
      "source": [
        "cities_pop_df"
      ],
      "metadata": {
        "id": "7YBxOIZoWl1v"
      },
      "execution_count": null,
      "outputs": []
    },
    {
      "cell_type": "markdown",
      "source": [
        "---"
      ],
      "metadata": {
        "id": "3wmzOZOGU_mI"
      }
    },
    {
      "cell_type": "markdown",
      "source": [
        "##Combine Exercises    "
      ],
      "metadata": {
        "id": "CHCvBpauU8g6"
      }
    },
    {
      "cell_type": "markdown",
      "source": [
        "###Merge (inner join) on named columns    "
      ],
      "metadata": {
        "id": "E8rmFozUVxh7"
      }
    },
    {
      "cell_type": "code",
      "source": [
        "city_merge_inner = pd.merge(cities_geo_df, cities_pop_df, left_on='city', right_on='city')"
      ],
      "metadata": {
        "id": "6s8r4UqlV3Bd"
      },
      "execution_count": 36,
      "outputs": []
    },
    {
      "cell_type": "code",
      "source": [
        "city_merge_inner"
      ],
      "metadata": {
        "id": "-Kp4CLtOWb0g"
      },
      "execution_count": null,
      "outputs": []
    },
    {
      "cell_type": "markdown",
      "source": [
        "*Some `city` names are redundant across states.  A more reliable `merge` would use both `state` and `city` as keys.*"
      ],
      "metadata": {
        "id": "KNiL_NTQcQk_"
      }
    },
    {
      "cell_type": "code",
      "source": [
        "# merging on a list of key column names    \n",
        "city_merge_inner = pd.merge(cities_geo_df, cities_pop_df, on=['state', 'city'])"
      ],
      "metadata": {
        "id": "ArxZRgzAb7M0"
      },
      "execution_count": 34,
      "outputs": []
    },
    {
      "cell_type": "code",
      "source": [
        "city_merge_inner"
      ],
      "metadata": {
        "id": "OmOD6deMcgUL"
      },
      "execution_count": null,
      "outputs": []
    },
    {
      "cell_type": "markdown",
      "source": [
        "###Merge (outer join) on named columns    "
      ],
      "metadata": {
        "id": "z3iGiiMHbT8Q"
      }
    },
    {
      "cell_type": "code",
      "source": [
        "city_merge_outer = pd.merge(cities_geo_df, cities_pop_df, left_on='city', right_on='city', how='outer')"
      ],
      "metadata": {
        "id": "CUEronEObbuO"
      },
      "execution_count": 32,
      "outputs": []
    },
    {
      "cell_type": "code",
      "source": [
        "city_merge_outer"
      ],
      "metadata": {
        "id": "-rFtXw0Ublif"
      },
      "execution_count": null,
      "outputs": []
    },
    {
      "cell_type": "markdown",
      "source": [
        "*Refining that for `city` names which may be redundant across states, we construct a more reliable `merge` woul using both `state` and `city` as keys.*"
      ],
      "metadata": {
        "id": "pxvP4yF0coMg"
      }
    },
    {
      "cell_type": "code",
      "source": [
        "city_merge_inner = pd.merge(cities_geo_df, cities_pop_df, on=['state', 'city'], how='outer')"
      ],
      "metadata": {
        "id": "eZ4Xp0wCc1Xh"
      },
      "execution_count": 38,
      "outputs": []
    },
    {
      "cell_type": "code",
      "source": [
        "city_merge_outer"
      ],
      "metadata": {
        "id": "UjYx13JCc4e3"
      },
      "execution_count": null,
      "outputs": []
    },
    {
      "cell_type": "markdown",
      "source": [
        "###Merge (inner join) on index/indices    "
      ],
      "metadata": {
        "id": "6x1W5zqMdK7Y"
      }
    },
    {
      "cell_type": "markdown",
      "source": [
        "Let's create hierarchical row indices for each of the city dataframes."
      ],
      "metadata": {
        "id": "5RDFwRIpdZVM"
      }
    },
    {
      "cell_type": "code",
      "source": [
        "geo_df = cities_geo_df.set_index(['state', 'city'])"
      ],
      "metadata": {
        "id": "rXUt--mTe0Ur"
      },
      "execution_count": 42,
      "outputs": []
    },
    {
      "cell_type": "code",
      "source": [
        "geo_df"
      ],
      "metadata": {
        "id": "A2-AAcdSe6a1"
      },
      "execution_count": null,
      "outputs": []
    },
    {
      "cell_type": "code",
      "source": [
        "pop_df = cities_pop_df.set_index(['state', 'city'])"
      ],
      "metadata": {
        "id": "Hpk7bte4dYRK"
      },
      "execution_count": 40,
      "outputs": []
    },
    {
      "cell_type": "code",
      "source": [
        "pop_df"
      ],
      "metadata": {
        "id": "NekFv1PKevNZ"
      },
      "execution_count": null,
      "outputs": []
    },
    {
      "cell_type": "markdown",
      "source": [
        "Merge (inner join) the `geo_df` with the `pop_df` based on their indices."
      ],
      "metadata": {
        "id": "ybpRHpaTfIBO"
      }
    },
    {
      "cell_type": "code",
      "source": [
        "merge_inner = pd.merge(geo_df, pop_df, left_index=True, right_index=True)"
      ],
      "metadata": {
        "id": "NfRvDSy-fWUO"
      },
      "execution_count": 45,
      "outputs": []
    },
    {
      "cell_type": "code",
      "source": [
        "merge_inner"
      ],
      "metadata": {
        "id": "qWLbqUTffkuL"
      },
      "execution_count": null,
      "outputs": []
    },
    {
      "cell_type": "markdown",
      "source": [
        "If one dataframe had keys in columns, not the indices but it is being merged with like keys in the other dataframe."
      ],
      "metadata": {
        "id": "3lAzrT7EgEtC"
      }
    },
    {
      "cell_type": "code",
      "source": [
        "mixed_merge_inner = pd.merge(cities_geo_df, pop_df, left_on=['state', 'city'], right_index=True)"
      ],
      "metadata": {
        "id": "vsgU-IoehFMr"
      },
      "execution_count": 52,
      "outputs": []
    },
    {
      "cell_type": "code",
      "source": [
        "mixed_merge_inner"
      ],
      "metadata": {
        "id": "P-LC4raHhftw"
      },
      "execution_count": null,
      "outputs": []
    },
    {
      "cell_type": "code",
      "source": [
        "mixed_merge_inner = pd.merge(geo_df, cities_pop_df, left_index=True, right_on=['state', 'city'])"
      ],
      "metadata": {
        "id": "c25_siYOgW4p"
      },
      "execution_count": 57,
      "outputs": []
    },
    {
      "cell_type": "code",
      "source": [
        "mixed_merge_inner"
      ],
      "metadata": {
        "id": "FA_uitfxgpTu"
      },
      "execution_count": null,
      "outputs": []
    },
    {
      "cell_type": "markdown",
      "source": [
        "Merge (outer join) the `geo_df` with the `pop_df` based on their indices."
      ],
      "metadata": {
        "id": "DyxW9r8Bfvir"
      }
    },
    {
      "cell_type": "code",
      "source": [
        "merge_outer = pd.merge(geo_df, pop_df, left_index=True, right_index=True, how='outer')"
      ],
      "metadata": {
        "id": "Vbfr4GR7fxip"
      },
      "execution_count": 47,
      "outputs": []
    },
    {
      "cell_type": "code",
      "source": [
        "merge_outer"
      ],
      "metadata": {
        "id": "KTb_Xm-pf5GZ"
      },
      "execution_count": null,
      "outputs": []
    },
    {
      "cell_type": "markdown",
      "source": [
        "If one dataframe had keys in columns, not the indices but it is being merged with like keys in the other dataframe."
      ],
      "metadata": {
        "id": "hd3it-Qng6Go"
      }
    },
    {
      "cell_type": "code",
      "source": [
        "mixed_merge_outer = pd.merge(geo_df, pop_df, left_index=True, right_on=['state', 'city'])"
      ],
      "metadata": {
        "id": "oKfZda0kg7MZ"
      },
      "execution_count": null,
      "outputs": []
    },
    {
      "cell_type": "markdown",
      "source": [
        "###Using `join` on index/indices    "
      ],
      "metadata": {
        "id": "329PSIkDiubO"
      }
    },
    {
      "cell_type": "markdown",
      "source": [
        "**An inner `.join()` on index/indices** "
      ],
      "metadata": {
        "id": "_jT21dd8i1xY"
      }
    },
    {
      "cell_type": "code",
      "source": [
        "joined_inner = geo_df.join(pop_df)"
      ],
      "metadata": {
        "id": "xmi5Dsi8iyeP"
      },
      "execution_count": 59,
      "outputs": []
    },
    {
      "cell_type": "code",
      "source": [
        "joined_inner"
      ],
      "metadata": {
        "id": "-ItUFga1jIEj"
      },
      "execution_count": null,
      "outputs": []
    },
    {
      "cell_type": "markdown",
      "source": [
        "**An outer `.join()` on index/indices** "
      ],
      "metadata": {
        "id": "3nGXNNYijT9l"
      }
    },
    {
      "cell_type": "code",
      "source": [
        "joined_outer = geo_df.join(pop_df, how='outer')"
      ],
      "metadata": {
        "id": "CWiTbQB0jVyV"
      },
      "execution_count": 62,
      "outputs": []
    },
    {
      "cell_type": "code",
      "source": [
        "joined_outer"
      ],
      "metadata": {
        "id": "HSL002aNjbsq"
      },
      "execution_count": null,
      "outputs": []
    },
    {
      "cell_type": "markdown",
      "source": [
        "---\n"
      ],
      "metadata": {
        "id": "Beuw-hvHARcA"
      }
    }
  ]
}