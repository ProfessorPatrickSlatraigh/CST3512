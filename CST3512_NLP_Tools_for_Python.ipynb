{
  "nbformat": 4,
  "nbformat_minor": 0,
  "metadata": {
    "colab": {
      "name": "CST3512_NLP-Tools_for-Python.ipynb",
      "provenance": [],
      "collapsed_sections": [],
      "authorship_tag": "ABX9TyOxowzBedpIkTro0kDeC9aj",
      "include_colab_link": true
    },
    "kernelspec": {
      "name": "python3",
      "display_name": "Python 3"
    },
    "language_info": {
      "name": "python"
    }
  },
  "cells": [
    {
      "cell_type": "markdown",
      "metadata": {
        "id": "view-in-github",
        "colab_type": "text"
      },
      "source": [
        "<a href=\"https://colab.research.google.com/github/ProfessorPatrickSlatraigh/CST3512/blob/main/CST3512_NLP_Tools_for_Python.ipynb\" target=\"_parent\"><img src=\"https://colab.research.google.com/assets/colab-badge.svg\" alt=\"Open In Colab\"/></a>"
      ]
    },
    {
      "cell_type": "markdown",
      "source": [
        "# NLP Tools for Python    \n",
        "\n",
        "from: Introduction to Natural Language Processing: NLP Tools For Python, by Javier Ramos.  ITnext.io.  21-May-2021.    \n",
        "\n",
        "*online at: https://itnext.io/introduction-to-natural-language-processing-nlp-tools-for-python-cf39af3cfc64*   \n"
      ],
      "metadata": {
        "id": "vl2o214P1g7U"
      }
    },
    {
      "cell_type": "markdown",
      "source": [
        "A quick overview of the tools available for NLP engineers who work with Python.   \n",
        "\n",
        "Some basic examples focused only on text data and not on audio or video processing.    \n",
        "\n",
        "Practical examples of NLP are speech recognition, translation, sentiment analysis, topic modeling, lexical analysis, entity extraction and much more.\n",
        "Using all these tools and algorithms structured data can be extracted from natural language, data that can be processed by computers. The output of NLP tasks is often a machine learning algorithm that will use this raw data to make predictions.    \n"
      ],
      "metadata": {
        "id": "Z4c7J1W118qF"
      }
    },
    {
      "cell_type": "markdown",
      "source": [
        "By combining many algorithms together, useful data can be extracted to be used in a wide range of scenarios such as:    \n",
        "* Fraud Detection     \n",
        "* [Risk Intelligence](https://aylien.com/solutions/risk-intelligence)    \n",
        "* Email Classification    \n",
        "* [Sentiment Analysis](https://pythonspot.com/python-sentiment-analysis/)   \n"
      ],
      "metadata": {
        "id": "YTnRhtZh2wOw"
      }
    },
    {
      "cell_type": "code",
      "execution_count": null,
      "metadata": {
        "id": "5F7IKCLL1ZEh"
      },
      "outputs": [],
      "source": [
        ""
      ]
    }
  ]
}