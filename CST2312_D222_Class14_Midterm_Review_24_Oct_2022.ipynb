{
  "nbformat": 4,
  "nbformat_minor": 0,
  "metadata": {
    "colab": {
      "provenance": [],
      "collapsed_sections": [
        "gzY6z1HptlCu",
        "wvEFHyCz1NgW",
        "Vrh3Fgic4AA1",
        "U38lYiXXqC1V",
        "szOtJoBHqC1W",
        "mx_pX5Z_qC1W",
        "CMXpztcaqC1Z",
        "wkuXROn0qC1a",
        "SJrxZNBlqC1b",
        "iJ2B4o7xqC1c",
        "JAS-HtBnqC1c",
        "S1lGGFGjqC1d",
        "1YcGAZw9qC1d",
        "dZ18pnRZqC1e",
        "Vu0QnT80qC1e",
        "qhRoxCpqqC1f",
        "Hm4ZzYCZqC1f",
        "ycNUnEbHqC1f",
        "jv7qREenqC1g",
        "Q69mmIz7qC1h"
      ],
      "include_colab_link": true
    },
    "kernelspec": {
      "name": "python3",
      "display_name": "Python 3"
    }
  },
  "cells": [
    {
      "cell_type": "markdown",
      "metadata": {
        "id": "view-in-github",
        "colab_type": "text"
      },
      "source": [
        "<a href=\"https://colab.research.google.com/github/ProfessorPatrickSlatraigh/CST3512/blob/main/CST2312_D222_Class14_Midterm_Review_24_Oct_2022.ipynb\" target=\"_parent\"><img src=\"https://colab.research.google.com/assets/colab-badge.svg\" alt=\"Open In Colab\"/></a>"
      ]
    },
    {
      "cell_type": "markdown",
      "metadata": {
        "id": "geogQir6sKrY"
      },
      "source": [
        "# **CST2312 Midterm Review**\n",
        "**Fall 2022 - D222, Class 14**\n",
        "\n",
        "\n",
        "\n",
        "*   Literals\n",
        "*   Strings\n",
        "*   Lists\n",
        "*   Tuples\n",
        "*   Files\n",
        "*   Functions\n",
        "*   Loops\n",
        "*   Conditionals\n",
        "*   Dictionaries\n",
        "*   Sets\n",
        "\n",
        "\n",
        "\n",
        "\n"
      ]
    },
    {
      "cell_type": "markdown",
      "metadata": {
        "id": "UHzZNTIlsKM9"
      },
      "source": [
        "\n",
        "\n",
        "---\n",
        "\n"
      ]
    },
    {
      "cell_type": "markdown",
      "metadata": {
        "id": "8yBgWMdO0Lj2"
      },
      "source": [
        "# **Readings** "
      ]
    },
    {
      "cell_type": "markdown",
      "metadata": {
        "id": "OvnP6p6KUut2"
      },
      "source": [
        "\n",
        "**from the  textbook: ( [https://www.py4e.com/lessons/](https://www.py4e.com/lessons/))**\n",
        "\n",
        "\n",
        "\n",
        "* [Variables](https://)...  (Chapter 3)\n",
        "* [Strings](https://www.py4e.com/lessons/strings) (Chapter 7)\n",
        "* [Lists](https://www.py4e.com/lessons/lists) (Chapter 9)\n",
        "* [Tuples](https://www.py4e.com/lessons/tuples) (Chapter 11)\n",
        "* [Functions](www.py4e.com/lessons/functions) (Chapter 5)\n",
        "* [Loops](https://www.py4e.com/lessons/loops) (Chapter 6)\n",
        "* [Conditionals](https://www.py4ecom/lessons/logic) (Chapter 4)\n",
        "* [Dictionaries](https://www.py4e.com/lessons/dictionary) (chapter 10)\n",
        "* [Sets](https://diveintopython3.net/native-datatypes.html) (2.3 of Diver Into Python by Mark Pilgrim - free)\n",
        "\n",
        "\n"
      ]
    },
    {
      "cell_type": "markdown",
      "metadata": {
        "id": "v83ddP-WsL3H"
      },
      "source": [
        "\n",
        "\n",
        "---\n",
        "\n"
      ]
    },
    {
      "cell_type": "markdown",
      "metadata": {
        "id": "fA3cw0WfsLNb"
      },
      "source": [
        "# **Literals**"
      ]
    },
    {
      "cell_type": "markdown",
      "metadata": {
        "metadata": {
          "deletable": false,
          "editable": false,
          "trusted": true
        },
        "id": "ORN9HabBtlCs"
      },
      "source": [
        "A literal is a specific written value in your program. Literals get their name because they *literally* mean what they are. Numbers are literals in Pyhon and so are words and phrases written in a human language. In this lesson you will learn how to communicate numbers and words to your program. You will also learn about other important literals in the Python language. \n",
        "\n",
        "## Numbers\n",
        "\n",
        "You can write a number directly into your program. For example, if you want Python to print the number `10` you can execute this instruction: \n",
        "\n",
        "```python\n",
        "print(10)\n",
        "```\n",
        "\n",
        "Copy the print instruction into the cell below and run it: "
      ]
    },
    {
      "cell_type": "code",
      "metadata": {
        "metadata": {
          "deletable": false,
          "editable": false,
          "trusted": true
        },
        "id": "LrCZIyWstlCs"
      },
      "source": [],
      "execution_count": null,
      "outputs": []
    },
    {
      "cell_type": "markdown",
      "metadata": {
        "metadata": {
          "deletable": false,
          "editable": false,
          "trusted": true
        },
        "id": "famE6e0itlCt"
      },
      "source": [
        "The `print()` function is given an `expression` enclosed in parentheses `(` and `)` as input and displays the expression in a readable format. We will use the `print` fucntion a lot in this class so it's a good idea to start becoming familiar with the `print()` function. The most important thing to notice right now is that what you want printed is placed in between the parentheses. \n",
        "\n",
        "Python understands integers, numbers with no decimal place and *floating point* numbers, which contain a decimal. Copy these statements into the cell below and run them: \n",
        "\n",
        "```python\n",
        "print(100)\n",
        "print(3.14)\n",
        "```"
      ]
    },
    {
      "cell_type": "code",
      "metadata": {
        "id": "BZeyIHiJtlCu"
      },
      "source": [],
      "execution_count": null,
      "outputs": []
    },
    {
      "cell_type": "markdown",
      "metadata": {
        "id": "ZGSfWqyAtlCu"
      },
      "source": [
        "Python also understands scientific notation. That's where the nubmer is expressed as a decimal that is multiplied by a power of 10. For example 1 billion is:\n",
        "\n",
        "$1,000,000,000 = 1 x 10^9$\n",
        "\n",
        "You can print one billion in like this: \n",
        "\n",
        "```python\n",
        "print(1e9)\n",
        "```\n",
        "\n",
        "You can use the notation to represent fractions too. \n",
        "\n",
        "```python\n",
        "print(\"A nanosecond is\", 1e-9, \"seconds\")\n",
        "```\n",
        "\n",
        "Copy the two print statements into the cell below and run them. Make sure there is no error and that you see printed the correct numbers."
      ]
    },
    {
      "cell_type": "code",
      "metadata": {
        "id": "F9rrm7OMtlCu"
      },
      "source": [],
      "execution_count": null,
      "outputs": []
    },
    {
      "cell_type": "markdown",
      "metadata": {
        "id": "DSyAe-7K2Vp_"
      },
      "source": [
        "\n",
        "\n",
        "---\n",
        "\n"
      ]
    },
    {
      "cell_type": "markdown",
      "metadata": {
        "id": "gzY6z1HptlCu"
      },
      "source": [
        "## Strings\n",
        "\n",
        "Strings are a group of letters. There can be any number of letters in a string (including zero). Python detects the beginning and end of a string by looking for a *quote* character. There are different kinds of quotes. They are discussed in [Quotes](../Lesson03/quotes.ipynb). The most essential quotes are double quotes and single quotes and they are just two ways of doing the same thing. Copy these two examples into the cell below: \n",
        "\n",
        "```python\n",
        "print(\"Double Quote\") \n",
        "print('Single Quote')\n",
        "```"
      ]
    },
    {
      "cell_type": "code",
      "source": [],
      "metadata": {
        "id": "lh1dJz_F06Gl"
      },
      "execution_count": null,
      "outputs": []
    },
    {
      "cell_type": "markdown",
      "metadata": {
        "id": "Ws7RqU8KtlCu"
      },
      "source": [
        "**Do you see any difference in the way Python prints the words?** There isn't! Double and single quotes do the same thing. Why have both? The double and single quote are very common in English so you sometimes need to pick quotes based on what you have to say. Enter these examples into the cell below: \n",
        "\n",
        "```python\n",
        "print(\"I can't do that, Dave.\") \n",
        "print('\"Brevity is the soul of wit.\" --William Shakespeare')\n",
        "```"
      ]
    },
    {
      "cell_type": "code",
      "metadata": {
        "id": "XshR3uRUtlCu"
      },
      "source": [],
      "execution_count": null,
      "outputs": []
    },
    {
      "cell_type": "markdown",
      "metadata": {
        "id": "ijToGkgbtlCu"
      },
      "source": [
        "*What would happen if you changed double quotes to single quotes in the first print example?*"
      ]
    },
    {
      "cell_type": "markdown",
      "metadata": {
        "id": "4914PpdqtlCu"
      },
      "source": [
        "## True or False?\n",
        "\n",
        "Python has special literals for the values `True` and `False`. The use of true and false will become important later when we talk about conditions and loops. For now think of them as a special way to get the `print` function to print the words `True` and `False`. Enter this example into the cell below: \n",
        "\n",
        "```python\n",
        "print('Roses are', False, 'violets are', True)\n",
        "```"
      ]
    },
    {
      "cell_type": "code",
      "metadata": {
        "id": "eyJ5cqettlCu"
      },
      "source": [],
      "execution_count": null,
      "outputs": []
    },
    {
      "cell_type": "markdown",
      "metadata": {
        "id": "rx_IC-kntlCu"
      },
      "source": [
        "## Literally Nothing!\n",
        "\n",
        "All of the other literals you've learned so far exist in every other programming language. The `None` literal is unique to Python. It's means \"no value.\" Printing `None` is exactly like telling Python to \"print nothing.\" See what happens when you print None in the cell below: \n",
        "\n",
        "```python\n",
        "print(None)\n",
        "```"
      ]
    },
    {
      "cell_type": "code",
      "metadata": {
        "id": "G8jhZ3rrtlCu"
      },
      "source": [],
      "execution_count": null,
      "outputs": []
    },
    {
      "cell_type": "markdown",
      "metadata": {
        "id": "tEVESB4WtlCu"
      },
      "source": [
        "## Literals and Jupyter \n",
        "\n",
        "When you execute a cell in Jupyter the notebook automatically prints that last literal it sees as a convenience. In a lot of cases this means you don't need to have a `print` statement to see the value of something in the notebook. Try putting the code below into the next cell:\n",
        "\n",
        "```python\n",
        "\"Roses are\", False\n",
        "```"
      ]
    },
    {
      "cell_type": "code",
      "metadata": {
        "id": "NCU972qZtlCv"
      },
      "source": [],
      "execution_count": null,
      "outputs": []
    },
    {
      "cell_type": "markdown",
      "metadata": {
        "id": "Z76lstVRsd8W"
      },
      "source": [
        "Now try this: \n",
        "\n",
        "```python\n",
        "print(\"Roses are\", False)\n",
        "```"
      ]
    },
    {
      "cell_type": "code",
      "metadata": {
        "id": "qoHmDbQSsd8W"
      },
      "source": [],
      "execution_count": null,
      "outputs": []
    },
    {
      "cell_type": "markdown",
      "metadata": {
        "id": "0lNbeg5usd8W"
      },
      "source": [
        "**Notice the difference?**"
      ]
    },
    {
      "cell_type": "markdown",
      "metadata": {
        "id": "7M5GCbmssLFC"
      },
      "source": [
        "\n",
        "\n",
        "---\n",
        "\n"
      ]
    },
    {
      "cell_type": "markdown",
      "metadata": {
        "id": "W-tk0b7-hRE2"
      },
      "source": [
        "# **Strings**"
      ]
    },
    {
      "cell_type": "markdown",
      "metadata": {
        "id": "yC6FtaqV6pKk"
      },
      "source": [
        "String variables are used to store textual data, characters and sequences of characters. Strings can be specified by surrounding some text with single ' or double \" quotes.\n",
        "\n"
      ]
    },
    {
      "cell_type": "code",
      "metadata": {
        "id": "UubHr1jG60AT"
      },
      "source": [
        "str_1 = 'Hello World!'\n",
        "print(str_1)"
      ],
      "execution_count": null,
      "outputs": []
    },
    {
      "cell_type": "code",
      "metadata": {
        "id": "xvBpLz2O61x7"
      },
      "source": [
        "str_2 = \"Hello World!\"\n",
        "print(str_2)"
      ],
      "execution_count": null,
      "outputs": []
    },
    {
      "cell_type": "code",
      "metadata": {
        "id": "mRIs6f_AVT0N"
      },
      "source": [
        "str_1 == str_2\n"
      ],
      "execution_count": null,
      "outputs": []
    },
    {
      "cell_type": "markdown",
      "metadata": {
        "id": "rKX05V4v65Nt"
      },
      "source": [
        "*Multiline strings, or docstrings*\n",
        "\n",
        "If we have a piece of text with multiple lines, then triple quotes (either ' ' ' or \" \" \") can be used to surround the text.  By encapsulating text in triple quotes we are able to define a string with more than one line -- essentially a string which may include newline (/n) characters.\n",
        "\n",
        "Later, we will see how the first docstring in a function definition is used by the `help()` function to provide information on a function's operation.\n",
        "\n",
        "A docstring may be encapsulated with either triple single-quotes or triple double-quotes so long as the beginning and ending triple quotes are the same type (single or double)."
      ]
    },
    {
      "cell_type": "code",
      "metadata": {
        "id": "AdvXQs6164Js"
      },
      "source": [
        "str_2 = \"\"\"\n",
        "Now, as other Europeans mull how to restart their \n",
        "economies while still protecting human life, the Spanish \n",
        "have become an early bellwether for how a second wave \n",
        "might happen, how hard it might hit and how it could be contained.\n",
        "\n",
        "\"Perhaps Spain is the canary in the coal mine,\" said Prof. Antoni Trilla, \n",
        "an epidemiologist at the Barcelona Institute for Global Health, \n",
        "a research group. \"Many countries may follow us — but hopefully \n",
        "not at the same speed or with the same number of cases that we are facing.\"\n",
        "\n",
        "The median age of sufferers has dropped to around 37 from 60. \n",
        "Asymptomatic cases account for more than 50 percent of positive \n",
        "results, which is partly because of a fourfold rise in testing. \n",
        "And the health institutions feel much better prepared.\n",
        "\"\"\"\n",
        "print(str_2)"
      ],
      "execution_count": null,
      "outputs": []
    },
    {
      "cell_type": "code",
      "metadata": {
        "id": "3W68Jf2u7mmj"
      },
      "source": [
        "str_3 = \"\"\"\n",
        "If we want to have multiple lines in the string\n",
        "then we can use triple quotes: This is a multiline\n",
        "string!\n",
        "\"\"\"\n",
        "print(str_3)"
      ],
      "execution_count": null,
      "outputs": []
    },
    {
      "cell_type": "markdown",
      "metadata": {
        "id": "8diPi-2c7pCr"
      },
      "source": [
        "**Operations on Strings**"
      ]
    },
    {
      "cell_type": "code",
      "metadata": {
        "id": "NeJ0g7qe7qdD"
      },
      "source": [
        "# concatenation\n",
        "\n",
        "# note that + concatenates strings\n",
        "\n",
        "str1 = \"hello\"\n",
        "str2 = \"world\"\n",
        "message = str1 + \" \" + str2 + \"!\"\n",
        "print(message)"
      ],
      "execution_count": null,
      "outputs": []
    },
    {
      "cell_type": "code",
      "metadata": {
        "id": "vNMboqvf7yZr"
      },
      "source": [
        "# Notice the difference of the + operation when operating on text vs. numeric variables:\n",
        "\n",
        "x = 41\n",
        "x = x + 1\n",
        "print(x)\n",
        "print (type(x))"
      ],
      "execution_count": null,
      "outputs": []
    },
    {
      "cell_type": "code",
      "metadata": {
        "id": "AWVUCXzdWs5C"
      },
      "source": [
        "x = 41.0\n",
        "x = x + 1\n",
        "print(x)\n",
        "print (type(x))"
      ],
      "execution_count": null,
      "outputs": []
    },
    {
      "cell_type": "code",
      "metadata": {
        "id": "8aMNxtyS73Fb"
      },
      "source": [
        "x = \"41\"\n",
        "x = x + \"1\"\n",
        "print(x)\n",
        "print(type(x))"
      ],
      "execution_count": null,
      "outputs": []
    },
    {
      "cell_type": "code",
      "metadata": {
        "id": "7W7RMgPk77kb"
      },
      "source": [
        "# string length\n",
        "\n",
        "word = \"Python is the word. And on and on and on....\"\n",
        "print(len(word))"
      ],
      "execution_count": null,
      "outputs": []
    },
    {
      "cell_type": "code",
      "metadata": {
        "id": "8_ZEnEzi8BAD"
      },
      "source": [
        "print(word)\n",
        "print(\"The length of the text above is \", len(word), \"characters\")"
      ],
      "execution_count": null,
      "outputs": []
    },
    {
      "cell_type": "markdown",
      "metadata": {
        "id": "afBphs-Z9A-b"
      },
      "source": [
        "**Special characters**\n",
        "\n",
        "When we use strings, you will notice that we often want to use some \"special characters\". These special characters consist of the backslash character (\\\\) followed by another character.\n",
        "\n",
        "**Tab character** \\t: For example, if we want to create an output of multiple columns, with each columns being separated with a tab from each other, we can use the tab character, which is represented as \\t."
      ]
    },
    {
      "cell_type": "code",
      "metadata": {
        "id": "uTXfOqyF9DhE"
      },
      "source": [
        "# Example: List the first name, last name, and email of a person, in columns\n",
        "# Separate the columns using a tab character\n",
        "str_a =\"First Name\\tLast Name\\tEmail\"\n",
        "str_b =\"Aaron\\tRodgers\\taaron@nfl.com\"\n",
        "str_c =\"Giannis\\tAntetokounmpo\\tgiannis@nba.com\"\n",
        "print(str_a)\n",
        "print(str_b)\n",
        "print(str_c)"
      ],
      "execution_count": null,
      "outputs": []
    },
    {
      "cell_type": "markdown",
      "metadata": {
        "id": "3TzqJMqe9rAE"
      },
      "source": [
        "**New line character** \\n: This is a special character that we use to represent a new line.\n",
        "\n"
      ]
    },
    {
      "cell_type": "code",
      "metadata": {
        "id": "0f9L11pR9qe0"
      },
      "source": [
        "# Notice that we end the strings below with the \\n character, \n",
        "# which is the \"new line\" special character\n",
        "str_d = \"Hello World!\\nHello World Twice!\"\n",
        "print(str_d)"
      ],
      "execution_count": null,
      "outputs": []
    },
    {
      "cell_type": "markdown",
      "metadata": {
        "id": "v719BNtw94UW"
      },
      "source": [
        "**Backslash character** \\\\: In general, backslash (\\\\) is used to introduce special characters. If we want to type the backslash character itself, we do it by typing backslash twice in a row: \\\\."
      ]
    },
    {
      "cell_type": "code",
      "metadata": {
        "id": "xtRwadLA97Zj"
      },
      "source": [
        "print(\"I want to print backslash: \\\\\")\n"
      ],
      "execution_count": null,
      "outputs": []
    },
    {
      "cell_type": "code",
      "metadata": {
        "id": "XwESlLA398-b"
      },
      "source": [
        "str3 = 'This is a string within single quotes that can contain \"double quotes\" as part of the string'\n",
        "print(str3)"
      ],
      "execution_count": null,
      "outputs": []
    },
    {
      "cell_type": "code",
      "metadata": {
        "id": "2pm1AeLa-C-F"
      },
      "source": [
        "\n",
        "str4 = 'If we want to have \\'single quotes\\' in single quoted string we should escape them'\n",
        "print(str4)"
      ],
      "execution_count": null,
      "outputs": []
    },
    {
      "cell_type": "code",
      "metadata": {
        "id": "RHyEtfec-GDk"
      },
      "source": [
        "str5 = \"Similarly, if we want to have \\\"double quotes\\\" in double quoted string we should escape them\\n\"\n",
        "print(str5)"
      ],
      "execution_count": null,
      "outputs": []
    },
    {
      "cell_type": "markdown",
      "metadata": {
        "id": "5nDDDAhx-K2T"
      },
      "source": [
        "**Splitting Strings: split and join**\n",
        "\n",
        "Since we talked about special characters, let’s talk now about splitting strings, using the split() function.\n",
        "\n",
        "* longstring.split(separator): split the first string (longstring) at every occurrence of the second string (separator) Outputs a list (see below).\n",
        "* connector.join(list): join is the \"reverse\" of split, and joins all the elements of the list, using the connector string in front."
      ]
    },
    {
      "cell_type": "code",
      "metadata": {
        "id": "0jN7V4Fd-RBU"
      },
      "source": [
        "print(\"practical data science\".split(\" \"))"
      ],
      "execution_count": null,
      "outputs": []
    },
    {
      "cell_type": "markdown",
      "metadata": {
        "id": "cxuLOfoWi3gu"
      },
      "source": [
        "By default, the split() method will split on spaces (if no split character is specified)."
      ]
    },
    {
      "cell_type": "code",
      "metadata": {
        "id": "ZOQ15pO6i8o1"
      },
      "source": [
        "print(\"practical data science\".split())"
      ],
      "execution_count": null,
      "outputs": []
    },
    {
      "cell_type": "markdown",
      "metadata": {
        "id": "IOiteKKZjKl8"
      },
      "source": [
        "The split() method will use another character as a delimiter when the string of that character is passed as an argument."
      ]
    },
    {
      "cell_type": "code",
      "metadata": {
        "id": "yWIBlyvm-ST0"
      },
      "source": [
        "print(\"billgates@microsoft.com\".split(\"@\"))\n"
      ],
      "execution_count": null,
      "outputs": []
    },
    {
      "cell_type": "markdown",
      "metadata": {
        "id": "bSrQGQLKlEqJ"
      },
      "source": [
        "*ProTip: split()*"
      ]
    },
    {
      "cell_type": "markdown",
      "metadata": {
        "id": "JWjnOmiojVYf"
      },
      "source": [
        "Their is a second, optional argument to the split() method which is an integer of the maximum items to return from the split."
      ]
    },
    {
      "cell_type": "code",
      "metadata": {
        "id": "P_Uh0bFcjqAe"
      },
      "source": [
        "print(\"practical data science is your friend\".split(\" \", 1))"
      ],
      "execution_count": null,
      "outputs": []
    },
    {
      "cell_type": "markdown",
      "metadata": {
        "id": "6asGV5MCkrZ0"
      },
      "source": [
        "Notice that after the maximum number of split items is reached, the remainder of the string is included as the final item in the list."
      ]
    },
    {
      "cell_type": "code",
      "metadata": {
        "id": "awQBdOOTk7E-"
      },
      "source": [
        "print(\"practical data science is your friend\".split(\" \", 2))"
      ],
      "execution_count": null,
      "outputs": []
    },
    {
      "cell_type": "code",
      "metadata": {
        "id": "rw0Hrw76-Ywr"
      },
      "source": [
        "str_a =\"First Name\\tLast Name\\tEmail\"\n",
        "str_b =\"Aaron\\tRodgers\\taaron@nfl.com\"\n",
        "str_c =\"Giannis\\tAntetokounmpo\\tgiannis@nba.com\"\n",
        "print(str_a.split('\\t'))\n",
        "print(str_b.split('\\t'))\n",
        "print(str_c.split('\\t'))"
      ],
      "execution_count": null,
      "outputs": []
    },
    {
      "cell_type": "code",
      "metadata": {
        "id": "UI8oUEP6-g08"
      },
      "source": [
        "#Notice that when we split a string and the delimeter \n",
        "#character does not appear, then we get back the string \n",
        "#itself, but converted into a list with a single element.\n",
        "\n",
        "print(\"hello\".split(\" \"))\n"
      ],
      "execution_count": null,
      "outputs": []
    },
    {
      "cell_type": "markdown",
      "metadata": {
        "id": "Y90q7Y-A-w97"
      },
      "source": [
        "**Exercise**\n",
        "\n",
        "Consider the string billgates@microsoft.com. Write code that finds the username of the email address and the domain of the email address, using the split() command."
      ]
    },
    {
      "cell_type": "code",
      "metadata": {
        "id": "CYEGia-kZh2J"
      },
      "source": [
        "# here is a solution\n",
        "s = \"billgates@microsoft.com\"\n",
        "words = s.split(\"@\")\n",
        "username = words[0]\n",
        "domain = words[1]\n",
        "print(\"Username is: \", username)\n",
        "print(\"Domain is: \", domain)"
      ],
      "execution_count": null,
      "outputs": []
    },
    {
      "cell_type": "markdown",
      "metadata": {
        "id": "s_LQxSBH-_OM"
      },
      "source": [
        "**Indexing and Slicing: Accessing parts of the string**\n",
        "\n",
        "*Indexing*\n",
        "\n",
        "Strings can be indexed (subscripted), with the first character having index 0."
      ]
    },
    {
      "cell_type": "code",
      "metadata": {
        "id": "NMutrhpW_JHj"
      },
      "source": [
        "word = \"Python\"\n",
        "print(word)"
      ],
      "execution_count": null,
      "outputs": []
    },
    {
      "cell_type": "code",
      "metadata": {
        "id": "eA-1-Daz_KIm"
      },
      "source": [
        "word[0]  # character in position 0\n",
        "print(word[0])"
      ],
      "execution_count": null,
      "outputs": []
    },
    {
      "cell_type": "code",
      "metadata": {
        "id": "h_UxzEBS_LFz"
      },
      "source": [
        "word[1]\n",
        "print(word[1])"
      ],
      "execution_count": null,
      "outputs": []
    },
    {
      "cell_type": "code",
      "metadata": {
        "id": "RJFLNtXq_NyE"
      },
      "source": [
        "word[5]  # character in position 5\n",
        "print(word[5])"
      ],
      "execution_count": null,
      "outputs": []
    },
    {
      "cell_type": "markdown",
      "metadata": {
        "id": "m6QKaXak_P4b"
      },
      "source": [
        "**Negative indexing**\n",
        "\n",
        "Indices may also be negative numbers, to start counting from the right:"
      ]
    },
    {
      "cell_type": "code",
      "metadata": {
        "id": "jVKMT9Pu_Swt"
      },
      "source": [
        "word[-1]  # last character \n",
        "print(word[-1])"
      ],
      "execution_count": null,
      "outputs": []
    },
    {
      "cell_type": "code",
      "metadata": {
        "id": "0uhFwRg8_TSC"
      },
      "source": [
        "word[-2]  # second-last character\n",
        "print(word[-2])"
      ],
      "execution_count": null,
      "outputs": []
    },
    {
      "cell_type": "code",
      "metadata": {
        "id": "LipPotqg_WV8"
      },
      "source": [
        "word[-6]\n",
        "print(word[-6])"
      ],
      "execution_count": null,
      "outputs": []
    },
    {
      "cell_type": "markdown",
      "metadata": {
        "id": "YNLK2BcR_dZ0"
      },
      "source": [
        "**Slicing**\n",
        "\n",
        "In addition to indexing, slicing is also supported. While indexing is used to obtain individual characters, slicing allows you to obtain a substring:"
      ]
    },
    {
      "cell_type": "code",
      "metadata": {
        "id": "lEGnRmcc_hec"
      },
      "source": [
        "word[0:2]  # characters from position 0 (included) to 2 (excluded)\n",
        "print(word)\n",
        "print(word[0:2])"
      ],
      "execution_count": null,
      "outputs": []
    },
    {
      "cell_type": "code",
      "metadata": {
        "id": "c-vZ4enO_ikd"
      },
      "source": [
        "word[2:5]  # characters from position 2 (included) to 5 (excluded)\n",
        "print(word)\n",
        "print(word[2:5])"
      ],
      "execution_count": null,
      "outputs": []
    },
    {
      "cell_type": "code",
      "metadata": {
        "id": "QqDml4cM_jhl"
      },
      "source": [
        "word[2:]  # characters from position 2 (included) to the end\n",
        "print(word[2:])"
      ],
      "execution_count": null,
      "outputs": []
    },
    {
      "cell_type": "code",
      "metadata": {
        "id": "-SR2fWR6_kbc"
      },
      "source": [
        "word[:3]  # characters from beginning (position 0) to position 3 (excluded)\n",
        "print(word[:3])"
      ],
      "execution_count": null,
      "outputs": []
    },
    {
      "cell_type": "code",
      "metadata": {
        "id": "Dk2UmwqS_lZs"
      },
      "source": [
        "word[-3:]  # last three characters\n",
        "print(word[-3:])"
      ],
      "execution_count": null,
      "outputs": []
    },
    {
      "cell_type": "code",
      "metadata": {
        "id": "RlmeDtZp_mVe"
      },
      "source": [
        "word[-3:-1]  # penultimate two characters\n",
        "print(word[-3:-1])"
      ],
      "execution_count": null,
      "outputs": []
    },
    {
      "cell_type": "code",
      "metadata": {
        "id": "wrmj4CjM_nbN"
      },
      "source": [
        "word[1:-1]\n",
        "print(word[1:-1])"
      ],
      "execution_count": null,
      "outputs": []
    },
    {
      "cell_type": "markdown",
      "metadata": {
        "id": "UXMIUOSh_sEu"
      },
      "source": [
        "**Exercise**\n",
        "\n",
        "Assign the string 'Information and Data Management' to a Python variable.\n",
        "Print the word 'Information' by using the indexing/slicing approach.\n",
        "Print the word 'Data' by using the negative indexing/slicing approach."
      ]
    },
    {
      "cell_type": "code",
      "metadata": {
        "id": "en6pJjjoAIWs"
      },
      "source": [
        "# here is my solution\n",
        "s = \"Information and Data Management\"\n",
        "info_word = s[:11]\n",
        "data_word = s[-15:-11]\n",
        "print(\"Word information: \", info_word)\n",
        "print(\"Word data: \", data_word)\n"
      ],
      "execution_count": null,
      "outputs": []
    },
    {
      "cell_type": "code",
      "metadata": {
        "id": "L5Be1aUDdcV6"
      },
      "source": [
        "len(s)"
      ],
      "execution_count": null,
      "outputs": []
    },
    {
      "cell_type": "markdown",
      "metadata": {
        "id": "Urm_Avoj2Q3K"
      },
      "source": [
        "\n",
        "\n",
        "---\n",
        "\n"
      ]
    },
    {
      "cell_type": "markdown",
      "metadata": {
        "id": "RscBKZDd19Il"
      },
      "source": [
        "# **Lists**"
      ]
    },
    {
      "cell_type": "markdown",
      "metadata": {
        "id": "xEvodtGj5KMv"
      },
      "source": [
        "**Complex Data Structures: Lists (and Tuples)**\n",
        "\n",
        "Python’s primitive data types: numeric types, strings, and booleans. We are now going to examine how these basic types can be composed together, in more complex structures. We will start by reviewing lists.\n",
        "\n",
        "**Basics of Lists**\n",
        "\n",
        "\n",
        "*Creating Lists*\n",
        "\n",
        "A list, sometimes called and array, or a vector, is an ordered collection of values.\n",
        "\n",
        "In Python, lists are specified by square brackets, [ ], containing zero or more values, separated by commas.\n",
        "\n",
        "For example:"
      ]
    },
    {
      "cell_type": "code",
      "metadata": {
        "id": "le9BBI3Y5i20"
      },
      "source": [
        "number_list = [1, 2, 3, 0, 5, 10, 11]\n",
        "print(number_list)"
      ],
      "execution_count": null,
      "outputs": []
    },
    {
      "cell_type": "code",
      "metadata": {
        "id": "6fwzl6Zs5k2l"
      },
      "source": [
        "name_list = [\"Elena\", \"Candido\", \"Ashwin\", \"Hong\"]\n",
        "print(name_list)"
      ],
      "execution_count": null,
      "outputs": []
    },
    {
      "cell_type": "code",
      "metadata": {
        "id": "djQjqcSZ5t1s"
      },
      "source": [
        "mixed_list = [\"Elena\", 44, \"Candido\", 53]\n",
        "print(mixed_list)\n"
      ],
      "execution_count": null,
      "outputs": []
    },
    {
      "cell_type": "code",
      "source": [
        "this_dict = dict()\n",
        "this_dict[\"works\"] = True\n",
        "very_mixed_list = [\"Elena\", 44, this_dict[\"works\"], \"Candido\", 53]\n",
        "print(mixed_list)"
      ],
      "metadata": {
        "id": "150xJ57XZfVp"
      },
      "execution_count": null,
      "outputs": []
    },
    {
      "cell_type": "code",
      "metadata": {
        "id": "m-PIVAx_5z4T"
      },
      "source": [
        "empty_list = []\n",
        "print(empty_list)"
      ],
      "execution_count": null,
      "outputs": []
    },
    {
      "cell_type": "code",
      "metadata": {
        "id": "0wiBEyQP508N"
      },
      "source": [
        "empty_list1 = list()\n",
        "print(empty_list1)"
      ],
      "execution_count": null,
      "outputs": []
    },
    {
      "cell_type": "code",
      "metadata": {
        "id": "mNEJWtXKfidj"
      },
      "source": [
        "empty_list == empty_list1"
      ],
      "execution_count": null,
      "outputs": []
    },
    {
      "cell_type": "code",
      "source": [
        "# creating a list of lists to represent a matrix\n",
        "row1 = [1, 2, 3]\n",
        "row2 = [4, 5, 6]\n",
        "row3 = [7, 8, 9]\n",
        "\n",
        "matrix = [row1, row2, row3]\n",
        "\n",
        "print(matrix)"
      ],
      "metadata": {
        "id": "W8yFDZ7Wad92"
      },
      "execution_count": null,
      "outputs": []
    },
    {
      "cell_type": "code",
      "source": [
        "# access the value in the 2nd column of the 2nd row of matrix\n",
        "\n",
        "# cheating at it\n",
        "print(row2[1])\n",
        "\n",
        "# or referring to the col/row in the matrix\n",
        "print(matrix[1][1])"
      ],
      "metadata": {
        "id": "WA9SsdPoa1cb"
      },
      "execution_count": null,
      "outputs": []
    },
    {
      "cell_type": "markdown",
      "metadata": {
        "id": "CQNpUWgeg_Iz"
      },
      "source": [
        "Iterating over lists: **for** loops.\n",
        "\n",
        "Given the department names and the numbers of the introdution level courses, create a list of all the introduction courses for all the departments. "
      ]
    },
    {
      "cell_type": "code",
      "metadata": {
        "id": "xDrGuRLAgwe5"
      },
      "source": [
        "dept = [\"CST\", \"CET\", \"ENG\"]\n",
        "intro_courses = [\"1101\", \"1201\"]\n",
        "\n",
        "# iterating over the list elements\n",
        "for i in dept: \n",
        "  for j in intro_courses: \n",
        "    print (i+j)"
      ],
      "execution_count": null,
      "outputs": []
    },
    {
      "cell_type": "code",
      "metadata": {
        "id": "zwxlL988NvEk"
      },
      "source": [
        "print(dept)\n",
        "len(dept)"
      ],
      "execution_count": null,
      "outputs": []
    },
    {
      "cell_type": "code",
      "metadata": {
        "id": "S0T5AaHSOLf6"
      },
      "source": [
        "print(intro_courses)\n",
        "len(intro_courses)"
      ],
      "execution_count": null,
      "outputs": []
    },
    {
      "cell_type": "markdown",
      "metadata": {
        "id": "HVU3opX0k2W0"
      },
      "source": [
        "*Note: We did not spend time on the range() function in class.*"
      ]
    },
    {
      "cell_type": "code",
      "metadata": {
        "id": "n86JZ4MnhfLQ"
      },
      "source": [
        "# iterating through the lists using indecies\n",
        "\n",
        "for i in range(len(dept)): \n",
        "  for j in range(len(intro_courses)): \n",
        "    print (dept[i]+intro_courses[j])"
      ],
      "execution_count": null,
      "outputs": []
    },
    {
      "cell_type": "markdown",
      "metadata": {
        "id": "lCVCv4Z6NIRI"
      },
      "source": [
        "*The range() function*"
      ]
    },
    {
      "cell_type": "code",
      "metadata": {
        "id": "wn-ku8dINMIn"
      },
      "source": [
        "range(3)\n"
      ],
      "execution_count": null,
      "outputs": []
    },
    {
      "cell_type": "markdown",
      "metadata": {
        "id": "9sxwXsDB52G8"
      },
      "source": [
        "Lists are a very common data structure, and are often generated as a result of other functions, for instance, the split(\" \") command for a string, will split a string on space, and then return a list of the smaller substrings.\n",
        "\n",
        "Strings are special types of lists. Strings are unmutable lists.\n"
      ]
    },
    {
      "cell_type": "code",
      "metadata": {
        "id": "AFNpFZnH52rd"
      },
      "source": [
        "my_string = \"Wow these data structures make for exciting dinner conversation\"\n",
        "list_of_words = my_string.split(\" \")\n",
        "print(list_of_words)"
      ],
      "execution_count": null,
      "outputs": []
    },
    {
      "cell_type": "markdown",
      "metadata": {
        "id": "jhN3OZIN6KME"
      },
      "source": [
        "**Accessing parts of a list: Indexing and Slicing revisited**\n",
        "\n",
        "We can retrieve the value of a particular element of a list by writing in square brackets the location of the element. In python, like most programming languages, list indices start at 0, that is, to get the first element in a list, request the element at index 0."
      ]
    },
    {
      "cell_type": "code",
      "metadata": {
        "id": "CCsFJaYU6Ouz"
      },
      "source": [
        "another_list = [\"a\", \"b\", \"c\", \"d\", \"e\", \"f\"]\n",
        "print(another_list[1])"
      ],
      "execution_count": null,
      "outputs": []
    },
    {
      "cell_type": "markdown",
      "metadata": {
        "id": "W4a9gBoA6P-E"
      },
      "source": [
        "\n",
        "Negative indices can be used to traverse the list from the right.\n",
        "\n"
      ]
    },
    {
      "cell_type": "code",
      "metadata": {
        "id": "iCWdXvhI6Q77"
      },
      "source": [
        "print(another_list[-2])\n"
      ],
      "execution_count": null,
      "outputs": []
    },
    {
      "cell_type": "markdown",
      "metadata": {
        "id": "VOPW-c966TQz"
      },
      "source": [
        "If you remember the case with strings and accessing the individual characters, the concept is exactly the same. In fact, strings are treated in Python as lists of characters.\n",
        "\n",
        "This also means that the slicing operator works for accessing parts of the list as well:"
      ]
    },
    {
      "cell_type": "code",
      "metadata": {
        "id": "ySb427sP6VnE"
      },
      "source": [
        "# Retrieves the elements at positions 2, 3, and 4.\n",
        "# Remember these are the 3rd, 4th, and 5th elements of the list\n",
        "print(another_list[2:5])"
      ],
      "execution_count": null,
      "outputs": []
    },
    {
      "cell_type": "code",
      "metadata": {
        "id": "yv0qNPgg6WyD"
      },
      "source": [
        "# Retrieved the last 3 elements of the list\n",
        "print(another_list[-3:])"
      ],
      "execution_count": null,
      "outputs": []
    },
    {
      "cell_type": "markdown",
      "metadata": {
        "id": "o_Y-4CkoAUYt"
      },
      "source": [
        "**Exercise**\n",
        "\n",
        "You are given a list of names as one big, multiline string. Each line contains one name. "
      ]
    },
    {
      "cell_type": "code",
      "metadata": {
        "id": "YT1zzVKGAZHz"
      },
      "source": [
        "# Governers of the US States: Alabama through Hawaii\n",
        "names_string = \"\"\"Kay Ivey\n",
        "Mike Dunleavy\n",
        "Doug Ducey\n",
        "Asa Hutchinson\n",
        "Gavin Newsom\n",
        "Jared Polis\n",
        "Ned Lamont\n",
        "John Carney\n",
        "Ron DeSantis\n",
        "Brian Kemp\n",
        "David Ige\"\"\""
      ],
      "execution_count": null,
      "outputs": []
    },
    {
      "cell_type": "code",
      "metadata": {
        "id": "2ldDigqQhyaP"
      },
      "source": [
        "list_n = names_string.split(\"\\n\")\n",
        "len(list_n)"
      ],
      "execution_count": null,
      "outputs": []
    },
    {
      "cell_type": "markdown",
      "metadata": {
        "id": "o5tjaHiyA_mc"
      },
      "source": [
        "* Use the split command, appropriately configured, to separate names into a list of names.\n",
        "* Extract the 3rd name from the list\n",
        "* Extract the second from the last name, using negative indexing\n",
        "* Retrieve the 6th to 8th names from the list (inclusive, we want a list of 3 names, 6th, 7th, and 8th)\n",
        "* Retrieve the last 3 names."
      ]
    },
    {
      "cell_type": "code",
      "metadata": {
        "id": "K3CYDWlVYBpx"
      },
      "source": [
        "# here is my solution\n",
        "print(\"Third name is: \", list_n[2])\n",
        "print(\"Last three names are: \", list_n[8], \",\", list_n[9],\",\", list_n[10])"
      ],
      "execution_count": null,
      "outputs": []
    },
    {
      "cell_type": "markdown",
      "metadata": {
        "id": "_JkApgkHBf55"
      },
      "source": [
        "**More on Lists and Strings**"
      ]
    },
    {
      "cell_type": "markdown",
      "metadata": {
        "id": "n2ltDAppBvGn"
      },
      "source": [
        "*Equality comparison*"
      ]
    },
    {
      "cell_type": "code",
      "metadata": {
        "id": "MlCZbI__BqQB"
      },
      "source": [
        "str1 = \"hello\""
      ],
      "execution_count": null,
      "outputs": []
    },
    {
      "cell_type": "code",
      "metadata": {
        "id": "BE6FtIp4Bx2f"
      },
      "source": [
        "print(str1 == \"hello\")\n"
      ],
      "execution_count": null,
      "outputs": []
    },
    {
      "cell_type": "code",
      "metadata": {
        "id": "Itn9z2cLBy7w"
      },
      "source": [
        "print(str1 == \"Hello\")\n"
      ],
      "execution_count": null,
      "outputs": []
    },
    {
      "cell_type": "markdown",
      "metadata": {
        "id": "rpy2xeuxB2vo"
      },
      "source": [
        "Notice that **capitalization matters** when comparsing strings in Python. If we want to make the comparison case-insensitive we typically first convert both sides of the equality to the same case:"
      ]
    },
    {
      "cell_type": "code",
      "metadata": {
        "id": "W82c6yKxB5ja"
      },
      "source": [
        "print(str1.lower() == \"Hello\".lower())\n"
      ],
      "execution_count": null,
      "outputs": []
    },
    {
      "cell_type": "markdown",
      "metadata": {
        "id": "J-fy7Q3MB-yC"
      },
      "source": [
        "The opposite operator for equality is the inequality operator: !=. For example:"
      ]
    },
    {
      "cell_type": "code",
      "metadata": {
        "id": "GiwO9enbCAhw"
      },
      "source": [
        "email1 = \"efilatova@citytech.cuny.edu\"\n",
        "email2 = \" billgates@microsoft.com\"\n",
        "print(\"Are the emails different?\", email1 != email2)"
      ],
      "execution_count": null,
      "outputs": []
    },
    {
      "cell_type": "markdown",
      "metadata": {
        "id": "RZIrKsm8CMeD"
      },
      "source": [
        "**Ordering Strings**\n",
        "\n",
        "String also allow for inequality comparisons. When we compare strings, the string that is \"smaller\" is the one that is coming first in the dictionary. Let's see an example:"
      ]
    },
    {
      "cell_type": "code",
      "metadata": {
        "id": "kBOfk4o4CQlY"
      },
      "source": [
        "name1 = \"Abraham\"\n",
        "name2 = \"Bill\"\n",
        "\n",
        "# Abraham is lexicographically before Bill\n",
        "print(name1 < name2)"
      ],
      "execution_count": null,
      "outputs": []
    },
    {
      "cell_type": "code",
      "metadata": {
        "id": "7Sp4psQQCSZT"
      },
      "source": [
        "name1 = \"Giannis\"\n",
        "name2 = \"Bill\"\n",
        "\n",
        "# Giannis is lexicographically after Bill\n",
        "print(name1 < name2)"
      ],
      "execution_count": null,
      "outputs": []
    },
    {
      "cell_type": "code",
      "metadata": {
        "id": "7lk0mbzrCXFf"
      },
      "source": [
        "# Space, followed by numbers, followed by uppercase, followed by lowercase\n",
        "sorted([\"Bill\", \"  ZZ TOP!!! \", \"HAHA\", \"lol\", \"LOL!\", \"ZZZZZ\", \"zzzzz\", \"123\", \"345\"])"
      ],
      "execution_count": null,
      "outputs": []
    },
    {
      "cell_type": "markdown",
      "source": [
        "\n",
        "\n",
        "---\n",
        "\n"
      ],
      "metadata": {
        "id": "Y0kGhKeNhGeV"
      }
    },
    {
      "cell_type": "code",
      "source": [
        "sentence = \"\"\" This sentence has this strange mix of Upper and lower case in its upper range.\"\"\"\n",
        "word_list = sentence.split()\n",
        "print(\"The word list\\n\",word_list)\n",
        "# invoke the sort() method\n",
        "word_list.sort()\n",
        "print(\"\\nThe word list sorted\\n\", word_list)"
      ],
      "metadata": {
        "id": "J3siHbigflen"
      },
      "execution_count": null,
      "outputs": []
    },
    {
      "cell_type": "markdown",
      "source": [
        "\n",
        "\n",
        "---\n",
        "\n"
      ],
      "metadata": {
        "id": "MLBtqzavhHZS"
      }
    },
    {
      "cell_type": "markdown",
      "metadata": {
        "id": "DoP-6yZmCdVY"
      },
      "source": [
        "**Finding text within string variables**\n",
        "\n",
        "*in* operator\n",
        "\n",
        "* The in operator, needle in haystack: reports if the string needle appears in the string haystack\n",
        "\n",
        "For example, string \"New York\" appears within \"City University of New York\", so the following operator returns True:"
      ]
    },
    {
      "cell_type": "code",
      "metadata": {
        "id": "Pec63gOYCoHY"
      },
      "source": [
        "\"New York\" in \"City University of New York\""
      ],
      "execution_count": null,
      "outputs": []
    },
    {
      "cell_type": "markdown",
      "metadata": {
        "id": "i84F5hchCuHQ"
      },
      "source": [
        "But, unlike reality, \"City University of New York\" is not in \"New York\" :-)"
      ]
    },
    {
      "cell_type": "code",
      "metadata": {
        "id": "Yv5gOz3NCx-X"
      },
      "source": [
        "\"City University of New York\" in \"New York\"\n"
      ],
      "execution_count": null,
      "outputs": []
    },
    {
      "cell_type": "markdown",
      "metadata": {
        "id": "QOAyxvBUCzg8"
      },
      "source": [
        "**find function**\n",
        "\n",
        "* The find function, haystack.find(needle): searches haystack for needle, prints the position of the first occurrence, indexed from 0; returns -1 if not found.\n",
        "\n",
        "For example:"
      ]
    },
    {
      "cell_type": "code",
      "metadata": {
        "id": "BLUGVjQjC6wr"
      },
      "source": [
        "word = \"Python is the word. And on and on and on and on...\"\n",
        "position = word.find(\"on\")  # The 'on' appears at the end of 'Python'\n",
        "print(position)"
      ],
      "execution_count": null,
      "outputs": []
    },
    {
      "cell_type": "code",
      "metadata": {
        "id": "mFG2ZzkLC8cR"
      },
      "source": [
        "print(\"The first time that we see the string \\\"on\\\" is at position\", word.find(\"on\"))\n"
      ],
      "execution_count": null,
      "outputs": []
    },
    {
      "cell_type": "markdown",
      "metadata": {
        "id": "Wn9apvWzDF-A"
      },
      "source": [
        "**count function**\n",
        "\n",
        "str_1.count(str_2): counts the number of occurrences of one string in another."
      ]
    },
    {
      "cell_type": "code",
      "metadata": {
        "id": "E8uHRM_4DKUR"
      },
      "source": [
        "word = \"Python is the word. And on and on and on and on...\"\n",
        "lookfor = \"on\"\n",
        "count = word.count(lookfor)\n",
        "print(\"We see the string '\", lookfor, \"' that many times: \", count)"
      ],
      "execution_count": null,
      "outputs": []
    },
    {
      "cell_type": "code",
      "metadata": {
        "id": "10jYObhbDMLP"
      },
      "source": [
        "word = \"Python is the word. And on and on and on and on...\"\n",
        "lookfor = \"Python\"\n",
        "count = word.count(lookfor)\n",
        "print(\"We see the string '\", lookfor, \"' that many times: \", count)"
      ],
      "execution_count": null,
      "outputs": []
    },
    {
      "cell_type": "code",
      "metadata": {
        "id": "Oit9CUfhDNf1"
      },
      "source": [
        "word = \"Python is the word. And on and on and on and on...\"\n",
        "lookfor = \"PYTHON\"\n",
        "count = word.count(lookfor)\n",
        "print(\"We see the string '\", lookfor, \"' that many times: \", count)"
      ],
      "execution_count": null,
      "outputs": []
    },
    {
      "cell_type": "markdown",
      "metadata": {
        "id": "80a-lANVDTs4"
      },
      "source": [
        "**Exercise**\n",
        "\n",
        "Consider the news article from [CBSnews] [link text](https://www.cbsnews.com/news/biden-covid-19-schools-open-trump-administration/), which is given below, and stored in the string variable article.\n",
        "\n",
        "* Count how many times the word Biden appears in the article. \n",
        "* Count how many times the word Trump appears in the article.\n",
        "* Now sum up the occurences of Biden and Trump and display the percentage of coverage for each of the two strings. (For example, if Biden appears 2 times and Trump 3 times, then Biden is 40% and Trump is 60%.)"
      ]
    },
    {
      "cell_type": "code",
      "metadata": {
        "id": "wz7mu-JODhlh"
      },
      "source": [
        "article = \"\"\"\n",
        "Joe Biden condemned President Trump's response to the coronavirus pandemic on \n",
        "Wednesday, saying that if Mr. Trump and his administration had \"done their jobs,\" \n",
        "more schools would be able to reopen to in-person learning this fall.\n",
        "\n",
        "\"If President Trump and his administration had done their jobs early on in \n",
        "this crisis, American schools would be open. And they'd be open safely,\" \n",
        "Biden said in a speech in Wilmington, Delaware. \"Donald Trump and [Education \n",
        "Secretary Betsy] DeVos have not stepped up.\"\n",
        "\n",
        "Biden accused Mr. Trump of \"starving schools of the needed funding, \n",
        "funding they need now.\" He slammed the president and Republicans for being \n",
        "unwilling to consider a Democratic proposal passed in the House in May that \n",
        "would have provided additional financial help for schools.\n",
        "\n",
        "\"Mr. President, where are you? Where are you? Why aren't you \n",
        "working on this?\" Biden said, making a personal entreaty to the president. \n",
        "He urged Mr. Trump to \"get off Twitter\" and invite congressional leaders \n",
        "to the Oval Office.\n",
        "\n",
        "\"You always talk about your ability to negotiate. \n",
        "Negotiate a deal — a deal for somebody other than yourself,\" Biden said.\n",
        "\n",
        "Biden said there should be \"universal guidance\" for \n",
        "reopening schools and daycare centers, and added that the federal \n",
        "government should provide assistance to parents whose children are \n",
        "forced to undergo remote learning.\n",
        "\n",
        "\"The idea that you're able to get the economy back on track \n",
        "without getting COVID under control, it's completely counterintuitive,\" \n",
        "Biden said. \"There's going to be no need in my view to be able to shut down the whole economy.\"\n",
        "\n",
        "He also said he would pressure governors and local officials to impose a \n",
        "mask mandate, saying there's a \"question under the Constitution\" about \n",
        "whether a president can institute a national mandate. Biden has previously \n",
        "said he supports making wearing a mask a national requirement for three months.\n",
        "\n",
        "\"Why do you wear a mask? To protect your neighbor? To keep someone else \n",
        "from getting sick and maybe dying. I call that patriotic. This is the \n",
        "United States of America. Every generation has made sacrifices to help \n",
        "others in moments of crisis,\" Biden said.\n",
        "\n",
        "Biden also took questions from reporters, his first time doing \n",
        "so since he formally accepted the Democratic nomination for president last month.\n",
        "\n",
        "Biden's campaign also announced on Wednesday that he would be \n",
        "traveling to Kenosha, Wisconsin on Thursday. On Tuesday, Mr. Trump \n",
        "visited the city, which has been roiled by protests since the police \n",
        "shooting of a Black man and the deaths of two people by a suspected vigilante\n",
        "shooter at a subsequent demonstration. Biden said that local leaders and \n",
        "members of Congress had asked him to come to Kenosha.\n",
        "\n",
        "\"There have been overwhelming requests that I do come,\" he told reporters. \n",
        "\"What we want to do is we've got to heal, we've got to put things together, \n",
        "bring people together. My purpose in going is to do just that, to be a positive influence.\"\n",
        "\n",
        "He also said he would be meeting with local community and business \n",
        "leaders and law enforcement.\n",
        "\n",
        "The Democratic presidential nominee drew a contrast between himself \n",
        "and Mr. Trump, whom he has accused of fanning the flames of dissension. \n",
        "Earlier this week, the president declined to denounce suspected vigilante \n",
        "shooter Kyle Rittenhouse, the 17-year-old who has been charged with \n",
        "killing two people during protests in Wisconsin.\n",
        "\n",
        "\"I wouldn't incite violence. I would condemn it when it occurred,\" \n",
        "Biden said, adding that he supported law enforcement and believes \n",
        "that the majority of law enforcement officers are good people. \n",
        "\"What I'd be doing is I'd be bringing people together in the White \n",
        "House right now,\" he said.\n",
        "\n",
        "Mr. Trump did not meet with the family of Jacob Blake, the seven \n",
        "times in the back by a police officer. His family has been vocal in \n",
        "denouncing violent protests since Jacob Blake was shot on August 23. \n",
        "The 29-year-old father of six remains hospitalized and is paralyzed \n",
        "from his injuries, his family lawyers have said. \n",
        "\n",
        "It is unclear whether Biden will meet with the Blake family while in Kenosha.\n",
        "\"\"\""
      ],
      "execution_count": null,
      "outputs": []
    },
    {
      "cell_type": "code",
      "metadata": {
        "id": "RaA8JJzBEv1j"
      },
      "source": [
        "# here is my solution\n",
        "biden_count = article.count(\"Biden\")\n",
        "trump_count = article.count(\"Trump\")\n",
        "both_count = biden_count + trump_count\n",
        "biden_pct = int((biden_count / both_count)*100)\n",
        "trump_pct = 100 - biden_pct\n",
        "print(\"The name 'Biden' appears \", biden_pct, \" percent of the  time.\")\n",
        "print(\"The name 'Trump' appears \", trump_pct, \" perecent of the time.\")\n"
      ],
      "execution_count": null,
      "outputs": []
    },
    {
      "cell_type": "markdown",
      "metadata": {
        "id": "zCELH2FdE4DK"
      },
      "source": [
        "**Finding items in lists**\n",
        "\n",
        "Common functions\n",
        "\n",
        "* x in list: checks if x appears in the list\n",
        "* list.index(x): looks through the list to find the specified element, returning it's position if it's found, else throws an error\n",
        "* list.count(x): counts the number of occurrences of the input element"
      ]
    },
    {
      "cell_type": "code",
      "metadata": {
        "id": "flYflQRyFzlP"
      },
      "source": [
        "names = [\"Jane\", \"John\", \"Chris\", \"Josh\", \"Mary\", \"Anna\", \"John\"]\n"
      ],
      "execution_count": null,
      "outputs": []
    },
    {
      "cell_type": "code",
      "metadata": {
        "id": "naC9D4JbF4ZJ"
      },
      "source": [
        "\"Chris\" in names\n"
      ],
      "execution_count": null,
      "outputs": []
    },
    {
      "cell_type": "code",
      "metadata": {
        "id": "JR8jXXppF5YQ"
      },
      "source": [
        "\"Peter\" in names\n"
      ],
      "execution_count": null,
      "outputs": []
    },
    {
      "cell_type": "code",
      "metadata": {
        "id": "wkOEVvtgF7kQ"
      },
      "source": [
        "# Index\n",
        "name = \"Chris\"\n",
        "print(\"Location of\", name, \"in the list:\", names.index(name))"
      ],
      "execution_count": null,
      "outputs": []
    },
    {
      "cell_type": "code",
      "metadata": {
        "id": "5sWPBoIPF9FL"
      },
      "source": [
        "# Count\n",
        "print(names)\n",
        "print(\"# of John  in the list\", names.count(\"John\"))\n",
        "print(\"# of Jane in the list\", names.count(\"Jane\"))\n",
        "print(\"# of Peter  in the list\", names.count(\"Peter\"))"
      ],
      "execution_count": null,
      "outputs": []
    },
    {
      "cell_type": "markdown",
      "metadata": {
        "id": "yv4TP2mcGAhF"
      },
      "source": [
        "**Exercise**\n",
        "\n",
        "* Find the name \"Josh\" in the list. In what position does the name appear?\n",
        "* Try to find a name that does not exist in the list. What do you get?\n",
        "\n",
        "Now let's practice the if-else command:\n",
        "\n",
        "* Define a variable search with the name that you want to search for.\n",
        "* Check if the name appears in the list\n",
        "** If yes, then return the index number for its first apperance, and the number of times that you see the name in the list\n",
        "** If not, print that the name does not appear in the list"
      ]
    },
    {
      "cell_type": "code",
      "metadata": {
        "id": "Gg0QSduiGSXx"
      },
      "source": [
        "names = [\"Jane\", \"John\", \"Chris\", \"Josh\", \"Mary\", \"Anna\", \"John\"]\n"
      ],
      "execution_count": null,
      "outputs": []
    },
    {
      "cell_type": "code",
      "metadata": {
        "id": "hckLre5eGZe6",
        "colab": {
          "base_uri": "https://localhost:8080/"
        },
        "outputId": "984b4d34-5373-4dca-81a8-b9eff4700925"
      },
      "source": [
        "# here is my solution\n",
        "name = \"Josh\"\n",
        "print(\"Location of\", name, \"in the list:\", names.index(name))"
      ],
      "execution_count": null,
      "outputs": [
        {
          "output_type": "stream",
          "name": "stdout",
          "text": [
            "Location of Josh in the list: 3\n"
          ]
        }
      ]
    },
    {
      "cell_type": "code",
      "metadata": {
        "id": "tmm1IKDzho4_"
      },
      "source": [
        "# here is my solution\n",
        "name = \"Elon\"\n",
        "try: \n",
        "    print(\"Location of\", name, \"in the list:\", names.index(name))\n",
        "except:\n",
        "    print(\"Could not find the name \", name, \" in the list.\")"
      ],
      "execution_count": null,
      "outputs": []
    },
    {
      "cell_type": "markdown",
      "metadata": {
        "id": "B-dAPh--GzOQ"
      },
      "source": [
        "Besides lists, Python has two additional data structures that can store multiple objects. These data structures are *dictionaries* and *tuples*. "
      ]
    },
    {
      "cell_type": "markdown",
      "metadata": {
        "id": "ykfCXfYj2NBc"
      },
      "source": [
        "\n",
        "\n",
        "---\n",
        "\n"
      ]
    },
    {
      "cell_type": "markdown",
      "metadata": {
        "id": "0uC1uK7w2GgV"
      },
      "source": [
        "# **Tuples**"
      ]
    },
    {
      "cell_type": "markdown",
      "metadata": {
        "id": "b-IJTYycGg9g"
      },
      "source": [
        "Tuples are defined in Python by enclosing elements in parenthesis ( ). \n",
        "\n",
        "A tuple is similar to a list and consists of a number of values separated by commas. For instance:"
      ]
    },
    {
      "cell_type": "code",
      "metadata": {
        "id": "sZbkZwTIGjcl"
      },
      "source": [
        "t = (12345, 54321, 54321, \"hello!\")\n",
        "print(t)"
      ],
      "execution_count": null,
      "outputs": []
    },
    {
      "cell_type": "markdown",
      "metadata": {
        "id": "h9gO0UQDGlTa"
      },
      "source": [
        "The usual slicing and indexing operators still apply:\n",
        "\n"
      ]
    },
    {
      "cell_type": "code",
      "metadata": {
        "id": "cL-5Ui6xGktG"
      },
      "source": [
        "print(t[3])\n"
      ],
      "execution_count": null,
      "outputs": []
    },
    {
      "cell_type": "markdown",
      "metadata": {
        "id": "xk9kt-v0GoZp"
      },
      "source": [
        "And similarly, we can use the count and index functions.\n",
        "\n"
      ]
    },
    {
      "cell_type": "code",
      "metadata": {
        "id": "k4cLz63KGp3h"
      },
      "source": [
        "t.index(\"hello!\")\n"
      ],
      "execution_count": null,
      "outputs": []
    },
    {
      "cell_type": "code",
      "metadata": {
        "id": "KKJnVdNWoDTd"
      },
      "source": [
        "list_v = [0, 1, 2, 3, 4]\n",
        "list_v[0] =100\n",
        "print(list_v)"
      ],
      "execution_count": null,
      "outputs": []
    },
    {
      "cell_type": "code",
      "metadata": {
        "id": "Nh-vTsqxoRz_"
      },
      "source": [
        "str_v = \"01234\"\n",
        "str_v[0] = \"9\"\n",
        "print(str_v)"
      ],
      "execution_count": null,
      "outputs": []
    },
    {
      "cell_type": "markdown",
      "metadata": {
        "id": "BFODaFEOGrzH"
      },
      "source": [
        "However, a tuple but is *immutable*. This means that we cannot modify its contents. So the other operators that modify a list do not apply to a tuple.\n",
        "\n",
        "Elements of a list can be modified, but elements in a tuple can only be accessed, not modified. The name tuple does not mean that only two values can be stored in this data structure."
      ]
    },
    {
      "cell_type": "code",
      "metadata": {
        "id": "oUNksdUyI1zv"
      },
      "source": [
        "l_var = [3,4,5]  # a list\n",
        "print (\"Initial list:\", l_var)\n",
        "l_var[0]= 8\n",
        "print(\"New list:\", l_var)"
      ],
      "execution_count": null,
      "outputs": []
    },
    {
      "cell_type": "code",
      "metadata": {
        "id": "F2IDbopXJA-4"
      },
      "source": [
        "t_var = (3,4,5)  # a tuple\n",
        "print (\"Initial tuple:\", t_var)\n",
        "\n",
        "t_var[0]= 8\n",
        "print (\"New tuple:\", t_var)\n",
        "\n",
        "\n"
      ],
      "execution_count": null,
      "outputs": []
    },
    {
      "cell_type": "code",
      "metadata": {
        "id": "7zHr5Z_Go2On"
      },
      "source": [
        "new_t = (\"John\", 44)\n",
        "print(new_t)"
      ],
      "execution_count": null,
      "outputs": []
    },
    {
      "cell_type": "markdown",
      "metadata": {
        "id": "M66Fb6e8m7J3"
      },
      "source": [
        "*ProTip: Single Value Tuple*"
      ]
    },
    {
      "cell_type": "markdown",
      "metadata": {
        "id": "kb87t1v3JQMR"
      },
      "source": [
        "To create a tuple that just contains one numerical value, the number must be followed by a comma. Without a comma, the variable is defined as a number."
      ]
    },
    {
      "cell_type": "code",
      "metadata": {
        "id": "anLL1SwSJQ2X"
      },
      "source": [
        "num = (5)\n",
        "type(num)"
      ],
      "execution_count": null,
      "outputs": []
    },
    {
      "cell_type": "markdown",
      "metadata": {
        "id": "POLaJ30bJUnv"
      },
      "source": [
        "When a comma is included after the number, the variable is defined as a tuple.\n",
        "\n"
      ]
    },
    {
      "cell_type": "code",
      "metadata": {
        "id": "P5g18hN9JTaI"
      },
      "source": [
        "t_num = (5,)\n",
        "type(t_num)"
      ],
      "execution_count": null,
      "outputs": []
    },
    {
      "cell_type": "markdown",
      "metadata": {
        "id": "_Bqou8kMMlJF"
      },
      "source": [
        "**Exercise**"
      ]
    },
    {
      "cell_type": "code",
      "metadata": {
        "id": "bjyUHd84Mnhm"
      },
      "source": [
        "# Given multiline strings: names_gov with the names of governers \n",
        "# of the US States: Alabama through Hawaii;\n",
        "# and names_state, create a list that consists out of\n",
        "# the tuples with two elements: state's name and state's governor's name\n",
        "#\n",
        "# Assume that the order of the governers corresponds to the order\n",
        "# of the states and the number of governers is the same as the number of states.\n",
        "#\n",
        "names_gov = \"\"\"Kay Ivey\n",
        "Mike Dunleavy\n",
        "Doug Ducey\n",
        "Asa Hutchinson\n",
        "Gavin Newsom\n",
        "Jared Polis\n",
        "Ned Lamont\n",
        "John Carney\n",
        "Ron DeSantis\n",
        "Brian Kemp\n",
        "David Ige\"\"\"\n",
        "\n",
        "names_state = \"\"\"Alabama \n",
        "Alaska\n",
        "Arizona\n",
        "Arkansas \n",
        "California\n",
        "Colorado\n",
        "Connecticut\n",
        "Delaware\n",
        "Florida\n",
        "Georgia\n",
        "Hawaii\"\"\""
      ],
      "execution_count": null,
      "outputs": []
    },
    {
      "cell_type": "code",
      "metadata": {
        "id": "_MQ4ackJP-lX"
      },
      "source": [
        "# Let us confirm that the lists have the\n",
        "# same number of elements\n",
        "\n",
        "list_govs = names_gov.split(\"\\n\")\n",
        "list_states = names_state.split(\"\\n\")\n",
        "print (len(list_govs),len(list_states))\n",
        "print (list_states)"
      ],
      "execution_count": null,
      "outputs": []
    },
    {
      "cell_type": "code",
      "metadata": {
        "id": "y_Xuq6l1GcQY"
      },
      "source": [
        "for i in list_states:\n",
        "  print(i)"
      ],
      "execution_count": null,
      "outputs": []
    },
    {
      "cell_type": "markdown",
      "metadata": {
        "id": "KrRBL18OLeH4"
      },
      "source": [
        "*Note: we have not used the range() function extensively in class.  Please see the section of this notebook on Loops for more about the range() function.  Remember that the range() function gives us an easy way  to generate a sequence of integers of a desired length and, with additional arguments, it may start and step to our specification.*"
      ]
    },
    {
      "cell_type": "code",
      "metadata": {
        "id": "sO15VOIGGlLh"
      },
      "source": [
        "for i in range(len(list_states)):\n",
        "  print(list_states[i])"
      ],
      "execution_count": null,
      "outputs": []
    },
    {
      "cell_type": "code",
      "metadata": {
        "id": "XolLS6t1Qk-l"
      },
      "source": [
        "# What governer - state pairs do we have? \n",
        "\n",
        "for i in range(len(list_states)):\n",
        "  print (list_govs[i], \"--\", list_states[i])"
      ],
      "execution_count": null,
      "outputs": []
    },
    {
      "cell_type": "code",
      "metadata": {
        "id": "MlwXE2UtW8HS"
      },
      "source": [
        "# Create a list of tuples\n",
        "\n",
        "governer_name_list = []\n",
        "\n",
        "# Populate the list of tuples\n",
        "\n",
        "for i in range(len(list_states)):\n",
        "  governer_name_list.append (   (list_govs[i],list_states[i])    )\n",
        "\n",
        "# Output the list of tuples elements\n",
        "# What is the difference between the two for loops \n",
        "# in this cell? \n",
        "\n",
        "for i in governer_name_list:\n",
        "  print (\"Election Year\", \":\", i)\n",
        "\n"
      ],
      "execution_count": null,
      "outputs": []
    },
    {
      "cell_type": "code",
      "metadata": {
        "id": "vgfuu8Z0Iqli"
      },
      "source": [
        "governer_name_list"
      ],
      "execution_count": null,
      "outputs": []
    },
    {
      "cell_type": "code",
      "metadata": {
        "id": "5pf1-oFrWlWC"
      },
      "source": [
        "# Let us define the variables once again\n",
        "# and try to re-run the above code\n",
        "\n",
        "names_gov = \"\"\"Kay Ivey\n",
        "Mike Dunleavy\n",
        "Doug Ducey\n",
        "Asa Hutchinson\n",
        "Gavin Newsom\n",
        "Jared Polis\n",
        "Ned Lamont\n",
        "John Carney\n",
        "Ron DeSantis\n",
        "Brian Kemp\n",
        "David Ige\"\"\"\n",
        "\n",
        "names_state = \"\"\"Alabama \n",
        "Alaska\n",
        "Arizona\n",
        "Arkansas \n",
        "California\n",
        "Colorado\n",
        "Connecticut\n",
        "Delaware\n",
        "Florida\n",
        "Georgia\n",
        "Hawaii\n",
        "\"\"\""
      ],
      "execution_count": null,
      "outputs": []
    },
    {
      "cell_type": "code",
      "metadata": {
        "id": "Ftd7P4DTJAc5"
      },
      "source": [
        "# Let us confirm that the lists have the\n",
        "# same number of elements\n",
        "\n",
        "list_govs = names_gov.split(\"\\n\")\n",
        "list_states = names_state.split(\"\\n\")\n",
        "print (len(list_govs),len(list_states))\n"
      ],
      "execution_count": null,
      "outputs": []
    },
    {
      "cell_type": "code",
      "metadata": {
        "id": "IWB-y1PWJKEa"
      },
      "source": [
        "# What governer - state pairs do we have? \n",
        "\n",
        "for i in range(len(list_states)):\n",
        "  print (list_govs[i], \"--\", list_states[i])"
      ],
      "execution_count": null,
      "outputs": []
    },
    {
      "cell_type": "code",
      "metadata": {
        "id": "FNy-CWoaKWA0"
      },
      "source": [
        "for j in range(5):\n",
        "  print (j)"
      ],
      "execution_count": null,
      "outputs": []
    },
    {
      "cell_type": "markdown",
      "metadata": {
        "id": "DVsrQS3yunlE"
      },
      "source": [
        "\n",
        "\n",
        "---\n",
        "\n"
      ]
    },
    {
      "cell_type": "markdown",
      "metadata": {
        "id": "ZnPI4We-2jMW"
      },
      "source": [
        "# **Files**"
      ]
    },
    {
      "cell_type": "markdown",
      "metadata": {
        "id": "FtUMbgqt1NgM"
      },
      "source": [
        "**Reading and Writing Files**\n",
        "\n",
        "Computers have two kinds of memory, *volatile* memory that is maintained as long as there is electricity, and *non-volatile* memory which is maintained when the power is off. Variables are a form of volatile memory, they only last as long as the program is running while to computer is on. Files are a form of non-volatile memory, they are kept when the computer is off. \n",
        "\n",
        "Files can be small or very, very large, much larger than the amount of RAM memory in a computer. Becuase files can be so large they are accessed differently than memory. Like a book, files are read (and written) one line at a time. When you want to access a file you create a special kind of variable called a *file handle*.  "
      ]
    },
    {
      "cell_type": "markdown",
      "metadata": {
        "id": "-_goOu7N1NgO"
      },
      "source": [
        "**File Handles**\n",
        "\n",
        "A *file handle* is a variable that gives us access to a file. A file handle is created with the `open()` function. The `open()` function takes at least one argument, the name of the file to open. The file handle is returned so you have to assign it to a variable.     \n",
        "\n",
        "For example: \n",
        "\n",
        "```python\n",
        "file_handle = open('content/example.txt')\n",
        "```\n",
        "To prepare running the code you may want to upload the following `example.txt` file to your `/content` folder:    \n",
        "https://drive.google.com/file/d/1yM-JlJDSCpF6FY_M2yqWIl1pS35D3Dp3/view?usp=sharing  \n",
        "\n",
        "Enter the code in the next cell. What *type* is `file_handle`?"
      ]
    },
    {
      "cell_type": "code",
      "metadata": {
        "id": "dEIp0f3K1NgP"
      },
      "source": [],
      "execution_count": null,
      "outputs": []
    },
    {
      "cell_type": "markdown",
      "metadata": {
        "id": "3sseeQeF1NgQ"
      },
      "source": [
        "The variable `file_handle` can be used just like any other Python variable but it has a type you haven't seen before:\n",
        "\n",
        "```python\n",
        "print('The type of file_handle is:', type(file_handle))\n",
        "```"
      ]
    },
    {
      "cell_type": "code",
      "metadata": {
        "id": "HPpHmYX61NgQ"
      },
      "source": [],
      "execution_count": null,
      "outputs": []
    },
    {
      "cell_type": "markdown",
      "metadata": {
        "id": "YlvHIpZl1NgQ"
      },
      "source": [
        "The file handle gives your program a way to access the contents of the file, it does not contain the file's data. A variable that contains a file handle has functions that are needed to read and write the file. In the next sections you'll see how to use functions of a file handle to access files."
      ]
    },
    {
      "cell_type": "markdown",
      "metadata": {
        "id": "GtQ31E7R1NgR"
      },
      "source": [
        "## Reading Files \n",
        "\n",
        "There are two ways to read a file in Python, one line at a time and the whole file at once. Try this, run the cell below to open the file `example.txt`: "
      ]
    },
    {
      "cell_type": "code",
      "metadata": {
        "deletable": false,
        "editable": false,
        "id": "u_Ibsj8g1NgR"
      },
      "source": [
        "file_handle = open('content/example.txt')"
      ],
      "execution_count": null,
      "outputs": []
    },
    {
      "cell_type": "markdown",
      "metadata": {
        "id": "-X1zlqnJ1NgS"
      },
      "source": [
        "Now execute the code in this cell over and over: "
      ]
    },
    {
      "cell_type": "code",
      "metadata": {
        "deletable": false,
        "editable": false,
        "id": "pfCeUkb61NgS"
      },
      "source": [
        "file_handle.readline()"
      ],
      "execution_count": null,
      "outputs": []
    },
    {
      "cell_type": "markdown",
      "metadata": {
        "id": "yq-8X-fM1NgT"
      },
      "source": [
        "What do you notice? The file is read one line at a time, each time you execute `readline()` the next line is returned. When the file reaches the end empty lines are returned. Try doing it again but re-running the `open()` function. Now see what happens when you use the `read()` function: "
      ]
    },
    {
      "cell_type": "code",
      "metadata": {
        "deletable": false,
        "editable": false,
        "id": "hhQgg7wC1NgT"
      },
      "source": [
        "file_handle.read()"
      ],
      "execution_count": null,
      "outputs": []
    },
    {
      "cell_type": "markdown",
      "metadata": {
        "id": "7oIrtgSU1NgU"
      },
      "source": [
        "What happens when you mix `read()` and `readline()`? "
      ]
    },
    {
      "cell_type": "markdown",
      "metadata": {
        "id": "to49cbM31NgU"
      },
      "source": [
        "**Do you understand how calling `readline` changes the place in the file?** \n",
        "\n",
        "In a practical program you want to *do something* with the data you get in the file. The exmple below opens the file and reads the first four lines into four different variables. \n",
        "\n",
        "```python\n",
        "file_handle = open('files/example.txt')\n",
        "line1 = file_handle.readline()\n",
        "line2 = file_handle.readline()\n",
        "line3 = file_handle.readline()\n",
        "line4 = file_handle.readline()\n",
        "print(\"Lines:\", line1, line2, line3, line4)\n",
        "```\n",
        "\n",
        "Enter the program into the next cell and run it:"
      ]
    },
    {
      "cell_type": "code",
      "metadata": {
        "id": "2X2HodEv1NgV"
      },
      "source": [],
      "execution_count": null,
      "outputs": []
    },
    {
      "cell_type": "markdown",
      "metadata": {
        "id": "U3o_s6wd1NgV"
      },
      "source": [
        "**Confused? Use the debugger!**"
      ]
    },
    {
      "cell_type": "markdown",
      "source": [
        "Instead of reopening a file when you want to start reading from the beginning you can simply set the file pointer to the first character in the file, that is the character at index position 0, by invoking the `.seek()` method on the file handle and passing it the value 0 as an argument.     \n",
        "\n",
        "Try it:\n",
        "\n",
        "```\n",
        "file_handle.seek(0)\n",
        "line1 = file_handle.readline()\n",
        "line2 = file_handle.readline()\n",
        "line3 = file_handle.readline()\n",
        "line4 = file_handle.readline()\n",
        "print(\"Lines:\", line1, line2, line3, line4)\n",
        "```    \n",
        "\n"
      ],
      "metadata": {
        "id": "i-S8_Ck63yEo"
      }
    },
    {
      "cell_type": "code",
      "source": [],
      "metadata": {
        "id": "pD-Lbm-v4XI-"
      },
      "execution_count": null,
      "outputs": []
    },
    {
      "cell_type": "markdown",
      "metadata": {
        "id": "fhA_K6Hl1NgV"
      },
      "source": [
        "## Writing Files \n",
        "\n",
        "When you open a file you have to decide whether to read or write the file (you *can* do both, more on that later). If you only give one argument to `open()` the file is opened for reading. If you want to *write* to a file here's how you start: \n",
        "\n",
        "```python\n",
        "file_handle = open('output.txt', 'w')\n",
        "```\n",
        "\n",
        "<div class=\"alert alert-danger\">\n",
        "    <strong>Watch Out!</strong>\n",
        "    Opening a file for writing <b>erases the contents of the file</b>.\n",
        "</div>\n",
        "\n",
        "Type the open command into the next cell:"
      ]
    },
    {
      "cell_type": "code",
      "metadata": {
        "id": "T-osJ8541NgV"
      },
      "source": [
        "file_handle = open('output.txt', 'w')"
      ],
      "execution_count": null,
      "outputs": []
    },
    {
      "cell_type": "markdown",
      "metadata": {
        "id": "xdEKdh111NgV"
      },
      "source": [
        "When the second argument to `open()` is `'w'` the file is open for writing. To write a file use the `write` function. Execute the code to write to the file. Once the file is open you can write to it using the `write` function. For example: \n",
        "\n",
        "```python\n",
        "file_handle.write('Hello file world!\\n')\n",
        "```\n",
        "\n",
        "Add the write command to the next cell and run it:"
      ]
    },
    {
      "cell_type": "code",
      "metadata": {
        "id": "uUd4uxYL1NgV"
      },
      "source": [
        "file_handle.write('Hello file world!\\n')"
      ],
      "execution_count": null,
      "outputs": []
    },
    {
      "cell_type": "code",
      "metadata": {
        "id": "j0ZQ7Ob-tFbt"
      },
      "source": [
        "file_handle.close()"
      ],
      "execution_count": null,
      "outputs": []
    },
    {
      "cell_type": "markdown",
      "metadata": {
        "id": "iswSOJQy1NgW"
      },
      "source": [
        "**Now find the file. Does it contain what you expect?**\n",
        "\n",
        "Notice that the newline character is in the string. Unlike `print()` the `write()` function does not add a newline to the end of the line. The write function also does not take multiple arguments like the `print()` function. If you want to mix variables and words in the write function use a `f-string`. Update the code cell with this code and execute it: \n",
        "\n",
        "```python\n",
        "name = 'Your Name Here'\n",
        "file_handle.write(f'Hello, my name is {name}\\n')\n",
        "```"
      ]
    },
    {
      "cell_type": "markdown",
      "metadata": {
        "id": "V6EEX49J1NgW"
      },
      "source": [
        "Notice that `write` returns a number? The number is the total number of bytes written to the file. That number can be useful because (as in the example above) when you write variables to a file you might not know in advance how much data is in the variable. Here's a complete program that writes a file: \n",
        "\n",
        "```python \n",
        "name = \"Your name here\"\n",
        "file_handle = open('greeting.txt', 'w') \n",
        "wrote = file_handle.write(f\"Hello, my name is {name}\\n\")\n",
        "print(f\"I wrote {wrote} bytes to the file\")\n",
        "file_handle.close()\n",
        "```\n",
        "\n",
        "Enter the complete program into the next cell:"
      ]
    },
    {
      "cell_type": "code",
      "metadata": {
        "id": "hZyEbDlg1NgW"
      },
      "source": [],
      "execution_count": null,
      "outputs": []
    },
    {
      "cell_type": "markdown",
      "metadata": {
        "id": "XlfuWerv1NgW"
      },
      "source": [
        "**Run the program and look inside of greeting.txt** "
      ]
    },
    {
      "cell_type": "markdown",
      "metadata": {
        "id": "wvEFHyCz1NgW"
      },
      "source": [
        "## Closing the File Handle \n",
        "\n",
        "If you open the file that we've just written you will notice the contents aren't there yet. When you write to a file the information you write is temporary held in memory to improve the performance of your program. When your program is done reading or writing a file you have to close the file handle using the close function:\n",
        "\n",
        "```python\n",
        "file_handle.close()\n",
        "```\n",
        "\n",
        "It's essential that you always remember to close the files you've opened. A program can only hold a fixed number of files open, if your code \"leaks\" file handles by forgetting about them it's possible that you will exhaust that number and the `open()` function will fail. "
      ]
    },
    {
      "cell_type": "markdown",
      "metadata": {
        "id": "rB_1Hrtx1NgW"
      },
      "source": [
        "## Seeking in a File \n",
        "\n",
        "When you read or write a file it's like reading and writing a book, as you read (or write) you advance the place in the file. The `seek()` function is like turning back or forward to a particular page. The argument to the `seek()` function takes you to a particular byte number in the file. Try the following:\n",
        "\n",
        "```python\n",
        "file_handle = open('files/example.txt')\n",
        "print(\"The first line is:\", file_handle.readline())\n",
        "file_handle.seek(0)\n",
        "print(\"(again) The first line is:\", file_handle.readline())\n",
        "file_handle.close()\n",
        "```"
      ]
    },
    {
      "cell_type": "code",
      "metadata": {
        "id": "nJp9qWlO1NgW"
      },
      "source": [],
      "execution_count": null,
      "outputs": []
    },
    {
      "cell_type": "markdown",
      "metadata": {
        "id": "9xIbDlNv1NgX"
      },
      "source": [
        "**Notice that the first line is repeated. Do you understand why?**\n",
        "\n",
        "**What happens when you change the `0` in `seek` to a different number?**\n",
        "\n",
        "### Seeking and Lines \n",
        "\n",
        "The `seek` function seeks to a *byte number*, not a line. Seeking lines is not as easy as it seems because a \"line\" can be any number of bytes and the only way to know where lines are is to read the file. Try updating the code in the prvious cell to seek to the second line. It takes some trial and error. If you want to read a particular line from a file it takes some syntax we haven't covered yet. In case you're interested here's an example:\n",
        "\n",
        "```python\n",
        "file_name = \"content/example.txt\"\n",
        "line_number = 3 \n",
        "with open(file_name) as fh:\n",
        "    for _ in range(line_number):\n",
        "        line = fh.readline()\n",
        "\n",
        "print(\"The line is:\", line)\n",
        "```\n",
        "\n",
        "**Notice I didn't use `close`? Keep reading to find out why.**"
      ]
    },
    {
      "cell_type": "code",
      "metadata": {
        "id": "CnJ0xuOO1NgX"
      },
      "source": [],
      "execution_count": null,
      "outputs": []
    },
    {
      "cell_type": "markdown",
      "metadata": {
        "id": "9EEwwh941NgX"
      },
      "source": [
        "## Appending a File \n",
        "\n",
        "Appending a file means writing to the end of the file. Recall that opening a file for writing erases the contents of the file if it already exists. That's not always a good idea. The `open` function has a mode that lets you append to the file without erasing its contents. Here's how to do that using `open()`:\n",
        "\n",
        "```python\n",
        "file_handle = open('output.txt', 'a')\n",
        "file_handle.write('Put this at the end\\n')\n",
        "file_handle.close()\n",
        "```\n",
        "\n",
        "Enter the program in to the next cell:"
      ]
    },
    {
      "cell_type": "code",
      "metadata": {
        "id": "10UhuW551NgX"
      },
      "source": [],
      "execution_count": null,
      "outputs": []
    },
    {
      "cell_type": "markdown",
      "metadata": {
        "id": "qxiDxK4_1NgX"
      },
      "source": [
        "Now take a look at `output.txt`. There's a new line at the end of the file and the original contents are still in place. "
      ]
    },
    {
      "cell_type": "markdown",
      "metadata": {
        "id": "oYjGrJjZCcLq"
      },
      "source": [
        "*ProTip: Context Managers*"
      ]
    },
    {
      "cell_type": "markdown",
      "metadata": {
        "id": "GWD1fIVz1NgX"
      },
      "source": [
        "## Python 3's Context Managers \n",
        "\n",
        "Python 3 has a feature called a *context manager*. We will learn more about context managers in a future lecture, but you can use them to help  remember to close a file. If you use `open()` as a context manager the code that is indented inside of `open` has access to the file. Once execution leaves the indented code the file handle is **automatically** closed. \n",
        "\n",
        "Here's code that reads the first line of a file:\n",
        "\n",
        "```python\n",
        "with open('example.txt') as file_handle: \n",
        "    first_line = file_handle.readline()\n",
        "\n",
        "# The file is automatically closed!\n",
        "print(first_line)\n",
        "```"
      ]
    },
    {
      "cell_type": "code",
      "metadata": {
        "id": "aRS8Tm9k1NgX"
      },
      "source": [],
      "execution_count": null,
      "outputs": []
    },
    {
      "cell_type": "markdown",
      "metadata": {
        "id": "f0phjdxD1NgX"
      },
      "source": [
        "Here's code that reads the entire contents of a file without a context manager:\n",
        "\n",
        "```python\n",
        "file_handle = open('example.txt')\n",
        "file_contents = file_handle.read()\n",
        "file_handle.close() # Never forget!\n",
        "print(file_contents)\n",
        "```\n",
        "\n",
        "Here's the same code using the context manager:\n",
        "\n",
        "```python\n",
        "with open('example.txt') as file_handle:\n",
        "    file_contents = file_handle.read()\n",
        "print(file_contents)\n",
        "```\n",
        "\n",
        "Try typing the context manager version into the next cell."
      ]
    },
    {
      "cell_type": "code",
      "metadata": {
        "id": "jEwS9blR1NgY"
      },
      "source": [],
      "execution_count": null,
      "outputs": []
    },
    {
      "cell_type": "markdown",
      "metadata": {
        "id": "0qaHv8mg1NgY"
      },
      "source": [
        "**Notice the indentation?** The indentation tells Python that the indented statements are *inside* the `open` block. This is an important concept that we will spend a lot more time on later in the course. For now, try running the code with and without the indentation. Does it work both ways?"
      ]
    },
    {
      "cell_type": "markdown",
      "metadata": {
        "id": "jV7D9-w01NgY"
      },
      "source": [
        "## The Extra Newline (using `strip`)\n",
        "\n",
        "Notice that when you use `readline` there's an extra newline (`\\n`) character? Re-run this example from earlier in the notebook:\n",
        "\n",
        "```python\n",
        "file_handle = open('files/example.txt')\n",
        "line1 = file_handle.readline()\n",
        "line2 = file_handle.readline()\n",
        "line3 = file_handle.readline()\n",
        "line4 = file_handle.readline()\n",
        "print(\"Lines:\", line1, line2, line3, line4)\n",
        "```\n",
        "\n",
        "Notice that the output doesn't line up? It can sometimes be annoying to have the extra newline when you read input from a file. The `strip` function in Python removes excess space from the beginning and ending of a string. A newline is considered whitespace. The `strip` function operates on a string. Update the code example to this:\n",
        "\n",
        "```python\n",
        "file_handle = open('files/example.txt')\n",
        "line1 = file_handle.readline().strip()\n",
        "line2 = file_handle.readline().strip()\n",
        "line3 = file_handle.readline().strip()\n",
        "line4 = file_handle.readline().strip()\n",
        "print(\"Lines:\", line1, line2, line3, line4)\n",
        "```"
      ]
    },
    {
      "cell_type": "code",
      "metadata": {
        "id": "Zs2i5wcq1NgY"
      },
      "source": [],
      "execution_count": null,
      "outputs": []
    },
    {
      "cell_type": "markdown",
      "metadata": {
        "id": "h4n-fzqk1NgY"
      },
      "source": [
        "The `strip` function works on a string and returns a new string. If you want to strip an existing string and store the stripped version back into the same variable do it like this:\n",
        "\n",
        "```python\n",
        "foo = \"    This is foo     \" \n",
        "print(f'foo is \"{foo}\"')\n",
        "foo = foo.strip()\n",
        "print(f'foo is \"{foo}\"')\n",
        "```\n",
        "\n",
        "Try entering the example into the next cell:"
      ]
    },
    {
      "cell_type": "code",
      "metadata": {
        "id": "L8NAIYI81NgY"
      },
      "source": [],
      "execution_count": null,
      "outputs": []
    },
    {
      "cell_type": "markdown",
      "metadata": {
        "id": "9kJw0lRl1NgY"
      },
      "source": [
        "You can also stip at the same time you print a string. For example:\n",
        "\n",
        "```python\n",
        "foo = \"    This is foo     \" \n",
        "print(f'foo is \"{foo.strip()}\"')\n",
        "```"
      ]
    },
    {
      "cell_type": "code",
      "metadata": {
        "id": "ymOzH5-B1NgY"
      },
      "source": [],
      "execution_count": null,
      "outputs": []
    },
    {
      "cell_type": "markdown",
      "metadata": {
        "id": "p5BlLpiK1NgZ"
      },
      "source": [
        "Remember the `strip` function. You'll need it when you want to make your program's output perfect."
      ]
    },
    {
      "cell_type": "markdown",
      "metadata": {
        "id": "q3Z0S7aN2mfM"
      },
      "source": [
        "\n",
        "\n",
        "---\n",
        "\n"
      ]
    },
    {
      "cell_type": "markdown",
      "metadata": {
        "id": "yS7XFJn42xgQ"
      },
      "source": [
        "# **Functions**"
      ]
    },
    {
      "cell_type": "markdown",
      "metadata": {
        "id": "oKMF_xbW4AAu"
      },
      "source": [
        "A *function* groups together instructions and gives them a name. They are the most important way to reuse code. Python functions are named after functions in math and, just like their mathematical counterparts, have inputs and outputs. Functions begin with the `def` keyword. Here's an example of a function called `triangle`.\n",
        "\n",
        "```python \n",
        "def triangle():\n",
        "    \"\"\"Draw a triangle\"\"\"\n",
        "    from p4e.drawing import Turtle\n",
        "    tu = Turtle()\n",
        "    display(tu)\n",
        "    tu.draw(70)\n",
        "    tu.turn(120)\n",
        "    tu.draw(70)\n",
        "    tu.turn(120)\n",
        "    tu.draw(70)\n",
        "    tu.turn(120)\n",
        "```\n",
        "\n",
        "The `triangle` function is just a collection of statements that you're already familiar with. The statements are indented inside the `def` statement to signify that they belong with the definition of `triangle`. There's a string at the top called a *docstring*. The docstring describes what the function does. \n",
        "\n",
        "Try typing the `triangle` function into the next cell:"
      ]
    },
    {
      "cell_type": "code",
      "metadata": {
        "id": "AmI-kvDX4AAx"
      },
      "source": [],
      "execution_count": null,
      "outputs": []
    },
    {
      "cell_type": "markdown",
      "metadata": {
        "id": "SWLUCYeK4AAy"
      },
      "source": [
        "Run the code in the cell. What happened? \n",
        "\n",
        "The code above *defines* the function. Defining a function makes the name of the function available but does not execute the instructions *inside* the function. They are executed when the function is *called* or invoked. This code calls `triangle`:\n",
        "\n",
        "```python\n",
        "triangle()\n",
        "```\n",
        "\n",
        "Call `triangle` in the next cell:"
      ]
    },
    {
      "cell_type": "code",
      "metadata": {
        "id": "SfjQRDNh4AAy"
      },
      "source": [],
      "execution_count": null,
      "outputs": []
    },
    {
      "cell_type": "markdown",
      "metadata": {
        "id": "Yt7pDXbE4AAy"
      },
      "source": [
        "A fucntion definition is a *compound statement*."
      ]
    },
    {
      "cell_type": "markdown",
      "metadata": {
        "id": "PIIb7Uyv4AAz"
      },
      "source": [
        "## Compound Statements and Whitespace \n",
        "\n",
        " A compound statement is a is a statement that contains other code. The code inside of a compound statement begins after a colon and is indented to the right of the beginning of the statement. \n",
        "\n",
        "\n",
        "Here is an example of a compound statement:"
      ]
    },
    {
      "cell_type": "code",
      "metadata": {
        "deleteable": false,
        "editable": false,
        "id": "7f0cRyi04AAz"
      },
      "source": [
        "def my_function():\n",
        "    \"\"\"Say Hello!\"\"\"\n",
        "    a = 'Hello'\n",
        "    b = 'World'\n",
        "    print ('{}, {}!'.format(a,b))\n",
        "    \n",
        "print('This is my program.')\n",
        "my_function()"
      ],
      "execution_count": null,
      "outputs": []
    },
    {
      "cell_type": "markdown",
      "metadata": {
        "id": "8HnQVVky4AA0"
      },
      "source": [
        "**Did the print statements come out in the oder you expected?** Set a breakpoint on line 1 and step through the program. If you're new to programming it might take you a while to wrap your mind around how execution jumps around now that you use functions. Practice using the debugger!"
      ]
    },
    {
      "cell_type": "markdown",
      "metadata": {
        "id": "Vrh3Fgic4AA1"
      },
      "source": [
        "### Python and Whitespace \n",
        "\n",
        "The use of whitespace is controversial in Python. The statements inside of a function must be ligned up to the right of the function and even with each other. You can use either tabs or spaces but you can't mix them. Use of whitespace in Python is designed to help you easily see the instructions that are inside and oustide of a function. \n",
        "\n",
        "```python\n",
        "def line_up():\n",
        "    print('This is inside')\n",
        "    print('Also inside')\n",
        "print('This is outside')\n",
        "print('Still outside')\n",
        "```\n",
        "\n",
        "Most other programming languages like, for example C, C++, Java and JavaScript, use braces to signify the beginning and end of a function. The rule in those languages is that \"whitespace doesn't matter.\" Here's an example of \"Hello World\" in C++: \n",
        "\n",
        "```c++\n",
        "int main() { \n",
        "    std::string my_name = \"Boaty McBoatface\";\n",
        "    std::cout << \"Hello \" << my_name << std::endl;\n",
        "}\n",
        "```\n",
        "\n",
        "That's the way you're *supposed* to write it. But, you could write it to look much worse:\n",
        "\n",
        "```c++\n",
        "int main(){std::string my_name=\"Boaty McBoatface\";std::cout<<\"Hello \"<<my_name<<std::endl;}\n",
        "```\n",
        "\n",
        "Witespace in Python enforces a readable style. Not everyone likes that. "
      ]
    },
    {
      "cell_type": "markdown",
      "metadata": {
        "id": "GFCyqC584AA1"
      },
      "source": [
        "## Function Arguments \n",
        "\n",
        "Funtions are like machines that take *inputs* and produce *outputs*. The input to the function is called an *argument* and the output is called a *return value*. Function arguments are named in the function definition between the parentheses, they are separated by commas. Here's an example of a function that takes one argument:\n",
        "\n",
        "```python \n",
        "def say_hello(name):\n",
        "    print(f\"Hello, {name}\")\n",
        "```\n",
        "\n",
        "Type the `say_hello` function into the next cell: "
      ]
    },
    {
      "cell_type": "code",
      "metadata": {
        "id": "OUSjPEdu4AA2"
      },
      "source": [],
      "execution_count": null,
      "outputs": []
    },
    {
      "cell_type": "markdown",
      "metadata": {
        "id": "Epk4gQFY4AA2"
      },
      "source": [
        "Now call your function in the next cell:"
      ]
    },
    {
      "cell_type": "code",
      "metadata": {
        "id": "YgAR8XFk4AA2"
      },
      "source": [],
      "execution_count": null,
      "outputs": []
    },
    {
      "cell_type": "markdown",
      "metadata": {
        "id": "194OhgIc4AA3"
      },
      "source": [
        "**Can you see how the argument becomes the `name` variable?** Now let's see a function that takes two arguments. Here's an example:\n",
        "\n",
        "```python \n",
        "def name_tag(first_name, last_name):\n",
        "    print(f\"Hello, my name is {first_name} {last_name}\")\n",
        "```\n",
        "\n",
        "Enter the `name_tag` function into the next cell:"
      ]
    },
    {
      "cell_type": "code",
      "metadata": {
        "id": "1PaQqISE4AA3"
      },
      "source": [],
      "execution_count": null,
      "outputs": []
    },
    {
      "cell_type": "markdown",
      "metadata": {
        "id": "X3DzZonW4AA3"
      },
      "source": [
        "Now call the `name_tag` function with two arguments:"
      ]
    },
    {
      "cell_type": "code",
      "metadata": {
        "id": "KBt0HiSN4AA3"
      },
      "source": [],
      "execution_count": null,
      "outputs": []
    },
    {
      "cell_type": "markdown",
      "metadata": {
        "id": "ivNMGTxW4AA3"
      },
      "source": [
        "Functions can have any number of arguments, zero or more. The names of arguments are used as variables inside of the function. Here's an example of why arguments are so useful. This is the `triangle` function from before with an argument that controls the size of the triangle:\n",
        "\n",
        "```python\n",
        "def triangle(size):\n",
        "    \"\"\"This triangle function takes an input: size\"\"\"\n",
        "    tu = Turtle()\n",
        "    display(tu)\n",
        "    tu.draw(size)\n",
        "    tu.turn(120)\n",
        "    tu.draw(size)\n",
        "    tu.turn(120)\n",
        "    tu.draw(size)\n",
        "```\n",
        "\n",
        "Try updating the `triangle` function to take the `size` argument:"
      ]
    },
    {
      "cell_type": "code",
      "metadata": {
        "id": "9zQ6I5VR4AA4"
      },
      "source": [],
      "execution_count": null,
      "outputs": []
    },
    {
      "cell_type": "markdown",
      "metadata": {
        "id": "JCm4LWRf4AA4"
      },
      "source": [
        "When you call a function that takes an argument you must specify a value for the argument. Call your function and change the size around:"
      ]
    },
    {
      "cell_type": "code",
      "metadata": {
        "id": "8ImQUfgO4AA4"
      },
      "source": [],
      "execution_count": null,
      "outputs": []
    },
    {
      "cell_type": "markdown",
      "metadata": {
        "id": "eB8Xa1sC4AA4"
      },
      "source": [
        "It's an error to call a function with the wrong number of arguments. Try it and see the error message that results. Functions can have any number of argumens. This function takes two arguments, `name` and `color`. The function uses HTML to print out the contents of `name` in the `color` of your coice: \n",
        "\n",
        "```python\n",
        "from IPython.core.display import HTML\n",
        "\n",
        "def html_nametag(name, color): \n",
        "    \"\"\"Print a nametag using HTML\"\"\"\n",
        "    display(HTML(f'''<h1 style=\"color: {color}\">Hello I'm {name}</h1>'''))\n",
        "```"
      ]
    },
    {
      "cell_type": "markdown",
      "metadata": {
        "id": "NMGzPhcr4AA4"
      },
      "source": [
        "When you call the function you must supply a value for both `name` and `color`:\n",
        "\n",
        "```python\n",
        "html_nametag(\"Mike\", \"red\")\n",
        "```\n",
        "\n",
        "Try entering the html_nametag function and calling it."
      ]
    },
    {
      "cell_type": "code",
      "metadata": {
        "id": "bhAmQBQ84AA4"
      },
      "source": [],
      "execution_count": null,
      "outputs": []
    },
    {
      "cell_type": "markdown",
      "metadata": {
        "id": "v9mKOGpF4AA4"
      },
      "source": [
        "## Return Values \n",
        "\n",
        "The *return value* is the output of a function. The return value is passed back to the place where the function is called. Inside of a function the `return` keyword causes a function to exit (or *return*) the flow of the program to where the function was called. Here's an example of a function that returns a value:\n",
        "\n",
        "```python\n",
        "def random_number():\n",
        "    \"\"\"I chose 4 completely at random.\"\"\"\n",
        "    return 4 \n",
        "```\n",
        "\n",
        "When you call the function you use an equal sign to *catch* and store the returned value in an assignment to a variable. In the code below the return value from `random_number` is stored in the variable `num`. \n",
        "\n",
        "```python\n",
        "num = random_number()\n",
        "print('num is:', num)\n",
        "```\n",
        "\n",
        "Enter the example code into the cell below and run it:"
      ]
    },
    {
      "cell_type": "code",
      "metadata": {
        "id": "fK5VNokZ4AA5"
      },
      "source": [],
      "execution_count": null,
      "outputs": []
    },
    {
      "cell_type": "markdown",
      "metadata": {
        "id": "yb90BUEb4AA5"
      },
      "source": [
        "**Can you see how the number 4 is returned to the place where the call is made?**"
      ]
    },
    {
      "cell_type": "markdown",
      "metadata": {
        "id": "mGmheUAO4AA5"
      },
      "source": [
        "The `return` statement stops the execution of a function, no code after the `return` statement is executed. Here's an example of a function with a problem. The last `print` statement in the `early_return` won't be executed:\n",
        "\n",
        "```python\n",
        "def early_return():\n",
        "    print(\"You see this.\")\n",
        "    return \n",
        "    print(\"Not this.\")\n",
        "    \n",
        "early_return()\n",
        "```"
      ]
    },
    {
      "cell_type": "code",
      "metadata": {
        "id": "_nYWRG9P4AA5"
      },
      "source": [],
      "execution_count": null,
      "outputs": []
    },
    {
      "cell_type": "markdown",
      "metadata": {
        "id": "RBFlevkE4AA5"
      },
      "source": [
        "**Use the debugger to trace the function execution.** A function can return any number of values. The values in the return are separated by commas. Here's a function that returns three values: \n",
        "\n",
        "```python\n",
        "def multiple_values():\n",
        "    return \"One\", \"Two\", \"Three\"\n",
        "```"
      ]
    },
    {
      "cell_type": "markdown",
      "metadata": {
        "id": "Urf9u8GK4AA5"
      },
      "source": [
        "When a function returns mutiple values all of the values must be received by variables on the left of the equal sign. Here's how to catch all of the return vaules from the `multiple_values` function: \n",
        "\n",
        "```python\n",
        "one, two, three = multiple_values()\n",
        "```\n",
        "\n",
        "Try entering and calling the `multiple_values` function:"
      ]
    },
    {
      "cell_type": "code",
      "metadata": {
        "id": "kjLtJVPO4AA5"
      },
      "source": [],
      "execution_count": null,
      "outputs": []
    },
    {
      "cell_type": "markdown",
      "metadata": {
        "id": "RR1MFTgc4AA5"
      },
      "source": [
        "**Remember the syntax!** "
      ]
    },
    {
      "cell_type": "markdown",
      "source": [
        "---"
      ],
      "metadata": {
        "id": "urSIOUBnoYvZ"
      }
    },
    {
      "cell_type": "markdown",
      "metadata": {
        "id": "EFBvFQ3J4AA6"
      },
      "source": [
        "## Mixing Arguments and Return Values \n",
        "\n",
        "Most functions both take arguments and return values. Here's an example of a function that adds two numbers and returns their sum. \n",
        "\n",
        "```python\n",
        "def add_two_numbers(a, b) :\n",
        "    c = a + b \n",
        "    return c \n",
        "```\n",
        "\n",
        "The caller of the function supplies input and stores the returned output of the function:\n",
        "\n",
        "```python\n",
        "s = add_two_numbers(10, 100)\n",
        "print(s)\n",
        "```\n",
        "\n",
        "Here's another example of a function that performs math. This does three operations and returns the results:\n",
        "\n",
        "```python \n",
        "def do_math(a, b) :\n",
        "  su = a + b \n",
        "  pr = a * b \n",
        "  ra = a / b \n",
        "  return su, pr, ra \n",
        "```\n",
        "\n",
        "You can store multiple return values with multiple variables:\n",
        "\n",
        "```python\n",
        "ret1, ret2, ret3 = do_math(12, 45)\n",
        "print(f'The sum: {ret1}, product: {ret2} ratio: {ret3}')\n",
        "```\n",
        "\n",
        "Try entering the example functions. "
      ]
    },
    {
      "cell_type": "code",
      "source": [],
      "metadata": {
        "id": "yTpAwFdwmt5k"
      },
      "execution_count": null,
      "outputs": []
    },
    {
      "cell_type": "markdown",
      "metadata": {
        "id": "AvdRvKw_4AA6"
      },
      "source": [
        "**Do you see that values are passed between different variables?** Use the debugger to explore. "
      ]
    },
    {
      "cell_type": "markdown",
      "source": [
        "---"
      ],
      "metadata": {
        "id": "jb2xVytdoXhG"
      }
    },
    {
      "cell_type": "markdown",
      "source": [
        "### More `function()` examples\n"
      ],
      "metadata": {
        "id": "qLHnpkV7j8AW"
      }
    },
    {
      "cell_type": "code",
      "source": [
        "# this invokes the print() function\n",
        "print()"
      ],
      "metadata": {
        "id": "hzoKwxetkHBk"
      },
      "execution_count": null,
      "outputs": []
    },
    {
      "cell_type": "code",
      "source": [
        "# give the print() function something as input\n",
        "# this gives print() the argument \"Hello World!\"\n",
        "print(\"Hello World!\")"
      ],
      "metadata": {
        "id": "IIoBl9lkkVfx"
      },
      "execution_count": null,
      "outputs": []
    },
    {
      "cell_type": "code",
      "source": [
        "# make a variable for the argument\n",
        "what_to_print = \"Hello World!\"\n",
        "print(what_to_print)"
      ],
      "metadata": {
        "id": "6ZwvQOIuklSe"
      },
      "execution_count": null,
      "outputs": []
    },
    {
      "cell_type": "code",
      "source": [
        "# make a function which does nothing\n",
        "def very_tired():\n",
        "    return\n",
        "print(\"Main program is back\")"
      ],
      "metadata": {
        "id": "zrQB7lSclNfs"
      },
      "execution_count": null,
      "outputs": []
    },
    {
      "cell_type": "code",
      "source": [
        "# invoke that function \n",
        "very_tired()"
      ],
      "metadata": {
        "id": "XZitwMTjld6b"
      },
      "execution_count": null,
      "outputs": []
    },
    {
      "cell_type": "code",
      "source": [
        "# make a function that takes input then invokes print() \n",
        "# using its input as an argument to print()\n",
        "\n",
        "# 1 - assignment of a string to variable (wtp)\n",
        "what_to_print = \"Hello World!\"\n",
        "\n",
        "# 2 - definition of a function which wants an argument (wa)\n",
        "#     and messes with it then returns the mess\n",
        "def very_tired(what_argument, y):\n",
        "    print(what_argument*y)   \n",
        "    x = what_argument+\" finished printing\"\n",
        "    # return the first argument's value\n",
        "    # return x\n",
        "    # return both arguments as a tuple\n",
        "    return x, y\n",
        "\n",
        "# 3 - invoking a function and passing in an argument (wtp)\n",
        "very_tired(what_to_print, 1)  # first print of \"Hello World!\"\n",
        "\n",
        "# 4 - use the function in an assignment\n",
        "what_came_back = very_tired(what_to_print, 2) # second print \"HW\"\n",
        "print(\"What came back \", what_came_back)\n",
        "\n",
        "# 5 - can we access the function's local variable in the main program\n",
        "try:\n",
        "    print(x, y)\n",
        "except:\n",
        "    print(\"Those do not exist in the __main__ program space\")\n"
      ],
      "metadata": {
        "id": "ziJDcqUYk1h6"
      },
      "execution_count": null,
      "outputs": []
    },
    {
      "cell_type": "markdown",
      "source": [
        "---"
      ],
      "metadata": {
        "id": "uBuD5xpcoTXP"
      }
    },
    {
      "cell_type": "markdown",
      "metadata": {
        "id": "H6eB_H6H4AA6"
      },
      "source": [
        "## An Example Problem \n",
        "\n",
        "Writing functions to specification is a very common task in the life of a programmer. A function specification gives you the four important things you need to know when you write a function: \n",
        "\n",
        "1. The name of the function \n",
        "1. The function arguments \n",
        "1. The return value\n",
        "1. A description of what the function does. \n",
        "\n",
        "Here's an example speicification:\n",
        "\n",
        "<div class=\"alert alert-info\">\n",
        "<strong>Example Problem</strong>\n",
        "\n",
        "Write a function called `power_of` that takes two arguments, `sig` and `power`. The function should return the value: \n",
        "\\begin{equation*}\n",
        "sig^\\left( power \\right)\n",
        "\\end{equation*}\n",
        "\n",
        "* Name: `power_of`\n",
        "* Arguments:\n",
        "    * `sig` (`float`) - The significand  \n",
        "    * `power` (`float`) - The exponent \n",
        "* Returns: The `sig` to the `power` power.\n",
        "</div>\n",
        "\n",
        "\n",
        "When you get a function description, start by setting up the problem. Create a function with a matching name and arguments. If there's a return value add a return statement (even if it is not returning the right thing at first). Alwyas add a docstring. Here's the start of the solution: \n",
        "\n",
        "```python \n",
        "def power_of(sig, power):\n",
        "    \"\"\"The power_of function's docstring\"\"\" \n",
        "    return 0 # Fix me later\n",
        "```\n",
        "\n",
        "Once setup, write code to call your function that you use to test. It's essential to test your code as you go along. Write a line or two and then test again. Here's some code to test the `power_of` function:\n",
        "\n",
        "```python\n",
        "got = power_of(2, 5)\n",
        "print(f\"I got {got} and it should be 32\")\n",
        "```\n",
        "\n",
        "Now that you have a start and a way to test your code you can begin to problem solve and finish the question. Don't know how to do it. Try Google. Try searching for \"[python power operator](https://www.google.com/search?q=python+power+operator&oq=python+power+o&aqs=chrome.0.0l3j69i57j0l4.4884j1j7&sourceid=chrome&ie=UTF-8)\"."
      ]
    },
    {
      "cell_type": "code",
      "metadata": {
        "id": "XLgyfZEA4AA6"
      },
      "source": [],
      "execution_count": null,
      "outputs": []
    },
    {
      "cell_type": "markdown",
      "source": [
        "---"
      ],
      "metadata": {
        "id": "kpQlXVm3oRnw"
      }
    },
    {
      "cell_type": "markdown",
      "metadata": {
        "id": "ZpHmSEKP4AA6"
      },
      "source": [
        "## Designing with Functions \n",
        "\n",
        "Functions give you a way to name snippets of code. The name of the function should succinctly describe what the function does. Here's an example of a function that reads the first line of a file:\n",
        "\n",
        "```python\n",
        "def read_first_line(filename):\n",
        "    \"\"\"Read the first line of a file.\"\"\"\n",
        "    file_handle = open(filename, 'r') \n",
        "    line = file_handle.readline()\n",
        "    file_handle.close()\n",
        "    return line\n",
        "```\n",
        "\n",
        "Calling the function returns the first line of the file:\n",
        "\n",
        "```python\n",
        "print(read_first_line('files/example.txt'))\n",
        "```\n"
      ]
    },
    {
      "cell_type": "code",
      "metadata": {
        "id": "dAbUd-Hj4AA6"
      },
      "source": [],
      "execution_count": null,
      "outputs": []
    },
    {
      "cell_type": "markdown",
      "source": [
        "---"
      ],
      "metadata": {
        "id": "Rxi3TJYeoQRp"
      }
    },
    {
      "cell_type": "markdown",
      "metadata": {
        "id": "PjETc-wc4AA6"
      },
      "source": [
        "### The Importance of Docstrings\n",
        "\n",
        "Functions have docstrings to help readers understand what they do. For complicated functions docstrings describe in detail the function arguments and return values. Here's a docstring describing the `read_first_line` function.\n",
        "\n",
        "```python\n",
        "def read_first_line(filename) :\n",
        "    \"\"\"\n",
        "    Read the first line of a file.\n",
        "    \n",
        "    Arguments:\n",
        "        filename - The name of the file to read. \n",
        "    \n",
        "    Returns: A str containing the first line of the file.\n",
        "    \"\"\"\n",
        "    file = open(filename, 'r') \n",
        "    line = file.readline()\n",
        "    file.close()\n",
        "    return line\n",
        "```\n"
      ]
    },
    {
      "cell_type": "code",
      "metadata": {
        "id": "dLzEnTnv4AA7"
      },
      "source": [],
      "execution_count": null,
      "outputs": []
    },
    {
      "cell_type": "markdown",
      "metadata": {
        "id": "D-GJMVC-4AA7"
      },
      "source": [
        "The `help` function reads the docstring. Type in one version of the `read_first_line` function and use the `help` function to see the docstring.\n",
        "\n",
        "```python\n",
        "help(read_first_line)\n",
        "```"
      ]
    },
    {
      "cell_type": "code",
      "metadata": {
        "id": "DIG5mDNm4AA7"
      },
      "source": [],
      "execution_count": null,
      "outputs": []
    },
    {
      "cell_type": "markdown",
      "metadata": {
        "id": "F2Im4lY14AA7"
      },
      "source": [
        "When it's not obvious what the function arguments are you should be more descriptive in your docstring. It's also important sometimes to describe what the return value is (or might be)."
      ]
    },
    {
      "cell_type": "code",
      "metadata": {
        "deletable": false,
        "editable": false,
        "id": "ALyt9Yat4AA7"
      },
      "source": [
        "def read_a_line(filename, offset) :\n",
        "    '''\n",
        "    Reads a line in the file after seeking to a particular place. \n",
        "    \n",
        "    Arguments:\n",
        "      filename - The name of the file to read. \n",
        "      offset - The place in the file to start reading. \n",
        "      \n",
        "    Returns: \n",
        "      A string containing the line that was read. \n",
        "    ''' \n",
        "    file_handle = open(filename)\n",
        "    file_handle.seek(offset)\n",
        "    line = file_handle.readline()\n",
        "    file_handle.close()\n",
        "    return line"
      ],
      "execution_count": null,
      "outputs": []
    },
    {
      "cell_type": "markdown",
      "metadata": {
        "id": "dzBBnDyF4AA7"
      },
      "source": [
        "Now the `help` function shows a really useful message:"
      ]
    },
    {
      "cell_type": "code",
      "metadata": {
        "deletable": false,
        "editable": false,
        "id": "BUuvHd2m4AA7",
        "colab": {
          "base_uri": "https://localhost:8080/"
        },
        "outputId": "2abecb6c-3299-4144-ac3d-d429e5598297"
      },
      "source": [
        "help(read_a_line)"
      ],
      "execution_count": null,
      "outputs": [
        {
          "output_type": "stream",
          "name": "stdout",
          "text": [
            "Help on function read_a_line in module __main__:\n",
            "\n",
            "read_a_line(filename, offset)\n",
            "    Reads a line in the file after seeking to a particular place. \n",
            "    \n",
            "    Arguments:\n",
            "      filename - The name of the file to read. \n",
            "      offset - The place in the file to start reading. \n",
            "      \n",
            "    Returns: \n",
            "      A string containing the line that was read.\n",
            "\n"
          ]
        }
      ]
    },
    {
      "cell_type": "markdown",
      "metadata": {
        "id": "MeyOS8w24AA7"
      },
      "source": [
        "There are official Python guidelines for how to use docstrings in functions:\n",
        "\n",
        "* https://www.python.org/dev/peps/pep-0257/\n",
        "\n",
        "It will be difficult at first to know what code you should put in a function. Don't worry, it's hard for everyone at first! Practice, practice, practice! "
      ]
    },
    {
      "cell_type": "markdown",
      "source": [
        "---"
      ],
      "metadata": {
        "id": "Rfe-FEHeoOmd"
      }
    },
    {
      "cell_type": "markdown",
      "metadata": {
        "id": "BzaxhkG14AA8"
      },
      "source": [
        "## Function Variables and Scope \n",
        "\n",
        "Variables created inside of a function, including the function arguments, are *private* to the function. That means they only exist while the funciton is executing and disappear after the function returns. For beginners this can be confusing, but it's an essential feature of Python and other programming languages. The validity of a variable is called *scope*. "
      ]
    },
    {
      "cell_type": "markdown",
      "source": [
        "---"
      ],
      "metadata": {
        "id": "FU3ZSgd-oMeb"
      }
    },
    {
      "cell_type": "markdown",
      "metadata": {
        "id": "oTKsQlHr4AA8"
      },
      "source": [
        "### Global Variables\n",
        "\n",
        "Variables that are defined all the way to the left (also called top-level or file scope) are *global variables*. Global variables are available everywhere in a program, including inside of functions. The code below demonstrates that the variable `a` can be used inside of the function: "
      ]
    },
    {
      "cell_type": "code",
      "metadata": {
        "deletable": false,
        "editable": false,
        "id": "s9UI6NXB4AA8"
      },
      "source": [
        "# a is a global variable.  \n",
        "a = 10\n",
        "\n",
        "def func(b):\n",
        "    # b is private to the function and can \n",
        "    # only be used inside of it. \n",
        "    print(f'a is {a} and b is {b}')\n",
        "    \n",
        "# call func and pass in a+1\n",
        "func(a+1)"
      ],
      "execution_count": null,
      "outputs": []
    },
    {
      "cell_type": "markdown",
      "metadata": {
        "id": "EmK9hHqt4AA8"
      },
      "source": [
        "Global variables sometimes lead to confusion. When a function uses a variable with the same name as a global variable the one inside of the function is used. Here's an example where a name conflict has confusing results:"
      ]
    },
    {
      "cell_type": "code",
      "metadata": {
        "deletable": false,
        "editable": false,
        "id": "H4T_Tbs44AA8"
      },
      "source": [
        "a = 10 \n",
        "print(a)\n",
        "\n",
        "def func(a):\n",
        "    a = a + 1\n",
        "    print(a)\n",
        "\n",
        "func(a)\n",
        "print(a)"
      ],
      "execution_count": null,
      "outputs": []
    },
    {
      "cell_type": "markdown",
      "metadata": {
        "id": "Nqq-6dx04AA8"
      },
      "source": [
        "**Can you explain what happens when you run this code?** Remember there are *two* variables named `a`. "
      ]
    },
    {
      "cell_type": "markdown",
      "metadata": {
        "id": "gTclB7wI4AA8"
      },
      "source": [
        "### The Global Keyword \n",
        "\n",
        "When you use a global variable inside of a function Python has to make a guess. Should I use the global variable or should I create a local variable? Python will always choose to make a local variable. The `global` keyword tells Python to use the global variable rather than create a new local one. Look at the difference between the two functions below: "
      ]
    },
    {
      "cell_type": "code",
      "metadata": {
        "deletable": false,
        "editable": false,
        "id": "RDwLlXRV4AA8"
      },
      "source": [
        "# a is global \n",
        "a = \"global\"\n",
        "\n",
        "def local_a():\n",
        "    a = \"inside of local_a()\"\n",
        "\n",
        "def global_a():\n",
        "    global a # Tell Python to use global \"a\"\n",
        "    a = \"inside of global_a()\"\n",
        "\n",
        "\n",
        "print(a)\n",
        "local_a()\n",
        "print(a)\n",
        "global_a()\n",
        "print(a)"
      ],
      "execution_count": null,
      "outputs": []
    },
    {
      "cell_type": "markdown",
      "metadata": {
        "id": "NPCHc2zJ4AA8"
      },
      "source": [
        "### Avoid Global Variables\n",
        "\n",
        "Sometimes global variables are necessary but unless there's no other way to do something it's a good idea to avoid global variables. Global variables make programs harder to read and can lead to confusing problems. For example, this program has an error, but it almost looks right:"
      ]
    },
    {
      "cell_type": "code",
      "metadata": {
        "deletable": false,
        "editable": true,
        "id": "zWqmqvVk4AA9"
      },
      "source": [
        "def add_two_numbers() :\n",
        "    global a, b \n",
        "    c = a + b \n",
        "    \n",
        "a = 10 \n",
        "b = 20 \n",
        "c = 0\n",
        "add_two_numbers()\n",
        "print(c)"
      ],
      "execution_count": null,
      "outputs": []
    },
    {
      "cell_type": "markdown",
      "metadata": {
        "id": "de9reMc_4AA9"
      },
      "source": [
        "**Before you use a global ask yourself, \"Can I do this another way?\" If answer is yes then you probably should.** "
      ]
    },
    {
      "cell_type": "markdown",
      "source": [
        "---"
      ],
      "metadata": {
        "id": "7fXI4cnmoJmf"
      }
    },
    {
      "cell_type": "markdown",
      "metadata": {
        "id": "KK5BAeil4AA9"
      },
      "source": [
        "## The main() Function \n",
        "\n",
        "In the C programming language every program has a `main` function. The `main` function is called to start the program and when the `main` function exits the program ends. Python works differently, it just starts executing instructions in your file, starting at the top and ending at the bottom. This is great for small programs but as programs get more complex it's a problem because all of the variables in your program are global variables. \n",
        "\n",
        "**Best practice Python programs should not use global variables and do not have code outside of a function.** Such programs should use a template similar to the one below: "
      ]
    },
    {
      "cell_type": "code",
      "metadata": {
        "id": "Sh_wQoYr4AA9"
      },
      "source": [
        "\"\"\"\n",
        "CIS-15 Program with Functions \n",
        "Mike Matera\n",
        "\"\"\"\n",
        "\n",
        "# It's always okay to have import lines at top-level \n",
        "import sys \n",
        "\n",
        "\n",
        "def main():\n",
        "    \"\"\"All code goes inside of a function.\"\"\"\n",
        "    print(f'Hello, my name is {sys.argv[0]}')\n",
        "    \n",
        "\n",
        "# These two lines call the main() function when your program\n",
        "# is run from the command line. More on this later!\n",
        "if __name__ == '__main__':\n",
        "    main()"
      ],
      "execution_count": null,
      "outputs": []
    },
    {
      "cell_type": "markdown",
      "metadata": {
        "id": "lswsEo-m4AA9"
      },
      "source": [
        "<div class=\"alert alert-info\"><strong>WARNING: Functions in Functions</strong>\n",
        "\n",
        "In Python it's posible to define a function *inside* of another function. **DO NOT DEFINE A FUNCTION INSIDE OF ANOTHER FUNCTION** unless you know what you're doing. All of your functions should begin all the way to the left of the page. \n",
        "</div>"
      ]
    },
    {
      "cell_type": "markdown",
      "metadata": {
        "id": "7cz5x3-1_Bh6"
      },
      "source": [
        "\n",
        "\n",
        "---\n",
        "\n"
      ]
    },
    {
      "cell_type": "markdown",
      "metadata": {
        "id": "DiaIB90S4bOw"
      },
      "source": [
        "# **Loops**"
      ]
    },
    {
      "cell_type": "markdown",
      "metadata": {
        "id": "CIcjB2xC_sY8"
      },
      "source": [
        "**For Loops**"
      ]
    },
    {
      "cell_type": "markdown",
      "metadata": {
        "id": "otUuPHHe-byT"
      },
      "source": [
        "The `for` Loop \n",
        "\n",
        "In this lesson I introduce simple syntax with powerful applications. Earlier, you learned how to create and maniuplate lists. What if you wanted to run some code *for each* item in a list? To do that you need a `for` loop. Here's an example:\n",
        "\n",
        "```python\n",
        "animals = ['Lions', 'Tigers', 'Bears'] \n",
        "for item in animals: \n",
        "    print(item) \n",
        "print('Oh my!')\n",
        "```\n",
        "\n",
        "Notice that there's a list `animals`. The `print` statement inside of the the `for` loop is executed once for each element in the `animals` list. Enter it into the next cell:"
      ]
    },
    {
      "cell_type": "code",
      "metadata": {
        "id": "wqHg2aYO-byW"
      },
      "source": [],
      "execution_count": null,
      "outputs": []
    },
    {
      "cell_type": "markdown",
      "metadata": {
        "id": "u6UGRYjW-byX"
      },
      "source": [
        "Again, notice: \n",
        "\n",
        "* The `print()` statement *inside* the for loop is run once for each item in the list \n",
        "* The items in the list are assigned to the variable `item` one by one \n",
        "\n",
        "\n",
        "The most powerful thing about Python's `for` loops is the idea that a sequence goes on the right of the `in` keyword. \n",
        "\n",
        "## Sequences\n",
        "\n",
        "A sequence is anything that can be stepped through one element at a time. In Python many data types can be treated like sequences. In the last lesson we learned about lists which are naturally sequences but that's not the first sequence type you have learned. Here are some examples:\n",
        "\n",
        "Strings are a sequence of letters:\n",
        "\n",
        "```python\n",
        "sentence = \"Mary had a little lamb.\" \n",
        "for letter in sentence: \n",
        "    print(letter)\n",
        "```\n",
        "\n",
        "File handles are a sequence of lines:\n",
        "\n",
        "```python\n",
        "file_handle = open('files/example.txt')\n",
        "for line in file_handle:\n",
        "    print(line.strip())\n",
        "file_handle.close()\n",
        "```\n",
        "\n",
        "Try the example for loops in the next cell:"
      ]
    },
    {
      "cell_type": "code",
      "metadata": {
        "id": "tRDMUE-u-byX"
      },
      "source": [],
      "execution_count": null,
      "outputs": []
    },
    {
      "cell_type": "markdown",
      "metadata": {
        "id": "kSaZFXko-byX"
      },
      "source": [
        "### Numerical Sequences with range()\n",
        "\n",
        "If you've programmed in another language you've probably seen the C-style `for` loop. If not, no big deal! In many other languages the `for` loop is for counting numbers and the syntax enables you to make numerical sequences (e.g. 0, 1, 2, ...) but not \"step through\" things easily. Counting numbers is important sometimes and Python gives you a way to do that. For example:\n",
        "\n",
        "```python \n",
        "for number in range(10):\n",
        "    print(number)\n",
        "```\n",
        "\n",
        "Try it in the next cell:"
      ]
    },
    {
      "cell_type": "code",
      "metadata": {
        "id": "h4x2fUmI-byY"
      },
      "source": [
        "for number in range(10):\n",
        "    print(number)"
      ],
      "execution_count": null,
      "outputs": []
    },
    {
      "cell_type": "markdown",
      "source": [
        "---"
      ],
      "metadata": {
        "id": "F5zWuqSRoF_O"
      }
    },
    {
      "cell_type": "markdown",
      "metadata": {
        "id": "XZqyDryA-byY"
      },
      "source": [
        "**What numbers does the list produce?**\n",
        "\n",
        "The `range` function can produce more complicated sequences. If you give `range` two numbers it starts at the first and ends one before the second. For example:\n",
        "\n",
        "```python\n",
        "for number in range(5, 10):\n",
        "    print(number)\n",
        "```\n",
        "\n",
        "Try changing the previous cell to the two-argument version of `range`.\n",
        "\n",
        "## Loop Variables \n",
        "\n",
        "Here's a pop quiz! What is the difference between the output of these three `for` loops:\n",
        "\n",
        "```python\n",
        "for item in animals:\n",
        "    print(item)\n",
        "\n",
        "for animal in animals:\n",
        "    print(animal)\n",
        "    \n",
        "for duck in animals:\n",
        "    print(duck)\n",
        "```\n",
        "\n",
        "Not sure? Try them out:"
      ]
    },
    {
      "cell_type": "code",
      "metadata": {
        "id": "_EPbwTI6-byZ"
      },
      "source": [],
      "execution_count": null,
      "outputs": []
    },
    {
      "cell_type": "markdown",
      "metadata": {
        "id": "tlFZWr2qxtK1"
      },
      "source": [
        "*The following is a short test of that concept with a list of animals*\n",
        "\n",
        "animals = [\"frog\", \"cow\", \"horse\", \"goat\", \"professor\"]"
      ]
    },
    {
      "cell_type": "code",
      "metadata": {
        "id": "qKgA8vOMx7Fh"
      },
      "source": [
        "animals = [\"frog\", \"cow\", \"horse\", \"goat\", \"professor\"]"
      ],
      "execution_count": null,
      "outputs": []
    },
    {
      "cell_type": "code",
      "metadata": {
        "id": "AKjZ-bjxyVk_"
      },
      "source": [
        "print(type(animals))"
      ],
      "execution_count": null,
      "outputs": []
    },
    {
      "cell_type": "code",
      "metadata": {
        "id": "-Jy5O6__yMrS"
      },
      "source": [
        "for animal in animals:\n",
        "    print(animal)"
      ],
      "execution_count": null,
      "outputs": []
    },
    {
      "cell_type": "markdown",
      "metadata": {
        "id": "Lq-0NZeb-byZ"
      },
      "source": [
        "**Answer: NOTHING!** The difference in the `for` loops is the name of the loop variable. There is nothing special about the name of the loop variable, it's simply a variable that the `for` loop creates for you to hold individual items. It's up to you to choose a name that suits your program. It's best to chose a name that will help you understand what's in the variable. Here's a better question:\n",
        "\n",
        "What is the most appropriate variable name from the loops above? \n",
        "\n",
        "1. `item`\n",
        "1. `animal`\n",
        "1. `duck`\n",
        "\n"
      ]
    },
    {
      "cell_type": "markdown",
      "metadata": {
        "id": "F2P1GFIc-bya"
      },
      "source": [
        "## Algorithms With `for`\n",
        "\n",
        "\n",
        "The `for` loop has simple syntax with powerful implications. If you're learning to program for the first time it's important for you to be able to step through the `for` loop one *iteration* at a time as a way to understand what it does. The debugger is really great for this! Here's an example with each iteration of the loop spelled out in a table:\n",
        "\n",
        "This `for` loops calculates the sum of every number in a list: \n",
        "\n",
        "```python\n",
        "numbers = [1, 23, 46, 92, 9, 12, 5] \n",
        "total = 0 \n",
        "for number in numbers:\n",
        "    total = total + number\n",
        "print(total)\n",
        "```\n",
        "\n",
        "Let's look at the value of `number` and `total` step-by-step:\n",
        "\n",
        "| Step # | `number` | `total` | \n",
        "| --- | --- | --- | \n",
        "| 0 |  - | 0 | \n",
        "| 1 | 1 | 1 | \n",
        "| 2 | 23 | 24 | \n",
        "| 3 | 46 | 70 | \n",
        "| 4 | 92 | 162 | \n",
        "| 5 | 9 | 171 | \n",
        "| 6 | 12 | 183 | \n",
        "| 7 | 5 | 188 | \n",
        "\n",
        "Now enter the code and confirm those steps in the debugger: "
      ]
    },
    {
      "cell_type": "code",
      "metadata": {
        "id": "XrWMYCCv-bya"
      },
      "source": [],
      "execution_count": null,
      "outputs": []
    },
    {
      "cell_type": "markdown",
      "source": [
        "---"
      ],
      "metadata": {
        "id": "IqJFKJzln9FX"
      }
    },
    {
      "cell_type": "markdown",
      "metadata": {
        "id": "UOY7ZKCj-bya"
      },
      "source": [
        "### Modify the List \n",
        "\n",
        "The loop variable is a *copy* of the list element so changes in the loop variable do not affect the contents of the list. Here's an example `for` loop the changes the list by doubling each element in the list: \n",
        "\n",
        "```python \n",
        "numbers = [1, 23, 46, 92, 9, 12, 5] \n",
        "for index in range(len(numbers)):\n",
        "    numbers[index] = numbers[index] * 2\n",
        "print(numbers)\n",
        "```\n",
        "\n",
        "Notice the following:\n",
        "\n",
        "1. The loop uses `range` to get numbers. \n",
        "1. `range` is given `len(numbers)`, the length of the list as an argument. \n",
        "1. Inside the `for` loop I use the `index` variable to get elements of the list. \n",
        "\n",
        "Simulating the loop in a table we get: \n",
        "\n",
        "| Step # | `index` | `numbers[index]` before -> after | \n",
        "| --- | --- | --- | \n",
        "| 1 |  0 | 1 -> 2 | \n",
        "| 2 | 1 | 23 -> 46 | \n",
        "| 3 | 23 | 46 -> 92 | \n",
        "| 4 | 46 | 92 -> 184 | \n",
        "| 5 | 92 | 9 -> 18 | \n",
        "| 6 | 9 | 12 -> 24 | \n",
        "| 7 | 12 | 5 -> 10 | \n",
        "\n",
        "Enter the `for` loop example and confirm these steps in the debugger:"
      ]
    },
    {
      "cell_type": "code",
      "metadata": {
        "id": "goFH_idR-byb"
      },
      "source": [],
      "execution_count": null,
      "outputs": []
    },
    {
      "cell_type": "markdown",
      "source": [
        "---"
      ],
      "metadata": {
        "id": "BwYBsCt8n7zP"
      }
    },
    {
      "cell_type": "markdown",
      "metadata": {
        "id": "KYxhSjub-byb"
      },
      "source": [
        "### Filtering \n",
        "\n",
        "Any legal Python statement can be inside of a `for` loop. Importantly you can make a decision inside of a `for` loop that filters elements. Here's an example of an algorithm that prints some elements in the list but not others:\n",
        "\n",
        "```python \n",
        "numbers = [1, 23, 46, 92, 9, 12, 5] \n",
        "for number in numbers:\n",
        "    if number < 20:\n",
        "        print(number)\n",
        "```\n",
        "\n",
        "Notice that the `if` is inside the `for`. Simulating the loop in a table gives us: \n",
        "\n",
        "| Step # | `number` | `number < 20` | Action | \n",
        "| --- | --- | --- | --- | \n",
        "| 1 | 1 | `True` | `print` |  \n",
        "| 2 | 23 | `False` | - |  \n",
        "| 3 | 46 | `False` | - |  \n",
        "| 4 | 92 | `False` | - |  \n",
        "| 5 | 9 | `True` | `print` |  \n",
        "| 6 | 12 | `True` | `print` |  \n",
        "| 7 | 5 | `True` | `print` |  \n",
        "\n",
        "Now enter the example and use the debugger to confirm the table:"
      ]
    },
    {
      "cell_type": "code",
      "metadata": {
        "id": "kIQuupvA-byb"
      },
      "source": [],
      "execution_count": null,
      "outputs": []
    },
    {
      "cell_type": "markdown",
      "source": [
        "---"
      ],
      "metadata": {
        "id": "bYuLOr40n6o-"
      }
    },
    {
      "cell_type": "markdown",
      "metadata": {
        "id": "qzX0emX1-byb"
      },
      "source": [
        "### Searching the List \n",
        "\n",
        "Sometimes you want to find something in the list. Of course, this is conveniently done with the `in` operator in Python but there are more complicated cases that require a `for` loop. An algorithm that searches a sequence shold stop when it has found what it's looking for. The `break` statement stops a for loop from executing, leaving any remaining items untouched. Here's an algorithm that searches for a number in the list:\n",
        "\n",
        "```python\n",
        "numbers = [1, 23, 46, 92, 9, 12, 5] \n",
        "for number in numbers:\n",
        "    if number == 92:\n",
        "        print(\"I found it!\")\n",
        "        break\n",
        "```\n",
        "\n",
        "Running `break` stops the loop early. Here's a simulation: \n",
        "\n",
        "| Step # | `number` | `number == 92` | Action | \n",
        "| --- | --- | --- | --- | \n",
        "| 1 | 1 | `False` | - |  \n",
        "| 2 | 23 | `False` | - |  \n",
        "| 3 | 46 | `False` | - |  \n",
        "| 4 | 92 | `True` | Print and break |  \n",
        "\n",
        "Enter the example and confirm the simulation in the debugger:"
      ]
    },
    {
      "cell_type": "code",
      "metadata": {
        "id": "oSzYjfzK-byb"
      },
      "source": [],
      "execution_count": null,
      "outputs": []
    },
    {
      "cell_type": "markdown",
      "metadata": {
        "id": "vpseB0iG-byc"
      },
      "source": [
        "<div class=\"alert alert-info\"><strong>Note: Programming Style</strong>\n",
        "<p>The `break` statement is controversial. Some people discourage its use because they believe that it makes code *less readable*, or harder to simulate in your head. As you gain experience you'll be able to judge for yourself how readable and clear code is. Every statement has a time and a place.\n",
        "</div>\n",
        "\n",
        "**What about a function that does the same thing as `in`?** \n",
        "\n",
        "Let's move our filter code into a function called `find_in`. The function returns `True` if the item is in the list and `False` otherwise. \n",
        "\n",
        "* Name: `find_in`\n",
        "* Arguments:\n",
        "  * number (integer) - The number to search for.\n",
        "  * items (list of integer) - The list to search in.\n",
        "* Returns: (bool) `True` if `number` is found in `items` otherwise `False`.\n",
        "\n",
        "Here's the function:\n",
        "\n",
        "```python\n",
        "def find_in(number, items):\n",
        "    for item in items:\n",
        "        if item == number:\n",
        "            return True\n",
        "    return False\n",
        "```\n",
        "\n",
        "Here's how to call the function on our list: \n",
        "\n",
        "```python\n",
        "numbers = [1, 23, 46, 92, 9, 12, 5] \n",
        "if find_in(92, numbers):\n",
        "    print(\"I found it!\")\n",
        "```\n",
        "\n",
        "Enter the function and corresponding call into the next cell:"
      ]
    },
    {
      "cell_type": "code",
      "metadata": {
        "id": "JXHe5LLb-byc"
      },
      "source": [],
      "execution_count": null,
      "outputs": []
    },
    {
      "cell_type": "markdown",
      "metadata": {
        "id": "nnFsj9A5_LEw"
      },
      "source": [
        "**While Loops**"
      ]
    },
    {
      "cell_type": "markdown",
      "metadata": {
        "id": "tPWxs7fM_Wdv"
      },
      "source": [
        "The `while` Loop \n",
        "\n",
        "The `while` loop is known as the *indefinite* loop. You use it when you *can't know* how many times you need to go through the loop. The `while` loop continues looping while the *loop condidtion* is `True` and exits the loop when the condition is `False`. The `while` loop is less common than the `for` loop but still essential for most programs. \n",
        "\n",
        "Let's revisit our guessing game. In this version of the game we want the user to keep guessing until they get the right answer. There's no way to know how many guesses it will take them. \n",
        "\n",
        "```python\n",
        "guess = 0\n",
        "while guess != 34:\n",
        "    guess = int(input(\"Pick a number between 1 and 100: \"))\n",
        "print(\"You got it!\")\n",
        "```\n",
        "\n",
        "Try entering the code into the next cell:"
      ]
    },
    {
      "cell_type": "code",
      "metadata": {
        "id": "bstHFZG2_Wdy"
      },
      "source": [],
      "execution_count": null,
      "outputs": []
    },
    {
      "cell_type": "markdown",
      "metadata": {
        "id": "x8QW9PCH_Wdy"
      },
      "source": [
        "## Input Validation \n",
        "\n",
        "The loop in the previous cell asks for input until the user provides the correct value. This is a useful behavior when you want to *validate* the input a user gives you. Here's an example, here's a program that asks for a number between 1 and 100 and forces the user to type in something correct."
      ]
    },
    {
      "cell_type": "code",
      "metadata": {
        "id": "xFFkxPnw_Wdz"
      },
      "source": [
        "def input_number():\n",
        "    number = -1\n",
        "    while not 1 <= number <= 100:\n",
        "        number = int(input(\"Enter an integer between 1 and 100: \"))\n",
        "    return number\n",
        "\n",
        "n = input_number()\n",
        "print(\"Thank you for typing:\", n)"
      ],
      "execution_count": null,
      "outputs": []
    },
    {
      "cell_type": "markdown",
      "source": [
        "---"
      ],
      "metadata": {
        "id": "vyxz4n1on275"
      }
    },
    {
      "cell_type": "markdown",
      "metadata": {
        "id": "qljgJSgs_Wd0"
      },
      "source": [
        "## Infinite Loops \n",
        "\n",
        "`while` loops are a bit more hazardous than `for` loops because a programming mistake can make them *infinite* loops. Getting stuck in an infinite loop is one of the ways a program can crash and become unresponsive. So more care is needed when you program a `while` loop. Somtimes `while` loops are written as infinite loops with a `break` or `return` statement that terminates the loop. Here's the input validation function again:"
      ]
    },
    {
      "cell_type": "code",
      "metadata": {
        "id": "FOSOCqMj_Wd0",
        "outputId": "0e4ad5c7-0154-4f0f-d7ab-78d01faa853b"
      },
      "source": [
        "def input_number():\n",
        "    while True:\n",
        "        number = int(input(\"Enter an integer between 1 and 100: \"))\n",
        "        if 1 <= number <= 100:\n",
        "            return number\n",
        "\n",
        "n = input_number()\n",
        "print(\"Thank you for typing:\", n)"
      ],
      "execution_count": null,
      "outputs": [
        {
          "name": "stdin",
          "output_type": "stream",
          "text": [
            "Enter an integer between 1 and 100:  32\n"
          ]
        },
        {
          "name": "stdout",
          "output_type": "stream",
          "text": [
            "Thank you for typing: 32\n"
          ]
        }
      ]
    },
    {
      "cell_type": "markdown",
      "metadata": {
        "id": "ResBsGu1_Wd1"
      },
      "source": [
        "**Does the difference between the two `input_number` functions seem like a big deal?** \n",
        "\n",
        "Probably not. Here's a practice problem. Try writing it both ways: \n",
        "\n",
        "Write a function called `number_between` that takes two arguments, a `minimum` and a `maximum` number. The function asks the user for input with the `input` function and returns a number between `minimum` and `maximum`. If the user types an invalid number the function keeps asking for a valid one. \n",
        "\n",
        "- Function: `number_between`\n",
        "  - Argumets:\n",
        "    - `minimum`: (int) The minimum number (inclusive)\n",
        "    - `maximum`: (int) The maximum number (inclusive)\n",
        "  - Returns: (int) an integer between `minimum` and `maximum`\n",
        "  "
      ]
    },
    {
      "cell_type": "code",
      "metadata": {
        "id": "u7hVg46y_Wd1"
      },
      "source": [],
      "execution_count": null,
      "outputs": []
    },
    {
      "cell_type": "markdown",
      "metadata": {
        "id": "iiJcJaWD_yYK"
      },
      "source": [
        "\n",
        "\n",
        "---\n",
        "\n"
      ]
    },
    {
      "cell_type": "markdown",
      "metadata": {
        "id": "AdfqK-jQ_zey"
      },
      "source": [
        "# **Conditionals**"
      ]
    },
    {
      "cell_type": "markdown",
      "metadata": {
        "id": "Xeqd5iF1BDRp"
      },
      "source": [
        "**Logic and Decisions**\n",
        "\n",
        "Conditional logic and evaluation of Boolean expressions are how programs make decisions and how you can write programs that respond to input in by running some statements and not others.\n",
        "\n",
        "## Making Decisions with `if`\n",
        "\n",
        "What if you wanted your code to do different things based on user input? For example, suppose you want to play a game that prints different things based on a choice. The `if` statement allows you to conditionally run Python statements. **bold text**\n",
        "\n",
        "The `if` statement conditionally runs instructions inside the body of the if statement. The code is only run if the condition evaluates to `True`. In other words, the `print` function in the picture may or may not run depending on the value of `number`. \n",
        "\n",
        "Here's a practical example of a guessing game:\n",
        "\n",
        "```python\n",
        "number = int(input(\"Pick a number between 1 and 100: \"))\n",
        "if number == 34: \n",
        "    print(\"That's right!\")\n",
        "print(\"Game Over\")\n",
        "```\n",
        "\n",
        "Enter the example code and make sure the indentation matches perfectly!"
      ]
    },
    {
      "cell_type": "code",
      "metadata": {
        "id": "WKYHoSgYBDRs"
      },
      "source": [],
      "execution_count": null,
      "outputs": []
    },
    {
      "cell_type": "markdown",
      "metadata": {
        "id": "JeEfYKCVBDRs"
      },
      "source": [
        "**Notice that you only see \"That's right!\" when you guess 34.** Try using the debugger and watch execution \"hop over\" the first `print` statement. \n",
        "\n",
        "The *condition* in the if statement is `number == 34`. When the condition is `True` the statements in the body of the `if` are executed, when the condition is `False` the statements are skipped. You can have as many statements as you like inside an `if` statement, even other `if` statements.\n",
        "\n",
        "### The `if` Condition \n",
        "\n",
        "The statement that follows the `if` keyword will be evaluated to `True` or `False`. While you're coding remember that the statement you write must be asking a question of some form. In the example above the code is asking \"if `number` is equal to `34`?\" There are many forms a question can take but they all have one thing in common: They will result in a `True` or `False` value. Here's a few examples of questions:\n",
        "\n",
        "> If `number` is less than or equal to `34`\n",
        "\n",
        "```python\n",
        "if number <= 34:\n",
        "```\n",
        "\n",
        "> If `number` modulus `2` is equal to `0` (in other words if `number` is even)?\n",
        "```python\n",
        "if (number % 2) == 0:\n",
        "```\n",
        "\n",
        "> If `course` is equal to the string `\"Python Programming for Everyone\"`\n",
        "```python\n",
        "if course == \"Python Programming for Everyone\":\n",
        "```\n",
        "\n",
        "> If `course` has the word `Python` anywhere in it\n",
        "```python\n",
        "if \"Python\" in course:\n",
        "```\n",
        "\n",
        "While your working on a program rembmer that you can print the conditional statement that you put in the `if` to see if what you get is `True` or `False`. For example:\n",
        "\n",
        "```python\n",
        "print(number <= 34)\n",
        "```\n",
        "\n",
        "If what you get is not a boolean it probably means you've made a mistake somewhere. \n",
        "\n",
        "### Nesting `if` Statements \n",
        "\n",
        "A question I get a lot is, \"Can I put this inside of an `if` statment?\" The answer is **YES!** Absolutely any legal Python statement can go inside of an `if` statement. That's a lot of power. At first it might be a bit confusing. Here's an example of the guessing game that gives you a hint:\n",
        "\n",
        "```python\n",
        "number = int(input(\"Pick a number between 1 and 100: \"))\n",
        "if number != 34:\n",
        "    if number < 34:\n",
        "        print(\"Too low!\")\n",
        "    if number > 34:\n",
        "        print(\"Too high!\")\n",
        "if number == 34:\n",
        "    print(\"That's right!\")\n",
        "print(\"Game Over\")\n",
        "```\n",
        "\n",
        "Take a minute to type that version of the game into the next cell:\n"
      ]
    },
    {
      "cell_type": "code",
      "metadata": {
        "id": "p4aFyQFhBDRt"
      },
      "source": [],
      "execution_count": null,
      "outputs": []
    },
    {
      "cell_type": "markdown",
      "metadata": {
        "id": "LyXBT43MBDRt"
      },
      "source": [
        "**Try different values and use the debugger.** "
      ]
    },
    {
      "cell_type": "markdown",
      "source": [
        "---"
      ],
      "metadata": {
        "id": "im5JUCGlnyjH"
      }
    },
    {
      "cell_type": "markdown",
      "metadata": {
        "id": "TpWZj09mBDRt"
      },
      "source": [
        "## `if` and `else` \n",
        "\n",
        "The `else` statement lets you run code when something is *not* true. An `else` can only be used in combination with an `if`. Together they let you run one alternative no matter what the condition is. \n",
        "\n",
        "When you have and if/else one of the alternatives will **always** be run depending on the condition.  \n",
        "\n",
        "Here's an example of the guessing game using an `else`:\n",
        "\n",
        "```python\n",
        "number = int(input(\"Pick a number between 1 and 100: \"))\n",
        "if number == 34:\n",
        "    print(\"That's right!\")\n",
        "else:\n",
        "    print(\"Guess again.\")\n",
        "```\n",
        "\n",
        "Notice that no condition follows the `else`. Whatever is in the `else` body is only run when the `if` condition is `False` and so it doesn't need any more information. Enter the example in the next cell:"
      ]
    },
    {
      "cell_type": "code",
      "metadata": {
        "id": "G53qlAyyBDRu"
      },
      "source": [],
      "execution_count": null,
      "outputs": []
    },
    {
      "cell_type": "markdown",
      "metadata": {
        "id": "vzC6iNwTBDRv"
      },
      "source": [
        "Here's the game again that gives a hint:\n",
        "\n",
        "```python\n",
        "number = int(input(\"Pick a number between 1 and 100: \"))\n",
        "if number == 34:\n",
        "    print(\"That's right!\")\n",
        "else:\n",
        "    if number < 34:\n",
        "        print(\"Too low!\")\n",
        "    else:\n",
        "        print(\"Too high!\")\n",
        "```\n",
        "\n",
        "Enter the code into the next cell:"
      ]
    },
    {
      "cell_type": "code",
      "metadata": {
        "id": "pDl2wlVaBDRv"
      },
      "source": [],
      "execution_count": null,
      "outputs": []
    },
    {
      "cell_type": "markdown",
      "metadata": {
        "id": "xnYYctJyBDRv"
      },
      "source": [
        "**Notice that you don't need to test for `number > 34`. Why?**"
      ]
    },
    {
      "cell_type": "markdown",
      "source": [
        "---"
      ],
      "metadata": {
        "id": "wAIKKQ-6nwwb"
      }
    },
    {
      "cell_type": "markdown",
      "metadata": {
        "id": "qLqhjGVrBDRw"
      },
      "source": [
        "## Asking Multiple Questions with `elif` \n",
        "\n",
        "In our guessing game there are really three conditions that we care about: \n",
        "\n",
        "1. The guess is correct \n",
        "1. The guess is too low \n",
        "1. The guess is too high\n",
        "\n",
        "Using `if` and `else` we've been able to simplify the code a bit but there's more we can do. When a program has to respond to a question with more than two alternatives the `elif` statement allows us to ask another question. The `elif` is short for \"else if\" and must follow an initial `if` statement and will only be run if the initial condition is `False`. Here's the best version of the guessing game so far: \n",
        "\n",
        "```python\n",
        "number = int(input(\"Pick a number between 1 and 100: \"))\n",
        "if number == 34:\n",
        "    print(\"That's right!\")\n",
        "elif number < 34:\n",
        "    print(\"Too low!\")\n",
        "else:\n",
        "    print(\"Too high!\")\n",
        "```\n",
        "\n",
        "Here are the rules to remember when you construct `if`, `elif`, and `else` statements:\n",
        "\n",
        "1. They must start with `if`\n",
        "1. `elif` is optional and you can have as many as you like. \n",
        "1. `else` is optional and must be at the end. \n",
        "1. In an `if`, `elif`, `else` structure **only one** alternative will execute. \n",
        "\n",
        "Let's finish off the game program by testing if the user entered a number between 1 and 100 like we asked:\n",
        "\n",
        "```python\n",
        "number = int(input(\"Pick a number between 1 and 100: \"))\n",
        "if number == 34:\n",
        "    print(\"That's right!\")\n",
        "elif number < 1 or number > 100:\n",
        "    print(\"Bad guess.\")\n",
        "elif number < 34:\n",
        "    print(\"Too low!\")\n",
        "else:\n",
        "    print(\"Too high!\")\n",
        "```\n",
        "\n",
        "Enter the example into the next cell. "
      ]
    },
    {
      "cell_type": "code",
      "metadata": {
        "id": "56zMbMIhBDRw"
      },
      "source": [],
      "execution_count": null,
      "outputs": []
    },
    {
      "cell_type": "markdown",
      "metadata": {
        "id": "2REh4tL5BDRw"
      },
      "source": [
        "**Order matters!** Try reversing the two `elif` conditions in your code. What happens? "
      ]
    },
    {
      "cell_type": "markdown",
      "source": [
        "---"
      ],
      "metadata": {
        "id": "7QH53jq4nu8i"
      }
    },
    {
      "cell_type": "markdown",
      "metadata": {
        "id": "ZSzyGgAQBDRw"
      },
      "source": [
        "## Logic \n",
        "\n",
        "Computers are machines that are built on their ability to perform logic. Logic functions are the basis of all mathematical computations and is built on three fundamental operations:\n",
        "\n",
        "* `and` \n",
        "* `or` \n",
        "* `not`\n",
        "\n",
        "Logic operations use `True` and `False` as input, rather than numbers. Logic operations are defined by *truth tables*. Truth tables show the output of a logic operation given all combinations of input. The next sections will define the three fundamental logic operations. "
      ]
    },
    {
      "cell_type": "markdown",
      "metadata": {
        "id": "5ZcM-3QtBDRx"
      },
      "source": [
        "### The `and` Operator\n",
        "\n",
        "The `and` operator returns `True` when both inputs are `True`, otherwise it returns `False`. The truth table for `and` is:\n",
        "\n",
        "| Input A | Input B | Output |\n",
        "| - | - | - |\n",
        "| `False` | `False` | `False` | \n",
        "| `False` | `True` | `False` | \n",
        "| `True` | `False` | `False` | \n",
        "| `True` | `True` | `True` | \n",
        "\n",
        "Use the cell below to test out the `and` operator:\n",
        "\n",
        "```python\n",
        "False and False\n",
        "```"
      ]
    },
    {
      "cell_type": "code",
      "metadata": {
        "id": "m5d-zoJGBDRx"
      },
      "source": [],
      "execution_count": null,
      "outputs": []
    },
    {
      "cell_type": "markdown",
      "metadata": {
        "id": "bg9cj4ssBDRx"
      },
      "source": [
        "### The `or` Operator\n",
        "\n",
        "The `or` operator returns `True` if either input is `True` and `False` when both inputs are `False`. The truth table for `or` is:\n",
        "\n",
        "| Input A | Input B | Output |\n",
        "| - | - | - |\n",
        "| `False` | `False` | `False` | \n",
        "| `False` | `True` | `True` | \n",
        "| `True` | `False` | `True` | \n",
        "| `True` | `True` | `True` | \n",
        "\n",
        "Use the cell below to test out the `or` operator:\n",
        "\n",
        "```python\n",
        "False or False\n",
        "```"
      ]
    },
    {
      "cell_type": "code",
      "metadata": {
        "id": "XpFXG0g-BDRx"
      },
      "source": [],
      "execution_count": null,
      "outputs": []
    },
    {
      "cell_type": "markdown",
      "metadata": {
        "id": "K5tctj66BDRx"
      },
      "source": [
        "### The `not` Operator \n",
        "\n",
        "The `not` operator returns the opposite of its input. Unlike `and` and `or`, `not` only takes a single argument. The truth table for `not` is:\n",
        "\n",
        "| Input | Output |\n",
        "| - | - |\n",
        "| `False` | `True` | \n",
        "| `True` | `False` | \n",
        "\n",
        "Use the cell below to test the `not` operator:\n",
        "\n",
        "```python\n",
        "not True\n",
        "```"
      ]
    },
    {
      "cell_type": "code",
      "metadata": {
        "id": "Y4ALThcOBDRy"
      },
      "source": [],
      "execution_count": null,
      "outputs": []
    },
    {
      "cell_type": "markdown",
      "source": [
        "---"
      ],
      "metadata": {
        "id": "XkoH4405ns6m"
      }
    },
    {
      "cell_type": "markdown",
      "metadata": {
        "id": "hfDPHCmsBDRy"
      },
      "source": [
        "### Using Logic \n",
        "\n",
        "Conditional logic operators return `True` or `False` when evaluated in a Boolean expression. Those operations are:\n",
        "  * `==` Equals \n",
        "  * `<` Less than \n",
        "  * `<=` Less than or equal to \n",
        "  * `>` Greater than \n",
        "  * `>=` Greater than or equal to \n",
        "  * `!=` Not equal to \n",
        "\n",
        "The logical operators make it possible to combine operations to make compound questions. For example:\n",
        "\n",
        "```python\n",
        "order = input(\"Would you like soup or salad?\")\n",
        "if order == 'soup' or order == 'salad':\n",
        "    print(\"Okay!\")\n",
        "else:\n",
        "    print(\"Huh?\")\n",
        "```\n",
        "\n",
        "Enter this program that takes your order:"
      ]
    },
    {
      "cell_type": "code",
      "metadata": {
        "id": "Yg5H8EHJBDRy"
      },
      "source": [],
      "execution_count": null,
      "outputs": []
    },
    {
      "cell_type": "markdown",
      "metadata": {
        "id": "ETcxyqbgBDRy"
      },
      "source": [
        "**Do you follow the logic?**"
      ]
    },
    {
      "cell_type": "markdown",
      "metadata": {
        "id": "H_bmCphQFKOa"
      },
      "source": [
        "\n",
        "\n",
        "---\n",
        "\n"
      ]
    },
    {
      "cell_type": "markdown",
      "metadata": {
        "id": "euIt8uhSm8w6"
      },
      "source": [
        "# **Dictionaries**"
      ]
    },
    {
      "cell_type": "markdown",
      "metadata": {
        "id": "Iq18tEa_ncZd"
      },
      "source": [
        "Dictionaries are the best! Their syntax is similar to a list and, like a list, a dictionary holds any number of values. Dictionaries are different, however, because instead of holding values at index locations dictionaries use *keys*. Imagine you wanted to store a collection of  scientific names of animals. You would like to retrieve the scientific name of an animal using it's common name. In other words, if you type \"Lion\" into your search tool it gives you \"Panthera Leo\" as a result. \n",
        "\n",
        "In the drawing the common name of an animal is the *key* and the scientific name is the *value*. In this lecture you'll learn how to create change and use dictionaries. \n",
        "\n",
        "## Create a Dictionary \n",
        "\n",
        "Dictionaries are declared with key/value pairs separated by colons. Here's an example:\n",
        "\n",
        "```python\n",
        "animals = { 'Lion': 'Panthera Leo', \n",
        "           'Tiger': 'Panthera Tigris', \n",
        "           'Bear': 'Ursus Arctos',\n",
        "          }\n",
        "```\n",
        "\n",
        "In the example above I separated the animals onto different lines to make it more readable. It's just as valid to do it all on one line like this: \n",
        "\n",
        "```python\n",
        "animals = {'Lion': 'Panthera Leo', 'Tiger': 'Panthera Tigris', 'Bear': 'Ursus Arctos',}\n",
        "```\n",
        "\n",
        "Pick your favorite example and type it into the next cell:"
      ]
    },
    {
      "cell_type": "code",
      "metadata": {
        "id": "em1V5uZ1ncZf"
      },
      "source": [],
      "execution_count": null,
      "outputs": []
    },
    {
      "cell_type": "markdown",
      "metadata": {
        "id": "zdQe38CcncZg"
      },
      "source": [
        "Just like a list, a dictionary can be empty. Here's how you create an empty dictionary:\n",
        "\n",
        "```python\n",
        "animals = {} \n",
        "```\n",
        "\n",
        "Dictionaries are their own type in Python. Here's how you use the `type` function to discover what type a dictionary is: \n",
        "\n",
        "```python\n",
        "print(type(animals))\n",
        "```\n",
        "\n",
        "Try it:"
      ]
    },
    {
      "cell_type": "code",
      "metadata": {
        "id": "HktgFvlencZg"
      },
      "source": [],
      "execution_count": null,
      "outputs": []
    },
    {
      "cell_type": "markdown",
      "source": [
        "---"
      ],
      "metadata": {
        "id": "tl_Jf0utnp6O"
      }
    },
    {
      "cell_type": "markdown",
      "metadata": {
        "id": "LcsBPDMvncZg"
      },
      "source": [
        "## Access, Add and Remove Dictionary Elements \n",
        "\n",
        "Dictionaries are accessed just like lists but with keys between the `[` and `]` brackets. For example:\n",
        "\n",
        "```python\n",
        "print(animals['Lion'])\n",
        "print(animals['Tiger'])\n",
        "print(animals['Bear'])\n",
        "```\n",
        "\n",
        "Use the `print` function to access one of the animals in the `animals` dictionary:"
      ]
    },
    {
      "cell_type": "code",
      "metadata": {
        "id": "rG9ijQwxncZh"
      },
      "source": [],
      "execution_count": null,
      "outputs": []
    },
    {
      "cell_type": "markdown",
      "metadata": {
        "id": "0kE4j0BancZh"
      },
      "source": [
        "Dictionary elements are created at any time. For example, we here's how you create an element to hold the scientific name of the common house cat: \n",
        "\n",
        "```python\n",
        "animals['Cat'] = 'Felis Silvestris Silvesteris'\n",
        "```\n",
        "\n",
        "Dictionary elements are reassigned when they appear on the left of the equal sign:\n",
        "\n",
        "```python\n",
        "animals['Bear'] = 'Ursus Arctos Horribilis' # Grizzly Bear\n",
        "```"
      ]
    },
    {
      "cell_type": "markdown",
      "metadata": {
        "id": "DKT54eWgncZh"
      },
      "source": [
        "Dictionary elements can be deleted with the `del` operator, just like with a list.\n",
        "\n",
        "```python\n",
        "del animals['Lion']\n",
        "```\n",
        "\n",
        "The `clear` function remove all of the elements of a dictionary: \n",
        "\n",
        "```python\n",
        "animals.clear()\n",
        "```\n",
        "\n",
        "Practice adding, changing and removing items from the `animals` dictionary:"
      ]
    },
    {
      "cell_type": "code",
      "metadata": {
        "id": "R_K3RqtEncZi"
      },
      "source": [],
      "execution_count": null,
      "outputs": []
    },
    {
      "cell_type": "markdown",
      "source": [
        "---"
      ],
      "metadata": {
        "id": "WRpboASNnoKT"
      }
    },
    {
      "cell_type": "markdown",
      "metadata": {
        "id": "k65T6AXuncZi"
      },
      "source": [
        "## Dictionary Length\n",
        "\n",
        "Just like with lists the `len` operator tells you how many *key/value pairs* are in a dictionary.\n",
        "\n",
        "```python\n",
        "animals = { 'Lion': 'Panthera Leo', 'Tiger': 'Panthera Tigris', 'Bear': 'Ursus Arctos'}\n",
        "print(len(animals))\n",
        "```\n",
        "\n",
        "Enter the example code into the next cell:"
      ]
    },
    {
      "cell_type": "code",
      "metadata": {
        "id": "hqExpQ9NncZj"
      },
      "source": [],
      "execution_count": null,
      "outputs": []
    },
    {
      "cell_type": "markdown",
      "metadata": {
        "id": "E94GK5-1ncZj"
      },
      "source": [
        "**Can you guess what the length is?**"
      ]
    },
    {
      "cell_type": "markdown",
      "source": [
        "---"
      ],
      "metadata": {
        "id": "sEOFnfp-nk3i"
      }
    },
    {
      "cell_type": "markdown",
      "metadata": {
        "id": "VPk5N4_vncZj"
      },
      "source": [
        "## Searching for Keys with `in`\n",
        "\n",
        "The `in` operator works on dictionaries. It looks through the keys for one that matches. For example you can check to see if your `animals` dictionary contains an entry for 'Lion':\n",
        "\n",
        "```python\n",
        "if 'Lion' in animals:\n",
        "    print ('There are Lions here!')\n",
        "```\n",
        "\n",
        "You can reverse the match with `not`. For example:\n",
        "\n",
        "```python\n",
        "if 'Lemur' not in animals: \n",
        "    print ('No Lemurs')\n",
        "```\n",
        "\n",
        "Type in one example from above:"
      ]
    },
    {
      "cell_type": "code",
      "metadata": {
        "id": "9OzSDFYdncZj"
      },
      "source": [],
      "execution_count": null,
      "outputs": []
    },
    {
      "cell_type": "markdown",
      "metadata": {
        "id": "rTI0y052ncZk"
      },
      "source": [
        "**Did it do what you expect?**"
      ]
    },
    {
      "cell_type": "markdown",
      "source": [
        "---"
      ],
      "metadata": {
        "id": "S-2wXqLFnjhH"
      }
    },
    {
      "cell_type": "markdown",
      "metadata": {
        "id": "Yht8qLocncZk"
      },
      "source": [
        "## Iterating Through Dictionaries with `for`\n",
        "\n",
        "A dictionary can be three related sequences when used with a `for` loop:\n",
        "\n",
        "1. A sequence of *values*\n",
        "1. A sequence of *keys*\n",
        "1. A sequence of *key/value pairs* \n",
        "\n",
        "You should know how to construct a for loop for each of the sequences that a dictionary provides. The simplest (and most useful) form is a sequence of keys. Here's an example: \n",
        "\n",
        "```python\n",
        "for key in animals: \n",
        "    print (\"Common name:\", key)\n",
        "```\n",
        "\n",
        "The nice thing about iterating over keys is that you have easy access to the value as well. Let's update the previous example to print both key and value for each animal:\n",
        "\n",
        "```python\n",
        "for key in animals: \n",
        "    print (\"Common name:\", key, \"Scientific name:\", animals[key])\n",
        "```\n",
        "\n",
        "Try the updated exmple in the next cell:"
      ]
    },
    {
      "cell_type": "code",
      "metadata": {
        "id": "Fy5OekMEncZk"
      },
      "source": [],
      "execution_count": null,
      "outputs": []
    },
    {
      "cell_type": "markdown",
      "metadata": {
        "id": "lP4Hr2AVncZk"
      },
      "source": [
        "If you don't care about keys you can iterate over a colletion of values:\n",
        "\n",
        "```python\n",
        "for value in animals.values():\n",
        "    print(\"Scientific name:\", value)\n",
        "```\n",
        "\n",
        "Try that in the next cell:"
      ]
    },
    {
      "cell_type": "code",
      "metadata": {
        "id": "rJ4kIdyfncZl"
      },
      "source": [],
      "execution_count": null,
      "outputs": []
    },
    {
      "cell_type": "markdown",
      "metadata": {
        "id": "4PlDhguRncZl"
      },
      "source": [
        "**What if you wanted keys?** It's not easy to get a key from a value, so the `for` loop in the previous example doesn't have a good way to print the common name. That's a bit of a limitation. The final form iterates over key value pairs:\n",
        "\n",
        "```python\n",
        "for key, value in animals.items():\n",
        "    print (\"Common name:\", key, \"Scientific name:\", value)\n",
        "```\n",
        "\n",
        "Notice how there are **two** loop variables separated by commas! A sequence can produce pairs of itms (like the `items` function). When they do you need two variables. Type in the example into the next cell:"
      ]
    },
    {
      "cell_type": "code",
      "metadata": {
        "id": "xAX-BQLxncZl"
      },
      "source": [],
      "execution_count": null,
      "outputs": []
    },
    {
      "cell_type": "markdown",
      "metadata": {
        "id": "pfdiD_LVncZl"
      },
      "source": [
        "Try to memorize the three `for` loops that iterate over a `dictionary`. Start with the first one, it's the most used."
      ]
    },
    {
      "cell_type": "markdown",
      "source": [
        "---"
      ],
      "metadata": {
        "id": "tI5k3dl1nhnU"
      }
    },
    {
      "cell_type": "markdown",
      "metadata": {
        "id": "6nh1z2nqncZl"
      },
      "source": [
        "## Key Errors \n",
        "\n",
        "If you access a key that doesn't exist you get a `KeyError` exception. \n",
        "\n",
        "```python\n",
        "print (animals['Sloth'])\n",
        "```\n",
        "\n",
        "Try the example to see the error:"
      ]
    },
    {
      "cell_type": "code",
      "metadata": {
        "id": "mbY-vfGdncZl"
      },
      "source": [],
      "execution_count": null,
      "outputs": []
    },
    {
      "cell_type": "markdown",
      "metadata": {
        "id": "iKo8kjDvncZm"
      },
      "source": [
        "An exception halts your program unless you handle it. To avoid a crash it's common to check that a key exists before using it to guard against an exception. For example:\n",
        "\n",
        "```python\n",
        "if 'Sloth' in animals:\n",
        "    print ('Sloths are:', animals['Sloth'])\n",
        "else:\n",
        "    print (\"I don't know about Sloths\")\n",
        "```"
      ]
    },
    {
      "cell_type": "markdown",
      "metadata": {
        "id": "ZoO2uOdBncZm"
      },
      "source": [
        "Dictionaries provide the `get()` function that will never cause an exception. \n",
        "\n",
        "```python\n",
        "print(animals.get('Sloth'))\n",
        "```\n",
        "\n",
        "The `get` function returns `None` if the key doesn't exist in the dictionary. Try using `get` in the next cell:"
      ]
    },
    {
      "cell_type": "code",
      "metadata": {
        "id": "1Gyq8XiXncZm"
      },
      "source": [],
      "execution_count": null,
      "outputs": []
    },
    {
      "cell_type": "markdown",
      "metadata": {
        "id": "j22zNV8JnAXb"
      },
      "source": [
        "\n",
        "\n",
        "---\n",
        "\n"
      ]
    },
    {
      "cell_type": "markdown",
      "metadata": {
        "id": "waJAACcPoSx-"
      },
      "source": [
        "**DO NOT WORRY ABOUT REVIEWING THE MATERIAL ON SETS -- IT IS NOT IN THE MIDTERM**    \n",
        "\n",
        "# **Sets**"
      ]
    },
    {
      "cell_type": "markdown",
      "metadata": {
        "id": "U38lYiXXqC1V"
      },
      "source": [
        "## What is Set in Python?\n",
        "\n",
        "A set is an unordered collection of items. Every set element is unique (no duplicates) and must be immutable (cannot be changed).\n",
        "\n",
        "However, a set itself is mutable. We can add or remove items from it.\n",
        "\n",
        "Sets can also be used to perform mathematical set operations like union, intersection, symmetric difference, etc."
      ]
    },
    {
      "cell_type": "markdown",
      "metadata": {
        "heading_collapsed": true,
        "id": "szOtJoBHqC1W"
      },
      "source": [
        "## How Are Sets Better Than Other DataTypes?\n",
        "\n",
        "Sets will not contain multiple occurrences of the same element, they are very useful in removing duplicate elements from a list or a tuple. Also, they are useful in computing mathematical notations such as union, intersection, etc.\n"
      ]
    },
    {
      "cell_type": "markdown",
      "metadata": {
        "id": "mx_pX5Z_qC1W"
      },
      "source": [
        "## Creating Python Sets\n",
        "\n",
        "A set is created by placing all the items (elements) inside curly braces **`{}`**, separated by comma, or by using the built-in **`set()`** function.\n",
        "\n",
        "It can have any number of items and they may be of different types (integer, float, tuple, string etc.). But a set cannot have mutable elements like **[lists](https://github.com/milaan9/02_Python_Datatypes/blob/main/003_Python_List.ipynb)**, sets or **[dictionaries](https://github.com/milaan9/02_Python_Datatypes/blob/main/005_Python_Dictionary.ipynb)** as its elements."
      ]
    },
    {
      "cell_type": "code",
      "metadata": {
        "ExecuteTime": {
          "end_time": "2021-10-03T14:22:15.713135Z",
          "start_time": "2021-10-03T14:22:15.702393Z"
        },
        "id": "hLYzMsxCqC1W"
      },
      "source": [
        "# Example 1: Different types of sets in Python\n",
        "\n",
        "# set of integers\n",
        "my_set = {1, 2, 3}\n",
        "print(my_set)\n",
        "\n",
        "# set of mixed datatypes\n",
        "my_set = {1.0, \"Hello\", (1, 2, 3)}\n",
        "print(my_set)"
      ],
      "execution_count": null,
      "outputs": []
    },
    {
      "cell_type": "code",
      "metadata": {
        "ExecuteTime": {
          "end_time": "2021-10-03T14:22:16.310326Z",
          "start_time": "2021-10-03T14:22:15.727787Z"
        },
        "scrolled": false,
        "id": "VPA7MoW8qC1Y"
      },
      "source": [
        "# Example 2: Different types of sets in Python\n",
        "\n",
        "# set cannot have duplicates\n",
        "my_set = {1, 2, 3, 4, 3, 2}\n",
        "print(my_set)             # Output: {1, 2, 3, 4}\n",
        "\n",
        "# we can make set from a list\n",
        "my_set = set([1, 2, 3, 2])\n",
        "print(my_set)             # Output: {1, 2, 3}\n",
        "\n",
        "# set cannot have mutable items\n",
        "# here [3, 4] is a mutable list\n",
        "\n",
        "my_set = {1, 2, [3, 4]}   # this will cause an error."
      ],
      "execution_count": null,
      "outputs": []
    },
    {
      "cell_type": "markdown",
      "metadata": {
        "id": "CMXpztcaqC1Z"
      },
      "source": [
        "#### Creating an empty set is a bit tricky.\n",
        "\n",
        "Empty curly braces **`{}`** will make an empty dictionary in Python. To make a set without any elements, we use the **`set()`** function without any argument."
      ]
    },
    {
      "cell_type": "code",
      "metadata": {
        "ExecuteTime": {
          "end_time": "2021-10-03T14:22:27.149150Z",
          "start_time": "2021-10-03T14:22:27.142314Z"
        },
        "id": "nINYrwFSqC1Z"
      },
      "source": [
        "# Example: Distinguish set and dictionary while creating empty set\n",
        "\n",
        "# initialize a with {}\n",
        "a = {}\n",
        "\n",
        "# check data type of a\n",
        "print(type(a))\n",
        "\n",
        "# initialize a with set()\n",
        "a = set()\n",
        "\n",
        "# check data type of a\n",
        "print(type(a))"
      ],
      "execution_count": null,
      "outputs": []
    },
    {
      "cell_type": "markdown",
      "metadata": {
        "id": "wkuXROn0qC1a"
      },
      "source": [
        "## Modifying a set in Python\n",
        "\n",
        "Sets are mutable. However, since they are unordered, indexing has no meaning.\n",
        "\n",
        "We cannot access or change an element of a set using indexing or slicing. Set data type does not support it.\n",
        "\n",
        "We can add a single element using the **`add()`** method, and multiple elements using the **`update()`** method. The **`update()`** method can take **[tuples](https://github.com/milaan9/02_Python_Datatypes/blob/main/004_Python_Tuple.ipynb)**, lists, **[strings](https://github.com/milaan9/02_Python_Datatypes/blob/main/002_Python_String.ipynb)** or other sets as its argument. In all cases, duplicates are avoided."
      ]
    },
    {
      "cell_type": "code",
      "metadata": {
        "ExecuteTime": {
          "end_time": "2021-10-03T14:22:27.982190Z",
          "start_time": "2021-10-03T14:22:27.971452Z"
        },
        "scrolled": true,
        "id": "aBSURkK6qC1a"
      },
      "source": [
        "# Example: \n",
        "\n",
        "# initialize my_set\n",
        "my_set = {1, 3}\n",
        "print(my_set)\n",
        "\n",
        "# my_set[0]\n",
        "# if you uncomment above line, you will get an error\n",
        "# TypeError: 'set' object does not support indexing\n",
        "\n",
        "# add an element\n",
        "my_set.add(2)\n",
        "print(my_set)     # Output: {1, 2, 3}\n",
        "\n",
        "# add multiple elements\n",
        "my_set.update([2, 3, 4])\n",
        "print(my_set)    # Output: {1, 2, 3, 4}\n",
        "\n",
        "# add list and set\n",
        "my_set.update([4, 5], {1, 6, 8})\n",
        "print(my_set)   # Output: {1, 2, 3, 4, 5, 6, 8}"
      ],
      "execution_count": null,
      "outputs": []
    },
    {
      "cell_type": "markdown",
      "metadata": {
        "id": "SJrxZNBlqC1b"
      },
      "source": [
        "## Removing elements from a set\n",
        "\n",
        "A particular item can be removed from a set using the methods **`discard()`** and **`remove()`**.\n",
        "\n",
        "The only difference between the two is that the **`discard()`** function leaves a set unchanged if the element is not present in the set. On the other hand, the **`remove()`** function will raise an error in such a condition (if element is not present in the set).\n",
        "\n",
        "The following example will illustrate this."
      ]
    },
    {
      "cell_type": "code",
      "metadata": {
        "ExecuteTime": {
          "end_time": "2021-10-03T14:22:28.800585Z",
          "start_time": "2021-10-03T14:22:28.731249Z"
        },
        "id": "xDsgMdJ3qC1b"
      },
      "source": [
        "# Example: Difference between discard() and remove()\n",
        "\n",
        "# initialize my_set\n",
        "my_set = {1, 3, 4, 5, 6}\n",
        "print(my_set)\n",
        "\n",
        "# discard an element\n",
        "my_set.discard(4)\n",
        "print(my_set)     # Output: {1, 3, 5, 6}\n",
        "\n",
        "# remove an element\n",
        "my_set.remove(6)\n",
        "print(my_set)     # Output: {1, 3, 5}\n",
        "\n",
        "# discard an element not present in my_set\n",
        "my_set.discard(2)\n",
        "print(my_set)     # Output: {1, 3, 5}\n",
        "\n",
        "# remove an element not present in my_set you will get an error.\n",
        "my_set.remove(2)  # Output: KeyError"
      ],
      "execution_count": null,
      "outputs": []
    },
    {
      "cell_type": "markdown",
      "metadata": {
        "id": "CASXU7BoqC1b"
      },
      "source": [
        "Similarly, we can remove and return an item using the **`pop()`** method.\n",
        "\n",
        "Since set is an unordered data type, there is no way of determining which item will be popped. It is completely arbitrary.\n",
        "\n",
        "We can also remove all the items from a set using the **`clear()`** method."
      ]
    },
    {
      "cell_type": "code",
      "metadata": {
        "ExecuteTime": {
          "end_time": "2021-10-03T14:22:29.430491Z",
          "start_time": "2021-10-03T14:22:29.419752Z"
        },
        "id": "94dCVDODqC1c"
      },
      "source": [
        "# Example:\n",
        "\n",
        "# initialize my_set\n",
        "my_set = set(\"HelloWorld\")\n",
        "print(my_set)        # Output: set of unique elements\n",
        "\n",
        "# pop an element\n",
        "print(my_set.pop())  # Output: random element\n",
        "\n",
        "# pop another element\n",
        "my_set.pop()\n",
        "print(my_set)\n",
        "\n",
        "# clear my_set\n",
        "my_set.clear()\n",
        "print(my_set)        # Output: set()\n",
        "\n",
        "print(my_set)"
      ],
      "execution_count": null,
      "outputs": []
    },
    {
      "cell_type": "markdown",
      "metadata": {
        "id": "iJ2B4o7xqC1c"
      },
      "source": [
        "## Python Set Operations\n",
        "\n",
        "Sets can be used to carry out mathematical set operations like union, intersection, difference and symmetric difference. We can do this with operators or methods.\n",
        "\n",
        "Let us consider the following two sets for the following operations.\n",
        "\n",
        "```python\n",
        ">>> A = {1, 2, 3, 4, 5}\n",
        ">>> B = {4, 5, 6, 7, 8}\n",
        "```"
      ]
    },
    {
      "cell_type": "markdown",
      "metadata": {
        "id": "JAS-HtBnqC1c"
      },
      "source": [
        "### Set Union\n",
        "\n",
        "Union of **`A`** and **`B`** is a set of all elements from both sets.\n",
        "\n",
        "Union is performed using **`|`** operator. Same can be accomplished using the **`union()`** method."
      ]
    },
    {
      "cell_type": "code",
      "metadata": {
        "ExecuteTime": {
          "end_time": "2021-10-03T14:22:30.141458Z",
          "start_time": "2021-10-03T14:22:30.132671Z"
        },
        "id": "-fLVotWTqC1c",
        "outputId": "0727e14a-5229-4676-df0e-e9042dbd9786"
      },
      "source": [
        "# Example 1:\n",
        "\n",
        "# Set union method\n",
        "# initialize A and B\n",
        "A = {1, 2, 3, 4, 5}\n",
        "B = {4, 5, 6, 7, 8}\n",
        "\n",
        "# use | operator\n",
        "print(A | B)      # Output: {1, 2, 3, 4, 5, 6, 7, 8}"
      ],
      "execution_count": null,
      "outputs": [
        {
          "name": "stdout",
          "output_type": "stream",
          "text": [
            "{1, 2, 3, 4, 5, 6, 7, 8}\n"
          ]
        }
      ]
    },
    {
      "cell_type": "code",
      "metadata": {
        "ExecuteTime": {
          "end_time": "2021-10-03T14:22:30.448112Z",
          "start_time": "2021-10-03T14:22:30.422721Z"
        },
        "id": "RDoIVa08qC1c"
      },
      "source": [
        "# Example 2:\n",
        "\n",
        "# use union function\n",
        "A.union(B)\n",
        "{1, 2, 3, 4, 5, 6, 7, 8}\n",
        "\n",
        "# use union function on B\n",
        "B.union(A)\n",
        "{1, 2, 3, 4, 5, 6, 7, 8}"
      ],
      "execution_count": null,
      "outputs": []
    },
    {
      "cell_type": "markdown",
      "metadata": {
        "id": "S1lGGFGjqC1d"
      },
      "source": [
        "### Set Intersection\n",
        "\n",
        "Intersection of **`A`** and **`B`** is a set of elements that are common in both the sets.\n",
        "\n",
        "Intersection is performed using **`&`** operator. Same can be accomplished using the **`intersection()`** method."
      ]
    },
    {
      "cell_type": "code",
      "metadata": {
        "ExecuteTime": {
          "end_time": "2021-10-03T14:22:30.802129Z",
          "start_time": "2021-10-03T14:22:30.787484Z"
        },
        "id": "OPT5DTfXqC1d"
      },
      "source": [
        "# Example 1:\n",
        "\n",
        "# Intersection of sets\n",
        "# initialize A and B\n",
        "A = {1, 2, 3, 4, 5}\n",
        "B = {4, 5, 6, 7, 8}\n",
        "\n",
        "# use & operator\n",
        "print(A & B)     # Output: {4, 5}"
      ],
      "execution_count": null,
      "outputs": []
    },
    {
      "cell_type": "code",
      "metadata": {
        "ExecuteTime": {
          "end_time": "2021-10-03T14:22:31.048238Z",
          "start_time": "2021-10-03T14:22:31.030656Z"
        },
        "id": "5gOVsjL1qC1d"
      },
      "source": [
        "# Example 2:\n",
        "\n",
        "# use intersection function on A\n",
        "A.intersection(B)\n",
        "{4, 5}\n",
        "\n",
        "# use intersection function on B\n",
        "B.intersection(A)\n",
        "{4, 5}"
      ],
      "execution_count": null,
      "outputs": []
    },
    {
      "cell_type": "markdown",
      "metadata": {
        "id": "1YcGAZw9qC1d"
      },
      "source": [
        "### Set Difference\n",
        "\n",
        "Difference of the set **`B`** from set **`A`**, **`(A - B)`** is a set of elements that are only in A but not in **`B`**. Similarly, **`B - A`** is a set of elements in **`B`** but not in **`A`**.\n",
        "\n",
        "Difference is performed using **`-`** operator. Same can be accomplished using the **`difference()`** method."
      ]
    },
    {
      "cell_type": "code",
      "metadata": {
        "ExecuteTime": {
          "end_time": "2021-10-03T14:22:31.508218Z",
          "start_time": "2021-10-03T14:22:31.491614Z"
        },
        "id": "-7wVnKElqC1e"
      },
      "source": [
        "# Example 1:\n",
        "\n",
        "# Difference of two sets\n",
        "# initialize A and B\n",
        "A = {1, 2, 3, 4, 5}\n",
        "B = {4, 5, 6, 7, 8}\n",
        "\n",
        "# use - operator on A\n",
        "print(A - B)    # Output: {1, 2, 3}"
      ],
      "execution_count": null,
      "outputs": []
    },
    {
      "cell_type": "code",
      "metadata": {
        "ExecuteTime": {
          "end_time": "2021-10-03T14:22:31.755293Z",
          "start_time": "2021-10-03T14:22:31.735763Z"
        },
        "id": "Ejzo4kYeqC1e"
      },
      "source": [
        "# Example 2:\n",
        "\n",
        "# use difference function on A\n",
        "A.difference(B)\n",
        "{1, 2, 3}\n",
        "\n",
        "# use - operator on B\n",
        "B - A\n",
        "{8, 6, 7}\n",
        "\n",
        "# use difference function on B\n",
        "B.difference(A)\n",
        "{8, 6, 7}"
      ],
      "execution_count": null,
      "outputs": []
    },
    {
      "cell_type": "markdown",
      "metadata": {
        "id": "dZ18pnRZqC1e"
      },
      "source": [
        "### Set Symmetric Difference\n",
        "\n",
        "Symmetric Difference of **`A`** and **`B`** is a set of elements in **`A`** and **`B`** but not in both (excluding the intersection).\n",
        "\n",
        "Symmetric difference is performed using **`^`** operator. Same can be accomplished using the method **`symmetric_difference()`**."
      ]
    },
    {
      "cell_type": "code",
      "metadata": {
        "ExecuteTime": {
          "end_time": "2021-10-03T14:22:32.248479Z",
          "start_time": "2021-10-03T14:22:32.227973Z"
        },
        "id": "EpY3mwq6qC1e"
      },
      "source": [
        "# Example 1:\n",
        "\n",
        "# Symmetric difference of two sets\n",
        "# initialize A and B\n",
        "A = {1, 2, 3, 4, 5}\n",
        "B = {4, 5, 6, 7, 8}\n",
        "\n",
        "# use ^ operator\n",
        "print(A ^ B)    # Output: {1, 2, 3, 6, 7, 8}"
      ],
      "execution_count": null,
      "outputs": []
    },
    {
      "cell_type": "code",
      "metadata": {
        "ExecuteTime": {
          "end_time": "2021-10-03T14:22:32.556109Z",
          "start_time": "2021-10-03T14:22:32.533649Z"
        },
        "id": "ckWmlWx-qC1e"
      },
      "source": [
        "# Example 2:\n",
        "\n",
        "# use symmetric_difference function on A\n",
        "A.symmetric_difference(B)\n",
        "{1, 2, 3, 6, 7, 8}\n",
        "\n",
        "# use symmetric_difference function on B\n",
        "B.symmetric_difference(A)\n",
        "{1, 2, 3, 6, 7, 8}"
      ],
      "execution_count": null,
      "outputs": []
    },
    {
      "cell_type": "code",
      "metadata": {
        "id": "i6FvjkWksu2M"
      },
      "source": [],
      "execution_count": null,
      "outputs": []
    },
    {
      "cell_type": "markdown",
      "metadata": {
        "id": "v8-WRWdvs7BW"
      },
      "source": [
        "*Pro-tip: Additional Set Methods*"
      ]
    },
    {
      "cell_type": "markdown",
      "metadata": {
        "id": "Vu0QnT80qC1e"
      },
      "source": [
        "## Built-in Functions with Set\n",
        "\n",
        "Built-in functions like **`all()`**, **`any()`**, **`enumerate()`**, **`len()`**, **`max()`**, **`min()`**, **`sorted()`**, **`sum()`**, etc. are commonly used with sets to perform different tasks.\n",
        "\n",
        "| Function | Description | \n",
        "|:---- |:---- |\n",
        "| ****[all()](https://github.com/milaan9/04_Python_Functions/blob/main/002_Python_Functions_Built_in/003_Python_all%28%29.ipynb)**** | Returns **`True`** if all elements of the set are true (or if the set is empty). |\n",
        "| **[any()](https://github.com/milaan9/04_Python_Functions/blob/main/002_Python_Functions_Built_in/002_Python_any%28%29.ipynb)** | Returns **`True`** if any element of the set is true. If the set is empty, returns **`False`**. |\n",
        "| **[enumerate()](https://github.com/milaan9/04_Python_Functions/blob/main/002_Python_Functions_Built_in/018_Python_enumerate%28%29.ipynb)** | Returns an enumerate object. It contains the index and value for all the items of the set as a pair. |\n",
        "| **[len()](https://github.com/milaan9/04_Python_Functions/blob/main/002_Python_Functions_Built_in/040_Python_len%28%29.ipynb)** | Returns the length (the number of items) in the set. |\n",
        "| **[max()](https://github.com/milaan9/04_Python_Functions/blob/main/002_Python_Functions_Built_in/041_Python_max%28%29.ipynb)** | Returns the largest item in the set. |\n",
        "| **[min()](https://github.com/milaan9/04_Python_Functions/blob/main/002_Python_Functions_Built_in/042_Python_min%28%29.ipynb)** | Returns the smallest item in the set. |\n",
        "| **[sorted()](https://github.com/milaan9/04_Python_Functions/blob/main/002_Python_Functions_Built_in/060_Python_sorted%28%29.ipynb)** | Returns a new sorted list from elements in the set(does not sort the set itself). |\n",
        "| **[sum()](https://github.com/milaan9/04_Python_Functions/blob/main/002_Python_Functions_Built_in/062_Python_sum%28%29.ipynb)** | Returns the sum of all elements in the set. |"
      ]
    },
    {
      "cell_type": "markdown",
      "metadata": {
        "id": "qhRoxCpqqC1f"
      },
      "source": [
        "## Other Python Set Methods\n",
        "\n",
        "There are many set methods, some of which we have already used above. Here is a list of all the methods that are available with the set objects:\n",
        "\n",
        "| Method | Operator | Description |\n",
        "|:---- |:---- |:--- |\n",
        "| **[add()](https://github.com/milaan9/02_Python_Datatypes/blob/main/006_Python_Sets_Methods/002_Python_Set_add%28%29.ipynb)** |  |  Adds an element to the set. | \n",
        "| **[copy()](https://github.com/milaan9/02_Python_Datatypes/blob/main/006_Python_Sets_Methods/003_Python_Set_copy%28%29.ipynb)** |  |  Returns a copy of the set. | \n",
        "| **[remove()](https://github.com/milaan9/02_Python_Datatypes/blob/main/006_Python_Sets_Methods/001_Python_Set_remove%28%29.ipynb)** |  |  Removes an element from the set. If the element is not a member, raises a **`KeyError`**. |\n",
        "| **[discard()](https://github.com/milaan9/02_Python_Datatypes/blob/main/006_Python_Sets_Methods/007_Python_Set_discard%28%29.ipynb)** |  |  Removes an element from the set if it is a member. (Do nothing if the element is not in set). | \n",
        "| **[pop()](https://github.com/milaan9/02_Python_Datatypes/blob/main/006_Python_Sets_Methods/013_Python_Set_pop%28%29.ipynb)** |  |  Removes and returns an arbitrary set element. Raises **`KeyError`** if the set is empty. | \n",
        "| **[clear()](https://github.com/milaan9/02_Python_Datatypes/blob/main/006_Python_Sets_Methods/004_Python_Set_clear%28%29.ipynb)** |  |  Removes all elements from the set. | \n",
        "| **[union()](https://github.com/milaan9/02_Python_Datatypes/blob/main/006_Python_Sets_Methods/016_Python_Set_union%28%29.ipynb)** | **`A \\| B`** |  Returns the union of sets in a new set. | \n",
        "| **[update()](https://github.com/milaan9/02_Python_Datatypes/blob/main/006_Python_Sets_Methods/017_Python_Set_update%28%29.ipynb)** | **`A \\|= B`** |  Updates the set with the union of itself and others. | \n",
        "| **[intersection()](https://github.com/milaan9/02_Python_Datatypes/blob/main/006_Python_Sets_Methods/008_Python_Set_intersection%28%29.ipynb)** | **`A & B`** |  Returns the intersection of two sets as a new set. | \n",
        "| **[intersection_update()](https://github.com/milaan9/02_Python_Datatypes/blob/main/006_Python_Sets_Methods/009_Python_Set_intersection_update%28%29.ipynb)** | **`A &= B`** |  Updates the set with the intersection of itself and another. | \n",
        "| **[isdisjoint()](https://github.com/milaan9/02_Python_Datatypes/blob/main/006_Python_Sets_Methods/010_Python_Set_isdisjoint%28%29.ipynb)** |  |  Returns **`True`** if two sets have a null intersection. | \n",
        "| **[difference()](https://github.com/milaan9/02_Python_Datatypes/blob/main/006_Python_Sets_Methods/005_Python_Set_difference%28%29.ipynb)** | **`A – B`** |  Returns the difference of two or more sets as a new set. | \n",
        "| **[difference_update()](https://github.com/milaan9/02_Python_Datatypes/blob/main/006_Python_Sets_Methods/006_Python_Set_difference_update%28%29.ipynb)** | **`A -= B`** |  Removes all elements of another set from this set. | \n",
        "| **[symmetric_difference()](https://github.com/milaan9/02_Python_Datatypes/blob/main/006_Python_Sets_Methods/014_Python_Set_symmetric_difference%28%29.ipynb)** | **`A ^ B`** |  Returns the symmetric difference of two sets as a new set. | \n",
        "| **[symmetric_difference_update()](https://github.com/milaan9/02_Python_Datatypes/blob/main/006_Python_Sets_Methods/015_Python_Set_symmetric_difference_update%28%29.ipynb)** | **`A ^= B`** |  Updates a set with the symmetric difference of itself and another. | \n",
        "| **[issubset()](https://github.com/milaan9/02_Python_Datatypes/blob/main/006_Python_Sets_Methods/011_Python_Set_issubset%28%29.ipynb)** | **`A <= B`** |  Returns **`True`** if another set contains this set. | \n",
        "| **[issuperset()](https://github.com/milaan9/02_Python_Datatypes/blob/main/006_Python_Sets_Methods/012_Python_Set_issuperset%28%29.ipynb)** | **`A >= B`** | Returns **`True`** if this set contains another set. |"
      ]
    },
    {
      "cell_type": "markdown",
      "metadata": {
        "id": "wZnn6GRaqC1f"
      },
      "source": [
        "Here is a complete list of all the **[built-in methods to work with Sets in Python](https://github.com/milaan9/02_Python_Datatypes/tree/main/006_Python_Sets_Methods)**."
      ]
    },
    {
      "cell_type": "markdown",
      "metadata": {
        "id": "Hm4ZzYCZqC1f"
      },
      "source": [
        "## Other Set Operations"
      ]
    },
    {
      "cell_type": "markdown",
      "metadata": {
        "id": "ycNUnEbHqC1f"
      },
      "source": [
        "### 1. Set Membership Test\n",
        "\n",
        "We can test if an item exists in a set or not, using the **`in`** keyword."
      ]
    },
    {
      "cell_type": "code",
      "metadata": {
        "ExecuteTime": {
          "end_time": "2021-10-03T14:22:34.602087Z",
          "start_time": "2021-10-03T14:22:34.588419Z"
        },
        "id": "h1fMHu9YqC1f"
      },
      "source": [
        "# Example:\n",
        "\n",
        "# in keyword in a set\n",
        "# initialize my_set\n",
        "my_set = set(\"apple\")\n",
        "\n",
        "# check if 'a' is present\n",
        "print('a' in my_set)      # Output: True\n",
        "\n",
        "# check if 'p' is present\n",
        "print('p' not in my_set)  # Output: False"
      ],
      "execution_count": null,
      "outputs": []
    },
    {
      "cell_type": "markdown",
      "metadata": {
        "id": "jv7qREenqC1g"
      },
      "source": [
        "### 2. Iterating Through a Set\n",
        "\n",
        "We can iterate through each item in a set using a **`for`** loop."
      ]
    },
    {
      "cell_type": "code",
      "metadata": {
        "ExecuteTime": {
          "end_time": "2021-10-03T14:22:35.248600Z",
          "start_time": "2021-10-03T14:22:35.228094Z"
        },
        "id": "IZH3HIyhqC1g"
      },
      "source": [
        "for letter in set(\"apple\"):\n",
        "    print(letter)"
      ],
      "execution_count": null,
      "outputs": []
    },
    {
      "cell_type": "markdown",
      "metadata": {
        "id": "Q69mmIz7qC1h"
      },
      "source": [
        "## 💻 Exercises ➞ <span class='label label-default'>Sets</span>\n",
        "\n",
        "```py\n",
        "mix_fruits = {'Guava', 'Pear', 'Mango', 'Apple', 'Fig', 'Orange', 'Banana'}\n",
        "A = {19, 22, 24, 20, 25, 26}\n",
        "B = {19, 22, 20, 25, 26, 24, 28, 27}\n",
        "num = [22, 19, 24, 25, 26, 24, 25, 24]\n",
        "```\n",
        "\n",
        "### Exercises ➞ <span class='label label-default'>Level 1</span>\n",
        "\n",
        "1. Find the length of the set **`mix_fruits`**\n",
        "2. Add **`'Kiwi'`** to **`mix_fruits`**\n",
        "3. Insert multiple fruits at once to the set **`mix_fruits`**\n",
        "4. Remove one of the fruit from the set **`mix_fruits`**\n",
        "5. What is the difference between **remove** and **discard**\n",
        "\n",
        "### Exercises ➞ <span class='label label-default'>Level 2</span>\n",
        "\n",
        "1. Join **`A`** and **`B`**\n",
        "2. Find **`A`** intersection **`B`**\n",
        "3. Is **`A`** subset of **`B`**\n",
        "4. Are **`A`** and **`B`** disjoint sets\n",
        "5. Join **`A`** with **`B`** and **`B`** with **`A`**\n",
        "6. What is the symmetric difference between A and **`B`**\n",
        "7. Delete the sets completely\n"
      ]
    },
    {
      "cell_type": "code",
      "metadata": {
        "id": "yULT9u-UqC1h"
      },
      "source": [],
      "execution_count": null,
      "outputs": []
    },
    {
      "cell_type": "markdown",
      "metadata": {
        "id": "LPK9QuUioVZq"
      },
      "source": [
        "\n",
        "\n",
        "---\n",
        "\n"
      ]
    },
    {
      "cell_type": "markdown",
      "metadata": {
        "id": "o2ZB0_epF0AZ"
      },
      "source": [
        "# **Footnotes:**"
      ]
    },
    {
      "cell_type": "markdown",
      "metadata": {
        "id": "VGDlHohQEF2S"
      },
      "source": [
        "*Content from this review notebook includes material from Python for Everybody by Charles Severance, and from the course Python for Everyone by Mike Matera (on Github).*"
      ]
    },
    {
      "cell_type": "markdown",
      "metadata": {
        "id": "sIl9HRvZEEYh"
      },
      "source": [
        "\n",
        "\n",
        "---\n",
        "\n"
      ]
    }
  ]
}