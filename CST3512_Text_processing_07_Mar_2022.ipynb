{
  "nbformat": 4,
  "nbformat_minor": 0,
  "metadata": {
    "colab": {
      "name": "CST2512_Text_processing_07-Mar-2022.ipynb",
      "provenance": [],
      "collapsed_sections": [],
      "include_colab_link": true
    },
    "kernelspec": {
      "name": "python3",
      "display_name": "Python 3"
    },
    "language_info": {
      "name": "python"
    }
  },
  "cells": [
    {
      "cell_type": "markdown",
      "metadata": {
        "id": "view-in-github",
        "colab_type": "text"
      },
      "source": [
        "<a href=\"https://colab.research.google.com/github/ProfessorPatrickSlatraigh/CST3512/blob/main/CST2512_Text_processing_07_Mar_2022.ipynb\" target=\"_parent\"><img src=\"https://colab.research.google.com/assets/colab-badge.svg\" alt=\"Open In Colab\"/></a>"
      ]
    },
    {
      "cell_type": "markdown",
      "metadata": {
        "id": "oqcb9--fNVE0"
      },
      "source": [
        "## Let us see how we can use LISTs in NLP\n",
        "\n",
        "[NLTK Chapter 1](https://www.nltk.org/book/ch01.html)"
      ]
    },
    {
      "cell_type": "code",
      "metadata": {
        "id": "dElVkFGzHQiU"
      },
      "source": [
        "# Setup\n",
        "!pip install -q wordcloud\n",
        "import wordcloud\n",
        "import nltk"
      ],
      "execution_count": 1,
      "outputs": []
    },
    {
      "cell_type": "code",
      "metadata": {
        "id": "UdqCrNTNKbUK"
      },
      "source": [
        "nltk.download('book') \n"
      ],
      "execution_count": null,
      "outputs": []
    },
    {
      "cell_type": "code",
      "metadata": {
        "id": "_qKxEu4KOQzt"
      },
      "source": [
        "from nltk.book import *"
      ],
      "execution_count": null,
      "outputs": []
    },
    {
      "cell_type": "code",
      "metadata": {
        "id": "PMS1oJzJKbIf"
      },
      "source": [
        "# Get stopwords, stemmer and lemmatizer\n",
        "stopwords = nltk.corpus.stopwords.words('english')\n",
        "stemmer = nltk.stem.PorterStemmer()\n",
        "lemmatizer = nltk.stem.WordNetLemmatizer()\n"
      ],
      "execution_count": 4,
      "outputs": []
    },
    {
      "cell_type": "code",
      "metadata": {
        "id": "xkUsB2KDKbOa"
      },
      "source": [
        "type(stopwords)"
      ],
      "execution_count": null,
      "outputs": []
    },
    {
      "cell_type": "code",
      "metadata": {
        "id": "cDxgXFxLKbRM"
      },
      "source": [
        "len(stopwords)"
      ],
      "execution_count": null,
      "outputs": []
    },
    {
      "cell_type": "code",
      "metadata": {
        "id": "jCtu_5qsxZYn"
      },
      "source": [
        "stopwords"
      ],
      "execution_count": null,
      "outputs": []
    },
    {
      "cell_type": "code",
      "metadata": {
        "id": "vMOnL3KuKsRu"
      },
      "source": [
        "stopwords[0]"
      ],
      "execution_count": null,
      "outputs": []
    },
    {
      "cell_type": "code",
      "metadata": {
        "id": "iCgbcs7pKbWP"
      },
      "source": [
        "sent1 = ['Call', 'me', 'Ishmael', '.']\n",
        "sent1"
      ],
      "execution_count": null,
      "outputs": []
    },
    {
      "cell_type": "code",
      "metadata": {
        "id": "sTXI-1OdxxnH"
      },
      "source": [
        "text1[100:110]"
      ],
      "execution_count": null,
      "outputs": []
    },
    {
      "cell_type": "code",
      "metadata": {
        "id": "8-gJFqwZKbcx"
      },
      "source": [
        "len(sent1)"
      ],
      "execution_count": null,
      "outputs": []
    },
    {
      "cell_type": "code",
      "metadata": {
        "id": "T4IxtzszOQmu"
      },
      "source": [
        "sent2 = ['The', 'family', 'of', 'Dashwood', 'had', 'long', 'been', 'settled', 'in', 'Sussex', '.']\n",
        "sent3 = ['In', 'the', 'beginning', 'God', 'created', 'the', 'heaven', 'and', 'the', 'earth', '.']"
      ],
      "execution_count": 17,
      "outputs": []
    },
    {
      "cell_type": "code",
      "metadata": {
        "id": "aRpOEOLyOQrE"
      },
      "source": [
        "sent2+sent3"
      ],
      "execution_count": null,
      "outputs": []
    },
    {
      "cell_type": "code",
      "metadata": {
        "id": "3ZB_FSxhOQt6"
      },
      "source": [
        "sent1.append(\"Some\")\n",
        "sent1"
      ],
      "execution_count": null,
      "outputs": []
    },
    {
      "cell_type": "code",
      "metadata": {
        "id": "i_Bj67QHOQx3"
      },
      "source": [
        "len(text1)"
      ],
      "execution_count": null,
      "outputs": []
    },
    {
      "cell_type": "code",
      "metadata": {
        "id": "vrr1IqO-xFkM"
      },
      "source": [
        "len(text2)"
      ],
      "execution_count": null,
      "outputs": []
    },
    {
      "cell_type": "code",
      "metadata": {
        "id": "-e_FK-bjPYkW"
      },
      "source": [
        "text1[100:110]"
      ],
      "execution_count": null,
      "outputs": []
    },
    {
      "cell_type": "markdown",
      "metadata": {
        "id": "8Zl_kxLI1ln0"
      },
      "source": [
        "##[NLTK concordance](http://www.nltk.org/api/nltk.html?highlight=concordance)"
      ]
    },
    {
      "cell_type": "code",
      "source": [
        "text4"
      ],
      "metadata": {
        "id": "awnAG-PAMgrL"
      },
      "execution_count": null,
      "outputs": []
    },
    {
      "cell_type": "code",
      "metadata": {
        "id": "lOgSt9w9Ps3-"
      },
      "source": [
        "text4.concordance(\"nation\")"
      ],
      "execution_count": null,
      "outputs": []
    },
    {
      "cell_type": "code",
      "metadata": {
        "id": "4PqlJAKK0JKc"
      },
      "source": [
        "len(text4)"
      ],
      "execution_count": null,
      "outputs": []
    },
    {
      "cell_type": "code",
      "metadata": {
        "id": "uc05kKoa1UOe"
      },
      "source": [
        "len(text2)"
      ],
      "execution_count": null,
      "outputs": []
    },
    {
      "cell_type": "code",
      "metadata": {
        "id": "Jx2fI346fnPD"
      },
      "source": [
        "text2.dispersion_plot([\"Elinor\", \"Marianne\", \"Edward\", \"Willoughby\", \"Brandon\"])"
      ],
      "execution_count": null,
      "outputs": []
    },
    {
      "cell_type": "code",
      "metadata": {
        "id": "ziYklSVdf_dD"
      },
      "source": [
        "len(set(text4))"
      ],
      "execution_count": null,
      "outputs": []
    },
    {
      "cell_type": "code",
      "metadata": {
        "id": "g2Z8Gg-iiajT"
      },
      "source": [
        "text4.dispersion_plot([\"citizens\", \"democracy\", \"freedom\", \"duties\", \"liberty\", \"is\"])"
      ],
      "execution_count": null,
      "outputs": []
    },
    {
      "cell_type": "code",
      "metadata": {
        "id": "05eHJd7-icgR"
      },
      "source": [
        "text2.dispersion_plot([\"citizens\", \"democracy\", \"freedom\", \"duties\", \"is\"])"
      ],
      "execution_count": null,
      "outputs": []
    },
    {
      "cell_type": "code",
      "metadata": {
        "id": "mXY-SyXdiiMC"
      },
      "source": [
        "text2.dispersion_plot([\"society\", \"husband\", \"feeling\", \"marriage\", \"independent\", \"Dashwood\"])"
      ],
      "execution_count": null,
      "outputs": []
    },
    {
      "cell_type": "code",
      "metadata": {
        "id": "H364Zrc61uQA"
      },
      "source": [
        "len(text2)"
      ],
      "execution_count": null,
      "outputs": []
    },
    {
      "cell_type": "code",
      "metadata": {
        "id": "sil_VPA71yAm"
      },
      "source": [
        "len(set(text2))"
      ],
      "execution_count": null,
      "outputs": []
    },
    {
      "cell_type": "code",
      "metadata": {
        "id": "ANRzeLmb13Ec"
      },
      "source": [
        "len(set(text2))/len(text2)"
      ],
      "execution_count": null,
      "outputs": []
    },
    {
      "cell_type": "code",
      "metadata": {
        "id": "Wi4KTZHYjDyH"
      },
      "source": [
        "len(set(text3)) / len(text3)\n"
      ],
      "execution_count": null,
      "outputs": []
    },
    {
      "cell_type": "code",
      "metadata": {
        "id": "SN-VR57AjGp-"
      },
      "source": [
        "len(set(text3))"
      ],
      "execution_count": null,
      "outputs": []
    },
    {
      "cell_type": "code",
      "metadata": {
        "id": "pJ1zOz0cjjXi"
      },
      "source": [
        "len(set(text3)-set(stopwords))"
      ],
      "execution_count": null,
      "outputs": []
    },
    {
      "cell_type": "code",
      "metadata": {
        "id": "W_T3BbrymeKz"
      },
      "source": [
        "fdist1 = FreqDist(text1)"
      ],
      "execution_count": null,
      "outputs": []
    },
    {
      "cell_type": "code",
      "metadata": {
        "id": "_O_oqEJh28Dv"
      },
      "source": [
        "fdist1.most_common(50) "
      ],
      "execution_count": null,
      "outputs": []
    },
    {
      "cell_type": "code",
      "metadata": {
        "id": "o2Qcf8OT3DE0"
      },
      "source": [
        "fdist2 = FreqDist(text2)"
      ],
      "execution_count": null,
      "outputs": []
    },
    {
      "cell_type": "code",
      "metadata": {
        "id": "lXYYuUHg3tJc"
      },
      "source": [
        "len(fdist2)"
      ],
      "execution_count": null,
      "outputs": []
    },
    {
      "cell_type": "code",
      "metadata": {
        "id": "Zf0rqLgN3F4H"
      },
      "source": [
        "fdist2.most_common(50) "
      ],
      "execution_count": null,
      "outputs": []
    },
    {
      "cell_type": "markdown",
      "metadata": {
        "id": "-yzQUowg3PuL"
      },
      "source": [
        "Find 50 most frequent words for Sense and Sensibility that are not stopwords"
      ]
    },
    {
      "cell_type": "code",
      "metadata": {
        "id": "zWwLAiyB3Wze"
      },
      "source": [
        "fdist2[',']"
      ],
      "execution_count": null,
      "outputs": []
    },
    {
      "cell_type": "code",
      "metadata": {
        "id": "49eASpO76cSW"
      },
      "source": [
        "counter = 0\n",
        "for item in fdist2.most_common():\n",
        "  if item[0] not in stopwords:\n",
        "    print(item)\n",
        "    counter += 1\n",
        "    if (counter == 49):\n",
        "      break"
      ],
      "execution_count": null,
      "outputs": []
    },
    {
      "cell_type": "code",
      "metadata": {
        "id": "UvSK7Yr77NRM"
      },
      "source": [
        "170/len(text2)"
      ],
      "execution_count": null,
      "outputs": []
    }
  ]
}
