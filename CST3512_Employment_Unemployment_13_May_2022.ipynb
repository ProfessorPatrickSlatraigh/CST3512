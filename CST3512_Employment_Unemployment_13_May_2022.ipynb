{
  "nbformat": 4,
  "nbformat_minor": 0,
  "metadata": {
    "colab": {
      "name": "CST3512_Employment_Unemployment_13-May-2022.ipynb",
      "provenance": [],
      "collapsed_sections": [],
      "include_colab_link": true
    },
    "kernelspec": {
      "name": "python3",
      "display_name": "Python 3"
    },
    "language_info": {
      "name": "python"
    }
  },
  "cells": [
    {
      "cell_type": "markdown",
      "metadata": {
        "id": "view-in-github",
        "colab_type": "text"
      },
      "source": [
        "<a href=\"https://colab.research.google.com/github/ProfessorPatrickSlatraigh/CST3512/blob/main/CST3512_Employment_Unemployment_13_May_2022.ipynb\" target=\"_parent\"><img src=\"https://colab.research.google.com/assets/colab-badge.svg\" alt=\"Open In Colab\"/></a>"
      ]
    },
    {
      "cell_type": "markdown",
      "source": [
        "#Employment and Unemployment Levels \n",
        "\n",
        "**Using U.S. Bureau of Labor Statistics data**    \n",
        "Source information available at [bls.gov/ces/](https://www.bls.gov/ces/)\n",
        "\n",
        "*from the original work of CST3512 student Shaolong Lin, May-2022*  \n"
      ],
      "metadata": {
        "id": "1LoGLUo_WsU7"
      }
    },
    {
      "cell_type": "markdown",
      "source": [
        "**The following outline describes the approach in this notebook:**    \n",
        "\n",
        "A. <u>PROBLEM STATEMENT</u>    \n",
        "    \n",
        "H.  Housekeeping     \n",
        "\n",
        "B. <u>STRAIGHTFORWARD DICTIONARY READ OF `.CSV` FILES</u>    \n",
        "B.1 Creating a DataFrame Based on a Dictionary for 'Employment_Level'      \n",
        "B.2 Creating a DataFrame Based on a Dictionary for 'UnEmployment_Level'     \n",
        "B.3 Combine Employment and UnEmployment Level Data    \n",
        "\n",
        "C. <u>PANDAS WRANGLING AND `.MELT()`</u>    \n",
        "C1. Load Data for Emplyoyment Level\n",
        "C2. Transform Employment Level Data    \n",
        "C3. Load Data for UnEmployment Level    \n",
        "C4. Transform UnEmployment Level Data    \n",
        "C5. Combine Employment and UnEmployment Level Data   \n",
        "\n",
        "D. <u>SOME TIMESERIES PLOTTING EXAMPLES</u>    \n",
        "D.1 Single Line Plot: Employment_Level    \n",
        "D.2 Single Line Plot: UnEmployment_Level    \n",
        "D.3 Dual Line Plot: Employment_Level & UnEmployment_Level - same y axis   \n",
        "D.4 Dual Line Plot: Employment_Level & UnEmployment_Level - twin y axes     \n",
        "D.5 Employment_Level Candlestick Chart of Yearly OHLC (plotly `go`)    \n",
        "D.6 Un-Employment_Level Candlestick Chart of Yearly OHLC (plotly `go`)     \n",
        "\n",
        "X. <u>APPENDIX: Datetime Reference Information</u>   \n"
      ],
      "metadata": {
        "id": "6P9Z6-36l1OK"
      }
    },
    {
      "cell_type": "markdown",
      "source": [
        "**SHORTHAND/NOTES**    \n",
        "\n",
        "This notebook uses the following conventions for expediency and consistency: \n",
        "\n",
        "**`_df`** : refers to a dataframe variable    \n",
        "**`_str`** : refers to a string variable    \n",
        "**`_list`** : refers to a list variable    \n",
        "**`_dict`** : refers to a dictionary variable   \n",
        "**`_gb`** : refers to a `.groupby()`series variable     \n",
        "\n",
        "**`el_`** : refers to a variable with **Employment Level** data    \n",
        "**`ul_`** : refers to a variable with **Un-Employment Level** data    \n",
        "\n",
        "**`_ohlc_`** : refers to data with **Open, High, Low, Close** (ohlc) values    \n",
        "\n",
        "*note: `ohlc` data is used in candlestick charts and other financial analysis.*    \n",
        "*See [this description of `ohlc` from Investopedia](https://www.investopedia.com/terms/o/ohlcchart.asp) for definitions and uses of the term and its applications.* \n"
      ],
      "metadata": {
        "id": "kV5E_cGCwVHk"
      }
    },
    {
      "cell_type": "markdown",
      "source": [
        "\n",
        "\n",
        "---\n",
        "\n"
      ],
      "metadata": {
        "id": "iezKrIjZfalE"
      }
    },
    {
      "cell_type": "markdown",
      "source": [
        "##A. PROBLEM STATEMENT    \n"
      ],
      "metadata": {
        "id": "Pi3ERnYNVfqo"
      }
    },
    {
      "cell_type": "markdown",
      "source": [
        "The U.S. Bureau of Labor Statistics [**BLS**](https://bls.gov) provides information on employment levels and on unemployment levels by month.  Historic monthly data is available for each metric in a `.csv` file with the following format:\n",
        "\n",
        "* the first 11 rows of each `.csv` file is header information    \n",
        "* the 12th row is essentially column headings, but:     \n",
        "  - 'Year' is the column heading for the first column    \n",
        "  - each of the remaining columns has a three character month abbreviation as a heading, the underlying data is all for the same metric    \n",
        "* depending on the release date of the `.csv` file, there may be columns in the last row (the last year) which do not yet have data because that data is either for a future month or the data was not yet processed at the time of the release of that `.csv` file    "
      ],
      "metadata": {
        "id": "VHRBZwLva78i"
      }
    },
    {
      "cell_type": "markdown",
      "source": [
        "The files to be processed are:    \n",
        "\n",
        "* [\"Employment Level - BLS Data Series.csv\"](https://raw.githubusercontent.com/ProfessorPatrickSlatraigh/data/main/Employment%20Level%20-%20BLS%20Data%20Series.csv)    \n",
        "* [\"Unemployment Level - BLS Data Series.csv\"](https://raw.githubusercontent.com/ProfessorPatrickSlatraigh/data/main/Unemployment%20Level%20-%20BLS%20Data%20Series.csv)    \n"
      ],
      "metadata": {
        "id": "UkV8MwPjcWua"
      }
    },
    {
      "cell_type": "markdown",
      "source": [
        "###The Problem    \n",
        "\n",
        "**The challenge is to wrangle the two source data files, one for each metric, into a single dataframe with:**    \n",
        "\n",
        "1. **a column for each metric with the metric name as the column name**    \n",
        "2. **a row for every combination of year and month**    \n",
        "3. **a datetime index based on the year and month of each row**    "
      ],
      "metadata": {
        "id": "uonNf2ZheR9R"
      }
    },
    {
      "cell_type": "markdown",
      "source": [
        "**Section B of this notebook produces a DataFrame `df` with each metric as a column and the datetime as an index by reading the source files into dictionaries then creating interim DataFrames from the dictionaries.**    \n",
        "\n",
        "**Section C of this notebook produces a DataFrame `df` with each metric as a column and the datetime as an index by reading the source files into  interim DataFrames which are wrangled and then used to produce the resultant dictionary.**    \n",
        "\n",
        "*Both <u>Section B</u> and <u>Section C</u> produce the same dictionary `df` as a result of the two different approaches.* "
      ],
      "metadata": {
        "id": "BRgvyf7d3x2X"
      }
    },
    {
      "cell_type": "markdown",
      "source": [
        "The following exhibits display images of the content of the files."
      ],
      "metadata": {
        "id": "_Ne1Mp8ycm0x"
      }
    },
    {
      "cell_type": "markdown",
      "source": [
        "**<h3 align=\"center\"><u>Exhibit 1 - Sample BLS Employment Level Monthly Data .CSV File</u></h3>**    \n"
      ],
      "metadata": {
        "id": "7pZMcPITdy-Q"
      }
    },
    {
      "cell_type": "markdown",
      "source": [
        "![US-BLS_employment-level_csv.png](data:image/png;base64,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)"
      ],
      "metadata": {
        "id": "PqgMfIdpcqVm"
      }
    },
    {
      "cell_type": "markdown",
      "source": [
        "**<h3 align=\"center\"><u>Exhibit 2 - Sample BLS UnEmployment Level Monthly Data .CSV File</u></h3>**    \n"
      ],
      "metadata": {
        "id": "0FE9aLlOeHPs"
      }
    },
    {
      "cell_type": "markdown",
      "source": [
        "![US-BLS_unemployment-level_csv.png](data:image/png;base64,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)"
      ],
      "metadata": {
        "id": "s_BbWp6veJLw"
      }
    },
    {
      "cell_type": "markdown",
      "source": [
        "###**The Solution**   \n",
        "\n",
        "Produce a single datframe (`df`) which has a `timeseries` index and a column for `Employment_Level` as well as a columns for `UnEmployment_Level` along with other monthly features where each row in the dataframe `df` represents one month.    \n",
        "\n",
        "The following <u>Exhibit 3 - Solution Dataframe `df`</u> shows an example of the bottom 18 records of the desire dataframe as you might see it with by invoking `df.tail(18)`.    \n"
      ],
      "metadata": {
        "id": "8KYo9kWJ9Swl"
      }
    },
    {
      "cell_type": "markdown",
      "source": [
        "**<h3 align=\"center\"><u>Exhibit 3 - Solution Dataframe `df`</u></h3>**    \n"
      ],
      "metadata": {
        "id": "BboTgOKz-Qpj"
      }
    },
    {
      "cell_type": "markdown",
      "source": [
        "![CST3512_Employment-UnEmployment_df.png](data:image/png;base64,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)"
      ],
      "metadata": {
        "id": "VmRq2QGD-FEu"
      }
    },
    {
      "cell_type": "markdown",
      "source": [
        "\n",
        "\n",
        "---\n",
        "\n"
      ],
      "metadata": {
        "id": "veUP2MgSVeqO"
      }
    },
    {
      "cell_type": "markdown",
      "source": [
        "##H. Housekeeping    \n",
        "\n",
        "**General housekeeping in support of the remainder of the notebook.**\n",
        "* Load files to current working directory    \n",
        "\n",
        "* Import libraries    \n",
        "\n",
        "* Create standing value variables (dictionary of month abbreviations to month integers)    "
      ],
      "metadata": {
        "id": "fPhLXM-CZr-c"
      }
    },
    {
      "cell_type": "markdown",
      "source": [
        "###Load files to the current working directory    \n",
        "\n",
        "This notebook reads data from the following U.S. Bureau of Labor Statistics (BLS) `.csv` files:\n",
        "\n",
        "* [\"Employment Level - BLS Data Series.csv\"](https://raw.githubusercontent.com/ProfessorPatrickSlatraigh/data/main/Employment%20Level%20-%20BLS%20Data%20Series.csv)    \n",
        "* [\"Unemployment Level - BLS Data Series.csv\"](https://raw.githubusercontent.com/ProfessorPatrickSlatraigh/data/main/Unemployment%20Level%20-%20BLS%20Data%20Series.csv)    \n",
        "\n",
        "Load copies of both files to the current working directory using `!curl` statements and raw source files from **Github** \n"
      ],
      "metadata": {
        "id": "XHpDuPKaXRm1"
      }
    },
    {
      "cell_type": "code",
      "source": [
        "!curl https://raw.githubusercontent.com/ProfessorPatrickSlatraigh/data/main/Employment%20Level%20-%20BLS%20Data%20Series.csv -o \"bls_employment-level.csv\""
      ],
      "metadata": {
        "id": "GYKWL5y6XrF0",
        "colab": {
          "base_uri": "https://localhost:8080/"
        },
        "outputId": "7e7332c1-11dc-4c7f-805a-046848d22a58"
      },
      "execution_count": 2,
      "outputs": [
        {
          "output_type": "stream",
          "name": "stdout",
          "text": [
            "  % Total    % Received % Xferd  Average Speed   Time    Time     Time  Current\n",
            "                                 Dload  Upload   Total   Spent    Left  Speed\n",
            "\r  0     0    0     0    0     0      0      0 --:--:-- --:--:-- --:--:--     0\r100  1392  100  1392    0     0  13132      0 --:--:-- --:--:-- --:--:-- 13009\r100  1392  100  1392    0     0  13132      0 --:--:-- --:--:-- --:--:-- 13009\n"
          ]
        }
      ]
    },
    {
      "cell_type": "code",
      "source": [
        "!curl https://raw.githubusercontent.com/ProfessorPatrickSlatraigh/data/main/Unemployment%20Level%20-%20BLS%20Data%20Series.csv -o \"bls_unemployment-level.csv\""
      ],
      "metadata": {
        "id": "Fj4jluluYAxL",
        "colab": {
          "base_uri": "https://localhost:8080/"
        },
        "outputId": "fe3ad23c-19a9-4415-ec93-d10a86211439"
      },
      "execution_count": 3,
      "outputs": [
        {
          "output_type": "stream",
          "name": "stdout",
          "text": [
            "  % Total    % Received % Xferd  Average Speed   Time    Time     Time  Current\n",
            "                                 Dload  Upload   Total   Spent    Left  Speed\n",
            "\r  0     0    0     0    0     0      0      0 --:--:-- --:--:-- --:--:--     0\r100  1187  100  1187    0     0  13488      0 --:--:-- --:--:-- --:--:-- 13488\n"
          ]
        }
      ]
    },
    {
      "cell_type": "markdown",
      "source": [
        "### Imports    "
      ],
      "metadata": {
        "id": "OMkOGIrJ0MtE"
      }
    },
    {
      "cell_type": "code",
      "source": [
        "import pandas as pd  # our usual suspect    \n",
        "#import numpy as np  # not needed (yet)    \n",
        "\n",
        "import csv           # to read the .csv files (sometimes)\n",
        "\n",
        "# %matplotlib inline                            # is this needed?\n",
        "import matplotlib                               # for plotting    \n",
        "import matplotlib.pyplot as plt                 # ditto\n",
        "import matplotlib.dates as mdates               # dates in plots\n",
        "import matplotlib.ticker as mticker             # tickers in plots\n",
        "\n",
        "import datetime      # for indexing on datetime"
      ],
      "metadata": {
        "id": "w03NbwOnQ0a9"
      },
      "execution_count": 42,
      "outputs": []
    },
    {
      "cell_type": "markdown",
      "source": [
        "Import `go` from `plotly` if that is desired for plotting.    \n",
        "*note: This will be used at the bottom of the notebook when we plot candlestick charts of `ohlc` (Open, High, Low, Close).*         \n"
      ],
      "metadata": {
        "id": "aoKT-OeJX8S0"
      }
    },
    {
      "cell_type": "code",
      "source": [
        "import plotly.graph_objects as go               # another resource for plots"
      ],
      "metadata": {
        "id": "gBVxpywwX08p"
      },
      "execution_count": 43,
      "outputs": []
    },
    {
      "cell_type": "markdown",
      "source": [
        "###Create a list of month abbreviations (from column names) for ISO date    \n",
        "assign `[ 'Months', 'Jan', 'Feb', 'Mar', 'Apr', 'May', 'Jun', 'Jul', 'Aug', 'Sep', 'Oct', 'Nov', 'Dec']` to `month_list`    \n",
        "\n",
        "*This will be used to create an ISO formatted datetime string with the `'Year'` and a '-' as a prefix to the abbreviation of a month, where needed.*    \n",
        "\n",
        "*We are padding element[0] of the list with the string 'Months' to align the month abbreviation indices with the indices we will see in the lines read from the file later -- remember the first element read from each file is the integer value of 'Year'.*    \n"
      ],
      "metadata": {
        "id": "waBRqhnCmWuN"
      }
    },
    {
      "cell_type": "code",
      "source": [
        "# Create a list of month abbreviations (from column names) for ISO date\n",
        "# Pad the list with the string 'Months' as the first element\n",
        "month_list = ['Months',\n",
        "              'Jan', 'Feb', 'Mar', 'Apr', 'May', 'Jun', \n",
        "              'Jul', 'Aug', 'Sep', 'Oct', 'Nov', 'Dec'\n",
        "              ]"
      ],
      "metadata": {
        "id": "Ochg13ehmWuN"
      },
      "execution_count": 44,
      "outputs": []
    },
    {
      "cell_type": "markdown",
      "source": [
        "###Create a dictionary of month abbreviations (from column names) to integers\n",
        "assign `{'Jan': 1, 'Feb': 2, 'Mar': 3, 'Apr': 4, 'May': 5, 'Jun': 6, 'Jul': 7, 'Aug': 8, 'Sep': 9, 'Oct': 10, 'Nov': 11, 'Dec': 12}` to `month_dict`    \n",
        "\n",
        "*This will be used to create a column with the integer value of a month, where needed.*    \n"
      ],
      "metadata": {
        "id": "0RZLN5N1ZJbT"
      }
    },
    {
      "cell_type": "code",
      "source": [
        "# Create a dictionary of month abbreviations (from column names) to integers\n",
        "month_dict = {'Jan': 1, 'Feb': 2, 'Mar': 3,\n",
        "              'Apr': 4, 'May': 5, 'Jun': 6, \n",
        "              'Jul': 7, 'Aug': 8, 'Sep': 9, \n",
        "              'Oct': 10, 'Nov': 11, 'Dec': 12\n",
        "              }"
      ],
      "metadata": {
        "id": "HsyzB-zzZg-I"
      },
      "execution_count": 45,
      "outputs": []
    },
    {
      "cell_type": "markdown",
      "source": [
        "###Create strings of datetime format tokens for creation of `datetime` objects    \n"
      ],
      "metadata": {
        "id": "LV3c1fW8m0Qe"
      }
    },
    {
      "cell_type": "markdown",
      "source": [
        "\n",
        "assign `\"%Y-$B\"` to `yyyymmm_token_str`    \n",
        "\n",
        "*This will be used when reading string content of a four-digit year, hyphen, and three-character month abbreviation into a `datetime` object.*    \n"
      ],
      "metadata": {
        "id": "jzvHM_ysarBY"
      }
    },
    {
      "cell_type": "code",
      "source": [
        "yyyymmm_token_str = '%Y-%b'  # to read a date string in the format 'YYYY-Mmm' "
      ],
      "metadata": {
        "id": "Afaw4JMDnIOO"
      },
      "execution_count": 46,
      "outputs": []
    },
    {
      "cell_type": "markdown",
      "source": [
        "\n",
        "assign `\"%Y\"` to `yyyy_token_str`    \n",
        "\n",
        "*This will be used when reading string content of a four-digit year into a `datetime` object.*    \n"
      ],
      "metadata": {
        "id": "cFevyjluauF2"
      }
    },
    {
      "cell_type": "code",
      "source": [
        "yyyy_token_str = '%Y'  # to read a date string in the format 'YYYY' "
      ],
      "metadata": {
        "id": "GeMLR7isa-jG"
      },
      "execution_count": 47,
      "outputs": []
    },
    {
      "cell_type": "markdown",
      "source": [
        "\n",
        "\n",
        "---\n",
        "\n"
      ],
      "metadata": {
        "id": "MsJSYi0eVgEU"
      }
    },
    {
      "cell_type": "markdown",
      "source": [
        "##B. STRAIGHTFORWARD DICTIONARY READ OF `.CSV` FILES        "
      ],
      "metadata": {
        "id": "a5L8NXmaTwlV"
      }
    },
    {
      "cell_type": "markdown",
      "source": [
        "While the file formats present some challenges, they are not overly complex.    \n",
        "\n",
        "If we wanted, we could read each file into a dictionary `el_dict` which will be used to create a dataframe for 'Employment_Level' which will be used later together with a similar dictionary `ul_dict` created with the other metric 'Un-Employment_Level'.    \n"
      ],
      "metadata": {
        "id": "lnjNKGE5Vawr"
      }
    },
    {
      "cell_type": "markdown",
      "source": [
        "![CST3512_Employment-UnEmployment_dict.png](data:image/png;base64,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)"
      ],
      "metadata": {
        "id": "Anx5AHXQKgEq"
      }
    },
    {
      "cell_type": "markdown",
      "source": [
        "\n",
        "\n",
        "---\n",
        "\n"
      ],
      "metadata": {
        "id": "lmOgnj_9vdoZ"
      }
    },
    {
      "cell_type": "markdown",
      "source": [
        "###B.1 Creating a DataFrame Based on a Dictionary for 'Employment_Level'    \n"
      ],
      "metadata": {
        "id": "cVYnrKAsu_-q"
      }
    },
    {
      "cell_type": "code",
      "source": [
        "el_dict = dict()"
      ],
      "metadata": {
        "id": "bH92vCjNhcMp"
      },
      "execution_count": 48,
      "outputs": []
    },
    {
      "cell_type": "markdown",
      "source": [
        "Based on the assumption that we know there are 11 header rows followed by a consistent row of column headings, we can process the file beginning with row 13, through the end of the file.  \n",
        "\n",
        "Open the **Employment Level** `.csv` file into a file handle and, beginning at row 13:    \n",
        "\n",
        "* read the first value as the 'Year'    \n",
        "* use a loop to read the next 12 values as the metric values for each month and execute the following for each month's data read:\n",
        "    - construct a string of the 'Year' as four-digits, concatentated with '-', concatenated with the three letter abbreviation of the month    \n",
        "    - insert a `key:value` pair of the ISO date string constructed as the key and the metric value for that month as the value          \n"
      ],
      "metadata": {
        "id": "zgsxIa0pghKG"
      }
    },
    {
      "cell_type": "code",
      "source": [
        "with open( \"bls_employment-level.csv\", 'r' ) as el_File:\n",
        "    el_handle = csv.reader(el_File)\n",
        "    # start a counter for the line number\n",
        "    el_line = 0\n",
        "    for line in el_handle:\n",
        "        # increment the line number counter\n",
        "        el_line += 1\n",
        "        # check that past headers and not end of file \n",
        "        if line and el_line > 12 :\n",
        "            # assign the first column value to 'year'\n",
        "            year = line[0]\n",
        "            # start a counter for the month within  the year\n",
        "            m = 1\n",
        "            # check that at most 12 months are processed per line\n",
        "            while m < 13 :\n",
        "                # check that there is data for the month\n",
        "                if line[m]:\n",
        "                  # scaffolding to peek at key:value for this iteration\n",
        "                  # print(str(year) +'-' + month_list[m], line[m])\n",
        "                  key = str(year) +'-' + month_list[m]\n",
        "                  value = int(line[m])\n",
        "                  print(key, value)\n",
        "                  el_dict[key] = value\n",
        "                m += 1\n",
        "            print()"
      ],
      "metadata": {
        "id": "XoG0Glj8jFsI"
      },
      "execution_count": null,
      "outputs": []
    },
    {
      "cell_type": "markdown",
      "source": [
        "What do we have in our `el_dict` dictionary?   \n"
      ],
      "metadata": {
        "id": "eX1bJEY9qwKB"
      }
    },
    {
      "cell_type": "code",
      "source": [
        "el_dict"
      ],
      "metadata": {
        "id": "q7aNlMHiq1CQ"
      },
      "execution_count": null,
      "outputs": []
    },
    {
      "cell_type": "markdown",
      "source": [
        "Create a dataframe `el_df` using the dictionary `el_dict`    "
      ],
      "metadata": {
        "id": "UhdNzzxyrr0J"
      }
    },
    {
      "cell_type": "code",
      "source": [
        "el_df = pd.DataFrame.from_dict(el_dict, orient=\"index\").reset_index()"
      ],
      "metadata": {
        "id": "udz61RGkryja"
      },
      "execution_count": 50,
      "outputs": []
    },
    {
      "cell_type": "markdown",
      "source": [
        "What does our `el_df` dataframe include?"
      ],
      "metadata": {
        "id": "pWKZTMSjseTS"
      }
    },
    {
      "cell_type": "code",
      "source": [
        "el_df.info()"
      ],
      "metadata": {
        "id": "dr3zU_Oqsi8C"
      },
      "execution_count": null,
      "outputs": []
    },
    {
      "cell_type": "code",
      "source": [
        "el_df.head(24)"
      ],
      "metadata": {
        "id": "RQf4K-NwspqY"
      },
      "execution_count": null,
      "outputs": []
    },
    {
      "cell_type": "markdown",
      "source": [
        "Let's rename column 0 in `el_df` to 'Employment_Level'.    \n"
      ],
      "metadata": {
        "id": "DSSQoxOOs01l"
      }
    },
    {
      "cell_type": "code",
      "source": [
        "el_df.columns = ['Period','Employment_Level']"
      ],
      "metadata": {
        "id": "Y7TLmNpftguo"
      },
      "execution_count": 51,
      "outputs": []
    },
    {
      "cell_type": "code",
      "source": [
        "el_df.info()"
      ],
      "metadata": {
        "id": "d5SfCMO6t32p"
      },
      "execution_count": null,
      "outputs": []
    },
    {
      "cell_type": "markdown",
      "source": [
        "\n",
        "\n",
        "---\n",
        "\n"
      ],
      "metadata": {
        "id": "_XPdobIwv3IW"
      }
    },
    {
      "cell_type": "markdown",
      "source": [
        "###B.2 Creating a DataFrame Based on a Dictionary for 'UnEmployment_Level'    \n"
      ],
      "metadata": {
        "id": "uD_VDv2bv31D"
      }
    },
    {
      "cell_type": "code",
      "source": [
        "ul_dict = dict()"
      ],
      "metadata": {
        "id": "h7NCrr4_v_D0"
      },
      "execution_count": 52,
      "outputs": []
    },
    {
      "cell_type": "markdown",
      "source": [
        "Based on the assumption that we know there are 11 header rows followed by a consistent row of column headings, we can process the file beginning with row 13, through the end of the file.  \n",
        "\n",
        "Open the **Un-Employment Level** `.csv` file into a file handle and, beginning at row 13:    \n",
        "\n",
        "* read the first value as the 'Year'    \n",
        "* use a loop to read the next 12 values as the metric values for each month and execute the following for each month's data read:\n",
        "    - construct a string of the 'Year' as four-digits, concatentated with '-', concatenated with the three letter abbreviation of the month    \n",
        "    - insert a `key:value` pair of the ISO date string constructed as the key and the metric value for that month as the value          \n"
      ],
      "metadata": {
        "id": "5C6kEddcv_D1"
      }
    },
    {
      "cell_type": "code",
      "source": [
        "with open( \"bls_unemployment-level.csv\", 'r' ) as ul_File:\n",
        "    ul_handle = csv.reader(ul_File)\n",
        "    # start a counter for the line number\n",
        "    ul_line = 0\n",
        "    for line in ul_handle:\n",
        "        # increment the line number counter\n",
        "        ul_line += 1\n",
        "        # check that past headers and not end of file \n",
        "        if line and ul_line > 12 :\n",
        "            # assign the first column value to 'year'\n",
        "            year = line[0]\n",
        "            # start a counter for the month within  the year\n",
        "            m = 1\n",
        "            # check that at most 12 months are processed per line\n",
        "            while m < 13 :\n",
        "                # check that there is data for the month\n",
        "                if line[m]:\n",
        "                  # scaffolding to peek at key:value for this iteration\n",
        "                  # print(str(year) +'-' + month_list[m], line[m])\n",
        "                  key = str(year) +'-' + month_list[m]\n",
        "                  value = int(line[m])\n",
        "                  print(key, value)\n",
        "                  ul_dict[key] = value\n",
        "                m += 1\n",
        "            print()"
      ],
      "metadata": {
        "id": "_V-1YeWBv_D1"
      },
      "execution_count": null,
      "outputs": []
    },
    {
      "cell_type": "markdown",
      "source": [
        "*note: if we were processing files of this format often, we would do well to create a generalized function to process the reading of each file and dictionary creation, rather than copying and modifying the code for each execution.*    \n"
      ],
      "metadata": {
        "id": "eTwnjCHAC6UM"
      }
    },
    {
      "cell_type": "markdown",
      "source": [
        "What do we have in our `ul_dict` dictionary?   \n"
      ],
      "metadata": {
        "id": "ASSDqu7wv_D1"
      }
    },
    {
      "cell_type": "code",
      "source": [
        "ul_dict"
      ],
      "metadata": {
        "id": "pWZd21NHv_D2"
      },
      "execution_count": null,
      "outputs": []
    },
    {
      "cell_type": "markdown",
      "source": [
        "Create a dataframe `el_df` using the dictionary `el_dict`    "
      ],
      "metadata": {
        "id": "rQlxtNj4v_D2"
      }
    },
    {
      "cell_type": "code",
      "source": [
        "ul_df = pd.DataFrame.from_dict(ul_dict, orient=\"index\").reset_index()"
      ],
      "metadata": {
        "id": "IZOKRq-lv_D2"
      },
      "execution_count": 54,
      "outputs": []
    },
    {
      "cell_type": "markdown",
      "source": [
        "What does our `el_df` dataframe include?"
      ],
      "metadata": {
        "id": "C3PupEe4v_D3"
      }
    },
    {
      "cell_type": "code",
      "source": [
        "ul_df.info()"
      ],
      "metadata": {
        "id": "3xaWIqqVv_D3"
      },
      "execution_count": null,
      "outputs": []
    },
    {
      "cell_type": "code",
      "source": [
        "ul_df.head(24)"
      ],
      "metadata": {
        "id": "QdUU95sMv_D3"
      },
      "execution_count": null,
      "outputs": []
    },
    {
      "cell_type": "markdown",
      "source": [
        "Let's rename column 0 in `el_df` to 'UnEmployment_Level'.    \n"
      ],
      "metadata": {
        "id": "jY16wiLav_D3"
      }
    },
    {
      "cell_type": "code",
      "source": [
        "ul_df.columns = ['Period','UnEmployment_Level']"
      ],
      "metadata": {
        "id": "XeIMCBvkv_D4"
      },
      "execution_count": 55,
      "outputs": []
    },
    {
      "cell_type": "code",
      "source": [
        "ul_df.info()"
      ],
      "metadata": {
        "id": "mCzD9IJQv_D4"
      },
      "execution_count": null,
      "outputs": []
    },
    {
      "cell_type": "markdown",
      "source": [
        "\n",
        "\n",
        "---\n",
        "\n"
      ],
      "metadata": {
        "id": "dXdQynuuDZk0"
      }
    },
    {
      "cell_type": "markdown",
      "source": [
        "###B.3 Combine Employment and UnEmployment Level Data    "
      ],
      "metadata": {
        "id": "FYz2pemkxNdB"
      }
    },
    {
      "cell_type": "markdown",
      "source": [
        "First, let's index both of our metric dataframes (`el_df` and `ul_df`)  using `datetime`.    \n"
      ],
      "metadata": {
        "id": "Qv9d_J5AxSE3"
      }
    },
    {
      "cell_type": "code",
      "source": [
        "# Here is where we use the variable `yyyymmm_token_str` we created in Housekeeping\n",
        "el_df['Datetime'] = pd.to_datetime(el_df['Period'], format=yyyymmm_token_str)\n",
        "el_df = el_df.set_index(pd.DatetimeIndex(el_df['Datetime']))"
      ],
      "metadata": {
        "id": "FfQ3i5zEyA6C"
      },
      "execution_count": 56,
      "outputs": []
    },
    {
      "cell_type": "code",
      "source": [
        "# Here is where we use the variable `yyyymmm_token_str` we created in Housekeeping\n",
        "ul_df['Datetime'] = pd.to_datetime(ul_df['Period'], format=yyyymmm_token_str)\n",
        "ul_df = ul_df.set_index(pd.DatetimeIndex(ul_df['Datetime']))"
      ],
      "metadata": {
        "id": "8nlcY1mvxjOu"
      },
      "execution_count": 57,
      "outputs": []
    },
    {
      "cell_type": "markdown",
      "source": [
        "One last look at each metric's dataframe.   "
      ],
      "metadata": {
        "id": "a__8baHMyHc1"
      }
    },
    {
      "cell_type": "code",
      "source": [
        "el_df.info()\n",
        "ul_df.info() "
      ],
      "metadata": {
        "id": "HEbH3dxdyLJS"
      },
      "execution_count": null,
      "outputs": []
    },
    {
      "cell_type": "markdown",
      "source": [
        "Using the **Employment Level** data in the `el_df` dataframe, create a new `df` dataframe which will be used as the foundational dataframe to include **UnEmployment Level** column data from the `ul_df` dataframe.    "
      ],
      "metadata": {
        "id": "jP9TPuZLyhC9"
      }
    },
    {
      "cell_type": "code",
      "source": [
        "df = el_df"
      ],
      "metadata": {
        "id": "NHti0r0xyhC9"
      },
      "execution_count": 59,
      "outputs": []
    },
    {
      "cell_type": "markdown",
      "source": [
        "Create a column `UnEmployment_Level` in the new `df` dataframe and assign values to that column using the `UnEmployment_Level` column in the `ul_df` dataframe.    "
      ],
      "metadata": {
        "id": "CMrdu1DEyhC-"
      }
    },
    {
      "cell_type": "code",
      "source": [
        "df['UnEmployment_Level'] = ul_df['UnEmployment_Level'].values"
      ],
      "metadata": {
        "id": "D4laNKTmyhC-"
      },
      "execution_count": 60,
      "outputs": []
    },
    {
      "cell_type": "code",
      "source": [
        "df.info()"
      ],
      "metadata": {
        "id": "MQsCIRod1LtC"
      },
      "execution_count": null,
      "outputs": []
    },
    {
      "cell_type": "markdown",
      "source": [
        "We can extract data from the 'Period' column to construct the following columns as well:    \n",
        "\n",
        "* **'Year'** : the four digit year as an integer    \n",
        "* **'Month'** : the three character month abbreviation as a string    \n",
        "* **'mm'** : the two digit month as an integer    \n"
      ],
      "metadata": {
        "id": "NSpPQpoHzVs-"
      }
    },
    {
      "cell_type": "code",
      "source": [
        "# Creat a column 'Year' for the four digit year as an integer\n",
        "df['Year'] = df.Period.str.slice(0,4).astype('int')"
      ],
      "metadata": {
        "id": "TuSz-D6-0X8m"
      },
      "execution_count": 61,
      "outputs": []
    },
    {
      "cell_type": "code",
      "source": [
        "# Create a column 'Month' for the three character month abbreviation\n",
        "df['Month'] = df.Period.str[5:]"
      ],
      "metadata": {
        "id": "VB8PJrsh1nTJ"
      },
      "execution_count": 62,
      "outputs": []
    },
    {
      "cell_type": "code",
      "source": [
        "# Create a column `mm` for the integer value of the month \n",
        "df['mm'] = df['Month'].replace(month_dict)"
      ],
      "metadata": {
        "id": "w0GgWBDf17kO"
      },
      "execution_count": 63,
      "outputs": []
    },
    {
      "cell_type": "code",
      "source": [
        "df.info()"
      ],
      "metadata": {
        "id": "7WfnSge8yufR"
      },
      "execution_count": null,
      "outputs": []
    },
    {
      "cell_type": "markdown",
      "source": [
        "Because we have `Datetime` as the index, we can drop the `Datetime` column but let's retain it in case we want it in the future.   While we are at it, let's rearrange the order of the columns to be more inuitive.   "
      ],
      "metadata": {
        "id": "NAAMFHj12Yfr"
      }
    },
    {
      "cell_type": "code",
      "source": [
        "df = df[['Datetime', 'Period', 'Year', 'mm', 'Month', 'Employment_Level', 'UnEmployment_Level']]"
      ],
      "metadata": {
        "id": "EMgIXwpm2Yfs"
      },
      "execution_count": 64,
      "outputs": []
    },
    {
      "cell_type": "code",
      "source": [
        "df.info()"
      ],
      "metadata": {
        "id": "c9Ws_83a2Yfs"
      },
      "execution_count": null,
      "outputs": []
    },
    {
      "cell_type": "code",
      "source": [
        "df.head(24)"
      ],
      "metadata": {
        "id": "Rot6n86e2Yft"
      },
      "execution_count": null,
      "outputs": []
    },
    {
      "cell_type": "markdown",
      "source": [
        "Let's sort the `df` dataframe by its index."
      ],
      "metadata": {
        "id": "NB77dP37jFvX"
      }
    },
    {
      "cell_type": "code",
      "source": [
        "df.sort_index(axis = 0, inplace=True)"
      ],
      "metadata": {
        "id": "2xVB7E76jFZ0"
      },
      "execution_count": 65,
      "outputs": []
    },
    {
      "cell_type": "code",
      "source": [
        "df.tail(18)"
      ],
      "metadata": {
        "id": "R57r1NS12Yft"
      },
      "execution_count": null,
      "outputs": []
    },
    {
      "cell_type": "markdown",
      "source": [
        "Now, we have one `df` dataframe with a row for every month in every year and  columns for both `Employment_Level` and `Un-Employment_Level` using a `Datetime` index."
      ],
      "metadata": {
        "id": "T_YbZalj2Yft"
      }
    },
    {
      "cell_type": "markdown",
      "source": [
        "\n",
        "\n",
        "---\n",
        "\n"
      ],
      "metadata": {
        "id": "_t8V7TqSUzku"
      }
    },
    {
      "cell_type": "markdown",
      "source": [
        "##C. PANDAS DATA WRANGLING AND `.MELT()`     \n",
        "\n",
        "This approach reads each source file directly into a Pandas dataframe (`el_df` and `ul_df` respectively for Employment and UmEmployment Levels).    \n",
        "\n",
        "Because of the structure of the source files, the interim dataframes populated, `el_col_df` for **Employment Level** and `ul_col_df` for **Un-Employment Level** require some data wrangling before they are ready to be combined into the resultant `df` dataframe.    \n"
      ],
      "metadata": {
        "id": "gFh4pA0sU0np"
      }
    },
    {
      "cell_type": "markdown",
      "source": [
        "![CST3512_Employment-UnEmployment_dfs.png](data:image/png;base64,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)"
      ],
      "metadata": {
        "id": "H-6sDQz1NgVP"
      }
    },
    {
      "cell_type": "markdown",
      "source": [
        "###C1. Load Data for Employment Level    \n"
      ],
      "metadata": {
        "id": "d2B6a-_slYVd"
      }
    },
    {
      "cell_type": "markdown",
      "source": [
        "####Read the file into DataFrame `el_df` from the current working directory    \n",
        "\n",
        "Skip the first 11 rows of header information.    \n"
      ],
      "metadata": {
        "id": "RjUOmoAiuQ--"
      }
    },
    {
      "cell_type": "code",
      "source": [
        "el_df = pd.read_csv('/content/bls_employment-level.csv', skiprows = 11)\n"
      ],
      "metadata": {
        "id": "6QdZluYpViQf"
      },
      "execution_count": null,
      "outputs": []
    },
    {
      "cell_type": "code",
      "source": [
        "el_df.tail()"
      ],
      "metadata": {
        "id": "TqMvqaZzHelZ"
      },
      "execution_count": null,
      "outputs": []
    },
    {
      "cell_type": "markdown",
      "source": [
        "Let's replace those pesky `NaN` values with zeroes (0) using `.fillna(0)`    \n"
      ],
      "metadata": {
        "id": "qDozwRt4H_ef"
      }
    },
    {
      "cell_type": "code",
      "source": [
        "el_df = el_df.fillna(0)"
      ],
      "metadata": {
        "id": "YDugKSkHIH3M"
      },
      "execution_count": null,
      "outputs": []
    },
    {
      "cell_type": "markdown",
      "source": [
        "What do we have?    "
      ],
      "metadata": {
        "id": "PTr1a81Oaz0J"
      }
    },
    {
      "cell_type": "code",
      "source": [
        "el_df.info()"
      ],
      "metadata": {
        "id": "GJlomp7xa1dJ"
      },
      "execution_count": null,
      "outputs": []
    },
    {
      "cell_type": "markdown",
      "source": [
        "*It seems that Pandas has made the DataFrame columns which have missing values as type `float` while the columns with data are type `int` (because all of the data read for those columns was integer.)*"
      ],
      "metadata": {
        "id": "yZwwZZRVtdDb"
      }
    },
    {
      "cell_type": "markdown",
      "source": [
        "###C2. Transform Employment Level Data    "
      ],
      "metadata": {
        "id": "aMwK8tx0lhon"
      }
    },
    {
      "cell_type": "markdown",
      "source": [
        "We see a mix of float and integer values for different month columns.    \n",
        "As this data is headcount data, it lends itself to be treated as integer.   "
      ],
      "metadata": {
        "id": "7eblPFQVucGV"
      }
    },
    {
      "cell_type": "code",
      "source": [
        "el_df"
      ],
      "metadata": {
        "id": "Ej1OuGTVIjmu"
      },
      "execution_count": null,
      "outputs": []
    },
    {
      "cell_type": "code",
      "source": [
        "# transform float value columns to integer for consistency\n",
        "# Q1 - this quarter seems to be moot but transform it just in case  \n",
        "el_df['Jan'] = el_df['Jan'].astype('int')\n",
        "el_df['Feb'] = el_df['Feb'].astype('int')\n",
        "el_df['Mar'] = el_df['Mar'].astype('int')\n",
        "# Q2  \n",
        "el_df['Apr'] = el_df['Apr'].astype('int')\n",
        "el_df['May'] = el_df['May'].astype('int')\n",
        "el_df['Jun'] = el_df['Jun'].astype('int')\n",
        "# Q3  \n",
        "el_df['Jul'] = el_df['Jul'].astype('int')\n",
        "el_df['Aug'] = el_df['Aug'].astype('int')\n",
        "el_df['Sep'] = el_df['Sep'].astype('int')\n",
        "# Q4  \n",
        "el_df['Oct'] = el_df['Oct'].astype('int')\n",
        "el_df['Nov'] = el_df['Nov'].astype('int')\n",
        "el_df['Dec'] = el_df['Dec'].astype('int')"
      ],
      "metadata": {
        "id": "4nPk2a4mWDAP"
      },
      "execution_count": null,
      "outputs": []
    },
    {
      "cell_type": "code",
      "source": [
        "el_df.info()"
      ],
      "metadata": {
        "id": "oxm2DWRJXwHO"
      },
      "execution_count": null,
      "outputs": []
    },
    {
      "cell_type": "code",
      "source": [
        "el_df.head(24)"
      ],
      "metadata": {
        "id": "FescjuysYxd7"
      },
      "execution_count": null,
      "outputs": []
    },
    {
      "cell_type": "markdown",
      "source": [
        "Now, melt the columns into rows of data.    \n",
        "Assign the resulting `dataframe` from the `.melt()` method to a new variable `el_col_df`. "
      ],
      "metadata": {
        "id": "zTM3rq8gaEnv"
      }
    },
    {
      "cell_type": "code",
      "source": [
        "el_col_df = el_df.melt(id_vars= ['Year'])"
      ],
      "metadata": {
        "id": "n1uGu_lYaI2C"
      },
      "execution_count": null,
      "outputs": []
    },
    {
      "cell_type": "code",
      "source": [
        "el_col_df"
      ],
      "metadata": {
        "id": "_bNC9yTZ1EHO"
      },
      "execution_count": null,
      "outputs": []
    },
    {
      "cell_type": "markdown",
      "source": [
        "Give the melted columns more meaningful names:    \n",
        "\n",
        "* the `variable` column is our three-character month abbreviation    \n",
        "* the `value` column is the integer data of employment level for the month    \n"
      ],
      "metadata": {
        "id": "78U2ce65vWMZ"
      }
    },
    {
      "cell_type": "code",
      "source": [
        "el_col_df.rename(columns={'variable': 'Month', 'value': 'Employment_Level'}, inplace=True)"
      ],
      "metadata": {
        "id": "wtliyy9Ha-b2"
      },
      "execution_count": null,
      "outputs": []
    },
    {
      "cell_type": "code",
      "source": [
        "el_col_df.info()"
      ],
      "metadata": {
        "id": "VPQGCXJCdUGg"
      },
      "execution_count": null,
      "outputs": []
    },
    {
      "cell_type": "markdown",
      "source": [
        "Construct a string column which combines the year and three character month for readability.   Call this column `Period`.  "
      ],
      "metadata": {
        "id": "WPT1l4sEvbTt"
      }
    },
    {
      "cell_type": "code",
      "source": [
        "el_col_df['Period'] = el_col_df['Year'].astype('str') + '-' + el_col_df['Month']"
      ],
      "metadata": {
        "id": "FQIJdnvgcxP4"
      },
      "execution_count": null,
      "outputs": []
    },
    {
      "cell_type": "markdown",
      "source": [
        "Because we have a `Year` column with the year as an integer, why not create a column with the integer value of the month?   Call this column `mm`.    \n"
      ],
      "metadata": {
        "id": "jkGSu65Wv8d-"
      }
    },
    {
      "cell_type": "code",
      "source": [
        "# Create a column `mm` for the integer value of the month \n",
        "el_col_df['mm'] = el_col_df['Month'].replace(month_dict)"
      ],
      "metadata": {
        "id": "2ZiY5D8Di9ac"
      },
      "execution_count": null,
      "outputs": []
    },
    {
      "cell_type": "markdown",
      "source": [
        "Use the `yyyymmm_token_str` string assigned in *Housekeeping* as an argument to  the Pandas method `.to_datetime()` which creates a `Datetime` object based on the column `Period`.    \n",
        "\n",
        "Set the `dataframe`'s index to the newly created `Datetime` column.    "
      ],
      "metadata": {
        "id": "RpFJSnMNxehA"
      }
    },
    {
      "cell_type": "code",
      "source": [
        "el_col_df['Datetime'] = pd.to_datetime(el_col_df['Period'], format=yyyymmm_token_str)\n",
        "el_col_df = el_col_df.set_index(pd.DatetimeIndex(el_col_df['Datetime']))"
      ],
      "metadata": {
        "id": "iCeIyY7hmue4"
      },
      "execution_count": null,
      "outputs": []
    },
    {
      "cell_type": "code",
      "source": [
        "el_col_df.info()"
      ],
      "metadata": {
        "id": "2Xptp136pOkH"
      },
      "execution_count": null,
      "outputs": []
    },
    {
      "cell_type": "code",
      "source": [
        "el_col_df.head(24)"
      ],
      "metadata": {
        "id": "U0kdZF3jaPYB"
      },
      "execution_count": null,
      "outputs": []
    },
    {
      "cell_type": "code",
      "source": [
        "el_col_df.tail(24)"
      ],
      "metadata": {
        "id": "o1hWHR5yaSOC"
      },
      "execution_count": null,
      "outputs": []
    },
    {
      "cell_type": "markdown",
      "source": [
        "Finally, let's drop those zero (0) values for the missing months.    \n"
      ],
      "metadata": {
        "id": "3LnavL2XI8YU"
      }
    },
    {
      "cell_type": "code",
      "source": [
        "el_col_df.drop(el_col_df[el_col_df.Employment_Level == 0].index, inplace=True)"
      ],
      "metadata": {
        "id": "VlJcbDKrJCCz"
      },
      "execution_count": null,
      "outputs": []
    },
    {
      "cell_type": "code",
      "source": [
        "el_col_df.tail(24)"
      ],
      "metadata": {
        "id": "pmOCoJu7Js7E"
      },
      "execution_count": null,
      "outputs": []
    },
    {
      "cell_type": "markdown",
      "source": [
        "\n",
        "\n",
        "---\n",
        "\n"
      ],
      "metadata": {
        "id": "vCyMoXsZVezz"
      }
    },
    {
      "cell_type": "markdown",
      "source": [
        "###C3. Load Data for UnEmployment Data   \n"
      ],
      "metadata": {
        "id": "HJzfiUUnloeH"
      }
    },
    {
      "cell_type": "markdown",
      "source": [
        "####Read the file into DataFrame `ul_df`  the current working directory    \n",
        "\n",
        "Skip the first 11 rows of header information.    \n"
      ],
      "metadata": {
        "id": "cPmDocJPuv50"
      }
    },
    {
      "cell_type": "code",
      "source": [
        "ul_df = pd.read_csv('/content/bls_unemployment-level.csv', skiprows = 11)\n"
      ],
      "metadata": {
        "id": "B-QHbX5yVaMX"
      },
      "execution_count": null,
      "outputs": []
    },
    {
      "cell_type": "code",
      "source": [
        "ul_df.head(24)"
      ],
      "metadata": {
        "id": "E7gfdprWKJ0j"
      },
      "execution_count": null,
      "outputs": []
    },
    {
      "cell_type": "markdown",
      "source": [
        "*It seems that Pandas has made the DataFrame columns which have missing values as type `float` while the columns with data are type `int` (because all of the data read for those columns was integer.)*"
      ],
      "metadata": {
        "id": "w4pbTDYWtDWf"
      }
    },
    {
      "cell_type": "code",
      "source": [
        "ul_df.info()"
      ],
      "metadata": {
        "id": "xNSgvIu7aQ6T"
      },
      "execution_count": null,
      "outputs": []
    },
    {
      "cell_type": "markdown",
      "source": [
        "Let's replace those pesky `NaN` values with zeroes (0) using `.fillna(0)`    \n"
      ],
      "metadata": {
        "id": "A1O_7slCKJ0k"
      }
    },
    {
      "cell_type": "code",
      "source": [
        "ul_df = ul_df.fillna(0)"
      ],
      "metadata": {
        "id": "bQLTxYgcKJ0k"
      },
      "execution_count": null,
      "outputs": []
    },
    {
      "cell_type": "markdown",
      "source": [
        "What do we have?"
      ],
      "metadata": {
        "id": "37x4ERO2aOVb"
      }
    },
    {
      "cell_type": "code",
      "source": [
        "ul_df.tail(24)"
      ],
      "metadata": {
        "id": "yUUGW_ACKvLO"
      },
      "execution_count": null,
      "outputs": []
    },
    {
      "cell_type": "markdown",
      "source": [
        "###C4. Transform Data for UnEmployment Level "
      ],
      "metadata": {
        "id": "V4-lGdmbluT_"
      }
    },
    {
      "cell_type": "markdown",
      "source": [
        "We see a mix of float and integer values for different month columns.    \n",
        "As this data is headcount data, it lends itself to be treated as integer.   "
      ],
      "metadata": {
        "id": "qRSxxfgyu3cM"
      }
    },
    {
      "cell_type": "code",
      "source": [
        "# transform float value columns to integer for consistency\n",
        "# Q1 - this quarter seems to be moot but transform it just in case  \n",
        "ul_df['Jan'] = ul_df['Jan'].astype('int')\n",
        "ul_df['Feb'] = ul_df['Feb'].astype('int')\n",
        "ul_df['Mar'] = ul_df['Mar'].astype('int')\n",
        "# Q2  \n",
        "ul_df['Apr'] = ul_df['Apr'].astype('int')\n",
        "ul_df['May'] = ul_df['May'].astype('int')\n",
        "ul_df['Jun'] = ul_df['Jun'].astype('int')\n",
        "# Q3  \n",
        "ul_df['Jul'] = ul_df['Jul'].astype('int')\n",
        "ul_df['Aug'] = ul_df['Aug'].astype('int')\n",
        "ul_df['Sep'] = ul_df['Sep'].astype('int')\n",
        "# Q4  \n",
        "ul_df['Oct'] = ul_df['Oct'].astype('int')\n",
        "ul_df['Nov'] = ul_df['Nov'].astype('int')\n",
        "ul_df['Dec'] = ul_df['Dec'].astype('int')"
      ],
      "metadata": {
        "id": "sQm64Zn_Yf-z"
      },
      "execution_count": null,
      "outputs": []
    },
    {
      "cell_type": "code",
      "source": [
        "ul_df.info()"
      ],
      "metadata": {
        "id": "mZepKbIdYncX"
      },
      "execution_count": null,
      "outputs": []
    },
    {
      "cell_type": "code",
      "source": [
        "ul_df.head(24)"
      ],
      "metadata": {
        "id": "o0egCQJSYsBh"
      },
      "execution_count": null,
      "outputs": []
    },
    {
      "cell_type": "markdown",
      "source": [
        "Now, melt the columns into rows of data.    \n",
        "Assign the resulting `dataframe` from the `.melt()` method to a new variable `ul_col_df`. "
      ],
      "metadata": {
        "id": "ak9kGL5SbpsT"
      }
    },
    {
      "cell_type": "code",
      "source": [
        "ul_col_df = ul_df.melt(id_vars= ['Year'])"
      ],
      "metadata": {
        "id": "72A7V4vgbwmR"
      },
      "execution_count": null,
      "outputs": []
    },
    {
      "cell_type": "markdown",
      "source": [
        "Give the melted columns more meaningful names:    \n",
        "\n",
        "* the `variable` column is our three-character month abbreviation    \n",
        "* the `value` column is the integer data of un-employment level for the month    \n"
      ],
      "metadata": {
        "id": "oqcYs6E9u96B"
      }
    },
    {
      "cell_type": "code",
      "source": [
        "ul_col_df.rename(columns={'variable': 'Month', 'value': 'UnEmployment_Level'}, inplace=True)"
      ],
      "metadata": {
        "id": "8d1SDjEkbwmV"
      },
      "execution_count": null,
      "outputs": []
    },
    {
      "cell_type": "code",
      "source": [
        "ul_col_df.info()"
      ],
      "metadata": {
        "id": "81xoqYVvdmwT"
      },
      "execution_count": null,
      "outputs": []
    },
    {
      "cell_type": "markdown",
      "source": [
        "Construct a string column which combines the year and three character month for readability.   Call this column `Period`.  "
      ],
      "metadata": {
        "id": "x1nFtYinvrK_"
      }
    },
    {
      "cell_type": "code",
      "source": [
        "ul_col_df['Period'] = ul_col_df['Year'].astype('str') + '-' + ul_col_df['Month']"
      ],
      "metadata": {
        "id": "S7_lvhcidmwU"
      },
      "execution_count": null,
      "outputs": []
    },
    {
      "cell_type": "markdown",
      "source": [
        "Because we have a `Year` column with the year as an integer, why not create a column with the integer value of the month?   Call this column `mm`.    \n"
      ],
      "metadata": {
        "id": "Rbx3aSn0vsd1"
      }
    },
    {
      "cell_type": "code",
      "source": [
        "# Create a column `mm` for the integer value of the month \n",
        "ul_col_df['mm'] = ul_col_df['Month'].replace(month_dict)"
      ],
      "metadata": {
        "id": "ClEHd1Najv-y"
      },
      "execution_count": null,
      "outputs": []
    },
    {
      "cell_type": "markdown",
      "source": [
        "Use the `yyyymmm_token_str` string assigned in *Housekeeping* as an argument to  the Pandas method `.to_datetime()` which creates a `Datetime` object based on the column `Period`.    \n",
        "\n",
        "Set the `dataframe`'s index to the newly created `Datetime` column.    "
      ],
      "metadata": {
        "id": "0GNR5GNxyMxH"
      }
    },
    {
      "cell_type": "code",
      "source": [
        "ul_col_df['Datetime'] = pd.to_datetime(ul_col_df['Period'], format=yyyymmm_token_str)\n",
        "ul_col_df = ul_col_df.set_index(pd.DatetimeIndex(ul_col_df['Datetime']))"
      ],
      "metadata": {
        "id": "7IQ04yDDpZWZ"
      },
      "execution_count": null,
      "outputs": []
    },
    {
      "cell_type": "code",
      "source": [
        "ul_col_df.info()"
      ],
      "metadata": {
        "id": "Tp5FmzEQpZWa"
      },
      "execution_count": null,
      "outputs": []
    },
    {
      "cell_type": "code",
      "source": [
        "ul_col_df.head(24)"
      ],
      "metadata": {
        "id": "x35SdD-EbwmW"
      },
      "execution_count": null,
      "outputs": []
    },
    {
      "cell_type": "code",
      "source": [
        "ul_col_df.tail(24)"
      ],
      "metadata": {
        "id": "BAn28meTbwmW"
      },
      "execution_count": null,
      "outputs": []
    },
    {
      "cell_type": "markdown",
      "source": [
        "Finally, let's drop those zero (0) values for the missing months.    \n"
      ],
      "metadata": {
        "id": "0dGSsAmLKW6B"
      }
    },
    {
      "cell_type": "code",
      "source": [
        "ul_col_df.drop(ul_col_df[ul_col_df.UnEmployment_Level == 0].index, inplace=True)"
      ],
      "metadata": {
        "id": "LaTNwWQIKW6B"
      },
      "execution_count": null,
      "outputs": []
    },
    {
      "cell_type": "code",
      "source": [
        "ul_col_df.tail(24)"
      ],
      "metadata": {
        "id": "MryLR3uOKW6C"
      },
      "execution_count": null,
      "outputs": []
    },
    {
      "cell_type": "markdown",
      "source": [
        "\n",
        "\n",
        "---\n",
        "\n"
      ],
      "metadata": {
        "id": "uXrNfjQQYlz1"
      }
    },
    {
      "cell_type": "markdown",
      "source": [
        "###C5. Combine Employment and UnEmployment Level Data    \n"
      ],
      "metadata": {
        "id": "xu2iJuR0p0yq"
      }
    },
    {
      "cell_type": "markdown",
      "source": [
        "Using the **Employment Level** data in the `el_col_df` dataframe, create a new `df` dataframe which will be used as the foundational dataframe to include **Un-Employment Level** column data from the `ul_col_df` dataframe.    "
      ],
      "metadata": {
        "id": "iF5o9WACyQ8Q"
      }
    },
    {
      "cell_type": "code",
      "source": [
        "df = el_col_df"
      ],
      "metadata": {
        "id": "uo9XmVIgp2zM"
      },
      "execution_count": null,
      "outputs": []
    },
    {
      "cell_type": "markdown",
      "source": [
        "Create a column `Un-Employment_Level` in the new `df` dataframe and assign values to that column using the `Un-Employment_Level` column in the `ul_col_df` dataframe.    "
      ],
      "metadata": {
        "id": "jTUX3tjlyrTY"
      }
    },
    {
      "cell_type": "code",
      "source": [
        "df['UnEmployment_Level'] = ul_col_df['UnEmployment_Level'].values"
      ],
      "metadata": {
        "id": "ARAouJYSqUDw"
      },
      "execution_count": null,
      "outputs": []
    },
    {
      "cell_type": "markdown",
      "source": [
        "Because we have `Datetime` as the index, we can drop the `Datetime` column but let's retain it in case we want it in the future.   While we are at it, let's rearrange the order of the columns to be more inuitive.  "
      ],
      "metadata": {
        "id": "r5nQM9eJy98f"
      }
    },
    {
      "cell_type": "code",
      "source": [
        "df = df[['Datetime', 'Period', 'Year', 'mm', 'Month', 'Employment_Level', 'UnEmployment_Level']]"
      ],
      "metadata": {
        "id": "IaMEv_d4rFGh"
      },
      "execution_count": null,
      "outputs": []
    },
    {
      "cell_type": "code",
      "source": [
        "df.info()"
      ],
      "metadata": {
        "id": "tSFXsAxiqk8l"
      },
      "execution_count": null,
      "outputs": []
    },
    {
      "cell_type": "code",
      "source": [
        "df.head(24)"
      ],
      "metadata": {
        "id": "dIF-pWsIreBO"
      },
      "execution_count": null,
      "outputs": []
    },
    {
      "cell_type": "markdown",
      "source": [
        "Let's sort the `df` dataframe by its index."
      ],
      "metadata": {
        "id": "9Ugv63Poh-52"
      }
    },
    {
      "cell_type": "code",
      "source": [
        "df.sort_index(axis = 0, inplace=True)"
      ],
      "metadata": {
        "id": "gnrbXXqmh5Vb"
      },
      "execution_count": null,
      "outputs": []
    },
    {
      "cell_type": "code",
      "source": [
        "df.tail(18)"
      ],
      "metadata": {
        "id": "z9Ysb_3hrf2S"
      },
      "execution_count": null,
      "outputs": []
    },
    {
      "cell_type": "markdown",
      "source": [
        "Now, we have one `df` dataframe with a row for every month in every year and  columns for both `Employment_Level` and `Un-Employment_Level` using a `Datetime` index."
      ],
      "metadata": {
        "id": "jOzvTHcwzL7H"
      }
    },
    {
      "cell_type": "markdown",
      "source": [
        "\n",
        "\n",
        "---\n",
        "\n"
      ],
      "metadata": {
        "id": "rcFo5rJyfeQ3"
      }
    },
    {
      "cell_type": "markdown",
      "source": [
        "##D. SOME TIMESERIES PLOTTING EXAMPLES    \n",
        "\n",
        "*Some sample plots of the data in the `df` dataframe created above.*   "
      ],
      "metadata": {
        "id": "3OhODu8o5lbw"
      }
    },
    {
      "cell_type": "markdown",
      "source": [
        "###D.1 Single Line Plot: Employment_Level    \n"
      ],
      "metadata": {
        "id": "DjUpP6xJ_LKm"
      }
    },
    {
      "cell_type": "code",
      "source": [
        "# Line plot of Employment_Level\n",
        "\n",
        "# depicting the visualization\n",
        "plt.plot(df.index, df['Employment_Level'], color='green') \n",
        "# plotting the index on the x axis does the same as the following statement:\n",
        "# plt.plot(df.Datetime, df['Employment_Level'], color='green') \n",
        "plt.xlabel('Year/Month') \n",
        "plt.ylabel('Level') \n",
        "  \n",
        "# displaying the title\n",
        "plt.title(\"Employment Level\")\n",
        "  \n",
        "plt.show() "
      ],
      "metadata": {
        "colab": {
          "base_uri": "https://localhost:8080/",
          "height": 295
        },
        "id": "vCtxYvAU59Qh",
        "outputId": "c2abf3c6-c79c-42a0-fbae-862ab3b93163"
      },
      "execution_count": 68,
      "outputs": [
        {
          "output_type": "display_data",
          "data": {
            "text/plain": [
              "<Figure size 432x288 with 1 Axes>"
            ],
            "image/png": "[encoded data removed]"
          },
          "metadata": {
            "needs_background": "light"
          }
        }
      ]
    },
    {
      "cell_type": "markdown",
      "source": [
        "###D.2 Single Line Plot: UnEmployment_Level    \n"
      ],
      "metadata": {
        "id": "ez-vL7B5_Yij"
      }
    },
    {
      "cell_type": "code",
      "source": [
        "# Line plot of Un-Employment_Level\n",
        "\n",
        "# depicting the visualization\n",
        "plt.plot(df.index, df['UnEmployment_Level'], color='red') \n",
        "# plotting the index on the x axis does the same as the following statement:\n",
        "# plt.plot(df.Datetime, df['UnEmployment_Level'], color='red') \n",
        "plt.xlabel('Year/Month') \n",
        "plt.ylabel('Level') \n",
        "  \n",
        "# displaying the title\n",
        "plt.title(\"UnEmployment Level\")\n",
        "  \n",
        "plt.show() "
      ],
      "metadata": {
        "colab": {
          "base_uri": "https://localhost:8080/",
          "height": 295
        },
        "id": "4DpBH96V8I-Q",
        "outputId": "2fa563c7-f04f-47cc-cd21-2f593c5773e3"
      },
      "execution_count": 69,
      "outputs": [
        {
          "output_type": "display_data",
          "data": {
            "text/plain": [
              "<Figure size 432x288 with 1 Axes>"
            ],
            "image/png": "[encoded data removed]"
          },
          "metadata": {
            "needs_background": "light"
          }
        }
      ]
    },
    {
      "cell_type": "markdown",
      "source": [
        "###D.3 Dual Line Plot: Employment_Level & UnEmployment_Level - same y axis       \n"
      ],
      "metadata": {
        "id": "1jouMvKg_cI1"
      }
    },
    {
      "cell_type": "code",
      "source": [
        "# Line plot of Employment Level and Un-Employment_Level\n",
        "\n",
        "# depicting the visualization\n",
        "plt.plot(df.index, df['UnEmployment_Level'], color='red') \n",
        "plt.plot(df.index, df['Employment_Level'], color='green') \n",
        "# plotting the index on the x axis does the same as the following two statements:\n",
        "# plt.plot(df.Datetime, df['Employment_Level'], color='green') \n",
        "# plt.plot(df.Datetime, df['UnEmployment_Level'], color='red') \n",
        "plt.xlabel('Year/Month') \n",
        "plt.ylabel('Level') \n",
        "  \n",
        "# displaying the title\n",
        "plt.title(\"Employment(green) and Un-Employment(red)\")\n",
        "  \n",
        "plt.show() "
      ],
      "metadata": {
        "colab": {
          "base_uri": "https://localhost:8080/",
          "height": 295
        },
        "id": "iIfoPtUY9THO",
        "outputId": "11408a94-ca91-4212-9790-e5f9fa1957d4"
      },
      "execution_count": 70,
      "outputs": [
        {
          "output_type": "display_data",
          "data": {
            "text/plain": [
              "<Figure size 432x288 with 1 Axes>"
            ],
            "image/png": "[encoded data removed]"
          },
          "metadata": {
            "needs_background": "light"
          }
        }
      ]
    },
    {
      "cell_type": "markdown",
      "source": [
        "###D.4 Dual Line Plot: Employment_Level & UnEmployment_Level - twin y axes       \n"
      ],
      "metadata": {
        "id": "c34oWa-j_nVn"
      }
    },
    {
      "cell_type": "code",
      "source": [
        "# Create Plot on First Axis (ax1)\n",
        "\n",
        "fig, ax1 = plt.subplots() \n",
        "  \n",
        "ax1.set_xlabel('Year/Month') \n",
        "ax1.set_ylabel('UnEmployment Level', color = 'red') \n",
        "ax1.plot(df.index, df['UnEmployment_Level'], color='red') \n",
        "# plotting the index on the x axis does the same as the following two statements:\n",
        "# plt.plot(df.Datetime, df['Employment_Level'], color='green') \n",
        "# plt.plot(df.Datetime, df['UnEmployment_Level'], color='red') \n",
        "ax1.tick_params(axis ='y', labelcolor = 'red') \n",
        "  \n",
        "# Adding Twin Axis (ax2)\n",
        "\n",
        "ax2 = ax1.twinx() \n",
        "  \n",
        "ax2.set_ylabel('Employment Level', color = 'green') \n",
        "ax2.plot(df.index, df['Employment_Level'], color='green') \n",
        "ax2.tick_params(axis ='y', labelcolor = 'green') \n",
        " \n",
        "# Show plot\n",
        "\n",
        "plt.show()"
      ],
      "metadata": {
        "colab": {
          "base_uri": "https://localhost:8080/",
          "height": 282
        },
        "id": "Rzr8QLlU-JvM",
        "outputId": "786af28a-5db1-42b6-af3f-4f540da682f1"
      },
      "execution_count": 71,
      "outputs": [
        {
          "output_type": "display_data",
          "data": {
            "text/plain": [
              "<Figure size 432x288 with 2 Axes>"
            ],
            "image/png": "[encoded data removed]"
          },
          "metadata": {
            "needs_background": "light"
          }
        }
      ]
    },
    {
      "cell_type": "markdown",
      "source": [
        "###D.5 Employment_Level Candlestick Chart of Yearly OHLC (plotly `go`)       \n",
        "\n",
        "*Using `plotly` `go`*\n",
        "\n"
      ],
      "metadata": {
        "id": "72aaQGHsnGId"
      }
    },
    {
      "cell_type": "markdown",
      "source": [
        "We will want a dataframe with Open, High, Low, and Close (OHLC) columns as well as a date value for charting.  Given the data available, we can construct a chart of OHLC on an annual basis.       \n",
        "\n",
        "To prepare `Employment_Level` data for `ohlc` analysis, we create series for the following using `Employment_Level` in our `df` dataframe:    \n",
        "* **Open** : create a `groupby()` series of annual first values in `el_o_gb`    \n",
        "* **High** : create a `groupby()` series of annual maximum values in `el_h_gb`    \n",
        "* **Low** : create a `groupby()` series of annual minium values in `el_l_gb` <- that middle character is an 'L' for 'low'        \n",
        "* **Close** : create a `groupby()` series of annual last values in `el_o_gb`    \n",
        "\n"
      ],
      "metadata": {
        "id": "lqN1FgiFZ3xV"
      }
    },
    {
      "cell_type": "code",
      "source": [
        "df.info()"
      ],
      "metadata": {
        "id": "g_3dOTt3Z3xW"
      },
      "execution_count": null,
      "outputs": []
    },
    {
      "cell_type": "code",
      "source": [
        "# use .groupby() to produce a series of highest Employment_Level by Year\n",
        "el_h_gb = df['Employment_Level'].groupby(df['Year']).max()\n",
        "\n",
        "# use .groupby() to produce a series of lowest Employment_Level by Year\n",
        "el_l_gb = df['Employment_Level'].groupby(df['Year']).min()\n"
      ],
      "metadata": {
        "id": "r4IchYG9Z3xW"
      },
      "execution_count": 73,
      "outputs": []
    },
    {
      "cell_type": "code",
      "source": [
        "print('Highest Annual `Employment_Level` Values\\n',el_h_gb)\n",
        "print()\n",
        "print('Lowest Annual `Employment_Level` Values\\n',el_l_gb)"
      ],
      "metadata": {
        "id": "JPuzlQaTZ3xX"
      },
      "execution_count": null,
      "outputs": []
    },
    {
      "cell_type": "code",
      "source": [
        "# use .groupby() to produce a series of first (opening) Employment_Level by Year\n",
        "el_o_gb = df['Employment_Level'].groupby(df['Year']).first() \n",
        "\n",
        "# use .groupby() to produce a series of last (closing) Employment_Level by Year\n",
        "el_c_gb = df['Employment_Level'].groupby(df['Year']).last()"
      ],
      "metadata": {
        "id": "BxkKwhvZZ3xX"
      },
      "execution_count": 75,
      "outputs": []
    },
    {
      "cell_type": "code",
      "source": [
        "print('Opening Annual `Employment_Level` Values\\n',el_o_gb)\n",
        "print()\n",
        "print('Closing Annual `Employment_Level` Values\\n',el_c_gb)"
      ],
      "metadata": {
        "id": "fnAYMKy3Z3xX"
      },
      "execution_count": null,
      "outputs": []
    },
    {
      "cell_type": "markdown",
      "source": [
        "Now create a dataframe which has columns for `'Year'`, `'Open'`, `'High'`, `'Low'`, and `'Close'`.    \n",
        " "
      ],
      "metadata": {
        "id": "dx2wm0UBZ3xY"
      }
    },
    {
      "cell_type": "code",
      "source": [
        "# creat a dictionary `ohlc_dict` of the column names and arrays to use for values\n",
        "el_ohlc_dict = { 'Year': el_o_gb.index, 'Open': el_o_gb, 'High': el_h_gb, 'Low': el_l_gb, 'Close': el_c_gb }\n",
        "# assign column names and values to a dataframe `el_ohlc_df` using `ohlc_dict`\n",
        "el_ohlc_df = pd.DataFrame(el_ohlc_dict)"
      ],
      "metadata": {
        "id": "AbE5YpGQZ3xY"
      },
      "execution_count": 79,
      "outputs": []
    },
    {
      "cell_type": "code",
      "source": [
        "print('OHLC Annual Values for `Employment_Level`: ')\n",
        "el_ohlc_df"
      ],
      "metadata": {
        "id": "xqEvprATZ3xY"
      },
      "execution_count": null,
      "outputs": []
    },
    {
      "cell_type": "code",
      "source": [
        "# Here is where we use the variable `yyyy_token_str` we created in Housekeeping\n",
        "el_ohlc_df['Datetime'] = pd.to_datetime(el_ohlc_df['Year'], format=yyyy_token_str)\n",
        "el_ohlc_df = el_ohlc_df.set_index(pd.DatetimeIndex(el_ohlc_df['Year']))"
      ],
      "metadata": {
        "id": "H1ensRTQZ3xZ"
      },
      "execution_count": null,
      "outputs": []
    },
    {
      "cell_type": "markdown",
      "source": [
        "Let's plot a candlestick chart of `ohlc` data by `Year` using the **plotly** `go` module.    \n",
        "\n",
        "Documentation on **plotly** `go` can be found [here](https://plotly.com/python/ohlc-charts/).     \n",
        "\n"
      ],
      "metadata": {
        "id": "ycPdHLiZaG0m"
      }
    },
    {
      "cell_type": "code",
      "source": [
        "# draw the ohlc plot without hovertext control\n",
        "fig = go.Figure(data=go.Ohlc(\n",
        "                    x=el_ohlc_df['Year'],        # xaxis series\n",
        "                    open=el_ohlc_df['Open'],     # open values series\n",
        "                    high=el_ohlc_df['High'],     # high values series\n",
        "                    low=el_ohlc_df['Low'],       # low values series\n",
        "                    close=el_ohlc_df['Close']    # close values series\n",
        "                    ))\n",
        "\n",
        "# this turns off the default rangeslider (a GUI control at the bottom of the plot)\n",
        "fig.update(layout_xaxis_rangeslider_visible=False)  # turn off range slider\n",
        "\n",
        "# update the figure for some plot formatting  \n",
        "fig.update_layout(\n",
        "    title='Yearly Employment from US BLS',       # chart title\n",
        "    margin_b = 100,        #increase the bottom margin to have space for caption\n",
        "    yaxis_title='Employment Level*',              # yaxis label \n",
        "    xaxis=dict(\n",
        "        title='Year',                            # xaxis label\n",
        "        tickmode='linear'),                      # show every value on xaxis\n",
        "    annotations = [dict(xref='paper',\n",
        "        yref='paper',\n",
        "        x=0.5, y=-0.25,\n",
        "        showarrow=False,\n",
        "        text ='note: impact period of Covid-19 pandemic in orange box.')]\n",
        ")\n",
        "\n",
        "# add another annotation/footnote for scale of values \n",
        "fig.add_annotation(text=\"*all values are in 000 (thousands).\",\n",
        "                  xref=\"paper\", yref=\"paper\",\n",
        "                  x=0, y=0, showarrow=False)\n",
        "\n",
        "# Add shape of empty orange box for Covid-19 pandemic to the figure\n",
        "fig.add_shape(type=\"rect\",                       # draw a rectangle\n",
        "    x0='2019', y0=130000, x1='2022', y1=160000,  # corners of rectangle\n",
        "    line=dict(color=\"DarkSalmon\"), opacity=0.5,  # rectangle color/transparency\n",
        "    layer='below',line_width=5,                  # rectangle layer, line width\n",
        ") \n",
        "\n",
        "# update the figure for the shape created \n",
        "fig.update_shapes(dict(xref='x', yref='y'))\n",
        "\n",
        "# display the figure \n",
        "fig.show()"
      ],
      "metadata": {
        "colab": {
          "base_uri": "https://localhost:8080/",
          "height": 542
        },
        "id": "xvSRXoB4aGT7",
        "outputId": "ac0a154c-6865-4401-99b7-ebb2cf3a3685"
      },
      "execution_count": 130,
      "outputs": [
        {
          "output_type": "display_data",
          "data": {
            "text/html": [
              "<html>\n",
              "<head><meta charset=\"utf-8\" /></head>\n",
              "<body>\n",
              "    <div>            <script src=\"https://cdnjs.cloudflare.com/ajax/libs/mathjax/2.7.5/MathJax.js?config=TeX-AMS-MML_SVG\"></script><script type=\"text/javascript\">if (window.MathJax) {MathJax.Hub.Config({SVG: {font: \"STIX-Web\"}});}</script>                <script type=\"text/javascript\">window.PlotlyConfig = {MathJaxConfig: 'local'};</script>\n",
              "        <script src=\"https://cdn.plot.ly/plotly-2.8.3.min.js\"></script>                <div id=\"3d7bba78-f503-4412-95e4-f170fccd5634\" class=\"plotly-graph-div\" style=\"height:525px; width:100%;\"></div>            <script type=\"text/javascript\">                                    window.PLOTLYENV=window.PLOTLYENV || {};                                    if (document.getElementById(\"3d7bba78-f503-4412-95e4-f170fccd5634\")) {                    Plotly.newPlot(                        \"3d7bba78-f503-4412-95e4-f170fccd5634\",                        [{\"close\":[143330,144778,147615,150128,152157,153904,156767,158772,149883,155975,158458],\"high\":[143431,144778,147615,150128,152157,154286,156767,158772,158866,155975,158458],\"low\":[141584,143292,145134,148045,150653,152152,154493,156614,133320,150004,157174],\"open\":[141584,143292,145150,148145,150653,152152,154493,156614,158653,150004,157174],\"x\":[2012,2013,2014,2015,2016,2017,2018,2019,2020,2021,2022],\"type\":\"ohlc\"}],                        {\"template\":{\"data\":{\"bar\":[{\"error_x\":{\"color\":\"#2a3f5f\"},\"error_y\":{\"color\":\"#2a3f5f\"},\"marker\":{\"line\":{\"color\":\"#E5ECF6\",\"width\":0.5},\"pattern\":{\"fillmode\":\"overlay\",\"size\":10,\"solidity\":0.2}},\"type\":\"bar\"}],\"barpolar\":[{\"marker\":{\"line\":{\"color\":\"#E5ECF6\",\"width\":0.5},\"pattern\":{\"fillmode\":\"overlay\",\"size\":10,\"solidity\":0.2}},\"type\":\"barpolar\"}],\"carpet\":[{\"aaxis\":{\"endlinecolor\":\"#2a3f5f\",\"gridcolor\":\"white\",\"linecolor\":\"white\",\"minorgridcolor\":\"white\",\"startlinecolor\":\"#2a3f5f\"},\"baxis\":{\"endlinecolor\":\"#2a3f5f\",\"gridcolor\":\"white\",\"linecolor\":\"white\",\"minorgridcolor\":\"white\",\"startlinecolor\":\"#2a3f5f\"},\"type\":\"carpet\"}],\"choropleth\":[{\"colorbar\":{\"outlinewidth\":0,\"ticks\":\"\"},\"type\":\"choropleth\"}],\"contour\":[{\"colorbar\":{\"outlinewidth\":0,\"ticks\":\"\"},\"colorscale\":[[0.0,\"#0d0887\"],[0.1111111111111111,\"#46039f\"],[0.2222222222222222,\"#7201a8\"],[0.3333333333333333,\"#9c179e\"],[0.4444444444444444,\"#bd3786\"],[0.5555555555555556,\"#d8576b\"],[0.6666666666666666,\"#ed7953\"],[0.7777777777777778,\"#fb9f3a\"],[0.8888888888888888,\"#fdca26\"],[1.0,\"#f0f921\"]],\"type\":\"contour\"}],\"contourcarpet\":[{\"colorbar\":{\"outlinewidth\":0,\"ticks\":\"\"},\"type\":\"contourcarpet\"}],\"heatmap\":[{\"colorbar\":{\"outlinewidth\":0,\"ticks\":\"\"},\"colorscale\":[[0.0,\"#0d0887\"],[0.1111111111111111,\"#46039f\"],[0.2222222222222222,\"#7201a8\"],[0.3333333333333333,\"#9c179e\"],[0.4444444444444444,\"#bd3786\"],[0.5555555555555556,\"#d8576b\"],[0.6666666666666666,\"#ed7953\"],[0.7777777777777778,\"#fb9f3a\"],[0.8888888888888888,\"#fdca26\"],[1.0,\"#f0f921\"]],\"type\":\"heatmap\"}],\"heatmapgl\":[{\"colorbar\":{\"outlinewidth\":0,\"ticks\":\"\"},\"colorscale\":[[0.0,\"#0d0887\"],[0.1111111111111111,\"#46039f\"],[0.2222222222222222,\"#7201a8\"],[0.3333333333333333,\"#9c179e\"],[0.4444444444444444,\"#bd3786\"],[0.5555555555555556,\"#d8576b\"],[0.6666666666666666,\"#ed7953\"],[0.7777777777777778,\"#fb9f3a\"],[0.8888888888888888,\"#fdca26\"],[1.0,\"#f0f921\"]],\"type\":\"heatmapgl\"}],\"histogram\":[{\"marker\":{\"pattern\":{\"fillmode\":\"overlay\",\"size\":10,\"solidity\":0.2}},\"type\":\"histogram\"}],\"histogram2d\":[{\"colorbar\":{\"outlinewidth\":0,\"ticks\":\"\"},\"colorscale\":[[0.0,\"#0d0887\"],[0.1111111111111111,\"#46039f\"],[0.2222222222222222,\"#7201a8\"],[0.3333333333333333,\"#9c179e\"],[0.4444444444444444,\"#bd3786\"],[0.5555555555555556,\"#d8576b\"],[0.6666666666666666,\"#ed7953\"],[0.7777777777777778,\"#fb9f3a\"],[0.8888888888888888,\"#fdca26\"],[1.0,\"#f0f921\"]],\"type\":\"histogram2d\"}],\"histogram2dcontour\":[{\"colorbar\":{\"outlinewidth\":0,\"ticks\":\"\"},\"colorscale\":[[0.0,\"#0d0887\"],[0.1111111111111111,\"#46039f\"],[0.2222222222222222,\"#7201a8\"],[0.3333333333333333,\"#9c179e\"],[0.4444444444444444,\"#bd3786\"],[0.5555555555555556,\"#d8576b\"],[0.6666666666666666,\"#ed7953\"],[0.7777777777777778,\"#fb9f3a\"],[0.8888888888888888,\"#fdca26\"],[1.0,\"#f0f921\"]],\"type\":\"histogram2dcontour\"}],\"mesh3d\":[{\"colorbar\":{\"outlinewidth\":0,\"ticks\":\"\"},\"type\":\"mesh3d\"}],\"parcoords\":[{\"line\":{\"colorbar\":{\"outlinewidth\":0,\"ticks\":\"\"}},\"type\":\"parcoords\"}],\"pie\":[{\"automargin\":true,\"type\":\"pie\"}],\"scatter\":[{\"marker\":{\"colorbar\":{\"outlinewidth\":0,\"ticks\":\"\"}},\"type\":\"scatter\"}],\"scatter3d\":[{\"line\":{\"colorbar\":{\"outlinewidth\":0,\"ticks\":\"\"}},\"marker\":{\"colorbar\":{\"outlinewidth\":0,\"ticks\":\"\"}},\"type\":\"scatter3d\"}],\"scattercarpet\":[{\"marker\":{\"colorbar\":{\"outlinewidth\":0,\"ticks\":\"\"}},\"type\":\"scattercarpet\"}],\"scattergeo\":[{\"marker\":{\"colorbar\":{\"outlinewidth\":0,\"ticks\":\"\"}},\"type\":\"scattergeo\"}],\"scattergl\":[{\"marker\":{\"colorbar\":{\"outlinewidth\":0,\"ticks\":\"\"}},\"type\":\"scattergl\"}],\"scattermapbox\":[{\"marker\":{\"colorbar\":{\"outlinewidth\":0,\"ticks\":\"\"}},\"type\":\"scattermapbox\"}],\"scatterpolar\":[{\"marker\":{\"colorbar\":{\"outlinewidth\":0,\"ticks\":\"\"}},\"type\":\"scatterpolar\"}],\"scatterpolargl\":[{\"marker\":{\"colorbar\":{\"outlinewidth\":0,\"ticks\":\"\"}},\"type\":\"scatterpolargl\"}],\"scatterternary\":[{\"marker\":{\"colorbar\":{\"outlinewidth\":0,\"ticks\":\"\"}},\"type\":\"scatterternary\"}],\"surface\":[{\"colorbar\":{\"outlinewidth\":0,\"ticks\":\"\"},\"colorscale\":[[0.0,\"#0d0887\"],[0.1111111111111111,\"#46039f\"],[0.2222222222222222,\"#7201a8\"],[0.3333333333333333,\"#9c179e\"],[0.4444444444444444,\"#bd3786\"],[0.5555555555555556,\"#d8576b\"],[0.6666666666666666,\"#ed7953\"],[0.7777777777777778,\"#fb9f3a\"],[0.8888888888888888,\"#fdca26\"],[1.0,\"#f0f921\"]],\"type\":\"surface\"}],\"table\":[{\"cells\":{\"fill\":{\"color\":\"#EBF0F8\"},\"line\":{\"color\":\"white\"}},\"header\":{\"fill\":{\"color\":\"#C8D4E3\"},\"line\":{\"color\":\"white\"}},\"type\":\"table\"}]},\"layout\":{\"annotationdefaults\":{\"arrowcolor\":\"#2a3f5f\",\"arrowhead\":0,\"arrowwidth\":1},\"autotypenumbers\":\"strict\",\"coloraxis\":{\"colorbar\":{\"outlinewidth\":0,\"ticks\":\"\"}},\"colorscale\":{\"diverging\":[[0,\"#8e0152\"],[0.1,\"#c51b7d\"],[0.2,\"#de77ae\"],[0.3,\"#f1b6da\"],[0.4,\"#fde0ef\"],[0.5,\"#f7f7f7\"],[0.6,\"#e6f5d0\"],[0.7,\"#b8e186\"],[0.8,\"#7fbc41\"],[0.9,\"#4d9221\"],[1,\"#276419\"]],\"sequential\":[[0.0,\"#0d0887\"],[0.1111111111111111,\"#46039f\"],[0.2222222222222222,\"#7201a8\"],[0.3333333333333333,\"#9c179e\"],[0.4444444444444444,\"#bd3786\"],[0.5555555555555556,\"#d8576b\"],[0.6666666666666666,\"#ed7953\"],[0.7777777777777778,\"#fb9f3a\"],[0.8888888888888888,\"#fdca26\"],[1.0,\"#f0f921\"]],\"sequentialminus\":[[0.0,\"#0d0887\"],[0.1111111111111111,\"#46039f\"],[0.2222222222222222,\"#7201a8\"],[0.3333333333333333,\"#9c179e\"],[0.4444444444444444,\"#bd3786\"],[0.5555555555555556,\"#d8576b\"],[0.6666666666666666,\"#ed7953\"],[0.7777777777777778,\"#fb9f3a\"],[0.8888888888888888,\"#fdca26\"],[1.0,\"#f0f921\"]]},\"colorway\":[\"#636efa\",\"#EF553B\",\"#00cc96\",\"#ab63fa\",\"#FFA15A\",\"#19d3f3\",\"#FF6692\",\"#B6E880\",\"#FF97FF\",\"#FECB52\"],\"font\":{\"color\":\"#2a3f5f\"},\"geo\":{\"bgcolor\":\"white\",\"lakecolor\":\"white\",\"landcolor\":\"#E5ECF6\",\"showlakes\":true,\"showland\":true,\"subunitcolor\":\"white\"},\"hoverlabel\":{\"align\":\"left\"},\"hovermode\":\"closest\",\"mapbox\":{\"style\":\"light\"},\"paper_bgcolor\":\"white\",\"plot_bgcolor\":\"#E5ECF6\",\"polar\":{\"angularaxis\":{\"gridcolor\":\"white\",\"linecolor\":\"white\",\"ticks\":\"\"},\"bgcolor\":\"#E5ECF6\",\"radialaxis\":{\"gridcolor\":\"white\",\"linecolor\":\"white\",\"ticks\":\"\"}},\"scene\":{\"xaxis\":{\"backgroundcolor\":\"#E5ECF6\",\"gridcolor\":\"white\",\"gridwidth\":2,\"linecolor\":\"white\",\"showbackground\":true,\"ticks\":\"\",\"zerolinecolor\":\"white\"},\"yaxis\":{\"backgroundcolor\":\"#E5ECF6\",\"gridcolor\":\"white\",\"gridwidth\":2,\"linecolor\":\"white\",\"showbackground\":true,\"ticks\":\"\",\"zerolinecolor\":\"white\"},\"zaxis\":{\"backgroundcolor\":\"#E5ECF6\",\"gridcolor\":\"white\",\"gridwidth\":2,\"linecolor\":\"white\",\"showbackground\":true,\"ticks\":\"\",\"zerolinecolor\":\"white\"}},\"shapedefaults\":{\"line\":{\"color\":\"#2a3f5f\"}},\"ternary\":{\"aaxis\":{\"gridcolor\":\"white\",\"linecolor\":\"white\",\"ticks\":\"\"},\"baxis\":{\"gridcolor\":\"white\",\"linecolor\":\"white\",\"ticks\":\"\"},\"bgcolor\":\"#E5ECF6\",\"caxis\":{\"gridcolor\":\"white\",\"linecolor\":\"white\",\"ticks\":\"\"}},\"title\":{\"x\":0.05},\"xaxis\":{\"automargin\":true,\"gridcolor\":\"white\",\"linecolor\":\"white\",\"ticks\":\"\",\"title\":{\"standoff\":15},\"zerolinecolor\":\"white\",\"zerolinewidth\":2},\"yaxis\":{\"automargin\":true,\"gridcolor\":\"white\",\"linecolor\":\"white\",\"ticks\":\"\",\"title\":{\"standoff\":15},\"zerolinecolor\":\"white\",\"zerolinewidth\":2}}},\"xaxis\":{\"rangeslider\":{\"visible\":false},\"title\":{\"text\":\"Year\"},\"tickmode\":\"linear\"},\"margin\":{\"b\":100},\"title\":{\"text\":\"Yearly Employment from US BLS\"},\"yaxis\":{\"title\":{\"text\":\"Employment Level\"}},\"annotations\":[{\"showarrow\":false,\"text\":\"note: impact period of Covid-19 pandemic in orange box.\",\"x\":0.5,\"xref\":\"paper\",\"y\":-0.25,\"yref\":\"paper\"},{\"showarrow\":false,\"text\":\"*all values are in 000 (thousands).\",\"x\":0,\"xref\":\"paper\",\"y\":0,\"yref\":\"paper\"}],\"shapes\":[{\"layer\":\"below\",\"line\":{\"color\":\"DarkSalmon\",\"width\":5},\"opacity\":0.5,\"type\":\"rect\",\"x0\":\"2019\",\"x1\":\"2022\",\"y0\":130000,\"y1\":160000,\"xref\":\"x\",\"yref\":\"y\"}]},                        {\"responsive\": true}                    ).then(function(){\n",
              "                            \n",
              "var gd = document.getElementById('3d7bba78-f503-4412-95e4-f170fccd5634');\n",
              "var x = new MutationObserver(function (mutations, observer) {{\n",
              "        var display = window.getComputedStyle(gd).display;\n",
              "        if (!display || display === 'none') {{\n",
              "            console.log([gd, 'removed!']);\n",
              "            Plotly.purge(gd);\n",
              "            observer.disconnect();\n",
              "        }}\n",
              "}});\n",
              "\n",
              "// Listen for the removal of the full notebook cells\n",
              "var notebookContainer = gd.closest('#notebook-container');\n",
              "if (notebookContainer) {{\n",
              "    x.observe(notebookContainer, {childList: true});\n",
              "}}\n",
              "\n",
              "// Listen for the clearing of the current output cell\n",
              "var outputEl = gd.closest('.output');\n",
              "if (outputEl) {{\n",
              "    x.observe(outputEl, {childList: true});\n",
              "}}\n",
              "\n",
              "                        })                };                            </script>        </div>\n",
              "</body>\n",
              "</html>"
            ]
          },
          "metadata": {}
        }
      ]
    },
    {
      "cell_type": "markdown",
      "source": [
        "\n",
        "\n",
        "---\n",
        "\n"
      ],
      "metadata": {
        "id": "ZbOepEv7mrHC"
      }
    },
    {
      "cell_type": "markdown",
      "source": [
        "###D.6 Un-Employment_Level Candlestick Chart of Yearly OHLC (plotly `go`)       \n",
        "\n",
        "*Using `plotly` `go`*\n",
        "\n"
      ],
      "metadata": {
        "id": "tpjMwQHZ4ps_"
      }
    },
    {
      "cell_type": "markdown",
      "source": [
        "We will want a dataframe with Open, High, Low, and Close (OHLC) columns as well as a date value for charting.  Given the data available, we can construct a chart of OHLC on an annual basis.       \n",
        "\n",
        "To prepare `UnEmployment_Level` data for `ohlc` analysis, we create series for the following using `UnEmployment_Level` in our `df` dataframe:    \n",
        "* **Open** : create a `groupby()` series of annual first values in `ul_o_gb`    \n",
        "* **High** : create a `groupby()` series of annual maximum values in `ul_h_gb`    \n",
        "* **Low** : create a `groupby()` series of annual minium values in `ul_l_gb` <- that middle character is an 'L' for 'low'        \n",
        "* **Close** : create a `groupby()` series of annual last values in `ul_o_gb`    \n"
      ],
      "metadata": {
        "id": "2i0-7ywx4ptC"
      }
    },
    {
      "cell_type": "code",
      "source": [
        "df.info()"
      ],
      "metadata": {
        "id": "puAT-YTM4ptC"
      },
      "execution_count": null,
      "outputs": []
    },
    {
      "cell_type": "code",
      "source": [
        "# use .groupby() to produce an array of highest UnEmployment_Level by Year\n",
        "ul_h_gb = df['UnEmployment_Level'].groupby(df['Year']).max()\n",
        "\n",
        "# use .groupby() to produce an array of lowest Employment_Level by Year\n",
        "ul_l_gb = df['UnEmployment_Level'].groupby(df['Year']).min()\n"
      ],
      "metadata": {
        "id": "ds6zlfEJ4ptD"
      },
      "execution_count": 119,
      "outputs": []
    },
    {
      "cell_type": "code",
      "source": [
        "print('Highest Annual `UnEmployment_Level` Values\\n',ul_h_gb)\n",
        "print()\n",
        "print('Lowest Annual `UnEmployment_Level` Values\\n',ul_l_gb)"
      ],
      "metadata": {
        "id": "C3fDTT0l4ptD"
      },
      "execution_count": null,
      "outputs": []
    },
    {
      "cell_type": "code",
      "source": [
        "# use .groupby() to produce an array of first (opening) UnEmployment_Level by Year\n",
        "ul_o_gb = df['UnEmployment_Level'].groupby(df['Year']).first() \n",
        "\n",
        "# use .groupby() to produce an array of last (closing) Employment_Level by Year\n",
        "ul_c_gb = df['UnEmployment_Level'].groupby(df['Year']).last()"
      ],
      "metadata": {
        "id": "fCSdNBjr4ptE"
      },
      "execution_count": 121,
      "outputs": []
    },
    {
      "cell_type": "code",
      "source": [
        "print('Opening Annual `UnEmployment_Level` Values\\n',ul_o_gb)\n",
        "print()\n",
        "print('Closing Annual `UnEmployment_Level` Values\\n',ul_c_gb)"
      ],
      "metadata": {
        "id": "nOvCqsC54ptE"
      },
      "execution_count": null,
      "outputs": []
    },
    {
      "cell_type": "markdown",
      "source": [
        "Now create a dataframe which has columns for `'Year'`, `'Open'`, `'High'`, `'Low'`, and `'Close'`.    \n",
        " "
      ],
      "metadata": {
        "id": "GRD77xoC4ptF"
      }
    },
    {
      "cell_type": "code",
      "source": [
        "# creat a dictionary `ul_ohlc_dict` of the column names and arrays to use for values\n",
        "ul_ohlc_dict = { 'Year': ul_o_gb.index, 'Open': ul_o_gb, 'High': ul_h_gb, 'Low': ul_l_gb, 'Close': ul_c_gb }\n",
        "# assign column names and values to a dataframe `el_ohlc_df` using `ohlc_dict`\n",
        "ul_ohlc_df = pd.DataFrame(ul_ohlc_dict)"
      ],
      "metadata": {
        "id": "YF6CVZPZ4ptF"
      },
      "execution_count": 123,
      "outputs": []
    },
    {
      "cell_type": "code",
      "source": [
        "print('OHLC Annual Values for `UnEmployment_Level`: ')\n",
        "ul_ohlc_df"
      ],
      "metadata": {
        "id": "rekawMyj4ptG"
      },
      "execution_count": null,
      "outputs": []
    },
    {
      "cell_type": "code",
      "source": [
        "# Here is where we use the variable `yyyy_token_str` we created in Housekeeping\n",
        "ul_ohlc_df['Datetime'] = pd.to_datetime(ul_ohlc_df['Year'], format=yyyy_token_str)\n",
        "ul_ohlc_df = ul_ohlc_df.set_index(pd.DatetimeIndex(ul_ohlc_df['Year']))"
      ],
      "metadata": {
        "id": "gS5H3UUu4ptG"
      },
      "execution_count": null,
      "outputs": []
    },
    {
      "cell_type": "markdown",
      "source": [
        "Let's plot a candlestick chart of `ohlc` data by `Year` using the **plotly** `go` module.    \n",
        "\n",
        "Documentation on **plotly** `go` can be found [here](https://plotly.com/python/ohlc-charts/).     \n",
        "\n"
      ],
      "metadata": {
        "id": "7hB4BiVB4ptG"
      }
    },
    {
      "cell_type": "code",
      "source": [
        "# draw the ohlc plot without hovertext control\n",
        "fig = go.Figure(data=go.Ohlc(\n",
        "                    x=ul_ohlc_df['Year'],        # xaxis series\n",
        "                    open=ul_ohlc_df['Open'],     # open values series\n",
        "                    high=ul_ohlc_df['High'],     # high values series\n",
        "                    low=ul_ohlc_df['Low'],       # low values series\n",
        "                    close=ul_ohlc_df['Close']    # close values series\n",
        "                    ))\n",
        "\n",
        "# this turns off the default rangeslider (a GUI control at the bottom of the plot)\n",
        "fig.update(layout_xaxis_rangeslider_visible=False)  # turn off range slider\n",
        "\n",
        "# update the figure for some plot formatting  \n",
        "fig.update_layout(\n",
        "    title='Yearly Un-Employment from US BLS',    # chart title\n",
        "    margin_b = 100,        #increase the bottom margin to have space for caption\n",
        "    yaxis_title='Un-Employment Level*',           # yaxis label \n",
        "    xaxis=dict(\n",
        "        title='Year',                            # xaxis label\n",
        "        tickmode='linear'),                      # show every value on xaxis\n",
        "    annotations = [dict(xref='paper',\n",
        "        yref='paper',\n",
        "        x=0.5, y=-0.25,\n",
        "        showarrow=False,\n",
        "        text ='note: impact period of Covid-19 pandemic in orange box.')]\n",
        ")\n",
        "\n",
        "# add another annotation/footnote for scale of values \n",
        "fig.add_annotation(text=\"*all values are in 000 (thousands).\",\n",
        "                  xref=\"paper\", yref=\"paper\",\n",
        "                  x=0, y=0, showarrow=False)\n",
        "\n",
        "# Add shape of empty orange box for Covid-19 pandemic to the figure\n",
        "fig.add_shape(type=\"rect\",                       # draw a rectangle\n",
        "    x0='2019', y0=0, x1='2021', y1=25000,  # corners of rectangle\n",
        "    line=dict(color=\"DarkSalmon\"), opacity=0.5,  # rectangle color/transparency\n",
        "    layer='below',line_width=5,                  # rectangle layer, line width\n",
        ") \n",
        "\n",
        "# update the figure for the shape created \n",
        "fig.update_shapes(dict(xref='x', yref='y'))\n",
        "\n",
        "# display the figure \n",
        "fig.show()"
      ],
      "metadata": {
        "colab": {
          "base_uri": "https://localhost:8080/",
          "height": 542
        },
        "outputId": "083a1ca7-39a9-493d-cefe-f3d20356787d",
        "id": "3jX1d0od4ptH"
      },
      "execution_count": 131,
      "outputs": [
        {
          "output_type": "display_data",
          "data": {
            "text/html": [
              "<html>\n",
              "<head><meta charset=\"utf-8\" /></head>\n",
              "<body>\n",
              "    <div>            <script src=\"https://cdnjs.cloudflare.com/ajax/libs/mathjax/2.7.5/MathJax.js?config=TeX-AMS-MML_SVG\"></script><script type=\"text/javascript\">if (window.MathJax) {MathJax.Hub.Config({SVG: {font: \"STIX-Web\"}});}</script>                <script type=\"text/javascript\">window.PlotlyConfig = {MathJaxConfig: 'local'};</script>\n",
              "        <script src=\"https://cdn.plot.ly/plotly-2.8.3.min.js\"></script>                <div id=\"dda30c6e-ab52-499c-b483-1b7792b6c819\" class=\"plotly-graph-div\" style=\"height:525px; width:100%;\"></div>            <script type=\"text/javascript\">                                    window.PLOTLYENV=window.PLOTLYENV || {};                                    if (document.getElementById(\"dda30c6e-ab52-499c-b483-1b7792b6c819\")) {                    Plotly.newPlot(                        \"dda30c6e-ab52-499c-b483-1b7792b6c819\",                        [{\"close\":[12298,10404,8717,7907,7521,6632,6379,5861,10789,6319,5952],\"high\":[12813,12471,10380,8885,8067,7468,6586,6458,23038,10180,6513],\"low\":[12005,10404,8717,7907,7521,6632,6065,5766,5717,6319,5952],\"open\":[12797,12471,10202,8885,7627,7468,6505,6458,5826,10180,6513],\"x\":[2012,2013,2014,2015,2016,2017,2018,2019,2020,2021,2022],\"type\":\"ohlc\"}],                        {\"template\":{\"data\":{\"bar\":[{\"error_x\":{\"color\":\"#2a3f5f\"},\"error_y\":{\"color\":\"#2a3f5f\"},\"marker\":{\"line\":{\"color\":\"#E5ECF6\",\"width\":0.5},\"pattern\":{\"fillmode\":\"overlay\",\"size\":10,\"solidity\":0.2}},\"type\":\"bar\"}],\"barpolar\":[{\"marker\":{\"line\":{\"color\":\"#E5ECF6\",\"width\":0.5},\"pattern\":{\"fillmode\":\"overlay\",\"size\":10,\"solidity\":0.2}},\"type\":\"barpolar\"}],\"carpet\":[{\"aaxis\":{\"endlinecolor\":\"#2a3f5f\",\"gridcolor\":\"white\",\"linecolor\":\"white\",\"minorgridcolor\":\"white\",\"startlinecolor\":\"#2a3f5f\"},\"baxis\":{\"endlinecolor\":\"#2a3f5f\",\"gridcolor\":\"white\",\"linecolor\":\"white\",\"minorgridcolor\":\"white\",\"startlinecolor\":\"#2a3f5f\"},\"type\":\"carpet\"}],\"choropleth\":[{\"colorbar\":{\"outlinewidth\":0,\"ticks\":\"\"},\"type\":\"choropleth\"}],\"contour\":[{\"colorbar\":{\"outlinewidth\":0,\"ticks\":\"\"},\"colorscale\":[[0.0,\"#0d0887\"],[0.1111111111111111,\"#46039f\"],[0.2222222222222222,\"#7201a8\"],[0.3333333333333333,\"#9c179e\"],[0.4444444444444444,\"#bd3786\"],[0.5555555555555556,\"#d8576b\"],[0.6666666666666666,\"#ed7953\"],[0.7777777777777778,\"#fb9f3a\"],[0.8888888888888888,\"#fdca26\"],[1.0,\"#f0f921\"]],\"type\":\"contour\"}],\"contourcarpet\":[{\"colorbar\":{\"outlinewidth\":0,\"ticks\":\"\"},\"type\":\"contourcarpet\"}],\"heatmap\":[{\"colorbar\":{\"outlinewidth\":0,\"ticks\":\"\"},\"colorscale\":[[0.0,\"#0d0887\"],[0.1111111111111111,\"#46039f\"],[0.2222222222222222,\"#7201a8\"],[0.3333333333333333,\"#9c179e\"],[0.4444444444444444,\"#bd3786\"],[0.5555555555555556,\"#d8576b\"],[0.6666666666666666,\"#ed7953\"],[0.7777777777777778,\"#fb9f3a\"],[0.8888888888888888,\"#fdca26\"],[1.0,\"#f0f921\"]],\"type\":\"heatmap\"}],\"heatmapgl\":[{\"colorbar\":{\"outlinewidth\":0,\"ticks\":\"\"},\"colorscale\":[[0.0,\"#0d0887\"],[0.1111111111111111,\"#46039f\"],[0.2222222222222222,\"#7201a8\"],[0.3333333333333333,\"#9c179e\"],[0.4444444444444444,\"#bd3786\"],[0.5555555555555556,\"#d8576b\"],[0.6666666666666666,\"#ed7953\"],[0.7777777777777778,\"#fb9f3a\"],[0.8888888888888888,\"#fdca26\"],[1.0,\"#f0f921\"]],\"type\":\"heatmapgl\"}],\"histogram\":[{\"marker\":{\"pattern\":{\"fillmode\":\"overlay\",\"size\":10,\"solidity\":0.2}},\"type\":\"histogram\"}],\"histogram2d\":[{\"colorbar\":{\"outlinewidth\":0,\"ticks\":\"\"},\"colorscale\":[[0.0,\"#0d0887\"],[0.1111111111111111,\"#46039f\"],[0.2222222222222222,\"#7201a8\"],[0.3333333333333333,\"#9c179e\"],[0.4444444444444444,\"#bd3786\"],[0.5555555555555556,\"#d8576b\"],[0.6666666666666666,\"#ed7953\"],[0.7777777777777778,\"#fb9f3a\"],[0.8888888888888888,\"#fdca26\"],[1.0,\"#f0f921\"]],\"type\":\"histogram2d\"}],\"histogram2dcontour\":[{\"colorbar\":{\"outlinewidth\":0,\"ticks\":\"\"},\"colorscale\":[[0.0,\"#0d0887\"],[0.1111111111111111,\"#46039f\"],[0.2222222222222222,\"#7201a8\"],[0.3333333333333333,\"#9c179e\"],[0.4444444444444444,\"#bd3786\"],[0.5555555555555556,\"#d8576b\"],[0.6666666666666666,\"#ed7953\"],[0.7777777777777778,\"#fb9f3a\"],[0.8888888888888888,\"#fdca26\"],[1.0,\"#f0f921\"]],\"type\":\"histogram2dcontour\"}],\"mesh3d\":[{\"colorbar\":{\"outlinewidth\":0,\"ticks\":\"\"},\"type\":\"mesh3d\"}],\"parcoords\":[{\"line\":{\"colorbar\":{\"outlinewidth\":0,\"ticks\":\"\"}},\"type\":\"parcoords\"}],\"pie\":[{\"automargin\":true,\"type\":\"pie\"}],\"scatter\":[{\"marker\":{\"colorbar\":{\"outlinewidth\":0,\"ticks\":\"\"}},\"type\":\"scatter\"}],\"scatter3d\":[{\"line\":{\"colorbar\":{\"outlinewidth\":0,\"ticks\":\"\"}},\"marker\":{\"colorbar\":{\"outlinewidth\":0,\"ticks\":\"\"}},\"type\":\"scatter3d\"}],\"scattercarpet\":[{\"marker\":{\"colorbar\":{\"outlinewidth\":0,\"ticks\":\"\"}},\"type\":\"scattercarpet\"}],\"scattergeo\":[{\"marker\":{\"colorbar\":{\"outlinewidth\":0,\"ticks\":\"\"}},\"type\":\"scattergeo\"}],\"scattergl\":[{\"marker\":{\"colorbar\":{\"outlinewidth\":0,\"ticks\":\"\"}},\"type\":\"scattergl\"}],\"scattermapbox\":[{\"marker\":{\"colorbar\":{\"outlinewidth\":0,\"ticks\":\"\"}},\"type\":\"scattermapbox\"}],\"scatterpolar\":[{\"marker\":{\"colorbar\":{\"outlinewidth\":0,\"ticks\":\"\"}},\"type\":\"scatterpolar\"}],\"scatterpolargl\":[{\"marker\":{\"colorbar\":{\"outlinewidth\":0,\"ticks\":\"\"}},\"type\":\"scatterpolargl\"}],\"scatterternary\":[{\"marker\":{\"colorbar\":{\"outlinewidth\":0,\"ticks\":\"\"}},\"type\":\"scatterternary\"}],\"surface\":[{\"colorbar\":{\"outlinewidth\":0,\"ticks\":\"\"},\"colorscale\":[[0.0,\"#0d0887\"],[0.1111111111111111,\"#46039f\"],[0.2222222222222222,\"#7201a8\"],[0.3333333333333333,\"#9c179e\"],[0.4444444444444444,\"#bd3786\"],[0.5555555555555556,\"#d8576b\"],[0.6666666666666666,\"#ed7953\"],[0.7777777777777778,\"#fb9f3a\"],[0.8888888888888888,\"#fdca26\"],[1.0,\"#f0f921\"]],\"type\":\"surface\"}],\"table\":[{\"cells\":{\"fill\":{\"color\":\"#EBF0F8\"},\"line\":{\"color\":\"white\"}},\"header\":{\"fill\":{\"color\":\"#C8D4E3\"},\"line\":{\"color\":\"white\"}},\"type\":\"table\"}]},\"layout\":{\"annotationdefaults\":{\"arrowcolor\":\"#2a3f5f\",\"arrowhead\":0,\"arrowwidth\":1},\"autotypenumbers\":\"strict\",\"coloraxis\":{\"colorbar\":{\"outlinewidth\":0,\"ticks\":\"\"}},\"colorscale\":{\"diverging\":[[0,\"#8e0152\"],[0.1,\"#c51b7d\"],[0.2,\"#de77ae\"],[0.3,\"#f1b6da\"],[0.4,\"#fde0ef\"],[0.5,\"#f7f7f7\"],[0.6,\"#e6f5d0\"],[0.7,\"#b8e186\"],[0.8,\"#7fbc41\"],[0.9,\"#4d9221\"],[1,\"#276419\"]],\"sequential\":[[0.0,\"#0d0887\"],[0.1111111111111111,\"#46039f\"],[0.2222222222222222,\"#7201a8\"],[0.3333333333333333,\"#9c179e\"],[0.4444444444444444,\"#bd3786\"],[0.5555555555555556,\"#d8576b\"],[0.6666666666666666,\"#ed7953\"],[0.7777777777777778,\"#fb9f3a\"],[0.8888888888888888,\"#fdca26\"],[1.0,\"#f0f921\"]],\"sequentialminus\":[[0.0,\"#0d0887\"],[0.1111111111111111,\"#46039f\"],[0.2222222222222222,\"#7201a8\"],[0.3333333333333333,\"#9c179e\"],[0.4444444444444444,\"#bd3786\"],[0.5555555555555556,\"#d8576b\"],[0.6666666666666666,\"#ed7953\"],[0.7777777777777778,\"#fb9f3a\"],[0.8888888888888888,\"#fdca26\"],[1.0,\"#f0f921\"]]},\"colorway\":[\"#636efa\",\"#EF553B\",\"#00cc96\",\"#ab63fa\",\"#FFA15A\",\"#19d3f3\",\"#FF6692\",\"#B6E880\",\"#FF97FF\",\"#FECB52\"],\"font\":{\"color\":\"#2a3f5f\"},\"geo\":{\"bgcolor\":\"white\",\"lakecolor\":\"white\",\"landcolor\":\"#E5ECF6\",\"showlakes\":true,\"showland\":true,\"subunitcolor\":\"white\"},\"hoverlabel\":{\"align\":\"left\"},\"hovermode\":\"closest\",\"mapbox\":{\"style\":\"light\"},\"paper_bgcolor\":\"white\",\"plot_bgcolor\":\"#E5ECF6\",\"polar\":{\"angularaxis\":{\"gridcolor\":\"white\",\"linecolor\":\"white\",\"ticks\":\"\"},\"bgcolor\":\"#E5ECF6\",\"radialaxis\":{\"gridcolor\":\"white\",\"linecolor\":\"white\",\"ticks\":\"\"}},\"scene\":{\"xaxis\":{\"backgroundcolor\":\"#E5ECF6\",\"gridcolor\":\"white\",\"gridwidth\":2,\"linecolor\":\"white\",\"showbackground\":true,\"ticks\":\"\",\"zerolinecolor\":\"white\"},\"yaxis\":{\"backgroundcolor\":\"#E5ECF6\",\"gridcolor\":\"white\",\"gridwidth\":2,\"linecolor\":\"white\",\"showbackground\":true,\"ticks\":\"\",\"zerolinecolor\":\"white\"},\"zaxis\":{\"backgroundcolor\":\"#E5ECF6\",\"gridcolor\":\"white\",\"gridwidth\":2,\"linecolor\":\"white\",\"showbackground\":true,\"ticks\":\"\",\"zerolinecolor\":\"white\"}},\"shapedefaults\":{\"line\":{\"color\":\"#2a3f5f\"}},\"ternary\":{\"aaxis\":{\"gridcolor\":\"white\",\"linecolor\":\"white\",\"ticks\":\"\"},\"baxis\":{\"gridcolor\":\"white\",\"linecolor\":\"white\",\"ticks\":\"\"},\"bgcolor\":\"#E5ECF6\",\"caxis\":{\"gridcolor\":\"white\",\"linecolor\":\"white\",\"ticks\":\"\"}},\"title\":{\"x\":0.05},\"xaxis\":{\"automargin\":true,\"gridcolor\":\"white\",\"linecolor\":\"white\",\"ticks\":\"\",\"title\":{\"standoff\":15},\"zerolinecolor\":\"white\",\"zerolinewidth\":2},\"yaxis\":{\"automargin\":true,\"gridcolor\":\"white\",\"linecolor\":\"white\",\"ticks\":\"\",\"title\":{\"standoff\":15},\"zerolinecolor\":\"white\",\"zerolinewidth\":2}}},\"xaxis\":{\"rangeslider\":{\"visible\":false},\"title\":{\"text\":\"Year\"},\"tickmode\":\"linear\"},\"margin\":{\"b\":100},\"title\":{\"text\":\"Yearly Un-Employment from US BLS\"},\"yaxis\":{\"title\":{\"text\":\"Un-Employment Level*\"}},\"annotations\":[{\"showarrow\":false,\"text\":\"note: impact period of Covid-19 pandemic in orange box.\",\"x\":0.5,\"xref\":\"paper\",\"y\":-0.25,\"yref\":\"paper\"},{\"showarrow\":false,\"text\":\"*all values are in 000 (thousands).\",\"x\":0,\"xref\":\"paper\",\"y\":0,\"yref\":\"paper\"}],\"shapes\":[{\"layer\":\"below\",\"line\":{\"color\":\"DarkSalmon\",\"width\":5},\"opacity\":0.5,\"type\":\"rect\",\"x0\":\"2019\",\"x1\":\"2021\",\"y0\":0,\"y1\":25000,\"xref\":\"x\",\"yref\":\"y\"}]},                        {\"responsive\": true}                    ).then(function(){\n",
              "                            \n",
              "var gd = document.getElementById('dda30c6e-ab52-499c-b483-1b7792b6c819');\n",
              "var x = new MutationObserver(function (mutations, observer) {{\n",
              "        var display = window.getComputedStyle(gd).display;\n",
              "        if (!display || display === 'none') {{\n",
              "            console.log([gd, 'removed!']);\n",
              "            Plotly.purge(gd);\n",
              "            observer.disconnect();\n",
              "        }}\n",
              "}});\n",
              "\n",
              "// Listen for the removal of the full notebook cells\n",
              "var notebookContainer = gd.closest('#notebook-container');\n",
              "if (notebookContainer) {{\n",
              "    x.observe(notebookContainer, {childList: true});\n",
              "}}\n",
              "\n",
              "// Listen for the clearing of the current output cell\n",
              "var outputEl = gd.closest('.output');\n",
              "if (outputEl) {{\n",
              "    x.observe(outputEl, {childList: true});\n",
              "}}\n",
              "\n",
              "                        })                };                            </script>        </div>\n",
              "</body>\n",
              "</html>"
            ]
          },
          "metadata": {}
        }
      ]
    },
    {
      "cell_type": "markdown",
      "source": [
        "##    \n",
        "\n",
        "---\n",
        "\n"
      ],
      "metadata": {
        "id": "DDWQPpoEeudx"
      }
    },
    {
      "cell_type": "markdown",
      "source": [
        "##APPENDIX: Datetime    \n",
        "\n",
        "*Quick reference on using `date`, `time`, and `datetime` objects as an index.*    \n"
      ],
      "metadata": {
        "id": "bThdN-8Rfe1J"
      }
    },
    {
      "cell_type": "markdown",
      "source": [
        "These: **\"%Y-%m-%d %H:%M:%S.%f\"** are known as format tokens. Each token represents a different part of the date-time, like day, month, year, etc. Check out the strptime documentation for the list of all different types of format code supported in Python. For a quick reference, here is what we're using in the code above:    \n",
        "    \n",
        "* **%Y** : Year (4 digits)\n",
        "* **%B** : Month as three alpha abbreviation (in English)\n",
        "* **%m** : Month\n",
        "* **%d** : Day of month\n",
        "* **%H** : Hour (24 hour)\n",
        "* **%M** : Minutes\n",
        "* **%S** : Seconds\n",
        "* **%f** : Microseconds\n",
        "\n",
        "*All of these tokens, except the year, are expected to be zero-padded.*    \n",
        "\n",
        "So, if the format of a string is known, it can be easily parsed to a datetime object using strptime. Here is an example:"
      ],
      "metadata": {
        "id": "HoKU_Li3fuE3"
      }
    },
    {
      "cell_type": "code",
      "source": [
        "# import datetime\n",
        "\n",
        "date_time_str = 'Jun 28 2018 7:40AM'\n",
        "date_time_obj = datetime.datetime.strptime(date_time_str, '%b %d %Y %I:%M%p')\n",
        "\n",
        "print('Date:', date_time_obj.date())\n",
        "print('Time:', date_time_obj.time())\n",
        "print('Date-time:', date_time_obj) \n"
      ],
      "metadata": {
        "id": "KFXtu3v0gh8n"
      },
      "execution_count": null,
      "outputs": []
    },
    {
      "cell_type": "markdown",
      "source": [
        "Here are a few more examples of commonly used time formats and the tokens used for parsing:"
      ],
      "metadata": {
        "id": "kQ9_p_i-grC2"
      }
    },
    {
      "cell_type": "markdown",
      "source": [
        "```\n",
        "\"Jun 28 2018 at 7:40AM\" -> \"%b %d %Y at %I:%M%p\"\n",
        "\"September 18, 2017, 22:19:55\" -> \"%B %d, %Y, %H:%M:%S\"\n",
        "\"Sun,05/12/99,12:30PM\" -> \"%a,%d/%m/%y,%I:%M%p\"\n",
        "\"Mon, 21 March, 2015\" -> \"%a, %d %B, %Y\"\n",
        "\"2018-03-12T10:12:45Z\" -> \"%Y-%m-%dT%H:%M:%SZ\"\n",
        "```"
      ],
      "metadata": {
        "id": "o-I-cyIMhQ3l"
      }
    },
    {
      "cell_type": "markdown",
      "source": [
        "Here is a more thorough listing of `DateTime` token strings.\n",
        "\n",
        "DateTime Format Codes\n",
        "One extremely important concept to understand is DateTime format codes. This is how you instruct Pandas what format your DateTime string is in. It’s magic every time you see it work. In fact, I look forward to gross strings with dates in them just to parse. See documentation.\n",
        "\n",
        "Format Code\tDescription\tExamples\n",
        "* **%a** : \tWeekday, abbreviated\tMon, Tues, Sat    \n",
        "* **%A** : \tWeekday, full name\tMonday, Tuesday, Saturday    \n",
        "* **%w** : \tWeekday, decimal. 0=Sunday\t1, 2, 6     \n",
        "* **%d** : \tDay of month, zero-padded\t01, 02, 21    \n",
        "* **%b** : \tMonth, abbreviated\tJan, Feb, Sep    \n",
        "* **%B** : \tMonth, full name\tJanuary, February, September    \n",
        "* **%m** : \tMonth number, zero-padded\t01, 02, 09    \n",
        "* **%y** : \tYear, without century, zero-padded\t02, 95, 99    \n",
        "* **%Y** : \tYear, with century\t1990, 2020    \n",
        "* **%H** : \tHour (24 hour), zero padded\t01, 22    \n",
        "* **%I** : \tHour (12 hour) zero padded\t01, 12    \n",
        "* **%p** : \tAM or PM\tAM, PM    \n",
        "* **%M** : \tMinute, zero-padded\t01, 02, 43    \n",
        "* **%S** : \tSecond, zero padded\t01, 32, 59    \n",
        "* **%f** : \tMicrosecond, zero-padded\t000001, 000342, 999999    \n",
        "* **%z** : \tUTC offset ±HHMM[SS[.ffffff]]\t+0000, -1030, -3423.234    \n",
        "* **%Z** : \tTime zone name\tITC, EST, CST    \n",
        "* **%j** : \tDay of year, zero-padded\t001, 365, 023    \n",
        "* **%U** : \tWeek # of year, zero-padded. Sunday first day of week\t00, 01, 51    \n",
        "* **%W** : \tWeek # of year, zero-padded. Monday first day of week\t00, 02, 51    \n",
        "* **%c** : \tAppropriate date and time\tMonday Feb 01 21:30:00 1990    \n",
        "* **%x** : \tAppropriate Date\t02/01/90    \n",
        "* **%X** : \tAppropriate Time\t21:22:00    \n",
        "* **%%** : \tLiteral '%' – Use this when you have a % sign in your format.\t%     \n"
      ],
      "metadata": {
        "id": "FdADdrQYoRXn"
      }
    },
    {
      "cell_type": "markdown",
      "source": [
        "You can parse a date-time string of any format using the table mentioned in the [strptime documentation](https://docs.python.org/3/library/datetime.html#strftime-and-strptime-behavior)."
      ],
      "metadata": {
        "id": "Cutu1R6GhYsz"
      }
    },
    {
      "cell_type": "markdown",
      "source": [
        "\n",
        "\n",
        "---\n",
        "\n"
      ],
      "metadata": {
        "id": "snZG4iYchdkl"
      }
    },
    {
      "cell_type": "markdown",
      "source": [
        "\n",
        "\n",
        "---\n",
        "\n"
      ],
      "metadata": {
        "id": "xS35O7i3YJT7"
      }
    }
  ]
}