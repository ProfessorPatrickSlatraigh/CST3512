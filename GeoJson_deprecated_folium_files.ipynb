{
  "nbformat": 4,
  "nbformat_minor": 0,
  "metadata": {
    "colab": {
      "name": "GeoJson_deprecated_folium-files.ipynb",
      "provenance": [],
      "collapsed_sections": [],
      "authorship_tag": "ABX9TyOON/C8RuM2sD77ixLFZOUi",
      "include_colab_link": true
    },
    "kernelspec": {
      "name": "python3",
      "display_name": "Python 3"
    },
    "language_info": {
      "name": "python"
    }
  },
  "cells": [
    {
      "cell_type": "markdown",
      "metadata": {
        "id": "view-in-github",
        "colab_type": "text"
      },
      "source": [
        "<a href=\"https://colab.research.google.com/github/ProfessorPatrickSlatraigh/CST3512/blob/main/GeoJson_deprecated_folium_files.ipynb\" target=\"_parent\"><img src=\"https://colab.research.google.com/assets/colab-badge.svg\" alt=\"Open In Colab\"/></a>"
      ]
    },
    {
      "cell_type": "markdown",
      "source": [
        "#Catalog of Deprecated `folium` GeoJson    \n",
        "\n",
        "*from the inactive [**python-visualization/folium**](https://github.com/python-visualization/folium/tree/main/examples/data) repository on Github*    \n",
        "\n"
      ],
      "metadata": {
        "id": "3Ahy-vcxT3zm"
      }
    },
    {
      "cell_type": "markdown",
      "source": [
        "\n",
        "\n",
        "---\n",
        "\n"
      ],
      "metadata": {
        "id": "3yfV00ZNb6Hk"
      }
    },
    {
      "cell_type": "markdown",
      "source": [
        "###World Countries    \n"
      ],
      "metadata": {
        "id": "pBxwHty2VBDa"
      }
    },
    {
      "cell_type": "code",
      "execution_count": null,
      "metadata": {
        "id": "9WCC_WLvTvRG"
      },
      "outputs": [],
      "source": [
        "!curl https://raw.githubusercontent.com/python-visualization/folium/main/examples/data/world-countries.json -o \"world-countries.geojson\""
      ]
    },
    {
      "cell_type": "markdown",
      "source": [
        "###U.S. States    \n"
      ],
      "metadata": {
        "id": "FUqdi9-TVD22"
      }
    },
    {
      "cell_type": "code",
      "execution_count": null,
      "metadata": {
        "id": "aLCg4OxiUQiS"
      },
      "outputs": [],
      "source": [
        "!curl https://raw.githubusercontent.com/python-visualization/folium/main/examples/data/us-states.json -o \"us-states.geojson\""
      ]
    },
    {
      "cell_type": "markdown",
      "source": [
        "###U.S. Counties    \n"
      ],
      "metadata": {
        "id": "7APRNhF1bHxx"
      }
    },
    {
      "cell_type": "code",
      "source": [
        "!curl https://raw.githubusercontent.com/python-visualization/folium/main/examples/data/us_counties_20m_topo.json -o \"us-counties-20m.geojson\""
      ],
      "metadata": {
        "id": "sq1Yul4XbK4_"
      },
      "execution_count": null,
      "outputs": []
    },
    {
      "cell_type": "markdown",
      "source": [
        "###Antarctic Ice Edge    \n"
      ],
      "metadata": {
        "id": "DNCKkzF2VJru"
      }
    },
    {
      "cell_type": "code",
      "execution_count": null,
      "metadata": {
        "id": "iTrcVhR-URTb"
      },
      "outputs": [],
      "source": [
        "!curl https://raw.githubusercontent.com/python-visualization/folium/main/examples/data/antarctic_ice_edge.json -o \"antarctic_ice_edge.geojson\""
      ]
    },
    {
      "cell_type": "markdown",
      "source": [
        "###Antarctic Ice Shelf Topo    \n"
      ],
      "metadata": {
        "id": "o9kiXmCxVKKW"
      }
    },
    {
      "cell_type": "code",
      "execution_count": null,
      "metadata": {
        "id": "QQE2o_CEURZ5"
      },
      "outputs": [],
      "source": [
        "!curl https://raw.githubusercontent.com/python-visualization/folium/main/examples/data/antarctic_ice_shelf_topo.json -o \"antarctic-ice-shelf-topo.geojson\""
      ]
    },
    {
      "cell_type": "markdown",
      "source": [
        "###Oregon Counties Topo    \n"
      ],
      "metadata": {
        "id": "kDzKNILbWBtl"
      }
    },
    {
      "cell_type": "code",
      "source": [
        "!curl https://raw.githubusercontent.com/python-visualization/folium/main/examples/data/or_counties_topo.json -o \"or-counties-topo.geojson\""
      ],
      "metadata": {
        "id": "bopuAXcNaTtg"
      },
      "execution_count": null,
      "outputs": []
    },
    {
      "cell_type": "markdown",
      "source": [
        "###Search for Bars in Rome    \n"
      ],
      "metadata": {
        "id": "CGHNrhUsacOO"
      }
    },
    {
      "cell_type": "code",
      "source": [
        "!curl https://raw.githubusercontent.com/python-visualization/folium/main/examples/data/search_bars_rome.json -o \"search-bars-rome.geojson\""
      ],
      "metadata": {
        "id": "Ulh2riBQaqfL"
      },
      "execution_count": null,
      "outputs": []
    },
    {
      "cell_type": "markdown",
      "source": [
        "###NYC Subway Stations    \n"
      ],
      "metadata": {
        "id": "iMPyQSYpawKu"
      }
    },
    {
      "cell_type": "code",
      "source": [
        "!curl https://raw.githubusercontent.com/python-visualization/folium/main/examples/data/subwaystations.geojson -o \"nyc-subway-stations.geojson\""
      ],
      "metadata": {
        "id": "R9fQu9m8a6ii"
      },
      "execution_count": null,
      "outputs": []
    },
    {
      "cell_type": "markdown",
      "source": [
        "\n",
        "\n",
        "---\n",
        "\n"
      ],
      "metadata": {
        "id": "VKRetVQ2bhL3"
      }
    },
    {
      "cell_type": "markdown",
      "source": [
        "*note: files have been copied to a backup repository by Professor Patrick*"
      ],
      "metadata": {
        "id": "aj_y6pZCbBNZ"
      }
    },
    {
      "cell_type": "markdown",
      "source": [
        "\n",
        "\n",
        "---\n",
        "\n"
      ],
      "metadata": {
        "id": "jPHHJ-F_bqEQ"
      }
    }
  ]
}