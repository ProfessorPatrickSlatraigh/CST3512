{
  "nbformat": 4,
  "nbformat_minor": 0,
  "metadata": {
    "colab": {
      "name": "HierarchicalIndexing.ipynb",
      "provenance": [],
      "collapsed_sections": [],
      "authorship_tag": "ABX9TyMGmogXMpAyj099JTf2H+94",
      "include_colab_link": true
    },
    "kernelspec": {
      "name": "python3",
      "display_name": "Python 3"
    },
    "language_info": {
      "name": "python"
    }
  },
  "cells": [
    {
      "cell_type": "markdown",
      "metadata": {
        "id": "view-in-github",
        "colab_type": "text"
      },
      "source": [
        "<a href=\"https://colab.research.google.com/github/ProfessorPatrickSlatraigh/CST3512/blob/main/HierarchicalIndexing.ipynb\" target=\"_parent\"><img src=\"https://colab.research.google.com/assets/colab-badge.svg\" alt=\"Open In Colab\"/></a>"
      ]
    },
    {
      "cell_type": "markdown",
      "source": [
        "#Hierarchical Indexing    \n",
        "\n",
        "This notebook is based on [Section 8.1 Hierarchical Indexing](https://wesmckinney.com/book/data-wrangling.html) from Chapter 8 - Data Wrangling: Join, Combine, and Reshape in Wes Mckinney's 'Python for Data Analysis'    \n",
        "\n"
      ],
      "metadata": {
        "id": "JVtACvBn4B0m"
      }
    },
    {
      "cell_type": "markdown",
      "source": [
        "In many applications, data may be spread across a number of files or databases or be arranged in a form that is not convenient to analyze. This chapter focuses on tools to help combine, join, and rearrange data.    \n",
        "\n",
        "This notebook introduces the concept of **hierarchical indexing** in pandas, which is used extensively in some of these operations. Chapter 8 of the book then digs into the particular data manipulations. Various applied usages of these tools can be seen in [Data Analysis Examples](https://wesmckinney.com/book/data-wrangling.html#data-analysis-examples)."
      ],
      "metadata": {
        "id": "i03P67dF4yIF"
      }
    },
    {
      "cell_type": "markdown",
      "source": [
        "\n",
        "\n",
        "---\n",
        "\n"
      ],
      "metadata": {
        "id": "vjrvvKdN53Jt"
      }
    },
    {
      "cell_type": "markdown",
      "source": [
        "##**Housekeeping**    \n",
        "\n",
        "Import required modules    \n"
      ],
      "metadata": {
        "id": "9mi4Ko3V54iX"
      }
    },
    {
      "cell_type": "code",
      "source": [
        "# Import pandas \n",
        "import pandas as pd\n",
        "\n",
        "# Import numpy   \n",
        "import numpy as np\n"
      ],
      "metadata": {
        "id": "cPV2Tj1K6CNW"
      },
      "execution_count": 2,
      "outputs": []
    },
    {
      "cell_type": "markdown",
      "source": [
        "**Hierarchical indexing** is an important feature of pandas that enables you to have multiple (two or more) index levels on an axis. Another way of thinking about it is that it provides a way for you to work with higher dimensional data in a lower dimensional form. Let’s start with a simple example: create a Series with a list of lists (or arrays) as the index:"
      ],
      "metadata": {
        "id": "tvk4wcvV5AV6"
      }
    },
    {
      "cell_type": "code",
      "execution_count": null,
      "metadata": {
        "id": "g_V73rqV38q9"
      },
      "outputs": [],
      "source": [
        "data = pd.Series(np.random.randn(9),\n",
        "       index=[['a', 'a', 'a', 'b', 'b', 'c', 'c', 'd', 'd'],\n",
        "       [1, 2, 3, 1, 3, 1, 2, 2, 3]])\n",
        "\n",
        "print(data)    \n"
      ]
    },
    {
      "cell_type": "markdown",
      "source": [
        "What you’re seeing is a prettified view of a Series with a MultiIndex as its index. The “gaps” in the index display mean “use the label directly above”:"
      ],
      "metadata": {
        "id": "rLeimGEG6U4V"
      }
    },
    {
      "cell_type": "code",
      "source": [
        "print(data.index)"
      ],
      "metadata": {
        "id": "6e6X2uKN6WFp"
      },
      "execution_count": null,
      "outputs": []
    },
    {
      "cell_type": "markdown",
      "source": [
        "With a hierarchically indexed object, so-called partial indexing is possible, enabling you to concisely select subsets of the data:"
      ],
      "metadata": {
        "id": "IQx_BjNz6hsP"
      }
    },
    {
      "cell_type": "code",
      "source": [
        "data['b']"
      ],
      "metadata": {
        "id": "4wzj0-Zc6lSx"
      },
      "execution_count": null,
      "outputs": []
    },
    {
      "cell_type": "code",
      "source": [
        "data['b':'c']"
      ],
      "metadata": {
        "id": "7qcenCnW6pNY"
      },
      "execution_count": null,
      "outputs": []
    },
    {
      "cell_type": "code",
      "source": [
        "data.loc[['b', 'd']]"
      ],
      "metadata": {
        "id": "vdFLyCP26xMn"
      },
      "execution_count": null,
      "outputs": []
    },
    {
      "cell_type": "markdown",
      "source": [
        "Selection is even possible from an “inner” level. Here I select all of the values having the value \"2\" from the second index level:"
      ],
      "metadata": {
        "id": "FJqLoPqf61e1"
      }
    },
    {
      "cell_type": "code",
      "source": [
        "data.loc[:, 2]"
      ],
      "metadata": {
        "id": "KbR__x5B62Wx"
      },
      "execution_count": null,
      "outputs": []
    },
    {
      "cell_type": "markdown",
      "source": [
        "Hierarchical indexing plays an important role in reshaping data and group-based operations like forming a pivot table. For example, you can rearrange this data into a DataFrame using its `unstack` method:"
      ],
      "metadata": {
        "id": "J4EMUDYX6-Ki"
      }
    },
    {
      "cell_type": "code",
      "source": [
        "data.unstack()"
      ],
      "metadata": {
        "id": "i34gC42Z69gS"
      },
      "execution_count": null,
      "outputs": []
    },
    {
      "cell_type": "markdown",
      "source": [
        "The inverse operation of unstack is stack:"
      ],
      "metadata": {
        "id": "_PxERJLL7IKL"
      }
    },
    {
      "cell_type": "code",
      "source": [
        "data.unstack().stack()"
      ],
      "metadata": {
        "id": "-P0OOS1r7I2g"
      },
      "execution_count": null,
      "outputs": []
    },
    {
      "cell_type": "markdown",
      "source": [
        "`stack` and `unstack` are explored in more detail in [Chapter 8 of Wes Mckinney's Python for Data Analysis](https://wesmckinney.com/book/data-wrangling.html)."
      ],
      "metadata": {
        "id": "emgys0mZ7Omf"
      }
    },
    {
      "cell_type": "markdown",
      "source": [
        "With a DataFrame, either axis can have a hierarchical index:\n"
      ],
      "metadata": {
        "id": "6a4eZpNn7rw1"
      }
    },
    {
      "cell_type": "code",
      "source": [
        "frame = pd.DataFrame(np.arange(12).reshape((4, 3)),\n",
        "            index=[['a', 'a', 'b', 'b'], [1, 2, 1, 2]],\n",
        "            columns=[['Ohio', 'Ohio', 'Colorado'],\n",
        "            ['Green', 'Red', 'Green']])"
      ],
      "metadata": {
        "id": "Wp4Vg6yQ7tQM"
      },
      "execution_count": 11,
      "outputs": []
    },
    {
      "cell_type": "code",
      "source": [
        "print(frame)"
      ],
      "metadata": {
        "id": "YC1Vpd8l7-IZ"
      },
      "execution_count": null,
      "outputs": []
    },
    {
      "cell_type": "markdown",
      "source": [
        "The hierarchical levels can have names (as strings or any Python objects). If so, these will show up in the console output:\n"
      ],
      "metadata": {
        "id": "qX2waJ9B78af"
      }
    },
    {
      "cell_type": "code",
      "source": [
        "# Assign key1 and key2 as `frame` index hierarchy names, respectively   \n",
        "frame.index.names = ['key1', 'key2'] \n",
        "\n",
        "# Assign state and color as `frame` column hierarchy names, respectively \n",
        "frame.columns.names = ['state', 'color']\n"
      ],
      "metadata": {
        "id": "69qy6EZ-8Fj4"
      },
      "execution_count": 15,
      "outputs": []
    },
    {
      "cell_type": "code",
      "source": [
        "print(frame)"
      ],
      "metadata": {
        "id": "sjqGsIVu8IYM"
      },
      "execution_count": null,
      "outputs": []
    },
    {
      "cell_type": "markdown",
      "source": [
        "***Caution***    \n",
        "*Be careful to note the index names 'state' and 'color' are not part of the row labels (the `frame.index values`).*"
      ],
      "metadata": {
        "id": "19U_Km-28sN3"
      }
    },
    {
      "cell_type": "markdown",
      "source": [
        "With partial column indexing you can similarly select groups of columns:"
      ],
      "metadata": {
        "id": "WejlpZBF89yx"
      }
    },
    {
      "cell_type": "code",
      "source": [
        "frame['Ohio']"
      ],
      "metadata": {
        "id": "VtvBZ-Se8-wk"
      },
      "execution_count": null,
      "outputs": []
    },
    {
      "cell_type": "markdown",
      "source": [
        "A `MultiIndex` can be created by itself and then reused; the columns in the preceding DataFrame with level names could be created like this:"
      ],
      "metadata": {
        "id": "iZ6wW0o39CpZ"
      }
    },
    {
      "cell_type": "code",
      "source": [
        "pd.MultiIndex.from_arrays([['Ohio', 'Ohio', 'Colorado'],\n",
        "                          ['Green', 'Red', 'Green']],\n",
        "                          names=['state', 'color'])"
      ],
      "metadata": {
        "id": "XitjF5F69NfU"
      },
      "execution_count": null,
      "outputs": []
    },
    {
      "cell_type": "markdown",
      "source": [
        "##Reordering and Sorting Levels    \n",
        "\n"
      ],
      "metadata": {
        "id": "GS9z_gY89ZeV"
      }
    },
    {
      "cell_type": "markdown",
      "source": [
        "At times you may need to rearrange the order of the levels on an axis or sort the data by the values in one specific level. The swaplevel takes two level numbers or names and returns a new object with the levels interchanged (but the data is otherwise unaltered):"
      ],
      "metadata": {
        "id": "R8gXzYP_9et8"
      }
    },
    {
      "cell_type": "code",
      "source": [
        "frame.swaplevel('key1', 'key2')"
      ],
      "metadata": {
        "id": "oqCC8GXc9fyr"
      },
      "execution_count": null,
      "outputs": []
    },
    {
      "cell_type": "markdown",
      "source": [
        "`sort_index`, on the other hand, sorts the data using only the values in a single level. When swapping levels, it’s not uncommon to also use `sort_index` so that the result is lexicographically sorted by the indicated level:"
      ],
      "metadata": {
        "id": "UQ3xB28n9ls1"
      }
    },
    {
      "cell_type": "code",
      "source": [
        "frame.sort_index(level=1)"
      ],
      "metadata": {
        "id": "yyWwJuuZ9rq8"
      },
      "execution_count": null,
      "outputs": []
    },
    {
      "cell_type": "code",
      "source": [
        "frame.swaplevel(0, 1).sort_index(level=0)"
      ],
      "metadata": {
        "id": "AfLN8QGm-Pio"
      },
      "execution_count": null,
      "outputs": []
    },
    {
      "cell_type": "markdown",
      "source": [
        "***Note:***    \n",
        "\n",
        "*Data selection performance is much better on hierarchically indexed objects if the index is lexicographically sorted starting with the outermost level—that is, the result of calling `sort_index(level=0)` or `sort_index()`.*    \n",
        "\n"
      ],
      "metadata": {
        "id": "6IrHx6vt-dfK"
      }
    },
    {
      "cell_type": "markdown",
      "source": [
        "##Summary Statistics by Level    \n",
        "\n"
      ],
      "metadata": {
        "id": "pMHdKxtS-iaq"
      }
    },
    {
      "cell_type": "markdown",
      "source": [
        "Many descriptive and summary statistics on DataFrame and Series have a `level` option in which you can specify the level you want to aggregate by on a particular axis. Consider the above DataFrame; we can aggregate by `level` on either the rows or columns like so:"
      ],
      "metadata": {
        "id": "Ay9Q0Mqo-ljF"
      }
    },
    {
      "cell_type": "code",
      "source": [
        "frame.groupby(level='key2').sum()"
      ],
      "metadata": {
        "id": "U4noPte3-uGo"
      },
      "execution_count": null,
      "outputs": []
    },
    {
      "cell_type": "code",
      "source": [
        "frame.groupby(level='color', axis=1).sum()"
      ],
      "metadata": {
        "id": "xM7puDeo-zJk"
      },
      "execution_count": null,
      "outputs": []
    },
    {
      "cell_type": "markdown",
      "source": [
        "Internally, this utilizes pandas’s `groupby` machinery, which is discussed in more detail in the book [Python for Data Analysis](https://wesmckinney.com/book/data-aggregation.html)."
      ],
      "metadata": {
        "id": "2fxjFnwJACBB"
      }
    },
    {
      "cell_type": "markdown",
      "source": [
        "##Indexing with a DataFrame's Columns    \n",
        "\n"
      ],
      "metadata": {
        "id": "ZBzCHcFrAaFR"
      }
    },
    {
      "cell_type": "markdown",
      "source": [
        "It’s not unusual to want to use one or more columns from a DataFrame as the row index; alternatively, you may wish to move the row index into the DataFrame’s columns. Here’s an example DataFrame:"
      ],
      "metadata": {
        "id": "qM7z0OgkAgj9"
      }
    },
    {
      "cell_type": "code",
      "source": [
        "frame = pd.DataFrame({'a': range(7), 'b': range(7, 0, -1),\n",
        "            'c': ['one', 'one', 'one', 'two', 'two',\n",
        "                 'two', 'two'],\n",
        "            'd': [0, 1, 2, 0, 1, 2, 3]})\n"
      ],
      "metadata": {
        "id": "qA83WIbZAiL3"
      },
      "execution_count": 24,
      "outputs": []
    },
    {
      "cell_type": "code",
      "source": [
        "print(frame)"
      ],
      "metadata": {
        "id": "UQp_dl4kBYVP"
      },
      "execution_count": null,
      "outputs": []
    },
    {
      "cell_type": "markdown",
      "source": [
        "DataFrame’s `set_index` function will create a new DataFrame using one or more of its columns as the index:"
      ],
      "metadata": {
        "id": "fGFFmuGFBeGj"
      }
    },
    {
      "cell_type": "code",
      "source": [
        "frame2 = frame.set_index(['c', 'd'])"
      ],
      "metadata": {
        "id": "zp-yrRPjBjB2"
      },
      "execution_count": 26,
      "outputs": []
    },
    {
      "cell_type": "code",
      "source": [
        "print(frame2)"
      ],
      "metadata": {
        "id": "aHPZyXb8BlGO"
      },
      "execution_count": null,
      "outputs": []
    },
    {
      "cell_type": "markdown",
      "source": [
        "By default the columns are removed from the DataFrame, though you can leave them in by passing `drop=False` to `set_index`:"
      ],
      "metadata": {
        "id": "2oLfImI6BrJe"
      }
    },
    {
      "cell_type": "code",
      "source": [
        "frame.set_index(['c', 'd'], drop=False)"
      ],
      "metadata": {
        "id": "cZtibXSEBvG-"
      },
      "execution_count": null,
      "outputs": []
    },
    {
      "cell_type": "markdown",
      "source": [
        "`reset_index`, on the other hand, does the opposite of `set_index`; the hierarchical index levels are moved into the columns:"
      ],
      "metadata": {
        "id": "1wbS0jkCB12R"
      }
    },
    {
      "cell_type": "code",
      "source": [
        "frame2.reset_index()"
      ],
      "metadata": {
        "id": "f5Mj3kJQB8KX"
      },
      "execution_count": null,
      "outputs": []
    },
    {
      "cell_type": "markdown",
      "source": [
        "\n",
        "\n",
        "---\n",
        "\n"
      ],
      "metadata": {
        "id": "OSy7YajwCB7O"
      }
    },
    {
      "cell_type": "markdown",
      "source": [
        "#**Related Exercise**\n",
        "\n",
        "\n",
        "*See the notebook ['Dewey_Dictionary'](https://bit.ly/dewey_notebook) for a related exercise on hierarchical indexing using the Dewey Decimal System.* "
      ],
      "metadata": {
        "id": "gmG5r9z3CCzt"
      }
    },
    {
      "cell_type": "markdown",
      "source": [
        "\n",
        "\n",
        "---\n",
        "\n"
      ],
      "metadata": {
        "id": "AY-vbwVWCd7u"
      }
    }
  ]
}