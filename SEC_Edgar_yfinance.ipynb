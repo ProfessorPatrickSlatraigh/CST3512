{
  "nbformat": 4,
  "nbformat_minor": 0,
  "metadata": {
    "colab": {
      "name": "SEC-Edgar_yfinance.ipynb",
      "provenance": [],
      "collapsed_sections": [
        "kDUiAsLjhoMC"
      ],
      "authorship_tag": "ABX9TyPCoiAMf7MD4R9s4eYqJZUf",
      "include_colab_link": true
    },
    "kernelspec": {
      "name": "python3",
      "display_name": "Python 3"
    },
    "language_info": {
      "name": "python"
    }
  },
  "cells": [
    {
      "cell_type": "markdown",
      "metadata": {
        "id": "view-in-github",
        "colab_type": "text"
      },
      "source": [
        "<a href=\"https://colab.research.google.com/github/ProfessorPatrickSlatraigh/CST3512/blob/main/SEC_Edgar_yfinance.ipynb\" target=\"_parent\"><img src=\"https://colab.research.google.com/assets/colab-badge.svg\" alt=\"Open In Colab\"/></a>"
      ]
    },
    {
      "cell_type": "markdown",
      "source": [
        "#SEC Edgar Data and yfinance for Yahoo! Finance    \n",
        "\n",
        "[per Wikipedia](https://en.wikipedia.org/wiki/EDGAR):    \n",
        "\n",
        "***\n",
        "\n",
        "\"**EDGAR, the Electronic Data Gathering, Analysis, and Retrieval** system, performs automated collection, validation, indexing, acceptance, and forwarding of submissions by companies and others who are required by law to file forms with the U.S. Securities and Exchange Commission (the \"SEC\"). The database contains a wealth of information about the Commission and the securities industry which is freely available to the public via the Internet.\"     \n",
        "\n",
        "*This notebook uses the [sec-edgar-downloader repository by jadchaar on Github](https://github.com/jadchaar/sec-edgar-downloader) to demonstrate an approach to accessing the wealth of data available on the SEC Edgar platform, which is based on [XBRL](https://www.xbrl.org/) (a form of XML) transmission of data.*    \n",
        "\n",
        "\n",
        "***    \n",
        "\n",
        "\"**Yahoo! Finance** is a media property that is part of the **Yahoo!** network. It provides financial news, data and commentary including stock quotes, press releases, financial reports, and original content. It also offers some online tools for personal finance management. In addition to posting partner content from other web sites, it posts original stories by its team of staff journalists. It is ranked 21st by SimilarWeb on the list of largest news and media websites.    \n",
        "\n",
        "**Yahoo! Finance** recently added the feature to look at news surrounding cryptocurrency. It lists over 9,000 unique coins including Bitcoin and Ethereum.\"    \n",
        "\n",
        "*This notebook uses the [**yfinance** module by ranaroussi on Github](https://github.com/ranaroussi/yfinance) to demonstrate an approach to accessing many different types of financial statement and stock/coin trading data available on the **Yahoo! Finance** platform.*   \n",
        "\n"
      ],
      "metadata": {
        "id": "w6a6LOsJzWap"
      }
    },
    {
      "cell_type": "markdown",
      "source": [
        "\n",
        "\n",
        "---\n",
        "\n"
      ],
      "metadata": {
        "id": "NAHiQ_cr0guY"
      }
    },
    {
      "cell_type": "markdown",
      "source": [
        "##Contents    \n"
      ],
      "metadata": {
        "id": "a_pt7YZs95id"
      }
    },
    {
      "cell_type": "markdown",
      "source": [
        "[sec-edgar-downloader](https://github.com/jadchaar/sec-edgar-downloader) is a Python package for downloading company filings from the SEC EDGAR database. Searches can be conducted either by **stock ticker** or **Central Index Key (CIK)**. You can use the SEC CIK lookup tool if you cannot find an appropriate ticker."
      ],
      "metadata": {
        "id": "u-wvI9ft0hxZ"
      }
    },
    {
      "cell_type": "markdown",
      "source": [
        "\n",
        "> Lookup up stock ticker symbols using a company name search on [Yahoo Finance](https://finance.yahoo.com/lookup) or by using the [search page on NasdaqTrader.com.](https://www.nasdaqtrader.com/trader.aspx?id=symbollookup)\n",
        "\n"
      ],
      "metadata": {
        "id": "AvwOK2mD0_op"
      }
    },
    {
      "cell_type": "markdown",
      "source": [
        "This notebook begins with two sections on accessing SEC Edgar data:    \n",
        "1. **Basic Usage** -- to use module imports and some straightforward code to do simple lookups    \n",
        "2. **Advanced Usage** -- alternate code and approach for more complex/advanced queries and data access    \n",
        "\n",
        "This notebook also has a third section on using the [**yfinance** module by ranaroussi on Github](https://github.com/ranaroussi/yfinance) to access ticker data from Yahoo Finance:    \n",
        "3. **yfinance** -- for information, historical market data, financial statements, analysts recommendations, option chains, and more on publicly traded stocks     \n",
        "\n",
        "Finally, there is an appendix in this notebook to describe the structure of `XBRL .xml` documents along with an example of parsing `XBRL .xml` with BeautifulSoup.  There are other methods for automatically extracting data from `XBRL .xml` documents such as the `python-xbrl` library.\n",
        "4. **APPENDIX: Parsing XBRL with Python** -- by Matt Scarpino, 02-Feb-2018 [blog post on CodeProject](https://www.codeproject.com/Articles/1227765/Parsing-XBRL-with-Python)     \n",
        "\n",
        "*please see the footnotes at the bottom of this notebook for disclaimers*    "
      ],
      "metadata": {
        "id": "yCToTb6p2KDn"
      }
    },
    {
      "cell_type": "markdown",
      "source": [
        "##Housekeeping    \n",
        "\n",
        "For the `sec-edgar-downloader` Basic and Advanced scripts, be sure to import the following module:    \n",
        "\n",
        "* from sec_edgar_downloader import Downloader    \n",
        "\n",
        "The `sec-edgdar-downloade` module can be imported using the following statement:    \n",
        "* `!pip install -U sec-edgar-downloader`    \n",
        "\n",
        "\n",
        "For the `yfinance` scripts, be sure to import the following module:     \n",
        "* import yfinance as yf    \n",
        "\n",
        "The `yfinance` module can be imported using the following statement:    \n",
        "* `!pip install yfinance --upgrade --no-cache-dir`    \n",
        "\n",
        "To use a custom requests session with `yfinance` (for example to cache calls to the API or customize the User-agent header), pass a `session= argument` to the Ticker constructor as in the following code:    \n",
        "\n",
        "\n",
        "```\n",
        "import requests_cache\n",
        "session = requests_cache.CachedSession('yfinance.cache')\n",
        "session.headers['User-agent'] = 'my-program/1.0'\n",
        "ticker = yf.Ticker('msft aapl goog', session=session)\n",
        "# The scraped response will be stored in the cache\n",
        "ticker.actions\n",
        "```\n",
        "\n",
        "And, if you intend to work with the example of parsing `XBRL .xml` files in the **APPENDIX: Parsing XBRL with Python**, then you will want to import `BeautifulSoup`, `requests`, and `sys` as in the following code:    \n",
        "\n",
        "\n",
        "```\n",
        "from bs4 import BeautifulSoup\n",
        "import requests\n",
        "import sys\n",
        "```\n",
        "\n"
      ],
      "metadata": {
        "id": "trA7jXrg_6Xy"
      }
    },
    {
      "cell_type": "code",
      "source": [
        "# importing sec-edgar-downloader for access to SEC Edgar data    \n",
        "!pip install -U sec-edgar-downloader    \n",
        "from sec_edgar_downloader import Downloader\n"
      ],
      "metadata": {
        "colab": {
          "base_uri": "https://localhost:8080/"
        },
        "id": "Wmoc9F6PBX4M",
        "outputId": "7dd897ad-5971-4ffe-a385-ab4a92ec7e00"
      },
      "execution_count": 6,
      "outputs": [
        {
          "output_type": "stream",
          "name": "stdout",
          "text": [
            "Collecting sec-edgar-downloader\n",
            "  Downloading sec_edgar_downloader-4.3.0-py3-none-any.whl (13 kB)\n",
            "Collecting Faker\n",
            "  Downloading Faker-13.6.0-py3-none-any.whl (1.5 MB)\n",
            "\u001b[K     |████████████████████████████████| 1.5 MB 8.3 MB/s \n",
            "\u001b[?25hRequirement already satisfied: lxml in /usr/local/lib/python3.7/dist-packages (from sec-edgar-downloader) (4.2.6)\n",
            "Requirement already satisfied: bs4 in /usr/local/lib/python3.7/dist-packages (from sec-edgar-downloader) (0.0.1)\n",
            "Requirement already satisfied: requests in /usr/local/lib/python3.7/dist-packages (from sec-edgar-downloader) (2.23.0)\n",
            "Requirement already satisfied: beautifulsoup4 in /usr/local/lib/python3.7/dist-packages (from bs4->sec-edgar-downloader) (4.6.3)\n",
            "Requirement already satisfied: typing-extensions>=3.10.0.2 in /usr/local/lib/python3.7/dist-packages (from Faker->sec-edgar-downloader) (4.2.0)\n",
            "Requirement already satisfied: python-dateutil>=2.4 in /usr/local/lib/python3.7/dist-packages (from Faker->sec-edgar-downloader) (2.8.2)\n",
            "Requirement already satisfied: six>=1.5 in /usr/local/lib/python3.7/dist-packages (from python-dateutil>=2.4->Faker->sec-edgar-downloader) (1.15.0)\n",
            "Requirement already satisfied: chardet<4,>=3.0.2 in /usr/local/lib/python3.7/dist-packages (from requests->sec-edgar-downloader) (3.0.4)\n",
            "Requirement already satisfied: certifi>=2017.4.17 in /usr/local/lib/python3.7/dist-packages (from requests->sec-edgar-downloader) (2021.10.8)\n",
            "Requirement already satisfied: urllib3!=1.25.0,!=1.25.1,<1.26,>=1.21.1 in /usr/local/lib/python3.7/dist-packages (from requests->sec-edgar-downloader) (1.24.3)\n",
            "Requirement already satisfied: idna<3,>=2.5 in /usr/local/lib/python3.7/dist-packages (from requests->sec-edgar-downloader) (2.10)\n",
            "Installing collected packages: Faker, sec-edgar-downloader\n",
            "Successfully installed Faker-13.6.0 sec-edgar-downloader-4.3.0\n"
          ]
        }
      ]
    },
    {
      "cell_type": "code",
      "source": [
        "# importing yfinance as yf for access to yahoo! Finance data    \n",
        "!pip install yfinance --upgrade --no-cache-dir    \n",
        "import yfinance as yf "
      ],
      "metadata": {
        "colab": {
          "base_uri": "https://localhost:8080/"
        },
        "id": "yQEU3BdeDV2G",
        "outputId": "aca2f066-272c-443c-82d4-afdb1c4adee9"
      },
      "execution_count": 1,
      "outputs": [
        {
          "output_type": "stream",
          "name": "stdout",
          "text": [
            "Requirement already satisfied: yfinance in /usr/local/lib/python3.7/dist-packages (0.1.70)\n",
            "Requirement already satisfied: numpy>=1.15 in /usr/local/lib/python3.7/dist-packages (from yfinance) (1.21.6)\n",
            "Requirement already satisfied: multitasking>=0.0.7 in /usr/local/lib/python3.7/dist-packages (from yfinance) (0.0.10)\n",
            "Requirement already satisfied: pandas>=0.24.0 in /usr/local/lib/python3.7/dist-packages (from yfinance) (1.3.5)\n",
            "Requirement already satisfied: requests>=2.26 in /usr/local/lib/python3.7/dist-packages (from yfinance) (2.27.1)\n",
            "Requirement already satisfied: lxml>=4.5.1 in /usr/local/lib/python3.7/dist-packages (from yfinance) (4.8.0)\n",
            "Requirement already satisfied: pytz>=2017.3 in /usr/local/lib/python3.7/dist-packages (from pandas>=0.24.0->yfinance) (2022.1)\n",
            "Requirement already satisfied: python-dateutil>=2.7.3 in /usr/local/lib/python3.7/dist-packages (from pandas>=0.24.0->yfinance) (2.8.2)\n",
            "Requirement already satisfied: six>=1.5 in /usr/local/lib/python3.7/dist-packages (from python-dateutil>=2.7.3->pandas>=0.24.0->yfinance) (1.15.0)\n",
            "Requirement already satisfied: urllib3<1.27,>=1.21.1 in /usr/local/lib/python3.7/dist-packages (from requests>=2.26->yfinance) (1.24.3)\n",
            "Requirement already satisfied: certifi>=2017.4.17 in /usr/local/lib/python3.7/dist-packages (from requests>=2.26->yfinance) (2021.10.8)\n",
            "Requirement already satisfied: charset-normalizer~=2.0.0 in /usr/local/lib/python3.7/dist-packages (from requests>=2.26->yfinance) (2.0.12)\n",
            "Requirement already satisfied: idna<4,>=2.5 in /usr/local/lib/python3.7/dist-packages (from requests>=2.26->yfinance) (2.10)\n"
          ]
        }
      ]
    },
    {
      "cell_type": "code",
      "source": [
        "# importing beautifulsoup, requests, and sys for XBRL parsing example in the APPENDIX\n",
        "from bs4 import BeautifulSoup\n",
        "import requests\n",
        "import sys"
      ],
      "metadata": {
        "id": "WgeYmgKtVbEj"
      },
      "execution_count": null,
      "outputs": []
    },
    {
      "cell_type": "code",
      "source": [
        "# import prettyprint (pprint) for easy-to-read output \n",
        "import pprint "
      ],
      "metadata": {
        "id": "03gIS5Hzs1lP"
      },
      "execution_count": null,
      "outputs": []
    },
    {
      "cell_type": "markdown",
      "source": [
        "\n",
        "\n",
        "---\n",
        "\n"
      ],
      "metadata": {
        "id": "XA1cNCj2EgTf"
      }
    },
    {
      "cell_type": "markdown",
      "source": [
        "##1. Basic SEC Edgar (downloader) Usage     \n"
      ],
      "metadata": {
        "id": "X3RisArxEhFn"
      }
    },
    {
      "cell_type": "markdown",
      "source": [
        "This section demonstrates downloads of `HTML` documents for various SEC Edgar filings on publicly traded companies.    \n",
        "\n",
        "The official list of all SEC forms (documents) can be found on the [U.S. Securities and Exchange Commission - Forms List](https://www.sec.gov/forms).    \n",
        "\n",
        "Explanations of the content and use of some of the more frequently analyzed SEC Edgar submission forms is available on [Investopedia - SEC Filings: Forms You Need to Know page](https://www.investopedia.com/articles/fundamental-analysis/08/sec-forms.asp#:~:text=Among%20the%20most%20common%20SEC,114%2C%20and%20Foreign%20Investment%20Disclosures.).     "
      ],
      "metadata": {
        "id": "HwCm48-MMs-R"
      }
    },
    {
      "cell_type": "code",
      "execution_count": null,
      "metadata": {
        "id": "tXXpGurzzRGA"
      },
      "outputs": [],
      "source": [
        "from sec_edgar_downloader import Downloader\n",
        "\n",
        "# Initialize a downloader instance. If no argument is passed\n",
        "# to the constructor, the package will download filings to\n",
        "# the current working directory.\n",
        "# dl = Downloader(\"/path/to/valid/save/location\") # to specify a path\n",
        "dl = Downloader()  # to use the current working directory   \n",
        "\n",
        "# Get all 8-K filings for Apple (ticker: AAPL)\n",
        "# dl.get(\"8-K\", \"AAPL\")  # this is lengthy\n",
        "\n",
        "# Get all 8-K filings for Apple, including filing amends (8-K/A)\n",
        "# dl.get(\"8-K\", \"AAPL\", include_amends=True) # this is lengthy\n",
        "\n",
        "# Get all 8-K filings for Apple after January 1, 2017 and before March 25, 2017\n",
        "# Note: after and before strings must be in the form \"YYYY-MM-DD\"\n",
        "dl.get(\"8-K\", \"AAPL\", after=\"2017-01-01\", before=\"2017-03-25\") # this is brief\n",
        "\n",
        "# Get the five most recent 8-K filings for Apple\n",
        "dl.get(\"8-K\", \"AAPL\", amount=5) # this is brief\n",
        "\n",
        "# Get all 10-K filings for Microsoft\n",
        "# dl.get(\"10-K\", \"MSFT\")  # this is moderate in length\n",
        "\n",
        "# Get the latest 10-K filing for Microsoft\n",
        "dl.get(\"10-K\", \"MSFT\", amount=1) # this is brief \n",
        "\n",
        "# Get all 10-Q filings for Visa\n",
        "# dl.get(\"10-Q\", \"V\") # this is very lengthy \n",
        "\n",
        "# Get all 13F-NT filings for the Vanguard Group\n",
        "dl.get(\"13F-NT\", \"0000102909\")  # this is brief\n",
        "\n",
        "# Get all 13F-HR filings for the Vanguard Group\n",
        "# dl.get(\"13F-HR\", \"0000102909\")  # this is lengthy \n",
        "\n",
        "# Get all SC 13G filings for Apple\n",
        "dl.get(\"SC 13G\", \"AAPL\") # this is brief\n",
        "\n",
        "# Get all SD filings for Apple\n",
        "dl.get(\"SD\", \"AAPL\") # this is brief "
      ]
    },
    {
      "cell_type": "markdown",
      "source": [
        "Let's look at SEC Edgar filings regarding insider trading of **Twitter (`TWTR`)**  stock.    \n",
        "\n",
        "We can wrap the `dl.get()` method with a `print()` statement to display a count of the number of documents downloaded.    \n"
      ],
      "metadata": {
        "id": "5x7AyBT-MZCT"
      }
    },
    {
      "cell_type": "code",
      "source": [
        "# from sec_edgar_downloader import Downloader\n",
        "\n",
        "# Initialize a downloader instance. If no argument is passed\n",
        "# to the constructor, the package will download filings to\n",
        "# the current working directory.\n",
        "# dl = Downloader(\"/path/to/valid/save/location\") # to specify a path\n",
        "# dl = Downloader()  # to use the current working directory   \n",
        "\n",
        "# Get the last 6 filings of Form-3 (Beneficial Ownership) for Twitter (ticker: TWTR)\n",
        "print('Form 3 downloads', dl.get(\"3\", \"TWTR\", amount=6))  # Is Elon Musk on any of these?\n",
        "\n",
        "# Get the last six month's worth of Form-4 (Changes in Ownership) for Twitter (ticker: TWTR)\n",
        "print('Form 4 downloads', dl.get(\"4\", \"TWTR\", after=\"2021-10-31\", before=\"2022-05-01\"))  # Is Elon Musk on any of these?\n",
        "\n",
        "# Get all of the filings of Form-5 (Annual Summary of #4) for Twitter (ticker: TWTR)\n",
        "print('Form 5 downloads', dl.get(\"5\", \"TWTR\"))  # Is Elon Musk on any of these?\n"
      ],
      "metadata": {
        "colab": {
          "base_uri": "https://localhost:8080/"
        },
        "id": "nreaFHxnNwXZ",
        "outputId": "0f9d94c2-376c-4f06-af2e-cb109a519950"
      },
      "execution_count": 13,
      "outputs": [
        {
          "output_type": "stream",
          "name": "stdout",
          "text": [
            "Form 3 downloads 6\n",
            "Form 4 downloads 42\n",
            "Form 5 downloads 0\n"
          ]
        }
      ]
    },
    {
      "cell_type": "markdown",
      "source": [
        "\n",
        "\n",
        "---\n",
        "\n"
      ],
      "metadata": {
        "id": "vH3XU3b0_3eK"
      }
    },
    {
      "cell_type": "markdown",
      "source": [
        "##2. Advanced SEC Edgar (downloader) Usage     \n",
        "\n"
      ],
      "metadata": {
        "id": "RuDxmf0Jw4lX"
      }
    },
    {
      "cell_type": "markdown",
      "source": [
        "While this section claims to support more advanced uses of SEC Edgar data, like the basic section, it is focused on downloading documents and not on parsing the data in those documents.  The more advanced features described in this section are somewhat more complex search terms for the selection of a document(s) to be downloaded.    \n"
      ],
      "metadata": {
        "id": "ZYu5ZtFdxDCM"
      }
    },
    {
      "cell_type": "code",
      "source": [
        "from sec_edgar_downloader import Downloader\n",
        "\n",
        "# Download filings to the current working directory\n",
        "dl = Downloader()\n",
        "\n",
        "# Get all Apple proxy statements that contain the term \"antitrust\"\n",
        "dl.get(\"DEF 14A\", \"AAPL\", query=\"antitrust\")\n",
        "\n",
        "# Get all 10-K filings for Microsoft without the filing details\n",
        "dl.get(\"10-K\", \"MSFT\", download_details=False)\n",
        "\n",
        "# Get the latest supported filings, if available, for Apple\n",
        "for filing_type in dl.supported_filings:\n",
        "    dl.get(filing_type, \"AAPL\", amount=1)\n",
        "\n",
        "# Get the latest supported filings, if available, for a\n",
        "# specified list of tickers and CIKs\n",
        "equity_ids = [\"AAPL\", \"MSFT\", \"0000102909\", \"V\", \"FB\"]\n",
        "for equity_id in equity_ids:\n",
        "    for filing_type in dl.supported_filings:\n",
        "        dl.get(filing_type, equity_id, amount=1)    \n"
      ],
      "metadata": {
        "id": "ybh1ejX8ziyk"
      },
      "execution_count": null,
      "outputs": []
    },
    {
      "cell_type": "markdown",
      "source": [
        "\n",
        "\n",
        "---\n",
        "\n"
      ],
      "metadata": {
        "id": "5YS8gsRxUqnz"
      }
    },
    {
      "cell_type": "markdown",
      "source": [
        "##APPENDIX: Parsing XBRL with Python     \n",
        "\n",
        "from the [02-Feb-2018 blog post by Dan Scavino on CodeProject](https://www.codeproject.com/Articles/1227765/Parsing-XBRL-with-Python)     \n",
        "\n"
      ],
      "metadata": {
        "id": "44GuaffDUrQZ"
      }
    },
    {
      "cell_type": "markdown",
      "source": [
        "So far this notebook has demonstrated how to access corporate reports in the EDGAR database, but it didn't explain how to extract data from a report. If you look at a report listing, you'll see that EDGAR provides reports in three primary formats:    \n",
        "\n",
        "* **Regular text** - Data provided in regular files (*.txt)    \n",
        "* **Web pages** - Data to be viewed in a browser (*.htm)    \n",
        "* **XBRL** - Data provided in XBRL-formatted files (*.xml)    \n",
        "\n",
        "The first two options are fine if you want to read report data yourself. But if you want to extract data programmatically, the last option is the most practical. XBRL files aren't easy for humans to read, but because of their structure, they're ideally suited for computers.    \n",
        "\n",
        "This appendix describes the XBRL format and then explains how to read XBRL using BeautifulSoup. At the end, I'll present example code that programmatically downloads and parses an XBRL file from EDGAR.    "
      ],
      "metadata": {
        "id": "gZTH3MsZU68C"
      }
    },
    {
      "cell_type": "markdown",
      "source": [
        "###1. Introducing XBRL    \n",
        "\n",
        "A primary role of the **US Securities and Exchange Commission (SEC)** is to ensure that investors have reliable information with which to make decisions. To this end, the **SEC** requires that publicly-traded corporations submit reports that accurately portray their financial state. Corporations have traditionally provided these reports in regular text, but as computerized stock analysis became popular, the **SEC** decided on a more structured, computer-readable format.    \n",
        "\n",
        "The **SEC** selected the **eXtensible Business Reporting Language** (`XBRL`) for structured corporate reporting. As of April 2009, the **SEC** requires that corporations provide financial reports in `XBRL` format in addition to text. Since then, India and the United Kingdom have also adopted `XBRL` for corporate reporting.    \n",
        "\n",
        "`XBRL` is based on the **eXtensible Markup Language** (`XML`), but uses special tags to mark financial data. This section presents the basics of `XML` and namespaces, and then provides an overview of `XBRL`.    \n"
      ],
      "metadata": {
        "id": "WtTsumJxW8ox"
      }
    },
    {
      "cell_type": "markdown",
      "source": [
        "####1.1 XML, Schema, and Namespaces    \n",
        "\n",
        "A good way to introduce `XML` is to compare it with HTML. An `HTML` document structures its content using nested tags that take the form `<xyz>...</xyz>`. For example, `HTML` uses `<b>...</b>` tags to display text in boldface, as in `<b>Hi there!</b>`. HTML lets you control a tag's behavior with attributes, such as the id attribute in `<p id=\"...\">...</p>`.    \n",
        "\n",
        "I like to think of `XML` as generic `HTML`. An `XML` document contains tags and attributes similar to those in `HTML` but `XML` doesn't define any specific tags or attributes. Instead, implementers can define their own tags and attributes by creating a schema. Schemas are defined in special `XML` documents formatted with **XML Schema Definition (XSD)**, and for this reason, schema documents have the suffix `*.xsd` instead of `*.xml`.    \n",
        "\n",
        "An XML document can access the tags and attributes of a schema using a namespace declaration. As an example, the following declaration specifies that the `XML` document will access the tags and attributes defined in the schema located at `http://www.example.com`:    "
      ],
      "metadata": {
        "id": "b4UnkNDjXeqO"
      }
    },
    {
      "cell_type": "code",
      "source": [
        "# sample XML \n",
        "xmlns:ex=\"http://www.example.com\""
      ],
      "metadata": {
        "id": "w6KZcT0mYFVS"
      },
      "execution_count": null,
      "outputs": []
    },
    {
      "cell_type": "markdown",
      "source": [
        "####1.2 XBRL Reports and Schema    \n",
        "\n",
        "An `XBRL` document is an `XML` document that structures its content using `XBRL`'s tags and attributes. This may sound straightforward, but a single document may need to access features from many different schemas. For example, different countries have different reporting requirements, so an American report will access a different set of elements than a British report. Similarly, different types of reports will require different schemas, so an annual report will use different tags than a prospectus.    \n",
        "\n",
        "A thorough discussion of the tags/attributes in an American corporation's annual report would take up a sizable book. In this discussion, my goal is to present some of the namespaces that are commonly accessed in American reports:    \n",
        "\n",
        "* **Base XBRL Schema** - Provides the overall structure of an `XBRL` document    \n",
        "* **US Document and Entity Information (DEI)** - Sets a document's type and characteristics    \n",
        "* **US Generally Accepted Accounting Principles (GAAP)** - Defines required elements of American reports    \n",
        "* **Entity-specific Schema** - Defines elements specific to the entity providing the report    \n",
        "\n",
        "You don't need to memorize the elements of these namespaces, but the more familiar you are, the better you'll be able to extract data from `XBRL` documents.    \n"
      ],
      "metadata": {
        "id": "E0XNVgLLYRL_"
      }
    },
    {
      "cell_type": "markdown",
      "source": [
        "#####1.2.1 The Base XBRL Schema     \n",
        "\n",
        "The fundamental tags and attributes of `XBRL` are provided in the schema located at *http://www.xbrl.org/2003/instance*. Documents commonly access these elements through the `xbrli` prefix, as given in the following namespace declaration:    \n",
        "\n"
      ],
      "metadata": {
        "id": "hsnns9xaZHDU"
      }
    },
    {
      "cell_type": "code",
      "source": [
        "# XML example \n",
        "xlmns:xbrli=\"http://www.xbrl.org/2003/instance\"    \n"
      ],
      "metadata": {
        "id": "RaV1BMTOZOMI"
      },
      "execution_count": null,
      "outputs": []
    },
    {
      "cell_type": "markdown",
      "source": [
        "Of the many elements defined by the schema, `xbrli:xbrl` is particularly important. This is because the content of every XBRL document must be contained inside `<xbrli:xbrl>...</xbrli:xbrl>` tags.    \n",
        "\n",
        "To understand other tags provided by the base schema, you should be familiar with the following terms:  \n",
        "\n",
        "* **instance** - an `XBRL` document whose root element is <xbrli:xbrl>   \n",
        "* **fact** - an individual detail in a report, such as $20M   \n",
        "* **concept** - the meaning associated with a fact, such as the cost of goods sold   \n",
        "* **entity** - the company or individual described by a concept    \n",
        "* **context** - a data structure that associates an entity with a concept    \n",
        "\n",
        "Many `XBRL` documents start by defining a long list of contexts. Each context is represented by an `<xbrli:context>` element and each has an id attribute. Each `<xbrli:context>` element contains an `<xbrli:entity>` subelement that identifies an entity. The following markup defines a context with an identifier of **FD2013Q4YTD**:     \n",
        "\n"
      ],
      "metadata": {
        "id": "d9oyajUBaVUI"
      }
    },
    {
      "cell_type": "code",
      "source": [
        "# XML example    \n",
        "<xbrli:context id=\"FD2013Q4YTD\">\n",
        "    <xbrli:entity>\n",
        "    <xbrli:identifier scheme=\"http://www.sec.gov/CIK\">0001065088</xbrli:identifier>\n",
        "  </xbrli:entity>\n",
        "  <xbrli:period>\n",
        "    <xbrli:startDate>2013-01-01</xbrli:startDate>\n",
        "    <xbrli:endDate>2013-12-31</xbrli:endDate>\n",
        "  </xbrli:period>\n",
        "</xbrli:context> \n"
      ],
      "metadata": {
        "id": "n-01gs7HaazO"
      },
      "execution_count": null,
      "outputs": []
    },
    {
      "cell_type": "markdown",
      "source": [
        "Later sections in the document can reference this context by assigning a contextRef attribute to the context's ID. This is shown in the following markup:   \n"
      ],
      "metadata": {
        "id": "_SaCuJJDaXEl"
      }
    },
    {
      "cell_type": "code",
      "source": [
        "# XML example \n",
        "<us-gaap:IncomeTaxDisclosureTextBlock contextRef=\"FD2013Q4YTD\" ...>\n"
      ],
      "metadata": {
        "id": "A0rvbz55apVf"
      },
      "execution_count": null,
      "outputs": []
    },
    {
      "cell_type": "markdown",
      "source": [
        "####1.2.2 US Document and Entity Information (DEI)    \n",
        "\n",
        "Every `XBRL` document submitted to the **SEC** needs to provide information about its content. A submitter can meet this requirement by including elements from the **US Document and Entity Information (DEI)** schema. These elements are commonly prefixed with `dei` and a document can access them with the following declaration:    \n",
        "*italicized text*"
      ],
      "metadata": {
        "id": "HiKUV4LRatTh"
      }
    },
    {
      "cell_type": "code",
      "source": [
        "# XML example\n",
        "xlmns:dei=\"http://xbrl.sec.gov/dei/2014-01-31\""
      ],
      "metadata": {
        "id": "SiHh5NSYbLEe"
      },
      "execution_count": null,
      "outputs": []
    },
    {
      "cell_type": "markdown",
      "source": [
        "The elements defined in this schema identify the XBRL report's type and provide information about the entity submitting the report. *Table 1* lists eleven of the many elements available.    "
      ],
      "metadata": {
        "id": "GcFWAFk3bSUa"
      }
    },
    {
      "cell_type": "markdown",
      "source": [
        "**Table 1: Elements Provided by the US Document and Entity Information Schema (Abridged)**    \n",
        "\n",
        "\n",
        "* **DocumentType** >> Type of document being reported    \n",
        "* **EntityCentralIndexKey** >> CIK of the entity submitting the report    \n",
        "* **TradingSymbol** >> Exchange symbol of the entity submitting the report    \n",
        "* **EntityCurrentReportingStatus** >> Identifies if the entity is subject to filing requirements    \n",
        "* **EntityFilerCategory** >> Identifies the entity's filing category (large, small, ...    \n",
        "* **EntityRegistrantName** >> Exact name of the entity has given in the charter    \n",
        "* **DocumentFiscalPeriodFocus** >> The document's focus fiscal period    \n",
        "* **DocumentFiscalYearFocus** >> The document's focus fiscal year    \n",
        "* **CurrentFiscalYearEndDate** >> End of the current fiscal year    \n",
        "* **AmendmentFlag** >> Identifies if the document is an amendment to a\n",
        "previously-filed document    \n",
        "* **AmendmentDescription**>>Description of changes in amended document    \n",
        "\n"
      ],
      "metadata": {
        "id": "LCQSwSnZbbVY"
      }
    },
    {
      "cell_type": "markdown",
      "source": [
        "It's important to see the difference between `EntityCentralIndexKey`, `TradingSymbol`, and `EntityRegistrantName`. The `EntityCentralIndexKey` element identifies the submitter's **CIK code**, the `TradingSymbol` identifies the submitter's **trading (ticker) symbol**, and `EntityRegistrantName` provides the entity's formal name.\n",
        "\n",
        "The following markup, taken from an **eBay annual report**, demonstrates how DEI elements are used:    \n"
      ],
      "metadata": {
        "id": "b_-McPFAc2Sg"
      }
    },
    {
      "cell_type": "code",
      "source": [
        "# XML example    \n",
        "<dei:DocumentType contextRef=\"...\" id=\"Fact-...\">\n",
        "  10-K\n",
        "</dei:DocumentType>\n",
        "<dei:EntityCentralIndexKey contextRef=\"...\" id=\"Fact-...\">\n",
        "  0001065088\n",
        "</dei:EntityCentralIndexKey>\n",
        "<dei:TradingSymbol contextRef=\"...\" id=\"Fact-...\">\n",
        "  EBAY\n",
        "</dei:TradingSymbol>\n",
        "<dei:EntityRegistrantName contextRef=\"...\" id=\"Fact-...\">\n",
        "  EBAY INC\n",
        "</dei:EntityRegistrantName>\n",
        "<dei:EntityFilerCategory contextRef=\"...\" id=\"Fact-...\">\n",
        "  Large Accelerated Filer\n",
        "</dei:EntityFilerCategory> \n"
      ],
      "metadata": {
        "id": "SIMzptsTc3Vk"
      },
      "execution_count": null,
      "outputs": []
    },
    {
      "cell_type": "markdown",
      "source": [
        "As shown, each `DEI` element has an id attribute and a contextRef that refers to an `<xbrli:context>` element defined earlier in the document.    \n"
      ],
      "metadata": {
        "id": "i6inWWOkdFFu"
      }
    },
    {
      "cell_type": "markdown",
      "source": [
        "####1.2.3 US Generally Accepted Accounting Principles (GAAP)\n",
        "\n",
        "To ensure that businesses use common terminology in their accounting reports, the **US Financial Accounting Standards Board (FASB)** provides a set of standards called the **Generally Accepted Accounting Principles**, or `GAAP`. Entities can provide `GAAP` data in their `XBRL` reports by accessing the **FASB**'s schema definitions. `GAAP` elements are commonly preceded with the `us-gaap` prefix:    \n",
        "\n"
      ],
      "metadata": {
        "id": "CudN82t9ddOE"
      }
    },
    {
      "cell_type": "code",
      "source": [
        "# XML Example \n",
        "xmlns:us-gaap=\"http://fasb.org/us-gaap/2014-01-31\""
      ],
      "metadata": {
        "id": "wd8vVv8IdieA"
      },
      "execution_count": null,
      "outputs": []
    },
    {
      "cell_type": "markdown",
      "source": [
        "This schema provides thousands of elements related to accounting, and *Table 2* lists a small but important subset. You can look through a more complete table [here](http://www.xbrlsite.com/LinkedData/BrowseObjectsByType_HTML.aspx?Type=%5BConcept%5D&Submit=Submit).   \n"
      ],
      "metadata": {
        "id": "F7o1WiYJdkna"
      }
    },
    {
      "cell_type": "markdown",
      "source": [
        "**Table 2: Elements of the US Generally Accepted Accounting Principles Schema (Abridged)**     \n",
        "\n",
        "**AccountsPayableCurrent** >> Liabilities payable to vendors as of the balance sheet date    \n",
        "**AccountsReceivableGross** >> Amounts due from customers or clients    \n",
        "**AccountsReceivableNet** >> Amounts due from customers or clients, reduced to estimated realizable value    \n",
        "**AccruedIncomeTaxes** >> Unpaid sum of known and estimated tax obligations    \n",
        "**AccruedInsuranceCurrent** >> Obligations payable to insurance entities to mitigate loss    \n",
        "**AssetManagementCosts** >> Aggregate costs related to asset management    \n",
        "**AssetsCurrent** >> Sum of all assets expected to be realized within year    \n",
        "**BorrowedFunds** >> Sum of all debt amounts    \n",
        "**Cash** >> Unrestricted cash available for operating needs    \n",
        "**CommercialPaper** >> Value of short-term borrowings using unsecured\n",
        "obligations issued by banks and corporations    \n",
        "**CommonStockNoParValue** >> Issuance value per share of no-par value stock    \n",
        "**CommonStockSharesIssued** >> Total number of common shares that have been\n",
        "sold or granted to shareholders    \n",
        "**CommonStockValue** >> Aggregate par or stated value of issued common stock    \n",
        "**SalariesAndWages** >> Expenditures for salaries other than officers    \n",
        "**ConvertibleDebt** >> Amount of debt that can be converted into another\n",
        "form of financial instrument, such as common stock    \n",
        "**CostOfGoodsSold** >> Aggregate costs related to goods sold during the period    \n",
        "**CostOfServices** >> Total costs related to services rendered during the period    \n",
        "**CostsAndExpenses** >> Total costs of sales and operating expenses for the period    \n",
        "**DebtCurrent** >> Sum of short-term debt and maturities of long-term debt    \n",
        "**DeferredRevenue** >> Cash or other assets that have not yet been realized    \n",
        "**Depreciation** >> Amount of expense related to the cost of tangible assets\n",
        "over the assets' useful lives    \n",
        "**DirectOperatingCosts** >> Aggregate expenses directly related to operations    \n",
        "**Dividends** >> Equity impact of cash, stock, and dividends declared\n",
        "for all securities during the period    \n",
        "**EarningsPerShareBasic** >> Net income (loss) for the period per share of common stock    \n",
        "**GrossProfit** >> Aggregate revenue minus the cost of goods/services sold and operating expenses    \n",
        "**IntangibleAssetsCurrent** >> Current portion of non-physical assets, excluding financial assets    \n",
        "**InterestAndDebtExpense** >> Expenses related to interest and debt payments    \n",
        "**InventoryGross** >> Merchandise, goods, or supplies held for future sale or used in manufacturing or production    \n",
        "**Land** >> Real estate held for productive use, not held for sale    \n",
        "**Liabilities** >> Sum of all recognized liabilities    \n",
        "**LiabilitiesAndStockholdersEquity** >> Total of liabilities and stockholder's equity, including the portion of equity attributable to noncontrolling interests    \n",
        "**NetIncomeLoss** >> Portion of profit or loss for the period, net of income taxes    \n",
        "**ProfitLoss** >> Consolidated profit or loss for the period    \n",
        "**NotesPayable** >> Aggregate amount of notes payable, with initial maturities beyond one year or the normal operating cycle    \n",
        "**OfficersCompensation** >> Expenditures for salaries of officers    \n",
        "**OperatingCycle** >> Entity's operating cycle if less than 12 months    \n",
        "**OperatingExpenses** >> Recurring costs associated with normal operations except expenses included in the cost of sales or services    \n",
        "**PreferredStockValue** >> Stated value of issued nonredeemable preferred stock    \n",
        "**ResearchAndDevelopmentExpense** >> Costs incurred during research and development activities    \n",
        "**Revenues** >> Aggregate revenue recognized during the period    \n",
        "**SharesIssued** >> Number of shares of stock issued    \n",
        "**SharesOutstanding** >> Number of shares issued and outstanding    \n",
        "**StockholdersEquity** >> Total of stockholders' equity items, net of receivables from officers, directors, owners, and affiliates    "
      ],
      "metadata": {
        "id": "0R1Ks-rJdybe"
      }
    },
    {
      "cell_type": "markdown",
      "source": [
        "You can find accounting data in a report by searching for the appropriate `us-gaap` element. For example, **eBay's 2014** annual report identifies its **aggregate liabilities** with the following markup:   "
      ],
      "metadata": {
        "id": "TpTv22Y2fEiF"
      }
    },
    {
      "cell_type": "code",
      "source": [
        "# XML example \n",
        "<us-gaap:Liabilities contextRef=\"...\" decimals=\"...\" id=\"...\" unitRef=\"usd\">\n",
        "  25226000000\n",
        "</us-gaap:Liabilities> \n"
      ],
      "metadata": {
        "id": "qwVUbxA0frrb"
      },
      "execution_count": null,
      "outputs": []
    },
    {
      "cell_type": "markdown",
      "source": [
        "The `us-gaap` schema has many elements that closely resemble one another in name and purpose. If you're searching for specific accounting data, be sure not to confuse the elements."
      ],
      "metadata": {
        "id": "igsCyq_ifvbh"
      }
    },
    {
      "cell_type": "markdown",
      "source": [
        "###2. Parsing XBRL with BeautifulSoup    "
      ],
      "metadata": {
        "id": "iHsxp8Lof3AA"
      }
    },
    {
      "cell_type": "markdown",
      "source": [
        "After you've downloaded an XBRL document, you can extract its data using a number of methods. If you know what element you're interested in, you can perform a brute-force search for the text, as in `us-gaap:Assets`. At the opposite extreme, the `python-xbrl` library was specially created for parsing `XBRL` documents, but I've never gotten it to work properly.    \n",
        "\n",
        "This section explains how to parse `XBRL` using the `BeautifulSoup` package. You don't need to learn any new classes or methods, but it is important to specify that you want to perform `XML` parsing. If you install the `lxml` library (`pip install lxml`), then you can create the `BeautifulSoup` instance with the following code:    \n"
      ],
      "metadata": {
        "id": "Ska0lmpVgR0G"
      }
    },
    {
      "cell_type": "code",
      "source": [
        "soup = BeautifulSoup(..., 'lxml')"
      ],
      "metadata": {
        "id": "mKY9T9S1gS4h"
      },
      "execution_count": null,
      "outputs": []
    },
    {
      "cell_type": "markdown",
      "source": [
        "For some reason, when I call the `find_all` method to search for an `XBRL` tag, the returned list is always empty. But when I call `find_all` without arguments, the returned list contains Tags that represent `XBRL` tags. Therefore, I use code like the following:    \n"
      ],
      "metadata": {
        "id": "hdxH5vmqgVC8"
      }
    },
    {
      "cell_type": "code",
      "source": [
        "soup = BeautifulSoup(xbrl_string, 'lxml')\n",
        "tag_list = soup.find_all()\n",
        "for tag in tag_list:\n",
        "    if tag.name == 'us-gaap:liabilities':\n",
        "        print('Liabilities: ' + tag.text)    \n"
      ],
      "metadata": {
        "id": "Vyto7KfOgffH"
      },
      "execution_count": null,
      "outputs": []
    },
    {
      "cell_type": "markdown",
      "source": [
        "An annual report may contain multiple `<us-gaap:liabilities>` elements, each corresponding to a different reporting period. Each period corresponds to a `<context>` element, so you can distinguish between `GAAP` elements by checking their `contextRef` attributes.    \n"
      ],
      "metadata": {
        "id": "hy2y1L8egimF"
      }
    },
    {
      "cell_type": "markdown",
      "source": [
        "##3.a Complete EDGAR-XBRL Example (3.a needs work -- see 3.b)"
      ],
      "metadata": {
        "id": "aig-ht0tgyCO"
      }
    },
    {
      "cell_type": "markdown",
      "source": [
        "If you are familira with BeautifulSoup and the content of this article, you shouldn't have any trouble understanding how to access a company's EDGAR reports and parse them in Python. To demonstrate this, the code in *Listing 1* searches EDGAR for the 2014 annual report (10-K) from IBM (CIK: 0000051143) and then parses the XBRL to determine the stockholder's equity (`us-gaap:stockholdersequity`),   \n"
      ],
      "metadata": {
        "id": "9tiXtK2Gg0Dr"
      }
    },
    {
      "cell_type": "markdown",
      "source": [
        "###**THE FOLLOWING CODE NEEDS TO BE UPDATED**"
      ],
      "metadata": {
        "id": "kDUiAsLjhoMC"
      }
    },
    {
      "cell_type": "markdown",
      "source": [
        "**Listing 1: Reading Stockholder's Equity from IBM's Annual Report (xbrl_reader.py)**"
      ],
      "metadata": {
        "id": "R6HmcvV4hjvD"
      }
    },
    {
      "cell_type": "code",
      "source": [
        "from bs4 import BeautifulSoup\n",
        "import requests\n",
        "import sys\n",
        "\n",
        "# Access page\n",
        "cik = '0000051143'\n",
        "type = '10-K'\n",
        "dateb = '20160101'\n",
        "\n",
        "# Obtain HTML for search page\n",
        "base_url = \"https://www.sec.gov/cgi-bin/browse-edgar?action=getcompany&CIK={}&type={}&dateb={}\"\n",
        "edgar_resp = requests.get(base_url.format(cik, type, dateb))\n",
        "edgar_str = edgar_resp.text\n",
        "\n",
        "# Find the document link\n",
        "doc_link = ''\n",
        "soup = BeautifulSoup(edgar_str, 'html.parser')\n",
        "table_tag = soup.find('table', class_='tableFile2')\n",
        "rows = table_tag.find_all('tr')\n",
        "for row in rows:\n",
        "    cells = row.find_all('td')\n",
        "    if len(cells) > 3:\n",
        "        if '2015' in cells[3].text:\n",
        "            doc_link = 'https://www.sec.gov' + cells[1].a['href']\n",
        "\n",
        "# Exit if document link couldn't be found\n",
        "if doc_link == '':\n",
        "    print(\"Couldn't find the document link\")\n",
        "    # sys.exit() # not worth trying to exit() in Colab!\n",
        "\n",
        "# Obtain HTML for document page\n",
        "doc_resp = requests.get(doc_link)\n",
        "doc_str = doc_resp.text\n",
        "\n",
        "# Find the XBRL link\n",
        "xbrl_link = ''\n",
        "soup = BeautifulSoup(doc_str, 'html.parser')\n",
        "table_tag = soup.find('table', class_='tableFile', summary='Data Files')\n",
        "rows = table_tag.find_all('tr')\n",
        "for row in rows:\n",
        "    cells = row.find_all('td')\n",
        "    if len(cells) > 3:\n",
        "        if 'INS' in cells[3].text:\n",
        "            xbrl_link = 'https://www.sec.gov' + cells[2].a['href']\n",
        "\n",
        "# Obtain XBRL text from document\n",
        "xbrl_resp = requests.get(xbrl_link)\n",
        "xbrl_str = xbrl_resp.text\n",
        "\n",
        "# Find and print stockholder's equity\n",
        "soup = BeautifulSoup(xbrl_str, 'lxml')\n",
        "tag_list = soup.find_all()\n",
        "for tag in tag_list:\n",
        "    if tag.name == 'us-gaap:stockholdersequity':\n",
        "        print(\"Stockholder's equity: \" + tag.text)"
      ],
      "metadata": {
        "id": "3VqOEZfUhHef"
      },
      "execution_count": null,
      "outputs": []
    },
    {
      "cell_type": "markdown",
      "source": [
        "\n",
        "\n",
        "---\n",
        "\n"
      ],
      "metadata": {
        "id": "MbaEFKEphuuw"
      }
    },
    {
      "cell_type": "markdown",
      "source": [
        "##3.b `python-xbrl` Simple XBRL Parsing Example     \n",
        "\n",
        "See the [`python-xbrl` documentation](https://pypi.org/project/python-xbrl/) for more information.    \n",
        "\n",
        "*note that [there are some dangling segments of code in the `python-xbrl` library](https://stackoverflow.com/questions/33963598/parsing-xbrl-using-python) which does does not appear to have been actively maintained over the years*"
      ],
      "metadata": {
        "id": "LrHK7UDpiint"
      }
    },
    {
      "cell_type": "markdown",
      "source": [
        "*note: this section uses the following example `XBRL .xml` files:* \n",
        "\n",
        "* sam-20131228.xml    \n",
        "* sam-20140927.xml    \n",
        "\n",
        "*each file may be accessed from Professor Patrick's Github using the following statements, respectively:*    \n",
        "\n",
        "\n",
        "```\n",
        "!curl https://raw.githubusercontent.com/ProfessorPatrickSlatraigh/data/main/sam-20131228.xml -o \"sam-20131228.xml\"\n",
        "\n",
        "!curl https://raw.githubusercontent.com/ProfessorPatrickSlatraigh/data/main/sam-20140927.xml -o \"sam-20140927.xml\"\n",
        "```\n",
        "\n"
      ],
      "metadata": {
        "id": "4plx_8f-pHyC"
      }
    },
    {
      "cell_type": "code",
      "source": [
        "#Housekeeping to load example files to current working directory    \n",
        "!curl https://raw.githubusercontent.com/ProfessorPatrickSlatraigh/data/main/sam-20131228.xml -o \"sam-20131228.xml\"\n",
        "\n",
        "!curl https://raw.githubusercontent.com/ProfessorPatrickSlatraigh/data/main/sam-20140927.xml -o \"sam-20140927.xml\""
      ],
      "metadata": {
        "id": "wno5fBmGr9H-"
      },
      "execution_count": null,
      "outputs": []
    },
    {
      "cell_type": "code",
      "source": [
        "# Housekeeping to install python-xbrl \n",
        "!pip install python-xbrl    \n",
        "\n",
        "# Housekeeping to import required modules \n",
        "from xbrl import XBRLParser, GAAP, GAAPSerializer, DEISerializer\n",
        "\n",
        "# Housekeeping to import prettyprint (pprint)\n",
        "import pprint\n"
      ],
      "metadata": {
        "colab": {
          "base_uri": "https://localhost:8080/"
        },
        "id": "wmcgQmJ8irYY",
        "outputId": "4a34d80a-ea27-4db4-d371-adefd852ac49"
      },
      "execution_count": 27,
      "outputs": [
        {
          "output_type": "stream",
          "name": "stdout",
          "text": [
            "Requirement already satisfied: python-xbrl in /usr/local/lib/python3.7/dist-packages (1.1.1)\n",
            "Requirement already satisfied: beautifulsoup4 in /usr/local/lib/python3.7/dist-packages (from python-xbrl) (4.6.3)\n",
            "Requirement already satisfied: pep8 in /usr/local/lib/python3.7/dist-packages (from python-xbrl) (1.7.1)\n",
            "Requirement already satisfied: six in /usr/local/lib/python3.7/dist-packages (from python-xbrl) (1.15.0)\n",
            "Requirement already satisfied: ordereddict in /usr/local/lib/python3.7/dist-packages (from python-xbrl) (1.1)\n",
            "Requirement already satisfied: lxml in /usr/local/lib/python3.7/dist-packages (from python-xbrl) (4.8.0)\n",
            "Requirement already satisfied: marshmallow in /usr/local/lib/python3.7/dist-packages (from python-xbrl) (3.15.0)\n",
            "Requirement already satisfied: pytest in /usr/local/lib/python3.7/dist-packages (from python-xbrl) (3.6.4)\n",
            "Requirement already satisfied: packaging in /usr/local/lib/python3.7/dist-packages (from marshmallow->python-xbrl) (21.3)\n",
            "Requirement already satisfied: pyparsing!=3.0.5,>=2.0.2 in /usr/local/lib/python3.7/dist-packages (from packaging->marshmallow->python-xbrl) (3.0.8)\n",
            "Requirement already satisfied: setuptools in /usr/local/lib/python3.7/dist-packages (from pytest->python-xbrl) (57.4.0)\n",
            "Requirement already satisfied: py>=1.5.0 in /usr/local/lib/python3.7/dist-packages (from pytest->python-xbrl) (1.11.0)\n",
            "Requirement already satisfied: more-itertools>=4.0.0 in /usr/local/lib/python3.7/dist-packages (from pytest->python-xbrl) (8.12.0)\n",
            "Requirement already satisfied: attrs>=17.4.0 in /usr/local/lib/python3.7/dist-packages (from pytest->python-xbrl) (21.4.0)\n",
            "Requirement already satisfied: pluggy<0.8,>=0.5 in /usr/local/lib/python3.7/dist-packages (from pytest->python-xbrl) (0.7.1)\n",
            "Requirement already satisfied: atomicwrites>=1.0 in /usr/local/lib/python3.7/dist-packages (from pytest->python-xbrl) (1.4.0)\n"
          ]
        }
      ]
    },
    {
      "cell_type": "markdown",
      "source": [
        "###Simple XBRL Parsing Workflow    \n",
        "\n",
        "First parse the incoming `XRBL` file into a new `XBRL` basic object    \n",
        "\n"
      ],
      "metadata": {
        "id": "sc6Wd_STm3-r"
      }
    },
    {
      "cell_type": "code",
      "source": [
        "xbrl_parser = XBRLParser()\n",
        "xbrl = xbrl_parser.parse(\"sam-20131228.xml\")\n"
      ],
      "metadata": {
        "id": "HM_Z7zJMnAUT"
      },
      "execution_count": 18,
      "outputs": []
    },
    {
      "cell_type": "markdown",
      "source": [
        "Then you can parse the document using different parsers\n"
      ],
      "metadata": {
        "id": "Rc1ESgj4n-gF"
      }
    },
    {
      "cell_type": "code",
      "source": [
        "gaap_obj = xbrl_parser.parseGAAP(xbrl, doc_date=\"20131228\", context=\"current\", ignore_errors=0)\n"
      ],
      "metadata": {
        "id": "EArkZhM-oAZ-"
      },
      "execution_count": 19,
      "outputs": []
    },
    {
      "cell_type": "markdown",
      "source": [
        "Now we have a GAAP model object that has the GAAP parsed elements from the document.    \n",
        "\n",
        "This model object supports the several different features including:    \n",
        "\n",
        "* **context current year**, and **instance contexts** are supported. If available you can also get **previous quarter** information by number of days from doc date. Example: 90, 180, etc.    \n",
        "* **Error handling**  \n",
        "    0. raise exception for all parsing errors and halt parsing\n",
        "    1. Supress all parsing errors and continue parsing\n",
        "    2. Log all parsing errors and continue parsing    \n",
        "\n",
        "You can serialize the GAAP model object into a serialized object acceptable for rending into a standard format such as JSON or HTTP API. \n",
        "   "
      ],
      "metadata": {
        "id": "FgCcTZhkoIqK"
      }
    },
    {
      "cell_type": "code",
      "source": [
        "serializer = GAAPSerializer()\n",
        "result = serializer.dump(gaap_obj)"
      ],
      "metadata": {
        "id": "os1DMeaGopPr"
      },
      "execution_count": 20,
      "outputs": []
    },
    {
      "cell_type": "markdown",
      "source": [
        "You can also just view the data in the serialized object"
      ],
      "metadata": {
        "id": "SZyiVouhouqu"
      }
    },
    {
      "cell_type": "code",
      "source": [
        "print(result)    \n"
      ],
      "metadata": {
        "colab": {
          "base_uri": "https://localhost:8080/"
        },
        "id": "2nlGMuboovdu",
        "outputId": "e2ed158c-a6a5-47f1-8ad8-f3804fb934a2"
      },
      "execution_count": 22,
      "outputs": [
        {
          "output_type": "stream",
          "name": "stdout",
          "text": [
            "{'income_loss': 29120.0, 'equity_attributable_interest': 0.0, 'net_cash_flows_financing_continuing': 0.0, 'net_cash_flows_investing': 0.0, 'extraordary_items_gain_loss': 0.0, 'comprehensive_income': 0.0, 'nonoperating_income_loss': 0.0, 'net_income_loss_noncontrolling': 0.0, 'other_comprehensive_income': 0.0, 'redeemable_noncontrolling_interest': 0.0, 'common_shares_outstanding': 0.0, 'current_liabilities': 0.0, 'current_assets': 0.0, 'non_current_assets': 9556.0, 'net_cash_flows_operating_discontinued': 0.0, 'net_cash_flows_investing_discontinued': 0.0, 'interest_and_debt_expense': 0.0, 'commitments_and_contingencies': 0.0, 'gross_profit': 104628.0, 'costs_and_expenses': 0.0, 'income_before_equity_investments': 0.0, 'net_cash_flows_investing_continuing': 0.0, 'net_cash_flows_operating_continuing': 0.0, 'other_operating_income': 0.0, 'operating_expenses': 0.0, 'equity_attributable_parent': 0.0, 'cost_of_revenue': 0.0, 'noncurrent_liabilities': 0.0, 'net_cash_flows_discontinued': 0.0, 'temporary_equity': 0.0, 'income_tax_expense_benefit': 0.0, 'common_shares_issued': 0.0, 'equity': 0.0, 'operating_income_loss': 0.0, 'common_shares_authorized': 0.0, 'net_income_loss': 18079.0, 'comprehensive_income_parent': 0.0, 'assets': 1050.0, 'preferred_stock_dividends': 0.0, 'liabilities_and_equity': 69900.0, 'income_from_equity_investments': 0.0, 'net_cash_flows_operating': 0.0, 'net_cash_flows_financing': 0.0, 'net_income_parent': 0.0, 'comprehensive_income_interest': 0.0, 'revenue': 0.0, 'stockholders_equity': 302085.0, 'net_income_shareholders': 0.0, 'liabilities': 104377.0}\n"
          ]
        }
      ]
    },
    {
      "cell_type": "code",
      "source": [
        "# import pprint    \n",
        "\n",
        "pprint.pprint(result)"
      ],
      "metadata": {
        "colab": {
          "base_uri": "https://localhost:8080/"
        },
        "id": "lsg1lWrgsVkf",
        "outputId": "b7798f85-7559-4db0-9889-cf5a4840edfa"
      },
      "execution_count": 25,
      "outputs": [
        {
          "output_type": "stream",
          "name": "stdout",
          "text": [
            "{'assets': 1050.0,\n",
            " 'commitments_and_contingencies': 0.0,\n",
            " 'common_shares_authorized': 0.0,\n",
            " 'common_shares_issued': 0.0,\n",
            " 'common_shares_outstanding': 0.0,\n",
            " 'comprehensive_income': 0.0,\n",
            " 'comprehensive_income_interest': 0.0,\n",
            " 'comprehensive_income_parent': 0.0,\n",
            " 'cost_of_revenue': 0.0,\n",
            " 'costs_and_expenses': 0.0,\n",
            " 'current_assets': 0.0,\n",
            " 'current_liabilities': 0.0,\n",
            " 'equity': 0.0,\n",
            " 'equity_attributable_interest': 0.0,\n",
            " 'equity_attributable_parent': 0.0,\n",
            " 'extraordary_items_gain_loss': 0.0,\n",
            " 'gross_profit': 104628.0,\n",
            " 'income_before_equity_investments': 0.0,\n",
            " 'income_from_equity_investments': 0.0,\n",
            " 'income_loss': 29120.0,\n",
            " 'income_tax_expense_benefit': 0.0,\n",
            " 'interest_and_debt_expense': 0.0,\n",
            " 'liabilities': 104377.0,\n",
            " 'liabilities_and_equity': 69900.0,\n",
            " 'net_cash_flows_discontinued': 0.0,\n",
            " 'net_cash_flows_financing': 0.0,\n",
            " 'net_cash_flows_financing_continuing': 0.0,\n",
            " 'net_cash_flows_investing': 0.0,\n",
            " 'net_cash_flows_investing_continuing': 0.0,\n",
            " 'net_cash_flows_investing_discontinued': 0.0,\n",
            " 'net_cash_flows_operating': 0.0,\n",
            " 'net_cash_flows_operating_continuing': 0.0,\n",
            " 'net_cash_flows_operating_discontinued': 0.0,\n",
            " 'net_income_loss': 18079.0,\n",
            " 'net_income_loss_noncontrolling': 0.0,\n",
            " 'net_income_parent': 0.0,\n",
            " 'net_income_shareholders': 0.0,\n",
            " 'non_current_assets': 9556.0,\n",
            " 'noncurrent_liabilities': 0.0,\n",
            " 'nonoperating_income_loss': 0.0,\n",
            " 'operating_expenses': 0.0,\n",
            " 'operating_income_loss': 0.0,\n",
            " 'other_comprehensive_income': 0.0,\n",
            " 'other_operating_income': 0.0,\n",
            " 'preferred_stock_dividends': 0.0,\n",
            " 'redeemable_noncontrolling_interest': 0.0,\n",
            " 'revenue': 0.0,\n",
            " 'stockholders_equity': 302085.0,\n",
            " 'temporary_equity': 0.0}\n"
          ]
        }
      ]
    },
    {
      "cell_type": "markdown",
      "source": [
        "You can apply various parsers to the base `XBRLParser` object to get different data than just `GAAP` data from the document. In addition as expected you can also create different serialized objects on the resulting parsed data object."
      ],
      "metadata": {
        "id": "GmIgHqOio96a"
      }
    },
    {
      "cell_type": "markdown",
      "source": [
        "###Extracting DEI Data    \n"
      ],
      "metadata": {
        "id": "nETZOinstGDq"
      }
    },
    {
      "cell_type": "code",
      "source": [
        "dei_obj = xbrl_parser.parseDEI(xbrl)\n",
        "serializer = DEISerializer()\n",
        "result = serializer.dump(dei_obj)\n",
        "pprint.pprint(result)"
      ],
      "metadata": {
        "colab": {
          "base_uri": "https://localhost:8080/"
        },
        "id": "ftUVldwepBiC",
        "outputId": "1f9ae627-cf0d-4def-c79b-90491fdaafa8"
      },
      "execution_count": 29,
      "outputs": [
        {
          "output_type": "stream",
          "name": "stdout",
          "text": [
            "{'company_name': 'BOSTON BEER CO INC',\n",
            " 'public_float': 1465900000.0,\n",
            " 'shares_outstanding': 3827355.0,\n",
            " 'trading_symbol': 'SAM'}\n"
          ]
        }
      ]
    },
    {
      "cell_type": "markdown",
      "source": [
        "###Extracting Custom Data    \n"
      ],
      "metadata": {
        "id": "bhE3mAJvtp8S"
      }
    },
    {
      "cell_type": "code",
      "source": [
        "custom_obj = xbrl_parser.parseCustom(xbrl)\n",
        "pprint.pprint(custom_obj())"
      ],
      "metadata": {
        "colab": {
          "base_uri": "https://localhost:8080/"
        },
        "id": "neSAr_Gztr0R",
        "outputId": "b4d23ebd-61f6-41bd-8093-950614fc2aec"
      },
      "execution_count": 33,
      "outputs": [
        {
          "output_type": "stream",
          "name": "stdout",
          "text": [
            "dict_items([('stockrepurchaseprogramcumulativenumberofsharesrepurchased', '10696731'), ('stockrepurchaseprogramcumulativesharesrepurchasedvalue', '269943000'), ('sharebasedcompensationarrangementbysharebasedpaymentawardexpectedfuturecompensationyearone', '4388000'), ('sharebasedcompensationarrangementbysharebasedpaymentawardexpectedfuturecompensationyearfour', '1215000'), ('recordedunconditionalpurchaseobligationdueinsecondandthirdyear', '22323000'), ('sharebasedcompensationarrangementbysharebasedpaymentawardexpectedfuturecompensationyearthree', '2052000'), ('recordedunconditionalpurchaseobligationdueinfourthandfifthyear', '5188000'), ('sharebasedcompensationarrangementbysharebasedpaymentawardexpectedfuturecompensationthereafter', '830000'), ('internationalsalespercentageoftotalsales', '0.04'), ('definedbenefitplanbasisusedtodetermineoverallexpectedlongtermrateofreturnsonassetsassumption', '0.07'), ('accrueddepositscurrent', '15805000'), ('sharebasedcompensationarrangementbysharebasedpaymentawardexpectedfuturecompensationyeartwo', '3481000'), ('convertiblesharesexchangeratio', '1'), ('sharebasedcompensationarrangementbysharebasedpaymentawardexpectedfuturecompensationyearfive', '609000'), ('othercommitmentsrelatedtobreweryacquisition', '500000'), ('accruedsalesandmarketingcurrent', '8158000'), ('accruedexpensesandothercurrentliabilities', '60529000'), ('numberofdefinedbenefitpensionplans', '1'), ('sharebasedcompensationarrangementbysharebasedpaymentawardoptionsannualvestingpercentage', '0.20'), ('receiptofgovernmentgrantsforfacilitiesexpansion', '770000'), ('stockrepurchaseprogramadditionalauthorizedamount', '25000000'), ('sharebasedcompensationarrangementbysharebasedpaymentawardweightedaveragefairvalue', '8.41'), ('sharebasedcompensationarrangementbysharebasedpaymentawardoptiongrantsinperiodweightedaverageexer', '172.10'), ('numberofsuppliers', '1'), ('sharebasedcompensationarrangementbysharebasedpaymentawardemployeeinvestmentsharespurchase', '12985'), ('leaseexpirationyear', '2023'), ('weightedaveragenumberofbasicsharesoutstandingequityinstrumentsotherthanoptionnonvested', '118000'), ('numberofcustomersaccountedformorethantenpercentofaccountsreceivable', '0'), ('sharebasedcompensationarrangementbysharebasedpaymentawardfairvalueassumptionsestimatedforfeiture', '0.064'), ('weightedaveragenumberofsharesoutstandingbasicincludingnonvestedparticipatingsecurities', '13012000'), ('sharebasedcompensationarrangementbysharebasedpaymentawardfairvalueassumptionsexercisefactor', '2.2'), ('deferredfederalstateandlocalincometaxexpensebenefit', '-213000'), ('provisionforreductionofdoubtfulaccounts', '55000'), ('netproceedsfromsaleofinvestmentshares', '691000'), ('numberofcustomersaccountedformorethantenpercentofrevenue', '0'), ('definedbenefitplanassumptionsusedcalculatingplanassetsexpectedlongtermreturnonassets', '0.06'), ('conversionofclassbcommonstocktoclassacommonstockvalue', '1000'), ('conversionofclassbcommonstocktoclassacommonstockshares', '145000'), ('incrementalcommonsharesattributabletoconversionofcommonstock', '4107000'), ('incomeallocatedtoequityinstrumentsotherthanoptionnonvested', '26000'), ('postretirementmedicalbenefitsqualifyingage', '65'), ('percentageofnetrevenue', '0.01'), ('sharebasedcompensationarrangementbysharebasedpaymentawardoptionscontractualterm', '10'), ('definedbenefitplancoveragepercentage', '1.00'), ('definedbenefitplanemployeecontributionage', '21'), ('definedbenefitcontributionplancontributionsbyemployer', '1000'), ('definedcontributionplanmatchingpercentofcompensation', '0.50'), ('minimumnumberofemployeeworkinghoursrequiredtobeeligibletoparticipateinfourzeroonekplan', '750'), ('percentageofproductsupplied', '0.25'), ('numberofbarrelssold', '733000')])\n"
          ]
        }
      ]
    },
    {
      "cell_type": "markdown",
      "source": [
        "\n",
        "\n",
        "---\n",
        "\n"
      ],
      "metadata": {
        "id": "1ZaQoPXHvyRi"
      }
    }
  ]
}