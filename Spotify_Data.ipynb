{
  "cells": [
    {
      "cell_type": "markdown",
      "metadata": {
        "id": "view-in-github",
        "colab_type": "text"
      },
      "source": [
        "<a href=\"https://colab.research.google.com/github/ProfessorPatrickSlatraigh/CST3512/blob/main/Spotify_Data.ipynb\" target=\"_parent\"><img src=\"https://colab.research.google.com/assets/colab-badge.svg\" alt=\"Open In Colab\"/></a>"
      ]
    },
    {
      "cell_type": "markdown",
      "metadata": {
        "id": "S-VTwP5mr-2F"
      },
      "source": [
        "#Housekeeping"
      ]
    },
    {
      "cell_type": "markdown",
      "source": [
        "First things first, I install the tools we will need in this notebook. I use Pandas, Numpy, Matplotlib, and Folium."
      ],
      "metadata": {
        "id": "LkV0dZQbOq9Y"
      }
    },
    {
      "cell_type": "code",
      "execution_count": null,
      "metadata": {
        "colab": {
          "base_uri": "https://localhost:8080/"
        },
        "id": "Kyc2nEI2lxur",
        "outputId": "6ea0c60a-78d0-411e-960c-ef95347f0e93"
      },
      "outputs": [
        {
          "output_type": "stream",
          "name": "stdout",
          "text": [
            "Looking in indexes: https://pypi.org/simple, https://us-python.pkg.dev/colab-wheels/public/simple/\n",
            "Requirement already satisfied: folium in /usr/local/lib/python3.10/dist-packages (0.14.0)\n",
            "Requirement already satisfied: pandas in /usr/local/lib/python3.10/dist-packages (1.5.3)\n",
            "Requirement already satisfied: branca>=0.6.0 in /usr/local/lib/python3.10/dist-packages (from folium) (0.6.0)\n",
            "Requirement already satisfied: jinja2>=2.9 in /usr/local/lib/python3.10/dist-packages (from folium) (3.1.2)\n",
            "Requirement already satisfied: numpy in /usr/local/lib/python3.10/dist-packages (from folium) (1.22.4)\n",
            "Requirement already satisfied: requests in /usr/local/lib/python3.10/dist-packages (from folium) (2.27.1)\n",
            "Requirement already satisfied: python-dateutil>=2.8.1 in /usr/local/lib/python3.10/dist-packages (from pandas) (2.8.2)\n",
            "Requirement already satisfied: pytz>=2020.1 in /usr/local/lib/python3.10/dist-packages (from pandas) (2022.7.1)\n",
            "Requirement already satisfied: MarkupSafe>=2.0 in /usr/local/lib/python3.10/dist-packages (from jinja2>=2.9->folium) (2.1.2)\n",
            "Requirement already satisfied: six>=1.5 in /usr/local/lib/python3.10/dist-packages (from python-dateutil>=2.8.1->pandas) (1.16.0)\n",
            "Requirement already satisfied: urllib3<1.27,>=1.21.1 in /usr/local/lib/python3.10/dist-packages (from requests->folium) (1.26.15)\n",
            "Requirement already satisfied: certifi>=2017.4.17 in /usr/local/lib/python3.10/dist-packages (from requests->folium) (2022.12.7)\n",
            "Requirement already satisfied: charset-normalizer~=2.0.0 in /usr/local/lib/python3.10/dist-packages (from requests->folium) (2.0.12)\n",
            "Requirement already satisfied: idna<4,>=2.5 in /usr/local/lib/python3.10/dist-packages (from requests->folium) (3.4)\n"
          ]
        }
      ],
      "source": [
        "import pandas as pd\n",
        "import numpy as np\n",
        "from matplotlib import pyplot as plt\n",
        "!pip install folium pandas\n",
        "import folium"
      ]
    },
    {
      "cell_type": "markdown",
      "source": [
        "Here I store the CSV I used in a Pandas dataframe called Spotify. I found this dataset on Kaggle at https://www.kaggle.com/datasets/dhruvildave/spotify-charts. It has data about the \"Top 200\" and \"Viral 50\" charts published globally by Spotify. I mainly use the Viral 50 chart."
      ],
      "metadata": {
        "id": "c2hMjb3_O2ED"
      }
    },
    {
      "cell_type": "code",
      "execution_count": null,
      "metadata": {
        "colab": {
          "base_uri": "https://localhost:8080/"
        },
        "id": "-FQILX47Lyl1",
        "outputId": "311077b1-e535-44f3-c3bd-ec336c21d489"
      },
      "outputs": [
        {
          "output_type": "execute_result",
          "data": {
            "text/plain": [
              "title       object\n",
              "rank         int64\n",
              "date        object\n",
              "artist      object\n",
              "url         object\n",
              "region      object\n",
              "chart       object\n",
              "trend       object\n",
              "streams    float64\n",
              "dtype: object"
            ]
          },
          "metadata": {},
          "execution_count": 2
        }
      ],
      "source": [
        "spotify = pd.read_csv(\"drive/MyDrive/charts.csv\")\n",
        "spotify.dtypes"
      ]
    },
    {
      "cell_type": "markdown",
      "source": [
        "I saw that the date column in the dataframe was read in as a string, and I wanted it in the datetime type so I fix that here."
      ],
      "metadata": {
        "id": "tGLDbpWbP8vm"
      }
    },
    {
      "cell_type": "code",
      "execution_count": null,
      "metadata": {
        "id": "2ZSWsYYyGczU"
      },
      "outputs": [],
      "source": [
        "date = pd.to_datetime(spotify['date'])\n",
        "spotify['date'] = date"
      ]
    },
    {
      "cell_type": "code",
      "execution_count": null,
      "metadata": {
        "colab": {
          "base_uri": "https://localhost:8080/"
        },
        "id": "8P6wMQb9Gy6u",
        "outputId": "d1b74a69-d95f-49da-ac43-c97cbe980eda"
      },
      "outputs": [
        {
          "output_type": "execute_result",
          "data": {
            "text/plain": [
              "title              object\n",
              "rank                int64\n",
              "date       datetime64[ns]\n",
              "artist             object\n",
              "url                object\n",
              "region             object\n",
              "chart              object\n",
              "trend              object\n",
              "streams           float64\n",
              "dtype: object"
            ]
          },
          "metadata": {},
          "execution_count": 4
        }
      ],
      "source": [
        "spotify.dtypes"
      ]
    },
    {
      "cell_type": "markdown",
      "source": [
        "Here I condensed the datafram to only contain data from the Viral50 chart."
      ],
      "metadata": {
        "id": "9ry78KT2SKG1"
      }
    },
    {
      "cell_type": "code",
      "source": [
        "viral50 = spotify[spotify['chart'].str.contains('viral50') == True]\n",
        "viral50"
      ],
      "metadata": {
        "colab": {
          "base_uri": "https://localhost:8080/",
          "height": 424
        },
        "id": "fjKciZBmRl1j",
        "outputId": "383ada4f-db52-44ce-cbe4-bb0f7d2a1d3c"
      },
      "execution_count": null,
      "outputs": [
        {
          "output_type": "execute_result",
          "data": {
            "text/plain": [
              "                                  title  rank       date  \\\n",
              "12808                              Boys    13 2017-08-01   \n",
              "12965                           Hold Me    19 2017-08-01   \n",
              "13781                         Hola Hola    40 2017-08-01   \n",
              "14042                           Cuídate     4 2017-08-01   \n",
              "14092                              Boys    13 2017-08-01   \n",
              "...                                 ...   ...        ...   \n",
              "26173509                            BYE    46 2021-07-31   \n",
              "26173510                        Pillars    47 2021-07-31   \n",
              "26173511                   Gái Độc Thân    48 2021-07-31   \n",
              "26173512  Renegade (feat. Taylor Swift)    49 2021-07-31   \n",
              "26173513                Letter to Jarad    50 2021-07-31   \n",
              "\n",
              "                             artist  \\\n",
              "12808                    Charli XCX   \n",
              "12965                         R3HAB   \n",
              "13781                          KARD   \n",
              "14042                       Zetazen   \n",
              "14092                    Charli XCX   \n",
              "...                             ...   \n",
              "26173509                      Jaden   \n",
              "26173510                     My Anh   \n",
              "26173511                      Tlinh   \n",
              "26173512            Big Red Machine   \n",
              "26173513  LRN Slime, Shiloh Dynasty   \n",
              "\n",
              "                                                        url      region  \\\n",
              "12808     https://open.spotify.com/track/5o4yGlG0PfeVUa6...      Latvia   \n",
              "12965     https://open.spotify.com/track/2a9xGmpgNyNz9QV...  Luxembourg   \n",
              "13781     https://open.spotify.com/track/3VC1IEz9M1txlMS...        Peru   \n",
              "14042     https://open.spotify.com/track/0WgnbqlHieZmdYa...       Spain   \n",
              "14092     https://open.spotify.com/track/5o4yGlG0PfeVUa6...      Taiwan   \n",
              "...                                                     ...         ...   \n",
              "26173509  https://open.spotify.com/track/3OUyyDN7EZrL7i0...     Vietnam   \n",
              "26173510  https://open.spotify.com/track/6eky30oFiQbHUAT...     Vietnam   \n",
              "26173511  https://open.spotify.com/track/2klsSb2iTfgDh95...     Vietnam   \n",
              "26173512  https://open.spotify.com/track/1aU1wpYBSpP0M6I...     Vietnam   \n",
              "26173513  https://open.spotify.com/track/508QhA2SncMbh5C...     Vietnam   \n",
              "\n",
              "            chart          trend  streams  \n",
              "12808     viral50        MOVE_UP      NaN  \n",
              "12965     viral50      MOVE_DOWN      NaN  \n",
              "13781     viral50      NEW_ENTRY      NaN  \n",
              "14042     viral50  SAME_POSITION      NaN  \n",
              "14092     viral50      MOVE_DOWN      NaN  \n",
              "...           ...            ...      ...  \n",
              "26173509  viral50        MOVE_UP      NaN  \n",
              "26173510  viral50      NEW_ENTRY      NaN  \n",
              "26173511  viral50      MOVE_DOWN      NaN  \n",
              "26173512  viral50      MOVE_DOWN      NaN  \n",
              "26173513  viral50      MOVE_DOWN      NaN  \n",
              "\n",
              "[5851610 rows x 9 columns]"
            ],
            "text/html": [
              "\n",
              "  <div id=\"df-364a9f0f-b190-4163-ad62-c272bd7bc02d\">\n",
              "    <div class=\"colab-df-container\">\n",
              "      <div>\n",
              "<style scoped>\n",
              "    .dataframe tbody tr th:only-of-type {\n",
              "        vertical-align: middle;\n",
              "    }\n",
              "\n",
              "    .dataframe tbody tr th {\n",
              "        vertical-align: top;\n",
              "    }\n",
              "\n",
              "    .dataframe thead th {\n",
              "        text-align: right;\n",
              "    }\n",
              "</style>\n",
              "<table border=\"1\" class=\"dataframe\">\n",
              "  <thead>\n",
              "    <tr style=\"text-align: right;\">\n",
              "      <th></th>\n",
              "      <th>title</th>\n",
              "      <th>rank</th>\n",
              "      <th>date</th>\n",
              "      <th>artist</th>\n",
              "      <th>url</th>\n",
              "      <th>region</th>\n",
              "      <th>chart</th>\n",
              "      <th>trend</th>\n",
              "      <th>streams</th>\n",
              "    </tr>\n",
              "  </thead>\n",
              "  <tbody>\n",
              "    <tr>\n",
              "      <th>12808</th>\n",
              "      <td>Boys</td>\n",
              "      <td>13</td>\n",
              "      <td>2017-08-01</td>\n",
              "      <td>Charli XCX</td>\n",
              "      <td>https://open.spotify.com/track/5o4yGlG0PfeVUa6...</td>\n",
              "      <td>Latvia</td>\n",
              "      <td>viral50</td>\n",
              "      <td>MOVE_UP</td>\n",
              "      <td>NaN</td>\n",
              "    </tr>\n",
              "    <tr>\n",
              "      <th>12965</th>\n",
              "      <td>Hold Me</td>\n",
              "      <td>19</td>\n",
              "      <td>2017-08-01</td>\n",
              "      <td>R3HAB</td>\n",
              "      <td>https://open.spotify.com/track/2a9xGmpgNyNz9QV...</td>\n",
              "      <td>Luxembourg</td>\n",
              "      <td>viral50</td>\n",
              "      <td>MOVE_DOWN</td>\n",
              "      <td>NaN</td>\n",
              "    </tr>\n",
              "    <tr>\n",
              "      <th>13781</th>\n",
              "      <td>Hola Hola</td>\n",
              "      <td>40</td>\n",
              "      <td>2017-08-01</td>\n",
              "      <td>KARD</td>\n",
              "      <td>https://open.spotify.com/track/3VC1IEz9M1txlMS...</td>\n",
              "      <td>Peru</td>\n",
              "      <td>viral50</td>\n",
              "      <td>NEW_ENTRY</td>\n",
              "      <td>NaN</td>\n",
              "    </tr>\n",
              "    <tr>\n",
              "      <th>14042</th>\n",
              "      <td>Cuídate</td>\n",
              "      <td>4</td>\n",
              "      <td>2017-08-01</td>\n",
              "      <td>Zetazen</td>\n",
              "      <td>https://open.spotify.com/track/0WgnbqlHieZmdYa...</td>\n",
              "      <td>Spain</td>\n",
              "      <td>viral50</td>\n",
              "      <td>SAME_POSITION</td>\n",
              "      <td>NaN</td>\n",
              "    </tr>\n",
              "    <tr>\n",
              "      <th>14092</th>\n",
              "      <td>Boys</td>\n",
              "      <td>13</td>\n",
              "      <td>2017-08-01</td>\n",
              "      <td>Charli XCX</td>\n",
              "      <td>https://open.spotify.com/track/5o4yGlG0PfeVUa6...</td>\n",
              "      <td>Taiwan</td>\n",
              "      <td>viral50</td>\n",
              "      <td>MOVE_DOWN</td>\n",
              "      <td>NaN</td>\n",
              "    </tr>\n",
              "    <tr>\n",
              "      <th>...</th>\n",
              "      <td>...</td>\n",
              "      <td>...</td>\n",
              "      <td>...</td>\n",
              "      <td>...</td>\n",
              "      <td>...</td>\n",
              "      <td>...</td>\n",
              "      <td>...</td>\n",
              "      <td>...</td>\n",
              "      <td>...</td>\n",
              "    </tr>\n",
              "    <tr>\n",
              "      <th>26173509</th>\n",
              "      <td>BYE</td>\n",
              "      <td>46</td>\n",
              "      <td>2021-07-31</td>\n",
              "      <td>Jaden</td>\n",
              "      <td>https://open.spotify.com/track/3OUyyDN7EZrL7i0...</td>\n",
              "      <td>Vietnam</td>\n",
              "      <td>viral50</td>\n",
              "      <td>MOVE_UP</td>\n",
              "      <td>NaN</td>\n",
              "    </tr>\n",
              "    <tr>\n",
              "      <th>26173510</th>\n",
              "      <td>Pillars</td>\n",
              "      <td>47</td>\n",
              "      <td>2021-07-31</td>\n",
              "      <td>My Anh</td>\n",
              "      <td>https://open.spotify.com/track/6eky30oFiQbHUAT...</td>\n",
              "      <td>Vietnam</td>\n",
              "      <td>viral50</td>\n",
              "      <td>NEW_ENTRY</td>\n",
              "      <td>NaN</td>\n",
              "    </tr>\n",
              "    <tr>\n",
              "      <th>26173511</th>\n",
              "      <td>Gái Độc Thân</td>\n",
              "      <td>48</td>\n",
              "      <td>2021-07-31</td>\n",
              "      <td>Tlinh</td>\n",
              "      <td>https://open.spotify.com/track/2klsSb2iTfgDh95...</td>\n",
              "      <td>Vietnam</td>\n",
              "      <td>viral50</td>\n",
              "      <td>MOVE_DOWN</td>\n",
              "      <td>NaN</td>\n",
              "    </tr>\n",
              "    <tr>\n",
              "      <th>26173512</th>\n",
              "      <td>Renegade (feat. Taylor Swift)</td>\n",
              "      <td>49</td>\n",
              "      <td>2021-07-31</td>\n",
              "      <td>Big Red Machine</td>\n",
              "      <td>https://open.spotify.com/track/1aU1wpYBSpP0M6I...</td>\n",
              "      <td>Vietnam</td>\n",
              "      <td>viral50</td>\n",
              "      <td>MOVE_DOWN</td>\n",
              "      <td>NaN</td>\n",
              "    </tr>\n",
              "    <tr>\n",
              "      <th>26173513</th>\n",
              "      <td>Letter to Jarad</td>\n",
              "      <td>50</td>\n",
              "      <td>2021-07-31</td>\n",
              "      <td>LRN Slime, Shiloh Dynasty</td>\n",
              "      <td>https://open.spotify.com/track/508QhA2SncMbh5C...</td>\n",
              "      <td>Vietnam</td>\n",
              "      <td>viral50</td>\n",
              "      <td>MOVE_DOWN</td>\n",
              "      <td>NaN</td>\n",
              "    </tr>\n",
              "  </tbody>\n",
              "</table>\n",
              "<p>5851610 rows × 9 columns</p>\n",
              "</div>\n",
              "      <button class=\"colab-df-convert\" onclick=\"convertToInteractive('df-364a9f0f-b190-4163-ad62-c272bd7bc02d')\"\n",
              "              title=\"Convert this dataframe to an interactive table.\"\n",
              "              style=\"display:none;\">\n",
              "        \n",
              "  <svg xmlns=\"http://www.w3.org/2000/svg\" height=\"24px\"viewBox=\"0 0 24 24\"\n",
              "       width=\"24px\">\n",
              "    <path d=\"M0 0h24v24H0V0z\" fill=\"none\"/>\n",
              "    <path d=\"M18.56 5.44l.94 2.06.94-2.06 2.06-.94-2.06-.94-.94-2.06-.94 2.06-2.06.94zm-11 1L8.5 8.5l.94-2.06 2.06-.94-2.06-.94L8.5 2.5l-.94 2.06-2.06.94zm10 10l.94 2.06.94-2.06 2.06-.94-2.06-.94-.94-2.06-.94 2.06-2.06.94z\"/><path d=\"M17.41 7.96l-1.37-1.37c-.4-.4-.92-.59-1.43-.59-.52 0-1.04.2-1.43.59L10.3 9.45l-7.72 7.72c-.78.78-.78 2.05 0 2.83L4 21.41c.39.39.9.59 1.41.59.51 0 1.02-.2 1.41-.59l7.78-7.78 2.81-2.81c.8-.78.8-2.07 0-2.86zM5.41 20L4 18.59l7.72-7.72 1.47 1.35L5.41 20z\"/>\n",
              "  </svg>\n",
              "      </button>\n",
              "      \n",
              "  <style>\n",
              "    .colab-df-container {\n",
              "      display:flex;\n",
              "      flex-wrap:wrap;\n",
              "      gap: 12px;\n",
              "    }\n",
              "\n",
              "    .colab-df-convert {\n",
              "      background-color: #E8F0FE;\n",
              "      border: none;\n",
              "      border-radius: 50%;\n",
              "      cursor: pointer;\n",
              "      display: none;\n",
              "      fill: #1967D2;\n",
              "      height: 32px;\n",
              "      padding: 0 0 0 0;\n",
              "      width: 32px;\n",
              "    }\n",
              "\n",
              "    .colab-df-convert:hover {\n",
              "      background-color: #E2EBFA;\n",
              "      box-shadow: 0px 1px 2px rgba(60, 64, 67, 0.3), 0px 1px 3px 1px rgba(60, 64, 67, 0.15);\n",
              "      fill: #174EA6;\n",
              "    }\n",
              "\n",
              "    [theme=dark] .colab-df-convert {\n",
              "      background-color: #3B4455;\n",
              "      fill: #D2E3FC;\n",
              "    }\n",
              "\n",
              "    [theme=dark] .colab-df-convert:hover {\n",
              "      background-color: #434B5C;\n",
              "      box-shadow: 0px 1px 3px 1px rgba(0, 0, 0, 0.15);\n",
              "      filter: drop-shadow(0px 1px 2px rgba(0, 0, 0, 0.3));\n",
              "      fill: #FFFFFF;\n",
              "    }\n",
              "  </style>\n",
              "\n",
              "      <script>\n",
              "        const buttonEl =\n",
              "          document.querySelector('#df-364a9f0f-b190-4163-ad62-c272bd7bc02d button.colab-df-convert');\n",
              "        buttonEl.style.display =\n",
              "          google.colab.kernel.accessAllowed ? 'block' : 'none';\n",
              "\n",
              "        async function convertToInteractive(key) {\n",
              "          const element = document.querySelector('#df-364a9f0f-b190-4163-ad62-c272bd7bc02d');\n",
              "          const dataTable =\n",
              "            await google.colab.kernel.invokeFunction('convertToInteractive',\n",
              "                                                     [key], {});\n",
              "          if (!dataTable) return;\n",
              "\n",
              "          const docLinkHtml = 'Like what you see? Visit the ' +\n",
              "            '<a target=\"_blank\" href=https://colab.research.google.com/notebooks/data_table.ipynb>data table notebook</a>'\n",
              "            + ' to learn more about interactive tables.';\n",
              "          element.innerHTML = '';\n",
              "          dataTable['output_type'] = 'display_data';\n",
              "          await google.colab.output.renderOutput(dataTable, element);\n",
              "          const docLink = document.createElement('div');\n",
              "          docLink.innerHTML = docLinkHtml;\n",
              "          element.appendChild(docLink);\n",
              "        }\n",
              "      </script>\n",
              "    </div>\n",
              "  </div>\n",
              "  "
            ]
          },
          "metadata": {},
          "execution_count": 5
        }
      ]
    },
    {
      "cell_type": "markdown",
      "metadata": {
        "id": "JPK6em1trVjM"
      },
      "source": [
        "#Shape of You Timeseries"
      ]
    },
    {
      "cell_type": "markdown",
      "source": [
        "Here is a timeseries following the rank of the song Shape of You by Ed Sheeran on the Viral50 Chart. It was number 1 for a while and began to drop off, came back for a bit and then steadily fizzled out. 4 months on the chart is still very impressive though. I inverted the y axis so that the number 1 spot would be on top and number 50 on the bottom."
      ],
      "metadata": {
        "id": "YZVJPb7cQmai"
      }
    },
    {
      "cell_type": "code",
      "execution_count": null,
      "metadata": {
        "id": "6xwbLtQ_s89x",
        "colab": {
          "base_uri": "https://localhost:8080/",
          "height": 467
        },
        "outputId": "ce0e0eaa-3f77-4188-9a13-131c06216bc8"
      },
      "outputs": [
        {
          "output_type": "display_data",
          "data": {
            "text/plain": [
              "<Figure size 640x480 with 1 Axes>"
            ],
            "image/png": "[encoded data removed]"
          },
          "metadata": {}
        }
      ],
      "source": [
        "shapeofyou = viral50[viral50['title'].str.contains('Shape of You') == True]\n",
        "shapeofyou_global = shapeofyou[shapeofyou['region'].str.contains('Global') == True]\n",
        "shape = pd.DataFrame()\n",
        "shape['date'] = shapeofyou_global['date']\n",
        "shape['rank'] = shapeofyou_global['rank']\n",
        "shape.set_index(['date'], inplace = True)\n",
        "shape.plot().invert_yaxis()\n",
        "plt.title(\"Shape of You by Ed Sheeran Ranking\")\n",
        "plt.show()"
      ]
    },
    {
      "cell_type": "markdown",
      "metadata": {
        "id": "cx8yrEWyf38C"
      },
      "source": [
        "#Harry Styles Boxplots"
      ]
    },
    {
      "cell_type": "markdown",
      "source": [
        "Here I sorted the Viral50 chart to only contain entries from Harry Styles and be from the Global region."
      ],
      "metadata": {
        "id": "JsxUIUnbRawk"
      }
    },
    {
      "cell_type": "code",
      "execution_count": null,
      "metadata": {
        "id": "xMu8Hq6RK5Fb"
      },
      "outputs": [],
      "source": [
        "harry = viral50[viral50['artist'].str.contains('Harry Styles') == True]\n",
        "harry_global = harry[harry['region'].str.contains('Global') == True]"
      ]
    },
    {
      "cell_type": "markdown",
      "source": [
        "Here I deleted the streams column because it was messing up the boxplots below and was not relevant to them anyways. I also replaced the name of a song with a shortened version of it for simplicity."
      ],
      "metadata": {
        "id": "0-LpbyWeSqV4"
      }
    },
    {
      "cell_type": "code",
      "execution_count": null,
      "metadata": {
        "id": "hKkgNfYajykj",
        "colab": {
          "base_uri": "https://localhost:8080/"
        },
        "outputId": "8b109427-14c7-4f9d-e8e2-77eb48224e69"
      },
      "outputs": [
        {
          "output_type": "stream",
          "name": "stderr",
          "text": [
            "<ipython-input-8-3fb0ab60d598>:2: SettingWithCopyWarning: \n",
            "A value is trying to be set on a copy of a slice from a DataFrame\n",
            "\n",
            "See the caveats in the documentation: https://pandas.pydata.org/pandas-docs/stable/user_guide/indexing.html#returning-a-view-versus-a-copy\n",
            "  harry_global.replace('Girl Crush - Recorded at Metropolis Studios, London', 'Girl Crush', inplace = True)\n"
          ]
        }
      ],
      "source": [
        "del harry_global['streams']\n",
        "harry_global.replace('Girl Crush - Recorded at Metropolis Studios, London', 'Girl Crush', inplace = True)"
      ]
    },
    {
      "cell_type": "markdown",
      "source": [
        "Heres mutiple boxplots of all the Harry Styles songs on the Viral50 Global Chart. We can see some interesting things from these graphs, such as the fact that Girl Crush had the highest average rank, but Sign of the Times was the farthest up on the graph. There are not many outliers, only one on the Sweet Creature plot. I assume this is when it was on its way off the chart."
      ],
      "metadata": {
        "id": "lHt2D8TYS-Sf"
      }
    },
    {
      "cell_type": "code",
      "execution_count": null,
      "metadata": {
        "id": "5TByXmrXgRop",
        "colab": {
          "base_uri": "https://localhost:8080/",
          "height": 623
        },
        "outputId": "e6e51574-6aa0-419b-89c1-f564680f47e2"
      },
      "outputs": [
        {
          "output_type": "display_data",
          "data": {
            "text/plain": [
              "<Figure size 1600x500 with 1 Axes>"
            ],
            "image/png": "[encoded data removed]"
          },
          "metadata": {}
        }
      ],
      "source": [
        "grouped = harry_global.groupby(by='title')\n",
        "\n",
        "grouped.boxplot(rot=60, fontsize=10, figsize=(16,5), subplots = False).invert_yaxis()"
      ]
    },
    {
      "cell_type": "markdown",
      "metadata": {
        "id": "9-wHO2JRZYPW"
      },
      "source": [
        "#Number 1 Hit Mapping\n",
        "\n"
      ]
    },
    {
      "cell_type": "markdown",
      "source": [
        "Here I condensed the viral50 chart data to only contain entries where SLOW DANCING IN THE DARK by Joji was at the #1 spot on the charts. Then I found the unique regions in which it was #1."
      ],
      "metadata": {
        "id": "fZP2NJz7TmL1"
      }
    },
    {
      "cell_type": "code",
      "execution_count": null,
      "metadata": {
        "id": "Che4Pn5LZeI4"
      },
      "outputs": [],
      "source": [
        "joji = viral50[viral50['artist'].str.contains('Joji') == True]\n",
        "joji1 = joji[joji['rank'] == 1]\n",
        "slowdancing = joji1[joji1['title'].str.contains('SLOW DANCING IN THE DARK') == True]\n",
        "slowdancing_uni = slowdancing['region'].unique()"
      ]
    },
    {
      "cell_type": "code",
      "execution_count": null,
      "metadata": {
        "colab": {
          "base_uri": "https://localhost:8080/"
        },
        "id": "q8V7G8I7XFKr",
        "outputId": "ef74c6d5-6d11-43e6-8aa7-f6aa01f6a9d8"
      },
      "outputs": [
        {
          "output_type": "execute_result",
          "data": {
            "text/plain": [
              "array(['Estonia', 'Lithuania', 'Hong Kong', 'Greece'], dtype=object)"
            ]
          },
          "metadata": {},
          "execution_count": 11
        }
      ],
      "source": [
        "slowdancing_uni"
      ]
    },
    {
      "cell_type": "markdown",
      "source": [
        "I did the same thing as above with Paramore's Hard Times."
      ],
      "metadata": {
        "id": "6q71aFByXnTq"
      }
    },
    {
      "cell_type": "code",
      "source": [
        "paramore = viral50[viral50['artist'].str.contains('Paramore') == True]\n",
        "paramore1 = paramore[paramore['rank'] == 1]\n",
        "hardtimes = paramore1[paramore1['title'].str.contains('Hard Times') == True]\n",
        "hardtimes_uni = hardtimes['region'].unique()"
      ],
      "metadata": {
        "id": "9LrZPwjHUNtT"
      },
      "execution_count": null,
      "outputs": []
    },
    {
      "cell_type": "code",
      "source": [
        "hardtimes_uni"
      ],
      "metadata": {
        "colab": {
          "base_uri": "https://localhost:8080/"
        },
        "id": "qrKcdk1zUvF4",
        "outputId": "a4daf3a8-1e17-4c3a-832c-9e94e0be5077"
      },
      "execution_count": null,
      "outputs": [
        {
          "output_type": "execute_result",
          "data": {
            "text/plain": [
              "array(['Chile', 'El Salvador', 'Philippines', 'Indonesia'], dtype=object)"
            ]
          },
          "metadata": {},
          "execution_count": 13
        }
      ]
    },
    {
      "cell_type": "markdown",
      "source": [
        "After all this, I then put the information onto a map to visualize where these number 1 hits took place."
      ],
      "metadata": {
        "id": "5peEWtiLUCKP"
      }
    },
    {
      "cell_type": "code",
      "execution_count": null,
      "metadata": {
        "colab": {
          "base_uri": "https://localhost:8080/",
          "height": 873
        },
        "id": "f8xC8iHCYuBc",
        "outputId": "f644938c-2c76-4f5f-87be-8da7544cc7ca"
      },
      "outputs": [
        {
          "output_type": "execute_result",
          "data": {
            "text/plain": [
              "<folium.folium.Map at 0x7f5e5ce36980>"
            ],
            "text/html": [
              "<div style=\"width:100%;\"><div style=\"position:relative;width:100%;height:0;padding-bottom:60%;\"><span style=\"color:#565656\">Make this Notebook Trusted to load map: File -> Trust Notebook</span><iframe srcdoc=\"&lt;!DOCTYPE html&gt;\n",
              "&lt;html&gt;\n",
              "&lt;head&gt;\n",
              "    \n",
              "    &lt;meta http-equiv=&quot;content-type&quot; content=&quot;text/html; charset=UTF-8&quot; /&gt;\n",
              "    \n",
              "        &lt;script&gt;\n",
              "            L_NO_TOUCH = false;\n",
              "            L_DISABLE_3D = false;\n",
              "        &lt;/script&gt;\n",
              "    \n",
              "    &lt;style&gt;html, body {width: 100%;height: 100%;margin: 0;padding: 0;}&lt;/style&gt;\n",
              "    &lt;style&gt;#map {position:absolute;top:0;bottom:0;right:0;left:0;}&lt;/style&gt;\n",
              "    &lt;script src=&quot;https://cdn.jsdelivr.net/npm/leaflet@1.9.3/dist/leaflet.js&quot;&gt;&lt;/script&gt;\n",
              "    &lt;script src=&quot;https://code.jquery.com/jquery-1.12.4.min.js&quot;&gt;&lt;/script&gt;\n",
              "    &lt;script src=&quot;https://cdn.jsdelivr.net/npm/bootstrap@5.2.2/dist/js/bootstrap.bundle.min.js&quot;&gt;&lt;/script&gt;\n",
              "    &lt;script src=&quot;https://cdnjs.cloudflare.com/ajax/libs/Leaflet.awesome-markers/2.0.2/leaflet.awesome-markers.js&quot;&gt;&lt;/script&gt;\n",
              "    &lt;link rel=&quot;stylesheet&quot; href=&quot;https://cdn.jsdelivr.net/npm/leaflet@1.9.3/dist/leaflet.css&quot;/&gt;\n",
              "    &lt;link rel=&quot;stylesheet&quot; href=&quot;https://cdn.jsdelivr.net/npm/bootstrap@5.2.2/dist/css/bootstrap.min.css&quot;/&gt;\n",
              "    &lt;link rel=&quot;stylesheet&quot; href=&quot;https://netdna.bootstrapcdn.com/bootstrap/3.0.0/css/bootstrap.min.css&quot;/&gt;\n",
              "    &lt;link rel=&quot;stylesheet&quot; href=&quot;https://cdn.jsdelivr.net/npm/@fortawesome/fontawesome-free@6.2.0/css/all.min.css&quot;/&gt;\n",
              "    &lt;link rel=&quot;stylesheet&quot; href=&quot;https://cdnjs.cloudflare.com/ajax/libs/Leaflet.awesome-markers/2.0.2/leaflet.awesome-markers.css&quot;/&gt;\n",
              "    &lt;link rel=&quot;stylesheet&quot; href=&quot;https://cdn.jsdelivr.net/gh/python-visualization/folium/folium/templates/leaflet.awesome.rotate.min.css&quot;/&gt;\n",
              "    \n",
              "            &lt;meta name=&quot;viewport&quot; content=&quot;width=device-width,\n",
              "                initial-scale=1.0, maximum-scale=1.0, user-scalable=no&quot; /&gt;\n",
              "            &lt;style&gt;\n",
              "                #map_a7d50f2115a2a8914b389fe891be4f47 {\n",
              "                    position: relative;\n",
              "                    width: 100.0%;\n",
              "                    height: 100.0%;\n",
              "                    left: 0.0%;\n",
              "                    top: 0.0%;\n",
              "                }\n",
              "                .leaflet-container { font-size: 1rem; }\n",
              "            &lt;/style&gt;\n",
              "        \n",
              "&lt;/head&gt;\n",
              "&lt;body&gt;\n",
              "    \n",
              "    \n",
              "            &lt;div class=&quot;folium-map&quot; id=&quot;map_a7d50f2115a2a8914b389fe891be4f47&quot; &gt;&lt;/div&gt;\n",
              "        \n",
              "&lt;/body&gt;\n",
              "&lt;script&gt;\n",
              "    \n",
              "    \n",
              "            var map_a7d50f2115a2a8914b389fe891be4f47 = L.map(\n",
              "                &quot;map_a7d50f2115a2a8914b389fe891be4f47&quot;,\n",
              "                {\n",
              "                    center: [0.0, 0.0],\n",
              "                    crs: L.CRS.EPSG3857,\n",
              "                    zoom: 2,\n",
              "                    zoomControl: true,\n",
              "                    preferCanvas: false,\n",
              "                }\n",
              "            );\n",
              "            L.control.scale().addTo(map_a7d50f2115a2a8914b389fe891be4f47);\n",
              "\n",
              "            \n",
              "\n",
              "        \n",
              "    \n",
              "            var tile_layer_b2d47af9bd12fbf2bac757e691cb2028 = L.tileLayer(\n",
              "                &quot;https://{s}.tile.openstreetmap.org/{z}/{x}/{y}.png&quot;,\n",
              "                {&quot;attribution&quot;: &quot;Data by \\u0026copy; \\u003ca target=\\&quot;_blank\\&quot; href=\\&quot;http://openstreetmap.org\\&quot;\\u003eOpenStreetMap\\u003c/a\\u003e, under \\u003ca target=\\&quot;_blank\\&quot; href=\\&quot;http://www.openstreetmap.org/copyright\\&quot;\\u003eODbL\\u003c/a\\u003e.&quot;, &quot;detectRetina&quot;: false, &quot;maxNativeZoom&quot;: 18, &quot;maxZoom&quot;: 18, &quot;minZoom&quot;: 2, &quot;noWrap&quot;: false, &quot;opacity&quot;: 1, &quot;subdomains&quot;: &quot;abc&quot;, &quot;tms&quot;: false}\n",
              "            ).addTo(map_a7d50f2115a2a8914b389fe891be4f47);\n",
              "        \n",
              "    \n",
              "            var marker_bddd806e44c7c8587ff34aa8eb21110e = L.marker(\n",
              "                [39.074208, 21.824312],\n",
              "                {}\n",
              "            ).addTo(map_a7d50f2115a2a8914b389fe891be4f47);\n",
              "        \n",
              "    \n",
              "            var icon_ef21f05b5278c1bc5b90a6fb6f192d4a = L.AwesomeMarkers.icon(\n",
              "                {&quot;extraClasses&quot;: &quot;fa-rotate-0&quot;, &quot;icon&quot;: &quot;music&quot;, &quot;iconColor&quot;: &quot;white&quot;, &quot;markerColor&quot;: &quot;purple&quot;, &quot;prefix&quot;: &quot;glyphicon&quot;}\n",
              "            );\n",
              "            marker_bddd806e44c7c8587ff34aa8eb21110e.setIcon(icon_ef21f05b5278c1bc5b90a6fb6f192d4a);\n",
              "        \n",
              "    \n",
              "        var popup_a83c7795bbf3a57caeb282a4a0d16b55 = L.popup({&quot;maxWidth&quot;: &quot;100%&quot;});\n",
              "\n",
              "        \n",
              "            \n",
              "                var html_d5da9b0a6c5f298c5fb1651a6f87e0bf = $(`&lt;div id=&quot;html_d5da9b0a6c5f298c5fb1651a6f87e0bf&quot; style=&quot;width: 100.0%; height: 100.0%;&quot;&gt;&lt;strong&gt;Joji - SLOW DANCING IN THE DARK&lt;/strong&gt;&lt;/div&gt;`)[0];\n",
              "                popup_a83c7795bbf3a57caeb282a4a0d16b55.setContent(html_d5da9b0a6c5f298c5fb1651a6f87e0bf);\n",
              "            \n",
              "        \n",
              "\n",
              "        marker_bddd806e44c7c8587ff34aa8eb21110e.bindPopup(popup_a83c7795bbf3a57caeb282a4a0d16b55)\n",
              "        ;\n",
              "\n",
              "        \n",
              "    \n",
              "    \n",
              "            marker_bddd806e44c7c8587ff34aa8eb21110e.bindTooltip(\n",
              "                `&lt;div&gt;\n",
              "                     Greece\n",
              "                 &lt;/div&gt;`,\n",
              "                {&quot;sticky&quot;: true}\n",
              "            );\n",
              "        \n",
              "    \n",
              "            var marker_c05e8ee8b44a2cf1f0c51e3747057f7a = L.marker(\n",
              "                [22.396428, 114.109497],\n",
              "                {}\n",
              "            ).addTo(map_a7d50f2115a2a8914b389fe891be4f47);\n",
              "        \n",
              "    \n",
              "            var icon_d4750e814537d2f1ef397c2dadbaf699 = L.AwesomeMarkers.icon(\n",
              "                {&quot;extraClasses&quot;: &quot;fa-rotate-0&quot;, &quot;icon&quot;: &quot;music&quot;, &quot;iconColor&quot;: &quot;white&quot;, &quot;markerColor&quot;: &quot;purple&quot;, &quot;prefix&quot;: &quot;glyphicon&quot;}\n",
              "            );\n",
              "            marker_c05e8ee8b44a2cf1f0c51e3747057f7a.setIcon(icon_d4750e814537d2f1ef397c2dadbaf699);\n",
              "        \n",
              "    \n",
              "        var popup_15fc51f1e5b9bd88ba616306548cb26b = L.popup({&quot;maxWidth&quot;: &quot;100%&quot;});\n",
              "\n",
              "        \n",
              "            \n",
              "                var html_f6b76bea7c34be02e50fb02fb38b23a2 = $(`&lt;div id=&quot;html_f6b76bea7c34be02e50fb02fb38b23a2&quot; style=&quot;width: 100.0%; height: 100.0%;&quot;&gt;&lt;strong&gt;Joji - SLOW DANCING IN THE DARK&lt;/strong&gt;&lt;/div&gt;`)[0];\n",
              "                popup_15fc51f1e5b9bd88ba616306548cb26b.setContent(html_f6b76bea7c34be02e50fb02fb38b23a2);\n",
              "            \n",
              "        \n",
              "\n",
              "        marker_c05e8ee8b44a2cf1f0c51e3747057f7a.bindPopup(popup_15fc51f1e5b9bd88ba616306548cb26b)\n",
              "        ;\n",
              "\n",
              "        \n",
              "    \n",
              "    \n",
              "            marker_c05e8ee8b44a2cf1f0c51e3747057f7a.bindTooltip(\n",
              "                `&lt;div&gt;\n",
              "                     Hong Kong\n",
              "                 &lt;/div&gt;`,\n",
              "                {&quot;sticky&quot;: true}\n",
              "            );\n",
              "        \n",
              "    \n",
              "            var marker_0ce2d4360a542915b03806da4bab3c92 = L.marker(\n",
              "                [55.169438, 23.881275],\n",
              "                {}\n",
              "            ).addTo(map_a7d50f2115a2a8914b389fe891be4f47);\n",
              "        \n",
              "    \n",
              "            var icon_77c716aa5b62fd16da2bf2207d26e5a0 = L.AwesomeMarkers.icon(\n",
              "                {&quot;extraClasses&quot;: &quot;fa-rotate-0&quot;, &quot;icon&quot;: &quot;music&quot;, &quot;iconColor&quot;: &quot;white&quot;, &quot;markerColor&quot;: &quot;purple&quot;, &quot;prefix&quot;: &quot;glyphicon&quot;}\n",
              "            );\n",
              "            marker_0ce2d4360a542915b03806da4bab3c92.setIcon(icon_77c716aa5b62fd16da2bf2207d26e5a0);\n",
              "        \n",
              "    \n",
              "        var popup_0cc0be8bd6071f6c2f2c0ff2f19f327b = L.popup({&quot;maxWidth&quot;: &quot;100%&quot;});\n",
              "\n",
              "        \n",
              "            \n",
              "                var html_b6be5950d48dfeff20fc90cfc24f0c18 = $(`&lt;div id=&quot;html_b6be5950d48dfeff20fc90cfc24f0c18&quot; style=&quot;width: 100.0%; height: 100.0%;&quot;&gt;&lt;strong&gt;Joji - SLOW DANCING IN THE DARK&lt;/strong&gt;&lt;/div&gt;`)[0];\n",
              "                popup_0cc0be8bd6071f6c2f2c0ff2f19f327b.setContent(html_b6be5950d48dfeff20fc90cfc24f0c18);\n",
              "            \n",
              "        \n",
              "\n",
              "        marker_0ce2d4360a542915b03806da4bab3c92.bindPopup(popup_0cc0be8bd6071f6c2f2c0ff2f19f327b)\n",
              "        ;\n",
              "\n",
              "        \n",
              "    \n",
              "    \n",
              "            marker_0ce2d4360a542915b03806da4bab3c92.bindTooltip(\n",
              "                `&lt;div&gt;\n",
              "                     Lithuania\n",
              "                 &lt;/div&gt;`,\n",
              "                {&quot;sticky&quot;: true}\n",
              "            );\n",
              "        \n",
              "    \n",
              "            var marker_ac3dda2e742f6ae5ef35a57585a0d3fb = L.marker(\n",
              "                [58.595272, 25.013607],\n",
              "                {}\n",
              "            ).addTo(map_a7d50f2115a2a8914b389fe891be4f47);\n",
              "        \n",
              "    \n",
              "            var icon_2618815efd9174e0ce2d41a419e36c17 = L.AwesomeMarkers.icon(\n",
              "                {&quot;extraClasses&quot;: &quot;fa-rotate-0&quot;, &quot;icon&quot;: &quot;music&quot;, &quot;iconColor&quot;: &quot;white&quot;, &quot;markerColor&quot;: &quot;purple&quot;, &quot;prefix&quot;: &quot;glyphicon&quot;}\n",
              "            );\n",
              "            marker_ac3dda2e742f6ae5ef35a57585a0d3fb.setIcon(icon_2618815efd9174e0ce2d41a419e36c17);\n",
              "        \n",
              "    \n",
              "        var popup_862f87f21e929b1c8797ee0fbf57bcf1 = L.popup({&quot;maxWidth&quot;: &quot;100%&quot;});\n",
              "\n",
              "        \n",
              "            \n",
              "                var html_4a1e775243a8635ed008ae206b83e1e2 = $(`&lt;div id=&quot;html_4a1e775243a8635ed008ae206b83e1e2&quot; style=&quot;width: 100.0%; height: 100.0%;&quot;&gt;&lt;strong&gt;Joji - SLOW DANCING IN THE DARK&lt;/strong&gt;&lt;/div&gt;`)[0];\n",
              "                popup_862f87f21e929b1c8797ee0fbf57bcf1.setContent(html_4a1e775243a8635ed008ae206b83e1e2);\n",
              "            \n",
              "        \n",
              "\n",
              "        marker_ac3dda2e742f6ae5ef35a57585a0d3fb.bindPopup(popup_862f87f21e929b1c8797ee0fbf57bcf1)\n",
              "        ;\n",
              "\n",
              "        \n",
              "    \n",
              "    \n",
              "            marker_ac3dda2e742f6ae5ef35a57585a0d3fb.bindTooltip(\n",
              "                `&lt;div&gt;\n",
              "                     Estonia\n",
              "                 &lt;/div&gt;`,\n",
              "                {&quot;sticky&quot;: true}\n",
              "            );\n",
              "        \n",
              "    \n",
              "            var marker_43de0806d50b073f9f34dade1f07b158 = L.marker(\n",
              "                [-35.675147, -71.542969],\n",
              "                {}\n",
              "            ).addTo(map_a7d50f2115a2a8914b389fe891be4f47);\n",
              "        \n",
              "    \n",
              "            var icon_3ef7cfb9a098fd32727732e8e7558a8b = L.AwesomeMarkers.icon(\n",
              "                {&quot;extraClasses&quot;: &quot;fa-rotate-0&quot;, &quot;icon&quot;: &quot;music&quot;, &quot;iconColor&quot;: &quot;white&quot;, &quot;markerColor&quot;: &quot;red&quot;, &quot;prefix&quot;: &quot;glyphicon&quot;}\n",
              "            );\n",
              "            marker_43de0806d50b073f9f34dade1f07b158.setIcon(icon_3ef7cfb9a098fd32727732e8e7558a8b);\n",
              "        \n",
              "    \n",
              "        var popup_3aa480a096de4498c334c55e816aceca = L.popup({&quot;maxWidth&quot;: &quot;100%&quot;});\n",
              "\n",
              "        \n",
              "            \n",
              "                var html_eebe94aab5a04426cdb3b8705e3cf733 = $(`&lt;div id=&quot;html_eebe94aab5a04426cdb3b8705e3cf733&quot; style=&quot;width: 100.0%; height: 100.0%;&quot;&gt;&lt;strong&gt;Paramore - Hard Times&lt;/strong&gt;&lt;/div&gt;`)[0];\n",
              "                popup_3aa480a096de4498c334c55e816aceca.setContent(html_eebe94aab5a04426cdb3b8705e3cf733);\n",
              "            \n",
              "        \n",
              "\n",
              "        marker_43de0806d50b073f9f34dade1f07b158.bindPopup(popup_3aa480a096de4498c334c55e816aceca)\n",
              "        ;\n",
              "\n",
              "        \n",
              "    \n",
              "    \n",
              "            marker_43de0806d50b073f9f34dade1f07b158.bindTooltip(\n",
              "                `&lt;div&gt;\n",
              "                     Chile\n",
              "                 &lt;/div&gt;`,\n",
              "                {&quot;sticky&quot;: true}\n",
              "            );\n",
              "        \n",
              "    \n",
              "            var marker_470c5d37a10455d3e36a50914991b30f = L.marker(\n",
              "                [13.794185, -88.89653],\n",
              "                {}\n",
              "            ).addTo(map_a7d50f2115a2a8914b389fe891be4f47);\n",
              "        \n",
              "    \n",
              "            var icon_0a054f2f47b57c93ce8b5cb45308fd1f = L.AwesomeMarkers.icon(\n",
              "                {&quot;extraClasses&quot;: &quot;fa-rotate-0&quot;, &quot;icon&quot;: &quot;music&quot;, &quot;iconColor&quot;: &quot;white&quot;, &quot;markerColor&quot;: &quot;red&quot;, &quot;prefix&quot;: &quot;glyphicon&quot;}\n",
              "            );\n",
              "            marker_470c5d37a10455d3e36a50914991b30f.setIcon(icon_0a054f2f47b57c93ce8b5cb45308fd1f);\n",
              "        \n",
              "    \n",
              "        var popup_07596e04825077748870df4f5338f4d2 = L.popup({&quot;maxWidth&quot;: &quot;100%&quot;});\n",
              "\n",
              "        \n",
              "            \n",
              "                var html_b03e892b2fa3b0b867e7acea02e0b94d = $(`&lt;div id=&quot;html_b03e892b2fa3b0b867e7acea02e0b94d&quot; style=&quot;width: 100.0%; height: 100.0%;&quot;&gt;&lt;strong&gt;Paramore - Hard Times&lt;/strong&gt;&lt;/div&gt;`)[0];\n",
              "                popup_07596e04825077748870df4f5338f4d2.setContent(html_b03e892b2fa3b0b867e7acea02e0b94d);\n",
              "            \n",
              "        \n",
              "\n",
              "        marker_470c5d37a10455d3e36a50914991b30f.bindPopup(popup_07596e04825077748870df4f5338f4d2)\n",
              "        ;\n",
              "\n",
              "        \n",
              "    \n",
              "    \n",
              "            marker_470c5d37a10455d3e36a50914991b30f.bindTooltip(\n",
              "                `&lt;div&gt;\n",
              "                     El Salvador\n",
              "                 &lt;/div&gt;`,\n",
              "                {&quot;sticky&quot;: true}\n",
              "            );\n",
              "        \n",
              "    \n",
              "            var marker_01af1fcf2378fe865fbe0f51977a1c8b = L.marker(\n",
              "                [12.879721, 121.774017],\n",
              "                {}\n",
              "            ).addTo(map_a7d50f2115a2a8914b389fe891be4f47);\n",
              "        \n",
              "    \n",
              "            var icon_220a1d6e5e4452ae078da22d21452004 = L.AwesomeMarkers.icon(\n",
              "                {&quot;extraClasses&quot;: &quot;fa-rotate-0&quot;, &quot;icon&quot;: &quot;music&quot;, &quot;iconColor&quot;: &quot;white&quot;, &quot;markerColor&quot;: &quot;red&quot;, &quot;prefix&quot;: &quot;glyphicon&quot;}\n",
              "            );\n",
              "            marker_01af1fcf2378fe865fbe0f51977a1c8b.setIcon(icon_220a1d6e5e4452ae078da22d21452004);\n",
              "        \n",
              "    \n",
              "        var popup_19974d129a8032d716ec94eb17805e23 = L.popup({&quot;maxWidth&quot;: &quot;100%&quot;});\n",
              "\n",
              "        \n",
              "            \n",
              "                var html_5c83882868a25eda4de12ccb19c01df9 = $(`&lt;div id=&quot;html_5c83882868a25eda4de12ccb19c01df9&quot; style=&quot;width: 100.0%; height: 100.0%;&quot;&gt;&lt;strong&gt;Paramore - Hard Times&lt;/strong&gt;&lt;/div&gt;`)[0];\n",
              "                popup_19974d129a8032d716ec94eb17805e23.setContent(html_5c83882868a25eda4de12ccb19c01df9);\n",
              "            \n",
              "        \n",
              "\n",
              "        marker_01af1fcf2378fe865fbe0f51977a1c8b.bindPopup(popup_19974d129a8032d716ec94eb17805e23)\n",
              "        ;\n",
              "\n",
              "        \n",
              "    \n",
              "    \n",
              "            marker_01af1fcf2378fe865fbe0f51977a1c8b.bindTooltip(\n",
              "                `&lt;div&gt;\n",
              "                     Philippines\n",
              "                 &lt;/div&gt;`,\n",
              "                {&quot;sticky&quot;: true}\n",
              "            );\n",
              "        \n",
              "    \n",
              "            var marker_615dbead57a739e42d0d3661fe37ae15 = L.marker(\n",
              "                [-0.789275, 113.921327],\n",
              "                {}\n",
              "            ).addTo(map_a7d50f2115a2a8914b389fe891be4f47);\n",
              "        \n",
              "    \n",
              "            var icon_84cb66b13bf5996f8659ccb13cbd6a1c = L.AwesomeMarkers.icon(\n",
              "                {&quot;extraClasses&quot;: &quot;fa-rotate-0&quot;, &quot;icon&quot;: &quot;music&quot;, &quot;iconColor&quot;: &quot;white&quot;, &quot;markerColor&quot;: &quot;red&quot;, &quot;prefix&quot;: &quot;glyphicon&quot;}\n",
              "            );\n",
              "            marker_615dbead57a739e42d0d3661fe37ae15.setIcon(icon_84cb66b13bf5996f8659ccb13cbd6a1c);\n",
              "        \n",
              "    \n",
              "        var popup_3acaa72369f014bb4d992b72ae2239dc = L.popup({&quot;maxWidth&quot;: &quot;100%&quot;});\n",
              "\n",
              "        \n",
              "            \n",
              "                var html_e5e0e38f3a65067561d5190ab732e915 = $(`&lt;div id=&quot;html_e5e0e38f3a65067561d5190ab732e915&quot; style=&quot;width: 100.0%; height: 100.0%;&quot;&gt;&lt;strong&gt;Paramore - Hard Times&lt;/strong&gt;&lt;/div&gt;`)[0];\n",
              "                popup_3acaa72369f014bb4d992b72ae2239dc.setContent(html_e5e0e38f3a65067561d5190ab732e915);\n",
              "            \n",
              "        \n",
              "\n",
              "        marker_615dbead57a739e42d0d3661fe37ae15.bindPopup(popup_3acaa72369f014bb4d992b72ae2239dc)\n",
              "        ;\n",
              "\n",
              "        \n",
              "    \n",
              "    \n",
              "            marker_615dbead57a739e42d0d3661fe37ae15.bindTooltip(\n",
              "                `&lt;div&gt;\n",
              "                     Indonesia\n",
              "                 &lt;/div&gt;`,\n",
              "                {&quot;sticky&quot;: true}\n",
              "            );\n",
              "        \n",
              "&lt;/script&gt;\n",
              "&lt;/html&gt;\" style=\"position:absolute;width:100%;height:100%;left:0;top:0;border:none !important;\" allowfullscreen webkitallowfullscreen mozallowfullscreen></iframe></div></div>"
            ]
          },
          "metadata": {},
          "execution_count": 14
        }
      ],
      "source": [
        "chart_top_map = folium.Map(location=[0, 0], zoom_start=2, control_scale=True, min_zoom=2, tiles=\"OpenStreetMap\")\n",
        "\n",
        "tooltip_g = \"Greece\"   \n",
        "\n",
        "greece_marker = folium.Marker(\n",
        "    location=[39.074208, 21.824312],\n",
        "    icon=folium.Icon(icon=\"music\", color='purple'),\n",
        "    popup=\"<strong>Joji - SLOW DANCING IN THE DARK</strong>\",\n",
        "    tooltip=tooltip_g,\n",
        "    )\n",
        "\n",
        "greece_marker.add_to(chart_top_map)\n",
        "\n",
        "tooltip_hk = \"Hong Kong\" \n",
        "\n",
        "hong_kong_marker = folium.Marker(\n",
        "    location=[22.396428, 114.109497],\n",
        "    icon=folium.Icon(icon=\"music\", color='purple'),\n",
        "    popup=\"<strong>Joji - SLOW DANCING IN THE DARK</strong>\",\n",
        "    tooltip=tooltip_hk,\n",
        "    )\n",
        "\n",
        "hong_kong_marker.add_to(chart_top_map)\n",
        "\n",
        "tooltip_l = \"Lithuania\"\n",
        "\n",
        "lithuania_marker = folium.Marker(\n",
        "    location=[55.169438, 23.881275],\n",
        "    icon=folium.Icon(icon=\"music\", color='purple'),\n",
        "    popup=\"<strong>Joji - SLOW DANCING IN THE DARK</strong>\",\n",
        "    tooltip=tooltip_l,\n",
        "    )\n",
        "\n",
        "lithuania_marker.add_to(chart_top_map)\n",
        "\n",
        "tooltip_e = \"Estonia\"\n",
        "\n",
        "estonia_marker = folium.Marker(\n",
        "    location=[58.595272, 25.013607],\n",
        "    icon=folium.Icon(icon=\"music\", color='purple'),\n",
        "    popup=\"<strong>Joji - SLOW DANCING IN THE DARK</strong>\",\n",
        "    tooltip=tooltip_e,\n",
        "    )\n",
        "\n",
        "estonia_marker.add_to(chart_top_map)\n",
        "\n",
        "tooltip_c = \"Chile\"   \n",
        "\n",
        "chile_marker = folium.Marker(\n",
        "    location=[-35.675147, -71.542969],\n",
        "    icon=folium.Icon(icon=\"music\", color='red'),\n",
        "    popup=\"<strong>Paramore - Hard Times</strong>\",\n",
        "    tooltip=tooltip_c,\n",
        "    )\n",
        "\n",
        "chile_marker.add_to(chart_top_map)\n",
        "\n",
        "tooltip_el = \"El Salvador\"   \n",
        "\n",
        "el_salvador_marker = folium.Marker(\n",
        "    location=[13.794185, -88.89653],\n",
        "    icon=folium.Icon(icon=\"music\", color='red'),\n",
        "    popup=\"<strong>Paramore - Hard Times</strong>\",\n",
        "    tooltip=tooltip_el,\n",
        "    )\n",
        "\n",
        "el_salvador_marker.add_to(chart_top_map)\n",
        "\n",
        "tooltip_p = \"Philippines\"   \n",
        "\n",
        "philippines_marker = folium.Marker(\n",
        "    location=[12.879721, 121.774017],\n",
        "    icon=folium.Icon(icon=\"music\", color='red'),\n",
        "    popup=\"<strong>Paramore - Hard Times</strong>\",\n",
        "    tooltip=tooltip_p,\n",
        "    )\n",
        "\n",
        "philippines_marker.add_to(chart_top_map)\n",
        "\n",
        "tooltip_i = \"Indonesia\"   \n",
        "\n",
        "indonesia_marker = folium.Marker(\n",
        "    location=[-0.789275, 113.921327],\n",
        "    icon=folium.Icon(icon=\"music\", color='red'),\n",
        "    popup=\"<strong>Paramore - Hard Times</strong>\",\n",
        "    tooltip=tooltip_i,\n",
        "    )\n",
        "\n",
        "indonesia_marker.add_to(chart_top_map)\n",
        "\n",
        "chart_top_map"
      ]
    }
  ],
  "metadata": {
    "colab": {
      "provenance": [],
      "include_colab_link": true
    },
    "kernelspec": {
      "display_name": "Python 3",
      "name": "python3"
    },
    "language_info": {
      "name": "python"
    }
  },
  "nbformat": 4,
  "nbformat_minor": 0
}