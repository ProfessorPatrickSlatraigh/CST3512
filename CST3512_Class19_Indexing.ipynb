{
  "nbformat": 4,
  "nbformat_minor": 0,
  "metadata": {
    "colab": {
      "provenance": [],
      "collapsed_sections": [],
      "authorship_tag": "ABX9TyN0/0eKbp1QAgNigAI/k4tc",
      "include_colab_link": true
    },
    "kernelspec": {
      "name": "python3",
      "display_name": "Python 3"
    },
    "language_info": {
      "name": "python"
    }
  },
  "cells": [
    {
      "cell_type": "markdown",
      "metadata": {
        "id": "view-in-github",
        "colab_type": "text"
      },
      "source": [
        "<a href=\"https://colab.research.google.com/github/ProfessorPatrickSlatraigh/CST3512/blob/main/CST3512_Class19_Indexing.ipynb\" target=\"_parent\"><img src=\"https://colab.research.google.com/assets/colab-badge.svg\" alt=\"Open In Colab\"/></a>"
      ]
    },
    {
      "cell_type": "markdown",
      "source": [
        "##CST3512 Class 19    \n",
        "**Row and Column Indexing**    \n",
        "\n",
        "\n",
        "1. **Hierarchical Indexing**    \n",
        "2. **Dewey Decimal Dictionary**     \n",
        "\n",
        "\n",
        "\n",
        "This notebook is based on [Section 8.1 Hierarchical Indexing](https://wesmckinney.com/book/data-wrangling.html) from Chapter 8 - Data Wrangling:     \n",
        "\n",
        "  - Join,     \n",
        "  - Combine, and     \n",
        "  - Reshape     \n",
        "  \n",
        "  in Wes Mckinney's 'Python for Data Analysis'    \n",
        "\n"
      ],
      "metadata": {
        "id": "JVtACvBn4B0m"
      }
    },
    {
      "cell_type": "markdown",
      "source": [
        "In many applications, data may be spread across a number of files or databases or be arranged in a form that is not convenient to analyze. This chapter focuses on tools to help combine, join, and rearrange data.    \n",
        "\n",
        "This notebook introduces the concept of **hierarchical indexing** in pandas, which is used extensively in some of these operations. Chapter 8 of the book then digs into the particular data manipulations. Various applied usages of these tools can be seen in [Data Analysis Examples](https://wesmckinney.com/book/data-wrangling.html#data-analysis-examples)."
      ],
      "metadata": {
        "id": "i03P67dF4yIF"
      }
    },
    {
      "cell_type": "markdown",
      "source": [
        "\n",
        "\n",
        "---\n",
        "\n"
      ],
      "metadata": {
        "id": "vjrvvKdN53Jt"
      }
    },
    {
      "cell_type": "markdown",
      "source": [
        "##**Housekeeping**    \n",
        "\n",
        "Import required modules    \n"
      ],
      "metadata": {
        "id": "9mi4Ko3V54iX"
      }
    },
    {
      "cell_type": "code",
      "source": [
        "# Import pandas \n",
        "import pandas as pd\n",
        "\n",
        "# Import numpy   \n",
        "import numpy as np\n"
      ],
      "metadata": {
        "id": "cPV2Tj1K6CNW"
      },
      "execution_count": 1,
      "outputs": []
    },
    {
      "cell_type": "markdown",
      "source": [
        "##**1. Hierarchical Indexing**    \n"
      ],
      "metadata": {
        "id": "zgIDjyXTZgrP"
      }
    },
    {
      "cell_type": "markdown",
      "source": [
        "**Hierarchical indexing** is an important feature of pandas that enables you to have multiple (two or more) index levels on an axis. Another way of thinking about it is that it provides a way for you to work with higher dimensional data in a lower dimensional form. Let’s start with a simple example: create a Series with a list of lists (or arrays) as the index:"
      ],
      "metadata": {
        "id": "tvk4wcvV5AV6"
      }
    },
    {
      "cell_type": "markdown",
      "source": [
        "###First, using the default index values..."
      ],
      "metadata": {
        "id": "j_KsgiDZZdnA"
      }
    },
    {
      "cell_type": "code",
      "source": [
        "data_0 = pd.Series(np.random.randn(9))\n",
        "\n",
        "print(data_0)  "
      ],
      "metadata": {
        "colab": {
          "base_uri": "https://localhost:8080/"
        },
        "id": "3Afb1IrfZLvR",
        "outputId": "f98b5d7c-851e-4ed5-dec7-a300dd7b7d54"
      },
      "execution_count": 7,
      "outputs": [
        {
          "output_type": "stream",
          "name": "stdout",
          "text": [
            "0   -0.412033\n",
            "1    0.339982\n",
            "2   -0.549759\n",
            "3   -0.964211\n",
            "4    0.904280\n",
            "5    0.798179\n",
            "6   -1.941745\n",
            "7    0.099181\n",
            "8    1.156431\n",
            "dtype: float64\n"
          ]
        }
      ]
    },
    {
      "cell_type": "code",
      "source": [
        "print(data_0[5])"
      ],
      "metadata": {
        "colab": {
          "base_uri": "https://localhost:8080/"
        },
        "id": "37xazQbQah61",
        "outputId": "94fe9a29-e296-43d5-a943-59ea79ee67a2"
      },
      "execution_count": 8,
      "outputs": [
        {
          "output_type": "stream",
          "name": "stdout",
          "text": [
            "0.7981794250776526\n"
          ]
        }
      ]
    },
    {
      "cell_type": "markdown",
      "source": [
        "###Then, using a list of unique values as row indices...   "
      ],
      "metadata": {
        "id": "DNvGdysPZjh2"
      }
    },
    {
      "cell_type": "code",
      "source": [
        "data_1 = pd.Series(np.random.randn(9),\n",
        "       index=['a', 'b', 'c', 'd', 'e', 'f', 'g', 'h', 'i'])\n",
        "\n",
        "print(data_1)    "
      ],
      "metadata": {
        "colab": {
          "base_uri": "https://localhost:8080/"
        },
        "id": "l9gl_hoXZWUX",
        "outputId": "a0acd7db-3bd5-4956-ed43-1efb33df8740"
      },
      "execution_count": 10,
      "outputs": [
        {
          "output_type": "stream",
          "name": "stdout",
          "text": [
            "a   -0.083988\n",
            "b    2.120044\n",
            "c    0.202272\n",
            "d   -0.491024\n",
            "e    0.510354\n",
            "f   -0.307540\n",
            "g    1.228234\n",
            "h   -1.990508\n",
            "i    0.478982\n",
            "dtype: float64\n"
          ]
        }
      ]
    },
    {
      "cell_type": "code",
      "source": [
        "print(data_1['d'])"
      ],
      "metadata": {
        "colab": {
          "base_uri": "https://localhost:8080/"
        },
        "id": "NK1A-bZGa9jr",
        "outputId": "b849a4ca-555e-4f08-eacb-b87b13213e17"
      },
      "execution_count": 11,
      "outputs": [
        {
          "output_type": "stream",
          "name": "stdout",
          "text": [
            "-0.4910244679893649\n"
          ]
        }
      ]
    },
    {
      "cell_type": "markdown",
      "source": [
        "###Of course, this does not work..."
      ],
      "metadata": {
        "id": "acZbNVWybcDW"
      }
    },
    {
      "cell_type": "code",
      "source": [
        "data_2 = pd.Series(np.random.randn(9),\n",
        "       index=['a', 'a', 'a', 'b', 'b', 'c', 'c', 'd', 'd'])\n",
        "\n",
        "print(data_2)    \n"
      ],
      "metadata": {
        "colab": {
          "base_uri": "https://localhost:8080/"
        },
        "id": "SdhMWHMrbfH1",
        "outputId": "02e04d1b-c801-457c-df28-7c0d13f461f3"
      },
      "execution_count": 12,
      "outputs": [
        {
          "output_type": "stream",
          "name": "stdout",
          "text": [
            "a    0.698414\n",
            "a   -0.535246\n",
            "a    1.872640\n",
            "b   -0.070535\n",
            "b    1.491435\n",
            "c   -0.988773\n",
            "c    0.022553\n",
            "d    0.205425\n",
            "d    1.204814\n",
            "dtype: float64\n"
          ]
        }
      ]
    },
    {
      "cell_type": "code",
      "source": [
        "print(data_2['b'])"
      ],
      "metadata": {
        "colab": {
          "base_uri": "https://localhost:8080/"
        },
        "id": "YdWvSgM5brzi",
        "outputId": "c17902bf-0379-40ef-cd1e-d2494ce52956"
      },
      "execution_count": 13,
      "outputs": [
        {
          "output_type": "stream",
          "name": "stdout",
          "text": [
            "b   -0.070535\n",
            "b    1.491435\n",
            "dtype: float64\n"
          ]
        }
      ]
    },
    {
      "cell_type": "markdown",
      "source": [
        "###But, what does the following do?   "
      ],
      "metadata": {
        "id": "ipqsnjv7ZqL_"
      }
    },
    {
      "cell_type": "code",
      "execution_count": 14,
      "metadata": {
        "id": "g_V73rqV38q9",
        "colab": {
          "base_uri": "https://localhost:8080/"
        },
        "outputId": "062a7e0b-8429-49f7-fc77-f8699bd27bf0"
      },
      "outputs": [
        {
          "output_type": "stream",
          "name": "stdout",
          "text": [
            "a  1   -0.730263\n",
            "   2    0.803144\n",
            "   3    0.705221\n",
            "b  1    0.564720\n",
            "   3   -0.444616\n",
            "c  1   -0.102345\n",
            "   2   -0.373366\n",
            "d  2    0.291703\n",
            "   3    2.392430\n",
            "dtype: float64\n"
          ]
        }
      ],
      "source": [
        "data_3 = pd.Series(np.random.randn(9),\n",
        "       index=[['a', 'a', 'a', 'b', 'b', 'c', 'c', 'd', 'd'],\n",
        "       [1, 2, 3, 1, 3, 1, 2, 2, 3]])\n",
        "\n",
        "print(data_3)    \n"
      ]
    },
    {
      "cell_type": "code",
      "source": [
        "corp = pd.Series(['first', 'second', 'third', 'fourth', 'fifth', 'sixth', 'seventh', 'eighth', 'ninth'], \n",
        "index=[['Americas', 'Americas', 'Americas', 'EMEA', 'EMEA', 'AsiaPac', 'AsiaPac', 'Corp', 'Corp'], \n",
        "[101, 201, 301, 101, 301, 101, 201, 201, 301]])\n",
        "\n",
        "print(corp)    "
      ],
      "metadata": {
        "id": "ar0fBZEUZxtc",
        "colab": {
          "base_uri": "https://localhost:8080/"
        },
        "outputId": "f7b5cc6c-a82f-419d-d1be-00977e93b540"
      },
      "execution_count": 15,
      "outputs": [
        {
          "output_type": "stream",
          "name": "stdout",
          "text": [
            "Americas  101      first\n",
            "          201     second\n",
            "          301      third\n",
            "EMEA      101     fourth\n",
            "          301      fifth\n",
            "AsiaPac   101      sixth\n",
            "          201    seventh\n",
            "Corp      201     eighth\n",
            "          301      ninth\n",
            "dtype: object\n"
          ]
        }
      ]
    },
    {
      "cell_type": "markdown",
      "source": [
        "What you’re seeing is a prettified view of a Series with a MultiIndex as its index. The “gaps” in the index display mean “use the label directly above”:"
      ],
      "metadata": {
        "id": "rLeimGEG6U4V"
      }
    },
    {
      "cell_type": "code",
      "source": [
        "print(data_1.index)"
      ],
      "metadata": {
        "colab": {
          "base_uri": "https://localhost:8080/"
        },
        "id": "9yJtkSefc6uS",
        "outputId": "8cc19d8c-2c40-4b83-f6cc-b742ec1b1cc2"
      },
      "execution_count": 17,
      "outputs": [
        {
          "output_type": "stream",
          "name": "stdout",
          "text": [
            "Index(['a', 'b', 'c', 'd', 'e', 'f', 'g', 'h', 'i'], dtype='object')\n"
          ]
        }
      ]
    },
    {
      "cell_type": "code",
      "source": [
        "print(data_3.index)"
      ],
      "metadata": {
        "id": "6e6X2uKN6WFp",
        "colab": {
          "base_uri": "https://localhost:8080/"
        },
        "outputId": "27630166-ce16-4226-d626-64bee37c5fdc"
      },
      "execution_count": 16,
      "outputs": [
        {
          "output_type": "stream",
          "name": "stdout",
          "text": [
            "MultiIndex([('a', 1),\n",
            "            ('a', 2),\n",
            "            ('a', 3),\n",
            "            ('b', 1),\n",
            "            ('b', 3),\n",
            "            ('c', 1),\n",
            "            ('c', 2),\n",
            "            ('d', 2),\n",
            "            ('d', 3)],\n",
            "           )\n"
          ]
        }
      ]
    },
    {
      "cell_type": "code",
      "source": [
        "print(corp.index)"
      ],
      "metadata": {
        "id": "4GmEZg8scntM",
        "colab": {
          "base_uri": "https://localhost:8080/"
        },
        "outputId": "764249c6-618b-4931-b20f-86e94d092dae"
      },
      "execution_count": 18,
      "outputs": [
        {
          "output_type": "stream",
          "name": "stdout",
          "text": [
            "MultiIndex([('Americas', 101),\n",
            "            ('Americas', 201),\n",
            "            ('Americas', 301),\n",
            "            (    'EMEA', 101),\n",
            "            (    'EMEA', 301),\n",
            "            ( 'AsiaPac', 101),\n",
            "            ( 'AsiaPac', 201),\n",
            "            (    'Corp', 201),\n",
            "            (    'Corp', 301)],\n",
            "           )\n"
          ]
        }
      ]
    },
    {
      "cell_type": "markdown",
      "source": [
        "With a hierarchically indexed object, so-called partial indexing is possible, enabling you to concisely select subsets of the data:"
      ],
      "metadata": {
        "id": "IQx_BjNz6hsP"
      }
    },
    {
      "cell_type": "code",
      "source": [
        "data_3['b']"
      ],
      "metadata": {
        "id": "4wzj0-Zc6lSx",
        "colab": {
          "base_uri": "https://localhost:8080/"
        },
        "outputId": "aea79c39-fefb-45c8-9dbe-720feadf3583"
      },
      "execution_count": 19,
      "outputs": [
        {
          "output_type": "execute_result",
          "data": {
            "text/plain": [
              "1    0.564720\n",
              "3   -0.444616\n",
              "dtype: float64"
            ]
          },
          "metadata": {},
          "execution_count": 19
        }
      ]
    },
    {
      "cell_type": "code",
      "source": [
        "corp['EMEA']"
      ],
      "metadata": {
        "id": "uaA-HtT2crEL",
        "colab": {
          "base_uri": "https://localhost:8080/"
        },
        "outputId": "ca689774-2b0d-40c3-c4a7-8391de9e6d3b"
      },
      "execution_count": 20,
      "outputs": [
        {
          "output_type": "execute_result",
          "data": {
            "text/plain": [
              "101    fourth\n",
              "301     fifth\n",
              "dtype: object"
            ]
          },
          "metadata": {},
          "execution_count": 20
        }
      ]
    },
    {
      "cell_type": "code",
      "source": [
        "data_3['c']"
      ],
      "metadata": {
        "id": "VB16R24tbMGI",
        "colab": {
          "base_uri": "https://localhost:8080/"
        },
        "outputId": "dcb2aeb7-119f-4b43-f9c2-d8c88a1169c6"
      },
      "execution_count": 21,
      "outputs": [
        {
          "output_type": "execute_result",
          "data": {
            "text/plain": [
              "1   -0.102345\n",
              "2   -0.373366\n",
              "dtype: float64"
            ]
          },
          "metadata": {},
          "execution_count": 21
        }
      ]
    },
    {
      "cell_type": "code",
      "source": [
        "data_3['b':'c']"
      ],
      "metadata": {
        "id": "2Izd5mXBcWs0",
        "colab": {
          "base_uri": "https://localhost:8080/"
        },
        "outputId": "1547192e-b899-4337-d189-68e2aa21248b"
      },
      "execution_count": 22,
      "outputs": [
        {
          "output_type": "execute_result",
          "data": {
            "text/plain": [
              "b  1    0.564720\n",
              "   3   -0.444616\n",
              "c  1   -0.102345\n",
              "   2   -0.373366\n",
              "dtype: float64"
            ]
          },
          "metadata": {},
          "execution_count": 22
        }
      ]
    },
    {
      "cell_type": "code",
      "source": [
        "data_3['b':'d']"
      ],
      "metadata": {
        "id": "7qcenCnW6pNY",
        "colab": {
          "base_uri": "https://localhost:8080/"
        },
        "outputId": "97a132b8-b515-4fa5-ca15-46771526f7a7"
      },
      "execution_count": 23,
      "outputs": [
        {
          "output_type": "execute_result",
          "data": {
            "text/plain": [
              "b  1    0.564720\n",
              "   3   -0.444616\n",
              "c  1   -0.102345\n",
              "   2   -0.373366\n",
              "d  2    0.291703\n",
              "   3    2.392430\n",
              "dtype: float64"
            ]
          },
          "metadata": {},
          "execution_count": 23
        }
      ]
    },
    {
      "cell_type": "code",
      "source": [
        "data_3.loc[['b', 'd']]"
      ],
      "metadata": {
        "id": "vdFLyCP26xMn",
        "colab": {
          "base_uri": "https://localhost:8080/"
        },
        "outputId": "8b784220-4bf9-4e6a-cff0-06517d4ac77f"
      },
      "execution_count": 24,
      "outputs": [
        {
          "output_type": "execute_result",
          "data": {
            "text/plain": [
              "b  1    0.564720\n",
              "   3   -0.444616\n",
              "d  2    0.291703\n",
              "   3    2.392430\n",
              "dtype: float64"
            ]
          },
          "metadata": {},
          "execution_count": 24
        }
      ]
    },
    {
      "cell_type": "code",
      "source": [
        "corp.loc[['EMEA', 'Americas', 'AsiaPac']]"
      ],
      "metadata": {
        "id": "ABivpcHpcv2w",
        "colab": {
          "base_uri": "https://localhost:8080/"
        },
        "outputId": "27c8ee38-e204-488a-b524-cad34e81eece"
      },
      "execution_count": 25,
      "outputs": [
        {
          "output_type": "execute_result",
          "data": {
            "text/plain": [
              "EMEA      101     fourth\n",
              "          301      fifth\n",
              "Americas  101      first\n",
              "          201     second\n",
              "          301      third\n",
              "AsiaPac   101      sixth\n",
              "          201    seventh\n",
              "dtype: object"
            ]
          },
          "metadata": {},
          "execution_count": 25
        }
      ]
    },
    {
      "cell_type": "markdown",
      "source": [
        "Selection is even possible from an “inner” level. Here I select all of the values having the value \"2\" from the second index level:"
      ],
      "metadata": {
        "id": "FJqLoPqf61e1"
      }
    },
    {
      "cell_type": "code",
      "source": [
        "data_3.loc[:, 2]"
      ],
      "metadata": {
        "id": "KbR__x5B62Wx",
        "colab": {
          "base_uri": "https://localhost:8080/"
        },
        "outputId": "c1813850-8813-4843-a0db-e7e7892078f5"
      },
      "execution_count": 26,
      "outputs": [
        {
          "output_type": "execute_result",
          "data": {
            "text/plain": [
              "a    0.803144\n",
              "c   -0.373366\n",
              "d    0.291703\n",
              "dtype: float64"
            ]
          },
          "metadata": {},
          "execution_count": 26
        }
      ]
    },
    {
      "cell_type": "code",
      "source": [
        "corp.loc[:,201]"
      ],
      "metadata": {
        "id": "z6Q2sgPMdR6a",
        "colab": {
          "base_uri": "https://localhost:8080/"
        },
        "outputId": "9d4616bd-7c4a-42ce-8b03-ad11022ac712"
      },
      "execution_count": 27,
      "outputs": [
        {
          "output_type": "execute_result",
          "data": {
            "text/plain": [
              "Americas     second\n",
              "AsiaPac     seventh\n",
              "Corp         eighth\n",
              "dtype: object"
            ]
          },
          "metadata": {},
          "execution_count": 27
        }
      ]
    },
    {
      "cell_type": "markdown",
      "source": [
        "Hierarchical indexing plays an important role in reshaping data and group-based operations like forming a pivot table. For example, you can rearrange this data into a DataFrame using its `unstack` method:"
      ],
      "metadata": {
        "id": "J4EMUDYX6-Ki"
      }
    },
    {
      "cell_type": "code",
      "source": [
        "data_3.unstack()"
      ],
      "metadata": {
        "id": "i34gC42Z69gS",
        "colab": {
          "base_uri": "https://localhost:8080/",
          "height": 175
        },
        "outputId": "c9ee91dc-4e3d-47eb-f5f1-2261220cab87"
      },
      "execution_count": 28,
      "outputs": [
        {
          "output_type": "execute_result",
          "data": {
            "text/plain": [
              "          1         2         3\n",
              "a -0.730263  0.803144  0.705221\n",
              "b  0.564720       NaN -0.444616\n",
              "c -0.102345 -0.373366       NaN\n",
              "d       NaN  0.291703  2.392430"
            ],
            "text/html": [
              "\n",
              "  <div id=\"df-e6e4de40-a46c-4e2b-9053-7b7a3c0eaa16\">\n",
              "    <div class=\"colab-df-container\">\n",
              "      <div>\n",
              "<style scoped>\n",
              "    .dataframe tbody tr th:only-of-type {\n",
              "        vertical-align: middle;\n",
              "    }\n",
              "\n",
              "    .dataframe tbody tr th {\n",
              "        vertical-align: top;\n",
              "    }\n",
              "\n",
              "    .dataframe thead th {\n",
              "        text-align: right;\n",
              "    }\n",
              "</style>\n",
              "<table border=\"1\" class=\"dataframe\">\n",
              "  <thead>\n",
              "    <tr style=\"text-align: right;\">\n",
              "      <th></th>\n",
              "      <th>1</th>\n",
              "      <th>2</th>\n",
              "      <th>3</th>\n",
              "    </tr>\n",
              "  </thead>\n",
              "  <tbody>\n",
              "    <tr>\n",
              "      <th>a</th>\n",
              "      <td>-0.730263</td>\n",
              "      <td>0.803144</td>\n",
              "      <td>0.705221</td>\n",
              "    </tr>\n",
              "    <tr>\n",
              "      <th>b</th>\n",
              "      <td>0.564720</td>\n",
              "      <td>NaN</td>\n",
              "      <td>-0.444616</td>\n",
              "    </tr>\n",
              "    <tr>\n",
              "      <th>c</th>\n",
              "      <td>-0.102345</td>\n",
              "      <td>-0.373366</td>\n",
              "      <td>NaN</td>\n",
              "    </tr>\n",
              "    <tr>\n",
              "      <th>d</th>\n",
              "      <td>NaN</td>\n",
              "      <td>0.291703</td>\n",
              "      <td>2.392430</td>\n",
              "    </tr>\n",
              "  </tbody>\n",
              "</table>\n",
              "</div>\n",
              "      <button class=\"colab-df-convert\" onclick=\"convertToInteractive('df-e6e4de40-a46c-4e2b-9053-7b7a3c0eaa16')\"\n",
              "              title=\"Convert this dataframe to an interactive table.\"\n",
              "              style=\"display:none;\">\n",
              "        \n",
              "  <svg xmlns=\"http://www.w3.org/2000/svg\" height=\"24px\"viewBox=\"0 0 24 24\"\n",
              "       width=\"24px\">\n",
              "    <path d=\"M0 0h24v24H0V0z\" fill=\"none\"/>\n",
              "    <path d=\"M18.56 5.44l.94 2.06.94-2.06 2.06-.94-2.06-.94-.94-2.06-.94 2.06-2.06.94zm-11 1L8.5 8.5l.94-2.06 2.06-.94-2.06-.94L8.5 2.5l-.94 2.06-2.06.94zm10 10l.94 2.06.94-2.06 2.06-.94-2.06-.94-.94-2.06-.94 2.06-2.06.94z\"/><path d=\"M17.41 7.96l-1.37-1.37c-.4-.4-.92-.59-1.43-.59-.52 0-1.04.2-1.43.59L10.3 9.45l-7.72 7.72c-.78.78-.78 2.05 0 2.83L4 21.41c.39.39.9.59 1.41.59.51 0 1.02-.2 1.41-.59l7.78-7.78 2.81-2.81c.8-.78.8-2.07 0-2.86zM5.41 20L4 18.59l7.72-7.72 1.47 1.35L5.41 20z\"/>\n",
              "  </svg>\n",
              "      </button>\n",
              "      \n",
              "  <style>\n",
              "    .colab-df-container {\n",
              "      display:flex;\n",
              "      flex-wrap:wrap;\n",
              "      gap: 12px;\n",
              "    }\n",
              "\n",
              "    .colab-df-convert {\n",
              "      background-color: #E8F0FE;\n",
              "      border: none;\n",
              "      border-radius: 50%;\n",
              "      cursor: pointer;\n",
              "      display: none;\n",
              "      fill: #1967D2;\n",
              "      height: 32px;\n",
              "      padding: 0 0 0 0;\n",
              "      width: 32px;\n",
              "    }\n",
              "\n",
              "    .colab-df-convert:hover {\n",
              "      background-color: #E2EBFA;\n",
              "      box-shadow: 0px 1px 2px rgba(60, 64, 67, 0.3), 0px 1px 3px 1px rgba(60, 64, 67, 0.15);\n",
              "      fill: #174EA6;\n",
              "    }\n",
              "\n",
              "    [theme=dark] .colab-df-convert {\n",
              "      background-color: #3B4455;\n",
              "      fill: #D2E3FC;\n",
              "    }\n",
              "\n",
              "    [theme=dark] .colab-df-convert:hover {\n",
              "      background-color: #434B5C;\n",
              "      box-shadow: 0px 1px 3px 1px rgba(0, 0, 0, 0.15);\n",
              "      filter: drop-shadow(0px 1px 2px rgba(0, 0, 0, 0.3));\n",
              "      fill: #FFFFFF;\n",
              "    }\n",
              "  </style>\n",
              "\n",
              "      <script>\n",
              "        const buttonEl =\n",
              "          document.querySelector('#df-e6e4de40-a46c-4e2b-9053-7b7a3c0eaa16 button.colab-df-convert');\n",
              "        buttonEl.style.display =\n",
              "          google.colab.kernel.accessAllowed ? 'block' : 'none';\n",
              "\n",
              "        async function convertToInteractive(key) {\n",
              "          const element = document.querySelector('#df-e6e4de40-a46c-4e2b-9053-7b7a3c0eaa16');\n",
              "          const dataTable =\n",
              "            await google.colab.kernel.invokeFunction('convertToInteractive',\n",
              "                                                     [key], {});\n",
              "          if (!dataTable) return;\n",
              "\n",
              "          const docLinkHtml = 'Like what you see? Visit the ' +\n",
              "            '<a target=\"_blank\" href=https://colab.research.google.com/notebooks/data_table.ipynb>data table notebook</a>'\n",
              "            + ' to learn more about interactive tables.';\n",
              "          element.innerHTML = '';\n",
              "          dataTable['output_type'] = 'display_data';\n",
              "          await google.colab.output.renderOutput(dataTable, element);\n",
              "          const docLink = document.createElement('div');\n",
              "          docLink.innerHTML = docLinkHtml;\n",
              "          element.appendChild(docLink);\n",
              "        }\n",
              "      </script>\n",
              "    </div>\n",
              "  </div>\n",
              "  "
            ]
          },
          "metadata": {},
          "execution_count": 28
        }
      ]
    },
    {
      "cell_type": "code",
      "source": [
        "corp.unstack()"
      ],
      "metadata": {
        "id": "AI7NtxcXeKN1",
        "colab": {
          "base_uri": "https://localhost:8080/",
          "height": 175
        },
        "outputId": "0dda4183-c690-4330-c21b-9a419b3a1a92"
      },
      "execution_count": 29,
      "outputs": [
        {
          "output_type": "execute_result",
          "data": {
            "text/plain": [
              "             101      201    301\n",
              "Americas   first   second  third\n",
              "AsiaPac    sixth  seventh    NaN\n",
              "Corp         NaN   eighth  ninth\n",
              "EMEA      fourth      NaN  fifth"
            ],
            "text/html": [
              "\n",
              "  <div id=\"df-3eaa7300-11d5-44d3-a1f3-487339300867\">\n",
              "    <div class=\"colab-df-container\">\n",
              "      <div>\n",
              "<style scoped>\n",
              "    .dataframe tbody tr th:only-of-type {\n",
              "        vertical-align: middle;\n",
              "    }\n",
              "\n",
              "    .dataframe tbody tr th {\n",
              "        vertical-align: top;\n",
              "    }\n",
              "\n",
              "    .dataframe thead th {\n",
              "        text-align: right;\n",
              "    }\n",
              "</style>\n",
              "<table border=\"1\" class=\"dataframe\">\n",
              "  <thead>\n",
              "    <tr style=\"text-align: right;\">\n",
              "      <th></th>\n",
              "      <th>101</th>\n",
              "      <th>201</th>\n",
              "      <th>301</th>\n",
              "    </tr>\n",
              "  </thead>\n",
              "  <tbody>\n",
              "    <tr>\n",
              "      <th>Americas</th>\n",
              "      <td>first</td>\n",
              "      <td>second</td>\n",
              "      <td>third</td>\n",
              "    </tr>\n",
              "    <tr>\n",
              "      <th>AsiaPac</th>\n",
              "      <td>sixth</td>\n",
              "      <td>seventh</td>\n",
              "      <td>NaN</td>\n",
              "    </tr>\n",
              "    <tr>\n",
              "      <th>Corp</th>\n",
              "      <td>NaN</td>\n",
              "      <td>eighth</td>\n",
              "      <td>ninth</td>\n",
              "    </tr>\n",
              "    <tr>\n",
              "      <th>EMEA</th>\n",
              "      <td>fourth</td>\n",
              "      <td>NaN</td>\n",
              "      <td>fifth</td>\n",
              "    </tr>\n",
              "  </tbody>\n",
              "</table>\n",
              "</div>\n",
              "      <button class=\"colab-df-convert\" onclick=\"convertToInteractive('df-3eaa7300-11d5-44d3-a1f3-487339300867')\"\n",
              "              title=\"Convert this dataframe to an interactive table.\"\n",
              "              style=\"display:none;\">\n",
              "        \n",
              "  <svg xmlns=\"http://www.w3.org/2000/svg\" height=\"24px\"viewBox=\"0 0 24 24\"\n",
              "       width=\"24px\">\n",
              "    <path d=\"M0 0h24v24H0V0z\" fill=\"none\"/>\n",
              "    <path d=\"M18.56 5.44l.94 2.06.94-2.06 2.06-.94-2.06-.94-.94-2.06-.94 2.06-2.06.94zm-11 1L8.5 8.5l.94-2.06 2.06-.94-2.06-.94L8.5 2.5l-.94 2.06-2.06.94zm10 10l.94 2.06.94-2.06 2.06-.94-2.06-.94-.94-2.06-.94 2.06-2.06.94z\"/><path d=\"M17.41 7.96l-1.37-1.37c-.4-.4-.92-.59-1.43-.59-.52 0-1.04.2-1.43.59L10.3 9.45l-7.72 7.72c-.78.78-.78 2.05 0 2.83L4 21.41c.39.39.9.59 1.41.59.51 0 1.02-.2 1.41-.59l7.78-7.78 2.81-2.81c.8-.78.8-2.07 0-2.86zM5.41 20L4 18.59l7.72-7.72 1.47 1.35L5.41 20z\"/>\n",
              "  </svg>\n",
              "      </button>\n",
              "      \n",
              "  <style>\n",
              "    .colab-df-container {\n",
              "      display:flex;\n",
              "      flex-wrap:wrap;\n",
              "      gap: 12px;\n",
              "    }\n",
              "\n",
              "    .colab-df-convert {\n",
              "      background-color: #E8F0FE;\n",
              "      border: none;\n",
              "      border-radius: 50%;\n",
              "      cursor: pointer;\n",
              "      display: none;\n",
              "      fill: #1967D2;\n",
              "      height: 32px;\n",
              "      padding: 0 0 0 0;\n",
              "      width: 32px;\n",
              "    }\n",
              "\n",
              "    .colab-df-convert:hover {\n",
              "      background-color: #E2EBFA;\n",
              "      box-shadow: 0px 1px 2px rgba(60, 64, 67, 0.3), 0px 1px 3px 1px rgba(60, 64, 67, 0.15);\n",
              "      fill: #174EA6;\n",
              "    }\n",
              "\n",
              "    [theme=dark] .colab-df-convert {\n",
              "      background-color: #3B4455;\n",
              "      fill: #D2E3FC;\n",
              "    }\n",
              "\n",
              "    [theme=dark] .colab-df-convert:hover {\n",
              "      background-color: #434B5C;\n",
              "      box-shadow: 0px 1px 3px 1px rgba(0, 0, 0, 0.15);\n",
              "      filter: drop-shadow(0px 1px 2px rgba(0, 0, 0, 0.3));\n",
              "      fill: #FFFFFF;\n",
              "    }\n",
              "  </style>\n",
              "\n",
              "      <script>\n",
              "        const buttonEl =\n",
              "          document.querySelector('#df-3eaa7300-11d5-44d3-a1f3-487339300867 button.colab-df-convert');\n",
              "        buttonEl.style.display =\n",
              "          google.colab.kernel.accessAllowed ? 'block' : 'none';\n",
              "\n",
              "        async function convertToInteractive(key) {\n",
              "          const element = document.querySelector('#df-3eaa7300-11d5-44d3-a1f3-487339300867');\n",
              "          const dataTable =\n",
              "            await google.colab.kernel.invokeFunction('convertToInteractive',\n",
              "                                                     [key], {});\n",
              "          if (!dataTable) return;\n",
              "\n",
              "          const docLinkHtml = 'Like what you see? Visit the ' +\n",
              "            '<a target=\"_blank\" href=https://colab.research.google.com/notebooks/data_table.ipynb>data table notebook</a>'\n",
              "            + ' to learn more about interactive tables.';\n",
              "          element.innerHTML = '';\n",
              "          dataTable['output_type'] = 'display_data';\n",
              "          await google.colab.output.renderOutput(dataTable, element);\n",
              "          const docLink = document.createElement('div');\n",
              "          docLink.innerHTML = docLinkHtml;\n",
              "          element.appendChild(docLink);\n",
              "        }\n",
              "      </script>\n",
              "    </div>\n",
              "  </div>\n",
              "  "
            ]
          },
          "metadata": {},
          "execution_count": 29
        }
      ]
    },
    {
      "cell_type": "markdown",
      "source": [
        "The inverse operation of unstack is stack:"
      ],
      "metadata": {
        "id": "_PxERJLL7IKL"
      }
    },
    {
      "cell_type": "code",
      "source": [
        "data_3.unstack().stack()"
      ],
      "metadata": {
        "id": "-P0OOS1r7I2g",
        "colab": {
          "base_uri": "https://localhost:8080/"
        },
        "outputId": "c9235edf-4248-4bbb-8562-01f2a9076f05"
      },
      "execution_count": 31,
      "outputs": [
        {
          "output_type": "execute_result",
          "data": {
            "text/plain": [
              "a  1   -0.730263\n",
              "   2    0.803144\n",
              "   3    0.705221\n",
              "b  1    0.564720\n",
              "   3   -0.444616\n",
              "c  1   -0.102345\n",
              "   2   -0.373366\n",
              "d  2    0.291703\n",
              "   3    2.392430\n",
              "dtype: float64"
            ]
          },
          "metadata": {},
          "execution_count": 31
        }
      ]
    },
    {
      "cell_type": "code",
      "source": [
        "corp.unstack().stack()"
      ],
      "metadata": {
        "id": "BzcHfcTwehIF",
        "colab": {
          "base_uri": "https://localhost:8080/"
        },
        "outputId": "17c97337-81fa-41ff-cbf9-0f92ddc3be86"
      },
      "execution_count": 32,
      "outputs": [
        {
          "output_type": "execute_result",
          "data": {
            "text/plain": [
              "Americas  101      first\n",
              "          201     second\n",
              "          301      third\n",
              "AsiaPac   101      sixth\n",
              "          201    seventh\n",
              "Corp      201     eighth\n",
              "          301      ninth\n",
              "EMEA      101     fourth\n",
              "          301      fifth\n",
              "dtype: object"
            ]
          },
          "metadata": {},
          "execution_count": 32
        }
      ]
    },
    {
      "cell_type": "markdown",
      "source": [
        "`stack` and `unstack` are explored in more detail in [Chapter 8 of Wes Mckinney's Python for Data Analysis](https://wesmckinney.com/book/data-wrangling.html)."
      ],
      "metadata": {
        "id": "emgys0mZ7Omf"
      }
    },
    {
      "cell_type": "markdown",
      "source": [
        "---"
      ],
      "metadata": {
        "id": "P9200wRXZbQF"
      }
    },
    {
      "cell_type": "markdown",
      "source": [
        "With a DataFrame, either axis can have a hierarchical index:\n"
      ],
      "metadata": {
        "id": "6a4eZpNn7rw1"
      }
    },
    {
      "cell_type": "code",
      "source": [
        "frame = pd.DataFrame(np.arange(12).reshape((4, 3)),\n",
        "            index=[['a', 'a', 'b', 'b'], [1, 2, 1, 2]],\n",
        "            columns=[['Ohio', 'Ohio', 'Colorado'],\n",
        "            ['Green', 'Red', 'Green']])"
      ],
      "metadata": {
        "id": "Wp4Vg6yQ7tQM"
      },
      "execution_count": 33,
      "outputs": []
    },
    {
      "cell_type": "code",
      "source": [
        "print(frame)"
      ],
      "metadata": {
        "id": "YC1Vpd8l7-IZ",
        "colab": {
          "base_uri": "https://localhost:8080/"
        },
        "outputId": "edc6ed8c-1e73-4182-f173-794e5e0d4d6d"
      },
      "execution_count": 34,
      "outputs": [
        {
          "output_type": "stream",
          "name": "stdout",
          "text": [
            "     Ohio     Colorado\n",
            "    Green Red    Green\n",
            "a 1     0   1        2\n",
            "  2     3   4        5\n",
            "b 1     6   7        8\n",
            "  2     9  10       11\n"
          ]
        }
      ]
    },
    {
      "cell_type": "markdown",
      "source": [
        "The hierarchical levels can have names (as strings or any Python objects). If so, these will show up in the console output:\n"
      ],
      "metadata": {
        "id": "qX2waJ9B78af"
      }
    },
    {
      "cell_type": "code",
      "source": [
        "# Assign key1 and key2 as `frame` index hierarchy names, respectively   \n",
        "frame.index.names = ['key1', 'key2'] \n",
        "\n",
        "# Assign state and color as `frame` column hierarchy names, respectively \n",
        "frame.columns.names = ['state', 'color']\n"
      ],
      "metadata": {
        "id": "69qy6EZ-8Fj4"
      },
      "execution_count": 42,
      "outputs": []
    },
    {
      "cell_type": "code",
      "source": [
        "print(frame)"
      ],
      "metadata": {
        "id": "sjqGsIVu8IYM",
        "colab": {
          "base_uri": "https://localhost:8080/"
        },
        "outputId": "efe0a141-9076-4723-8389-836e0c821ea5"
      },
      "execution_count": 36,
      "outputs": [
        {
          "output_type": "stream",
          "name": "stdout",
          "text": [
            "state      Ohio     Colorado\n",
            "color     Green Red    Green\n",
            "key1 key2                   \n",
            "a    1        0   1        2\n",
            "     2        3   4        5\n",
            "b    1        6   7        8\n",
            "     2        9  10       11\n"
          ]
        }
      ]
    },
    {
      "cell_type": "code",
      "source": [
        "# Assign key1 and key2 as `frame` index hierarchy names, respectively   \n",
        "frame.index.names = ['Region', 'Product'] \n",
        "\n",
        "# Assign state and color as `frame` column hierarchy names, respectively \n",
        "frame.columns.names = ['state', 'color']"
      ],
      "metadata": {
        "id": "0IGlQgAefb8_"
      },
      "execution_count": 46,
      "outputs": []
    },
    {
      "cell_type": "code",
      "source": [
        "print(frame)"
      ],
      "metadata": {
        "id": "D-rNkuFRfgpv",
        "colab": {
          "base_uri": "https://localhost:8080/"
        },
        "outputId": "28ac25fb-c464-45d5-bd39-9c1bedc553c3"
      },
      "execution_count": 47,
      "outputs": [
        {
          "output_type": "stream",
          "name": "stdout",
          "text": [
            "state           Ohio     Colorado\n",
            "color          Green Red    Green\n",
            "Region Product                   \n",
            "a      1           0   1        2\n",
            "       2           3   4        5\n",
            "b      1           6   7        8\n",
            "       2           9  10       11\n"
          ]
        }
      ]
    },
    {
      "cell_type": "markdown",
      "source": [
        "***Caution***    \n",
        "*Be careful to note the index names 'state' and 'color' are not part of the row labels (the `frame.index values`).*"
      ],
      "metadata": {
        "id": "19U_Km-28sN3"
      }
    },
    {
      "cell_type": "markdown",
      "source": [
        "With partial column indexing you can similarly select groups of columns:"
      ],
      "metadata": {
        "id": "WejlpZBF89yx"
      }
    },
    {
      "cell_type": "code",
      "source": [
        "frame['Ohio']"
      ],
      "metadata": {
        "id": "VtvBZ-Se8-wk",
        "colab": {
          "base_uri": "https://localhost:8080/",
          "height": 206
        },
        "outputId": "11b3399d-006f-470f-eac1-53075de4c739"
      },
      "execution_count": 48,
      "outputs": [
        {
          "output_type": "execute_result",
          "data": {
            "text/plain": [
              "color           Green  Red\n",
              "Region Product            \n",
              "a      1            0    1\n",
              "       2            3    4\n",
              "b      1            6    7\n",
              "       2            9   10"
            ],
            "text/html": [
              "\n",
              "  <div id=\"df-26c20bf0-1d72-4cca-8e10-4376233134f2\">\n",
              "    <div class=\"colab-df-container\">\n",
              "      <div>\n",
              "<style scoped>\n",
              "    .dataframe tbody tr th:only-of-type {\n",
              "        vertical-align: middle;\n",
              "    }\n",
              "\n",
              "    .dataframe tbody tr th {\n",
              "        vertical-align: top;\n",
              "    }\n",
              "\n",
              "    .dataframe thead th {\n",
              "        text-align: right;\n",
              "    }\n",
              "</style>\n",
              "<table border=\"1\" class=\"dataframe\">\n",
              "  <thead>\n",
              "    <tr style=\"text-align: right;\">\n",
              "      <th></th>\n",
              "      <th>color</th>\n",
              "      <th>Green</th>\n",
              "      <th>Red</th>\n",
              "    </tr>\n",
              "    <tr>\n",
              "      <th>Region</th>\n",
              "      <th>Product</th>\n",
              "      <th></th>\n",
              "      <th></th>\n",
              "    </tr>\n",
              "  </thead>\n",
              "  <tbody>\n",
              "    <tr>\n",
              "      <th rowspan=\"2\" valign=\"top\">a</th>\n",
              "      <th>1</th>\n",
              "      <td>0</td>\n",
              "      <td>1</td>\n",
              "    </tr>\n",
              "    <tr>\n",
              "      <th>2</th>\n",
              "      <td>3</td>\n",
              "      <td>4</td>\n",
              "    </tr>\n",
              "    <tr>\n",
              "      <th rowspan=\"2\" valign=\"top\">b</th>\n",
              "      <th>1</th>\n",
              "      <td>6</td>\n",
              "      <td>7</td>\n",
              "    </tr>\n",
              "    <tr>\n",
              "      <th>2</th>\n",
              "      <td>9</td>\n",
              "      <td>10</td>\n",
              "    </tr>\n",
              "  </tbody>\n",
              "</table>\n",
              "</div>\n",
              "      <button class=\"colab-df-convert\" onclick=\"convertToInteractive('df-26c20bf0-1d72-4cca-8e10-4376233134f2')\"\n",
              "              title=\"Convert this dataframe to an interactive table.\"\n",
              "              style=\"display:none;\">\n",
              "        \n",
              "  <svg xmlns=\"http://www.w3.org/2000/svg\" height=\"24px\"viewBox=\"0 0 24 24\"\n",
              "       width=\"24px\">\n",
              "    <path d=\"M0 0h24v24H0V0z\" fill=\"none\"/>\n",
              "    <path d=\"M18.56 5.44l.94 2.06.94-2.06 2.06-.94-2.06-.94-.94-2.06-.94 2.06-2.06.94zm-11 1L8.5 8.5l.94-2.06 2.06-.94-2.06-.94L8.5 2.5l-.94 2.06-2.06.94zm10 10l.94 2.06.94-2.06 2.06-.94-2.06-.94-.94-2.06-.94 2.06-2.06.94z\"/><path d=\"M17.41 7.96l-1.37-1.37c-.4-.4-.92-.59-1.43-.59-.52 0-1.04.2-1.43.59L10.3 9.45l-7.72 7.72c-.78.78-.78 2.05 0 2.83L4 21.41c.39.39.9.59 1.41.59.51 0 1.02-.2 1.41-.59l7.78-7.78 2.81-2.81c.8-.78.8-2.07 0-2.86zM5.41 20L4 18.59l7.72-7.72 1.47 1.35L5.41 20z\"/>\n",
              "  </svg>\n",
              "      </button>\n",
              "      \n",
              "  <style>\n",
              "    .colab-df-container {\n",
              "      display:flex;\n",
              "      flex-wrap:wrap;\n",
              "      gap: 12px;\n",
              "    }\n",
              "\n",
              "    .colab-df-convert {\n",
              "      background-color: #E8F0FE;\n",
              "      border: none;\n",
              "      border-radius: 50%;\n",
              "      cursor: pointer;\n",
              "      display: none;\n",
              "      fill: #1967D2;\n",
              "      height: 32px;\n",
              "      padding: 0 0 0 0;\n",
              "      width: 32px;\n",
              "    }\n",
              "\n",
              "    .colab-df-convert:hover {\n",
              "      background-color: #E2EBFA;\n",
              "      box-shadow: 0px 1px 2px rgba(60, 64, 67, 0.3), 0px 1px 3px 1px rgba(60, 64, 67, 0.15);\n",
              "      fill: #174EA6;\n",
              "    }\n",
              "\n",
              "    [theme=dark] .colab-df-convert {\n",
              "      background-color: #3B4455;\n",
              "      fill: #D2E3FC;\n",
              "    }\n",
              "\n",
              "    [theme=dark] .colab-df-convert:hover {\n",
              "      background-color: #434B5C;\n",
              "      box-shadow: 0px 1px 3px 1px rgba(0, 0, 0, 0.15);\n",
              "      filter: drop-shadow(0px 1px 2px rgba(0, 0, 0, 0.3));\n",
              "      fill: #FFFFFF;\n",
              "    }\n",
              "  </style>\n",
              "\n",
              "      <script>\n",
              "        const buttonEl =\n",
              "          document.querySelector('#df-26c20bf0-1d72-4cca-8e10-4376233134f2 button.colab-df-convert');\n",
              "        buttonEl.style.display =\n",
              "          google.colab.kernel.accessAllowed ? 'block' : 'none';\n",
              "\n",
              "        async function convertToInteractive(key) {\n",
              "          const element = document.querySelector('#df-26c20bf0-1d72-4cca-8e10-4376233134f2');\n",
              "          const dataTable =\n",
              "            await google.colab.kernel.invokeFunction('convertToInteractive',\n",
              "                                                     [key], {});\n",
              "          if (!dataTable) return;\n",
              "\n",
              "          const docLinkHtml = 'Like what you see? Visit the ' +\n",
              "            '<a target=\"_blank\" href=https://colab.research.google.com/notebooks/data_table.ipynb>data table notebook</a>'\n",
              "            + ' to learn more about interactive tables.';\n",
              "          element.innerHTML = '';\n",
              "          dataTable['output_type'] = 'display_data';\n",
              "          await google.colab.output.renderOutput(dataTable, element);\n",
              "          const docLink = document.createElement('div');\n",
              "          docLink.innerHTML = docLinkHtml;\n",
              "          element.appendChild(docLink);\n",
              "        }\n",
              "      </script>\n",
              "    </div>\n",
              "  </div>\n",
              "  "
            ]
          },
          "metadata": {},
          "execution_count": 48
        }
      ]
    },
    {
      "cell_type": "markdown",
      "source": [
        "A `MultiIndex` can be created by itself and then reused; the columns in the preceding DataFrame with level names could be created like this:"
      ],
      "metadata": {
        "id": "iZ6wW0o39CpZ"
      }
    },
    {
      "cell_type": "code",
      "source": [
        "pd.MultiIndex.from_arrays([['Ohio', 'Ohio', 'Colorado'],\n",
        "                          ['Green', 'Red', 'Green']],\n",
        "                          names=['state', 'color'])"
      ],
      "metadata": {
        "id": "XitjF5F69NfU",
        "colab": {
          "base_uri": "https://localhost:8080/"
        },
        "outputId": "0742a9d9-9333-4d8a-f893-57804c677010"
      },
      "execution_count": 40,
      "outputs": [
        {
          "output_type": "execute_result",
          "data": {
            "text/plain": [
              "MultiIndex([(    'Ohio', 'Green'),\n",
              "            (    'Ohio',   'Red'),\n",
              "            ('Colorado', 'Green')],\n",
              "           names=['state', 'color'])"
            ]
          },
          "metadata": {},
          "execution_count": 40
        }
      ]
    },
    {
      "cell_type": "markdown",
      "source": [
        "###Reordering and Sorting Levels    \n",
        "\n"
      ],
      "metadata": {
        "id": "GS9z_gY89ZeV"
      }
    },
    {
      "cell_type": "markdown",
      "source": [
        "At times you may need to rearrange the order of the levels on an axis or sort the data by the values in one specific level. The swaplevel takes two level numbers or names and returns a new object with the levels interchanged (but the data is otherwise unaltered):"
      ],
      "metadata": {
        "id": "R8gXzYP_9et8"
      }
    },
    {
      "cell_type": "code",
      "source": [
        "# frame.swaplevel('key1', 'key2')  # not applicable due to `Region` `Product` assignment earlier\n",
        "frame.swaplevel('Region', 'Product')  "
      ],
      "metadata": {
        "id": "oqCC8GXc9fyr",
        "colab": {
          "base_uri": "https://localhost:8080/",
          "height": 237
        },
        "outputId": "8fe77f84-1d7d-4217-b6cb-fce8b54295ff"
      },
      "execution_count": 49,
      "outputs": [
        {
          "output_type": "execute_result",
          "data": {
            "text/plain": [
              "state           Ohio     Colorado\n",
              "color          Green Red    Green\n",
              "Product Region                   \n",
              "1       a          0   1        2\n",
              "2       a          3   4        5\n",
              "1       b          6   7        8\n",
              "2       b          9  10       11"
            ],
            "text/html": [
              "\n",
              "  <div id=\"df-2d3954d6-1aa7-46db-b01e-7cf179b8bc97\">\n",
              "    <div class=\"colab-df-container\">\n",
              "      <div>\n",
              "<style scoped>\n",
              "    .dataframe tbody tr th:only-of-type {\n",
              "        vertical-align: middle;\n",
              "    }\n",
              "\n",
              "    .dataframe tbody tr th {\n",
              "        vertical-align: top;\n",
              "    }\n",
              "\n",
              "    .dataframe thead tr th {\n",
              "        text-align: left;\n",
              "    }\n",
              "\n",
              "    .dataframe thead tr:last-of-type th {\n",
              "        text-align: right;\n",
              "    }\n",
              "</style>\n",
              "<table border=\"1\" class=\"dataframe\">\n",
              "  <thead>\n",
              "    <tr>\n",
              "      <th></th>\n",
              "      <th>state</th>\n",
              "      <th colspan=\"2\" halign=\"left\">Ohio</th>\n",
              "      <th>Colorado</th>\n",
              "    </tr>\n",
              "    <tr>\n",
              "      <th></th>\n",
              "      <th>color</th>\n",
              "      <th>Green</th>\n",
              "      <th>Red</th>\n",
              "      <th>Green</th>\n",
              "    </tr>\n",
              "    <tr>\n",
              "      <th>Product</th>\n",
              "      <th>Region</th>\n",
              "      <th></th>\n",
              "      <th></th>\n",
              "      <th></th>\n",
              "    </tr>\n",
              "  </thead>\n",
              "  <tbody>\n",
              "    <tr>\n",
              "      <th>1</th>\n",
              "      <th>a</th>\n",
              "      <td>0</td>\n",
              "      <td>1</td>\n",
              "      <td>2</td>\n",
              "    </tr>\n",
              "    <tr>\n",
              "      <th>2</th>\n",
              "      <th>a</th>\n",
              "      <td>3</td>\n",
              "      <td>4</td>\n",
              "      <td>5</td>\n",
              "    </tr>\n",
              "    <tr>\n",
              "      <th>1</th>\n",
              "      <th>b</th>\n",
              "      <td>6</td>\n",
              "      <td>7</td>\n",
              "      <td>8</td>\n",
              "    </tr>\n",
              "    <tr>\n",
              "      <th>2</th>\n",
              "      <th>b</th>\n",
              "      <td>9</td>\n",
              "      <td>10</td>\n",
              "      <td>11</td>\n",
              "    </tr>\n",
              "  </tbody>\n",
              "</table>\n",
              "</div>\n",
              "      <button class=\"colab-df-convert\" onclick=\"convertToInteractive('df-2d3954d6-1aa7-46db-b01e-7cf179b8bc97')\"\n",
              "              title=\"Convert this dataframe to an interactive table.\"\n",
              "              style=\"display:none;\">\n",
              "        \n",
              "  <svg xmlns=\"http://www.w3.org/2000/svg\" height=\"24px\"viewBox=\"0 0 24 24\"\n",
              "       width=\"24px\">\n",
              "    <path d=\"M0 0h24v24H0V0z\" fill=\"none\"/>\n",
              "    <path d=\"M18.56 5.44l.94 2.06.94-2.06 2.06-.94-2.06-.94-.94-2.06-.94 2.06-2.06.94zm-11 1L8.5 8.5l.94-2.06 2.06-.94-2.06-.94L8.5 2.5l-.94 2.06-2.06.94zm10 10l.94 2.06.94-2.06 2.06-.94-2.06-.94-.94-2.06-.94 2.06-2.06.94z\"/><path d=\"M17.41 7.96l-1.37-1.37c-.4-.4-.92-.59-1.43-.59-.52 0-1.04.2-1.43.59L10.3 9.45l-7.72 7.72c-.78.78-.78 2.05 0 2.83L4 21.41c.39.39.9.59 1.41.59.51 0 1.02-.2 1.41-.59l7.78-7.78 2.81-2.81c.8-.78.8-2.07 0-2.86zM5.41 20L4 18.59l7.72-7.72 1.47 1.35L5.41 20z\"/>\n",
              "  </svg>\n",
              "      </button>\n",
              "      \n",
              "  <style>\n",
              "    .colab-df-container {\n",
              "      display:flex;\n",
              "      flex-wrap:wrap;\n",
              "      gap: 12px;\n",
              "    }\n",
              "\n",
              "    .colab-df-convert {\n",
              "      background-color: #E8F0FE;\n",
              "      border: none;\n",
              "      border-radius: 50%;\n",
              "      cursor: pointer;\n",
              "      display: none;\n",
              "      fill: #1967D2;\n",
              "      height: 32px;\n",
              "      padding: 0 0 0 0;\n",
              "      width: 32px;\n",
              "    }\n",
              "\n",
              "    .colab-df-convert:hover {\n",
              "      background-color: #E2EBFA;\n",
              "      box-shadow: 0px 1px 2px rgba(60, 64, 67, 0.3), 0px 1px 3px 1px rgba(60, 64, 67, 0.15);\n",
              "      fill: #174EA6;\n",
              "    }\n",
              "\n",
              "    [theme=dark] .colab-df-convert {\n",
              "      background-color: #3B4455;\n",
              "      fill: #D2E3FC;\n",
              "    }\n",
              "\n",
              "    [theme=dark] .colab-df-convert:hover {\n",
              "      background-color: #434B5C;\n",
              "      box-shadow: 0px 1px 3px 1px rgba(0, 0, 0, 0.15);\n",
              "      filter: drop-shadow(0px 1px 2px rgba(0, 0, 0, 0.3));\n",
              "      fill: #FFFFFF;\n",
              "    }\n",
              "  </style>\n",
              "\n",
              "      <script>\n",
              "        const buttonEl =\n",
              "          document.querySelector('#df-2d3954d6-1aa7-46db-b01e-7cf179b8bc97 button.colab-df-convert');\n",
              "        buttonEl.style.display =\n",
              "          google.colab.kernel.accessAllowed ? 'block' : 'none';\n",
              "\n",
              "        async function convertToInteractive(key) {\n",
              "          const element = document.querySelector('#df-2d3954d6-1aa7-46db-b01e-7cf179b8bc97');\n",
              "          const dataTable =\n",
              "            await google.colab.kernel.invokeFunction('convertToInteractive',\n",
              "                                                     [key], {});\n",
              "          if (!dataTable) return;\n",
              "\n",
              "          const docLinkHtml = 'Like what you see? Visit the ' +\n",
              "            '<a target=\"_blank\" href=https://colab.research.google.com/notebooks/data_table.ipynb>data table notebook</a>'\n",
              "            + ' to learn more about interactive tables.';\n",
              "          element.innerHTML = '';\n",
              "          dataTable['output_type'] = 'display_data';\n",
              "          await google.colab.output.renderOutput(dataTable, element);\n",
              "          const docLink = document.createElement('div');\n",
              "          docLink.innerHTML = docLinkHtml;\n",
              "          element.appendChild(docLink);\n",
              "        }\n",
              "      </script>\n",
              "    </div>\n",
              "  </div>\n",
              "  "
            ]
          },
          "metadata": {},
          "execution_count": 49
        }
      ]
    },
    {
      "cell_type": "markdown",
      "source": [
        "`sort_index`, on the other hand, sorts the data using only the values in a single level. When swapping levels, it’s not uncommon to also use `sort_index` so that the result is lexicographically sorted by the indicated level:"
      ],
      "metadata": {
        "id": "UQ3xB28n9ls1"
      }
    },
    {
      "cell_type": "code",
      "source": [
        "frame.sort_index(level=1)"
      ],
      "metadata": {
        "id": "yyWwJuuZ9rq8",
        "colab": {
          "base_uri": "https://localhost:8080/",
          "height": 237
        },
        "outputId": "c307bae7-81b9-44bf-979a-83e3568fba2a"
      },
      "execution_count": 50,
      "outputs": [
        {
          "output_type": "execute_result",
          "data": {
            "text/plain": [
              "state           Ohio     Colorado\n",
              "color          Green Red    Green\n",
              "Region Product                   \n",
              "a      1           0   1        2\n",
              "b      1           6   7        8\n",
              "a      2           3   4        5\n",
              "b      2           9  10       11"
            ],
            "text/html": [
              "\n",
              "  <div id=\"df-2511e03e-326e-486a-8b73-7e54c05c1f0e\">\n",
              "    <div class=\"colab-df-container\">\n",
              "      <div>\n",
              "<style scoped>\n",
              "    .dataframe tbody tr th:only-of-type {\n",
              "        vertical-align: middle;\n",
              "    }\n",
              "\n",
              "    .dataframe tbody tr th {\n",
              "        vertical-align: top;\n",
              "    }\n",
              "\n",
              "    .dataframe thead tr th {\n",
              "        text-align: left;\n",
              "    }\n",
              "\n",
              "    .dataframe thead tr:last-of-type th {\n",
              "        text-align: right;\n",
              "    }\n",
              "</style>\n",
              "<table border=\"1\" class=\"dataframe\">\n",
              "  <thead>\n",
              "    <tr>\n",
              "      <th></th>\n",
              "      <th>state</th>\n",
              "      <th colspan=\"2\" halign=\"left\">Ohio</th>\n",
              "      <th>Colorado</th>\n",
              "    </tr>\n",
              "    <tr>\n",
              "      <th></th>\n",
              "      <th>color</th>\n",
              "      <th>Green</th>\n",
              "      <th>Red</th>\n",
              "      <th>Green</th>\n",
              "    </tr>\n",
              "    <tr>\n",
              "      <th>Region</th>\n",
              "      <th>Product</th>\n",
              "      <th></th>\n",
              "      <th></th>\n",
              "      <th></th>\n",
              "    </tr>\n",
              "  </thead>\n",
              "  <tbody>\n",
              "    <tr>\n",
              "      <th>a</th>\n",
              "      <th>1</th>\n",
              "      <td>0</td>\n",
              "      <td>1</td>\n",
              "      <td>2</td>\n",
              "    </tr>\n",
              "    <tr>\n",
              "      <th>b</th>\n",
              "      <th>1</th>\n",
              "      <td>6</td>\n",
              "      <td>7</td>\n",
              "      <td>8</td>\n",
              "    </tr>\n",
              "    <tr>\n",
              "      <th>a</th>\n",
              "      <th>2</th>\n",
              "      <td>3</td>\n",
              "      <td>4</td>\n",
              "      <td>5</td>\n",
              "    </tr>\n",
              "    <tr>\n",
              "      <th>b</th>\n",
              "      <th>2</th>\n",
              "      <td>9</td>\n",
              "      <td>10</td>\n",
              "      <td>11</td>\n",
              "    </tr>\n",
              "  </tbody>\n",
              "</table>\n",
              "</div>\n",
              "      <button class=\"colab-df-convert\" onclick=\"convertToInteractive('df-2511e03e-326e-486a-8b73-7e54c05c1f0e')\"\n",
              "              title=\"Convert this dataframe to an interactive table.\"\n",
              "              style=\"display:none;\">\n",
              "        \n",
              "  <svg xmlns=\"http://www.w3.org/2000/svg\" height=\"24px\"viewBox=\"0 0 24 24\"\n",
              "       width=\"24px\">\n",
              "    <path d=\"M0 0h24v24H0V0z\" fill=\"none\"/>\n",
              "    <path d=\"M18.56 5.44l.94 2.06.94-2.06 2.06-.94-2.06-.94-.94-2.06-.94 2.06-2.06.94zm-11 1L8.5 8.5l.94-2.06 2.06-.94-2.06-.94L8.5 2.5l-.94 2.06-2.06.94zm10 10l.94 2.06.94-2.06 2.06-.94-2.06-.94-.94-2.06-.94 2.06-2.06.94z\"/><path d=\"M17.41 7.96l-1.37-1.37c-.4-.4-.92-.59-1.43-.59-.52 0-1.04.2-1.43.59L10.3 9.45l-7.72 7.72c-.78.78-.78 2.05 0 2.83L4 21.41c.39.39.9.59 1.41.59.51 0 1.02-.2 1.41-.59l7.78-7.78 2.81-2.81c.8-.78.8-2.07 0-2.86zM5.41 20L4 18.59l7.72-7.72 1.47 1.35L5.41 20z\"/>\n",
              "  </svg>\n",
              "      </button>\n",
              "      \n",
              "  <style>\n",
              "    .colab-df-container {\n",
              "      display:flex;\n",
              "      flex-wrap:wrap;\n",
              "      gap: 12px;\n",
              "    }\n",
              "\n",
              "    .colab-df-convert {\n",
              "      background-color: #E8F0FE;\n",
              "      border: none;\n",
              "      border-radius: 50%;\n",
              "      cursor: pointer;\n",
              "      display: none;\n",
              "      fill: #1967D2;\n",
              "      height: 32px;\n",
              "      padding: 0 0 0 0;\n",
              "      width: 32px;\n",
              "    }\n",
              "\n",
              "    .colab-df-convert:hover {\n",
              "      background-color: #E2EBFA;\n",
              "      box-shadow: 0px 1px 2px rgba(60, 64, 67, 0.3), 0px 1px 3px 1px rgba(60, 64, 67, 0.15);\n",
              "      fill: #174EA6;\n",
              "    }\n",
              "\n",
              "    [theme=dark] .colab-df-convert {\n",
              "      background-color: #3B4455;\n",
              "      fill: #D2E3FC;\n",
              "    }\n",
              "\n",
              "    [theme=dark] .colab-df-convert:hover {\n",
              "      background-color: #434B5C;\n",
              "      box-shadow: 0px 1px 3px 1px rgba(0, 0, 0, 0.15);\n",
              "      filter: drop-shadow(0px 1px 2px rgba(0, 0, 0, 0.3));\n",
              "      fill: #FFFFFF;\n",
              "    }\n",
              "  </style>\n",
              "\n",
              "      <script>\n",
              "        const buttonEl =\n",
              "          document.querySelector('#df-2511e03e-326e-486a-8b73-7e54c05c1f0e button.colab-df-convert');\n",
              "        buttonEl.style.display =\n",
              "          google.colab.kernel.accessAllowed ? 'block' : 'none';\n",
              "\n",
              "        async function convertToInteractive(key) {\n",
              "          const element = document.querySelector('#df-2511e03e-326e-486a-8b73-7e54c05c1f0e');\n",
              "          const dataTable =\n",
              "            await google.colab.kernel.invokeFunction('convertToInteractive',\n",
              "                                                     [key], {});\n",
              "          if (!dataTable) return;\n",
              "\n",
              "          const docLinkHtml = 'Like what you see? Visit the ' +\n",
              "            '<a target=\"_blank\" href=https://colab.research.google.com/notebooks/data_table.ipynb>data table notebook</a>'\n",
              "            + ' to learn more about interactive tables.';\n",
              "          element.innerHTML = '';\n",
              "          dataTable['output_type'] = 'display_data';\n",
              "          await google.colab.output.renderOutput(dataTable, element);\n",
              "          const docLink = document.createElement('div');\n",
              "          docLink.innerHTML = docLinkHtml;\n",
              "          element.appendChild(docLink);\n",
              "        }\n",
              "      </script>\n",
              "    </div>\n",
              "  </div>\n",
              "  "
            ]
          },
          "metadata": {},
          "execution_count": 50
        }
      ]
    },
    {
      "cell_type": "code",
      "source": [
        "frame.swaplevel(0, 1).sort_index(level=0)"
      ],
      "metadata": {
        "id": "AfLN8QGm-Pio",
        "colab": {
          "base_uri": "https://localhost:8080/",
          "height": 237
        },
        "outputId": "ad0b3c53-34f6-40a7-e4b0-8d40344e4356"
      },
      "execution_count": 51,
      "outputs": [
        {
          "output_type": "execute_result",
          "data": {
            "text/plain": [
              "state           Ohio     Colorado\n",
              "color          Green Red    Green\n",
              "Product Region                   \n",
              "1       a          0   1        2\n",
              "        b          6   7        8\n",
              "2       a          3   4        5\n",
              "        b          9  10       11"
            ],
            "text/html": [
              "\n",
              "  <div id=\"df-fc9744ad-8caf-4893-a5c0-1b717cc0f5a8\">\n",
              "    <div class=\"colab-df-container\">\n",
              "      <div>\n",
              "<style scoped>\n",
              "    .dataframe tbody tr th:only-of-type {\n",
              "        vertical-align: middle;\n",
              "    }\n",
              "\n",
              "    .dataframe tbody tr th {\n",
              "        vertical-align: top;\n",
              "    }\n",
              "\n",
              "    .dataframe thead tr th {\n",
              "        text-align: left;\n",
              "    }\n",
              "\n",
              "    .dataframe thead tr:last-of-type th {\n",
              "        text-align: right;\n",
              "    }\n",
              "</style>\n",
              "<table border=\"1\" class=\"dataframe\">\n",
              "  <thead>\n",
              "    <tr>\n",
              "      <th></th>\n",
              "      <th>state</th>\n",
              "      <th colspan=\"2\" halign=\"left\">Ohio</th>\n",
              "      <th>Colorado</th>\n",
              "    </tr>\n",
              "    <tr>\n",
              "      <th></th>\n",
              "      <th>color</th>\n",
              "      <th>Green</th>\n",
              "      <th>Red</th>\n",
              "      <th>Green</th>\n",
              "    </tr>\n",
              "    <tr>\n",
              "      <th>Product</th>\n",
              "      <th>Region</th>\n",
              "      <th></th>\n",
              "      <th></th>\n",
              "      <th></th>\n",
              "    </tr>\n",
              "  </thead>\n",
              "  <tbody>\n",
              "    <tr>\n",
              "      <th rowspan=\"2\" valign=\"top\">1</th>\n",
              "      <th>a</th>\n",
              "      <td>0</td>\n",
              "      <td>1</td>\n",
              "      <td>2</td>\n",
              "    </tr>\n",
              "    <tr>\n",
              "      <th>b</th>\n",
              "      <td>6</td>\n",
              "      <td>7</td>\n",
              "      <td>8</td>\n",
              "    </tr>\n",
              "    <tr>\n",
              "      <th rowspan=\"2\" valign=\"top\">2</th>\n",
              "      <th>a</th>\n",
              "      <td>3</td>\n",
              "      <td>4</td>\n",
              "      <td>5</td>\n",
              "    </tr>\n",
              "    <tr>\n",
              "      <th>b</th>\n",
              "      <td>9</td>\n",
              "      <td>10</td>\n",
              "      <td>11</td>\n",
              "    </tr>\n",
              "  </tbody>\n",
              "</table>\n",
              "</div>\n",
              "      <button class=\"colab-df-convert\" onclick=\"convertToInteractive('df-fc9744ad-8caf-4893-a5c0-1b717cc0f5a8')\"\n",
              "              title=\"Convert this dataframe to an interactive table.\"\n",
              "              style=\"display:none;\">\n",
              "        \n",
              "  <svg xmlns=\"http://www.w3.org/2000/svg\" height=\"24px\"viewBox=\"0 0 24 24\"\n",
              "       width=\"24px\">\n",
              "    <path d=\"M0 0h24v24H0V0z\" fill=\"none\"/>\n",
              "    <path d=\"M18.56 5.44l.94 2.06.94-2.06 2.06-.94-2.06-.94-.94-2.06-.94 2.06-2.06.94zm-11 1L8.5 8.5l.94-2.06 2.06-.94-2.06-.94L8.5 2.5l-.94 2.06-2.06.94zm10 10l.94 2.06.94-2.06 2.06-.94-2.06-.94-.94-2.06-.94 2.06-2.06.94z\"/><path d=\"M17.41 7.96l-1.37-1.37c-.4-.4-.92-.59-1.43-.59-.52 0-1.04.2-1.43.59L10.3 9.45l-7.72 7.72c-.78.78-.78 2.05 0 2.83L4 21.41c.39.39.9.59 1.41.59.51 0 1.02-.2 1.41-.59l7.78-7.78 2.81-2.81c.8-.78.8-2.07 0-2.86zM5.41 20L4 18.59l7.72-7.72 1.47 1.35L5.41 20z\"/>\n",
              "  </svg>\n",
              "      </button>\n",
              "      \n",
              "  <style>\n",
              "    .colab-df-container {\n",
              "      display:flex;\n",
              "      flex-wrap:wrap;\n",
              "      gap: 12px;\n",
              "    }\n",
              "\n",
              "    .colab-df-convert {\n",
              "      background-color: #E8F0FE;\n",
              "      border: none;\n",
              "      border-radius: 50%;\n",
              "      cursor: pointer;\n",
              "      display: none;\n",
              "      fill: #1967D2;\n",
              "      height: 32px;\n",
              "      padding: 0 0 0 0;\n",
              "      width: 32px;\n",
              "    }\n",
              "\n",
              "    .colab-df-convert:hover {\n",
              "      background-color: #E2EBFA;\n",
              "      box-shadow: 0px 1px 2px rgba(60, 64, 67, 0.3), 0px 1px 3px 1px rgba(60, 64, 67, 0.15);\n",
              "      fill: #174EA6;\n",
              "    }\n",
              "\n",
              "    [theme=dark] .colab-df-convert {\n",
              "      background-color: #3B4455;\n",
              "      fill: #D2E3FC;\n",
              "    }\n",
              "\n",
              "    [theme=dark] .colab-df-convert:hover {\n",
              "      background-color: #434B5C;\n",
              "      box-shadow: 0px 1px 3px 1px rgba(0, 0, 0, 0.15);\n",
              "      filter: drop-shadow(0px 1px 2px rgba(0, 0, 0, 0.3));\n",
              "      fill: #FFFFFF;\n",
              "    }\n",
              "  </style>\n",
              "\n",
              "      <script>\n",
              "        const buttonEl =\n",
              "          document.querySelector('#df-fc9744ad-8caf-4893-a5c0-1b717cc0f5a8 button.colab-df-convert');\n",
              "        buttonEl.style.display =\n",
              "          google.colab.kernel.accessAllowed ? 'block' : 'none';\n",
              "\n",
              "        async function convertToInteractive(key) {\n",
              "          const element = document.querySelector('#df-fc9744ad-8caf-4893-a5c0-1b717cc0f5a8');\n",
              "          const dataTable =\n",
              "            await google.colab.kernel.invokeFunction('convertToInteractive',\n",
              "                                                     [key], {});\n",
              "          if (!dataTable) return;\n",
              "\n",
              "          const docLinkHtml = 'Like what you see? Visit the ' +\n",
              "            '<a target=\"_blank\" href=https://colab.research.google.com/notebooks/data_table.ipynb>data table notebook</a>'\n",
              "            + ' to learn more about interactive tables.';\n",
              "          element.innerHTML = '';\n",
              "          dataTable['output_type'] = 'display_data';\n",
              "          await google.colab.output.renderOutput(dataTable, element);\n",
              "          const docLink = document.createElement('div');\n",
              "          docLink.innerHTML = docLinkHtml;\n",
              "          element.appendChild(docLink);\n",
              "        }\n",
              "      </script>\n",
              "    </div>\n",
              "  </div>\n",
              "  "
            ]
          },
          "metadata": {},
          "execution_count": 51
        }
      ]
    },
    {
      "cell_type": "markdown",
      "source": [
        "***Note:***    \n",
        "\n",
        "*Data selection performance is much better on hierarchically indexed objects if the index is lexicographically sorted starting with the outermost level—that is, the result of calling `sort_index(level=0)` or `sort_index()`.*    \n",
        "\n"
      ],
      "metadata": {
        "id": "6IrHx6vt-dfK"
      }
    },
    {
      "cell_type": "markdown",
      "source": [
        "###Summary Statistics by Level    \n",
        "\n"
      ],
      "metadata": {
        "id": "pMHdKxtS-iaq"
      }
    },
    {
      "cell_type": "markdown",
      "source": [
        "Many descriptive and summary statistics on DataFrame and Series have a `level` option in which you can specify the level you want to aggregate by on a particular axis. Consider the above DataFrame; we can aggregate by `level` on either the rows or columns like so:"
      ],
      "metadata": {
        "id": "Ay9Q0Mqo-ljF"
      }
    },
    {
      "cell_type": "code",
      "source": [
        "frame"
      ],
      "metadata": {
        "id": "znH_oTAshk9N",
        "colab": {
          "base_uri": "https://localhost:8080/",
          "height": 237
        },
        "outputId": "4cb9a05b-6778-40f5-f0aa-50b8f8612f53"
      },
      "execution_count": 52,
      "outputs": [
        {
          "output_type": "execute_result",
          "data": {
            "text/plain": [
              "state           Ohio     Colorado\n",
              "color          Green Red    Green\n",
              "Region Product                   \n",
              "a      1           0   1        2\n",
              "       2           3   4        5\n",
              "b      1           6   7        8\n",
              "       2           9  10       11"
            ],
            "text/html": [
              "\n",
              "  <div id=\"df-7ff04623-7fdf-435a-a9e9-8eb3b3142520\">\n",
              "    <div class=\"colab-df-container\">\n",
              "      <div>\n",
              "<style scoped>\n",
              "    .dataframe tbody tr th:only-of-type {\n",
              "        vertical-align: middle;\n",
              "    }\n",
              "\n",
              "    .dataframe tbody tr th {\n",
              "        vertical-align: top;\n",
              "    }\n",
              "\n",
              "    .dataframe thead tr th {\n",
              "        text-align: left;\n",
              "    }\n",
              "\n",
              "    .dataframe thead tr:last-of-type th {\n",
              "        text-align: right;\n",
              "    }\n",
              "</style>\n",
              "<table border=\"1\" class=\"dataframe\">\n",
              "  <thead>\n",
              "    <tr>\n",
              "      <th></th>\n",
              "      <th>state</th>\n",
              "      <th colspan=\"2\" halign=\"left\">Ohio</th>\n",
              "      <th>Colorado</th>\n",
              "    </tr>\n",
              "    <tr>\n",
              "      <th></th>\n",
              "      <th>color</th>\n",
              "      <th>Green</th>\n",
              "      <th>Red</th>\n",
              "      <th>Green</th>\n",
              "    </tr>\n",
              "    <tr>\n",
              "      <th>Region</th>\n",
              "      <th>Product</th>\n",
              "      <th></th>\n",
              "      <th></th>\n",
              "      <th></th>\n",
              "    </tr>\n",
              "  </thead>\n",
              "  <tbody>\n",
              "    <tr>\n",
              "      <th rowspan=\"2\" valign=\"top\">a</th>\n",
              "      <th>1</th>\n",
              "      <td>0</td>\n",
              "      <td>1</td>\n",
              "      <td>2</td>\n",
              "    </tr>\n",
              "    <tr>\n",
              "      <th>2</th>\n",
              "      <td>3</td>\n",
              "      <td>4</td>\n",
              "      <td>5</td>\n",
              "    </tr>\n",
              "    <tr>\n",
              "      <th rowspan=\"2\" valign=\"top\">b</th>\n",
              "      <th>1</th>\n",
              "      <td>6</td>\n",
              "      <td>7</td>\n",
              "      <td>8</td>\n",
              "    </tr>\n",
              "    <tr>\n",
              "      <th>2</th>\n",
              "      <td>9</td>\n",
              "      <td>10</td>\n",
              "      <td>11</td>\n",
              "    </tr>\n",
              "  </tbody>\n",
              "</table>\n",
              "</div>\n",
              "      <button class=\"colab-df-convert\" onclick=\"convertToInteractive('df-7ff04623-7fdf-435a-a9e9-8eb3b3142520')\"\n",
              "              title=\"Convert this dataframe to an interactive table.\"\n",
              "              style=\"display:none;\">\n",
              "        \n",
              "  <svg xmlns=\"http://www.w3.org/2000/svg\" height=\"24px\"viewBox=\"0 0 24 24\"\n",
              "       width=\"24px\">\n",
              "    <path d=\"M0 0h24v24H0V0z\" fill=\"none\"/>\n",
              "    <path d=\"M18.56 5.44l.94 2.06.94-2.06 2.06-.94-2.06-.94-.94-2.06-.94 2.06-2.06.94zm-11 1L8.5 8.5l.94-2.06 2.06-.94-2.06-.94L8.5 2.5l-.94 2.06-2.06.94zm10 10l.94 2.06.94-2.06 2.06-.94-2.06-.94-.94-2.06-.94 2.06-2.06.94z\"/><path d=\"M17.41 7.96l-1.37-1.37c-.4-.4-.92-.59-1.43-.59-.52 0-1.04.2-1.43.59L10.3 9.45l-7.72 7.72c-.78.78-.78 2.05 0 2.83L4 21.41c.39.39.9.59 1.41.59.51 0 1.02-.2 1.41-.59l7.78-7.78 2.81-2.81c.8-.78.8-2.07 0-2.86zM5.41 20L4 18.59l7.72-7.72 1.47 1.35L5.41 20z\"/>\n",
              "  </svg>\n",
              "      </button>\n",
              "      \n",
              "  <style>\n",
              "    .colab-df-container {\n",
              "      display:flex;\n",
              "      flex-wrap:wrap;\n",
              "      gap: 12px;\n",
              "    }\n",
              "\n",
              "    .colab-df-convert {\n",
              "      background-color: #E8F0FE;\n",
              "      border: none;\n",
              "      border-radius: 50%;\n",
              "      cursor: pointer;\n",
              "      display: none;\n",
              "      fill: #1967D2;\n",
              "      height: 32px;\n",
              "      padding: 0 0 0 0;\n",
              "      width: 32px;\n",
              "    }\n",
              "\n",
              "    .colab-df-convert:hover {\n",
              "      background-color: #E2EBFA;\n",
              "      box-shadow: 0px 1px 2px rgba(60, 64, 67, 0.3), 0px 1px 3px 1px rgba(60, 64, 67, 0.15);\n",
              "      fill: #174EA6;\n",
              "    }\n",
              "\n",
              "    [theme=dark] .colab-df-convert {\n",
              "      background-color: #3B4455;\n",
              "      fill: #D2E3FC;\n",
              "    }\n",
              "\n",
              "    [theme=dark] .colab-df-convert:hover {\n",
              "      background-color: #434B5C;\n",
              "      box-shadow: 0px 1px 3px 1px rgba(0, 0, 0, 0.15);\n",
              "      filter: drop-shadow(0px 1px 2px rgba(0, 0, 0, 0.3));\n",
              "      fill: #FFFFFF;\n",
              "    }\n",
              "  </style>\n",
              "\n",
              "      <script>\n",
              "        const buttonEl =\n",
              "          document.querySelector('#df-7ff04623-7fdf-435a-a9e9-8eb3b3142520 button.colab-df-convert');\n",
              "        buttonEl.style.display =\n",
              "          google.colab.kernel.accessAllowed ? 'block' : 'none';\n",
              "\n",
              "        async function convertToInteractive(key) {\n",
              "          const element = document.querySelector('#df-7ff04623-7fdf-435a-a9e9-8eb3b3142520');\n",
              "          const dataTable =\n",
              "            await google.colab.kernel.invokeFunction('convertToInteractive',\n",
              "                                                     [key], {});\n",
              "          if (!dataTable) return;\n",
              "\n",
              "          const docLinkHtml = 'Like what you see? Visit the ' +\n",
              "            '<a target=\"_blank\" href=https://colab.research.google.com/notebooks/data_table.ipynb>data table notebook</a>'\n",
              "            + ' to learn more about interactive tables.';\n",
              "          element.innerHTML = '';\n",
              "          dataTable['output_type'] = 'display_data';\n",
              "          await google.colab.output.renderOutput(dataTable, element);\n",
              "          const docLink = document.createElement('div');\n",
              "          docLink.innerHTML = docLinkHtml;\n",
              "          element.appendChild(docLink);\n",
              "        }\n",
              "      </script>\n",
              "    </div>\n",
              "  </div>\n",
              "  "
            ]
          },
          "metadata": {},
          "execution_count": 52
        }
      ]
    },
    {
      "cell_type": "code",
      "source": [
        "# frame.groupby(level='key2').sum()   # not applicable due to `Region` `Product` assignment earlier\n",
        "frame.groupby(level='Product').sum()"
      ],
      "metadata": {
        "id": "U4noPte3-uGo",
        "colab": {
          "base_uri": "https://localhost:8080/",
          "height": 175
        },
        "outputId": "fff67ad8-3814-46f5-fc68-c88a5cfc3d31"
      },
      "execution_count": 53,
      "outputs": [
        {
          "output_type": "execute_result",
          "data": {
            "text/plain": [
              "state    Ohio     Colorado\n",
              "color   Green Red    Green\n",
              "Product                   \n",
              "1           6   8       10\n",
              "2          12  14       16"
            ],
            "text/html": [
              "\n",
              "  <div id=\"df-13e5f6ff-b6da-4ed5-b996-555547eb1737\">\n",
              "    <div class=\"colab-df-container\">\n",
              "      <div>\n",
              "<style scoped>\n",
              "    .dataframe tbody tr th:only-of-type {\n",
              "        vertical-align: middle;\n",
              "    }\n",
              "\n",
              "    .dataframe tbody tr th {\n",
              "        vertical-align: top;\n",
              "    }\n",
              "\n",
              "    .dataframe thead tr th {\n",
              "        text-align: left;\n",
              "    }\n",
              "\n",
              "    .dataframe thead tr:last-of-type th {\n",
              "        text-align: right;\n",
              "    }\n",
              "</style>\n",
              "<table border=\"1\" class=\"dataframe\">\n",
              "  <thead>\n",
              "    <tr>\n",
              "      <th>state</th>\n",
              "      <th colspan=\"2\" halign=\"left\">Ohio</th>\n",
              "      <th>Colorado</th>\n",
              "    </tr>\n",
              "    <tr>\n",
              "      <th>color</th>\n",
              "      <th>Green</th>\n",
              "      <th>Red</th>\n",
              "      <th>Green</th>\n",
              "    </tr>\n",
              "    <tr>\n",
              "      <th>Product</th>\n",
              "      <th></th>\n",
              "      <th></th>\n",
              "      <th></th>\n",
              "    </tr>\n",
              "  </thead>\n",
              "  <tbody>\n",
              "    <tr>\n",
              "      <th>1</th>\n",
              "      <td>6</td>\n",
              "      <td>8</td>\n",
              "      <td>10</td>\n",
              "    </tr>\n",
              "    <tr>\n",
              "      <th>2</th>\n",
              "      <td>12</td>\n",
              "      <td>14</td>\n",
              "      <td>16</td>\n",
              "    </tr>\n",
              "  </tbody>\n",
              "</table>\n",
              "</div>\n",
              "      <button class=\"colab-df-convert\" onclick=\"convertToInteractive('df-13e5f6ff-b6da-4ed5-b996-555547eb1737')\"\n",
              "              title=\"Convert this dataframe to an interactive table.\"\n",
              "              style=\"display:none;\">\n",
              "        \n",
              "  <svg xmlns=\"http://www.w3.org/2000/svg\" height=\"24px\"viewBox=\"0 0 24 24\"\n",
              "       width=\"24px\">\n",
              "    <path d=\"M0 0h24v24H0V0z\" fill=\"none\"/>\n",
              "    <path d=\"M18.56 5.44l.94 2.06.94-2.06 2.06-.94-2.06-.94-.94-2.06-.94 2.06-2.06.94zm-11 1L8.5 8.5l.94-2.06 2.06-.94-2.06-.94L8.5 2.5l-.94 2.06-2.06.94zm10 10l.94 2.06.94-2.06 2.06-.94-2.06-.94-.94-2.06-.94 2.06-2.06.94z\"/><path d=\"M17.41 7.96l-1.37-1.37c-.4-.4-.92-.59-1.43-.59-.52 0-1.04.2-1.43.59L10.3 9.45l-7.72 7.72c-.78.78-.78 2.05 0 2.83L4 21.41c.39.39.9.59 1.41.59.51 0 1.02-.2 1.41-.59l7.78-7.78 2.81-2.81c.8-.78.8-2.07 0-2.86zM5.41 20L4 18.59l7.72-7.72 1.47 1.35L5.41 20z\"/>\n",
              "  </svg>\n",
              "      </button>\n",
              "      \n",
              "  <style>\n",
              "    .colab-df-container {\n",
              "      display:flex;\n",
              "      flex-wrap:wrap;\n",
              "      gap: 12px;\n",
              "    }\n",
              "\n",
              "    .colab-df-convert {\n",
              "      background-color: #E8F0FE;\n",
              "      border: none;\n",
              "      border-radius: 50%;\n",
              "      cursor: pointer;\n",
              "      display: none;\n",
              "      fill: #1967D2;\n",
              "      height: 32px;\n",
              "      padding: 0 0 0 0;\n",
              "      width: 32px;\n",
              "    }\n",
              "\n",
              "    .colab-df-convert:hover {\n",
              "      background-color: #E2EBFA;\n",
              "      box-shadow: 0px 1px 2px rgba(60, 64, 67, 0.3), 0px 1px 3px 1px rgba(60, 64, 67, 0.15);\n",
              "      fill: #174EA6;\n",
              "    }\n",
              "\n",
              "    [theme=dark] .colab-df-convert {\n",
              "      background-color: #3B4455;\n",
              "      fill: #D2E3FC;\n",
              "    }\n",
              "\n",
              "    [theme=dark] .colab-df-convert:hover {\n",
              "      background-color: #434B5C;\n",
              "      box-shadow: 0px 1px 3px 1px rgba(0, 0, 0, 0.15);\n",
              "      filter: drop-shadow(0px 1px 2px rgba(0, 0, 0, 0.3));\n",
              "      fill: #FFFFFF;\n",
              "    }\n",
              "  </style>\n",
              "\n",
              "      <script>\n",
              "        const buttonEl =\n",
              "          document.querySelector('#df-13e5f6ff-b6da-4ed5-b996-555547eb1737 button.colab-df-convert');\n",
              "        buttonEl.style.display =\n",
              "          google.colab.kernel.accessAllowed ? 'block' : 'none';\n",
              "\n",
              "        async function convertToInteractive(key) {\n",
              "          const element = document.querySelector('#df-13e5f6ff-b6da-4ed5-b996-555547eb1737');\n",
              "          const dataTable =\n",
              "            await google.colab.kernel.invokeFunction('convertToInteractive',\n",
              "                                                     [key], {});\n",
              "          if (!dataTable) return;\n",
              "\n",
              "          const docLinkHtml = 'Like what you see? Visit the ' +\n",
              "            '<a target=\"_blank\" href=https://colab.research.google.com/notebooks/data_table.ipynb>data table notebook</a>'\n",
              "            + ' to learn more about interactive tables.';\n",
              "          element.innerHTML = '';\n",
              "          dataTable['output_type'] = 'display_data';\n",
              "          await google.colab.output.renderOutput(dataTable, element);\n",
              "          const docLink = document.createElement('div');\n",
              "          docLink.innerHTML = docLinkHtml;\n",
              "          element.appendChild(docLink);\n",
              "        }\n",
              "      </script>\n",
              "    </div>\n",
              "  </div>\n",
              "  "
            ]
          },
          "metadata": {},
          "execution_count": 53
        }
      ]
    },
    {
      "cell_type": "code",
      "source": [
        "frame.groupby(level='color', axis=1).sum()"
      ],
      "metadata": {
        "id": "xM7puDeo-zJk",
        "colab": {
          "base_uri": "https://localhost:8080/",
          "height": 206
        },
        "outputId": "1121aff1-78a2-4c28-eaa8-1b9acb48d307"
      },
      "execution_count": 54,
      "outputs": [
        {
          "output_type": "execute_result",
          "data": {
            "text/plain": [
              "color           Green  Red\n",
              "Region Product            \n",
              "a      1            2    1\n",
              "       2            8    4\n",
              "b      1           14    7\n",
              "       2           20   10"
            ],
            "text/html": [
              "\n",
              "  <div id=\"df-67761a45-cd81-4a8f-ba41-f936e8cb135f\">\n",
              "    <div class=\"colab-df-container\">\n",
              "      <div>\n",
              "<style scoped>\n",
              "    .dataframe tbody tr th:only-of-type {\n",
              "        vertical-align: middle;\n",
              "    }\n",
              "\n",
              "    .dataframe tbody tr th {\n",
              "        vertical-align: top;\n",
              "    }\n",
              "\n",
              "    .dataframe thead th {\n",
              "        text-align: right;\n",
              "    }\n",
              "</style>\n",
              "<table border=\"1\" class=\"dataframe\">\n",
              "  <thead>\n",
              "    <tr style=\"text-align: right;\">\n",
              "      <th></th>\n",
              "      <th>color</th>\n",
              "      <th>Green</th>\n",
              "      <th>Red</th>\n",
              "    </tr>\n",
              "    <tr>\n",
              "      <th>Region</th>\n",
              "      <th>Product</th>\n",
              "      <th></th>\n",
              "      <th></th>\n",
              "    </tr>\n",
              "  </thead>\n",
              "  <tbody>\n",
              "    <tr>\n",
              "      <th rowspan=\"2\" valign=\"top\">a</th>\n",
              "      <th>1</th>\n",
              "      <td>2</td>\n",
              "      <td>1</td>\n",
              "    </tr>\n",
              "    <tr>\n",
              "      <th>2</th>\n",
              "      <td>8</td>\n",
              "      <td>4</td>\n",
              "    </tr>\n",
              "    <tr>\n",
              "      <th rowspan=\"2\" valign=\"top\">b</th>\n",
              "      <th>1</th>\n",
              "      <td>14</td>\n",
              "      <td>7</td>\n",
              "    </tr>\n",
              "    <tr>\n",
              "      <th>2</th>\n",
              "      <td>20</td>\n",
              "      <td>10</td>\n",
              "    </tr>\n",
              "  </tbody>\n",
              "</table>\n",
              "</div>\n",
              "      <button class=\"colab-df-convert\" onclick=\"convertToInteractive('df-67761a45-cd81-4a8f-ba41-f936e8cb135f')\"\n",
              "              title=\"Convert this dataframe to an interactive table.\"\n",
              "              style=\"display:none;\">\n",
              "        \n",
              "  <svg xmlns=\"http://www.w3.org/2000/svg\" height=\"24px\"viewBox=\"0 0 24 24\"\n",
              "       width=\"24px\">\n",
              "    <path d=\"M0 0h24v24H0V0z\" fill=\"none\"/>\n",
              "    <path d=\"M18.56 5.44l.94 2.06.94-2.06 2.06-.94-2.06-.94-.94-2.06-.94 2.06-2.06.94zm-11 1L8.5 8.5l.94-2.06 2.06-.94-2.06-.94L8.5 2.5l-.94 2.06-2.06.94zm10 10l.94 2.06.94-2.06 2.06-.94-2.06-.94-.94-2.06-.94 2.06-2.06.94z\"/><path d=\"M17.41 7.96l-1.37-1.37c-.4-.4-.92-.59-1.43-.59-.52 0-1.04.2-1.43.59L10.3 9.45l-7.72 7.72c-.78.78-.78 2.05 0 2.83L4 21.41c.39.39.9.59 1.41.59.51 0 1.02-.2 1.41-.59l7.78-7.78 2.81-2.81c.8-.78.8-2.07 0-2.86zM5.41 20L4 18.59l7.72-7.72 1.47 1.35L5.41 20z\"/>\n",
              "  </svg>\n",
              "      </button>\n",
              "      \n",
              "  <style>\n",
              "    .colab-df-container {\n",
              "      display:flex;\n",
              "      flex-wrap:wrap;\n",
              "      gap: 12px;\n",
              "    }\n",
              "\n",
              "    .colab-df-convert {\n",
              "      background-color: #E8F0FE;\n",
              "      border: none;\n",
              "      border-radius: 50%;\n",
              "      cursor: pointer;\n",
              "      display: none;\n",
              "      fill: #1967D2;\n",
              "      height: 32px;\n",
              "      padding: 0 0 0 0;\n",
              "      width: 32px;\n",
              "    }\n",
              "\n",
              "    .colab-df-convert:hover {\n",
              "      background-color: #E2EBFA;\n",
              "      box-shadow: 0px 1px 2px rgba(60, 64, 67, 0.3), 0px 1px 3px 1px rgba(60, 64, 67, 0.15);\n",
              "      fill: #174EA6;\n",
              "    }\n",
              "\n",
              "    [theme=dark] .colab-df-convert {\n",
              "      background-color: #3B4455;\n",
              "      fill: #D2E3FC;\n",
              "    }\n",
              "\n",
              "    [theme=dark] .colab-df-convert:hover {\n",
              "      background-color: #434B5C;\n",
              "      box-shadow: 0px 1px 3px 1px rgba(0, 0, 0, 0.15);\n",
              "      filter: drop-shadow(0px 1px 2px rgba(0, 0, 0, 0.3));\n",
              "      fill: #FFFFFF;\n",
              "    }\n",
              "  </style>\n",
              "\n",
              "      <script>\n",
              "        const buttonEl =\n",
              "          document.querySelector('#df-67761a45-cd81-4a8f-ba41-f936e8cb135f button.colab-df-convert');\n",
              "        buttonEl.style.display =\n",
              "          google.colab.kernel.accessAllowed ? 'block' : 'none';\n",
              "\n",
              "        async function convertToInteractive(key) {\n",
              "          const element = document.querySelector('#df-67761a45-cd81-4a8f-ba41-f936e8cb135f');\n",
              "          const dataTable =\n",
              "            await google.colab.kernel.invokeFunction('convertToInteractive',\n",
              "                                                     [key], {});\n",
              "          if (!dataTable) return;\n",
              "\n",
              "          const docLinkHtml = 'Like what you see? Visit the ' +\n",
              "            '<a target=\"_blank\" href=https://colab.research.google.com/notebooks/data_table.ipynb>data table notebook</a>'\n",
              "            + ' to learn more about interactive tables.';\n",
              "          element.innerHTML = '';\n",
              "          dataTable['output_type'] = 'display_data';\n",
              "          await google.colab.output.renderOutput(dataTable, element);\n",
              "          const docLink = document.createElement('div');\n",
              "          docLink.innerHTML = docLinkHtml;\n",
              "          element.appendChild(docLink);\n",
              "        }\n",
              "      </script>\n",
              "    </div>\n",
              "  </div>\n",
              "  "
            ]
          },
          "metadata": {},
          "execution_count": 54
        }
      ]
    },
    {
      "cell_type": "markdown",
      "source": [
        "Internally, this utilizes pandas’s `groupby` machinery, which is discussed in more detail in the book [Python for Data Analysis](https://wesmckinney.com/book/data-aggregation.html)."
      ],
      "metadata": {
        "id": "2fxjFnwJACBB"
      }
    },
    {
      "cell_type": "markdown",
      "source": [
        "---"
      ],
      "metadata": {
        "id": "npxn2qmkgvz8"
      }
    },
    {
      "cell_type": "markdown",
      "source": [
        "###Indexing with a DataFrame's Columns    \n",
        "\n"
      ],
      "metadata": {
        "id": "ZBzCHcFrAaFR"
      }
    },
    {
      "cell_type": "markdown",
      "source": [
        "It’s not unusual to want to use one or more columns from a DataFrame as the row index; alternatively, you may wish to move the row index into the DataFrame’s columns. Here’s an example DataFrame:"
      ],
      "metadata": {
        "id": "qM7z0OgkAgj9"
      }
    },
    {
      "cell_type": "code",
      "source": [
        "frame = pd.DataFrame({'a': range(7), 'b': range(7, 0, -1),\n",
        "            'c': ['one', 'one', 'one', 'two', 'two',\n",
        "                 'two', 'two'],\n",
        "            'd': [0, 1, 2, 0, 1, 2, 3]})\n"
      ],
      "metadata": {
        "id": "qA83WIbZAiL3"
      },
      "execution_count": 55,
      "outputs": []
    },
    {
      "cell_type": "code",
      "source": [
        "print(frame)"
      ],
      "metadata": {
        "id": "UQp_dl4kBYVP",
        "colab": {
          "base_uri": "https://localhost:8080/"
        },
        "outputId": "585121df-cf99-443a-8dff-2033a36b68b1"
      },
      "execution_count": 56,
      "outputs": [
        {
          "output_type": "stream",
          "name": "stdout",
          "text": [
            "   a  b    c  d\n",
            "0  0  7  one  0\n",
            "1  1  6  one  1\n",
            "2  2  5  one  2\n",
            "3  3  4  two  0\n",
            "4  4  3  two  1\n",
            "5  5  2  two  2\n",
            "6  6  1  two  3\n"
          ]
        }
      ]
    },
    {
      "cell_type": "markdown",
      "source": [
        "DataFrame’s `set_index` function will create a new DataFrame using one or more of its columns as the index:"
      ],
      "metadata": {
        "id": "fGFFmuGFBeGj"
      }
    },
    {
      "cell_type": "code",
      "source": [
        "frame2 = frame.set_index(['c', 'd'])"
      ],
      "metadata": {
        "id": "zp-yrRPjBjB2"
      },
      "execution_count": 57,
      "outputs": []
    },
    {
      "cell_type": "code",
      "source": [
        "print(frame2)"
      ],
      "metadata": {
        "id": "aHPZyXb8BlGO",
        "colab": {
          "base_uri": "https://localhost:8080/"
        },
        "outputId": "7c223eb4-910e-4175-e9e3-e8afc14d50f7"
      },
      "execution_count": 58,
      "outputs": [
        {
          "output_type": "stream",
          "name": "stdout",
          "text": [
            "       a  b\n",
            "c   d      \n",
            "one 0  0  7\n",
            "    1  1  6\n",
            "    2  2  5\n",
            "two 0  3  4\n",
            "    1  4  3\n",
            "    2  5  2\n",
            "    3  6  1\n"
          ]
        }
      ]
    },
    {
      "cell_type": "markdown",
      "source": [
        "By default the columns are removed from the DataFrame, though you can leave them in by passing `drop=False` to `set_index`:"
      ],
      "metadata": {
        "id": "2oLfImI6BrJe"
      }
    },
    {
      "cell_type": "code",
      "source": [
        "frame.set_index(['c', 'd'], drop=False)"
      ],
      "metadata": {
        "id": "cZtibXSEBvG-",
        "colab": {
          "base_uri": "https://localhost:8080/",
          "height": 300
        },
        "outputId": "f38bfb56-8309-4fbb-a095-d0792bf14fcf"
      },
      "execution_count": 59,
      "outputs": [
        {
          "output_type": "execute_result",
          "data": {
            "text/plain": [
              "       a  b    c  d\n",
              "c   d              \n",
              "one 0  0  7  one  0\n",
              "    1  1  6  one  1\n",
              "    2  2  5  one  2\n",
              "two 0  3  4  two  0\n",
              "    1  4  3  two  1\n",
              "    2  5  2  two  2\n",
              "    3  6  1  two  3"
            ],
            "text/html": [
              "\n",
              "  <div id=\"df-e33948e5-144e-4827-b5c2-1716ac212772\">\n",
              "    <div class=\"colab-df-container\">\n",
              "      <div>\n",
              "<style scoped>\n",
              "    .dataframe tbody tr th:only-of-type {\n",
              "        vertical-align: middle;\n",
              "    }\n",
              "\n",
              "    .dataframe tbody tr th {\n",
              "        vertical-align: top;\n",
              "    }\n",
              "\n",
              "    .dataframe thead th {\n",
              "        text-align: right;\n",
              "    }\n",
              "</style>\n",
              "<table border=\"1\" class=\"dataframe\">\n",
              "  <thead>\n",
              "    <tr style=\"text-align: right;\">\n",
              "      <th></th>\n",
              "      <th></th>\n",
              "      <th>a</th>\n",
              "      <th>b</th>\n",
              "      <th>c</th>\n",
              "      <th>d</th>\n",
              "    </tr>\n",
              "    <tr>\n",
              "      <th>c</th>\n",
              "      <th>d</th>\n",
              "      <th></th>\n",
              "      <th></th>\n",
              "      <th></th>\n",
              "      <th></th>\n",
              "    </tr>\n",
              "  </thead>\n",
              "  <tbody>\n",
              "    <tr>\n",
              "      <th rowspan=\"3\" valign=\"top\">one</th>\n",
              "      <th>0</th>\n",
              "      <td>0</td>\n",
              "      <td>7</td>\n",
              "      <td>one</td>\n",
              "      <td>0</td>\n",
              "    </tr>\n",
              "    <tr>\n",
              "      <th>1</th>\n",
              "      <td>1</td>\n",
              "      <td>6</td>\n",
              "      <td>one</td>\n",
              "      <td>1</td>\n",
              "    </tr>\n",
              "    <tr>\n",
              "      <th>2</th>\n",
              "      <td>2</td>\n",
              "      <td>5</td>\n",
              "      <td>one</td>\n",
              "      <td>2</td>\n",
              "    </tr>\n",
              "    <tr>\n",
              "      <th rowspan=\"4\" valign=\"top\">two</th>\n",
              "      <th>0</th>\n",
              "      <td>3</td>\n",
              "      <td>4</td>\n",
              "      <td>two</td>\n",
              "      <td>0</td>\n",
              "    </tr>\n",
              "    <tr>\n",
              "      <th>1</th>\n",
              "      <td>4</td>\n",
              "      <td>3</td>\n",
              "      <td>two</td>\n",
              "      <td>1</td>\n",
              "    </tr>\n",
              "    <tr>\n",
              "      <th>2</th>\n",
              "      <td>5</td>\n",
              "      <td>2</td>\n",
              "      <td>two</td>\n",
              "      <td>2</td>\n",
              "    </tr>\n",
              "    <tr>\n",
              "      <th>3</th>\n",
              "      <td>6</td>\n",
              "      <td>1</td>\n",
              "      <td>two</td>\n",
              "      <td>3</td>\n",
              "    </tr>\n",
              "  </tbody>\n",
              "</table>\n",
              "</div>\n",
              "      <button class=\"colab-df-convert\" onclick=\"convertToInteractive('df-e33948e5-144e-4827-b5c2-1716ac212772')\"\n",
              "              title=\"Convert this dataframe to an interactive table.\"\n",
              "              style=\"display:none;\">\n",
              "        \n",
              "  <svg xmlns=\"http://www.w3.org/2000/svg\" height=\"24px\"viewBox=\"0 0 24 24\"\n",
              "       width=\"24px\">\n",
              "    <path d=\"M0 0h24v24H0V0z\" fill=\"none\"/>\n",
              "    <path d=\"M18.56 5.44l.94 2.06.94-2.06 2.06-.94-2.06-.94-.94-2.06-.94 2.06-2.06.94zm-11 1L8.5 8.5l.94-2.06 2.06-.94-2.06-.94L8.5 2.5l-.94 2.06-2.06.94zm10 10l.94 2.06.94-2.06 2.06-.94-2.06-.94-.94-2.06-.94 2.06-2.06.94z\"/><path d=\"M17.41 7.96l-1.37-1.37c-.4-.4-.92-.59-1.43-.59-.52 0-1.04.2-1.43.59L10.3 9.45l-7.72 7.72c-.78.78-.78 2.05 0 2.83L4 21.41c.39.39.9.59 1.41.59.51 0 1.02-.2 1.41-.59l7.78-7.78 2.81-2.81c.8-.78.8-2.07 0-2.86zM5.41 20L4 18.59l7.72-7.72 1.47 1.35L5.41 20z\"/>\n",
              "  </svg>\n",
              "      </button>\n",
              "      \n",
              "  <style>\n",
              "    .colab-df-container {\n",
              "      display:flex;\n",
              "      flex-wrap:wrap;\n",
              "      gap: 12px;\n",
              "    }\n",
              "\n",
              "    .colab-df-convert {\n",
              "      background-color: #E8F0FE;\n",
              "      border: none;\n",
              "      border-radius: 50%;\n",
              "      cursor: pointer;\n",
              "      display: none;\n",
              "      fill: #1967D2;\n",
              "      height: 32px;\n",
              "      padding: 0 0 0 0;\n",
              "      width: 32px;\n",
              "    }\n",
              "\n",
              "    .colab-df-convert:hover {\n",
              "      background-color: #E2EBFA;\n",
              "      box-shadow: 0px 1px 2px rgba(60, 64, 67, 0.3), 0px 1px 3px 1px rgba(60, 64, 67, 0.15);\n",
              "      fill: #174EA6;\n",
              "    }\n",
              "\n",
              "    [theme=dark] .colab-df-convert {\n",
              "      background-color: #3B4455;\n",
              "      fill: #D2E3FC;\n",
              "    }\n",
              "\n",
              "    [theme=dark] .colab-df-convert:hover {\n",
              "      background-color: #434B5C;\n",
              "      box-shadow: 0px 1px 3px 1px rgba(0, 0, 0, 0.15);\n",
              "      filter: drop-shadow(0px 1px 2px rgba(0, 0, 0, 0.3));\n",
              "      fill: #FFFFFF;\n",
              "    }\n",
              "  </style>\n",
              "\n",
              "      <script>\n",
              "        const buttonEl =\n",
              "          document.querySelector('#df-e33948e5-144e-4827-b5c2-1716ac212772 button.colab-df-convert');\n",
              "        buttonEl.style.display =\n",
              "          google.colab.kernel.accessAllowed ? 'block' : 'none';\n",
              "\n",
              "        async function convertToInteractive(key) {\n",
              "          const element = document.querySelector('#df-e33948e5-144e-4827-b5c2-1716ac212772');\n",
              "          const dataTable =\n",
              "            await google.colab.kernel.invokeFunction('convertToInteractive',\n",
              "                                                     [key], {});\n",
              "          if (!dataTable) return;\n",
              "\n",
              "          const docLinkHtml = 'Like what you see? Visit the ' +\n",
              "            '<a target=\"_blank\" href=https://colab.research.google.com/notebooks/data_table.ipynb>data table notebook</a>'\n",
              "            + ' to learn more about interactive tables.';\n",
              "          element.innerHTML = '';\n",
              "          dataTable['output_type'] = 'display_data';\n",
              "          await google.colab.output.renderOutput(dataTable, element);\n",
              "          const docLink = document.createElement('div');\n",
              "          docLink.innerHTML = docLinkHtml;\n",
              "          element.appendChild(docLink);\n",
              "        }\n",
              "      </script>\n",
              "    </div>\n",
              "  </div>\n",
              "  "
            ]
          },
          "metadata": {},
          "execution_count": 59
        }
      ]
    },
    {
      "cell_type": "markdown",
      "source": [
        "`reset_index`, on the other hand, does the opposite of `set_index`; the hierarchical index levels are moved into the columns:"
      ],
      "metadata": {
        "id": "1wbS0jkCB12R"
      }
    },
    {
      "cell_type": "code",
      "source": [
        "frame2.reset_index()"
      ],
      "metadata": {
        "id": "f5Mj3kJQB8KX",
        "colab": {
          "base_uri": "https://localhost:8080/",
          "height": 269
        },
        "outputId": "41402fd7-38df-46d7-887d-8f3f3601fb67"
      },
      "execution_count": 60,
      "outputs": [
        {
          "output_type": "execute_result",
          "data": {
            "text/plain": [
              "     c  d  a  b\n",
              "0  one  0  0  7\n",
              "1  one  1  1  6\n",
              "2  one  2  2  5\n",
              "3  two  0  3  4\n",
              "4  two  1  4  3\n",
              "5  two  2  5  2\n",
              "6  two  3  6  1"
            ],
            "text/html": [
              "\n",
              "  <div id=\"df-471655ca-c4f5-437f-9d13-061232978a2d\">\n",
              "    <div class=\"colab-df-container\">\n",
              "      <div>\n",
              "<style scoped>\n",
              "    .dataframe tbody tr th:only-of-type {\n",
              "        vertical-align: middle;\n",
              "    }\n",
              "\n",
              "    .dataframe tbody tr th {\n",
              "        vertical-align: top;\n",
              "    }\n",
              "\n",
              "    .dataframe thead th {\n",
              "        text-align: right;\n",
              "    }\n",
              "</style>\n",
              "<table border=\"1\" class=\"dataframe\">\n",
              "  <thead>\n",
              "    <tr style=\"text-align: right;\">\n",
              "      <th></th>\n",
              "      <th>c</th>\n",
              "      <th>d</th>\n",
              "      <th>a</th>\n",
              "      <th>b</th>\n",
              "    </tr>\n",
              "  </thead>\n",
              "  <tbody>\n",
              "    <tr>\n",
              "      <th>0</th>\n",
              "      <td>one</td>\n",
              "      <td>0</td>\n",
              "      <td>0</td>\n",
              "      <td>7</td>\n",
              "    </tr>\n",
              "    <tr>\n",
              "      <th>1</th>\n",
              "      <td>one</td>\n",
              "      <td>1</td>\n",
              "      <td>1</td>\n",
              "      <td>6</td>\n",
              "    </tr>\n",
              "    <tr>\n",
              "      <th>2</th>\n",
              "      <td>one</td>\n",
              "      <td>2</td>\n",
              "      <td>2</td>\n",
              "      <td>5</td>\n",
              "    </tr>\n",
              "    <tr>\n",
              "      <th>3</th>\n",
              "      <td>two</td>\n",
              "      <td>0</td>\n",
              "      <td>3</td>\n",
              "      <td>4</td>\n",
              "    </tr>\n",
              "    <tr>\n",
              "      <th>4</th>\n",
              "      <td>two</td>\n",
              "      <td>1</td>\n",
              "      <td>4</td>\n",
              "      <td>3</td>\n",
              "    </tr>\n",
              "    <tr>\n",
              "      <th>5</th>\n",
              "      <td>two</td>\n",
              "      <td>2</td>\n",
              "      <td>5</td>\n",
              "      <td>2</td>\n",
              "    </tr>\n",
              "    <tr>\n",
              "      <th>6</th>\n",
              "      <td>two</td>\n",
              "      <td>3</td>\n",
              "      <td>6</td>\n",
              "      <td>1</td>\n",
              "    </tr>\n",
              "  </tbody>\n",
              "</table>\n",
              "</div>\n",
              "      <button class=\"colab-df-convert\" onclick=\"convertToInteractive('df-471655ca-c4f5-437f-9d13-061232978a2d')\"\n",
              "              title=\"Convert this dataframe to an interactive table.\"\n",
              "              style=\"display:none;\">\n",
              "        \n",
              "  <svg xmlns=\"http://www.w3.org/2000/svg\" height=\"24px\"viewBox=\"0 0 24 24\"\n",
              "       width=\"24px\">\n",
              "    <path d=\"M0 0h24v24H0V0z\" fill=\"none\"/>\n",
              "    <path d=\"M18.56 5.44l.94 2.06.94-2.06 2.06-.94-2.06-.94-.94-2.06-.94 2.06-2.06.94zm-11 1L8.5 8.5l.94-2.06 2.06-.94-2.06-.94L8.5 2.5l-.94 2.06-2.06.94zm10 10l.94 2.06.94-2.06 2.06-.94-2.06-.94-.94-2.06-.94 2.06-2.06.94z\"/><path d=\"M17.41 7.96l-1.37-1.37c-.4-.4-.92-.59-1.43-.59-.52 0-1.04.2-1.43.59L10.3 9.45l-7.72 7.72c-.78.78-.78 2.05 0 2.83L4 21.41c.39.39.9.59 1.41.59.51 0 1.02-.2 1.41-.59l7.78-7.78 2.81-2.81c.8-.78.8-2.07 0-2.86zM5.41 20L4 18.59l7.72-7.72 1.47 1.35L5.41 20z\"/>\n",
              "  </svg>\n",
              "      </button>\n",
              "      \n",
              "  <style>\n",
              "    .colab-df-container {\n",
              "      display:flex;\n",
              "      flex-wrap:wrap;\n",
              "      gap: 12px;\n",
              "    }\n",
              "\n",
              "    .colab-df-convert {\n",
              "      background-color: #E8F0FE;\n",
              "      border: none;\n",
              "      border-radius: 50%;\n",
              "      cursor: pointer;\n",
              "      display: none;\n",
              "      fill: #1967D2;\n",
              "      height: 32px;\n",
              "      padding: 0 0 0 0;\n",
              "      width: 32px;\n",
              "    }\n",
              "\n",
              "    .colab-df-convert:hover {\n",
              "      background-color: #E2EBFA;\n",
              "      box-shadow: 0px 1px 2px rgba(60, 64, 67, 0.3), 0px 1px 3px 1px rgba(60, 64, 67, 0.15);\n",
              "      fill: #174EA6;\n",
              "    }\n",
              "\n",
              "    [theme=dark] .colab-df-convert {\n",
              "      background-color: #3B4455;\n",
              "      fill: #D2E3FC;\n",
              "    }\n",
              "\n",
              "    [theme=dark] .colab-df-convert:hover {\n",
              "      background-color: #434B5C;\n",
              "      box-shadow: 0px 1px 3px 1px rgba(0, 0, 0, 0.15);\n",
              "      filter: drop-shadow(0px 1px 2px rgba(0, 0, 0, 0.3));\n",
              "      fill: #FFFFFF;\n",
              "    }\n",
              "  </style>\n",
              "\n",
              "      <script>\n",
              "        const buttonEl =\n",
              "          document.querySelector('#df-471655ca-c4f5-437f-9d13-061232978a2d button.colab-df-convert');\n",
              "        buttonEl.style.display =\n",
              "          google.colab.kernel.accessAllowed ? 'block' : 'none';\n",
              "\n",
              "        async function convertToInteractive(key) {\n",
              "          const element = document.querySelector('#df-471655ca-c4f5-437f-9d13-061232978a2d');\n",
              "          const dataTable =\n",
              "            await google.colab.kernel.invokeFunction('convertToInteractive',\n",
              "                                                     [key], {});\n",
              "          if (!dataTable) return;\n",
              "\n",
              "          const docLinkHtml = 'Like what you see? Visit the ' +\n",
              "            '<a target=\"_blank\" href=https://colab.research.google.com/notebooks/data_table.ipynb>data table notebook</a>'\n",
              "            + ' to learn more about interactive tables.';\n",
              "          element.innerHTML = '';\n",
              "          dataTable['output_type'] = 'display_data';\n",
              "          await google.colab.output.renderOutput(dataTable, element);\n",
              "          const docLink = document.createElement('div');\n",
              "          docLink.innerHTML = docLinkHtml;\n",
              "          element.appendChild(docLink);\n",
              "        }\n",
              "      </script>\n",
              "    </div>\n",
              "  </div>\n",
              "  "
            ]
          },
          "metadata": {},
          "execution_count": 60
        }
      ]
    },
    {
      "cell_type": "markdown",
      "source": [
        "\n",
        "\n",
        "---\n",
        "\n"
      ],
      "metadata": {
        "id": "OSy7YajwCB7O"
      }
    },
    {
      "cell_type": "markdown",
      "source": [
        "####**Related Exercise**\n",
        "\n",
        "\n",
        "*See the following section of this notebook or the notebook ['Dewey_Dictionary'](https://bit.ly/dewey_notebook) for a related exercise on hierarchical indexing using the Dewey Decimal System.* "
      ],
      "metadata": {
        "id": "gmG5r9z3CCzt"
      }
    },
    {
      "cell_type": "markdown",
      "source": [
        "\n",
        "\n",
        "---\n",
        "\n"
      ],
      "metadata": {
        "id": "AY-vbwVWCd7u"
      }
    },
    {
      "cell_type": "markdown",
      "source": [
        "##**2. Dewey Dictionary**    \n",
        "\n",
        "Loads the Dewey Decimal System **codes** and **categories** to a dictionary using a [reference from the University of Illinois Library](https://www.library.illinois.edu/infosci/research/guides/dewey/).   \n",
        "\n",
        "Makes the Dewey `code:category` dictionary available as a `pandas` DataFrame or as a Python Dictionary.     \n",
        "\n"
      ],
      "metadata": {
        "id": "lU9CQ2oeaQVn"
      }
    },
    {
      "cell_type": "markdown",
      "source": [
        "First, copy the file to the current working directory using a `.csv` file from ProfessorPatrickSlatraigh Github at:     \n",
        "* https://raw.githubusercontent.com/ProfessorPatrickSlatraigh/data/main/dewey_codes_categories.csv"
      ],
      "metadata": {
        "id": "hh9n29R8auDQ"
      }
    },
    {
      "cell_type": "code",
      "execution_count": 61,
      "metadata": {
        "id": "Ov5o3VbjaMPq",
        "colab": {
          "base_uri": "https://localhost:8080/"
        },
        "outputId": "0426ea47-ba20-4384-d7ac-41e77261a7d2"
      },
      "outputs": [
        {
          "output_type": "stream",
          "name": "stdout",
          "text": [
            "  % Total    % Received % Xferd  Average Speed   Time    Time     Time  Current\n",
            "                                 Dload  Upload   Total   Spent    Left  Speed\n",
            "\r  0     0    0     0    0     0      0      0 --:--:-- --:--:-- --:--:--     0\r100 33258  100 33258    0     0   178k      0 --:--:-- --:--:-- --:--:--  179k\n"
          ]
        }
      ],
      "source": [
        "!curl 'https://raw.githubusercontent.com/ProfessorPatrickSlatraigh/data/main/dewey_codes_categories.csv' -o dewey_dictionary.csv"
      ]
    },
    {
      "cell_type": "markdown",
      "source": [
        "###Housekeeping    \n",
        "\n",
        "Import modules required:    \n",
        "* **csv** - to read a csv file into a variable    \n",
        "* **pandas** - for dataframes, etc.\n",
        "* **numpy** - for arrays   \n"
      ],
      "metadata": {
        "id": "ZCEF8LRbbG2B"
      }
    },
    {
      "cell_type": "code",
      "source": [
        "import csv    \n",
        "\n",
        "import pandas as pd    \n",
        "\n",
        "import numpy as np    \n"
      ],
      "metadata": {
        "id": "ZaAaplWDbZJH"
      },
      "execution_count": 62,
      "outputs": []
    },
    {
      "cell_type": "markdown",
      "source": [
        "###Read the `CSV` into a Dictionary    \n",
        "\n",
        "Create an empty `dewey_dict` dictionary and populate it with `key:value` pairs read from the two columns in the `.csv` file, excluding the header row.    \n"
      ],
      "metadata": {
        "id": "twXFhL7McQvW"
      }
    },
    {
      "cell_type": "code",
      "source": [
        "# Create an empty dictionary for Dewey code:category pairs   \n",
        "dewey_dict = {}\n",
        "\n",
        "try: \n",
        "    with open('dewey_dictionary.csv', mode='r') as source:\n",
        "        csv_read = csv.reader(source)\n",
        "        next(csv_read)              # to skip the header row in the csv_read file\n",
        "        for line in csv_read: \n",
        "            # print(line)           # scaffolding to peek at lines in csv_read\n",
        "            # print(line[0])        # scaffolding to peek at col 0 in csv_read\n",
        "            # print(type(line[0]))  # scaffolding to peek at col 0 type in csv_read\n",
        "            # wait = input('Hit Enter to continue.') # wait for scaffolding output\n",
        "            dewey_dict[line[0]] = line[1] # dict entry (key=1st col, value=2nd col)\n",
        " \n",
        "    print('Created the `dewey_dict` Dictionary.')\n",
        "except:\n",
        "    print('Error encountered attempting to create `dewey_dict`.')"
      ],
      "metadata": {
        "id": "w_4rzLcfck5m",
        "colab": {
          "base_uri": "https://localhost:8080/"
        },
        "outputId": "acecfef3-79b4-46a5-b3c9-67c062e31e83"
      },
      "execution_count": 63,
      "outputs": [
        {
          "output_type": "stream",
          "name": "stdout",
          "text": [
            "Created the `dewey_dict` Dictionary.\n"
          ]
        }
      ]
    },
    {
      "cell_type": "markdown",
      "source": [
        "Descriptive information on the `dewey_dict` Dictionary. "
      ],
      "metadata": {
        "id": "98ZLThE4rHFf"
      }
    },
    {
      "cell_type": "code",
      "source": [
        "# print the length of the dictionary (# of key:value pairs)\n",
        "print(len(dewey_dict))"
      ],
      "metadata": {
        "id": "USIUJfiBrN-Q",
        "colab": {
          "base_uri": "https://localhost:8080/"
        },
        "outputId": "2978a9b3-10f2-4a58-85d0-cade0c81a8a5"
      },
      "execution_count": 64,
      "outputs": [
        {
          "output_type": "stream",
          "name": "stdout",
          "text": [
            "1000\n"
          ]
        }
      ]
    },
    {
      "cell_type": "code",
      "source": [
        "# print the populated dictionary   \n",
        "print(dewey_dict)"
      ],
      "metadata": {
        "id": "WxwA5qAWrSUQ",
        "colab": {
          "base_uri": "https://localhost:8080/"
        },
        "outputId": "6efc854b-bdac-4e05-ba36-826c0c59d175"
      },
      "execution_count": 65,
      "outputs": [
        {
          "output_type": "stream",
          "name": "stdout",
          "text": [
            "{'000': 'Generalities', '001': 'Knowledge', '002': 'The book', '003': 'Systems', '004': 'Data processing Computer science', '005': 'Computer programming, programs, data', '006': 'Special computer methods', '007': 'Not assigned or no longer used', '008': 'Not assigned or no longer used', '009': 'Not assigned or no longer used', '010': 'Bibliography', '011': 'Bibliographies', '012': 'Bibliographies of individuals', '013': 'Bibliographies of works by specific classes of authors', '014': 'Bibliographies of anonymous and pseudonymous works', '015': 'Bibliographies of works from specific places', '016': 'Bibliographies of works from specific subjects', '017': 'General subject catalogs', '018': 'Catalogs arranged by author & date', '019': 'Dictionary catalogs', '020': 'Library & information sciences', '021': 'Library relationships', '022': 'Administration of the physical plant', '023': 'Personnel administration', '024': 'Not assigned or no longer used', '025': 'Library operations', '026': 'Libraries for specific subjects', '027': 'General libraries', '028': 'Reading, use of other information media', '029': 'Not assigned or no longer used', '030': 'General encyclopedic works', '031': 'General encyclopedic works — American', '032': 'General encyclopedic works in English', '033': 'General encyclopedic works in other Germanic languages', '034': 'General encyclopedic works in French, Provencal, Catalan', '035': 'General encyclopedic works in Italian, Romanian, Rhaeto-Romanic', '036': 'General encyclopedic works in Spanish & Portuguese', '037': 'General encyclopedic works in Slavic languages', '038': 'General encyclopedic works in Scandinavian languages', '039': 'General encyclopedic works in other languages', '040': 'Not assigned or no longer used', '041': 'Not assigned or no longer used', '042': 'Not assigned or no longer used', '043': 'Not assigned or no longer used', '044': 'Not assigned or no longer used', '045': 'Not assigned or no longer used', '046': 'Not assigned or no longer used', '047': 'Not assigned or no longer used', '048': 'Not assigned or no longer used', '049': 'Not assigned or no longer used', '050': 'General serials & their indexes', '051': 'General serials & their indexes American', '052': 'General serials & their indexes In English', '053': 'General serials & their indexes In other Germanic languages', '054': 'General serials & their indexes In French, Provencal, Catalan', '055': 'General serials & their indexes In Italian, Romanian, Rhaeto-Romanic', '056': 'General serials & their indexes In Spanish & Portuguese', '057': 'General serials & their indexes In Slavic languages', '058': 'General serials & their indexes In Scandinavian languages', '059': 'General serials & their indexes In other languages', '060': 'General organization & museology', '061': 'General organization & museology In North America', '062': 'General organization & museology In British Isles In England', '063': 'General organization & museology In central Europe In Germany', '064': 'General organization & museology In France & Monaco', '065': 'General organization & museology In Italy & adjacent territories', '066': 'General organization & museology In Iberian Peninsula & adjacent islands', '067': 'General organization & museology In eastern Europe In Soviet Union', '068': 'General organization & museology In other areas', '069': 'Museology (Museum science)', '070': 'News media, journalism, publishing', '071': 'News media, journalism, publishing In North America', '072': 'News media, journalism, publishing In British Isles In England', '073': 'News media, journalism, publishing In central Europe In Germany', '074': 'News media, journalism, publishing In France & Monaco', '075': 'News media, journalism, publishing In Italy & adjacent territories', '076': 'News media, journalism, publishing In Iberian Peninsula & adjacent islands', '077': 'News media, journalism, publishing In eastern Europe In Soviet Union', '078': 'News media, journalism, publishing In Scandinavia', '079': 'News media, journalism, publishing In other languages', '080': 'General collections', '081': 'General collections American', '082': 'General collections In English', '083': 'General collections In other Germanic languages', '084': 'General collections In French, Provencal, Catalan', '085': 'General collections In Italian, Romanian, Rhaeto-Romanic', '086': 'General collections In Spanish & Portuguese', '087': 'General collections In Slavic languages', '088': 'General collections In Scandinavian languages', '089': 'General collections In other languages', '090': 'Manuscripts & rare books', '091': 'Manuscripts', '092': 'Block books', '093': 'Incunabula', '094': 'Printed books', '095': 'Books notable for bindings', '096': 'Books notable for illustrations', '097': 'Books notable for ownership or origin', '098': 'Prohibited works, forgeries, hoaxes', '099': 'Books notable for format', '100': 'Philosophy & psychology', '101': 'Theory of philosophy', '102': 'Miscellany of philosophy', '103': 'Dictionaries of philosophy', '104': 'Not assigned or no longer used', '105': 'Serial publications of philosophy', '106': 'Organizations of philosophy', '107': 'Education, research in philosophy', '108': 'Kinds of persons in philosophy', '109': 'Historical treatment of philosophy', '110': 'Metaphysics', '111': 'Ontology', '112': 'Not assigned or no longer used', '113': 'Cosmology (Philosophy of nature)', '114': 'Space', '115': 'Time', '116': 'Change', '117': 'Structure', '118': 'Force & Energy', '119': 'Number & quantity', '120': 'Epistemology, causation, humankind', '121': 'Epistemology (Theory of knowledge)', '122': 'Causation', '123': 'Determinism & indeterminism', '124': 'Teleology', '125': 'Not assigned or no longer used', '126': 'The self', '127': 'The unconscious & the subconscious', '128': 'Humankind', '129': 'Origin & destiny of individual souls', '130': 'Paranormal phenomena', '131': 'Occult methods for achieving well-being', '132': 'Not assigned or no longer used', '133': 'Parapsychology & occultism', '134': 'Not assigned or no longer used', '135': 'Dreams & mysteries', '136': 'Not assigned or no longer used', '137': 'Divinatory graphology', '138': 'Physiognomy', '139': 'Phrenology', '140': 'Specific philosophical schools', '141': 'Idealism & related systems', '142': 'Critical philosophy', '143': 'Intuitionism & Bergsonism', '144': 'Humanism & related systems', '145': 'Sensationalism', '146': 'Naturalism & related systems', '147': 'Pantheism & related systems', '148': 'Liberalism, eclecticism, traditionalism', '149': 'Other philosophical systems', '150': 'Psychology', '151': 'Not assigned or no longer used', '152': 'Perception, movement, emotions, drives', '153': 'Mental processes & intelligence', '154': 'Subconscious & altered states', '155': 'Differential & developmental psychology', '156': 'Comparative psychology', '157': 'Not assigned or no longer used', '158': 'Applied psychology', '159': 'Not assigned or no longer used', '160': 'Logic', '161': 'Induction', '162': 'Deduction', '163': 'Not assigned or no longer used', '164': 'Not assigned or no longer used', '165': 'Fallacies & sources of error', '166': 'Syllogisms', '167': 'Hypotheses', '168': 'Argument & persuasion', '169': 'Analogy', '170': 'Ethics (Moral philosophy)', '171': 'Systems & doctrines', '172': 'Political ethics', '173': 'Ethics of family relationships', '174': 'Economic & professional ethics', '175': 'Ethics of recreation & leisure', '176': 'Ethics of sex & reproduction', '177': 'Ethics of social relations', '178': 'Ethics of consumption', '179': 'Other ethical norms', '180': 'Ancient, medieval, Oriental philosophy', '181': 'Oriental philosophy', '182': 'Pre-Socratic Greek philosophies', '183': 'Sophistic & Socratic philosophies', '184': 'Platonic philosophy', '185': 'Aristotelian philosophy', '186': 'Skeptic and Neoplatonic philosophies', '187': 'Epicurean philosophy', '188': 'Stoic philosophy', '189': 'Medieval Western philosophy', '190': 'Modern Western philosophy', '191': 'Modern Western philosophy United States & Canada', '192': 'Modern Western philosophy British Isles', '193': 'Modern Western philosophy Germany & Austria', '194': 'Modern Western philosophy France', '195': 'Modern Western philosophy Italy', '196': 'Modern Western philosophy Spain & Portugal', '197': 'Modern Western philosophy Soviet Union', '198': 'Modern Western philosophy Scandinavia', '199': 'Modern Western philosophy Other geographical areas', '200': 'Religion', '201': 'Philosophy of Christianity', '202': 'Miscellany of Christianity', '203': 'Dictionaries of Christianity', '204': 'Special topics', '205': 'Serial publications of Christianity', '206': 'Organizations of Christianity', '207': 'Education, research in Christianity', '208': 'Kinds of persons in Christianity', '209': 'History & geography of Christianity', '210': 'Natural theology', '211': 'Concepts of God', '212': 'Existence, attributes of God', '213': 'Creation', '214': 'Theodicy', '215': 'Science & religion', '216': 'Good & evil', '217': 'Not assigned or no longer used', '218': 'Humankind', '219': 'Not assigned or no longer used', '220': 'Bible', '221': 'Old Testament', '222': 'Historical books of Old Testament', '223': 'Poetic books of Old Testament', '224': 'Prophetic books of Old Testament', '225': 'New Testament', '226': 'Gospels & Acts', '227': 'Epistles', '228': 'Revelation (Apocalypse)', '229': 'Apocrypha & pseudepigrapha', '230': 'Christian theology', '231': 'God', '232': 'Jesus Christ & his family', '233': 'Humankind', '234': 'Salvation (Soteriology) & grace', '235': 'Spiritual beings', '236': 'Eschatology', '237': 'Not assigned or no longer used', '238': 'Creeds & catechisms', '239': 'Apologetics & polemics', '240': 'Christian moral & devotional theology', '241': 'Moral theology', '242': 'Devotional literature', '243': 'Evangelistic writings for individuals', '244': 'Not assigned or no longer used', '245': 'Texts of hymns', '246': 'Use of art in Christianity', '247': 'Church furnishings & articles', '248': 'Christian experience, practice, life', '249': 'Christian observances in family life', '250': 'Christian orders & local church', '251': 'Preaching (Homiletics)', '252': 'Texts of sermons', '253': 'Pastoral office (Pastoral theology)', '254': 'Parish government & administration', '255': 'Religious congregations & orders', '256': 'Not assigned or no longer used', '257': 'Not assigned or no longer used', '258': 'Not assigned or no longer used', '259': 'Activities of the local church', '260': 'Christian social theology', '261': 'Social theology', '262': 'Ecclesiology', '263': 'Times, places of religious observance', '264': 'Public worship', '265': 'Sacraments, other rites & acts', '266': 'Missions', '267': 'Associations for religious work', '268': 'Religious education', '269': 'Spiritual renewal', '270': 'Christian church history', '271': 'Religious orders in church history', '272': 'Persecutions in church history', '273': 'Heresies in church history', '274': 'Christian church in Europe', '275': 'Christian church in Asia', '276': 'Christian church in Africa', '277': 'Christian church in North America', '278': 'Christian church in South America', '279': 'Christian church in other areas', '280': 'Christian denominations & sects', '281': 'Early church & Eastern churches', '282': 'Roman Catholic Church', '283': 'Anglican churches', '284': 'Protestants of Continental origin', '285': 'Presbyterian, Reformed, Congregational', '286': 'Baptist, Disciples of Christ, Adventist', '287': 'Methodist & related churches', '288': 'Not assigned or no longer used', '289': 'Other denominations & sects', '290': 'Other & comparative religions', '291': 'Comparative religion', '292': 'Classical (Greek & Roman) religion', '293': 'Germanic religion', '294': 'Religions of Indic origin', '295': 'Zoroastrianism (Mazdaism, Parseeism)', '296': 'Judaism', '297': 'Islam & religions originating in it', '298': 'Not assigned or no longer used', '299': 'Other religions', '300': 'Social sciences', '301': 'Sociology & anthropology', '302': 'Social interaction', '303': 'Social processes', '304': 'Factors affecting social behavior', '305': 'Social groups', '306': 'Culture & institutions', '307': 'Communities', '308': 'Not assigned or no longer used', '309': 'Not assigned or no longer used', '310': 'General statistics', '311': 'Not assigned or no longer used', '312': 'Not assigned or no longer used', '313': 'Not assigned or no longer used', '314': 'General statistics Of Europe', '315': 'General statistics Of Asia', '316': 'General statistics Of Africa', '317': 'General statistics Of North America', '318': 'General statistics Of South America', '319': 'General statistics Of other parts of the world', '320': 'Political science', '321': 'Systems of governments & states', '322': 'Relation of state to organized groups', '323': 'Civil & political rights', '324': 'The political process', '325': 'International migration & colonization', '326': 'Slavery & emancipation', '327': 'International relations', '328': 'The legislative process', '329': 'Not assigned or no longer used', '330': 'Economics', '331': 'Labor economics', '332': 'Financial economics', '333': 'Land economics', '334': 'Cooperatives', '335': 'Socialism & related systems', '336': 'Public finance', '337': 'International economics', '338': 'Production', '339': 'Macroeconomics & related topics', '340': 'Law', '341': 'International law', '342': 'Constitutional & administrative law', '343': 'Military, tax, trade, industrial law', '344': 'Social, labor, welfare, & related law', '345': 'Criminal law', '346': 'Private law', '347': 'Civil procedure & courts', '348': 'Law (Statutes), regulations, cases', '349': 'Law of specific jurisdictions & areas', '350': 'Public administration', '351': 'Of central governments', '352': 'Of local governments', '353': 'of U.S. federal & state governments', '354': 'Of specific central governments', '355': 'Military science', '356': 'Foot forces & warfare', '357': 'Mounted forces & warfare', '358': 'Other specialized forces & services', '359': 'Sea (Naval) forces & warfare', '360': 'Social services; association', '361': 'General social problems & services', '362': 'Social welfare problems & services', '363': 'Other social problems & services', '364': 'Criminology', '365': 'Penal & related institutions', '366': 'Association', '367': 'General clubs', '368': 'Insurance', '369': 'Miscellaneous kinds of associations', '370': 'Education', '371': 'School management; special education', '372': 'Elementary education', '373': 'Secondary education', '374': 'Adult education', '375': 'Curriculums', '376': 'Education of women', '377': 'Schools & religion', '378': 'Higher education', '379': 'Government regulation, control, support', '380': 'Commerce, communications, transport', '381': 'Internal commerce (Domestic trade)', '382': 'International commerce (Foreign trade)', '383': 'Postal communication', '384': 'Communications Telecommunication', '385': 'Railroad transportation', '386': 'Inland waterway & ferry transportation', '387': 'Water, air, space transportation', '388': 'Transportation Ground transportation', '389': 'Metrology & standardization', '390': 'Customs, etiquette, folklore', '391': 'Costume & personal appearance', '392': 'Customs of life cycle & domestic life', '393': 'Death customs', '394': 'General customs', '395': 'Etiquette (Manners)', '396': 'Not assigned or no longer used', '397': 'Not assigned or no longer used', '398': 'Folklore', '399': 'Customs of war & diplomacy', '400': 'Language', '401': 'Philosophy & theory', '402': 'Miscellany', '403': 'Dictionaries & encyclopedias', '404': 'Special topics', '405': 'Serial publications', '406': 'Organizations & management', '407': 'Education, research, related topics', '408': 'With respect to kinds of persons', '409': 'Geographical & persons treatment', '410': 'Linguistics', '411': 'Writing systems', '412': 'Etymology', '413': 'Dictionaries', '414': 'Phonology', '415': 'Structural systems (Grammar)', '416': 'Not assigned or no longer used', '417': 'Dialectology & historical linguistics', '418': 'Standard usage Applied linguistics', '419': 'Verbal language not spoken or written', '420': 'English & Old English', '421': 'English writing system & phonology', '422': 'English etymology', '423': 'English dictionaries', '424': 'Not assigned or no longer used', '425': 'English grammar', '426': 'Not assigned or no longer used', '427': 'English language variations', '428': 'Standard English usage', '429': 'Old English (Anglo-Saxon)', '430': 'Germanic languages German', '431': 'German writing system & phonology', '432': 'German etymology', '433': 'German dictionaries', '434': 'Not assigned or no longer used', '435': 'German grammar', '436': 'Not assigned or no longer used', '437': 'German language variations', '438': 'Standard German usage', '439': 'Other Germanic languages', '440': 'Romance languages French', '441': 'French writing system & phonology', '442': 'French etymology', '443': 'French dictionaries', '444': 'Not assigned or no longer used', '445': 'French grammar', '446': 'Not assigned or no longer used', '447': 'French language variations', '448': 'Standard French usage', '449': 'Provencal & Catalan', '450': 'Italian, Romanian, Rhaeto-Romantic', '451': 'Italian writing system & phonology', '452': 'Italian etymology', '453': 'Italian dictionaries', '454': 'Not assigned or no longer used', '455': 'Italian grammar', '456': 'Not assigned or no longer used', '457': 'Italian language variations', '458': 'Standard Italian usage', '459': 'Romanian & Rhaeto-Romanic', '460': 'Spanish & Portugese languages', '461': 'Spanish writing system & phonology', '462': 'Spanish etymology', '463': 'Spanish dictionaries', '464': 'Not assigned or no longer used', '465': 'Spanish grammar', '466': 'Not assigned or no longer used', '467': 'Spanish language variations', '468': 'Standard Spanish usage', '469': 'Portuguese', '470': 'Italic Latin', '471': 'Classical Latin writing & phonology', '472': 'Classical Latin etymology & phonology', '473': 'Classical Latin dictionaries', '474': 'Not assigned or no longer used', '475': 'Classical Latin grammar', '476': 'Not assigned or no longer used', '477': 'Old, Postclassical, Vulgar Latin', '478': 'Classical Latin usage', '479': 'Other Italic languages', '480': 'Hellenic languages Classical Greek', '481': 'Classical Greek writing & phonology', '482': 'Classical Greek etymology', '483': 'Classical Greek dictionaries', '484': 'Not assigned or no longer used', '485': 'Classical Greek grammar', '486': 'Not assigned or no longer used', '487': 'Preclassical & postclassical Greek', '488': 'Classical Greek usage', '489': 'Other Hellenic languages', '490': 'Other languages', '491': 'East Indo-European & Celtic languages', '492': 'Afro-Asiatic languages Semitic', '493': 'Non-Semitic Afro-Asiatic languages', '494': 'Ural-Altaic, Paleosiberian, Dravidian', '495': 'Languages of East & Southeast Asia', '496': 'African languages', '497': 'North American native languages', '498': 'South American native languages', '499': 'Miscellaneous languages', '500': 'Natural sciences & mathematics', '501': 'Philosophy & theory', '502': 'Miscellany', '503': 'Dictionaries & encyclopedias', '504': 'Not assigned or no longer used', '505': 'Serial publications', '506': 'Organizations & management', '507': 'Education, research, related topics', '508': 'Natural history', '509': 'Historical, areas, persons treatment', '510': 'Mathematics', '511': 'General principles', '512': 'Algebra & number theory', '513': 'Arithmetic', '514': 'Topology', '515': 'Analysis', '516': 'Geometry', '517': 'Not assigned or no longer used', '518': 'Not assigned or no longer used', '519': 'Probabilities & applied mathematics', '520': 'Astronomy & allied sciences', '521': 'Celestial mechanics', '522': 'Techniques, equipment, materials', '523': 'Specific celestial bodies & phenomena', '524': 'Not assigned or no longer used', '525': 'Earth (Astronomical geography)', '526': 'Mathematical geography', '527': 'Celestial navigation', '528': 'Ephemerides', '529': 'Chronology', '530': 'Physics', '531': 'Classical mechanics Solid mechanics', '532': 'Fluid mechanics Liquid mechanics', '533': 'Gas mechanics', '534': 'Sound & related vibrations', '535': 'Light & paraphotic phenomena', '536': 'Heat', '537': 'Electricity & electronics', '538': 'Magnetism', '539': 'Modern physics', '540': 'Chemistry & allied sciences', '541': 'Physical & theoretical chemistry', '542': 'Techniques, equipment, materials', '543': 'Analytical chemistry', '544': 'Qualitative analysis', '545': 'Quantitative analysis', '546': 'Inorganic chemistry', '547': 'Organic chemistry', '548': 'Crystallography', '549': 'Mineralogy', '550': 'Earth sciences', '551': 'Geology, hydrology, meteorology', '552': 'Petrology', '553': 'Economic geology', '554': 'Earth sciences of Europe', '555': 'Earth sciences of Asia', '556': 'Earth sciences of Africa', '557': 'Earth sciences of North America', '558': 'Earth sciences of South America', '559': 'Earth sciences of other areas', '560': 'Paleontology Paleozoology', '561': 'Paleobotany', '562': 'Fossil invertebrates', '563': 'Fossil primitive phyla', '564': 'Fossil Mollusca & Molluscoidea', '565': 'Other fossil invertebrates', '566': 'Fossil Vertebrata (Fossil Craniata)', '567': 'Fossil cold-blooded vertebrates', '568': 'Fossil Aves (Fossil birds)', '569': 'Fossil Mammalia', '570': 'Life sciences', '571': 'Not assigned or no longer used', '572': 'Biochemistry', '573': 'Physical anthropology', '574': 'Biology', '575': 'Evolution & genetics', '576': 'Microbiology', '577': 'General nature of life', '578': 'Microscopy in biology', '579': 'Collection and preservation', '580': 'Botanical sciences', '581': 'Botany', '582': 'Spermatophyta (Seed-bearing plants)', '583': 'Dicotyledones', '584': 'Monocotyledones', '585': 'Gymnospermae (Pinophyta)', '586': 'Cryptogamia (Seedless plants)', '587': 'Pteridophyta (Vascular cryptograms)', '588': 'Bryophyta', '589': 'Thallobionta & Prokaryotae', '590': 'Zoological sciences', '591': 'Zoology', '592': 'Invertebrates', '593': 'Protozoa, Echinodermata, related phyla', '594': 'Mollusca & Molluscoidea', '595': 'Other invertebrates', '596': 'Vertebrata (Craniata, Vertebrates)', '597': 'Cold-blooded vertebrates Fishes', '598': 'Aves (Birds)', '599': 'Mammalia (Mammals', '600': 'Technology (Applied sciences)', '601': 'Philosophy & theory', '602': 'Miscellany', '603': 'Dictionaries & encyclopedias', '604': 'Special topics', '605': 'Serial publications', '606': 'Organizations', '607': 'Education, research, related topics', '608': 'Invention & patents', '609': 'Historical, areas, persons treatment', '610': 'Medical sciences Medicine', '611': 'Human anatomy, cytology, histology', '612': 'Human physiology', '613': 'Promotion of health', '614': 'Incidence & prevention of disease', '615': 'Pharmacology & theraputics', '616': 'Diseases', '617': 'Surgery & related medical specialities', '618': 'Gynecology & other medical specialities', '619': 'Experimental medicine', '620': 'Engineering & allied operations', '621': 'Applied physics', '622': 'Mining & related operations', '623': 'Military & nautical engineering', '624': 'Civil engineering', '625': 'Engineering of railroads, roads', '626': 'Not assigned or no longer used', '627': 'Hydraulic engineering', '628': 'Sanitary & municipal engineering', '629': 'Other branches of engineering', '630': 'Agriculture', '631': 'Techniques, equipment, materials', '632': 'Plant injuries, diseases, pests', '633': 'Field & plantation crops', '634': 'Orchards, fruits, forestry', '635': 'Garden crops (Horticulture)', '636': 'Animal husbandry', '637': 'Processing dairy & related products', '638': 'Insect culture', '639': 'Hunting, fishing, conservation', '640': 'Home economics & family living', '641': 'Food & drink', '642': 'Meals & table service', '643': 'Housing & household equipment', '644': 'Household utilities', '645': 'Household furnishings', '646': 'Sewing, clothing, personal living', '647': 'Management of public households', '648': 'Housekeeping', '649': 'Child rearing & home care of sick', '650': 'Management & auxiliary services', '651': 'Office services', '652': 'Processes of written communication', '653': 'Shorthand', '654': 'Not assigned or no longer used', '655': 'Not assigned or no longer used', '656': 'Not assigned or no longer used', '657': 'Accounting', '658': 'General management', '659': 'Advertising & public relations', '660': 'Chemical engineering', '661': 'Industrial chemicals technology', '662': 'Explosives, fuels technology', '663': 'Beverage technology', '664': 'Food technology', '665': 'Industrial oils, fats, waxes, gases', '666': 'Ceramic & allied technologies', '667': 'Cleaning, color, related technologies', '668': 'Technology of other organic products', '669': 'Metallurgy', '670': 'Manufacturing', '671': 'Metalworking & metal products', '672': 'Iron, steel, other iron alloys', '673': 'Nonferrous metals', '674': 'Lumber processing, wood products, cork', '675': 'Leather & fur processing', '676': 'Pulp & paper technology', '677': 'Textiles', '678': 'Elastomers & elastomer products', '679': 'Other products of specific materials', '680': 'Manufacture for specific uses', '681': 'Precision instruments & other devices', '682': 'Small forge work (Blacksmithing)', '683': 'Hardware & household appliances', '684': 'Furnishings & home workshops', '685': 'Leather, fur, related products', '686': 'Printing & related activities', '687': 'Clothing', '688': 'Other final products & packaging', '689': 'Not assigned or no longer used', '690': 'Buildings', '691': 'Building materials', '692': 'Auxiliary construction practices', '693': 'Specific materials & purposes', '694': 'Wood construction Carpentry', '695': 'Roof covering', '696': 'Utilities', '697': 'Heating, ventilating, air-conditioning', '698': 'Detail finishing', '699': 'Not assigned or no longer used', '700': 'The arts', '701': 'Philosophy & theory', '702': 'Miscellany', '703': 'Dictionaries & encyclopedias', '704': 'Special topics', '705': 'Serial publications', '706': 'Organizations & management', '707': 'Education, research, related topics', '708': 'Galleries, museums, private collections', '709': 'Historical, areas, persons treatment', '710': 'Civic & landscape art', '711': 'Area planning (Civic art)', '712': 'Landscape architecture', '713': 'Landscape architecture of trafficways', '714': 'Water features', '715': 'Woody plants', '716': 'Herbaceous plants', '717': 'Structures', '718': 'Landscape design of cemeteries', '719': 'Natural landscapes', '720': 'Architecture', '721': 'Architectural structure', '722': 'Architecture to ca. 300', '723': 'Architecture from ca. 300 to 1399', '724': 'Architecture from 1400', '725': 'Public structures', '726': 'Buildings for religious purposes', '727': 'Buildings for education & research', '728': 'Residential & related buildings', '729': 'Design & decoration', '730': 'Plastic arts Sculpture', '731': 'Processes, forms, subjects of sculpture', '732': 'Sculpture to ca. 500', '733': 'Greek, Etruscan, Roman sculpture', '734': 'Sculpture from ca. 500 to 1399', '735': 'Sculpture from 1400', '736': 'Carving & carvings', '737': 'Numismatics & sigillography', '738': 'Ceramic arts', '739': 'Art metalwork', '740': 'Drawing & decorative arts', '741': 'Drawing & drawings', '742': 'Perspective', '743': 'Drawing & drawings by subject', '744': 'Not assigned or no longer used', '745': 'Decorative arts', '746': 'Textile arts', '747': 'Interior decoration', '748': 'Glass', '749': 'Furniture & accessories', '750': 'Painting & paintings', '751': 'Techniques, equipment, forms', '752': 'Color', '753': 'Symbolism, allegory, mythology, legend', '754': 'Genre paintings', '755': 'Religion & religious symbolism', '756': 'Not assigned or no longer used', '757': 'Human figures & their parts', '758': 'Other subjects', '759': 'Historical, areas, persons treatment', '760': 'Graphic arts Printmaking & prints', '761': 'Relief processes (Block printing)', '762': 'Not assigned or no longer used', '763': 'Lithographic (Planographic) processes', '764': 'Chromolithography & serigraphy', '765': 'Metal engraving', '766': 'Mezzotinting & related processes', '767': 'Etching & drypoint', '768': 'Not assigned or no longer used', '769': 'Prints', '770': 'Photography & photographs', '771': 'Techniques, equipment, materials', '772': 'Metallic salt processes', '773': 'Pigment processes of printing', '774': 'Holography', '775': 'Not assigned or no longer used', '776': 'Not assigned or no longer used', '777': 'Not assigned or no longer used', '778': 'Fields & kinds of photography', '779': 'Photographs', '780': 'Music', '781': 'General principles & musical forms', '782': 'Vocal music', '783': 'Music for single voices The voice', '784': 'Instruments & Instrumental ensembles', '785': 'Chamber music', '786': 'Keyboard & other instruments', '787': 'Stringed instruments (Chordophones)', '788': 'Wind instruments (Aerophones)', '789': 'Not assigned or no longer used', '790': 'Recreational & performing arts', '791': 'Public performances', '792': 'Stage presentations', '793': 'Indoor games & amusements', '794': 'Indoor games of skill', '795': 'Games of chance', '796': 'Athletic & outdoor sports & games', '797': 'Aquatic & air sports', '798': 'Equestrian sports & animal racing', '799': 'Fishing, hunting, shooting', '800': 'Literature & rhetoric', '801': 'Philosophy & theory', '802': 'Miscellany', '803': 'Dictionaries & encyclopedias', '804': 'Not assigned or no longer used', '805': 'Serial publications', '806': 'Organizations', '807': 'Education, research, related topics', '808': 'Rhetoric & collections of literature', '809': 'Literary history & criticism', '810': 'American literature in English', '811': 'Poetry', '812': 'Drama', '813': 'Fiction', '814': 'Essays', '815': 'Speeches', '816': 'Letters', '817': 'Satire & humor', '818': 'Miscellaneous writings', '819': 'Not used', '820': 'English & Old English literatures', '821': 'English poetry', '822': 'English drama', '823': 'English fiction', '824': 'English essays', '825': 'English speeches', '826': 'English letters', '827': 'English satire & humor', '828': 'English miscellaneous writings', '829': 'Old English (Anglo-Saxon)', '830': 'Literatures of Germanic languages', '831': 'Early to 1517', '832': 'Reformation, etc.\\xa0 1517-1750', '833': 'Classic period,\\xa0 1750-1830', '834': 'Post classic & modern,\\xa0 1830-1940/50', '835': 'Contemporary authors not already established in the UIUC catalog,\\xa0 1940/50-', '836': 'German dialect literature', '837': 'German-American', '838': 'German miscellaneous writings', '839': 'Other Germanic literatures', '840': 'Literatures of Romance languages', '841': 'Old and early French to 1400', '842': 'Transition & renaissance periods, 1400-1600', '843': 'Classical period, 1600-1715', '844': '18\\xa0th\\xa0Century, 1715-1789', '845': 'Revolution to present, 1789-1940/50', '846': 'Contemporary authors not already established in the UIUC Catalog, 1940/50-', '847': 'French Canadian', '848': 'Provencal', '849': 'French dialect literature', '850': 'Italian, Romanian, Rhaeto-Romanic', '851': 'Early period to 1375', '852': 'Classical learning, 1375-1492', '853': '1492-1585', '854': '1585-1814', '855': '1814-1940/50', '856': 'Works\\xa0in\\xa0and/or\\xa0about\\xa0Italian dialects', '857': 'Sardinian', '858': 'Romanian (including Wallachian)', '859': 'Rumansh, Rhastian, Rhaeto-Romanic, Moldavian', '860': 'Spanish & Portuguese literatures', '861': 'Early to 1400', '862': '1400-1553', '863': 'Golden age, 1554-1700', '864': '1700-1800', '865': '1800-onward', '866': 'Works in and/or about Iberian dialects other than Castilian, Catalan and Portuguese, including Asturian/Bable, Aragonese, Navarrese, Ladino, Sephardic, Morisco, Aljamia', '867': 'Catalan', '868': 'Portuguese', '869': 'South/Central American Literature', '870': 'General works on Latin literature', '871': 'Latin Authors', '872': 'Collections of Latin prose or poetry', '873': 'Not Used', '874': 'Not Used', '875': 'Medieval and modern Latin literature, 500 A.D. – date', '876': 'Not Used', '877': 'Not Used', '878': 'Not Used', '879': 'Classical literature-History and criticism', '880': 'Hellenic literatures Classical Greek', '881': 'Greek Authors', '882': 'Collections of Greek prose or poetry', '883': 'Not Used', '884': 'Not Used', '885': 'Modern Literature in the Ancient Greek Language', '886': 'Not Used', '887': 'Not Used', '888': 'Not Used', '889': 'Literature in Medieval and Modern Greek', '890': '891.49 Indic Literature', '891': '7 Slavic and Baltic Literatures', '892': 'Afro-Asiatic Literature (Hamito-Semitic) (1/3)', '893': 'Afro-Asiatic Literature (Hamito-Semitic) (2/3)', '894': 'Afro-Asiatic Literature (Hamito-Semitic) (3/3)', '895': 'Literature in East Asian and African Languages (1/2)', '896': 'Literature in East Asian and African Languages (2/2)', '897': 'North and South American Native Languages (1/2)', '898': 'North and South American Native Languages (2/2)', '899': 'Other Literatures', '900': 'Geography & history', '901': 'Philosophy & theory', '902': 'Miscellany', '903': 'Dictionaries & encyclopedias', '904': 'Collected accounts of events', '905': 'Serial publications', '906': 'Organizations & management', '907': 'Education, research, related topics', '908': 'With respect to kinds of persons', '909': 'World history', '910': 'Geography & travel', '911': 'Historical geography', '912': 'Graphic representations of earth', '913': 'Ancient world', '914': 'Europe', '915': 'Asia', '916': 'Africa', '917': 'North America', '918': 'South America', '919': 'Other areas', '920': 'Biography, genealogy, insignia', '921': 'Not assigned or no longer used', '922': 'Not assigned or no longer used', '923': 'Not assigned or no longer used', '924': 'Not assigned or no longer used', '925': 'Not assigned or no longer used', '926': 'Not assigned or no longer used', '927': 'Not assigned or no longer used', '928': 'Not assigned or no longer used', '929': 'Genealogy, names, insignia', '930': 'History of ancient world', '931': 'History of ancient world China', '932': 'History of ancient world Egypt', '933': 'History of ancient world Palestine', '934': 'History of ancient world India', '935': 'History of ancient world Mesopotamia & Iranian Plateau', '936': 'History of ancient world Europe north & west of Italy', '937': 'History of ancient world Italy & adjacent territories', '938': 'History of ancient world Greece', '939': 'History of ancient world Other parts of ancient world', '940': 'General history of Europe', '941': 'General history of Europe British Isles', '942': 'General history of Europe England & Wales', '943': 'General history of Europe Central Europe Germany', '944': 'General history of Europe France & Monaco', '945': 'General history of Europe Italian Peninsula & adjacent islands', '946': 'General history of Europe Iberian Peninsula & adjacent islands', '947': 'General history of Europe Eastern Europe Soviet Union', '948': 'General history of Europe Northern Europe Scandinavia', '949': 'General history of Europe Other parts of Europe', '950': 'General history of Asia Far East', '951': 'General history of Asia China & adjacent areas', '952': 'General history of Asia Japan', '953': 'General history of Asia Arabian Peninsula & adjacent areas', '954': 'General history of Asia South Asia India', '955': 'General history of Asia Iran', '956': 'General history of Asia Middle East (Near East)', '957': 'General history of Asia Siberia (Asiatic Russia)', '958': 'General history of Asia Central Asia', '959': 'General history of Asia Southeast Asia', '960': 'General history of Africa', '961': 'General history of Africa Tunisia & Libya', '962': 'General history of Africa Egypt & Sudan', '963': 'General history of Africa Ethiopia', '964': 'General history of Africa Morocco & Canary Islands', '965': 'General history of Africa Algeria', '966': 'General history of Africa West Africa & offshore islands', '967': 'General history of Africa Central Africa & offshore islands', '968': 'General history of Africa Southern Africa', '969': 'General history of Africa South Indian Ocean islands', '970': 'General history of North America', '971': 'General history of North America Canada', '972': 'General history of North America Middle America Mexico', '973': '7 L63 Used for Abraham Lincoln works', '974': 'General history of North America Northeastern United States', '975': 'General history of North America Southeastern United States', '976': 'General history of North America South central United States', '977': 'General history of North America North central United States', '978': 'General history of North America Western United States', '979': 'General history of North America Great Basin & Pacific Slope', '980': 'General history of South America', '981': 'General history of South America Brazil', '982': 'General history of South America Argentina', '983': 'General history of South America Chile', '984': 'General history of South America Bolivia', '985': 'General history of South America Peru', '986': 'General history of South America Colombia & Ecuador', '987': 'General history of South America Venezuela', '988': 'General history of South America Guiana', '989': 'General history of South America Paraguay & Uruguay', '990': 'General history of other areas', '991': 'Not assigned or no longer used', '992': 'Not assigned or no longer used', '993': 'General history of other areas New Zealand', '994': 'General history of other areas Australia', '995': 'General history of other areas Melanesia New Guinea', '996': 'General history of other areas Other parts of Pacific Polynesia', '997': 'General history of other areas Atlantic Ocean islands', '998': 'General history of other areas Arctic islands & Antarctica', '999': 'Extraterrestrial worlds'}\n"
          ]
        }
      ]
    },
    {
      "cell_type": "markdown",
      "source": [
        "\n",
        "\n",
        "---\n",
        "\n"
      ],
      "metadata": {
        "id": "GhsoEHsLtq5a"
      }
    },
    {
      "cell_type": "markdown",
      "source": [
        "###Read the .CSV into a Dataframe then Create a Dictionary    \n",
        "\n",
        "Use of pandas' built-in function `read_csv()` with a few parameters to specify the `.csv` file format. After calling pandas `read_csv()`, convert the result to a dictionary using the built-in pandas function `to_dict()`."
      ],
      "metadata": {
        "id": "bih_uetKmyhO"
      }
    },
    {
      "cell_type": "markdown",
      "source": [
        "\n",
        "* `header` parameter specifies that the headers are explicitly passed or declared by another parameter.    \n",
        "* `index_col` specifies which column is used as the labels for the DataFrame object that the `read_csv()` function returns. In this case, the first column of index 0 is the key.    \n",
        "* `squeeze` parameter defines if the data contains only one column for values. In this case, there is only one column since the first column is used as the index column or the labels.    \n"
      ],
      "metadata": {
        "id": "N2bjeHb1oSpO"
      }
    },
    {
      "cell_type": "code",
      "source": [
        "try: \n",
        "    # Use pandas `read_csv` to read the file\n",
        "    df_dewey = pd.read_csv('dewey_dictionary.csv', header=0, index_col=0, squeeze=True)\n",
        "    \n",
        "    # Use pandas `to_dict()` to assign dataframe index:value to dictionary\n",
        "    dict_dewey = df_dewey.to_dict()\n",
        "    \n",
        "    print('Created `df_dewey` DataFrame and `dict_dewey` Dictionary.')\n",
        "except:\n",
        "    print('Error attempting to create `df_dewey` and/or `dict_dewey.')"
      ],
      "metadata": {
        "id": "leGySunmefuw",
        "colab": {
          "base_uri": "https://localhost:8080/"
        },
        "outputId": "6118770b-0cb3-4b8c-bc3a-9e0afdf1abad"
      },
      "execution_count": 66,
      "outputs": [
        {
          "output_type": "stream",
          "name": "stdout",
          "text": [
            "Created `df_dewey` DataFrame and `dict_dewey` Dictionary.\n"
          ]
        }
      ]
    },
    {
      "cell_type": "markdown",
      "source": [
        "Descriptive information on the `df_dewey` DataFrame (a series, with `dewey_code` as the index.)"
      ],
      "metadata": {
        "id": "s_fZEDl3qzdY"
      }
    },
    {
      "cell_type": "code",
      "source": [
        "df_dewey.describe"
      ],
      "metadata": {
        "id": "6mDrq9Z_pkr_",
        "colab": {
          "base_uri": "https://localhost:8080/"
        },
        "outputId": "7bd11070-ebd3-49f5-e0c0-b97c7d353d1b"
      },
      "execution_count": 67,
      "outputs": [
        {
          "output_type": "execute_result",
          "data": {
            "text/plain": [
              "<bound method NDFrame.describe of dewey_code\n",
              "0                                           Generalities\n",
              "1                                              Knowledge\n",
              "2                                               The book\n",
              "3                                                Systems\n",
              "4                       Data processing Computer science\n",
              "                             ...                        \n",
              "995    General history of other areas Melanesia New G...\n",
              "996    General history of other areas Other parts of ...\n",
              "997    General history of other areas Atlantic Ocean ...\n",
              "998    General history of other areas Arctic islands ...\n",
              "999                              Extraterrestrial worlds\n",
              "Name: dewey_category, Length: 1005, dtype: object>"
            ]
          },
          "metadata": {},
          "execution_count": 67
        }
      ]
    },
    {
      "cell_type": "code",
      "source": [
        "df_dewey.head()"
      ],
      "metadata": {
        "id": "5lh8-rXhqN9v",
        "colab": {
          "base_uri": "https://localhost:8080/"
        },
        "outputId": "92c3163d-e6dd-4db1-9f6e-ea0471a3a9c2"
      },
      "execution_count": 68,
      "outputs": [
        {
          "output_type": "execute_result",
          "data": {
            "text/plain": [
              "dewey_code\n",
              "0                        Generalities\n",
              "1                           Knowledge\n",
              "2                            The book\n",
              "3                             Systems\n",
              "4    Data processing Computer science\n",
              "Name: dewey_category, dtype: object"
            ]
          },
          "metadata": {},
          "execution_count": 68
        }
      ]
    },
    {
      "cell_type": "markdown",
      "source": [
        "Descriptive information on the `dict_dewey` Dictionary."
      ],
      "metadata": {
        "id": "eDY-nrsOqeLZ"
      }
    },
    {
      "cell_type": "code",
      "source": [
        "print(len(dict_dewey))"
      ],
      "metadata": {
        "id": "snPgXsISqsXn",
        "colab": {
          "base_uri": "https://localhost:8080/"
        },
        "outputId": "2b98bda4-863e-440e-d615-6da997966a10"
      },
      "execution_count": 69,
      "outputs": [
        {
          "output_type": "stream",
          "name": "stdout",
          "text": [
            "1000\n"
          ]
        }
      ]
    },
    {
      "cell_type": "code",
      "source": [
        "print(dict_dewey)"
      ],
      "metadata": {
        "id": "b-nCvrblpC_X",
        "colab": {
          "base_uri": "https://localhost:8080/"
        },
        "outputId": "172a3dae-0c1c-40a3-cbbb-de095b50e4dd"
      },
      "execution_count": 70,
      "outputs": [
        {
          "output_type": "stream",
          "name": "stdout",
          "text": [
            "{0: 'Generalities', 1: 'Knowledge', 2: 'The book', 3: 'Systems', 4: 'Data processing Computer science', 5: 'Computer programming, programs, data', 6: 'Special computer methods', 7: 'Not assigned or no longer used', 8: 'Not assigned or no longer used', 9: 'Not assigned or no longer used', 10: 'Bibliography', 11: 'Bibliographies', 12: 'Bibliographies of individuals', 13: 'Bibliographies of works by specific classes of authors', 14: 'Bibliographies of anonymous and pseudonymous works', 15: 'Bibliographies of works from specific places', 16: 'Bibliographies of works from specific subjects', 17: 'General subject catalogs', 18: 'Catalogs arranged by author & date', 19: 'Dictionary catalogs', 20: 'Library & information sciences', 21: 'Library relationships', 22: 'Administration of the physical plant', 23: 'Personnel administration', 24: 'Not assigned or no longer used', 25: 'Library operations', 26: 'Libraries for specific subjects', 27: 'General libraries', 28: 'Reading, use of other information media', 29: 'Not assigned or no longer used', 30: 'General encyclopedic works', 31: 'General encyclopedic works — American', 32: 'General encyclopedic works in English', 33: 'General encyclopedic works in other Germanic languages', 34: 'General encyclopedic works in French, Provencal, Catalan', 35: 'General encyclopedic works in Italian, Romanian, Rhaeto-Romanic', 36: 'General encyclopedic works in Spanish & Portuguese', 37: 'General encyclopedic works in Slavic languages', 38: 'General encyclopedic works in Scandinavian languages', 39: 'General encyclopedic works in other languages', 40: 'Not assigned or no longer used', 41: 'Not assigned or no longer used', 42: 'Not assigned or no longer used', 43: 'Not assigned or no longer used', 44: 'Not assigned or no longer used', 45: 'Not assigned or no longer used', 46: 'Not assigned or no longer used', 47: 'Not assigned or no longer used', 48: 'Not assigned or no longer used', 49: 'Not assigned or no longer used', 50: 'General serials & their indexes', 51: 'General serials & their indexes American', 52: 'General serials & their indexes In English', 53: 'General serials & their indexes In other Germanic languages', 54: 'General serials & their indexes In French, Provencal, Catalan', 55: 'General serials & their indexes In Italian, Romanian, Rhaeto-Romanic', 56: 'General serials & their indexes In Spanish & Portuguese', 57: 'General serials & their indexes In Slavic languages', 58: 'General serials & their indexes In Scandinavian languages', 59: 'General serials & their indexes In other languages', 60: 'General organization & museology', 61: 'General organization & museology In North America', 62: 'General organization & museology In British Isles In England', 63: 'General organization & museology In central Europe In Germany', 64: 'General organization & museology In France & Monaco', 65: 'General organization & museology In Italy & adjacent territories', 66: 'General organization & museology In Iberian Peninsula & adjacent islands', 67: 'General organization & museology In eastern Europe In Soviet Union', 68: 'General organization & museology In other areas', 69: 'Museology (Museum science)', 70: 'News media, journalism, publishing', 71: 'News media, journalism, publishing In North America', 72: 'News media, journalism, publishing In British Isles In England', 73: 'News media, journalism, publishing In central Europe In Germany', 74: 'News media, journalism, publishing In France & Monaco', 75: 'News media, journalism, publishing In Italy & adjacent territories', 76: 'News media, journalism, publishing In Iberian Peninsula & adjacent islands', 77: 'News media, journalism, publishing In eastern Europe In Soviet Union', 78: 'News media, journalism, publishing In Scandinavia', 79: 'News media, journalism, publishing In other languages', 80: 'General collections', 81: 'General collections American', 82: 'General collections In English', 83: 'General collections In other Germanic languages', 84: 'General collections In French, Provencal, Catalan', 85: 'General collections In Italian, Romanian, Rhaeto-Romanic', 86: 'General collections In Spanish & Portuguese', 87: 'General collections In Slavic languages', 88: 'General collections In Scandinavian languages', 89: 'General collections In other languages', 90: 'Manuscripts & rare books', 91: 'Manuscripts', 92: 'Block books', 93: 'Incunabula', 94: 'Printed books', 95: 'Books notable for bindings', 96: 'Books notable for illustrations', 97: 'Books notable for ownership or origin', 98: 'Prohibited works, forgeries, hoaxes', 99: 'Books notable for format', 100: 'Philosophy & psychology', 101: 'Theory of philosophy', 102: 'Miscellany of philosophy', 103: 'Dictionaries of philosophy', 104: 'Not assigned or no longer used', 105: 'Serial publications of philosophy', 106: 'Organizations of philosophy', 107: 'Education, research in philosophy', 108: 'Kinds of persons in philosophy', 109: 'Historical treatment of philosophy', 110: 'Metaphysics', 111: 'Ontology', 112: 'Not assigned or no longer used', 113: 'Cosmology (Philosophy of nature)', 114: 'Space', 115: 'Time', 116: 'Change', 117: 'Structure', 118: 'Force & Energy', 119: 'Number & quantity', 120: 'Epistemology, causation, humankind', 121: 'Epistemology (Theory of knowledge)', 122: 'Causation', 123: 'Determinism & indeterminism', 124: 'Teleology', 125: 'Not assigned or no longer used', 126: 'The self', 127: 'The unconscious & the subconscious', 128: 'Humankind', 129: 'Origin & destiny of individual souls', 130: 'Paranormal phenomena', 131: 'Occult methods for achieving well-being', 132: 'Not assigned or no longer used', 133: 'Parapsychology & occultism', 134: 'Not assigned or no longer used', 135: 'Dreams & mysteries', 136: 'Not assigned or no longer used', 137: 'Divinatory graphology', 138: 'Physiognomy', 139: 'Phrenology', 140: 'Specific philosophical schools', 141: 'Idealism & related systems', 142: 'Critical philosophy', 143: 'Intuitionism & Bergsonism', 144: 'Humanism & related systems', 145: 'Sensationalism', 146: 'Naturalism & related systems', 147: 'Pantheism & related systems', 148: 'Liberalism, eclecticism, traditionalism', 149: 'Other philosophical systems', 150: 'Psychology', 151: 'Not assigned or no longer used', 152: 'Perception, movement, emotions, drives', 153: 'Mental processes & intelligence', 154: 'Subconscious & altered states', 155: 'Differential & developmental psychology', 156: 'Comparative psychology', 157: 'Not assigned or no longer used', 158: 'Applied psychology', 159: 'Not assigned or no longer used', 160: 'Logic', 161: 'Induction', 162: 'Deduction', 163: 'Not assigned or no longer used', 164: 'Not assigned or no longer used', 165: 'Fallacies & sources of error', 166: 'Syllogisms', 167: 'Hypotheses', 168: 'Argument & persuasion', 169: 'Analogy', 170: 'Ethics (Moral philosophy)', 171: 'Systems & doctrines', 172: 'Political ethics', 173: 'Ethics of family relationships', 174: 'Economic & professional ethics', 175: 'Ethics of recreation & leisure', 176: 'Ethics of sex & reproduction', 177: 'Ethics of social relations', 178: 'Ethics of consumption', 179: 'Other ethical norms', 180: 'Ancient, medieval, Oriental philosophy', 181: 'Oriental philosophy', 182: 'Pre-Socratic Greek philosophies', 183: 'Sophistic & Socratic philosophies', 184: 'Platonic philosophy', 185: 'Aristotelian philosophy', 186: 'Skeptic and Neoplatonic philosophies', 187: 'Epicurean philosophy', 188: 'Stoic philosophy', 189: 'Medieval Western philosophy', 190: 'Modern Western philosophy', 191: 'Modern Western philosophy United States & Canada', 192: 'Modern Western philosophy British Isles', 193: 'Modern Western philosophy Germany & Austria', 194: 'Modern Western philosophy France', 195: 'Modern Western philosophy Italy', 196: 'Modern Western philosophy Spain & Portugal', 197: 'Modern Western philosophy Soviet Union', 198: 'Modern Western philosophy Scandinavia', 199: 'Modern Western philosophy Other geographical areas', 200: 'Religion', 201: 'Philosophy of Christianity', 202: 'Miscellany of Christianity', 203: 'Dictionaries of Christianity', 204: 'Special topics', 205: 'Serial publications of Christianity', 206: 'Organizations of Christianity', 207: 'Education, research in Christianity', 208: 'Kinds of persons in Christianity', 209: 'History & geography of Christianity', 210: 'Natural theology', 211: 'Concepts of God', 212: 'Existence, attributes of God', 213: 'Creation', 214: 'Theodicy', 215: 'Science & religion', 216: 'Good & evil', 217: 'Not assigned or no longer used', 218: 'Humankind', 219: 'Not assigned or no longer used', 220: 'Bible', 221: 'Old Testament', 222: 'Historical books of Old Testament', 223: 'Poetic books of Old Testament', 224: 'Prophetic books of Old Testament', 225: 'New Testament', 226: 'Gospels & Acts', 227: 'Epistles', 228: 'Revelation (Apocalypse)', 229: 'Apocrypha & pseudepigrapha', 230: 'Christian theology', 231: 'God', 232: 'Jesus Christ & his family', 233: 'Humankind', 234: 'Salvation (Soteriology) & grace', 235: 'Spiritual beings', 236: 'Eschatology', 237: 'Not assigned or no longer used', 238: 'Creeds & catechisms', 239: 'Apologetics & polemics', 240: 'Christian moral & devotional theology', 241: 'Moral theology', 242: 'Devotional literature', 243: 'Evangelistic writings for individuals', 244: 'Not assigned or no longer used', 245: 'Texts of hymns', 246: 'Use of art in Christianity', 247: 'Church furnishings & articles', 248: 'Christian experience, practice, life', 249: 'Christian observances in family life', 250: 'Christian orders & local church', 251: 'Preaching (Homiletics)', 252: 'Texts of sermons', 253: 'Pastoral office (Pastoral theology)', 254: 'Parish government & administration', 255: 'Religious congregations & orders', 256: 'Not assigned or no longer used', 257: 'Not assigned or no longer used', 258: 'Not assigned or no longer used', 259: 'Activities of the local church', 260: 'Christian social theology', 261: 'Social theology', 262: 'Ecclesiology', 263: 'Times, places of religious observance', 264: 'Public worship', 265: 'Sacraments, other rites & acts', 266: 'Missions', 267: 'Associations for religious work', 268: 'Religious education', 269: 'Spiritual renewal', 270: 'Christian church history', 271: 'Religious orders in church history', 272: 'Persecutions in church history', 273: 'Heresies in church history', 274: 'Christian church in Europe', 275: 'Christian church in Asia', 276: 'Christian church in Africa', 277: 'Christian church in North America', 278: 'Christian church in South America', 279: 'Christian church in other areas', 280: 'Christian denominations & sects', 281: 'Early church & Eastern churches', 282: 'Roman Catholic Church', 283: 'Anglican churches', 284: 'Protestants of Continental origin', 285: 'Presbyterian, Reformed, Congregational', 286: 'Baptist, Disciples of Christ, Adventist', 287: 'Methodist & related churches', 288: 'Not assigned or no longer used', 289: 'Other denominations & sects', 290: 'Other & comparative religions', 291: 'Comparative religion', 292: 'Classical (Greek & Roman) religion', 293: 'Germanic religion', 294: 'Religions of Indic origin', 295: 'Zoroastrianism (Mazdaism, Parseeism)', 296: 'Judaism', 297: 'Islam & religions originating in it', 298: 'Not assigned or no longer used', 299: 'Other religions', 300: 'Social sciences', 301: 'Sociology & anthropology', 302: 'Social interaction', 303: 'Social processes', 304: 'Factors affecting social behavior', 305: 'Social groups', 306: 'Culture & institutions', 307: 'Communities', 308: 'Not assigned or no longer used', 309: 'Not assigned or no longer used', 310: 'General statistics', 311: 'Not assigned or no longer used', 312: 'Not assigned or no longer used', 313: 'Not assigned or no longer used', 314: 'General statistics Of Europe', 315: 'General statistics Of Asia', 316: 'General statistics Of Africa', 317: 'General statistics Of North America', 318: 'General statistics Of South America', 319: 'General statistics Of other parts of the world', 320: 'Political science', 321: 'Systems of governments & states', 322: 'Relation of state to organized groups', 323: 'Civil & political rights', 324: 'The political process', 325: 'International migration & colonization', 326: 'Slavery & emancipation', 327: 'International relations', 328: 'The legislative process', 329: 'Not assigned or no longer used', 330: 'Economics', 331: 'Labor economics', 332: 'Financial economics', 333: 'Land economics', 334: 'Cooperatives', 335: 'Socialism & related systems', 336: 'Public finance', 337: 'International economics', 338: 'Production', 339: 'Macroeconomics & related topics', 340: 'Law', 341: 'International law', 342: 'Constitutional & administrative law', 343: 'Military, tax, trade, industrial law', 344: 'Social, labor, welfare, & related law', 345: 'Criminal law', 346: 'Private law', 347: 'Civil procedure & courts', 348: 'Law (Statutes), regulations, cases', 349: 'Law of specific jurisdictions & areas', 350: 'Public administration', 351: 'Of central governments', 352: 'Of local governments', 353: 'of U.S. federal & state governments', 354: 'Of specific central governments', 355: 'Military science', 356: 'Foot forces & warfare', 357: 'Mounted forces & warfare', 358: 'Other specialized forces & services', 359: 'Sea (Naval) forces & warfare', 360: 'Social services; association', 361: 'General social problems & services', 362: 'Social welfare problems & services', 363: 'Other social problems & services', 364: 'Criminology', 365: 'Penal & related institutions', 366: 'Association', 367: 'General clubs', 368: 'Insurance', 369: 'Miscellaneous kinds of associations', 370: 'Education', 371: 'School management; special education', 372: 'Elementary education', 373: 'Secondary education', 374: 'Adult education', 375: 'Curriculums', 376: 'Education of women', 377: 'Schools & religion', 378: 'Higher education', 379: 'Government regulation, control, support', 380: 'Commerce, communications, transport', 381: 'Internal commerce (Domestic trade)', 382: 'International commerce (Foreign trade)', 383: 'Postal communication', 384: 'Communications Telecommunication', 385: 'Railroad transportation', 386: 'Inland waterway & ferry transportation', 387: 'Water, air, space transportation', 388: 'Transportation Ground transportation', 389: 'Metrology & standardization', 390: 'Customs, etiquette, folklore', 391: 'Costume & personal appearance', 392: 'Customs of life cycle & domestic life', 393: 'Death customs', 394: 'General customs', 395: 'Etiquette (Manners)', 396: 'Not assigned or no longer used', 397: 'Not assigned or no longer used', 398: 'Folklore', 399: 'Customs of war & diplomacy', 400: 'Language', 401: 'Philosophy & theory', 402: 'Miscellany', 403: 'Dictionaries & encyclopedias', 404: 'Special topics', 405: 'Serial publications', 406: 'Organizations & management', 407: 'Education, research, related topics', 408: 'With respect to kinds of persons', 409: 'Geographical & persons treatment', 410: 'Linguistics', 411: 'Writing systems', 412: 'Etymology', 413: 'Dictionaries', 414: 'Phonology', 415: 'Structural systems (Grammar)', 416: 'Not assigned or no longer used', 417: 'Dialectology & historical linguistics', 418: 'Standard usage Applied linguistics', 419: 'Verbal language not spoken or written', 420: 'English & Old English', 421: 'English writing system & phonology', 422: 'English etymology', 423: 'English dictionaries', 424: 'Not assigned or no longer used', 425: 'English grammar', 426: 'Not assigned or no longer used', 427: 'English language variations', 428: 'Standard English usage', 429: 'Old English (Anglo-Saxon)', 430: 'Germanic languages German', 431: 'German writing system & phonology', 432: 'German etymology', 433: 'German dictionaries', 434: 'Not assigned or no longer used', 435: 'German grammar', 436: 'Not assigned or no longer used', 437: 'German language variations', 438: 'Standard German usage', 439: 'Other Germanic languages', 440: 'Romance languages French', 441: 'French writing system & phonology', 442: 'French etymology', 443: 'French dictionaries', 444: 'Not assigned or no longer used', 445: 'French grammar', 446: 'Not assigned or no longer used', 447: 'French language variations', 448: 'Standard French usage', 449: 'Provencal & Catalan', 450: 'Italian, Romanian, Rhaeto-Romantic', 451: 'Italian writing system & phonology', 452: 'Italian etymology', 453: 'Italian dictionaries', 454: 'Not assigned or no longer used', 455: 'Italian grammar', 456: 'Not assigned or no longer used', 457: 'Italian language variations', 458: 'Standard Italian usage', 459: 'Romanian & Rhaeto-Romanic', 460: 'Spanish & Portugese languages', 461: 'Spanish writing system & phonology', 462: 'Spanish etymology', 463: 'Spanish dictionaries', 464: 'Not assigned or no longer used', 465: 'Spanish grammar', 466: 'Not assigned or no longer used', 467: 'Spanish language variations', 468: 'Standard Spanish usage', 469: 'Portuguese', 470: 'Italic Latin', 471: 'Classical Latin writing & phonology', 472: 'Classical Latin etymology & phonology', 473: 'Classical Latin dictionaries', 474: 'Not assigned or no longer used', 475: 'Classical Latin grammar', 476: 'Not assigned or no longer used', 477: 'Old, Postclassical, Vulgar Latin', 478: 'Classical Latin usage', 479: 'Other Italic languages', 480: 'Hellenic languages Classical Greek', 481: 'Classical Greek writing & phonology', 482: 'Classical Greek etymology', 483: 'Classical Greek dictionaries', 484: 'Not assigned or no longer used', 485: 'Classical Greek grammar', 486: 'Not assigned or no longer used', 487: 'Preclassical & postclassical Greek', 488: 'Classical Greek usage', 489: 'Other Hellenic languages', 490: 'Other languages', 491: 'East Indo-European & Celtic languages', 492: 'Afro-Asiatic languages Semitic', 493: 'Non-Semitic Afro-Asiatic languages', 494: 'Ural-Altaic, Paleosiberian, Dravidian', 495: 'Languages of East & Southeast Asia', 496: 'African languages', 497: 'North American native languages', 498: 'South American native languages', 499: 'Miscellaneous languages', 500: 'Natural sciences & mathematics', 501: 'Philosophy & theory', 502: 'Miscellany', 503: 'Dictionaries & encyclopedias', 504: 'Not assigned or no longer used', 505: 'Serial publications', 506: 'Organizations & management', 507: 'Education, research, related topics', 508: 'Natural history', 509: 'Historical, areas, persons treatment', 510: 'Mathematics', 511: 'General principles', 512: 'Algebra & number theory', 513: 'Arithmetic', 514: 'Topology', 515: 'Analysis', 516: 'Geometry', 517: 'Not assigned or no longer used', 518: 'Not assigned or no longer used', 519: 'Probabilities & applied mathematics', 520: 'Astronomy & allied sciences', 521: 'Celestial mechanics', 522: 'Techniques, equipment, materials', 523: 'Specific celestial bodies & phenomena', 524: 'Not assigned or no longer used', 525: 'Earth (Astronomical geography)', 526: 'Mathematical geography', 527: 'Celestial navigation', 528: 'Ephemerides', 529: 'Chronology', 530: 'Physics', 531: 'Classical mechanics Solid mechanics', 532: 'Fluid mechanics Liquid mechanics', 533: 'Gas mechanics', 534: 'Sound & related vibrations', 535: 'Light & paraphotic phenomena', 536: 'Heat', 537: 'Electricity & electronics', 538: 'Magnetism', 539: 'Modern physics', 540: 'Chemistry & allied sciences', 541: 'Physical & theoretical chemistry', 542: 'Techniques, equipment, materials', 543: 'Analytical chemistry', 544: 'Qualitative analysis', 545: 'Quantitative analysis', 546: 'Inorganic chemistry', 547: 'Organic chemistry', 548: 'Crystallography', 549: 'Mineralogy', 550: 'Earth sciences', 551: 'Geology, hydrology, meteorology', 552: 'Petrology', 553: 'Economic geology', 554: 'Earth sciences of Europe', 555: 'Earth sciences of Asia', 556: 'Earth sciences of Africa', 557: 'Earth sciences of North America', 558: 'Earth sciences of South America', 559: 'Earth sciences of other areas', 560: 'Paleontology Paleozoology', 561: 'Paleobotany', 562: 'Fossil invertebrates', 563: 'Fossil primitive phyla', 564: 'Fossil Mollusca & Molluscoidea', 565: 'Other fossil invertebrates', 566: 'Fossil Vertebrata (Fossil Craniata)', 567: 'Fossil cold-blooded vertebrates', 568: 'Fossil Aves (Fossil birds)', 569: 'Fossil Mammalia', 570: 'Life sciences', 571: 'Not assigned or no longer used', 572: 'Biochemistry', 573: 'Physical anthropology', 574: 'Biology', 575: 'Evolution & genetics', 576: 'Microbiology', 577: 'General nature of life', 578: 'Microscopy in biology', 579: 'Collection and preservation', 580: 'Botanical sciences', 581: 'Botany', 582: 'Spermatophyta (Seed-bearing plants)', 583: 'Dicotyledones', 584: 'Monocotyledones', 585: 'Gymnospermae (Pinophyta)', 586: 'Cryptogamia (Seedless plants)', 587: 'Pteridophyta (Vascular cryptograms)', 588: 'Bryophyta', 589: 'Thallobionta & Prokaryotae', 590: 'Zoological sciences', 591: 'Zoology', 592: 'Invertebrates', 593: 'Protozoa, Echinodermata, related phyla', 594: 'Mollusca & Molluscoidea', 595: 'Other invertebrates', 596: 'Vertebrata (Craniata, Vertebrates)', 597: 'Cold-blooded vertebrates Fishes', 598: 'Aves (Birds)', 599: 'Mammalia (Mammals', 600: 'Technology (Applied sciences)', 601: 'Philosophy & theory', 602: 'Miscellany', 603: 'Dictionaries & encyclopedias', 604: 'Special topics', 605: 'Serial publications', 606: 'Organizations', 607: 'Education, research, related topics', 608: 'Invention & patents', 609: 'Historical, areas, persons treatment', 610: 'Medical sciences Medicine', 611: 'Human anatomy, cytology, histology', 612: 'Human physiology', 613: 'Promotion of health', 614: 'Incidence & prevention of disease', 615: 'Pharmacology & theraputics', 616: 'Diseases', 617: 'Surgery & related medical specialities', 618: 'Gynecology & other medical specialities', 619: 'Experimental medicine', 620: 'Engineering & allied operations', 621: 'Applied physics', 622: 'Mining & related operations', 623: 'Military & nautical engineering', 624: 'Civil engineering', 625: 'Engineering of railroads, roads', 626: 'Not assigned or no longer used', 627: 'Hydraulic engineering', 628: 'Sanitary & municipal engineering', 629: 'Other branches of engineering', 630: 'Agriculture', 631: 'Techniques, equipment, materials', 632: 'Plant injuries, diseases, pests', 633: 'Field & plantation crops', 634: 'Orchards, fruits, forestry', 635: 'Garden crops (Horticulture)', 636: 'Animal husbandry', 637: 'Processing dairy & related products', 638: 'Insect culture', 639: 'Hunting, fishing, conservation', 640: 'Home economics & family living', 641: 'Food & drink', 642: 'Meals & table service', 643: 'Housing & household equipment', 644: 'Household utilities', 645: 'Household furnishings', 646: 'Sewing, clothing, personal living', 647: 'Management of public households', 648: 'Housekeeping', 649: 'Child rearing & home care of sick', 650: 'Management & auxiliary services', 651: 'Office services', 652: 'Processes of written communication', 653: 'Shorthand', 654: 'Not assigned or no longer used', 655: 'Not assigned or no longer used', 656: 'Not assigned or no longer used', 657: 'Accounting', 658: 'General management', 659: 'Advertising & public relations', 660: 'Chemical engineering', 661: 'Industrial chemicals technology', 662: 'Explosives, fuels technology', 663: 'Beverage technology', 664: 'Food technology', 665: 'Industrial oils, fats, waxes, gases', 666: 'Ceramic & allied technologies', 667: 'Cleaning, color, related technologies', 668: 'Technology of other organic products', 669: 'Metallurgy', 670: 'Manufacturing', 671: 'Metalworking & metal products', 672: 'Iron, steel, other iron alloys', 673: 'Nonferrous metals', 674: 'Lumber processing, wood products, cork', 675: 'Leather & fur processing', 676: 'Pulp & paper technology', 677: 'Textiles', 678: 'Elastomers & elastomer products', 679: 'Other products of specific materials', 680: 'Manufacture for specific uses', 681: 'Precision instruments & other devices', 682: 'Small forge work (Blacksmithing)', 683: 'Hardware & household appliances', 684: 'Furnishings & home workshops', 685: 'Leather, fur, related products', 686: 'Printing & related activities', 687: 'Clothing', 688: 'Other final products & packaging', 689: 'Not assigned or no longer used', 690: 'Buildings', 691: 'Building materials', 692: 'Auxiliary construction practices', 693: 'Specific materials & purposes', 694: 'Wood construction Carpentry', 695: 'Roof covering', 696: 'Utilities', 697: 'Heating, ventilating, air-conditioning', 698: 'Detail finishing', 699: 'Not assigned or no longer used', 700: 'The arts', 701: 'Philosophy & theory', 702: 'Miscellany', 703: 'Dictionaries & encyclopedias', 704: 'Special topics', 705: 'Serial publications', 706: 'Organizations & management', 707: 'Education, research, related topics', 708: 'Galleries, museums, private collections', 709: 'Historical, areas, persons treatment', 710: 'Civic & landscape art', 711: 'Area planning (Civic art)', 712: 'Landscape architecture', 713: 'Landscape architecture of trafficways', 714: 'Water features', 715: 'Woody plants', 716: 'Herbaceous plants', 717: 'Structures', 718: 'Landscape design of cemeteries', 719: 'Natural landscapes', 720: 'Architecture', 721: 'Architectural structure', 722: 'Architecture to ca. 300', 723: 'Architecture from ca. 300 to 1399', 724: 'Architecture from 1400', 725: 'Public structures', 726: 'Buildings for religious purposes', 727: 'Buildings for education & research', 728: 'Residential & related buildings', 729: 'Design & decoration', 730: 'Plastic arts Sculpture', 731: 'Processes, forms, subjects of sculpture', 732: 'Sculpture to ca. 500', 733: 'Greek, Etruscan, Roman sculpture', 734: 'Sculpture from ca. 500 to 1399', 735: 'Sculpture from 1400', 736: 'Carving & carvings', 737: 'Numismatics & sigillography', 738: 'Ceramic arts', 739: 'Art metalwork', 740: 'Drawing & decorative arts', 741: 'Drawing & drawings', 742: 'Perspective', 743: 'Drawing & drawings by subject', 744: 'Not assigned or no longer used', 745: 'Decorative arts', 746: 'Textile arts', 747: 'Interior decoration', 748: 'Glass', 749: 'Furniture & accessories', 750: 'Painting & paintings', 751: 'Techniques, equipment, forms', 752: 'Color', 753: 'Symbolism, allegory, mythology, legend', 754: 'Genre paintings', 755: 'Religion & religious symbolism', 756: 'Not assigned or no longer used', 757: 'Human figures & their parts', 758: 'Other subjects', 759: 'Historical, areas, persons treatment', 760: 'Graphic arts Printmaking & prints', 761: 'Relief processes (Block printing)', 762: 'Not assigned or no longer used', 763: 'Lithographic (Planographic) processes', 764: 'Chromolithography & serigraphy', 765: 'Metal engraving', 766: 'Mezzotinting & related processes', 767: 'Etching & drypoint', 768: 'Not assigned or no longer used', 769: 'Prints', 770: 'Photography & photographs', 771: 'Techniques, equipment, materials', 772: 'Metallic salt processes', 773: 'Pigment processes of printing', 774: 'Holography', 775: 'Not assigned or no longer used', 776: 'Not assigned or no longer used', 777: 'Not assigned or no longer used', 778: 'Fields & kinds of photography', 779: 'Photographs', 780: 'Music', 781: 'General principles & musical forms', 782: 'Vocal music', 783: 'Music for single voices The voice', 784: 'Instruments & Instrumental ensembles', 785: 'Chamber music', 786: 'Keyboard & other instruments', 787: 'Stringed instruments (Chordophones)', 788: 'Wind instruments (Aerophones)', 789: 'Not assigned or no longer used', 790: 'Recreational & performing arts', 791: 'Public performances', 792: 'Stage presentations', 793: 'Indoor games & amusements', 794: 'Indoor games of skill', 795: 'Games of chance', 796: 'Athletic & outdoor sports & games', 797: 'Aquatic & air sports', 798: 'Equestrian sports & animal racing', 799: 'Fishing, hunting, shooting', 800: 'Literature & rhetoric', 801: 'Philosophy & theory', 802: 'Miscellany', 803: 'Dictionaries & encyclopedias', 804: 'Not assigned or no longer used', 805: 'Serial publications', 806: 'Organizations', 807: 'Education, research, related topics', 808: 'Rhetoric & collections of literature', 809: 'Literary history & criticism', 810: 'American literature in English', 811: 'Poetry', 812: 'Drama', 813: 'Fiction', 814: 'Essays', 815: 'Speeches', 816: 'Letters', 817: 'Satire & humor', 818: 'Miscellaneous writings', 819: 'Not used', 820: 'English & Old English literatures', 821: 'English poetry', 822: 'English drama', 823: 'English fiction', 824: 'English essays', 825: 'English speeches', 826: 'English letters', 827: 'English satire & humor', 828: 'English miscellaneous writings', 829: 'Old English (Anglo-Saxon)', 830: 'Literatures of Germanic languages', 831: 'Early to 1517', 832: 'Reformation, etc.\\xa0 1517-1750', 833: 'Classic period,\\xa0 1750-1830', 834: 'Post classic & modern,\\xa0 1830-1940/50', 835: 'Contemporary authors not already established in the UIUC catalog,\\xa0 1940/50-', 836: 'German dialect literature', 837: 'German-American', 838: 'German miscellaneous writings', 839: 'Other Germanic literatures', 840: 'Literatures of Romance languages', 841: 'Old and early French to 1400', 842: 'Transition & renaissance periods, 1400-1600', 843: 'Classical period, 1600-1715', 844: '18\\xa0th\\xa0Century, 1715-1789', 845: 'Revolution to present, 1789-1940/50', 846: 'Contemporary authors not already established in the UIUC Catalog, 1940/50-', 847: 'French Canadian', 848: 'Provencal', 849: 'French dialect literature', 850: 'Italian, Romanian, Rhaeto-Romanic', 851: 'Early period to 1375', 852: 'Classical learning, 1375-1492', 853: '1492-1585', 854: '1585-1814', 855: '1814-1940/50', 856: 'Works\\xa0in\\xa0and/or\\xa0about\\xa0Italian dialects', 857: 'Sardinian', 858: 'Romanian (including Wallachian)', 859: 'Rumansh, Rhastian, Rhaeto-Romanic, Moldavian', 860: 'Spanish & Portuguese literatures', 861: 'Early to 1400', 862: '1400-1553', 863: 'Golden age, 1554-1700', 864: '1700-1800', 865: '1800-onward', 866: 'Works in and/or about Iberian dialects other than Castilian, Catalan and Portuguese, including Asturian/Bable, Aragonese, Navarrese, Ladino, Sephardic, Morisco, Aljamia', 867: 'Catalan', 868: 'Portuguese', 869: 'South/Central American Literature', 870: 'General works on Latin literature', 871: 'Latin Authors', 872: 'Collections of Latin prose or poetry', 873: 'Not Used', 874: 'Not Used', 875: 'Medieval and modern Latin literature, 500 A.D. – date', 876: 'Not Used', 877: 'Not Used', 878: 'Not Used', 879: 'Classical literature-History and criticism', 880: 'Hellenic literatures Classical Greek', 881: 'Greek Authors', 882: 'Collections of Greek prose or poetry', 883: 'Not Used', 884: 'Not Used', 885: 'Modern Literature in the Ancient Greek Language', 886: 'Not Used', 887: 'Not Used', 888: 'Not Used', 889: 'Literature in Medieval and Modern Greek', 890: '891.49 Indic Literature', 891: '7 Slavic and Baltic Literatures', 892: 'Afro-Asiatic Literature (Hamito-Semitic) (1/3)', 893: 'Afro-Asiatic Literature (Hamito-Semitic) (2/3)', 894: 'Afro-Asiatic Literature (Hamito-Semitic) (3/3)', 895: 'Literature in East Asian and African Languages (1/2)', 896: 'Literature in East Asian and African Languages (2/2)', 897: 'North and South American Native Languages (1/2)', 898: 'North and South American Native Languages (2/2)', 899: 'Other Literatures', 900: 'Geography & history', 901: 'Philosophy & theory', 902: 'Miscellany', 903: 'Dictionaries & encyclopedias', 904: 'Collected accounts of events', 905: 'Serial publications', 906: 'Organizations & management', 907: 'Education, research, related topics', 908: 'With respect to kinds of persons', 909: 'World history', 910: 'Geography & travel', 911: 'Historical geography', 912: 'Graphic representations of earth', 913: 'Ancient world', 914: 'Europe', 915: 'Asia', 916: 'Africa', 917: 'North America', 918: 'South America', 919: 'Other areas', 920: 'Biography, genealogy, insignia', 921: 'Not assigned or no longer used', 922: 'Not assigned or no longer used', 923: 'Not assigned or no longer used', 924: 'Not assigned or no longer used', 925: 'Not assigned or no longer used', 926: 'Not assigned or no longer used', 927: 'Not assigned or no longer used', 928: 'Not assigned or no longer used', 929: 'Genealogy, names, insignia', 930: 'History of ancient world', 931: 'History of ancient world China', 932: 'History of ancient world Egypt', 933: 'History of ancient world Palestine', 934: 'History of ancient world India', 935: 'History of ancient world Mesopotamia & Iranian Plateau', 936: 'History of ancient world Europe north & west of Italy', 937: 'History of ancient world Italy & adjacent territories', 938: 'History of ancient world Greece', 939: 'History of ancient world Other parts of ancient world', 940: 'General history of Europe', 941: 'General history of Europe British Isles', 942: 'General history of Europe England & Wales', 943: 'General history of Europe Central Europe Germany', 944: 'General history of Europe France & Monaco', 945: 'General history of Europe Italian Peninsula & adjacent islands', 946: 'General history of Europe Iberian Peninsula & adjacent islands', 947: 'General history of Europe Eastern Europe Soviet Union', 948: 'General history of Europe Northern Europe Scandinavia', 949: 'General history of Europe Other parts of Europe', 950: 'General history of Asia Far East', 951: 'General history of Asia China & adjacent areas', 952: 'General history of Asia Japan', 953: 'General history of Asia Arabian Peninsula & adjacent areas', 954: 'General history of Asia South Asia India', 955: 'General history of Asia Iran', 956: 'General history of Asia Middle East (Near East)', 957: 'General history of Asia Siberia (Asiatic Russia)', 958: 'General history of Asia Central Asia', 959: 'General history of Asia Southeast Asia', 960: 'General history of Africa', 961: 'General history of Africa Tunisia & Libya', 962: 'General history of Africa Egypt & Sudan', 963: 'General history of Africa Ethiopia', 964: 'General history of Africa Morocco & Canary Islands', 965: 'General history of Africa Algeria', 966: 'General history of Africa West Africa & offshore islands', 967: 'General history of Africa Central Africa & offshore islands', 968: 'General history of Africa Southern Africa', 969: 'General history of Africa South Indian Ocean islands', 970: 'General history of North America', 971: 'General history of North America Canada', 972: 'General history of North America Middle America Mexico', 973: '7 L63 Used for Abraham Lincoln works', 974: 'General history of North America Northeastern United States', 975: 'General history of North America Southeastern United States', 976: 'General history of North America South central United States', 977: 'General history of North America North central United States', 978: 'General history of North America Western United States', 979: 'General history of North America Great Basin & Pacific Slope', 980: 'General history of South America', 981: 'General history of South America Brazil', 982: 'General history of South America Argentina', 983: 'General history of South America Chile', 984: 'General history of South America Bolivia', 985: 'General history of South America Peru', 986: 'General history of South America Colombia & Ecuador', 987: 'General history of South America Venezuela', 988: 'General history of South America Guiana', 989: 'General history of South America Paraguay & Uruguay', 990: 'General history of other areas', 991: 'Not assigned or no longer used', 992: 'Not assigned or no longer used', 993: 'General history of other areas New Zealand', 994: 'General history of other areas Australia', 995: 'General history of other areas Melanesia New Guinea', 996: 'General history of other areas Other parts of Pacific Polynesia', 997: 'General history of other areas Atlantic Ocean islands', 998: 'General history of other areas Arctic islands & Antarctica', 999: 'Extraterrestrial worlds'}\n"
          ]
        }
      ]
    },
    {
      "cell_type": "markdown",
      "source": [
        "\n",
        "\n",
        "---\n",
        "\n"
      ],
      "metadata": {
        "id": "Dw5vtx6CtsDi"
      }
    },
    {
      "cell_type": "markdown",
      "source": [
        "###**<u>Exercise</u>**    \n",
        "\n",
        "Add your code below to take a DataFrame with Dewey Decimal System `dewey_code` and `dewey_category` columns and transform the DataFrame to include a hierarchical structure of the following columns, derived from the `dewey_code` column:    \n",
        "* **dewey_level1** - based on the **first** character in `dewey_code`    \n",
        "* **dewey_level2** - based on the **second** character in `dewey_code`    \n",
        "* **dewey_level3** - based on the **third** character in `dewey_code`    \n",
        "\n"
      ],
      "metadata": {
        "id": "kByEik96ttTC"
      }
    },
    {
      "cell_type": "markdown",
      "source": [
        "*Note:*    \n",
        "\n",
        "*Refer to the first section of this notebook or the Colab notebook on [**Hierarchical Indexing**](https://bit.ly/hierarchical_indexing) for reference/refresher information.*    "
      ],
      "metadata": {
        "id": "B0OJ21j3EJQy"
      }
    },
    {
      "cell_type": "code",
      "source": [
        "### YOUR CODE HERE ###\n",
        "### add snippets below, if you like ###"
      ],
      "metadata": {
        "id": "6eN0WBVOusnb"
      },
      "execution_count": null,
      "outputs": []
    }
  ]
}