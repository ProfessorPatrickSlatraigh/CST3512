{
  "nbformat": 4,
  "nbformat_minor": 0,
  "metadata": {
    "colab": {
      "name": "Dewey_Dictionary.ipynb",
      "provenance": [],
      "collapsed_sections": [],
      "authorship_tag": "ABX9TyPoR5ypPLS3yQ3rKL2v6ydS",
      "include_colab_link": true
    },
    "kernelspec": {
      "name": "python3",
      "display_name": "Python 3"
    },
    "language_info": {
      "name": "python"
    }
  },
  "cells": [
    {
      "cell_type": "markdown",
      "metadata": {
        "id": "view-in-github",
        "colab_type": "text"
      },
      "source": [
        "<a href=\"https://colab.research.google.com/github/ProfessorPatrickSlatraigh/CST3512/blob/main/Dewey_Dictionary.ipynb\" target=\"_parent\"><img src=\"https://colab.research.google.com/assets/colab-badge.svg\" alt=\"Open In Colab\"/></a>"
      ]
    },
    {
      "cell_type": "markdown",
      "source": [
        "#Dewey Dictionary\n",
        "\n",
        "Loads the Dewey Decimal System **codes** and **categories** to a dictionary using a [reference from the University of Illinois Library](https://www.library.illinois.edu/infosci/research/guides/dewey/).   \n",
        "\n",
        "Makes the Dewey `code:category` dictionary available as a `pandas` DataFrame or as a Python Dictionary.     \n",
        "\n"
      ],
      "metadata": {
        "id": "lU9CQ2oeaQVn"
      }
    },
    {
      "cell_type": "markdown",
      "source": [
        "First, copy the file to the current working directory using a `.csv` file from ProfessorPatrickSlatraigh Github at:     \n",
        "* https://raw.githubusercontent.com/ProfessorPatrickSlatraigh/data/main/dewey_codes_categories.csv"
      ],
      "metadata": {
        "id": "hh9n29R8auDQ"
      }
    },
    {
      "cell_type": "code",
      "execution_count": null,
      "metadata": {
        "id": "Ov5o3VbjaMPq"
      },
      "outputs": [],
      "source": [
        "!curl 'https://raw.githubusercontent.com/ProfessorPatrickSlatraigh/data/main/dewey_codes_categories.csv' -o dewey_dictionary.csv"
      ]
    },
    {
      "cell_type": "markdown",
      "source": [
        "##Housekeeping    \n",
        "\n",
        "Import modules required:    \n",
        "* **csv** - to read a csv file into a variable    \n",
        "* **pandas** - for dataframes, etc.\n",
        "* **numpy** - for arrays   \n"
      ],
      "metadata": {
        "id": "ZCEF8LRbbG2B"
      }
    },
    {
      "cell_type": "code",
      "source": [
        "import csv    \n",
        "\n",
        "import pandas as pd    \n",
        "\n",
        "import numpy as np    \n"
      ],
      "metadata": {
        "id": "ZaAaplWDbZJH"
      },
      "execution_count": 30,
      "outputs": []
    },
    {
      "cell_type": "markdown",
      "source": [
        "##Read the CSV into a Dictionary    \n",
        "\n",
        "Create an empty `dewey_dict` dictionary and populate it with `key:value` pairs read from the two columns in the `.csv` file, excluding the header row.    \n"
      ],
      "metadata": {
        "id": "twXFhL7McQvW"
      }
    },
    {
      "cell_type": "code",
      "source": [
        "# Create an empty dictionary for Dewey code:category pairs   \n",
        "dewey_dict = {}\n",
        "\n",
        "try: \n",
        "    with open('dewey_dictionary.csv', mode='r') as source:\n",
        "        csv_read = csv.reader(source)\n",
        "        next(csv_read)              # to skip the header row in the csv_read file\n",
        "        for line in csv_read: \n",
        "            # print(line)           # scaffolding to peek at lines in csv_read\n",
        "            # print(line[0])        # scaffolding to peek at col 0 in csv_read\n",
        "            # print(type(line[0]))  # scaffolding to peek at col 0 type in csv_read\n",
        "            # wait = input('Hit Enter to continue.') # wait for scaffolding output\n",
        "            dewey_dict[line[0]] = line[1] # dict entry (key=1st col, value=2nd col)\n",
        " \n",
        "    print('Created the `dewey_dict` Dictionary.')\n",
        "except:\n",
        "    print('Error encountered attempting to create `dewey_dict`.')"
      ],
      "metadata": {
        "id": "w_4rzLcfck5m"
      },
      "execution_count": null,
      "outputs": []
    },
    {
      "cell_type": "markdown",
      "source": [
        "Descriptive information on the `dewey_dict` Dictionary. "
      ],
      "metadata": {
        "id": "98ZLThE4rHFf"
      }
    },
    {
      "cell_type": "code",
      "source": [
        "# print the length of the dictionary (# of key:value pairs)\n",
        "print(len(dewey_dict))"
      ],
      "metadata": {
        "id": "USIUJfiBrN-Q"
      },
      "execution_count": null,
      "outputs": []
    },
    {
      "cell_type": "code",
      "source": [
        "# print the populated dictionary   \n",
        "print(dewey_dict)"
      ],
      "metadata": {
        "id": "WxwA5qAWrSUQ"
      },
      "execution_count": null,
      "outputs": []
    },
    {
      "cell_type": "markdown",
      "source": [
        "\n",
        "\n",
        "---\n",
        "\n"
      ],
      "metadata": {
        "id": "GhsoEHsLtq5a"
      }
    },
    {
      "cell_type": "markdown",
      "source": [
        "##Read the .CSV into a Dataframe then Create a Dictionary    \n",
        "\n",
        "Use of pandas' built-in function `read_csv()` with a few parameters to specify the `.csv` file format. After calling pandas `read_csv()`, convert the result to a dictionary using the built-in pandas function `to_dict()`."
      ],
      "metadata": {
        "id": "bih_uetKmyhO"
      }
    },
    {
      "cell_type": "markdown",
      "source": [
        "\n",
        "* `header` parameter specifies that the headers are explicitly passed or declared by another parameter.    \n",
        "* `index_col` specifies which column is used as the labels for the DataFrame object that the `read_csv()` function returns. In this case, the first column of index 0 is the key.    \n",
        "* `squeeze` parameter defines if the data contains only one column for values. In this case, there is only one column since the first column is used as the index column or the labels.    \n"
      ],
      "metadata": {
        "id": "N2bjeHb1oSpO"
      }
    },
    {
      "cell_type": "code",
      "source": [
        "try: \n",
        "    # Use pandas `read_csv` to read the file\n",
        "    df_dewey = pd.read_csv('dewey_dictionary.csv', header=0, index_col=0, squeeze=True)\n",
        "    \n",
        "    # Use pandas `to_dict()` to assign dataframe index:value to dictionary\n",
        "    dict_dewey = df_dewey.to_dict()\n",
        "    \n",
        "    print('Created `df_dewey` DataFrame and `dict_dewey` Dictionary.')\n",
        "except:\n",
        "    print('Error attempting to create `df_dewey` and/or `dict_dewey.')"
      ],
      "metadata": {
        "id": "leGySunmefuw"
      },
      "execution_count": null,
      "outputs": []
    },
    {
      "cell_type": "markdown",
      "source": [
        "Descriptive information on the `df_dewey` DataFrame (a series, with `dewey_code` as the index.)"
      ],
      "metadata": {
        "id": "s_fZEDl3qzdY"
      }
    },
    {
      "cell_type": "code",
      "source": [
        "df_dewey.describe"
      ],
      "metadata": {
        "id": "6mDrq9Z_pkr_"
      },
      "execution_count": null,
      "outputs": []
    },
    {
      "cell_type": "code",
      "source": [
        "df_dewey.head()"
      ],
      "metadata": {
        "id": "5lh8-rXhqN9v"
      },
      "execution_count": null,
      "outputs": []
    },
    {
      "cell_type": "markdown",
      "source": [
        "Descriptive information on the `dict_dewey` Dictionary."
      ],
      "metadata": {
        "id": "eDY-nrsOqeLZ"
      }
    },
    {
      "cell_type": "code",
      "source": [
        "print(len(dict_dewey))"
      ],
      "metadata": {
        "id": "snPgXsISqsXn"
      },
      "execution_count": null,
      "outputs": []
    },
    {
      "cell_type": "code",
      "source": [
        "print(dict_dewey)"
      ],
      "metadata": {
        "id": "b-nCvrblpC_X"
      },
      "execution_count": null,
      "outputs": []
    },
    {
      "cell_type": "markdown",
      "source": [
        "\n",
        "\n",
        "---\n",
        "\n"
      ],
      "metadata": {
        "id": "Dw5vtx6CtsDi"
      }
    },
    {
      "cell_type": "markdown",
      "source": [
        "#**Exercise**    \n",
        "\n",
        "Add your code below to take a DataFrame with Dewey Decimal System `dewey_code` and `dewey_category` columns and transform the DataFrame to include a hierarchical structure of the following columns, derived from the `dewey_code` column:    \n",
        "* **dewey_level1** - based on the **first** character in `dewey_code`    \n",
        "* **dewey_level2** - based on the **second** character in `dewey_code`    \n",
        "* **dewey_level3** - based on the **third** character in `dewey_code`    \n",
        "\n"
      ],
      "metadata": {
        "id": "kByEik96ttTC"
      }
    },
    {
      "cell_type": "code",
      "source": [
        "### YOUR CODE HERE ###\n",
        "### add snippets below, if you like ###"
      ],
      "metadata": {
        "id": "6eN0WBVOusnb"
      },
      "execution_count": null,
      "outputs": []
    }
  ]
}