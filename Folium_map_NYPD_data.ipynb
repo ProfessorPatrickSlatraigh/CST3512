{
  "nbformat": 4,
  "nbformat_minor": 0,
  "metadata": {
    "colab": {
      "name": "Folium_map_NYPD-data.ipynb",
      "provenance": [],
      "collapsed_sections": [],
      "authorship_tag": "ABX9TyPTziU+ugQhKRSX94txVMFU",
      "include_colab_link": true
    },
    "kernelspec": {
      "name": "python3",
      "display_name": "Python 3"
    },
    "language_info": {
      "name": "python"
    }
  },
  "cells": [
    {
      "cell_type": "markdown",
      "metadata": {
        "id": "view-in-github",
        "colab_type": "text"
      },
      "source": [
        "<a href=\"https://colab.research.google.com/github/ProfessorPatrickSlatraigh/CST3512/blob/main/Folium_map_NYPD_data.ipynb\" target=\"_parent\"><img src=\"https://colab.research.google.com/assets/colab-badge.svg\" alt=\"Open In Colab\"/></a>"
      ]
    },
    {
      "cell_type": "markdown",
      "source": [
        "#Folium to Map NYPD Police Data by ZIP Code    \n",
        "\n",
        "\n",
        "Louis Casanave\n",
        "Louis is a Data Scientist from Brooklyn, NY. \n",
        "\n",
        "[Using Folium on Police Data](https://towardsdatascience.com/using-folium-on-police-data-3207e505c649)\n",
        "Say YES to the MESS with Choropleths"
      ],
      "metadata": {
        "id": "qNYxxrWsPGYv"
      }
    },
    {
      "cell_type": "code",
      "source": [
        "# the following `curl` statement does not work on the URL for a large Excel file on Github\n",
        "# !curl https://github.com/casanave/stop_and_frisk/blob/main/data/stop_and_frisk_2020.xlsx -o \"stop_and_frisk_2020.xlsx\""
      ],
      "metadata": {
        "id": "zIBHZIMkQDQu"
      },
      "execution_count": null,
      "outputs": []
    },
    {
      "cell_type": "code",
      "source": [
        "# load geojson file of NYC map areas from Louis Casanove Github raw file\n",
        "!curl https://raw.githubusercontent.com/casanave/stop_and_frisk/main/data/nyc-zip-code-tabulation-areas-polygons.geojson -o \"nyc-zip-code-tabulation-areas-polygons.geojson\""
      ],
      "metadata": {
        "id": "MQu5G6zCTm7U"
      },
      "execution_count": null,
      "outputs": []
    },
    {
      "cell_type": "code",
      "execution_count": null,
      "metadata": {
        "id": "-TsS-mluO9Ic"
      },
      "outputs": [],
      "source": [
        "import pandas as pd\n",
        "import folium\n",
        "\n",
        "data = pd.read_excel('stop_and_frisk_2020.xlsx')\n",
        "\n",
        "# uploading the 2020 data from \n",
        "# https://www1.nyc.gov/site/nypd/stats/reports-analysis/stopfrisk.page \n"
      ]
    },
    {
      "cell_type": "code",
      "source": [
        "shape = data.shape\n",
        "shape\n",
        "\n",
        "# saving the shape so we can use it later \n",
        "\n",
        "data.columns\n",
        "\n",
        "# taking a look at what columns we have in the data"
      ],
      "metadata": {
        "id": "STQ7774_Q7MS"
      },
      "execution_count": null,
      "outputs": []
    },
    {
      "cell_type": "code",
      "source": [
        "zipcode_frequency = data.drop(columns = ['STOP_FRISK_DATE', 'STOP_FRISK_TIME', 'YEAR2', 'MONTH2',\n",
        "       'DAY2', 'STOP_WAS_INITIATED', 'RECORD_STATUS_CODE',\n",
        "       'ISSUING_OFFICER_RANK', 'ISSUING_OFFICER_COMMAND_CODE',\n",
        "       'SUPERVISING_OFFICER_RANK', 'SUPERVISING_OFFICER_COMMAND_CODE',\n",
        "       'LOCATION_IN_OUT_CODE', 'JURISDICTION_CODE', 'JURISDICTION_DESCRIPTION',\n",
        "       'OBSERVED_DURATION_MINUTES', 'SUSPECTED_CRIME_DESCRIPTION',\n",
        "       'STOP_DURATION_MINUTES', 'OFFICER_EXPLAINED_STOP_FLAG',\n",
        "       'OFFICER_NOT_EXPLAINED_STOP_DESCRIPTION', 'OTHER_PERSON_STOPPED_FLAG',\n",
        "       'SUSPECT_ARRESTED_FLAG', 'SUSPECT_ARREST_OFFENSE',\n",
        "       'SUMMONS_ISSUED_FLAG', 'SUMMONS_OFFENSE_DESCRIPTION',\n",
        "       'OFFICER_IN_UNIFORM_FLAG', 'ID_CARD_IDENTIFIES_OFFICER_FLAG',\n",
        "       'SHIELD_IDENTIFIES_OFFICER_FLAG', 'VERBAL_IDENTIFIES_OFFICER_FLAG',\n",
        "       'FRISKED_FLAG', 'SEARCHED_FLAG', 'ASK_FOR_CONSENT_FLG',\n",
        "       'CONSENT_GIVEN_FLG', 'OTHER_CONTRABAND_FLAG', 'FIREARM_FLAG',\n",
        "       'KNIFE_CUTTER_FLAG', 'OTHER_WEAPON_FLAG', 'WEAPON_FOUND_FLAG',\n",
        "       'PHYSICAL_FORCE_CEW_FLAG', 'PHYSICAL_FORCE_DRAW_POINT_FIREARM_FLAG',\n",
        "       'PHYSICAL_FORCE_HANDCUFF_SUSPECT_FLAG',\n",
        "       'PHYSICAL_FORCE_OC_SPRAY_USED_FLAG', 'PHYSICAL_FORCE_OTHER_FLAG',\n",
        "       'PHYSICAL_FORCE_RESTRAINT_USED_FLAG',\n",
        "       'PHYSICAL_FORCE_VERBAL_INSTRUCTION_FLAG',\n",
        "       'PHYSICAL_FORCE_WEAPON_IMPACT_FLAG',\n",
        "       'BACKROUND_CIRCUMSTANCES_VIOLENT_CRIME_FLAG',\n",
        "       'BACKROUND_CIRCUMSTANCES_SUSPECT_KNOWN_TO_CARRY_WEAPON_FLAG',\n",
        "       'SUSPECTS_ACTIONS_CASING_FLAG',\n",
        "       'SUSPECTS_ACTIONS_CONCEALED_POSSESSION_WEAPON_FLAG',\n",
        "       'SUSPECTS_ACTIONS_DECRIPTION_FLAG',\n",
        "       'SUSPECTS_ACTIONS_DRUG_TRANSACTIONS_FLAG',\n",
        "       'SUSPECTS_ACTIONS_IDENTIFY_CRIME_PATTERN_FLAG',\n",
        "       'SUSPECTS_ACTIONS_LOOKOUT_FLAG', 'SUSPECTS_ACTIONS_OTHER_FLAG',\n",
        "       'SUSPECTS_ACTIONS_PROXIMITY_TO_SCENE_FLAG',\n",
        "       'SEARCH_BASIS_ADMISSION_FLAG', 'SEARCH_BASIS_CONSENT_FLAG',\n",
        "       'SEARCH_BASIS_HARD_OBJECT_FLAG',\n",
        "       'SEARCH_BASIS_INCIDENTAL_TO_ARREST_FLAG', 'SEARCH_BASIS_OTHER_FLAG',\n",
        "       'SEARCH_BASIS_OUTLINE_FLAG', 'DEMEANOR_CODE',\n",
        "       'DEMEANOR_OF_PERSON_STOPPED', 'SUSPECT_REPORTED_AGE', 'SUSPECT_SEX',\n",
        "       'SUSPECT_RACE_DESCRIPTION', 'SUSPECT_HEIGHT', 'SUSPECT_WEIGHT',\n",
        "       'SUSPECT_BODY_BUILD_TYPE', 'SUSPECT_EYE_COLOR', 'SUSPECT_HAIR_COLOR',\n",
        "       'SUSPECT_OTHER_DESCRIPTION', 'STOP_LOCATION_PRECINCT',\n",
        "       'STOP_LOCATION_SECTOR_CODE', 'STOP_LOCATION_APARTMENT',\n",
        "        'STOP_LOCATION_X', 'STOP_LOCATION_Y',\n",
        "       'STOP_LOCATION_FULL_ADDRESS', 'STOP_LOCATION_STREET_NAME',\n",
        "       'STOP_LOCATION_PATROL_BORO_NAME', 'STOP_LOCATION_BORO_NAME']) \n"
      ],
      "metadata": {
        "id": "XJQxs84VRBcy"
      },
      "execution_count": null,
      "outputs": []
    },
    {
      "cell_type": "code",
      "source": [
        "# looking for null values\n",
        "zipcode_frequency.info()\n"
      ],
      "metadata": {
        "id": "zv3zznizRJ8j"
      },
      "execution_count": null,
      "outputs": []
    },
    {
      "cell_type": "code",
      "source": [
        "zipcode_frequency['STOP_LOCATION_ZIP_CODE'].describe()\n",
        "\n",
        "# found the null values as \"(null)\" in dataframe"
      ],
      "metadata": {
        "id": "kuqXUsTsRax6"
      },
      "execution_count": null,
      "outputs": []
    },
    {
      "cell_type": "code",
      "source": [
        "percent_missing = zipcode_frequency['STOP_LOCATION_ZIP_CODE'].describe()[3]/shape[0]\n",
        "\n",
        "print(f' This data has {percent_missing:.2f} percent of its zipcode data missing.')\n",
        "\n",
        "# displaying the percent of zipcode data missing, rounded to the 0.00% "
      ],
      "metadata": {
        "id": "SI0C2ragRfQx"
      },
      "execution_count": null,
      "outputs": []
    },
    {
      "cell_type": "code",
      "source": [
        "zipcode_frequency['STOP_ID'] = 1\n",
        "\n",
        "# this will change all stop ids to 1 for aggregation\n",
        "\n",
        "zipcode_frequency = zipcode_frequency.groupby(\"STOP_LOCATION_ZIP_CODE\").count()\n",
        "\n",
        "# this will aggregate our data\n",
        "\n",
        "zipcode_frequency.head()\n",
        "\n",
        "# now we can see the dataframe as it is now"
      ],
      "metadata": {
        "id": "HPMxmN12Rjb-"
      },
      "execution_count": null,
      "outputs": []
    },
    {
      "cell_type": "code",
      "source": [
        "zipcode_frequency = zipcode_frequency.rename(columns = {'STOP_ID' : 'FREQUENCY'})\n",
        "\n",
        "# this will rename our column for clarity and sanity \n",
        "\n",
        "zipcode_frequency.index = zipcode_frequency.index.astype(str)\n",
        "\n",
        "# making the zipcode information into a string so the map doesn't break\n",
        "\n",
        "zipcode_frequency = zipcode_frequency.loc[zipcode_frequency.index != '(null)']\n",
        "\n",
        "# this will get rid of those null values that we decided to delete and keep track of"
      ],
      "metadata": {
        "id": "6MHVSEF_Ro8T"
      },
      "execution_count": null,
      "outputs": []
    },
    {
      "cell_type": "code",
      "source": [
        "print(zipcode_frequency.head())\n",
        "print(zipcode_frequency.tail())"
      ],
      "metadata": {
        "id": "KFLGtSs98rLR"
      },
      "execution_count": null,
      "outputs": []
    },
    {
      "cell_type": "code",
      "source": [
        "# the following original statement blows up on kwarg `default_zoom_start`\n",
        "# map = folium.Map(location=[40.693943, -73.985880], default_zoom_start=15)\n",
        "\n",
        "# map = folium.Map(location=[40.693943, -73.985880], zoom_start=10)\n",
        "map = folium.Map(location=[40.695000, -74.000000], zoom_start=10)\n",
        "\n",
        "# making the base map of nyc\n",
        "\n",
        "# the following .choropleth() method is being deprecated in folium  \n",
        "# map.choropleth(geo_data=\"nyc-zip-code-tabulation-areas-polygons.geojson\",\n",
        "#                data=zipcode_frequency,\n",
        "#                columns=[zipcode_frequency.index, 'FREQUENCY'],\n",
        "#                key_on='feature.properties.postalCode', \n",
        "#                fill_color='YlOrBr', fill_opacity=0.7, line_opacity=0.2,\n",
        "#                legend_name='Frequency')\n",
        "\n",
        "\n",
        "# use GeoJson instead of .choropleth()\n",
        "# g = folium.GeoJson(\"nyc-zip-code-tabulation-areas-polygons.geojson\",\n",
        "#                    data=zipcode_frequency,\n",
        "#                    columns=[zipcode_frequency.index, 'FREQUENCY'],\n",
        "#                    key_on='feature.properties.postalCode', \n",
        "#                    fill_color='YlOrBr', fill_opacity=0.7, line_opacity=0.2,\n",
        "#                    ).add_to(map)\n",
        "\n",
        "g = folium.Choropleth(\n",
        "    geo_data=\"nyc-zip-code-tabulation-areas-polygons.geojson\",\n",
        "    name='choropleth',\n",
        "    data=zipcode_frequency,\n",
        "    columns=[zipcode_frequency.index, 'FREQUENCY'],\n",
        "    key_on='feature.properties.postalCode',\n",
        "    fill_color='YlOrBr',\n",
        "    fill_opacity=0.7,\n",
        "    line_opacity=0.2,\n",
        "    legend_name='Stop Rate').add_to(map)\n",
        "\n",
        "# folium.GeoJsonTooltip(fields=[\"postalCode\"]).add_to(g)\n",
        "\n",
        "# taking the geojson zipcode file, assigning data to my dataframe, \n",
        "# feeding index and instances into columns, key_on zipcode within properties \n",
        "# within feature, setting the color and legend name\n",
        "\n",
        "map"
      ],
      "metadata": {
        "id": "LTjCaUeCRra1"
      },
      "execution_count": null,
      "outputs": []
    },
    {
      "cell_type": "markdown",
      "source": [
        "\n",
        "\n",
        "---\n",
        "\n"
      ],
      "metadata": {
        "id": "Z5mnEaIghAxX"
      }
    },
    {
      "cell_type": "markdown",
      "source": [
        "*NOTE: Because the **folium** `.choropleth()` method is being deprecated, this notebook should be updated to use  the newer `.GeoJson()` method.*"
      ],
      "metadata": {
        "id": "NZiNtge1hB1B"
      }
    },
    {
      "cell_type": "code",
      "source": [
        ""
      ],
      "metadata": {
        "id": "gSwJdONWhhyB"
      },
      "execution_count": null,
      "outputs": []
    }
  ]
}